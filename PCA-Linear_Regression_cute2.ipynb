{
 "cells": [
  {
   "cell_type": "code",
   "execution_count": 1,
   "metadata": {
    "collapsed": true
   },
   "outputs": [],
   "source": [
    "#Importing Modules\n",
    "\n",
    "import os\n",
    "import pandas as pd\n",
    "import numpy as np\n",
    "from sklearn.model_selection import train_test_split\n",
    "from sklearn.linear_model import LinearRegression\n",
    "from sklearn.metrics import mean_squared_error,r2_score\n",
    "import matplotlib.pyplot as plt\n",
    "from sklearn.decomposition import PCA\n",
    "import math\n",
    "\n"
   ]
  },
  {
   "cell_type": "code",
   "execution_count": 2,
   "metadata": {
    "collapsed": true
   },
   "outputs": [],
   "source": [
    "#Reading Data and Preprocessing\n",
    "\n",
    "Cute = pd.read_csv('C:\\Piazza\\CUTe2\\Retail_Train.csv')\n",
    "\n",
    "retail = Cute.copy()\n",
    "retail = retail.drop(labels='PersonID',axis=1)\n",
    "retail['totalVisits'] = retail['DirectVisits'] + retail['OnlineVisits']\n",
    "retail_new = retail.drop(labels=['OnlineVisits', 'DirectVisits'],axis=1)\n",
    "\n",
    "\n",
    "retail_new['FamilySize'] = retail_new['FamilySize'].astype('object')\n",
    "retail_new['TransactionMode'] = retail_new['TransactionMode'].astype('object')\n",
    "retail_new['Occupation'] = retail_new['Occupation'].astype('object')\n",
    "\n",
    "retail_new1 = pd.get_dummies(retail_new)"
   ]
  },
  {
   "cell_type": "markdown",
   "metadata": {},
   "source": [
    "# Understanding the Data"
   ]
  },
  {
   "cell_type": "code",
   "execution_count": 3,
   "metadata": {},
   "outputs": [
    {
     "name": "stdout",
     "output_type": "stream",
     "text": [
      "84\n",
      "2212\n",
      "457\n",
      "113\n",
      "43\n",
      "16\n",
      "7\n",
      "5\n",
      "1\n"
     ]
    }
   ],
   "source": [
    "list1= []\n",
    "list2= []\n",
    "list3= []\n",
    "list4= []\n",
    "list5= []\n",
    "list6= []\n",
    "list7= []\n",
    "list8= []\n",
    "list9= []\n",
    "for i in Cute['Amount']:\n",
    "    if i <= 2500:\n",
    "        list1.append(i)\n",
    "    elif 2501 <=i<= 5000:\n",
    "        list2.append(i)\n",
    "    elif 5001 <=i<= 7500:\n",
    "        list3.append(i)\n",
    "    elif 7501 <=i<= 10000:\n",
    "        list4.append(i)\n",
    "    elif 10000 <=i<= 12500:\n",
    "        list5.append(i)\n",
    "    elif 12501 <=i<= 15000:\n",
    "        list6.append(i)\n",
    "    elif 15001 <=i<= 17500:\n",
    "        list7.append(i)\n",
    "    elif 17501 <=i<= 20000:\n",
    "        list8.append(i)\n",
    "    else:\n",
    "        list9.append(i)\n",
    "print(len(list1))\n",
    "print(len(list2))\n",
    "print(len(list3))\n",
    "print(len(list4))\n",
    "print(len(list5))\n",
    "print(len(list6))\n",
    "print(len(list7))\n",
    "print(len(list8))\n",
    "print(len(list9))\n"
   ]
  },
  {
   "cell_type": "markdown",
   "metadata": {},
   "source": [
    "# Visulisation"
   ]
  },
  {
   "cell_type": "code",
   "execution_count": 4,
   "metadata": {},
   "outputs": [
    {
     "data": {
      "image/png": "[encoded data removed]",
      "text/plain": [
       "<matplotlib.figure.Figure at 0x28609b9d550>"
      ]
     },
     "metadata": {},
     "output_type": "display_data"
    }
   ],
   "source": [
    "plt.boxplot(Cute.Amount)\n",
    "plt.show()"
   ]
  },
  {
   "cell_type": "code",
   "execution_count": 5,
   "metadata": {},
   "outputs": [
    {
     "name": "stdout",
     "output_type": "stream",
     "text": [
      "count     2938.000000\n",
      "mean      4209.432267\n",
      "std       2069.917106\n",
      "min       2500.000000\n",
      "25%       2897.250000\n",
      "50%       3512.000000\n",
      "75%       4772.500000\n",
      "max      24764.000000\n",
      "Name: Amount, dtype: float64\n",
      "4209.432266848196\n",
      "3512.0\n",
      "0    2500\n",
      "1    2625\n",
      "dtype: int64\n"
     ]
    },
    {
     "data": {
      "image/png": "[encoded data removed]",
      "text/plain": [
       "<matplotlib.figure.Figure at 0x28609e04080>"
      ]
     },
     "metadata": {},
     "output_type": "display_data"
    }
   ],
   "source": [
    "print(Cute.Amount.describe())\n",
    "print(Cute.Amount.mean())\n",
    "print(Cute.Amount.median())\n",
    "print(Cute.Amount.mode())\n",
    "plt.hist(Cute.Amount)\n",
    "plt.show()"
   ]
  },
  {
   "cell_type": "code",
   "execution_count": 6,
   "metadata": {},
   "outputs": [
    {
     "data": {
      "text/plain": [
       "10525"
      ]
     },
     "execution_count": 6,
     "metadata": {},
     "output_type": "execute_result"
    }
   ],
   "source": [
    "list11 = Cute.Amount.sort_values(ascending=True).tolist()\n",
    "list11[2879]"
   ]
  },
  {
   "cell_type": "markdown",
   "metadata": {},
   "source": [
    "# Linear Regression"
   ]
  },
  {
   "cell_type": "code",
   "execution_count": 19,
   "metadata": {
    "scrolled": true
   },
   "outputs": [
    {
     "name": "stdout",
     "output_type": "stream",
     "text": [
      "1191.6923998636303\n",
      "0.722917753232\n"
     ]
    }
   ],
   "source": [
    "X = retail_new1.loc[:, retail_new1.columns != 'Amount']\n",
    "Y = retail_new1[['Amount']]\n",
    "\n",
    "trainX,testX,trainY,testY = train_test_split(X,Y, test_size=0.3, random_state = 42)\n",
    "\n",
    "\n",
    "lm1 = LinearRegression()\n",
    "lm1.fit(trainX , trainY)\n",
    "\n",
    "\n",
    "y_pred = lm1.predict(testX)\n",
    "\n",
    "\n",
    "print(math.sqrt(mean_squared_error(testY , y_pred)))\n",
    "print(r2_score(testY , y_pred))\n",
    "\n"
   ]
  },
  {
   "cell_type": "markdown",
   "metadata": {},
   "source": [
    "# Linear Regression with PCA"
   ]
  },
  {
   "cell_type": "code",
   "execution_count": 20,
   "metadata": {},
   "outputs": [
    {
     "name": "stdout",
     "output_type": "stream",
     "text": [
      "1893.9768722288075\n",
      "0.300110135653\n"
     ]
    }
   ],
   "source": [
    "from sklearn.preprocessing import StandardScaler\n",
    "from sklearn.decomposition import PCA\n",
    "from sklearn.pipeline import Pipeline\n",
    "\n",
    "pipeline = Pipeline([('scaling', StandardScaler()), ('pca', PCA(n_components=3))])\n",
    "\n",
    "pca_train = pipeline.fit_transform(trainX)\n",
    "pca_test = pipeline.fit_transform(testX)\n",
    "\n",
    "lm = LinearRegression()\n",
    "lm.fit(pca_train,trainY)\n",
    "y_pred = lm.predict(pca_test)\n",
    "\n",
    "\n",
    "print(math.sqrt(mean_squared_error(testY , y_pred)))\n",
    "print(r2_score(testY , y_pred))\n"
   ]
  },
  {
   "cell_type": "markdown",
   "metadata": {},
   "source": [
    "# Linear Regression with Lasso"
   ]
  },
  {
   "cell_type": "code",
   "execution_count": 22,
   "metadata": {
    "scrolled": true
   },
   "outputs": [
    {
     "name": "stdout",
     "output_type": "stream",
     "text": [
      "[ -6.37381556e+00  -4.19737021e-01   4.37770484e-02  -2.69640998e+02\n",
      "   2.34912108e+02  -1.17327241e+02  -1.09767019e+00   1.24467669e+00\n",
      "  -1.98571179e+02   1.04405503e+02   3.45440835e+02   9.19382692e+02\n",
      "  -8.70851855e+02   1.13620069e+03  -6.35110847e+02  -3.47145646e+02\n",
      "   5.59884342e-13  -2.28319857e+02   0.00000000e+00   0.00000000e+00\n",
      "  -1.32727928e+01   2.18596533e+01]\n",
      "\n",
      "\n",
      "1189.8626377246287\n",
      "0.723767981658\n"
     ]
    }
   ],
   "source": [
    "from sklearn import linear_model\n",
    "clf = linear_model.Lasso(alpha=0.1)\n",
    "\n",
    "clf.fit(trainX, trainY)\n",
    "print(clf.coef_)\n",
    "\n",
    "Y_cap  = clf.predict(testX)\n",
    "\n",
    "print('\\n')\n",
    "print(math.sqrt(mean_squared_error(testY , Y_cap)))\n",
    "\n",
    "print(r2_score(testY , Y_cap))"
   ]
  },
  {
   "cell_type": "markdown",
   "metadata": {},
   "source": [
    "# Linear Regression with Ridge"
   ]
  },
  {
   "cell_type": "code",
   "execution_count": 23,
   "metadata": {
    "scrolled": true
   },
   "outputs": [
    {
     "name": "stdout",
     "output_type": "stream",
     "text": [
      "[[ -6.35818879e+00  -4.18857188e-01   4.36710652e-02  -2.69653319e+02\n",
      "    2.34909582e+02  -1.74961032e+02  -5.85399224e+01  -5.54218651e+01\n",
      "   -2.57253881e+02   5.33258897e+01   3.10171901e+02   9.19660972e+02\n",
      "   -1.03122084e+03   1.11044042e+03  -8.16201651e+02  -1.73663500e+02\n",
      "    1.73663500e+02  -1.14475450e+02   1.14475450e+02  -3.15280482e+00\n",
      "   -1.62642938e+01   1.94170986e+01]]\n",
      "\n",
      "\n",
      "1190.8114360315362\n",
      "0.723327270339\n"
     ]
    }
   ],
   "source": [
    "ridge = linear_model.Ridge(alpha = 0.1)\n",
    "ridge.fit(trainX , trainY)\n",
    "print(ridge.coef_)\n",
    "\n",
    "Y_caps  = ridge.predict(testX)\n",
    "\n",
    "print('\\n')\n",
    "print(math.sqrt(mean_squared_error(testY , Y_caps)))\n",
    "\n",
    "print(r2_score(testY , Y_caps))"
   ]
  },
  {
   "cell_type": "markdown",
   "metadata": {},
   "source": [
    "# Replacing Outliers With 95 Percentile (values > 12500)"
   ]
  },
  {
   "cell_type": "code",
   "execution_count": 24,
   "metadata": {
    "collapsed": true
   },
   "outputs": [],
   "source": [
    "Cute['Amount'] = Cute.Amount.where(Cute.Amount < 12500, 8000)"
   ]
  },
  {
   "cell_type": "markdown",
   "metadata": {},
   "source": [
    "# Model Building After Replacing Outliers"
   ]
  },
  {
   "cell_type": "code",
   "execution_count": null,
   "metadata": {
    "collapsed": true
   },
   "outputs": [],
   "source": [
    "retail2 = Cute.copy()\n",
    "retail2 = retail.drop(labels='PersonID',axis=1)\n",
    "retail2['totalVisits'] = retail2['DirectVisits'] + retail2['OnlineVisits']\n",
    "retail2_new = retail2.drop(labels=['OnlineVisits', 'DirectVisits'],axis=1)\n",
    "\n",
    "\n",
    "retail2_new['FamilySize'] = retail2_new['FamilySize'].astype('object')\n",
    "retail2_new['TransactionMode'] = retail2_new['TransactionMode'].astype('object')\n",
    "retail2_new['Occupation'] = retail2_new['Occupation'].astype('object')\n",
    "\n",
    "retail2_new1 = pd.get_dummies(retail2_new)"
   ]
  },
  {
   "cell_type": "code",
   "execution_count": 25,
   "metadata": {},
   "outputs": [
    {
     "name": "stdout",
     "output_type": "stream",
     "text": [
      "84\n",
      "2212\n",
      "457\n",
      "142\n",
      "43\n",
      "0\n",
      "0\n",
      "0\n",
      "0\n"
     ]
    }
   ],
   "source": [
    "list_1= []\n",
    "list_2= []\n",
    "list_3= []\n",
    "list_4= []\n",
    "list_5= []\n",
    "list_6= []\n",
    "list_7= []\n",
    "list_8= []\n",
    "list_9= []\n",
    "for i in Cute['Amount']:\n",
    "    if i <= 2500:\n",
    "        list_1.append(i)\n",
    "    elif 2501 <=i<= 5000:\n",
    "        list_2.append(i)\n",
    "    elif 5001 <=i<= 7500:\n",
    "        list_3.append(i)\n",
    "    elif 7501 <=i<= 10000:\n",
    "        list_4.append(i)\n",
    "    elif 10000 <=i<= 12500:\n",
    "        list_5.append(i)\n",
    "    elif 12501 <=i<= 15000:\n",
    "        list_6.append(i)\n",
    "    elif 15001 <=i<= 17500:\n",
    "        list_7.append(i)\n",
    "    elif 17501 <=i<= 20000:\n",
    "        list_8.append(i)\n",
    "    else:\n",
    "        list_9.append(i)\n",
    "print(len(list_1))\n",
    "print(len(list_2))\n",
    "print(len(list_3))\n",
    "print(len(list_4))\n",
    "print(len(list_5))\n",
    "print(len(list_6))\n",
    "print(len(list_7))\n",
    "print(len(list_8))\n",
    "print(len(list_9))"
   ]
  },
  {
   "cell_type": "code",
   "execution_count": null,
   "metadata": {
    "collapsed": true
   },
   "outputs": [],
   "source": [
    "# Visulisation\n",
    "\n",
    "plt.boxplot(Cute.Amount)\n",
    "plt.show()\n",
    "\n",
    "print(Cute.Amount.describe())\n",
    "print(Cute.Amount.mean())\n",
    "print(Cute.Amount.median())\n",
    "print(Cute.Amount.mode())\n",
    "plt.hist(Cute.Amount)\n",
    "plt.show()\n",
    "\n",
    "list11 = Cute.Amount.sort_values(ascending=True).tolist()\n",
    "list11[2879]\n",
    "\n",
    "# Linear Regression\n",
    "\n",
    "X = retail2_new1.loc[:, retail2_new1.columns != 'Amount']\n",
    "Y = retail2_new1[['Amount']]\n",
    "\n",
    "trainX,testX,trainY,testY = train_test_split(X,Y, test_size=0.3, random_state = 42)\n",
    "\n",
    "\n",
    "lm2 = LinearRegression()\n",
    "lm2.fit(trainX , trainY)\n",
    "\n",
    "\n",
    "y_pred1 = lm2.predict(testX)\n",
    "\n",
    "\n",
    "print(math.sqrt(mean_squared_error(testY , y_pred1)))\n",
    "print(r2_score(testY , y_pred1))\n",
    "\n",
    "\n",
    "\n",
    "# Linear Regression with PCA\n",
    "\n",
    "from sklearn.preprocessing import StandardScaler\n",
    "from sklearn.decomposition import PCA\n",
    "from sklearn.pipeline import Pipeline\n",
    "\n",
    "pipeline = Pipeline([('scaling', StandardScaler()), ('pca', PCA(n_components=3))])\n",
    "\n",
    "pca_train1 = pipeline.fit_transform(trainX)\n",
    "pca_test1 = pipeline.fit_transform(testX)\n",
    "\n",
    "lr_pca = LinearRegression()\n",
    "lr_pca .fit(pca_train1,trainY)\n",
    "y_pred3 = lr_pca.predict(pca_test1)\n",
    "\n",
    "\n",
    "print(math.sqrt(mean_squared_error(testY , y_pred)))\n",
    "print(r2_score(testY , y_pred))\n",
    "\n",
    "\n",
    "# Linear Regression with Lasso\n",
    "\n",
    "from sklearn import linear_model\n",
    "clf = linear_model.Lasso(alpha=0.1)\n",
    "\n",
    "clf.fit(trainX, trainY)\n",
    "print(clf.coef_)\n",
    "\n",
    "Y_cap  = clf.predict(testX)\n",
    "\n",
    "print('\\n')\n",
    "print(math.sqrt(mean_squared_error(testY , Y_cap)))\n",
    "\n",
    "print(r2_score(testY , Y_cap))\n",
    "\n",
    "# Linear Regression with Ridge\n",
    "\n",
    "ridge = linear_model.Ridge(alpha = 0.1)\n",
    "ridge.fit(trainX , trainY)\n",
    "print(ridge.coef_)\n",
    "\n",
    "Y_caps  = ridge.predict(testX)\n",
    "\n",
    "print('\\n')\n",
    "print(math.sqrt(mean_squared_error(testY , Y_caps)))\n",
    "\n",
    "print(r2_score(testY , Y_caps))2"
   ]
  },
  {
   "cell_type": "code",
   "execution_count": null,
   "metadata": {
    "collapsed": true
   },
   "outputs": [],
   "source": []
  },
  {
   "cell_type": "code",
   "execution_count": null,
   "metadata": {
    "scrolled": true
   },
   "outputs": [],
   "source": []
  },
  {
   "cell_type": "code",
   "execution_count": null,
   "metadata": {
    "collapsed": true
   },
   "outputs": [],
   "source": []
  },
  {
   "cell_type": "code",
   "execution_count": 29,
   "metadata": {
    "collapsed": true
   },
   "outputs": [],
   "source": []
  },
  {
   "cell_type": "code",
   "execution_count": 30,
   "metadata": {},
   "outputs": [
    {
     "data": {
      "text/plain": [
       "72496.504822721457"
      ]
     },
     "execution_count": 30,
     "metadata": {},
     "output_type": "execute_result"
    }
   ],
   "source": []
  },
  {
   "cell_type": "code",
   "execution_count": 31,
   "metadata": {},
   "outputs": [
    {
     "data": {
      "text/plain": [
       "0.98539639707400706"
      ]
     },
     "execution_count": 31,
     "metadata": {},
     "output_type": "execute_result"
    }
   ],
   "source": []
  },
  {
   "cell_type": "code",
   "execution_count": 34,
   "metadata": {},
   "outputs": [
    {
     "data": {
      "image/png": "[encoded data removed]",
      "text/plain": [
       "<matplotlib.figure.Figure at 0x1eee87d36d8>"
      ]
     },
     "metadata": {},
     "output_type": "display_data"
    }
   ],
   "source": []
  },
  {
   "cell_type": "code",
   "execution_count": null,
   "metadata": {
    "collapsed": true
   },
   "outputs": [],
   "source": []
  }
 ],
 "metadata": {
  "kernelspec": {
   "display_name": "Python 3",
   "language": "python",
   "name": "python3"
  },
  "language_info": {
   "codemirror_mode": {
    "name": "ipython",
    "version": 3
   },
   "file_extension": ".py",
   "mimetype": "text/x-python",
   "name": "python",
   "nbconvert_exporter": "python",
   "pygments_lexer": "ipython3",
   "version": "3.6.2"
  }
 },
 "nbformat": 4,
 "nbformat_minor": 2
}
