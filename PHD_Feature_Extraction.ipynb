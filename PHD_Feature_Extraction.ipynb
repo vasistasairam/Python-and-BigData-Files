{
 "cells": [
  {
   "cell_type": "code",
   "execution_count": 1,
   "metadata": {
    "collapsed": true
   },
   "outputs": [],
   "source": [
    "import pandas as pd\n",
    "import numpy as np\n",
    "import os\n",
    "#import warnings\n",
    "#warnings.filterwarnings('ignore')\n",
    "from datetime import date\n",
    "from datetime import datetime\n",
    "import dateutil\n",
    "from pandas import *\n",
    "import seaborn as sns\n",
    "import matplotlib.pyplot as plt\n",
    "from sklearn.preprocessing import MinMaxScaler"
   ]
  },
  {
   "cell_type": "code",
   "execution_count": 2,
   "metadata": {
    "collapsed": true
   },
   "outputs": [],
   "source": [
    "weather = pd.ExcelFile('C:\\\\Users\\\\HP\\Desktop\\\\PHD Hackathon\\\\Data Science\\\\PhD_Train_Data\\\\WeatherDataNew.xlsx')\n",
    "weather9 = pd.read_excel(weather, sheetname='2009')\n",
    "weather10 = pd.read_excel(weather, sheetname='2010', na_values=[' ', '-'])\n",
    "weather11 = pd.read_excel(weather, sheetname='2011', na_values=[' ', '-'])\n",
    "weather12 = pd.read_excel(weather, sheetname='2012', na_values=[' ', '-'])\n",
    "weather13 = pd.read_excel(weather, sheetname='2013', na_values=[' ', '-'])\n",
    "weather14 = pd.read_excel(weather, sheetname='2014', na_values=[' ', '-'])\n",
    "weather15 = pd.read_excel(weather, sheetname='2015', na_values=[' ', '-'])\n",
    "weather16 = pd.read_excel(weather, sheetname='2016', na_values=[' ', '-'])"
   ]
  },
  {
   "cell_type": "code",
   "execution_count": 3,
   "metadata": {},
   "outputs": [
    {
     "name": "stdout",
     "output_type": "stream",
     "text": [
      "(2922, 23)\n"
     ]
    },
    {
     "data": {
      "text/html": [
       "<div>\n",
       "<style>\n",
       "    .dataframe thead tr:only-child th {\n",
       "        text-align: right;\n",
       "    }\n",
       "\n",
       "    .dataframe thead th {\n",
       "        text-align: left;\n",
       "    }\n",
       "\n",
       "    .dataframe tbody tr th {\n",
       "        vertical-align: top;\n",
       "    }\n",
       "</style>\n",
       "<table border=\"1\" class=\"dataframe\">\n",
       "  <thead>\n",
       "    <tr style=\"text-align: right;\">\n",
       "      <th></th>\n",
       "      <th>Year</th>\n",
       "      <th>Month</th>\n",
       "      <th>Day</th>\n",
       "      <th>Temp high (°C)</th>\n",
       "      <th>Temp avg (°C)</th>\n",
       "      <th>Temp low (°C)</th>\n",
       "      <th>Dew Point high (°C)</th>\n",
       "      <th>Dew Point avg (°C)</th>\n",
       "      <th>Dew Point low (°C)</th>\n",
       "      <th>Humidity (%) high</th>\n",
       "      <th>...</th>\n",
       "      <th>Sea Level Press. (hPa) avg</th>\n",
       "      <th>Sea Level Press. (hPa) low</th>\n",
       "      <th>Visibility (km) high</th>\n",
       "      <th>Visibility (km) avg</th>\n",
       "      <th>Visibility (km) low</th>\n",
       "      <th>Wind (km/h) low</th>\n",
       "      <th>Wind (km/h) avg</th>\n",
       "      <th>Wind (km/h) high</th>\n",
       "      <th>Precip. (mm) sum</th>\n",
       "      <th>WeatherEvent</th>\n",
       "    </tr>\n",
       "  </thead>\n",
       "  <tbody>\n",
       "    <tr>\n",
       "      <th>361</th>\n",
       "      <td>2016</td>\n",
       "      <td>Dec</td>\n",
       "      <td>27</td>\n",
       "      <td>16.0</td>\n",
       "      <td>10.0</td>\n",
       "      <td>4.0</td>\n",
       "      <td>11.0</td>\n",
       "      <td>6.0</td>\n",
       "      <td>-3.0</td>\n",
       "      <td>89.0</td>\n",
       "      <td>...</td>\n",
       "      <td>1012.0</td>\n",
       "      <td>1008.0</td>\n",
       "      <td>16.0</td>\n",
       "      <td>16.0</td>\n",
       "      <td>14.0</td>\n",
       "      <td>32</td>\n",
       "      <td>12</td>\n",
       "      <td>53</td>\n",
       "      <td>0</td>\n",
       "      <td>NaN</td>\n",
       "    </tr>\n",
       "    <tr>\n",
       "      <th>362</th>\n",
       "      <td>2016</td>\n",
       "      <td>Dec</td>\n",
       "      <td>28</td>\n",
       "      <td>4.0</td>\n",
       "      <td>3.0</td>\n",
       "      <td>1.0</td>\n",
       "      <td>-3.0</td>\n",
       "      <td>-6.0</td>\n",
       "      <td>-7.0</td>\n",
       "      <td>64.0</td>\n",
       "      <td>...</td>\n",
       "      <td>1019.0</td>\n",
       "      <td>1014.0</td>\n",
       "      <td>16.0</td>\n",
       "      <td>16.0</td>\n",
       "      <td>16.0</td>\n",
       "      <td>23</td>\n",
       "      <td>8</td>\n",
       "      <td>34</td>\n",
       "      <td>0</td>\n",
       "      <td>NaN</td>\n",
       "    </tr>\n",
       "    <tr>\n",
       "      <th>363</th>\n",
       "      <td>2016</td>\n",
       "      <td>Dec</td>\n",
       "      <td>29</td>\n",
       "      <td>8.0</td>\n",
       "      <td>4.0</td>\n",
       "      <td>1.0</td>\n",
       "      <td>7.0</td>\n",
       "      <td>2.0</td>\n",
       "      <td>-7.0</td>\n",
       "      <td>96.0</td>\n",
       "      <td>...</td>\n",
       "      <td>1006.0</td>\n",
       "      <td>1000.0</td>\n",
       "      <td>16.0</td>\n",
       "      <td>10.0</td>\n",
       "      <td>2.0</td>\n",
       "      <td>24</td>\n",
       "      <td>9</td>\n",
       "      <td>40</td>\n",
       "      <td>9.91</td>\n",
       "      <td>Rain</td>\n",
       "    </tr>\n",
       "    <tr>\n",
       "      <th>364</th>\n",
       "      <td>2016</td>\n",
       "      <td>Dec</td>\n",
       "      <td>30</td>\n",
       "      <td>4.0</td>\n",
       "      <td>3.0</td>\n",
       "      <td>1.0</td>\n",
       "      <td>-1.0</td>\n",
       "      <td>-4.0</td>\n",
       "      <td>-7.0</td>\n",
       "      <td>82.0</td>\n",
       "      <td>...</td>\n",
       "      <td>1006.0</td>\n",
       "      <td>1000.0</td>\n",
       "      <td>16.0</td>\n",
       "      <td>14.0</td>\n",
       "      <td>1.0</td>\n",
       "      <td>29</td>\n",
       "      <td>15</td>\n",
       "      <td>47</td>\n",
       "      <td>0.25</td>\n",
       "      <td>Fog , Snow</td>\n",
       "    </tr>\n",
       "    <tr>\n",
       "      <th>365</th>\n",
       "      <td>2016</td>\n",
       "      <td>Dec</td>\n",
       "      <td>31</td>\n",
       "      <td>7.0</td>\n",
       "      <td>3.0</td>\n",
       "      <td>-1.0</td>\n",
       "      <td>-3.0</td>\n",
       "      <td>-7.0</td>\n",
       "      <td>-9.0</td>\n",
       "      <td>56.0</td>\n",
       "      <td>...</td>\n",
       "      <td>1016.0</td>\n",
       "      <td>1012.0</td>\n",
       "      <td>16.0</td>\n",
       "      <td>16.0</td>\n",
       "      <td>16.0</td>\n",
       "      <td>24</td>\n",
       "      <td>11</td>\n",
       "      <td>40</td>\n",
       "      <td>0</td>\n",
       "      <td>NaN</td>\n",
       "    </tr>\n",
       "  </tbody>\n",
       "</table>\n",
       "<p>5 rows × 23 columns</p>\n",
       "</div>"
      ],
      "text/plain": [
       "     Year Month  Day  Temp high (°C)  Temp avg (°C)  Temp low (°C)  \\\n",
       "361  2016   Dec   27            16.0           10.0            4.0   \n",
       "362  2016   Dec   28             4.0            3.0            1.0   \n",
       "363  2016   Dec   29             8.0            4.0            1.0   \n",
       "364  2016   Dec   30             4.0            3.0            1.0   \n",
       "365  2016   Dec   31             7.0            3.0           -1.0   \n",
       "\n",
       "     Dew Point high (°C)  Dew Point avg (°C)  Dew Point low (°C)  \\\n",
       "361                 11.0                 6.0                -3.0   \n",
       "362                 -3.0                -6.0                -7.0   \n",
       "363                  7.0                 2.0                -7.0   \n",
       "364                 -1.0                -4.0                -7.0   \n",
       "365                 -3.0                -7.0                -9.0   \n",
       "\n",
       "     Humidity (%) high     ...       Sea Level Press. (hPa) avg  \\\n",
       "361               89.0     ...                           1012.0   \n",
       "362               64.0     ...                           1019.0   \n",
       "363               96.0     ...                           1006.0   \n",
       "364               82.0     ...                           1006.0   \n",
       "365               56.0     ...                           1016.0   \n",
       "\n",
       "     Sea Level Press. (hPa) low  Visibility (km) high  Visibility (km) avg  \\\n",
       "361                      1008.0                  16.0                 16.0   \n",
       "362                      1014.0                  16.0                 16.0   \n",
       "363                      1000.0                  16.0                 10.0   \n",
       "364                      1000.0                  16.0                 14.0   \n",
       "365                      1012.0                  16.0                 16.0   \n",
       "\n",
       "     Visibility (km) low  Wind (km/h) low  Wind (km/h) avg  Wind (km/h) high  \\\n",
       "361                 14.0               32               12                53   \n",
       "362                 16.0               23                8                34   \n",
       "363                  2.0               24                9                40   \n",
       "364                  1.0               29               15                47   \n",
       "365                 16.0               24               11                40   \n",
       "\n",
       "    Precip. (mm) sum WeatherEvent  \n",
       "361                0          NaN  \n",
       "362                0          NaN  \n",
       "363             9.91         Rain  \n",
       "364             0.25   Fog , Snow  \n",
       "365                0          NaN  \n",
       "\n",
       "[5 rows x 23 columns]"
      ]
     },
     "execution_count": 3,
     "metadata": {},
     "output_type": "execute_result"
    }
   ],
   "source": [
    "df_list = [weather9, weather10, weather11, weather12, weather13, weather14, weather15, weather16]\n",
    "\n",
    "weatherData = pd.concat(df_list)\n",
    "print(weatherData.shape)\n",
    "weatherData.tail()\n"
   ]
  },
  {
   "cell_type": "code",
   "execution_count": null,
   "metadata": {
    "collapsed": true
   },
   "outputs": [],
   "source": []
  },
  {
   "cell_type": "code",
   "execution_count": 4,
   "metadata": {
    "collapsed": true
   },
   "outputs": [],
   "source": [
    "weatherData.columns = ['Year', 'Month', 'Day', 'Temp high (°C)', 'Temp avg (°C)', 'Temp low (°C)',\n",
    "                        'Dew Point high (°C)', 'Dew Point avg (°C)', 'Dew Point low (°C)',\n",
    "                       'Humidity_high', 'Humidity_avg', 'Humidity_low','Sea Level Press high', 'Sea Level Press avg',\n",
    "                       'Sea Level Press low', 'Visibility (km) high','Visibility (km) avg', 'Visibility (km) low', 'Wind (km/h) low',\n",
    "                       'Wind (km/h) avg', 'Wind (km/h) high', 'Precip (mm) sum','WeatherEvent']"
   ]
  },
  {
   "cell_type": "code",
   "execution_count": 5,
   "metadata": {
    "collapsed": true
   },
   "outputs": [],
   "source": [
    "vals_to_replace = {'Jan':'1','Feb':'2','Mar':'3','Apr':'4','May':'5','Jun':'6','Jul':'7','Aug':'8','Sep':'9','Oct':'10','Nov':'11','Dec':'12'}\n",
    "weatherData['Month'] = weatherData['Month'].apply(lambda x: vals_to_replace[x])"
   ]
  },
  {
   "cell_type": "code",
   "execution_count": 6,
   "metadata": {},
   "outputs": [
    {
     "name": "stdout",
     "output_type": "stream",
     "text": [
      "Nulls In (Precip (mm) sum) : 1\n"
     ]
    },
    {
     "data": {
      "text/plain": [
       "1"
      ]
     },
     "execution_count": 6,
     "metadata": {},
     "output_type": "execute_result"
    }
   ],
   "source": [
    "print(\"Nulls In (Precip (mm) sum) :\", weatherData['Precip (mm) sum'].isnull().sum())\n",
    "weatherData['Precip (mm) sum'] =   weatherData['Precip (mm) sum'].apply(lambda x: 0.01 if x == 'T' else x)  \n",
    "weatherData['Precip (mm) sum'].isnull().sum()"
   ]
  },
  {
   "cell_type": "code",
   "execution_count": 7,
   "metadata": {
    "scrolled": true
   },
   "outputs": [
    {
     "data": {
      "text/plain": [
       "Year                      int64\n",
       "Month                    object\n",
       "Day                       int64\n",
       "Temp high (°C)          float64\n",
       "Temp avg (°C)           float64\n",
       "Temp low (°C)           float64\n",
       "Dew Point high (°C)     float64\n",
       "Dew Point avg (°C)      float64\n",
       "Dew Point low (°C)      float64\n",
       "Humidity_high           float64\n",
       "Humidity_avg            float64\n",
       "Humidity_low            float64\n",
       "Sea Level Press high    float64\n",
       "Sea Level Press avg     float64\n",
       "Sea Level Press low     float64\n",
       "Visibility (km) high    float64\n",
       "Visibility (km) avg     float64\n",
       "Visibility (km) low     float64\n",
       "Wind (km/h) low         float64\n",
       "Wind (km/h) avg         float64\n",
       "Wind (km/h) high        float64\n",
       "Precip (mm) sum         float64\n",
       "WeatherEvent             object\n",
       "dtype: object"
      ]
     },
     "execution_count": 7,
     "metadata": {},
     "output_type": "execute_result"
    }
   ],
   "source": [
    "weatherData.iloc[:, 2:-1] = weatherData.iloc[:, 2:-1].apply(pd.to_numeric, errors = 'coerce')\n",
    "weatherData.dtypes"
   ]
  },
  {
   "cell_type": "code",
   "execution_count": 8,
   "metadata": {
    "collapsed": true
   },
   "outputs": [],
   "source": [
    "weatherData.iloc[:, 2:-1] = weatherData.iloc[:, 2:-1].apply(lambda x: x.fillna(x.mean()))\n",
    "weatherData.loc[:, 'WeatherEvent'] = weatherData.loc[:, 'WeatherEvent'].fillna('Other')"
   ]
  },
  {
   "cell_type": "code",
   "execution_count": 9,
   "metadata": {
    "scrolled": true
   },
   "outputs": [
    {
     "data": {
      "text/plain": [
       "Year                    False\n",
       "Month                   False\n",
       "Day                     False\n",
       "Temp high (°C)          False\n",
       "Temp avg (°C)           False\n",
       "Temp low (°C)           False\n",
       "Dew Point high (°C)     False\n",
       "Dew Point avg (°C)      False\n",
       "Dew Point low (°C)      False\n",
       "Humidity_high           False\n",
       "Humidity_avg            False\n",
       "Humidity_low            False\n",
       "Sea Level Press high    False\n",
       "Sea Level Press avg     False\n",
       "Sea Level Press low     False\n",
       "Visibility (km) high    False\n",
       "Visibility (km) avg     False\n",
       "Visibility (km) low     False\n",
       "Wind (km/h) low         False\n",
       "Wind (km/h) avg         False\n",
       "Wind (km/h) high        False\n",
       "Precip (mm) sum         False\n",
       "WeatherEvent            False\n",
       "dtype: bool"
      ]
     },
     "execution_count": 9,
     "metadata": {},
     "output_type": "execute_result"
    }
   ],
   "source": [
    "weatherData_final = weatherData.copy()\n",
    "weatherData_final.isnull().any()"
   ]
  },
  {
   "cell_type": "code",
   "execution_count": 10,
   "metadata": {
    "collapsed": true
   },
   "outputs": [],
   "source": [
    "col_list = ['Year', 'Month', 'Temp high (°C)', 'Temp avg (°C)', 'Temp low (°C)','Dew Point high (°C)', 'Dew Point avg (°C)', \n",
    "            'Dew Point low (°C)','Humidity_high', 'Humidity_avg', 'Humidity_low', 'Sea Level Press high','Sea Level Press avg',\n",
    "            'Sea Level Press low', 'Visibility (km) high','Visibility (km) avg', 'Visibility (km) low', 'Wind (km/h) low',\n",
    "            'Wind (km/h) avg', 'Wind (km/h) high', 'Precip (mm) sum','WeatherEvent']"
   ]
  },
  {
   "cell_type": "code",
   "execution_count": 11,
   "metadata": {
    "collapsed": true
   },
   "outputs": [],
   "source": [
    "features = {col_list[2]:['min','max','mean','var'],col_list[3]:['min','max','mean','var'],col_list[4]:['min','max','mean','var'],\n",
    "           col_list[5]:['min','max','mean','var'], col_list[6]:['min','max','mean','var'], col_list[7]:['min','max','mean','var'],\n",
    "           col_list[8]:['min','max','mean','var'], col_list[9]:['min','max','mean','var'], col_list[10]:['min','max','mean','var'],\n",
    "col_list[11]:['min','max','mean','var'], col_list[12]:['min','max','mean','var'], col_list[13]:['min','max','mean','var'],\n",
    "col_list[14]:['min','max','mean','var'], col_list[15]:['min','max','mean','var'], col_list[16]:['min','max','mean','var'],\n",
    "col_list[17]:['min','max','mean','var'], col_list[18]:['min','max','mean','var'], col_list[19]:['min','max','mean','var']}\n",
    "\n",
    "weather_features = weatherData_final.groupby(['Year','Month']).agg(features).reset_index()"
   ]
  },
  {
   "cell_type": "code",
   "execution_count": 12,
   "metadata": {},
   "outputs": [
    {
     "data": {
      "text/html": [
       "<div>\n",
       "<style>\n",
       "    .dataframe thead tr:only-child th {\n",
       "        text-align: right;\n",
       "    }\n",
       "\n",
       "    .dataframe thead th {\n",
       "        text-align: left;\n",
       "    }\n",
       "\n",
       "    .dataframe tbody tr th {\n",
       "        vertical-align: top;\n",
       "    }\n",
       "</style>\n",
       "<table border=\"1\" class=\"dataframe\">\n",
       "  <thead>\n",
       "    <tr style=\"text-align: right;\">\n",
       "      <th></th>\n",
       "      <th>Year</th>\n",
       "      <th>Month</th>\n",
       "      <th>Temp high (°C)min</th>\n",
       "      <th>Temp high (°C)max</th>\n",
       "      <th>Temp high (°C)mean</th>\n",
       "      <th>Temp high (°C)var</th>\n",
       "      <th>Temp avg (°C)min</th>\n",
       "      <th>Temp avg (°C)max</th>\n",
       "      <th>Temp avg (°C)mean</th>\n",
       "      <th>Temp avg (°C)var</th>\n",
       "      <th>...</th>\n",
       "      <th>Wind (km/h) lowmean</th>\n",
       "      <th>Wind (km/h) lowvar</th>\n",
       "      <th>Wind (km/h) avgmin</th>\n",
       "      <th>Wind (km/h) avgmax</th>\n",
       "      <th>Wind (km/h) avgmean</th>\n",
       "      <th>Wind (km/h) avgvar</th>\n",
       "      <th>Wind (km/h) highmin</th>\n",
       "      <th>Wind (km/h) highmax</th>\n",
       "      <th>Wind (km/h) highmean</th>\n",
       "      <th>Wind (km/h) highvar</th>\n",
       "    </tr>\n",
       "  </thead>\n",
       "  <tbody>\n",
       "    <tr>\n",
       "      <th>0</th>\n",
       "      <td>2009</td>\n",
       "      <td>1</td>\n",
       "      <td>-9.0</td>\n",
       "      <td>8.0</td>\n",
       "      <td>0.741935</td>\n",
       "      <td>16.664516</td>\n",
       "      <td>-11.0</td>\n",
       "      <td>5.0</td>\n",
       "      <td>-2.096774</td>\n",
       "      <td>13.956989</td>\n",
       "      <td>...</td>\n",
       "      <td>27.000000</td>\n",
       "      <td>35.066667</td>\n",
       "      <td>4.0</td>\n",
       "      <td>18.0</td>\n",
       "      <td>12.000000</td>\n",
       "      <td>12.200000</td>\n",
       "      <td>21.0</td>\n",
       "      <td>60.0</td>\n",
       "      <td>39.322581</td>\n",
       "      <td>96.625806</td>\n",
       "    </tr>\n",
       "    <tr>\n",
       "      <th>1</th>\n",
       "      <td>2009</td>\n",
       "      <td>10</td>\n",
       "      <td>7.0</td>\n",
       "      <td>23.0</td>\n",
       "      <td>16.258065</td>\n",
       "      <td>20.064516</td>\n",
       "      <td>6.0</td>\n",
       "      <td>19.0</td>\n",
       "      <td>12.870968</td>\n",
       "      <td>14.582796</td>\n",
       "      <td>...</td>\n",
       "      <td>23.516129</td>\n",
       "      <td>42.724731</td>\n",
       "      <td>2.0</td>\n",
       "      <td>19.0</td>\n",
       "      <td>9.677419</td>\n",
       "      <td>16.025806</td>\n",
       "      <td>14.0</td>\n",
       "      <td>71.0</td>\n",
       "      <td>34.419355</td>\n",
       "      <td>110.918280</td>\n",
       "    </tr>\n",
       "    <tr>\n",
       "      <th>2</th>\n",
       "      <td>2009</td>\n",
       "      <td>11</td>\n",
       "      <td>10.0</td>\n",
       "      <td>21.0</td>\n",
       "      <td>13.733333</td>\n",
       "      <td>8.202299</td>\n",
       "      <td>7.0</td>\n",
       "      <td>16.0</td>\n",
       "      <td>10.800000</td>\n",
       "      <td>5.889655</td>\n",
       "      <td>...</td>\n",
       "      <td>25.866667</td>\n",
       "      <td>41.429885</td>\n",
       "      <td>4.0</td>\n",
       "      <td>25.0</td>\n",
       "      <td>11.133333</td>\n",
       "      <td>25.636782</td>\n",
       "      <td>21.0</td>\n",
       "      <td>63.0</td>\n",
       "      <td>36.733333</td>\n",
       "      <td>108.685057</td>\n",
       "    </tr>\n",
       "    <tr>\n",
       "      <th>3</th>\n",
       "      <td>2009</td>\n",
       "      <td>12</td>\n",
       "      <td>-2.0</td>\n",
       "      <td>19.0</td>\n",
       "      <td>5.451613</td>\n",
       "      <td>29.055914</td>\n",
       "      <td>-5.0</td>\n",
       "      <td>15.0</td>\n",
       "      <td>2.354839</td>\n",
       "      <td>24.303226</td>\n",
       "      <td>...</td>\n",
       "      <td>28.580645</td>\n",
       "      <td>36.651613</td>\n",
       "      <td>6.0</td>\n",
       "      <td>23.0</td>\n",
       "      <td>13.451613</td>\n",
       "      <td>19.189247</td>\n",
       "      <td>24.0</td>\n",
       "      <td>64.0</td>\n",
       "      <td>42.838710</td>\n",
       "      <td>97.473118</td>\n",
       "    </tr>\n",
       "    <tr>\n",
       "      <th>4</th>\n",
       "      <td>2009</td>\n",
       "      <td>2</td>\n",
       "      <td>-6.0</td>\n",
       "      <td>18.0</td>\n",
       "      <td>6.964286</td>\n",
       "      <td>30.850529</td>\n",
       "      <td>-9.0</td>\n",
       "      <td>13.0</td>\n",
       "      <td>2.785714</td>\n",
       "      <td>24.322751</td>\n",
       "      <td>...</td>\n",
       "      <td>27.928571</td>\n",
       "      <td>47.253968</td>\n",
       "      <td>6.0</td>\n",
       "      <td>22.0</td>\n",
       "      <td>12.214286</td>\n",
       "      <td>21.656085</td>\n",
       "      <td>24.0</td>\n",
       "      <td>77.0</td>\n",
       "      <td>41.642857</td>\n",
       "      <td>167.349206</td>\n",
       "    </tr>\n",
       "  </tbody>\n",
       "</table>\n",
       "<p>5 rows × 74 columns</p>\n",
       "</div>"
      ],
      "text/plain": [
       "   Year Month  Temp high (°C)min  Temp high (°C)max  Temp high (°C)mean  \\\n",
       "0  2009     1               -9.0                8.0            0.741935   \n",
       "1  2009    10                7.0               23.0           16.258065   \n",
       "2  2009    11               10.0               21.0           13.733333   \n",
       "3  2009    12               -2.0               19.0            5.451613   \n",
       "4  2009     2               -6.0               18.0            6.964286   \n",
       "\n",
       "   Temp high (°C)var  Temp avg (°C)min  Temp avg (°C)max  Temp avg (°C)mean  \\\n",
       "0          16.664516             -11.0               5.0          -2.096774   \n",
       "1          20.064516               6.0              19.0          12.870968   \n",
       "2           8.202299               7.0              16.0          10.800000   \n",
       "3          29.055914              -5.0              15.0           2.354839   \n",
       "4          30.850529              -9.0              13.0           2.785714   \n",
       "\n",
       "   Temp avg (°C)var         ...           Wind (km/h) lowmean  \\\n",
       "0         13.956989         ...                     27.000000   \n",
       "1         14.582796         ...                     23.516129   \n",
       "2          5.889655         ...                     25.866667   \n",
       "3         24.303226         ...                     28.580645   \n",
       "4         24.322751         ...                     27.928571   \n",
       "\n",
       "   Wind (km/h) lowvar  Wind (km/h) avgmin  Wind (km/h) avgmax  \\\n",
       "0           35.066667                 4.0                18.0   \n",
       "1           42.724731                 2.0                19.0   \n",
       "2           41.429885                 4.0                25.0   \n",
       "3           36.651613                 6.0                23.0   \n",
       "4           47.253968                 6.0                22.0   \n",
       "\n",
       "   Wind (km/h) avgmean  Wind (km/h) avgvar  Wind (km/h) highmin  \\\n",
       "0            12.000000           12.200000                 21.0   \n",
       "1             9.677419           16.025806                 14.0   \n",
       "2            11.133333           25.636782                 21.0   \n",
       "3            13.451613           19.189247                 24.0   \n",
       "4            12.214286           21.656085                 24.0   \n",
       "\n",
       "   Wind (km/h) highmax  Wind (km/h) highmean  Wind (km/h) highvar  \n",
       "0                 60.0             39.322581            96.625806  \n",
       "1                 71.0             34.419355           110.918280  \n",
       "2                 63.0             36.733333           108.685057  \n",
       "3                 64.0             42.838710            97.473118  \n",
       "4                 77.0             41.642857           167.349206  \n",
       "\n",
       "[5 rows x 74 columns]"
      ]
     },
     "execution_count": 12,
     "metadata": {},
     "output_type": "execute_result"
    }
   ],
   "source": [
    "weather_features.columns = [x[0]+x[1] for x in weather_features.columns]\n",
    "weather_features.head()"
   ]
  },
  {
   "cell_type": "code",
   "execution_count": 13,
   "metadata": {},
   "outputs": [
    {
     "data": {
      "text/html": [
       "<div>\n",
       "<style>\n",
       "    .dataframe thead tr:only-child th {\n",
       "        text-align: right;\n",
       "    }\n",
       "\n",
       "    .dataframe thead th {\n",
       "        text-align: left;\n",
       "    }\n",
       "\n",
       "    .dataframe tbody tr th {\n",
       "        vertical-align: top;\n",
       "    }\n",
       "</style>\n",
       "<table border=\"1\" class=\"dataframe\">\n",
       "  <thead>\n",
       "    <tr style=\"text-align: right;\">\n",
       "      <th></th>\n",
       "      <th>Year</th>\n",
       "      <th>Month</th>\n",
       "      <th>Fog</th>\n",
       "      <th>Fog , Rain</th>\n",
       "      <th>Fog , Rain , Snow</th>\n",
       "      <th>Fog , Snow</th>\n",
       "      <th>Other</th>\n",
       "      <th>Rain</th>\n",
       "      <th>Rain , Snow</th>\n",
       "      <th>Snow</th>\n",
       "      <th>Thunderstorm</th>\n",
       "    </tr>\n",
       "  </thead>\n",
       "  <tbody>\n",
       "    <tr>\n",
       "      <th>91</th>\n",
       "      <td>2016</td>\n",
       "      <td>5</td>\n",
       "      <td>0</td>\n",
       "      <td>1</td>\n",
       "      <td>0</td>\n",
       "      <td>0</td>\n",
       "      <td>20</td>\n",
       "      <td>10</td>\n",
       "      <td>0</td>\n",
       "      <td>0</td>\n",
       "      <td>0</td>\n",
       "    </tr>\n",
       "    <tr>\n",
       "      <th>92</th>\n",
       "      <td>2016</td>\n",
       "      <td>6</td>\n",
       "      <td>0</td>\n",
       "      <td>1</td>\n",
       "      <td>0</td>\n",
       "      <td>0</td>\n",
       "      <td>21</td>\n",
       "      <td>8</td>\n",
       "      <td>0</td>\n",
       "      <td>0</td>\n",
       "      <td>0</td>\n",
       "    </tr>\n",
       "    <tr>\n",
       "      <th>93</th>\n",
       "      <td>2016</td>\n",
       "      <td>7</td>\n",
       "      <td>0</td>\n",
       "      <td>5</td>\n",
       "      <td>0</td>\n",
       "      <td>0</td>\n",
       "      <td>18</td>\n",
       "      <td>8</td>\n",
       "      <td>0</td>\n",
       "      <td>0</td>\n",
       "      <td>0</td>\n",
       "    </tr>\n",
       "    <tr>\n",
       "      <th>94</th>\n",
       "      <td>2016</td>\n",
       "      <td>8</td>\n",
       "      <td>0</td>\n",
       "      <td>2</td>\n",
       "      <td>0</td>\n",
       "      <td>0</td>\n",
       "      <td>21</td>\n",
       "      <td>8</td>\n",
       "      <td>0</td>\n",
       "      <td>0</td>\n",
       "      <td>0</td>\n",
       "    </tr>\n",
       "    <tr>\n",
       "      <th>95</th>\n",
       "      <td>2016</td>\n",
       "      <td>9</td>\n",
       "      <td>0</td>\n",
       "      <td>2</td>\n",
       "      <td>0</td>\n",
       "      <td>0</td>\n",
       "      <td>23</td>\n",
       "      <td>5</td>\n",
       "      <td>0</td>\n",
       "      <td>0</td>\n",
       "      <td>0</td>\n",
       "    </tr>\n",
       "  </tbody>\n",
       "</table>\n",
       "</div>"
      ],
      "text/plain": [
       "    Year Month  Fog  Fog , Rain  Fog , Rain , Snow  Fog , Snow  Other  Rain  \\\n",
       "91  2016     5    0           1                  0           0     20    10   \n",
       "92  2016     6    0           1                  0           0     21     8   \n",
       "93  2016     7    0           5                  0           0     18     8   \n",
       "94  2016     8    0           2                  0           0     21     8   \n",
       "95  2016     9    0           2                  0           0     23     5   \n",
       "\n",
       "    Rain , Snow  Snow  Thunderstorm  \n",
       "91            0     0             0  \n",
       "92            0     0             0  \n",
       "93            0     0             0  \n",
       "94            0     0             0  \n",
       "95            0     0             0  "
      ]
     },
     "execution_count": 13,
     "metadata": {},
     "output_type": "execute_result"
    }
   ],
   "source": [
    "weatherData['dummy'] = 1\n",
    "\n",
    "weatherEvent_pivot = pivot_table(data = weatherData, columns=['WeatherEvent'], index = ['Year', 'Month'], \n",
    "                                 values='dummy', aggfunc='sum', fill_value=0) \n",
    "                                \n",
    "weatherEvent_pivot.columns = [i for i in weatherEvent_pivot.columns]\n",
    "weatherEvent_pivot = weatherEvent_pivot.reset_index()\n",
    "weatherEvent_pivot.tail()\n"
   ]
  },
  {
   "cell_type": "code",
   "execution_count": null,
   "metadata": {
    "collapsed": true
   },
   "outputs": [],
   "source": []
  },
  {
   "cell_type": "code",
   "execution_count": 14,
   "metadata": {
    "scrolled": true
   },
   "outputs": [
    {
     "data": {
      "text/plain": [
       "Year                 0\n",
       "Month                0\n",
       "Fog                  0\n",
       "Fog , Rain           0\n",
       "Fog , Rain , Snow    0\n",
       "Fog , Snow           0\n",
       "Other                0\n",
       "Rain                 0\n",
       "Rain , Snow          0\n",
       "Snow                 0\n",
       "Thunderstorm         0\n",
       "dtype: int64"
      ]
     },
     "execution_count": 14,
     "metadata": {},
     "output_type": "execute_result"
    }
   ],
   "source": [
    "weatherEvent_pivot.isnull().sum()"
   ]
  },
  {
   "cell_type": "code",
   "execution_count": 15,
   "metadata": {},
   "outputs": [
    {
     "data": {
      "text/plain": [
       "(96, 11)"
      ]
     },
     "execution_count": 15,
     "metadata": {},
     "output_type": "execute_result"
    }
   ],
   "source": [
    "weatherEvent_pivot.shape"
   ]
  },
  {
   "cell_type": "code",
   "execution_count": 16,
   "metadata": {},
   "outputs": [
    {
     "data": {
      "text/html": [
       "<div>\n",
       "<style>\n",
       "    .dataframe thead tr:only-child th {\n",
       "        text-align: right;\n",
       "    }\n",
       "\n",
       "    .dataframe thead th {\n",
       "        text-align: left;\n",
       "    }\n",
       "\n",
       "    .dataframe tbody tr th {\n",
       "        vertical-align: top;\n",
       "    }\n",
       "</style>\n",
       "<table border=\"1\" class=\"dataframe\">\n",
       "  <thead>\n",
       "    <tr style=\"text-align: right;\">\n",
       "      <th></th>\n",
       "      <th>Year</th>\n",
       "      <th>Month</th>\n",
       "      <th>Temp high (°C)min</th>\n",
       "      <th>Temp high (°C)max</th>\n",
       "      <th>Temp high (°C)mean</th>\n",
       "      <th>Temp high (°C)var</th>\n",
       "      <th>Temp avg (°C)min</th>\n",
       "      <th>Temp avg (°C)max</th>\n",
       "      <th>Temp avg (°C)mean</th>\n",
       "      <th>Temp avg (°C)var</th>\n",
       "      <th>...</th>\n",
       "      <th>Wind (km/h) highvar</th>\n",
       "      <th>Fog</th>\n",
       "      <th>Fog , Rain</th>\n",
       "      <th>Fog , Rain , Snow</th>\n",
       "      <th>Fog , Snow</th>\n",
       "      <th>Other</th>\n",
       "      <th>Rain</th>\n",
       "      <th>Rain , Snow</th>\n",
       "      <th>Snow</th>\n",
       "      <th>Thunderstorm</th>\n",
       "    </tr>\n",
       "  </thead>\n",
       "  <tbody>\n",
       "    <tr>\n",
       "      <th>0</th>\n",
       "      <td>2009</td>\n",
       "      <td>1</td>\n",
       "      <td>-9.0</td>\n",
       "      <td>8.0</td>\n",
       "      <td>0.741935</td>\n",
       "      <td>16.664516</td>\n",
       "      <td>-11.0</td>\n",
       "      <td>5.0</td>\n",
       "      <td>-2.096774</td>\n",
       "      <td>13.956989</td>\n",
       "      <td>...</td>\n",
       "      <td>96.625806</td>\n",
       "      <td>0</td>\n",
       "      <td>0</td>\n",
       "      <td>2</td>\n",
       "      <td>2</td>\n",
       "      <td>21</td>\n",
       "      <td>3</td>\n",
       "      <td>0</td>\n",
       "      <td>3</td>\n",
       "      <td>0</td>\n",
       "    </tr>\n",
       "    <tr>\n",
       "      <th>1</th>\n",
       "      <td>2009</td>\n",
       "      <td>10</td>\n",
       "      <td>7.0</td>\n",
       "      <td>23.0</td>\n",
       "      <td>16.258065</td>\n",
       "      <td>20.064516</td>\n",
       "      <td>6.0</td>\n",
       "      <td>19.0</td>\n",
       "      <td>12.870968</td>\n",
       "      <td>14.582796</td>\n",
       "      <td>...</td>\n",
       "      <td>110.918280</td>\n",
       "      <td>0</td>\n",
       "      <td>1</td>\n",
       "      <td>0</td>\n",
       "      <td>0</td>\n",
       "      <td>17</td>\n",
       "      <td>13</td>\n",
       "      <td>0</td>\n",
       "      <td>0</td>\n",
       "      <td>0</td>\n",
       "    </tr>\n",
       "    <tr>\n",
       "      <th>2</th>\n",
       "      <td>2009</td>\n",
       "      <td>11</td>\n",
       "      <td>10.0</td>\n",
       "      <td>21.0</td>\n",
       "      <td>13.733333</td>\n",
       "      <td>8.202299</td>\n",
       "      <td>7.0</td>\n",
       "      <td>16.0</td>\n",
       "      <td>10.800000</td>\n",
       "      <td>5.889655</td>\n",
       "      <td>...</td>\n",
       "      <td>108.685057</td>\n",
       "      <td>0</td>\n",
       "      <td>0</td>\n",
       "      <td>0</td>\n",
       "      <td>0</td>\n",
       "      <td>20</td>\n",
       "      <td>10</td>\n",
       "      <td>0</td>\n",
       "      <td>0</td>\n",
       "      <td>0</td>\n",
       "    </tr>\n",
       "  </tbody>\n",
       "</table>\n",
       "<p>3 rows × 83 columns</p>\n",
       "</div>"
      ],
      "text/plain": [
       "   Year Month  Temp high (°C)min  Temp high (°C)max  Temp high (°C)mean  \\\n",
       "0  2009     1               -9.0                8.0            0.741935   \n",
       "1  2009    10                7.0               23.0           16.258065   \n",
       "2  2009    11               10.0               21.0           13.733333   \n",
       "\n",
       "   Temp high (°C)var  Temp avg (°C)min  Temp avg (°C)max  Temp avg (°C)mean  \\\n",
       "0          16.664516             -11.0               5.0          -2.096774   \n",
       "1          20.064516               6.0              19.0          12.870968   \n",
       "2           8.202299               7.0              16.0          10.800000   \n",
       "\n",
       "   Temp avg (°C)var      ...       Wind (km/h) highvar  Fog  Fog , Rain  \\\n",
       "0         13.956989      ...                 96.625806    0           0   \n",
       "1         14.582796      ...                110.918280    0           1   \n",
       "2          5.889655      ...                108.685057    0           0   \n",
       "\n",
       "   Fog , Rain , Snow  Fog , Snow  Other  Rain  Rain , Snow  Snow  Thunderstorm  \n",
       "0                  2           2     21     3            0     3             0  \n",
       "1                  0           0     17    13            0     0             0  \n",
       "2                  0           0     20    10            0     0             0  \n",
       "\n",
       "[3 rows x 83 columns]"
      ]
     },
     "execution_count": 16,
     "metadata": {},
     "output_type": "execute_result"
    }
   ],
   "source": [
    "weatherData_full = weather_features.merge(weatherEvent_pivot, left_on=['Year', 'Month'], right_on=['Year', 'Month'], how='inner')\n",
    "weatherData_full.head(3)"
   ]
  },
  {
   "cell_type": "code",
   "execution_count": 17,
   "metadata": {
    "scrolled": true
   },
   "outputs": [
    {
     "data": {
      "text/plain": [
       "Year                       0\n",
       "Month                      0\n",
       "Temp high (°C)min          0\n",
       "Temp high (°C)max          0\n",
       "Temp high (°C)mean         0\n",
       "Temp high (°C)var          0\n",
       "Temp avg (°C)min           0\n",
       "Temp avg (°C)max           0\n",
       "Temp avg (°C)mean          0\n",
       "Temp avg (°C)var           0\n",
       "Temp low (°C)min           0\n",
       "Temp low (°C)max           0\n",
       "Temp low (°C)mean          0\n",
       "Temp low (°C)var           0\n",
       "Dew Point high (°C)min     0\n",
       "Dew Point high (°C)max     0\n",
       "Dew Point high (°C)mean    0\n",
       "Dew Point high (°C)var     0\n",
       "Dew Point avg (°C)min      0\n",
       "Dew Point avg (°C)max      0\n",
       "Dew Point avg (°C)mean     0\n",
       "Dew Point avg (°C)var      0\n",
       "Dew Point low (°C)min      0\n",
       "Dew Point low (°C)max      0\n",
       "Dew Point low (°C)mean     0\n",
       "Dew Point low (°C)var      0\n",
       "Humidity_highmin           0\n",
       "Humidity_highmax           0\n",
       "Humidity_highmean          0\n",
       "Humidity_highvar           0\n",
       "                          ..\n",
       "Visibility (km) highvar    0\n",
       "Visibility (km) avgmin     0\n",
       "Visibility (km) avgmax     0\n",
       "Visibility (km) avgmean    0\n",
       "Visibility (km) avgvar     0\n",
       "Visibility (km) lowmin     0\n",
       "Visibility (km) lowmax     0\n",
       "Visibility (km) lowmean    0\n",
       "Visibility (km) lowvar     0\n",
       "Wind (km/h) lowmin         0\n",
       "Wind (km/h) lowmax         0\n",
       "Wind (km/h) lowmean        0\n",
       "Wind (km/h) lowvar         0\n",
       "Wind (km/h) avgmin         0\n",
       "Wind (km/h) avgmax         0\n",
       "Wind (km/h) avgmean        0\n",
       "Wind (km/h) avgvar         0\n",
       "Wind (km/h) highmin        0\n",
       "Wind (km/h) highmax        0\n",
       "Wind (km/h) highmean       0\n",
       "Wind (km/h) highvar        0\n",
       "Fog                        0\n",
       "Fog , Rain                 0\n",
       "Fog , Rain , Snow          0\n",
       "Fog , Snow                 0\n",
       "Other                      0\n",
       "Rain                       0\n",
       "Rain , Snow                0\n",
       "Snow                       0\n",
       "Thunderstorm               0\n",
       "Length: 83, dtype: int64"
      ]
     },
     "execution_count": 17,
     "metadata": {},
     "output_type": "execute_result"
    }
   ],
   "source": [
    "weatherData_full = weatherData_full.fillna(0)\n",
    "weatherData_full.isnull().sum()"
   ]
  },
  {
   "cell_type": "code",
   "execution_count": 18,
   "metadata": {
    "collapsed": true
   },
   "outputs": [],
   "source": [
    "weatherData_full.to_csv('C:\\\\Users\\\\HP\\\\Desktop\\\\PHD Hackathon\\\\Data Science\\\\PHD Models\\\\Weather_Features\\\\weatherData_full.csv', index=False)"
   ]
  },
  {
   "cell_type": "markdown",
   "metadata": {},
   "source": [
    "### Extract Date"
   ]
  },
  {
   "cell_type": "code",
   "execution_count": 19,
   "metadata": {
    "collapsed": true
   },
   "outputs": [],
   "source": [
    "weatherDataDate = weatherData.copy()"
   ]
  },
  {
   "cell_type": "code",
   "execution_count": 20,
   "metadata": {
    "scrolled": true
   },
   "outputs": [
    {
     "data": {
      "text/plain": [
       "Year                      int64\n",
       "Month                    object\n",
       "Day                       int64\n",
       "Temp high (°C)          float64\n",
       "Temp avg (°C)           float64\n",
       "Temp low (°C)           float64\n",
       "Dew Point high (°C)     float64\n",
       "Dew Point avg (°C)      float64\n",
       "Dew Point low (°C)      float64\n",
       "Humidity_high           float64\n",
       "Humidity_avg            float64\n",
       "Humidity_low            float64\n",
       "Sea Level Press high    float64\n",
       "Sea Level Press avg     float64\n",
       "Sea Level Press low     float64\n",
       "Visibility (km) high    float64\n",
       "Visibility (km) avg     float64\n",
       "Visibility (km) low     float64\n",
       "Wind (km/h) low         float64\n",
       "Wind (km/h) avg         float64\n",
       "Wind (km/h) high        float64\n",
       "Precip (mm) sum         float64\n",
       "WeatherEvent             object\n",
       "dummy                     int64\n",
       "dtype: object"
      ]
     },
     "execution_count": 20,
     "metadata": {},
     "output_type": "execute_result"
    }
   ],
   "source": [
    "# weatherDataDate['Year'] = weatherDataDate['Year'].astype('object')\n",
    "# weatherDataDate['Day'] = weatherDataDate['Day'].astype('object')\n",
    "weatherDataDate.dtypes"
   ]
  },
  {
   "cell_type": "code",
   "execution_count": 21,
   "metadata": {
    "scrolled": false
   },
   "outputs": [
    {
     "data": {
      "text/html": [
       "<div>\n",
       "<style>\n",
       "    .dataframe thead tr:only-child th {\n",
       "        text-align: right;\n",
       "    }\n",
       "\n",
       "    .dataframe thead th {\n",
       "        text-align: left;\n",
       "    }\n",
       "\n",
       "    .dataframe tbody tr th {\n",
       "        vertical-align: top;\n",
       "    }\n",
       "</style>\n",
       "<table border=\"1\" class=\"dataframe\">\n",
       "  <thead>\n",
       "    <tr style=\"text-align: right;\">\n",
       "      <th></th>\n",
       "      <th>Year</th>\n",
       "      <th>Month</th>\n",
       "      <th>Day</th>\n",
       "      <th>Temp high (°C)</th>\n",
       "      <th>Temp avg (°C)</th>\n",
       "      <th>Temp low (°C)</th>\n",
       "      <th>Dew Point high (°C)</th>\n",
       "      <th>Dew Point avg (°C)</th>\n",
       "      <th>Dew Point low (°C)</th>\n",
       "      <th>Humidity_high</th>\n",
       "      <th>...</th>\n",
       "      <th>Visibility (km) high</th>\n",
       "      <th>Visibility (km) avg</th>\n",
       "      <th>Visibility (km) low</th>\n",
       "      <th>Wind (km/h) low</th>\n",
       "      <th>Wind (km/h) avg</th>\n",
       "      <th>Wind (km/h) high</th>\n",
       "      <th>Precip (mm) sum</th>\n",
       "      <th>WeatherEvent</th>\n",
       "      <th>dummy</th>\n",
       "      <th>Date</th>\n",
       "    </tr>\n",
       "  </thead>\n",
       "  <tbody>\n",
       "    <tr>\n",
       "      <th>0</th>\n",
       "      <td>2009</td>\n",
       "      <td>1</td>\n",
       "      <td>1</td>\n",
       "      <td>-3.0</td>\n",
       "      <td>-6.0</td>\n",
       "      <td>-9.0</td>\n",
       "      <td>-16.0</td>\n",
       "      <td>-17.0</td>\n",
       "      <td>-19.0</td>\n",
       "      <td>54.0</td>\n",
       "      <td>...</td>\n",
       "      <td>16.0</td>\n",
       "      <td>16.0</td>\n",
       "      <td>16.0</td>\n",
       "      <td>37.0</td>\n",
       "      <td>18.0</td>\n",
       "      <td>60.0</td>\n",
       "      <td>0.00</td>\n",
       "      <td>Other</td>\n",
       "      <td>1</td>\n",
       "      <td>2009-01-01</td>\n",
       "    </tr>\n",
       "    <tr>\n",
       "      <th>1</th>\n",
       "      <td>2009</td>\n",
       "      <td>1</td>\n",
       "      <td>2</td>\n",
       "      <td>1.0</td>\n",
       "      <td>-2.0</td>\n",
       "      <td>-5.0</td>\n",
       "      <td>-3.0</td>\n",
       "      <td>-7.0</td>\n",
       "      <td>-17.0</td>\n",
       "      <td>78.0</td>\n",
       "      <td>...</td>\n",
       "      <td>16.0</td>\n",
       "      <td>13.0</td>\n",
       "      <td>2.0</td>\n",
       "      <td>27.0</td>\n",
       "      <td>10.0</td>\n",
       "      <td>48.0</td>\n",
       "      <td>0.01</td>\n",
       "      <td>Snow</td>\n",
       "      <td>1</td>\n",
       "      <td>2009-01-02</td>\n",
       "    </tr>\n",
       "    <tr>\n",
       "      <th>2</th>\n",
       "      <td>2009</td>\n",
       "      <td>1</td>\n",
       "      <td>3</td>\n",
       "      <td>3.0</td>\n",
       "      <td>1.0</td>\n",
       "      <td>-2.0</td>\n",
       "      <td>-5.0</td>\n",
       "      <td>-9.0</td>\n",
       "      <td>-13.0</td>\n",
       "      <td>72.0</td>\n",
       "      <td>...</td>\n",
       "      <td>16.0</td>\n",
       "      <td>16.0</td>\n",
       "      <td>16.0</td>\n",
       "      <td>27.0</td>\n",
       "      <td>16.0</td>\n",
       "      <td>42.0</td>\n",
       "      <td>0.01</td>\n",
       "      <td>Other</td>\n",
       "      <td>1</td>\n",
       "      <td>2009-01-03</td>\n",
       "    </tr>\n",
       "    <tr>\n",
       "      <th>3</th>\n",
       "      <td>2009</td>\n",
       "      <td>1</td>\n",
       "      <td>4</td>\n",
       "      <td>6.0</td>\n",
       "      <td>1.0</td>\n",
       "      <td>-4.0</td>\n",
       "      <td>-10.0</td>\n",
       "      <td>-12.0</td>\n",
       "      <td>-13.0</td>\n",
       "      <td>55.0</td>\n",
       "      <td>...</td>\n",
       "      <td>16.0</td>\n",
       "      <td>16.0</td>\n",
       "      <td>16.0</td>\n",
       "      <td>32.0</td>\n",
       "      <td>12.0</td>\n",
       "      <td>40.0</td>\n",
       "      <td>0.00</td>\n",
       "      <td>Other</td>\n",
       "      <td>1</td>\n",
       "      <td>2009-01-04</td>\n",
       "    </tr>\n",
       "    <tr>\n",
       "      <th>4</th>\n",
       "      <td>2009</td>\n",
       "      <td>1</td>\n",
       "      <td>5</td>\n",
       "      <td>6.0</td>\n",
       "      <td>5.0</td>\n",
       "      <td>3.0</td>\n",
       "      <td>-1.0</td>\n",
       "      <td>-5.0</td>\n",
       "      <td>-16.0</td>\n",
       "      <td>62.0</td>\n",
       "      <td>...</td>\n",
       "      <td>16.0</td>\n",
       "      <td>16.0</td>\n",
       "      <td>16.0</td>\n",
       "      <td>23.0</td>\n",
       "      <td>11.0</td>\n",
       "      <td>34.0</td>\n",
       "      <td>0.01</td>\n",
       "      <td>Other</td>\n",
       "      <td>1</td>\n",
       "      <td>2009-01-05</td>\n",
       "    </tr>\n",
       "  </tbody>\n",
       "</table>\n",
       "<p>5 rows × 25 columns</p>\n",
       "</div>"
      ],
      "text/plain": [
       "   Year Month  Day  Temp high (°C)  Temp avg (°C)  Temp low (°C)  \\\n",
       "0  2009     1    1            -3.0           -6.0           -9.0   \n",
       "1  2009     1    2             1.0           -2.0           -5.0   \n",
       "2  2009     1    3             3.0            1.0           -2.0   \n",
       "3  2009     1    4             6.0            1.0           -4.0   \n",
       "4  2009     1    5             6.0            5.0            3.0   \n",
       "\n",
       "   Dew Point high (°C)  Dew Point avg (°C)  Dew Point low (°C)  Humidity_high  \\\n",
       "0                -16.0               -17.0               -19.0           54.0   \n",
       "1                 -3.0                -7.0               -17.0           78.0   \n",
       "2                 -5.0                -9.0               -13.0           72.0   \n",
       "3                -10.0               -12.0               -13.0           55.0   \n",
       "4                 -1.0                -5.0               -16.0           62.0   \n",
       "\n",
       "     ...      Visibility (km) high  Visibility (km) avg  Visibility (km) low  \\\n",
       "0    ...                      16.0                 16.0                 16.0   \n",
       "1    ...                      16.0                 13.0                  2.0   \n",
       "2    ...                      16.0                 16.0                 16.0   \n",
       "3    ...                      16.0                 16.0                 16.0   \n",
       "4    ...                      16.0                 16.0                 16.0   \n",
       "\n",
       "   Wind (km/h) low  Wind (km/h) avg  Wind (km/h) high  Precip (mm) sum  \\\n",
       "0             37.0             18.0              60.0             0.00   \n",
       "1             27.0             10.0              48.0             0.01   \n",
       "2             27.0             16.0              42.0             0.01   \n",
       "3             32.0             12.0              40.0             0.00   \n",
       "4             23.0             11.0              34.0             0.01   \n",
       "\n",
       "   WeatherEvent  dummy       Date  \n",
       "0         Other      1 2009-01-01  \n",
       "1          Snow      1 2009-01-02  \n",
       "2         Other      1 2009-01-03  \n",
       "3         Other      1 2009-01-04  \n",
       "4         Other      1 2009-01-05  \n",
       "\n",
       "[5 rows x 25 columns]"
      ]
     },
     "execution_count": 21,
     "metadata": {},
     "output_type": "execute_result"
    }
   ],
   "source": [
    "weatherDataDate['Date'] = weatherDataDate['Year'].map(str) + \"-\" + weatherDataDate['Month'].map(str)+\"-\"+weatherDataDate['Day'].map(str)\n",
    "weatherDataDate['Date'] = pd.to_datetime(weatherDataDate['Date'], format='%Y-%m-%d')\n",
    "weatherDataDate.head()"
   ]
  },
  {
   "cell_type": "code",
   "execution_count": 73,
   "metadata": {
    "collapsed": true
   },
   "outputs": [],
   "source": [
    "# replace_values = {'Other':9, 'Rain':1, 'Fog , Rain':2, 'Snow':3, 'Fog , Snow':4,  \n",
    "#                   'Rain , Snow':5, 'Fog , Rain , Snow':6, 'Fog':7, 'Thunderstorm':8}\n",
    "# weatherDataDate['WeatherEvent'] = weatherDataDate['WeatherEvent'].apply(lambda x: replace_values[x])\n",
    "# weatherDataDate.head(3)"
   ]
  },
  {
   "cell_type": "code",
   "execution_count": null,
   "metadata": {
    "collapsed": true
   },
   "outputs": [],
   "source": []
  },
  {
   "cell_type": "code",
   "execution_count": 83,
   "metadata": {
    "collapsed": true
   },
   "outputs": [],
   "source": [
    "#weatherData_full.to_csv('C:\\\\Users\\\\HP\\\\Desktop\\\\PHD Hackathon\\\\Data Science\\\\PHD Models\\\\Weather_Features\\\\weatherData_full.csv')"
   ]
  },
  {
   "cell_type": "markdown",
   "metadata": {},
   "source": [
    "### Economic Features"
   ]
  },
  {
   "cell_type": "code",
   "execution_count": 2,
   "metadata": {},
   "outputs": [
    {
     "data": {
      "text/html": [
       "<div>\n",
       "<style>\n",
       "    .dataframe thead tr:only-child th {\n",
       "        text-align: right;\n",
       "    }\n",
       "\n",
       "    .dataframe thead th {\n",
       "        text-align: left;\n",
       "    }\n",
       "\n",
       "    .dataframe tbody tr th {\n",
       "        vertical-align: top;\n",
       "    }\n",
       "</style>\n",
       "<table border=\"1\" class=\"dataframe\">\n",
       "  <thead>\n",
       "    <tr style=\"text-align: right;\">\n",
       "      <th></th>\n",
       "      <th>Year-Month</th>\n",
       "      <th>Monthly Nominal GDP Index (inMillion$)</th>\n",
       "      <th>Monthly Real GDP Index (inMillion$)</th>\n",
       "      <th>CPI</th>\n",
       "      <th>PartyInPower</th>\n",
       "      <th>unemployment rate</th>\n",
       "      <th>CommercialBankInterestRateonCreditCardPlans</th>\n",
       "      <th>Finance Rate on Personal Loans at Commercial Banks, 24 Month Loan</th>\n",
       "      <th>Earnings or wages  in dollars per hour</th>\n",
       "      <th>AdvertisingExpenses (in Thousand Dollars)</th>\n",
       "      <th>Cotton Monthly Price - US cents per Pound(lbs)</th>\n",
       "      <th>Change(in%)</th>\n",
       "      <th>Average upland planted(million acres)</th>\n",
       "      <th>Average upland harvested(million acres)</th>\n",
       "      <th>yieldperharvested acre</th>\n",
       "      <th>Production (in  480-lb netweright in million bales)</th>\n",
       "      <th>Mill use  (in  480-lb netweright in million bales)</th>\n",
       "      <th>Exports</th>\n",
       "    </tr>\n",
       "  </thead>\n",
       "  <tbody>\n",
       "    <tr>\n",
       "      <th>91</th>\n",
       "      <td>2016-08-01</td>\n",
       "      <td>18741.599947</td>\n",
       "      <td>16797.206610</td>\n",
       "      <td>264.160</td>\n",
       "      <td>Democrats</td>\n",
       "      <td>4.9</td>\n",
       "      <td>12.51</td>\n",
       "      <td>9.64</td>\n",
       "      <td>25.52</td>\n",
       "      <td>NaN</td>\n",
       "      <td>80.26</td>\n",
       "      <td>-0.99</td>\n",
       "      <td>9.824</td>\n",
       "      <td>9.340</td>\n",
       "      <td>787</td>\n",
       "      <td>15.314</td>\n",
       "      <td>3.575</td>\n",
       "      <td>10.950</td>\n",
       "    </tr>\n",
       "    <tr>\n",
       "      <th>92</th>\n",
       "      <td>2016-09-01</td>\n",
       "      <td>18840.309646</td>\n",
       "      <td>16852.562745</td>\n",
       "      <td>264.602</td>\n",
       "      <td>Democrats</td>\n",
       "      <td>4.9</td>\n",
       "      <td>12.51</td>\n",
       "      <td>9.64</td>\n",
       "      <td>25.74</td>\n",
       "      <td>NaN</td>\n",
       "      <td>77.86</td>\n",
       "      <td>-2.99</td>\n",
       "      <td>9.950</td>\n",
       "      <td>9.464</td>\n",
       "      <td>790</td>\n",
       "      <td>15.580</td>\n",
       "      <td>3.475</td>\n",
       "      <td>10.950</td>\n",
       "    </tr>\n",
       "    <tr>\n",
       "      <th>93</th>\n",
       "      <td>2016-10-01</td>\n",
       "      <td>18740.780023</td>\n",
       "      <td>16725.460098</td>\n",
       "      <td>264.738</td>\n",
       "      <td>Democrats</td>\n",
       "      <td>4.8</td>\n",
       "      <td>12.51</td>\n",
       "      <td>9.64</td>\n",
       "      <td>26.04</td>\n",
       "      <td>NaN</td>\n",
       "      <td>78.52</td>\n",
       "      <td>0.85</td>\n",
       "      <td>9.950</td>\n",
       "      <td>9.464</td>\n",
       "      <td>785</td>\n",
       "      <td>15.472</td>\n",
       "      <td>3.475</td>\n",
       "      <td>11.425</td>\n",
       "    </tr>\n",
       "    <tr>\n",
       "      <th>94</th>\n",
       "      <td>2016-11-01</td>\n",
       "      <td>18960.461568</td>\n",
       "      <td>16910.896330</td>\n",
       "      <td>265.203</td>\n",
       "      <td>Democrats</td>\n",
       "      <td>4.6</td>\n",
       "      <td>12.41</td>\n",
       "      <td>9.45</td>\n",
       "      <td>25.87</td>\n",
       "      <td>NaN</td>\n",
       "      <td>78.92</td>\n",
       "      <td>0.51</td>\n",
       "      <td>9.950</td>\n",
       "      <td>9.464</td>\n",
       "      <td>791</td>\n",
       "      <td>15.600</td>\n",
       "      <td>3.475</td>\n",
       "      <td>11.425</td>\n",
       "    </tr>\n",
       "    <tr>\n",
       "      <th>95</th>\n",
       "      <td>2016-12-01</td>\n",
       "      <td>19015.393408</td>\n",
       "      <td>16918.050624</td>\n",
       "      <td>265.421</td>\n",
       "      <td>Democrats</td>\n",
       "      <td>4.7</td>\n",
       "      <td>12.41</td>\n",
       "      <td>9.45</td>\n",
       "      <td>25.90</td>\n",
       "      <td>NaN</td>\n",
       "      <td>79.50</td>\n",
       "      <td>0.73</td>\n",
       "      <td>9.950</td>\n",
       "      <td>9.464</td>\n",
       "      <td>810</td>\n",
       "      <td>15.962</td>\n",
       "      <td>3.275</td>\n",
       "      <td>11.600</td>\n",
       "    </tr>\n",
       "  </tbody>\n",
       "</table>\n",
       "</div>"
      ],
      "text/plain": [
       "   Year-Month  Monthly Nominal GDP Index (inMillion$)  \\\n",
       "91 2016-08-01                            18741.599947   \n",
       "92 2016-09-01                            18840.309646   \n",
       "93 2016-10-01                            18740.780023   \n",
       "94 2016-11-01                            18960.461568   \n",
       "95 2016-12-01                            19015.393408   \n",
       "\n",
       "    Monthly Real GDP Index (inMillion$)      CPI PartyInPower  \\\n",
       "91                         16797.206610  264.160    Democrats   \n",
       "92                         16852.562745  264.602    Democrats   \n",
       "93                         16725.460098  264.738    Democrats   \n",
       "94                         16910.896330  265.203    Democrats   \n",
       "95                         16918.050624  265.421    Democrats   \n",
       "\n",
       "    unemployment rate  CommercialBankInterestRateonCreditCardPlans  \\\n",
       "91                4.9                                        12.51   \n",
       "92                4.9                                        12.51   \n",
       "93                4.8                                        12.51   \n",
       "94                4.6                                        12.41   \n",
       "95                4.7                                        12.41   \n",
       "\n",
       "    Finance Rate on Personal Loans at Commercial Banks, 24 Month Loan  \\\n",
       "91                                               9.64                   \n",
       "92                                               9.64                   \n",
       "93                                               9.64                   \n",
       "94                                               9.45                   \n",
       "95                                               9.45                   \n",
       "\n",
       "    Earnings or wages  in dollars per hour  \\\n",
       "91                                   25.52   \n",
       "92                                   25.74   \n",
       "93                                   26.04   \n",
       "94                                   25.87   \n",
       "95                                   25.90   \n",
       "\n",
       "    AdvertisingExpenses (in Thousand Dollars)  \\\n",
       "91                                        NaN   \n",
       "92                                        NaN   \n",
       "93                                        NaN   \n",
       "94                                        NaN   \n",
       "95                                        NaN   \n",
       "\n",
       "    Cotton Monthly Price - US cents per Pound(lbs)  Change(in%)  \\\n",
       "91                                           80.26        -0.99   \n",
       "92                                           77.86        -2.99   \n",
       "93                                           78.52         0.85   \n",
       "94                                           78.92         0.51   \n",
       "95                                           79.50         0.73   \n",
       "\n",
       "    Average upland planted(million acres)  \\\n",
       "91                                  9.824   \n",
       "92                                  9.950   \n",
       "93                                  9.950   \n",
       "94                                  9.950   \n",
       "95                                  9.950   \n",
       "\n",
       "    Average upland harvested(million acres)  yieldperharvested acre  \\\n",
       "91                                    9.340                     787   \n",
       "92                                    9.464                     790   \n",
       "93                                    9.464                     785   \n",
       "94                                    9.464                     791   \n",
       "95                                    9.464                     810   \n",
       "\n",
       "    Production (in  480-lb netweright in million bales)  \\\n",
       "91                                             15.314     \n",
       "92                                             15.580     \n",
       "93                                             15.472     \n",
       "94                                             15.600     \n",
       "95                                             15.962     \n",
       "\n",
       "    Mill use  (in  480-lb netweright in million bales)  Exports  \n",
       "91                                              3.575    10.950  \n",
       "92                                              3.475    10.950  \n",
       "93                                              3.475    11.425  \n",
       "94                                              3.475    11.425  \n",
       "95                                              3.275    11.600  "
      ]
     },
     "execution_count": 2,
     "metadata": {},
     "output_type": "execute_result"
    }
   ],
   "source": [
    "economicData = pd.read_excel('C:\\\\Users\\\\HP\\Desktop\\\\PHD Hackathon\\\\Data Science\\\\PhD_Train_Data\\\\MacroEconomicData.xlsx',\n",
    "                             na_values=['?', ' '], parse_dates=['Year-Month'])\n",
    "economicData.tail()"
   ]
  },
  {
   "cell_type": "code",
   "execution_count": 3,
   "metadata": {
    "scrolled": true
   },
   "outputs": [
    {
     "data": {
      "text/html": [
       "<div>\n",
       "<style>\n",
       "    .dataframe thead tr:only-child th {\n",
       "        text-align: right;\n",
       "    }\n",
       "\n",
       "    .dataframe thead th {\n",
       "        text-align: left;\n",
       "    }\n",
       "\n",
       "    .dataframe tbody tr th {\n",
       "        vertical-align: top;\n",
       "    }\n",
       "</style>\n",
       "<table border=\"1\" class=\"dataframe\">\n",
       "  <thead>\n",
       "    <tr style=\"text-align: right;\">\n",
       "      <th></th>\n",
       "      <th>Year-Month</th>\n",
       "      <th>Monthly Nominal GDP Index (inMillion$)</th>\n",
       "      <th>Monthly Real GDP Index (inMillion$)</th>\n",
       "      <th>CPI</th>\n",
       "      <th>PartyInPower</th>\n",
       "      <th>unemployment rate</th>\n",
       "      <th>CommercialBankInterestRateonCreditCardPlans</th>\n",
       "      <th>Finance Rate on Personal Loans at Commercial Banks, 24 Month Loan</th>\n",
       "      <th>Earnings or wages  in dollars per hour</th>\n",
       "      <th>AdvertisingExpenses (in Thousand Dollars)</th>\n",
       "      <th>Cotton Monthly Price - US cents per Pound(lbs)</th>\n",
       "      <th>Change(in%)</th>\n",
       "      <th>Average upland planted(million acres)</th>\n",
       "      <th>Average upland harvested(million acres)</th>\n",
       "      <th>yieldperharvested acre</th>\n",
       "      <th>Production (in  480-lb netweright in million bales)</th>\n",
       "      <th>Mill use  (in  480-lb netweright in million bales)</th>\n",
       "      <th>Exports</th>\n",
       "      <th>Year</th>\n",
       "      <th>Month</th>\n",
       "    </tr>\n",
       "  </thead>\n",
       "  <tbody>\n",
       "    <tr>\n",
       "      <th>0</th>\n",
       "      <td>2009-01-01</td>\n",
       "      <td>14421.752895</td>\n",
       "      <td>14407.053343</td>\n",
       "      <td>233.402</td>\n",
       "      <td>Democrats</td>\n",
       "      <td>7.8</td>\n",
       "      <td>12.03</td>\n",
       "      <td>11.44</td>\n",
       "      <td>22.05</td>\n",
       "      <td>137.0</td>\n",
       "      <td>57.70</td>\n",
       "      <td>4.02</td>\n",
       "      <td>9.296</td>\n",
       "      <td>7.559</td>\n",
       "      <td>799</td>\n",
       "      <td>12.589</td>\n",
       "      <td>4.17</td>\n",
       "      <td>11.550</td>\n",
       "      <td>2009</td>\n",
       "      <td>1</td>\n",
       "    </tr>\n",
       "    <tr>\n",
       "      <th>1</th>\n",
       "      <td>2009-02-01</td>\n",
       "      <td>14389.200466</td>\n",
       "      <td>14366.176571</td>\n",
       "      <td>234.663</td>\n",
       "      <td>Democrats</td>\n",
       "      <td>8.3</td>\n",
       "      <td>12.97</td>\n",
       "      <td>11.05</td>\n",
       "      <td>22.22</td>\n",
       "      <td>200.0</td>\n",
       "      <td>55.21</td>\n",
       "      <td>-4.32</td>\n",
       "      <td>9.296</td>\n",
       "      <td>7.559</td>\n",
       "      <td>799</td>\n",
       "      <td>12.589</td>\n",
       "      <td>3.87</td>\n",
       "      <td>11.100</td>\n",
       "      <td>2009</td>\n",
       "      <td>2</td>\n",
       "    </tr>\n",
       "    <tr>\n",
       "      <th>2</th>\n",
       "      <td>2009-03-01</td>\n",
       "      <td>14340.701639</td>\n",
       "      <td>14351.786822</td>\n",
       "      <td>235.067</td>\n",
       "      <td>Democrats</td>\n",
       "      <td>8.7</td>\n",
       "      <td>12.97</td>\n",
       "      <td>11.05</td>\n",
       "      <td>22.22</td>\n",
       "      <td>NaN</td>\n",
       "      <td>51.50</td>\n",
       "      <td>-6.72</td>\n",
       "      <td>9.296</td>\n",
       "      <td>7.559</td>\n",
       "      <td>799</td>\n",
       "      <td>12.589</td>\n",
       "      <td>3.72</td>\n",
       "      <td>11.650</td>\n",
       "      <td>2009</td>\n",
       "      <td>3</td>\n",
       "    </tr>\n",
       "    <tr>\n",
       "      <th>3</th>\n",
       "      <td>2009-04-01</td>\n",
       "      <td>14326.815525</td>\n",
       "      <td>14351.601731</td>\n",
       "      <td>235.582</td>\n",
       "      <td>Democrats</td>\n",
       "      <td>9.0</td>\n",
       "      <td>12.97</td>\n",
       "      <td>11.05</td>\n",
       "      <td>22.13</td>\n",
       "      <td>214.0</td>\n",
       "      <td>56.78</td>\n",
       "      <td>10.25</td>\n",
       "      <td>9.296</td>\n",
       "      <td>7.559</td>\n",
       "      <td>787</td>\n",
       "      <td>12.400</td>\n",
       "      <td>3.62</td>\n",
       "      <td>12.225</td>\n",
       "      <td>2009</td>\n",
       "      <td>4</td>\n",
       "    </tr>\n",
       "    <tr>\n",
       "      <th>4</th>\n",
       "      <td>2009-05-01</td>\n",
       "      <td>14345.904809</td>\n",
       "      <td>14368.123959</td>\n",
       "      <td>235.975</td>\n",
       "      <td>Democrats</td>\n",
       "      <td>9.4</td>\n",
       "      <td>13.32</td>\n",
       "      <td>11.25</td>\n",
       "      <td>22.04</td>\n",
       "      <td>NaN</td>\n",
       "      <td>61.95</td>\n",
       "      <td>9.11</td>\n",
       "      <td>9.297</td>\n",
       "      <td>7.400</td>\n",
       "      <td>803</td>\n",
       "      <td>12.384</td>\n",
       "      <td>3.52</td>\n",
       "      <td>12.300</td>\n",
       "      <td>2009</td>\n",
       "      <td>5</td>\n",
       "    </tr>\n",
       "  </tbody>\n",
       "</table>\n",
       "</div>"
      ],
      "text/plain": [
       "  Year-Month  Monthly Nominal GDP Index (inMillion$)  \\\n",
       "0 2009-01-01                            14421.752895   \n",
       "1 2009-02-01                            14389.200466   \n",
       "2 2009-03-01                            14340.701639   \n",
       "3 2009-04-01                            14326.815525   \n",
       "4 2009-05-01                            14345.904809   \n",
       "\n",
       "   Monthly Real GDP Index (inMillion$)      CPI PartyInPower  \\\n",
       "0                         14407.053343  233.402    Democrats   \n",
       "1                         14366.176571  234.663    Democrats   \n",
       "2                         14351.786822  235.067    Democrats   \n",
       "3                         14351.601731  235.582    Democrats   \n",
       "4                         14368.123959  235.975    Democrats   \n",
       "\n",
       "   unemployment rate  CommercialBankInterestRateonCreditCardPlans  \\\n",
       "0                7.8                                        12.03   \n",
       "1                8.3                                        12.97   \n",
       "2                8.7                                        12.97   \n",
       "3                9.0                                        12.97   \n",
       "4                9.4                                        13.32   \n",
       "\n",
       "   Finance Rate on Personal Loans at Commercial Banks, 24 Month Loan  \\\n",
       "0                                              11.44                   \n",
       "1                                              11.05                   \n",
       "2                                              11.05                   \n",
       "3                                              11.05                   \n",
       "4                                              11.25                   \n",
       "\n",
       "   Earnings or wages  in dollars per hour  \\\n",
       "0                                   22.05   \n",
       "1                                   22.22   \n",
       "2                                   22.22   \n",
       "3                                   22.13   \n",
       "4                                   22.04   \n",
       "\n",
       "   AdvertisingExpenses (in Thousand Dollars)  \\\n",
       "0                                      137.0   \n",
       "1                                      200.0   \n",
       "2                                        NaN   \n",
       "3                                      214.0   \n",
       "4                                        NaN   \n",
       "\n",
       "   Cotton Monthly Price - US cents per Pound(lbs)  Change(in%)  \\\n",
       "0                                           57.70         4.02   \n",
       "1                                           55.21        -4.32   \n",
       "2                                           51.50        -6.72   \n",
       "3                                           56.78        10.25   \n",
       "4                                           61.95         9.11   \n",
       "\n",
       "   Average upland planted(million acres)  \\\n",
       "0                                  9.296   \n",
       "1                                  9.296   \n",
       "2                                  9.296   \n",
       "3                                  9.296   \n",
       "4                                  9.297   \n",
       "\n",
       "   Average upland harvested(million acres)  yieldperharvested acre  \\\n",
       "0                                    7.559                     799   \n",
       "1                                    7.559                     799   \n",
       "2                                    7.559                     799   \n",
       "3                                    7.559                     787   \n",
       "4                                    7.400                     803   \n",
       "\n",
       "   Production (in  480-lb netweright in million bales)  \\\n",
       "0                                             12.589     \n",
       "1                                             12.589     \n",
       "2                                             12.589     \n",
       "3                                             12.400     \n",
       "4                                             12.384     \n",
       "\n",
       "   Mill use  (in  480-lb netweright in million bales)  Exports  Year  Month  \n",
       "0                                               4.17    11.550  2009      1  \n",
       "1                                               3.87    11.100  2009      2  \n",
       "2                                               3.72    11.650  2009      3  \n",
       "3                                               3.62    12.225  2009      4  \n",
       "4                                               3.52    12.300  2009      5  "
      ]
     },
     "execution_count": 3,
     "metadata": {},
     "output_type": "execute_result"
    }
   ],
   "source": [
    "economicData['Year'] = economicData['Year-Month'].dt.year\n",
    "economicData['Month'] = economicData['Year-Month'].dt.month\n",
    "economicData.head()"
   ]
  },
  {
   "cell_type": "code",
   "execution_count": 4,
   "metadata": {
    "collapsed": true
   },
   "outputs": [],
   "source": [
    "economicData = economicData.drop('PartyInPower', axis=1)    # Contains Only One Value In It.\n",
    "economicData = economicData.drop('Year-Month', axis=1)      # Date and Month are Seperated as New Columns"
   ]
  },
  {
   "cell_type": "code",
   "execution_count": 5,
   "metadata": {},
   "outputs": [
    {
     "name": "stdout",
     "output_type": "stream",
     "text": [
      "<class 'pandas.core.frame.DataFrame'>\n",
      "RangeIndex: 96 entries, 0 to 95\n",
      "Data columns (total 18 columns):\n",
      "Monthly Nominal GDP Index (inMillion$)                               96 non-null float64\n",
      "Monthly Real GDP Index (inMillion$)                                  96 non-null float64\n",
      "CPI                                                                  96 non-null float64\n",
      "unemployment rate                                                    96 non-null float64\n",
      "CommercialBankInterestRateonCreditCardPlans                          96 non-null float64\n",
      "Finance Rate on Personal Loans at Commercial Banks, 24 Month Loan    96 non-null float64\n",
      "Earnings or wages  in dollars per hour                               96 non-null float64\n",
      "AdvertisingExpenses (in Thousand Dollars)                            11 non-null float64\n",
      "Cotton Monthly Price - US cents per Pound(lbs)                       96 non-null float64\n",
      "Change(in%)                                                          96 non-null float64\n",
      "Average upland planted(million acres)                                96 non-null float64\n",
      "Average upland harvested(million acres)                              96 non-null float64\n",
      "yieldperharvested acre                                               96 non-null int64\n",
      "Production (in  480-lb netweright in million bales)                  96 non-null float64\n",
      "Mill use  (in  480-lb netweright in million bales)                   96 non-null float64\n",
      "Exports                                                              96 non-null float64\n",
      "Year                                                                 96 non-null int64\n",
      "Month                                                                96 non-null int64\n",
      "dtypes: float64(15), int64(3)\n",
      "memory usage: 13.6 KB\n"
     ]
    }
   ],
   "source": [
    "economicData.info()"
   ]
  },
  {
   "cell_type": "code",
   "execution_count": 6,
   "metadata": {},
   "outputs": [
    {
     "data": {
      "text/html": [
       "<div>\n",
       "<style>\n",
       "    .dataframe thead tr:only-child th {\n",
       "        text-align: right;\n",
       "    }\n",
       "\n",
       "    .dataframe thead th {\n",
       "        text-align: left;\n",
       "    }\n",
       "\n",
       "    .dataframe tbody tr th {\n",
       "        vertical-align: top;\n",
       "    }\n",
       "</style>\n",
       "<table border=\"1\" class=\"dataframe\">\n",
       "  <thead>\n",
       "    <tr style=\"text-align: right;\">\n",
       "      <th></th>\n",
       "      <th>Monthly Nominal GDP Index (inMillion$)</th>\n",
       "      <th>Monthly Real GDP Index (inMillion$)</th>\n",
       "      <th>CPI</th>\n",
       "      <th>unemployment rate</th>\n",
       "      <th>CommercialBankInterestRateonCreditCardPlans</th>\n",
       "      <th>Finance Rate on Personal Loans at Commercial Banks, 24 Month Loan</th>\n",
       "      <th>Earnings or wages  in dollars per hour</th>\n",
       "      <th>AdvertisingExpenses (in Thousand Dollars)</th>\n",
       "      <th>Cotton Monthly Price - US cents per Pound(lbs)</th>\n",
       "      <th>Change(in%)</th>\n",
       "      <th>Average upland planted(million acres)</th>\n",
       "      <th>Average upland harvested(million acres)</th>\n",
       "      <th>yieldperharvested acre</th>\n",
       "      <th>Production (in  480-lb netweright in million bales)</th>\n",
       "      <th>Mill use  (in  480-lb netweright in million bales)</th>\n",
       "      <th>Exports</th>\n",
       "      <th>Year</th>\n",
       "      <th>Month</th>\n",
       "    </tr>\n",
       "  </thead>\n",
       "  <tbody>\n",
       "    <tr>\n",
       "      <th>0</th>\n",
       "      <td>14421.752895</td>\n",
       "      <td>14407.053343</td>\n",
       "      <td>233.402</td>\n",
       "      <td>7.8</td>\n",
       "      <td>12.03</td>\n",
       "      <td>11.44</td>\n",
       "      <td>22.05</td>\n",
       "      <td>137.0</td>\n",
       "      <td>57.70</td>\n",
       "      <td>4.02</td>\n",
       "      <td>9.296</td>\n",
       "      <td>7.559</td>\n",
       "      <td>799</td>\n",
       "      <td>12.589</td>\n",
       "      <td>4.17</td>\n",
       "      <td>11.550</td>\n",
       "      <td>2009</td>\n",
       "      <td>1</td>\n",
       "    </tr>\n",
       "    <tr>\n",
       "      <th>1</th>\n",
       "      <td>14389.200466</td>\n",
       "      <td>14366.176571</td>\n",
       "      <td>234.663</td>\n",
       "      <td>8.3</td>\n",
       "      <td>12.97</td>\n",
       "      <td>11.05</td>\n",
       "      <td>22.22</td>\n",
       "      <td>200.0</td>\n",
       "      <td>55.21</td>\n",
       "      <td>-4.32</td>\n",
       "      <td>9.296</td>\n",
       "      <td>7.559</td>\n",
       "      <td>799</td>\n",
       "      <td>12.589</td>\n",
       "      <td>3.87</td>\n",
       "      <td>11.100</td>\n",
       "      <td>2009</td>\n",
       "      <td>2</td>\n",
       "    </tr>\n",
       "    <tr>\n",
       "      <th>2</th>\n",
       "      <td>14340.701639</td>\n",
       "      <td>14351.786822</td>\n",
       "      <td>235.067</td>\n",
       "      <td>8.7</td>\n",
       "      <td>12.97</td>\n",
       "      <td>11.05</td>\n",
       "      <td>22.22</td>\n",
       "      <td>NaN</td>\n",
       "      <td>51.50</td>\n",
       "      <td>-6.72</td>\n",
       "      <td>9.296</td>\n",
       "      <td>7.559</td>\n",
       "      <td>799</td>\n",
       "      <td>12.589</td>\n",
       "      <td>3.72</td>\n",
       "      <td>11.650</td>\n",
       "      <td>2009</td>\n",
       "      <td>3</td>\n",
       "    </tr>\n",
       "    <tr>\n",
       "      <th>3</th>\n",
       "      <td>14326.815525</td>\n",
       "      <td>14351.601731</td>\n",
       "      <td>235.582</td>\n",
       "      <td>9.0</td>\n",
       "      <td>12.97</td>\n",
       "      <td>11.05</td>\n",
       "      <td>22.13</td>\n",
       "      <td>214.0</td>\n",
       "      <td>56.78</td>\n",
       "      <td>10.25</td>\n",
       "      <td>9.296</td>\n",
       "      <td>7.559</td>\n",
       "      <td>787</td>\n",
       "      <td>12.400</td>\n",
       "      <td>3.62</td>\n",
       "      <td>12.225</td>\n",
       "      <td>2009</td>\n",
       "      <td>4</td>\n",
       "    </tr>\n",
       "    <tr>\n",
       "      <th>4</th>\n",
       "      <td>14345.904809</td>\n",
       "      <td>14368.123959</td>\n",
       "      <td>235.975</td>\n",
       "      <td>9.4</td>\n",
       "      <td>13.32</td>\n",
       "      <td>11.25</td>\n",
       "      <td>22.04</td>\n",
       "      <td>NaN</td>\n",
       "      <td>61.95</td>\n",
       "      <td>9.11</td>\n",
       "      <td>9.297</td>\n",
       "      <td>7.400</td>\n",
       "      <td>803</td>\n",
       "      <td>12.384</td>\n",
       "      <td>3.52</td>\n",
       "      <td>12.300</td>\n",
       "      <td>2009</td>\n",
       "      <td>5</td>\n",
       "    </tr>\n",
       "  </tbody>\n",
       "</table>\n",
       "</div>"
      ],
      "text/plain": [
       "   Monthly Nominal GDP Index (inMillion$)  \\\n",
       "0                            14421.752895   \n",
       "1                            14389.200466   \n",
       "2                            14340.701639   \n",
       "3                            14326.815525   \n",
       "4                            14345.904809   \n",
       "\n",
       "   Monthly Real GDP Index (inMillion$)      CPI  unemployment rate  \\\n",
       "0                         14407.053343  233.402                7.8   \n",
       "1                         14366.176571  234.663                8.3   \n",
       "2                         14351.786822  235.067                8.7   \n",
       "3                         14351.601731  235.582                9.0   \n",
       "4                         14368.123959  235.975                9.4   \n",
       "\n",
       "   CommercialBankInterestRateonCreditCardPlans  \\\n",
       "0                                        12.03   \n",
       "1                                        12.97   \n",
       "2                                        12.97   \n",
       "3                                        12.97   \n",
       "4                                        13.32   \n",
       "\n",
       "   Finance Rate on Personal Loans at Commercial Banks, 24 Month Loan  \\\n",
       "0                                              11.44                   \n",
       "1                                              11.05                   \n",
       "2                                              11.05                   \n",
       "3                                              11.05                   \n",
       "4                                              11.25                   \n",
       "\n",
       "   Earnings or wages  in dollars per hour  \\\n",
       "0                                   22.05   \n",
       "1                                   22.22   \n",
       "2                                   22.22   \n",
       "3                                   22.13   \n",
       "4                                   22.04   \n",
       "\n",
       "   AdvertisingExpenses (in Thousand Dollars)  \\\n",
       "0                                      137.0   \n",
       "1                                      200.0   \n",
       "2                                        NaN   \n",
       "3                                      214.0   \n",
       "4                                        NaN   \n",
       "\n",
       "   Cotton Monthly Price - US cents per Pound(lbs)  Change(in%)  \\\n",
       "0                                           57.70         4.02   \n",
       "1                                           55.21        -4.32   \n",
       "2                                           51.50        -6.72   \n",
       "3                                           56.78        10.25   \n",
       "4                                           61.95         9.11   \n",
       "\n",
       "   Average upland planted(million acres)  \\\n",
       "0                                  9.296   \n",
       "1                                  9.296   \n",
       "2                                  9.296   \n",
       "3                                  9.296   \n",
       "4                                  9.297   \n",
       "\n",
       "   Average upland harvested(million acres)  yieldperharvested acre  \\\n",
       "0                                    7.559                     799   \n",
       "1                                    7.559                     799   \n",
       "2                                    7.559                     799   \n",
       "3                                    7.559                     787   \n",
       "4                                    7.400                     803   \n",
       "\n",
       "   Production (in  480-lb netweright in million bales)  \\\n",
       "0                                             12.589     \n",
       "1                                             12.589     \n",
       "2                                             12.589     \n",
       "3                                             12.400     \n",
       "4                                             12.384     \n",
       "\n",
       "   Mill use  (in  480-lb netweright in million bales)  Exports  Year  Month  \n",
       "0                                               4.17    11.550  2009      1  \n",
       "1                                               3.87    11.100  2009      2  \n",
       "2                                               3.72    11.650  2009      3  \n",
       "3                                               3.62    12.225  2009      4  \n",
       "4                                               3.52    12.300  2009      5  "
      ]
     },
     "execution_count": 6,
     "metadata": {},
     "output_type": "execute_result"
    }
   ],
   "source": [
    "economicData.head()"
   ]
  },
  {
   "cell_type": "code",
   "execution_count": 7,
   "metadata": {},
   "outputs": [
    {
     "name": "stderr",
     "output_type": "stream",
     "text": [
      "C:\\Users\\HP\\Anaconda3\\lib\\site-packages\\scipy\\stats\\stats.py:1713: FutureWarning: Using a non-tuple sequence for multidimensional indexing is deprecated; use `arr[tuple(seq)]` instead of `arr[seq]`. In the future this will be interpreted as an array index, `arr[np.array(seq)]`, which will result either in an error or a different result.\n",
      "  return np.add.reduce(sorted[indexer] * weights, axis=axis) / sumval\n"
     ]
    },
    {
     "data": {
      "image/png": "[encoded data removed]",
      "text/plain": [
       "<Figure size 432x288 with 1 Axes>"
      ]
     },
     "metadata": {},
     "output_type": "display_data"
    }
   ],
   "source": [
    "sns.distplot(economicData['Cotton Monthly Price - US cents per Pound(lbs)'])\n",
    "plt.show()"
   ]
  },
  {
   "cell_type": "code",
   "execution_count": 8,
   "metadata": {},
   "outputs": [
    {
     "data": {
      "image/png": "[encoded data removed]",
      "text/plain": [
       "<Figure size 432x288 with 1 Axes>"
      ]
     },
     "metadata": {},
     "output_type": "display_data"
    }
   ],
   "source": [
    "plt.hist(x = economicData['Change(in%)'])\n",
    "plt.show()"
   ]
  },
  {
   "cell_type": "code",
   "execution_count": 9,
   "metadata": {},
   "outputs": [
    {
     "data": {
      "image/png": "[encoded data removed]",
      "text/plain": [
       "<Figure size 432x288 with 1 Axes>"
      ]
     },
     "metadata": {},
     "output_type": "display_data"
    }
   ],
   "source": [
    "plt.boxplot(x = economicData['Change(in%)'])\n",
    "plt.show()"
   ]
  },
  {
   "cell_type": "code",
   "execution_count": 18,
   "metadata": {},
   "outputs": [
    {
     "data": {
      "text/plain": [
       "-6.199"
      ]
     },
     "execution_count": 18,
     "metadata": {},
     "output_type": "execute_result"
    }
   ],
   "source": [
    "economicData['Change(in%)'].quantile(0.1)"
   ]
  },
  {
   "cell_type": "code",
   "execution_count": 17,
   "metadata": {},
   "outputs": [
    {
     "data": {
      "image/png": "[encoded data removed]",
      "text/plain": [
       "<Figure size 432x288 with 1 Axes>"
      ]
     },
     "metadata": {},
     "output_type": "display_data"
    }
   ],
   "source": [
    "plt.boxplot(x = economicData['Change(in%)'])\n",
    "plt.show()"
   ]
  },
  {
   "cell_type": "markdown",
   "metadata": {},
   "source": [
    "### Fill Na's and Outliers"
   ]
  },
  {
   "cell_type": "code",
   "execution_count": 15,
   "metadata": {
    "collapsed": true
   },
   "outputs": [],
   "source": [
    "economicData['Cotton Monthly Price - US cents per Pound(lbs)'] = economicData['Cotton Monthly Price - US cents per Pound(lbs)'].where(economicData['Cotton Monthly Price - US cents per Pound(lbs)'] < 79.5, 79.5)         \n",
    "economicData['Change(in%)'] = economicData['Change(in%)'].where(economicData['Change(in%)'] < 0.73, 0.73)     # 99th percentile\n",
    "economicData['Change(in%)'] = economicData['Change(in%)'].where(economicData['Change(in%)'] > -6.199, -6.199) # 1 percentile\n",
    "\n",
    "economicData['yieldperharvested acre'] = economicData['yieldperharvested acre'].where(economicData['yieldperharvested acre'] < 810, 810)\n",
    "economicData['Mill use  (in  480-lb netweright in million bales)'] = economicData['Mill use  (in  480-lb netweright in million bales)'].where(economicData['Mill use  (in  480-lb netweright in million bales)'] < 3.275, 3.275)\n",
    "economicData['Exports'] = economicData['Exports'].where(economicData['Exports'] < 11.6, 11.6)\n"
   ]
  },
  {
   "cell_type": "code",
   "execution_count": 30,
   "metadata": {
    "collapsed": true
   },
   "outputs": [],
   "source": [
    "# economicData['Change(in%)'] = economicData['Change(in%)'].where(economicData['Change(in%)'] < 0.73, 0.73)\n",
    "# economicData['Change(in%)'] = economicData['Change(in%)'].where(economicData['Change(in%)'] > 0, 0)"
   ]
  },
  {
   "cell_type": "code",
   "execution_count": 16,
   "metadata": {},
   "outputs": [
    {
     "data": {
      "image/png": "[encoded data removed]",
      "text/plain": [
       "<Figure size 432x288 with 1 Axes>"
      ]
     },
     "metadata": {},
     "output_type": "display_data"
    }
   ],
   "source": [
    "plt.hist(x = economicData['Change(in%)'])\n",
    "plt.show()"
   ]
  },
  {
   "cell_type": "code",
   "execution_count": null,
   "metadata": {
    "collapsed": true
   },
   "outputs": [],
   "source": []
  },
  {
   "cell_type": "code",
   "execution_count": 19,
   "metadata": {
    "collapsed": true
   },
   "outputs": [],
   "source": [
    "economicData['AdvertisingExpenses (in Thousand Dollars)'] = economicData['AdvertisingExpenses (in Thousand Dollars)'].fillna(0)"
   ]
  },
  {
   "cell_type": "code",
   "execution_count": 20,
   "metadata": {
    "scrolled": false
   },
   "outputs": [
    {
     "name": "stdout",
     "output_type": "stream",
     "text": [
      "<class 'pandas.core.frame.DataFrame'>\n",
      "RangeIndex: 96 entries, 0 to 95\n",
      "Data columns (total 18 columns):\n",
      "Monthly Nominal GDP Index (inMillion$)                               96 non-null float64\n",
      "Monthly Real GDP Index (inMillion$)                                  96 non-null float64\n",
      "CPI                                                                  96 non-null float64\n",
      "unemployment rate                                                    96 non-null float64\n",
      "CommercialBankInterestRateonCreditCardPlans                          96 non-null float64\n",
      "Finance Rate on Personal Loans at Commercial Banks, 24 Month Loan    96 non-null float64\n",
      "Earnings or wages  in dollars per hour                               96 non-null float64\n",
      "AdvertisingExpenses (in Thousand Dollars)                            96 non-null float64\n",
      "Cotton Monthly Price - US cents per Pound(lbs)                       96 non-null float64\n",
      "Change(in%)                                                          96 non-null float64\n",
      "Average upland planted(million acres)                                96 non-null float64\n",
      "Average upland harvested(million acres)                              96 non-null float64\n",
      "yieldperharvested acre                                               96 non-null int64\n",
      "Production (in  480-lb netweright in million bales)                  96 non-null float64\n",
      "Mill use  (in  480-lb netweright in million bales)                   96 non-null float64\n",
      "Exports                                                              96 non-null float64\n",
      "Year                                                                 96 non-null int64\n",
      "Month                                                                96 non-null int64\n",
      "dtypes: float64(15), int64(3)\n",
      "memory usage: 13.6 KB\n"
     ]
    }
   ],
   "source": [
    "economicData.info()"
   ]
  },
  {
   "cell_type": "code",
   "execution_count": 21,
   "metadata": {
    "collapsed": true
   },
   "outputs": [],
   "source": [
    "economicData.to_csv('C:\\\\Users\\\\HP\\\\Desktop\\\\PHD Hackathon\\\\Data Science\\\\PHD Models\\\\Weather_Features\\\\economic_features.csv', index=False)"
   ]
  },
  {
   "cell_type": "markdown",
   "metadata": {},
   "source": [
    "### Holiday Features"
   ]
  },
  {
   "cell_type": "code",
   "execution_count": 35,
   "metadata": {},
   "outputs": [
    {
     "data": {
      "text/html": [
       "<div>\n",
       "<style>\n",
       "    .dataframe thead tr:only-child th {\n",
       "        text-align: right;\n",
       "    }\n",
       "\n",
       "    .dataframe thead th {\n",
       "        text-align: left;\n",
       "    }\n",
       "\n",
       "    .dataframe tbody tr th {\n",
       "        vertical-align: top;\n",
       "    }\n",
       "</style>\n",
       "<table border=\"1\" class=\"dataframe\">\n",
       "  <thead>\n",
       "    <tr style=\"text-align: right;\">\n",
       "      <th></th>\n",
       "      <th>Year</th>\n",
       "      <th>MonthDate</th>\n",
       "      <th>Event</th>\n",
       "      <th>DayCategory</th>\n",
       "    </tr>\n",
       "  </thead>\n",
       "  <tbody>\n",
       "    <tr>\n",
       "      <th>145</th>\n",
       "      <td>2016</td>\n",
       "      <td>2024-11-01</td>\n",
       "      <td>Thanksgiving Day</td>\n",
       "      <td>Federal Holiday</td>\n",
       "    </tr>\n",
       "    <tr>\n",
       "      <th>146</th>\n",
       "      <td>2016</td>\n",
       "      <td>2024-12-01</td>\n",
       "      <td>Christmas Eve</td>\n",
       "      <td>Event</td>\n",
       "    </tr>\n",
       "    <tr>\n",
       "      <th>147</th>\n",
       "      <td>2016</td>\n",
       "      <td>2025-12-01</td>\n",
       "      <td>Christmas Day</td>\n",
       "      <td>Federal Holiday</td>\n",
       "    </tr>\n",
       "    <tr>\n",
       "      <th>148</th>\n",
       "      <td>2016</td>\n",
       "      <td>2026-12-01</td>\n",
       "      <td>'Christmas Day' observed</td>\n",
       "      <td>Federal Holiday</td>\n",
       "    </tr>\n",
       "    <tr>\n",
       "      <th>149</th>\n",
       "      <td>2016</td>\n",
       "      <td>1931-12-01</td>\n",
       "      <td>New Year's Eve</td>\n",
       "      <td>Event</td>\n",
       "    </tr>\n",
       "  </tbody>\n",
       "</table>\n",
       "</div>"
      ],
      "text/plain": [
       "     Year  MonthDate                     Event      DayCategory\n",
       "145  2016 2024-11-01          Thanksgiving Day  Federal Holiday\n",
       "146  2016 2024-12-01             Christmas Eve            Event\n",
       "147  2016 2025-12-01             Christmas Day  Federal Holiday\n",
       "148  2016 2026-12-01  'Christmas Day' observed  Federal Holiday\n",
       "149  2016 1931-12-01            New Year's Eve            Event"
      ]
     },
     "execution_count": 35,
     "metadata": {},
     "output_type": "execute_result"
    }
   ],
   "source": [
    "holiday_data = pd.read_excel('C:\\\\Users\\\\HP\\Desktop\\\\PHD Hackathon\\\\Data Science\\\\PhD_Train_Data\\\\Events_HolidaysData.xlsx')\n",
    "holiday_data.tail()"
   ]
  },
  {
   "cell_type": "code",
   "execution_count": 36,
   "metadata": {
    "collapsed": true
   },
   "outputs": [],
   "source": [
    "holiday_data.MonthDate = holiday_data.MonthDate.astype(str).str[2:7]\n",
    "\n",
    "holiday_data['Month'] = holiday_data['MonthDate'].str[3:5]\n",
    "holiday_data['Day'] = holiday_data['MonthDate'].str[0:2]"
   ]
  },
  {
   "cell_type": "code",
   "execution_count": 37,
   "metadata": {
    "collapsed": true
   },
   "outputs": [],
   "source": [
    "vals_to_replace1 = {'01':'1','02':'2','03':'3','04':'4','05':'5','06':'6','07':'7','08':'8','09':'9','10':'10','11':'11','12':'12'}\n",
    "holiday_data['Month'] = holiday_data['Month'].apply(lambda x: vals_to_replace1[x])"
   ]
  },
  {
   "cell_type": "code",
   "execution_count": 38,
   "metadata": {
    "collapsed": true
   },
   "outputs": [],
   "source": [
    "holiday_data[['Year']] = holiday_data['Year'].astype('int64')\n",
    "holiday_data[['Month']] = holiday_data['Month'].astype('int64')"
   ]
  },
  {
   "cell_type": "code",
   "execution_count": 39,
   "metadata": {},
   "outputs": [
    {
     "data": {
      "text/html": [
       "<div>\n",
       "<style>\n",
       "    .dataframe thead tr:only-child th {\n",
       "        text-align: right;\n",
       "    }\n",
       "\n",
       "    .dataframe thead th {\n",
       "        text-align: left;\n",
       "    }\n",
       "\n",
       "    .dataframe tbody tr th {\n",
       "        vertical-align: top;\n",
       "    }\n",
       "</style>\n",
       "<table border=\"1\" class=\"dataframe\">\n",
       "  <thead>\n",
       "    <tr>\n",
       "      <th></th>\n",
       "      <th></th>\n",
       "      <th colspan=\"2\" halign=\"left\">Day</th>\n",
       "    </tr>\n",
       "    <tr>\n",
       "      <th></th>\n",
       "      <th>DayCategory</th>\n",
       "      <th>Event</th>\n",
       "      <th>Federal Holiday</th>\n",
       "    </tr>\n",
       "    <tr>\n",
       "      <th>Year</th>\n",
       "      <th>Month</th>\n",
       "      <th></th>\n",
       "      <th></th>\n",
       "    </tr>\n",
       "  </thead>\n",
       "  <tbody>\n",
       "    <tr>\n",
       "      <th rowspan=\"5\" valign=\"top\">2009</th>\n",
       "      <th>1</th>\n",
       "      <td>0</td>\n",
       "      <td>2</td>\n",
       "    </tr>\n",
       "    <tr>\n",
       "      <th>2</th>\n",
       "      <td>1</td>\n",
       "      <td>1</td>\n",
       "    </tr>\n",
       "    <tr>\n",
       "      <th>4</th>\n",
       "      <td>1</td>\n",
       "      <td>0</td>\n",
       "    </tr>\n",
       "    <tr>\n",
       "      <th>5</th>\n",
       "      <td>1</td>\n",
       "      <td>1</td>\n",
       "    </tr>\n",
       "    <tr>\n",
       "      <th>6</th>\n",
       "      <td>1</td>\n",
       "      <td>0</td>\n",
       "    </tr>\n",
       "  </tbody>\n",
       "</table>\n",
       "</div>"
      ],
      "text/plain": [
       "              Day                \n",
       "DayCategory Event Federal Holiday\n",
       "Year Month                       \n",
       "2009 1          0               2\n",
       "     2          1               1\n",
       "     4          1               0\n",
       "     5          1               1\n",
       "     6          1               0"
      ]
     },
     "execution_count": 39,
     "metadata": {},
     "output_type": "execute_result"
    }
   ],
   "source": [
    "holiday_pivot = pivot_table(holiday_data, values = ['Day'], index = ['Year', 'Month'], columns = ['DayCategory'], \n",
    "                            aggfunc=np.count_nonzero, fill_value=0)\n",
    "holiday_pivot.head()"
   ]
  },
  {
   "cell_type": "code",
   "execution_count": 40,
   "metadata": {},
   "outputs": [
    {
     "data": {
      "text/html": [
       "<div>\n",
       "<style>\n",
       "    .dataframe thead tr:only-child th {\n",
       "        text-align: right;\n",
       "    }\n",
       "\n",
       "    .dataframe thead th {\n",
       "        text-align: left;\n",
       "    }\n",
       "\n",
       "    .dataframe tbody tr th {\n",
       "        vertical-align: top;\n",
       "    }\n",
       "</style>\n",
       "<table border=\"1\" class=\"dataframe\">\n",
       "  <thead>\n",
       "    <tr style=\"text-align: right;\">\n",
       "      <th></th>\n",
       "      <th>Year</th>\n",
       "      <th>Month</th>\n",
       "      <th>Event</th>\n",
       "      <th>Federal Holiday</th>\n",
       "    </tr>\n",
       "  </thead>\n",
       "  <tbody>\n",
       "    <tr>\n",
       "      <th>0</th>\n",
       "      <td>2009</td>\n",
       "      <td>1</td>\n",
       "      <td>0</td>\n",
       "      <td>2</td>\n",
       "    </tr>\n",
       "    <tr>\n",
       "      <th>1</th>\n",
       "      <td>2009</td>\n",
       "      <td>2</td>\n",
       "      <td>1</td>\n",
       "      <td>1</td>\n",
       "    </tr>\n",
       "    <tr>\n",
       "      <th>2</th>\n",
       "      <td>2009</td>\n",
       "      <td>4</td>\n",
       "      <td>1</td>\n",
       "      <td>0</td>\n",
       "    </tr>\n",
       "    <tr>\n",
       "      <th>3</th>\n",
       "      <td>2009</td>\n",
       "      <td>5</td>\n",
       "      <td>1</td>\n",
       "      <td>1</td>\n",
       "    </tr>\n",
       "    <tr>\n",
       "      <th>4</th>\n",
       "      <td>2009</td>\n",
       "      <td>6</td>\n",
       "      <td>1</td>\n",
       "      <td>0</td>\n",
       "    </tr>\n",
       "  </tbody>\n",
       "</table>\n",
       "</div>"
      ],
      "text/plain": [
       "   Year  Month  Event  Federal Holiday\n",
       "0  2009      1      0                2\n",
       "1  2009      2      1                1\n",
       "2  2009      4      1                0\n",
       "3  2009      5      1                1\n",
       "4  2009      6      1                0"
      ]
     },
     "execution_count": 40,
     "metadata": {},
     "output_type": "execute_result"
    }
   ],
   "source": [
    "holiday_pivot.columns = ['Event', 'Federal Holiday']\n",
    "holiday_pivot = holiday_pivot.reset_index()\n",
    "holiday_pivot.head()"
   ]
  },
  {
   "cell_type": "code",
   "execution_count": 41,
   "metadata": {},
   "outputs": [
    {
     "ename": "NameError",
     "evalue": "name 'holidays' is not defined",
     "output_type": "error",
     "traceback": [
      "\u001b[1;31m---------------------------------------------------------------------------\u001b[0m",
      "\u001b[1;31mNameError\u001b[0m                                 Traceback (most recent call last)",
      "\u001b[1;32m<ipython-input-41-c4cdf159edc0>\u001b[0m in \u001b[0;36m<module>\u001b[1;34m()\u001b[0m\n\u001b[1;32m----> 1\u001b[1;33m \u001b[0mholiday_data\u001b[0m \u001b[1;33m=\u001b[0m \u001b[0mholidays\u001b[0m\u001b[1;33m.\u001b[0m\u001b[0mloc\u001b[0m\u001b[1;33m[\u001b[0m\u001b[1;36m0\u001b[0m\u001b[1;33m:\u001b[0m\u001b[1;36m129\u001b[0m\u001b[1;33m,\u001b[0m \u001b[1;33m]\u001b[0m\u001b[1;33m\u001b[0m\u001b[0m\n\u001b[0m\u001b[0;32m      2\u001b[0m \u001b[0mholiday_data\u001b[0m\u001b[1;33m.\u001b[0m\u001b[0mtail\u001b[0m\u001b[1;33m(\u001b[0m\u001b[1;33m)\u001b[0m\u001b[1;33m\u001b[0m\u001b[0m\n",
      "\u001b[1;31mNameError\u001b[0m: name 'holidays' is not defined"
     ]
    }
   ],
   "source": [
    "holiday_data = holidays.loc[0:129, ]\n",
    "holiday_data.tail()"
   ]
  },
  {
   "cell_type": "code",
   "execution_count": null,
   "metadata": {
    "collapsed": true
   },
   "outputs": [],
   "source": [
    "holiday_pivot['Event_Yes_No'] = holiday_pivot['Event'].apply(lambda x: 'No' if x==0 else 'Yes')\n",
    "holiday_pivot['Federal Holiday_Yes_No'] = holiday_pivot['Federal Holiday'].apply(lambda x: 'No' if x==0 else 'Yes')\n",
    "# holiday_pivot = holiday_pivot.reset_index()\n",
    "holiday_pivot.head()"
   ]
  },
  {
   "cell_type": "code",
   "execution_count": null,
   "metadata": {
    "collapsed": true
   },
   "outputs": [],
   "source": [
    "holiday_pivot.to_csv('C:\\\\Users\\\\HP\\\\Desktop\\\\PHD Hackathon\\\\Data Science\\\\PHD Models\\\\Weather_Features\\\\holidays_features.csv', index=False)"
   ]
  },
  {
   "cell_type": "markdown",
   "metadata": {},
   "source": [
    "### Sales Features"
   ]
  },
  {
   "cell_type": "code",
   "execution_count": 42,
   "metadata": {},
   "outputs": [
    {
     "data": {
      "text/html": [
       "<div>\n",
       "<style>\n",
       "    .dataframe thead tr:only-child th {\n",
       "        text-align: right;\n",
       "    }\n",
       "\n",
       "    .dataframe thead th {\n",
       "        text-align: left;\n",
       "    }\n",
       "\n",
       "    .dataframe tbody tr th {\n",
       "        vertical-align: top;\n",
       "    }\n",
       "</style>\n",
       "<table border=\"1\" class=\"dataframe\">\n",
       "  <thead>\n",
       "    <tr style=\"text-align: right;\">\n",
       "      <th></th>\n",
       "      <th>Year</th>\n",
       "      <th>Month</th>\n",
       "      <th>ProductCategory</th>\n",
       "      <th>Sales(In ThousandDollars)</th>\n",
       "    </tr>\n",
       "  </thead>\n",
       "  <tbody>\n",
       "    <tr>\n",
       "      <th>0</th>\n",
       "      <td>2009</td>\n",
       "      <td>1</td>\n",
       "      <td>WomenClothing</td>\n",
       "      <td>1755.0</td>\n",
       "    </tr>\n",
       "    <tr>\n",
       "      <th>1</th>\n",
       "      <td>2009</td>\n",
       "      <td>1</td>\n",
       "      <td>MenClothing</td>\n",
       "      <td>524.0</td>\n",
       "    </tr>\n",
       "    <tr>\n",
       "      <th>2</th>\n",
       "      <td>2009</td>\n",
       "      <td>1</td>\n",
       "      <td>OtherClothing</td>\n",
       "      <td>936.0</td>\n",
       "    </tr>\n",
       "    <tr>\n",
       "      <th>3</th>\n",
       "      <td>2009</td>\n",
       "      <td>2</td>\n",
       "      <td>WomenClothing</td>\n",
       "      <td>1729.0</td>\n",
       "    </tr>\n",
       "    <tr>\n",
       "      <th>4</th>\n",
       "      <td>2009</td>\n",
       "      <td>2</td>\n",
       "      <td>MenClothing</td>\n",
       "      <td>496.0</td>\n",
       "    </tr>\n",
       "  </tbody>\n",
       "</table>\n",
       "</div>"
      ],
      "text/plain": [
       "   Year  Month ProductCategory  Sales(In ThousandDollars)\n",
       "0  2009      1   WomenClothing                     1755.0\n",
       "1  2009      1     MenClothing                      524.0\n",
       "2  2009      1   OtherClothing                      936.0\n",
       "3  2009      2   WomenClothing                     1729.0\n",
       "4  2009      2     MenClothing                      496.0"
      ]
     },
     "execution_count": 42,
     "metadata": {},
     "output_type": "execute_result"
    }
   ],
   "source": [
    "trainDf = pd.read_csv('C:\\\\Users\\\\HP\\Desktop\\\\PHD Hackathon\\\\Data Science\\\\PhD_Train_Data\\\\Train.csv', na_values=[' '])\n",
    "trainDf.head()"
   ]
  },
  {
   "cell_type": "code",
   "execution_count": 43,
   "metadata": {},
   "outputs": [
    {
     "data": {
      "text/html": [
       "<div>\n",
       "<style>\n",
       "    .dataframe thead tr:only-child th {\n",
       "        text-align: right;\n",
       "    }\n",
       "\n",
       "    .dataframe thead th {\n",
       "        text-align: left;\n",
       "    }\n",
       "\n",
       "    .dataframe tbody tr th {\n",
       "        vertical-align: top;\n",
       "    }\n",
       "</style>\n",
       "<table border=\"1\" class=\"dataframe\">\n",
       "  <thead>\n",
       "    <tr style=\"text-align: right;\">\n",
       "      <th></th>\n",
       "      <th>Year</th>\n",
       "      <th>Month</th>\n",
       "      <th>ProductCategory</th>\n",
       "      <th>Sales(In ThousandDollars)</th>\n",
       "      <th>YearMonth</th>\n",
       "    </tr>\n",
       "  </thead>\n",
       "  <tbody>\n",
       "    <tr>\n",
       "      <th>0</th>\n",
       "      <td>2009</td>\n",
       "      <td>1</td>\n",
       "      <td>WomenClothing</td>\n",
       "      <td>1755.0</td>\n",
       "      <td>2009-01-01</td>\n",
       "    </tr>\n",
       "    <tr>\n",
       "      <th>1</th>\n",
       "      <td>2009</td>\n",
       "      <td>1</td>\n",
       "      <td>MenClothing</td>\n",
       "      <td>524.0</td>\n",
       "      <td>2009-01-01</td>\n",
       "    </tr>\n",
       "    <tr>\n",
       "      <th>2</th>\n",
       "      <td>2009</td>\n",
       "      <td>1</td>\n",
       "      <td>OtherClothing</td>\n",
       "      <td>936.0</td>\n",
       "      <td>2009-01-01</td>\n",
       "    </tr>\n",
       "    <tr>\n",
       "      <th>3</th>\n",
       "      <td>2009</td>\n",
       "      <td>2</td>\n",
       "      <td>WomenClothing</td>\n",
       "      <td>1729.0</td>\n",
       "      <td>2009-02-01</td>\n",
       "    </tr>\n",
       "    <tr>\n",
       "      <th>4</th>\n",
       "      <td>2009</td>\n",
       "      <td>2</td>\n",
       "      <td>MenClothing</td>\n",
       "      <td>496.0</td>\n",
       "      <td>2009-02-01</td>\n",
       "    </tr>\n",
       "  </tbody>\n",
       "</table>\n",
       "</div>"
      ],
      "text/plain": [
       "   Year  Month ProductCategory  Sales(In ThousandDollars)  YearMonth\n",
       "0  2009      1   WomenClothing                     1755.0 2009-01-01\n",
       "1  2009      1     MenClothing                      524.0 2009-01-01\n",
       "2  2009      1   OtherClothing                      936.0 2009-01-01\n",
       "3  2009      2   WomenClothing                     1729.0 2009-02-01\n",
       "4  2009      2     MenClothing                      496.0 2009-02-01"
      ]
     },
     "execution_count": 43,
     "metadata": {},
     "output_type": "execute_result"
    }
   ],
   "source": [
    "trainDf['YearMonth'] = trainDf['Year'].map(str) + \"-\" + trainDf['Month'].map(str)\n",
    "trainDf['YearMonth'] = pd.to_datetime(trainDf['YearMonth'], format='%Y-%m')\n",
    "trainDf.head()"
   ]
  },
  {
   "cell_type": "code",
   "execution_count": 44,
   "metadata": {},
   "outputs": [
    {
     "data": {
      "text/plain": [
       "Year                         False\n",
       "Month                        False\n",
       "ProductCategory              False\n",
       "Sales(In ThousandDollars)    False\n",
       "YearMonth                    False\n",
       "dtype: bool"
      ]
     },
     "execution_count": 44,
     "metadata": {},
     "output_type": "execute_result"
    }
   ],
   "source": [
    "trainDf['Sales(In ThousandDollars)'] = trainDf.groupby('ProductCategory')['Sales(In ThousandDollars)'].apply(lambda x: x.fillna(x.mean()))\n",
    "trainDf.isnull().any()"
   ]
  },
  {
   "cell_type": "code",
   "execution_count": 45,
   "metadata": {},
   "outputs": [
    {
     "data": {
      "text/html": [
       "<div>\n",
       "<style>\n",
       "    .dataframe thead tr:only-child th {\n",
       "        text-align: right;\n",
       "    }\n",
       "\n",
       "    .dataframe thead th {\n",
       "        text-align: left;\n",
       "    }\n",
       "\n",
       "    .dataframe tbody tr th {\n",
       "        vertical-align: top;\n",
       "    }\n",
       "</style>\n",
       "<table border=\"1\" class=\"dataframe\">\n",
       "  <thead>\n",
       "    <tr>\n",
       "      <th></th>\n",
       "      <th></th>\n",
       "      <th colspan=\"3\" halign=\"left\">Sales(In ThousandDollars)</th>\n",
       "    </tr>\n",
       "    <tr>\n",
       "      <th></th>\n",
       "      <th>ProductCategory</th>\n",
       "      <th>MenClothing</th>\n",
       "      <th>OtherClothing</th>\n",
       "      <th>WomenClothing</th>\n",
       "    </tr>\n",
       "    <tr>\n",
       "      <th>Year</th>\n",
       "      <th>Month</th>\n",
       "      <th></th>\n",
       "      <th></th>\n",
       "      <th></th>\n",
       "    </tr>\n",
       "  </thead>\n",
       "  <tbody>\n",
       "    <tr>\n",
       "      <th rowspan=\"5\" valign=\"top\">2009</th>\n",
       "      <th>1</th>\n",
       "      <td>524.0</td>\n",
       "      <td>936.0</td>\n",
       "      <td>1755.0</td>\n",
       "    </tr>\n",
       "    <tr>\n",
       "      <th>2</th>\n",
       "      <td>496.0</td>\n",
       "      <td>859.0</td>\n",
       "      <td>1729.0</td>\n",
       "    </tr>\n",
       "    <tr>\n",
       "      <th>3</th>\n",
       "      <td>542.0</td>\n",
       "      <td>921.0</td>\n",
       "      <td>2256.0</td>\n",
       "    </tr>\n",
       "    <tr>\n",
       "      <th>4</th>\n",
       "      <td>669.0</td>\n",
       "      <td>914.0</td>\n",
       "      <td>2662.0</td>\n",
       "    </tr>\n",
       "    <tr>\n",
       "      <th>5</th>\n",
       "      <td>650.0</td>\n",
       "      <td>989.0</td>\n",
       "      <td>2732.0</td>\n",
       "    </tr>\n",
       "  </tbody>\n",
       "</table>\n",
       "</div>"
      ],
      "text/plain": [
       "                Sales(In ThousandDollars)                            \n",
       "ProductCategory               MenClothing OtherClothing WomenClothing\n",
       "Year Month                                                           \n",
       "2009 1                              524.0         936.0        1755.0\n",
       "     2                              496.0         859.0        1729.0\n",
       "     3                              542.0         921.0        2256.0\n",
       "     4                              669.0         914.0        2662.0\n",
       "     5                              650.0         989.0        2732.0"
      ]
     },
     "execution_count": 45,
     "metadata": {},
     "output_type": "execute_result"
    }
   ],
   "source": [
    "train_pivoted = pivot_table(trainDf, index = ['Year', 'Month'], values = ['Sales(In ThousandDollars)'], columns = ['ProductCategory'])\n",
    "train_pivoted.head()"
   ]
  },
  {
   "cell_type": "code",
   "execution_count": 46,
   "metadata": {},
   "outputs": [
    {
     "data": {
      "text/html": [
       "<div>\n",
       "<style>\n",
       "    .dataframe thead tr:only-child th {\n",
       "        text-align: right;\n",
       "    }\n",
       "\n",
       "    .dataframe thead th {\n",
       "        text-align: left;\n",
       "    }\n",
       "\n",
       "    .dataframe tbody tr th {\n",
       "        vertical-align: top;\n",
       "    }\n",
       "</style>\n",
       "<table border=\"1\" class=\"dataframe\">\n",
       "  <thead>\n",
       "    <tr style=\"text-align: right;\">\n",
       "      <th></th>\n",
       "      <th>Year</th>\n",
       "      <th>Month</th>\n",
       "      <th>MenClothing_Sales</th>\n",
       "      <th>OtherClothing_Sales</th>\n",
       "      <th>WomenClothing_Sales</th>\n",
       "    </tr>\n",
       "  </thead>\n",
       "  <tbody>\n",
       "    <tr>\n",
       "      <th>0</th>\n",
       "      <td>2009</td>\n",
       "      <td>1</td>\n",
       "      <td>524.0</td>\n",
       "      <td>936.0</td>\n",
       "      <td>1755.0</td>\n",
       "    </tr>\n",
       "    <tr>\n",
       "      <th>1</th>\n",
       "      <td>2009</td>\n",
       "      <td>2</td>\n",
       "      <td>496.0</td>\n",
       "      <td>859.0</td>\n",
       "      <td>1729.0</td>\n",
       "    </tr>\n",
       "    <tr>\n",
       "      <th>2</th>\n",
       "      <td>2009</td>\n",
       "      <td>3</td>\n",
       "      <td>542.0</td>\n",
       "      <td>921.0</td>\n",
       "      <td>2256.0</td>\n",
       "    </tr>\n",
       "    <tr>\n",
       "      <th>3</th>\n",
       "      <td>2009</td>\n",
       "      <td>4</td>\n",
       "      <td>669.0</td>\n",
       "      <td>914.0</td>\n",
       "      <td>2662.0</td>\n",
       "    </tr>\n",
       "    <tr>\n",
       "      <th>4</th>\n",
       "      <td>2009</td>\n",
       "      <td>5</td>\n",
       "      <td>650.0</td>\n",
       "      <td>989.0</td>\n",
       "      <td>2732.0</td>\n",
       "    </tr>\n",
       "  </tbody>\n",
       "</table>\n",
       "</div>"
      ],
      "text/plain": [
       "   Year  Month  MenClothing_Sales  OtherClothing_Sales  WomenClothing_Sales\n",
       "0  2009      1              524.0                936.0               1755.0\n",
       "1  2009      2              496.0                859.0               1729.0\n",
       "2  2009      3              542.0                921.0               2256.0\n",
       "3  2009      4              669.0                914.0               2662.0\n",
       "4  2009      5              650.0                989.0               2732.0"
      ]
     },
     "execution_count": 46,
     "metadata": {},
     "output_type": "execute_result"
    }
   ],
   "source": [
    "train_pivoted.columns = ['MenClothing_Sales', 'OtherClothing_Sales', 'WomenClothing_Sales']\n",
    "train_pivoted = train_pivoted.reset_index()\n",
    "train_pivoted.head()"
   ]
  },
  {
   "cell_type": "code",
   "execution_count": 47,
   "metadata": {},
   "outputs": [
    {
     "data": {
      "text/html": [
       "<div>\n",
       "<style>\n",
       "    .dataframe thead tr:only-child th {\n",
       "        text-align: right;\n",
       "    }\n",
       "\n",
       "    .dataframe thead th {\n",
       "        text-align: left;\n",
       "    }\n",
       "\n",
       "    .dataframe tbody tr th {\n",
       "        vertical-align: top;\n",
       "    }\n",
       "</style>\n",
       "<table border=\"1\" class=\"dataframe\">\n",
       "  <thead>\n",
       "    <tr style=\"text-align: right;\">\n",
       "      <th></th>\n",
       "      <th>Year</th>\n",
       "      <th>Month</th>\n",
       "      <th>WomenClothing_Sales</th>\n",
       "    </tr>\n",
       "  </thead>\n",
       "  <tbody>\n",
       "    <tr>\n",
       "      <th>0</th>\n",
       "      <td>2009</td>\n",
       "      <td>1</td>\n",
       "      <td>1755.0</td>\n",
       "    </tr>\n",
       "    <tr>\n",
       "      <th>1</th>\n",
       "      <td>2009</td>\n",
       "      <td>2</td>\n",
       "      <td>1729.0</td>\n",
       "    </tr>\n",
       "    <tr>\n",
       "      <th>2</th>\n",
       "      <td>2009</td>\n",
       "      <td>3</td>\n",
       "      <td>2256.0</td>\n",
       "    </tr>\n",
       "    <tr>\n",
       "      <th>3</th>\n",
       "      <td>2009</td>\n",
       "      <td>4</td>\n",
       "      <td>2662.0</td>\n",
       "    </tr>\n",
       "    <tr>\n",
       "      <th>4</th>\n",
       "      <td>2009</td>\n",
       "      <td>5</td>\n",
       "      <td>2732.0</td>\n",
       "    </tr>\n",
       "  </tbody>\n",
       "</table>\n",
       "</div>"
      ],
      "text/plain": [
       "   Year  Month  WomenClothing_Sales\n",
       "0  2009      1               1755.0\n",
       "1  2009      2               1729.0\n",
       "2  2009      3               2256.0\n",
       "3  2009      4               2662.0\n",
       "4  2009      5               2732.0"
      ]
     },
     "execution_count": 47,
     "metadata": {},
     "output_type": "execute_result"
    }
   ],
   "source": [
    "womenClothing_sales = train_pivoted.copy().drop(['MenClothing_Sales', 'OtherClothing_Sales'], axis = 1)\n",
    "womenClothing_sales.head()"
   ]
  },
  {
   "cell_type": "code",
   "execution_count": 48,
   "metadata": {
    "collapsed": true
   },
   "outputs": [],
   "source": [
    "womenClothing_sales.to_csv('C:\\\\Users\\\\HP\\\\Desktop\\\\PHD Hackathon\\\\Data Science\\\\PHD Models\\\\Weather_Features\\\\womenClothing_sales.csv', index=False)"
   ]
  },
  {
   "cell_type": "code",
   "execution_count": 49,
   "metadata": {
    "collapsed": true
   },
   "outputs": [],
   "source": [
    "########################################################################################################################"
   ]
  },
  {
   "cell_type": "code",
   "execution_count": 50,
   "metadata": {
    "collapsed": true
   },
   "outputs": [],
   "source": [
    "csv_files = os.chdir('C:\\\\Users\\\\HP\\\\Desktop\\\\PHD Hackathon\\\\Data Science\\\\PHD Models\\\\Weather_Features')\n",
    "weather_features = pd.read_csv('weatherData_full.csv', encoding='latin 1')\n",
    "holidays_features = pd.read_csv('holidays_features.csv')\n",
    "economic_features = pd.read_csv('economic_features.csv')\n",
    "womenClothing_sales = pd.read_csv('womenClothing_sales.csv')"
   ]
  },
  {
   "cell_type": "code",
   "execution_count": null,
   "metadata": {
    "collapsed": true
   },
   "outputs": [],
   "source": []
  },
  {
   "cell_type": "code",
   "execution_count": 51,
   "metadata": {},
   "outputs": [
    {
     "ename": "NameError",
     "evalue": "name 'train_data' is not defined",
     "output_type": "error",
     "traceback": [
      "\u001b[1;31m---------------------------------------------------------------------------\u001b[0m",
      "\u001b[1;31mNameError\u001b[0m                                 Traceback (most recent call last)",
      "\u001b[1;32m<ipython-input-51-8de2f53b2931>\u001b[0m in \u001b[0;36m<module>\u001b[1;34m()\u001b[0m\n\u001b[1;32m----> 1\u001b[1;33m \u001b[0mtrain_data\u001b[0m\u001b[1;33m.\u001b[0m\u001b[0mtail\u001b[0m\u001b[1;33m(\u001b[0m\u001b[1;33m)\u001b[0m\u001b[1;33m\u001b[0m\u001b[0m\n\u001b[0m",
      "\u001b[1;31mNameError\u001b[0m: name 'train_data' is not defined"
     ]
    }
   ],
   "source": [
    "train_data.tail()"
   ]
  },
  {
   "cell_type": "code",
   "execution_count": 52,
   "metadata": {},
   "outputs": [
    {
     "ename": "FileNotFoundError",
     "evalue": "File b'C:\\\\Users\\\\HP\\\\Desktop\\\\PHD Hackathon\\\\Data Science\\\\PHD_Submissions\\\\regression_submission.csv' does not exist",
     "output_type": "error",
     "traceback": [
      "\u001b[1;31m---------------------------------------------------------------------------\u001b[0m",
      "\u001b[1;31mFileNotFoundError\u001b[0m                         Traceback (most recent call last)",
      "\u001b[1;32m<ipython-input-52-1fdc019c0ec4>\u001b[0m in \u001b[0;36m<module>\u001b[1;34m()\u001b[0m\n\u001b[1;32m----> 1\u001b[1;33m \u001b[0msubmisionData\u001b[0m \u001b[1;33m=\u001b[0m \u001b[0mpd\u001b[0m\u001b[1;33m.\u001b[0m\u001b[0mread_csv\u001b[0m\u001b[1;33m(\u001b[0m\u001b[1;34m'C:\\\\Users\\\\HP\\\\Desktop\\\\PHD Hackathon\\\\Data Science\\\\PHD_Submissions\\\\regression_submission.csv'\u001b[0m\u001b[1;33m)\u001b[0m\u001b[1;33m\u001b[0m\u001b[0m\n\u001b[0m\u001b[0;32m      2\u001b[0m \u001b[0msubmisionData\u001b[0m\u001b[1;33m\u001b[0m\u001b[0m\n",
      "\u001b[1;32m~\\Anaconda3\\lib\\site-packages\\pandas\\io\\parsers.py\u001b[0m in \u001b[0;36mparser_f\u001b[1;34m(filepath_or_buffer, sep, delimiter, header, names, index_col, usecols, squeeze, prefix, mangle_dupe_cols, dtype, engine, converters, true_values, false_values, skipinitialspace, skiprows, nrows, na_values, keep_default_na, na_filter, verbose, skip_blank_lines, parse_dates, infer_datetime_format, keep_date_col, date_parser, dayfirst, iterator, chunksize, compression, thousands, decimal, lineterminator, quotechar, quoting, escapechar, comment, encoding, dialect, tupleize_cols, error_bad_lines, warn_bad_lines, skipfooter, skip_footer, doublequote, delim_whitespace, as_recarray, compact_ints, use_unsigned, low_memory, buffer_lines, memory_map, float_precision)\u001b[0m\n\u001b[0;32m    653\u001b[0m                     skip_blank_lines=skip_blank_lines)\n\u001b[0;32m    654\u001b[0m \u001b[1;33m\u001b[0m\u001b[0m\n\u001b[1;32m--> 655\u001b[1;33m         \u001b[1;32mreturn\u001b[0m \u001b[0m_read\u001b[0m\u001b[1;33m(\u001b[0m\u001b[0mfilepath_or_buffer\u001b[0m\u001b[1;33m,\u001b[0m \u001b[0mkwds\u001b[0m\u001b[1;33m)\u001b[0m\u001b[1;33m\u001b[0m\u001b[0m\n\u001b[0m\u001b[0;32m    656\u001b[0m \u001b[1;33m\u001b[0m\u001b[0m\n\u001b[0;32m    657\u001b[0m     \u001b[0mparser_f\u001b[0m\u001b[1;33m.\u001b[0m\u001b[0m__name__\u001b[0m \u001b[1;33m=\u001b[0m \u001b[0mname\u001b[0m\u001b[1;33m\u001b[0m\u001b[0m\n",
      "\u001b[1;32m~\\Anaconda3\\lib\\site-packages\\pandas\\io\\parsers.py\u001b[0m in \u001b[0;36m_read\u001b[1;34m(filepath_or_buffer, kwds)\u001b[0m\n\u001b[0;32m    403\u001b[0m \u001b[1;33m\u001b[0m\u001b[0m\n\u001b[0;32m    404\u001b[0m     \u001b[1;31m# Create the parser.\u001b[0m\u001b[1;33m\u001b[0m\u001b[1;33m\u001b[0m\u001b[0m\n\u001b[1;32m--> 405\u001b[1;33m     \u001b[0mparser\u001b[0m \u001b[1;33m=\u001b[0m \u001b[0mTextFileReader\u001b[0m\u001b[1;33m(\u001b[0m\u001b[0mfilepath_or_buffer\u001b[0m\u001b[1;33m,\u001b[0m \u001b[1;33m**\u001b[0m\u001b[0mkwds\u001b[0m\u001b[1;33m)\u001b[0m\u001b[1;33m\u001b[0m\u001b[0m\n\u001b[0m\u001b[0;32m    406\u001b[0m \u001b[1;33m\u001b[0m\u001b[0m\n\u001b[0;32m    407\u001b[0m     \u001b[1;32mif\u001b[0m \u001b[0mchunksize\u001b[0m \u001b[1;32mor\u001b[0m \u001b[0miterator\u001b[0m\u001b[1;33m:\u001b[0m\u001b[1;33m\u001b[0m\u001b[0m\n",
      "\u001b[1;32m~\\Anaconda3\\lib\\site-packages\\pandas\\io\\parsers.py\u001b[0m in \u001b[0;36m__init__\u001b[1;34m(self, f, engine, **kwds)\u001b[0m\n\u001b[0;32m    762\u001b[0m             \u001b[0mself\u001b[0m\u001b[1;33m.\u001b[0m\u001b[0moptions\u001b[0m\u001b[1;33m[\u001b[0m\u001b[1;34m'has_index_names'\u001b[0m\u001b[1;33m]\u001b[0m \u001b[1;33m=\u001b[0m \u001b[0mkwds\u001b[0m\u001b[1;33m[\u001b[0m\u001b[1;34m'has_index_names'\u001b[0m\u001b[1;33m]\u001b[0m\u001b[1;33m\u001b[0m\u001b[0m\n\u001b[0;32m    763\u001b[0m \u001b[1;33m\u001b[0m\u001b[0m\n\u001b[1;32m--> 764\u001b[1;33m         \u001b[0mself\u001b[0m\u001b[1;33m.\u001b[0m\u001b[0m_make_engine\u001b[0m\u001b[1;33m(\u001b[0m\u001b[0mself\u001b[0m\u001b[1;33m.\u001b[0m\u001b[0mengine\u001b[0m\u001b[1;33m)\u001b[0m\u001b[1;33m\u001b[0m\u001b[0m\n\u001b[0m\u001b[0;32m    765\u001b[0m \u001b[1;33m\u001b[0m\u001b[0m\n\u001b[0;32m    766\u001b[0m     \u001b[1;32mdef\u001b[0m \u001b[0mclose\u001b[0m\u001b[1;33m(\u001b[0m\u001b[0mself\u001b[0m\u001b[1;33m)\u001b[0m\u001b[1;33m:\u001b[0m\u001b[1;33m\u001b[0m\u001b[0m\n",
      "\u001b[1;32m~\\Anaconda3\\lib\\site-packages\\pandas\\io\\parsers.py\u001b[0m in \u001b[0;36m_make_engine\u001b[1;34m(self, engine)\u001b[0m\n\u001b[0;32m    983\u001b[0m     \u001b[1;32mdef\u001b[0m \u001b[0m_make_engine\u001b[0m\u001b[1;33m(\u001b[0m\u001b[0mself\u001b[0m\u001b[1;33m,\u001b[0m \u001b[0mengine\u001b[0m\u001b[1;33m=\u001b[0m\u001b[1;34m'c'\u001b[0m\u001b[1;33m)\u001b[0m\u001b[1;33m:\u001b[0m\u001b[1;33m\u001b[0m\u001b[0m\n\u001b[0;32m    984\u001b[0m         \u001b[1;32mif\u001b[0m \u001b[0mengine\u001b[0m \u001b[1;33m==\u001b[0m \u001b[1;34m'c'\u001b[0m\u001b[1;33m:\u001b[0m\u001b[1;33m\u001b[0m\u001b[0m\n\u001b[1;32m--> 985\u001b[1;33m             \u001b[0mself\u001b[0m\u001b[1;33m.\u001b[0m\u001b[0m_engine\u001b[0m \u001b[1;33m=\u001b[0m \u001b[0mCParserWrapper\u001b[0m\u001b[1;33m(\u001b[0m\u001b[0mself\u001b[0m\u001b[1;33m.\u001b[0m\u001b[0mf\u001b[0m\u001b[1;33m,\u001b[0m \u001b[1;33m**\u001b[0m\u001b[0mself\u001b[0m\u001b[1;33m.\u001b[0m\u001b[0moptions\u001b[0m\u001b[1;33m)\u001b[0m\u001b[1;33m\u001b[0m\u001b[0m\n\u001b[0m\u001b[0;32m    986\u001b[0m         \u001b[1;32melse\u001b[0m\u001b[1;33m:\u001b[0m\u001b[1;33m\u001b[0m\u001b[0m\n\u001b[0;32m    987\u001b[0m             \u001b[1;32mif\u001b[0m \u001b[0mengine\u001b[0m \u001b[1;33m==\u001b[0m \u001b[1;34m'python'\u001b[0m\u001b[1;33m:\u001b[0m\u001b[1;33m\u001b[0m\u001b[0m\n",
      "\u001b[1;32m~\\Anaconda3\\lib\\site-packages\\pandas\\io\\parsers.py\u001b[0m in \u001b[0;36m__init__\u001b[1;34m(self, src, **kwds)\u001b[0m\n\u001b[0;32m   1603\u001b[0m         \u001b[0mkwds\u001b[0m\u001b[1;33m[\u001b[0m\u001b[1;34m'allow_leading_cols'\u001b[0m\u001b[1;33m]\u001b[0m \u001b[1;33m=\u001b[0m \u001b[0mself\u001b[0m\u001b[1;33m.\u001b[0m\u001b[0mindex_col\u001b[0m \u001b[1;32mis\u001b[0m \u001b[1;32mnot\u001b[0m \u001b[1;32mFalse\u001b[0m\u001b[1;33m\u001b[0m\u001b[0m\n\u001b[0;32m   1604\u001b[0m \u001b[1;33m\u001b[0m\u001b[0m\n\u001b[1;32m-> 1605\u001b[1;33m         \u001b[0mself\u001b[0m\u001b[1;33m.\u001b[0m\u001b[0m_reader\u001b[0m \u001b[1;33m=\u001b[0m \u001b[0mparsers\u001b[0m\u001b[1;33m.\u001b[0m\u001b[0mTextReader\u001b[0m\u001b[1;33m(\u001b[0m\u001b[0msrc\u001b[0m\u001b[1;33m,\u001b[0m \u001b[1;33m**\u001b[0m\u001b[0mkwds\u001b[0m\u001b[1;33m)\u001b[0m\u001b[1;33m\u001b[0m\u001b[0m\n\u001b[0m\u001b[0;32m   1606\u001b[0m \u001b[1;33m\u001b[0m\u001b[0m\n\u001b[0;32m   1607\u001b[0m         \u001b[1;31m# XXX\u001b[0m\u001b[1;33m\u001b[0m\u001b[1;33m\u001b[0m\u001b[0m\n",
      "\u001b[1;32mpandas/_libs/parsers.pyx\u001b[0m in \u001b[0;36mpandas._libs.parsers.TextReader.__cinit__ (pandas\\_libs\\parsers.c:4209)\u001b[1;34m()\u001b[0m\n",
      "\u001b[1;32mpandas/_libs/parsers.pyx\u001b[0m in \u001b[0;36mpandas._libs.parsers.TextReader._setup_parser_source (pandas\\_libs\\parsers.c:8873)\u001b[1;34m()\u001b[0m\n",
      "\u001b[1;31mFileNotFoundError\u001b[0m: File b'C:\\\\Users\\\\HP\\\\Desktop\\\\PHD Hackathon\\\\Data Science\\\\PHD_Submissions\\\\regression_submission.csv' does not exist"
     ]
    }
   ],
   "source": [
    "submisionData = pd.read_csv('C:\\\\Users\\\\HP\\\\Desktop\\\\PHD Hackathon\\\\Data Science\\\\PHD_Submissions\\\\regression_submission.csv')\n",
    "submisionData"
   ]
  },
  {
   "cell_type": "code",
   "execution_count": 53,
   "metadata": {},
   "outputs": [
    {
     "ename": "NameError",
     "evalue": "name 'submisionData' is not defined",
     "output_type": "error",
     "traceback": [
      "\u001b[1;31m---------------------------------------------------------------------------\u001b[0m",
      "\u001b[1;31mNameError\u001b[0m                                 Traceback (most recent call last)",
      "\u001b[1;32m<ipython-input-53-f241ea072875>\u001b[0m in \u001b[0;36m<module>\u001b[1;34m()\u001b[0m\n\u001b[1;32m----> 1\u001b[1;33m \u001b[0msubmisionData\u001b[0m\u001b[1;33m[\u001b[0m\u001b[1;34m'YearMonth'\u001b[0m\u001b[1;33m]\u001b[0m \u001b[1;33m=\u001b[0m \u001b[0msubmisionData\u001b[0m\u001b[1;33m[\u001b[0m\u001b[1;34m'Year'\u001b[0m\u001b[1;33m]\u001b[0m\u001b[1;33m.\u001b[0m\u001b[0mmap\u001b[0m\u001b[1;33m(\u001b[0m\u001b[0mstr\u001b[0m\u001b[1;33m)\u001b[0m \u001b[1;33m+\u001b[0m \u001b[1;34m\"-\"\u001b[0m \u001b[1;33m+\u001b[0m \u001b[0msubmisionData\u001b[0m\u001b[1;33m[\u001b[0m\u001b[1;34m'Month'\u001b[0m\u001b[1;33m]\u001b[0m\u001b[1;33m.\u001b[0m\u001b[0mmap\u001b[0m\u001b[1;33m(\u001b[0m\u001b[0mstr\u001b[0m\u001b[1;33m)\u001b[0m\u001b[1;33m\u001b[0m\u001b[0m\n\u001b[0m\u001b[0;32m      2\u001b[0m \u001b[0msubmisionData\u001b[0m\u001b[1;33m[\u001b[0m\u001b[1;34m'YearMonth'\u001b[0m\u001b[1;33m]\u001b[0m \u001b[1;33m=\u001b[0m \u001b[0mpd\u001b[0m\u001b[1;33m.\u001b[0m\u001b[0mto_datetime\u001b[0m\u001b[1;33m(\u001b[0m\u001b[0msubmisionData\u001b[0m\u001b[1;33m[\u001b[0m\u001b[1;34m'YearMonth'\u001b[0m\u001b[1;33m]\u001b[0m\u001b[1;33m,\u001b[0m \u001b[0mformat\u001b[0m\u001b[1;33m=\u001b[0m\u001b[1;34m'%Y-%m'\u001b[0m\u001b[1;33m)\u001b[0m\u001b[1;33m\u001b[0m\u001b[0m\n\u001b[0;32m      3\u001b[0m \u001b[0msubmisionData\u001b[0m\u001b[1;33m.\u001b[0m\u001b[0mhead\u001b[0m\u001b[1;33m(\u001b[0m\u001b[1;33m)\u001b[0m\u001b[1;33m\u001b[0m\u001b[0m\n",
      "\u001b[1;31mNameError\u001b[0m: name 'submisionData' is not defined"
     ]
    }
   ],
   "source": [
    "submisionData['YearMonth'] = submisionData['Year'].map(str) + \"-\" + submisionData['Month'].map(str)\n",
    "submisionData['YearMonth'] = pd.to_datetime(submisionData['YearMonth'], format='%Y-%m')\n",
    "submisionData.head()"
   ]
  },
  {
   "cell_type": "markdown",
   "metadata": {},
   "source": [
    "### Join 2016 records to woomen clothing"
   ]
  },
  {
   "cell_type": "code",
   "execution_count": 54,
   "metadata": {},
   "outputs": [
    {
     "ename": "NameError",
     "evalue": "name 'submisionData' is not defined",
     "output_type": "error",
     "traceback": [
      "\u001b[1;31m---------------------------------------------------------------------------\u001b[0m",
      "\u001b[1;31mNameError\u001b[0m                                 Traceback (most recent call last)",
      "\u001b[1;32m<ipython-input-54-76f3e6b57da9>\u001b[0m in \u001b[0;36m<module>\u001b[1;34m()\u001b[0m\n\u001b[1;32m----> 1\u001b[1;33m \u001b[0mwomenClothing_sales\u001b[0m \u001b[1;33m=\u001b[0m \u001b[0mpd\u001b[0m\u001b[1;33m.\u001b[0m\u001b[0mconcat\u001b[0m\u001b[1;33m(\u001b[0m\u001b[1;33m[\u001b[0m\u001b[0mwomenClothing_sales\u001b[0m\u001b[1;33m,\u001b[0m \u001b[0msubmisionData\u001b[0m\u001b[1;33m]\u001b[0m\u001b[1;33m,\u001b[0m \u001b[0maxis\u001b[0m\u001b[1;33m=\u001b[0m\u001b[1;36m0\u001b[0m\u001b[1;33m)\u001b[0m\u001b[1;33m\u001b[0m\u001b[0m\n\u001b[0m\u001b[0;32m      2\u001b[0m \u001b[0mtrain_data\u001b[0m \u001b[1;33m=\u001b[0m \u001b[0mwomenClothing_sales\u001b[0m\u001b[1;33m.\u001b[0m\u001b[0mmerge\u001b[0m\u001b[1;33m(\u001b[0m\u001b[0mholidays_features\u001b[0m\u001b[1;33m,\u001b[0m \u001b[0mleft_on\u001b[0m\u001b[1;33m=\u001b[0m\u001b[1;33m[\u001b[0m\u001b[1;34m'Year'\u001b[0m\u001b[1;33m,\u001b[0m \u001b[1;34m'Month'\u001b[0m\u001b[1;33m]\u001b[0m\u001b[1;33m,\u001b[0m \u001b[0mright_on\u001b[0m\u001b[1;33m=\u001b[0m\u001b[1;33m[\u001b[0m\u001b[1;34m'Year'\u001b[0m\u001b[1;33m,\u001b[0m \u001b[1;34m'Month'\u001b[0m\u001b[1;33m]\u001b[0m\u001b[1;33m,\u001b[0m \u001b[0mhow\u001b[0m\u001b[1;33m=\u001b[0m\u001b[1;34m'left'\u001b[0m\u001b[1;33m)\u001b[0m\u001b[1;33m\u001b[0m\u001b[0m\n\u001b[0;32m      3\u001b[0m \u001b[0mtrain_data\u001b[0m \u001b[1;33m=\u001b[0m \u001b[0mtrain_data\u001b[0m\u001b[1;33m.\u001b[0m\u001b[0mmerge\u001b[0m\u001b[1;33m(\u001b[0m\u001b[0meconomic_features\u001b[0m\u001b[1;33m,\u001b[0m \u001b[0mleft_on\u001b[0m\u001b[1;33m=\u001b[0m\u001b[1;33m[\u001b[0m\u001b[1;34m'Year'\u001b[0m\u001b[1;33m,\u001b[0m \u001b[1;34m'Month'\u001b[0m\u001b[1;33m]\u001b[0m\u001b[1;33m,\u001b[0m \u001b[0mright_on\u001b[0m\u001b[1;33m=\u001b[0m\u001b[1;33m[\u001b[0m\u001b[1;34m'Year'\u001b[0m\u001b[1;33m,\u001b[0m \u001b[1;34m'Month'\u001b[0m\u001b[1;33m]\u001b[0m\u001b[1;33m,\u001b[0m \u001b[0mhow\u001b[0m\u001b[1;33m=\u001b[0m\u001b[1;34m'left'\u001b[0m\u001b[1;33m)\u001b[0m\u001b[1;33m\u001b[0m\u001b[0m\n\u001b[0;32m      4\u001b[0m \u001b[0mtrain_data\u001b[0m \u001b[1;33m=\u001b[0m \u001b[0mtrain_data\u001b[0m\u001b[1;33m.\u001b[0m\u001b[0mmerge\u001b[0m\u001b[1;33m(\u001b[0m\u001b[0mweather_features\u001b[0m\u001b[1;33m,\u001b[0m \u001b[0mleft_on\u001b[0m\u001b[1;33m=\u001b[0m\u001b[1;33m[\u001b[0m\u001b[1;34m'Year'\u001b[0m\u001b[1;33m,\u001b[0m \u001b[1;34m'Month'\u001b[0m\u001b[1;33m]\u001b[0m\u001b[1;33m,\u001b[0m \u001b[0mright_on\u001b[0m\u001b[1;33m=\u001b[0m\u001b[1;33m[\u001b[0m\u001b[1;34m'Year'\u001b[0m\u001b[1;33m,\u001b[0m \u001b[1;34m'Month'\u001b[0m\u001b[1;33m]\u001b[0m\u001b[1;33m,\u001b[0m \u001b[0mhow\u001b[0m\u001b[1;33m=\u001b[0m\u001b[1;34m'left'\u001b[0m\u001b[1;33m)\u001b[0m\u001b[1;33m\u001b[0m\u001b[0m\n",
      "\u001b[1;31mNameError\u001b[0m: name 'submisionData' is not defined"
     ]
    }
   ],
   "source": [
    "womenClothing_sales = pd.concat([womenClothing_sales, submisionData], axis=0)\n",
    "train_data = womenClothing_sales.merge(holidays_features, left_on=['Year', 'Month'], right_on=['Year', 'Month'], how='left')\n",
    "train_data = train_data.merge(economic_features, left_on=['Year', 'Month'], right_on=['Year', 'Month'], how='left')\n",
    "train_data = train_data.merge(weather_features, left_on=['Year', 'Month'], right_on=['Year', 'Month'], how='left')"
   ]
  },
  {
   "cell_type": "code",
   "execution_count": 55,
   "metadata": {},
   "outputs": [
    {
     "ename": "NameError",
     "evalue": "name 'train_data' is not defined",
     "output_type": "error",
     "traceback": [
      "\u001b[1;31m---------------------------------------------------------------------------\u001b[0m",
      "\u001b[1;31mNameError\u001b[0m                                 Traceback (most recent call last)",
      "\u001b[1;32m<ipython-input-55-8de2f53b2931>\u001b[0m in \u001b[0;36m<module>\u001b[1;34m()\u001b[0m\n\u001b[1;32m----> 1\u001b[1;33m \u001b[0mtrain_data\u001b[0m\u001b[1;33m.\u001b[0m\u001b[0mtail\u001b[0m\u001b[1;33m(\u001b[0m\u001b[1;33m)\u001b[0m\u001b[1;33m\u001b[0m\u001b[0m\n\u001b[0m",
      "\u001b[1;31mNameError\u001b[0m: name 'train_data' is not defined"
     ]
    }
   ],
   "source": [
    "train_data.tail()"
   ]
  },
  {
   "cell_type": "code",
   "execution_count": 56,
   "metadata": {},
   "outputs": [
    {
     "ename": "NameError",
     "evalue": "name 'train_data' is not defined",
     "output_type": "error",
     "traceback": [
      "\u001b[1;31m---------------------------------------------------------------------------\u001b[0m",
      "\u001b[1;31mNameError\u001b[0m                                 Traceback (most recent call last)",
      "\u001b[1;32m<ipython-input-56-a6d245855776>\u001b[0m in \u001b[0;36m<module>\u001b[1;34m()\u001b[0m\n\u001b[1;32m----> 1\u001b[1;33m \u001b[0msns\u001b[0m\u001b[1;33m.\u001b[0m\u001b[0mlineplot\u001b[0m\u001b[1;33m(\u001b[0m\u001b[0mx\u001b[0m \u001b[1;33m=\u001b[0m\u001b[1;34m'YearMonth'\u001b[0m\u001b[1;33m,\u001b[0m \u001b[0my\u001b[0m\u001b[1;33m=\u001b[0m\u001b[1;34m'Sales(In ThousandDollars)'\u001b[0m\u001b[1;33m,\u001b[0m \u001b[0mdata\u001b[0m \u001b[1;33m=\u001b[0m \u001b[0mtrain_data\u001b[0m\u001b[1;33m)\u001b[0m\u001b[1;33m\u001b[0m\u001b[0m\n\u001b[0m\u001b[0;32m      2\u001b[0m \u001b[0mplt\u001b[0m\u001b[1;33m.\u001b[0m\u001b[0mshow\u001b[0m\u001b[1;33m(\u001b[0m\u001b[1;33m)\u001b[0m\u001b[1;33m\u001b[0m\u001b[0m\n",
      "\u001b[1;31mNameError\u001b[0m: name 'train_data' is not defined"
     ]
    }
   ],
   "source": [
    "sns.lineplot(x ='YearMonth', y='Sales(In ThousandDollars)', data = train_data)\n",
    "plt.show()"
   ]
  },
  {
   "cell_type": "code",
   "execution_count": 57,
   "metadata": {},
   "outputs": [
    {
     "ename": "SyntaxError",
     "evalue": "invalid syntax (<ipython-input-57-2dc2533bd6e4>, line 1)",
     "output_type": "error",
     "traceback": [
      "\u001b[1;36m  File \u001b[1;32m\"<ipython-input-57-2dc2533bd6e4>\"\u001b[1;36m, line \u001b[1;32m1\u001b[0m\n\u001b[1;33m    cotton monthly price\u001b[0m\n\u001b[1;37m                 ^\u001b[0m\n\u001b[1;31mSyntaxError\u001b[0m\u001b[1;31m:\u001b[0m invalid syntax\n"
     ]
    }
   ],
   "source": [
    "cotton monthly price\n",
    "change(in%)\n",
    "yieldharvest\n",
    "mill use\n",
    "exports"
   ]
  },
  {
   "cell_type": "code",
   "execution_count": 58,
   "metadata": {},
   "outputs": [
    {
     "data": {
      "text/plain": [
       "95.03999999999999"
      ]
     },
     "execution_count": 58,
     "metadata": {},
     "output_type": "execute_result"
    }
   ],
   "source": [
    "0.99*len(economicData)"
   ]
  },
  {
   "cell_type": "code",
   "execution_count": 59,
   "metadata": {
    "collapsed": true
   },
   "outputs": [],
   "source": [
    "economicData_outliers = economicData.copy()"
   ]
  },
  {
   "cell_type": "code",
   "execution_count": 60,
   "metadata": {},
   "outputs": [
    {
     "data": {
      "text/plain": [
       "11.6"
      ]
     },
     "execution_count": 60,
     "metadata": {},
     "output_type": "execute_result"
    }
   ],
   "source": [
    "economicData_outliers['Exports'][95]"
   ]
  },
  {
   "cell_type": "code",
   "execution_count": 61,
   "metadata": {
    "collapsed": true
   },
   "outputs": [],
   "source": [
    "#economicData_outliers['Cotton Monthly Price - US cents per Pound(lbs)'] = economicData_outliers['Cotton Monthly Price - US cents per Pound(lbs)'].where(economicData_outliers['Cotton Monthly Price - US cents per Pound(lbs)'] < 79.5, 79.5)         \n",
    "#economicData_outliers['Change(in%)'] = economicData_outliers['Change(in%)'].where(economicData_outliers['Change(in%)'] < 0.73, 0.73)\n",
    "#economicData_outliers['yieldperharvested acre'] = economicData_outliers['yieldperharvested acre'].where(economicData_outliers['yieldperharvested acre'] < 810, 810)\n",
    "#economicData_outliers['Mill use  (in  480-lb netweright in million bales)'] = economicData_outliers['Mill use  (in  480-lb netweright in million bales)'].where(economicData_outliers['Mill use  (in  480-lb netweright in million bales)'] < 3.275, 3.275)\n",
    "#economicData_outliers['Exports'] = economicData_outliers['Exports'].where(economicData_outliers['Exports'] < 11.6, 11.6)\n"
   ]
  },
  {
   "cell_type": "code",
   "execution_count": 62,
   "metadata": {},
   "outputs": [
    {
     "data": {
      "text/plain": [
       "<matplotlib.axes._subplots.AxesSubplot at 0x14c69b6e358>"
      ]
     },
     "execution_count": 62,
     "metadata": {},
     "output_type": "execute_result"
    },
    {
     "data": {
      "image/png": "[encoded data removed]",
      "text/plain": [
       "<Figure size 432x288 with 1 Axes>"
      ]
     },
     "metadata": {},
     "output_type": "display_data"
    }
   ],
   "source": [
    "sns.boxplot(x=['yieldperharvested acre'], data=economicData_outliers)"
   ]
  },
  {
   "cell_type": "code",
   "execution_count": 63,
   "metadata": {},
   "outputs": [
    {
     "data": {
      "text/plain": [
       "<matplotlib.axes._subplots.AxesSubplot at 0x14c69995940>"
      ]
     },
     "execution_count": 63,
     "metadata": {},
     "output_type": "execute_result"
    },
    {
     "data": {
      "image/png": "[encoded data removed]",
      "text/plain": [
       "<Figure size 432x288 with 1 Axes>"
      ]
     },
     "metadata": {},
     "output_type": "display_data"
    }
   ],
   "source": [
    "sns.boxplot(x=['Change(in%)'], data=economicData)"
   ]
  },
  {
   "cell_type": "code",
   "execution_count": 64,
   "metadata": {
    "scrolled": true
   },
   "outputs": [
    {
     "name": "stdout",
     "output_type": "stream",
     "text": [
      "57.7\n",
      "55.21\n",
      "51.5\n",
      "56.78\n",
      "61.95\n",
      "61.39\n",
      "64.8\n",
      "64.26\n",
      "64.07\n",
      "66.82\n",
      "71.78\n",
      "76.78\n",
      "77.4\n",
      "79.5\n",
      "79.5\n",
      "79.5\n",
      "79.5\n",
      "79.5\n",
      "79.5\n",
      "79.5\n",
      "79.5\n",
      "79.5\n",
      "79.5\n",
      "79.5\n",
      "79.5\n",
      "79.5\n",
      "79.5\n",
      "79.5\n",
      "79.5\n",
      "79.5\n",
      "79.5\n",
      "79.5\n",
      "79.5\n",
      "79.5\n",
      "79.5\n",
      "79.5\n",
      "79.5\n",
      "79.5\n",
      "79.5\n",
      "79.5\n",
      "79.5\n",
      "79.5\n",
      "79.5\n",
      "79.5\n",
      "79.5\n",
      "79.5\n",
      "79.5\n",
      "79.5\n",
      "79.5\n",
      "79.5\n",
      "79.5\n",
      "79.5\n",
      "79.5\n",
      "79.5\n",
      "79.5\n",
      "79.5\n",
      "79.5\n",
      "79.5\n",
      "79.5\n",
      "79.5\n",
      "79.5\n",
      "79.5\n",
      "79.5\n",
      "79.5\n",
      "79.5\n",
      "79.5\n",
      "79.5\n",
      "74.0\n",
      "73.38\n",
      "70.34\n",
      "67.53\n",
      "68.3\n",
      "67.35\n",
      "69.84\n",
      "69.35\n",
      "71.7\n",
      "72.86\n",
      "72.35\n",
      "72.35\n",
      "71.82\n",
      "68.74\n",
      "69.03\n",
      "69.22\n",
      "70.39\n",
      "68.75\n",
      "66.57\n",
      "65.46\n",
      "69.28\n",
      "70.28\n",
      "74.1\n",
      "79.5\n",
      "79.5\n",
      "77.86\n",
      "78.52\n",
      "78.92\n",
      "79.5\n"
     ]
    }
   ],
   "source": [
    "for i in economicData_outliers['Cotton Monthly Price - US cents per Pound(lbs)']:\n",
    "    print(i)"
   ]
  },
  {
   "cell_type": "code",
   "execution_count": null,
   "metadata": {
    "collapsed": true
   },
   "outputs": [],
   "source": []
  },
  {
   "cell_type": "code",
   "execution_count": null,
   "metadata": {
    "collapsed": true
   },
   "outputs": [],
   "source": []
  },
  {
   "cell_type": "code",
   "execution_count": null,
   "metadata": {
    "collapsed": true
   },
   "outputs": [],
   "source": []
  },
  {
   "cell_type": "code",
   "execution_count": null,
   "metadata": {
    "collapsed": true
   },
   "outputs": [],
   "source": []
  }
 ],
 "metadata": {
  "kernelspec": {
   "display_name": "Python 3",
   "language": "python",
   "name": "python3"
  },
  "language_info": {
   "codemirror_mode": {
    "name": "ipython",
    "version": 3
   },
   "file_extension": ".py",
   "mimetype": "text/x-python",
   "name": "python",
   "nbconvert_exporter": "python",
   "pygments_lexer": "ipython3",
   "version": "3.6.2"
  }
 },
 "nbformat": 4,
 "nbformat_minor": 2
}
