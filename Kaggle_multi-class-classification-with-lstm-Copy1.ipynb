{
 "cells": [
  {
   "cell_type": "code",
   "execution_count": 1,
   "metadata": {
    "_cell_guid": "b1076dfc-b9ad-4769-8c92-a6c4dae69d19",
    "_uuid": "8f2839f25d086af736a60e9eeb907d3b93b6e0e5"
   },
   "outputs": [
    {
     "name": "stderr",
     "output_type": "stream",
     "text": [
      "C:\\Users\\HP\\Anaconda3\\lib\\site-packages\\h5py\\__init__.py:34: FutureWarning: Conversion of the second argument of issubdtype from `float` to `np.floating` is deprecated. In future, it will be treated as `np.float64 == np.dtype(float).type`.\n",
      "  from ._conv import register_converters as _register_converters\n",
      "Using TensorFlow backend.\n"
     ]
    }
   ],
   "source": [
    "# This Python 3 environment comes with many helpful analytics libraries installed\n",
    "# It is defined by the kaggle/python docker image: https://github.com/kaggle/docker-python\n",
    "# For example, here's several helpful packages to load in \n",
    "\n",
    "import numpy as np # linear algebra\n",
    "import pandas as pd # data processing, CSV file I/O (e.g. pd.read_csv)\n",
    "from keras.layers import Dense, Embedding, LSTM, SpatialDropout1D\n",
    "from keras.models import Sequential\n",
    "from sklearn.feature_extraction.text import CountVectorizer\n",
    "from keras.preprocessing.text import Tokenizer\n",
    "from keras.preprocessing.sequence import pad_sequences\n",
    "from sklearn.model_selection import train_test_split\n",
    "from keras.utils.np_utils import to_categorical\n",
    "from keras.callbacks import EarlyStopping\n",
    "\n",
    "# Input data files are available in the \"../input/\" directory.\n",
    "# For example, running this (by clicking run or pressing Shift+Enter) will list the files in the input directory\n",
    "\n",
    "# Any results you write to the current directory are saved as output."
   ]
  },
  {
   "cell_type": "code",
   "execution_count": 2,
   "metadata": {
    "_cell_guid": "79c7e3d0-c299-4dcb-8224-4455121ee9b0",
    "_uuid": "d629ff2d2480ee46fbb7e2d37f6b5fab8052498a"
   },
   "outputs": [
    {
     "data": {
      "text/html": [
       "<div>\n",
       "<style>\n",
       "    .dataframe thead tr:only-child th {\n",
       "        text-align: right;\n",
       "    }\n",
       "\n",
       "    .dataframe thead th {\n",
       "        text-align: left;\n",
       "    }\n",
       "\n",
       "    .dataframe tbody tr th {\n",
       "        vertical-align: top;\n",
       "    }\n",
       "</style>\n",
       "<table border=\"1\" class=\"dataframe\">\n",
       "  <thead>\n",
       "    <tr style=\"text-align: right;\">\n",
       "      <th></th>\n",
       "      <th>categories</th>\n",
       "      <th>converse</th>\n",
       "    </tr>\n",
       "  </thead>\n",
       "  <tbody>\n",
       "    <tr>\n",
       "      <th>0</th>\n",
       "      <td>QUERIES FROM PHARMACY</td>\n",
       "      <td>please to verify instructions for drugname pat...</td>\n",
       "    </tr>\n",
       "    <tr>\n",
       "      <th>1</th>\n",
       "      <td>NEW APPOINTMENT</td>\n",
       "      <td>lmovm for patients mother to and schd rov trac...</td>\n",
       "    </tr>\n",
       "    <tr>\n",
       "      <th>2</th>\n",
       "      <td>OTHERS</td>\n",
       "      <td>labtype and insurance approval other incoming ...</td>\n",
       "    </tr>\n",
       "    <tr>\n",
       "      <th>3</th>\n",
       "      <td>OTHERS</td>\n",
       "      <td>clinical list changes medfusion secure electro...</td>\n",
       "    </tr>\n",
       "    <tr>\n",
       "      <th>4</th>\n",
       "      <td>MEDICATION RELATED</td>\n",
       "      <td>wants to wean off medication work phone name d...</td>\n",
       "    </tr>\n",
       "  </tbody>\n",
       "</table>\n",
       "</div>"
      ],
      "text/plain": [
       "              categories                                           converse\n",
       "0  QUERIES FROM PHARMACY  please to verify instructions for drugname pat...\n",
       "1        NEW APPOINTMENT  lmovm for patients mother to and schd rov trac...\n",
       "2                 OTHERS  labtype and insurance approval other incoming ...\n",
       "3                 OTHERS  clinical list changes medfusion secure electro...\n",
       "4     MEDICATION RELATED  wants to wean off medication work phone name d..."
      ]
     },
     "execution_count": 2,
     "metadata": {},
     "output_type": "execute_result"
    }
   ],
   "source": [
    "data = pd.read_csv('C:\\\\Piazza\\\\CUTe4\\\\train.csv')\n",
    "data.head()"
   ]
  },
  {
   "cell_type": "markdown",
   "metadata": {
    "_uuid": "5a876d13cae7ddc8b480f7eb4d4af4c2b1217f72"
   },
   "source": [
    "**Created by Peter Nagy | 2018 May**<br/>\n",
    " [Github](https://github.com/nagypeterjob)  <br/>\n",
    " [Linkedin](https://www.linkedin.com/in/peternagyjob/)<br/>\n",
    "In this kernel I do perform a multi-class classification with LSTM (Keras)."
   ]
  },
  {
   "cell_type": "code",
   "execution_count": 3,
   "metadata": {
    "_cell_guid": "ea29d595-26b0-4d83-a005-853fa59f4506",
    "_uuid": "acf2450933eb3586930df738829abd2e11646e14"
   },
   "outputs": [
    {
     "data": {
      "text/plain": [
       "MEDICATION RELATED                               9010\n",
       "NEW APPOINTMENT                                  8907\n",
       "REFILL                                           8347\n",
       "OTHERS                                           6253\n",
       "SHARING OF HEALTH RECORDS (FAX, E-MAIL, ETC.)    3018\n",
       "LAB RESULTS                                      2253\n",
       "PROVIDER                                         1677\n",
       "QUERIES FROM PHARMACY                            1464\n",
       "RESCHEDULING                                     1383\n",
       "SHARING OF LAB RECORDS (FAX, E-MAIL, ETC.)       1212\n",
       "PRIOR AUTHORIZATION                              1043\n",
       "SYMPTOMS                                         1021\n",
       "CHANGE OF PROVIDER                                811\n",
       "RUNNING LATE TO APPOINTMENT                       590\n",
       "CANCELLATION                                      564\n",
       "QUERY ON CURRENT APPOINTMENT                      559\n",
       "FOLLOW UP ON PREVIOUS REQUEST                     304\n",
       "CHANGE OF HOSPITAL                                127\n",
       "QUERIES FROM INSURANCE FIRM                        91\n",
       "CHANGE OF PHARMACY                                 47\n",
       "JUNK                                               18\n",
       "Name: categories, dtype: int64"
      ]
     },
     "execution_count": 3,
     "metadata": {},
     "output_type": "execute_result"
    }
   ],
   "source": [
    "#M class has way less data than the orthers, thus the classes are unbalanced.\n",
    "data.categories.value_counts()"
   ]
  },
  {
   "cell_type": "code",
   "execution_count": 4,
   "metadata": {},
   "outputs": [
    {
     "name": "stdout",
     "output_type": "stream",
     "text": [
      "(48699, 2)\n"
     ]
    }
   ],
   "source": [
    "print(data.shape)"
   ]
  },
  {
   "cell_type": "code",
   "execution_count": null,
   "metadata": {
    "_cell_guid": "44de46e2-acce-470d-9c46-624cb0dd15b9",
    "_uuid": "eb9f4766b60f5a23901a8bde1d901ced6c7a3b3e",
    "collapsed": true
   },
   "outputs": [],
   "source": [
    "#I do aspire here to have balanced classes\n",
    "num_of_categories = 45000\n",
    "shuffled = data.reindex(np.random.permutation(data.index))\n",
    "e = shuffled[shuffled['CATEGORY'] == 'e'][:num_of_categories]\n",
    "b = shuffled[shuffled['CATEGORY'] == 'b'][:num_of_categories]\n",
    "t = shuffled[shuffled['CATEGORY'] == 't'][:num_of_categories]\n",
    "m = shuffled[shuffled['CATEGORY'] == 'm'][:num_of_categories]\n",
    "concated = pd.concat([e,b,t,m], ignore_index=True)\n",
    "#Shuffle the dataset\n",
    "concated = concated.reindex(np.random.permutation(concated.index))\n",
    "concated['LABEL'] = 0"
   ]
  },
  {
   "cell_type": "code",
   "execution_count": null,
   "metadata": {
    "_cell_guid": "2d3da0fd-6d73-4f3b-b06b-d2bba34bbd4a",
    "_uuid": "60febe37826f220106adf69a51dad124cfae45cc",
    "collapsed": true,
    "scrolled": true
   },
   "outputs": [],
   "source": [
    "#One-hot encode the lab\n",
    "concated.loc[concated['CATEGORY'] == 'e', 'LABEL'] = 0\n",
    "concated.loc[concated['CATEGORY'] == 'b', 'LABEL'] = 1\n",
    "concated.loc[concated['CATEGORY'] == 't', 'LABEL'] = 2\n",
    "concated.loc[concated['CATEGORY'] == 'm', 'LABEL'] = 3\n",
    "print(concated['LABEL'][:10])\n",
    "labels = to_categorical(concated['LABEL'], num_classes=4)\n",
    "print(labels[:10])\n",
    "if 'CATEGORY' in concated.keys():\n",
    "    concated.drop(['CATEGORY'], axis=1)\n",
    "'''\n",
    " [1. 0. 0. 0.] e\n",
    " [0. 1. 0. 0.] b\n",
    " [0. 0. 1. 0.] t\n",
    " [0. 0. 0. 1.] m\n",
    "'''"
   ]
  },
  {
   "cell_type": "code",
   "execution_count": 8,
   "metadata": {},
   "outputs": [],
   "source": [
    "df = pd.get_dummies(data['categories'])\n",
    "labels = df.values"
   ]
  },
  {
   "cell_type": "code",
   "execution_count": 10,
   "metadata": {},
   "outputs": [
    {
     "data": {
      "text/plain": [
       "categories    object\n",
       "converse      object\n",
       "dtype: object"
      ]
     },
     "execution_count": 10,
     "metadata": {},
     "output_type": "execute_result"
    }
   ],
   "source": [
    "data.dtypes"
   ]
  },
  {
   "cell_type": "code",
   "execution_count": 14,
   "metadata": {},
   "outputs": [
    {
     "data": {
      "text/plain": [
       "array(['please to verify instructions for drugname patients wi from pharmacy target reason for call details please to verify instructions for drugname patients will be picking up Rx timephrase clarified Rx with pharmacy lisa gilligan rn',\n",
       "       'lmovm for patients mother to and schd rov tracy dominguez am kellee currie pm rhonda fanning',\n",
       "       'labtype and insurance approval other incoming name lpn clinical review for cigna reason for call details to inform that there is not enough information provided but patients can be approved for an at home labtype whitney will fax this will need to be filled out and sent if there are any questions please whintey at rna follow routed to wendy upchurch lisa mohamed rn auth obtained and routed to sleep schedulers tammy byrd fyi wendy upchurch clinical list changes',\n",
       "       ...,\n",
       "       'Rx request aricept mg rxrf medfusion secure electronic message received from the medfusion web portal tuesday subject Rx for patsy macon patsy macon is ready for either new prescription or refill of present one which is mg pharmacist recommends new prescription of mg rather than splitting mg please send new prescription to or us at she has only enough to last through timephrase night horace macon rna follow pharmacy has not received the script for the aricept mg tabs please re i clinical list changes medications updated changed medication from aricept mg oral tabs donepezil hcl to aricept mg oral tabs donepezil hcl po qhs signed Rx of aricept mg oral tabs donepezil hcl po unspecified x entered by linda clark authorized raleigh nc ph fax',\n",
       "       'patients wants to know if she can be worked in with kmc patients declined t appointments patients wants to know if she can be worked in with kmc patients declined to see midlevel sending message per patients request please offer any np again or wait until st available already too many double books thanks denny cook rn medfusion secure electronic message subject appointment with doctor ms hopper doctor carnes does not have anything until i can add you to his cancellation list if you would like and schedule you with a nurse practitioner in the mean time thank you end of message body route responses to me tdominguez notify when read message queued for medfusion member id timephrase',\n",
       "       'sudden aphasia and trouble walking significant other other rcvd from patients partner jeffrey not on hipaa received verbal permission from patients to discuss patients health information w jeffrey he reports that patients is suffering from severe aphasia she is having trouble getting words out and having trouble spelling he also states that her neuropathy is bad and shes using a cane to get around patients sxs started timephrase when she woke up and are worsening patients has never had these sxs before rn advised patients to go to the er especially w the sudden aphasia jeffrey reports patients went to unc er timephrase they sent her home in a couple hours and stated all her problems were psychosomatic denies medicines changes in the past month patients last ofv was and has a scheduled visit on rn readvised for patients to go to the er if sxs worsened jefferey voiced understanding timephrase pm rna follow see msg regarding patients sx bjr out of office this timephrase so sending to sc for advisement ok to move up patients appt provider notified tisha walker rn timephrase pm i agree she should be evaluated in the ed please schedule at next available appointment any available nppa stacey carroll anp timephrase'],\n",
       "      dtype='<U2440')"
      ]
     },
     "execution_count": 14,
     "metadata": {},
     "output_type": "execute_result"
    }
   ],
   "source": [
    "data['converse'].values.astype(str)"
   ]
  },
  {
   "cell_type": "code",
   "execution_count": 15,
   "metadata": {
    "_cell_guid": "40e6281c-2588-4ad0-991c-3d8d40791254",
    "_uuid": "0aa67be64bd63cf4350ce3f62d42c687b3143088"
   },
   "outputs": [
    {
     "name": "stdout",
     "output_type": "stream",
     "text": [
      "Found 35747 unique tokens.\n"
     ]
    }
   ],
   "source": [
    "n_most_common_words = 8000\n",
    "max_len = 130\n",
    "tokenizer = Tokenizer(num_words=n_most_common_words, filters='!\"#$%&()*+,-./:;<=>?@[\\]^_`{|}~', lower=True)\n",
    "tokenizer.fit_on_texts(data['converse'].values.astype(str))\n",
    "sequences = tokenizer.texts_to_sequences(data['converse'].values.astype(str))\n",
    "word_index = tokenizer.word_index\n",
    "print('Found %s unique tokens.' % len(word_index))\n",
    "\n",
    "X = pad_sequences(sequences, maxlen=max_len)"
   ]
  },
  {
   "cell_type": "code",
   "execution_count": 16,
   "metadata": {
    "_cell_guid": "2ca496ca-4bb7-40de-bf69-d86b521af51f",
    "_uuid": "97226bf26ef141c228a1123e125ef7966612db47",
    "collapsed": true
   },
   "outputs": [],
   "source": [
    "X_train, X_test, y_train, y_test = train_test_split(X , labels, test_size=0.25, random_state=42)"
   ]
  },
  {
   "cell_type": "code",
   "execution_count": 17,
   "metadata": {
    "_cell_guid": "4e5bcf7a-4c6b-44fc-963d-415b9338abe4",
    "_uuid": "28940e621602cfd9645a88dd43427b2431c75b5b"
   },
   "outputs": [
    {
     "data": {
      "text/plain": [
       "array([[0, 0, 0, 0, 0, 0, 0, 0, 0, 0, 0, 0, 0, 1, 0, 0, 0, 0, 0, 0, 0],\n",
       "       [0, 0, 0, 0, 0, 0, 0, 0, 1, 0, 0, 0, 0, 0, 0, 0, 0, 0, 0, 0, 0]],\n",
       "      dtype=uint8)"
      ]
     },
     "execution_count": 17,
     "metadata": {},
     "output_type": "execute_result"
    }
   ],
   "source": [
    "epochs = 10\n",
    "emb_dim = 128\n",
    "batch_size = 256\n",
    "labels[:2]"
   ]
  },
  {
   "cell_type": "code",
   "execution_count": 19,
   "metadata": {
    "_cell_guid": "79a42a6f-01f4-4e74-b645-321f2a0a6e39",
    "_uuid": "f50c8494777ca5141da8c23bb932e531a82b89d5"
   },
   "outputs": [
    {
     "name": "stdout",
     "output_type": "stream",
     "text": [
      "((36524, 130), (36524, 21), (12175, 130), (12175, 21))\n",
      "_________________________________________________________________\n",
      "Layer (type)                 Output Shape              Param #   \n",
      "=================================================================\n",
      "embedding_2 (Embedding)      (None, 130, 128)          1024000   \n",
      "_________________________________________________________________\n",
      "spatial_dropout1d_2 (Spatial (None, 130, 128)          0         \n",
      "_________________________________________________________________\n",
      "lstm_2 (LSTM)                (None, 64)                49408     \n",
      "_________________________________________________________________\n",
      "dense_2 (Dense)              (None, 21)                1365      \n",
      "=================================================================\n",
      "Total params: 1,074,773\n",
      "Trainable params: 1,074,773\n",
      "Non-trainable params: 0\n",
      "_________________________________________________________________\n",
      "None\n",
      "Train on 29219 samples, validate on 7305 samples\n",
      "Epoch 1/10\n",
      "29219/29219 [==============================] - 91s 3ms/step - loss: 2.5248 - acc: 0.2331 - val_loss: 2.1766 - val_acc: 0.3424\n",
      "Epoch 2/10\n",
      "29219/29219 [==============================] - 99s 3ms/step - loss: 2.1175 - acc: 0.3599 - val_loss: 1.9435 - val_acc: 0.4204\n",
      "Epoch 3/10\n",
      "29219/29219 [==============================] - 96s 3ms/step - loss: 1.9650 - acc: 0.4092 - val_loss: 1.8413 - val_acc: 0.4418\n",
      "Epoch 4/10\n",
      "29219/29219 [==============================] - 93s 3ms/step - loss: 1.8696 - acc: 0.4325 - val_loss: 1.7370 - val_acc: 0.4730\n",
      "Epoch 5/10\n",
      "29219/29219 [==============================] - 94s 3ms/step - loss: 1.7851 - acc: 0.4576 - val_loss: 1.6628 - val_acc: 0.4876\n",
      "Epoch 6/10\n",
      "29219/29219 [==============================] - 95s 3ms/step - loss: 1.7030 - acc: 0.4789 - val_loss: 1.5622 - val_acc: 0.5098\n",
      "Epoch 7/10\n",
      "29219/29219 [==============================] - 91s 3ms/step - loss: 1.6260 - acc: 0.5017 - val_loss: 1.4779 - val_acc: 0.5424\n",
      "Epoch 8/10\n",
      "29219/29219 [==============================] - 93s 3ms/step - loss: 1.5662 - acc: 0.5163 - val_loss: 1.3989 - val_acc: 0.5695\n",
      "Epoch 9/10\n",
      "29219/29219 [==============================] - 82s 3ms/step - loss: 1.4992 - acc: 0.5373 - val_loss: 1.3293 - val_acc: 0.5814\n",
      "Epoch 10/10\n",
      "29219/29219 [==============================] - 82s 3ms/step - loss: 1.4363 - acc: 0.5559 - val_loss: 1.2758 - val_acc: 0.6001\n"
     ]
    }
   ],
   "source": [
    "print((X_train.shape, y_train.shape, X_test.shape, y_test.shape))\n",
    "\n",
    "model = Sequential()\n",
    "model.add(Embedding(n_most_common_words, emb_dim, input_length=X.shape[1]))\n",
    "model.add(SpatialDropout1D(0.7))\n",
    "model.add(LSTM(64, dropout=0.7, recurrent_dropout=0.7))\n",
    "model.add(Dense(21, activation='softmax'))\n",
    "model.compile(optimizer='adam', loss='categorical_crossentropy', metrics=['acc'])\n",
    "print(model.summary())\n",
    "history = model.fit(X_train, y_train, epochs=epochs, batch_size=batch_size,validation_split=0.2,callbacks=[EarlyStopping(monitor='val_loss',patience=7, min_delta=0.0001)])"
   ]
  },
  {
   "cell_type": "code",
   "execution_count": null,
   "metadata": {
    "_cell_guid": "fa53cfb9-75f7-47ee-b53d-b7f241ee082a",
    "_uuid": "a16c336b7eae3d72c7c92cf799702eacf70677c7"
   },
   "outputs": [],
   "source": [
    "accr = model.evaluate(X_test,y_test)\n",
    "print('Test set\\n  Loss: {:0.3f}\\n  Accuracy: {:0.3f}'.format(accr[0],accr[1]))"
   ]
  },
  {
   "cell_type": "code",
   "execution_count": null,
   "metadata": {
    "_cell_guid": "1130440c-dd13-4f36-9657-01b13f322efb",
    "_uuid": "f8400fe47eebbb7e8456d6f3617c6bcd7eccecf6",
    "collapsed": true
   },
   "outputs": [],
   "source": [
    "import matplotlib.pyplot as plt\n",
    "\n",
    "acc = history.history['acc']\n",
    "val_acc = history.history['val_acc']\n",
    "loss = history.history['loss']\n",
    "val_loss = history.history['val_loss']\n",
    "\n",
    "epochs = range(1, len(acc) + 1)\n",
    "\n",
    "plt.plot(epochs, acc, 'bo', label='Training acc')\n",
    "plt.plot(epochs, val_acc, 'b', label='Validation acc')\n",
    "plt.title('Training and validation accuracy')\n",
    "plt.legend()\n",
    "\n",
    "plt.figure()\n",
    "\n",
    "plt.plot(epochs, loss, 'bo', label='Training loss')\n",
    "plt.plot(epochs, val_loss, 'b', label='Validation loss')\n",
    "plt.title('Training and validation loss')\n",
    "plt.legend()\n",
    "\n",
    "plt.show()"
   ]
  },
  {
   "cell_type": "code",
   "execution_count": null,
   "metadata": {
    "_cell_guid": "9af38e60-0811-485d-8da3-32a744b53365",
    "_uuid": "25ba8e0b354451cc482a93324e42781fde6d0826",
    "collapsed": true
   },
   "outputs": [],
   "source": [
    "txt = [\"Regular fast food eating linked to fertility issues in women\"]\n",
    "seq = tokenizer.texts_to_sequences(txt)\n",
    "padded = pad_sequences(seq, maxlen=max_len)\n",
    "pred = model.predict(padded)\n",
    "labels = ['entertainment', 'bussiness', 'science/tech', 'health']\n",
    "print(pred, labels[np.argmax(pred)])"
   ]
  }
 ],
 "metadata": {
  "kernelspec": {
   "display_name": "Python 3",
   "language": "python",
   "name": "python3"
  },
  "language_info": {
   "codemirror_mode": {
    "name": "ipython",
    "version": 3
   },
   "file_extension": ".py",
   "mimetype": "text/x-python",
   "name": "python",
   "nbconvert_exporter": "python",
   "pygments_lexer": "ipython3",
   "version": "3.6.2"
  }
 },
 "nbformat": 4,
 "nbformat_minor": 1
}
