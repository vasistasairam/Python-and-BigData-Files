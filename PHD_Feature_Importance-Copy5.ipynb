{
 "cells": [
  {
   "cell_type": "markdown",
   "metadata": {},
   "source": [
    "### Imp Features 0.025 %"
   ]
  },
  {
   "cell_type": "code",
   "execution_count": 1,
   "metadata": {
    "collapsed": true
   },
   "outputs": [],
   "source": [
    "import pandas as pd\n",
    "import numpy as np\n",
    "import os\n",
    "import warnings\n",
    "warnings.filterwarnings('ignore')\n",
    "from datetime import date\n",
    "from datetime import datetime\n",
    "import dateutil\n",
    "from pandas import *\n",
    "import seaborn as sns\n",
    "import matplotlib.pyplot as plt\n",
    "from sklearn.preprocessing import MinMaxScaler"
   ]
  },
  {
   "cell_type": "code",
   "execution_count": 2,
   "metadata": {
    "collapsed": true
   },
   "outputs": [],
   "source": [
    "from sklearn.model_selection import train_test_split\n",
    "from sklearn.ensemble import RandomForestRegressor, GradientBoostingRegressor\n",
    "from sklearn.metrics import r2_score\n",
    "from sklearn.model_selection import KFold \n",
    "from sklearn.model_selection import cross_val_score\n",
    "import lightgbm as lgb\n",
    "from sklearn.model_selection import StratifiedKFold"
   ]
  },
  {
   "cell_type": "code",
   "execution_count": 3,
   "metadata": {
    "collapsed": true
   },
   "outputs": [],
   "source": [
    "csv_files = os.chdir('C:\\\\Users\\\\HP\\\\Desktop\\\\PHD Hackathon\\\\Data Science\\\\PHD Models\\\\Weather_Features')\n",
    "weather_features = pd.read_csv('weatherData_full.csv', encoding='latin 1')\n",
    "holidays_features = pd.read_csv('holidays_features.csv')\n",
    "economic_features = pd.read_csv('economic_features.csv')\n",
    "womenClothing_sales = pd.read_csv('womenClothing_sales.csv')"
   ]
  },
  {
   "cell_type": "code",
   "execution_count": 4,
   "metadata": {},
   "outputs": [
    {
     "name": "stdout",
     "output_type": "stream",
     "text": [
      "womenClothing : (84, 3)\n",
      "holidays_features : (81, 6)\n",
      "economic_features : (96, 18)\n",
      "weather_features : (96, 83)\n"
     ]
    }
   ],
   "source": [
    "print('womenClothing :', womenClothing_sales.shape)\n",
    "print('holidays_features :', holidays_features.shape)\n",
    "print('economic_features :', economic_features.shape)\n",
    "print('weather_features :', weather_features.shape)"
   ]
  },
  {
   "cell_type": "markdown",
   "metadata": {},
   "source": [
    "## Seperate Train and Test Data"
   ]
  },
  {
   "cell_type": "markdown",
   "metadata": {},
   "source": [
    "### Test Data"
   ]
  },
  {
   "cell_type": "code",
   "execution_count": 5,
   "metadata": {
    "collapsed": true
   },
   "outputs": [],
   "source": [
    "weather_features_test = weather_features[weather_features['Year'] == 2016]\n",
    "holidays_features_test = holidays_features[holidays_features['Year'] == 2016]\n",
    "economic_features_test = economic_features[economic_features['Year'] == 2016]"
   ]
  },
  {
   "cell_type": "code",
   "execution_count": 6,
   "metadata": {},
   "outputs": [
    {
     "name": "stdout",
     "output_type": "stream",
     "text": [
      "holidays_features : (11, 6)\n",
      "economic_features : (12, 18)\n",
      "weather_features : (12, 83)\n"
     ]
    }
   ],
   "source": [
    "print('holidays_features :', holidays_features_test.shape)\n",
    "print('economic_features :', economic_features_test.shape)\n",
    "print('weather_features :', weather_features_test.shape)"
   ]
  },
  {
   "cell_type": "code",
   "execution_count": 7,
   "metadata": {
    "collapsed": true
   },
   "outputs": [],
   "source": [
    "test_data = weather_features_test.merge(holidays_features_test, left_on=['Year', 'Month'], right_on=['Year', 'Month'], how='left')\n",
    "test_data = test_data.merge(economic_features_test, left_on=['Year', 'Month'], right_on=['Year', 'Month'], how='left')"
   ]
  },
  {
   "cell_type": "code",
   "execution_count": 8,
   "metadata": {},
   "outputs": [
    {
     "data": {
      "text/html": [
       "<div>\n",
       "<style>\n",
       "    .dataframe thead tr:only-child th {\n",
       "        text-align: right;\n",
       "    }\n",
       "\n",
       "    .dataframe thead th {\n",
       "        text-align: left;\n",
       "    }\n",
       "\n",
       "    .dataframe tbody tr th {\n",
       "        vertical-align: top;\n",
       "    }\n",
       "</style>\n",
       "<table border=\"1\" class=\"dataframe\">\n",
       "  <thead>\n",
       "    <tr style=\"text-align: right;\">\n",
       "      <th></th>\n",
       "      <th>Year</th>\n",
       "      <th>Month</th>\n",
       "      <th>Temp high (°C)min</th>\n",
       "      <th>Temp high (°C)max</th>\n",
       "      <th>Temp high (°C)mean</th>\n",
       "      <th>Temp high (°C)var</th>\n",
       "      <th>Temp avg (°C)min</th>\n",
       "      <th>Temp avg (°C)max</th>\n",
       "      <th>Temp avg (°C)mean</th>\n",
       "      <th>Temp avg (°C)var</th>\n",
       "      <th>...</th>\n",
       "      <th>Earnings or wages  in dollars per hour</th>\n",
       "      <th>AdvertisingExpenses (in Thousand Dollars)</th>\n",
       "      <th>Cotton Monthly Price - US cents per Pound(lbs)</th>\n",
       "      <th>Change(in%)</th>\n",
       "      <th>Average upland planted(million acres)</th>\n",
       "      <th>Average upland harvested(million acres)</th>\n",
       "      <th>yieldperharvested acre</th>\n",
       "      <th>Production (in  480-lb netweright in million bales)</th>\n",
       "      <th>Mill use  (in  480-lb netweright in million bales)</th>\n",
       "      <th>Exports</th>\n",
       "    </tr>\n",
       "  </thead>\n",
       "  <tbody>\n",
       "    <tr>\n",
       "      <th>7</th>\n",
       "      <td>2016</td>\n",
       "      <td>5</td>\n",
       "      <td>11.0</td>\n",
       "      <td>33.0</td>\n",
       "      <td>21.258065</td>\n",
       "      <td>45.197849</td>\n",
       "      <td>9.0</td>\n",
       "      <td>28.0</td>\n",
       "      <td>17.193548</td>\n",
       "      <td>31.894624</td>\n",
       "      <td>...</td>\n",
       "      <td>25.68</td>\n",
       "      <td>0.0</td>\n",
       "      <td>70.28</td>\n",
       "      <td>0.73</td>\n",
       "      <td>8.422</td>\n",
       "      <td>7.920</td>\n",
       "      <td>755</td>\n",
       "      <td>12.455</td>\n",
       "      <td>3.275</td>\n",
       "      <td>8.50</td>\n",
       "    </tr>\n",
       "    <tr>\n",
       "      <th>8</th>\n",
       "      <td>2016</td>\n",
       "      <td>6</td>\n",
       "      <td>19.0</td>\n",
       "      <td>31.0</td>\n",
       "      <td>27.100000</td>\n",
       "      <td>11.127586</td>\n",
       "      <td>16.0</td>\n",
       "      <td>27.0</td>\n",
       "      <td>22.433333</td>\n",
       "      <td>6.322989</td>\n",
       "      <td>...</td>\n",
       "      <td>25.42</td>\n",
       "      <td>0.0</td>\n",
       "      <td>74.10</td>\n",
       "      <td>0.73</td>\n",
       "      <td>9.347</td>\n",
       "      <td>8.588</td>\n",
       "      <td>792</td>\n",
       "      <td>12.165</td>\n",
       "      <td>3.275</td>\n",
       "      <td>9.95</td>\n",
       "    </tr>\n",
       "    <tr>\n",
       "      <th>9</th>\n",
       "      <td>2016</td>\n",
       "      <td>7</td>\n",
       "      <td>22.0</td>\n",
       "      <td>36.0</td>\n",
       "      <td>30.129032</td>\n",
       "      <td>11.449462</td>\n",
       "      <td>21.0</td>\n",
       "      <td>31.0</td>\n",
       "      <td>26.064516</td>\n",
       "      <td>6.662366</td>\n",
       "      <td>...</td>\n",
       "      <td>25.53</td>\n",
       "      <td>0.0</td>\n",
       "      <td>79.50</td>\n",
       "      <td>0.73</td>\n",
       "      <td>9.824</td>\n",
       "      <td>9.104</td>\n",
       "      <td>802</td>\n",
       "      <td>15.215</td>\n",
       "      <td>3.275</td>\n",
       "      <td>10.95</td>\n",
       "    </tr>\n",
       "    <tr>\n",
       "      <th>10</th>\n",
       "      <td>2016</td>\n",
       "      <td>8</td>\n",
       "      <td>26.0</td>\n",
       "      <td>36.0</td>\n",
       "      <td>30.354839</td>\n",
       "      <td>6.169892</td>\n",
       "      <td>22.0</td>\n",
       "      <td>32.0</td>\n",
       "      <td>26.354839</td>\n",
       "      <td>5.303226</td>\n",
       "      <td>...</td>\n",
       "      <td>25.52</td>\n",
       "      <td>0.0</td>\n",
       "      <td>79.50</td>\n",
       "      <td>0.00</td>\n",
       "      <td>9.824</td>\n",
       "      <td>9.340</td>\n",
       "      <td>787</td>\n",
       "      <td>15.314</td>\n",
       "      <td>3.275</td>\n",
       "      <td>10.95</td>\n",
       "    </tr>\n",
       "    <tr>\n",
       "      <th>11</th>\n",
       "      <td>2016</td>\n",
       "      <td>9</td>\n",
       "      <td>15.0</td>\n",
       "      <td>33.0</td>\n",
       "      <td>26.166667</td>\n",
       "      <td>19.040230</td>\n",
       "      <td>14.0</td>\n",
       "      <td>28.0</td>\n",
       "      <td>22.133333</td>\n",
       "      <td>12.809195</td>\n",
       "      <td>...</td>\n",
       "      <td>25.74</td>\n",
       "      <td>0.0</td>\n",
       "      <td>77.86</td>\n",
       "      <td>0.00</td>\n",
       "      <td>9.950</td>\n",
       "      <td>9.464</td>\n",
       "      <td>790</td>\n",
       "      <td>15.580</td>\n",
       "      <td>3.275</td>\n",
       "      <td>10.95</td>\n",
       "    </tr>\n",
       "  </tbody>\n",
       "</table>\n",
       "<p>5 rows × 103 columns</p>\n",
       "</div>"
      ],
      "text/plain": [
       "    Year  Month  Temp high (°C)min  Temp high (°C)max  Temp high (°C)mean  \\\n",
       "7   2016      5               11.0               33.0           21.258065   \n",
       "8   2016      6               19.0               31.0           27.100000   \n",
       "9   2016      7               22.0               36.0           30.129032   \n",
       "10  2016      8               26.0               36.0           30.354839   \n",
       "11  2016      9               15.0               33.0           26.166667   \n",
       "\n",
       "    Temp high (°C)var  Temp avg (°C)min  Temp avg (°C)max  Temp avg (°C)mean  \\\n",
       "7           45.197849               9.0              28.0          17.193548   \n",
       "8           11.127586              16.0              27.0          22.433333   \n",
       "9           11.449462              21.0              31.0          26.064516   \n",
       "10           6.169892              22.0              32.0          26.354839   \n",
       "11          19.040230              14.0              28.0          22.133333   \n",
       "\n",
       "    Temp avg (°C)var   ...     Earnings or wages  in dollars per hour  \\\n",
       "7          31.894624   ...                                      25.68   \n",
       "8           6.322989   ...                                      25.42   \n",
       "9           6.662366   ...                                      25.53   \n",
       "10          5.303226   ...                                      25.52   \n",
       "11         12.809195   ...                                      25.74   \n",
       "\n",
       "    AdvertisingExpenses (in Thousand Dollars)  \\\n",
       "7                                         0.0   \n",
       "8                                         0.0   \n",
       "9                                         0.0   \n",
       "10                                        0.0   \n",
       "11                                        0.0   \n",
       "\n",
       "    Cotton Monthly Price - US cents per Pound(lbs)  Change(in%)  \\\n",
       "7                                            70.28         0.73   \n",
       "8                                            74.10         0.73   \n",
       "9                                            79.50         0.73   \n",
       "10                                           79.50         0.00   \n",
       "11                                           77.86         0.00   \n",
       "\n",
       "    Average upland planted(million acres)  \\\n",
       "7                                   8.422   \n",
       "8                                   9.347   \n",
       "9                                   9.824   \n",
       "10                                  9.824   \n",
       "11                                  9.950   \n",
       "\n",
       "    Average upland harvested(million acres)  yieldperharvested acre  \\\n",
       "7                                     7.920                     755   \n",
       "8                                     8.588                     792   \n",
       "9                                     9.104                     802   \n",
       "10                                    9.340                     787   \n",
       "11                                    9.464                     790   \n",
       "\n",
       "    Production (in  480-lb netweright in million bales)  \\\n",
       "7                                              12.455     \n",
       "8                                              12.165     \n",
       "9                                              15.215     \n",
       "10                                             15.314     \n",
       "11                                             15.580     \n",
       "\n",
       "    Mill use  (in  480-lb netweright in million bales)  Exports  \n",
       "7                                               3.275      8.50  \n",
       "8                                               3.275      9.95  \n",
       "9                                               3.275     10.95  \n",
       "10                                              3.275     10.95  \n",
       "11                                              3.275     10.95  \n",
       "\n",
       "[5 rows x 103 columns]"
      ]
     },
     "execution_count": 8,
     "metadata": {},
     "output_type": "execute_result"
    }
   ],
   "source": [
    "test_data.tail()"
   ]
  },
  {
   "cell_type": "code",
   "execution_count": 9,
   "metadata": {
    "scrolled": true
   },
   "outputs": [
    {
     "data": {
      "text/plain": [
       "Year                                                                 0\n",
       "Month                                                                0\n",
       "Temp high (°C)min                                                    0\n",
       "Temp high (°C)max                                                    0\n",
       "Temp high (°C)mean                                                   0\n",
       "Temp high (°C)var                                                    0\n",
       "Temp avg (°C)min                                                     0\n",
       "Temp avg (°C)max                                                     0\n",
       "Temp avg (°C)mean                                                    0\n",
       "Temp avg (°C)var                                                     0\n",
       "Temp low (°C)min                                                     0\n",
       "Temp low (°C)max                                                     0\n",
       "Temp low (°C)mean                                                    0\n",
       "Temp low (°C)var                                                     0\n",
       "Dew Point high (°C)min                                               0\n",
       "Dew Point high (°C)max                                               0\n",
       "Dew Point high (°C)mean                                              0\n",
       "Dew Point high (°C)var                                               0\n",
       "Dew Point avg (°C)min                                                0\n",
       "Dew Point avg (°C)max                                                0\n",
       "Dew Point avg (°C)mean                                               0\n",
       "Dew Point avg (°C)var                                                0\n",
       "Dew Point low (°C)min                                                0\n",
       "Dew Point low (°C)max                                                0\n",
       "Dew Point low (°C)mean                                               0\n",
       "Dew Point low (°C)var                                                0\n",
       "Humidity_highmin                                                     0\n",
       "Humidity_highmax                                                     0\n",
       "Humidity_highmean                                                    0\n",
       "Humidity_highvar                                                     0\n",
       "                                                                    ..\n",
       "Wind (km/h) highvar                                                  0\n",
       "Fog                                                                  0\n",
       "Fog , Rain                                                           0\n",
       "Fog , Rain , Snow                                                    0\n",
       "Fog , Snow                                                           0\n",
       "Other                                                                0\n",
       "Rain                                                                 0\n",
       "Rain , Snow                                                          0\n",
       "Snow                                                                 0\n",
       "Thunderstorm                                                         0\n",
       "Event                                                                1\n",
       "Federal Holiday                                                      1\n",
       "Event_Yes_No                                                         1\n",
       "Federal Holiday_Yes_No                                               1\n",
       "Monthly Nominal GDP Index (inMillion$)                               0\n",
       "Monthly Real GDP Index (inMillion$)                                  0\n",
       "CPI                                                                  0\n",
       "unemployment rate                                                    0\n",
       "CommercialBankInterestRateonCreditCardPlans                          0\n",
       "Finance Rate on Personal Loans at Commercial Banks, 24 Month Loan    0\n",
       "Earnings or wages  in dollars per hour                               0\n",
       "AdvertisingExpenses (in Thousand Dollars)                            0\n",
       "Cotton Monthly Price - US cents per Pound(lbs)                       0\n",
       "Change(in%)                                                          0\n",
       "Average upland planted(million acres)                                0\n",
       "Average upland harvested(million acres)                              0\n",
       "yieldperharvested acre                                               0\n",
       "Production (in  480-lb netweright in million bales)                  0\n",
       "Mill use  (in  480-lb netweright in million bales)                   0\n",
       "Exports                                                              0\n",
       "Length: 103, dtype: int64"
      ]
     },
     "execution_count": 9,
     "metadata": {},
     "output_type": "execute_result"
    }
   ],
   "source": [
    "test_data.isnull().sum()"
   ]
  },
  {
   "cell_type": "markdown",
   "metadata": {},
   "source": [
    "### Train Data"
   ]
  },
  {
   "cell_type": "code",
   "execution_count": 10,
   "metadata": {
    "collapsed": true
   },
   "outputs": [],
   "source": [
    "weather_features_train = weather_features[weather_features['Year'] != 2016]\n",
    "holidays_features_train = holidays_features[holidays_features['Year'] != 2016]\n",
    "economic_features_train = economic_features[economic_features['Year'] != 2016]"
   ]
  },
  {
   "cell_type": "code",
   "execution_count": 11,
   "metadata": {},
   "outputs": [
    {
     "name": "stdout",
     "output_type": "stream",
     "text": [
      "holidays_features : (70, 6)\n",
      "economic_features : (84, 18)\n",
      "weather_features : (84, 83)\n"
     ]
    }
   ],
   "source": [
    "print('holidays_features :', holidays_features_train.shape)\n",
    "print('economic_features :', economic_features_train.shape)\n",
    "print('weather_features :', weather_features_train.shape)"
   ]
  },
  {
   "cell_type": "code",
   "execution_count": 12,
   "metadata": {
    "collapsed": true
   },
   "outputs": [],
   "source": [
    "train_data = womenClothing_sales.merge(holidays_features_train, left_on=['Year', 'Month'], right_on=['Year', 'Month'], how='left')\n",
    "train_data = train_data.merge(economic_features_train, left_on=['Year', 'Month'], right_on=['Year', 'Month'], how='left')\n",
    "train_data = train_data.merge(weather_features_train, left_on=['Year', 'Month'], right_on=['Year', 'Month'], how='left')"
   ]
  },
  {
   "cell_type": "code",
   "execution_count": 13,
   "metadata": {},
   "outputs": [
    {
     "data": {
      "text/html": [
       "<div>\n",
       "<style>\n",
       "    .dataframe thead tr:only-child th {\n",
       "        text-align: right;\n",
       "    }\n",
       "\n",
       "    .dataframe thead th {\n",
       "        text-align: left;\n",
       "    }\n",
       "\n",
       "    .dataframe tbody tr th {\n",
       "        vertical-align: top;\n",
       "    }\n",
       "</style>\n",
       "<table border=\"1\" class=\"dataframe\">\n",
       "  <thead>\n",
       "    <tr style=\"text-align: right;\">\n",
       "      <th></th>\n",
       "      <th>Year</th>\n",
       "      <th>Month</th>\n",
       "      <th>WomenClothing_Sales</th>\n",
       "      <th>Event</th>\n",
       "      <th>Federal Holiday</th>\n",
       "      <th>Event_Yes_No</th>\n",
       "      <th>Federal Holiday_Yes_No</th>\n",
       "      <th>Monthly Nominal GDP Index (inMillion$)</th>\n",
       "      <th>Monthly Real GDP Index (inMillion$)</th>\n",
       "      <th>CPI</th>\n",
       "      <th>...</th>\n",
       "      <th>Wind (km/h) highvar</th>\n",
       "      <th>Fog</th>\n",
       "      <th>Fog , Rain</th>\n",
       "      <th>Fog , Rain , Snow</th>\n",
       "      <th>Fog , Snow</th>\n",
       "      <th>Other</th>\n",
       "      <th>Rain</th>\n",
       "      <th>Rain , Snow</th>\n",
       "      <th>Snow</th>\n",
       "      <th>Thunderstorm</th>\n",
       "    </tr>\n",
       "  </thead>\n",
       "  <tbody>\n",
       "    <tr>\n",
       "      <th>0</th>\n",
       "      <td>2009</td>\n",
       "      <td>1</td>\n",
       "      <td>1755.0</td>\n",
       "      <td>0.0</td>\n",
       "      <td>2.0</td>\n",
       "      <td>No</td>\n",
       "      <td>Yes</td>\n",
       "      <td>14421.752895</td>\n",
       "      <td>14407.053343</td>\n",
       "      <td>233.402</td>\n",
       "      <td>...</td>\n",
       "      <td>96.625806</td>\n",
       "      <td>0</td>\n",
       "      <td>0</td>\n",
       "      <td>2</td>\n",
       "      <td>2</td>\n",
       "      <td>21</td>\n",
       "      <td>3</td>\n",
       "      <td>0</td>\n",
       "      <td>3</td>\n",
       "      <td>0</td>\n",
       "    </tr>\n",
       "    <tr>\n",
       "      <th>1</th>\n",
       "      <td>2009</td>\n",
       "      <td>2</td>\n",
       "      <td>1729.0</td>\n",
       "      <td>1.0</td>\n",
       "      <td>1.0</td>\n",
       "      <td>Yes</td>\n",
       "      <td>Yes</td>\n",
       "      <td>14389.200466</td>\n",
       "      <td>14366.176571</td>\n",
       "      <td>234.663</td>\n",
       "      <td>...</td>\n",
       "      <td>167.349206</td>\n",
       "      <td>0</td>\n",
       "      <td>0</td>\n",
       "      <td>0</td>\n",
       "      <td>1</td>\n",
       "      <td>22</td>\n",
       "      <td>4</td>\n",
       "      <td>1</td>\n",
       "      <td>0</td>\n",
       "      <td>0</td>\n",
       "    </tr>\n",
       "    <tr>\n",
       "      <th>2</th>\n",
       "      <td>2009</td>\n",
       "      <td>3</td>\n",
       "      <td>2256.0</td>\n",
       "      <td>NaN</td>\n",
       "      <td>NaN</td>\n",
       "      <td>NaN</td>\n",
       "      <td>NaN</td>\n",
       "      <td>14340.701639</td>\n",
       "      <td>14351.786822</td>\n",
       "      <td>235.067</td>\n",
       "      <td>...</td>\n",
       "      <td>92.245161</td>\n",
       "      <td>1</td>\n",
       "      <td>0</td>\n",
       "      <td>0</td>\n",
       "      <td>2</td>\n",
       "      <td>21</td>\n",
       "      <td>7</td>\n",
       "      <td>0</td>\n",
       "      <td>0</td>\n",
       "      <td>0</td>\n",
       "    </tr>\n",
       "    <tr>\n",
       "      <th>3</th>\n",
       "      <td>2009</td>\n",
       "      <td>4</td>\n",
       "      <td>2662.0</td>\n",
       "      <td>1.0</td>\n",
       "      <td>0.0</td>\n",
       "      <td>Yes</td>\n",
       "      <td>No</td>\n",
       "      <td>14326.815525</td>\n",
       "      <td>14351.601731</td>\n",
       "      <td>235.582</td>\n",
       "      <td>...</td>\n",
       "      <td>87.426437</td>\n",
       "      <td>0</td>\n",
       "      <td>1</td>\n",
       "      <td>0</td>\n",
       "      <td>0</td>\n",
       "      <td>18</td>\n",
       "      <td>11</td>\n",
       "      <td>0</td>\n",
       "      <td>0</td>\n",
       "      <td>0</td>\n",
       "    </tr>\n",
       "    <tr>\n",
       "      <th>4</th>\n",
       "      <td>2009</td>\n",
       "      <td>5</td>\n",
       "      <td>2732.0</td>\n",
       "      <td>1.0</td>\n",
       "      <td>1.0</td>\n",
       "      <td>Yes</td>\n",
       "      <td>Yes</td>\n",
       "      <td>14345.904809</td>\n",
       "      <td>14368.123959</td>\n",
       "      <td>235.975</td>\n",
       "      <td>...</td>\n",
       "      <td>88.874886</td>\n",
       "      <td>0</td>\n",
       "      <td>4</td>\n",
       "      <td>0</td>\n",
       "      <td>0</td>\n",
       "      <td>17</td>\n",
       "      <td>10</td>\n",
       "      <td>0</td>\n",
       "      <td>0</td>\n",
       "      <td>0</td>\n",
       "    </tr>\n",
       "  </tbody>\n",
       "</table>\n",
       "<p>5 rows × 104 columns</p>\n",
       "</div>"
      ],
      "text/plain": [
       "   Year  Month  WomenClothing_Sales  Event  Federal Holiday Event_Yes_No  \\\n",
       "0  2009      1               1755.0    0.0              2.0           No   \n",
       "1  2009      2               1729.0    1.0              1.0          Yes   \n",
       "2  2009      3               2256.0    NaN              NaN          NaN   \n",
       "3  2009      4               2662.0    1.0              0.0          Yes   \n",
       "4  2009      5               2732.0    1.0              1.0          Yes   \n",
       "\n",
       "  Federal Holiday_Yes_No  Monthly Nominal GDP Index (inMillion$)  \\\n",
       "0                    Yes                            14421.752895   \n",
       "1                    Yes                            14389.200466   \n",
       "2                    NaN                            14340.701639   \n",
       "3                     No                            14326.815525   \n",
       "4                    Yes                            14345.904809   \n",
       "\n",
       "   Monthly Real GDP Index (inMillion$)      CPI      ...       \\\n",
       "0                         14407.053343  233.402      ...        \n",
       "1                         14366.176571  234.663      ...        \n",
       "2                         14351.786822  235.067      ...        \n",
       "3                         14351.601731  235.582      ...        \n",
       "4                         14368.123959  235.975      ...        \n",
       "\n",
       "   Wind (km/h) highvar  Fog  Fog , Rain  Fog , Rain , Snow  Fog , Snow  Other  \\\n",
       "0            96.625806    0           0                  2           2     21   \n",
       "1           167.349206    0           0                  0           1     22   \n",
       "2            92.245161    1           0                  0           2     21   \n",
       "3            87.426437    0           1                  0           0     18   \n",
       "4            88.874886    0           4                  0           0     17   \n",
       "\n",
       "   Rain  Rain , Snow  Snow  Thunderstorm  \n",
       "0     3            0     3             0  \n",
       "1     4            1     0             0  \n",
       "2     7            0     0             0  \n",
       "3    11            0     0             0  \n",
       "4    10            0     0             0  \n",
       "\n",
       "[5 rows x 104 columns]"
      ]
     },
     "execution_count": 13,
     "metadata": {},
     "output_type": "execute_result"
    }
   ],
   "source": [
    "train_data.head()"
   ]
  },
  {
   "cell_type": "code",
   "execution_count": 14,
   "metadata": {},
   "outputs": [
    {
     "data": {
      "text/plain": [
       "(84, 104)"
      ]
     },
     "execution_count": 14,
     "metadata": {},
     "output_type": "execute_result"
    }
   ],
   "source": [
    "train_data.shape"
   ]
  },
  {
   "cell_type": "code",
   "execution_count": 15,
   "metadata": {
    "scrolled": true
   },
   "outputs": [
    {
     "data": {
      "text/plain": [
       "Year                                                                  0\n",
       "Month                                                                 0\n",
       "WomenClothing_Sales                                                   0\n",
       "Event                                                                14\n",
       "Federal Holiday                                                      14\n",
       "Event_Yes_No                                                         14\n",
       "Federal Holiday_Yes_No                                               14\n",
       "Monthly Nominal GDP Index (inMillion$)                                0\n",
       "Monthly Real GDP Index (inMillion$)                                   0\n",
       "CPI                                                                   0\n",
       "unemployment rate                                                     0\n",
       "CommercialBankInterestRateonCreditCardPlans                           0\n",
       "Finance Rate on Personal Loans at Commercial Banks, 24 Month Loan     0\n",
       "Earnings or wages  in dollars per hour                                0\n",
       "AdvertisingExpenses (in Thousand Dollars)                             0\n",
       "Cotton Monthly Price - US cents per Pound(lbs)                        0\n",
       "Change(in%)                                                           0\n",
       "Average upland planted(million acres)                                 0\n",
       "Average upland harvested(million acres)                               0\n",
       "yieldperharvested acre                                                0\n",
       "Production (in  480-lb netweright in million bales)                   0\n",
       "Mill use  (in  480-lb netweright in million bales)                    0\n",
       "Exports                                                               0\n",
       "Temp high (°C)min                                                     0\n",
       "Temp high (°C)max                                                     0\n",
       "Temp high (°C)mean                                                    0\n",
       "Temp high (°C)var                                                     0\n",
       "Temp avg (°C)min                                                      0\n",
       "Temp avg (°C)max                                                      0\n",
       "Temp avg (°C)mean                                                     0\n",
       "                                                                     ..\n",
       "Visibility (km) highvar                                               0\n",
       "Visibility (km) avgmin                                                0\n",
       "Visibility (km) avgmax                                                0\n",
       "Visibility (km) avgmean                                               0\n",
       "Visibility (km) avgvar                                                0\n",
       "Visibility (km) lowmin                                                0\n",
       "Visibility (km) lowmax                                                0\n",
       "Visibility (km) lowmean                                               0\n",
       "Visibility (km) lowvar                                                0\n",
       "Wind (km/h) lowmin                                                    0\n",
       "Wind (km/h) lowmax                                                    0\n",
       "Wind (km/h) lowmean                                                   0\n",
       "Wind (km/h) lowvar                                                    0\n",
       "Wind (km/h) avgmin                                                    0\n",
       "Wind (km/h) avgmax                                                    0\n",
       "Wind (km/h) avgmean                                                   0\n",
       "Wind (km/h) avgvar                                                    0\n",
       "Wind (km/h) highmin                                                   0\n",
       "Wind (km/h) highmax                                                   0\n",
       "Wind (km/h) highmean                                                  0\n",
       "Wind (km/h) highvar                                                   0\n",
       "Fog                                                                   0\n",
       "Fog , Rain                                                            0\n",
       "Fog , Rain , Snow                                                     0\n",
       "Fog , Snow                                                            0\n",
       "Other                                                                 0\n",
       "Rain                                                                  0\n",
       "Rain , Snow                                                           0\n",
       "Snow                                                                  0\n",
       "Thunderstorm                                                          0\n",
       "Length: 104, dtype: int64"
      ]
     },
     "execution_count": 15,
     "metadata": {},
     "output_type": "execute_result"
    }
   ],
   "source": [
    "train_data.isnull().sum()"
   ]
  },
  {
   "cell_type": "code",
   "execution_count": 16,
   "metadata": {
    "collapsed": true
   },
   "outputs": [],
   "source": [
    "# train_data['new_col'] = train_data['Month'].apply(lambda x: 1 if x==12 else 0)\n",
    "# test_data['new_col'] = test_data['Month'].apply(lambda x: 1 if x==12 else 0)\n"
   ]
  },
  {
   "cell_type": "markdown",
   "metadata": {},
   "source": [
    "### Drop Columns"
   ]
  },
  {
   "cell_type": "code",
   "execution_count": 16,
   "metadata": {
    "collapsed": true
   },
   "outputs": [],
   "source": [
    "X = train_data.copy().drop(['WomenClothing_Sales','Event_Yes_No', 'Federal Holiday_Yes_No'], axis = 1)\n",
    "Y = train_data['WomenClothing_Sales']\n",
    "Y1 = train_data['Year']"
   ]
  },
  {
   "cell_type": "markdown",
   "metadata": {},
   "source": [
    "### Fill Missing Values"
   ]
  },
  {
   "cell_type": "code",
   "execution_count": 17,
   "metadata": {
    "collapsed": true
   },
   "outputs": [],
   "source": [
    "X = X.fillna(0)\n",
    "test_data = test_data.fillna(0)"
   ]
  },
  {
   "cell_type": "markdown",
   "metadata": {},
   "source": [
    "## Models"
   ]
  },
  {
   "cell_type": "markdown",
   "metadata": {},
   "source": [
    "### Train Val Split"
   ]
  },
  {
   "cell_type": "code",
   "execution_count": 18,
   "metadata": {
    "collapsed": true,
    "scrolled": false
   },
   "outputs": [],
   "source": [
    "trainX_fold, valX_fold, trainY_fold, valY_fold =  train_test_split(X, Y1, test_size=0.25, random_state=42, shuffle=False)\n",
    "y_train, y_val = Y.loc[trainY_fold.index], Y.loc[valY_fold.index]"
   ]
  },
  {
   "cell_type": "code",
   "execution_count": 19,
   "metadata": {},
   "outputs": [
    {
     "name": "stdout",
     "output_type": "stream",
     "text": [
      "(63, 101)\n"
     ]
    },
    {
     "data": {
      "text/plain": [
       "pandas.core.series.Series"
      ]
     },
     "execution_count": 19,
     "metadata": {},
     "output_type": "execute_result"
    }
   ],
   "source": [
    "print(trainX_fold.shape)\n",
    "type(y_train)"
   ]
  },
  {
   "cell_type": "markdown",
   "metadata": {},
   "source": [
    "### MAPE Function"
   ]
  },
  {
   "cell_type": "code",
   "execution_count": 20,
   "metadata": {
    "collapsed": true
   },
   "outputs": [],
   "source": [
    "def mean_absolute_percentage_error(y_true, y_pred): \n",
    "    y_true, y_pred = np.array(y_true), np.array(y_pred)\n",
    "    return np.mean(np.abs((y_true - y_pred) / y_true)) * 100"
   ]
  },
  {
   "cell_type": "markdown",
   "metadata": {},
   "source": [
    "### Light GBM"
   ]
  },
  {
   "cell_type": "code",
   "execution_count": 21,
   "metadata": {
    "collapsed": true
   },
   "outputs": [],
   "source": [
    "def run_lgb(train_X, train_y, val_X, val_y):\n",
    "    param = {'num_leaves': 30,\n",
    "#              'min_data_in_leaf': 100,\n",
    "             'objective': 'regression',\n",
    "             'max_depth': 8,\n",
    "             'learning_rate': 0.01,\n",
    "             \"boosting\": \"gbdt\",\n",
    "             \"feature_fraction\": 0.7,\n",
    "             \"bagging_freq\": 1,\n",
    "             \"bagging_fraction\": 0.7,\n",
    "             \"bagging_seed\": 11,\n",
    "             \"metric\": 'mape',\n",
    "             # \"lambda_l1\": 0.2634,\n",
    "             \"random_state\": 133,\n",
    "             \"verbosity\": -1}\n",
    "\n",
    "    lgtrain = lgb.Dataset(train_X, label=train_y)\n",
    "    lgval = lgb.Dataset(val_X, label=val_y)\n",
    "    evals_result = {}\n",
    "    model = lgb.train(param, lgtrain, 2000, valid_sets=[lgval], early_stopping_rounds=100, verbose_eval=100,\n",
    "                      evals_result=evals_result)\n",
    "    return model, evals_result\n"
   ]
  },
  {
   "cell_type": "code",
   "execution_count": 22,
   "metadata": {
    "scrolled": true
   },
   "outputs": [
    {
     "name": "stdout",
     "output_type": "stream",
     "text": [
      "Training until validation scores don't improve for 100 rounds.\n",
      "[100]\tvalid_0's mape: 0.195624\n",
      "[200]\tvalid_0's mape: 0.181742\n",
      "[300]\tvalid_0's mape: 0.175896\n",
      "[400]\tvalid_0's mape: 0.170129\n",
      "[500]\tvalid_0's mape: 0.167004\n",
      "[600]\tvalid_0's mape: 0.162919\n",
      "[700]\tvalid_0's mape: 0.161281\n",
      "[800]\tvalid_0's mape: 0.159466\n",
      "[900]\tvalid_0's mape: 0.157624\n",
      "[1000]\tvalid_0's mape: 0.158465\n",
      "Early stopping, best iteration is:\n",
      "[968]\tvalid_0's mape: 0.157335\n"
     ]
    }
   ],
   "source": [
    "model, evals_result = run_lgb(trainX_fold, y_train, valX_fold, y_val)"
   ]
  },
  {
   "cell_type": "code",
   "execution_count": null,
   "metadata": {
    "collapsed": true
   },
   "outputs": [],
   "source": []
  },
  {
   "cell_type": "markdown",
   "metadata": {},
   "source": [
    "### Predict On Test"
   ]
  },
  {
   "cell_type": "code",
   "execution_count": 23,
   "metadata": {},
   "outputs": [],
   "source": [
    "test_data = test_data.drop(['Event_Yes_No', 'Federal Holiday_Yes_No'], axis=1)"
   ]
  },
  {
   "cell_type": "code",
   "execution_count": 24,
   "metadata": {},
   "outputs": [
    {
     "data": {
      "text/plain": [
       "array([2402.33592895, 2992.96830379, 2998.30310342, 2762.06962791,\n",
       "       2402.33592895, 2632.1218568 , 2595.92314856, 2779.97998235,\n",
       "       3019.31766963, 3161.78041328, 3232.59558709, 3121.02598789])"
      ]
     },
     "execution_count": 24,
     "metadata": {},
     "output_type": "execute_result"
    }
   ],
   "source": [
    "model.predict(test_data)"
   ]
  },
  {
   "cell_type": "code",
   "execution_count": 25,
   "metadata": {
    "collapsed": true
   },
   "outputs": [],
   "source": [
    "test_results = pd.DataFrame({'Sales(In ThousandDollars)': model.predict(test_data)})"
   ]
  },
  {
   "cell_type": "code",
   "execution_count": 26,
   "metadata": {},
   "outputs": [
    {
     "data": {
      "text/html": [
       "<div>\n",
       "<style>\n",
       "    .dataframe thead tr:only-child th {\n",
       "        text-align: right;\n",
       "    }\n",
       "\n",
       "    .dataframe thead th {\n",
       "        text-align: left;\n",
       "    }\n",
       "\n",
       "    .dataframe tbody tr th {\n",
       "        vertical-align: top;\n",
       "    }\n",
       "</style>\n",
       "<table border=\"1\" class=\"dataframe\">\n",
       "  <thead>\n",
       "    <tr style=\"text-align: right;\">\n",
       "      <th></th>\n",
       "      <th>Sales(In ThousandDollars)</th>\n",
       "    </tr>\n",
       "  </thead>\n",
       "  <tbody>\n",
       "    <tr>\n",
       "      <th>0</th>\n",
       "      <td>2402.335929</td>\n",
       "    </tr>\n",
       "    <tr>\n",
       "      <th>1</th>\n",
       "      <td>2992.968304</td>\n",
       "    </tr>\n",
       "    <tr>\n",
       "      <th>2</th>\n",
       "      <td>2998.303103</td>\n",
       "    </tr>\n",
       "    <tr>\n",
       "      <th>3</th>\n",
       "      <td>2762.069628</td>\n",
       "    </tr>\n",
       "    <tr>\n",
       "      <th>4</th>\n",
       "      <td>2402.335929</td>\n",
       "    </tr>\n",
       "    <tr>\n",
       "      <th>5</th>\n",
       "      <td>2632.121857</td>\n",
       "    </tr>\n",
       "    <tr>\n",
       "      <th>6</th>\n",
       "      <td>2595.923149</td>\n",
       "    </tr>\n",
       "    <tr>\n",
       "      <th>7</th>\n",
       "      <td>2779.979982</td>\n",
       "    </tr>\n",
       "    <tr>\n",
       "      <th>8</th>\n",
       "      <td>3019.317670</td>\n",
       "    </tr>\n",
       "    <tr>\n",
       "      <th>9</th>\n",
       "      <td>3161.780413</td>\n",
       "    </tr>\n",
       "    <tr>\n",
       "      <th>10</th>\n",
       "      <td>3232.595587</td>\n",
       "    </tr>\n",
       "    <tr>\n",
       "      <th>11</th>\n",
       "      <td>3121.025988</td>\n",
       "    </tr>\n",
       "  </tbody>\n",
       "</table>\n",
       "</div>"
      ],
      "text/plain": [
       "    Sales(In ThousandDollars)\n",
       "0                 2402.335929\n",
       "1                 2992.968304\n",
       "2                 2998.303103\n",
       "3                 2762.069628\n",
       "4                 2402.335929\n",
       "5                 2632.121857\n",
       "6                 2595.923149\n",
       "7                 2779.979982\n",
       "8                 3019.317670\n",
       "9                 3161.780413\n",
       "10                3232.595587\n",
       "11                3121.025988"
      ]
     },
     "execution_count": 26,
     "metadata": {},
     "output_type": "execute_result"
    }
   ],
   "source": [
    "test_results"
   ]
  },
  {
   "cell_type": "code",
   "execution_count": 27,
   "metadata": {},
   "outputs": [
    {
     "data": {
      "text/html": [
       "<div>\n",
       "<style>\n",
       "    .dataframe thead tr:only-child th {\n",
       "        text-align: right;\n",
       "    }\n",
       "\n",
       "    .dataframe thead th {\n",
       "        text-align: left;\n",
       "    }\n",
       "\n",
       "    .dataframe tbody tr th {\n",
       "        vertical-align: top;\n",
       "    }\n",
       "</style>\n",
       "<table border=\"1\" class=\"dataframe\">\n",
       "  <thead>\n",
       "    <tr style=\"text-align: right;\">\n",
       "      <th></th>\n",
       "      <th>ID</th>\n",
       "      <th>Sales(In ThousandDollars)</th>\n",
       "      <th>Year</th>\n",
       "      <th>Month</th>\n",
       "      <th>ProductCategory</th>\n",
       "    </tr>\n",
       "  </thead>\n",
       "  <tbody>\n",
       "    <tr>\n",
       "      <th>0</th>\n",
       "      <td>1</td>\n",
       "      <td>110</td>\n",
       "      <td>2016</td>\n",
       "      <td>1</td>\n",
       "      <td>WomenClothing</td>\n",
       "    </tr>\n",
       "    <tr>\n",
       "      <th>1</th>\n",
       "      <td>2</td>\n",
       "      <td>140</td>\n",
       "      <td>2016</td>\n",
       "      <td>2</td>\n",
       "      <td>WomenClothing</td>\n",
       "    </tr>\n",
       "    <tr>\n",
       "      <th>2</th>\n",
       "      <td>3</td>\n",
       "      <td>199</td>\n",
       "      <td>2016</td>\n",
       "      <td>3</td>\n",
       "      <td>WomenClothing</td>\n",
       "    </tr>\n",
       "    <tr>\n",
       "      <th>3</th>\n",
       "      <td>4</td>\n",
       "      <td>246</td>\n",
       "      <td>2016</td>\n",
       "      <td>4</td>\n",
       "      <td>WomenClothing</td>\n",
       "    </tr>\n",
       "    <tr>\n",
       "      <th>4</th>\n",
       "      <td>5</td>\n",
       "      <td>66</td>\n",
       "      <td>2016</td>\n",
       "      <td>5</td>\n",
       "      <td>WomenClothing</td>\n",
       "    </tr>\n",
       "  </tbody>\n",
       "</table>\n",
       "</div>"
      ],
      "text/plain": [
       "   ID  Sales(In ThousandDollars)  Year  Month ProductCategory\n",
       "0   1                        110  2016      1   WomenClothing\n",
       "1   2                        140  2016      2   WomenClothing\n",
       "2   3                        199  2016      3   WomenClothing\n",
       "3   4                        246  2016      4   WomenClothing\n",
       "4   5                         66  2016      5   WomenClothing"
      ]
     },
     "execution_count": 27,
     "metadata": {},
     "output_type": "execute_result"
    }
   ],
   "source": [
    "submission = pd.read_csv('C:\\\\Users\\\\HP\\\\Desktop\\\\PHD Hackathon\\\\Data Science\\\\NewSampleSubmission.csv')\n",
    "submission.head()"
   ]
  },
  {
   "cell_type": "code",
   "execution_count": 28,
   "metadata": {
    "collapsed": true
   },
   "outputs": [],
   "source": [
    "submission['Sales(In ThousandDollars)'] = test_results['Sales(In ThousandDollars)']"
   ]
  },
  {
   "cell_type": "code",
   "execution_count": 29,
   "metadata": {},
   "outputs": [
    {
     "data": {
      "text/html": [
       "<div>\n",
       "<style>\n",
       "    .dataframe thead tr:only-child th {\n",
       "        text-align: right;\n",
       "    }\n",
       "\n",
       "    .dataframe thead th {\n",
       "        text-align: left;\n",
       "    }\n",
       "\n",
       "    .dataframe tbody tr th {\n",
       "        vertical-align: top;\n",
       "    }\n",
       "</style>\n",
       "<table border=\"1\" class=\"dataframe\">\n",
       "  <thead>\n",
       "    <tr style=\"text-align: right;\">\n",
       "      <th></th>\n",
       "      <th>ID</th>\n",
       "      <th>Sales(In ThousandDollars)</th>\n",
       "      <th>Year</th>\n",
       "      <th>Month</th>\n",
       "      <th>ProductCategory</th>\n",
       "    </tr>\n",
       "  </thead>\n",
       "  <tbody>\n",
       "    <tr>\n",
       "      <th>0</th>\n",
       "      <td>1</td>\n",
       "      <td>2402.335929</td>\n",
       "      <td>2016</td>\n",
       "      <td>1</td>\n",
       "      <td>WomenClothing</td>\n",
       "    </tr>\n",
       "    <tr>\n",
       "      <th>1</th>\n",
       "      <td>2</td>\n",
       "      <td>2992.968304</td>\n",
       "      <td>2016</td>\n",
       "      <td>2</td>\n",
       "      <td>WomenClothing</td>\n",
       "    </tr>\n",
       "    <tr>\n",
       "      <th>2</th>\n",
       "      <td>3</td>\n",
       "      <td>2998.303103</td>\n",
       "      <td>2016</td>\n",
       "      <td>3</td>\n",
       "      <td>WomenClothing</td>\n",
       "    </tr>\n",
       "    <tr>\n",
       "      <th>3</th>\n",
       "      <td>4</td>\n",
       "      <td>2762.069628</td>\n",
       "      <td>2016</td>\n",
       "      <td>4</td>\n",
       "      <td>WomenClothing</td>\n",
       "    </tr>\n",
       "    <tr>\n",
       "      <th>4</th>\n",
       "      <td>5</td>\n",
       "      <td>2402.335929</td>\n",
       "      <td>2016</td>\n",
       "      <td>5</td>\n",
       "      <td>WomenClothing</td>\n",
       "    </tr>\n",
       "    <tr>\n",
       "      <th>5</th>\n",
       "      <td>6</td>\n",
       "      <td>2632.121857</td>\n",
       "      <td>2016</td>\n",
       "      <td>6</td>\n",
       "      <td>WomenClothing</td>\n",
       "    </tr>\n",
       "    <tr>\n",
       "      <th>6</th>\n",
       "      <td>7</td>\n",
       "      <td>2595.923149</td>\n",
       "      <td>2016</td>\n",
       "      <td>7</td>\n",
       "      <td>WomenClothing</td>\n",
       "    </tr>\n",
       "    <tr>\n",
       "      <th>7</th>\n",
       "      <td>8</td>\n",
       "      <td>2779.979982</td>\n",
       "      <td>2016</td>\n",
       "      <td>8</td>\n",
       "      <td>WomenClothing</td>\n",
       "    </tr>\n",
       "    <tr>\n",
       "      <th>8</th>\n",
       "      <td>9</td>\n",
       "      <td>3019.317670</td>\n",
       "      <td>2016</td>\n",
       "      <td>9</td>\n",
       "      <td>WomenClothing</td>\n",
       "    </tr>\n",
       "    <tr>\n",
       "      <th>9</th>\n",
       "      <td>10</td>\n",
       "      <td>3161.780413</td>\n",
       "      <td>2016</td>\n",
       "      <td>10</td>\n",
       "      <td>WomenClothing</td>\n",
       "    </tr>\n",
       "    <tr>\n",
       "      <th>10</th>\n",
       "      <td>11</td>\n",
       "      <td>3232.595587</td>\n",
       "      <td>2016</td>\n",
       "      <td>11</td>\n",
       "      <td>WomenClothing</td>\n",
       "    </tr>\n",
       "    <tr>\n",
       "      <th>11</th>\n",
       "      <td>12</td>\n",
       "      <td>3121.025988</td>\n",
       "      <td>2016</td>\n",
       "      <td>12</td>\n",
       "      <td>WomenClothing</td>\n",
       "    </tr>\n",
       "  </tbody>\n",
       "</table>\n",
       "</div>"
      ],
      "text/plain": [
       "    ID  Sales(In ThousandDollars)  Year  Month ProductCategory\n",
       "0    1                2402.335929  2016      1   WomenClothing\n",
       "1    2                2992.968304  2016      2   WomenClothing\n",
       "2    3                2998.303103  2016      3   WomenClothing\n",
       "3    4                2762.069628  2016      4   WomenClothing\n",
       "4    5                2402.335929  2016      5   WomenClothing\n",
       "5    6                2632.121857  2016      6   WomenClothing\n",
       "6    7                2595.923149  2016      7   WomenClothing\n",
       "7    8                2779.979982  2016      8   WomenClothing\n",
       "8    9                3019.317670  2016      9   WomenClothing\n",
       "9   10                3161.780413  2016     10   WomenClothing\n",
       "10  11                3232.595587  2016     11   WomenClothing\n",
       "11  12                3121.025988  2016     12   WomenClothing"
      ]
     },
     "execution_count": 29,
     "metadata": {},
     "output_type": "execute_result"
    }
   ],
   "source": [
    "submission"
   ]
  },
  {
   "cell_type": "code",
   "execution_count": 30,
   "metadata": {
    "collapsed": true
   },
   "outputs": [],
   "source": [
    "#submission.to_csv('C:\\\\Users\\\\HP\\\\Desktop\\\\trial\\\\regression_lgbm_submission.csv', index=False)"
   ]
  },
  {
   "cell_type": "code",
   "execution_count": 31,
   "metadata": {
    "collapsed": true
   },
   "outputs": [],
   "source": [
    "############################# ---------------------------------------------------------- #################################"
   ]
  },
  {
   "cell_type": "markdown",
   "metadata": {},
   "source": [
    "## Random Forest"
   ]
  },
  {
   "cell_type": "code",
   "execution_count": 32,
   "metadata": {},
   "outputs": [
    {
     "data": {
      "text/plain": [
       "17.870623603636442"
      ]
     },
     "execution_count": 32,
     "metadata": {},
     "output_type": "execute_result"
    }
   ],
   "source": [
    "from sklearn.model_selection import GridSearchCV\n",
    "from sklearn.ensemble import RandomForestRegressor\n",
    "\n",
    "rf_model = RandomForestRegressor(bootstrap=True, criterion='mae', max_depth=3,\n",
    "                                   max_features='sqrt', max_leaf_nodes=None,\n",
    "                                   min_samples_leaf=2, min_samples_split=3, n_estimators=20, n_jobs=1,)\n",
    "\n",
    "rf_model.fit(trainX_fold , y_train)\n",
    "\n",
    "y_pred = rf_model.predict(valX_fold)\n",
    "mean_absolute_percentage_error(y_val, y_pred)"
   ]
  },
  {
   "cell_type": "markdown",
   "metadata": {},
   "source": [
    "### Take Imp_Features"
   ]
  },
  {
   "cell_type": "code",
   "execution_count": 33,
   "metadata": {
    "scrolled": true
   },
   "outputs": [
    {
     "data": {
      "text/html": [
       "<div>\n",
       "<style>\n",
       "    .dataframe thead tr:only-child th {\n",
       "        text-align: right;\n",
       "    }\n",
       "\n",
       "    .dataframe thead th {\n",
       "        text-align: left;\n",
       "    }\n",
       "\n",
       "    .dataframe tbody tr th {\n",
       "        vertical-align: top;\n",
       "    }\n",
       "</style>\n",
       "<table border=\"1\" class=\"dataframe\">\n",
       "  <thead>\n",
       "    <tr style=\"text-align: right;\">\n",
       "      <th></th>\n",
       "      <th>columns</th>\n",
       "      <th>imp_features</th>\n",
       "    </tr>\n",
       "  </thead>\n",
       "  <tbody>\n",
       "    <tr>\n",
       "      <th>4</th>\n",
       "      <td>Monthly Nominal GDP Index (inMillion$)</td>\n",
       "      <td>0.088941</td>\n",
       "    </tr>\n",
       "    <tr>\n",
       "      <th>6</th>\n",
       "      <td>CPI</td>\n",
       "      <td>0.078321</td>\n",
       "    </tr>\n",
       "    <tr>\n",
       "      <th>5</th>\n",
       "      <td>Monthly Real GDP Index (inMillion$)</td>\n",
       "      <td>0.077677</td>\n",
       "    </tr>\n",
       "    <tr>\n",
       "      <th>1</th>\n",
       "      <td>Month</td>\n",
       "      <td>0.075098</td>\n",
       "    </tr>\n",
       "    <tr>\n",
       "      <th>28</th>\n",
       "      <td>Temp low (°C)min</td>\n",
       "      <td>0.062664</td>\n",
       "    </tr>\n",
       "    <tr>\n",
       "      <th>36</th>\n",
       "      <td>Dew Point avg (°C)min</td>\n",
       "      <td>0.055171</td>\n",
       "    </tr>\n",
       "    <tr>\n",
       "      <th>9</th>\n",
       "      <td>Finance Rate on Personal Loans at Commercial B...</td>\n",
       "      <td>0.039411</td>\n",
       "    </tr>\n",
       "    <tr>\n",
       "      <th>90</th>\n",
       "      <td>Wind (km/h) highmean</td>\n",
       "      <td>0.029035</td>\n",
       "    </tr>\n",
       "    <tr>\n",
       "      <th>2</th>\n",
       "      <td>Event</td>\n",
       "      <td>0.024169</td>\n",
       "    </tr>\n",
       "    <tr>\n",
       "      <th>29</th>\n",
       "      <td>Temp low (°C)max</td>\n",
       "      <td>0.023352</td>\n",
       "    </tr>\n",
       "    <tr>\n",
       "      <th>14</th>\n",
       "      <td>Average upland planted(million acres)</td>\n",
       "      <td>0.020494</td>\n",
       "    </tr>\n",
       "    <tr>\n",
       "      <th>10</th>\n",
       "      <td>Earnings or wages  in dollars per hour</td>\n",
       "      <td>0.020034</td>\n",
       "    </tr>\n",
       "    <tr>\n",
       "      <th>42</th>\n",
       "      <td>Dew Point low (°C)mean</td>\n",
       "      <td>0.019455</td>\n",
       "    </tr>\n",
       "    <tr>\n",
       "      <th>35</th>\n",
       "      <td>Dew Point high (°C)var</td>\n",
       "      <td>0.016468</td>\n",
       "    </tr>\n",
       "    <tr>\n",
       "      <th>82</th>\n",
       "      <td>Wind (km/h) lowmean</td>\n",
       "      <td>0.015590</td>\n",
       "    </tr>\n",
       "    <tr>\n",
       "      <th>25</th>\n",
       "      <td>Temp avg (°C)max</td>\n",
       "      <td>0.014972</td>\n",
       "    </tr>\n",
       "    <tr>\n",
       "      <th>19</th>\n",
       "      <td>Exports</td>\n",
       "      <td>0.014585</td>\n",
       "    </tr>\n",
       "    <tr>\n",
       "      <th>32</th>\n",
       "      <td>Dew Point high (°C)min</td>\n",
       "      <td>0.014181</td>\n",
       "    </tr>\n",
       "    <tr>\n",
       "      <th>66</th>\n",
       "      <td>Sea Level Press lowmean</td>\n",
       "      <td>0.013291</td>\n",
       "    </tr>\n",
       "    <tr>\n",
       "      <th>26</th>\n",
       "      <td>Temp avg (°C)mean</td>\n",
       "      <td>0.013128</td>\n",
       "    </tr>\n",
       "    <tr>\n",
       "      <th>27</th>\n",
       "      <td>Temp avg (°C)var</td>\n",
       "      <td>0.013012</td>\n",
       "    </tr>\n",
       "    <tr>\n",
       "      <th>15</th>\n",
       "      <td>Average upland harvested(million acres)</td>\n",
       "      <td>0.012464</td>\n",
       "    </tr>\n",
       "    <tr>\n",
       "      <th>97</th>\n",
       "      <td>Rain</td>\n",
       "      <td>0.012267</td>\n",
       "    </tr>\n",
       "    <tr>\n",
       "      <th>58</th>\n",
       "      <td>Sea Level Press highmean</td>\n",
       "      <td>0.011929</td>\n",
       "    </tr>\n",
       "    <tr>\n",
       "      <th>20</th>\n",
       "      <td>Temp high (°C)min</td>\n",
       "      <td>0.011923</td>\n",
       "    </tr>\n",
       "    <tr>\n",
       "      <th>7</th>\n",
       "      <td>unemployment rate</td>\n",
       "      <td>0.011226</td>\n",
       "    </tr>\n",
       "    <tr>\n",
       "      <th>30</th>\n",
       "      <td>Temp low (°C)mean</td>\n",
       "      <td>0.010613</td>\n",
       "    </tr>\n",
       "    <tr>\n",
       "      <th>67</th>\n",
       "      <td>Sea Level Press lowvar</td>\n",
       "      <td>0.010581</td>\n",
       "    </tr>\n",
       "    <tr>\n",
       "      <th>43</th>\n",
       "      <td>Dew Point low (°C)var</td>\n",
       "      <td>0.010040</td>\n",
       "    </tr>\n",
       "    <tr>\n",
       "      <th>55</th>\n",
       "      <td>Humidity_lowvar</td>\n",
       "      <td>0.009259</td>\n",
       "    </tr>\n",
       "    <tr>\n",
       "      <th>...</th>\n",
       "      <td>...</td>\n",
       "      <td>...</td>\n",
       "    </tr>\n",
       "    <tr>\n",
       "      <th>84</th>\n",
       "      <td>Wind (km/h) avgmin</td>\n",
       "      <td>0.000000</td>\n",
       "    </tr>\n",
       "    <tr>\n",
       "      <th>74</th>\n",
       "      <td>Visibility (km) avgmean</td>\n",
       "      <td>0.000000</td>\n",
       "    </tr>\n",
       "    <tr>\n",
       "      <th>50</th>\n",
       "      <td>Humidity_avgmean</td>\n",
       "      <td>0.000000</td>\n",
       "    </tr>\n",
       "    <tr>\n",
       "      <th>72</th>\n",
       "      <td>Visibility (km) avgmin</td>\n",
       "      <td>0.000000</td>\n",
       "    </tr>\n",
       "    <tr>\n",
       "      <th>44</th>\n",
       "      <td>Humidity_highmin</td>\n",
       "      <td>0.000000</td>\n",
       "    </tr>\n",
       "    <tr>\n",
       "      <th>3</th>\n",
       "      <td>Federal Holiday</td>\n",
       "      <td>0.000000</td>\n",
       "    </tr>\n",
       "    <tr>\n",
       "      <th>13</th>\n",
       "      <td>Change(in%)</td>\n",
       "      <td>0.000000</td>\n",
       "    </tr>\n",
       "    <tr>\n",
       "      <th>16</th>\n",
       "      <td>yieldperharvested acre</td>\n",
       "      <td>0.000000</td>\n",
       "    </tr>\n",
       "    <tr>\n",
       "      <th>17</th>\n",
       "      <td>Production (in  480-lb netweright in million b...</td>\n",
       "      <td>0.000000</td>\n",
       "    </tr>\n",
       "    <tr>\n",
       "      <th>18</th>\n",
       "      <td>Mill use  (in  480-lb netweright in million ba...</td>\n",
       "      <td>0.000000</td>\n",
       "    </tr>\n",
       "    <tr>\n",
       "      <th>21</th>\n",
       "      <td>Temp high (°C)max</td>\n",
       "      <td>0.000000</td>\n",
       "    </tr>\n",
       "    <tr>\n",
       "      <th>31</th>\n",
       "      <td>Temp low (°C)var</td>\n",
       "      <td>0.000000</td>\n",
       "    </tr>\n",
       "    <tr>\n",
       "      <th>37</th>\n",
       "      <td>Dew Point avg (°C)max</td>\n",
       "      <td>0.000000</td>\n",
       "    </tr>\n",
       "    <tr>\n",
       "      <th>38</th>\n",
       "      <td>Dew Point avg (°C)mean</td>\n",
       "      <td>0.000000</td>\n",
       "    </tr>\n",
       "    <tr>\n",
       "      <th>40</th>\n",
       "      <td>Dew Point low (°C)min</td>\n",
       "      <td>0.000000</td>\n",
       "    </tr>\n",
       "    <tr>\n",
       "      <th>41</th>\n",
       "      <td>Dew Point low (°C)max</td>\n",
       "      <td>0.000000</td>\n",
       "    </tr>\n",
       "    <tr>\n",
       "      <th>45</th>\n",
       "      <td>Humidity_highmax</td>\n",
       "      <td>0.000000</td>\n",
       "    </tr>\n",
       "    <tr>\n",
       "      <th>71</th>\n",
       "      <td>Visibility (km) highvar</td>\n",
       "      <td>0.000000</td>\n",
       "    </tr>\n",
       "    <tr>\n",
       "      <th>46</th>\n",
       "      <td>Humidity_highmean</td>\n",
       "      <td>0.000000</td>\n",
       "    </tr>\n",
       "    <tr>\n",
       "      <th>47</th>\n",
       "      <td>Humidity_highvar</td>\n",
       "      <td>0.000000</td>\n",
       "    </tr>\n",
       "    <tr>\n",
       "      <th>48</th>\n",
       "      <td>Humidity_avgmin</td>\n",
       "      <td>0.000000</td>\n",
       "    </tr>\n",
       "    <tr>\n",
       "      <th>52</th>\n",
       "      <td>Humidity_lowmin</td>\n",
       "      <td>0.000000</td>\n",
       "    </tr>\n",
       "    <tr>\n",
       "      <th>56</th>\n",
       "      <td>Sea Level Press highmin</td>\n",
       "      <td>0.000000</td>\n",
       "    </tr>\n",
       "    <tr>\n",
       "      <th>57</th>\n",
       "      <td>Sea Level Press highmax</td>\n",
       "      <td>0.000000</td>\n",
       "    </tr>\n",
       "    <tr>\n",
       "      <th>60</th>\n",
       "      <td>Sea Level Press avgmin</td>\n",
       "      <td>0.000000</td>\n",
       "    </tr>\n",
       "    <tr>\n",
       "      <th>61</th>\n",
       "      <td>Sea Level Press avgmax</td>\n",
       "      <td>0.000000</td>\n",
       "    </tr>\n",
       "    <tr>\n",
       "      <th>68</th>\n",
       "      <td>Visibility (km) highmin</td>\n",
       "      <td>0.000000</td>\n",
       "    </tr>\n",
       "    <tr>\n",
       "      <th>69</th>\n",
       "      <td>Visibility (km) highmax</td>\n",
       "      <td>0.000000</td>\n",
       "    </tr>\n",
       "    <tr>\n",
       "      <th>70</th>\n",
       "      <td>Visibility (km) highmean</td>\n",
       "      <td>0.000000</td>\n",
       "    </tr>\n",
       "    <tr>\n",
       "      <th>100</th>\n",
       "      <td>Thunderstorm</td>\n",
       "      <td>0.000000</td>\n",
       "    </tr>\n",
       "  </tbody>\n",
       "</table>\n",
       "<p>101 rows × 2 columns</p>\n",
       "</div>"
      ],
      "text/plain": [
       "                                               columns  imp_features\n",
       "4               Monthly Nominal GDP Index (inMillion$)      0.088941\n",
       "6                                                  CPI      0.078321\n",
       "5                  Monthly Real GDP Index (inMillion$)      0.077677\n",
       "1                                                Month      0.075098\n",
       "28                                    Temp low (°C)min      0.062664\n",
       "36                               Dew Point avg (°C)min      0.055171\n",
       "9    Finance Rate on Personal Loans at Commercial B...      0.039411\n",
       "90                                Wind (km/h) highmean      0.029035\n",
       "2                                                Event      0.024169\n",
       "29                                    Temp low (°C)max      0.023352\n",
       "14               Average upland planted(million acres)      0.020494\n",
       "10              Earnings or wages  in dollars per hour      0.020034\n",
       "42                              Dew Point low (°C)mean      0.019455\n",
       "35                              Dew Point high (°C)var      0.016468\n",
       "82                                 Wind (km/h) lowmean      0.015590\n",
       "25                                    Temp avg (°C)max      0.014972\n",
       "19                                             Exports      0.014585\n",
       "32                              Dew Point high (°C)min      0.014181\n",
       "66                             Sea Level Press lowmean      0.013291\n",
       "26                                   Temp avg (°C)mean      0.013128\n",
       "27                                    Temp avg (°C)var      0.013012\n",
       "15             Average upland harvested(million acres)      0.012464\n",
       "97                                                Rain      0.012267\n",
       "58                            Sea Level Press highmean      0.011929\n",
       "20                                   Temp high (°C)min      0.011923\n",
       "7                                    unemployment rate      0.011226\n",
       "30                                   Temp low (°C)mean      0.010613\n",
       "67                              Sea Level Press lowvar      0.010581\n",
       "43                               Dew Point low (°C)var      0.010040\n",
       "55                                     Humidity_lowvar      0.009259\n",
       "..                                                 ...           ...\n",
       "84                                  Wind (km/h) avgmin      0.000000\n",
       "74                             Visibility (km) avgmean      0.000000\n",
       "50                                    Humidity_avgmean      0.000000\n",
       "72                              Visibility (km) avgmin      0.000000\n",
       "44                                    Humidity_highmin      0.000000\n",
       "3                                      Federal Holiday      0.000000\n",
       "13                                         Change(in%)      0.000000\n",
       "16                              yieldperharvested acre      0.000000\n",
       "17   Production (in  480-lb netweright in million b...      0.000000\n",
       "18   Mill use  (in  480-lb netweright in million ba...      0.000000\n",
       "21                                   Temp high (°C)max      0.000000\n",
       "31                                    Temp low (°C)var      0.000000\n",
       "37                               Dew Point avg (°C)max      0.000000\n",
       "38                              Dew Point avg (°C)mean      0.000000\n",
       "40                               Dew Point low (°C)min      0.000000\n",
       "41                               Dew Point low (°C)max      0.000000\n",
       "45                                    Humidity_highmax      0.000000\n",
       "71                             Visibility (km) highvar      0.000000\n",
       "46                                   Humidity_highmean      0.000000\n",
       "47                                    Humidity_highvar      0.000000\n",
       "48                                     Humidity_avgmin      0.000000\n",
       "52                                     Humidity_lowmin      0.000000\n",
       "56                             Sea Level Press highmin      0.000000\n",
       "57                             Sea Level Press highmax      0.000000\n",
       "60                              Sea Level Press avgmin      0.000000\n",
       "61                              Sea Level Press avgmax      0.000000\n",
       "68                             Visibility (km) highmin      0.000000\n",
       "69                             Visibility (km) highmax      0.000000\n",
       "70                            Visibility (km) highmean      0.000000\n",
       "100                                       Thunderstorm      0.000000\n",
       "\n",
       "[101 rows x 2 columns]"
      ]
     },
     "execution_count": 33,
     "metadata": {},
     "output_type": "execute_result"
    }
   ],
   "source": [
    "X_cols = trainX_fold.columns\n",
    "feature_imp_RFC = pd.DataFrame({\"imp_features\":rf_model.feature_importances_, \"columns\":X_cols})\n",
    "feature_imp_RFC.sort_values(by = 'imp_features', ascending=False)"
   ]
  },
  {
   "cell_type": "code",
   "execution_count": 34,
   "metadata": {
    "scrolled": true
   },
   "outputs": [
    {
     "data": {
      "text/html": [
       "<div>\n",
       "<style>\n",
       "    .dataframe thead tr:only-child th {\n",
       "        text-align: right;\n",
       "    }\n",
       "\n",
       "    .dataframe thead th {\n",
       "        text-align: left;\n",
       "    }\n",
       "\n",
       "    .dataframe tbody tr th {\n",
       "        vertical-align: top;\n",
       "    }\n",
       "</style>\n",
       "<table border=\"1\" class=\"dataframe\">\n",
       "  <thead>\n",
       "    <tr style=\"text-align: right;\">\n",
       "      <th></th>\n",
       "      <th>columns</th>\n",
       "      <th>imp_features</th>\n",
       "    </tr>\n",
       "  </thead>\n",
       "  <tbody>\n",
       "    <tr>\n",
       "      <th>1</th>\n",
       "      <td>Month</td>\n",
       "      <td>0.075098</td>\n",
       "    </tr>\n",
       "    <tr>\n",
       "      <th>4</th>\n",
       "      <td>Monthly Nominal GDP Index (inMillion$)</td>\n",
       "      <td>0.088941</td>\n",
       "    </tr>\n",
       "    <tr>\n",
       "      <th>5</th>\n",
       "      <td>Monthly Real GDP Index (inMillion$)</td>\n",
       "      <td>0.077677</td>\n",
       "    </tr>\n",
       "    <tr>\n",
       "      <th>6</th>\n",
       "      <td>CPI</td>\n",
       "      <td>0.078321</td>\n",
       "    </tr>\n",
       "    <tr>\n",
       "      <th>9</th>\n",
       "      <td>Finance Rate on Personal Loans at Commercial B...</td>\n",
       "      <td>0.039411</td>\n",
       "    </tr>\n",
       "  </tbody>\n",
       "</table>\n",
       "</div>"
      ],
      "text/plain": [
       "                                             columns  imp_features\n",
       "1                                              Month      0.075098\n",
       "4             Monthly Nominal GDP Index (inMillion$)      0.088941\n",
       "5                Monthly Real GDP Index (inMillion$)      0.077677\n",
       "6                                                CPI      0.078321\n",
       "9  Finance Rate on Personal Loans at Commercial B...      0.039411"
      ]
     },
     "execution_count": 34,
     "metadata": {},
     "output_type": "execute_result"
    }
   ],
   "source": [
    "top_features = feature_imp_RFC[feature_imp_RFC['imp_features'] >= 0.025]\n",
    "top_features.head()"
   ]
  },
  {
   "cell_type": "code",
   "execution_count": 35,
   "metadata": {},
   "outputs": [
    {
     "data": {
      "text/plain": [
       "(8, 2)"
      ]
     },
     "execution_count": 35,
     "metadata": {},
     "output_type": "execute_result"
    }
   ],
   "source": [
    "top_features.shape"
   ]
  },
  {
   "cell_type": "markdown",
   "metadata": {},
   "source": [
    "#### Selecting Imp Features From RF"
   ]
  },
  {
   "cell_type": "code",
   "execution_count": 36,
   "metadata": {},
   "outputs": [
    {
     "data": {
      "text/html": [
       "<div>\n",
       "<style>\n",
       "    .dataframe thead tr:only-child th {\n",
       "        text-align: right;\n",
       "    }\n",
       "\n",
       "    .dataframe thead th {\n",
       "        text-align: left;\n",
       "    }\n",
       "\n",
       "    .dataframe tbody tr th {\n",
       "        vertical-align: top;\n",
       "    }\n",
       "</style>\n",
       "<table border=\"1\" class=\"dataframe\">\n",
       "  <thead>\n",
       "    <tr style=\"text-align: right;\">\n",
       "      <th></th>\n",
       "      <th>Month</th>\n",
       "      <th>Monthly Nominal GDP Index (inMillion$)</th>\n",
       "      <th>Monthly Real GDP Index (inMillion$)</th>\n",
       "      <th>CPI</th>\n",
       "      <th>Finance Rate on Personal Loans at Commercial Banks, 24 Month Loan</th>\n",
       "      <th>Temp low (°C)min</th>\n",
       "      <th>Dew Point avg (°C)min</th>\n",
       "      <th>Wind (km/h) highmean</th>\n",
       "    </tr>\n",
       "  </thead>\n",
       "  <tbody>\n",
       "    <tr>\n",
       "      <th>0</th>\n",
       "      <td>1</td>\n",
       "      <td>14421.752895</td>\n",
       "      <td>14407.053343</td>\n",
       "      <td>233.402</td>\n",
       "      <td>11.44</td>\n",
       "      <td>-14.0</td>\n",
       "      <td>-20.0</td>\n",
       "      <td>39.322581</td>\n",
       "    </tr>\n",
       "    <tr>\n",
       "      <th>1</th>\n",
       "      <td>2</td>\n",
       "      <td>14389.200466</td>\n",
       "      <td>14366.176571</td>\n",
       "      <td>234.663</td>\n",
       "      <td>11.05</td>\n",
       "      <td>-11.0</td>\n",
       "      <td>-18.0</td>\n",
       "      <td>41.642857</td>\n",
       "    </tr>\n",
       "    <tr>\n",
       "      <th>2</th>\n",
       "      <td>3</td>\n",
       "      <td>14340.701639</td>\n",
       "      <td>14351.786822</td>\n",
       "      <td>235.067</td>\n",
       "      <td>11.05</td>\n",
       "      <td>-11.0</td>\n",
       "      <td>-18.0</td>\n",
       "      <td>38.612903</td>\n",
       "    </tr>\n",
       "    <tr>\n",
       "      <th>3</th>\n",
       "      <td>4</td>\n",
       "      <td>14326.815525</td>\n",
       "      <td>14351.601731</td>\n",
       "      <td>235.582</td>\n",
       "      <td>11.05</td>\n",
       "      <td>1.0</td>\n",
       "      <td>-9.0</td>\n",
       "      <td>39.566667</td>\n",
       "    </tr>\n",
       "    <tr>\n",
       "      <th>4</th>\n",
       "      <td>5</td>\n",
       "      <td>14345.904809</td>\n",
       "      <td>14368.123959</td>\n",
       "      <td>235.975</td>\n",
       "      <td>11.25</td>\n",
       "      <td>6.0</td>\n",
       "      <td>0.0</td>\n",
       "      <td>32.838980</td>\n",
       "    </tr>\n",
       "  </tbody>\n",
       "</table>\n",
       "</div>"
      ],
      "text/plain": [
       "   Month  Monthly Nominal GDP Index (inMillion$)  \\\n",
       "0      1                            14421.752895   \n",
       "1      2                            14389.200466   \n",
       "2      3                            14340.701639   \n",
       "3      4                            14326.815525   \n",
       "4      5                            14345.904809   \n",
       "\n",
       "   Monthly Real GDP Index (inMillion$)      CPI  \\\n",
       "0                         14407.053343  233.402   \n",
       "1                         14366.176571  234.663   \n",
       "2                         14351.786822  235.067   \n",
       "3                         14351.601731  235.582   \n",
       "4                         14368.123959  235.975   \n",
       "\n",
       "   Finance Rate on Personal Loans at Commercial Banks, 24 Month Loan  \\\n",
       "0                                              11.44                   \n",
       "1                                              11.05                   \n",
       "2                                              11.05                   \n",
       "3                                              11.05                   \n",
       "4                                              11.25                   \n",
       "\n",
       "   Temp low (°C)min  Dew Point avg (°C)min  Wind (km/h) highmean  \n",
       "0             -14.0                  -20.0             39.322581  \n",
       "1             -11.0                  -18.0             41.642857  \n",
       "2             -11.0                  -18.0             38.612903  \n",
       "3               1.0                   -9.0             39.566667  \n",
       "4               6.0                    0.0             32.838980  "
      ]
     },
     "execution_count": 36,
     "metadata": {},
     "output_type": "execute_result"
    }
   ],
   "source": [
    "imp_columns_train = pd.DataFrame()\n",
    "for i in top_features['columns'].values:\n",
    "    imp_columns_train[i] = trainX_fold[i]\n",
    "    \n",
    "imp_columns_train.head()"
   ]
  },
  {
   "cell_type": "code",
   "execution_count": 37,
   "metadata": {},
   "outputs": [
    {
     "data": {
      "text/html": [
       "<div>\n",
       "<style>\n",
       "    .dataframe thead tr:only-child th {\n",
       "        text-align: right;\n",
       "    }\n",
       "\n",
       "    .dataframe thead th {\n",
       "        text-align: left;\n",
       "    }\n",
       "\n",
       "    .dataframe tbody tr th {\n",
       "        vertical-align: top;\n",
       "    }\n",
       "</style>\n",
       "<table border=\"1\" class=\"dataframe\">\n",
       "  <thead>\n",
       "    <tr style=\"text-align: right;\">\n",
       "      <th></th>\n",
       "      <th>Month</th>\n",
       "      <th>Monthly Nominal GDP Index (inMillion$)</th>\n",
       "      <th>Monthly Real GDP Index (inMillion$)</th>\n",
       "      <th>CPI</th>\n",
       "      <th>Finance Rate on Personal Loans at Commercial Banks, 24 Month Loan</th>\n",
       "      <th>Temp low (°C)min</th>\n",
       "      <th>Dew Point avg (°C)min</th>\n",
       "      <th>Wind (km/h) highmean</th>\n",
       "    </tr>\n",
       "  </thead>\n",
       "  <tbody>\n",
       "    <tr>\n",
       "      <th>63</th>\n",
       "      <td>4</td>\n",
       "      <td>17208.864684</td>\n",
       "      <td>15870.178053</td>\n",
       "      <td>259.985</td>\n",
       "      <td>10.09</td>\n",
       "      <td>-1.0</td>\n",
       "      <td>-9.0</td>\n",
       "      <td>39.166667</td>\n",
       "    </tr>\n",
       "    <tr>\n",
       "      <th>64</th>\n",
       "      <td>5</td>\n",
       "      <td>17345.334028</td>\n",
       "      <td>15946.741336</td>\n",
       "      <td>261.225</td>\n",
       "      <td>9.57</td>\n",
       "      <td>9.0</td>\n",
       "      <td>-2.0</td>\n",
       "      <td>35.451748</td>\n",
       "    </tr>\n",
       "    <tr>\n",
       "      <th>65</th>\n",
       "      <td>6</td>\n",
       "      <td>17408.564289</td>\n",
       "      <td>15990.977418</td>\n",
       "      <td>261.350</td>\n",
       "      <td>9.57</td>\n",
       "      <td>13.0</td>\n",
       "      <td>4.0</td>\n",
       "      <td>29.900000</td>\n",
       "    </tr>\n",
       "    <tr>\n",
       "      <th>66</th>\n",
       "      <td>7</td>\n",
       "      <td>17551.781065</td>\n",
       "      <td>16089.499187</td>\n",
       "      <td>261.498</td>\n",
       "      <td>9.57</td>\n",
       "      <td>17.0</td>\n",
       "      <td>9.0</td>\n",
       "      <td>37.161561</td>\n",
       "    </tr>\n",
       "    <tr>\n",
       "      <th>67</th>\n",
       "      <td>8</td>\n",
       "      <td>17684.635349</td>\n",
       "      <td>16196.420132</td>\n",
       "      <td>261.075</td>\n",
       "      <td>10.73</td>\n",
       "      <td>16.0</td>\n",
       "      <td>9.0</td>\n",
       "      <td>30.064516</td>\n",
       "    </tr>\n",
       "  </tbody>\n",
       "</table>\n",
       "</div>"
      ],
      "text/plain": [
       "    Month  Monthly Nominal GDP Index (inMillion$)  \\\n",
       "63      4                            17208.864684   \n",
       "64      5                            17345.334028   \n",
       "65      6                            17408.564289   \n",
       "66      7                            17551.781065   \n",
       "67      8                            17684.635349   \n",
       "\n",
       "    Monthly Real GDP Index (inMillion$)      CPI  \\\n",
       "63                         15870.178053  259.985   \n",
       "64                         15946.741336  261.225   \n",
       "65                         15990.977418  261.350   \n",
       "66                         16089.499187  261.498   \n",
       "67                         16196.420132  261.075   \n",
       "\n",
       "    Finance Rate on Personal Loans at Commercial Banks, 24 Month Loan  \\\n",
       "63                                              10.09                   \n",
       "64                                               9.57                   \n",
       "65                                               9.57                   \n",
       "66                                               9.57                   \n",
       "67                                              10.73                   \n",
       "\n",
       "    Temp low (°C)min  Dew Point avg (°C)min  Wind (km/h) highmean  \n",
       "63              -1.0                   -9.0             39.166667  \n",
       "64               9.0                   -2.0             35.451748  \n",
       "65              13.0                    4.0             29.900000  \n",
       "66              17.0                    9.0             37.161561  \n",
       "67              16.0                    9.0             30.064516  "
      ]
     },
     "execution_count": 37,
     "metadata": {},
     "output_type": "execute_result"
    }
   ],
   "source": [
    "imp_columns_val = pd.DataFrame()\n",
    "\n",
    "for i in top_features['columns'].values:\n",
    "    imp_columns_val[i] = valX_fold[i]\n",
    "\n",
    "imp_columns_val.head()"
   ]
  },
  {
   "cell_type": "markdown",
   "metadata": {},
   "source": [
    "### train Model with Imp_Features"
   ]
  },
  {
   "cell_type": "code",
   "execution_count": 38,
   "metadata": {},
   "outputs": [
    {
     "data": {
      "text/plain": [
       "15.344611429914284"
      ]
     },
     "execution_count": 38,
     "metadata": {},
     "output_type": "execute_result"
    }
   ],
   "source": [
    "rf_model.fit(imp_columns_train, y_train)\n",
    "y_pred1 = rf_model.predict(imp_columns_val)\n",
    "\n",
    "mean_absolute_percentage_error(y_val, y_pred1)"
   ]
  },
  {
   "cell_type": "markdown",
   "metadata": {},
   "source": [
    "### Predict Test Data"
   ]
  },
  {
   "cell_type": "code",
   "execution_count": 39,
   "metadata": {
    "scrolled": true
   },
   "outputs": [
    {
     "data": {
      "text/html": [
       "<div>\n",
       "<style>\n",
       "    .dataframe thead tr:only-child th {\n",
       "        text-align: right;\n",
       "    }\n",
       "\n",
       "    .dataframe thead th {\n",
       "        text-align: left;\n",
       "    }\n",
       "\n",
       "    .dataframe tbody tr th {\n",
       "        vertical-align: top;\n",
       "    }\n",
       "</style>\n",
       "<table border=\"1\" class=\"dataframe\">\n",
       "  <thead>\n",
       "    <tr style=\"text-align: right;\">\n",
       "      <th></th>\n",
       "      <th>Month</th>\n",
       "      <th>Monthly Nominal GDP Index (inMillion$)</th>\n",
       "      <th>Monthly Real GDP Index (inMillion$)</th>\n",
       "      <th>CPI</th>\n",
       "      <th>Finance Rate on Personal Loans at Commercial Banks, 24 Month Loan</th>\n",
       "      <th>Temp low (°C)min</th>\n",
       "      <th>Dew Point avg (°C)min</th>\n",
       "      <th>Wind (km/h) highmean</th>\n",
       "    </tr>\n",
       "  </thead>\n",
       "  <tbody>\n",
       "    <tr>\n",
       "      <th>0</th>\n",
       "      <td>1</td>\n",
       "      <td>18286.638523</td>\n",
       "      <td>16546.153123</td>\n",
       "      <td>260.342</td>\n",
       "      <td>9.66</td>\n",
       "      <td>-12.0</td>\n",
       "      <td>-19.0</td>\n",
       "      <td>42.354974</td>\n",
       "    </tr>\n",
       "    <tr>\n",
       "      <th>1</th>\n",
       "      <td>10</td>\n",
       "      <td>18740.780023</td>\n",
       "      <td>16725.460098</td>\n",
       "      <td>264.738</td>\n",
       "      <td>9.64</td>\n",
       "      <td>3.0</td>\n",
       "      <td>-4.0</td>\n",
       "      <td>34.612903</td>\n",
       "    </tr>\n",
       "    <tr>\n",
       "      <th>2</th>\n",
       "      <td>11</td>\n",
       "      <td>18960.461568</td>\n",
       "      <td>16910.896330</td>\n",
       "      <td>265.203</td>\n",
       "      <td>9.45</td>\n",
       "      <td>1.0</td>\n",
       "      <td>-8.0</td>\n",
       "      <td>36.800000</td>\n",
       "    </tr>\n",
       "    <tr>\n",
       "      <th>3</th>\n",
       "      <td>12</td>\n",
       "      <td>19015.393408</td>\n",
       "      <td>16918.050624</td>\n",
       "      <td>265.421</td>\n",
       "      <td>9.45</td>\n",
       "      <td>-8.0</td>\n",
       "      <td>-18.0</td>\n",
       "      <td>39.871103</td>\n",
       "    </tr>\n",
       "    <tr>\n",
       "      <th>4</th>\n",
       "      <td>2</td>\n",
       "      <td>18241.713812</td>\n",
       "      <td>16503.500358</td>\n",
       "      <td>260.875</td>\n",
       "      <td>10.03</td>\n",
       "      <td>-18.0</td>\n",
       "      <td>-27.0</td>\n",
       "      <td>44.103448</td>\n",
       "    </tr>\n",
       "  </tbody>\n",
       "</table>\n",
       "</div>"
      ],
      "text/plain": [
       "   Month  Monthly Nominal GDP Index (inMillion$)  \\\n",
       "0      1                            18286.638523   \n",
       "1     10                            18740.780023   \n",
       "2     11                            18960.461568   \n",
       "3     12                            19015.393408   \n",
       "4      2                            18241.713812   \n",
       "\n",
       "   Monthly Real GDP Index (inMillion$)      CPI  \\\n",
       "0                         16546.153123  260.342   \n",
       "1                         16725.460098  264.738   \n",
       "2                         16910.896330  265.203   \n",
       "3                         16918.050624  265.421   \n",
       "4                         16503.500358  260.875   \n",
       "\n",
       "   Finance Rate on Personal Loans at Commercial Banks, 24 Month Loan  \\\n",
       "0                                               9.66                   \n",
       "1                                               9.64                   \n",
       "2                                               9.45                   \n",
       "3                                               9.45                   \n",
       "4                                              10.03                   \n",
       "\n",
       "   Temp low (°C)min  Dew Point avg (°C)min  Wind (km/h) highmean  \n",
       "0             -12.0                  -19.0             42.354974  \n",
       "1               3.0                   -4.0             34.612903  \n",
       "2               1.0                   -8.0             36.800000  \n",
       "3              -8.0                  -18.0             39.871103  \n",
       "4             -18.0                  -27.0             44.103448  "
      ]
     },
     "execution_count": 39,
     "metadata": {},
     "output_type": "execute_result"
    }
   ],
   "source": [
    "imp_columns_test = pd.DataFrame()\n",
    "\n",
    "for i in top_features['columns'].values:\n",
    "    imp_columns_test[i] = test_data[i]\n",
    "\n",
    "imp_columns_test.head()"
   ]
  },
  {
   "cell_type": "code",
   "execution_count": 40,
   "metadata": {},
   "outputs": [
    {
     "data": {
      "text/plain": [
       "array([3022.4      , 3543.0578125, 3566.7171875, 3522.715625 ,\n",
       "       3141.05     , 3697.3171875, 3669.1671875, 3543.0578125,\n",
       "       3543.0578125, 3470.9515625, 3470.9515625, 3543.0578125])"
      ]
     },
     "execution_count": 40,
     "metadata": {},
     "output_type": "execute_result"
    }
   ],
   "source": [
    "rf_model.predict(imp_columns_test)"
   ]
  },
  {
   "cell_type": "code",
   "execution_count": 41,
   "metadata": {},
   "outputs": [
    {
     "data": {
      "text/html": [
       "<div>\n",
       "<style>\n",
       "    .dataframe thead tr:only-child th {\n",
       "        text-align: right;\n",
       "    }\n",
       "\n",
       "    .dataframe thead th {\n",
       "        text-align: left;\n",
       "    }\n",
       "\n",
       "    .dataframe tbody tr th {\n",
       "        vertical-align: top;\n",
       "    }\n",
       "</style>\n",
       "<table border=\"1\" class=\"dataframe\">\n",
       "  <thead>\n",
       "    <tr style=\"text-align: right;\">\n",
       "      <th></th>\n",
       "      <th>Sales(In ThousandDollars)</th>\n",
       "    </tr>\n",
       "  </thead>\n",
       "  <tbody>\n",
       "    <tr>\n",
       "      <th>0</th>\n",
       "      <td>3022.400000</td>\n",
       "    </tr>\n",
       "    <tr>\n",
       "      <th>1</th>\n",
       "      <td>3543.057813</td>\n",
       "    </tr>\n",
       "  </tbody>\n",
       "</table>\n",
       "</div>"
      ],
      "text/plain": [
       "   Sales(In ThousandDollars)\n",
       "0                3022.400000\n",
       "1                3543.057813"
      ]
     },
     "execution_count": 41,
     "metadata": {},
     "output_type": "execute_result"
    }
   ],
   "source": [
    "test_predictions = pd.DataFrame({'Sales(In ThousandDollars)': rf_model.predict(imp_columns_test)})\n",
    "test_predictions.head(2)"
   ]
  },
  {
   "cell_type": "code",
   "execution_count": 42,
   "metadata": {},
   "outputs": [
    {
     "data": {
      "text/html": [
       "<div>\n",
       "<style>\n",
       "    .dataframe thead tr:only-child th {\n",
       "        text-align: right;\n",
       "    }\n",
       "\n",
       "    .dataframe thead th {\n",
       "        text-align: left;\n",
       "    }\n",
       "\n",
       "    .dataframe tbody tr th {\n",
       "        vertical-align: top;\n",
       "    }\n",
       "</style>\n",
       "<table border=\"1\" class=\"dataframe\">\n",
       "  <thead>\n",
       "    <tr style=\"text-align: right;\">\n",
       "      <th></th>\n",
       "      <th>ID</th>\n",
       "      <th>Sales(In ThousandDollars)</th>\n",
       "      <th>Year</th>\n",
       "      <th>Month</th>\n",
       "      <th>ProductCategory</th>\n",
       "    </tr>\n",
       "  </thead>\n",
       "  <tbody>\n",
       "    <tr>\n",
       "      <th>0</th>\n",
       "      <td>1</td>\n",
       "      <td>110</td>\n",
       "      <td>2016</td>\n",
       "      <td>1</td>\n",
       "      <td>WomenClothing</td>\n",
       "    </tr>\n",
       "    <tr>\n",
       "      <th>1</th>\n",
       "      <td>2</td>\n",
       "      <td>140</td>\n",
       "      <td>2016</td>\n",
       "      <td>2</td>\n",
       "      <td>WomenClothing</td>\n",
       "    </tr>\n",
       "  </tbody>\n",
       "</table>\n",
       "</div>"
      ],
      "text/plain": [
       "   ID  Sales(In ThousandDollars)  Year  Month ProductCategory\n",
       "0   1                        110  2016      1   WomenClothing\n",
       "1   2                        140  2016      2   WomenClothing"
      ]
     },
     "execution_count": 42,
     "metadata": {},
     "output_type": "execute_result"
    }
   ],
   "source": [
    "submissionfile = pd.read_csv('C:\\\\Users\\\\HP\\\\Desktop\\\\PHD Hackathon\\\\Data Science\\\\NewSampleSubmission.csv')\n",
    "submissionfile.head(2)"
   ]
  },
  {
   "cell_type": "code",
   "execution_count": 43,
   "metadata": {
    "scrolled": true
   },
   "outputs": [
    {
     "data": {
      "text/html": [
       "<div>\n",
       "<style>\n",
       "    .dataframe thead tr:only-child th {\n",
       "        text-align: right;\n",
       "    }\n",
       "\n",
       "    .dataframe thead th {\n",
       "        text-align: left;\n",
       "    }\n",
       "\n",
       "    .dataframe tbody tr th {\n",
       "        vertical-align: top;\n",
       "    }\n",
       "</style>\n",
       "<table border=\"1\" class=\"dataframe\">\n",
       "  <thead>\n",
       "    <tr style=\"text-align: right;\">\n",
       "      <th></th>\n",
       "      <th>ID</th>\n",
       "      <th>Sales(In ThousandDollars)</th>\n",
       "      <th>Year</th>\n",
       "      <th>Month</th>\n",
       "      <th>ProductCategory</th>\n",
       "    </tr>\n",
       "  </thead>\n",
       "  <tbody>\n",
       "    <tr>\n",
       "      <th>0</th>\n",
       "      <td>1</td>\n",
       "      <td>3022.400000</td>\n",
       "      <td>2016</td>\n",
       "      <td>1</td>\n",
       "      <td>WomenClothing</td>\n",
       "    </tr>\n",
       "    <tr>\n",
       "      <th>1</th>\n",
       "      <td>2</td>\n",
       "      <td>3543.057813</td>\n",
       "      <td>2016</td>\n",
       "      <td>2</td>\n",
       "      <td>WomenClothing</td>\n",
       "    </tr>\n",
       "    <tr>\n",
       "      <th>2</th>\n",
       "      <td>3</td>\n",
       "      <td>3566.717187</td>\n",
       "      <td>2016</td>\n",
       "      <td>3</td>\n",
       "      <td>WomenClothing</td>\n",
       "    </tr>\n",
       "    <tr>\n",
       "      <th>3</th>\n",
       "      <td>4</td>\n",
       "      <td>3522.715625</td>\n",
       "      <td>2016</td>\n",
       "      <td>4</td>\n",
       "      <td>WomenClothing</td>\n",
       "    </tr>\n",
       "    <tr>\n",
       "      <th>4</th>\n",
       "      <td>5</td>\n",
       "      <td>3141.050000</td>\n",
       "      <td>2016</td>\n",
       "      <td>5</td>\n",
       "      <td>WomenClothing</td>\n",
       "    </tr>\n",
       "    <tr>\n",
       "      <th>5</th>\n",
       "      <td>6</td>\n",
       "      <td>3697.317187</td>\n",
       "      <td>2016</td>\n",
       "      <td>6</td>\n",
       "      <td>WomenClothing</td>\n",
       "    </tr>\n",
       "    <tr>\n",
       "      <th>6</th>\n",
       "      <td>7</td>\n",
       "      <td>3669.167188</td>\n",
       "      <td>2016</td>\n",
       "      <td>7</td>\n",
       "      <td>WomenClothing</td>\n",
       "    </tr>\n",
       "    <tr>\n",
       "      <th>7</th>\n",
       "      <td>8</td>\n",
       "      <td>3543.057813</td>\n",
       "      <td>2016</td>\n",
       "      <td>8</td>\n",
       "      <td>WomenClothing</td>\n",
       "    </tr>\n",
       "    <tr>\n",
       "      <th>8</th>\n",
       "      <td>9</td>\n",
       "      <td>3543.057813</td>\n",
       "      <td>2016</td>\n",
       "      <td>9</td>\n",
       "      <td>WomenClothing</td>\n",
       "    </tr>\n",
       "    <tr>\n",
       "      <th>9</th>\n",
       "      <td>10</td>\n",
       "      <td>3470.951562</td>\n",
       "      <td>2016</td>\n",
       "      <td>10</td>\n",
       "      <td>WomenClothing</td>\n",
       "    </tr>\n",
       "    <tr>\n",
       "      <th>10</th>\n",
       "      <td>11</td>\n",
       "      <td>3470.951562</td>\n",
       "      <td>2016</td>\n",
       "      <td>11</td>\n",
       "      <td>WomenClothing</td>\n",
       "    </tr>\n",
       "    <tr>\n",
       "      <th>11</th>\n",
       "      <td>12</td>\n",
       "      <td>3543.057813</td>\n",
       "      <td>2016</td>\n",
       "      <td>12</td>\n",
       "      <td>WomenClothing</td>\n",
       "    </tr>\n",
       "  </tbody>\n",
       "</table>\n",
       "</div>"
      ],
      "text/plain": [
       "    ID  Sales(In ThousandDollars)  Year  Month ProductCategory\n",
       "0    1                3022.400000  2016      1   WomenClothing\n",
       "1    2                3543.057813  2016      2   WomenClothing\n",
       "2    3                3566.717187  2016      3   WomenClothing\n",
       "3    4                3522.715625  2016      4   WomenClothing\n",
       "4    5                3141.050000  2016      5   WomenClothing\n",
       "5    6                3697.317187  2016      6   WomenClothing\n",
       "6    7                3669.167188  2016      7   WomenClothing\n",
       "7    8                3543.057813  2016      8   WomenClothing\n",
       "8    9                3543.057813  2016      9   WomenClothing\n",
       "9   10                3470.951562  2016     10   WomenClothing\n",
       "10  11                3470.951562  2016     11   WomenClothing\n",
       "11  12                3543.057813  2016     12   WomenClothing"
      ]
     },
     "execution_count": 43,
     "metadata": {},
     "output_type": "execute_result"
    }
   ],
   "source": [
    "submissionfile['Sales(In ThousandDollars)'] = test_predictions['Sales(In ThousandDollars)']\n",
    "submissionfile"
   ]
  },
  {
   "cell_type": "code",
   "execution_count": 44,
   "metadata": {
    "collapsed": true
   },
   "outputs": [],
   "source": [
    "#submissionfile.to_csv('C:\\\\Users\\\\HP\\\\Desktop\\\\trial\\\\regression_rf_submission.csv', index=False)"
   ]
  },
  {
   "cell_type": "markdown",
   "metadata": {},
   "source": [
    "### RF Tuning"
   ]
  },
  {
   "cell_type": "code",
   "execution_count": 45,
   "metadata": {},
   "outputs": [
    {
     "name": "stderr",
     "output_type": "stream",
     "text": [
      "C:\\Users\\HP\\Anaconda3\\lib\\site-packages\\sklearn\\model_selection\\_search.py:841: DeprecationWarning: The default of the `iid` parameter will change from True to False in version 0.22 and will be removed in 0.24. This will change numeric results when test-set sizes are unequal.\n",
      "  DeprecationWarning)\n"
     ]
    },
    {
     "data": {
      "text/plain": [
       "GridSearchCV(cv=5, error_score='raise-deprecating',\n",
       "       estimator=RandomForestRegressor(bootstrap=True, criterion='mse', max_depth=None,\n",
       "           max_features='auto', max_leaf_nodes=None,\n",
       "           min_impurity_decrease=0.0, min_impurity_split=None,\n",
       "           min_samples_leaf=1, min_samples_split=2,\n",
       "           min_weight_fraction_leaf=0.0, n_estimators='warn', n_jobs=None,\n",
       "           oob_score=False, random_state=None, verbose=0, warm_start=False),\n",
       "       fit_params=None, iid='warn', n_jobs=-1,\n",
       "       param_grid={'bootstrap': [True], 'max_depth': [3, 5, 8, 10, 12], 'max_features': ['sqrt', 'log2', 'auto'], 'min_samples_leaf': [2, 3, 4, 5], 'min_samples_split': [3, 5, 8, 10, 12], 'n_estimators': [20, 30, 40, 50]},\n",
       "       pre_dispatch='2*n_jobs', refit=True, return_train_score='warn',\n",
       "       scoring=None, verbose=0)"
      ]
     },
     "execution_count": 45,
     "metadata": {},
     "output_type": "execute_result"
    }
   ],
   "source": [
    "param_grid = {\n",
    "    'bootstrap': [True],\n",
    "    'max_depth': [3, 5, 8, 10, 12],\n",
    "    'max_features': ['sqrt', 'log2', 'auto'],\n",
    "    'min_samples_leaf': [2, 3, 4, 5],\n",
    "    'min_samples_split': [3, 5, 8, 10, 12],\n",
    "    'n_estimators': [20, 30, 40, 50]\n",
    "}\n",
    "\n",
    "rf = RandomForestRegressor()\n",
    "rf_grid = GridSearchCV(rf, param_grid = param_grid, cv = 5, n_jobs = -1)\n",
    "rf_grid.fit(trainX_fold, y_train)"
   ]
  },
  {
   "cell_type": "code",
   "execution_count": 50,
   "metadata": {},
   "outputs": [
    {
     "data": {
      "text/plain": [
       "{'bootstrap': True,\n",
       " 'max_depth': 10,\n",
       " 'max_features': 'auto',\n",
       " 'min_samples_leaf': 2,\n",
       " 'min_samples_split': 12,\n",
       " 'n_estimators': 30}"
      ]
     },
     "execution_count": 50,
     "metadata": {},
     "output_type": "execute_result"
    }
   ],
   "source": [
    "rf_grid.best_params_"
   ]
  },
  {
   "cell_type": "markdown",
   "metadata": {},
   "source": [
    "### Build RF Model With Best Parameters"
   ]
  },
  {
   "cell_type": "code",
   "execution_count": 51,
   "metadata": {},
   "outputs": [
    {
     "data": {
      "text/plain": [
       "13.191695513521118"
      ]
     },
     "execution_count": 51,
     "metadata": {},
     "output_type": "execute_result"
    }
   ],
   "source": [
    "rf_model_best = RandomForestRegressor(bootstrap=True, max_depth=10, max_features='auto', min_samples_leaf=2, \n",
    "                                     min_samples_split=12, n_estimators=30)\n",
    "\n",
    "rf_model_best.fit(imp_columns_train, y_train)\n",
    "preds = rf_model_best.predict(imp_columns_val)\n",
    "mean_absolute_percentage_error(y_val, preds)"
   ]
  },
  {
   "cell_type": "code",
   "execution_count": 52,
   "metadata": {},
   "outputs": [
    {
     "data": {
      "text/html": [
       "<div>\n",
       "<style>\n",
       "    .dataframe thead tr:only-child th {\n",
       "        text-align: right;\n",
       "    }\n",
       "\n",
       "    .dataframe thead th {\n",
       "        text-align: left;\n",
       "    }\n",
       "\n",
       "    .dataframe tbody tr th {\n",
       "        vertical-align: top;\n",
       "    }\n",
       "</style>\n",
       "<table border=\"1\" class=\"dataframe\">\n",
       "  <thead>\n",
       "    <tr style=\"text-align: right;\">\n",
       "      <th></th>\n",
       "      <th>Sales(In ThousandDollars)</th>\n",
       "    </tr>\n",
       "  </thead>\n",
       "  <tbody>\n",
       "    <tr>\n",
       "      <th>0</th>\n",
       "      <td>2960.227548</td>\n",
       "    </tr>\n",
       "    <tr>\n",
       "      <th>1</th>\n",
       "      <td>3694.830723</td>\n",
       "    </tr>\n",
       "    <tr>\n",
       "      <th>2</th>\n",
       "      <td>3752.782511</td>\n",
       "    </tr>\n",
       "    <tr>\n",
       "      <th>3</th>\n",
       "      <td>4415.136999</td>\n",
       "    </tr>\n",
       "    <tr>\n",
       "      <th>4</th>\n",
       "      <td>3135.757695</td>\n",
       "    </tr>\n",
       "    <tr>\n",
       "      <th>5</th>\n",
       "      <td>3732.792751</td>\n",
       "    </tr>\n",
       "    <tr>\n",
       "      <th>6</th>\n",
       "      <td>3719.320554</td>\n",
       "    </tr>\n",
       "    <tr>\n",
       "      <th>7</th>\n",
       "      <td>3698.627920</td>\n",
       "    </tr>\n",
       "    <tr>\n",
       "      <th>8</th>\n",
       "      <td>3673.581987</td>\n",
       "    </tr>\n",
       "    <tr>\n",
       "      <th>9</th>\n",
       "      <td>3611.332369</td>\n",
       "    </tr>\n",
       "    <tr>\n",
       "      <th>10</th>\n",
       "      <td>3611.332369</td>\n",
       "    </tr>\n",
       "    <tr>\n",
       "      <th>11</th>\n",
       "      <td>3655.919835</td>\n",
       "    </tr>\n",
       "  </tbody>\n",
       "</table>\n",
       "</div>"
      ],
      "text/plain": [
       "    Sales(In ThousandDollars)\n",
       "0                 2960.227548\n",
       "1                 3694.830723\n",
       "2                 3752.782511\n",
       "3                 4415.136999\n",
       "4                 3135.757695\n",
       "5                 3732.792751\n",
       "6                 3719.320554\n",
       "7                 3698.627920\n",
       "8                 3673.581987\n",
       "9                 3611.332369\n",
       "10                3611.332369\n",
       "11                3655.919835"
      ]
     },
     "execution_count": 52,
     "metadata": {},
     "output_type": "execute_result"
    }
   ],
   "source": [
    "test_preds_rf = pd.DataFrame({'Sales(In ThousandDollars)': rf_model_best.predict(imp_columns_test)})\n",
    "test_preds_rf"
   ]
  },
  {
   "cell_type": "code",
   "execution_count": 53,
   "metadata": {
    "scrolled": true
   },
   "outputs": [
    {
     "data": {
      "text/html": [
       "<div>\n",
       "<style>\n",
       "    .dataframe thead tr:only-child th {\n",
       "        text-align: right;\n",
       "    }\n",
       "\n",
       "    .dataframe thead th {\n",
       "        text-align: left;\n",
       "    }\n",
       "\n",
       "    .dataframe tbody tr th {\n",
       "        vertical-align: top;\n",
       "    }\n",
       "</style>\n",
       "<table border=\"1\" class=\"dataframe\">\n",
       "  <thead>\n",
       "    <tr style=\"text-align: right;\">\n",
       "      <th></th>\n",
       "      <th>ID</th>\n",
       "      <th>Sales(In ThousandDollars)</th>\n",
       "      <th>Year</th>\n",
       "      <th>Month</th>\n",
       "      <th>ProductCategory</th>\n",
       "    </tr>\n",
       "  </thead>\n",
       "  <tbody>\n",
       "    <tr>\n",
       "      <th>0</th>\n",
       "      <td>1</td>\n",
       "      <td>2960.227548</td>\n",
       "      <td>2016</td>\n",
       "      <td>1</td>\n",
       "      <td>WomenClothing</td>\n",
       "    </tr>\n",
       "    <tr>\n",
       "      <th>1</th>\n",
       "      <td>2</td>\n",
       "      <td>3694.830723</td>\n",
       "      <td>2016</td>\n",
       "      <td>2</td>\n",
       "      <td>WomenClothing</td>\n",
       "    </tr>\n",
       "    <tr>\n",
       "      <th>2</th>\n",
       "      <td>3</td>\n",
       "      <td>3752.782511</td>\n",
       "      <td>2016</td>\n",
       "      <td>3</td>\n",
       "      <td>WomenClothing</td>\n",
       "    </tr>\n",
       "    <tr>\n",
       "      <th>3</th>\n",
       "      <td>4</td>\n",
       "      <td>4415.136999</td>\n",
       "      <td>2016</td>\n",
       "      <td>4</td>\n",
       "      <td>WomenClothing</td>\n",
       "    </tr>\n",
       "    <tr>\n",
       "      <th>4</th>\n",
       "      <td>5</td>\n",
       "      <td>3135.757695</td>\n",
       "      <td>2016</td>\n",
       "      <td>5</td>\n",
       "      <td>WomenClothing</td>\n",
       "    </tr>\n",
       "    <tr>\n",
       "      <th>5</th>\n",
       "      <td>6</td>\n",
       "      <td>3732.792751</td>\n",
       "      <td>2016</td>\n",
       "      <td>6</td>\n",
       "      <td>WomenClothing</td>\n",
       "    </tr>\n",
       "    <tr>\n",
       "      <th>6</th>\n",
       "      <td>7</td>\n",
       "      <td>3719.320554</td>\n",
       "      <td>2016</td>\n",
       "      <td>7</td>\n",
       "      <td>WomenClothing</td>\n",
       "    </tr>\n",
       "    <tr>\n",
       "      <th>7</th>\n",
       "      <td>8</td>\n",
       "      <td>3698.627920</td>\n",
       "      <td>2016</td>\n",
       "      <td>8</td>\n",
       "      <td>WomenClothing</td>\n",
       "    </tr>\n",
       "    <tr>\n",
       "      <th>8</th>\n",
       "      <td>9</td>\n",
       "      <td>3673.581987</td>\n",
       "      <td>2016</td>\n",
       "      <td>9</td>\n",
       "      <td>WomenClothing</td>\n",
       "    </tr>\n",
       "    <tr>\n",
       "      <th>9</th>\n",
       "      <td>10</td>\n",
       "      <td>3611.332369</td>\n",
       "      <td>2016</td>\n",
       "      <td>10</td>\n",
       "      <td>WomenClothing</td>\n",
       "    </tr>\n",
       "    <tr>\n",
       "      <th>10</th>\n",
       "      <td>11</td>\n",
       "      <td>3611.332369</td>\n",
       "      <td>2016</td>\n",
       "      <td>11</td>\n",
       "      <td>WomenClothing</td>\n",
       "    </tr>\n",
       "    <tr>\n",
       "      <th>11</th>\n",
       "      <td>12</td>\n",
       "      <td>3655.919835</td>\n",
       "      <td>2016</td>\n",
       "      <td>12</td>\n",
       "      <td>WomenClothing</td>\n",
       "    </tr>\n",
       "  </tbody>\n",
       "</table>\n",
       "</div>"
      ],
      "text/plain": [
       "    ID  Sales(In ThousandDollars)  Year  Month ProductCategory\n",
       "0    1                2960.227548  2016      1   WomenClothing\n",
       "1    2                3694.830723  2016      2   WomenClothing\n",
       "2    3                3752.782511  2016      3   WomenClothing\n",
       "3    4                4415.136999  2016      4   WomenClothing\n",
       "4    5                3135.757695  2016      5   WomenClothing\n",
       "5    6                3732.792751  2016      6   WomenClothing\n",
       "6    7                3719.320554  2016      7   WomenClothing\n",
       "7    8                3698.627920  2016      8   WomenClothing\n",
       "8    9                3673.581987  2016      9   WomenClothing\n",
       "9   10                3611.332369  2016     10   WomenClothing\n",
       "10  11                3611.332369  2016     11   WomenClothing\n",
       "11  12                3655.919835  2016     12   WomenClothing"
      ]
     },
     "execution_count": 53,
     "metadata": {},
     "output_type": "execute_result"
    }
   ],
   "source": [
    "submissionfile['Sales(In ThousandDollars)'] = test_preds_rf['Sales(In ThousandDollars)']\n",
    "submissionfile"
   ]
  },
  {
   "cell_type": "code",
   "execution_count": 54,
   "metadata": {
    "collapsed": true
   },
   "outputs": [],
   "source": [
    "#submissionfile.to_csv('C:\\\\Users\\\\HP\\\\Desktop\\\\trial\\\\regression_rf_best_submission.csv', index=False)"
   ]
  },
  {
   "cell_type": "code",
   "execution_count": 55,
   "metadata": {
    "collapsed": true
   },
   "outputs": [],
   "source": [
    "##################################################################################################################"
   ]
  },
  {
   "cell_type": "markdown",
   "metadata": {},
   "source": [
    "### GBM"
   ]
  },
  {
   "cell_type": "code",
   "execution_count": 56,
   "metadata": {},
   "outputs": [
    {
     "data": {
      "text/plain": [
       "14.523764955222157"
      ]
     },
     "execution_count": 56,
     "metadata": {},
     "output_type": "execute_result"
    }
   ],
   "source": [
    "from sklearn.ensemble import GradientBoostingRegressor\n",
    "\n",
    "model_gbr = GradientBoostingRegressor()\n",
    "model_gbr.fit(trainX_fold, y_train)\n",
    "\n",
    "val_predictions = model_gbr.predict(valX_fold)\n",
    "mean_absolute_percentage_error(y_val, val_predictions)"
   ]
  },
  {
   "cell_type": "code",
   "execution_count": 57,
   "metadata": {
    "scrolled": true
   },
   "outputs": [
    {
     "data": {
      "text/html": [
       "<div>\n",
       "<style>\n",
       "    .dataframe thead tr:only-child th {\n",
       "        text-align: right;\n",
       "    }\n",
       "\n",
       "    .dataframe thead th {\n",
       "        text-align: left;\n",
       "    }\n",
       "\n",
       "    .dataframe tbody tr th {\n",
       "        vertical-align: top;\n",
       "    }\n",
       "</style>\n",
       "<table border=\"1\" class=\"dataframe\">\n",
       "  <thead>\n",
       "    <tr style=\"text-align: right;\">\n",
       "      <th></th>\n",
       "      <th>Sales(In ThousandDollars)</th>\n",
       "    </tr>\n",
       "  </thead>\n",
       "  <tbody>\n",
       "    <tr>\n",
       "      <th>0</th>\n",
       "      <td>2282.923243</td>\n",
       "    </tr>\n",
       "    <tr>\n",
       "      <th>1</th>\n",
       "      <td>2794.615967</td>\n",
       "    </tr>\n",
       "    <tr>\n",
       "      <th>2</th>\n",
       "      <td>2745.423699</td>\n",
       "    </tr>\n",
       "    <tr>\n",
       "      <th>3</th>\n",
       "      <td>2531.570767</td>\n",
       "    </tr>\n",
       "    <tr>\n",
       "      <th>4</th>\n",
       "      <td>2282.923243</td>\n",
       "    </tr>\n",
       "    <tr>\n",
       "      <th>5</th>\n",
       "      <td>2662.442831</td>\n",
       "    </tr>\n",
       "    <tr>\n",
       "      <th>6</th>\n",
       "      <td>2638.550659</td>\n",
       "    </tr>\n",
       "    <tr>\n",
       "      <th>7</th>\n",
       "      <td>2737.947766</td>\n",
       "    </tr>\n",
       "    <tr>\n",
       "      <th>8</th>\n",
       "      <td>2770.363805</td>\n",
       "    </tr>\n",
       "    <tr>\n",
       "      <th>9</th>\n",
       "      <td>2775.460469</td>\n",
       "    </tr>\n",
       "    <tr>\n",
       "      <th>10</th>\n",
       "      <td>2777.249581</td>\n",
       "    </tr>\n",
       "    <tr>\n",
       "      <th>11</th>\n",
       "      <td>2796.950301</td>\n",
       "    </tr>\n",
       "  </tbody>\n",
       "</table>\n",
       "</div>"
      ],
      "text/plain": [
       "    Sales(In ThousandDollars)\n",
       "0                 2282.923243\n",
       "1                 2794.615967\n",
       "2                 2745.423699\n",
       "3                 2531.570767\n",
       "4                 2282.923243\n",
       "5                 2662.442831\n",
       "6                 2638.550659\n",
       "7                 2737.947766\n",
       "8                 2770.363805\n",
       "9                 2775.460469\n",
       "10                2777.249581\n",
       "11                2796.950301"
      ]
     },
     "execution_count": 57,
     "metadata": {},
     "output_type": "execute_result"
    }
   ],
   "source": [
    "test_preds = pd.DataFrame({'Sales(In ThousandDollars)': model_gbr.predict(test_data)})\n",
    "test_preds"
   ]
  },
  {
   "cell_type": "markdown",
   "metadata": {},
   "source": [
    "### GBM With rf_model Imp_features"
   ]
  },
  {
   "cell_type": "code",
   "execution_count": 58,
   "metadata": {},
   "outputs": [
    {
     "data": {
      "text/plain": [
       "7.408293763944457"
      ]
     },
     "execution_count": 58,
     "metadata": {},
     "output_type": "execute_result"
    }
   ],
   "source": [
    "from sklearn.ensemble import GradientBoostingRegressor\n",
    "\n",
    "model_gbr = GradientBoostingRegressor()\n",
    "model_gbr.fit(imp_columns_train, y_train)\n",
    "\n",
    "val_predictions = model_gbr.predict(imp_columns_val)\n",
    "mean_absolute_percentage_error(y_val, val_predictions)"
   ]
  },
  {
   "cell_type": "code",
   "execution_count": 59,
   "metadata": {
    "collapsed": true,
    "scrolled": true
   },
   "outputs": [],
   "source": [
    "test_preds1 = pd.DataFrame({'Sales(In ThousandDollars)': model_gbr.predict(imp_columns_test)})"
   ]
  },
  {
   "cell_type": "code",
   "execution_count": 60,
   "metadata": {},
   "outputs": [
    {
     "data": {
      "text/html": [
       "<div>\n",
       "<style>\n",
       "    .dataframe thead tr:only-child th {\n",
       "        text-align: right;\n",
       "    }\n",
       "\n",
       "    .dataframe thead th {\n",
       "        text-align: left;\n",
       "    }\n",
       "\n",
       "    .dataframe tbody tr th {\n",
       "        vertical-align: top;\n",
       "    }\n",
       "</style>\n",
       "<table border=\"1\" class=\"dataframe\">\n",
       "  <thead>\n",
       "    <tr style=\"text-align: right;\">\n",
       "      <th></th>\n",
       "      <th>ID</th>\n",
       "      <th>Sales(In ThousandDollars)</th>\n",
       "      <th>Year</th>\n",
       "      <th>Month</th>\n",
       "      <th>ProductCategory</th>\n",
       "    </tr>\n",
       "  </thead>\n",
       "  <tbody>\n",
       "    <tr>\n",
       "      <th>0</th>\n",
       "      <td>1</td>\n",
       "      <td>3175.715924</td>\n",
       "      <td>2016</td>\n",
       "      <td>1</td>\n",
       "      <td>WomenClothing</td>\n",
       "    </tr>\n",
       "    <tr>\n",
       "      <th>1</th>\n",
       "      <td>2</td>\n",
       "      <td>4081.715112</td>\n",
       "      <td>2016</td>\n",
       "      <td>2</td>\n",
       "      <td>WomenClothing</td>\n",
       "    </tr>\n",
       "    <tr>\n",
       "      <th>2</th>\n",
       "      <td>3</td>\n",
       "      <td>4147.339618</td>\n",
       "      <td>2016</td>\n",
       "      <td>3</td>\n",
       "      <td>WomenClothing</td>\n",
       "    </tr>\n",
       "    <tr>\n",
       "      <th>3</th>\n",
       "      <td>4</td>\n",
       "      <td>4973.584250</td>\n",
       "      <td>2016</td>\n",
       "      <td>4</td>\n",
       "      <td>WomenClothing</td>\n",
       "    </tr>\n",
       "    <tr>\n",
       "      <th>4</th>\n",
       "      <td>5</td>\n",
       "      <td>3659.233177</td>\n",
       "      <td>2016</td>\n",
       "      <td>5</td>\n",
       "      <td>WomenClothing</td>\n",
       "    </tr>\n",
       "    <tr>\n",
       "      <th>5</th>\n",
       "      <td>6</td>\n",
       "      <td>4105.666727</td>\n",
       "      <td>2016</td>\n",
       "      <td>6</td>\n",
       "      <td>WomenClothing</td>\n",
       "    </tr>\n",
       "    <tr>\n",
       "      <th>6</th>\n",
       "      <td>7</td>\n",
       "      <td>4191.583765</td>\n",
       "      <td>2016</td>\n",
       "      <td>7</td>\n",
       "      <td>WomenClothing</td>\n",
       "    </tr>\n",
       "    <tr>\n",
       "      <th>7</th>\n",
       "      <td>8</td>\n",
       "      <td>4331.774975</td>\n",
       "      <td>2016</td>\n",
       "      <td>8</td>\n",
       "      <td>WomenClothing</td>\n",
       "    </tr>\n",
       "    <tr>\n",
       "      <th>8</th>\n",
       "      <td>9</td>\n",
       "      <td>3988.001133</td>\n",
       "      <td>2016</td>\n",
       "      <td>9</td>\n",
       "      <td>WomenClothing</td>\n",
       "    </tr>\n",
       "    <tr>\n",
       "      <th>9</th>\n",
       "      <td>10</td>\n",
       "      <td>3714.814067</td>\n",
       "      <td>2016</td>\n",
       "      <td>10</td>\n",
       "      <td>WomenClothing</td>\n",
       "    </tr>\n",
       "    <tr>\n",
       "      <th>10</th>\n",
       "      <td>11</td>\n",
       "      <td>3733.256864</td>\n",
       "      <td>2016</td>\n",
       "      <td>11</td>\n",
       "      <td>WomenClothing</td>\n",
       "    </tr>\n",
       "    <tr>\n",
       "      <th>11</th>\n",
       "      <td>12</td>\n",
       "      <td>3917.011960</td>\n",
       "      <td>2016</td>\n",
       "      <td>12</td>\n",
       "      <td>WomenClothing</td>\n",
       "    </tr>\n",
       "  </tbody>\n",
       "</table>\n",
       "</div>"
      ],
      "text/plain": [
       "    ID  Sales(In ThousandDollars)  Year  Month ProductCategory\n",
       "0    1                3175.715924  2016      1   WomenClothing\n",
       "1    2                4081.715112  2016      2   WomenClothing\n",
       "2    3                4147.339618  2016      3   WomenClothing\n",
       "3    4                4973.584250  2016      4   WomenClothing\n",
       "4    5                3659.233177  2016      5   WomenClothing\n",
       "5    6                4105.666727  2016      6   WomenClothing\n",
       "6    7                4191.583765  2016      7   WomenClothing\n",
       "7    8                4331.774975  2016      8   WomenClothing\n",
       "8    9                3988.001133  2016      9   WomenClothing\n",
       "9   10                3714.814067  2016     10   WomenClothing\n",
       "10  11                3733.256864  2016     11   WomenClothing\n",
       "11  12                3917.011960  2016     12   WomenClothing"
      ]
     },
     "execution_count": 60,
     "metadata": {},
     "output_type": "execute_result"
    }
   ],
   "source": [
    "submissionfile['Sales(In ThousandDollars)'] = test_preds1['Sales(In ThousandDollars)']\n",
    "submissionfile"
   ]
  },
  {
   "cell_type": "code",
   "execution_count": 70,
   "metadata": {
    "collapsed": true
   },
   "outputs": [],
   "source": [
    "#submissionfile.to_csv('C:\\\\Users\\\\HP\\\\Desktop\\\\trial\\\\regression_gbm_submission.csv', index=False)"
   ]
  },
  {
   "cell_type": "markdown",
   "metadata": {},
   "source": [
    "### GBM With GridSearch"
   ]
  },
  {
   "cell_type": "code",
   "execution_count": 63,
   "metadata": {},
   "outputs": [
    {
     "name": "stderr",
     "output_type": "stream",
     "text": [
      "C:\\Users\\HP\\Anaconda3\\lib\\site-packages\\sklearn\\model_selection\\_search.py:841: DeprecationWarning: The default of the `iid` parameter will change from True to False in version 0.22 and will be removed in 0.24. This will change numeric results when test-set sizes are unequal.\n",
      "  DeprecationWarning)\n"
     ]
    },
    {
     "data": {
      "text/plain": [
       "GridSearchCV(cv=5, error_score='raise-deprecating',\n",
       "       estimator=GradientBoostingRegressor(alpha=0.9, criterion='friedman_mse', init=None,\n",
       "             learning_rate=0.1, loss='ls', max_depth=3, max_features=None,\n",
       "             max_leaf_nodes=None, min_impurity_decrease=0.0,\n",
       "             min_impurity_split=None, min_samples_leaf=1,\n",
       "             min_sampl...=None, subsample=1.0, tol=0.0001,\n",
       "             validation_fraction=0.1, verbose=0, warm_start=False),\n",
       "       fit_params=None, iid='warn', n_jobs=-1,\n",
       "       param_grid={'criterion': ['friedman_mse', 'mae'], 'loss': ['ls', 'lad', 'huber', 'quantile'], 'learning_rate': [0.025, 0.05, 0.075, 0.1, 0.15, 0.2, 0.25], 'max_depth': [3, 5, 8], 'n_estimators': [10, 15, 20], 'min_samples_split': [2, 3, 4, 5, 6]},\n",
       "       pre_dispatch='2*n_jobs', refit=True, return_train_score='warn',\n",
       "       scoring=None, verbose=0)"
      ]
     },
     "execution_count": 63,
     "metadata": {},
     "output_type": "execute_result"
    }
   ],
   "source": [
    "parameters = {\n",
    "    \"criterion\": [\"friedman_mse\",'mae'],\n",
    "    \"loss\":['ls', 'lad', 'huber', 'quantile'],\n",
    "    \"learning_rate\": [0.025, 0.05, 0.075, 0.1, 0.15, 0.2, 0.25],\n",
    "    \"max_depth\":[3,5,8],\n",
    "    \"n_estimators\":[10, 15, 20],\n",
    "    \"min_samples_split\":[2,3,4,5,6]\n",
    "    }\n",
    "\n",
    "gbc = GradientBoostingRegressor()\n",
    "gbc_grid = GridSearchCV(gbc, parameters, cv=5, n_jobs=-1)\n",
    "gbc_grid.fit(imp_columns_train, y_train)"
   ]
  },
  {
   "cell_type": "code",
   "execution_count": 64,
   "metadata": {},
   "outputs": [
    {
     "data": {
      "text/plain": [
       "{'criterion': 'mae',\n",
       " 'learning_rate': 0.25,\n",
       " 'loss': 'lad',\n",
       " 'max_depth': 8,\n",
       " 'min_samples_split': 4,\n",
       " 'n_estimators': 20}"
      ]
     },
     "execution_count": 64,
     "metadata": {},
     "output_type": "execute_result"
    }
   ],
   "source": [
    "gbc_grid.best_params_"
   ]
  },
  {
   "cell_type": "code",
   "execution_count": 65,
   "metadata": {},
   "outputs": [
    {
     "data": {
      "text/plain": [
       "GradientBoostingRegressor(alpha=0.9, criterion='mae', init=None,\n",
       "             learning_rate=0.25, loss='lad', max_depth=8,\n",
       "             max_features=None, max_leaf_nodes=None,\n",
       "             min_impurity_decrease=0.0, min_impurity_split=None,\n",
       "             min_samples_leaf=1, min_samples_split=4,\n",
       "             min_weight_fraction_leaf=0.0, n_estimators=20,\n",
       "             n_iter_no_change=None, presort='auto', random_state=None,\n",
       "             subsample=1.0, tol=0.0001, validation_fraction=0.1, verbose=0,\n",
       "             warm_start=False)"
      ]
     },
     "execution_count": 65,
     "metadata": {},
     "output_type": "execute_result"
    }
   ],
   "source": [
    "gbc_best = GradientBoostingRegressor(criterion='mae',\n",
    "                                        learning_rate = 0.25,\n",
    "                                        loss = 'lad',\n",
    "                                        max_depth = 8,\n",
    "                                        min_samples_split = 4,\n",
    "                                        n_estimators =20)\n",
    "gbc_best.fit(imp_columns_train, y_train)"
   ]
  },
  {
   "cell_type": "code",
   "execution_count": 66,
   "metadata": {},
   "outputs": [
    {
     "data": {
      "text/plain": [
       "15.196573939929431"
      ]
     },
     "execution_count": 66,
     "metadata": {},
     "output_type": "execute_result"
    }
   ],
   "source": [
    "y_cap = gbc_best.predict(imp_columns_val)\n",
    "mean_absolute_percentage_error(y_val, y_cap)"
   ]
  },
  {
   "cell_type": "code",
   "execution_count": 67,
   "metadata": {},
   "outputs": [
    {
     "data": {
      "text/plain": [
       "array([2844.02099444, 3605.15629086, 3666.59077435, 4153.46728646,\n",
       "       3398.50632517, 3667.75685448, 3680.80096777, 3697.79326377,\n",
       "       3632.4878217 , 3326.24075456, 3292.17921205, 3489.46994444])"
      ]
     },
     "execution_count": 67,
     "metadata": {},
     "output_type": "execute_result"
    }
   ],
   "source": [
    "gbc_best.predict(imp_columns_test)"
   ]
  },
  {
   "cell_type": "code",
   "execution_count": 68,
   "metadata": {
    "scrolled": true
   },
   "outputs": [
    {
     "data": {
      "text/html": [
       "<div>\n",
       "<style>\n",
       "    .dataframe thead tr:only-child th {\n",
       "        text-align: right;\n",
       "    }\n",
       "\n",
       "    .dataframe thead th {\n",
       "        text-align: left;\n",
       "    }\n",
       "\n",
       "    .dataframe tbody tr th {\n",
       "        vertical-align: top;\n",
       "    }\n",
       "</style>\n",
       "<table border=\"1\" class=\"dataframe\">\n",
       "  <thead>\n",
       "    <tr style=\"text-align: right;\">\n",
       "      <th></th>\n",
       "      <th>Sales(In ThousandDollars)</th>\n",
       "    </tr>\n",
       "  </thead>\n",
       "  <tbody>\n",
       "    <tr>\n",
       "      <th>0</th>\n",
       "      <td>2844.020994</td>\n",
       "    </tr>\n",
       "    <tr>\n",
       "      <th>1</th>\n",
       "      <td>3605.156291</td>\n",
       "    </tr>\n",
       "    <tr>\n",
       "      <th>2</th>\n",
       "      <td>3666.590774</td>\n",
       "    </tr>\n",
       "    <tr>\n",
       "      <th>3</th>\n",
       "      <td>4153.467286</td>\n",
       "    </tr>\n",
       "    <tr>\n",
       "      <th>4</th>\n",
       "      <td>3398.506325</td>\n",
       "    </tr>\n",
       "    <tr>\n",
       "      <th>5</th>\n",
       "      <td>3667.756854</td>\n",
       "    </tr>\n",
       "    <tr>\n",
       "      <th>6</th>\n",
       "      <td>3680.800968</td>\n",
       "    </tr>\n",
       "    <tr>\n",
       "      <th>7</th>\n",
       "      <td>3697.793264</td>\n",
       "    </tr>\n",
       "    <tr>\n",
       "      <th>8</th>\n",
       "      <td>3632.487822</td>\n",
       "    </tr>\n",
       "    <tr>\n",
       "      <th>9</th>\n",
       "      <td>3326.240755</td>\n",
       "    </tr>\n",
       "    <tr>\n",
       "      <th>10</th>\n",
       "      <td>3292.179212</td>\n",
       "    </tr>\n",
       "    <tr>\n",
       "      <th>11</th>\n",
       "      <td>3489.469944</td>\n",
       "    </tr>\n",
       "  </tbody>\n",
       "</table>\n",
       "</div>"
      ],
      "text/plain": [
       "    Sales(In ThousandDollars)\n",
       "0                 2844.020994\n",
       "1                 3605.156291\n",
       "2                 3666.590774\n",
       "3                 4153.467286\n",
       "4                 3398.506325\n",
       "5                 3667.756854\n",
       "6                 3680.800968\n",
       "7                 3697.793264\n",
       "8                 3632.487822\n",
       "9                 3326.240755\n",
       "10                3292.179212\n",
       "11                3489.469944"
      ]
     },
     "execution_count": 68,
     "metadata": {},
     "output_type": "execute_result"
    }
   ],
   "source": [
    "test_preds2 = pd.DataFrame({'Sales(In ThousandDollars)': gbc_best.predict(imp_columns_test)})\n",
    "test_preds2"
   ]
  },
  {
   "cell_type": "code",
   "execution_count": null,
   "metadata": {
    "collapsed": true
   },
   "outputs": [],
   "source": []
  },
  {
   "cell_type": "code",
   "execution_count": 69,
   "metadata": {},
   "outputs": [
    {
     "data": {
      "text/html": [
       "<div>\n",
       "<style>\n",
       "    .dataframe thead tr:only-child th {\n",
       "        text-align: right;\n",
       "    }\n",
       "\n",
       "    .dataframe thead th {\n",
       "        text-align: left;\n",
       "    }\n",
       "\n",
       "    .dataframe tbody tr th {\n",
       "        vertical-align: top;\n",
       "    }\n",
       "</style>\n",
       "<table border=\"1\" class=\"dataframe\">\n",
       "  <thead>\n",
       "    <tr style=\"text-align: right;\">\n",
       "      <th></th>\n",
       "      <th>ID</th>\n",
       "      <th>Sales(In ThousandDollars)</th>\n",
       "      <th>Year</th>\n",
       "      <th>Month</th>\n",
       "      <th>ProductCategory</th>\n",
       "    </tr>\n",
       "  </thead>\n",
       "  <tbody>\n",
       "    <tr>\n",
       "      <th>0</th>\n",
       "      <td>1</td>\n",
       "      <td>2844.020994</td>\n",
       "      <td>2016</td>\n",
       "      <td>1</td>\n",
       "      <td>WomenClothing</td>\n",
       "    </tr>\n",
       "    <tr>\n",
       "      <th>1</th>\n",
       "      <td>2</td>\n",
       "      <td>3605.156291</td>\n",
       "      <td>2016</td>\n",
       "      <td>2</td>\n",
       "      <td>WomenClothing</td>\n",
       "    </tr>\n",
       "    <tr>\n",
       "      <th>2</th>\n",
       "      <td>3</td>\n",
       "      <td>3666.590774</td>\n",
       "      <td>2016</td>\n",
       "      <td>3</td>\n",
       "      <td>WomenClothing</td>\n",
       "    </tr>\n",
       "    <tr>\n",
       "      <th>3</th>\n",
       "      <td>4</td>\n",
       "      <td>4153.467286</td>\n",
       "      <td>2016</td>\n",
       "      <td>4</td>\n",
       "      <td>WomenClothing</td>\n",
       "    </tr>\n",
       "    <tr>\n",
       "      <th>4</th>\n",
       "      <td>5</td>\n",
       "      <td>3398.506325</td>\n",
       "      <td>2016</td>\n",
       "      <td>5</td>\n",
       "      <td>WomenClothing</td>\n",
       "    </tr>\n",
       "    <tr>\n",
       "      <th>5</th>\n",
       "      <td>6</td>\n",
       "      <td>3667.756854</td>\n",
       "      <td>2016</td>\n",
       "      <td>6</td>\n",
       "      <td>WomenClothing</td>\n",
       "    </tr>\n",
       "    <tr>\n",
       "      <th>6</th>\n",
       "      <td>7</td>\n",
       "      <td>3680.800968</td>\n",
       "      <td>2016</td>\n",
       "      <td>7</td>\n",
       "      <td>WomenClothing</td>\n",
       "    </tr>\n",
       "    <tr>\n",
       "      <th>7</th>\n",
       "      <td>8</td>\n",
       "      <td>3697.793264</td>\n",
       "      <td>2016</td>\n",
       "      <td>8</td>\n",
       "      <td>WomenClothing</td>\n",
       "    </tr>\n",
       "    <tr>\n",
       "      <th>8</th>\n",
       "      <td>9</td>\n",
       "      <td>3632.487822</td>\n",
       "      <td>2016</td>\n",
       "      <td>9</td>\n",
       "      <td>WomenClothing</td>\n",
       "    </tr>\n",
       "    <tr>\n",
       "      <th>9</th>\n",
       "      <td>10</td>\n",
       "      <td>3326.240755</td>\n",
       "      <td>2016</td>\n",
       "      <td>10</td>\n",
       "      <td>WomenClothing</td>\n",
       "    </tr>\n",
       "    <tr>\n",
       "      <th>10</th>\n",
       "      <td>11</td>\n",
       "      <td>3292.179212</td>\n",
       "      <td>2016</td>\n",
       "      <td>11</td>\n",
       "      <td>WomenClothing</td>\n",
       "    </tr>\n",
       "    <tr>\n",
       "      <th>11</th>\n",
       "      <td>12</td>\n",
       "      <td>3489.469944</td>\n",
       "      <td>2016</td>\n",
       "      <td>12</td>\n",
       "      <td>WomenClothing</td>\n",
       "    </tr>\n",
       "  </tbody>\n",
       "</table>\n",
       "</div>"
      ],
      "text/plain": [
       "    ID  Sales(In ThousandDollars)  Year  Month ProductCategory\n",
       "0    1                2844.020994  2016      1   WomenClothing\n",
       "1    2                3605.156291  2016      2   WomenClothing\n",
       "2    3                3666.590774  2016      3   WomenClothing\n",
       "3    4                4153.467286  2016      4   WomenClothing\n",
       "4    5                3398.506325  2016      5   WomenClothing\n",
       "5    6                3667.756854  2016      6   WomenClothing\n",
       "6    7                3680.800968  2016      7   WomenClothing\n",
       "7    8                3697.793264  2016      8   WomenClothing\n",
       "8    9                3632.487822  2016      9   WomenClothing\n",
       "9   10                3326.240755  2016     10   WomenClothing\n",
       "10  11                3292.179212  2016     11   WomenClothing\n",
       "11  12                3489.469944  2016     12   WomenClothing"
      ]
     },
     "execution_count": 69,
     "metadata": {},
     "output_type": "execute_result"
    }
   ],
   "source": [
    "submissionfile['Sales(In ThousandDollars)'] = test_preds2['Sales(In ThousandDollars)']\n",
    "submissionfile"
   ]
  },
  {
   "cell_type": "code",
   "execution_count": 85,
   "metadata": {
    "collapsed": true
   },
   "outputs": [],
   "source": [
    "#submissionfile.to_csv('C:\\\\Users\\\\HP\\Desktop\\\\trial\\\\regression_gbm_best_submission.csv', index=False)"
   ]
  },
  {
   "cell_type": "markdown",
   "metadata": {},
   "source": [
    "### Linear Regression"
   ]
  },
  {
   "cell_type": "code",
   "execution_count": 70,
   "metadata": {},
   "outputs": [
    {
     "name": "stderr",
     "output_type": "stream",
     "text": [
      "C:\\Users\\HP\\Anaconda3\\lib\\site-packages\\sklearn\\linear_model\\coordinate_descent.py:491: ConvergenceWarning: Objective did not converge. You might want to increase the number of iterations. Fitting data with very small alpha may cause precision problems.\n",
      "  ConvergenceWarning)\n"
     ]
    },
    {
     "data": {
      "text/plain": [
       "27.418520794265227"
      ]
     },
     "execution_count": 70,
     "metadata": {},
     "output_type": "execute_result"
    }
   ],
   "source": [
    "from sklearn import linear_model\n",
    "reg_lasso = linear_model.Lasso(alpha=0.1)\n",
    "\n",
    "reg_lasso.fit(trainX_fold, y_train)\n",
    "Y_cap  = reg_lasso.predict(valX_fold)\n",
    "\n",
    "mean_absolute_percentage_error(y_val, Y_cap)"
   ]
  },
  {
   "cell_type": "code",
   "execution_count": 71,
   "metadata": {
    "scrolled": true
   },
   "outputs": [
    {
     "data": {
      "text/html": [
       "<div>\n",
       "<style>\n",
       "    .dataframe thead tr:only-child th {\n",
       "        text-align: right;\n",
       "    }\n",
       "\n",
       "    .dataframe thead th {\n",
       "        text-align: left;\n",
       "    }\n",
       "\n",
       "    .dataframe tbody tr th {\n",
       "        vertical-align: top;\n",
       "    }\n",
       "</style>\n",
       "<table border=\"1\" class=\"dataframe\">\n",
       "  <thead>\n",
       "    <tr style=\"text-align: right;\">\n",
       "      <th></th>\n",
       "      <th>Sales(In ThousandDollars)</th>\n",
       "    </tr>\n",
       "  </thead>\n",
       "  <tbody>\n",
       "    <tr>\n",
       "      <th>0</th>\n",
       "      <td>-3.047104e+06</td>\n",
       "    </tr>\n",
       "    <tr>\n",
       "      <th>1</th>\n",
       "      <td>-3.055305e+06</td>\n",
       "    </tr>\n",
       "    <tr>\n",
       "      <th>2</th>\n",
       "      <td>-3.092860e+06</td>\n",
       "    </tr>\n",
       "    <tr>\n",
       "      <th>3</th>\n",
       "      <td>-3.096222e+06</td>\n",
       "    </tr>\n",
       "    <tr>\n",
       "      <th>4</th>\n",
       "      <td>-3.017411e+06</td>\n",
       "    </tr>\n",
       "    <tr>\n",
       "      <th>5</th>\n",
       "      <td>-3.055895e+06</td>\n",
       "    </tr>\n",
       "    <tr>\n",
       "      <th>6</th>\n",
       "      <td>-3.052783e+06</td>\n",
       "    </tr>\n",
       "    <tr>\n",
       "      <th>7</th>\n",
       "      <td>-3.029324e+06</td>\n",
       "    </tr>\n",
       "    <tr>\n",
       "      <th>8</th>\n",
       "      <td>-3.045857e+06</td>\n",
       "    </tr>\n",
       "    <tr>\n",
       "      <th>9</th>\n",
       "      <td>-3.046832e+06</td>\n",
       "    </tr>\n",
       "    <tr>\n",
       "      <th>10</th>\n",
       "      <td>-3.069084e+06</td>\n",
       "    </tr>\n",
       "    <tr>\n",
       "      <th>11</th>\n",
       "      <td>-3.078958e+06</td>\n",
       "    </tr>\n",
       "  </tbody>\n",
       "</table>\n",
       "</div>"
      ],
      "text/plain": [
       "    Sales(In ThousandDollars)\n",
       "0               -3.047104e+06\n",
       "1               -3.055305e+06\n",
       "2               -3.092860e+06\n",
       "3               -3.096222e+06\n",
       "4               -3.017411e+06\n",
       "5               -3.055895e+06\n",
       "6               -3.052783e+06\n",
       "7               -3.029324e+06\n",
       "8               -3.045857e+06\n",
       "9               -3.046832e+06\n",
       "10              -3.069084e+06\n",
       "11              -3.078958e+06"
      ]
     },
     "execution_count": 71,
     "metadata": {},
     "output_type": "execute_result"
    }
   ],
   "source": [
    "test_preds_reg = pd.DataFrame({'Sales(In ThousandDollars)':reg_lasso.predict(test_data)})\n",
    "test_preds_reg"
   ]
  },
  {
   "cell_type": "code",
   "execution_count": null,
   "metadata": {
    "collapsed": true
   },
   "outputs": [],
   "source": []
  },
  {
   "cell_type": "markdown",
   "metadata": {},
   "source": [
    "### Linear Regression With Imp Features"
   ]
  },
  {
   "cell_type": "code",
   "execution_count": 72,
   "metadata": {},
   "outputs": [
    {
     "name": "stderr",
     "output_type": "stream",
     "text": [
      "C:\\Users\\HP\\Anaconda3\\lib\\site-packages\\sklearn\\linear_model\\coordinate_descent.py:491: ConvergenceWarning: Objective did not converge. You might want to increase the number of iterations. Fitting data with very small alpha may cause precision problems.\n",
      "  ConvergenceWarning)\n"
     ]
    },
    {
     "data": {
      "text/plain": [
       "9.803498612793032"
      ]
     },
     "execution_count": 72,
     "metadata": {},
     "output_type": "execute_result"
    }
   ],
   "source": [
    "reg_lasso_imp = linear_model.Lasso(alpha=0.1)\n",
    "\n",
    "reg_lasso_imp.fit(imp_columns_train, y_train)\n",
    "Y_cap1  = reg_lasso_imp.predict(imp_columns_val)\n",
    "\n",
    "mean_absolute_percentage_error(y_val, Y_cap1)"
   ]
  },
  {
   "cell_type": "code",
   "execution_count": 73,
   "metadata": {
    "scrolled": true
   },
   "outputs": [
    {
     "data": {
      "text/html": [
       "<div>\n",
       "<style>\n",
       "    .dataframe thead tr:only-child th {\n",
       "        text-align: right;\n",
       "    }\n",
       "\n",
       "    .dataframe thead th {\n",
       "        text-align: left;\n",
       "    }\n",
       "\n",
       "    .dataframe tbody tr th {\n",
       "        vertical-align: top;\n",
       "    }\n",
       "</style>\n",
       "<table border=\"1\" class=\"dataframe\">\n",
       "  <thead>\n",
       "    <tr style=\"text-align: right;\">\n",
       "      <th></th>\n",
       "      <th>Sales(In ThousandDollars)</th>\n",
       "    </tr>\n",
       "  </thead>\n",
       "  <tbody>\n",
       "    <tr>\n",
       "      <th>0</th>\n",
       "      <td>3363.839067</td>\n",
       "    </tr>\n",
       "    <tr>\n",
       "      <th>1</th>\n",
       "      <td>4210.020919</td>\n",
       "    </tr>\n",
       "    <tr>\n",
       "      <th>2</th>\n",
       "      <td>4648.079244</td>\n",
       "    </tr>\n",
       "    <tr>\n",
       "      <th>3</th>\n",
       "      <td>4922.015725</td>\n",
       "    </tr>\n",
       "    <tr>\n",
       "      <th>4</th>\n",
       "      <td>3733.009906</td>\n",
       "    </tr>\n",
       "    <tr>\n",
       "      <th>5</th>\n",
       "      <td>4071.184366</td>\n",
       "    </tr>\n",
       "    <tr>\n",
       "      <th>6</th>\n",
       "      <td>3944.847829</td>\n",
       "    </tr>\n",
       "    <tr>\n",
       "      <th>7</th>\n",
       "      <td>3721.079991</td>\n",
       "    </tr>\n",
       "    <tr>\n",
       "      <th>8</th>\n",
       "      <td>3800.161825</td>\n",
       "    </tr>\n",
       "    <tr>\n",
       "      <th>9</th>\n",
       "      <td>3667.219277</td>\n",
       "    </tr>\n",
       "    <tr>\n",
       "      <th>10</th>\n",
       "      <td>3811.488089</td>\n",
       "    </tr>\n",
       "    <tr>\n",
       "      <th>11</th>\n",
       "      <td>4238.156610</td>\n",
       "    </tr>\n",
       "  </tbody>\n",
       "</table>\n",
       "</div>"
      ],
      "text/plain": [
       "    Sales(In ThousandDollars)\n",
       "0                 3363.839067\n",
       "1                 4210.020919\n",
       "2                 4648.079244\n",
       "3                 4922.015725\n",
       "4                 3733.009906\n",
       "5                 4071.184366\n",
       "6                 3944.847829\n",
       "7                 3721.079991\n",
       "8                 3800.161825\n",
       "9                 3667.219277\n",
       "10                3811.488089\n",
       "11                4238.156610"
      ]
     },
     "execution_count": 73,
     "metadata": {},
     "output_type": "execute_result"
    }
   ],
   "source": [
    "test_preds_reg_imp = pd.DataFrame({'Sales(In ThousandDollars)':reg_lasso_imp.predict(imp_columns_test)})\n",
    "test_preds_reg_imp"
   ]
  },
  {
   "cell_type": "code",
   "execution_count": 74,
   "metadata": {},
   "outputs": [
    {
     "name": "stderr",
     "output_type": "stream",
     "text": [
      "C:\\Users\\HP\\Anaconda3\\lib\\site-packages\\sklearn\\linear_model\\coordinate_descent.py:491: ConvergenceWarning: Objective did not converge. You might want to increase the number of iterations. Fitting data with very small alpha may cause precision problems.\n",
      "  ConvergenceWarning)\n",
      "C:\\Users\\HP\\Anaconda3\\lib\\site-packages\\sklearn\\linear_model\\coordinate_descent.py:491: ConvergenceWarning: Objective did not converge. You might want to increase the number of iterations. Fitting data with very small alpha may cause precision problems.\n",
      "  ConvergenceWarning)\n",
      "C:\\Users\\HP\\Anaconda3\\lib\\site-packages\\sklearn\\linear_model\\coordinate_descent.py:491: ConvergenceWarning: Objective did not converge. You might want to increase the number of iterations. Fitting data with very small alpha may cause precision problems.\n",
      "  ConvergenceWarning)\n",
      "C:\\Users\\HP\\Anaconda3\\lib\\site-packages\\sklearn\\linear_model\\coordinate_descent.py:491: ConvergenceWarning: Objective did not converge. You might want to increase the number of iterations. Fitting data with very small alpha may cause precision problems.\n",
      "  ConvergenceWarning)\n",
      "C:\\Users\\HP\\Anaconda3\\lib\\site-packages\\sklearn\\linear_model\\coordinate_descent.py:491: ConvergenceWarning: Objective did not converge. You might want to increase the number of iterations. Fitting data with very small alpha may cause precision problems.\n",
      "  ConvergenceWarning)\n",
      "C:\\Users\\HP\\Anaconda3\\lib\\site-packages\\sklearn\\linear_model\\coordinate_descent.py:491: ConvergenceWarning: Objective did not converge. You might want to increase the number of iterations. Fitting data with very small alpha may cause precision problems.\n",
      "  ConvergenceWarning)\n",
      "C:\\Users\\HP\\Anaconda3\\lib\\site-packages\\sklearn\\linear_model\\coordinate_descent.py:491: ConvergenceWarning: Objective did not converge. You might want to increase the number of iterations. Fitting data with very small alpha may cause precision problems.\n",
      "  ConvergenceWarning)\n",
      "C:\\Users\\HP\\Anaconda3\\lib\\site-packages\\sklearn\\linear_model\\coordinate_descent.py:491: ConvergenceWarning: Objective did not converge. You might want to increase the number of iterations. Fitting data with very small alpha may cause precision problems.\n",
      "  ConvergenceWarning)\n",
      "C:\\Users\\HP\\Anaconda3\\lib\\site-packages\\sklearn\\linear_model\\coordinate_descent.py:491: ConvergenceWarning: Objective did not converge. You might want to increase the number of iterations. Fitting data with very small alpha may cause precision problems.\n",
      "  ConvergenceWarning)\n",
      "C:\\Users\\HP\\Anaconda3\\lib\\site-packages\\sklearn\\linear_model\\coordinate_descent.py:491: ConvergenceWarning: Objective did not converge. You might want to increase the number of iterations. Fitting data with very small alpha may cause precision problems.\n",
      "  ConvergenceWarning)\n",
      "C:\\Users\\HP\\Anaconda3\\lib\\site-packages\\sklearn\\linear_model\\coordinate_descent.py:491: ConvergenceWarning: Objective did not converge. You might want to increase the number of iterations. Fitting data with very small alpha may cause precision problems.\n",
      "  ConvergenceWarning)\n",
      "C:\\Users\\HP\\Anaconda3\\lib\\site-packages\\sklearn\\linear_model\\coordinate_descent.py:491: ConvergenceWarning: Objective did not converge. You might want to increase the number of iterations. Fitting data with very small alpha may cause precision problems.\n",
      "  ConvergenceWarning)\n",
      "C:\\Users\\HP\\Anaconda3\\lib\\site-packages\\sklearn\\linear_model\\coordinate_descent.py:491: ConvergenceWarning: Objective did not converge. You might want to increase the number of iterations. Fitting data with very small alpha may cause precision problems.\n",
      "  ConvergenceWarning)\n",
      "C:\\Users\\HP\\Anaconda3\\lib\\site-packages\\sklearn\\linear_model\\coordinate_descent.py:491: ConvergenceWarning: Objective did not converge. You might want to increase the number of iterations. Fitting data with very small alpha may cause precision problems.\n",
      "  ConvergenceWarning)\n",
      "C:\\Users\\HP\\Anaconda3\\lib\\site-packages\\sklearn\\linear_model\\coordinate_descent.py:491: ConvergenceWarning: Objective did not converge. You might want to increase the number of iterations. Fitting data with very small alpha may cause precision problems.\n",
      "  ConvergenceWarning)\n",
      "C:\\Users\\HP\\Anaconda3\\lib\\site-packages\\sklearn\\linear_model\\coordinate_descent.py:491: ConvergenceWarning: Objective did not converge. You might want to increase the number of iterations. Fitting data with very small alpha may cause precision problems.\n",
      "  ConvergenceWarning)\n",
      "C:\\Users\\HP\\Anaconda3\\lib\\site-packages\\sklearn\\linear_model\\coordinate_descent.py:491: ConvergenceWarning: Objective did not converge. You might want to increase the number of iterations. Fitting data with very small alpha may cause precision problems.\n",
      "  ConvergenceWarning)\n",
      "C:\\Users\\HP\\Anaconda3\\lib\\site-packages\\sklearn\\linear_model\\coordinate_descent.py:491: ConvergenceWarning: Objective did not converge. You might want to increase the number of iterations. Fitting data with very small alpha may cause precision problems.\n",
      "  ConvergenceWarning)\n",
      "C:\\Users\\HP\\Anaconda3\\lib\\site-packages\\sklearn\\linear_model\\coordinate_descent.py:491: ConvergenceWarning: Objective did not converge. You might want to increase the number of iterations. Fitting data with very small alpha may cause precision problems.\n",
      "  ConvergenceWarning)\n",
      "C:\\Users\\HP\\Anaconda3\\lib\\site-packages\\sklearn\\linear_model\\coordinate_descent.py:491: ConvergenceWarning: Objective did not converge. You might want to increase the number of iterations. Fitting data with very small alpha may cause precision problems.\n",
      "  ConvergenceWarning)\n",
      "C:\\Users\\HP\\Anaconda3\\lib\\site-packages\\sklearn\\linear_model\\coordinate_descent.py:491: ConvergenceWarning: Objective did not converge. You might want to increase the number of iterations. Fitting data with very small alpha may cause precision problems.\n",
      "  ConvergenceWarning)\n",
      "C:\\Users\\HP\\Anaconda3\\lib\\site-packages\\sklearn\\linear_model\\coordinate_descent.py:491: ConvergenceWarning: Objective did not converge. You might want to increase the number of iterations. Fitting data with very small alpha may cause precision problems.\n",
      "  ConvergenceWarning)\n",
      "C:\\Users\\HP\\Anaconda3\\lib\\site-packages\\sklearn\\linear_model\\coordinate_descent.py:491: ConvergenceWarning: Objective did not converge. You might want to increase the number of iterations. Fitting data with very small alpha may cause precision problems.\n",
      "  ConvergenceWarning)\n",
      "C:\\Users\\HP\\Anaconda3\\lib\\site-packages\\sklearn\\linear_model\\coordinate_descent.py:491: ConvergenceWarning: Objective did not converge. You might want to increase the number of iterations. Fitting data with very small alpha may cause precision problems.\n",
      "  ConvergenceWarning)\n",
      "C:\\Users\\HP\\Anaconda3\\lib\\site-packages\\sklearn\\linear_model\\coordinate_descent.py:491: ConvergenceWarning: Objective did not converge. You might want to increase the number of iterations. Fitting data with very small alpha may cause precision problems.\n",
      "  ConvergenceWarning)\n",
      "C:\\Users\\HP\\Anaconda3\\lib\\site-packages\\sklearn\\linear_model\\coordinate_descent.py:491: ConvergenceWarning: Objective did not converge. You might want to increase the number of iterations. Fitting data with very small alpha may cause precision problems.\n",
      "  ConvergenceWarning)\n",
      "C:\\Users\\HP\\Anaconda3\\lib\\site-packages\\sklearn\\linear_model\\coordinate_descent.py:491: ConvergenceWarning: Objective did not converge. You might want to increase the number of iterations. Fitting data with very small alpha may cause precision problems.\n",
      "  ConvergenceWarning)\n",
      "C:\\Users\\HP\\Anaconda3\\lib\\site-packages\\sklearn\\linear_model\\coordinate_descent.py:491: ConvergenceWarning: Objective did not converge. You might want to increase the number of iterations. Fitting data with very small alpha may cause precision problems.\n",
      "  ConvergenceWarning)\n",
      "C:\\Users\\HP\\Anaconda3\\lib\\site-packages\\sklearn\\linear_model\\coordinate_descent.py:491: ConvergenceWarning: Objective did not converge. You might want to increase the number of iterations. Fitting data with very small alpha may cause precision problems.\n",
      "  ConvergenceWarning)\n",
      "C:\\Users\\HP\\Anaconda3\\lib\\site-packages\\sklearn\\linear_model\\coordinate_descent.py:491: ConvergenceWarning: Objective did not converge. You might want to increase the number of iterations. Fitting data with very small alpha may cause precision problems.\n",
      "  ConvergenceWarning)\n",
      "C:\\Users\\HP\\Anaconda3\\lib\\site-packages\\sklearn\\linear_model\\coordinate_descent.py:491: ConvergenceWarning: Objective did not converge. You might want to increase the number of iterations. Fitting data with very small alpha may cause precision problems.\n",
      "  ConvergenceWarning)\n",
      "C:\\Users\\HP\\Anaconda3\\lib\\site-packages\\sklearn\\linear_model\\coordinate_descent.py:491: ConvergenceWarning: Objective did not converge. You might want to increase the number of iterations. Fitting data with very small alpha may cause precision problems.\n",
      "  ConvergenceWarning)\n",
      "C:\\Users\\HP\\Anaconda3\\lib\\site-packages\\sklearn\\linear_model\\coordinate_descent.py:491: ConvergenceWarning: Objective did not converge. You might want to increase the number of iterations. Fitting data with very small alpha may cause precision problems.\n",
      "  ConvergenceWarning)\n",
      "C:\\Users\\HP\\Anaconda3\\lib\\site-packages\\sklearn\\linear_model\\coordinate_descent.py:491: ConvergenceWarning: Objective did not converge. You might want to increase the number of iterations. Fitting data with very small alpha may cause precision problems.\n",
      "  ConvergenceWarning)\n",
      "C:\\Users\\HP\\Anaconda3\\lib\\site-packages\\sklearn\\linear_model\\coordinate_descent.py:491: ConvergenceWarning: Objective did not converge. You might want to increase the number of iterations. Fitting data with very small alpha may cause precision problems.\n",
      "  ConvergenceWarning)\n",
      "C:\\Users\\HP\\Anaconda3\\lib\\site-packages\\sklearn\\linear_model\\coordinate_descent.py:491: ConvergenceWarning: Objective did not converge. You might want to increase the number of iterations. Fitting data with very small alpha may cause precision problems.\n",
      "  ConvergenceWarning)\n",
      "C:\\Users\\HP\\Anaconda3\\lib\\site-packages\\sklearn\\linear_model\\coordinate_descent.py:491: ConvergenceWarning: Objective did not converge. You might want to increase the number of iterations. Fitting data with very small alpha may cause precision problems.\n",
      "  ConvergenceWarning)\n",
      "C:\\Users\\HP\\Anaconda3\\lib\\site-packages\\sklearn\\linear_model\\coordinate_descent.py:491: ConvergenceWarning: Objective did not converge. You might want to increase the number of iterations. Fitting data with very small alpha may cause precision problems.\n",
      "  ConvergenceWarning)\n",
      "C:\\Users\\HP\\Anaconda3\\lib\\site-packages\\sklearn\\model_selection\\_search.py:841: DeprecationWarning: The default of the `iid` parameter will change from True to False in version 0.22 and will be removed in 0.24. This will change numeric results when test-set sizes are unequal.\n",
      "  DeprecationWarning)\n",
      "C:\\Users\\HP\\Anaconda3\\lib\\site-packages\\sklearn\\linear_model\\coordinate_descent.py:491: ConvergenceWarning: Objective did not converge. You might want to increase the number of iterations. Fitting data with very small alpha may cause precision problems.\n",
      "  ConvergenceWarning)\n"
     ]
    },
    {
     "data": {
      "text/plain": [
       "GridSearchCV(cv=5, error_score='raise-deprecating',\n",
       "       estimator=Lasso(alpha=[0.1], copy_X=True, fit_intercept=True, max_iter=1000,\n",
       "   normalize=False, positive=False, precompute=False, random_state=None,\n",
       "   selection='cyclic', tol=0.0001, warm_start=False),\n",
       "       fit_params=None, iid='warn', n_jobs=None,\n",
       "       param_grid={'fit_intercept': [True, False], 'normalize': [True, False], 'copy_X': [True, False]},\n",
       "       pre_dispatch='2*n_jobs', refit=True, return_train_score='warn',\n",
       "       scoring=None, verbose=0)"
      ]
     },
     "execution_count": 74,
     "metadata": {},
     "output_type": "execute_result"
    }
   ],
   "source": [
    "lr_model = linear_model.Lasso(alpha=[0.1])\n",
    "parameters = {'fit_intercept':[True,False], 'normalize':[True,False], 'copy_X':[True, False]}\n",
    "\n",
    "reg_grid = GridSearchCV(lr_model, parameters, cv=5)\n",
    "reg_grid.fit(imp_columns_train, y_train)\n"
   ]
  },
  {
   "cell_type": "code",
   "execution_count": 75,
   "metadata": {},
   "outputs": [
    {
     "data": {
      "text/plain": [
       "{'copy_X': True, 'fit_intercept': True, 'normalize': False}"
      ]
     },
     "execution_count": 75,
     "metadata": {},
     "output_type": "execute_result"
    }
   ],
   "source": [
    "reg_grid.best_params_"
   ]
  },
  {
   "cell_type": "code",
   "execution_count": 76,
   "metadata": {},
   "outputs": [
    {
     "name": "stderr",
     "output_type": "stream",
     "text": [
      "C:\\Users\\HP\\Anaconda3\\lib\\site-packages\\sklearn\\linear_model\\coordinate_descent.py:491: ConvergenceWarning: Objective did not converge. You might want to increase the number of iterations. Fitting data with very small alpha may cause precision problems.\n",
      "  ConvergenceWarning)\n"
     ]
    },
    {
     "data": {
      "text/plain": [
       "8.776754985449056"
      ]
     },
     "execution_count": 76,
     "metadata": {},
     "output_type": "execute_result"
    }
   ],
   "source": [
    "reg_lasso_best = linear_model.Lasso(alpha=0.1, copy_X=True, fit_intercept=True, normalize=True)\n",
    "\n",
    "reg_lasso_best.fit(imp_columns_train, y_train)\n",
    "Y_cap2  = reg_lasso_best.predict(imp_columns_val)\n",
    "\n",
    "mean_absolute_percentage_error(y_val, Y_cap2)"
   ]
  },
  {
   "cell_type": "code",
   "execution_count": 77,
   "metadata": {},
   "outputs": [
    {
     "data": {
      "text/html": [
       "<div>\n",
       "<style>\n",
       "    .dataframe thead tr:only-child th {\n",
       "        text-align: right;\n",
       "    }\n",
       "\n",
       "    .dataframe thead th {\n",
       "        text-align: left;\n",
       "    }\n",
       "\n",
       "    .dataframe tbody tr th {\n",
       "        vertical-align: top;\n",
       "    }\n",
       "</style>\n",
       "<table border=\"1\" class=\"dataframe\">\n",
       "  <thead>\n",
       "    <tr style=\"text-align: right;\">\n",
       "      <th></th>\n",
       "      <th>Sales(In ThousandDollars)</th>\n",
       "    </tr>\n",
       "  </thead>\n",
       "  <tbody>\n",
       "    <tr>\n",
       "      <th>0</th>\n",
       "      <td>3493.586440</td>\n",
       "    </tr>\n",
       "    <tr>\n",
       "      <th>1</th>\n",
       "      <td>4379.352752</td>\n",
       "    </tr>\n",
       "    <tr>\n",
       "      <th>2</th>\n",
       "      <td>4789.667078</td>\n",
       "    </tr>\n",
       "    <tr>\n",
       "      <th>3</th>\n",
       "      <td>5068.063593</td>\n",
       "    </tr>\n",
       "    <tr>\n",
       "      <th>4</th>\n",
       "      <td>3850.549998</td>\n",
       "    </tr>\n",
       "    <tr>\n",
       "      <th>5</th>\n",
       "      <td>4195.425775</td>\n",
       "    </tr>\n",
       "    <tr>\n",
       "      <th>6</th>\n",
       "      <td>4068.051288</td>\n",
       "    </tr>\n",
       "    <tr>\n",
       "      <th>7</th>\n",
       "      <td>3858.946168</td>\n",
       "    </tr>\n",
       "    <tr>\n",
       "      <th>8</th>\n",
       "      <td>3953.811525</td>\n",
       "    </tr>\n",
       "    <tr>\n",
       "      <th>9</th>\n",
       "      <td>3843.442062</td>\n",
       "    </tr>\n",
       "    <tr>\n",
       "      <th>10</th>\n",
       "      <td>3971.139063</td>\n",
       "    </tr>\n",
       "    <tr>\n",
       "      <th>11</th>\n",
       "      <td>4390.566540</td>\n",
       "    </tr>\n",
       "  </tbody>\n",
       "</table>\n",
       "</div>"
      ],
      "text/plain": [
       "    Sales(In ThousandDollars)\n",
       "0                 3493.586440\n",
       "1                 4379.352752\n",
       "2                 4789.667078\n",
       "3                 5068.063593\n",
       "4                 3850.549998\n",
       "5                 4195.425775\n",
       "6                 4068.051288\n",
       "7                 3858.946168\n",
       "8                 3953.811525\n",
       "9                 3843.442062\n",
       "10                3971.139063\n",
       "11                4390.566540"
      ]
     },
     "execution_count": 77,
     "metadata": {},
     "output_type": "execute_result"
    }
   ],
   "source": [
    "test_preds_reg_best = pd.DataFrame({'Sales(In ThousandDollars)':reg_lasso_best.predict(imp_columns_test)})\n",
    "test_preds_reg_best"
   ]
  },
  {
   "cell_type": "code",
   "execution_count": null,
   "metadata": {
    "collapsed": true
   },
   "outputs": [],
   "source": []
  },
  {
   "cell_type": "code",
   "execution_count": null,
   "metadata": {
    "collapsed": true
   },
   "outputs": [],
   "source": [
    "######################################################"
   ]
  },
  {
   "cell_type": "code",
   "execution_count": 78,
   "metadata": {},
   "outputs": [
    {
     "data": {
      "text/plain": [
       "Index(['Month', 'Monthly Nominal GDP Index (inMillion$)',\n",
       "       'Monthly Real GDP Index (inMillion$)', 'CPI',\n",
       "       'Finance Rate on Personal Loans at Commercial Banks, 24 Month Loan',\n",
       "       'Temp low (°C)min', 'Dew Point avg (°C)min', 'Wind (km/h) highmean'],\n",
       "      dtype='object')"
      ]
     },
     "execution_count": 78,
     "metadata": {},
     "output_type": "execute_result"
    }
   ],
   "source": [
    "imp_columns_train.columns"
   ]
  },
  {
   "cell_type": "code",
   "execution_count": null,
   "metadata": {
    "collapsed": true
   },
   "outputs": [],
   "source": [
    "women_df[['temp_avg','dew_point_avg','pressure_avg','mon_nom_GDP','mon_real_GDP','CPI','unemp_rate','cc_intrest','per_loan_intrest_rate_24 ',\n",
    " 'wage_per_hour','Cotton_Monthly_Price','Change(in%)','Exports','Event']]\n",
    "\n",
    "'Monthly Nominal GDP Index (inMillion$)', \n",
    "'Monthly Real GDP Index (inMillion$)'"
   ]
  },
  {
   "cell_type": "code",
   "execution_count": 93,
   "metadata": {},
   "outputs": [],
   "source": [
    "other_imp = ['Monthly Nominal GDP Index (inMillion$)', 'Monthly Real GDP Index (inMillion$)', 'CPI',\n",
    "                      'Event', 'Change(in%)', 'Cotton Monthly Price - US cents per Pound(lbs)', 'Temp avg (°C)min',\n",
    "                      'Dew Point avg (°C)min', 'CommercialBankInterestRateonCreditCardPlans' ,\n",
    "                      'Finance Rate on Personal Loans at Commercial Banks, 24 Month Loan', 'Earnings or wages in dollars per hour',\n",
    "                      'Exports', 'Sea Level Press avgmean']"
   ]
  },
  {
   "cell_type": "code",
   "execution_count": null,
   "metadata": {
    "collapsed": true
   },
   "outputs": [],
   "source": [
    "new_df = pd.DataFrame()\n",
    "\n",
    "new_df"
   ]
  },
  {
   "cell_type": "code",
   "execution_count": null,
   "metadata": {
    "collapsed": true
   },
   "outputs": [],
   "source": []
  },
  {
   "cell_type": "code",
   "execution_count": null,
   "metadata": {
    "collapsed": true
   },
   "outputs": [],
   "source": []
  },
  {
   "cell_type": "code",
   "execution_count": null,
   "metadata": {
    "collapsed": true
   },
   "outputs": [],
   "source": []
  },
  {
   "cell_type": "code",
   "execution_count": null,
   "metadata": {
    "collapsed": true
   },
   "outputs": [],
   "source": []
  },
  {
   "cell_type": "code",
   "execution_count": null,
   "metadata": {
    "collapsed": true
   },
   "outputs": [],
   "source": []
  }
 ],
 "metadata": {
  "kernelspec": {
   "display_name": "Python 3",
   "language": "python",
   "name": "python3"
  },
  "language_info": {
   "codemirror_mode": {
    "name": "ipython",
    "version": 3
   },
   "file_extension": ".py",
   "mimetype": "text/x-python",
   "name": "python",
   "nbconvert_exporter": "python",
   "pygments_lexer": "ipython3",
   "version": "3.6.2"
  }
 },
 "nbformat": 4,
 "nbformat_minor": 2
}
