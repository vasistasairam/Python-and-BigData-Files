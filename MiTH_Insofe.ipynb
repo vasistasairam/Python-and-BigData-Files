{
 "cells": [
  {
   "cell_type": "markdown",
   "metadata": {},
   "source": [
    "<h1 id=\"tocheading\">Table of Contents</h1>\n",
    "<div id=\"toc\"></div>"
   ]
  },
  {
   "cell_type": "code",
   "execution_count": 3,
   "metadata": {},
   "outputs": [
    {
     "data": {
      "application/javascript": [
       "$.getScript('https://kmahelona.github.io/ipython_notebook_goodies/ipython_notebook_toc.js')"
      ],
      "text/plain": [
       "<IPython.core.display.Javascript object>"
      ]
     },
     "metadata": {},
     "output_type": "display_data"
    }
   ],
   "source": [
    "%%javascript\n",
    "$.getScript('https://kmahelona.github.io/ipython_notebook_goodies/ipython_notebook_toc.js')"
   ]
  },
  {
   "cell_type": "code",
   "execution_count": 2,
   "metadata": {
    "collapsed": true
   },
   "outputs": [],
   "source": [
    "### Author : Vasista\n",
    "### Date   : 17/11/2018"
   ]
  },
  {
   "cell_type": "markdown",
   "metadata": {},
   "source": [
    "# Import Packages"
   ]
  },
  {
   "cell_type": "code",
   "execution_count": 3,
   "metadata": {
    "collapsed": true
   },
   "outputs": [],
   "source": [
    "import pandas as pd\n",
    "import numpy as np\n",
    "import matplotlib.pyplot as plt\n",
    "import seaborn as sns\n",
    "\n",
    "from sklearn.linear_model import LogisticRegression\n",
    "from sklearn.model_selection import train_test_split,GridSearchCV, RandomizedSearchCV\n",
    "from sklearn.metrics import confusion_matrix, classification_report, accuracy_score\n",
    "from sklearn.decomposition import PCA\n",
    "from sklearn.svm import SVC\n",
    "from sklearn.ensemble import VotingClassifier"
   ]
  },
  {
   "cell_type": "markdown",
   "metadata": {},
   "source": [
    "# Load Dataset and Merging"
   ]
  },
  {
   "cell_type": "code",
   "execution_count": 5,
   "metadata": {
    "scrolled": true
   },
   "outputs": [
    {
     "name": "stdout",
     "output_type": "stream",
     "text": [
      "<class 'pandas.core.frame.DataFrame'>\n",
      "Int64Index: 44068 entries, 0 to 44067\n",
      "Data columns (total 35 columns):\n",
      "Id                       44068 non-null int64\n",
      "Amount_of_water          44068 non-null float64\n",
      "Gps_height               44068 non-null int64\n",
      "Waterpointname           44068 non-null object\n",
      "Waterpoint_type          44068 non-null object\n",
      "Basin_name               44068 non-null object\n",
      "Village                  44068 non-null object\n",
      "Regionname               44068 non-null object\n",
      "Region_code              44068 non-null int64\n",
      "Wardname                 44068 non-null object\n",
      "District_code            44068 non-null int64\n",
      "Population               44068 non-null int64\n",
      "Public_meeting           41543 non-null object\n",
      "Organization_funding     41468 non-null object\n",
      "Organization_surveyed    44068 non-null object\n",
      "Scheme_management        41138 non-null object\n",
      "SchemeName               23117 non-null object\n",
      "Permit                   41841 non-null object\n",
      "Company_installed        41465 non-null object\n",
      "Management               44068 non-null object\n",
      "Management_group         44068 non-null object\n",
      "Extraction_type          44068 non-null object\n",
      "Extraction_type_group    44068 non-null object\n",
      "Extraction_type_class    44068 non-null object\n",
      "Payment                  44068 non-null object\n",
      "Payment_type             44068 non-null object\n",
      "Water_quality            44068 non-null object\n",
      "Quality_group            44068 non-null object\n",
      "Quantity                 44068 non-null object\n",
      "Quantity_group           44068 non-null object\n",
      "Source                   44068 non-null object\n",
      "Source_type              44068 non-null object\n",
      "Source_class             44068 non-null object\n",
      "Waterpoint_type_group    44068 non-null object\n",
      "Status                   44068 non-null object\n",
      "dtypes: float64(1), int64(5), object(29)\n",
      "memory usage: 12.1+ MB\n"
     ]
    }
   ],
   "source": [
    "dataX = pd.read_csv('C:\\\\Users\\\\HP\\\\Desktop\\\\Mith\\\\train.csv')\n",
    "dataY = pd.read_csv('C:\\\\Users\\\\HP\\\\Desktop\\\\Mith\\\\trainlabels.csv')\n",
    "data = pd.merge(dataX, dataY, left_on='Id', right_on='id', how='left').drop('id', axis=1)\n",
    "data_copy = data.copy()             # Copy of original Data\n",
    "data.info()\n",
    "data.head()\n",
    "\n",
    "data.to_csv('C:\\\\Users\\\\HP\\\\Desktop\\\\Mith\\\\water_data.csv')"
   ]
  },
  {
   "cell_type": "code",
   "execution_count": 5,
   "metadata": {
    "scrolled": true
   },
   "outputs": [
    {
     "name": "stdout",
     "output_type": "stream",
     "text": [
      "<class 'pandas.core.frame.DataFrame'>\n",
      "Int64Index: 44068 entries, 0 to 44067\n",
      "Data columns (total 35 columns):\n",
      "Id                       44068 non-null int64\n",
      "Amount_of_water          44068 non-null float64\n",
      "Gps_height               44068 non-null int64\n",
      "Waterpointname           44068 non-null object\n",
      "Waterpoint_type          44068 non-null object\n",
      "Basin_name               44068 non-null object\n",
      "Village                  44068 non-null object\n",
      "Regionname               44068 non-null object\n",
      "Region_code              44068 non-null int64\n",
      "Wardname                 44068 non-null object\n",
      "District_code            44068 non-null int64\n",
      "Population               44068 non-null int64\n",
      "Public_meeting           41543 non-null object\n",
      "Organization_funding     41468 non-null object\n",
      "Organization_surveyed    44068 non-null object\n",
      "Scheme_management        41138 non-null object\n",
      "SchemeName               23117 non-null object\n",
      "Permit                   41841 non-null object\n",
      "Company_installed        41465 non-null object\n",
      "Management               44068 non-null object\n",
      "Management_group         44068 non-null object\n",
      "Extraction_type          44068 non-null object\n",
      "Extraction_type_group    44068 non-null object\n",
      "Extraction_type_class    44068 non-null object\n",
      "Payment                  44068 non-null object\n",
      "Payment_type             44068 non-null object\n",
      "Water_quality            44068 non-null object\n",
      "Quality_group            44068 non-null object\n",
      "Quantity                 44068 non-null object\n",
      "Quantity_group           44068 non-null object\n",
      "Source                   44068 non-null object\n",
      "Source_type              44068 non-null object\n",
      "Source_class             44068 non-null object\n",
      "Waterpoint_type_group    44068 non-null object\n",
      "Status                   44068 non-null object\n",
      "dtypes: float64(1), int64(5), object(29)\n",
      "memory usage: 12.1+ MB\n",
      "None\n"
     ]
    },
    {
     "data": {
      "text/plain": [
       "Id                           0\n",
       "Amount_of_water              0\n",
       "Gps_height                   0\n",
       "Waterpointname               0\n",
       "Waterpoint_type              0\n",
       "Basin_name                   0\n",
       "Village                      0\n",
       "Regionname                   0\n",
       "Region_code                  0\n",
       "Wardname                     0\n",
       "District_code                0\n",
       "Population                   0\n",
       "Public_meeting            2525\n",
       "Organization_funding      2600\n",
       "Organization_surveyed        0\n",
       "Scheme_management         2930\n",
       "SchemeName               20951\n",
       "Permit                    2227\n",
       "Company_installed         2603\n",
       "Management                   0\n",
       "Management_group             0\n",
       "Extraction_type              0\n",
       "Extraction_type_group        0\n",
       "Extraction_type_class        0\n",
       "Payment                      0\n",
       "Payment_type                 0\n",
       "Water_quality                0\n",
       "Quality_group                0\n",
       "Quantity                     0\n",
       "Quantity_group               0\n",
       "Source                       0\n",
       "Source_type                  0\n",
       "Source_class                 0\n",
       "Waterpoint_type_group        0\n",
       "Status                       0\n",
       "dtype: int64"
      ]
     },
     "execution_count": 5,
     "metadata": {},
     "output_type": "execute_result"
    }
   ],
   "source": [
    "print(data.info())\n",
    "data.isnull().sum()\n"
   ]
  },
  {
   "cell_type": "code",
   "execution_count": null,
   "metadata": {
    "collapsed": true
   },
   "outputs": [],
   "source": []
  },
  {
   "cell_type": "markdown",
   "metadata": {},
   "source": [
    "# Initial Data Understanding"
   ]
  },
  {
   "cell_type": "markdown",
   "metadata": {},
   "source": [
    "## Univariate Analysis"
   ]
  },
  {
   "cell_type": "markdown",
   "metadata": {},
   "source": [
    "### Understanding Target Variable"
   ]
  },
  {
   "cell_type": "code",
   "execution_count": 6,
   "metadata": {},
   "outputs": [
    {
     "data": {
      "text/plain": [
       "functional        25808\n",
       "non functional    18260\n",
       "Name: Status, dtype: int64"
      ]
     },
     "execution_count": 6,
     "metadata": {},
     "output_type": "execute_result"
    }
   ],
   "source": [
    "data['Status'].value_counts()"
   ]
  },
  {
   "cell_type": "code",
   "execution_count": 7,
   "metadata": {},
   "outputs": [
    {
     "data": {
      "image/png": "[encoded data removed]",
      "text/plain": [
       "<matplotlib.figure.Figure at 0x20294761cc0>"
      ]
     },
     "metadata": {},
     "output_type": "display_data"
    }
   ],
   "source": [
    "sns.countplot(x=data['Status'])\n",
    "plt.title(\"target Variable Dist\")\n",
    "plt.show()"
   ]
  },
  {
   "cell_type": "markdown",
   "metadata": {},
   "source": [
    "### Understanding Other Variables"
   ]
  },
  {
   "cell_type": "code",
   "execution_count": 8,
   "metadata": {
    "scrolled": true
   },
   "outputs": [
    {
     "name": "stdout",
     "output_type": "stream",
     "text": [
      "soft                  37551\n",
      "salty                  3700\n",
      "unknown                1445\n",
      "milky                   633\n",
      "coloured                358\n",
      "salty abandoned         211\n",
      "fluoride                154\n",
      "fluoride abandoned       16\n",
      "Name: Water_quality, dtype: int64\n",
      "\n",
      " enough          24610\n",
      "insufficient    10982\n",
      "dry              4943\n",
      "seasonal         2930\n",
      "unknown           603\n",
      "Name: Quantity, dtype: int64\n",
      "\n",
      " good        37551\n",
      "salty        3911\n",
      "unknown      1445\n",
      "milky         633\n",
      "colored       358\n",
      "fluoride      170\n",
      "Name: Quality_group, dtype: int64\n",
      "\n",
      " ['insufficient' 'enough' 'dry' 'seasonal' 'unknown']\n",
      "\n",
      " Iorg1388    5246\n",
      "Org_1409    4636\n",
      "Org_1233    1411\n",
      "Org_1460    1049\n",
      "Org_970      687\n",
      "0            622\n",
      "Org_1653     582\n",
      "Org_566      564\n",
      "Org_972      452\n",
      "Org_1270     443\n",
      "Org_859      420\n",
      "Iorg1256     372\n",
      "Org_1261     367\n",
      "Org_761      360\n",
      "Org_316      335\n",
      "Org_1873     334\n",
      "Org_775      317\n",
      "Iorg1202     314\n",
      "Iorg1310     310\n",
      "Iorg1510     297\n",
      "Org_1309     276\n",
      "Org_135      268\n",
      "Org_436      256\n",
      "Org_938      255\n",
      "Iorg158      251\n",
      "Org_1301     250\n",
      "Iorg131      247\n",
      "Iorg1793     239\n",
      "Org_1054     225\n",
      "Org_1711     211\n",
      "            ... \n",
      "Iorg484        1\n",
      "Iorg1098       1\n",
      "Org_560        1\n",
      "Org_595        1\n",
      "Org_176        1\n",
      "Iorg1800       1\n",
      "Org_1632       1\n",
      "Org_244        1\n",
      "Iorg1178       1\n",
      "Org_1887       1\n",
      "Iorg1115       1\n",
      "Iorg18         1\n",
      "Org_1484       1\n",
      "Iorg534        1\n",
      "Iorg1977       1\n",
      "Iorg2077       1\n",
      "Iorg309        1\n",
      "Org_1686       1\n",
      "Org_278        1\n",
      "Iorg1748       1\n",
      "Org_778        1\n",
      "Iorg2002       1\n",
      "Iorg2113       1\n",
      "Iorg1454       1\n",
      "Iorg526        1\n",
      "Iorg1978       1\n",
      "Iorg197        1\n",
      "Org_868        1\n",
      "Org_1609       1\n",
      "Iorg517        1\n",
      "Name: Organization_funding, Length: 2380, dtype: int64\n",
      "\n",
      " communal standpipe    25401\n",
      "hand pump             13197\n",
      "other                  4809\n",
      "improved spring         555\n",
      "cattle trough            99\n",
      "dam                       7\n",
      "Name: Waterpoint_type_group, dtype: int64\n",
      "\n",
      " communal standpipe             21085\n",
      "hand pump                      13197\n",
      "other                           4809\n",
      "communal standpipe multiple     4316\n",
      "improved spring                  555\n",
      "cattle trough                     99\n",
      "dam                                7\n",
      "Name: Waterpoint_type, dtype: int64\n",
      "\n",
      " Iorg1388    12659\n",
      "Iorg1510     1275\n",
      "Iorg504       855\n",
      "Iorg1256      832\n",
      "Iorg1310      786\n",
      "Iorg1793      676\n",
      "Iorg158       648\n",
      "0             622\n",
      "Iorg708       531\n",
      "Iorg1202      503\n",
      "Iorg12        492\n",
      "Iorg131       452\n",
      "Iorg1359      395\n",
      "Iorg1259      391\n",
      "Iorg1581      385\n",
      "Iorg937       304\n",
      "Iorg1358      290\n",
      "Iorg1504      287\n",
      "Iorg694       285\n",
      "Iorg970       274\n",
      "Iorg1847      259\n",
      "Iorg1071      258\n",
      "Iorg978       242\n",
      "Iorg1009      223\n",
      "Iorg1366      221\n",
      "Iorg774       217\n",
      "Iorg1383      206\n",
      "Iorg971       194\n",
      "Iorg567       188\n",
      "Iorg1299      179\n",
      "            ...  \n",
      "Iorg2064        1\n",
      "Iorg299         1\n",
      "Iorg97          1\n",
      "Iorg635         1\n",
      "Iorg701         1\n",
      "Iorg353         1\n",
      "Iorg479         1\n",
      "Iorg565         1\n",
      "Iorg2017        1\n",
      "Iorg1111        1\n",
      "Iorg1149        1\n",
      "Iorg654         1\n",
      "Iorg1005        1\n",
      "Iorg1984        1\n",
      "Iorg614         1\n",
      "Iorg1937        1\n",
      "Iorg603         1\n",
      "Iorg1261        1\n",
      "Iorg291         1\n",
      "Iorg51          1\n",
      "Iorg322         1\n",
      "Iorg1740        1\n",
      "Iorg2087        1\n",
      "Iorg994         1\n",
      "Iorg1731        1\n",
      "Iorg653         1\n",
      "Iorg1703        1\n",
      "Iorg430         1\n",
      "Iorg848         1\n",
      "Iorg1662        1\n",
      "Name: Company_installed, Length: 1873, dtype: int64\n",
      "\n",
      " waterpoint5530     2831\n",
      "waterpoint8315     1272\n",
      "waterpoint9815      622\n",
      "waterpoint36768     384\n",
      "waterpoint14626     226\n",
      "waterpoint10958     195\n",
      "waterpoint6217      190\n",
      "waterpoint8616      189\n",
      "waterpoint7302      157\n",
      "waterpoint7693      153\n",
      "waterpoint7367      119\n",
      "waterpoint7663      110\n",
      "waterpoint37302      79\n",
      "waterpoint36159      77\n",
      "waterpoint34229      73\n",
      "waterpoint15982      71\n",
      "waterpoint13000      70\n",
      "waterpoint36228      69\n",
      "waterpoint35505      64\n",
      "waterpoint1137       61\n",
      "waterpoint15847      61\n",
      "waterpoint9339       58\n",
      "waterpoint9299       57\n",
      "waterpoint1136       56\n",
      "waterpoint6198       53\n",
      "waterpoint8930       51\n",
      "waterpoint11316      50\n",
      "waterpoint3424       47\n",
      "waterpoint36887      47\n",
      "waterpoint8646       46\n",
      "                   ... \n",
      "waterpoint7625        1\n",
      "waterpoint6297        1\n",
      "waterpoint231         1\n",
      "waterpoint8507        1\n",
      "waterpoint29917       1\n",
      "waterpoint29981       1\n",
      "waterpoint708         1\n",
      "waterpoint25721       1\n",
      "waterpoint7452        1\n",
      "waterpoint32357       1\n",
      "waterpoint6072        1\n",
      "waterpoint34141       1\n",
      "waterpoint17928       1\n",
      "waterpoint3287        1\n",
      "waterpoint16520       1\n",
      "waterpoint24464       1\n",
      "waterpoint3788        1\n",
      "waterpoint14090       1\n",
      "waterpoint23064       1\n",
      "waterpoint2012        1\n",
      "waterpoint34116       1\n",
      "waterpoint9217        1\n",
      "waterpoint27426       1\n",
      "waterpoint36020       1\n",
      "waterpoint28536       1\n",
      "waterpoint36215       1\n",
      "waterpoint381         1\n",
      "waterpoint4451        1\n",
      "waterpoint12842       1\n",
      "waterpoint16349       1\n",
      "Name: Waterpointname, Length: 28693, dtype: int64\n"
     ]
    }
   ],
   "source": [
    "print(data['Water_quality'].value_counts())\n",
    "print(\"\\n\", data['Quantity'].value_counts())\n",
    "print(\"\\n\", data['Quality_group'].value_counts())\n",
    "print(\"\\n\", data['Quantity_group'].unique())\n",
    "print(\"\\n\", data['Organization_funding'].value_counts())\n",
    "print(\"\\n\", data['Waterpoint_type_group'].value_counts())\n",
    "print(\"\\n\", data['Waterpoint_type'].value_counts())\n",
    "print(\"\\n\", data['Company_installed'].value_counts())\n",
    "print(\"\\n\", data['Waterpointname'].value_counts())"
   ]
  },
  {
   "cell_type": "code",
   "execution_count": 9,
   "metadata": {
    "scrolled": true
   },
   "outputs": [
    {
     "name": "stdout",
     "output_type": "stream",
     "text": [
      "\n",
      " VWC                 27563\n",
      "WUG                  3591\n",
      "Water authority      2160\n",
      "WUA                  2143\n",
      "Water Board          2113\n",
      "Parastatal           1207\n",
      "Private operator      839\n",
      "Company               797\n",
      "Other                 598\n",
      "SWC                    76\n",
      "Trust                  50\n",
      "None                    1\n",
      "Name: Scheme_management, dtype: int64\n",
      "\n",
      " village18166    382\n",
      "village8556     373\n",
      "village17891    361\n",
      "village1        289\n",
      "village14666    257\n",
      "village384      205\n",
      "village870      188\n",
      "village17748    156\n",
      "village4318     131\n",
      "village3111     128\n",
      "village2011     120\n",
      "village8727     111\n",
      "village3699     109\n",
      "village1000      99\n",
      "village2379      97\n",
      "village14908     93\n",
      "village12326     84\n",
      "village14341     81\n",
      "village2762      79\n",
      "village2757      78\n",
      "village5196      75\n",
      "village2645      74\n",
      "village3020      73\n",
      "village18695     73\n",
      "village10127     71\n",
      "village17784     70\n",
      "village11036     70\n",
      "village3805      69\n",
      "village15021     67\n",
      "village11107     66\n",
      "               ... \n",
      "village13883      1\n",
      "village609        1\n",
      "village7050       1\n",
      "village5606       1\n",
      "village14703      1\n",
      "village14170      1\n",
      "village17751      1\n",
      "village16064      1\n",
      "village1780       1\n",
      "village22         1\n",
      "village789        1\n",
      "village13129      1\n",
      "village3031       1\n",
      "village2887       1\n",
      "village18305      1\n",
      "village13741      1\n",
      "village2916       1\n",
      "village1333       1\n",
      "village207        1\n",
      "village742        1\n",
      "village9290       1\n",
      "village15041      1\n",
      "village13766      1\n",
      "village5968       1\n",
      "village295        1\n",
      "village6257       1\n",
      "village18893      1\n",
      "village15039      1\n",
      "village14128      1\n",
      "village912        1\n",
      "Name: Village, Length: 16471, dtype: int64\n",
      "\n",
      " basin5    7397\n",
      "basin6    6728\n",
      "basin7    6080\n",
      "basin1    5770\n",
      "basin9    4578\n",
      "basin4    4526\n",
      "basin2    3890\n",
      "basin8    3308\n",
      "basin3    1791\n",
      "Name: Basin_name, dtype: int64\n",
      "\n",
      " region12    4190\n",
      "region6     3435\n",
      "region19    3357\n",
      "region15    3218\n",
      "region2     2982\n",
      "region1     2547\n",
      "region13    2390\n",
      "region21    2323\n",
      "region3     2092\n",
      "region5     1984\n",
      "region9     1977\n",
      "region14    1766\n",
      "region11    1572\n",
      "region7     1570\n",
      "region18    1548\n",
      "region8     1535\n",
      "region4     1357\n",
      "region20    1257\n",
      "region17    1172\n",
      "region16    1150\n",
      "region10     646\n",
      "Name: Regionname, dtype: int64\n",
      "\n",
      " ward1290    240\n",
      "ward1346    209\n",
      "ward823     184\n",
      "ward550     167\n",
      "ward2063    166\n",
      "ward1131    160\n",
      "ward1702    160\n",
      "ward234     151\n",
      "ward1137    144\n",
      "ward1902    140\n",
      "ward350     139\n",
      "ward560     130\n",
      "ward970     126\n",
      "ward95      124\n",
      "ward384     124\n",
      "ward1886    117\n",
      "ward993     115\n",
      "ward1964    114\n",
      "ward2007    114\n",
      "ward1275    109\n",
      "ward1289    107\n",
      "ward1585    105\n",
      "ward982     102\n",
      "ward279     102\n",
      "ward1897    100\n",
      "ward1962     99\n",
      "ward1828     98\n",
      "ward1389     98\n",
      "ward699      97\n",
      "ward418      96\n",
      "           ... \n",
      "ward250       1\n",
      "ward73        1\n",
      "ward1999      1\n",
      "ward409       1\n",
      "ward451       1\n",
      "ward1410      1\n",
      "ward1482      1\n",
      "ward2059      1\n",
      "ward902       1\n",
      "ward66        1\n",
      "ward1324      1\n",
      "ward1508      1\n",
      "ward881       1\n",
      "ward1957      1\n",
      "ward586       1\n",
      "ward1657      1\n",
      "ward274       1\n",
      "ward1066      1\n",
      "ward959       1\n",
      "ward913       1\n",
      "ward158       1\n",
      "ward761       1\n",
      "ward1148      1\n",
      "ward1093      1\n",
      "ward1769      1\n",
      "ward779       1\n",
      "ward1862      1\n",
      "ward1615      1\n",
      "ward1160      1\n",
      "ward1636      1\n",
      "Name: Wardname, Length: 2087, dtype: int64\n",
      "\n",
      " gravity                      19302\n",
      "nira/tanira                   5963\n",
      "other                         4954\n",
      "submersible                   3646\n",
      "swn 80                        2823\n",
      "mono                          2165\n",
      "india mark ii                 1867\n",
      "afridev                       1383\n",
      "ksb                           1096\n",
      "other - rope pump              352\n",
      "other - swn 81                 175\n",
      "windmill                        87\n",
      "india mark iii                  77\n",
      "other - play pump               66\n",
      "cemo                            61\n",
      "walimi                          26\n",
      "climax                          24\n",
      "other - mkulima/shinyanga        1\n",
      "Name: Extraction_type, dtype: int64\n",
      "\n",
      " gravity            19302\n",
      "nira/tanira         5963\n",
      "other               4954\n",
      "submersible         4742\n",
      "swn 80              2823\n",
      "mono                2165\n",
      "india mark ii       1867\n",
      "afridev             1383\n",
      "rope pump            352\n",
      "other handpump       268\n",
      "wind-powered          87\n",
      "other motorpump       85\n",
      "india mark iii        77\n",
      "Name: Extraction_type_group, dtype: int64\n",
      "\n",
      " gravity         19302\n",
      "handpump        12381\n",
      "other            4954\n",
      "submersible      4742\n",
      "motorpump        2250\n",
      "rope pump         352\n",
      "wind-powered       87\n",
      "Name: Extraction_type_class, dtype: int64\n"
     ]
    }
   ],
   "source": [
    "print(\"\\n\", data[\"Scheme_management\"].value_counts())\n",
    "print(\"\\n\", data[\"Village\"].value_counts())\n",
    "print(\"\\n\", data[\"Basin_name\"].value_counts())\n",
    "print(\"\\n\", data[\"Regionname\"].value_counts())\n",
    "print(\"\\n\", data[\"Wardname\"].value_counts())\n",
    "print(\"\\n\", data[\"Extraction_type\"].value_counts())\n",
    "print(\"\\n\", data[\"Extraction_type_group\"].value_counts())\n",
    "print(\"\\n\", data[\"Extraction_type_class\"].value_counts())\n",
    "    \n"
   ]
  },
  {
   "cell_type": "code",
   "execution_count": 10,
   "metadata": {
    "scrolled": true
   },
   "outputs": [
    {
     "name": "stdout",
     "output_type": "stream",
     "text": [
      "\n",
      " 11    4193\n",
      "17    3456\n",
      "12    3357\n",
      "3     3218\n",
      "5     3010\n",
      "18    2397\n",
      "2     2290\n",
      "19    2283\n",
      "10    1984\n",
      "4     1949\n",
      "16    1766\n",
      "1     1572\n",
      "13    1570\n",
      "14    1551\n",
      "20    1548\n",
      "15    1357\n",
      "6     1288\n",
      "21    1172\n",
      "80     916\n",
      "60     803\n",
      "90     647\n",
      "7      646\n",
      "99     322\n",
      "9      288\n",
      "24     257\n",
      "8      227\n",
      "40       1\n",
      "Name: Region_code, dtype: int64\n"
     ]
    }
   ],
   "source": [
    "print(\"\\n\", data[\"Region_code\"].value_counts())"
   ]
  },
  {
   "cell_type": "markdown",
   "metadata": {},
   "source": [
    "### Numeric Variables"
   ]
  },
  {
   "cell_type": "code",
   "execution_count": 9,
   "metadata": {
    "scrolled": true
   },
   "outputs": [
    {
     "name": "stdout",
     "output_type": "stream",
     "text": [
      "count     44068.000000\n",
      "mean       5098.604430\n",
      "std        2869.667544\n",
      "min        5000.000000\n",
      "25%        5000.000000\n",
      "50%        5000.000000\n",
      "75%        5000.000000\n",
      "max      350000.000000\n",
      "Name: Amount_of_water, dtype: float64\n",
      "\n",
      " count    44068.0\n",
      "mean      5000.0\n",
      "std          0.0\n",
      "min       5000.0\n",
      "25%       5000.0\n",
      "50%       5000.0\n",
      "75%       5000.0\n",
      "max       5000.0\n",
      "Name: Gps_height, dtype: float64\n",
      "\n",
      " count    44068.000000\n",
      "mean      5003.626849\n",
      "std        149.661668\n",
      "min       5000.000000\n",
      "25%       5000.000000\n",
      "50%       5000.000000\n",
      "75%       5000.000000\n",
      "max      30500.000000\n",
      "Name: Population, dtype: float64\n",
      "\n",
      " count    44068.000000\n",
      "mean        15.224539\n",
      "std         17.566722\n",
      "min          1.000000\n",
      "25%          5.000000\n",
      "50%         12.000000\n",
      "75%         17.000000\n",
      "max         99.000000\n",
      "Name: Region_code, dtype: float64\n",
      "\n",
      " count    44068.000000\n",
      "mean         5.664382\n",
      "std          9.670612\n",
      "min          0.000000\n",
      "25%          2.000000\n",
      "50%          3.000000\n",
      "75%          5.000000\n",
      "max         80.000000\n",
      "Name: District_code, dtype: float64\n"
     ]
    },
    {
     "data": {
      "text/plain": [
       "5000"
      ]
     },
     "execution_count": 9,
     "metadata": {},
     "output_type": "execute_result"
    }
   ],
   "source": [
    "print(data['Amount_of_water'].describe())\n",
    "print(\"\\n\", data['Gps_height'].describe())\n",
    "print(\"\\n\", data['Population'].describe())\n",
    "print(\"\\n\", data['Region_code'].describe())\n",
    "print(\"\\n\", data['District_code'].describe())\n",
    "list11 = data.Population.sort_values(ascending=True).tolist()\n",
    "list11[43672]"
   ]
  },
  {
   "cell_type": "markdown",
   "metadata": {},
   "source": [
    "# Data Preprocessing"
   ]
  },
  {
   "cell_type": "code",
   "execution_count": 10,
   "metadata": {
    "collapsed": true
   },
   "outputs": [],
   "source": [
    "## Imputing OutLiers\n",
    "\n",
    "data['Amount_of_water'] = data.Amount_of_water.where(data.Amount_of_water > 5000, 5000)\n",
    "data['Gps_height'] = data.Gps_height.where(data.Gps_height > 5000, 5000)\n",
    "data['Population'] = data.Population.where(data.Population > 5000, 5000)"
   ]
  },
  {
   "cell_type": "markdown",
   "metadata": {},
   "source": [
    "## Droping Colunns Having More Than 20% Missing Values and Id Column."
   ]
  },
  {
   "cell_type": "markdown",
   "metadata": {},
   "source": [
    "### Percentage Of Missing Values For Each Column"
   ]
  },
  {
   "cell_type": "code",
   "execution_count": 11,
   "metadata": {
    "collapsed": true
   },
   "outputs": [],
   "source": [
    "columns = data.columns\n",
    "percent_missing = data.isnull().sum() * 100 / len(data)\n",
    "missing_value_data = pd.DataFrame({'percent_missing': percent_missing})"
   ]
  },
  {
   "cell_type": "markdown",
   "metadata": {},
   "source": [
    "### Dropping Columns "
   ]
  },
  {
   "cell_type": "code",
   "execution_count": 12,
   "metadata": {
    "collapsed": true
   },
   "outputs": [],
   "source": [
    "data = data.drop(labels=['Id'], axis=1)       # Dropped Id column"
   ]
  },
  {
   "cell_type": "markdown",
   "metadata": {},
   "source": [
    "### Removing Columns Having More Categories and Repeated Columns."
   ]
  },
  {
   "cell_type": "markdown",
   "metadata": {},
   "source": [
    "### Note:  Removing These Features Removed After Checking In Model Importance Only."
   ]
  },
  {
   "cell_type": "code",
   "execution_count": 13,
   "metadata": {
    "collapsed": true
   },
   "outputs": [],
   "source": [
    "data_new = data.drop(labels=['Organization_funding', \"Company_installed\", \"Scheme_management\", 'SchemeName',\n",
    "                            'Waterpointname','Waterpoint_type_group', 'Village',\n",
    "                            \"Wardname\", \"Extraction_type\", \"Extraction_type_group\", 'District_code'], axis=1)\n"
   ]
  },
  {
   "cell_type": "markdown",
   "metadata": {},
   "source": [
    "## Filling Missing Values"
   ]
  },
  {
   "cell_type": "code",
   "execution_count": 14,
   "metadata": {
    "collapsed": true,
    "scrolled": true
   },
   "outputs": [],
   "source": [
    "from sklearn.impute import SimpleImputer\n",
    "imputer = SimpleImputer(strategy=\"most_frequent\")\n",
    "data1 = imputer.fit_transform(data_new)\n",
    "data1 = pd.DataFrame(data1)\n"
   ]
  },
  {
   "cell_type": "code",
   "execution_count": 15,
   "metadata": {},
   "outputs": [
    {
     "data": {
      "text/html": [
       "<div>\n",
       "<style>\n",
       "    .dataframe thead tr:only-child th {\n",
       "        text-align: right;\n",
       "    }\n",
       "\n",
       "    .dataframe thead th {\n",
       "        text-align: left;\n",
       "    }\n",
       "\n",
       "    .dataframe tbody tr th {\n",
       "        vertical-align: top;\n",
       "    }\n",
       "</style>\n",
       "<table border=\"1\" class=\"dataframe\">\n",
       "  <thead>\n",
       "    <tr style=\"text-align: right;\">\n",
       "      <th></th>\n",
       "      <th>0</th>\n",
       "      <th>1</th>\n",
       "      <th>2</th>\n",
       "      <th>3</th>\n",
       "      <th>4</th>\n",
       "      <th>5</th>\n",
       "      <th>6</th>\n",
       "      <th>7</th>\n",
       "      <th>8</th>\n",
       "      <th>9</th>\n",
       "      <th>...</th>\n",
       "      <th>13</th>\n",
       "      <th>14</th>\n",
       "      <th>15</th>\n",
       "      <th>16</th>\n",
       "      <th>17</th>\n",
       "      <th>18</th>\n",
       "      <th>19</th>\n",
       "      <th>20</th>\n",
       "      <th>21</th>\n",
       "      <th>22</th>\n",
       "    </tr>\n",
       "  </thead>\n",
       "  <tbody>\n",
       "    <tr>\n",
       "      <th>0</th>\n",
       "      <td>5000</td>\n",
       "      <td>5000</td>\n",
       "      <td>hand pump</td>\n",
       "      <td>basin3</td>\n",
       "      <td>region4</td>\n",
       "      <td>15</td>\n",
       "      <td>5000</td>\n",
       "      <td>False</td>\n",
       "      <td>DataConsultantLtd</td>\n",
       "      <td>False</td>\n",
       "      <td>...</td>\n",
       "      <td>never pay</td>\n",
       "      <td>never pay</td>\n",
       "      <td>salty</td>\n",
       "      <td>salty</td>\n",
       "      <td>insufficient</td>\n",
       "      <td>insufficient</td>\n",
       "      <td>shallow well</td>\n",
       "      <td>shallow well</td>\n",
       "      <td>groundwater</td>\n",
       "      <td>non functional</td>\n",
       "    </tr>\n",
       "    <tr>\n",
       "      <th>1</th>\n",
       "      <td>5000</td>\n",
       "      <td>5000</td>\n",
       "      <td>communal standpipe multiple</td>\n",
       "      <td>basin7</td>\n",
       "      <td>region5</td>\n",
       "      <td>10</td>\n",
       "      <td>5000</td>\n",
       "      <td>False</td>\n",
       "      <td>DataConsultantLtd</td>\n",
       "      <td>True</td>\n",
       "      <td>...</td>\n",
       "      <td>pay monthly</td>\n",
       "      <td>monthly</td>\n",
       "      <td>soft</td>\n",
       "      <td>good</td>\n",
       "      <td>insufficient</td>\n",
       "      <td>insufficient</td>\n",
       "      <td>river</td>\n",
       "      <td>river/lake</td>\n",
       "      <td>surface</td>\n",
       "      <td>non functional</td>\n",
       "    </tr>\n",
       "    <tr>\n",
       "      <th>2</th>\n",
       "      <td>5000</td>\n",
       "      <td>5000</td>\n",
       "      <td>communal standpipe</td>\n",
       "      <td>basin1</td>\n",
       "      <td>region6</td>\n",
       "      <td>17</td>\n",
       "      <td>5000</td>\n",
       "      <td>True</td>\n",
       "      <td>DataConsultantLtd</td>\n",
       "      <td>True</td>\n",
       "      <td>...</td>\n",
       "      <td>never pay</td>\n",
       "      <td>never pay</td>\n",
       "      <td>soft</td>\n",
       "      <td>good</td>\n",
       "      <td>insufficient</td>\n",
       "      <td>insufficient</td>\n",
       "      <td>machine dbh</td>\n",
       "      <td>borehole</td>\n",
       "      <td>groundwater</td>\n",
       "      <td>non functional</td>\n",
       "    </tr>\n",
       "    <tr>\n",
       "      <th>3</th>\n",
       "      <td>5000</td>\n",
       "      <td>5000</td>\n",
       "      <td>other</td>\n",
       "      <td>basin5</td>\n",
       "      <td>region13</td>\n",
       "      <td>18</td>\n",
       "      <td>5000</td>\n",
       "      <td>True</td>\n",
       "      <td>DataConsultantLtd</td>\n",
       "      <td>True</td>\n",
       "      <td>...</td>\n",
       "      <td>never pay</td>\n",
       "      <td>never pay</td>\n",
       "      <td>soft</td>\n",
       "      <td>good</td>\n",
       "      <td>insufficient</td>\n",
       "      <td>insufficient</td>\n",
       "      <td>shallow well</td>\n",
       "      <td>shallow well</td>\n",
       "      <td>groundwater</td>\n",
       "      <td>non functional</td>\n",
       "    </tr>\n",
       "    <tr>\n",
       "      <th>4</th>\n",
       "      <td>5000</td>\n",
       "      <td>5000</td>\n",
       "      <td>hand pump</td>\n",
       "      <td>basin4</td>\n",
       "      <td>region6</td>\n",
       "      <td>14</td>\n",
       "      <td>5000</td>\n",
       "      <td>True</td>\n",
       "      <td>DataConsultantLtd</td>\n",
       "      <td>True</td>\n",
       "      <td>...</td>\n",
       "      <td>never pay</td>\n",
       "      <td>never pay</td>\n",
       "      <td>soft</td>\n",
       "      <td>good</td>\n",
       "      <td>enough</td>\n",
       "      <td>enough</td>\n",
       "      <td>machine dbh</td>\n",
       "      <td>borehole</td>\n",
       "      <td>groundwater</td>\n",
       "      <td>functional</td>\n",
       "    </tr>\n",
       "  </tbody>\n",
       "</table>\n",
       "<p>5 rows × 23 columns</p>\n",
       "</div>"
      ],
      "text/plain": [
       "     0     1                            2       3         4   5     6      7   \\\n",
       "0  5000  5000                    hand pump  basin3   region4  15  5000  False   \n",
       "1  5000  5000  communal standpipe multiple  basin7   region5  10  5000  False   \n",
       "2  5000  5000           communal standpipe  basin1   region6  17  5000   True   \n",
       "3  5000  5000                        other  basin5  region13  18  5000   True   \n",
       "4  5000  5000                    hand pump  basin4   region6  14  5000   True   \n",
       "\n",
       "                  8      9        ...                 13         14     15  \\\n",
       "0  DataConsultantLtd  False       ...          never pay  never pay  salty   \n",
       "1  DataConsultantLtd   True       ...        pay monthly    monthly   soft   \n",
       "2  DataConsultantLtd   True       ...          never pay  never pay   soft   \n",
       "3  DataConsultantLtd   True       ...          never pay  never pay   soft   \n",
       "4  DataConsultantLtd   True       ...          never pay  never pay   soft   \n",
       "\n",
       "      16            17            18            19            20           21  \\\n",
       "0  salty  insufficient  insufficient  shallow well  shallow well  groundwater   \n",
       "1   good  insufficient  insufficient         river    river/lake      surface   \n",
       "2   good  insufficient  insufficient   machine dbh      borehole  groundwater   \n",
       "3   good  insufficient  insufficient  shallow well  shallow well  groundwater   \n",
       "4   good        enough        enough   machine dbh      borehole  groundwater   \n",
       "\n",
       "               22  \n",
       "0  non functional  \n",
       "1  non functional  \n",
       "2  non functional  \n",
       "3  non functional  \n",
       "4      functional  \n",
       "\n",
       "[5 rows x 23 columns]"
      ]
     },
     "execution_count": 15,
     "metadata": {},
     "output_type": "execute_result"
    }
   ],
   "source": [
    "data1.head()"
   ]
  },
  {
   "cell_type": "markdown",
   "metadata": {},
   "source": [
    "## Label Encoding"
   ]
  },
  {
   "cell_type": "code",
   "execution_count": 16,
   "metadata": {
    "collapsed": true,
    "scrolled": true
   },
   "outputs": [],
   "source": [
    "from sklearn import preprocessing\n",
    "\n",
    "# Encoding Data\n",
    "encoder = preprocessing.LabelEncoder()\n",
    "data2 = data1.apply(encoder.fit_transform)  \n"
   ]
  },
  {
   "cell_type": "code",
   "execution_count": 17,
   "metadata": {},
   "outputs": [
    {
     "data": {
      "text/html": [
       "<div>\n",
       "<style>\n",
       "    .dataframe thead tr:only-child th {\n",
       "        text-align: right;\n",
       "    }\n",
       "\n",
       "    .dataframe thead th {\n",
       "        text-align: left;\n",
       "    }\n",
       "\n",
       "    .dataframe tbody tr th {\n",
       "        vertical-align: top;\n",
       "    }\n",
       "</style>\n",
       "<table border=\"1\" class=\"dataframe\">\n",
       "  <thead>\n",
       "    <tr style=\"text-align: right;\">\n",
       "      <th></th>\n",
       "      <th>0</th>\n",
       "      <th>1</th>\n",
       "      <th>2</th>\n",
       "      <th>3</th>\n",
       "      <th>4</th>\n",
       "      <th>5</th>\n",
       "      <th>6</th>\n",
       "      <th>7</th>\n",
       "      <th>8</th>\n",
       "      <th>9</th>\n",
       "      <th>...</th>\n",
       "      <th>13</th>\n",
       "      <th>14</th>\n",
       "      <th>15</th>\n",
       "      <th>16</th>\n",
       "      <th>17</th>\n",
       "      <th>18</th>\n",
       "      <th>19</th>\n",
       "      <th>20</th>\n",
       "      <th>21</th>\n",
       "      <th>22</th>\n",
       "    </tr>\n",
       "  </thead>\n",
       "  <tbody>\n",
       "    <tr>\n",
       "      <th>0</th>\n",
       "      <td>0</td>\n",
       "      <td>0</td>\n",
       "      <td>4</td>\n",
       "      <td>2</td>\n",
       "      <td>15</td>\n",
       "      <td>14</td>\n",
       "      <td>0</td>\n",
       "      <td>0</td>\n",
       "      <td>0</td>\n",
       "      <td>0</td>\n",
       "      <td>...</td>\n",
       "      <td>0</td>\n",
       "      <td>2</td>\n",
       "      <td>4</td>\n",
       "      <td>4</td>\n",
       "      <td>2</td>\n",
       "      <td>2</td>\n",
       "      <td>7</td>\n",
       "      <td>5</td>\n",
       "      <td>0</td>\n",
       "      <td>1</td>\n",
       "    </tr>\n",
       "    <tr>\n",
       "      <th>1</th>\n",
       "      <td>0</td>\n",
       "      <td>0</td>\n",
       "      <td>2</td>\n",
       "      <td>6</td>\n",
       "      <td>16</td>\n",
       "      <td>9</td>\n",
       "      <td>0</td>\n",
       "      <td>0</td>\n",
       "      <td>0</td>\n",
       "      <td>1</td>\n",
       "      <td>...</td>\n",
       "      <td>3</td>\n",
       "      <td>1</td>\n",
       "      <td>6</td>\n",
       "      <td>2</td>\n",
       "      <td>2</td>\n",
       "      <td>2</td>\n",
       "      <td>6</td>\n",
       "      <td>4</td>\n",
       "      <td>1</td>\n",
       "      <td>1</td>\n",
       "    </tr>\n",
       "    <tr>\n",
       "      <th>2</th>\n",
       "      <td>0</td>\n",
       "      <td>0</td>\n",
       "      <td>1</td>\n",
       "      <td>0</td>\n",
       "      <td>17</td>\n",
       "      <td>16</td>\n",
       "      <td>0</td>\n",
       "      <td>1</td>\n",
       "      <td>0</td>\n",
       "      <td>1</td>\n",
       "      <td>...</td>\n",
       "      <td>0</td>\n",
       "      <td>2</td>\n",
       "      <td>6</td>\n",
       "      <td>2</td>\n",
       "      <td>2</td>\n",
       "      <td>2</td>\n",
       "      <td>3</td>\n",
       "      <td>0</td>\n",
       "      <td>0</td>\n",
       "      <td>1</td>\n",
       "    </tr>\n",
       "    <tr>\n",
       "      <th>3</th>\n",
       "      <td>0</td>\n",
       "      <td>0</td>\n",
       "      <td>6</td>\n",
       "      <td>4</td>\n",
       "      <td>4</td>\n",
       "      <td>17</td>\n",
       "      <td>0</td>\n",
       "      <td>1</td>\n",
       "      <td>0</td>\n",
       "      <td>1</td>\n",
       "      <td>...</td>\n",
       "      <td>0</td>\n",
       "      <td>2</td>\n",
       "      <td>6</td>\n",
       "      <td>2</td>\n",
       "      <td>2</td>\n",
       "      <td>2</td>\n",
       "      <td>7</td>\n",
       "      <td>5</td>\n",
       "      <td>0</td>\n",
       "      <td>1</td>\n",
       "    </tr>\n",
       "    <tr>\n",
       "      <th>4</th>\n",
       "      <td>0</td>\n",
       "      <td>0</td>\n",
       "      <td>4</td>\n",
       "      <td>3</td>\n",
       "      <td>17</td>\n",
       "      <td>13</td>\n",
       "      <td>0</td>\n",
       "      <td>1</td>\n",
       "      <td>0</td>\n",
       "      <td>1</td>\n",
       "      <td>...</td>\n",
       "      <td>0</td>\n",
       "      <td>2</td>\n",
       "      <td>6</td>\n",
       "      <td>2</td>\n",
       "      <td>1</td>\n",
       "      <td>1</td>\n",
       "      <td>3</td>\n",
       "      <td>0</td>\n",
       "      <td>0</td>\n",
       "      <td>0</td>\n",
       "    </tr>\n",
       "  </tbody>\n",
       "</table>\n",
       "<p>5 rows × 23 columns</p>\n",
       "</div>"
      ],
      "text/plain": [
       "   0   1   2   3   4   5   6   7   8   9  ...  13  14  15  16  17  18  19  20  \\\n",
       "0   0   0   4   2  15  14   0   0   0   0 ...   0   2   4   4   2   2   7   5   \n",
       "1   0   0   2   6  16   9   0   0   0   1 ...   3   1   6   2   2   2   6   4   \n",
       "2   0   0   1   0  17  16   0   1   0   1 ...   0   2   6   2   2   2   3   0   \n",
       "3   0   0   6   4   4  17   0   1   0   1 ...   0   2   6   2   2   2   7   5   \n",
       "4   0   0   4   3  17  13   0   1   0   1 ...   0   2   6   2   1   1   3   0   \n",
       "\n",
       "   21  22  \n",
       "0   0   1  \n",
       "1   1   1  \n",
       "2   0   1  \n",
       "3   0   1  \n",
       "4   0   0  \n",
       "\n",
       "[5 rows x 23 columns]"
      ]
     },
     "execution_count": 17,
     "metadata": {},
     "output_type": "execute_result"
    }
   ],
   "source": [
    "data2.head()"
   ]
  },
  {
   "cell_type": "markdown",
   "metadata": {},
   "source": [
    "### Seperating Target Variable."
   ]
  },
  {
   "cell_type": "code",
   "execution_count": 18,
   "metadata": {
    "collapsed": true
   },
   "outputs": [],
   "source": [
    "X = data2.iloc[:, 0:-1]\n",
    "Y = data2.iloc[:, -1]"
   ]
  },
  {
   "cell_type": "code",
   "execution_count": 19,
   "metadata": {},
   "outputs": [
    {
     "name": "stdout",
     "output_type": "stream",
     "text": [
      "0    1\n",
      "1    1\n",
      "2    1\n",
      "3    1\n",
      "4    0\n",
      "Name: 22, dtype: int32\n"
     ]
    },
    {
     "data": {
      "text/html": [
       "<div>\n",
       "<style>\n",
       "    .dataframe thead tr:only-child th {\n",
       "        text-align: right;\n",
       "    }\n",
       "\n",
       "    .dataframe thead th {\n",
       "        text-align: left;\n",
       "    }\n",
       "\n",
       "    .dataframe tbody tr th {\n",
       "        vertical-align: top;\n",
       "    }\n",
       "</style>\n",
       "<table border=\"1\" class=\"dataframe\">\n",
       "  <thead>\n",
       "    <tr style=\"text-align: right;\">\n",
       "      <th></th>\n",
       "      <th>0</th>\n",
       "      <th>1</th>\n",
       "      <th>2</th>\n",
       "      <th>3</th>\n",
       "      <th>4</th>\n",
       "      <th>5</th>\n",
       "      <th>6</th>\n",
       "      <th>7</th>\n",
       "      <th>8</th>\n",
       "      <th>9</th>\n",
       "      <th>...</th>\n",
       "      <th>12</th>\n",
       "      <th>13</th>\n",
       "      <th>14</th>\n",
       "      <th>15</th>\n",
       "      <th>16</th>\n",
       "      <th>17</th>\n",
       "      <th>18</th>\n",
       "      <th>19</th>\n",
       "      <th>20</th>\n",
       "      <th>21</th>\n",
       "    </tr>\n",
       "  </thead>\n",
       "  <tbody>\n",
       "    <tr>\n",
       "      <th>0</th>\n",
       "      <td>0</td>\n",
       "      <td>0</td>\n",
       "      <td>4</td>\n",
       "      <td>2</td>\n",
       "      <td>15</td>\n",
       "      <td>14</td>\n",
       "      <td>0</td>\n",
       "      <td>0</td>\n",
       "      <td>0</td>\n",
       "      <td>0</td>\n",
       "      <td>...</td>\n",
       "      <td>1</td>\n",
       "      <td>0</td>\n",
       "      <td>2</td>\n",
       "      <td>4</td>\n",
       "      <td>4</td>\n",
       "      <td>2</td>\n",
       "      <td>2</td>\n",
       "      <td>7</td>\n",
       "      <td>5</td>\n",
       "      <td>0</td>\n",
       "    </tr>\n",
       "    <tr>\n",
       "      <th>1</th>\n",
       "      <td>0</td>\n",
       "      <td>0</td>\n",
       "      <td>2</td>\n",
       "      <td>6</td>\n",
       "      <td>16</td>\n",
       "      <td>9</td>\n",
       "      <td>0</td>\n",
       "      <td>0</td>\n",
       "      <td>0</td>\n",
       "      <td>1</td>\n",
       "      <td>...</td>\n",
       "      <td>0</td>\n",
       "      <td>3</td>\n",
       "      <td>1</td>\n",
       "      <td>6</td>\n",
       "      <td>2</td>\n",
       "      <td>2</td>\n",
       "      <td>2</td>\n",
       "      <td>6</td>\n",
       "      <td>4</td>\n",
       "      <td>1</td>\n",
       "    </tr>\n",
       "    <tr>\n",
       "      <th>2</th>\n",
       "      <td>0</td>\n",
       "      <td>0</td>\n",
       "      <td>1</td>\n",
       "      <td>0</td>\n",
       "      <td>17</td>\n",
       "      <td>16</td>\n",
       "      <td>0</td>\n",
       "      <td>1</td>\n",
       "      <td>0</td>\n",
       "      <td>1</td>\n",
       "      <td>...</td>\n",
       "      <td>6</td>\n",
       "      <td>0</td>\n",
       "      <td>2</td>\n",
       "      <td>6</td>\n",
       "      <td>2</td>\n",
       "      <td>2</td>\n",
       "      <td>2</td>\n",
       "      <td>3</td>\n",
       "      <td>0</td>\n",
       "      <td>0</td>\n",
       "    </tr>\n",
       "    <tr>\n",
       "      <th>3</th>\n",
       "      <td>0</td>\n",
       "      <td>0</td>\n",
       "      <td>6</td>\n",
       "      <td>4</td>\n",
       "      <td>4</td>\n",
       "      <td>17</td>\n",
       "      <td>0</td>\n",
       "      <td>1</td>\n",
       "      <td>0</td>\n",
       "      <td>1</td>\n",
       "      <td>...</td>\n",
       "      <td>3</td>\n",
       "      <td>0</td>\n",
       "      <td>2</td>\n",
       "      <td>6</td>\n",
       "      <td>2</td>\n",
       "      <td>2</td>\n",
       "      <td>2</td>\n",
       "      <td>7</td>\n",
       "      <td>5</td>\n",
       "      <td>0</td>\n",
       "    </tr>\n",
       "    <tr>\n",
       "      <th>4</th>\n",
       "      <td>0</td>\n",
       "      <td>0</td>\n",
       "      <td>4</td>\n",
       "      <td>3</td>\n",
       "      <td>17</td>\n",
       "      <td>13</td>\n",
       "      <td>0</td>\n",
       "      <td>1</td>\n",
       "      <td>0</td>\n",
       "      <td>1</td>\n",
       "      <td>...</td>\n",
       "      <td>1</td>\n",
       "      <td>0</td>\n",
       "      <td>2</td>\n",
       "      <td>6</td>\n",
       "      <td>2</td>\n",
       "      <td>1</td>\n",
       "      <td>1</td>\n",
       "      <td>3</td>\n",
       "      <td>0</td>\n",
       "      <td>0</td>\n",
       "    </tr>\n",
       "  </tbody>\n",
       "</table>\n",
       "<p>5 rows × 22 columns</p>\n",
       "</div>"
      ],
      "text/plain": [
       "   0   1   2   3   4   5   6   7   8   9  ...  12  13  14  15  16  17  18  19  \\\n",
       "0   0   0   4   2  15  14   0   0   0   0 ...   1   0   2   4   4   2   2   7   \n",
       "1   0   0   2   6  16   9   0   0   0   1 ...   0   3   1   6   2   2   2   6   \n",
       "2   0   0   1   0  17  16   0   1   0   1 ...   6   0   2   6   2   2   2   3   \n",
       "3   0   0   6   4   4  17   0   1   0   1 ...   3   0   2   6   2   2   2   7   \n",
       "4   0   0   4   3  17  13   0   1   0   1 ...   1   0   2   6   2   1   1   3   \n",
       "\n",
       "   20  21  \n",
       "0   5   0  \n",
       "1   4   1  \n",
       "2   0   0  \n",
       "3   5   0  \n",
       "4   0   0  \n",
       "\n",
       "[5 rows x 22 columns]"
      ]
     },
     "execution_count": 19,
     "metadata": {},
     "output_type": "execute_result"
    }
   ],
   "source": [
    "print(Y.head())\n",
    "X.head()"
   ]
  },
  {
   "cell_type": "markdown",
   "metadata": {},
   "source": [
    "## One Hot Encoding"
   ]
  },
  {
   "cell_type": "code",
   "execution_count": 20,
   "metadata": {
    "collapsed": true
   },
   "outputs": [],
   "source": [
    "data3 = pd.get_dummies(data_new.loc[:, data_new.columns != 'Status'])\n"
   ]
  },
  {
   "cell_type": "code",
   "execution_count": 21,
   "metadata": {},
   "outputs": [
    {
     "data": {
      "text/plain": [
       "(44068, 128)"
      ]
     },
     "execution_count": 21,
     "metadata": {},
     "output_type": "execute_result"
    }
   ],
   "source": [
    "data3.shape"
   ]
  },
  {
   "cell_type": "markdown",
   "metadata": {},
   "source": [
    "## Applying PCA On Data3"
   ]
  },
  {
   "cell_type": "code",
   "execution_count": 22,
   "metadata": {},
   "outputs": [
    {
     "data": {
      "text/plain": [
       "(44068, 20)"
      ]
     },
     "execution_count": 22,
     "metadata": {},
     "output_type": "execute_result"
    }
   ],
   "source": [
    "from sklearn.decomposition import PCA\n",
    "\n",
    "pca = PCA(n_components=20)\n",
    "X_pca = pca.fit_transform(X)\n",
    "X_pca.shape"
   ]
  },
  {
   "cell_type": "markdown",
   "metadata": {},
   "source": [
    "# Finding ImPortant Features"
   ]
  },
  {
   "cell_type": "markdown",
   "metadata": {},
   "source": [
    "## With Random Forest"
   ]
  },
  {
   "cell_type": "markdown",
   "metadata": {},
   "source": [
    "### Using Label Encoded Data"
   ]
  },
  {
   "cell_type": "code",
   "execution_count": 23,
   "metadata": {},
   "outputs": [
    {
     "data": {
      "text/plain": [
       "RandomForestClassifier(bootstrap=True, class_weight=None, criterion='gini',\n",
       "            max_depth=None, max_features='auto', max_leaf_nodes=None,\n",
       "            min_impurity_decrease=0.0, min_impurity_split=None,\n",
       "            min_samples_leaf=1, min_samples_split=2,\n",
       "            min_weight_fraction_leaf=0.0, n_estimators=15, n_jobs=None,\n",
       "            oob_score=False, random_state=None, verbose=0,\n",
       "            warm_start=False)"
      ]
     },
     "execution_count": 23,
     "metadata": {},
     "output_type": "execute_result"
    }
   ],
   "source": [
    "from sklearn.ensemble import RandomForestClassifier\n",
    "\n",
    "RFC = RandomForestClassifier(n_estimators = 15, max_features = 'auto')        # for None, it takes n-features\n",
    "RFC.fit(X, Y)\n",
    "\n"
   ]
  },
  {
   "cell_type": "code",
   "execution_count": 24,
   "metadata": {},
   "outputs": [
    {
     "data": {
      "text/plain": [
       "array([0.00251964, 0.        , 0.11327607, 0.06442111, 0.0627462 ,\n",
       "       0.06414033, 0.00094282, 0.01676934, 0.        , 0.0293186 ,\n",
       "       0.05287448, 0.0243505 , 0.08513244, 0.05016981, 0.03923162,\n",
       "       0.01953671, 0.02476586, 0.142753  , 0.1289294 , 0.03920233,\n",
       "       0.02861418, 0.01030558])"
      ]
     },
     "execution_count": 24,
     "metadata": {},
     "output_type": "execute_result"
    }
   ],
   "source": [
    "RFC.feature_importances_"
   ]
  },
  {
   "cell_type": "code",
   "execution_count": 25,
   "metadata": {
    "collapsed": true
   },
   "outputs": [],
   "source": [
    "X_cols = data_new.loc[:, data_new.columns != 'Status']"
   ]
  },
  {
   "cell_type": "code",
   "execution_count": 26,
   "metadata": {
    "scrolled": true
   },
   "outputs": [
    {
     "data": {
      "text/html": [
       "<div>\n",
       "<style>\n",
       "    .dataframe thead tr:only-child th {\n",
       "        text-align: right;\n",
       "    }\n",
       "\n",
       "    .dataframe thead th {\n",
       "        text-align: left;\n",
       "    }\n",
       "\n",
       "    .dataframe tbody tr th {\n",
       "        vertical-align: top;\n",
       "    }\n",
       "</style>\n",
       "<table border=\"1\" class=\"dataframe\">\n",
       "  <thead>\n",
       "    <tr style=\"text-align: right;\">\n",
       "      <th></th>\n",
       "      <th>columns</th>\n",
       "      <th>imp_features</th>\n",
       "    </tr>\n",
       "  </thead>\n",
       "  <tbody>\n",
       "    <tr>\n",
       "      <th>0</th>\n",
       "      <td>Amount_of_water</td>\n",
       "      <td>0.002520</td>\n",
       "    </tr>\n",
       "    <tr>\n",
       "      <th>1</th>\n",
       "      <td>Gps_height</td>\n",
       "      <td>0.000000</td>\n",
       "    </tr>\n",
       "    <tr>\n",
       "      <th>2</th>\n",
       "      <td>Waterpoint_type</td>\n",
       "      <td>0.113276</td>\n",
       "    </tr>\n",
       "    <tr>\n",
       "      <th>3</th>\n",
       "      <td>Basin_name</td>\n",
       "      <td>0.064421</td>\n",
       "    </tr>\n",
       "    <tr>\n",
       "      <th>4</th>\n",
       "      <td>Regionname</td>\n",
       "      <td>0.062746</td>\n",
       "    </tr>\n",
       "    <tr>\n",
       "      <th>5</th>\n",
       "      <td>Region_code</td>\n",
       "      <td>0.064140</td>\n",
       "    </tr>\n",
       "    <tr>\n",
       "      <th>6</th>\n",
       "      <td>Population</td>\n",
       "      <td>0.000943</td>\n",
       "    </tr>\n",
       "    <tr>\n",
       "      <th>7</th>\n",
       "      <td>Public_meeting</td>\n",
       "      <td>0.016769</td>\n",
       "    </tr>\n",
       "    <tr>\n",
       "      <th>8</th>\n",
       "      <td>Organization_surveyed</td>\n",
       "      <td>0.000000</td>\n",
       "    </tr>\n",
       "    <tr>\n",
       "      <th>9</th>\n",
       "      <td>Permit</td>\n",
       "      <td>0.029319</td>\n",
       "    </tr>\n",
       "    <tr>\n",
       "      <th>10</th>\n",
       "      <td>Management</td>\n",
       "      <td>0.052874</td>\n",
       "    </tr>\n",
       "    <tr>\n",
       "      <th>11</th>\n",
       "      <td>Management_group</td>\n",
       "      <td>0.024350</td>\n",
       "    </tr>\n",
       "    <tr>\n",
       "      <th>12</th>\n",
       "      <td>Extraction_type_class</td>\n",
       "      <td>0.085132</td>\n",
       "    </tr>\n",
       "    <tr>\n",
       "      <th>13</th>\n",
       "      <td>Payment</td>\n",
       "      <td>0.050170</td>\n",
       "    </tr>\n",
       "    <tr>\n",
       "      <th>14</th>\n",
       "      <td>Payment_type</td>\n",
       "      <td>0.039232</td>\n",
       "    </tr>\n",
       "    <tr>\n",
       "      <th>15</th>\n",
       "      <td>Water_quality</td>\n",
       "      <td>0.019537</td>\n",
       "    </tr>\n",
       "    <tr>\n",
       "      <th>16</th>\n",
       "      <td>Quality_group</td>\n",
       "      <td>0.024766</td>\n",
       "    </tr>\n",
       "    <tr>\n",
       "      <th>17</th>\n",
       "      <td>Quantity</td>\n",
       "      <td>0.142753</td>\n",
       "    </tr>\n",
       "    <tr>\n",
       "      <th>18</th>\n",
       "      <td>Quantity_group</td>\n",
       "      <td>0.128929</td>\n",
       "    </tr>\n",
       "    <tr>\n",
       "      <th>19</th>\n",
       "      <td>Source</td>\n",
       "      <td>0.039202</td>\n",
       "    </tr>\n",
       "    <tr>\n",
       "      <th>20</th>\n",
       "      <td>Source_type</td>\n",
       "      <td>0.028614</td>\n",
       "    </tr>\n",
       "    <tr>\n",
       "      <th>21</th>\n",
       "      <td>Source_class</td>\n",
       "      <td>0.010306</td>\n",
       "    </tr>\n",
       "  </tbody>\n",
       "</table>\n",
       "</div>"
      ],
      "text/plain": [
       "                  columns  imp_features\n",
       "0         Amount_of_water      0.002520\n",
       "1              Gps_height      0.000000\n",
       "2         Waterpoint_type      0.113276\n",
       "3              Basin_name      0.064421\n",
       "4              Regionname      0.062746\n",
       "5             Region_code      0.064140\n",
       "6              Population      0.000943\n",
       "7          Public_meeting      0.016769\n",
       "8   Organization_surveyed      0.000000\n",
       "9                  Permit      0.029319\n",
       "10             Management      0.052874\n",
       "11       Management_group      0.024350\n",
       "12  Extraction_type_class      0.085132\n",
       "13                Payment      0.050170\n",
       "14           Payment_type      0.039232\n",
       "15          Water_quality      0.019537\n",
       "16          Quality_group      0.024766\n",
       "17               Quantity      0.142753\n",
       "18         Quantity_group      0.128929\n",
       "19                 Source      0.039202\n",
       "20            Source_type      0.028614\n",
       "21           Source_class      0.010306"
      ]
     },
     "execution_count": 26,
     "metadata": {},
     "output_type": "execute_result"
    },
    {
     "data": {
      "image/png": "[encoded data removed]",
      "text/plain": [
       "<matplotlib.figure.Figure at 0x190bf8ee6d8>"
      ]
     },
     "metadata": {},
     "output_type": "display_data"
    }
   ],
   "source": [
    "feature_imp_RFC = pd.DataFrame({\"imp_features\":RFC.feature_importances_, \"columns\":X_cols.columns})\n",
    "feature_imp_RFC.plot.bar(x=\"columns\", y=\"imp_features\")\n",
    "feature_imp_RFC"
   ]
  },
  {
   "cell_type": "markdown",
   "metadata": {},
   "source": [
    "### Making main_features as Column"
   ]
  },
  {
   "cell_type": "code",
   "execution_count": 27,
   "metadata": {
    "collapsed": true
   },
   "outputs": [],
   "source": [
    "main_features = dataX[[\"Amount_of_water\", \"Gps_height\", \"Waterpoint_type\",'Population', \"Payment\", \"Quantity_group\", \"Source\"]]    #[Amount_of_water, Gps_height, Waterpoint_type, Population, Payment, Quantity_group, Source]\n",
    "main_features.head()\n",
    "\n",
    "from sklearn.impute import SimpleImputer\n",
    "imputer = SimpleImputer(strategy=\"most_frequent\")\n",
    "final_data = imputer.fit_transform(main_features)\n",
    "final_data = pd.DataFrame(final_data)\n",
    "\n",
    "encoder = preprocessing.LabelEncoder()\n",
    "final_data1 = final_data.apply(encoder.fit_transform)  "
   ]
  },
  {
   "cell_type": "code",
   "execution_count": 28,
   "metadata": {
    "collapsed": true,
    "scrolled": true
   },
   "outputs": [],
   "source": [
    "final_data1.head()\n",
    "final_data1.rename(columns={'0': 'Amount_of_water', '1': 'Gps_height', \"2\":\"Waterpoint_type\",\n",
    "                           '3': 'Population', '4': 'Payment', \"5\":\"Quantity_group\",\n",
    "                           '6':\"Source\"}, inplace=True)"
   ]
  },
  {
   "cell_type": "markdown",
   "metadata": {},
   "source": [
    "# Train Test Split (Stratified)"
   ]
  },
  {
   "cell_type": "code",
   "execution_count": 29,
   "metadata": {
    "collapsed": true,
    "scrolled": true
   },
   "outputs": [],
   "source": [
    "\n",
    "# For Main_Features\n",
    "train1 = final_data1\n",
    "trainX1, valX1, trainY1, valY1 = train_test_split(train1, dataY['Status'], random_state=5, test_size=0.25, shuffle=True)\n",
    "\n",
    "\n",
    "# For One PCA OneHot Encoded Data\n",
    "train = X_pca\n",
    "trainX2, valX2, trainY2, valY2 = train_test_split(train, dataY['Status'], random_state=5, test_size=0.25, shuffle=True)"
   ]
  },
  {
   "cell_type": "code",
   "execution_count": 39,
   "metadata": {},
   "outputs": [
    {
     "name": "stdout",
     "output_type": "stream",
     "text": [
      "0.6216453359958851\n"
     ]
    },
    {
     "data": {
      "text/plain": [
       "0.5687573749659617"
      ]
     },
     "execution_count": 39,
     "metadata": {},
     "output_type": "execute_result"
    }
   ],
   "source": [
    "from sklearn.tree import DecisionTreeClassifier\n",
    "\n",
    "tree_learner = DecisionTreeClassifier(min_samples_split = 7, min_samples_leaf= 2, max_depth= 19)\n",
    "tree_learner.fit(trainX1, trainY1)\n",
    "print(tree_learner.score(trainX1, trainY1))\n",
    "yp = tree_learner.predict(valX1)\n",
    "accuracy_score(yp, valY1)"
   ]
  },
  {
   "cell_type": "markdown",
   "metadata": {},
   "source": [
    "# Model Building"
   ]
  },
  {
   "cell_type": "markdown",
   "metadata": {},
   "source": [
    "## With Main_Features"
   ]
  },
  {
   "cell_type": "markdown",
   "metadata": {},
   "source": [
    "###  Decision Trees with Tuning Using GridSearchCV"
   ]
  },
  {
   "cell_type": "code",
   "execution_count": null,
   "metadata": {
    "collapsed": true,
    "scrolled": true
   },
   "outputs": [],
   "source": [
    "from sklearn.tree import DecisionTreeClassifier\n",
    "from sklearn.model_selection import RandomizedSearchCV\n",
    "\n",
    "params = {'min_samples_split':range(2,15,1), \n",
    "          'min_samples_leaf':range(1,10,1),\n",
    "          'max_depth':range(5,20,1)\n",
    "          }\n",
    "\n",
    "tree_learner = RandomizedSearchCV()\n",
    "grid_cv1 = GridSearchCV(tree_learner, params, cv=10, n_jobs=-1)\n",
    "grid_cv1.fit(trainX1, trainY1)\n",
    "print(\"Train Score  \",grid_cv1.score(trainX1, trainY1))\n",
    "\n",
    "y_caps1 = grid_cv1.predict(valX1)\n",
    "print(\"Test Score   \", accuracy_score(valY1, y_caps1))\n",
    "    "
   ]
  },
  {
   "cell_type": "code",
   "execution_count": null,
   "metadata": {
    "collapsed": true
   },
   "outputs": [],
   "source": [
    "print(\"Best Hyper Parameters:\",grid_cv1.best_params_)\n",
    "print(\"Best Accuracy:\",grid_cv1.best_score_)\n",
    "print('Test Accuracy',accuracy_score(valY1, y_caps1))"
   ]
  },
  {
   "cell_type": "markdown",
   "metadata": {},
   "source": [
    "# Final Model"
   ]
  },
  {
   "cell_type": "markdown",
   "metadata": {},
   "source": [
    "## On Testing Data"
   ]
  },
  {
   "cell_type": "code",
   "execution_count": 101,
   "metadata": {
    "collapsed": true,
    "scrolled": true
   },
   "outputs": [],
   "source": [
    "test = pd.read_csv('C:\\\\Users\\\\HP\\\\Desktop\\\\Mith\\\\test.csv')\n",
    "\n",
    "test_imp = test[[\"Amount_of_water\", \"Gps_height\", \"Waterpoint_type\",'Population', \"Payment\", \"Quantity_group\", \"Source\"]]\n",
    "Y_final = test[['Source']]\n",
    "\n",
    "from sklearn.impute import SimpleImputer\n",
    "imputer = SimpleImputer(strategy=\"most_frequent\")\n",
    "data_final = imputer.fit_transform(test_imp)\n",
    "data_final = pd.DataFrame(data_final)\n",
    "\n",
    "encoder = preprocessing.LabelEncoder()\n",
    "data_final1 = data_final.apply(encoder.fit_transform)  "
   ]
  },
  {
   "cell_type": "code",
   "execution_count": null,
   "metadata": {
    "collapsed": true
   },
   "outputs": [],
   "source": [
    "tree_learner = DecisionTreeClassifier(min_samples_split = 7, min_samples_leaf= 2, max_depth= 19)\n",
    "tree_learner.fit(main_features, dataY['Status'])\n",
    "tree_learner.score(data_final1, Y_final)"
   ]
  },
  {
   "cell_type": "markdown",
   "metadata": {},
   "source": [
    "### Gradient Boosting"
   ]
  },
  {
   "cell_type": "code",
   "execution_count": 43,
   "metadata": {
    "scrolled": true
   },
   "outputs": [
    {
     "name": "stdout",
     "output_type": "stream",
     "text": [
      "Train Accuracy  0.5876372878279024\n",
      "Test Accuracy   0.5871834437687211\n"
     ]
    }
   ],
   "source": [
    "from sklearn.ensemble import GradientBoostingClassifier\n",
    "\n",
    "parameters = {\n",
    "    \"learning_rate\": [0.01, 0.025, 0.1, 0.2],\n",
    "    \"max_depth\":[3,4,5,6,7,8],\n",
    "    \"subsample\":[0.5, 0.8, 1.0],\n",
    "    \"n_estimators\":[10]\n",
    "    }\n",
    "\n",
    "gbc = GradientBoostingClassifier(learning_rate=0.2, max_depth=3, n_estimators=10,subsample=0.5)\n",
    "\n",
    "gbc.fit(trainX2,trainY2)\n",
    "print(\"Train Accuracy \", gbc.score(trainX2, trainY2))\n",
    "\n",
    "\n",
    "y_predictions = gbc.predict(valX2)\n",
    "print(\"Test Accuracy  \", accuracy_score(valY2, y_predictions))\n",
    "\n"
   ]
  },
  {
   "cell_type": "code",
   "execution_count": 42,
   "metadata": {},
   "outputs": [
    {
     "name": "stdout",
     "output_type": "stream",
     "text": [
      "Best hyperparameter:\n",
      " {'subsample': 0.5, 'n_estimators': 10, 'max_depth': 3, 'learning_rate': 0.2}\n",
      "[[6451   19]\n",
      " [4539    8]]\n",
      "                precision    recall  f1-score   support\n",
      "\n",
      "    functional       0.59      1.00      0.74      6470\n",
      "non functional       0.30      0.00      0.00      4547\n",
      "\n",
      "     micro avg       0.59      0.59      0.59     11017\n",
      "     macro avg       0.44      0.50      0.37     11017\n",
      "  weighted avg       0.47      0.59      0.44     11017\n",
      "\n"
     ]
    }
   ],
   "source": [
    "print(\"Best hyperparameter:\\n\", clf.best_params_)\n",
    "\n",
    "print(confusion_matrix(valY1,y_predictions))\n",
    "print(classification_report(valY1, y_predictions))"
   ]
  },
  {
   "cell_type": "markdown",
   "metadata": {
    "collapsed": true
   },
   "source": [
    "### SVM"
   ]
  },
  {
   "cell_type": "code",
   "execution_count": null,
   "metadata": {
    "collapsed": true
   },
   "outputs": [],
   "source": [
    "params = {'C': [6,7,8,9,10,11,12], 'kernel': ['linear','rbf']}\n",
    "\n",
    "svm = SVC(gamma='scale')\n",
    "grid_cv4 = RandomizedSearchCV(svm, params, cv=10, n_jobs=-1)\n",
    "grid_cv4.fit(trainX, trainY) \n",
    "print(\"Train Score \", grid_cv4.score(trainX,trainY))\n",
    "\n",
    "y_p = grid_cv4.predict(valX)\n",
    "print(\"Test Score  \", accuracy_score(valY , y_p))\n",
    "\n"
   ]
  },
  {
   "cell_type": "code",
   "execution_count": null,
   "metadata": {
    "collapsed": true
   },
   "outputs": [],
   "source": [
    "print(\"Best Hyper Parameters:\\n\",grid_cv4.best_params_)\n",
    "print(confusion_matrix(valY,y_p))\n",
    "print(classification_report(valY, y_p))"
   ]
  },
  {
   "cell_type": "code",
   "execution_count": null,
   "metadata": {
    "collapsed": true
   },
   "outputs": [],
   "source": []
  },
  {
   "cell_type": "code",
   "execution_count": null,
   "metadata": {
    "collapsed": true
   },
   "outputs": [],
   "source": []
  },
  {
   "cell_type": "code",
   "execution_count": null,
   "metadata": {
    "collapsed": true
   },
   "outputs": [],
   "source": []
  },
  {
   "cell_type": "code",
   "execution_count": null,
   "metadata": {
    "collapsed": true
   },
   "outputs": [],
   "source": []
  },
  {
   "cell_type": "code",
   "execution_count": null,
   "metadata": {
    "collapsed": true
   },
   "outputs": [],
   "source": []
  },
  {
   "cell_type": "code",
   "execution_count": null,
   "metadata": {
    "collapsed": true
   },
   "outputs": [],
   "source": []
  }
 ],
 "metadata": {
  "kernelspec": {
   "display_name": "Python 3",
   "language": "python",
   "name": "python3"
  },
  "language_info": {
   "codemirror_mode": {
    "name": "ipython",
    "version": 3
   },
   "file_extension": ".py",
   "mimetype": "text/x-python",
   "name": "python",
   "nbconvert_exporter": "python",
   "pygments_lexer": "ipython3",
   "version": "3.6.2"
  }
 },
 "nbformat": 4,
 "nbformat_minor": 2
}
