{
 "cells": [
  {
   "cell_type": "code",
   "execution_count": null,
   "metadata": {
    "collapsed": true
   },
   "outputs": [],
   "source": [
    "### Author : Vasista\n",
    "### Date   : 12/11/2018\n",
    "### Topic  : Selecting Imp Variables and removing Correlated Independent Variables."
   ]
  },
  {
   "cell_type": "code",
   "execution_count": 36,
   "metadata": {
    "collapsed": true
   },
   "outputs": [],
   "source": [
    "import pandas as pd\n",
    "import numpy as np\n",
    "from sklearn.preprocessing import Imputer\n",
    "from sklearn.tree import DecisionTreeRegressor \n",
    "from sklearn.model_selection import train_test_split, GridSearchCV\n",
    "from sklearn import preprocessing\n"
   ]
  },
  {
   "cell_type": "code",
   "execution_count": 37,
   "metadata": {},
   "outputs": [
    {
     "data": {
      "text/html": [
       "<div>\n",
       "<style>\n",
       "    .dataframe thead tr:only-child th {\n",
       "        text-align: right;\n",
       "    }\n",
       "\n",
       "    .dataframe thead th {\n",
       "        text-align: left;\n",
       "    }\n",
       "\n",
       "    .dataframe tbody tr th {\n",
       "        vertical-align: top;\n",
       "    }\n",
       "</style>\n",
       "<table border=\"1\" class=\"dataframe\">\n",
       "  <thead>\n",
       "    <tr style=\"text-align: right;\">\n",
       "      <th></th>\n",
       "      <th>PersonID</th>\n",
       "      <th>Amount</th>\n",
       "      <th>FamilySize</th>\n",
       "      <th>Distance</th>\n",
       "      <th>Duration</th>\n",
       "      <th>DirectVisits</th>\n",
       "      <th>OnlineVisits</th>\n",
       "      <th>Quantity</th>\n",
       "      <th>NumberofFrequentItems</th>\n",
       "      <th>TransactionMode</th>\n",
       "      <th>Area</th>\n",
       "      <th>Occupation</th>\n",
       "    </tr>\n",
       "  </thead>\n",
       "  <tbody>\n",
       "    <tr>\n",
       "      <th>0</th>\n",
       "      <td>C1104</td>\n",
       "      <td>3125</td>\n",
       "      <td>2</td>\n",
       "      <td>6</td>\n",
       "      <td>261</td>\n",
       "      <td>11</td>\n",
       "      <td>9</td>\n",
       "      <td>365</td>\n",
       "      <td>11</td>\n",
       "      <td>2</td>\n",
       "      <td>Area1</td>\n",
       "      <td>2</td>\n",
       "    </tr>\n",
       "    <tr>\n",
       "      <th>1</th>\n",
       "      <td>C1111</td>\n",
       "      <td>5298</td>\n",
       "      <td>2</td>\n",
       "      <td>5</td>\n",
       "      <td>323</td>\n",
       "      <td>9</td>\n",
       "      <td>9</td>\n",
       "      <td>218</td>\n",
       "      <td>3</td>\n",
       "      <td>2</td>\n",
       "      <td>Area1</td>\n",
       "      <td>1</td>\n",
       "    </tr>\n",
       "    <tr>\n",
       "      <th>2</th>\n",
       "      <td>C1117</td>\n",
       "      <td>4375</td>\n",
       "      <td>2</td>\n",
       "      <td>6</td>\n",
       "      <td>355</td>\n",
       "      <td>11</td>\n",
       "      <td>11</td>\n",
       "      <td>1367</td>\n",
       "      <td>11</td>\n",
       "      <td>2</td>\n",
       "      <td>Area1</td>\n",
       "      <td>2</td>\n",
       "    </tr>\n",
       "    <tr>\n",
       "      <th>3</th>\n",
       "      <td>C1128</td>\n",
       "      <td>9700</td>\n",
       "      <td>5</td>\n",
       "      <td>7</td>\n",
       "      <td>418</td>\n",
       "      <td>51</td>\n",
       "      <td>41</td>\n",
       "      <td>2947</td>\n",
       "      <td>51</td>\n",
       "      <td>1</td>\n",
       "      <td>Area1</td>\n",
       "      <td>1</td>\n",
       "    </tr>\n",
       "    <tr>\n",
       "      <th>4</th>\n",
       "      <td>C1132</td>\n",
       "      <td>3625</td>\n",
       "      <td>2</td>\n",
       "      <td>7</td>\n",
       "      <td>290</td>\n",
       "      <td>9</td>\n",
       "      <td>9</td>\n",
       "      <td>1233</td>\n",
       "      <td>8</td>\n",
       "      <td>2</td>\n",
       "      <td>Area1</td>\n",
       "      <td>3</td>\n",
       "    </tr>\n",
       "  </tbody>\n",
       "</table>\n",
       "</div>"
      ],
      "text/plain": [
       "  PersonID  Amount  FamilySize  Distance  Duration  DirectVisits  \\\n",
       "0    C1104    3125           2         6       261            11   \n",
       "1    C1111    5298           2         5       323             9   \n",
       "2    C1117    4375           2         6       355            11   \n",
       "3    C1128    9700           5         7       418            51   \n",
       "4    C1132    3625           2         7       290             9   \n",
       "\n",
       "   OnlineVisits  Quantity  NumberofFrequentItems  TransactionMode   Area  \\\n",
       "0             9       365                     11                2  Area1   \n",
       "1             9       218                      3                2  Area1   \n",
       "2            11      1367                     11                2  Area1   \n",
       "3            41      2947                     51                1  Area1   \n",
       "4             9      1233                      8                2  Area1   \n",
       "\n",
       "   Occupation  \n",
       "0           2  \n",
       "1           1  \n",
       "2           2  \n",
       "3           1  \n",
       "4           3  "
      ]
     },
     "execution_count": 37,
     "metadata": {},
     "output_type": "execute_result"
    }
   ],
   "source": [
    "data = pd.read_csv('C:\\Piazza\\CUTe2\\Retail_Train.csv', sep=',')\n",
    "data.head()"
   ]
  },
  {
   "cell_type": "code",
   "execution_count": 38,
   "metadata": {
    "scrolled": true
   },
   "outputs": [
    {
     "name": "stdout",
     "output_type": "stream",
     "text": [
      "<class 'pandas.core.frame.DataFrame'>\n",
      "RangeIndex: 2938 entries, 0 to 2937\n",
      "Data columns (total 12 columns):\n",
      "PersonID                 2938 non-null object\n",
      "Amount                   2938 non-null int64\n",
      "FamilySize               2938 non-null int64\n",
      "Distance                 2938 non-null int64\n",
      "Duration                 2938 non-null int64\n",
      "DirectVisits             2938 non-null int64\n",
      "OnlineVisits             2938 non-null int64\n",
      "Quantity                 2938 non-null int64\n",
      "NumberofFrequentItems    2938 non-null int64\n",
      "TransactionMode          2938 non-null int64\n",
      "Area                     2938 non-null object\n",
      "Occupation               2938 non-null int64\n",
      "dtypes: int64(10), object(2)\n",
      "memory usage: 275.5+ KB\n"
     ]
    }
   ],
   "source": [
    "# Basic Info Of Data.\n",
    "data.info()"
   ]
  },
  {
   "cell_type": "code",
   "execution_count": 39,
   "metadata": {
    "scrolled": true
   },
   "outputs": [
    {
     "name": "stdout",
     "output_type": "stream",
     "text": [
      "                       Total_nulls  Percent_nulls\n",
      "Occupation                       0            0.0\n",
      "Area                             0            0.0\n",
      "TransactionMode                  0            0.0\n",
      "NumberofFrequentItems            0            0.0\n",
      "Quantity                         0            0.0\n",
      "OnlineVisits                     0            0.0\n",
      "DirectVisits                     0            0.0\n",
      "Duration                         0            0.0\n",
      "Distance                         0            0.0\n",
      "FamilySize                       0            0.0\n",
      "Amount                           0            0.0\n",
      "PersonID                         0            0.0\n"
     ]
    }
   ],
   "source": [
    "\n",
    "#  data.isnull().sum(axis=0)            # Column wise NA's.\n",
    "#  data.isnull().sum(axis=1)            # Row wise NA's\n",
    "\n",
    "# Column wise Nulls Calculation\n",
    "\n",
    "data.isnull().sum()\n",
    "total_nulls = data.isnull().sum().sort_values(ascending=False)\n",
    "percent_nulls = (data.isnull().sum() / data.isnull().count()*100).sort_values(ascending=False)\n",
    "total_missing_data = pd.concat([total_nulls, percent_nulls], axis=1, keys=['Total_nulls', 'Percent_nulls'])\n",
    "print(total_missing_data)\n"
   ]
  },
  {
   "cell_type": "code",
   "execution_count": 40,
   "metadata": {
    "collapsed": true
   },
   "outputs": [],
   "source": [
    "# Data Type Conversions for Columns\n",
    "\n",
    "retail = data.copy()\n",
    "retail = retail.drop(labels='PersonID',axis=1)\n",
    "retail['totalVisits'] = retail['DirectVisits'] + retail['OnlineVisits']\n",
    "retail_new = retail.drop(labels=['OnlineVisits', 'DirectVisits'],axis=1)\n",
    "\n",
    "\n",
    "retail_new['FamilySize'] = retail_new['FamilySize'].astype('object')\n",
    "retail_new['TransactionMode'] = retail_new['TransactionMode'].astype('object')\n",
    "retail_new['Occupation'] = retail_new['Occupation'].astype('object')\n",
    "\n",
    "retail_new1 = pd.get_dummies(retail_new)"
   ]
  },
  {
   "cell_type": "markdown",
   "metadata": {},
   "source": [
    "# Train Test Split"
   ]
  },
  {
   "cell_type": "code",
   "execution_count": 42,
   "metadata": {},
   "outputs": [],
   "source": [
    "X = retail_new1.loc[:, retail_new1.columns != 'Amount']\n",
    "Y = retail_new1[['Amount']]\n",
    "\n",
    "trainX,testX,trainY,testY = train_test_split(X,Y, test_size=0.3, random_state = 10)"
   ]
  },
  {
   "cell_type": "markdown",
   "metadata": {},
   "source": [
    "# Feature Importance Through Models."
   ]
  },
  {
   "cell_type": "markdown",
   "metadata": {},
   "source": [
    "# Decision Trees"
   ]
  },
  {
   "cell_type": "code",
   "execution_count": 43,
   "metadata": {},
   "outputs": [
    {
     "data": {
      "text/plain": [
       "DecisionTreeRegressor(criterion='mse', max_depth=5, max_features=None,\n",
       "           max_leaf_nodes=None, min_impurity_decrease=0.0,\n",
       "           min_impurity_split=None, min_samples_leaf=1,\n",
       "           min_samples_split=50, min_weight_fraction_leaf=0.0,\n",
       "           presort=False, random_state=None, splitter='best')"
      ]
     },
     "execution_count": 43,
     "metadata": {},
     "output_type": "execute_result"
    }
   ],
   "source": [
    "tree_learner = DecisionTreeRegressor(min_samples_split=50, max_depth=5)\n",
    "tree_learner.fit(trainX , trainY)"
   ]
  },
  {
   "cell_type": "code",
   "execution_count": 59,
   "metadata": {},
   "outputs": [
    {
     "name": "stdout",
     "output_type": "stream",
     "text": [
      "[0.         0.         0.         0.14184689 0.85815311 0.\n",
      " 0.         0.         0.         0.         0.         0.\n",
      " 0.         0.         0.         0.         0.         0.\n",
      " 0.         0.         0.         0.        ]\n",
      "                  Columns  imp_features\n",
      "0                Distance      0.000000\n",
      "1                Duration      0.000000\n",
      "2                Quantity      0.000000\n",
      "3   NumberofFrequentItems      0.141847\n",
      "4             totalVisits      0.858153\n",
      "5            FamilySize_2      0.000000\n",
      "6            FamilySize_3      0.000000\n",
      "7            FamilySize_4      0.000000\n",
      "8            FamilySize_5      0.000000\n",
      "9            FamilySize_6      0.000000\n",
      "10           FamilySize_7      0.000000\n",
      "11           FamilySize_8      0.000000\n",
      "12           FamilySize_9      0.000000\n",
      "13          FamilySize_10      0.000000\n",
      "14          FamilySize_12      0.000000\n",
      "15      TransactionMode_1      0.000000\n",
      "16      TransactionMode_2      0.000000\n",
      "17             Area_Area1      0.000000\n",
      "18             Area_Area2      0.000000\n",
      "19           Occupation_1      0.000000\n",
      "20           Occupation_2      0.000000\n",
      "21           Occupation_3      0.000000\n"
     ]
    }
   ],
   "source": [
    "# Important Features\n",
    "print(tree_learner.feature_importances_)\n",
    "\n",
    "# Make data frame with Imp_features w.r.t. their column names.\n",
    "imp_features = pd.DataFrame({\"Columns\":trainX.columns, \"imp_features\":tree_learner.feature_importances_})\n",
    "print(imp_features)             # Only Two Features are important as per \"Decision Trees\"."
   ]
  },
  {
   "cell_type": "code",
   "execution_count": 61,
   "metadata": {},
   "outputs": [
    {
     "data": {
      "text/plain": [
       "<matplotlib.axes._subplots.AxesSubplot at 0x20ce2200470>"
      ]
     },
     "execution_count": 61,
     "metadata": {},
     "output_type": "execute_result"
    },
    {
     "data": {
      "image/png": "[encoded data removed]",
      "text/plain": [
       "<matplotlib.figure.Figure at 0x20ce286a588>"
      ]
     },
     "metadata": {},
     "output_type": "display_data"
    }
   ],
   "source": [
    "imp_features.plot.bar(x=\"Columns\", y=\"imp_features\")"
   ]
  },
  {
   "cell_type": "code",
   "execution_count": null,
   "metadata": {
    "collapsed": true
   },
   "outputs": [],
   "source": []
  },
  {
   "cell_type": "code",
   "execution_count": null,
   "metadata": {
    "collapsed": true
   },
   "outputs": [],
   "source": []
  },
  {
   "cell_type": "code",
   "execution_count": null,
   "metadata": {
    "collapsed": true
   },
   "outputs": [],
   "source": []
  },
  {
   "cell_type": "code",
   "execution_count": null,
   "metadata": {
    "collapsed": true
   },
   "outputs": [],
   "source": [
    "# How to fill missing values  row wise/column wise\n",
    "# What percent of NA Columns/rows can be dropped."
   ]
  }
 ],
 "metadata": {
  "kernelspec": {
   "display_name": "Python 3",
   "language": "python",
   "name": "python3"
  },
  "language_info": {
   "codemirror_mode": {
    "name": "ipython",
    "version": 3
   },
   "file_extension": ".py",
   "mimetype": "text/x-python",
   "name": "python",
   "nbconvert_exporter": "python",
   "pygments_lexer": "ipython3",
   "version": "3.6.2"
  }
 },
 "nbformat": 4,
 "nbformat_minor": 2
}
