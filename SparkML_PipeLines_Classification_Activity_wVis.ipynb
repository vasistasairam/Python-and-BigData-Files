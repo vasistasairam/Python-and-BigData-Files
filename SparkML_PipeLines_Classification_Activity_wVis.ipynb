{
 "cells": [
  {
   "cell_type": "markdown",
   "metadata": {},
   "source": [
    "# Machine Learning in Spark\n",
    "#### Objective: Build a classification algorithm using Spark ML\n",
    "#### As part of this activity,\n",
    "#### 1. Read data, understand data using exploratory data analysis.\n",
    "#### 2. Do necessary pre-processing and build machine learning classification algorithm using the libraries available in SparkML. "
   ]
  },
  {
   "cell_type": "markdown",
   "metadata": {},
   "source": [
    "## Setup"
   ]
  },
  {
   "cell_type": "markdown",
   "metadata": {},
   "source": [
    "#### Configure Spark Environment\n",
    "Configure environment variables, Make sure you provide the correct Spark installation path/location."
   ]
  },
  {
   "cell_type": "code",
   "execution_count": 1,
   "metadata": {
    "collapsed": true
   },
   "outputs": [],
   "source": [
    "## Set Python - Spark environment. Resolve necessary dependencies specific to Spark HBase Connector.\n",
    "import os\n",
    "import sys\n",
    "\n",
    "os.environ[\"SPARK_HOME\"] = \"/usr/hdp/current/spark2-client\"\n",
    "os.environ[\"PYLIB\"] = os.environ[\"SPARK_HOME\"] + \"/python/lib\"\n",
    "sys.path.insert(0, os.environ[\"PYLIB\"] + \"/py4j-0.10.6-src.zip\")\n",
    "sys.path.insert(0, os.environ[\"PYLIB\"] + \"/pyspark.zip\")"
   ]
  },
  {
   "cell_type": "markdown",
   "metadata": {},
   "source": [
    "### Starting the Spark Session\n",
    "#### Create and Initialize Spark Driver\n",
    "Creating a spark app that will run locally and will use as many threads as there are cores using local[*] :"
   ]
  },
  {
   "cell_type": "code",
   "execution_count": 2,
   "metadata": {
    "collapsed": true
   },
   "outputs": [],
   "source": [
    "## Create SparkContext, SparkSession\n",
    "from os.path import expanduser, join, abspath\n",
    "\n",
    "from pyspark.sql import SparkSession\n",
    "from pyspark.sql import Row\n",
    "\n",
    "# warehouse_location points to the default location for managed databases and tables\n",
    "warehouse_location = 'hdfs:///apps/hive/warehouse/'\n",
    "\n",
    "spark = SparkSession \\\n",
    "    .builder \\\n",
    "    .appName(\"Machine Learning Example using Spark ML\") \\\n",
    "    .config(\"spark.sql.warehouse.dir\", warehouse_location) \\\n",
    "    .enableHiveSupport() \\\n",
    "    .getOrCreate()"
   ]
  },
  {
   "cell_type": "markdown",
   "metadata": {},
   "source": [
    "#### Verify Spark Driver -  Spark Session"
   ]
  },
  {
   "cell_type": "code",
   "execution_count": 3,
   "metadata": {
    "scrolled": true
   },
   "outputs": [
    {
     "data": {
      "text/html": [
       "\n",
       "            <div>\n",
       "                <p><b>SparkSession - hive</b></p>\n",
       "                \n",
       "        <div>\n",
       "            <p><b>SparkContext</b></p>\n",
       "\n",
       "            <p><a href=\"http://w.insofe.edu.in:4049\">Spark UI</a></p>\n",
       "\n",
       "            <dl>\n",
       "              <dt>Version</dt>\n",
       "                <dd><code>v2.3.0.2.6.5.0-292</code></dd>\n",
       "              <dt>Master</dt>\n",
       "                <dd><code>local[*]</code></dd>\n",
       "              <dt>AppName</dt>\n",
       "                <dd><code>Machine Learning Example using Spark ML</code></dd>\n",
       "            </dl>\n",
       "        </div>\n",
       "        \n",
       "            </div>\n",
       "        "
      ],
      "text/plain": [
       "<pyspark.sql.session.SparkSession at 0x29092d0>"
      ]
     },
     "execution_count": 3,
     "metadata": {},
     "output_type": "execute_result"
    }
   ],
   "source": [
    "## Verify Spark Session\n",
    "spark"
   ]
  },
  {
   "cell_type": "markdown",
   "metadata": {},
   "source": [
    "## Read data and analyse using SparkML"
   ]
  },
  {
   "cell_type": "markdown",
   "metadata": {},
   "source": [
    "### Bank Marketing Example\n",
    "we are going to use an example throughout this activity for bank marketing.\n",
    "Signet bank is the company that started with capital one.\n",
    "\n",
    "It was a small unknown bank that learned based on its prior data can actually better market to right customers to give them credit cards\n",
    "they did this back in 1980s before data science is really a thing and since then they've grown to one of largest credit card brands in the world largely based on using data.\n",
    "\n",
    "**“data on the specific transactions of a bank’s customers can improve models for deciding what product offers to make.”** - Data Science for Business, Provost, Foster - O’Reilly 2013\n",
    "\n",
    "#### But …\n",
    "**given a set of examples how do I get training data to the function (i.e. model)?**\n",
    "![ML4](./Images/ml4.png)"
   ]
  },
  {
   "cell_type": "markdown",
   "metadata": {},
   "source": [
    "### Data Representation\n",
    "- **Pandas** - DataFrames represented on a single machine as Python data structures\n",
    "- **RDDs** - Spark’s foundational structure Resilient Distributed Dataset is represented as a reference to partitioned data without types\n",
    "- **DataFrames** - Spark’s strongly typed optimized distributed collection of rows\n",
    "\n",
    "**All ML Algorithms need to represent data as vectors (array of Double values) in order to train machine learning algorithms**"
   ]
  },
  {
   "cell_type": "markdown",
   "metadata": {},
   "source": [
    "## ML Pipelines\n",
    "ML Pipelines provide a uniform set of high-level APIs built on top of DataFrames that help users create and tune practical machine learning pipelines and this concept is mostly inspired by the scikit-learn project.\n",
    "\n",
    "![MLP1](./Images/mlp1.png)\n",
    "<br>\n",
    "![MLP2](./Images/mlp2.png)"
   ]
  },
  {
   "cell_type": "markdown",
   "metadata": {},
   "source": [
    "### SPARK Architecture\n",
    "![Spark Architecture](./Images/sa.png)"
   ]
  },
  {
   "cell_type": "markdown",
   "metadata": {},
   "source": [
    "### Single vs Distributed Machine Learning\n",
    "\n",
    "#### Single Machine Learning\n",
    "- In a single machine algorithm such as scikit-learn, the data isloaded into the memory of a single machine (usually as Pandas or\n",
    "NumPy vectors)\n",
    "- The single machine algorithm iterates (loops) over the data in memory and using a single thread (sometimes multicore) takes a\n",
    "\"guess\" at the equation\n",
    "- The error is calculated and if the error from the previous iteration is less than the tolerance or the iterations are >= max iterations then STOP<br>\n",
    "\n",
    "#### Distributed Machine Learning\n",
    "- In Distributed Machine Learning like Spark MLlib, the data is represented as an RDD or a DataFrame typically in distributed file storage such as S3, Blob Store or HDFS\n",
    "- As a best practice, you should cache the data in memory across the nodes so that multiple iterations don’t have to query the disk each time\n",
    "- The calculation of the gradients is distributed across all the nodes using Spark's distributed compute engine (similar to MapReduce)\n",
    "- After each iteration, the results return to the driver and iterations continue until eithermax_iter or tol is reached\n"
   ]
  },
  {
   "cell_type": "markdown",
   "metadata": {},
   "source": [
    "### Algorithms\n",
    "![Logistic Regression](./Images/alg1.png)\n",
    "![Logistic Regression Implementations](./Images/alg2.png)\n",
    "![Random Forest](./Images/alg3.png)\n",
    "![Distributed Random Forest](./Images/alg4.png)"
   ]
  },
  {
   "cell_type": "markdown",
   "metadata": {},
   "source": [
    "## Spark ML Demonstration"
   ]
  },
  {
   "cell_type": "markdown",
   "metadata": {},
   "source": [
    "#### Load Dependent Libraries"
   ]
  },
  {
   "cell_type": "markdown",
   "metadata": {},
   "source": [
    "#### Spark libraries"
   ]
  },
  {
   "cell_type": "code",
   "execution_count": 6,
   "metadata": {
    "collapsed": true
   },
   "outputs": [],
   "source": [
    "from pyspark.sql.types import *\n",
    "from pyspark.sql.functions import *"
   ]
  },
  {
   "cell_type": "code",
   "execution_count": 7,
   "metadata": {
    "collapsed": true
   },
   "outputs": [],
   "source": [
    "import numpy as np\n",
    "import StringIO\n",
    "import pandas as pd\n",
    "import warnings"
   ]
  },
  {
   "cell_type": "code",
   "execution_count": 6,
   "metadata": {},
   "outputs": [
    {
     "data": {
      "text/html": [
       "<script type=\"text/javascript\">window.PlotlyConfig = {MathJaxConfig: 'local'};</script><script type=\"text/javascript\">if (window.MathJax) {MathJax.Hub.Config({SVG: {font: \"STIX-Web\"}});}</script><script>requirejs.config({paths: { 'plotly': ['https://cdn.plot.ly/plotly-latest.min']},});if(!window._Plotly) {require(['plotly'],function(plotly) {window._Plotly=plotly;});}</script>"
      ],
      "text/vnd.plotly.v1+html": [
       "<script type=\"text/javascript\">window.PlotlyConfig = {MathJaxConfig: 'local'};</script><script type=\"text/javascript\">if (window.MathJax) {MathJax.Hub.Config({SVG: {font: \"STIX-Web\"}});}</script><script>requirejs.config({paths: { 'plotly': ['https://cdn.plot.ly/plotly-latest.min']},});if(!window._Plotly) {require(['plotly'],function(plotly) {window._Plotly=plotly;});}</script>"
      ]
     },
     "metadata": {},
     "output_type": "display_data"
    }
   ],
   "source": [
    "# Plotting libraries\n",
    "import matplotlib.pyplot as plt\n",
    "import seaborn as sns\n",
    "\n",
    "import plotly\n",
    "plotly.tools.set_credentials_file(username='<your_user_id>', api_key='<your_API_Key>')\n",
    "\n",
    "import plotly.figure_factory as ff\n",
    "import plotly.plotly as py\n",
    "import plotly.offline as pyoff\n",
    "import plotly.graph_objs as go\n",
    "\n",
    "# Initializing some settings\n",
    "sns.set_style('whitegrid')\n",
    "sns.set(color_codes=True)\n",
    "warnings.filterwarnings('ignore')\n",
    "pyoff.init_notebook_mode(connected=True)\n",
    "get_ipython().magic('matplotlib inline')"
   ]
  },
  {
   "cell_type": "markdown",
   "metadata": {},
   "source": [
    "#### Problem Statement\n",
    "The dataset is from a bank, data related to direct marketing campaigns of a Portuguese banking institution. The marketing campaigns were based on phone calls. Often, more than one contact to the same client was required, to access if the product (bank term deposit) would be (or not) subscribed. The data and attribute description are in the folder.\n",
    "\n",
    "#### Dataset Description\n",
    "The dataset has the following attributes:\n",
    "<br>1 - unique sequence id\n",
    "<br>2 - age (numeric)\n",
    "<br>3 - job : type of job (categorical: \"admin.\",\"unknown\",\"unemployed\",\"management\",\"housemaid\",\"entrepreneur\",\"student\", \"blue-collar\",\"self-employed\",\"retired\",\"technician\",\"services\")\n",
    "<br>4 - marital_status : marital status (categorical: \"married\",\"divorced\",\"single\"; note: \"divorced\" means divorced or widowed)\n",
    "<br>5 - education (categorical: \"unknown\",\"secondary\",\"primary\",\"tertiary\")\n",
    "<br>6 - default: has credit in default? (binary: \"yes\",\"no\")\n",
    "<br>7 - balance: average yearly balance, in euros (numeric)\n",
    "<br>8 - housing: has housing loan? (binary: \"yes\",\"no\")\n",
    "<br>9 - loan: has personal loan? (binary: \"yes\",\"no\")\n",
    "<br>10 - contact: contact communication type (categorical: \"unknown\",\"telephone\",\"cellular\")\n",
    "<br>11 - day: last contact day of the month (numeric)\n",
    "<br>12 - month: last contact month of year (categorical: \"jan\", \"feb\", \"mar\", ..., \"nov\", \"dec\")\n",
    "<br>13 - duration: last contact duration, in seconds (numeric)\n",
    "<br>14 - campaign: number of contacts performed during this campaign and for this client (numeric, includes last contact)\n",
    "<br>15 - pdays: number of days that passed by after the client was last contacted from a previous campaign (numeric, -1 means client was not previously contacted)\n",
    "<br>16 - previous: number of contacts performed before this campaign and for this client (numeric)\n",
    "<br>17 - poutcome: outcome of the previous marketing campaign (categorical: \"unknown\",\"other\",\"failure\",\"success\")\n",
    "<br>**18 - opened_new_td_act_no_yes - has the client subscribed to a term deposit? (binary: \"yes\",\"no\")**"
   ]
  },
  {
   "cell_type": "markdown",
   "metadata": {},
   "source": [
    "<html>\n",
    "<font color=\"blue\">\n",
    "<br>\n",
    "The idea is we have set of information about a person whether its their age the job they have the marital status whether they have loan with the bank or not etc. we're trying to decide here is whether this person open a new deposit account with this bank.\n",
    "</br><br><br>\n",
    "So the theory here is that if I can better target the right customers with the right offer at right time they'll convert over to actually open a deposit account with the bank so that I don't have to reach out whole population and waste a lot of money with ads or mailer or what ever have you but target only the perspective customers.\n",
    "</br></font>\n",
    "</html>"
   ]
  },
  {
   "cell_type": "markdown",
   "metadata": {},
   "source": [
    "#### Define the schema for the dataset and use this to create the DataFrame"
   ]
  },
  {
   "cell_type": "code",
   "execution_count": 4,
   "metadata": {},
   "outputs": [
    {
     "name": "stdout",
     "output_type": "stream",
     "text": [
      "/nfsroot/data/home/jayantm/Batches/Batch48/SparkML\r\n"
     ]
    }
   ],
   "source": [
    "!pwd"
   ]
  },
  {
   "cell_type": "code",
   "execution_count": 8,
   "metadata": {
    "collapsed": true
   },
   "outputs": [],
   "source": [
    "## Define Schema\n",
    "bankDataSchema = StructType([\n",
    "         StructField(\"age\", IntegerType(), True),\n",
    "         StructField(\"job\", StringType(), True),\n",
    "         StructField(\"marital_status\", StringType(), True),\n",
    "         StructField(\"education\", StringType(), True),\n",
    "         StructField(\"default\", StringType(), True),\n",
    "         StructField(\"balance\", DoubleType(), True),\n",
    "         StructField(\"housing\", StringType(), True),\n",
    "         StructField(\"loan\", StringType(), True),        \n",
    "         StructField(\"contact\", StringType(), True),\n",
    "         StructField(\"day\", IntegerType(), True),\n",
    "         StructField(\"month\", StringType(), True),\n",
    "         StructField(\"duration\", DoubleType(), True),\n",
    "         StructField(\"campaign\", DoubleType(), True),\n",
    "         StructField(\"pdays\", DoubleType(), True),\n",
    "         StructField(\"previous\", DoubleType(), True),\n",
    "         StructField(\"poutcome\", StringType(), True),\n",
    "         StructField(\"opened_new_td_act_no_yes\", StringType(), True)])"
   ]
  },
  {
   "cell_type": "markdown",
   "metadata": {},
   "source": [
    "#### Using the above schema read data and create DataFrame"
   ]
  },
  {
   "cell_type": "code",
   "execution_count": 9,
   "metadata": {
    "collapsed": true
   },
   "outputs": [],
   "source": [
    "# Reading and create from local files\n",
    "bankDF = spark.read.format(\"csv\")\\\n",
    "        .option(\"header\", \"false\")\\\n",
    "        .option(\"inferSchema\", \"true\")\\\n",
    "        .load(\"file:///home/jayantm/Batches/Batch48/SparkML/bank_data.csv\", schema = bankDataSchema)\n",
    "\n",
    "# Reading and create from HDFS\n",
    "# bankDF = spark.read.format(\"csv\")\\\n",
    "#         .option(\"header\", \"false\")\\\n",
    "#         .option(\"inferSchema\", \"true\")\\\n",
    "#         .load(\"/user/rameshm/<path>/bank_data.csv\", schema = bankDataSchema)\n",
    "        \n",
    "# bankDF = spark.read.format(\"csv\")\\\n",
    "#         .option(\"header\", \"false\")\\\n",
    "#         .option(\"inferSchema\", \"true\")\\\n",
    "#         .load(\"hdfs:///user/rameshm/<path>/bank_data.csv\", schema = bankDataSchema)"
   ]
  },
  {
   "cell_type": "markdown",
   "metadata": {},
   "source": [
    "#### Verify Schema"
   ]
  },
  {
   "cell_type": "code",
   "execution_count": 9,
   "metadata": {
    "scrolled": true
   },
   "outputs": [
    {
     "name": "stdout",
     "output_type": "stream",
     "text": [
      "root\n",
      " |-- age: integer (nullable = true)\n",
      " |-- job: string (nullable = true)\n",
      " |-- marital_status: string (nullable = true)\n",
      " |-- education: string (nullable = true)\n",
      " |-- default: string (nullable = true)\n",
      " |-- balance: double (nullable = true)\n",
      " |-- housing: string (nullable = true)\n",
      " |-- loan: string (nullable = true)\n",
      " |-- contact: string (nullable = true)\n",
      " |-- day: integer (nullable = true)\n",
      " |-- month: string (nullable = true)\n",
      " |-- duration: double (nullable = true)\n",
      " |-- campaign: double (nullable = true)\n",
      " |-- pdays: double (nullable = true)\n",
      " |-- previous: double (nullable = true)\n",
      " |-- poutcome: string (nullable = true)\n",
      " |-- opened_new_td_act_no_yes: string (nullable = true)\n",
      "\n"
     ]
    }
   ],
   "source": [
    "bankDF.printSchema()"
   ]
  },
  {
   "cell_type": "markdown",
   "metadata": {},
   "source": [
    "#### Check datatype of each column/field/attribute/feature"
   ]
  },
  {
   "cell_type": "code",
   "execution_count": 10,
   "metadata": {
    "scrolled": true
   },
   "outputs": [
    {
     "data": {
      "text/plain": [
       "[('age', 'int'),\n",
       " ('job', 'string'),\n",
       " ('marital_status', 'string'),\n",
       " ('education', 'string'),\n",
       " ('default', 'string'),\n",
       " ('balance', 'double'),\n",
       " ('housing', 'string'),\n",
       " ('loan', 'string'),\n",
       " ('contact', 'string'),\n",
       " ('day', 'int'),\n",
       " ('month', 'string'),\n",
       " ('duration', 'double'),\n",
       " ('campaign', 'double'),\n",
       " ('pdays', 'double'),\n",
       " ('previous', 'double'),\n",
       " ('poutcome', 'string'),\n",
       " ('opened_new_td_act_no_yes', 'string')]"
      ]
     },
     "execution_count": 10,
     "metadata": {},
     "output_type": "execute_result"
    }
   ],
   "source": [
    "bankDF.dtypes"
   ]
  },
  {
   "cell_type": "markdown",
   "metadata": {},
   "source": [
    "#### Cache DataFrame\n",
    "Calling cache on the DataFrame will make sure we persist it in memory the first time it is used.\n",
    "<br>The following uses will be able to read from memory, instead of re-reading the data from disk."
   ]
  },
  {
   "cell_type": "code",
   "execution_count": 11,
   "metadata": {},
   "outputs": [
    {
     "data": {
      "text/plain": [
       "DataFrame[age: int, job: string, marital_status: string, education: string, default: string, balance: double, housing: string, loan: string, contact: string, day: int, month: string, duration: double, campaign: double, pdays: double, previous: double, poutcome: string, opened_new_td_act_no_yes: string]"
      ]
     },
     "execution_count": 11,
     "metadata": {},
     "output_type": "execute_result"
    }
   ],
   "source": [
    "bankDF.cache()"
   ]
  },
  {
   "cell_type": "markdown",
   "metadata": {},
   "source": [
    "#### Verify first few records"
   ]
  },
  {
   "cell_type": "code",
   "execution_count": 12,
   "metadata": {
    "scrolled": true
   },
   "outputs": [
    {
     "data": {
      "text/plain": [
       "[Row(age=30, job=u'unemployed', marital_status=u'married', education=u'primary', default=u'no', balance=1787.0, housing=u'no', loan=u'no', contact=u'cellular', day=19, month=u'oct', duration=79.0, campaign=1.0, pdays=-1.0, previous=0.0, poutcome=u'unknown', opened_new_td_act_no_yes=u'no'),\n",
       " Row(age=33, job=u'services', marital_status=u'married', education=u'secondary', default=u'no', balance=4789.0, housing=u'yes', loan=u'yes', contact=u'cellular', day=11, month=u'may', duration=220.0, campaign=1.0, pdays=339.0, previous=4.0, poutcome=u'failure', opened_new_td_act_no_yes=u'no')]"
      ]
     },
     "execution_count": 12,
     "metadata": {},
     "output_type": "execute_result"
    }
   ],
   "source": [
    "## To Show first n observations\n",
    "## Use head operation to see first n observations (say, 10 observations). \n",
    "## Head operation in PySpark is similar to head operation in Pandas.\n",
    "bankDF.take(2)"
   ]
  },
  {
   "cell_type": "code",
   "execution_count": 13,
   "metadata": {
    "scrolled": true
   },
   "outputs": [
    {
     "name": "stdout",
     "output_type": "stream",
     "text": [
      "+---+----------+--------------+---------+-------+-------+-------+----+--------+---+-----+--------+--------+-----+--------+--------+------------------------+\n",
      "|age|       job|marital_status|education|default|balance|housing|loan| contact|day|month|duration|campaign|pdays|previous|poutcome|opened_new_td_act_no_yes|\n",
      "+---+----------+--------------+---------+-------+-------+-------+----+--------+---+-----+--------+--------+-----+--------+--------+------------------------+\n",
      "| 30|unemployed|       married|  primary|     no| 1787.0|     no|  no|cellular| 19|  oct|    79.0|     1.0| -1.0|     0.0| unknown|                      no|\n",
      "| 33|  services|       married|secondary|     no| 4789.0|    yes| yes|cellular| 11|  may|   220.0|     1.0|339.0|     4.0| failure|                      no|\n",
      "+---+----------+--------------+---------+-------+-------+-------+----+--------+---+-----+--------+--------+-----+--------+--------+------------------------+\n",
      "only showing top 2 rows\n",
      "\n"
     ]
    }
   ],
   "source": [
    "## Above results are comprised of row like format. \n",
    "## To see the result in more interactive manner (rows under the columns), Use the show operation. \n",
    "## Show operation on train and take first 5 rows of it. \n",
    "bankDF.show(2)"
   ]
  },
  {
   "cell_type": "markdown",
   "metadata": {},
   "source": [
    "#### Verify the total rows and columns"
   ]
  },
  {
   "cell_type": "code",
   "execution_count": 14,
   "metadata": {},
   "outputs": [
    {
     "name": "stdout",
     "output_type": "stream",
     "text": [
      "Total records count is 4521\n",
      "Total Columns count is 17\n",
      "\n",
      "\n",
      "Columns are: ['age', 'job', 'marital_status', 'education', 'default', 'balance', 'housing', 'loan', 'contact', 'day', 'month', 'duration', 'campaign', 'pdays', 'previous', 'poutcome', 'opened_new_td_act_no_yes'] \n",
      "\n"
     ]
    }
   ],
   "source": [
    "## To Count the number of rows in DataFrame\n",
    "print('Total records count is {}'.format(bankDF.count()))\n",
    "## Columns count and column names\n",
    "print(\"Total Columns count is {}\".format(len(bankDF.columns)))\n",
    "print(\"\\n\\nColumns are: {} \\n\".format(bankDF.columns))"
   ]
  },
  {
   "cell_type": "markdown",
   "metadata": {},
   "source": [
    "#### Verify the Summary Statistics"
   ]
  },
  {
   "cell_type": "code",
   "execution_count": 15,
   "metadata": {
    "scrolled": true
   },
   "outputs": [
    {
     "name": "stdout",
     "output_type": "stream",
     "text": [
      "+-------+------------------+-------+--------------+---------+-------+------------------+-------+----+--------+------------------+-----+------------------+------------------+------------------+------------------+--------+------------------------+\n",
      "|summary|               age|    job|marital_status|education|default|           balance|housing|loan| contact|               day|month|          duration|          campaign|             pdays|          previous|poutcome|opened_new_td_act_no_yes|\n",
      "+-------+------------------+-------+--------------+---------+-------+------------------+-------+----+--------+------------------+-----+------------------+------------------+------------------+------------------+--------+------------------------+\n",
      "|  count|              4521|   4521|          4521|     4521|   4521|              4521|   4521|4521|    4521|              4521| 4521|              4521|              4521|              4521|              4521|    4521|                    4521|\n",
      "|   mean| 41.17009511170095|   null|          null|     null|   null|1422.6578190665782|   null|null|    null|15.915284229152842| null|263.96129174961294| 2.793629727936297|39.766644547666445|0.5425790754257908|    null|                    null|\n",
      "| stddev|10.576210958711263|   null|          null|     null|   null|3009.6381424673395|   null|null|    null| 8.247667327229934| null|259.85663262468216|3.1098066601885823|100.12112444301656|1.6935623506071211|    null|                    null|\n",
      "|    min|                19| admin.|      divorced|  primary|     no|           -3313.0|     no|  no|cellular|                 1|  apr|               4.0|               1.0|              -1.0|               0.0| failure|                      no|\n",
      "|    max|                87|unknown|        single|  unknown|    yes|           71188.0|    yes| yes| unknown|                31|  sep|            3025.0|              50.0|             871.0|              25.0| unknown|                     yes|\n",
      "+-------+------------------+-------+--------------+---------+-------+------------------+-------+----+--------+------------------+-----+------------------+------------------+------------------+------------------+--------+------------------------+\n",
      "\n"
     ]
    }
   ],
   "source": [
    "## To get the summary statistics (mean, standard deviance, min ,max , count) of columns in a DataFrame\n",
    "bankDF.describe().show()"
   ]
  },
  {
   "cell_type": "code",
   "execution_count": 16,
   "metadata": {
    "scrolled": false
   },
   "outputs": [
    {
     "name": "stdout",
     "output_type": "stream",
     "text": [
      "+-------+------------------+----+------------------+------------------+\n",
      "|summary|               age|loan|           balance|             pdays|\n",
      "+-------+------------------+----+------------------+------------------+\n",
      "|  count|              4521|4521|              4521|              4521|\n",
      "|   mean| 41.17009511170095|null|1422.6578190665782|39.766644547666445|\n",
      "| stddev|10.576210958711263|null|3009.6381424673395|100.12112444301656|\n",
      "|    min|                19|  no|           -3313.0|              -1.0|\n",
      "|    max|                87| yes|           71188.0|             871.0|\n",
      "+-------+------------------+----+------------------+------------------+\n",
      "\n"
     ]
    }
   ],
   "source": [
    "## Verify summary stats for few fields\n",
    "bankDF.describe().select('summary', 'age', 'loan', 'balance', 'pdays').show()"
   ]
  },
  {
   "cell_type": "markdown",
   "metadata": {},
   "source": [
    "#### Distinct values count in each column"
   ]
  },
  {
   "cell_type": "code",
   "execution_count": 17,
   "metadata": {},
   "outputs": [
    {
     "name": "stdout",
     "output_type": "stream",
     "text": [
      "+---+---+--------------+---------+-------+-------+-------+----+-------+---+-----+--------+--------+-----+--------+--------+------------------------+\n",
      "|age|job|marital_status|education|default|balance|housing|loan|contact|day|month|duration|campaign|pdays|previous|poutcome|opened_new_td_act_no_yes|\n",
      "+---+---+--------------+---------+-------+-------+-------+----+-------+---+-----+--------+--------+-----+--------+--------+------------------------+\n",
      "| 67| 12|             3|        4|      2|   2353|      2|   2|      3| 31|   12|     875|      32|  292|      24|       4|                       2|\n",
      "+---+---+--------------+---------+-------+-------+-------+----+-------+---+-----+--------+--------+-----+--------+--------+------------------------+\n",
      "\n"
     ]
    }
   ],
   "source": [
    "## Find the Distinct values count in each column\n",
    "bankDF.agg(*(countDistinct(col(c)).alias(c) for c in bankDF.columns)).show()"
   ]
  },
  {
   "cell_type": "markdown",
   "metadata": {},
   "source": [
    "#### Maximum values in each column"
   ]
  },
  {
   "cell_type": "code",
   "execution_count": 18,
   "metadata": {},
   "outputs": [
    {
     "name": "stdout",
     "output_type": "stream",
     "text": [
      "+---+-------+--------------+---------+-------+-------+-------+----+-------+---+-----+--------+--------+-----+--------+--------+------------------------+\n",
      "|age|    job|marital_status|education|default|balance|housing|loan|contact|day|month|duration|campaign|pdays|previous|poutcome|opened_new_td_act_no_yes|\n",
      "+---+-------+--------------+---------+-------+-------+-------+----+-------+---+-----+--------+--------+-----+--------+--------+------------------------+\n",
      "| 87|unknown|        single|  unknown|    yes|71188.0|    yes| yes|unknown| 31|  sep|  3025.0|    50.0|871.0|    25.0| unknown|                     yes|\n",
      "+---+-------+--------------+---------+-------+-------+-------+----+-------+---+-----+--------+--------+-----+--------+--------+------------------------+\n",
      "\n"
     ]
    }
   ],
   "source": [
    "## Find maximum value in each column\n",
    "bankDF.agg(*(max(col(c)).alias(c) for c in bankDF.columns)).show()"
   ]
  },
  {
   "cell_type": "markdown",
   "metadata": {},
   "source": [
    "#### Minimum values in each column"
   ]
  },
  {
   "cell_type": "code",
   "execution_count": 19,
   "metadata": {},
   "outputs": [
    {
     "name": "stdout",
     "output_type": "stream",
     "text": [
      "+---+------+--------------+---------+-------+-------+-------+----+--------+---+-----+--------+--------+-----+--------+--------+------------------------+\n",
      "|age|   job|marital_status|education|default|balance|housing|loan| contact|day|month|duration|campaign|pdays|previous|poutcome|opened_new_td_act_no_yes|\n",
      "+---+------+--------------+---------+-------+-------+-------+----+--------+---+-----+--------+--------+-----+--------+--------+------------------------+\n",
      "| 19|admin.|      divorced|  primary|     no|-3313.0|     no|  no|cellular|  1|  apr|     4.0|     1.0| -1.0|     0.0| failure|                      no|\n",
      "+---+------+--------------+---------+-------+-------+-------+----+--------+---+-----+--------+--------+-----+--------+--------+------------------------+\n",
      "\n"
     ]
    }
   ],
   "source": [
    "## Find maximum value in each column\n",
    "bankDF.agg(*(min(col(c)).alias(c) for c in bankDF.columns)).show()"
   ]
  },
  {
   "cell_type": "markdown",
   "metadata": {},
   "source": [
    "#### Observation:\n",
    "The minimum value in the balance column is negative\n",
    "<br>Verify how many such negative values exists in the balance column"
   ]
  },
  {
   "cell_type": "code",
   "execution_count": 20,
   "metadata": {
    "scrolled": false
   },
   "outputs": [
    {
     "name": "stdout",
     "output_type": "stream",
     "text": [
      "Total count of negative values in balance column are: 366\n"
     ]
    }
   ],
   "source": [
    "print(\"Total count of negative values in balance column are: {}\".format(bankDF.where(bankDF.balance < 0).count()))"
   ]
  },
  {
   "cell_type": "markdown",
   "metadata": {},
   "source": [
    "### Data Pre-Processing"
   ]
  },
  {
   "cell_type": "markdown",
   "metadata": {},
   "source": [
    "#### Replace the negative balances with the ZEROES"
   ]
  },
  {
   "cell_type": "code",
   "execution_count": 21,
   "metadata": {},
   "outputs": [
    {
     "data": {
      "text/plain": [
       "0"
      ]
     },
     "execution_count": 21,
     "metadata": {},
     "output_type": "execute_result"
    }
   ],
   "source": [
    "## Replace negative balances with zeroes\n",
    "from pyspark.sql.functions import when\n",
    "bankDF = bankDF.withColumn('balance', when(bankDF.balance > 0, bankDF.balance).otherwise(0))\n",
    "zeroBalance = bankDF.where(bankDF.balance < 0)\n",
    "zeroBalance.count()"
   ]
  },
  {
   "cell_type": "markdown",
   "metadata": {},
   "source": [
    "#### Define a table/view to run sql queries on the dataframe"
   ]
  },
  {
   "cell_type": "code",
   "execution_count": 22,
   "metadata": {
    "collapsed": true
   },
   "outputs": [],
   "source": [
    "## Create view/table\n",
    "bankDF.createOrReplaceTempView(\"bankDFTable\")"
   ]
  },
  {
   "cell_type": "markdown",
   "metadata": {},
   "source": [
    "#### Verify the target distribution"
   ]
  },
  {
   "cell_type": "code",
   "execution_count": 23,
   "metadata": {
    "scrolled": true
   },
   "outputs": [
    {
     "name": "stdout",
     "output_type": "stream",
     "text": [
      "+------------------------+-----+\n",
      "|opened_new_td_act_no_yes|Count|\n",
      "+------------------------+-----+\n",
      "|                      no| 4000|\n",
      "|                     yes|  521|\n",
      "+------------------------+-----+\n",
      "\n"
     ]
    }
   ],
   "source": [
    "## Multiple ways of referring a column in a dataframe\n",
    "resultDF = spark.sql(\"\"\"\n",
    "SELECT opened_new_td_act_no_yes, COUNT(*) AS Count\n",
    "FROM bankDFTable\n",
    "GROUP BY opened_new_td_act_no_yes\n",
    "\"\"\")\n",
    "\n",
    "resultDF.show()"
   ]
  },
  {
   "cell_type": "code",
   "execution_count": 24,
   "metadata": {
    "scrolled": true
   },
   "outputs": [
    {
     "data": {
      "text/html": [
       "<iframe id=\"igraph\" scrolling=\"no\" style=\"border:none;\" seamless=\"seamless\" src=\"https://plot.ly/~mtest/8.embed\" height=\"525px\" width=\"100%\"></iframe>"
      ],
      "text/plain": [
       "<plotly.tools.PlotlyDisplay object>"
      ]
     },
     "execution_count": 24,
     "metadata": {},
     "output_type": "execute_result"
    }
   ],
   "source": [
    "pdDF = resultDF.toPandas()\n",
    "data = [\n",
    "    go.Bar(\n",
    "        x=pdDF['opened_new_td_act_no_yes'], # assign x as the dataframe column 'x'\n",
    "        y=pdDF['Count']\n",
    "    )\n",
    "]\n",
    "layout = go.Layout(title='Term Deposit Opted Yes/No Counts',)\n",
    "fig = go.Figure(data=data, layout=layout)\n",
    "py.iplot(fig, filename='plot_1')"
   ]
  },
  {
   "cell_type": "markdown",
   "metadata": {},
   "source": [
    "#### Pair wise frequency between Target (opened_new_td_act_no_yes) and loan columns"
   ]
  },
  {
   "cell_type": "code",
   "execution_count": 25,
   "metadata": {
    "collapsed": true
   },
   "outputs": [],
   "source": [
    "pdresultDF = bankDF.crosstab(\"opened_new_td_act_no_yes\", \"loan\")"
   ]
  },
  {
   "cell_type": "code",
   "execution_count": 26,
   "metadata": {},
   "outputs": [
    {
     "name": "stdout",
     "output_type": "stream",
     "text": [
      "+-----------------------------+----+---+\n",
      "|opened_new_td_act_no_yes_loan|  no|yes|\n",
      "+-----------------------------+----+---+\n",
      "|                          yes| 478| 43|\n",
      "|                           no|3352|648|\n",
      "+-----------------------------+----+---+\n",
      "\n"
     ]
    }
   ],
   "source": [
    "resultDF.show()"
   ]
  },
  {
   "cell_type": "code",
   "execution_count": 27,
   "metadata": {
    "scrolled": true
   },
   "outputs": [
    {
     "data": {
      "text/html": [
       "<iframe id=\"igraph\" scrolling=\"no\" style=\"border:none;\" seamless=\"seamless\" src=\"https://plot.ly/~mtest/10.embed\" height=\"525px\" width=\"100%\"></iframe>"
      ],
      "text/plain": [
       "<plotly.tools.PlotlyDisplay object>"
      ]
     },
     "execution_count": 27,
     "metadata": {},
     "output_type": "execute_result"
    }
   ],
   "source": [
    "pdDF = resultDF.toPandas()\n",
    "pdDF.columns = ['opened_new_td_act_no_yes', 'No_Existing_Loans', 'Existing_Loan']\n",
    "trace1 = go.Bar(\n",
    "    x=['Opted for TD', 'Not Opted for TD'],\n",
    "    y=pdDF['No_Existing_Loans'],\n",
    "    name='No Existing Loans'\n",
    ")\n",
    "\n",
    "trace2 = go.Bar(\n",
    "    x=['Opted for TD', 'Not Opted for TD'],\n",
    "    y=pdDF['Existing_Loan'],\n",
    "    name='Existing Loans'\n",
    ")\n",
    "\n",
    "data = [trace1, trace2]\n",
    "layout = go.Layout(\n",
    "    title='Term Deposit Accounts vs Existing Loan Counts',\n",
    "    barmode='group'\n",
    ")\n",
    "\n",
    "fig = go.Figure(data=data, layout=layout)\n",
    "py.iplot(fig, filename='plot_2')"
   ]
  },
  {
   "cell_type": "markdown",
   "metadata": {},
   "source": [
    "#### Term Deposit Opted Counts for different job categories"
   ]
  },
  {
   "cell_type": "code",
   "execution_count": 28,
   "metadata": {
    "collapsed": true
   },
   "outputs": [],
   "source": [
    "resultDF = spark.sql(\"\"\"\n",
    "SELECT \n",
    "    job,\n",
    "    COUNT(*) AS term_deposit_yes_cnt\n",
    "    FROM bankDFTable \n",
    "    WHERE opened_new_td_act_no_yes = \"yes\"\n",
    "    GROUP BY job\n",
    "\"\"\")"
   ]
  },
  {
   "cell_type": "code",
   "execution_count": 29,
   "metadata": {
    "scrolled": true
   },
   "outputs": [
    {
     "data": {
      "text/html": [
       "<iframe id=\"igraph\" scrolling=\"no\" style=\"border:none;\" seamless=\"seamless\" src=\"https://plot.ly/~mtest/12.embed\" height=\"525px\" width=\"100%\"></iframe>"
      ],
      "text/plain": [
       "<plotly.tools.PlotlyDisplay object>"
      ]
     },
     "execution_count": 29,
     "metadata": {},
     "output_type": "execute_result"
    }
   ],
   "source": [
    "pdDF = resultDF.toPandas()\n",
    "data = [\n",
    "    go.Bar(\n",
    "        x=pdDF['job'], # assign x as the dataframe column 'x'\n",
    "        y=pdDF['term_deposit_yes_cnt']\n",
    "    )\n",
    "]\n",
    "layout = go.Layout(title='Term Deposit Opted Counts in each Job Category',)\n",
    "fig = go.Figure(data=data, layout=layout)\n",
    "py.iplot(fig, filename='plot_3')"
   ]
  },
  {
   "cell_type": "markdown",
   "metadata": {},
   "source": [
    "#### Term Deposit Not-Opted Counts for different job categories"
   ]
  },
  {
   "cell_type": "code",
   "execution_count": 30,
   "metadata": {
    "collapsed": true
   },
   "outputs": [],
   "source": [
    "resultDF = spark.sql(\"\"\"\n",
    "SELECT \n",
    "    job,\n",
    "    COUNT(*) AS term_deposit_no_cnt\n",
    "    FROM bankDFTable \n",
    "    WHERE opened_new_td_act_no_yes = \"no\"\n",
    "    GROUP BY job\n",
    "\"\"\")"
   ]
  },
  {
   "cell_type": "code",
   "execution_count": 31,
   "metadata": {},
   "outputs": [
    {
     "data": {
      "text/html": [
       "<iframe id=\"igraph\" scrolling=\"no\" style=\"border:none;\" seamless=\"seamless\" src=\"https://plot.ly/~mtest/14.embed\" height=\"525px\" width=\"100%\"></iframe>"
      ],
      "text/plain": [
       "<plotly.tools.PlotlyDisplay object>"
      ]
     },
     "execution_count": 31,
     "metadata": {},
     "output_type": "execute_result"
    }
   ],
   "source": [
    "pdDF = resultDF.toPandas()\n",
    "data = [\n",
    "    go.Bar(\n",
    "        x=pdDF['job'], # assign x as the dataframe column 'x'\n",
    "        y=pdDF['term_deposit_no_cnt']\n",
    "    )\n",
    "]\n",
    "layout = go.Layout(title='Term Deposit Count in each Job Category',)\n",
    "fig = go.Figure(data=data, layout=layout)\n",
    "py.iplot(fig, filename='plot_4')"
   ]
  },
  {
   "cell_type": "markdown",
   "metadata": {},
   "source": [
    "#### Term Deposits Counts for different education levels"
   ]
  },
  {
   "cell_type": "code",
   "execution_count": 32,
   "metadata": {
    "collapsed": true
   },
   "outputs": [],
   "source": [
    "resultDF = bankDF.filter(expr(\"opened_new_td_act_no_yes = 'yes'\")).groupBy(\"education\").count()"
   ]
  },
  {
   "cell_type": "code",
   "execution_count": 33,
   "metadata": {},
   "outputs": [
    {
     "name": "stdout",
     "output_type": "stream",
     "text": [
      "+---------+-----+\n",
      "|education|count|\n",
      "+---------+-----+\n",
      "|  unknown|   19|\n",
      "| tertiary|  193|\n",
      "|secondary|  245|\n",
      "|  primary|   64|\n",
      "+---------+-----+\n",
      "\n"
     ]
    }
   ],
   "source": [
    "resultDF.show()"
   ]
  },
  {
   "cell_type": "code",
   "execution_count": 34,
   "metadata": {
    "scrolled": true
   },
   "outputs": [
    {
     "data": {
      "text/html": [
       "<iframe id=\"igraph\" scrolling=\"no\" style=\"border:none;\" seamless=\"seamless\" src=\"https://plot.ly/~mtest/16.embed\" height=\"525px\" width=\"100%\"></iframe>"
      ],
      "text/plain": [
       "<plotly.tools.PlotlyDisplay object>"
      ]
     },
     "execution_count": 34,
     "metadata": {},
     "output_type": "execute_result"
    }
   ],
   "source": [
    "pdDF = resultDF.toPandas()\n",
    "data = [\n",
    "    go.Bar(\n",
    "        x=pdDF['education'], # assign x as the dataframe column 'x'\n",
    "        y=pdDF['count']\n",
    "    )\n",
    "]\n",
    "layout = go.Layout(title='Term Deposit Opted Count in each Education Level',)\n",
    "fig = go.Figure(data=data, layout=layout)\n",
    "py.iplot(fig, filename='plot_5')"
   ]
  },
  {
   "cell_type": "code",
   "execution_count": 35,
   "metadata": {
    "collapsed": true
   },
   "outputs": [],
   "source": [
    "resultDF = bankDF.filter(expr(\"opened_new_td_act_no_yes = 'no'\")).groupBy(\"education\").count()"
   ]
  },
  {
   "cell_type": "code",
   "execution_count": 36,
   "metadata": {},
   "outputs": [
    {
     "data": {
      "text/html": [
       "<iframe id=\"igraph\" scrolling=\"no\" style=\"border:none;\" seamless=\"seamless\" src=\"https://plot.ly/~mtest/18.embed\" height=\"525px\" width=\"100%\"></iframe>"
      ],
      "text/plain": [
       "<plotly.tools.PlotlyDisplay object>"
      ]
     },
     "execution_count": 36,
     "metadata": {},
     "output_type": "execute_result"
    }
   ],
   "source": [
    "pdDF = resultDF.toPandas()\n",
    "data = [\n",
    "    go.Bar(\n",
    "        x=pdDF['education'], # assign x as the dataframe column 'x'\n",
    "        y=pdDF['count']\n",
    "    )\n",
    "]\n",
    "layout = go.Layout(title='Term Deposit Not-Opted Count in each Education Level',)\n",
    "fig = go.Figure(data=data, layout=layout)\n",
    "py.iplot(fig, filename='plot_6')"
   ]
  },
  {
   "cell_type": "markdown",
   "metadata": {},
   "source": [
    "#### Pair wise frequency between Target (opened_new_td_act_no_yes) and marital_status columns"
   ]
  },
  {
   "cell_type": "code",
   "execution_count": 37,
   "metadata": {
    "collapsed": true
   },
   "outputs": [],
   "source": [
    "resultDF = bankDF.crosstab('opened_new_td_act_no_yes', 'marital_status')"
   ]
  },
  {
   "cell_type": "code",
   "execution_count": 38,
   "metadata": {},
   "outputs": [
    {
     "name": "stdout",
     "output_type": "stream",
     "text": [
      "+---------------------------------------+--------+-------+------+\n",
      "|opened_new_td_act_no_yes_marital_status|divorced|married|single|\n",
      "+---------------------------------------+--------+-------+------+\n",
      "|                                    yes|      77|    277|   167|\n",
      "|                                     no|     451|   2520|  1029|\n",
      "+---------------------------------------+--------+-------+------+\n",
      "\n"
     ]
    }
   ],
   "source": [
    "resultDF.show()"
   ]
  },
  {
   "cell_type": "code",
   "execution_count": 39,
   "metadata": {
    "collapsed": true
   },
   "outputs": [],
   "source": [
    "resultDF = spark.sql(\"\"\"\n",
    "SELECT opened_new_td_act_no_yes,\n",
    "    SUM(CASE WHEN marital_status = 'divorced' THEN 1 ELSE 0 END) divorced_Count,\n",
    "    SUM(CASE WHEN marital_status = 'married' THEN 1 ELSE 0 END) married_Count,\n",
    "    SUM(CASE WHEN marital_status = 'single' THEN 1 ELSE 0 END) single_Count\n",
    "from bankDFTable\n",
    "GROUP BY opened_new_td_act_no_yes\n",
    "\"\"\")"
   ]
  },
  {
   "cell_type": "code",
   "execution_count": 40,
   "metadata": {},
   "outputs": [
    {
     "name": "stdout",
     "output_type": "stream",
     "text": [
      "+------------------------+--------------+-------------+------------+\n",
      "|opened_new_td_act_no_yes|divorced_Count|married_Count|single_Count|\n",
      "+------------------------+--------------+-------------+------------+\n",
      "|                      no|           451|         2520|        1029|\n",
      "|                     yes|            77|          277|         167|\n",
      "+------------------------+--------------+-------------+------------+\n",
      "\n"
     ]
    }
   ],
   "source": [
    "resultDF.show()"
   ]
  },
  {
   "cell_type": "code",
   "execution_count": 41,
   "metadata": {},
   "outputs": [
    {
     "data": {
      "text/html": [
       "<iframe id=\"igraph\" scrolling=\"no\" style=\"border:none;\" seamless=\"seamless\" src=\"https://plot.ly/~mtest/20.embed\" height=\"525px\" width=\"100%\"></iframe>"
      ],
      "text/plain": [
       "<plotly.tools.PlotlyDisplay object>"
      ]
     },
     "execution_count": 41,
     "metadata": {},
     "output_type": "execute_result"
    }
   ],
   "source": [
    "pdDF = resultDF.toPandas()\n",
    "trace1 = go.Bar(\n",
    "    x=pdDF['opened_new_td_act_no_yes'],\n",
    "    y=pdDF['divorced_Count'],\n",
    "    name='Divorced Count'\n",
    ")\n",
    "\n",
    "trace2 = go.Bar(\n",
    "    x=pdDF['opened_new_td_act_no_yes'],\n",
    "    y=pdDF['married_Count'],\n",
    "    name='Married Count'\n",
    ")\n",
    "\n",
    "trace3 = go.Bar(\n",
    "    x=pdDF['opened_new_td_act_no_yes'],\n",
    "    y=pdDF['single_Count'],\n",
    "    name='Single Count'\n",
    ")\n",
    "\n",
    "data = [trace1, trace2, trace3]\n",
    "layout = go.Layout(\n",
    "    title='term depoisit opted/not-opted vs marital_status Counts',\n",
    "    barmode='group'\n",
    ")\n",
    "\n",
    "fig = go.Figure(data=data, layout=layout)\n",
    "py.iplot(fig, filename='plot_7')"
   ]
  },
  {
   "cell_type": "markdown",
   "metadata": {},
   "source": [
    "#### Pair wise frequency between Target (opened_new_td_act_no_yes) and default columns"
   ]
  },
  {
   "cell_type": "code",
   "execution_count": 42,
   "metadata": {},
   "outputs": [
    {
     "name": "stdout",
     "output_type": "stream",
     "text": [
      "+--------------------------------+----+---+\n",
      "|default_opened_new_td_act_no_yes|  no|yes|\n",
      "+--------------------------------+----+---+\n",
      "|                             yes|  67|  9|\n",
      "|                              no|3933|512|\n",
      "+--------------------------------+----+---+\n",
      "\n"
     ]
    }
   ],
   "source": [
    "resultDF = bankDF.crosstab('default', 'opened_new_td_act_no_yes')\n",
    "resultDF.show()"
   ]
  },
  {
   "cell_type": "code",
   "execution_count": 43,
   "metadata": {},
   "outputs": [
    {
     "data": {
      "text/html": [
       "<iframe id=\"igraph\" scrolling=\"no\" style=\"border:none;\" seamless=\"seamless\" src=\"https://plot.ly/~mtest/22.embed\" height=\"525px\" width=\"100%\"></iframe>"
      ],
      "text/plain": [
       "<plotly.tools.PlotlyDisplay object>"
      ]
     },
     "execution_count": 43,
     "metadata": {},
     "output_type": "execute_result"
    }
   ],
   "source": [
    "pdDF = resultDF.toPandas()\n",
    "trace1 = go.Bar(\n",
    "    x=['Defaulted_Yes', 'Defaulted_No'],\n",
    "    y=pdDF['no'],\n",
    "    name='Not Opted'\n",
    ")\n",
    "\n",
    "trace2 = go.Bar(\n",
    "    x=['Defaulted_Yes', 'Defaulted_No'],\n",
    "    y=pdDF['yes'],\n",
    "    name='Opted'\n",
    ")\n",
    "\n",
    "data = [trace1, trace2]\n",
    "layout = go.Layout(\n",
    "    title='Default vs term deposit Counts',\n",
    "    barmode='group'\n",
    ")\n",
    "\n",
    "fig = go.Figure(data=data, layout=layout)\n",
    "py.iplot(fig, filename='plot_8')"
   ]
  },
  {
   "cell_type": "markdown",
   "metadata": {},
   "source": [
    "#### Convert Spark DataFrame into Pandas DataFrame"
   ]
  },
  {
   "cell_type": "code",
   "execution_count": 44,
   "metadata": {
    "scrolled": true
   },
   "outputs": [
    {
     "data": {
      "text/html": [
       "<div>\n",
       "<style scoped>\n",
       "    .dataframe tbody tr th:only-of-type {\n",
       "        vertical-align: middle;\n",
       "    }\n",
       "\n",
       "    .dataframe tbody tr th {\n",
       "        vertical-align: top;\n",
       "    }\n",
       "\n",
       "    .dataframe thead th {\n",
       "        text-align: right;\n",
       "    }\n",
       "</style>\n",
       "<table border=\"1\" class=\"dataframe\">\n",
       "  <thead>\n",
       "    <tr style=\"text-align: right;\">\n",
       "      <th></th>\n",
       "      <th>age</th>\n",
       "      <th>job</th>\n",
       "      <th>marital_status</th>\n",
       "      <th>education</th>\n",
       "      <th>default</th>\n",
       "      <th>balance</th>\n",
       "      <th>housing</th>\n",
       "      <th>loan</th>\n",
       "      <th>contact</th>\n",
       "      <th>day</th>\n",
       "      <th>month</th>\n",
       "      <th>duration</th>\n",
       "      <th>campaign</th>\n",
       "      <th>pdays</th>\n",
       "      <th>previous</th>\n",
       "      <th>poutcome</th>\n",
       "      <th>opened_new_td_act_no_yes</th>\n",
       "    </tr>\n",
       "  </thead>\n",
       "  <tbody>\n",
       "    <tr>\n",
       "      <th>0</th>\n",
       "      <td>30</td>\n",
       "      <td>unemployed</td>\n",
       "      <td>married</td>\n",
       "      <td>primary</td>\n",
       "      <td>no</td>\n",
       "      <td>1787.0</td>\n",
       "      <td>no</td>\n",
       "      <td>no</td>\n",
       "      <td>cellular</td>\n",
       "      <td>19</td>\n",
       "      <td>oct</td>\n",
       "      <td>79.0</td>\n",
       "      <td>1.0</td>\n",
       "      <td>-1.0</td>\n",
       "      <td>0.0</td>\n",
       "      <td>unknown</td>\n",
       "      <td>no</td>\n",
       "    </tr>\n",
       "    <tr>\n",
       "      <th>1</th>\n",
       "      <td>33</td>\n",
       "      <td>services</td>\n",
       "      <td>married</td>\n",
       "      <td>secondary</td>\n",
       "      <td>no</td>\n",
       "      <td>4789.0</td>\n",
       "      <td>yes</td>\n",
       "      <td>yes</td>\n",
       "      <td>cellular</td>\n",
       "      <td>11</td>\n",
       "      <td>may</td>\n",
       "      <td>220.0</td>\n",
       "      <td>1.0</td>\n",
       "      <td>339.0</td>\n",
       "      <td>4.0</td>\n",
       "      <td>failure</td>\n",
       "      <td>no</td>\n",
       "    </tr>\n",
       "    <tr>\n",
       "      <th>2</th>\n",
       "      <td>35</td>\n",
       "      <td>management</td>\n",
       "      <td>single</td>\n",
       "      <td>tertiary</td>\n",
       "      <td>no</td>\n",
       "      <td>1350.0</td>\n",
       "      <td>yes</td>\n",
       "      <td>no</td>\n",
       "      <td>cellular</td>\n",
       "      <td>16</td>\n",
       "      <td>apr</td>\n",
       "      <td>185.0</td>\n",
       "      <td>1.0</td>\n",
       "      <td>330.0</td>\n",
       "      <td>1.0</td>\n",
       "      <td>failure</td>\n",
       "      <td>no</td>\n",
       "    </tr>\n",
       "    <tr>\n",
       "      <th>3</th>\n",
       "      <td>30</td>\n",
       "      <td>management</td>\n",
       "      <td>married</td>\n",
       "      <td>tertiary</td>\n",
       "      <td>no</td>\n",
       "      <td>1476.0</td>\n",
       "      <td>yes</td>\n",
       "      <td>yes</td>\n",
       "      <td>unknown</td>\n",
       "      <td>3</td>\n",
       "      <td>jun</td>\n",
       "      <td>199.0</td>\n",
       "      <td>4.0</td>\n",
       "      <td>-1.0</td>\n",
       "      <td>0.0</td>\n",
       "      <td>unknown</td>\n",
       "      <td>no</td>\n",
       "    </tr>\n",
       "    <tr>\n",
       "      <th>4</th>\n",
       "      <td>59</td>\n",
       "      <td>blue-collar</td>\n",
       "      <td>married</td>\n",
       "      <td>secondary</td>\n",
       "      <td>no</td>\n",
       "      <td>0.0</td>\n",
       "      <td>yes</td>\n",
       "      <td>no</td>\n",
       "      <td>unknown</td>\n",
       "      <td>5</td>\n",
       "      <td>may</td>\n",
       "      <td>226.0</td>\n",
       "      <td>1.0</td>\n",
       "      <td>-1.0</td>\n",
       "      <td>0.0</td>\n",
       "      <td>unknown</td>\n",
       "      <td>no</td>\n",
       "    </tr>\n",
       "  </tbody>\n",
       "</table>\n",
       "</div>"
      ],
      "text/plain": [
       "   age          job marital_status  education default  balance housing loan  \\\n",
       "0   30   unemployed        married    primary      no   1787.0      no   no   \n",
       "1   33     services        married  secondary      no   4789.0     yes  yes   \n",
       "2   35   management         single   tertiary      no   1350.0     yes   no   \n",
       "3   30   management        married   tertiary      no   1476.0     yes  yes   \n",
       "4   59  blue-collar        married  secondary      no      0.0     yes   no   \n",
       "\n",
       "    contact  day month  duration  campaign  pdays  previous poutcome  \\\n",
       "0  cellular   19   oct      79.0       1.0   -1.0       0.0  unknown   \n",
       "1  cellular   11   may     220.0       1.0  339.0       4.0  failure   \n",
       "2  cellular   16   apr     185.0       1.0  330.0       1.0  failure   \n",
       "3   unknown    3   jun     199.0       4.0   -1.0       0.0  unknown   \n",
       "4   unknown    5   may     226.0       1.0   -1.0       0.0  unknown   \n",
       "\n",
       "  opened_new_td_act_no_yes  \n",
       "0                       no  \n",
       "1                       no  \n",
       "2                       no  \n",
       "3                       no  \n",
       "4                       no  "
      ]
     },
     "execution_count": 44,
     "metadata": {},
     "output_type": "execute_result"
    }
   ],
   "source": [
    "bankDF_pd = bankDF.toPandas()\n",
    "bankDF_pd.head()"
   ]
  },
  {
   "cell_type": "markdown",
   "metadata": {},
   "source": [
    "#### Derive Correlations for the numeric columns"
   ]
  },
  {
   "cell_type": "code",
   "execution_count": 45,
   "metadata": {},
   "outputs": [
    {
     "data": {
      "text/html": [
       "<div>\n",
       "<style scoped>\n",
       "    .dataframe tbody tr th:only-of-type {\n",
       "        vertical-align: middle;\n",
       "    }\n",
       "\n",
       "    .dataframe tbody tr th {\n",
       "        vertical-align: top;\n",
       "    }\n",
       "\n",
       "    .dataframe thead th {\n",
       "        text-align: right;\n",
       "    }\n",
       "</style>\n",
       "<table border=\"1\" class=\"dataframe\">\n",
       "  <thead>\n",
       "    <tr style=\"text-align: right;\">\n",
       "      <th></th>\n",
       "      <th>age</th>\n",
       "      <th>balance</th>\n",
       "      <th>day</th>\n",
       "      <th>duration</th>\n",
       "      <th>campaign</th>\n",
       "      <th>pdays</th>\n",
       "      <th>previous</th>\n",
       "    </tr>\n",
       "  </thead>\n",
       "  <tbody>\n",
       "    <tr>\n",
       "      <th>age</th>\n",
       "      <td>1.000000</td>\n",
       "      <td>0.084202</td>\n",
       "      <td>-0.017853</td>\n",
       "      <td>-0.002367</td>\n",
       "      <td>-0.005148</td>\n",
       "      <td>-0.008894</td>\n",
       "      <td>-0.003511</td>\n",
       "    </tr>\n",
       "    <tr>\n",
       "      <th>balance</th>\n",
       "      <td>0.084202</td>\n",
       "      <td>1.000000</td>\n",
       "      <td>-0.007595</td>\n",
       "      <td>-0.015195</td>\n",
       "      <td>-0.010840</td>\n",
       "      <td>0.008616</td>\n",
       "      <td>0.026031</td>\n",
       "    </tr>\n",
       "    <tr>\n",
       "      <th>day</th>\n",
       "      <td>-0.017853</td>\n",
       "      <td>-0.007595</td>\n",
       "      <td>1.000000</td>\n",
       "      <td>-0.024629</td>\n",
       "      <td>0.160706</td>\n",
       "      <td>-0.094352</td>\n",
       "      <td>-0.059114</td>\n",
       "    </tr>\n",
       "    <tr>\n",
       "      <th>duration</th>\n",
       "      <td>-0.002367</td>\n",
       "      <td>-0.015195</td>\n",
       "      <td>-0.024629</td>\n",
       "      <td>1.000000</td>\n",
       "      <td>-0.068382</td>\n",
       "      <td>0.010380</td>\n",
       "      <td>0.018080</td>\n",
       "    </tr>\n",
       "    <tr>\n",
       "      <th>campaign</th>\n",
       "      <td>-0.005148</td>\n",
       "      <td>-0.010840</td>\n",
       "      <td>0.160706</td>\n",
       "      <td>-0.068382</td>\n",
       "      <td>1.000000</td>\n",
       "      <td>-0.093137</td>\n",
       "      <td>-0.067833</td>\n",
       "    </tr>\n",
       "    <tr>\n",
       "      <th>pdays</th>\n",
       "      <td>-0.008894</td>\n",
       "      <td>0.008616</td>\n",
       "      <td>-0.094352</td>\n",
       "      <td>0.010380</td>\n",
       "      <td>-0.093137</td>\n",
       "      <td>1.000000</td>\n",
       "      <td>0.577562</td>\n",
       "    </tr>\n",
       "    <tr>\n",
       "      <th>previous</th>\n",
       "      <td>-0.003511</td>\n",
       "      <td>0.026031</td>\n",
       "      <td>-0.059114</td>\n",
       "      <td>0.018080</td>\n",
       "      <td>-0.067833</td>\n",
       "      <td>0.577562</td>\n",
       "      <td>1.000000</td>\n",
       "    </tr>\n",
       "  </tbody>\n",
       "</table>\n",
       "</div>"
      ],
      "text/plain": [
       "               age   balance       day  duration  campaign     pdays  previous\n",
       "age       1.000000  0.084202 -0.017853 -0.002367 -0.005148 -0.008894 -0.003511\n",
       "balance   0.084202  1.000000 -0.007595 -0.015195 -0.010840  0.008616  0.026031\n",
       "day      -0.017853 -0.007595  1.000000 -0.024629  0.160706 -0.094352 -0.059114\n",
       "duration -0.002367 -0.015195 -0.024629  1.000000 -0.068382  0.010380  0.018080\n",
       "campaign -0.005148 -0.010840  0.160706 -0.068382  1.000000 -0.093137 -0.067833\n",
       "pdays    -0.008894  0.008616 -0.094352  0.010380 -0.093137  1.000000  0.577562\n",
       "previous -0.003511  0.026031 -0.059114  0.018080 -0.067833  0.577562  1.000000"
      ]
     },
     "execution_count": 45,
     "metadata": {},
     "output_type": "execute_result"
    }
   ],
   "source": [
    "correlations = bankDF_pd.corr()\n",
    "correlations"
   ]
  },
  {
   "cell_type": "code",
   "execution_count": 46,
   "metadata": {
    "scrolled": true
   },
   "outputs": [
    {
     "data": {
      "text/plain": [
       "<matplotlib.axes._subplots.AxesSubplot at 0x7f948f8dfed0>"
      ]
     },
     "execution_count": 46,
     "metadata": {},
     "output_type": "execute_result"
    },
    {
     "data": {
      "image/png": "[encoded data removed]",
      "text/plain": [
       "<Figure size 360x360 with 2 Axes>"
      ]
     },
     "metadata": {},
     "output_type": "display_data"
    }
   ],
   "source": [
    "#sns.set(style=\"white\")\n",
    "\n",
    "# Generate a mask for the upper triangle\n",
    "mask = np.zeros_like(correlations, dtype=np.bool)\n",
    "mask[np.triu_indices_from(mask)] = True\n",
    "\n",
    "# Set up the matplotlib figure\n",
    "f, ax = plt.subplots(figsize=(5,5))\n",
    "    \n",
    "# Generate a custom diverging colormap\n",
    "cmap = sns.diverging_palette(1000, 10, as_cmap=True)\n",
    "\n",
    "# Draw the heatmap with the mask and correct aspect ratio\n",
    "sns.heatmap(correlations, mask=mask, cmap=cmap, vmax=.5, center=0,\n",
    "            square=True, linewidths=.5, cbar_kws={\"shrink\": .5})"
   ]
  },
  {
   "cell_type": "code",
   "execution_count": 47,
   "metadata": {
    "scrolled": true
   },
   "outputs": [
    {
     "data": {
      "text/html": [
       "<iframe id=\"igraph\" scrolling=\"no\" style=\"border:none;\" seamless=\"seamless\" src=\"https://plot.ly/~mtest/24.embed\" height=\"525px\" width=\"100%\"></iframe>"
      ],
      "text/plain": [
       "<plotly.tools.PlotlyDisplay object>"
      ]
     },
     "execution_count": 47,
     "metadata": {},
     "output_type": "execute_result"
    }
   ],
   "source": [
    "trace = go.Heatmap(z=[correlations['age'], correlations['balance'],correlations['day'],correlations['duration'],\n",
    "                      correlations['campaign'],correlations['pdays'],correlations['previous']],\n",
    "                   x=['age','balance','day','duration','campaign','pdays','previous'],\n",
    "                   y=['age','balance','day','duration','campaign','pdays','previous'])\n",
    "data=[trace]\n",
    "layout = go.Layout(title='Heat Map',)\n",
    "\n",
    "fig = go.Figure(data=data, layout=layout)\n",
    "py.iplot(fig, filename='plot_9')"
   ]
  },
  {
   "cell_type": "markdown",
   "metadata": {},
   "source": [
    "#### Verify for Null Values"
   ]
  },
  {
   "cell_type": "code",
   "execution_count": 48,
   "metadata": {},
   "outputs": [
    {
     "name": "stdout",
     "output_type": "stream",
     "text": [
      "+---+---+--------------+---------+-------+-------+-------+----+-------+---+-----+--------+--------+-----+--------+--------+------------------------+\n",
      "|age|job|marital_status|education|default|balance|housing|loan|contact|day|month|duration|campaign|pdays|previous|poutcome|opened_new_td_act_no_yes|\n",
      "+---+---+--------------+---------+-------+-------+-------+----+-------+---+-----+--------+--------+-----+--------+--------+------------------------+\n",
      "|  0|  0|             0|        0|      0|      0|      0|   0|      0|  0|    0|       0|       0|    0|       0|       0|                       0|\n",
      "+---+---+--------------+---------+-------+-------+-------+----+-------+---+-----+--------+--------+-----+--------+--------+------------------------+\n",
      "\n"
     ]
    }
   ],
   "source": [
    "bankDF.select([count(when(isnan(c) | col(c).isNull(), c)).alias(c) for c in bankDF.columns]).show()"
   ]
  },
  {
   "cell_type": "markdown",
   "metadata": {},
   "source": [
    "#### Remove Null values - if any"
   ]
  },
  {
   "cell_type": "code",
   "execution_count": 49,
   "metadata": {},
   "outputs": [
    {
     "name": "stdout",
     "output_type": "stream",
     "text": [
      "('Before Dropping Null Values', 4521)\n",
      "('After Dropping Null Values', 4521)\n"
     ]
    }
   ],
   "source": [
    "data_df = bankDF.na.drop( how = 'any' )\n",
    "print('Before Dropping Null Values', bankDF.count())\n",
    "print('After Dropping Null Values', data_df.count())"
   ]
  },
  {
   "cell_type": "markdown",
   "metadata": {},
   "source": [
    "#### Split the data into training and test sets (30% held out for testing)"
   ]
  },
  {
   "cell_type": "code",
   "execution_count": 50,
   "metadata": {
    "collapsed": true
   },
   "outputs": [],
   "source": [
    "(trainingData, testData) = bankDF.randomSplit([0.7, 0.3])"
   ]
  },
  {
   "cell_type": "code",
   "execution_count": 51,
   "metadata": {},
   "outputs": [
    {
     "name": "stdout",
     "output_type": "stream",
     "text": [
      "+---+-------+--------------+---------+-------+-------+-------+----+--------+---+-----+--------+--------+-----+--------+--------+------------------------+\n",
      "|age|    job|marital_status|education|default|balance|housing|loan| contact|day|month|duration|campaign|pdays|previous|poutcome|opened_new_td_act_no_yes|\n",
      "+---+-------+--------------+---------+-------+-------+-------+----+--------+---+-----+--------+--------+-----+--------+--------+------------------------+\n",
      "| 19|student|        single|  primary|     no|  103.0|     no|  no|cellular| 10|  jul|   104.0|     2.0| -1.0|     0.0| unknown|                     yes|\n",
      "| 19|student|        single|  unknown|     no|    0.0|     no|  no|cellular| 11|  feb|   123.0|     3.0| -1.0|     0.0| unknown|                      no|\n",
      "| 19|student|        single|  unknown|     no| 1169.0|     no|  no|cellular|  6|  feb|   463.0|    18.0| -1.0|     0.0| unknown|                      no|\n",
      "| 20|student|        single|secondary|     no|  502.0|     no|  no|cellular| 30|  apr|   261.0|     1.0| -1.0|     0.0| unknown|                     yes|\n",
      "+---+-------+--------------+---------+-------+-------+-------+----+--------+---+-----+--------+--------+-----+--------+--------+------------------------+\n",
      "only showing top 4 rows\n",
      "\n"
     ]
    }
   ],
   "source": [
    "trainingData.show(4)"
   ]
  },
  {
   "cell_type": "code",
   "execution_count": 52,
   "metadata": {
    "scrolled": true
   },
   "outputs": [
    {
     "name": "stdout",
     "output_type": "stream",
     "text": [
      "+---+-------+--------------+---------+-------+-------+-------+----+---------+---+-----+--------+--------+-----+--------+--------+------------------------+\n",
      "|age|    job|marital_status|education|default|balance|housing|loan|  contact|day|month|duration|campaign|pdays|previous|poutcome|opened_new_td_act_no_yes|\n",
      "+---+-------+--------------+---------+-------+-------+-------+----+---------+---+-----+--------+--------+-----+--------+--------+------------------------+\n",
      "| 19|student|        single|secondary|     no|  302.0|     no|  no| cellular| 16|  jul|   205.0|     1.0| -1.0|     0.0| unknown|                     yes|\n",
      "| 20|student|        single|secondary|     no|  291.0|     no|  no|telephone| 11|  may|   172.0|     5.0|371.0|     5.0| failure|                      no|\n",
      "| 21|student|        single|secondary|     no| 6844.0|     no|  no| cellular| 14|  aug|   126.0|     3.0|127.0|     7.0|   other|                      no|\n",
      "| 22|student|        single|  unknown|     no|  549.0|     no|  no| cellular|  2|  sep|   154.0|     1.0| -1.0|     0.0| unknown|                      no|\n",
      "+---+-------+--------------+---------+-------+-------+-------+----+---------+---+-----+--------+--------+-----+--------+--------+------------------------+\n",
      "only showing top 4 rows\n",
      "\n"
     ]
    }
   ],
   "source": [
    "testData.show(4)"
   ]
  },
  {
   "cell_type": "markdown",
   "metadata": {},
   "source": [
    "#### Define PipeLines\n",
    "<br>Stages:\n",
    "    -  Preprocessing\n",
    "    -  Model Building & Evaluation"
   ]
  },
  {
   "cell_type": "markdown",
   "metadata": {},
   "source": [
    "#### Extract Categorical and Numerical Columns from the data"
   ]
  },
  {
   "cell_type": "code",
   "execution_count": 53,
   "metadata": {
    "collapsed": true
   },
   "outputs": [],
   "source": [
    "cat_Var_Names = ['job', 'marital_status', 'education', 'default', 'housing', \n",
    "                 'day', 'contact', 'month', 'poutcome']\n",
    "\n",
    "num_Var_Names = ['age', 'balance', 'duration', 'previous', 'pdays', 'campaign']"
   ]
  },
  {
   "cell_type": "markdown",
   "metadata": {},
   "source": [
    "#### Use VectorAssembler to combine a given list of numcolumns into a single vector column."
   ]
  },
  {
   "cell_type": "code",
   "execution_count": 54,
   "metadata": {
    "collapsed": true
   },
   "outputs": [],
   "source": [
    "from pyspark.ml.feature import VectorAssembler\n",
    "\n",
    "vector_assembler_NumVars = VectorAssembler(inputCols=num_Var_Names, outputCol=\"num_features_all\")"
   ]
  },
  {
   "cell_type": "markdown",
   "metadata": {},
   "source": [
    "#### Scale all the numeric attributes using MinMaxScaler\n",
    "MinMaxScaler transforms a dataset of Vector rows, rescaling each feature to a specific range (often [0, 1]). \n",
    "<br>MinMaxScaler computes summary statistics on a data set and produces a MinMaxScalerModel. \n",
    "<br>The model can then transform each feature individually such that it is in the given range."
   ]
  },
  {
   "cell_type": "code",
   "execution_count": 55,
   "metadata": {
    "collapsed": true
   },
   "outputs": [],
   "source": [
    "from pyspark.ml.feature import MinMaxScaler\n",
    "min_Max_Scalar_NumVars = MinMaxScaler(inputCol=\"num_features_all\", outputCol = \"scaled_num_features\")"
   ]
  },
  {
   "cell_type": "markdown",
   "metadata": {},
   "source": [
    "#### convert Categorical Variables into Numeric\n",
    "Dummify (encode) the categorical variables."
   ]
  },
  {
   "cell_type": "code",
   "execution_count": 56,
   "metadata": {
    "collapsed": true
   },
   "outputs": [],
   "source": [
    "from pyspark.ml.feature import OneHotEncoder, StringIndexer\n",
    "\n",
    "indexers_Cat  = [StringIndexer(inputCol=cat_Var_Name, outputCol=\"{0}_index\".format(cat_Var_Name)) \n",
    "                 for cat_Var_Name in cat_Var_Names ]\n",
    "\n",
    "encoders_Cat  = [OneHotEncoder(inputCol=indexer.getOutputCol(), \n",
    "                               outputCol=\"{0}_vec\".format(indexer.getInputCol())) \n",
    "                 for indexer in indexers_Cat]\n",
    "\n",
    "assembler_Cat = VectorAssembler(inputCols=[encoder.getOutputCol() \n",
    "                                           for encoder in encoders_Cat], outputCol=\"cat_features\")\n",
    "\n",
    "assembler     = VectorAssembler(inputCols=[\"scaled_num_features\",\"cat_features\"], outputCol=\"features\")"
   ]
  },
  {
   "cell_type": "markdown",
   "metadata": {},
   "source": [
    "#### Encode Target Attribute"
   ]
  },
  {
   "cell_type": "code",
   "execution_count": 57,
   "metadata": {
    "collapsed": true
   },
   "outputs": [],
   "source": [
    "indexer_Label = StringIndexer(inputCol=\"opened_new_td_act_no_yes\", outputCol=\"label\")"
   ]
  },
  {
   "cell_type": "markdown",
   "metadata": {},
   "source": [
    "#### Preprocessing Steps"
   ]
  },
  {
   "cell_type": "code",
   "execution_count": 58,
   "metadata": {
    "collapsed": true
   },
   "outputs": [],
   "source": [
    "# Combine numerical attributes into a vector\n",
    "# Scale above vector\n",
    "# String Indexing on Categorical attributes\n",
    "# OneHot Encoder on the above indexers\n",
    "# Combine all the encoded Categorical vectors into a single  vector\n",
    "# Combine both Numerical and Categorical into a one vector\n",
    "# Target attribute\n",
    "preprocessiong_Stages = [vector_assembler_NumVars] +\\\n",
    "                        [min_Max_Scalar_NumVars] +\\\n",
    "                        indexers_Cat + encoders_Cat +\\\n",
    "                        [assembler_Cat] +\\\n",
    "                        [assembler] +\\\n",
    "                        [indexer_Label]"
   ]
  },
  {
   "cell_type": "markdown",
   "metadata": {},
   "source": [
    "### Model Building and Evaluation"
   ]
  },
  {
   "cell_type": "markdown",
   "metadata": {},
   "source": [
    "![Logistic Regression](./Images/lrc.png)"
   ]
  },
  {
   "cell_type": "code",
   "execution_count": 59,
   "metadata": {
    "collapsed": true
   },
   "outputs": [],
   "source": [
    "from pyspark.ml.classification import LogisticRegression\n",
    "\n",
    "lr = LogisticRegression(maxIter=10, labelCol=\"label\", featuresCol=\"features\")"
   ]
  },
  {
   "cell_type": "code",
   "execution_count": 60,
   "metadata": {
    "collapsed": true
   },
   "outputs": [],
   "source": [
    "from pyspark.ml import Pipeline\n",
    "\n",
    "lr_Pipeline = Pipeline(stages=preprocessiong_Stages+[lr])\n",
    "\n",
    "lr_Pipeline_model = lr_Pipeline.fit(trainingData)"
   ]
  },
  {
   "cell_type": "code",
   "execution_count": 61,
   "metadata": {},
   "outputs": [
    {
     "name": "stdout",
     "output_type": "stream",
     "text": [
      "Coefficients: [0.38267508690855057,-0.5033931923588367,14.06974752884051,1.8998480546316128,0.776632314897214,-4.385225651671993,0.1268634342162756,-0.32510252989104993,-0.1665770100213951,0.31291173705449626,0.06344165643873399,0.7265594559298927,-0.1062643533450591,-0.3865637248966043,-1.1521675720390687,-0.7993068653402221,0.6310289048019435,-0.07614665621622817,-0.09765487733950919,-0.08385393225835223,0.1964133780316038,-0.0332485308812,-0.05224594763147373,-0.3996694800336062,-0.7370082042702106,0.0784500284893516,0.3144061434514063,-0.8594381063036938,-0.8912699559884062,-0.7152518931010623,-0.6509960499317207,0.49062140746414445,-0.09225422176422318,-0.11178777552707887,-0.8082224009649385,0.6954997061638718,0.5421725572759974,-0.059542508941468286,-0.1286688340934399,0.10479831988103708,0.21369267767701358,0.42063432549867763,0.015356120184716611,-0.13563827735464234,0.3018024137789141,-0.048279156185675944,0.035294999873141865,-0.36598004193212014,-0.4616572039219479,0.44882375153514925,1.0171399612028378,1.1704109628964825,0.031135035528076397,0.8229248436410201,0.2520373668124154,-0.8107879212388338,-0.44966814799260646,-1.05063103202418,-0.010951159053058962,0.7371987108341418,-0.3330842171423785,0.5941976010680288,0.7656236191904782,-0.40839005216560864,1.7117715171097474,1.122164273760626,1.6178242311521478,-1.5080141576241457,-1.9568126042094198,-1.212754958550987]\n",
      "Intercept: -2.01114014956\n"
     ]
    }
   ],
   "source": [
    "print(\"Coefficients: \" + str(lr_Pipeline_model.stages[-1].coefficients))\n",
    "print(\"Intercept: \" + str(lr_Pipeline_model.stages[-1].intercept))"
   ]
  },
  {
   "cell_type": "code",
   "execution_count": 62,
   "metadata": {
    "collapsed": true
   },
   "outputs": [],
   "source": [
    "train_predictions_lr = lr_Pipeline_model.transform(trainingData)\n",
    "test_predictions_lr = lr_Pipeline_model.transform(testData)"
   ]
  },
  {
   "cell_type": "code",
   "execution_count": 63,
   "metadata": {},
   "outputs": [
    {
     "name": "stdout",
     "output_type": "stream",
     "text": [
      "+---+-------+--------------+---------+-------+-------+-------+----+---------+---+-----+--------+--------+-----+--------+--------+------------------------+--------------------+--------------------+---------+--------------------+---------------+-------------+-------------+---------+-------------+-----------+--------------+---------------+------------------+-------------+-------------+-----------+---------------+-------------+--------------+-------------+--------------------+--------------------+-----+--------------------+--------------------+----------+\n",
      "|age|    job|marital_status|education|default|balance|housing|loan|  contact|day|month|duration|campaign|pdays|previous|poutcome|opened_new_td_act_no_yes|    num_features_all| scaled_num_features|job_index|marital_status_index|education_index|default_index|housing_index|day_index|contact_index|month_index|poutcome_index|        job_vec|marital_status_vec|education_vec|  default_vec|housing_vec|        day_vec|  contact_vec|     month_vec| poutcome_vec|        cat_features|            features|label|       rawPrediction|         probability|prediction|\n",
      "+---+-------+--------------+---------+-------+-------+-------+----+---------+---+-----+--------+--------+-----+--------+--------+------------------------+--------------------+--------------------+---------+--------------------+---------------+-------------+-------------+---------+-------------+-----------+--------------+---------------+------------------+-------------+-------------+-----------+---------------+-------------+--------------+-------------+--------------------+--------------------+-----+--------------------+--------------------+----------+\n",
      "| 19|student|        single|secondary|     no|  302.0|     no|  no| cellular| 16|  jul|   205.0|     1.0| -1.0|     0.0| unknown|                     yes|[19.0,302.0,205.0...|[0.0,0.0042422880...|     10.0|                 1.0|            0.0|          0.0|          1.0|     13.0|          0.0|        1.0|           0.0|(11,[10],[1.0])|     (2,[1],[1.0])|(3,[0],[1.0])|(1,[0],[1.0])|  (1,[],[])|(30,[13],[1.0])|(2,[0],[1.0])|(11,[1],[1.0])|(3,[0],[1.0])|(64,[10,12,13,16,...|(70,[1,2,16,18,19...|  1.0|[3.04603162994421...|[0.95461089112442...|       0.0|\n",
      "| 20|student|        single|secondary|     no|  291.0|     no|  no|telephone| 11|  may|   172.0|     5.0|371.0|     5.0| failure|                      no|[20.0,291.0,172.0...|[0.01470588235294...|     10.0|                 1.0|            0.0|          0.0|          1.0|     18.0|          2.0|        0.0|           1.0|(11,[10],[1.0])|     (2,[1],[1.0])|(3,[0],[1.0])|(1,[0],[1.0])|  (1,[],[])|(30,[18],[1.0])|    (2,[],[])|(11,[0],[1.0])|(3,[1],[1.0])|(64,[10,12,13,16,...|(70,[0,1,2,3,4,5,...|  0.0|[2.82405141396926...|[0.94396176380632...|       0.0|\n",
      "+---+-------+--------------+---------+-------+-------+-------+----+---------+---+-----+--------+--------+-----+--------+--------+------------------------+--------------------+--------------------+---------+--------------------+---------------+-------------+-------------+---------+-------------+-----------+--------------+---------------+------------------+-------------+-------------+-----------+---------------+-------------+--------------+-------------+--------------------+--------------------+-----+--------------------+--------------------+----------+\n",
      "only showing top 2 rows\n",
      "\n"
     ]
    }
   ],
   "source": [
    "test_predictions_lr.show(2)"
   ]
  },
  {
   "cell_type": "code",
   "execution_count": 64,
   "metadata": {},
   "outputs": [
    {
     "name": "stdout",
     "output_type": "stream",
     "text": [
      "Train set accuracy  = 0.903056498919\n",
      "Train Error = 0.0969435\n",
      "Test set accuracy = 0.904836193448\n",
      "Test Error = 0.0951638\n"
     ]
    }
   ],
   "source": [
    "from pyspark.ml.evaluation import MulticlassClassificationEvaluator\n",
    "predictionAndLabels_train_lr = train_predictions_lr.select(\"prediction\", \"label\")\n",
    "evaluator = MulticlassClassificationEvaluator(metricName=\"accuracy\")\n",
    "train_accuracy_lr = evaluator.evaluate(predictionAndLabels_train_lr)\n",
    "print(\"Train set accuracy  = \" + str(train_accuracy_lr))\n",
    "print(\"Train Error = %g\" % (1.0 - train_accuracy_lr))\n",
    "\n",
    "predictionAndLabels_test_lr = test_predictions_lr.select(\"prediction\", \"label\")\n",
    "test_accuracy_lr = evaluator.evaluate(predictionAndLabels_test_lr)\n",
    "print(\"Test set accuracy = \" + str(test_accuracy_lr))\n",
    "print(\"Test Error = %g\" % (1.0 - test_accuracy_lr))"
   ]
  },
  {
   "cell_type": "markdown",
   "metadata": {},
   "source": [
    "### METRICS\n",
    "Below we calculate some more metrics. The number of false and true positive and negative predictions is also useful:\n",
    "- **true positives (TP):** These are cases in which we predicted yes (they had term deposit), and they do had the \n",
    "- **true negatives (TN):** We predicted no, and they don't have the term deposit.\n",
    "- **false positives (FP):** We predicted yes, but they don't actually have the term deposit. (Also known as a \"Type I error.\")\n",
    "- **false negatives (FN):** We predicted no, but they actually do have the term deposit. (Also known as a \"Type II error.\")"
   ]
  },
  {
   "cell_type": "markdown",
   "metadata": {},
   "source": [
    "This is a list of metrics that are often computed from a confusion matrix for a binary classifier:\n",
    "    \n",
    "- **Accuracy:** Overall, how often is the classifier correct? (TP+TN)/total\n",
    "- **Misclassification Rate:** Overall, how often is it wrong? (FP+FN)/total\n",
    "    - equivalent to 1 minus Accuracy, also known as \"**Error Rate**\"\n",
    "- **True Positive Rate:** When it's actually yes, how often does it predict yes? TP/actual yes\n",
    "    - also known as \"**Sensitivity**\" or \"**Recall**\"\n",
    "- **False Positive Rate:** When it's actually no, how often does it predict yes? FP/actual no\n",
    "- **True Negative Rate:** When it's actually no, how often does it predict no? TN/actual no\n",
    "    - equivalent to 1 minus False Positive Rate, also known as \"**Specificity**\"\n",
    "- **Precision:** When it predicts yes, how often is it correct? TP/predicted yes\n",
    "- **F1 Score:** This is a weighted average of the true positive rate (recall) and precision. "
   ]
  },
  {
   "cell_type": "code",
   "execution_count": 65,
   "metadata": {
    "scrolled": true
   },
   "outputs": [
    {
     "name": "stdout",
     "output_type": "stream",
     "text": [
      "TRAIN METRICS - LINEAR MODEL - BINOMIAL FAMILY\n",
      "True Positives: 158\n",
      "True Negatives: 2767\n",
      "False Positives: 82\n",
      "False Negatives: 232\n",
      "Total 3239\n",
      "Precission:  0.658333333333\n",
      "Recall:  0.405128205128\n",
      "F1 Score:  0.501587301587\n",
      "*****************************************************************************\n",
      "TEST METRICS - LINEAR MODEL - BINOMIAL FAMILY\n",
      "True Positives: 38\n",
      "True Negatives: 1122\n",
      "False Positives: 29\n",
      "False Negatives: 93\n",
      "Total 3239\n",
      "Precission:  0.567164179104\n",
      "Recall:  0.290076335878\n",
      "F1 Score:  0.383838383838\n"
     ]
    }
   ],
   "source": [
    "true_positive = predictionAndLabels_train_lr[(predictionAndLabels_train_lr.label == 1) & (predictionAndLabels_train_lr.prediction == 1.0)].count()\n",
    "true_negative = predictionAndLabels_train_lr[(predictionAndLabels_train_lr.label == 0) & (predictionAndLabels_train_lr.prediction == 0.0)].count()\n",
    "false_positive = predictionAndLabels_train_lr[(predictionAndLabels_train_lr.label == 0) & (predictionAndLabels_train_lr.prediction == 1.0)].count()\n",
    "false_negative = predictionAndLabels_train_lr[(predictionAndLabels_train_lr.label == 1) & (predictionAndLabels_train_lr.prediction == 0.0)].count()\n",
    "\n",
    "print \"TRAIN METRICS - LINEAR MODEL - BINOMIAL FAMILY\"\n",
    "print \"True Positives:\", true_positive\n",
    "print \"True Negatives:\", true_negative\n",
    "print \"False Positives:\", false_positive\n",
    "print \"False Negatives:\", false_negative\n",
    "print \"Total\", predictionAndLabels_train_lr.count()\n",
    "\n",
    "precission = true_positive / float(true_positive + false_positive)\n",
    "print \"Precission: \", precission\n",
    "recall = true_positive / float(true_positive + false_negative)\n",
    "print \"Recall: \", recall\n",
    "print \"F1 Score: \", (2*((precission * recall)/float(precission + recall)))\n",
    "print(\"*****************************************************************************\")\n",
    "true_positive = predictionAndLabels_test_lr[(predictionAndLabels_test_lr.label == 1) & (predictionAndLabels_test_lr.prediction == 1.0)].count()\n",
    "true_negative = predictionAndLabels_test_lr[(predictionAndLabels_test_lr.label == 0) & (predictionAndLabels_test_lr.prediction == 0.0)].count()\n",
    "false_positive = predictionAndLabels_test_lr[(predictionAndLabels_test_lr.label == 0) & (predictionAndLabels_test_lr.prediction == 1.0)].count()\n",
    "false_negative = predictionAndLabels_test_lr[(predictionAndLabels_test_lr.label == 1) & (predictionAndLabels_test_lr.prediction == 0.0)].count()\n",
    "print \"TEST METRICS - LINEAR MODEL - BINOMIAL FAMILY\"\n",
    "print \"True Positives:\", true_positive\n",
    "print \"True Negatives:\", true_negative\n",
    "print \"False Positives:\", false_positive\n",
    "print \"False Negatives:\", false_negative\n",
    "print \"Total\", predictionAndLabels_train_lr.count()\n",
    "precission = true_positive / float(true_positive + false_positive)\n",
    "print \"Precission: \", precission\n",
    "recall = true_positive / float(true_positive + false_negative)\n",
    "print \"Recall: \", recall\n",
    "print \"F1 Score: \", (2*((precission * recall)/float(precission + recall)))\n"
   ]
  },
  {
   "cell_type": "code",
   "execution_count": 66,
   "metadata": {
    "collapsed": true
   },
   "outputs": [],
   "source": [
    "train_pred_pandas = predictionAndLabels_train_lr.toPandas()\n",
    "train_actuals = train_pred_pandas.label.tolist()\n",
    "train_predictions = train_pred_pandas.prediction.tolist()\n",
    "\n",
    "\n",
    "test_pred_pandas = predictionAndLabels_test_lr.toPandas()\n",
    "test_actuals = test_pred_pandas.label.tolist()\n",
    "test_predictions = test_pred_pandas.prediction.tolist()\n",
    "from sklearn import metrics as smetrics\n",
    "cm = smetrics.confusion_matrix(train_actuals, train_predictions)"
   ]
  },
  {
   "cell_type": "code",
   "execution_count": 67,
   "metadata": {},
   "outputs": [
    {
     "name": "stdout",
     "output_type": "stream",
     "text": [
      "              Not Approved  Approved\n",
      "Not Approved          2767        82\n",
      "Approved               232       158\n"
     ]
    },
    {
     "data": {
      "text/plain": [
       "<matplotlib.axes._subplots.AxesSubplot at 0x7f948f041550>"
      ]
     },
     "execution_count": 67,
     "metadata": {},
     "output_type": "execute_result"
    },
    {
     "data": {
      "image/png": "[encoded data removed]",
      "text/plain": [
       "<Figure size 720x504 with 2 Axes>"
      ]
     },
     "metadata": {},
     "output_type": "display_data"
    }
   ],
   "source": [
    "df_cm = pd.DataFrame(cm)\n",
    "df_cm.index = ['Not Approved', 'Approved']\n",
    "df_cm.columns = ['Not Approved', 'Approved']\n",
    "names=['Not Approved', 'Approved']\n",
    "print(df_cm)\n",
    "fig = plt.figure(figsize = (10,7))\n",
    "sns.set(font_scale=1.4)#for label size\n",
    "sns.heatmap(df_cm, annot=True,fmt=\"d\",annot_kws={\"size\": 20})# "
   ]
  },
  {
   "cell_type": "markdown",
   "metadata": {},
   "source": [
    "![Decision Tree Classifier](./Images/dtc.png)"
   ]
  },
  {
   "cell_type": "code",
   "execution_count": 68,
   "metadata": {
    "collapsed": true
   },
   "outputs": [],
   "source": [
    "from pyspark.ml.classification import DecisionTreeClassifier\n",
    "dt = DecisionTreeClassifier(labelCol=\"label\", featuresCol=\"features\")"
   ]
  },
  {
   "cell_type": "code",
   "execution_count": 69,
   "metadata": {
    "collapsed": true
   },
   "outputs": [],
   "source": [
    "dt_Pipeline = Pipeline(stages=preprocessiong_Stages+[dt]) \n",
    "\n",
    "dt_Pipeline_model = dt_Pipeline.fit(trainingData)"
   ]
  },
  {
   "cell_type": "code",
   "execution_count": 70,
   "metadata": {
    "collapsed": true
   },
   "outputs": [],
   "source": [
    "train_predictions_dt = dt_Pipeline_model.transform(trainingData)\n",
    "test_predictions_dt = dt_Pipeline_model.transform(testData)"
   ]
  },
  {
   "cell_type": "code",
   "execution_count": 71,
   "metadata": {},
   "outputs": [
    {
     "name": "stdout",
     "output_type": "stream",
     "text": [
      "Train set accuracy  = 0.911083667799\n",
      "Train Error = 0.0889163\n",
      "Test set accuracy = 0.897035881435\n",
      "Test Error = 0.102964\n"
     ]
    }
   ],
   "source": [
    "from pyspark.ml.evaluation import MulticlassClassificationEvaluator\n",
    "\n",
    "predictionAndLabels_train_dt = train_predictions_dt.select(\"prediction\", \"label\")\n",
    "evaluator = MulticlassClassificationEvaluator(metricName=\"accuracy\")\n",
    "train_accuracy = evaluator.evaluate(predictionAndLabels_train_dt)\n",
    "print(\"Train set accuracy  = \" + str(train_accuracy))\n",
    "print(\"Train Error = %g\" % (1.0 - train_accuracy))\n",
    "\n",
    "predictionAndLabels_test_dt = test_predictions_dt.select(\"prediction\", \"label\")\n",
    "test_accuracy = evaluator.evaluate(predictionAndLabels_test_dt)\n",
    "print(\"Test set accuracy = \" + str(test_accuracy))\n",
    "print(\"Test Error = %g\" % (1.0 - test_accuracy))"
   ]
  },
  {
   "cell_type": "code",
   "execution_count": 72,
   "metadata": {
    "scrolled": true
   },
   "outputs": [
    {
     "name": "stdout",
     "output_type": "stream",
     "text": [
      "TRAIN METRICS - DECISSION TREE CLASSIFIER\n",
      "True Positives: 175\n",
      "True Negatives: 2776\n",
      "False Positives: 73\n",
      "False Negatives: 215\n",
      "Total 3239\n",
      "Precission:  0.70564516129\n",
      "Recall:  0.448717948718\n",
      "F1 Score:  0.548589341693\n",
      "*****************************************************************************\n",
      "\n",
      "\n",
      "TEST METRICS - DECISSION TREE CLASSIFIER\n",
      "True Positives: 36\n",
      "True Negatives: 1114\n",
      "False Positives: 37\n",
      "False Negatives: 95\n",
      "Total 3239\n",
      "Precission:  0.493150684932\n",
      "Recall:  0.274809160305\n",
      "F1 Score:  0.352941176471\n"
     ]
    }
   ],
   "source": [
    "true_positive = predictionAndLabels_train_dt[(predictionAndLabels_train_dt.label == 1) & (predictionAndLabels_train_dt.prediction == 1.0)].count()\n",
    "true_negative = predictionAndLabels_train_dt[(predictionAndLabels_train_dt.label == 0) & (predictionAndLabels_train_dt.prediction == 0.0)].count()\n",
    "false_positive = predictionAndLabels_train_dt[(predictionAndLabels_train_dt.label == 0) & (predictionAndLabels_train_dt.prediction == 1.0)].count()\n",
    "false_negative = predictionAndLabels_train_dt[(predictionAndLabels_train_dt.label == 1) & (predictionAndLabels_train_dt.prediction == 0.0)].count()\n",
    "print \"TRAIN METRICS - DECISSION TREE CLASSIFIER\"\n",
    "print \"True Positives:\", true_positive\n",
    "print \"True Negatives:\", true_negative\n",
    "print \"False Positives:\", false_positive\n",
    "print \"False Negatives:\", false_negative\n",
    "print \"Total\", predictionAndLabels_train_dt.count()\n",
    "precission = true_positive / float(true_positive + false_positive)\n",
    "print \"Precission: \", precission\n",
    "recall = true_positive / float(true_positive + false_negative)\n",
    "print \"Recall: \", recall\n",
    "print \"F1 Score: \", (2*((precission * recall)/float(precission + recall)))\n",
    "print(\"*****************************************************************************\")\n",
    "true_positive = predictionAndLabels_test_dt[(predictionAndLabels_test_dt.label == 1) & (predictionAndLabels_test_dt.prediction == 1.0)].count()\n",
    "true_negative = predictionAndLabels_test_dt[(predictionAndLabels_test_dt.label == 0) & (predictionAndLabels_test_dt.prediction == 0.0)].count()\n",
    "false_positive = predictionAndLabels_test_dt[(predictionAndLabels_test_dt.label == 0) & (predictionAndLabels_test_dt.prediction == 1.0)].count()\n",
    "false_negative = predictionAndLabels_test_dt[(predictionAndLabels_test_dt.label == 1) & (predictionAndLabels_test_dt.prediction == 0.0)].count()\n",
    "print \"\\n\\nTEST METRICS - DECISSION TREE CLASSIFIER\"\n",
    "print \"True Positives:\", true_positive\n",
    "print \"True Negatives:\", true_negative\n",
    "print \"False Positives:\", false_positive\n",
    "print \"False Negatives:\", false_negative\n",
    "print \"Total\", predictionAndLabels_train_dt.count()\n",
    "precission = true_positive / float(true_positive + false_positive)\n",
    "print \"Precission: \", precission\n",
    "recall = true_positive / float(true_positive + false_negative)\n",
    "print \"Recall: \", recall\n",
    "print \"F1 Score: \", (2*((precission * recall)/float(precission + recall)))"
   ]
  },
  {
   "cell_type": "code",
   "execution_count": 73,
   "metadata": {
    "collapsed": true
   },
   "outputs": [],
   "source": [
    "treeModel = dt_Pipeline_model.stages[23]"
   ]
  },
  {
   "cell_type": "code",
   "execution_count": 74,
   "metadata": {},
   "outputs": [
    {
     "name": "stdout",
     "output_type": "stream",
     "text": [
      "Learned classification tree model:\n",
      "DecisionTreeClassificationModel (uid=DecisionTreeClassifier_4c36a3e153d96605fd27) of depth 5 with 59 nodes\n",
      "  If (feature 2 <= 0.2015888778550149)\n",
      "   If (feature 2 <= 0.07232704402515724)\n",
      "    If (feature 0 <= 0.6102941176470589)\n",
      "     If (feature 3 <= 0.020833333333333332)\n",
      "      If (feature 61 in {1.0})\n",
      "       Predict: 0.0\n",
      "      Else (feature 61 not in {1.0})\n",
      "       Predict: 0.0\n",
      "     Else (feature 3 > 0.020833333333333332)\n",
      "      If (feature 58 in {1.0})\n",
      "       Predict: 0.0\n",
      "      Else (feature 58 not in {1.0})\n",
      "       Predict: 0.0\n",
      "    Else (feature 0 > 0.6102941176470589)\n",
      "     If (feature 2 <= 0.06835484938761999)\n",
      "      If (feature 17 in {0.0})\n",
      "       Predict: 1.0\n",
      "      Else (feature 17 not in {0.0})\n",
      "       Predict: 0.0\n",
      "     Else (feature 2 > 0.06835484938761999)\n",
      "      If (feature 1 <= 0.07452098668314885)\n",
      "       Predict: 1.0\n",
      "      Else (feature 1 > 0.07452098668314885)\n",
      "       Predict: 0.0\n",
      "   Else (feature 2 > 0.07232704402515724)\n",
      "    If (feature 4 <= 0.04202719406674907)\n",
      "     If (feature 0 <= 0.6102941176470589)\n",
      "      If (feature 66 in {1.0})\n",
      "       Predict: 1.0\n",
      "      Else (feature 66 not in {1.0})\n",
      "       Predict: 0.0\n",
      "     Else (feature 0 > 0.6102941176470589)\n",
      "      If (feature 2 <= 0.17262495862297253)\n",
      "       Predict: 1.0\n",
      "      Else (feature 2 > 0.17262495862297253)\n",
      "       Predict: 0.0\n",
      "    Else (feature 4 > 0.04202719406674907)\n",
      "     If (feature 68 in {1.0})\n",
      "      If (feature 64 in {1.0})\n",
      "       Predict: 1.0\n",
      "      Else (feature 64 not in {1.0})\n",
      "       Predict: 0.0\n",
      "     Else (feature 68 not in {1.0})\n",
      "      If (feature 56 in {1.0})\n",
      "       Predict: 0.0\n",
      "      Else (feature 56 not in {1.0})\n",
      "       Predict: 1.0\n",
      "  Else (feature 2 > 0.2015888778550149)\n",
      "   If (feature 2 <= 0.23949023502151606)\n",
      "    If (feature 3 <= 0.0625)\n",
      "     If (feature 4 <= 0.2280593325092707)\n",
      "      If (feature 23 in {1.0})\n",
      "       Predict: 0.0\n",
      "      Else (feature 23 not in {1.0})\n",
      "       Predict: 0.0\n",
      "     Else (feature 4 > 0.2280593325092707)\n",
      "      Predict: 1.0\n",
      "    Else (feature 3 > 0.0625)\n",
      "     If (feature 1 <= 0.11674018092937012)\n",
      "      If (feature 1 <= 5.408214867674327E-4)\n",
      "       Predict: 0.0\n",
      "      Else (feature 1 > 5.408214867674327E-4)\n",
      "       Predict: 1.0\n",
      "     Else (feature 1 > 0.11674018092937012)\n",
      "      Predict: 0.0\n",
      "   Else (feature 2 > 0.23949023502151606)\n",
      "    If (feature 17 in {1.0})\n",
      "     If (feature 5 <= 0.05102040816326531)\n",
      "      If (feature 0 <= 0.19852941176470587)\n",
      "       Predict: 0.0\n",
      "      Else (feature 0 > 0.19852941176470587)\n",
      "       Predict: 0.0\n",
      "     Else (feature 5 > 0.05102040816326531)\n",
      "      If (feature 0 <= 0.21323529411764705)\n",
      "       Predict: 1.0\n",
      "      Else (feature 0 > 0.21323529411764705)\n",
      "       Predict: 1.0\n",
      "    Else (feature 17 not in {1.0})\n",
      "     If (feature 20 in {1.0})\n",
      "      If (feature 0 <= 0.49264705882352944)\n",
      "       Predict: 1.0\n",
      "      Else (feature 0 > 0.49264705882352944)\n",
      "       Predict: 0.0\n",
      "     Else (feature 20 not in {1.0})\n",
      "      If (feature 39 in {1.0})\n",
      "       Predict: 1.0\n",
      "      Else (feature 39 not in {1.0})\n",
      "       Predict: 1.0\n",
      "\n"
     ]
    }
   ],
   "source": [
    "print \"Learned classification tree model:\"\n",
    "print treeModel.toDebugString"
   ]
  },
  {
   "cell_type": "markdown",
   "metadata": {},
   "source": [
    "![Random Forest Classifier](./Images/rfc.png)"
   ]
  },
  {
   "cell_type": "code",
   "execution_count": 75,
   "metadata": {
    "collapsed": true
   },
   "outputs": [],
   "source": [
    "from pyspark.ml.classification import RandomForestClassifier\n",
    "rf = RandomForestClassifier(labelCol=\"label\", featuresCol=\"features\", numTrees=10)"
   ]
  },
  {
   "cell_type": "code",
   "execution_count": 76,
   "metadata": {
    "collapsed": true
   },
   "outputs": [],
   "source": [
    "rf_Pipeline = Pipeline(stages=preprocessiong_Stages+[rf]) \n",
    "rf_Pipeline_model = rf_Pipeline.fit(trainingData)"
   ]
  },
  {
   "cell_type": "code",
   "execution_count": 77,
   "metadata": {
    "collapsed": true
   },
   "outputs": [],
   "source": [
    "train_predictions_rf = rf_Pipeline_model.transform(trainingData)\n",
    "test_predictions_rf = rf_Pipeline_model.transform(testData)"
   ]
  },
  {
   "cell_type": "code",
   "execution_count": 78,
   "metadata": {},
   "outputs": [
    {
     "name": "stdout",
     "output_type": "stream",
     "text": [
      "Train set accuracy  = 0.882679839457\n",
      "Train Error = 0.11732\n",
      "Test set accuracy = 0.895475819033\n",
      "Test Error = 0.104524\n"
     ]
    }
   ],
   "source": [
    "from pyspark.ml.evaluation import MulticlassClassificationEvaluator\n",
    "predictionAndLabels_train_rf = train_predictions_rf.select(\"prediction\", \"label\")\n",
    "evaluator = MulticlassClassificationEvaluator(metricName=\"accuracy\")\n",
    "train_accuracy = evaluator.evaluate(predictionAndLabels_train_rf)\n",
    "print(\"Train set accuracy  = \" + str(train_accuracy))\n",
    "print(\"Train Error = %g\" % (1.0 - train_accuracy))\n",
    "\n",
    "predictionAndLabels_test_rf = test_predictions_rf.select(\"prediction\", \"label\")\n",
    "test_accuracy = evaluator.evaluate(predictionAndLabels_test_rf)\n",
    "print(\"Test set accuracy = \" + str(test_accuracy))\n",
    "print(\"Test Error = %g\" % (1.0 - test_accuracy))"
   ]
  },
  {
   "cell_type": "code",
   "execution_count": 79,
   "metadata": {},
   "outputs": [
    {
     "name": "stdout",
     "output_type": "stream",
     "text": [
      "TRAIN METRICS - RANDOM FOREST CLASSIFIER\n",
      "True Positives: 10\n",
      "True Negatives: 2849\n",
      "False Positives: 0\n",
      "False Negatives: 380\n",
      "Total 3239\n",
      "Precission:  1.0\n",
      "Recall:  0.025641025641\n",
      "F1 Score:  0.05\n",
      "*****************************************************************************\n",
      "TEST METRICS - RANDOM FOREST CLASSIFIER\n",
      "True Positives: 0\n",
      "True Negatives: 1148\n",
      "False Positives: 3\n",
      "False Negatives: 131\n",
      "Total 3239\n",
      "Precission:  1.0\n",
      "Recall:  0.0\n",
      "F1 Score:  0.0\n"
     ]
    }
   ],
   "source": [
    "true_positive = predictionAndLabels_train_rf[(predictionAndLabels_train_rf.label == 1) & (predictionAndLabels_train_rf.prediction == 1.0)].count()\n",
    "true_negative = predictionAndLabels_train_rf[(predictionAndLabels_train_rf.label == 0) & (predictionAndLabels_train_rf.prediction == 0.0)].count()\n",
    "false_positive = predictionAndLabels_train_rf[(predictionAndLabels_train_rf.label == 0) & (predictionAndLabels_train_rf.prediction == 1.0)].count()\n",
    "false_negative = predictionAndLabels_train_rf[(predictionAndLabels_train_rf.label == 1) & (predictionAndLabels_train_rf.prediction == 0.0)].count()\n",
    "print \"TRAIN METRICS - RANDOM FOREST CLASSIFIER\"\n",
    "print \"True Positives:\", true_positive\n",
    "print \"True Negatives:\", true_negative\n",
    "print \"False Positives:\", false_positive\n",
    "print \"False Negatives:\", false_negative\n",
    "print \"Total\", predictionAndLabels_train_rf.count()\n",
    "precission = true_positive / float(true_positive + false_positive)\n",
    "print \"Precission: \", precission\n",
    "recall = true_positive / float(true_positive + false_negative)\n",
    "print \"Recall: \", recall\n",
    "print \"F1 Score: \", (2*((precission * recall)/float(precission + recall)))\n",
    "print(\"*****************************************************************************\")\n",
    "\n",
    "true_positive = predictionAndLabels_test_rf[(predictionAndLabels_test_rf.label == 1) & (predictionAndLabels_test_rf.prediction == 1.0)].count()\n",
    "true_negative = predictionAndLabels_test_rf[(predictionAndLabels_test_rf.label == 0) & (predictionAndLabels_test_rf.prediction == 0.0)].count()\n",
    "false_positive = predictionAndLabels_test_rf[(predictionAndLabels_test_rf.label == 0) & (predictionAndLabels_test_rf.prediction == 1.0)].count()\n",
    "false_negative = predictionAndLabels_test_rf[(predictionAndLabels_test_rf.label == 1) & (predictionAndLabels_test_rf.prediction == 0.0)].count()\n",
    "print \"TEST METRICS - RANDOM FOREST CLASSIFIER\"\n",
    "print \"True Positives:\", true_positive\n",
    "print \"True Negatives:\", true_negative\n",
    "print \"False Positives:\", false_positive\n",
    "print \"False Negatives:\", false_negative\n",
    "print \"Total\", predictionAndLabels_train_rf.count()\n",
    "#precission = true_positive / float(true_positive + false_positive)\n",
    "print \"Precission: \", precission\n",
    "recall = true_positive / float(true_positive + false_negative)\n",
    "print \"Recall: \", recall\n",
    "print \"F1 Score: \", (2*((precission * recall)/float(precission + recall)))"
   ]
  },
  {
   "cell_type": "markdown",
   "metadata": {},
   "source": [
    "![Gradient Boosted Tree Classifier](./Images/gbtc.png)"
   ]
  },
  {
   "cell_type": "code",
   "execution_count": 80,
   "metadata": {
    "collapsed": true
   },
   "outputs": [],
   "source": [
    "from pyspark.ml.classification import GBTClassifier\n",
    "gbt = GBTClassifier(labelCol=\"label\", featuresCol=\"features\", maxIter=10)"
   ]
  },
  {
   "cell_type": "code",
   "execution_count": 81,
   "metadata": {
    "collapsed": true
   },
   "outputs": [],
   "source": [
    "gbt_Pipeline = Pipeline(stages=preprocessiong_Stages+[gbt]) \n",
    "gbt_Pipeline_model = gbt_Pipeline.fit(trainingData)"
   ]
  },
  {
   "cell_type": "code",
   "execution_count": 82,
   "metadata": {
    "collapsed": true
   },
   "outputs": [],
   "source": [
    "train_predictions_gbt = gbt_Pipeline_model.transform(trainingData)\n",
    "test_predictions_gbt = gbt_Pipeline_model.transform(testData)"
   ]
  },
  {
   "cell_type": "code",
   "execution_count": 83,
   "metadata": {},
   "outputs": [
    {
     "name": "stdout",
     "output_type": "stream",
     "text": [
      "Train set accuracy  = 0.926829268293\n",
      "Train Error = 0.0731707\n",
      "Test set accuracy = 0.894695787832\n",
      "Test Error = 0.105304\n"
     ]
    }
   ],
   "source": [
    "from pyspark.ml.evaluation import MulticlassClassificationEvaluator\n",
    "predictionAndLabels_train_gbt = train_predictions_gbt.select(\"prediction\", \"label\")\n",
    "evaluator = MulticlassClassificationEvaluator(metricName=\"accuracy\")\n",
    "train_accuracy = evaluator.evaluate(predictionAndLabels_train_gbt)\n",
    "print(\"Train set accuracy  = \" + str(train_accuracy))\n",
    "print(\"Train Error = %g\" % (1.0 - train_accuracy))\n",
    "\n",
    "predictionAndLabels_test_gbt = test_predictions_gbt.select(\"prediction\", \"label\")\n",
    "test_accuracy = evaluator.evaluate(predictionAndLabels_test_gbt)\n",
    "print(\"Test set accuracy = \" + str(test_accuracy))\n",
    "print(\"Test Error = %g\" % (1.0 - test_accuracy))"
   ]
  },
  {
   "cell_type": "code",
   "execution_count": 84,
   "metadata": {
    "scrolled": true
   },
   "outputs": [
    {
     "name": "stdout",
     "output_type": "stream",
     "text": [
      "TRAIN METRICS - GRADIENT-BOOSTED TREE CLASSIFIER\n",
      "True Positives: 201\n",
      "True Negatives: 2801\n",
      "False Positives: 48\n",
      "False Negatives: 189\n",
      "Total 3239\n",
      "Precission:  0.807228915663\n",
      "Recall:  0.515384615385\n",
      "F1 Score:  0.629107981221\n",
      "*****************************************************************************\n",
      "TEST METRICS - GRADIENT-BOOSTED TREE CLASSIFIER\n",
      "True Positives: 38\n",
      "True Negatives: 1109\n",
      "False Positives: 42\n",
      "False Negatives: 93\n",
      "Total 3239\n",
      "Precission:  0.475\n",
      "Recall:  0.290076335878\n",
      "F1 Score:  0.36018957346\n"
     ]
    }
   ],
   "source": [
    "true_positive = predictionAndLabels_train_gbt[(predictionAndLabels_train_gbt.label == 1) & (predictionAndLabels_train_gbt.prediction == 1.0)].count()\n",
    "true_negative = predictionAndLabels_train_gbt[(predictionAndLabels_train_gbt.label == 0) & (predictionAndLabels_train_gbt.prediction == 0.0)].count()\n",
    "false_positive = predictionAndLabels_train_gbt[(predictionAndLabels_train_gbt.label == 0) & (predictionAndLabels_train_gbt.prediction == 1.0)].count()\n",
    "false_negative = predictionAndLabels_train_gbt[(predictionAndLabels_train_gbt.label == 1) & (predictionAndLabels_train_gbt.prediction == 0.0)].count()\n",
    "print \"TRAIN METRICS - GRADIENT-BOOSTED TREE CLASSIFIER\"\n",
    "print \"True Positives:\", true_positive\n",
    "print \"True Negatives:\", true_negative\n",
    "print \"False Positives:\", false_positive\n",
    "print \"False Negatives:\", false_negative\n",
    "print \"Total\", predictionAndLabels_train_gbt.count()\n",
    "precission = true_positive / float(true_positive + false_positive)\n",
    "print \"Precission: \", precission\n",
    "recall = true_positive / float(true_positive + false_negative)\n",
    "print \"Recall: \", recall\n",
    "print \"F1 Score: \", (2*((precission * recall)/float(precission + recall)))\n",
    "print(\"*****************************************************************************\")\n",
    "true_positive = predictionAndLabels_test_gbt[(predictionAndLabels_test_gbt.label == 1) & (predictionAndLabels_test_gbt.prediction == 1.0)].count()\n",
    "true_negative = predictionAndLabels_test_gbt[(predictionAndLabels_test_gbt.label == 0) & (predictionAndLabels_test_gbt.prediction == 0.0)].count()\n",
    "false_positive = predictionAndLabels_test_gbt[(predictionAndLabels_test_gbt.label == 0) & (predictionAndLabels_test_gbt.prediction == 1.0)].count()\n",
    "false_negative = predictionAndLabels_test_gbt[(predictionAndLabels_test_gbt.label == 1) & (predictionAndLabels_test_gbt.prediction == 0.0)].count()\n",
    "print \"TEST METRICS - GRADIENT-BOOSTED TREE CLASSIFIER\"\n",
    "print \"True Positives:\", true_positive\n",
    "print \"True Negatives:\", true_negative\n",
    "print \"False Positives:\", false_positive\n",
    "print \"False Negatives:\", false_negative\n",
    "print \"Total\", predictionAndLabels_train_gbt.count()\n",
    "precission = true_positive / float(true_positive + false_positive)\n",
    "print \"Precission: \", precission\n",
    "recall = true_positive / float(true_positive + false_negative)\n",
    "print \"Recall: \", recall\n",
    "print \"F1 Score: \", (2*((precission * recall)/float(precission + recall)))"
   ]
  },
  {
   "cell_type": "markdown",
   "metadata": {},
   "source": [
    "![Multilayer Perceptron](./Images/mlp3_1.png)\n",
    "![Multilayer Perceptron](./Images/mlp4.png)"
   ]
  },
  {
   "cell_type": "code",
   "execution_count": 85,
   "metadata": {
    "collapsed": true
   },
   "outputs": [],
   "source": [
    "from pyspark.ml.classification import MultilayerPerceptronClassifier\n",
    "from pyspark.ml.evaluation import MulticlassClassificationEvaluator\n",
    "\n",
    "# specify layers for the neural network:\n",
    "# input layer of size 71 (features), two intermediate of size 5 and 4\n",
    "# and output of size 2 (classes)\n",
    "layers = [70, 50, 40, 2]\n",
    "# create the trainer and set its parameters\n",
    "mlp = MultilayerPerceptronClassifier(maxIter=100, layers=layers, blockSize=128, seed=1234)"
   ]
  },
  {
   "cell_type": "code",
   "execution_count": 86,
   "metadata": {
    "collapsed": true
   },
   "outputs": [],
   "source": [
    "mlp_Pipeline = Pipeline(stages=preprocessiong_Stages+[mlp]) \n",
    "mlp_Pipeline_model = mlp_Pipeline.fit(trainingData)"
   ]
  },
  {
   "cell_type": "code",
   "execution_count": 87,
   "metadata": {
    "collapsed": true
   },
   "outputs": [],
   "source": [
    "train_predictions_mlp = mlp_Pipeline_model.transform(trainingData)\n",
    "test_predictions_mlp = mlp_Pipeline_model.transform(testData)"
   ]
  },
  {
   "cell_type": "code",
   "execution_count": 88,
   "metadata": {},
   "outputs": [
    {
     "name": "stdout",
     "output_type": "stream",
     "text": [
      "Train set accuracy  = 0.950293300401\n",
      "Train Error = 0.0497067\n",
      "Test set accuracy = 0.884555382215\n",
      "Test Error = 0.115445\n"
     ]
    }
   ],
   "source": [
    "from pyspark.ml.evaluation import MulticlassClassificationEvaluator\n",
    "predictionAndLabels_train_mlp = train_predictions_mlp.select(\"prediction\", \"label\")\n",
    "evaluator = MulticlassClassificationEvaluator(metricName=\"accuracy\")\n",
    "train_accuracy = evaluator.evaluate(predictionAndLabels_train_mlp)\n",
    "print(\"Train set accuracy  = \" + str(train_accuracy))\n",
    "print(\"Train Error = %g\" % (1.0 - train_accuracy))\n",
    "\n",
    "predictionAndLabels_test_mlp = test_predictions_mlp.select(\"prediction\", \"label\")\n",
    "test_accuracy = evaluator.evaluate(predictionAndLabels_test_mlp)\n",
    "print(\"Test set accuracy = \" + str(test_accuracy))\n",
    "print(\"Test Error = %g\" % (1.0 - test_accuracy))"
   ]
  },
  {
   "cell_type": "code",
   "execution_count": 89,
   "metadata": {},
   "outputs": [
    {
     "name": "stdout",
     "output_type": "stream",
     "text": [
      "TRAIN METRICS - MULTI-LAYER PERCEPTRON CLASSIFIER\n",
      "True Positives: 307\n",
      "True Negatives: 2771\n",
      "False Positives: 78\n",
      "False Negatives: 83\n",
      "Total 3239\n",
      "Precission:  0.795336787565\n",
      "Recall:  0.787179487179\n",
      "F1 Score:  0.48485487638\n",
      "*****************************************************************************\n",
      "TEST METRICS - MULTI-LAYER PERCEPTRON CLASSIFIER\n",
      "True Positives: 55\n",
      "True Negatives: 1079\n",
      "False Positives: 72\n",
      "False Negatives: 76\n",
      "Total 3239\n",
      "Precission:  0.4296875\n",
      "Recall:  0.419847328244\n",
      "F1 Score:  0.195079482798\n"
     ]
    }
   ],
   "source": [
    "true_positive = predictionAndLabels_train_mlp[(predictionAndLabels_train_mlp.label == 1) & (predictionAndLabels_train_mlp.prediction == 1.0)].count()\n",
    "true_negative = predictionAndLabels_train_mlp[(predictionAndLabels_train_mlp.label == 0) & (predictionAndLabels_train_mlp.prediction == 0.0)].count()\n",
    "false_positive = predictionAndLabels_train_mlp[(predictionAndLabels_train_mlp.label == 0) & (predictionAndLabels_train_mlp.prediction == 1.0)].count()\n",
    "false_negative = predictionAndLabels_train_mlp[(predictionAndLabels_train_mlp.label == 1) & (predictionAndLabels_train_mlp.prediction == 0.0)].count()\n",
    "print \"TRAIN METRICS - MULTI-LAYER PERCEPTRON CLASSIFIER\"\n",
    "print \"True Positives:\", true_positive\n",
    "print \"True Negatives:\", true_negative\n",
    "print \"False Positives:\", false_positive\n",
    "print \"False Negatives:\", false_negative\n",
    "print \"Total\", predictionAndLabels_train_mlp.count()\n",
    "precission = true_positive / float(true_positive + false_positive + 1)\n",
    "print \"Precission: \", precission\n",
    "recall = true_positive / float(true_positive + false_negative)\n",
    "print \"Recall: \", recall\n",
    "print \"F1 Score: \", (2*((precission * recall)/float(precission + recall+1)))\n",
    "print(\"*****************************************************************************\")\n",
    "true_positive = predictionAndLabels_test_mlp[(predictionAndLabels_test_mlp.label == 1) & (predictionAndLabels_test_mlp.prediction == 1.0)].count()\n",
    "true_negative = predictionAndLabels_test_mlp[(predictionAndLabels_test_mlp.label == 0) & (predictionAndLabels_test_mlp.prediction == 0.0)].count()\n",
    "false_positive = predictionAndLabels_test_mlp[(predictionAndLabels_test_mlp.label == 0) & (predictionAndLabels_test_mlp.prediction == 1.0)].count()\n",
    "false_negative = predictionAndLabels_test_mlp[(predictionAndLabels_test_mlp.label == 1) & (predictionAndLabels_test_mlp.prediction == 0.0)].count()\n",
    "print \"TEST METRICS - MULTI-LAYER PERCEPTRON CLASSIFIER\"\n",
    "print \"True Positives:\", true_positive\n",
    "print \"True Negatives:\", true_negative\n",
    "print \"False Positives:\", false_positive\n",
    "print \"False Negatives:\", false_negative\n",
    "print \"Total\", predictionAndLabels_train_mlp.count()\n",
    "precission = true_positive / (float(true_positive + false_positive) + 1)\n",
    "print \"Precission: \", precission\n",
    "recall = true_positive / float(true_positive + false_negative)\n",
    "print \"Recall: \", recall\n",
    "print \"F1 Score: \", (2*((precission * recall)/float(precission + recall+1)))"
   ]
  },
  {
   "cell_type": "code",
   "execution_count": null,
   "metadata": {
    "collapsed": true
   },
   "outputs": [],
   "source": []
  }
 ],
 "metadata": {
  "kernelspec": {
   "display_name": "Python 3",
   "language": "python",
   "name": "python3"
  },
  "language_info": {
   "codemirror_mode": {
    "name": "ipython",
    "version": 3
   },
   "file_extension": ".py",
   "mimetype": "text/x-python",
   "name": "python",
   "nbconvert_exporter": "python",
   "pygments_lexer": "ipython3",
   "version": "3.6.2"
  }
 },
 "nbformat": 4,
 "nbformat_minor": 2
}
