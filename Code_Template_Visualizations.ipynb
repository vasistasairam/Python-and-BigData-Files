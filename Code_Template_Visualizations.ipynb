{
 "cells": [
  {
   "cell_type": "code",
   "execution_count": null,
   "metadata": {
    "collapsed": true
   },
   "outputs": [],
   "source": [
    "### Author : Vasista\n",
    "### Date   : 02/11/2018"
   ]
  },
  {
   "cell_type": "code",
   "execution_count": null,
   "metadata": {
    "collapsed": true
   },
   "outputs": [],
   "source": [
    "# Importing Required Packages"
   ]
  },
  {
   "cell_type": "code",
   "execution_count": 12,
   "metadata": {
    "collapsed": true
   },
   "outputs": [],
   "source": [
    "import pandas as pd\n",
    "import numpy as np\n",
    "import seaborn as sns\n",
    "import matplotlib.pyplot as plt"
   ]
  },
  {
   "cell_type": "code",
   "execution_count": null,
   "metadata": {
    "collapsed": true
   },
   "outputs": [],
   "source": [
    "# Visualizations and Distributions For Numerical Data."
   ]
  },
  {
   "cell_type": "code",
   "execution_count": null,
   "metadata": {
    "collapsed": true
   },
   "outputs": [],
   "source": [
    "# Read Dataset"
   ]
  },
  {
   "cell_type": "code",
   "execution_count": 3,
   "metadata": {},
   "outputs": [
    {
     "data": {
      "text/html": [
       "<div>\n",
       "<style>\n",
       "    .dataframe thead tr:only-child th {\n",
       "        text-align: right;\n",
       "    }\n",
       "\n",
       "    .dataframe thead th {\n",
       "        text-align: left;\n",
       "    }\n",
       "\n",
       "    .dataframe tbody tr th {\n",
       "        vertical-align: top;\n",
       "    }\n",
       "</style>\n",
       "<table border=\"1\" class=\"dataframe\">\n",
       "  <thead>\n",
       "    <tr style=\"text-align: right;\">\n",
       "      <th></th>\n",
       "      <th>Symbol</th>\n",
       "      <th>Series</th>\n",
       "      <th>Date</th>\n",
       "      <th>Prev Close</th>\n",
       "      <th>Open Price</th>\n",
       "      <th>High Price</th>\n",
       "      <th>Low Price</th>\n",
       "      <th>Last Price</th>\n",
       "      <th>Close Price</th>\n",
       "      <th>Average Price</th>\n",
       "      <th>Total Traded Quantity</th>\n",
       "      <th>Turnover</th>\n",
       "      <th>No. of Trades</th>\n",
       "      <th>Deliverable Qty</th>\n",
       "      <th>% Dly Qt to Traded Qty</th>\n",
       "    </tr>\n",
       "  </thead>\n",
       "  <tbody>\n",
       "    <tr>\n",
       "      <th>0</th>\n",
       "      <td>TCS</td>\n",
       "      <td>EQ</td>\n",
       "      <td>06-Sep-2016</td>\n",
       "      <td>2514.80</td>\n",
       "      <td>2519.9</td>\n",
       "      <td>2520.15</td>\n",
       "      <td>2480.00</td>\n",
       "      <td>2484.7</td>\n",
       "      <td>2484.05</td>\n",
       "      <td>2492.04</td>\n",
       "      <td>1119533</td>\n",
       "      <td>2.789923e+09</td>\n",
       "      <td>82530</td>\n",
       "      <td>758597</td>\n",
       "      <td>67.76</td>\n",
       "    </tr>\n",
       "    <tr>\n",
       "      <th>1</th>\n",
       "      <td>TCS</td>\n",
       "      <td>EQ</td>\n",
       "      <td>07-Sep-2016</td>\n",
       "      <td>2484.05</td>\n",
       "      <td>2499.7</td>\n",
       "      <td>2499.70</td>\n",
       "      <td>2423.00</td>\n",
       "      <td>2452.1</td>\n",
       "      <td>2440.55</td>\n",
       "      <td>2463.78</td>\n",
       "      <td>1927020</td>\n",
       "      <td>4.747759e+09</td>\n",
       "      <td>69195</td>\n",
       "      <td>1503719</td>\n",
       "      <td>78.03</td>\n",
       "    </tr>\n",
       "    <tr>\n",
       "      <th>2</th>\n",
       "      <td>TCS</td>\n",
       "      <td>EQ</td>\n",
       "      <td>08-Sep-2016</td>\n",
       "      <td>2440.55</td>\n",
       "      <td>2360.0</td>\n",
       "      <td>2360.00</td>\n",
       "      <td>2284.75</td>\n",
       "      <td>2327.7</td>\n",
       "      <td>2322.10</td>\n",
       "      <td>2313.11</td>\n",
       "      <td>3510758</td>\n",
       "      <td>8.120774e+09</td>\n",
       "      <td>171363</td>\n",
       "      <td>2176708</td>\n",
       "      <td>62.00</td>\n",
       "    </tr>\n",
       "    <tr>\n",
       "      <th>3</th>\n",
       "      <td>TCS</td>\n",
       "      <td>EQ</td>\n",
       "      <td>09-Sep-2016</td>\n",
       "      <td>2322.10</td>\n",
       "      <td>2329.7</td>\n",
       "      <td>2366.65</td>\n",
       "      <td>2320.05</td>\n",
       "      <td>2352.0</td>\n",
       "      <td>2352.45</td>\n",
       "      <td>2347.82</td>\n",
       "      <td>1371219</td>\n",
       "      <td>3.219370e+09</td>\n",
       "      <td>85766</td>\n",
       "      <td>817829</td>\n",
       "      <td>59.64</td>\n",
       "    </tr>\n",
       "    <tr>\n",
       "      <th>4</th>\n",
       "      <td>TCS</td>\n",
       "      <td>EQ</td>\n",
       "      <td>12-Sep-2016</td>\n",
       "      <td>2352.45</td>\n",
       "      <td>2337.0</td>\n",
       "      <td>2363.95</td>\n",
       "      <td>2324.00</td>\n",
       "      <td>2358.0</td>\n",
       "      <td>2359.05</td>\n",
       "      <td>2354.99</td>\n",
       "      <td>1012227</td>\n",
       "      <td>2.383780e+09</td>\n",
       "      <td>64982</td>\n",
       "      <td>619258</td>\n",
       "      <td>61.18</td>\n",
       "    </tr>\n",
       "  </tbody>\n",
       "</table>\n",
       "</div>"
      ],
      "text/plain": [
       "  Symbol Series         Date  Prev Close  Open Price  High Price  Low Price  \\\n",
       "0    TCS     EQ  06-Sep-2016     2514.80      2519.9     2520.15    2480.00   \n",
       "1    TCS     EQ  07-Sep-2016     2484.05      2499.7     2499.70    2423.00   \n",
       "2    TCS     EQ  08-Sep-2016     2440.55      2360.0     2360.00    2284.75   \n",
       "3    TCS     EQ  09-Sep-2016     2322.10      2329.7     2366.65    2320.05   \n",
       "4    TCS     EQ  12-Sep-2016     2352.45      2337.0     2363.95    2324.00   \n",
       "\n",
       "   Last Price  Close Price  Average Price  Total Traded Quantity  \\\n",
       "0      2484.7      2484.05        2492.04                1119533   \n",
       "1      2452.1      2440.55        2463.78                1927020   \n",
       "2      2327.7      2322.10        2313.11                3510758   \n",
       "3      2352.0      2352.45        2347.82                1371219   \n",
       "4      2358.0      2359.05        2354.99                1012227   \n",
       "\n",
       "       Turnover  No. of Trades  Deliverable Qty  % Dly Qt to Traded Qty  \n",
       "0  2.789923e+09          82530           758597                   67.76  \n",
       "1  4.747759e+09          69195          1503719                   78.03  \n",
       "2  8.120774e+09         171363          2176708                   62.00  \n",
       "3  3.219370e+09          85766           817829                   59.64  \n",
       "4  2.383780e+09          64982           619258                   61.18  "
      ]
     },
     "execution_count": 3,
     "metadata": {},
     "output_type": "execute_result"
    }
   ],
   "source": [
    "tcs = pd.read_csv('C:\\\\Datasets\\\\tcs.csv')\n",
    "tcs.head()"
   ]
  },
  {
   "cell_type": "code",
   "execution_count": 33,
   "metadata": {},
   "outputs": [
    {
     "name": "stderr",
     "output_type": "stream",
     "text": [
      "C:\\Users\\HP\\Anaconda3\\lib\\site-packages\\matplotlib\\axes\\_axes.py:545: UserWarning: No labelled objects found. Use label='...' kwarg on individual plots.\n",
      "  warnings.warn(\"No labelled objects found. \"\n"
     ]
    },
    {
     "data": {
      "image/png": "[encoded data removed]",
      "text/plain": [
       "<matplotlib.figure.Figure at 0x20defe99a20>"
      ]
     },
     "metadata": {},
     "output_type": "display_data"
    }
   ],
   "source": [
    "# Histogram\n",
    "plt.hist(tcs['Close Price'])\n",
    "plt.xlabel('TCS Market Close Price')\n",
    "plt.ylabel('Frequency')\n",
    "plt.title('TCS Market Close Price Distribution')\n",
    "plt.legend()\n",
    "plt.show()"
   ]
  },
  {
   "cell_type": "code",
   "execution_count": 35,
   "metadata": {},
   "outputs": [
    {
     "name": "stderr",
     "output_type": "stream",
     "text": [
      "C:\\Users\\HP\\Anaconda3\\lib\\site-packages\\matplotlib\\axes\\_axes.py:545: UserWarning: No labelled objects found. Use label='...' kwarg on individual plots.\n",
      "  warnings.warn(\"No labelled objects found. \"\n"
     ]
    },
    {
     "data": {
      "image/png": "[encoded data removed]",
      "text/plain": [
       "<matplotlib.figure.Figure at 0x20df091bba8>"
      ]
     },
     "metadata": {},
     "output_type": "display_data"
    }
   ],
   "source": [
    "# Cumulative Plot\n",
    "plt.hist(tcs['Close Price'], cumulative=True)\n",
    "plt.xlabel('TCS Market Close Price')\n",
    "plt.ylabel('Frequency')\n",
    "plt.title('TCS Market Close Price Distribution')\n",
    "plt.legend()\n",
    "plt.show()"
   ]
  },
  {
   "cell_type": "markdown",
   "metadata": {},
   "source": [
    "# Visualizations and Distributions For Categorical Data With \"Matplotlib\"."
   ]
  },
  {
   "cell_type": "code",
   "execution_count": null,
   "metadata": {
    "collapsed": true
   },
   "outputs": [],
   "source": [
    "# Read Dataset"
   ]
  },
  {
   "cell_type": "code",
   "execution_count": 4,
   "metadata": {},
   "outputs": [
    {
     "data": {
      "text/html": [
       "<div>\n",
       "<style>\n",
       "    .dataframe thead tr:only-child th {\n",
       "        text-align: right;\n",
       "    }\n",
       "\n",
       "    .dataframe thead th {\n",
       "        text-align: left;\n",
       "    }\n",
       "\n",
       "    .dataframe tbody tr th {\n",
       "        vertical-align: top;\n",
       "    }\n",
       "</style>\n",
       "<table border=\"1\" class=\"dataframe\">\n",
       "  <thead>\n",
       "    <tr style=\"text-align: right;\">\n",
       "      <th></th>\n",
       "      <th>Wife_age</th>\n",
       "      <th>Wife_education</th>\n",
       "      <th>Husband_education</th>\n",
       "      <th>Number_of_children_ever_born</th>\n",
       "      <th>Wife_religion</th>\n",
       "      <th>Wife_Employment</th>\n",
       "      <th>Husband_Occupation</th>\n",
       "      <th>Standard_of_living</th>\n",
       "      <th>Media_Exposure</th>\n",
       "      <th>Method</th>\n",
       "    </tr>\n",
       "  </thead>\n",
       "  <tbody>\n",
       "    <tr>\n",
       "      <th>0</th>\n",
       "      <td>24</td>\n",
       "      <td>2</td>\n",
       "      <td>3</td>\n",
       "      <td>3</td>\n",
       "      <td>1</td>\n",
       "      <td>1</td>\n",
       "      <td>2</td>\n",
       "      <td>3</td>\n",
       "      <td>0</td>\n",
       "      <td>1</td>\n",
       "    </tr>\n",
       "    <tr>\n",
       "      <th>1</th>\n",
       "      <td>45</td>\n",
       "      <td>1</td>\n",
       "      <td>3</td>\n",
       "      <td>10</td>\n",
       "      <td>1</td>\n",
       "      <td>1</td>\n",
       "      <td>3</td>\n",
       "      <td>4</td>\n",
       "      <td>0</td>\n",
       "      <td>1</td>\n",
       "    </tr>\n",
       "    <tr>\n",
       "      <th>2</th>\n",
       "      <td>43</td>\n",
       "      <td>2</td>\n",
       "      <td>3</td>\n",
       "      <td>7</td>\n",
       "      <td>1</td>\n",
       "      <td>1</td>\n",
       "      <td>3</td>\n",
       "      <td>4</td>\n",
       "      <td>0</td>\n",
       "      <td>1</td>\n",
       "    </tr>\n",
       "    <tr>\n",
       "      <th>3</th>\n",
       "      <td>42</td>\n",
       "      <td>3</td>\n",
       "      <td>2</td>\n",
       "      <td>9</td>\n",
       "      <td>1</td>\n",
       "      <td>1</td>\n",
       "      <td>3</td>\n",
       "      <td>3</td>\n",
       "      <td>0</td>\n",
       "      <td>1</td>\n",
       "    </tr>\n",
       "    <tr>\n",
       "      <th>4</th>\n",
       "      <td>36</td>\n",
       "      <td>3</td>\n",
       "      <td>3</td>\n",
       "      <td>8</td>\n",
       "      <td>1</td>\n",
       "      <td>1</td>\n",
       "      <td>3</td>\n",
       "      <td>2</td>\n",
       "      <td>0</td>\n",
       "      <td>1</td>\n",
       "    </tr>\n",
       "  </tbody>\n",
       "</table>\n",
       "</div>"
      ],
      "text/plain": [
       "   Wife_age  Wife_education  Husband_education  Number_of_children_ever_born  \\\n",
       "0        24               2                  3                             3   \n",
       "1        45               1                  3                            10   \n",
       "2        43               2                  3                             7   \n",
       "3        42               3                  2                             9   \n",
       "4        36               3                  3                             8   \n",
       "\n",
       "   Wife_religion  Wife_Employment  Husband_Occupation  Standard_of_living  \\\n",
       "0              1                1                   2                   3   \n",
       "1              1                1                   3                   4   \n",
       "2              1                1                   3                   4   \n",
       "3              1                1                   3                   3   \n",
       "4              1                1                   3                   2   \n",
       "\n",
       "   Media_Exposure  Method  \n",
       "0               0       1  \n",
       "1               0       1  \n",
       "2               0       1  \n",
       "3               0       1  \n",
       "4               0       1  "
      ]
     },
     "execution_count": 4,
     "metadata": {},
     "output_type": "execute_result"
    }
   ],
   "source": [
    "contraceptive_data = pd.read_csv('C:\\\\Piazza\\\\CUTe3\\\\DataSet1_ContraceptiveData.csv')\n",
    "contraceptive_data.head()"
   ]
  },
  {
   "cell_type": "code",
   "execution_count": null,
   "metadata": {
    "collapsed": true
   },
   "outputs": [],
   "source": []
  },
  {
   "cell_type": "markdown",
   "metadata": {
    "collapsed": true,
    "scrolled": true
   },
   "source": [
    "### Grid Type Plots in Python Using \"matplotlib\""
   ]
  },
  {
   "cell_type": "code",
   "execution_count": null,
   "metadata": {
    "collapsed": true
   },
   "outputs": [],
   "source": [
    "# Set up the plotting layout\n",
    "fig, ((ax1, ax2), (ax3, ax4)) = plt.subplots(nrows=2, ncols=2, figsize = (15,10))\n",
    "fig.autofmt_xdate(rotation = 45)\n",
    "\n",
    "# Actual max temperature measurement\n",
    "ax1.plot(dates, features['actual'])\n",
    "ax1.set_xlabel(''); ax1.set_ylabel('Temperature (F)'); ax1.set_title('Max Temp')\n",
    "\n",
    "# Temperature from 1 day ago\n",
    "ax2.plot(dates, features['temp_1'])\n",
    "ax2.set_xlabel(''); ax2.set_ylabel('Temperature (F)'); ax2.set_title('Prior Max Temp')\n",
    "\n",
    "# Temperature from 2 days ago\n",
    "ax3.plot(dates, features['temp_2'])\n",
    "ax3.set_xlabel('Date'); ax3.set_ylabel('Temperature (F)'); ax3.set_title('Two Days Prior Max Temp')\n",
    "\n",
    "# Friend Estimate\n",
    "ax4.plot(dates, features['friend'])\n",
    "ax4.set_xlabel('Date'); ax4.set_ylabel('Temperature (F)'); ax4.set_title('Friend Estimate')\n",
    "\n",
    "plt.tight_layout(pad=2)"
   ]
  },
  {
   "cell_type": "markdown",
   "metadata": {
    "collapsed": true
   },
   "source": [
    "### Correlation map"
   ]
  },
  {
   "cell_type": "code",
   "execution_count": null,
   "metadata": {
    "collapsed": true
   },
   "outputs": [],
   "source": [
    "import pandas as pd\n",
    "import numpy as np\n",
    "\n",
    "rs = np.random.RandomState(0)\n",
    "df = pd.DataFrame(rs.rand(10, 10))\n",
    "corr = df.corr()\n",
    "corr.style.background_gradient()"
   ]
  },
  {
   "cell_type": "markdown",
   "metadata": {
    "collapsed": true
   },
   "source": [
    "### Plots With Big Font"
   ]
  },
  {
   "cell_type": "code",
   "execution_count": null,
   "metadata": {
    "collapsed": true
   },
   "outputs": [],
   "source": [
    "fig, ax = plt.subplots(figsize = (7,18))\n",
    "sns.boxplot(data = num_cols_scaled, orient='h', palette='Set2')\n",
    "sns.set(font_scale=2)\n",
    "plt.title('Box Plot For Numeric Variables')\n",
    "plt.show()"
   ]
  },
  {
   "cell_type": "markdown",
   "metadata": {
    "collapsed": true
   },
   "source": [
    "### Multiple Plots At A time"
   ]
  },
  {
   "cell_type": "code",
   "execution_count": null,
   "metadata": {
    "collapsed": true
   },
   "outputs": [],
   "source": [
    "f, axes = plt.subplots(figsize=(14,6), nrows=1, ncols=3)\n",
    "sns.distplot(train.feature_1, ax = axes[0], kde = False, color = 'green', bins=10).set_title('Feature 1')\n",
    "\n",
    "sns.distplot(train.feature_2, ax = axes[1], kde = False, color = 'red', bins=10).set_title(\"Feature 2\") \n",
    "axes[0].set(ylabel='Card Counts')\n",
    "\n",
    "sns.distplot(train.feature_3, ax = axes[2], kde = False, color = 'blue', bins=10).set_title(\"Feature 3\") \n",
    "\n",
    "f.suptitle('fetures vs card counts: Training Data')\n",
    "axes[0].set_xticks(np.arange(1,6,1))\n",
    "axes[1].set_xticks(np.arange(1,4,1))\n",
    "axes[2].set_xticks(np.arange(0,2,1))\n",
    "plt.show()"
   ]
  },
  {
   "cell_type": "markdown",
   "metadata": {
    "collapsed": true
   },
   "source": [
    "### Two Plots at a time"
   ]
  },
  {
   "cell_type": "code",
   "execution_count": null,
   "metadata": {
    "collapsed": true
   },
   "outputs": [],
   "source": [
    "print(trainX['sqft_lot'].corr(trainY['price']))\n",
    "print(trainX['sqft_living'].corr(trainY['price']))\n",
    "\n",
    "fig, ((ax1, ax2)) = plt.subplots(nrows=1, ncols=2, figsize = (20,8))\n",
    "#fig.autofmt_xdate(rotation = 45)\n",
    "\n",
    "ax1.scatter(trainX['sqft_lot'], trainY['price'])\n",
    "ax1.set_xlabel('sqft_lot'); ax1.set_ylabel('price of house'); ax1.set_title('price vs lot_square feet')\n",
    "\n",
    "# Temperature from 1 day ago\n",
    "ax2.scatter(trainX['sqft_living'], trainY['price'])\n",
    "ax2.set_xlabel('sqft_living'); ax2.set_ylabel('price of house'); ax2.set_title('price vs sqft_living area')\n",
    "plt.show()\n"
   ]
  },
  {
   "cell_type": "code",
   "execution_count": null,
   "metadata": {
    "collapsed": true
   },
   "outputs": [],
   "source": []
  }
 ],
 "metadata": {
  "kernelspec": {
   "display_name": "Python 3",
   "language": "python",
   "name": "python3"
  },
  "language_info": {
   "codemirror_mode": {
    "name": "ipython",
    "version": 3
   },
   "file_extension": ".py",
   "mimetype": "text/x-python",
   "name": "python",
   "nbconvert_exporter": "python",
   "pygments_lexer": "ipython3",
   "version": "3.6.2"
  }
 },
 "nbformat": 4,
 "nbformat_minor": 2
}
