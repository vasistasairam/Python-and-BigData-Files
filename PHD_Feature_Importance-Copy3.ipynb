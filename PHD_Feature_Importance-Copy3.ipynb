{
 "cells": [
  {
   "cell_type": "markdown",
   "metadata": {},
   "source": [
    "### Imp Features 0.03 %"
   ]
  },
  {
   "cell_type": "code",
   "execution_count": 71,
   "metadata": {
    "collapsed": true
   },
   "outputs": [],
   "source": [
    "import pandas as pd\n",
    "import numpy as np\n",
    "import os\n",
    "import warnings\n",
    "warnings.filterwarnings('ignore')\n",
    "from datetime import date\n",
    "from datetime import datetime\n",
    "import dateutil\n",
    "from pandas import *\n",
    "import seaborn as sns\n",
    "import matplotlib.pyplot as plt\n",
    "from sklearn.preprocessing import MinMaxScaler"
   ]
  },
  {
   "cell_type": "code",
   "execution_count": 72,
   "metadata": {
    "collapsed": true
   },
   "outputs": [],
   "source": [
    "from sklearn.model_selection import train_test_split\n",
    "from sklearn.ensemble import RandomForestRegressor, GradientBoostingRegressor\n",
    "from sklearn.metrics import r2_score\n",
    "from sklearn.model_selection import KFold \n",
    "from sklearn.model_selection import cross_val_score\n",
    "import lightgbm as lgb\n",
    "from sklearn.model_selection import StratifiedKFold"
   ]
  },
  {
   "cell_type": "code",
   "execution_count": 73,
   "metadata": {
    "collapsed": true
   },
   "outputs": [],
   "source": [
    "csv_files = os.chdir('C:\\\\Users\\\\HP\\\\Desktop\\\\PHD Hackathon\\\\Data Science\\\\PHD Models\\\\Weather_Features')\n",
    "weather_features = pd.read_csv('weatherData_full.csv', encoding='latin 1')\n",
    "holidays_features = pd.read_csv('holidays_features.csv')\n",
    "economic_features = pd.read_csv('economic_features.csv')\n",
    "womenClothing_sales = pd.read_csv('womenClothing_sales.csv')"
   ]
  },
  {
   "cell_type": "code",
   "execution_count": 74,
   "metadata": {},
   "outputs": [
    {
     "name": "stdout",
     "output_type": "stream",
     "text": [
      "womenClothing : (84, 3)\n",
      "holidays_features : (81, 6)\n",
      "economic_features : (96, 18)\n",
      "weather_features : (96, 83)\n"
     ]
    }
   ],
   "source": [
    "print('womenClothing :', womenClothing_sales.shape)\n",
    "print('holidays_features :', holidays_features.shape)\n",
    "print('economic_features :', economic_features.shape)\n",
    "print('weather_features :', weather_features.shape)"
   ]
  },
  {
   "cell_type": "markdown",
   "metadata": {},
   "source": [
    "## Seperate Train and Test Data"
   ]
  },
  {
   "cell_type": "markdown",
   "metadata": {},
   "source": [
    "### Test Data"
   ]
  },
  {
   "cell_type": "code",
   "execution_count": 75,
   "metadata": {
    "collapsed": true
   },
   "outputs": [],
   "source": [
    "weather_features_test = weather_features[weather_features['Year'] == 2016]\n",
    "holidays_features_test = holidays_features[holidays_features['Year'] == 2016]\n",
    "economic_features_test = economic_features[economic_features['Year'] == 2016]"
   ]
  },
  {
   "cell_type": "code",
   "execution_count": 76,
   "metadata": {},
   "outputs": [
    {
     "name": "stdout",
     "output_type": "stream",
     "text": [
      "holidays_features : (11, 6)\n",
      "economic_features : (12, 18)\n",
      "weather_features : (12, 83)\n"
     ]
    }
   ],
   "source": [
    "print('holidays_features :', holidays_features_test.shape)\n",
    "print('economic_features :', economic_features_test.shape)\n",
    "print('weather_features :', weather_features_test.shape)"
   ]
  },
  {
   "cell_type": "code",
   "execution_count": 77,
   "metadata": {
    "collapsed": true
   },
   "outputs": [],
   "source": [
    "test_data = weather_features_test.merge(holidays_features_test, left_on=['Year', 'Month'], right_on=['Year', 'Month'], how='left')\n",
    "test_data = test_data.merge(economic_features_test, left_on=['Year', 'Month'], right_on=['Year', 'Month'], how='left')"
   ]
  },
  {
   "cell_type": "code",
   "execution_count": 78,
   "metadata": {},
   "outputs": [
    {
     "data": {
      "text/html": [
       "<div>\n",
       "<style>\n",
       "    .dataframe thead tr:only-child th {\n",
       "        text-align: right;\n",
       "    }\n",
       "\n",
       "    .dataframe thead th {\n",
       "        text-align: left;\n",
       "    }\n",
       "\n",
       "    .dataframe tbody tr th {\n",
       "        vertical-align: top;\n",
       "    }\n",
       "</style>\n",
       "<table border=\"1\" class=\"dataframe\">\n",
       "  <thead>\n",
       "    <tr style=\"text-align: right;\">\n",
       "      <th></th>\n",
       "      <th>Year</th>\n",
       "      <th>Month</th>\n",
       "      <th>Temp high (°C)min</th>\n",
       "      <th>Temp high (°C)max</th>\n",
       "      <th>Temp high (°C)mean</th>\n",
       "      <th>Temp high (°C)var</th>\n",
       "      <th>Temp avg (°C)min</th>\n",
       "      <th>Temp avg (°C)max</th>\n",
       "      <th>Temp avg (°C)mean</th>\n",
       "      <th>Temp avg (°C)var</th>\n",
       "      <th>...</th>\n",
       "      <th>Earnings or wages  in dollars per hour</th>\n",
       "      <th>AdvertisingExpenses (in Thousand Dollars)</th>\n",
       "      <th>Cotton Monthly Price - US cents per Pound(lbs)</th>\n",
       "      <th>Change(in%)</th>\n",
       "      <th>Average upland planted(million acres)</th>\n",
       "      <th>Average upland harvested(million acres)</th>\n",
       "      <th>yieldperharvested acre</th>\n",
       "      <th>Production (in  480-lb netweright in million bales)</th>\n",
       "      <th>Mill use  (in  480-lb netweright in million bales)</th>\n",
       "      <th>Exports</th>\n",
       "    </tr>\n",
       "  </thead>\n",
       "  <tbody>\n",
       "    <tr>\n",
       "      <th>7</th>\n",
       "      <td>2016</td>\n",
       "      <td>5</td>\n",
       "      <td>11.0</td>\n",
       "      <td>33.0</td>\n",
       "      <td>21.258065</td>\n",
       "      <td>45.197849</td>\n",
       "      <td>9.0</td>\n",
       "      <td>28.0</td>\n",
       "      <td>17.193548</td>\n",
       "      <td>31.894624</td>\n",
       "      <td>...</td>\n",
       "      <td>25.68</td>\n",
       "      <td>0.0</td>\n",
       "      <td>70.28</td>\n",
       "      <td>0.73</td>\n",
       "      <td>8.422</td>\n",
       "      <td>7.920</td>\n",
       "      <td>755</td>\n",
       "      <td>12.455</td>\n",
       "      <td>3.275</td>\n",
       "      <td>8.50</td>\n",
       "    </tr>\n",
       "    <tr>\n",
       "      <th>8</th>\n",
       "      <td>2016</td>\n",
       "      <td>6</td>\n",
       "      <td>19.0</td>\n",
       "      <td>31.0</td>\n",
       "      <td>27.100000</td>\n",
       "      <td>11.127586</td>\n",
       "      <td>16.0</td>\n",
       "      <td>27.0</td>\n",
       "      <td>22.433333</td>\n",
       "      <td>6.322989</td>\n",
       "      <td>...</td>\n",
       "      <td>25.42</td>\n",
       "      <td>0.0</td>\n",
       "      <td>74.10</td>\n",
       "      <td>0.73</td>\n",
       "      <td>9.347</td>\n",
       "      <td>8.588</td>\n",
       "      <td>792</td>\n",
       "      <td>12.165</td>\n",
       "      <td>3.275</td>\n",
       "      <td>9.95</td>\n",
       "    </tr>\n",
       "    <tr>\n",
       "      <th>9</th>\n",
       "      <td>2016</td>\n",
       "      <td>7</td>\n",
       "      <td>22.0</td>\n",
       "      <td>36.0</td>\n",
       "      <td>30.129032</td>\n",
       "      <td>11.449462</td>\n",
       "      <td>21.0</td>\n",
       "      <td>31.0</td>\n",
       "      <td>26.064516</td>\n",
       "      <td>6.662366</td>\n",
       "      <td>...</td>\n",
       "      <td>25.53</td>\n",
       "      <td>0.0</td>\n",
       "      <td>79.50</td>\n",
       "      <td>0.73</td>\n",
       "      <td>9.824</td>\n",
       "      <td>9.104</td>\n",
       "      <td>802</td>\n",
       "      <td>15.215</td>\n",
       "      <td>3.275</td>\n",
       "      <td>10.95</td>\n",
       "    </tr>\n",
       "    <tr>\n",
       "      <th>10</th>\n",
       "      <td>2016</td>\n",
       "      <td>8</td>\n",
       "      <td>26.0</td>\n",
       "      <td>36.0</td>\n",
       "      <td>30.354839</td>\n",
       "      <td>6.169892</td>\n",
       "      <td>22.0</td>\n",
       "      <td>32.0</td>\n",
       "      <td>26.354839</td>\n",
       "      <td>5.303226</td>\n",
       "      <td>...</td>\n",
       "      <td>25.52</td>\n",
       "      <td>0.0</td>\n",
       "      <td>79.50</td>\n",
       "      <td>-0.99</td>\n",
       "      <td>9.824</td>\n",
       "      <td>9.340</td>\n",
       "      <td>787</td>\n",
       "      <td>15.314</td>\n",
       "      <td>3.275</td>\n",
       "      <td>10.95</td>\n",
       "    </tr>\n",
       "    <tr>\n",
       "      <th>11</th>\n",
       "      <td>2016</td>\n",
       "      <td>9</td>\n",
       "      <td>15.0</td>\n",
       "      <td>33.0</td>\n",
       "      <td>26.166667</td>\n",
       "      <td>19.040230</td>\n",
       "      <td>14.0</td>\n",
       "      <td>28.0</td>\n",
       "      <td>22.133333</td>\n",
       "      <td>12.809195</td>\n",
       "      <td>...</td>\n",
       "      <td>25.74</td>\n",
       "      <td>0.0</td>\n",
       "      <td>77.86</td>\n",
       "      <td>-2.99</td>\n",
       "      <td>9.950</td>\n",
       "      <td>9.464</td>\n",
       "      <td>790</td>\n",
       "      <td>15.580</td>\n",
       "      <td>3.275</td>\n",
       "      <td>10.95</td>\n",
       "    </tr>\n",
       "  </tbody>\n",
       "</table>\n",
       "<p>5 rows × 103 columns</p>\n",
       "</div>"
      ],
      "text/plain": [
       "    Year  Month  Temp high (°C)min  Temp high (°C)max  Temp high (°C)mean  \\\n",
       "7   2016      5               11.0               33.0           21.258065   \n",
       "8   2016      6               19.0               31.0           27.100000   \n",
       "9   2016      7               22.0               36.0           30.129032   \n",
       "10  2016      8               26.0               36.0           30.354839   \n",
       "11  2016      9               15.0               33.0           26.166667   \n",
       "\n",
       "    Temp high (°C)var  Temp avg (°C)min  Temp avg (°C)max  Temp avg (°C)mean  \\\n",
       "7           45.197849               9.0              28.0          17.193548   \n",
       "8           11.127586              16.0              27.0          22.433333   \n",
       "9           11.449462              21.0              31.0          26.064516   \n",
       "10           6.169892              22.0              32.0          26.354839   \n",
       "11          19.040230              14.0              28.0          22.133333   \n",
       "\n",
       "    Temp avg (°C)var   ...     Earnings or wages  in dollars per hour  \\\n",
       "7          31.894624   ...                                      25.68   \n",
       "8           6.322989   ...                                      25.42   \n",
       "9           6.662366   ...                                      25.53   \n",
       "10          5.303226   ...                                      25.52   \n",
       "11         12.809195   ...                                      25.74   \n",
       "\n",
       "    AdvertisingExpenses (in Thousand Dollars)  \\\n",
       "7                                         0.0   \n",
       "8                                         0.0   \n",
       "9                                         0.0   \n",
       "10                                        0.0   \n",
       "11                                        0.0   \n",
       "\n",
       "    Cotton Monthly Price - US cents per Pound(lbs)  Change(in%)  \\\n",
       "7                                            70.28         0.73   \n",
       "8                                            74.10         0.73   \n",
       "9                                            79.50         0.73   \n",
       "10                                           79.50        -0.99   \n",
       "11                                           77.86        -2.99   \n",
       "\n",
       "    Average upland planted(million acres)  \\\n",
       "7                                   8.422   \n",
       "8                                   9.347   \n",
       "9                                   9.824   \n",
       "10                                  9.824   \n",
       "11                                  9.950   \n",
       "\n",
       "    Average upland harvested(million acres)  yieldperharvested acre  \\\n",
       "7                                     7.920                     755   \n",
       "8                                     8.588                     792   \n",
       "9                                     9.104                     802   \n",
       "10                                    9.340                     787   \n",
       "11                                    9.464                     790   \n",
       "\n",
       "    Production (in  480-lb netweright in million bales)  \\\n",
       "7                                              12.455     \n",
       "8                                              12.165     \n",
       "9                                              15.215     \n",
       "10                                             15.314     \n",
       "11                                             15.580     \n",
       "\n",
       "    Mill use  (in  480-lb netweright in million bales)  Exports  \n",
       "7                                               3.275      8.50  \n",
       "8                                               3.275      9.95  \n",
       "9                                               3.275     10.95  \n",
       "10                                              3.275     10.95  \n",
       "11                                              3.275     10.95  \n",
       "\n",
       "[5 rows x 103 columns]"
      ]
     },
     "execution_count": 78,
     "metadata": {},
     "output_type": "execute_result"
    }
   ],
   "source": [
    "test_data.tail()"
   ]
  },
  {
   "cell_type": "code",
   "execution_count": 79,
   "metadata": {
    "scrolled": true
   },
   "outputs": [
    {
     "data": {
      "text/plain": [
       "Year                                                                 0\n",
       "Month                                                                0\n",
       "Temp high (°C)min                                                    0\n",
       "Temp high (°C)max                                                    0\n",
       "Temp high (°C)mean                                                   0\n",
       "Temp high (°C)var                                                    0\n",
       "Temp avg (°C)min                                                     0\n",
       "Temp avg (°C)max                                                     0\n",
       "Temp avg (°C)mean                                                    0\n",
       "Temp avg (°C)var                                                     0\n",
       "Temp low (°C)min                                                     0\n",
       "Temp low (°C)max                                                     0\n",
       "Temp low (°C)mean                                                    0\n",
       "Temp low (°C)var                                                     0\n",
       "Dew Point high (°C)min                                               0\n",
       "Dew Point high (°C)max                                               0\n",
       "Dew Point high (°C)mean                                              0\n",
       "Dew Point high (°C)var                                               0\n",
       "Dew Point avg (°C)min                                                0\n",
       "Dew Point avg (°C)max                                                0\n",
       "Dew Point avg (°C)mean                                               0\n",
       "Dew Point avg (°C)var                                                0\n",
       "Dew Point low (°C)min                                                0\n",
       "Dew Point low (°C)max                                                0\n",
       "Dew Point low (°C)mean                                               0\n",
       "Dew Point low (°C)var                                                0\n",
       "Humidity_highmin                                                     0\n",
       "Humidity_highmax                                                     0\n",
       "Humidity_highmean                                                    0\n",
       "Humidity_highvar                                                     0\n",
       "                                                                    ..\n",
       "Wind (km/h) highvar                                                  0\n",
       "Fog                                                                  0\n",
       "Fog , Rain                                                           0\n",
       "Fog , Rain , Snow                                                    0\n",
       "Fog , Snow                                                           0\n",
       "Other                                                                0\n",
       "Rain                                                                 0\n",
       "Rain , Snow                                                          0\n",
       "Snow                                                                 0\n",
       "Thunderstorm                                                         0\n",
       "Event                                                                1\n",
       "Federal Holiday                                                      1\n",
       "Event_Yes_No                                                         1\n",
       "Federal Holiday_Yes_No                                               1\n",
       "Monthly Nominal GDP Index (inMillion$)                               0\n",
       "Monthly Real GDP Index (inMillion$)                                  0\n",
       "CPI                                                                  0\n",
       "unemployment rate                                                    0\n",
       "CommercialBankInterestRateonCreditCardPlans                          0\n",
       "Finance Rate on Personal Loans at Commercial Banks, 24 Month Loan    0\n",
       "Earnings or wages  in dollars per hour                               0\n",
       "AdvertisingExpenses (in Thousand Dollars)                            0\n",
       "Cotton Monthly Price - US cents per Pound(lbs)                       0\n",
       "Change(in%)                                                          0\n",
       "Average upland planted(million acres)                                0\n",
       "Average upland harvested(million acres)                              0\n",
       "yieldperharvested acre                                               0\n",
       "Production (in  480-lb netweright in million bales)                  0\n",
       "Mill use  (in  480-lb netweright in million bales)                   0\n",
       "Exports                                                              0\n",
       "Length: 103, dtype: int64"
      ]
     },
     "execution_count": 79,
     "metadata": {},
     "output_type": "execute_result"
    }
   ],
   "source": [
    "test_data.isnull().sum()"
   ]
  },
  {
   "cell_type": "markdown",
   "metadata": {},
   "source": [
    "### Train Data"
   ]
  },
  {
   "cell_type": "code",
   "execution_count": 80,
   "metadata": {
    "collapsed": true
   },
   "outputs": [],
   "source": [
    "weather_features_train = weather_features[weather_features['Year'] != 2016]\n",
    "holidays_features_train = holidays_features[holidays_features['Year'] != 2016]\n",
    "economic_features_train = economic_features[economic_features['Year'] != 2016]"
   ]
  },
  {
   "cell_type": "code",
   "execution_count": 81,
   "metadata": {},
   "outputs": [
    {
     "name": "stdout",
     "output_type": "stream",
     "text": [
      "holidays_features : (70, 6)\n",
      "economic_features : (84, 18)\n",
      "weather_features : (84, 83)\n"
     ]
    }
   ],
   "source": [
    "print('holidays_features :', holidays_features_train.shape)\n",
    "print('economic_features :', economic_features_train.shape)\n",
    "print('weather_features :', weather_features_train.shape)"
   ]
  },
  {
   "cell_type": "code",
   "execution_count": 82,
   "metadata": {
    "collapsed": true
   },
   "outputs": [],
   "source": [
    "train_data = womenClothing_sales.merge(holidays_features_train, left_on=['Year', 'Month'], right_on=['Year', 'Month'], how='left')\n",
    "train_data = train_data.merge(economic_features_train, left_on=['Year', 'Month'], right_on=['Year', 'Month'], how='left')\n",
    "train_data = train_data.merge(weather_features_train, left_on=['Year', 'Month'], right_on=['Year', 'Month'], how='left')"
   ]
  },
  {
   "cell_type": "code",
   "execution_count": 83,
   "metadata": {},
   "outputs": [
    {
     "data": {
      "text/html": [
       "<div>\n",
       "<style>\n",
       "    .dataframe thead tr:only-child th {\n",
       "        text-align: right;\n",
       "    }\n",
       "\n",
       "    .dataframe thead th {\n",
       "        text-align: left;\n",
       "    }\n",
       "\n",
       "    .dataframe tbody tr th {\n",
       "        vertical-align: top;\n",
       "    }\n",
       "</style>\n",
       "<table border=\"1\" class=\"dataframe\">\n",
       "  <thead>\n",
       "    <tr style=\"text-align: right;\">\n",
       "      <th></th>\n",
       "      <th>Year</th>\n",
       "      <th>Month</th>\n",
       "      <th>WomenClothing_Sales</th>\n",
       "      <th>Event</th>\n",
       "      <th>Federal Holiday</th>\n",
       "      <th>Event_Yes_No</th>\n",
       "      <th>Federal Holiday_Yes_No</th>\n",
       "      <th>Monthly Nominal GDP Index (inMillion$)</th>\n",
       "      <th>Monthly Real GDP Index (inMillion$)</th>\n",
       "      <th>CPI</th>\n",
       "      <th>...</th>\n",
       "      <th>Wind (km/h) highvar</th>\n",
       "      <th>Fog</th>\n",
       "      <th>Fog , Rain</th>\n",
       "      <th>Fog , Rain , Snow</th>\n",
       "      <th>Fog , Snow</th>\n",
       "      <th>Other</th>\n",
       "      <th>Rain</th>\n",
       "      <th>Rain , Snow</th>\n",
       "      <th>Snow</th>\n",
       "      <th>Thunderstorm</th>\n",
       "    </tr>\n",
       "  </thead>\n",
       "  <tbody>\n",
       "    <tr>\n",
       "      <th>0</th>\n",
       "      <td>2009</td>\n",
       "      <td>1</td>\n",
       "      <td>1755.0</td>\n",
       "      <td>0.0</td>\n",
       "      <td>2.0</td>\n",
       "      <td>No</td>\n",
       "      <td>Yes</td>\n",
       "      <td>14421.752895</td>\n",
       "      <td>14407.053343</td>\n",
       "      <td>233.402</td>\n",
       "      <td>...</td>\n",
       "      <td>96.625806</td>\n",
       "      <td>0</td>\n",
       "      <td>0</td>\n",
       "      <td>2</td>\n",
       "      <td>2</td>\n",
       "      <td>21</td>\n",
       "      <td>3</td>\n",
       "      <td>0</td>\n",
       "      <td>3</td>\n",
       "      <td>0</td>\n",
       "    </tr>\n",
       "    <tr>\n",
       "      <th>1</th>\n",
       "      <td>2009</td>\n",
       "      <td>2</td>\n",
       "      <td>1729.0</td>\n",
       "      <td>1.0</td>\n",
       "      <td>1.0</td>\n",
       "      <td>Yes</td>\n",
       "      <td>Yes</td>\n",
       "      <td>14389.200466</td>\n",
       "      <td>14366.176571</td>\n",
       "      <td>234.663</td>\n",
       "      <td>...</td>\n",
       "      <td>167.349206</td>\n",
       "      <td>0</td>\n",
       "      <td>0</td>\n",
       "      <td>0</td>\n",
       "      <td>1</td>\n",
       "      <td>22</td>\n",
       "      <td>4</td>\n",
       "      <td>1</td>\n",
       "      <td>0</td>\n",
       "      <td>0</td>\n",
       "    </tr>\n",
       "    <tr>\n",
       "      <th>2</th>\n",
       "      <td>2009</td>\n",
       "      <td>3</td>\n",
       "      <td>2256.0</td>\n",
       "      <td>NaN</td>\n",
       "      <td>NaN</td>\n",
       "      <td>NaN</td>\n",
       "      <td>NaN</td>\n",
       "      <td>14340.701639</td>\n",
       "      <td>14351.786822</td>\n",
       "      <td>235.067</td>\n",
       "      <td>...</td>\n",
       "      <td>92.245161</td>\n",
       "      <td>1</td>\n",
       "      <td>0</td>\n",
       "      <td>0</td>\n",
       "      <td>2</td>\n",
       "      <td>21</td>\n",
       "      <td>7</td>\n",
       "      <td>0</td>\n",
       "      <td>0</td>\n",
       "      <td>0</td>\n",
       "    </tr>\n",
       "    <tr>\n",
       "      <th>3</th>\n",
       "      <td>2009</td>\n",
       "      <td>4</td>\n",
       "      <td>2662.0</td>\n",
       "      <td>1.0</td>\n",
       "      <td>0.0</td>\n",
       "      <td>Yes</td>\n",
       "      <td>No</td>\n",
       "      <td>14326.815525</td>\n",
       "      <td>14351.601731</td>\n",
       "      <td>235.582</td>\n",
       "      <td>...</td>\n",
       "      <td>87.426437</td>\n",
       "      <td>0</td>\n",
       "      <td>1</td>\n",
       "      <td>0</td>\n",
       "      <td>0</td>\n",
       "      <td>18</td>\n",
       "      <td>11</td>\n",
       "      <td>0</td>\n",
       "      <td>0</td>\n",
       "      <td>0</td>\n",
       "    </tr>\n",
       "    <tr>\n",
       "      <th>4</th>\n",
       "      <td>2009</td>\n",
       "      <td>5</td>\n",
       "      <td>2732.0</td>\n",
       "      <td>1.0</td>\n",
       "      <td>1.0</td>\n",
       "      <td>Yes</td>\n",
       "      <td>Yes</td>\n",
       "      <td>14345.904809</td>\n",
       "      <td>14368.123959</td>\n",
       "      <td>235.975</td>\n",
       "      <td>...</td>\n",
       "      <td>88.874886</td>\n",
       "      <td>0</td>\n",
       "      <td>4</td>\n",
       "      <td>0</td>\n",
       "      <td>0</td>\n",
       "      <td>17</td>\n",
       "      <td>10</td>\n",
       "      <td>0</td>\n",
       "      <td>0</td>\n",
       "      <td>0</td>\n",
       "    </tr>\n",
       "  </tbody>\n",
       "</table>\n",
       "<p>5 rows × 104 columns</p>\n",
       "</div>"
      ],
      "text/plain": [
       "   Year  Month  WomenClothing_Sales  Event  Federal Holiday Event_Yes_No  \\\n",
       "0  2009      1               1755.0    0.0              2.0           No   \n",
       "1  2009      2               1729.0    1.0              1.0          Yes   \n",
       "2  2009      3               2256.0    NaN              NaN          NaN   \n",
       "3  2009      4               2662.0    1.0              0.0          Yes   \n",
       "4  2009      5               2732.0    1.0              1.0          Yes   \n",
       "\n",
       "  Federal Holiday_Yes_No  Monthly Nominal GDP Index (inMillion$)  \\\n",
       "0                    Yes                            14421.752895   \n",
       "1                    Yes                            14389.200466   \n",
       "2                    NaN                            14340.701639   \n",
       "3                     No                            14326.815525   \n",
       "4                    Yes                            14345.904809   \n",
       "\n",
       "   Monthly Real GDP Index (inMillion$)      CPI      ...       \\\n",
       "0                         14407.053343  233.402      ...        \n",
       "1                         14366.176571  234.663      ...        \n",
       "2                         14351.786822  235.067      ...        \n",
       "3                         14351.601731  235.582      ...        \n",
       "4                         14368.123959  235.975      ...        \n",
       "\n",
       "   Wind (km/h) highvar  Fog  Fog , Rain  Fog , Rain , Snow  Fog , Snow  Other  \\\n",
       "0            96.625806    0           0                  2           2     21   \n",
       "1           167.349206    0           0                  0           1     22   \n",
       "2            92.245161    1           0                  0           2     21   \n",
       "3            87.426437    0           1                  0           0     18   \n",
       "4            88.874886    0           4                  0           0     17   \n",
       "\n",
       "   Rain  Rain , Snow  Snow  Thunderstorm  \n",
       "0     3            0     3             0  \n",
       "1     4            1     0             0  \n",
       "2     7            0     0             0  \n",
       "3    11            0     0             0  \n",
       "4    10            0     0             0  \n",
       "\n",
       "[5 rows x 104 columns]"
      ]
     },
     "execution_count": 83,
     "metadata": {},
     "output_type": "execute_result"
    }
   ],
   "source": [
    "train_data.head()"
   ]
  },
  {
   "cell_type": "code",
   "execution_count": 84,
   "metadata": {},
   "outputs": [
    {
     "data": {
      "text/plain": [
       "(84, 104)"
      ]
     },
     "execution_count": 84,
     "metadata": {},
     "output_type": "execute_result"
    }
   ],
   "source": [
    "train_data.shape"
   ]
  },
  {
   "cell_type": "code",
   "execution_count": 85,
   "metadata": {
    "scrolled": true
   },
   "outputs": [
    {
     "data": {
      "text/plain": [
       "Year                                                                  0\n",
       "Month                                                                 0\n",
       "WomenClothing_Sales                                                   0\n",
       "Event                                                                14\n",
       "Federal Holiday                                                      14\n",
       "Event_Yes_No                                                         14\n",
       "Federal Holiday_Yes_No                                               14\n",
       "Monthly Nominal GDP Index (inMillion$)                                0\n",
       "Monthly Real GDP Index (inMillion$)                                   0\n",
       "CPI                                                                   0\n",
       "unemployment rate                                                     0\n",
       "CommercialBankInterestRateonCreditCardPlans                           0\n",
       "Finance Rate on Personal Loans at Commercial Banks, 24 Month Loan     0\n",
       "Earnings or wages  in dollars per hour                                0\n",
       "AdvertisingExpenses (in Thousand Dollars)                             0\n",
       "Cotton Monthly Price - US cents per Pound(lbs)                        0\n",
       "Change(in%)                                                           0\n",
       "Average upland planted(million acres)                                 0\n",
       "Average upland harvested(million acres)                               0\n",
       "yieldperharvested acre                                                0\n",
       "Production (in  480-lb netweright in million bales)                   0\n",
       "Mill use  (in  480-lb netweright in million bales)                    0\n",
       "Exports                                                               0\n",
       "Temp high (°C)min                                                     0\n",
       "Temp high (°C)max                                                     0\n",
       "Temp high (°C)mean                                                    0\n",
       "Temp high (°C)var                                                     0\n",
       "Temp avg (°C)min                                                      0\n",
       "Temp avg (°C)max                                                      0\n",
       "Temp avg (°C)mean                                                     0\n",
       "                                                                     ..\n",
       "Visibility (km) highvar                                               0\n",
       "Visibility (km) avgmin                                                0\n",
       "Visibility (km) avgmax                                                0\n",
       "Visibility (km) avgmean                                               0\n",
       "Visibility (km) avgvar                                                0\n",
       "Visibility (km) lowmin                                                0\n",
       "Visibility (km) lowmax                                                0\n",
       "Visibility (km) lowmean                                               0\n",
       "Visibility (km) lowvar                                                0\n",
       "Wind (km/h) lowmin                                                    0\n",
       "Wind (km/h) lowmax                                                    0\n",
       "Wind (km/h) lowmean                                                   0\n",
       "Wind (km/h) lowvar                                                    0\n",
       "Wind (km/h) avgmin                                                    0\n",
       "Wind (km/h) avgmax                                                    0\n",
       "Wind (km/h) avgmean                                                   0\n",
       "Wind (km/h) avgvar                                                    0\n",
       "Wind (km/h) highmin                                                   0\n",
       "Wind (km/h) highmax                                                   0\n",
       "Wind (km/h) highmean                                                  0\n",
       "Wind (km/h) highvar                                                   0\n",
       "Fog                                                                   0\n",
       "Fog , Rain                                                            0\n",
       "Fog , Rain , Snow                                                     0\n",
       "Fog , Snow                                                            0\n",
       "Other                                                                 0\n",
       "Rain                                                                  0\n",
       "Rain , Snow                                                           0\n",
       "Snow                                                                  0\n",
       "Thunderstorm                                                          0\n",
       "Length: 104, dtype: int64"
      ]
     },
     "execution_count": 85,
     "metadata": {},
     "output_type": "execute_result"
    }
   ],
   "source": [
    "train_data.isnull().sum()"
   ]
  },
  {
   "cell_type": "code",
   "execution_count": 86,
   "metadata": {
    "collapsed": true
   },
   "outputs": [],
   "source": [
    "# train_data['new_col'] = train_data['Month'].apply(lambda x: 1 if x==12 else 0)\n",
    "# test_data['new_col'] = test_data['Month'].apply(lambda x: 1 if x==12 else 0)\n"
   ]
  },
  {
   "cell_type": "markdown",
   "metadata": {},
   "source": [
    "### Drop Columns"
   ]
  },
  {
   "cell_type": "code",
   "execution_count": 87,
   "metadata": {
    "collapsed": true
   },
   "outputs": [],
   "source": [
    "X = train_data.copy().drop(['WomenClothing_Sales','Event_Yes_No', 'Federal Holiday_Yes_No'], axis = 1)\n",
    "Y = train_data['WomenClothing_Sales']\n",
    "Y1 = train_data['Year']"
   ]
  },
  {
   "cell_type": "markdown",
   "metadata": {},
   "source": [
    "### Fill Missing Values"
   ]
  },
  {
   "cell_type": "code",
   "execution_count": 88,
   "metadata": {
    "collapsed": true
   },
   "outputs": [],
   "source": [
    "X = X.fillna(0)\n",
    "test_data = test_data.fillna(0)"
   ]
  },
  {
   "cell_type": "markdown",
   "metadata": {},
   "source": [
    "## Models"
   ]
  },
  {
   "cell_type": "code",
   "execution_count": 89,
   "metadata": {
    "collapsed": true,
    "scrolled": false
   },
   "outputs": [],
   "source": [
    "trainX_fold, valX_fold, trainY_fold, valY_fold =  train_test_split(X, Y1, test_size=0.2, random_state=42, shuffle=False)\n",
    "y_train, y_val = Y.loc[trainY_fold.index], Y.loc[valY_fold.index]"
   ]
  },
  {
   "cell_type": "code",
   "execution_count": 90,
   "metadata": {},
   "outputs": [
    {
     "name": "stdout",
     "output_type": "stream",
     "text": [
      "(67, 101)\n"
     ]
    },
    {
     "data": {
      "text/plain": [
       "pandas.core.series.Series"
      ]
     },
     "execution_count": 90,
     "metadata": {},
     "output_type": "execute_result"
    }
   ],
   "source": [
    "print(trainX_fold.shape)\n",
    "type(y_train)"
   ]
  },
  {
   "cell_type": "markdown",
   "metadata": {},
   "source": [
    "### MAPE Function"
   ]
  },
  {
   "cell_type": "code",
   "execution_count": 91,
   "metadata": {
    "collapsed": true
   },
   "outputs": [],
   "source": [
    "def mean_absolute_percentage_error(y_true, y_pred): \n",
    "    y_true, y_pred = np.array(y_true), np.array(y_pred)\n",
    "    return np.mean(np.abs((y_true - y_pred) / y_true)) * 100"
   ]
  },
  {
   "cell_type": "code",
   "execution_count": 92,
   "metadata": {
    "collapsed": true
   },
   "outputs": [],
   "source": [
    "def run_lgb(train_X, train_y, val_X, val_y):\n",
    "    param = {'num_leaves': 30,\n",
    "#              'min_data_in_leaf': 100,\n",
    "             'objective': 'regression',\n",
    "             'max_depth': 8,\n",
    "             'learning_rate': 0.01,\n",
    "             \"boosting\": \"gbdt\",\n",
    "             \"feature_fraction\": 0.7,\n",
    "             \"bagging_freq\": 1,\n",
    "             \"bagging_fraction\": 0.7,\n",
    "             \"bagging_seed\": 11,\n",
    "             \"metric\": 'mape',\n",
    "             # \"lambda_l1\": 0.2634,\n",
    "             \"random_state\": 133,\n",
    "             \"verbosity\": -1}\n",
    "\n",
    "    lgtrain = lgb.Dataset(train_X, label=train_y)\n",
    "    lgval = lgb.Dataset(val_X, label=val_y)\n",
    "    evals_result = {}\n",
    "    model = lgb.train(param, lgtrain, 2000, valid_sets=[lgval], early_stopping_rounds=100, verbose_eval=100,\n",
    "                      evals_result=evals_result)\n",
    "    return model, evals_result\n"
   ]
  },
  {
   "cell_type": "code",
   "execution_count": 93,
   "metadata": {
    "scrolled": true
   },
   "outputs": [
    {
     "name": "stdout",
     "output_type": "stream",
     "text": [
      "Training until validation scores don't improve for 100 rounds.\n",
      "[100]\tvalid_0's mape: 0.186969\n",
      "[200]\tvalid_0's mape: 0.176913\n",
      "[300]\tvalid_0's mape: 0.170845\n",
      "[400]\tvalid_0's mape: 0.16492\n",
      "[500]\tvalid_0's mape: 0.160723\n",
      "[600]\tvalid_0's mape: 0.158184\n",
      "[700]\tvalid_0's mape: 0.156507\n",
      "[800]\tvalid_0's mape: 0.155842\n",
      "[900]\tvalid_0's mape: 0.153278\n",
      "[1000]\tvalid_0's mape: 0.15227\n",
      "Early stopping, best iteration is:\n",
      "[995]\tvalid_0's mape: 0.151744\n"
     ]
    }
   ],
   "source": [
    "model, evals_result = run_lgb(trainX_fold, y_train, valX_fold, y_val)"
   ]
  },
  {
   "cell_type": "code",
   "execution_count": null,
   "metadata": {
    "collapsed": true
   },
   "outputs": [],
   "source": []
  },
  {
   "cell_type": "markdown",
   "metadata": {},
   "source": [
    "### Predict On Test"
   ]
  },
  {
   "cell_type": "code",
   "execution_count": 94,
   "metadata": {
    "collapsed": true
   },
   "outputs": [],
   "source": [
    "test_data = test_data.drop(['Event_Yes_No', 'Federal Holiday_Yes_No'], axis=1)"
   ]
  },
  {
   "cell_type": "code",
   "execution_count": 95,
   "metadata": {},
   "outputs": [
    {
     "data": {
      "text/plain": [
       "array([2395.84864769, 2957.35444629, 2957.35444629, 2707.55445066,\n",
       "       2395.84864769, 2657.30311592, 2605.57088298, 2769.38714259,\n",
       "       3055.11425564, 3186.85298939, 3229.47333761, 3039.93684907])"
      ]
     },
     "execution_count": 95,
     "metadata": {},
     "output_type": "execute_result"
    }
   ],
   "source": [
    "model.predict(test_data)"
   ]
  },
  {
   "cell_type": "code",
   "execution_count": 96,
   "metadata": {
    "collapsed": true
   },
   "outputs": [],
   "source": [
    "test_results = pd.DataFrame({'Sales(In ThousandDollars)': model.predict(test_data)})"
   ]
  },
  {
   "cell_type": "code",
   "execution_count": 97,
   "metadata": {},
   "outputs": [
    {
     "data": {
      "text/html": [
       "<div>\n",
       "<style>\n",
       "    .dataframe thead tr:only-child th {\n",
       "        text-align: right;\n",
       "    }\n",
       "\n",
       "    .dataframe thead th {\n",
       "        text-align: left;\n",
       "    }\n",
       "\n",
       "    .dataframe tbody tr th {\n",
       "        vertical-align: top;\n",
       "    }\n",
       "</style>\n",
       "<table border=\"1\" class=\"dataframe\">\n",
       "  <thead>\n",
       "    <tr style=\"text-align: right;\">\n",
       "      <th></th>\n",
       "      <th>Sales(In ThousandDollars)</th>\n",
       "    </tr>\n",
       "  </thead>\n",
       "  <tbody>\n",
       "    <tr>\n",
       "      <th>0</th>\n",
       "      <td>2395.848648</td>\n",
       "    </tr>\n",
       "    <tr>\n",
       "      <th>1</th>\n",
       "      <td>2957.354446</td>\n",
       "    </tr>\n",
       "    <tr>\n",
       "      <th>2</th>\n",
       "      <td>2957.354446</td>\n",
       "    </tr>\n",
       "    <tr>\n",
       "      <th>3</th>\n",
       "      <td>2707.554451</td>\n",
       "    </tr>\n",
       "    <tr>\n",
       "      <th>4</th>\n",
       "      <td>2395.848648</td>\n",
       "    </tr>\n",
       "    <tr>\n",
       "      <th>5</th>\n",
       "      <td>2657.303116</td>\n",
       "    </tr>\n",
       "    <tr>\n",
       "      <th>6</th>\n",
       "      <td>2605.570883</td>\n",
       "    </tr>\n",
       "    <tr>\n",
       "      <th>7</th>\n",
       "      <td>2769.387143</td>\n",
       "    </tr>\n",
       "    <tr>\n",
       "      <th>8</th>\n",
       "      <td>3055.114256</td>\n",
       "    </tr>\n",
       "    <tr>\n",
       "      <th>9</th>\n",
       "      <td>3186.852989</td>\n",
       "    </tr>\n",
       "    <tr>\n",
       "      <th>10</th>\n",
       "      <td>3229.473338</td>\n",
       "    </tr>\n",
       "    <tr>\n",
       "      <th>11</th>\n",
       "      <td>3039.936849</td>\n",
       "    </tr>\n",
       "  </tbody>\n",
       "</table>\n",
       "</div>"
      ],
      "text/plain": [
       "    Sales(In ThousandDollars)\n",
       "0                 2395.848648\n",
       "1                 2957.354446\n",
       "2                 2957.354446\n",
       "3                 2707.554451\n",
       "4                 2395.848648\n",
       "5                 2657.303116\n",
       "6                 2605.570883\n",
       "7                 2769.387143\n",
       "8                 3055.114256\n",
       "9                 3186.852989\n",
       "10                3229.473338\n",
       "11                3039.936849"
      ]
     },
     "execution_count": 97,
     "metadata": {},
     "output_type": "execute_result"
    }
   ],
   "source": [
    "test_results"
   ]
  },
  {
   "cell_type": "code",
   "execution_count": 98,
   "metadata": {},
   "outputs": [
    {
     "data": {
      "text/html": [
       "<div>\n",
       "<style>\n",
       "    .dataframe thead tr:only-child th {\n",
       "        text-align: right;\n",
       "    }\n",
       "\n",
       "    .dataframe thead th {\n",
       "        text-align: left;\n",
       "    }\n",
       "\n",
       "    .dataframe tbody tr th {\n",
       "        vertical-align: top;\n",
       "    }\n",
       "</style>\n",
       "<table border=\"1\" class=\"dataframe\">\n",
       "  <thead>\n",
       "    <tr style=\"text-align: right;\">\n",
       "      <th></th>\n",
       "      <th>ID</th>\n",
       "      <th>Sales(In ThousandDollars)</th>\n",
       "      <th>Year</th>\n",
       "      <th>Month</th>\n",
       "      <th>ProductCategory</th>\n",
       "    </tr>\n",
       "  </thead>\n",
       "  <tbody>\n",
       "    <tr>\n",
       "      <th>0</th>\n",
       "      <td>1</td>\n",
       "      <td>110</td>\n",
       "      <td>2016</td>\n",
       "      <td>1</td>\n",
       "      <td>WomenClothing</td>\n",
       "    </tr>\n",
       "    <tr>\n",
       "      <th>1</th>\n",
       "      <td>2</td>\n",
       "      <td>140</td>\n",
       "      <td>2016</td>\n",
       "      <td>2</td>\n",
       "      <td>WomenClothing</td>\n",
       "    </tr>\n",
       "    <tr>\n",
       "      <th>2</th>\n",
       "      <td>3</td>\n",
       "      <td>199</td>\n",
       "      <td>2016</td>\n",
       "      <td>3</td>\n",
       "      <td>WomenClothing</td>\n",
       "    </tr>\n",
       "    <tr>\n",
       "      <th>3</th>\n",
       "      <td>4</td>\n",
       "      <td>246</td>\n",
       "      <td>2016</td>\n",
       "      <td>4</td>\n",
       "      <td>WomenClothing</td>\n",
       "    </tr>\n",
       "    <tr>\n",
       "      <th>4</th>\n",
       "      <td>5</td>\n",
       "      <td>66</td>\n",
       "      <td>2016</td>\n",
       "      <td>5</td>\n",
       "      <td>WomenClothing</td>\n",
       "    </tr>\n",
       "  </tbody>\n",
       "</table>\n",
       "</div>"
      ],
      "text/plain": [
       "   ID  Sales(In ThousandDollars)  Year  Month ProductCategory\n",
       "0   1                        110  2016      1   WomenClothing\n",
       "1   2                        140  2016      2   WomenClothing\n",
       "2   3                        199  2016      3   WomenClothing\n",
       "3   4                        246  2016      4   WomenClothing\n",
       "4   5                         66  2016      5   WomenClothing"
      ]
     },
     "execution_count": 98,
     "metadata": {},
     "output_type": "execute_result"
    }
   ],
   "source": [
    "submission = pd.read_csv('C:\\\\Users\\\\HP\\\\Desktop\\\\PHD Hackathon\\\\Data Science\\\\NewSampleSubmission.csv')\n",
    "submission.head()"
   ]
  },
  {
   "cell_type": "code",
   "execution_count": 99,
   "metadata": {
    "collapsed": true
   },
   "outputs": [],
   "source": [
    "submission['Sales(In ThousandDollars)'] = test_results['Sales(In ThousandDollars)']"
   ]
  },
  {
   "cell_type": "code",
   "execution_count": 100,
   "metadata": {},
   "outputs": [
    {
     "data": {
      "text/html": [
       "<div>\n",
       "<style>\n",
       "    .dataframe thead tr:only-child th {\n",
       "        text-align: right;\n",
       "    }\n",
       "\n",
       "    .dataframe thead th {\n",
       "        text-align: left;\n",
       "    }\n",
       "\n",
       "    .dataframe tbody tr th {\n",
       "        vertical-align: top;\n",
       "    }\n",
       "</style>\n",
       "<table border=\"1\" class=\"dataframe\">\n",
       "  <thead>\n",
       "    <tr style=\"text-align: right;\">\n",
       "      <th></th>\n",
       "      <th>ID</th>\n",
       "      <th>Sales(In ThousandDollars)</th>\n",
       "      <th>Year</th>\n",
       "      <th>Month</th>\n",
       "      <th>ProductCategory</th>\n",
       "    </tr>\n",
       "  </thead>\n",
       "  <tbody>\n",
       "    <tr>\n",
       "      <th>0</th>\n",
       "      <td>1</td>\n",
       "      <td>2395.848648</td>\n",
       "      <td>2016</td>\n",
       "      <td>1</td>\n",
       "      <td>WomenClothing</td>\n",
       "    </tr>\n",
       "    <tr>\n",
       "      <th>1</th>\n",
       "      <td>2</td>\n",
       "      <td>2957.354446</td>\n",
       "      <td>2016</td>\n",
       "      <td>2</td>\n",
       "      <td>WomenClothing</td>\n",
       "    </tr>\n",
       "    <tr>\n",
       "      <th>2</th>\n",
       "      <td>3</td>\n",
       "      <td>2957.354446</td>\n",
       "      <td>2016</td>\n",
       "      <td>3</td>\n",
       "      <td>WomenClothing</td>\n",
       "    </tr>\n",
       "    <tr>\n",
       "      <th>3</th>\n",
       "      <td>4</td>\n",
       "      <td>2707.554451</td>\n",
       "      <td>2016</td>\n",
       "      <td>4</td>\n",
       "      <td>WomenClothing</td>\n",
       "    </tr>\n",
       "    <tr>\n",
       "      <th>4</th>\n",
       "      <td>5</td>\n",
       "      <td>2395.848648</td>\n",
       "      <td>2016</td>\n",
       "      <td>5</td>\n",
       "      <td>WomenClothing</td>\n",
       "    </tr>\n",
       "    <tr>\n",
       "      <th>5</th>\n",
       "      <td>6</td>\n",
       "      <td>2657.303116</td>\n",
       "      <td>2016</td>\n",
       "      <td>6</td>\n",
       "      <td>WomenClothing</td>\n",
       "    </tr>\n",
       "    <tr>\n",
       "      <th>6</th>\n",
       "      <td>7</td>\n",
       "      <td>2605.570883</td>\n",
       "      <td>2016</td>\n",
       "      <td>7</td>\n",
       "      <td>WomenClothing</td>\n",
       "    </tr>\n",
       "    <tr>\n",
       "      <th>7</th>\n",
       "      <td>8</td>\n",
       "      <td>2769.387143</td>\n",
       "      <td>2016</td>\n",
       "      <td>8</td>\n",
       "      <td>WomenClothing</td>\n",
       "    </tr>\n",
       "    <tr>\n",
       "      <th>8</th>\n",
       "      <td>9</td>\n",
       "      <td>3055.114256</td>\n",
       "      <td>2016</td>\n",
       "      <td>9</td>\n",
       "      <td>WomenClothing</td>\n",
       "    </tr>\n",
       "    <tr>\n",
       "      <th>9</th>\n",
       "      <td>10</td>\n",
       "      <td>3186.852989</td>\n",
       "      <td>2016</td>\n",
       "      <td>10</td>\n",
       "      <td>WomenClothing</td>\n",
       "    </tr>\n",
       "    <tr>\n",
       "      <th>10</th>\n",
       "      <td>11</td>\n",
       "      <td>3229.473338</td>\n",
       "      <td>2016</td>\n",
       "      <td>11</td>\n",
       "      <td>WomenClothing</td>\n",
       "    </tr>\n",
       "    <tr>\n",
       "      <th>11</th>\n",
       "      <td>12</td>\n",
       "      <td>3039.936849</td>\n",
       "      <td>2016</td>\n",
       "      <td>12</td>\n",
       "      <td>WomenClothing</td>\n",
       "    </tr>\n",
       "  </tbody>\n",
       "</table>\n",
       "</div>"
      ],
      "text/plain": [
       "    ID  Sales(In ThousandDollars)  Year  Month ProductCategory\n",
       "0    1                2395.848648  2016      1   WomenClothing\n",
       "1    2                2957.354446  2016      2   WomenClothing\n",
       "2    3                2957.354446  2016      3   WomenClothing\n",
       "3    4                2707.554451  2016      4   WomenClothing\n",
       "4    5                2395.848648  2016      5   WomenClothing\n",
       "5    6                2657.303116  2016      6   WomenClothing\n",
       "6    7                2605.570883  2016      7   WomenClothing\n",
       "7    8                2769.387143  2016      8   WomenClothing\n",
       "8    9                3055.114256  2016      9   WomenClothing\n",
       "9   10                3186.852989  2016     10   WomenClothing\n",
       "10  11                3229.473338  2016     11   WomenClothing\n",
       "11  12                3039.936849  2016     12   WomenClothing"
      ]
     },
     "execution_count": 100,
     "metadata": {},
     "output_type": "execute_result"
    }
   ],
   "source": [
    "submission"
   ]
  },
  {
   "cell_type": "code",
   "execution_count": 101,
   "metadata": {
    "collapsed": true
   },
   "outputs": [],
   "source": [
    "#submission.to_csv('C:\\\\Users\\\\HP\\\\Desktop\\\\trial\\\\regression_lgbm_submission.csv', index=False)"
   ]
  },
  {
   "cell_type": "code",
   "execution_count": 102,
   "metadata": {
    "collapsed": true
   },
   "outputs": [],
   "source": [
    "############################# ---------------------------------------------------------- #################################"
   ]
  },
  {
   "cell_type": "markdown",
   "metadata": {},
   "source": [
    "## Random Forest"
   ]
  },
  {
   "cell_type": "code",
   "execution_count": 103,
   "metadata": {},
   "outputs": [
    {
     "data": {
      "text/plain": [
       "17.748431136906362"
      ]
     },
     "execution_count": 103,
     "metadata": {},
     "output_type": "execute_result"
    }
   ],
   "source": [
    "from sklearn.model_selection import GridSearchCV, StratifiedKFold\n",
    "from sklearn.ensemble import RandomForestRegressor\n",
    "\n",
    "rf_model = RandomForestRegressor(bootstrap=True, criterion='mae', max_depth=3,\n",
    "                                   max_features='sqrt', max_leaf_nodes=None,\n",
    "                                   min_samples_leaf=2, min_samples_split=3, n_estimators=20, n_jobs=1,)\n",
    "\n",
    "rf_model.fit(trainX_fold , y_train)\n",
    "\n",
    "y_pred = rf_model.predict(valX_fold)\n",
    "mean_absolute_percentage_error(y_val, y_pred)"
   ]
  },
  {
   "cell_type": "markdown",
   "metadata": {},
   "source": [
    "### Take Imp_Features"
   ]
  },
  {
   "cell_type": "code",
   "execution_count": 104,
   "metadata": {
    "scrolled": true
   },
   "outputs": [
    {
     "data": {
      "text/html": [
       "<div>\n",
       "<style>\n",
       "    .dataframe thead tr:only-child th {\n",
       "        text-align: right;\n",
       "    }\n",
       "\n",
       "    .dataframe thead th {\n",
       "        text-align: left;\n",
       "    }\n",
       "\n",
       "    .dataframe tbody tr th {\n",
       "        vertical-align: top;\n",
       "    }\n",
       "</style>\n",
       "<table border=\"1\" class=\"dataframe\">\n",
       "  <thead>\n",
       "    <tr style=\"text-align: right;\">\n",
       "      <th></th>\n",
       "      <th>columns</th>\n",
       "      <th>imp_features</th>\n",
       "    </tr>\n",
       "  </thead>\n",
       "  <tbody>\n",
       "    <tr>\n",
       "      <th>6</th>\n",
       "      <td>CPI</td>\n",
       "      <td>0.111353</td>\n",
       "    </tr>\n",
       "    <tr>\n",
       "      <th>10</th>\n",
       "      <td>Earnings or wages  in dollars per hour</td>\n",
       "      <td>0.094199</td>\n",
       "    </tr>\n",
       "    <tr>\n",
       "      <th>2</th>\n",
       "      <td>Event</td>\n",
       "      <td>0.081157</td>\n",
       "    </tr>\n",
       "    <tr>\n",
       "      <th>1</th>\n",
       "      <td>Month</td>\n",
       "      <td>0.058282</td>\n",
       "    </tr>\n",
       "    <tr>\n",
       "      <th>7</th>\n",
       "      <td>unemployment rate</td>\n",
       "      <td>0.050889</td>\n",
       "    </tr>\n",
       "    <tr>\n",
       "      <th>5</th>\n",
       "      <td>Monthly Real GDP Index (inMillion$)</td>\n",
       "      <td>0.048904</td>\n",
       "    </tr>\n",
       "    <tr>\n",
       "      <th>8</th>\n",
       "      <td>CommercialBankInterestRateonCreditCardPlans</td>\n",
       "      <td>0.044108</td>\n",
       "    </tr>\n",
       "    <tr>\n",
       "      <th>12</th>\n",
       "      <td>Cotton Monthly Price - US cents per Pound(lbs)</td>\n",
       "      <td>0.037165</td>\n",
       "    </tr>\n",
       "    <tr>\n",
       "      <th>4</th>\n",
       "      <td>Monthly Nominal GDP Index (inMillion$)</td>\n",
       "      <td>0.035246</td>\n",
       "    </tr>\n",
       "    <tr>\n",
       "      <th>36</th>\n",
       "      <td>Dew Point avg (°C)min</td>\n",
       "      <td>0.031280</td>\n",
       "    </tr>\n",
       "    <tr>\n",
       "      <th>0</th>\n",
       "      <td>Year</td>\n",
       "      <td>0.028009</td>\n",
       "    </tr>\n",
       "    <tr>\n",
       "      <th>25</th>\n",
       "      <td>Temp avg (°C)max</td>\n",
       "      <td>0.025514</td>\n",
       "    </tr>\n",
       "    <tr>\n",
       "      <th>67</th>\n",
       "      <td>Sea Level Press lowvar</td>\n",
       "      <td>0.021400</td>\n",
       "    </tr>\n",
       "    <tr>\n",
       "      <th>78</th>\n",
       "      <td>Visibility (km) lowmean</td>\n",
       "      <td>0.020128</td>\n",
       "    </tr>\n",
       "    <tr>\n",
       "      <th>14</th>\n",
       "      <td>Average upland planted(million acres)</td>\n",
       "      <td>0.019680</td>\n",
       "    </tr>\n",
       "    <tr>\n",
       "      <th>30</th>\n",
       "      <td>Temp low (°C)mean</td>\n",
       "      <td>0.019236</td>\n",
       "    </tr>\n",
       "    <tr>\n",
       "      <th>62</th>\n",
       "      <td>Sea Level Press avgmean</td>\n",
       "      <td>0.016009</td>\n",
       "    </tr>\n",
       "    <tr>\n",
       "      <th>24</th>\n",
       "      <td>Temp avg (°C)min</td>\n",
       "      <td>0.015295</td>\n",
       "    </tr>\n",
       "    <tr>\n",
       "      <th>20</th>\n",
       "      <td>Temp high (°C)min</td>\n",
       "      <td>0.013824</td>\n",
       "    </tr>\n",
       "    <tr>\n",
       "      <th>71</th>\n",
       "      <td>Visibility (km) highvar</td>\n",
       "      <td>0.012380</td>\n",
       "    </tr>\n",
       "    <tr>\n",
       "      <th>28</th>\n",
       "      <td>Temp low (°C)min</td>\n",
       "      <td>0.012366</td>\n",
       "    </tr>\n",
       "    <tr>\n",
       "      <th>61</th>\n",
       "      <td>Sea Level Press avgmax</td>\n",
       "      <td>0.012188</td>\n",
       "    </tr>\n",
       "    <tr>\n",
       "      <th>47</th>\n",
       "      <td>Humidity_highvar</td>\n",
       "      <td>0.011332</td>\n",
       "    </tr>\n",
       "    <tr>\n",
       "      <th>55</th>\n",
       "      <td>Humidity_lowvar</td>\n",
       "      <td>0.010146</td>\n",
       "    </tr>\n",
       "    <tr>\n",
       "      <th>43</th>\n",
       "      <td>Dew Point low (°C)var</td>\n",
       "      <td>0.009488</td>\n",
       "    </tr>\n",
       "    <tr>\n",
       "      <th>49</th>\n",
       "      <td>Humidity_avgmax</td>\n",
       "      <td>0.009442</td>\n",
       "    </tr>\n",
       "    <tr>\n",
       "      <th>33</th>\n",
       "      <td>Dew Point high (°C)max</td>\n",
       "      <td>0.009007</td>\n",
       "    </tr>\n",
       "    <tr>\n",
       "      <th>83</th>\n",
       "      <td>Wind (km/h) lowvar</td>\n",
       "      <td>0.008563</td>\n",
       "    </tr>\n",
       "    <tr>\n",
       "      <th>21</th>\n",
       "      <td>Temp high (°C)max</td>\n",
       "      <td>0.008381</td>\n",
       "    </tr>\n",
       "    <tr>\n",
       "      <th>52</th>\n",
       "      <td>Humidity_lowmin</td>\n",
       "      <td>0.007792</td>\n",
       "    </tr>\n",
       "    <tr>\n",
       "      <th>...</th>\n",
       "      <td>...</td>\n",
       "      <td>...</td>\n",
       "    </tr>\n",
       "    <tr>\n",
       "      <th>70</th>\n",
       "      <td>Visibility (km) highmean</td>\n",
       "      <td>0.000000</td>\n",
       "    </tr>\n",
       "    <tr>\n",
       "      <th>69</th>\n",
       "      <td>Visibility (km) highmax</td>\n",
       "      <td>0.000000</td>\n",
       "    </tr>\n",
       "    <tr>\n",
       "      <th>3</th>\n",
       "      <td>Federal Holiday</td>\n",
       "      <td>0.000000</td>\n",
       "    </tr>\n",
       "    <tr>\n",
       "      <th>11</th>\n",
       "      <td>AdvertisingExpenses (in Thousand Dollars)</td>\n",
       "      <td>0.000000</td>\n",
       "    </tr>\n",
       "    <tr>\n",
       "      <th>13</th>\n",
       "      <td>Change(in%)</td>\n",
       "      <td>0.000000</td>\n",
       "    </tr>\n",
       "    <tr>\n",
       "      <th>15</th>\n",
       "      <td>Average upland harvested(million acres)</td>\n",
       "      <td>0.000000</td>\n",
       "    </tr>\n",
       "    <tr>\n",
       "      <th>17</th>\n",
       "      <td>Production (in  480-lb netweright in million b...</td>\n",
       "      <td>0.000000</td>\n",
       "    </tr>\n",
       "    <tr>\n",
       "      <th>18</th>\n",
       "      <td>Mill use  (in  480-lb netweright in million ba...</td>\n",
       "      <td>0.000000</td>\n",
       "    </tr>\n",
       "    <tr>\n",
       "      <th>19</th>\n",
       "      <td>Exports</td>\n",
       "      <td>0.000000</td>\n",
       "    </tr>\n",
       "    <tr>\n",
       "      <th>22</th>\n",
       "      <td>Temp high (°C)mean</td>\n",
       "      <td>0.000000</td>\n",
       "    </tr>\n",
       "    <tr>\n",
       "      <th>23</th>\n",
       "      <td>Temp high (°C)var</td>\n",
       "      <td>0.000000</td>\n",
       "    </tr>\n",
       "    <tr>\n",
       "      <th>26</th>\n",
       "      <td>Temp avg (°C)mean</td>\n",
       "      <td>0.000000</td>\n",
       "    </tr>\n",
       "    <tr>\n",
       "      <th>27</th>\n",
       "      <td>Temp avg (°C)var</td>\n",
       "      <td>0.000000</td>\n",
       "    </tr>\n",
       "    <tr>\n",
       "      <th>31</th>\n",
       "      <td>Temp low (°C)var</td>\n",
       "      <td>0.000000</td>\n",
       "    </tr>\n",
       "    <tr>\n",
       "      <th>34</th>\n",
       "      <td>Dew Point high (°C)mean</td>\n",
       "      <td>0.000000</td>\n",
       "    </tr>\n",
       "    <tr>\n",
       "      <th>35</th>\n",
       "      <td>Dew Point high (°C)var</td>\n",
       "      <td>0.000000</td>\n",
       "    </tr>\n",
       "    <tr>\n",
       "      <th>40</th>\n",
       "      <td>Dew Point low (°C)min</td>\n",
       "      <td>0.000000</td>\n",
       "    </tr>\n",
       "    <tr>\n",
       "      <th>41</th>\n",
       "      <td>Dew Point low (°C)max</td>\n",
       "      <td>0.000000</td>\n",
       "    </tr>\n",
       "    <tr>\n",
       "      <th>42</th>\n",
       "      <td>Dew Point low (°C)mean</td>\n",
       "      <td>0.000000</td>\n",
       "    </tr>\n",
       "    <tr>\n",
       "      <th>46</th>\n",
       "      <td>Humidity_highmean</td>\n",
       "      <td>0.000000</td>\n",
       "    </tr>\n",
       "    <tr>\n",
       "      <th>48</th>\n",
       "      <td>Humidity_avgmin</td>\n",
       "      <td>0.000000</td>\n",
       "    </tr>\n",
       "    <tr>\n",
       "      <th>51</th>\n",
       "      <td>Humidity_avgvar</td>\n",
       "      <td>0.000000</td>\n",
       "    </tr>\n",
       "    <tr>\n",
       "      <th>53</th>\n",
       "      <td>Humidity_lowmax</td>\n",
       "      <td>0.000000</td>\n",
       "    </tr>\n",
       "    <tr>\n",
       "      <th>56</th>\n",
       "      <td>Sea Level Press highmin</td>\n",
       "      <td>0.000000</td>\n",
       "    </tr>\n",
       "    <tr>\n",
       "      <th>57</th>\n",
       "      <td>Sea Level Press highmax</td>\n",
       "      <td>0.000000</td>\n",
       "    </tr>\n",
       "    <tr>\n",
       "      <th>60</th>\n",
       "      <td>Sea Level Press avgmin</td>\n",
       "      <td>0.000000</td>\n",
       "    </tr>\n",
       "    <tr>\n",
       "      <th>64</th>\n",
       "      <td>Sea Level Press lowmin</td>\n",
       "      <td>0.000000</td>\n",
       "    </tr>\n",
       "    <tr>\n",
       "      <th>65</th>\n",
       "      <td>Sea Level Press lowmax</td>\n",
       "      <td>0.000000</td>\n",
       "    </tr>\n",
       "    <tr>\n",
       "      <th>66</th>\n",
       "      <td>Sea Level Press lowmean</td>\n",
       "      <td>0.000000</td>\n",
       "    </tr>\n",
       "    <tr>\n",
       "      <th>100</th>\n",
       "      <td>Thunderstorm</td>\n",
       "      <td>0.000000</td>\n",
       "    </tr>\n",
       "  </tbody>\n",
       "</table>\n",
       "<p>101 rows × 2 columns</p>\n",
       "</div>"
      ],
      "text/plain": [
       "                                               columns  imp_features\n",
       "6                                                  CPI      0.111353\n",
       "10              Earnings or wages  in dollars per hour      0.094199\n",
       "2                                                Event      0.081157\n",
       "1                                                Month      0.058282\n",
       "7                                    unemployment rate      0.050889\n",
       "5                  Monthly Real GDP Index (inMillion$)      0.048904\n",
       "8          CommercialBankInterestRateonCreditCardPlans      0.044108\n",
       "12      Cotton Monthly Price - US cents per Pound(lbs)      0.037165\n",
       "4               Monthly Nominal GDP Index (inMillion$)      0.035246\n",
       "36                               Dew Point avg (°C)min      0.031280\n",
       "0                                                 Year      0.028009\n",
       "25                                    Temp avg (°C)max      0.025514\n",
       "67                              Sea Level Press lowvar      0.021400\n",
       "78                             Visibility (km) lowmean      0.020128\n",
       "14               Average upland planted(million acres)      0.019680\n",
       "30                                   Temp low (°C)mean      0.019236\n",
       "62                             Sea Level Press avgmean      0.016009\n",
       "24                                    Temp avg (°C)min      0.015295\n",
       "20                                   Temp high (°C)min      0.013824\n",
       "71                             Visibility (km) highvar      0.012380\n",
       "28                                    Temp low (°C)min      0.012366\n",
       "61                              Sea Level Press avgmax      0.012188\n",
       "47                                    Humidity_highvar      0.011332\n",
       "55                                     Humidity_lowvar      0.010146\n",
       "43                               Dew Point low (°C)var      0.009488\n",
       "49                                     Humidity_avgmax      0.009442\n",
       "33                              Dew Point high (°C)max      0.009007\n",
       "83                                  Wind (km/h) lowvar      0.008563\n",
       "21                                   Temp high (°C)max      0.008381\n",
       "52                                     Humidity_lowmin      0.007792\n",
       "..                                                 ...           ...\n",
       "70                            Visibility (km) highmean      0.000000\n",
       "69                             Visibility (km) highmax      0.000000\n",
       "3                                      Federal Holiday      0.000000\n",
       "11           AdvertisingExpenses (in Thousand Dollars)      0.000000\n",
       "13                                         Change(in%)      0.000000\n",
       "15             Average upland harvested(million acres)      0.000000\n",
       "17   Production (in  480-lb netweright in million b...      0.000000\n",
       "18   Mill use  (in  480-lb netweright in million ba...      0.000000\n",
       "19                                             Exports      0.000000\n",
       "22                                  Temp high (°C)mean      0.000000\n",
       "23                                   Temp high (°C)var      0.000000\n",
       "26                                   Temp avg (°C)mean      0.000000\n",
       "27                                    Temp avg (°C)var      0.000000\n",
       "31                                    Temp low (°C)var      0.000000\n",
       "34                             Dew Point high (°C)mean      0.000000\n",
       "35                              Dew Point high (°C)var      0.000000\n",
       "40                               Dew Point low (°C)min      0.000000\n",
       "41                               Dew Point low (°C)max      0.000000\n",
       "42                              Dew Point low (°C)mean      0.000000\n",
       "46                                   Humidity_highmean      0.000000\n",
       "48                                     Humidity_avgmin      0.000000\n",
       "51                                     Humidity_avgvar      0.000000\n",
       "53                                     Humidity_lowmax      0.000000\n",
       "56                             Sea Level Press highmin      0.000000\n",
       "57                             Sea Level Press highmax      0.000000\n",
       "60                              Sea Level Press avgmin      0.000000\n",
       "64                              Sea Level Press lowmin      0.000000\n",
       "65                              Sea Level Press lowmax      0.000000\n",
       "66                             Sea Level Press lowmean      0.000000\n",
       "100                                       Thunderstorm      0.000000\n",
       "\n",
       "[101 rows x 2 columns]"
      ]
     },
     "execution_count": 104,
     "metadata": {},
     "output_type": "execute_result"
    }
   ],
   "source": [
    "X_cols = trainX_fold.columns\n",
    "feature_imp_RFC = pd.DataFrame({\"imp_features\":rf_model.feature_importances_, \"columns\":X_cols})\n",
    "feature_imp_RFC.sort_values(by = 'imp_features', ascending=False)"
   ]
  },
  {
   "cell_type": "code",
   "execution_count": 105,
   "metadata": {
    "scrolled": true
   },
   "outputs": [
    {
     "data": {
      "text/html": [
       "<div>\n",
       "<style>\n",
       "    .dataframe thead tr:only-child th {\n",
       "        text-align: right;\n",
       "    }\n",
       "\n",
       "    .dataframe thead th {\n",
       "        text-align: left;\n",
       "    }\n",
       "\n",
       "    .dataframe tbody tr th {\n",
       "        vertical-align: top;\n",
       "    }\n",
       "</style>\n",
       "<table border=\"1\" class=\"dataframe\">\n",
       "  <thead>\n",
       "    <tr style=\"text-align: right;\">\n",
       "      <th></th>\n",
       "      <th>columns</th>\n",
       "      <th>imp_features</th>\n",
       "    </tr>\n",
       "  </thead>\n",
       "  <tbody>\n",
       "    <tr>\n",
       "      <th>1</th>\n",
       "      <td>Month</td>\n",
       "      <td>0.058282</td>\n",
       "    </tr>\n",
       "    <tr>\n",
       "      <th>2</th>\n",
       "      <td>Event</td>\n",
       "      <td>0.081157</td>\n",
       "    </tr>\n",
       "    <tr>\n",
       "      <th>4</th>\n",
       "      <td>Monthly Nominal GDP Index (inMillion$)</td>\n",
       "      <td>0.035246</td>\n",
       "    </tr>\n",
       "    <tr>\n",
       "      <th>5</th>\n",
       "      <td>Monthly Real GDP Index (inMillion$)</td>\n",
       "      <td>0.048904</td>\n",
       "    </tr>\n",
       "    <tr>\n",
       "      <th>6</th>\n",
       "      <td>CPI</td>\n",
       "      <td>0.111353</td>\n",
       "    </tr>\n",
       "  </tbody>\n",
       "</table>\n",
       "</div>"
      ],
      "text/plain": [
       "                                  columns  imp_features\n",
       "1                                   Month      0.058282\n",
       "2                                   Event      0.081157\n",
       "4  Monthly Nominal GDP Index (inMillion$)      0.035246\n",
       "5     Monthly Real GDP Index (inMillion$)      0.048904\n",
       "6                                     CPI      0.111353"
      ]
     },
     "execution_count": 105,
     "metadata": {},
     "output_type": "execute_result"
    }
   ],
   "source": [
    "top_features = feature_imp_RFC[feature_imp_RFC['imp_features'] >= 0.03]\n",
    "top_features.head()"
   ]
  },
  {
   "cell_type": "code",
   "execution_count": 106,
   "metadata": {},
   "outputs": [
    {
     "data": {
      "text/plain": [
       "(10, 2)"
      ]
     },
     "execution_count": 106,
     "metadata": {},
     "output_type": "execute_result"
    }
   ],
   "source": [
    "top_features.shape"
   ]
  },
  {
   "cell_type": "markdown",
   "metadata": {},
   "source": [
    "#### Selecting Imp Features From RF"
   ]
  },
  {
   "cell_type": "code",
   "execution_count": 107,
   "metadata": {},
   "outputs": [
    {
     "data": {
      "text/html": [
       "<div>\n",
       "<style>\n",
       "    .dataframe thead tr:only-child th {\n",
       "        text-align: right;\n",
       "    }\n",
       "\n",
       "    .dataframe thead th {\n",
       "        text-align: left;\n",
       "    }\n",
       "\n",
       "    .dataframe tbody tr th {\n",
       "        vertical-align: top;\n",
       "    }\n",
       "</style>\n",
       "<table border=\"1\" class=\"dataframe\">\n",
       "  <thead>\n",
       "    <tr style=\"text-align: right;\">\n",
       "      <th></th>\n",
       "      <th>Month</th>\n",
       "      <th>Event</th>\n",
       "      <th>Monthly Nominal GDP Index (inMillion$)</th>\n",
       "      <th>Monthly Real GDP Index (inMillion$)</th>\n",
       "      <th>CPI</th>\n",
       "      <th>unemployment rate</th>\n",
       "      <th>CommercialBankInterestRateonCreditCardPlans</th>\n",
       "      <th>Earnings or wages  in dollars per hour</th>\n",
       "      <th>Cotton Monthly Price - US cents per Pound(lbs)</th>\n",
       "      <th>Dew Point avg (°C)min</th>\n",
       "    </tr>\n",
       "  </thead>\n",
       "  <tbody>\n",
       "    <tr>\n",
       "      <th>0</th>\n",
       "      <td>1</td>\n",
       "      <td>0.0</td>\n",
       "      <td>14421.752895</td>\n",
       "      <td>14407.053343</td>\n",
       "      <td>233.402</td>\n",
       "      <td>7.8</td>\n",
       "      <td>12.03</td>\n",
       "      <td>22.05</td>\n",
       "      <td>57.70</td>\n",
       "      <td>-20.0</td>\n",
       "    </tr>\n",
       "    <tr>\n",
       "      <th>1</th>\n",
       "      <td>2</td>\n",
       "      <td>1.0</td>\n",
       "      <td>14389.200466</td>\n",
       "      <td>14366.176571</td>\n",
       "      <td>234.663</td>\n",
       "      <td>8.3</td>\n",
       "      <td>12.97</td>\n",
       "      <td>22.22</td>\n",
       "      <td>55.21</td>\n",
       "      <td>-18.0</td>\n",
       "    </tr>\n",
       "    <tr>\n",
       "      <th>2</th>\n",
       "      <td>3</td>\n",
       "      <td>0.0</td>\n",
       "      <td>14340.701639</td>\n",
       "      <td>14351.786822</td>\n",
       "      <td>235.067</td>\n",
       "      <td>8.7</td>\n",
       "      <td>12.97</td>\n",
       "      <td>22.22</td>\n",
       "      <td>51.50</td>\n",
       "      <td>-18.0</td>\n",
       "    </tr>\n",
       "    <tr>\n",
       "      <th>3</th>\n",
       "      <td>4</td>\n",
       "      <td>1.0</td>\n",
       "      <td>14326.815525</td>\n",
       "      <td>14351.601731</td>\n",
       "      <td>235.582</td>\n",
       "      <td>9.0</td>\n",
       "      <td>12.97</td>\n",
       "      <td>22.13</td>\n",
       "      <td>56.78</td>\n",
       "      <td>-9.0</td>\n",
       "    </tr>\n",
       "    <tr>\n",
       "      <th>4</th>\n",
       "      <td>5</td>\n",
       "      <td>1.0</td>\n",
       "      <td>14345.904809</td>\n",
       "      <td>14368.123959</td>\n",
       "      <td>235.975</td>\n",
       "      <td>9.4</td>\n",
       "      <td>13.32</td>\n",
       "      <td>22.04</td>\n",
       "      <td>61.95</td>\n",
       "      <td>0.0</td>\n",
       "    </tr>\n",
       "  </tbody>\n",
       "</table>\n",
       "</div>"
      ],
      "text/plain": [
       "   Month  Event  Monthly Nominal GDP Index (inMillion$)  \\\n",
       "0      1    0.0                            14421.752895   \n",
       "1      2    1.0                            14389.200466   \n",
       "2      3    0.0                            14340.701639   \n",
       "3      4    1.0                            14326.815525   \n",
       "4      5    1.0                            14345.904809   \n",
       "\n",
       "   Monthly Real GDP Index (inMillion$)      CPI  unemployment rate  \\\n",
       "0                         14407.053343  233.402                7.8   \n",
       "1                         14366.176571  234.663                8.3   \n",
       "2                         14351.786822  235.067                8.7   \n",
       "3                         14351.601731  235.582                9.0   \n",
       "4                         14368.123959  235.975                9.4   \n",
       "\n",
       "   CommercialBankInterestRateonCreditCardPlans  \\\n",
       "0                                        12.03   \n",
       "1                                        12.97   \n",
       "2                                        12.97   \n",
       "3                                        12.97   \n",
       "4                                        13.32   \n",
       "\n",
       "   Earnings or wages  in dollars per hour  \\\n",
       "0                                   22.05   \n",
       "1                                   22.22   \n",
       "2                                   22.22   \n",
       "3                                   22.13   \n",
       "4                                   22.04   \n",
       "\n",
       "   Cotton Monthly Price - US cents per Pound(lbs)  Dew Point avg (°C)min  \n",
       "0                                           57.70                  -20.0  \n",
       "1                                           55.21                  -18.0  \n",
       "2                                           51.50                  -18.0  \n",
       "3                                           56.78                   -9.0  \n",
       "4                                           61.95                    0.0  "
      ]
     },
     "execution_count": 107,
     "metadata": {},
     "output_type": "execute_result"
    }
   ],
   "source": [
    "imp_columns_train = pd.DataFrame()\n",
    "for i in top_features['columns'].values:\n",
    "    imp_columns_train[i] = trainX_fold[i]\n",
    "    \n",
    "imp_columns_train.head()"
   ]
  },
  {
   "cell_type": "code",
   "execution_count": 108,
   "metadata": {},
   "outputs": [
    {
     "data": {
      "text/html": [
       "<div>\n",
       "<style>\n",
       "    .dataframe thead tr:only-child th {\n",
       "        text-align: right;\n",
       "    }\n",
       "\n",
       "    .dataframe thead th {\n",
       "        text-align: left;\n",
       "    }\n",
       "\n",
       "    .dataframe tbody tr th {\n",
       "        vertical-align: top;\n",
       "    }\n",
       "</style>\n",
       "<table border=\"1\" class=\"dataframe\">\n",
       "  <thead>\n",
       "    <tr style=\"text-align: right;\">\n",
       "      <th></th>\n",
       "      <th>Month</th>\n",
       "      <th>Event</th>\n",
       "      <th>Monthly Nominal GDP Index (inMillion$)</th>\n",
       "      <th>Monthly Real GDP Index (inMillion$)</th>\n",
       "      <th>CPI</th>\n",
       "      <th>unemployment rate</th>\n",
       "      <th>CommercialBankInterestRateonCreditCardPlans</th>\n",
       "      <th>Earnings or wages  in dollars per hour</th>\n",
       "      <th>Cotton Monthly Price - US cents per Pound(lbs)</th>\n",
       "      <th>Dew Point avg (°C)min</th>\n",
       "    </tr>\n",
       "  </thead>\n",
       "  <tbody>\n",
       "    <tr>\n",
       "      <th>67</th>\n",
       "      <td>8</td>\n",
       "      <td>0.0</td>\n",
       "      <td>17684.635349</td>\n",
       "      <td>16196.420132</td>\n",
       "      <td>261.075</td>\n",
       "      <td>6.2</td>\n",
       "      <td>11.82</td>\n",
       "      <td>24.32</td>\n",
       "      <td>74.00</td>\n",
       "      <td>9.0</td>\n",
       "    </tr>\n",
       "    <tr>\n",
       "      <th>68</th>\n",
       "      <td>9</td>\n",
       "      <td>0.0</td>\n",
       "      <td>17630.354586</td>\n",
       "      <td>16133.049427</td>\n",
       "      <td>261.074</td>\n",
       "      <td>5.9</td>\n",
       "      <td>11.82</td>\n",
       "      <td>24.50</td>\n",
       "      <td>73.38</td>\n",
       "      <td>6.0</td>\n",
       "    </tr>\n",
       "    <tr>\n",
       "      <th>69</th>\n",
       "      <td>10</td>\n",
       "      <td>1.0</td>\n",
       "      <td>17709.436967</td>\n",
       "      <td>16196.814474</td>\n",
       "      <td>260.500</td>\n",
       "      <td>5.7</td>\n",
       "      <td>11.82</td>\n",
       "      <td>24.52</td>\n",
       "      <td>70.34</td>\n",
       "      <td>0.0</td>\n",
       "    </tr>\n",
       "    <tr>\n",
       "      <th>70</th>\n",
       "      <td>11</td>\n",
       "      <td>0.0</td>\n",
       "      <td>17765.337570</td>\n",
       "      <td>16243.054734</td>\n",
       "      <td>259.382</td>\n",
       "      <td>5.8</td>\n",
       "      <td>11.99</td>\n",
       "      <td>24.78</td>\n",
       "      <td>67.53</td>\n",
       "      <td>-14.0</td>\n",
       "    </tr>\n",
       "    <tr>\n",
       "      <th>71</th>\n",
       "      <td>12</td>\n",
       "      <td>2.0</td>\n",
       "      <td>17733.024464</td>\n",
       "      <td>16221.180125</td>\n",
       "      <td>258.080</td>\n",
       "      <td>5.6</td>\n",
       "      <td>11.99</td>\n",
       "      <td>24.59</td>\n",
       "      <td>68.30</td>\n",
       "      <td>-13.0</td>\n",
       "    </tr>\n",
       "  </tbody>\n",
       "</table>\n",
       "</div>"
      ],
      "text/plain": [
       "    Month  Event  Monthly Nominal GDP Index (inMillion$)  \\\n",
       "67      8    0.0                            17684.635349   \n",
       "68      9    0.0                            17630.354586   \n",
       "69     10    1.0                            17709.436967   \n",
       "70     11    0.0                            17765.337570   \n",
       "71     12    2.0                            17733.024464   \n",
       "\n",
       "    Monthly Real GDP Index (inMillion$)      CPI  unemployment rate  \\\n",
       "67                         16196.420132  261.075                6.2   \n",
       "68                         16133.049427  261.074                5.9   \n",
       "69                         16196.814474  260.500                5.7   \n",
       "70                         16243.054734  259.382                5.8   \n",
       "71                         16221.180125  258.080                5.6   \n",
       "\n",
       "    CommercialBankInterestRateonCreditCardPlans  \\\n",
       "67                                        11.82   \n",
       "68                                        11.82   \n",
       "69                                        11.82   \n",
       "70                                        11.99   \n",
       "71                                        11.99   \n",
       "\n",
       "    Earnings or wages  in dollars per hour  \\\n",
       "67                                   24.32   \n",
       "68                                   24.50   \n",
       "69                                   24.52   \n",
       "70                                   24.78   \n",
       "71                                   24.59   \n",
       "\n",
       "    Cotton Monthly Price - US cents per Pound(lbs)  Dew Point avg (°C)min  \n",
       "67                                           74.00                    9.0  \n",
       "68                                           73.38                    6.0  \n",
       "69                                           70.34                    0.0  \n",
       "70                                           67.53                  -14.0  \n",
       "71                                           68.30                  -13.0  "
      ]
     },
     "execution_count": 108,
     "metadata": {},
     "output_type": "execute_result"
    }
   ],
   "source": [
    "imp_columns_val = pd.DataFrame()\n",
    "\n",
    "for i in top_features['columns'].values:\n",
    "    imp_columns_val[i] = valX_fold[i]\n",
    "\n",
    "imp_columns_val.head()"
   ]
  },
  {
   "cell_type": "markdown",
   "metadata": {},
   "source": [
    "### train Model with Imp_Features"
   ]
  },
  {
   "cell_type": "code",
   "execution_count": 109,
   "metadata": {},
   "outputs": [
    {
     "data": {
      "text/plain": [
       "11.495648657032659"
      ]
     },
     "execution_count": 109,
     "metadata": {},
     "output_type": "execute_result"
    }
   ],
   "source": [
    "rf_model.fit(imp_columns_train, y_train)\n",
    "y_pred1 = rf_model.predict(imp_columns_val)\n",
    "\n",
    "mean_absolute_percentage_error(y_val, y_pred1)"
   ]
  },
  {
   "cell_type": "markdown",
   "metadata": {},
   "source": [
    "### Predict Test Data"
   ]
  },
  {
   "cell_type": "code",
   "execution_count": 110,
   "metadata": {
    "scrolled": true
   },
   "outputs": [
    {
     "data": {
      "text/html": [
       "<div>\n",
       "<style>\n",
       "    .dataframe thead tr:only-child th {\n",
       "        text-align: right;\n",
       "    }\n",
       "\n",
       "    .dataframe thead th {\n",
       "        text-align: left;\n",
       "    }\n",
       "\n",
       "    .dataframe tbody tr th {\n",
       "        vertical-align: top;\n",
       "    }\n",
       "</style>\n",
       "<table border=\"1\" class=\"dataframe\">\n",
       "  <thead>\n",
       "    <tr style=\"text-align: right;\">\n",
       "      <th></th>\n",
       "      <th>Month</th>\n",
       "      <th>Event</th>\n",
       "      <th>Monthly Nominal GDP Index (inMillion$)</th>\n",
       "      <th>Monthly Real GDP Index (inMillion$)</th>\n",
       "      <th>CPI</th>\n",
       "      <th>unemployment rate</th>\n",
       "      <th>CommercialBankInterestRateonCreditCardPlans</th>\n",
       "      <th>Earnings or wages  in dollars per hour</th>\n",
       "      <th>Cotton Monthly Price - US cents per Pound(lbs)</th>\n",
       "      <th>Dew Point avg (°C)min</th>\n",
       "    </tr>\n",
       "  </thead>\n",
       "  <tbody>\n",
       "    <tr>\n",
       "      <th>0</th>\n",
       "      <td>1</td>\n",
       "      <td>0.0</td>\n",
       "      <td>18286.638523</td>\n",
       "      <td>16546.153123</td>\n",
       "      <td>260.342</td>\n",
       "      <td>4.9</td>\n",
       "      <td>12.22</td>\n",
       "      <td>25.50</td>\n",
       "      <td>68.75</td>\n",
       "      <td>-19.0</td>\n",
       "    </tr>\n",
       "    <tr>\n",
       "      <th>1</th>\n",
       "      <td>10</td>\n",
       "      <td>1.0</td>\n",
       "      <td>18740.780023</td>\n",
       "      <td>16725.460098</td>\n",
       "      <td>264.738</td>\n",
       "      <td>4.8</td>\n",
       "      <td>12.51</td>\n",
       "      <td>26.04</td>\n",
       "      <td>78.52</td>\n",
       "      <td>-4.0</td>\n",
       "    </tr>\n",
       "    <tr>\n",
       "      <th>2</th>\n",
       "      <td>11</td>\n",
       "      <td>1.0</td>\n",
       "      <td>18960.461568</td>\n",
       "      <td>16910.896330</td>\n",
       "      <td>265.203</td>\n",
       "      <td>4.6</td>\n",
       "      <td>12.41</td>\n",
       "      <td>25.87</td>\n",
       "      <td>78.92</td>\n",
       "      <td>-8.0</td>\n",
       "    </tr>\n",
       "    <tr>\n",
       "      <th>3</th>\n",
       "      <td>12</td>\n",
       "      <td>2.0</td>\n",
       "      <td>19015.393408</td>\n",
       "      <td>16918.050624</td>\n",
       "      <td>265.421</td>\n",
       "      <td>4.7</td>\n",
       "      <td>12.41</td>\n",
       "      <td>25.90</td>\n",
       "      <td>79.50</td>\n",
       "      <td>-18.0</td>\n",
       "    </tr>\n",
       "    <tr>\n",
       "      <th>4</th>\n",
       "      <td>2</td>\n",
       "      <td>1.0</td>\n",
       "      <td>18241.713812</td>\n",
       "      <td>16503.500358</td>\n",
       "      <td>260.875</td>\n",
       "      <td>4.9</td>\n",
       "      <td>12.31</td>\n",
       "      <td>25.49</td>\n",
       "      <td>66.57</td>\n",
       "      <td>-27.0</td>\n",
       "    </tr>\n",
       "  </tbody>\n",
       "</table>\n",
       "</div>"
      ],
      "text/plain": [
       "   Month  Event  Monthly Nominal GDP Index (inMillion$)  \\\n",
       "0      1    0.0                            18286.638523   \n",
       "1     10    1.0                            18740.780023   \n",
       "2     11    1.0                            18960.461568   \n",
       "3     12    2.0                            19015.393408   \n",
       "4      2    1.0                            18241.713812   \n",
       "\n",
       "   Monthly Real GDP Index (inMillion$)      CPI  unemployment rate  \\\n",
       "0                         16546.153123  260.342                4.9   \n",
       "1                         16725.460098  264.738                4.8   \n",
       "2                         16910.896330  265.203                4.6   \n",
       "3                         16918.050624  265.421                4.7   \n",
       "4                         16503.500358  260.875                4.9   \n",
       "\n",
       "   CommercialBankInterestRateonCreditCardPlans  \\\n",
       "0                                        12.22   \n",
       "1                                        12.51   \n",
       "2                                        12.41   \n",
       "3                                        12.41   \n",
       "4                                        12.31   \n",
       "\n",
       "   Earnings or wages  in dollars per hour  \\\n",
       "0                                   25.50   \n",
       "1                                   26.04   \n",
       "2                                   25.87   \n",
       "3                                   25.90   \n",
       "4                                   25.49   \n",
       "\n",
       "   Cotton Monthly Price - US cents per Pound(lbs)  Dew Point avg (°C)min  \n",
       "0                                           68.75                  -19.0  \n",
       "1                                           78.52                   -4.0  \n",
       "2                                           78.92                   -8.0  \n",
       "3                                           79.50                  -18.0  \n",
       "4                                           66.57                  -27.0  "
      ]
     },
     "execution_count": 110,
     "metadata": {},
     "output_type": "execute_result"
    }
   ],
   "source": [
    "imp_columns_test = pd.DataFrame()\n",
    "\n",
    "for i in top_features['columns'].values:\n",
    "    imp_columns_test[i] = test_data[i]\n",
    "\n",
    "imp_columns_test.head()"
   ]
  },
  {
   "cell_type": "code",
   "execution_count": 111,
   "metadata": {},
   "outputs": [
    {
     "data": {
      "text/plain": [
       "array([3628.675   , 3842.040625, 3842.040625, 4118.8     , 3566.175   ,\n",
       "       3825.790625, 3925.940625, 3925.940625, 3842.040625, 3842.040625,\n",
       "       3842.040625, 3842.040625])"
      ]
     },
     "execution_count": 111,
     "metadata": {},
     "output_type": "execute_result"
    }
   ],
   "source": [
    "rf_model.predict(imp_columns_test)"
   ]
  },
  {
   "cell_type": "code",
   "execution_count": 112,
   "metadata": {},
   "outputs": [
    {
     "data": {
      "text/html": [
       "<div>\n",
       "<style>\n",
       "    .dataframe thead tr:only-child th {\n",
       "        text-align: right;\n",
       "    }\n",
       "\n",
       "    .dataframe thead th {\n",
       "        text-align: left;\n",
       "    }\n",
       "\n",
       "    .dataframe tbody tr th {\n",
       "        vertical-align: top;\n",
       "    }\n",
       "</style>\n",
       "<table border=\"1\" class=\"dataframe\">\n",
       "  <thead>\n",
       "    <tr style=\"text-align: right;\">\n",
       "      <th></th>\n",
       "      <th>Sales(In ThousandDollars)</th>\n",
       "    </tr>\n",
       "  </thead>\n",
       "  <tbody>\n",
       "    <tr>\n",
       "      <th>0</th>\n",
       "      <td>3628.675000</td>\n",
       "    </tr>\n",
       "    <tr>\n",
       "      <th>1</th>\n",
       "      <td>3842.040625</td>\n",
       "    </tr>\n",
       "  </tbody>\n",
       "</table>\n",
       "</div>"
      ],
      "text/plain": [
       "   Sales(In ThousandDollars)\n",
       "0                3628.675000\n",
       "1                3842.040625"
      ]
     },
     "execution_count": 112,
     "metadata": {},
     "output_type": "execute_result"
    }
   ],
   "source": [
    "test_predictions = pd.DataFrame({'Sales(In ThousandDollars)': rf_model.predict(imp_columns_test)})\n",
    "test_predictions.head(2)"
   ]
  },
  {
   "cell_type": "code",
   "execution_count": 113,
   "metadata": {},
   "outputs": [
    {
     "data": {
      "text/html": [
       "<div>\n",
       "<style>\n",
       "    .dataframe thead tr:only-child th {\n",
       "        text-align: right;\n",
       "    }\n",
       "\n",
       "    .dataframe thead th {\n",
       "        text-align: left;\n",
       "    }\n",
       "\n",
       "    .dataframe tbody tr th {\n",
       "        vertical-align: top;\n",
       "    }\n",
       "</style>\n",
       "<table border=\"1\" class=\"dataframe\">\n",
       "  <thead>\n",
       "    <tr style=\"text-align: right;\">\n",
       "      <th></th>\n",
       "      <th>ID</th>\n",
       "      <th>Sales(In ThousandDollars)</th>\n",
       "      <th>Year</th>\n",
       "      <th>Month</th>\n",
       "      <th>ProductCategory</th>\n",
       "    </tr>\n",
       "  </thead>\n",
       "  <tbody>\n",
       "    <tr>\n",
       "      <th>0</th>\n",
       "      <td>1</td>\n",
       "      <td>110</td>\n",
       "      <td>2016</td>\n",
       "      <td>1</td>\n",
       "      <td>WomenClothing</td>\n",
       "    </tr>\n",
       "    <tr>\n",
       "      <th>1</th>\n",
       "      <td>2</td>\n",
       "      <td>140</td>\n",
       "      <td>2016</td>\n",
       "      <td>2</td>\n",
       "      <td>WomenClothing</td>\n",
       "    </tr>\n",
       "  </tbody>\n",
       "</table>\n",
       "</div>"
      ],
      "text/plain": [
       "   ID  Sales(In ThousandDollars)  Year  Month ProductCategory\n",
       "0   1                        110  2016      1   WomenClothing\n",
       "1   2                        140  2016      2   WomenClothing"
      ]
     },
     "execution_count": 113,
     "metadata": {},
     "output_type": "execute_result"
    }
   ],
   "source": [
    "submissionfile = pd.read_csv('C:\\\\Users\\\\HP\\\\Desktop\\\\PHD Hackathon\\\\Data Science\\\\NewSampleSubmission.csv')\n",
    "submissionfile.head(2)"
   ]
  },
  {
   "cell_type": "code",
   "execution_count": 114,
   "metadata": {
    "scrolled": true
   },
   "outputs": [
    {
     "data": {
      "text/html": [
       "<div>\n",
       "<style>\n",
       "    .dataframe thead tr:only-child th {\n",
       "        text-align: right;\n",
       "    }\n",
       "\n",
       "    .dataframe thead th {\n",
       "        text-align: left;\n",
       "    }\n",
       "\n",
       "    .dataframe tbody tr th {\n",
       "        vertical-align: top;\n",
       "    }\n",
       "</style>\n",
       "<table border=\"1\" class=\"dataframe\">\n",
       "  <thead>\n",
       "    <tr style=\"text-align: right;\">\n",
       "      <th></th>\n",
       "      <th>ID</th>\n",
       "      <th>Sales(In ThousandDollars)</th>\n",
       "      <th>Year</th>\n",
       "      <th>Month</th>\n",
       "      <th>ProductCategory</th>\n",
       "    </tr>\n",
       "  </thead>\n",
       "  <tbody>\n",
       "    <tr>\n",
       "      <th>0</th>\n",
       "      <td>1</td>\n",
       "      <td>3628.675000</td>\n",
       "      <td>2016</td>\n",
       "      <td>1</td>\n",
       "      <td>WomenClothing</td>\n",
       "    </tr>\n",
       "    <tr>\n",
       "      <th>1</th>\n",
       "      <td>2</td>\n",
       "      <td>3842.040625</td>\n",
       "      <td>2016</td>\n",
       "      <td>2</td>\n",
       "      <td>WomenClothing</td>\n",
       "    </tr>\n",
       "    <tr>\n",
       "      <th>2</th>\n",
       "      <td>3</td>\n",
       "      <td>3842.040625</td>\n",
       "      <td>2016</td>\n",
       "      <td>3</td>\n",
       "      <td>WomenClothing</td>\n",
       "    </tr>\n",
       "    <tr>\n",
       "      <th>3</th>\n",
       "      <td>4</td>\n",
       "      <td>4118.800000</td>\n",
       "      <td>2016</td>\n",
       "      <td>4</td>\n",
       "      <td>WomenClothing</td>\n",
       "    </tr>\n",
       "    <tr>\n",
       "      <th>4</th>\n",
       "      <td>5</td>\n",
       "      <td>3566.175000</td>\n",
       "      <td>2016</td>\n",
       "      <td>5</td>\n",
       "      <td>WomenClothing</td>\n",
       "    </tr>\n",
       "    <tr>\n",
       "      <th>5</th>\n",
       "      <td>6</td>\n",
       "      <td>3825.790625</td>\n",
       "      <td>2016</td>\n",
       "      <td>6</td>\n",
       "      <td>WomenClothing</td>\n",
       "    </tr>\n",
       "    <tr>\n",
       "      <th>6</th>\n",
       "      <td>7</td>\n",
       "      <td>3925.940625</td>\n",
       "      <td>2016</td>\n",
       "      <td>7</td>\n",
       "      <td>WomenClothing</td>\n",
       "    </tr>\n",
       "    <tr>\n",
       "      <th>7</th>\n",
       "      <td>8</td>\n",
       "      <td>3925.940625</td>\n",
       "      <td>2016</td>\n",
       "      <td>8</td>\n",
       "      <td>WomenClothing</td>\n",
       "    </tr>\n",
       "    <tr>\n",
       "      <th>8</th>\n",
       "      <td>9</td>\n",
       "      <td>3842.040625</td>\n",
       "      <td>2016</td>\n",
       "      <td>9</td>\n",
       "      <td>WomenClothing</td>\n",
       "    </tr>\n",
       "    <tr>\n",
       "      <th>9</th>\n",
       "      <td>10</td>\n",
       "      <td>3842.040625</td>\n",
       "      <td>2016</td>\n",
       "      <td>10</td>\n",
       "      <td>WomenClothing</td>\n",
       "    </tr>\n",
       "    <tr>\n",
       "      <th>10</th>\n",
       "      <td>11</td>\n",
       "      <td>3842.040625</td>\n",
       "      <td>2016</td>\n",
       "      <td>11</td>\n",
       "      <td>WomenClothing</td>\n",
       "    </tr>\n",
       "    <tr>\n",
       "      <th>11</th>\n",
       "      <td>12</td>\n",
       "      <td>3842.040625</td>\n",
       "      <td>2016</td>\n",
       "      <td>12</td>\n",
       "      <td>WomenClothing</td>\n",
       "    </tr>\n",
       "  </tbody>\n",
       "</table>\n",
       "</div>"
      ],
      "text/plain": [
       "    ID  Sales(In ThousandDollars)  Year  Month ProductCategory\n",
       "0    1                3628.675000  2016      1   WomenClothing\n",
       "1    2                3842.040625  2016      2   WomenClothing\n",
       "2    3                3842.040625  2016      3   WomenClothing\n",
       "3    4                4118.800000  2016      4   WomenClothing\n",
       "4    5                3566.175000  2016      5   WomenClothing\n",
       "5    6                3825.790625  2016      6   WomenClothing\n",
       "6    7                3925.940625  2016      7   WomenClothing\n",
       "7    8                3925.940625  2016      8   WomenClothing\n",
       "8    9                3842.040625  2016      9   WomenClothing\n",
       "9   10                3842.040625  2016     10   WomenClothing\n",
       "10  11                3842.040625  2016     11   WomenClothing\n",
       "11  12                3842.040625  2016     12   WomenClothing"
      ]
     },
     "execution_count": 114,
     "metadata": {},
     "output_type": "execute_result"
    }
   ],
   "source": [
    "submissionfile['Sales(In ThousandDollars)'] = test_predictions['Sales(In ThousandDollars)']\n",
    "submissionfile"
   ]
  },
  {
   "cell_type": "code",
   "execution_count": 115,
   "metadata": {
    "collapsed": true
   },
   "outputs": [],
   "source": [
    "#submissionfile.to_csv('C:\\\\Users\\\\HP\\\\Desktop\\\\trial\\\\regression_rf_submission.csv', index=False)"
   ]
  },
  {
   "cell_type": "markdown",
   "metadata": {},
   "source": [
    "### RF Tuning"
   ]
  },
  {
   "cell_type": "code",
   "execution_count": 117,
   "metadata": {},
   "outputs": [
    {
     "data": {
      "text/plain": [
       "GridSearchCV(cv=5, error_score='raise-deprecating',\n",
       "       estimator=RandomForestRegressor(bootstrap=True, criterion='mse', max_depth=None,\n",
       "           max_features='auto', max_leaf_nodes=None,\n",
       "           min_impurity_decrease=0.0, min_impurity_split=None,\n",
       "           min_samples_leaf=1, min_samples_split=2,\n",
       "           min_weight_fraction_leaf=0.0, n_estimators='warn', n_jobs=None,\n",
       "           oob_score=False, random_state=None, verbose=0, warm_start=False),\n",
       "       fit_params=None, iid='warn', n_jobs=-1,\n",
       "       param_grid={'bootstrap': [True], 'max_depth': [3, 5, 8, 10, 12], 'max_features': ['sqrt', 'log2', 'auto'], 'min_samples_leaf': [2, 3, 4, 5], 'min_samples_split': [3, 5, 8, 10, 12], 'n_estimators': [20, 30, 40, 50]},\n",
       "       pre_dispatch='2*n_jobs', refit=True, return_train_score='warn',\n",
       "       scoring=None, verbose=0)"
      ]
     },
     "execution_count": 117,
     "metadata": {},
     "output_type": "execute_result"
    }
   ],
   "source": [
    "param_grid = {\n",
    "    'bootstrap': [True],\n",
    "    'max_depth': [3, 5, 8, 10, 12],\n",
    "    'max_features': ['sqrt', 'log2', 'auto'],\n",
    "    'min_samples_leaf': [2, 3, 4, 5],\n",
    "    'min_samples_split': [3, 5, 8, 10, 12],\n",
    "    'n_estimators': [20, 30, 40, 50]\n",
    "}\n",
    "\n",
    "rf = RandomForestRegressor()\n",
    "rf_grid = GridSearchCV(rf, param_grid = param_grid, cv = 5, n_jobs = -1)\n",
    "rf_grid.fit(imp_columns_train, y_train)"
   ]
  },
  {
   "cell_type": "code",
   "execution_count": 118,
   "metadata": {},
   "outputs": [
    {
     "data": {
      "text/plain": [
       "{'bootstrap': True,\n",
       " 'max_depth': 8,\n",
       " 'max_features': 'auto',\n",
       " 'min_samples_leaf': 2,\n",
       " 'min_samples_split': 3,\n",
       " 'n_estimators': 20}"
      ]
     },
     "execution_count": 118,
     "metadata": {},
     "output_type": "execute_result"
    }
   ],
   "source": [
    "rf_grid.best_params_"
   ]
  },
  {
   "cell_type": "markdown",
   "metadata": {},
   "source": [
    "### Build RF Model With Best Parameters"
   ]
  },
  {
   "cell_type": "code",
   "execution_count": 119,
   "metadata": {},
   "outputs": [
    {
     "data": {
      "text/plain": [
       "10.563989420007662"
      ]
     },
     "execution_count": 119,
     "metadata": {},
     "output_type": "execute_result"
    }
   ],
   "source": [
    "rf_model_best = RandomForestRegressor(bootstrap=True, max_depth=10, max_features='auto', min_samples_leaf=2, \n",
    "                                     min_samples_split=5, n_estimators=50)\n",
    "\n",
    "rf_model_best.fit(imp_columns_train, y_train)\n",
    "preds = rf_model_best.predict(imp_columns_val)\n",
    "mean_absolute_percentage_error(y_val, preds)"
   ]
  },
  {
   "cell_type": "code",
   "execution_count": 120,
   "metadata": {},
   "outputs": [
    {
     "data": {
      "text/html": [
       "<div>\n",
       "<style>\n",
       "    .dataframe thead tr:only-child th {\n",
       "        text-align: right;\n",
       "    }\n",
       "\n",
       "    .dataframe thead th {\n",
       "        text-align: left;\n",
       "    }\n",
       "\n",
       "    .dataframe tbody tr th {\n",
       "        vertical-align: top;\n",
       "    }\n",
       "</style>\n",
       "<table border=\"1\" class=\"dataframe\">\n",
       "  <thead>\n",
       "    <tr style=\"text-align: right;\">\n",
       "      <th></th>\n",
       "      <th>Sales(In ThousandDollars)</th>\n",
       "    </tr>\n",
       "  </thead>\n",
       "  <tbody>\n",
       "    <tr>\n",
       "      <th>0</th>\n",
       "      <td>3217.482556</td>\n",
       "    </tr>\n",
       "    <tr>\n",
       "      <th>1</th>\n",
       "      <td>3889.884247</td>\n",
       "    </tr>\n",
       "    <tr>\n",
       "      <th>2</th>\n",
       "      <td>3893.606330</td>\n",
       "    </tr>\n",
       "    <tr>\n",
       "      <th>3</th>\n",
       "      <td>4526.391095</td>\n",
       "    </tr>\n",
       "    <tr>\n",
       "      <th>4</th>\n",
       "      <td>3413.954794</td>\n",
       "    </tr>\n",
       "    <tr>\n",
       "      <th>5</th>\n",
       "      <td>3953.698199</td>\n",
       "    </tr>\n",
       "    <tr>\n",
       "      <th>6</th>\n",
       "      <td>3956.351532</td>\n",
       "    </tr>\n",
       "    <tr>\n",
       "      <th>7</th>\n",
       "      <td>3968.246699</td>\n",
       "    </tr>\n",
       "    <tr>\n",
       "      <th>8</th>\n",
       "      <td>3889.134354</td>\n",
       "    </tr>\n",
       "    <tr>\n",
       "      <th>9</th>\n",
       "      <td>3762.213187</td>\n",
       "    </tr>\n",
       "    <tr>\n",
       "      <th>10</th>\n",
       "      <td>3762.213187</td>\n",
       "    </tr>\n",
       "    <tr>\n",
       "      <th>11</th>\n",
       "      <td>3855.746056</td>\n",
       "    </tr>\n",
       "  </tbody>\n",
       "</table>\n",
       "</div>"
      ],
      "text/plain": [
       "    Sales(In ThousandDollars)\n",
       "0                 3217.482556\n",
       "1                 3889.884247\n",
       "2                 3893.606330\n",
       "3                 4526.391095\n",
       "4                 3413.954794\n",
       "5                 3953.698199\n",
       "6                 3956.351532\n",
       "7                 3968.246699\n",
       "8                 3889.134354\n",
       "9                 3762.213187\n",
       "10                3762.213187\n",
       "11                3855.746056"
      ]
     },
     "execution_count": 120,
     "metadata": {},
     "output_type": "execute_result"
    }
   ],
   "source": [
    "test_preds_rf = pd.DataFrame({'Sales(In ThousandDollars)': rf_model_best.predict(imp_columns_test)})\n",
    "test_preds_rf"
   ]
  },
  {
   "cell_type": "code",
   "execution_count": 121,
   "metadata": {
    "scrolled": true
   },
   "outputs": [
    {
     "data": {
      "text/html": [
       "<div>\n",
       "<style>\n",
       "    .dataframe thead tr:only-child th {\n",
       "        text-align: right;\n",
       "    }\n",
       "\n",
       "    .dataframe thead th {\n",
       "        text-align: left;\n",
       "    }\n",
       "\n",
       "    .dataframe tbody tr th {\n",
       "        vertical-align: top;\n",
       "    }\n",
       "</style>\n",
       "<table border=\"1\" class=\"dataframe\">\n",
       "  <thead>\n",
       "    <tr style=\"text-align: right;\">\n",
       "      <th></th>\n",
       "      <th>ID</th>\n",
       "      <th>Sales(In ThousandDollars)</th>\n",
       "      <th>Year</th>\n",
       "      <th>Month</th>\n",
       "      <th>ProductCategory</th>\n",
       "    </tr>\n",
       "  </thead>\n",
       "  <tbody>\n",
       "    <tr>\n",
       "      <th>0</th>\n",
       "      <td>1</td>\n",
       "      <td>3217.482556</td>\n",
       "      <td>2016</td>\n",
       "      <td>1</td>\n",
       "      <td>WomenClothing</td>\n",
       "    </tr>\n",
       "    <tr>\n",
       "      <th>1</th>\n",
       "      <td>2</td>\n",
       "      <td>3889.884247</td>\n",
       "      <td>2016</td>\n",
       "      <td>2</td>\n",
       "      <td>WomenClothing</td>\n",
       "    </tr>\n",
       "    <tr>\n",
       "      <th>2</th>\n",
       "      <td>3</td>\n",
       "      <td>3893.606330</td>\n",
       "      <td>2016</td>\n",
       "      <td>3</td>\n",
       "      <td>WomenClothing</td>\n",
       "    </tr>\n",
       "    <tr>\n",
       "      <th>3</th>\n",
       "      <td>4</td>\n",
       "      <td>4526.391095</td>\n",
       "      <td>2016</td>\n",
       "      <td>4</td>\n",
       "      <td>WomenClothing</td>\n",
       "    </tr>\n",
       "    <tr>\n",
       "      <th>4</th>\n",
       "      <td>5</td>\n",
       "      <td>3413.954794</td>\n",
       "      <td>2016</td>\n",
       "      <td>5</td>\n",
       "      <td>WomenClothing</td>\n",
       "    </tr>\n",
       "    <tr>\n",
       "      <th>5</th>\n",
       "      <td>6</td>\n",
       "      <td>3953.698199</td>\n",
       "      <td>2016</td>\n",
       "      <td>6</td>\n",
       "      <td>WomenClothing</td>\n",
       "    </tr>\n",
       "    <tr>\n",
       "      <th>6</th>\n",
       "      <td>7</td>\n",
       "      <td>3956.351532</td>\n",
       "      <td>2016</td>\n",
       "      <td>7</td>\n",
       "      <td>WomenClothing</td>\n",
       "    </tr>\n",
       "    <tr>\n",
       "      <th>7</th>\n",
       "      <td>8</td>\n",
       "      <td>3968.246699</td>\n",
       "      <td>2016</td>\n",
       "      <td>8</td>\n",
       "      <td>WomenClothing</td>\n",
       "    </tr>\n",
       "    <tr>\n",
       "      <th>8</th>\n",
       "      <td>9</td>\n",
       "      <td>3889.134354</td>\n",
       "      <td>2016</td>\n",
       "      <td>9</td>\n",
       "      <td>WomenClothing</td>\n",
       "    </tr>\n",
       "    <tr>\n",
       "      <th>9</th>\n",
       "      <td>10</td>\n",
       "      <td>3762.213187</td>\n",
       "      <td>2016</td>\n",
       "      <td>10</td>\n",
       "      <td>WomenClothing</td>\n",
       "    </tr>\n",
       "    <tr>\n",
       "      <th>10</th>\n",
       "      <td>11</td>\n",
       "      <td>3762.213187</td>\n",
       "      <td>2016</td>\n",
       "      <td>11</td>\n",
       "      <td>WomenClothing</td>\n",
       "    </tr>\n",
       "    <tr>\n",
       "      <th>11</th>\n",
       "      <td>12</td>\n",
       "      <td>3855.746056</td>\n",
       "      <td>2016</td>\n",
       "      <td>12</td>\n",
       "      <td>WomenClothing</td>\n",
       "    </tr>\n",
       "  </tbody>\n",
       "</table>\n",
       "</div>"
      ],
      "text/plain": [
       "    ID  Sales(In ThousandDollars)  Year  Month ProductCategory\n",
       "0    1                3217.482556  2016      1   WomenClothing\n",
       "1    2                3889.884247  2016      2   WomenClothing\n",
       "2    3                3893.606330  2016      3   WomenClothing\n",
       "3    4                4526.391095  2016      4   WomenClothing\n",
       "4    5                3413.954794  2016      5   WomenClothing\n",
       "5    6                3953.698199  2016      6   WomenClothing\n",
       "6    7                3956.351532  2016      7   WomenClothing\n",
       "7    8                3968.246699  2016      8   WomenClothing\n",
       "8    9                3889.134354  2016      9   WomenClothing\n",
       "9   10                3762.213187  2016     10   WomenClothing\n",
       "10  11                3762.213187  2016     11   WomenClothing\n",
       "11  12                3855.746056  2016     12   WomenClothing"
      ]
     },
     "execution_count": 121,
     "metadata": {},
     "output_type": "execute_result"
    }
   ],
   "source": [
    "submissionfile['Sales(In ThousandDollars)'] = test_preds_rf['Sales(In ThousandDollars)']\n",
    "submissionfile"
   ]
  },
  {
   "cell_type": "code",
   "execution_count": 122,
   "metadata": {
    "collapsed": true
   },
   "outputs": [],
   "source": [
    "#submissionfile.to_csv('C:\\\\Users\\\\HP\\\\Desktop\\\\trial\\\\regression_rf_best_submission.csv', index=False)"
   ]
  },
  {
   "cell_type": "code",
   "execution_count": 123,
   "metadata": {
    "collapsed": true
   },
   "outputs": [],
   "source": [
    "##################################################################################################################"
   ]
  },
  {
   "cell_type": "markdown",
   "metadata": {},
   "source": [
    "### GBM"
   ]
  },
  {
   "cell_type": "code",
   "execution_count": 124,
   "metadata": {},
   "outputs": [
    {
     "data": {
      "text/plain": [
       "10.654107246405015"
      ]
     },
     "execution_count": 124,
     "metadata": {},
     "output_type": "execute_result"
    }
   ],
   "source": [
    "from sklearn.ensemble import GradientBoostingRegressor\n",
    "\n",
    "model_gbr = GradientBoostingRegressor()\n",
    "model_gbr.fit(trainX_fold, y_train)\n",
    "\n",
    "val_predictions = model_gbr.predict(valX_fold)\n",
    "mean_absolute_percentage_error(y_val, val_predictions)"
   ]
  },
  {
   "cell_type": "code",
   "execution_count": 125,
   "metadata": {
    "scrolled": true
   },
   "outputs": [
    {
     "data": {
      "text/html": [
       "<div>\n",
       "<style>\n",
       "    .dataframe thead tr:only-child th {\n",
       "        text-align: right;\n",
       "    }\n",
       "\n",
       "    .dataframe thead th {\n",
       "        text-align: left;\n",
       "    }\n",
       "\n",
       "    .dataframe tbody tr th {\n",
       "        vertical-align: top;\n",
       "    }\n",
       "</style>\n",
       "<table border=\"1\" class=\"dataframe\">\n",
       "  <thead>\n",
       "    <tr style=\"text-align: right;\">\n",
       "      <th></th>\n",
       "      <th>Sales(In ThousandDollars)</th>\n",
       "    </tr>\n",
       "  </thead>\n",
       "  <tbody>\n",
       "    <tr>\n",
       "      <th>0</th>\n",
       "      <td>2347.916693</td>\n",
       "    </tr>\n",
       "    <tr>\n",
       "      <th>1</th>\n",
       "      <td>2677.623734</td>\n",
       "    </tr>\n",
       "    <tr>\n",
       "      <th>2</th>\n",
       "      <td>2620.298192</td>\n",
       "    </tr>\n",
       "    <tr>\n",
       "      <th>3</th>\n",
       "      <td>2805.264416</td>\n",
       "    </tr>\n",
       "    <tr>\n",
       "      <th>4</th>\n",
       "      <td>2347.916693</td>\n",
       "    </tr>\n",
       "    <tr>\n",
       "      <th>5</th>\n",
       "      <td>2564.596962</td>\n",
       "    </tr>\n",
       "    <tr>\n",
       "      <th>6</th>\n",
       "      <td>2539.653033</td>\n",
       "    </tr>\n",
       "    <tr>\n",
       "      <th>7</th>\n",
       "      <td>2673.937272</td>\n",
       "    </tr>\n",
       "    <tr>\n",
       "      <th>8</th>\n",
       "      <td>2819.600122</td>\n",
       "    </tr>\n",
       "    <tr>\n",
       "      <th>9</th>\n",
       "      <td>2858.893428</td>\n",
       "    </tr>\n",
       "    <tr>\n",
       "      <th>10</th>\n",
       "      <td>2858.893428</td>\n",
       "    </tr>\n",
       "    <tr>\n",
       "      <th>11</th>\n",
       "      <td>2741.076852</td>\n",
       "    </tr>\n",
       "  </tbody>\n",
       "</table>\n",
       "</div>"
      ],
      "text/plain": [
       "    Sales(In ThousandDollars)\n",
       "0                 2347.916693\n",
       "1                 2677.623734\n",
       "2                 2620.298192\n",
       "3                 2805.264416\n",
       "4                 2347.916693\n",
       "5                 2564.596962\n",
       "6                 2539.653033\n",
       "7                 2673.937272\n",
       "8                 2819.600122\n",
       "9                 2858.893428\n",
       "10                2858.893428\n",
       "11                2741.076852"
      ]
     },
     "execution_count": 125,
     "metadata": {},
     "output_type": "execute_result"
    }
   ],
   "source": [
    "test_preds = pd.DataFrame({'Sales(In ThousandDollars)': model_gbr.predict(test_data)})\n",
    "test_preds"
   ]
  },
  {
   "cell_type": "markdown",
   "metadata": {},
   "source": [
    "### GBM With rf_model Imp_features"
   ]
  },
  {
   "cell_type": "code",
   "execution_count": 126,
   "metadata": {},
   "outputs": [
    {
     "data": {
      "text/plain": [
       "9.412698767389585"
      ]
     },
     "execution_count": 126,
     "metadata": {},
     "output_type": "execute_result"
    }
   ],
   "source": [
    "from sklearn.ensemble import GradientBoostingRegressor\n",
    "\n",
    "model_gbr = GradientBoostingRegressor()\n",
    "model_gbr.fit(imp_columns_train, y_train)\n",
    "\n",
    "val_predictions = model_gbr.predict(imp_columns_val)\n",
    "mean_absolute_percentage_error(y_val, val_predictions)"
   ]
  },
  {
   "cell_type": "code",
   "execution_count": 127,
   "metadata": {
    "collapsed": true,
    "scrolled": true
   },
   "outputs": [],
   "source": [
    "test_preds1 = pd.DataFrame({'Sales(In ThousandDollars)': model_gbr.predict(imp_columns_test)})"
   ]
  },
  {
   "cell_type": "code",
   "execution_count": 128,
   "metadata": {},
   "outputs": [
    {
     "data": {
      "text/html": [
       "<div>\n",
       "<style>\n",
       "    .dataframe thead tr:only-child th {\n",
       "        text-align: right;\n",
       "    }\n",
       "\n",
       "    .dataframe thead th {\n",
       "        text-align: left;\n",
       "    }\n",
       "\n",
       "    .dataframe tbody tr th {\n",
       "        vertical-align: top;\n",
       "    }\n",
       "</style>\n",
       "<table border=\"1\" class=\"dataframe\">\n",
       "  <thead>\n",
       "    <tr style=\"text-align: right;\">\n",
       "      <th></th>\n",
       "      <th>ID</th>\n",
       "      <th>Sales(In ThousandDollars)</th>\n",
       "      <th>Year</th>\n",
       "      <th>Month</th>\n",
       "      <th>ProductCategory</th>\n",
       "    </tr>\n",
       "  </thead>\n",
       "  <tbody>\n",
       "    <tr>\n",
       "      <th>0</th>\n",
       "      <td>1</td>\n",
       "      <td>3336.715172</td>\n",
       "      <td>2016</td>\n",
       "      <td>1</td>\n",
       "      <td>WomenClothing</td>\n",
       "    </tr>\n",
       "    <tr>\n",
       "      <th>1</th>\n",
       "      <td>2</td>\n",
       "      <td>3989.714962</td>\n",
       "      <td>2016</td>\n",
       "      <td>2</td>\n",
       "      <td>WomenClothing</td>\n",
       "    </tr>\n",
       "    <tr>\n",
       "      <th>2</th>\n",
       "      <td>3</td>\n",
       "      <td>4058.782547</td>\n",
       "      <td>2016</td>\n",
       "      <td>3</td>\n",
       "      <td>WomenClothing</td>\n",
       "    </tr>\n",
       "    <tr>\n",
       "      <th>3</th>\n",
       "      <td>4</td>\n",
       "      <td>4546.901471</td>\n",
       "      <td>2016</td>\n",
       "      <td>4</td>\n",
       "      <td>WomenClothing</td>\n",
       "    </tr>\n",
       "    <tr>\n",
       "      <th>4</th>\n",
       "      <td>5</td>\n",
       "      <td>3534.413837</td>\n",
       "      <td>2016</td>\n",
       "      <td>5</td>\n",
       "      <td>WomenClothing</td>\n",
       "    </tr>\n",
       "    <tr>\n",
       "      <th>5</th>\n",
       "      <td>6</td>\n",
       "      <td>4089.684732</td>\n",
       "      <td>2016</td>\n",
       "      <td>6</td>\n",
       "      <td>WomenClothing</td>\n",
       "    </tr>\n",
       "    <tr>\n",
       "      <th>6</th>\n",
       "      <td>7</td>\n",
       "      <td>4101.289772</td>\n",
       "      <td>2016</td>\n",
       "      <td>7</td>\n",
       "      <td>WomenClothing</td>\n",
       "    </tr>\n",
       "    <tr>\n",
       "      <th>7</th>\n",
       "      <td>8</td>\n",
       "      <td>4203.335271</td>\n",
       "      <td>2016</td>\n",
       "      <td>8</td>\n",
       "      <td>WomenClothing</td>\n",
       "    </tr>\n",
       "    <tr>\n",
       "      <th>8</th>\n",
       "      <td>9</td>\n",
       "      <td>3946.348184</td>\n",
       "      <td>2016</td>\n",
       "      <td>9</td>\n",
       "      <td>WomenClothing</td>\n",
       "    </tr>\n",
       "    <tr>\n",
       "      <th>9</th>\n",
       "      <td>10</td>\n",
       "      <td>3724.336012</td>\n",
       "      <td>2016</td>\n",
       "      <td>10</td>\n",
       "      <td>WomenClothing</td>\n",
       "    </tr>\n",
       "    <tr>\n",
       "      <th>10</th>\n",
       "      <td>11</td>\n",
       "      <td>3740.230940</td>\n",
       "      <td>2016</td>\n",
       "      <td>11</td>\n",
       "      <td>WomenClothing</td>\n",
       "    </tr>\n",
       "    <tr>\n",
       "      <th>11</th>\n",
       "      <td>12</td>\n",
       "      <td>3906.128992</td>\n",
       "      <td>2016</td>\n",
       "      <td>12</td>\n",
       "      <td>WomenClothing</td>\n",
       "    </tr>\n",
       "  </tbody>\n",
       "</table>\n",
       "</div>"
      ],
      "text/plain": [
       "    ID  Sales(In ThousandDollars)  Year  Month ProductCategory\n",
       "0    1                3336.715172  2016      1   WomenClothing\n",
       "1    2                3989.714962  2016      2   WomenClothing\n",
       "2    3                4058.782547  2016      3   WomenClothing\n",
       "3    4                4546.901471  2016      4   WomenClothing\n",
       "4    5                3534.413837  2016      5   WomenClothing\n",
       "5    6                4089.684732  2016      6   WomenClothing\n",
       "6    7                4101.289772  2016      7   WomenClothing\n",
       "7    8                4203.335271  2016      8   WomenClothing\n",
       "8    9                3946.348184  2016      9   WomenClothing\n",
       "9   10                3724.336012  2016     10   WomenClothing\n",
       "10  11                3740.230940  2016     11   WomenClothing\n",
       "11  12                3906.128992  2016     12   WomenClothing"
      ]
     },
     "execution_count": 128,
     "metadata": {},
     "output_type": "execute_result"
    }
   ],
   "source": [
    "submissionfile['Sales(In ThousandDollars)'] = test_preds1['Sales(In ThousandDollars)']\n",
    "submissionfile"
   ]
  },
  {
   "cell_type": "code",
   "execution_count": 129,
   "metadata": {
    "collapsed": true
   },
   "outputs": [],
   "source": [
    "#submissionfile.to_csv('C:\\\\Users\\\\HP\\\\Desktop\\\\trial\\\\regression_gbm_submission.csv', index=False)"
   ]
  },
  {
   "cell_type": "markdown",
   "metadata": {},
   "source": [
    "### GBM With GridSearch"
   ]
  },
  {
   "cell_type": "code",
   "execution_count": 130,
   "metadata": {},
   "outputs": [
    {
     "data": {
      "text/plain": [
       "GridSearchCV(cv=5, error_score='raise-deprecating',\n",
       "       estimator=GradientBoostingRegressor(alpha=0.9, criterion='friedman_mse', init=None,\n",
       "             learning_rate=0.1, loss='ls', max_depth=3, max_features=None,\n",
       "             max_leaf_nodes=None, min_impurity_decrease=0.0,\n",
       "             min_impurity_split=None, min_samples_leaf=1,\n",
       "             min_sampl...=None, subsample=1.0, tol=0.0001,\n",
       "             validation_fraction=0.1, verbose=0, warm_start=False),\n",
       "       fit_params=None, iid='warn', n_jobs=-1,\n",
       "       param_grid={'criterion': ['friedman_mse', 'mae'], 'loss': ['ls', 'lad', 'huber', 'quantile'], 'learning_rate': [0.025, 0.05, 0.075, 0.1, 0.15], 'max_depth': [3, 5, 8], 'n_estimators': [10, 15, 20], 'min_samples_split': [2, 3, 4, 5, 6]},\n",
       "       pre_dispatch='2*n_jobs', refit=True, return_train_score='warn',\n",
       "       scoring=None, verbose=0)"
      ]
     },
     "execution_count": 130,
     "metadata": {},
     "output_type": "execute_result"
    }
   ],
   "source": [
    "parameters = {\n",
    "    \"criterion\": [\"friedman_mse\",'mae'],\n",
    "    \"loss\":['ls', 'lad', 'huber', 'quantile'],\n",
    "    \"learning_rate\": [0.025, 0.05, 0.075, 0.1, 0.15],\n",
    "    \"max_depth\":[3,5,8],\n",
    "    \"n_estimators\":[10, 15, 20],\n",
    "    \"min_samples_split\":[2,3,4,5,6]\n",
    "    }\n",
    "\n",
    "gbc = GradientBoostingRegressor()\n",
    "gbc_grid = GridSearchCV(gbc, parameters, cv=5, n_jobs=-1)\n",
    "gbc_grid.fit(imp_columns_train, y_train)"
   ]
  },
  {
   "cell_type": "code",
   "execution_count": 131,
   "metadata": {},
   "outputs": [
    {
     "data": {
      "text/plain": [
       "{'criterion': 'friedman_mse',\n",
       " 'learning_rate': 0.15,\n",
       " 'loss': 'ls',\n",
       " 'max_depth': 8,\n",
       " 'min_samples_split': 6,\n",
       " 'n_estimators': 20}"
      ]
     },
     "execution_count": 131,
     "metadata": {},
     "output_type": "execute_result"
    }
   ],
   "source": [
    "gbc_grid.best_params_"
   ]
  },
  {
   "cell_type": "code",
   "execution_count": 132,
   "metadata": {},
   "outputs": [
    {
     "data": {
      "text/plain": [
       "GradientBoostingRegressor(alpha=0.9, criterion='friedman_mse', init=None,\n",
       "             learning_rate=0.15, loss='ls', max_depth=8, max_features=None,\n",
       "             max_leaf_nodes=None, min_impurity_decrease=0.0,\n",
       "             min_impurity_split=None, min_samples_leaf=1,\n",
       "             min_samples_split=4, min_weight_fraction_leaf=0.0,\n",
       "             n_estimators=20, n_iter_no_change=None, presort='auto',\n",
       "             random_state=None, subsample=1.0, tol=0.0001,\n",
       "             validation_fraction=0.1, verbose=0, warm_start=False)"
      ]
     },
     "execution_count": 132,
     "metadata": {},
     "output_type": "execute_result"
    }
   ],
   "source": [
    "gbc_best = GradientBoostingRegressor(criterion='friedman_mse',\n",
    "                                        learning_rate = 0.15,\n",
    "                                        loss = 'ls',\n",
    "                                        max_depth = 8,\n",
    "                                        min_samples_split = 4,\n",
    "                                        n_estimators =20)\n",
    "gbc_best.fit(imp_columns_train, y_train)"
   ]
  },
  {
   "cell_type": "code",
   "execution_count": 133,
   "metadata": {},
   "outputs": [
    {
     "data": {
      "text/plain": [
       "10.407515097957361"
      ]
     },
     "execution_count": 133,
     "metadata": {},
     "output_type": "execute_result"
    }
   ],
   "source": [
    "y_cap = gbc_best.predict(imp_columns_val)\n",
    "mean_absolute_percentage_error(y_val, y_cap)"
   ]
  },
  {
   "cell_type": "code",
   "execution_count": 134,
   "metadata": {},
   "outputs": [
    {
     "data": {
      "text/plain": [
       "array([3111.35839561, 3811.44330354, 3811.44330354, 4448.2538244 ,\n",
       "       3723.09530219, 4295.7609695 , 4295.7609695 , 4348.27474815,\n",
       "       3805.71871111, 3652.67867831, 3652.67867831, 3784.31871111])"
      ]
     },
     "execution_count": 134,
     "metadata": {},
     "output_type": "execute_result"
    }
   ],
   "source": [
    "gbc_best.predict(imp_columns_test)"
   ]
  },
  {
   "cell_type": "code",
   "execution_count": 135,
   "metadata": {
    "scrolled": true
   },
   "outputs": [
    {
     "data": {
      "text/html": [
       "<div>\n",
       "<style>\n",
       "    .dataframe thead tr:only-child th {\n",
       "        text-align: right;\n",
       "    }\n",
       "\n",
       "    .dataframe thead th {\n",
       "        text-align: left;\n",
       "    }\n",
       "\n",
       "    .dataframe tbody tr th {\n",
       "        vertical-align: top;\n",
       "    }\n",
       "</style>\n",
       "<table border=\"1\" class=\"dataframe\">\n",
       "  <thead>\n",
       "    <tr style=\"text-align: right;\">\n",
       "      <th></th>\n",
       "      <th>Sales(In ThousandDollars)</th>\n",
       "    </tr>\n",
       "  </thead>\n",
       "  <tbody>\n",
       "    <tr>\n",
       "      <th>0</th>\n",
       "      <td>3111.358396</td>\n",
       "    </tr>\n",
       "    <tr>\n",
       "      <th>1</th>\n",
       "      <td>3811.443304</td>\n",
       "    </tr>\n",
       "    <tr>\n",
       "      <th>2</th>\n",
       "      <td>3811.443304</td>\n",
       "    </tr>\n",
       "    <tr>\n",
       "      <th>3</th>\n",
       "      <td>4448.253824</td>\n",
       "    </tr>\n",
       "    <tr>\n",
       "      <th>4</th>\n",
       "      <td>3723.095302</td>\n",
       "    </tr>\n",
       "    <tr>\n",
       "      <th>5</th>\n",
       "      <td>4295.760970</td>\n",
       "    </tr>\n",
       "    <tr>\n",
       "      <th>6</th>\n",
       "      <td>4295.760970</td>\n",
       "    </tr>\n",
       "    <tr>\n",
       "      <th>7</th>\n",
       "      <td>4348.274748</td>\n",
       "    </tr>\n",
       "    <tr>\n",
       "      <th>8</th>\n",
       "      <td>3805.718711</td>\n",
       "    </tr>\n",
       "    <tr>\n",
       "      <th>9</th>\n",
       "      <td>3652.678678</td>\n",
       "    </tr>\n",
       "    <tr>\n",
       "      <th>10</th>\n",
       "      <td>3652.678678</td>\n",
       "    </tr>\n",
       "    <tr>\n",
       "      <th>11</th>\n",
       "      <td>3784.318711</td>\n",
       "    </tr>\n",
       "  </tbody>\n",
       "</table>\n",
       "</div>"
      ],
      "text/plain": [
       "    Sales(In ThousandDollars)\n",
       "0                 3111.358396\n",
       "1                 3811.443304\n",
       "2                 3811.443304\n",
       "3                 4448.253824\n",
       "4                 3723.095302\n",
       "5                 4295.760970\n",
       "6                 4295.760970\n",
       "7                 4348.274748\n",
       "8                 3805.718711\n",
       "9                 3652.678678\n",
       "10                3652.678678\n",
       "11                3784.318711"
      ]
     },
     "execution_count": 135,
     "metadata": {},
     "output_type": "execute_result"
    }
   ],
   "source": [
    "test_preds2 = pd.DataFrame({'Sales(In ThousandDollars)': gbc_best.predict(imp_columns_test)})\n",
    "test_preds2"
   ]
  },
  {
   "cell_type": "code",
   "execution_count": null,
   "metadata": {
    "collapsed": true
   },
   "outputs": [],
   "source": []
  },
  {
   "cell_type": "code",
   "execution_count": null,
   "metadata": {},
   "outputs": [],
   "source": [
    "submissionfile['Sales(In ThousandDollars)'] = test_preds2['Sales(In ThousandDollars)']\n",
    "submissionfile"
   ]
  },
  {
   "cell_type": "code",
   "execution_count": null,
   "metadata": {
    "collapsed": true
   },
   "outputs": [],
   "source": [
    "#submissionfile.to_csv('C:\\\\Users\\\\HP\\Desktop\\\\trial\\\\regression_gbm_best_submission.csv', index=False)"
   ]
  },
  {
   "cell_type": "code",
   "execution_count": null,
   "metadata": {
    "collapsed": true
   },
   "outputs": [],
   "source": [
    "######################################################"
   ]
  },
  {
   "cell_type": "code",
   "execution_count": null,
   "metadata": {
    "collapsed": true
   },
   "outputs": [],
   "source": []
  },
  {
   "cell_type": "code",
   "execution_count": null,
   "metadata": {
    "collapsed": true
   },
   "outputs": [],
   "source": []
  },
  {
   "cell_type": "code",
   "execution_count": null,
   "metadata": {
    "collapsed": true
   },
   "outputs": [],
   "source": []
  },
  {
   "cell_type": "code",
   "execution_count": null,
   "metadata": {
    "collapsed": true
   },
   "outputs": [],
   "source": []
  },
  {
   "cell_type": "code",
   "execution_count": null,
   "metadata": {
    "collapsed": true
   },
   "outputs": [],
   "source": []
  },
  {
   "cell_type": "code",
   "execution_count": null,
   "metadata": {
    "collapsed": true
   },
   "outputs": [],
   "source": []
  },
  {
   "cell_type": "code",
   "execution_count": null,
   "metadata": {
    "collapsed": true
   },
   "outputs": [],
   "source": []
  }
 ],
 "metadata": {
  "kernelspec": {
   "display_name": "Python 3",
   "language": "python",
   "name": "python3"
  },
  "language_info": {
   "codemirror_mode": {
    "name": "ipython",
    "version": 3
   },
   "file_extension": ".py",
   "mimetype": "text/x-python",
   "name": "python",
   "nbconvert_exporter": "python",
   "pygments_lexer": "ipython3",
   "version": "3.6.2"
  }
 },
 "nbformat": 4,
 "nbformat_minor": 2
}
