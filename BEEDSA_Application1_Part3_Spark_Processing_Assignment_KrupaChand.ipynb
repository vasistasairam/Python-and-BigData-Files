{
 "cells": [
  {
   "cell_type": "markdown",
   "metadata": {},
   "source": [
    "# Transformations in Spark"
   ]
  },
  {
   "cell_type": "code",
   "execution_count": 1,
   "metadata": {
    "collapsed": true
   },
   "outputs": [],
   "source": [
    "import os\n",
    "import sys\n",
    "os.environ[\"SPARK_HOME\"] = \"/usr/hdp/current/spark2-client\"\n",
    "os.environ[\"PYLIB\"] = os.environ[\"SPARK_HOME\"] + \"/python/lib\"\n",
    "sys.path.insert(0, os.environ[\"PYLIB\"] + \"/py4j-0.10.4-src.zip\")\n",
    "sys.path.insert(0, os.environ[\"PYLIB\"] + \"/pyspark.zip\")"
   ]
  },
  {
   "cell_type": "code",
   "execution_count": 2,
   "metadata": {
    "collapsed": true
   },
   "outputs": [],
   "source": [
    "## Create SparkContext, SparkSession\n",
    "from os.path import expanduser, join, abspath\n",
    "\n",
    "from pyspark.sql import SparkSession\n",
    "from pyspark.sql import Row\n",
    "\n",
    "# warehouse_location points to the default location for managed databases and tables\n",
    "warehouse_location = 'hdfs:///apps/hive/warehouse/'\n",
    "\n",
    "spark = SparkSession \\\n",
    "    .builder \\\n",
    "    .appName(\"Python Spark SQL Hive integration example\") \\\n",
    "    .config(\"spark.sql.warehouse.dir\", warehouse_location) \\\n",
    "    .enableHiveSupport() \\\n",
    "    .getOrCreate()"
   ]
  },
  {
   "cell_type": "code",
   "execution_count": 3,
   "metadata": {},
   "outputs": [
    {
     "data": {
      "text/html": [
       "\n",
       "            <div>\n",
       "                <p><b>SparkSession - hive</b></p>\n",
       "                \n",
       "        <div>\n",
       "            <p><b>SparkContext</b></p>\n",
       "\n",
       "            <p><a href=\"http://m.insofe.edu.in:4041\">Spark UI</a></p>\n",
       "\n",
       "            <dl>\n",
       "              <dt>Version</dt>\n",
       "                <dd><code>v2.3.0.2.6.5.0-292</code></dd>\n",
       "              <dt>Master</dt>\n",
       "                <dd><code>local[*]</code></dd>\n",
       "              <dt>AppName</dt>\n",
       "                <dd><code>Python Spark SQL Hive integration example</code></dd>\n",
       "            </dl>\n",
       "        </div>\n",
       "        \n",
       "            </div>\n",
       "        "
      ],
      "text/plain": [
       "<pyspark.sql.session.SparkSession at 0x3222210>"
      ]
     },
     "execution_count": 3,
     "metadata": {},
     "output_type": "execute_result"
    }
   ],
   "source": [
    "# Verify Spark Driver\n",
    "spark"
   ]
  },
  {
   "cell_type": "markdown",
   "metadata": {},
   "source": [
    "Now there are 6 tables available in HIVE, in the database *insofe_empdb**\n",
    "\n",
    "Access these tables and process the data"
   ]
  },
  {
   "cell_type": "markdown",
   "metadata": {},
   "source": [
    "#### Verify HIVE the Data in Hive"
   ]
  },
  {
   "cell_type": "code",
   "execution_count": 9,
   "metadata": {},
   "outputs": [
    {
     "data": {
      "text/plain": [
       "DataFrame[]"
      ]
     },
     "execution_count": 9,
     "metadata": {},
     "output_type": "execute_result"
    }
   ],
   "source": [
    "# insofe_empdb_akc2320\n",
    "spark.sql('use insofe_empdb_akc2320')"
   ]
  },
  {
   "cell_type": "markdown",
   "metadata": {},
   "source": [
    "#### Verify/List all the tables in the above database"
   ]
  },
  {
   "cell_type": "code",
   "execution_count": 11,
   "metadata": {
    "scrolled": true
   },
   "outputs": [
    {
     "name": "stdout",
     "output_type": "stream",
     "text": [
      "+--------------------+------------+-----------+\n",
      "|            database|   tableName|isTemporary|\n",
      "+--------------------+------------+-----------+\n",
      "|insofe_empdb_akc2320| departments|      false|\n",
      "|insofe_empdb_akc2320|    dept_emp|      false|\n",
      "|insofe_empdb_akc2320|dept_manager|      false|\n",
      "|insofe_empdb_akc2320|   employees|      false|\n",
      "|insofe_empdb_akc2320|    salaries|      false|\n",
      "|insofe_empdb_akc2320|      titles|      false|\n",
      "+--------------------+------------+-----------+\n",
      "\n"
     ]
    }
   ],
   "source": [
    "spark.sql('show tables').show()"
   ]
  },
  {
   "cell_type": "markdown",
   "metadata": {},
   "source": [
    "#### Create DataFrame for departments data from departments table in HIVE"
   ]
  },
  {
   "cell_type": "code",
   "execution_count": 12,
   "metadata": {},
   "outputs": [
    {
     "name": "stdout",
     "output_type": "stream",
     "text": [
      "+-------+---------+-------------------+\n",
      "|dept_no|dept_name|      last_modified|\n",
      "+-------+---------+-------------------+\n",
      "|   d001|Marketing|2013-01-28 23:59:59|\n",
      "|   d002|  Finance|2013-01-28 23:59:59|\n",
      "+-------+---------+-------------------+\n",
      "only showing top 2 rows\n",
      "\n"
     ]
    }
   ],
   "source": [
    "df_dept=spark.sql('select * from departments')\n",
    "df_dept.show(2)"
   ]
  },
  {
   "cell_type": "markdown",
   "metadata": {},
   "source": [
    "#### Verify the departments DataFrame"
   ]
  },
  {
   "cell_type": "code",
   "execution_count": 13,
   "metadata": {
    "scrolled": true
   },
   "outputs": [
    {
     "name": "stdout",
     "output_type": "stream",
     "text": [
      "+-------+------------------+-------------------+\n",
      "|dept_no|         dept_name|      last_modified|\n",
      "+-------+------------------+-------------------+\n",
      "|   d001|         Marketing|2013-01-28 23:59:59|\n",
      "|   d002|           Finance|2013-01-28 23:59:59|\n",
      "|   d003|   Human Resources|2013-01-28 23:59:59|\n",
      "|   d004|        Production|2013-01-28 23:59:59|\n",
      "|   d005|       Development|2013-01-28 23:59:59|\n",
      "|   d006|Quality Management|2013-01-28 23:59:59|\n",
      "|   d007|             Sales|2013-01-28 23:59:59|\n",
      "|   d008|          Research|2013-01-28 23:59:59|\n",
      "|   d009|  Customer Service|2013-01-28 23:59:59|\n",
      "|   d010|         Analytics|2019-01-05 15:37:59|\n",
      "+-------+------------------+-------------------+\n",
      "\n"
     ]
    }
   ],
   "source": [
    "df_dept.show()"
   ]
  },
  {
   "cell_type": "markdown",
   "metadata": {},
   "source": [
    "#### Verify the Schema of deparaments DataFrame"
   ]
  },
  {
   "cell_type": "code",
   "execution_count": 18,
   "metadata": {},
   "outputs": [
    {
     "name": "stdout",
     "output_type": "stream",
     "text": [
      "root\n",
      " |-- dept_no: string (nullable = true)\n",
      " |-- dept_name: string (nullable = true)\n",
      " |-- last_modified: timestamp (nullable = true)\n",
      "\n"
     ]
    }
   ],
   "source": [
    "df_dept.printSchema()"
   ]
  },
  {
   "cell_type": "markdown",
   "metadata": {},
   "source": [
    "#### Create DataFrame for departments&employees from dept_emp table in HIVE\n",
    "<br>For each employee his/her respective department is available in dept_emp table\n",
    "<br>An employee might move/work in different times in his/her tenure\n",
    "<br>So, there will be multiple records for an employee (with different departments in different time periods)\n",
    "<br>At any time an employee must be active, only in one department and this can be identified with to_date of '9999-01-01'"
   ]
  },
  {
   "cell_type": "code",
   "execution_count": 19,
   "metadata": {},
   "outputs": [
    {
     "name": "stdout",
     "output_type": "stream",
     "text": [
      "+------+------+-------+----------+----------+-------------------+\n",
      "|seq_no|emp_no|dept_no| from_date|   to_date|      last_modified|\n",
      "+------+------+-------+----------+----------+-------------------+\n",
      "|     1|     1|   d001|1986-01-01|9999-01-01|2013-01-28 23:59:59|\n",
      "|    10|    10|   d002|1986-01-14|9999-01-01|2013-01-28 23:59:59|\n",
      "|   100|    94|   d004|1994-05-26|1999-04-29|2013-01-28 23:59:59|\n",
      "+------+------+-------+----------+----------+-------------------+\n",
      "only showing top 3 rows\n",
      "\n"
     ]
    }
   ],
   "source": [
    "df_dept_emp = spark.sql('select * from dept_emp')\n",
    "df_dept_emp.show(3)"
   ]
  },
  {
   "cell_type": "markdown",
   "metadata": {},
   "source": [
    "#### Verify the departments&employees DataFrame"
   ]
  },
  {
   "cell_type": "code",
   "execution_count": 20,
   "metadata": {},
   "outputs": [
    {
     "name": "stdout",
     "output_type": "stream",
     "text": [
      "+------+------+-------+----------+----------+-------------------+\n",
      "|seq_no|emp_no|dept_no| from_date|   to_date|      last_modified|\n",
      "+------+------+-------+----------+----------+-------------------+\n",
      "|     1|     1|   d001|1986-01-01|9999-01-01|2013-01-28 23:59:59|\n",
      "|    10|    10|   d002|1986-01-14|9999-01-01|2013-01-28 23:59:59|\n",
      "|   100|    94|   d004|1994-05-26|1999-04-29|2013-01-28 23:59:59|\n",
      "|  1000|   909|   d009|1988-09-12|9999-01-01|2013-01-28 23:59:59|\n",
      "+------+------+-------+----------+----------+-------------------+\n",
      "only showing top 4 rows\n",
      "\n"
     ]
    }
   ],
   "source": [
    "df_dept_emp.show(4)"
   ]
  },
  {
   "cell_type": "markdown",
   "metadata": {},
   "source": [
    "#### Verify the schema for departments&employees DataFrame"
   ]
  },
  {
   "cell_type": "code",
   "execution_count": 21,
   "metadata": {
    "scrolled": true
   },
   "outputs": [
    {
     "name": "stdout",
     "output_type": "stream",
     "text": [
      "root\n",
      " |-- seq_no: integer (nullable = true)\n",
      " |-- emp_no: integer (nullable = true)\n",
      " |-- dept_no: string (nullable = true)\n",
      " |-- from_date: string (nullable = true)\n",
      " |-- to_date: string (nullable = true)\n",
      " |-- last_modified: timestamp (nullable = true)\n",
      "\n"
     ]
    }
   ],
   "source": [
    "df_dept_emp.printSchema()"
   ]
  },
  {
   "cell_type": "markdown",
   "metadata": {},
   "source": [
    "#### Total Count in departments&employees DataFrame"
   ]
  },
  {
   "cell_type": "code",
   "execution_count": 22,
   "metadata": {},
   "outputs": [
    {
     "data": {
      "text/plain": [
       "341603"
      ]
     },
     "execution_count": 22,
     "metadata": {},
     "output_type": "execute_result"
    }
   ],
   "source": [
    "df_dept_emp.count()"
   ]
  },
  {
   "cell_type": "markdown",
   "metadata": {},
   "source": [
    "#### Filter only the active records from the above DataFrame\n"
   ]
  },
  {
   "cell_type": "code",
   "execution_count": 23,
   "metadata": {
    "collapsed": true
   },
   "outputs": [],
   "source": [
    "df_emp_active = df_dept_emp.where(df_dept_emp.to_date == '9999-01-01')"
   ]
  },
  {
   "cell_type": "markdown",
   "metadata": {},
   "source": [
    "#### Active employees count"
   ]
  },
  {
   "cell_type": "code",
   "execution_count": 24,
   "metadata": {
    "scrolled": true
   },
   "outputs": [
    {
     "data": {
      "text/plain": [
       "250124"
      ]
     },
     "execution_count": 24,
     "metadata": {},
     "output_type": "execute_result"
    }
   ],
   "source": [
    "df_emp_active.count()"
   ]
  },
  {
   "cell_type": "code",
   "execution_count": 27,
   "metadata": {
    "scrolled": true
   },
   "outputs": [
    {
     "name": "stdout",
     "output_type": "stream",
     "text": [
      "root\n",
      " |-- seq_no: integer (nullable = true)\n",
      " |-- emp_no: integer (nullable = true)\n",
      " |-- dept_no: string (nullable = true)\n",
      " |-- from_date: string (nullable = true)\n",
      " |-- to_date: string (nullable = true)\n",
      " |-- last_modified: timestamp (nullable = true)\n",
      "\n"
     ]
    }
   ],
   "source": [
    "df_emp_active.printSchema()"
   ]
  },
  {
   "cell_type": "markdown",
   "metadata": {},
   "source": [
    "#### Remove unnecessary columns"
   ]
  },
  {
   "cell_type": "code",
   "execution_count": 29,
   "metadata": {
    "scrolled": true
   },
   "outputs": [
    {
     "data": {
      "text/plain": [
       "[('emp_no', 'int'),\n",
       " ('dept_no', 'string'),\n",
       " ('from_date', 'string'),\n",
       " ('to_date', 'string')]"
      ]
     },
     "execution_count": 29,
     "metadata": {},
     "output_type": "execute_result"
    }
   ],
   "source": [
    "df_emp_active=df_emp_active.drop('seq_no','last_modified')\n",
    "df_emp_active.dtypes"
   ]
  },
  {
   "cell_type": "markdown",
   "metadata": {},
   "source": [
    "#### Make the DataFrame available in in-memory"
   ]
  },
  {
   "cell_type": "code",
   "execution_count": 31,
   "metadata": {},
   "outputs": [
    {
     "data": {
      "text/plain": [
       "DataFrame[emp_no: int, dept_no: string, from_date: string, to_date: string]"
      ]
     },
     "execution_count": 31,
     "metadata": {},
     "output_type": "execute_result"
    }
   ],
   "source": [
    "df_emp_active.cache()"
   ]
  },
  {
   "cell_type": "markdown",
   "metadata": {},
   "source": [
    "#### Create DataFrame for departments&managers data from dept_manager table in HIVE\n",
    "<br>For each department respective manager's employee number is available in dept_manager table\n",
    "<br>A department may have multiple manager's \n",
    "<br>So, there will be multiple records for a department (with different employee number's for different time periods)\n",
    "<br>At any time an there will be only one active manager for each department and is can be identified by to_date value '9999-01-01'"
   ]
  },
  {
   "cell_type": "code",
   "execution_count": 70,
   "metadata": {
    "collapsed": true
   },
   "outputs": [],
   "source": [
    "df_dept_manager = spark.sql('select * from dept_manager')"
   ]
  },
  {
   "cell_type": "markdown",
   "metadata": {},
   "source": [
    "#### Verify the departments&managers DataFrame"
   ]
  },
  {
   "cell_type": "code",
   "execution_count": 71,
   "metadata": {},
   "outputs": [
    {
     "name": "stdout",
     "output_type": "stream",
     "text": [
      "+------+-------+------+----------+----------+-------------------+\n",
      "|seq_no|dept_no|emp_no| from_date|   to_date|      last_modified|\n",
      "+------+-------+------+----------+----------+-------------------+\n",
      "|     1|   d001|     1|1986-01-01|1992-10-01|2013-01-28 23:59:59|\n",
      "|    10|   d002|    10|1990-12-17|9999-01-01|2013-01-28 23:59:59|\n",
      "|    11|   d003| 19827|1993-03-21|9999-01-01|2013-01-28 23:59:59|\n",
      "|    12|   d004| 31345|1990-09-09|1994-08-02|2013-01-28 23:59:59|\n",
      "+------+-------+------+----------+----------+-------------------+\n",
      "only showing top 4 rows\n",
      "\n"
     ]
    }
   ],
   "source": [
    "df_dept_manager.show(4)"
   ]
  },
  {
   "cell_type": "markdown",
   "metadata": {},
   "source": [
    "#### Verify the schema for departments&managers DataFrame"
   ]
  },
  {
   "cell_type": "code",
   "execution_count": 72,
   "metadata": {
    "scrolled": true
   },
   "outputs": [
    {
     "name": "stdout",
     "output_type": "stream",
     "text": [
      "root\n",
      " |-- seq_no: integer (nullable = true)\n",
      " |-- dept_no: string (nullable = true)\n",
      " |-- emp_no: integer (nullable = true)\n",
      " |-- from_date: string (nullable = true)\n",
      " |-- to_date: string (nullable = true)\n",
      " |-- last_modified: timestamp (nullable = true)\n",
      "\n"
     ]
    }
   ],
   "source": [
    "df_dept_manager.printSchema()"
   ]
  },
  {
   "cell_type": "markdown",
   "metadata": {},
   "source": [
    "#### Total Count in departments&managers DataFrame"
   ]
  },
  {
   "cell_type": "code",
   "execution_count": 73,
   "metadata": {},
   "outputs": [
    {
     "data": {
      "text/plain": [
       "25"
      ]
     },
     "execution_count": 73,
     "metadata": {},
     "output_type": "execute_result"
    }
   ],
   "source": [
    "df_dept_manager.count()"
   ]
  },
  {
   "cell_type": "markdown",
   "metadata": {},
   "source": [
    "#### Filter only the active records from above DataFrame\n",
    "<br>Though there are only total 10 departments, but there are 25 records (manager records) exists, \n",
    "<br>remove the inactive records\n"
   ]
  },
  {
   "cell_type": "code",
   "execution_count": 74,
   "metadata": {
    "collapsed": true
   },
   "outputs": [],
   "source": [
    "df_dept_manager_active = df_dept_manager.where(df_dept_manager.to_date =='9999-01-01')"
   ]
  },
  {
   "cell_type": "markdown",
   "metadata": {},
   "source": [
    "#### Verify the records count from the above DataFrame"
   ]
  },
  {
   "cell_type": "code",
   "execution_count": 75,
   "metadata": {},
   "outputs": [
    {
     "data": {
      "text/plain": [
       "10"
      ]
     },
     "execution_count": 75,
     "metadata": {},
     "output_type": "execute_result"
    }
   ],
   "source": [
    "df_dept_manager_active.count()"
   ]
  },
  {
   "cell_type": "code",
   "execution_count": 76,
   "metadata": {},
   "outputs": [
    {
     "name": "stdout",
     "output_type": "stream",
     "text": [
      "+------+-------+------+----------+----------+-------------------+\n",
      "|seq_no|dept_no|emp_no| from_date|   to_date|      last_modified|\n",
      "+------+-------+------+----------+----------+-------------------+\n",
      "|    10|   d002|    10|1990-12-17|9999-01-01|2013-01-28 23:59:59|\n",
      "|    11|   d003| 19827|1993-03-21|9999-01-01|2013-01-28 23:59:59|\n",
      "|    13|   d001| 45502|1993-10-01|9999-01-01|2013-01-28 23:59:59|\n",
      "|    15|   d005| 64439|1995-04-25|9999-01-01|2013-01-28 23:59:59|\n",
      "+------+-------+------+----------+----------+-------------------+\n",
      "only showing top 4 rows\n",
      "\n"
     ]
    }
   ],
   "source": [
    "df_dept_manager_active.show(4)"
   ]
  },
  {
   "cell_type": "markdown",
   "metadata": {},
   "source": [
    "#### Verify for  columns"
   ]
  },
  {
   "cell_type": "code",
   "execution_count": 77,
   "metadata": {
    "scrolled": true
   },
   "outputs": [
    {
     "data": {
      "text/plain": [
       "[('seq_no', 'int'),\n",
       " ('dept_no', 'string'),\n",
       " ('emp_no', 'int'),\n",
       " ('from_date', 'string'),\n",
       " ('to_date', 'string'),\n",
       " ('last_modified', 'timestamp')]"
      ]
     },
     "execution_count": 77,
     "metadata": {},
     "output_type": "execute_result"
    }
   ],
   "source": [
    "df_dept_manager_active.dtypes"
   ]
  },
  {
   "cell_type": "markdown",
   "metadata": {},
   "source": [
    "#### rename the columns as necessary"
   ]
  },
  {
   "cell_type": "code",
   "execution_count": 79,
   "metadata": {
    "collapsed": true
   },
   "outputs": [],
   "source": [
    "\n",
    "df_dept_manager_active = df_dept_manager_active.selectExpr(\"dept_no as dept_no\",\"emp_no as mgr_emp_no\", \"from_date as mgr_from_date\")"
   ]
  },
  {
   "cell_type": "markdown",
   "metadata": {},
   "source": [
    "#### Verify the above DataFrame"
   ]
  },
  {
   "cell_type": "code",
   "execution_count": 80,
   "metadata": {},
   "outputs": [
    {
     "name": "stdout",
     "output_type": "stream",
     "text": [
      "+-------+----------+-------------+\n",
      "|dept_no|mgr_emp_no|mgr_from_date|\n",
      "+-------+----------+-------------+\n",
      "|   d002|        10|   1990-12-17|\n",
      "|   d003|     19827|   1993-03-21|\n",
      "|   d001|     45502|   1993-10-01|\n",
      "|   d005|     64439|   1995-04-25|\n",
      "+-------+----------+-------------+\n",
      "only showing top 4 rows\n",
      "\n"
     ]
    }
   ],
   "source": [
    "df_dept_manager_active.show(4)"
   ]
  },
  {
   "cell_type": "markdown",
   "metadata": {},
   "source": [
    "#### Create DataFrame for employees data from employees table in HIVE"
   ]
  },
  {
   "cell_type": "code",
   "execution_count": 81,
   "metadata": {
    "collapsed": true
   },
   "outputs": [],
   "source": [
    "df_employees = spark.sql('select * from employees')"
   ]
  },
  {
   "cell_type": "markdown",
   "metadata": {},
   "source": [
    "#### Verify employees DataFrame"
   ]
  },
  {
   "cell_type": "code",
   "execution_count": 82,
   "metadata": {},
   "outputs": [
    {
     "name": "stdout",
     "output_type": "stream",
     "text": [
      "+------+----------+----------+------------+------+----------+-------------------+\n",
      "|emp_no|birth_date|first_name|   last_name|gender| hire_date|      last_modified|\n",
      "+------+----------+----------+------------+------+----------+-------------------+\n",
      "|     1|1958-09-12| Margareta|  Markovitch|     M|1986-01-01|2013-01-28 23:59:59|\n",
      "|     2|1961-10-28|      Ebru|       Alpin|     M|1986-01-01|2013-01-28 23:59:59|\n",
      "|     3|1955-06-24|   Shirish|Ossenbruggen|     F|1986-01-01|2013-01-28 23:59:59|\n",
      "|     4|1958-06-08| Krassimir|     Wegerle|     F|1986-01-01|2013-01-28 23:59:59|\n",
      "+------+----------+----------+------------+------+----------+-------------------+\n",
      "only showing top 4 rows\n",
      "\n"
     ]
    }
   ],
   "source": [
    "df_employees.show(4)"
   ]
  },
  {
   "cell_type": "markdown",
   "metadata": {},
   "source": [
    "#### Verify schema of employees DataFrame"
   ]
  },
  {
   "cell_type": "code",
   "execution_count": 84,
   "metadata": {},
   "outputs": [
    {
     "name": "stdout",
     "output_type": "stream",
     "text": [
      "root\n",
      " |-- emp_no: integer (nullable = true)\n",
      " |-- birth_date: string (nullable = true)\n",
      " |-- first_name: string (nullable = true)\n",
      " |-- last_name: string (nullable = true)\n",
      " |-- gender: string (nullable = true)\n",
      " |-- hire_date: string (nullable = true)\n",
      " |-- last_modified: timestamp (nullable = true)\n",
      "\n"
     ]
    }
   ],
   "source": [
    "df_employees.printSchema()"
   ]
  },
  {
   "cell_type": "markdown",
   "metadata": {},
   "source": [
    "#### Remove unwanted columns - last_modified"
   ]
  },
  {
   "cell_type": "code",
   "execution_count": 85,
   "metadata": {
    "collapsed": true
   },
   "outputs": [],
   "source": [
    "df_employees = df_employees.drop('last_modified')"
   ]
  },
  {
   "cell_type": "markdown",
   "metadata": {},
   "source": [
    "#### Verify above DataFrame"
   ]
  },
  {
   "cell_type": "code",
   "execution_count": 86,
   "metadata": {},
   "outputs": [
    {
     "name": "stdout",
     "output_type": "stream",
     "text": [
      "+------+----------+----------+------------+------+----------+\n",
      "|emp_no|birth_date|first_name|   last_name|gender| hire_date|\n",
      "+------+----------+----------+------------+------+----------+\n",
      "|     1|1958-09-12| Margareta|  Markovitch|     M|1986-01-01|\n",
      "|     2|1961-10-28|      Ebru|       Alpin|     M|1986-01-01|\n",
      "|     3|1955-06-24|   Shirish|Ossenbruggen|     F|1986-01-01|\n",
      "|     4|1958-06-08| Krassimir|     Wegerle|     F|1986-01-01|\n",
      "+------+----------+----------+------------+------+----------+\n",
      "only showing top 4 rows\n",
      "\n"
     ]
    }
   ],
   "source": [
    "df_employees.show(4)"
   ]
  },
  {
   "cell_type": "markdown",
   "metadata": {},
   "source": [
    "#### Create DataFrame for salaries data from salaries table in HIVE"
   ]
  },
  {
   "cell_type": "code",
   "execution_count": 87,
   "metadata": {
    "collapsed": true
   },
   "outputs": [],
   "source": [
    "df_salaries = spark.sql('select * from salaries')"
   ]
  },
  {
   "cell_type": "markdown",
   "metadata": {},
   "source": [
    "#### Verify salaries DataFrame"
   ]
  },
  {
   "cell_type": "code",
   "execution_count": 88,
   "metadata": {},
   "outputs": [
    {
     "name": "stdout",
     "output_type": "stream",
     "text": [
      "+------+------+------+----------+----------+-------------------+\n",
      "|seq_no|emp_no|salary| from_date|   to_date|      last_modified|\n",
      "+------+------+------+----------+----------+-------------------+\n",
      "|     1|     1| 70166|1986-01-01|1987-01-01|2013-01-28 23:59:59|\n",
      "|    10|     1| 91165|1994-12-30|1995-12-30|2013-01-28 23:59:59|\n",
      "|   100|     6| 84203|1994-12-30|1995-12-30|2013-01-28 23:59:59|\n",
      "|  1000|    73| 39000|1997-11-25|1998-11-25|2013-01-28 23:59:59|\n",
      "+------+------+------+----------+----------+-------------------+\n",
      "only showing top 4 rows\n",
      "\n"
     ]
    }
   ],
   "source": [
    "df_salaries.show(4)"
   ]
  },
  {
   "cell_type": "markdown",
   "metadata": {},
   "source": [
    "#### Verify schema of salaries DataFrame"
   ]
  },
  {
   "cell_type": "code",
   "execution_count": 90,
   "metadata": {},
   "outputs": [
    {
     "name": "stdout",
     "output_type": "stream",
     "text": [
      "root\n",
      " |-- seq_no: integer (nullable = true)\n",
      " |-- emp_no: integer (nullable = true)\n",
      " |-- salary: integer (nullable = true)\n",
      " |-- from_date: string (nullable = true)\n",
      " |-- to_date: string (nullable = true)\n",
      " |-- last_modified: timestamp (nullable = true)\n",
      "\n"
     ]
    }
   ],
   "source": [
    "df_salaries.printSchema()"
   ]
  },
  {
   "cell_type": "markdown",
   "metadata": {},
   "source": [
    "#### Verify count of records in salaries DataFrame"
   ]
  },
  {
   "cell_type": "code",
   "execution_count": 91,
   "metadata": {},
   "outputs": [
    {
     "data": {
      "text/plain": [
       "2854047"
      ]
     },
     "execution_count": 91,
     "metadata": {},
     "output_type": "execute_result"
    }
   ],
   "source": [
    "df_salaries.count()"
   ]
  },
  {
   "cell_type": "markdown",
   "metadata": {},
   "source": [
    "#### Filter only the active records from above DataFrame"
   ]
  },
  {
   "cell_type": "code",
   "execution_count": 92,
   "metadata": {
    "collapsed": true
   },
   "outputs": [],
   "source": [
    "df_salaries_active = df_salaries.where(df_salaries.to_date == '9999-01-01')"
   ]
  },
  {
   "cell_type": "markdown",
   "metadata": {},
   "source": [
    "#### Verify the record count"
   ]
  },
  {
   "cell_type": "code",
   "execution_count": 93,
   "metadata": {},
   "outputs": [
    {
     "data": {
      "text/plain": [
       "250124"
      ]
     },
     "execution_count": 93,
     "metadata": {},
     "output_type": "execute_result"
    }
   ],
   "source": [
    "df_salaries_active.count()"
   ]
  },
  {
   "cell_type": "code",
   "execution_count": 94,
   "metadata": {
    "scrolled": true
   },
   "outputs": [
    {
     "data": {
      "text/plain": [
       "[('seq_no', 'int'),\n",
       " ('emp_no', 'int'),\n",
       " ('salary', 'int'),\n",
       " ('from_date', 'string'),\n",
       " ('to_date', 'string'),\n",
       " ('last_modified', 'timestamp')]"
      ]
     },
     "execution_count": 94,
     "metadata": {},
     "output_type": "execute_result"
    }
   ],
   "source": [
    "df_salaries_active.dtypes"
   ]
  },
  {
   "cell_type": "markdown",
   "metadata": {},
   "source": [
    "#### Remove and rename unnecessary columns"
   ]
  },
  {
   "cell_type": "code",
   "execution_count": 95,
   "metadata": {
    "collapsed": true
   },
   "outputs": [],
   "source": [
    "df_salaries_active = df_salaries_active.selectExpr('emp_no as emp_no','salary as salary', 'from_date as sal_from_date' )"
   ]
  },
  {
   "cell_type": "code",
   "execution_count": 98,
   "metadata": {},
   "outputs": [
    {
     "data": {
      "text/plain": [
       "[('emp_no', 'int'), ('salary', 'int'), ('sal_from_date', 'string')]"
      ]
     },
     "execution_count": 98,
     "metadata": {},
     "output_type": "execute_result"
    }
   ],
   "source": [
    "df_salaries_active.dtypes"
   ]
  },
  {
   "cell_type": "markdown",
   "metadata": {},
   "source": [
    "#### Create titles DataFrame for the titles table in HIVE"
   ]
  },
  {
   "cell_type": "code",
   "execution_count": 99,
   "metadata": {
    "collapsed": true
   },
   "outputs": [],
   "source": [
    "df_titles = spark.sql('select * from titles')"
   ]
  },
  {
   "cell_type": "markdown",
   "metadata": {},
   "source": [
    "#### Verify titles DataFrame"
   ]
  },
  {
   "cell_type": "code",
   "execution_count": 100,
   "metadata": {
    "scrolled": true
   },
   "outputs": [
    {
     "name": "stdout",
     "output_type": "stream",
     "text": [
      "+------+------+----------------+----------+----------+-------------------+\n",
      "|seq_no|emp_no|           title| from_date|   to_date|      last_modified|\n",
      "+------+------+----------------+----------+----------+-------------------+\n",
      "|     1|     1|         Manager|1986-01-01|1992-10-01|2013-01-28 23:59:59|\n",
      "|    10|     5|Technique Leader|1993-04-25|9999-01-01|2013-01-28 23:59:59|\n",
      "|   100|    60|           Staff|1997-11-02|9999-01-01|2013-01-28 23:59:59|\n",
      "|  1000|   620|        Engineer|1996-09-15|2003-03-20|2013-01-28 23:59:59|\n",
      "+------+------+----------------+----------+----------+-------------------+\n",
      "only showing top 4 rows\n",
      "\n"
     ]
    }
   ],
   "source": [
    "df_titles.show(4)"
   ]
  },
  {
   "cell_type": "markdown",
   "metadata": {},
   "source": [
    "#### Verify titles DataFrame schema"
   ]
  },
  {
   "cell_type": "code",
   "execution_count": 102,
   "metadata": {},
   "outputs": [
    {
     "name": "stdout",
     "output_type": "stream",
     "text": [
      "root\n",
      " |-- seq_no: integer (nullable = true)\n",
      " |-- emp_no: integer (nullable = true)\n",
      " |-- title: string (nullable = true)\n",
      " |-- from_date: string (nullable = true)\n",
      " |-- to_date: string (nullable = true)\n",
      " |-- last_modified: timestamp (nullable = true)\n",
      "\n"
     ]
    }
   ],
   "source": [
    "df_titles.printSchema()"
   ]
  },
  {
   "cell_type": "markdown",
   "metadata": {},
   "source": [
    "#### Verify records count in the above DataFrame"
   ]
  },
  {
   "cell_type": "code",
   "execution_count": 103,
   "metadata": {},
   "outputs": [
    {
     "data": {
      "text/plain": [
       "453308"
      ]
     },
     "execution_count": 103,
     "metadata": {},
     "output_type": "execute_result"
    }
   ],
   "source": [
    "df_titles.count()"
   ]
  },
  {
   "cell_type": "markdown",
   "metadata": {},
   "source": [
    "#### Filter active records from the above DataFrame"
   ]
  },
  {
   "cell_type": "code",
   "execution_count": 104,
   "metadata": {
    "collapsed": true
   },
   "outputs": [],
   "source": [
    "df_titles_active =  df_titles.where(df_titles.to_date == '9999-01-01')"
   ]
  },
  {
   "cell_type": "code",
   "execution_count": 105,
   "metadata": {
    "scrolled": true
   },
   "outputs": [
    {
     "data": {
      "text/plain": [
       "[('seq_no', 'int'),\n",
       " ('emp_no', 'int'),\n",
       " ('title', 'string'),\n",
       " ('from_date', 'string'),\n",
       " ('to_date', 'string'),\n",
       " ('last_modified', 'timestamp')]"
      ]
     },
     "execution_count": 105,
     "metadata": {},
     "output_type": "execute_result"
    }
   ],
   "source": [
    "df_titles_active.dtypes"
   ]
  },
  {
   "cell_type": "markdown",
   "metadata": {},
   "source": [
    "#### Remove and rename the columns as necessary"
   ]
  },
  {
   "cell_type": "code",
   "execution_count": 106,
   "metadata": {
    "collapsed": true
   },
   "outputs": [],
   "source": [
    "df_titles_active = df_titles_active.selectExpr('emp_no as emp_no','title as title', 'from_date as title_from_date' )"
   ]
  },
  {
   "cell_type": "code",
   "execution_count": 107,
   "metadata": {},
   "outputs": [
    {
     "data": {
      "text/plain": [
       "[('emp_no', 'int'), ('title', 'string'), ('title_from_date', 'string')]"
      ]
     },
     "execution_count": 107,
     "metadata": {},
     "output_type": "execute_result"
    }
   ],
   "source": [
    "df_titles_active.dtypes"
   ]
  },
  {
   "cell_type": "markdown",
   "metadata": {},
   "source": [
    "#### Join department and departments_manager s DataFrames\n",
    "Result will have each department and corresponding manager's employee no"
   ]
  },
  {
   "cell_type": "code",
   "execution_count": 110,
   "metadata": {},
   "outputs": [
    {
     "name": "stdout",
     "output_type": "stream",
     "text": [
      "+-------+----------+-------------+\n",
      "|dept_no|mgr_emp_no|mgr_from_date|\n",
      "+-------+----------+-------------+\n",
      "|   d002|        10|   1990-12-17|\n",
      "+-------+----------+-------------+\n",
      "only showing top 1 row\n",
      "\n",
      "+-------+---------+-------------------+\n",
      "|dept_no|dept_name|      last_modified|\n",
      "+-------+---------+-------------------+\n",
      "|   d001|Marketing|2013-01-28 23:59:59|\n",
      "+-------+---------+-------------------+\n",
      "only showing top 1 row\n",
      "\n"
     ]
    }
   ],
   "source": [
    "df_dept_manager_active.show(1)\n",
    "df_dept.show(1)"
   ]
  },
  {
   "cell_type": "code",
   "execution_count": 116,
   "metadata": {
    "collapsed": true
   },
   "outputs": [],
   "source": [
    "\n",
    "jn_dept_deptmgr = df_dept.join(df_dept_manager_active, on='dept_no')"
   ]
  },
  {
   "cell_type": "code",
   "execution_count": 117,
   "metadata": {
    "scrolled": false
   },
   "outputs": [
    {
     "name": "stdout",
     "output_type": "stream",
     "text": [
      "+-------+------------------+-------------------+----------+-------------+\n",
      "|dept_no|         dept_name|      last_modified|mgr_emp_no|mgr_from_date|\n",
      "+-------+------------------+-------------------+----------+-------------+\n",
      "|   d002|           Finance|2013-01-28 23:59:59|        10|   1990-12-17|\n",
      "|   d003|   Human Resources|2013-01-28 23:59:59|     19827|   1993-03-21|\n",
      "|   d001|         Marketing|2013-01-28 23:59:59|     45502|   1993-10-01|\n",
      "|   d005|       Development|2013-01-28 23:59:59|     64439|   1995-04-25|\n",
      "|   d007|             Sales|2013-01-28 23:59:59|     71341|   1994-03-07|\n",
      "|   d008|          Research|2013-01-28 23:59:59|    107706|   1996-04-08|\n",
      "|   d006|Quality Management|2013-01-28 23:59:59|    149081|   2000-06-28|\n",
      "|   d009|  Customer Service|2013-01-28 23:59:59|    151543|   2003-01-03|\n",
      "|   d004|        Production|2013-01-28 23:59:59|    215054|   2005-08-30|\n",
      "|   d010|         Analytics|2019-01-05 15:37:59|    300030|   2013-01-29|\n",
      "+-------+------------------+-------------------+----------+-------------+\n",
      "\n"
     ]
    }
   ],
   "source": [
    "jn_dept_deptmgr.show()"
   ]
  },
  {
   "cell_type": "markdown",
   "metadata": {},
   "source": [
    "#### Find the manager's details by joining above DataFrame with employee's details using emp_no"
   ]
  },
  {
   "cell_type": "code",
   "execution_count": 118,
   "metadata": {
    "scrolled": true
   },
   "outputs": [
    {
     "data": {
      "text/plain": [
       "[('dept_no', 'string'),\n",
       " ('dept_name', 'string'),\n",
       " ('last_modified', 'timestamp'),\n",
       " ('mgr_emp_no', 'int'),\n",
       " ('mgr_from_date', 'string')]"
      ]
     },
     "execution_count": 118,
     "metadata": {},
     "output_type": "execute_result"
    }
   ],
   "source": [
    "jn_dept_deptmgr.dtypes"
   ]
  },
  {
   "cell_type": "code",
   "execution_count": 121,
   "metadata": {},
   "outputs": [
    {
     "data": {
      "text/plain": [
       "[('emp_no', 'int'),\n",
       " ('birth_date', 'string'),\n",
       " ('first_name', 'string'),\n",
       " ('last_name', 'string'),\n",
       " ('gender', 'string'),\n",
       " ('hire_date', 'string')]"
      ]
     },
     "execution_count": 121,
     "metadata": {},
     "output_type": "execute_result"
    }
   ],
   "source": [
    "df_employees.dtypes"
   ]
  },
  {
   "cell_type": "code",
   "execution_count": 124,
   "metadata": {
    "collapsed": true
   },
   "outputs": [],
   "source": [
    "joinExpression = jn_dept_deptmgr[\"mgr_emp_no\"] == df_employees['emp_no']\n",
    "df_mgr_details = jn_dept_deptmgr.join(df_employees, joinExpression)"
   ]
  },
  {
   "cell_type": "code",
   "execution_count": 54,
   "metadata": {
    "collapsed": true
   },
   "outputs": [],
   "source": []
  },
  {
   "cell_type": "code",
   "execution_count": 125,
   "metadata": {},
   "outputs": [
    {
     "data": {
      "text/plain": [
       "[('dept_no', 'string'),\n",
       " ('dept_name', 'string'),\n",
       " ('last_modified', 'timestamp'),\n",
       " ('mgr_emp_no', 'int'),\n",
       " ('mgr_from_date', 'string'),\n",
       " ('emp_no', 'int'),\n",
       " ('birth_date', 'string'),\n",
       " ('first_name', 'string'),\n",
       " ('last_name', 'string'),\n",
       " ('gender', 'string'),\n",
       " ('hire_date', 'string')]"
      ]
     },
     "execution_count": 125,
     "metadata": {},
     "output_type": "execute_result"
    }
   ],
   "source": [
    "df_mgr_details.dtypes"
   ]
  },
  {
   "cell_type": "code",
   "execution_count": 127,
   "metadata": {
    "scrolled": true
   },
   "outputs": [
    {
     "name": "stdout",
     "output_type": "stream",
     "text": [
      "+-------+---------------+-------------------+----------+-------------+------+----------+----------+----------+------+----------+\n",
      "|dept_no|      dept_name|      last_modified|mgr_emp_no|mgr_from_date|emp_no|birth_date|first_name| last_name|gender| hire_date|\n",
      "+-------+---------------+-------------------+----------+-------------+------+----------+----------+----------+------+----------+\n",
      "|   d002|        Finance|2013-01-28 23:59:59|        10|   1990-12-17|    10|1959-03-28|     Isamu|Legleitner|     F|1986-01-14|\n",
      "|   d003|Human Resources|2013-01-28 23:59:59|     19827|   1993-03-21| 19827|1960-12-02|   Karsten|   Sigstam|     F|1986-08-04|\n",
      "|   d001|      Marketing|2013-01-28 23:59:59|     45502|   1993-10-01| 45502|1967-06-21|  Vishwani|  Minakawa|     M|1988-04-12|\n",
      "|   d005|    Development|2013-01-28 23:59:59|     64439|   1995-04-25| 64439|1970-04-25|      Leon|  DasSarma|     F|1989-10-21|\n",
      "+-------+---------------+-------------------+----------+-------------+------+----------+----------+----------+------+----------+\n",
      "only showing top 4 rows\n",
      "\n"
     ]
    },
    {
     "data": {
      "text/plain": [
       "10"
      ]
     },
     "execution_count": 127,
     "metadata": {},
     "output_type": "execute_result"
    }
   ],
   "source": [
    "df_mgr_details.show(4)\n",
    "df_mgr_details.count()"
   ]
  },
  {
   "cell_type": "markdown",
   "metadata": {},
   "source": [
    "#### Rename columns as necessary"
   ]
  },
  {
   "cell_type": "code",
   "execution_count": 130,
   "metadata": {
    "collapsed": true
   },
   "outputs": [],
   "source": [
    "from pyspark.sql.functions import col\n",
    "\n",
    "replacements = {'birth_date' : 'mgr_birth_date', \n",
    "                'first_name' : 'mgr_first_name',\n",
    "                'last_name' : 'mgr_last_name',\n",
    "                'gender' : 'mgr_gender',\n",
    "                'hire_date' : 'mgr_hire_date'\n",
    "               }\n",
    "df_mgr_details = df_mgr_details.select([col(c).alias(replacements.get(c, c)) for c in df_mgr_details.columns])"
   ]
  },
  {
   "cell_type": "markdown",
   "metadata": {},
   "source": [
    "#### Verify above DataFrame"
   ]
  },
  {
   "cell_type": "code",
   "execution_count": 131,
   "metadata": {},
   "outputs": [
    {
     "name": "stdout",
     "output_type": "stream",
     "text": [
      "+-------+---------------+-------------------+----------+-------------+------+--------------+--------------+-------------+----------+-------------+\n",
      "|dept_no|      dept_name|      last_modified|mgr_emp_no|mgr_from_date|emp_no|mgr_birth_date|mgr_first_name|mgr_last_name|mgr_gender|mgr_hire_date|\n",
      "+-------+---------------+-------------------+----------+-------------+------+--------------+--------------+-------------+----------+-------------+\n",
      "|   d002|        Finance|2013-01-28 23:59:59|        10|   1990-12-17|    10|    1959-03-28|         Isamu|   Legleitner|         F|   1986-01-14|\n",
      "|   d003|Human Resources|2013-01-28 23:59:59|     19827|   1993-03-21| 19827|    1960-12-02|       Karsten|      Sigstam|         F|   1986-08-04|\n",
      "|   d001|      Marketing|2013-01-28 23:59:59|     45502|   1993-10-01| 45502|    1967-06-21|      Vishwani|     Minakawa|         M|   1988-04-12|\n",
      "|   d005|    Development|2013-01-28 23:59:59|     64439|   1995-04-25| 64439|    1970-04-25|          Leon|     DasSarma|         F|   1989-10-21|\n",
      "+-------+---------------+-------------------+----------+-------------+------+--------------+--------------+-------------+----------+-------------+\n",
      "only showing top 4 rows\n",
      "\n"
     ]
    }
   ],
   "source": [
    "df_mgr_details.show(4)"
   ]
  },
  {
   "cell_type": "code",
   "execution_count": 58,
   "metadata": {
    "scrolled": true
   },
   "outputs": [
    {
     "name": "stdout",
     "output_type": "stream",
     "text": [
      "+-------+---------------+-------------------+----------+-------------+------+--------------+--------------+-------------+----------+-------------+\n",
      "|dept_no|      dept_name|      last_modified|mgr_emp_no|mgr_from_date|emp_no|mgr_birth_date|mgr_first_name|mgr_last_name|mgr_gender|mgr_hire_date|\n",
      "+-------+---------------+-------------------+----------+-------------+------+--------------+--------------+-------------+----------+-------------+\n",
      "|   d002|        Finance|2013-01-28 23:59:59|        10|   1990-12-17|    10|    1959-03-28|         Isamu|   Legleitner|         F|   1986-01-14|\n",
      "|   d003|Human Resources|2013-01-28 23:59:59|     19827|   1993-03-21| 19827|    1960-12-02|       Karsten|      Sigstam|         F|   1986-08-04|\n",
      "|   d001|      Marketing|2013-01-28 23:59:59|     45502|   1993-10-01| 45502|    1967-06-21|      Vishwani|     Minakawa|         M|   1988-04-12|\n",
      "|   d005|    Development|2013-01-28 23:59:59|     64439|   1995-04-25| 64439|    1970-04-25|          Leon|     DasSarma|         F|   1989-10-21|\n",
      "+-------+---------------+-------------------+----------+-------------+------+--------------+--------------+-------------+----------+-------------+\n",
      "only showing top 4 rows\n",
      "\n"
     ]
    }
   ],
   "source": [
    "df_mgr_details"
   ]
  },
  {
   "cell_type": "code",
   "execution_count": 133,
   "metadata": {},
   "outputs": [
    {
     "data": {
      "text/plain": [
       "[('dept_no', 'string'),\n",
       " ('dept_name', 'string'),\n",
       " ('last_modified', 'timestamp'),\n",
       " ('mgr_emp_no', 'int'),\n",
       " ('mgr_from_date', 'string'),\n",
       " ('emp_no', 'int'),\n",
       " ('mgr_birth_date', 'string'),\n",
       " ('mgr_first_name', 'string'),\n",
       " ('mgr_last_name', 'string'),\n",
       " ('mgr_gender', 'string'),\n",
       " ('mgr_hire_date', 'string')]"
      ]
     },
     "execution_count": 133,
     "metadata": {},
     "output_type": "execute_result"
    }
   ],
   "source": [
    "df_mgr_details.dtypes"
   ]
  },
  {
   "cell_type": "markdown",
   "metadata": {},
   "source": [
    "#### Remove unwanted columns"
   ]
  },
  {
   "cell_type": "code",
   "execution_count": 59,
   "metadata": {
    "collapsed": true
   },
   "outputs": [],
   "source": [
    "'last_modified', 'emp_no'"
   ]
  },
  {
   "cell_type": "code",
   "execution_count": 134,
   "metadata": {},
   "outputs": [
    {
     "data": {
      "text/plain": [
       "[('dept_no', 'string'),\n",
       " ('dept_name', 'string'),\n",
       " ('mgr_emp_no', 'int'),\n",
       " ('mgr_from_date', 'string'),\n",
       " ('mgr_birth_date', 'string'),\n",
       " ('mgr_first_name', 'string'),\n",
       " ('mgr_last_name', 'string'),\n",
       " ('mgr_gender', 'string'),\n",
       " ('mgr_hire_date', 'string')]"
      ]
     },
     "execution_count": 134,
     "metadata": {},
     "output_type": "execute_result"
    }
   ],
   "source": [
    "df_mgr_details= df_mgr_details.drop('last_modified', 'emp_no')\n",
    "df_mgr_details.dtypes"
   ]
  },
  {
   "cell_type": "code",
   "execution_count": 135,
   "metadata": {},
   "outputs": [
    {
     "name": "stdout",
     "output_type": "stream",
     "text": [
      "+-------+---------------+----------+-------------+--------------+--------------+-------------+----------+-------------+\n",
      "|dept_no|      dept_name|mgr_emp_no|mgr_from_date|mgr_birth_date|mgr_first_name|mgr_last_name|mgr_gender|mgr_hire_date|\n",
      "+-------+---------------+----------+-------------+--------------+--------------+-------------+----------+-------------+\n",
      "|   d002|        Finance|        10|   1990-12-17|    1959-03-28|         Isamu|   Legleitner|         F|   1986-01-14|\n",
      "|   d003|Human Resources|     19827|   1993-03-21|    1960-12-02|       Karsten|      Sigstam|         F|   1986-08-04|\n",
      "|   d001|      Marketing|     45502|   1993-10-01|    1967-06-21|      Vishwani|     Minakawa|         M|   1988-04-12|\n",
      "|   d005|    Development|     64439|   1995-04-25|    1970-04-25|          Leon|     DasSarma|         F|   1989-10-21|\n",
      "+-------+---------------+----------+-------------+--------------+--------------+-------------+----------+-------------+\n",
      "only showing top 4 rows\n",
      "\n"
     ]
    }
   ],
   "source": [
    "df_mgr_details.show(4)"
   ]
  },
  {
   "cell_type": "markdown",
   "metadata": {},
   "source": [
    "#### Join employees DataFrame with departments&employee DataFrame\n",
    "<br>Join employeesDF and active_dept_empDF based on emp_no\n",
    "<br>result DataFrame of the above is employee and his/her corresponding department"
   ]
  },
  {
   "cell_type": "code",
   "execution_count": 139,
   "metadata": {},
   "outputs": [
    {
     "data": {
      "text/plain": [
       "[('emp_no', 'int'),\n",
       " ('birth_date', 'string'),\n",
       " ('first_name', 'string'),\n",
       " ('last_name', 'string'),\n",
       " ('gender', 'string'),\n",
       " ('hire_date', 'string')]"
      ]
     },
     "execution_count": 139,
     "metadata": {},
     "output_type": "execute_result"
    }
   ],
   "source": [
    "df_employees.dtypes"
   ]
  },
  {
   "cell_type": "code",
   "execution_count": 138,
   "metadata": {
    "scrolled": true
   },
   "outputs": [
    {
     "data": {
      "text/plain": [
       "[('emp_no', 'int'),\n",
       " ('dept_no', 'string'),\n",
       " ('from_date', 'string'),\n",
       " ('to_date', 'string')]"
      ]
     },
     "execution_count": 138,
     "metadata": {},
     "output_type": "execute_result"
    }
   ],
   "source": [
    "\n",
    "df_emp_active.dtypes"
   ]
  },
  {
   "cell_type": "code",
   "execution_count": 140,
   "metadata": {
    "collapsed": true
   },
   "outputs": [],
   "source": [
    "jn_emp_empactive = df_emp_active.join(df_employees, on='emp_no')"
   ]
  },
  {
   "cell_type": "markdown",
   "metadata": {},
   "source": [
    "#### Verify the above result DataFrame"
   ]
  },
  {
   "cell_type": "code",
   "execution_count": 141,
   "metadata": {},
   "outputs": [
    {
     "name": "stdout",
     "output_type": "stream",
     "text": [
      "+------+-------+----------+----------+----------+----------+---------+------+----------+\n",
      "|emp_no|dept_no| from_date|   to_date|birth_date|first_name|last_name|gender| hire_date|\n",
      "+------+-------+----------+----------+----------+----------+---------+------+----------+\n",
      "|   148|   d005|1986-02-03|9999-01-01|1960-03-11|    Feipei| Nollmann|     M|1986-02-03|\n",
      "|   463|   d008|1986-02-06|9999-01-01|1955-04-15|Dharmaraja| Sadowsky|     M|1986-02-06|\n",
      "|   496|   d006|2001-09-02|9999-01-01|1964-03-29|      Mari|    Rotem|     M|1986-02-06|\n",
      "|   833|   d005|1994-03-25|9999-01-01|1961-09-14|      Huan|  Preusig|     M|1986-02-09|\n",
      "+------+-------+----------+----------+----------+----------+---------+------+----------+\n",
      "only showing top 4 rows\n",
      "\n"
     ]
    }
   ],
   "source": [
    "jn_emp_empactive.show(4)"
   ]
  },
  {
   "cell_type": "code",
   "execution_count": 65,
   "metadata": {},
   "outputs": [
    {
     "name": "stdout",
     "output_type": "stream",
     "text": [
      "+------+-------+----------+----------+----------+----------+---------+------+----------+\n",
      "|emp_no|dept_no| from_date|   to_date|birth_date|first_name|last_name|gender| hire_date|\n",
      "+------+-------+----------+----------+----------+----------+---------+------+----------+\n",
      "|   148|   d005|1986-02-03|9999-01-01|1960-03-11|    Feipei| Nollmann|     M|1986-02-03|\n",
      "|   463|   d008|1986-02-06|9999-01-01|1955-04-15|Dharmaraja| Sadowsky|     M|1986-02-06|\n",
      "|   496|   d006|2001-09-02|9999-01-01|1964-03-29|      Mari|    Rotem|     M|1986-02-06|\n",
      "|   833|   d005|1994-03-25|9999-01-01|1961-09-14|      Huan|  Preusig|     M|1986-02-09|\n",
      "+------+-------+----------+----------+----------+----------+---------+------+----------+\n",
      "only showing top 4 rows\n",
      "\n"
     ]
    }
   ],
   "source": [
    "jn_emp_empactive.show"
   ]
  },
  {
   "cell_type": "markdown",
   "metadata": {},
   "source": [
    "#### Rename the columns"
   ]
  },
  {
   "cell_type": "code",
   "execution_count": 142,
   "metadata": {
    "collapsed": true
   },
   "outputs": [],
   "source": [
    "from pyspark.sql.functions import col\n",
    "\n",
    "replacements = {\n",
    "    'from_date' : 'dept_from_date',\n",
    "    'birth_date' : 'emp_birth_date',\n",
    "    'first_name' : 'emp_first_name',\n",
    "    'last_name' : 'emp_last_name',\n",
    "    'gender' : 'emp_gender',\n",
    "    'hire_date' : 'emp_hire_date'\n",
    "}\n",
    "\n",
    "jn_emp_empactive = jn_emp_empactive.select([col(c).alias(replacements.get(c, c)) for c in jn_emp_empactive.columns])"
   ]
  },
  {
   "cell_type": "markdown",
   "metadata": {},
   "source": [
    "#### Verify DataFrame"
   ]
  },
  {
   "cell_type": "code",
   "execution_count": 143,
   "metadata": {},
   "outputs": [
    {
     "name": "stdout",
     "output_type": "stream",
     "text": [
      "+------+-------+--------------+----------+--------------+--------------+-------------+----------+-------------+\n",
      "|emp_no|dept_no|dept_from_date|   to_date|emp_birth_date|emp_first_name|emp_last_name|emp_gender|emp_hire_date|\n",
      "+------+-------+--------------+----------+--------------+--------------+-------------+----------+-------------+\n",
      "|     1|   d001|    1986-01-01|9999-01-01|    1958-09-12|     Margareta|   Markovitch|         M|   1986-01-01|\n",
      "|     2|   d002|    1986-01-01|9999-01-01|    1961-10-28|          Ebru|        Alpin|         M|   1986-01-01|\n",
      "|     3|   d003|    1986-01-01|9999-01-01|    1955-06-24|       Shirish| Ossenbruggen|         F|   1986-01-01|\n",
      "|     4|   d004|    1986-01-01|9999-01-01|    1958-06-08|     Krassimir|      Wegerle|         F|   1986-01-01|\n",
      "+------+-------+--------------+----------+--------------+--------------+-------------+----------+-------------+\n",
      "only showing top 4 rows\n",
      "\n"
     ]
    }
   ],
   "source": [
    "jn_emp_empactive.show()"
   ]
  },
  {
   "cell_type": "markdown",
   "metadata": {},
   "source": [
    "#### Verify active records count"
   ]
  },
  {
   "cell_type": "code",
   "execution_count": 144,
   "metadata": {},
   "outputs": [
    {
     "data": {
      "text/plain": [
       "250124"
      ]
     },
     "execution_count": 144,
     "metadata": {},
     "output_type": "execute_result"
    }
   ],
   "source": [
    "jn_emp_empactive.count()"
   ]
  },
  {
   "cell_type": "markdown",
   "metadata": {},
   "source": [
    "#### Create a DataFrame with employees and respective manager's details"
   ]
  },
  {
   "cell_type": "markdown",
   "metadata": {},
   "source": [
    "<br>DataFrame **emp_deptDF** contains all the active employees along with the their department\n",
    "<br>DataFrame **dept_curr_mgr_detailsDF** contains all the departments its manager''s details\n",
    "<br>Join these two DataFrames based on the dept_no, to result a DataFrame with employee''s along with the manager''s details."
   ]
  },
  {
   "cell_type": "code",
   "execution_count": 145,
   "metadata": {},
   "outputs": [
    {
     "data": {
      "text/plain": [
       "[('emp_no', 'int'),\n",
       " ('dept_no', 'string'),\n",
       " ('dept_from_date', 'string'),\n",
       " ('to_date', 'string'),\n",
       " ('emp_birth_date', 'string'),\n",
       " ('emp_first_name', 'string'),\n",
       " ('emp_last_name', 'string'),\n",
       " ('emp_gender', 'string'),\n",
       " ('emp_hire_date', 'string')]"
      ]
     },
     "execution_count": 145,
     "metadata": {},
     "output_type": "execute_result"
    }
   ],
   "source": [
    "jn_emp_empactive.dtypes"
   ]
  },
  {
   "cell_type": "code",
   "execution_count": 147,
   "metadata": {
    "scrolled": true
   },
   "outputs": [
    {
     "data": {
      "text/plain": [
       "250124"
      ]
     },
     "execution_count": 147,
     "metadata": {},
     "output_type": "execute_result"
    }
   ],
   "source": [
    "jn_emp_empactive.count()"
   ]
  },
  {
   "cell_type": "code",
   "execution_count": 148,
   "metadata": {
    "scrolled": true
   },
   "outputs": [
    {
     "data": {
      "text/plain": [
       "[('dept_no', 'string'),\n",
       " ('dept_name', 'string'),\n",
       " ('mgr_emp_no', 'int'),\n",
       " ('mgr_from_date', 'string'),\n",
       " ('mgr_birth_date', 'string'),\n",
       " ('mgr_first_name', 'string'),\n",
       " ('mgr_last_name', 'string'),\n",
       " ('mgr_gender', 'string'),\n",
       " ('mgr_hire_date', 'string')]"
      ]
     },
     "execution_count": 148,
     "metadata": {},
     "output_type": "execute_result"
    }
   ],
   "source": [
    "df_mgr_details.dtypes"
   ]
  },
  {
   "cell_type": "code",
   "execution_count": 149,
   "metadata": {
    "scrolled": true
   },
   "outputs": [
    {
     "data": {
      "text/plain": [
       "10"
      ]
     },
     "execution_count": 149,
     "metadata": {},
     "output_type": "execute_result"
    }
   ],
   "source": [
    "df_mgr_details.count()"
   ]
  },
  {
   "cell_type": "markdown",
   "metadata": {},
   "source": [
    "#### Join by broadcasting the smaller table - efficient join"
   ]
  },
  {
   "cell_type": "code",
   "execution_count": 150,
   "metadata": {
    "collapsed": true
   },
   "outputs": [],
   "source": [
    "from pyspark.sql.functions import broadcast\n",
    "active_emp_dept_mgrDF = jn_emp_empactive.join(broadcast(df_mgr_details),'dept_no', 'inner')"
   ]
  },
  {
   "cell_type": "markdown",
   "metadata": {},
   "source": [
    "#### Verify the DataFrame"
   ]
  },
  {
   "cell_type": "code",
   "execution_count": 152,
   "metadata": {},
   "outputs": [
    {
     "name": "stdout",
     "output_type": "stream",
     "text": [
      "+-------+------+--------------+----------+--------------+--------------+-------------+----------+-------------+---------------+----------+-------------+--------------+--------------+-------------+----------+-------------+\n",
      "|dept_no|emp_no|dept_from_date|   to_date|emp_birth_date|emp_first_name|emp_last_name|emp_gender|emp_hire_date|      dept_name|mgr_emp_no|mgr_from_date|mgr_birth_date|mgr_first_name|mgr_last_name|mgr_gender|mgr_hire_date|\n",
      "+-------+------+--------------+----------+--------------+--------------+-------------+----------+-------------+---------------+----------+-------------+--------------+--------------+-------------+----------+-------------+\n",
      "|   d001|     1|    1986-01-01|9999-01-01|    1958-09-12|     Margareta|   Markovitch|         M|   1986-01-01|      Marketing|     45502|   1993-10-01|    1967-06-21|      Vishwani|     Minakawa|         M|   1988-04-12|\n",
      "|   d002|     2|    1986-01-01|9999-01-01|    1961-10-28|          Ebru|        Alpin|         M|   1986-01-01|        Finance|        10|   1990-12-17|    1959-03-28|         Isamu|   Legleitner|         F|   1986-01-14|\n",
      "|   d003|     3|    1986-01-01|9999-01-01|    1955-06-24|       Shirish| Ossenbruggen|         F|   1986-01-01|Human Resources|     19827|   1993-03-21|    1960-12-02|       Karsten|      Sigstam|         F|   1986-08-04|\n",
      "|   d004|     4|    1986-01-01|9999-01-01|    1958-06-08|     Krassimir|      Wegerle|         F|   1986-01-01|     Production|    215054|   2005-08-30|    1981-07-27|         Oscar|     Ghazalie|         M|   2001-02-05|\n",
      "+-------+------+--------------+----------+--------------+--------------+-------------+----------+-------------+---------------+----------+-------------+--------------+--------------+-------------+----------+-------------+\n",
      "only showing top 4 rows\n",
      "\n"
     ]
    }
   ],
   "source": [
    "active_emp_dept_mgrDF.show(4)"
   ]
  },
  {
   "cell_type": "markdown",
   "metadata": {},
   "source": [
    "#### Verify the counts"
   ]
  },
  {
   "cell_type": "code",
   "execution_count": 155,
   "metadata": {
    "scrolled": true
   },
   "outputs": [
    {
     "data": {
      "text/plain": [
       "250124"
      ]
     },
     "execution_count": 155,
     "metadata": {},
     "output_type": "execute_result"
    }
   ],
   "source": [
    "active_emp_dept_mgrDF.count()"
   ]
  },
  {
   "cell_type": "markdown",
   "metadata": {},
   "source": [
    "#### Make the DataFrame available in in-memory"
   ]
  },
  {
   "cell_type": "code",
   "execution_count": 157,
   "metadata": {},
   "outputs": [
    {
     "data": {
      "text/plain": [
       "DataFrame[dept_no: string, emp_no: int, dept_from_date: string, to_date: string, emp_birth_date: string, emp_first_name: string, emp_last_name: string, emp_gender: string, emp_hire_date: string, dept_name: string, mgr_emp_no: int, mgr_from_date: string, mgr_birth_date: string, mgr_first_name: string, mgr_last_name: string, mgr_gender: string, mgr_hire_date: string]"
      ]
     },
     "execution_count": 157,
     "metadata": {},
     "output_type": "execute_result"
    }
   ],
   "source": [
    "active_emp_dept_mgrDF.cache()"
   ]
  },
  {
   "cell_type": "markdown",
   "metadata": {},
   "source": [
    "#### Join Salaries and Titles DataFrames\n",
    "<br>**active_salariesDF** DataFrame contains the current salaries details of active employees\n",
    "<br>**active_titlesDF** DataFrame contains the current titles/designation details of active employees\n",
    "<br>join these two DataFrames based on the emp_no \n",
    "<br>result is DataFrame consists of all active employees along with their salaries and titles details"
   ]
  },
  {
   "cell_type": "code",
   "execution_count": 158,
   "metadata": {},
   "outputs": [
    {
     "data": {
      "text/plain": [
       "[('emp_no', 'int'), ('salary', 'int'), ('sal_from_date', 'string')]"
      ]
     },
     "execution_count": 158,
     "metadata": {},
     "output_type": "execute_result"
    }
   ],
   "source": [
    "df_salaries_active.dtypes"
   ]
  },
  {
   "cell_type": "code",
   "execution_count": 159,
   "metadata": {},
   "outputs": [
    {
     "data": {
      "text/plain": [
       "[('emp_no', 'int'), ('title', 'string'), ('title_from_date', 'string')]"
      ]
     },
     "execution_count": 159,
     "metadata": {},
     "output_type": "execute_result"
    }
   ],
   "source": [
    "df_titles_active.dtypes"
   ]
  },
  {
   "cell_type": "code",
   "execution_count": 160,
   "metadata": {},
   "outputs": [
    {
     "data": {
      "text/plain": [
       "<bound method DataFrame.cache of DataFrame[emp_no: int, title: string, title_from_date: string]>"
      ]
     },
     "execution_count": 160,
     "metadata": {},
     "output_type": "execute_result"
    }
   ],
   "source": [
    "df_salaries_active.cache\n",
    "df_titles_active.cache"
   ]
  },
  {
   "cell_type": "code",
   "execution_count": 161,
   "metadata": {
    "collapsed": true
   },
   "outputs": [],
   "source": [
    "jn_sal_titles = df_salaries_active.join(df_titles_active, on='emp_no')"
   ]
  },
  {
   "cell_type": "markdown",
   "metadata": {},
   "source": [
    "#### Verify the DataFrame"
   ]
  },
  {
   "cell_type": "code",
   "execution_count": 162,
   "metadata": {},
   "outputs": [
    {
     "name": "stdout",
     "output_type": "stream",
     "text": [
      "+------+------+-------------+---------------+---------------+\n",
      "|emp_no|salary|sal_from_date|          title|title_from_date|\n",
      "+------+------+-------------+---------------+---------------+\n",
      "|   148|121640|   2003-01-30|Senior Engineer|     1993-02-04|\n",
      "|   463| 63130|   2003-02-02|   Senior Staff|     1986-02-06|\n",
      "|   496| 50281|   2002-08-16|       Engineer|     2000-08-17|\n",
      "|   833| 52747|   2003-03-23|Senior Engineer|     1994-03-25|\n",
      "+------+------+-------------+---------------+---------------+\n",
      "only showing top 4 rows\n",
      "\n"
     ]
    }
   ],
   "source": [
    "jn_sal_titles.show(4)"
   ]
  },
  {
   "cell_type": "markdown",
   "metadata": {},
   "source": [
    "#### Verify record count"
   ]
  },
  {
   "cell_type": "code",
   "execution_count": 163,
   "metadata": {},
   "outputs": [
    {
     "data": {
      "text/plain": [
       "250124"
      ]
     },
     "execution_count": 163,
     "metadata": {},
     "output_type": "execute_result"
    }
   ],
   "source": [
    "jn_sal_titles.count()"
   ]
  },
  {
   "cell_type": "code",
   "execution_count": 164,
   "metadata": {},
   "outputs": [
    {
     "data": {
      "text/plain": [
       "DataFrame[emp_no: int, salary: int, sal_from_date: string, title: string, title_from_date: string]"
      ]
     },
     "execution_count": 164,
     "metadata": {},
     "output_type": "execute_result"
    }
   ],
   "source": [
    "jn_sal_titles.cache()"
   ]
  },
  {
   "cell_type": "markdown",
   "metadata": {},
   "source": [
    "#### Final Join \n",
    "<br>By now there are 2 DataFrames\n",
    "<br>**active_emp_dept_mgrDF** consists of all active employees along with the manager''s details.\n",
    "<br>**emp_sal_titlesDF** consists of the current salary and titles details for all the active employees.\n",
    "<br>join these two DataFrames to result a DataFrame with all the details for all active employees"
   ]
  },
  {
   "cell_type": "code",
   "execution_count": 84,
   "metadata": {},
   "outputs": [
    {
     "data": {
      "text/plain": [
       "250124"
      ]
     },
     "execution_count": 84,
     "metadata": {},
     "output_type": "execute_result"
    }
   ],
   "source": [
    "active_emp_dept_mgrDF.count()"
   ]
  },
  {
   "cell_type": "code",
   "execution_count": 165,
   "metadata": {
    "scrolled": true
   },
   "outputs": [
    {
     "data": {
      "text/plain": [
       "[('dept_no', 'string'),\n",
       " ('emp_no', 'int'),\n",
       " ('dept_from_date', 'string'),\n",
       " ('to_date', 'string'),\n",
       " ('emp_birth_date', 'string'),\n",
       " ('emp_first_name', 'string'),\n",
       " ('emp_last_name', 'string'),\n",
       " ('emp_gender', 'string'),\n",
       " ('emp_hire_date', 'string'),\n",
       " ('dept_name', 'string'),\n",
       " ('mgr_emp_no', 'int'),\n",
       " ('mgr_from_date', 'string'),\n",
       " ('mgr_birth_date', 'string'),\n",
       " ('mgr_first_name', 'string'),\n",
       " ('mgr_last_name', 'string'),\n",
       " ('mgr_gender', 'string'),\n",
       " ('mgr_hire_date', 'string')]"
      ]
     },
     "execution_count": 165,
     "metadata": {},
     "output_type": "execute_result"
    }
   ],
   "source": [
    "active_emp_dept_mgrDF.dtypes"
   ]
  },
  {
   "cell_type": "code",
   "execution_count": 166,
   "metadata": {},
   "outputs": [
    {
     "data": {
      "text/plain": [
       "250124"
      ]
     },
     "execution_count": 166,
     "metadata": {},
     "output_type": "execute_result"
    }
   ],
   "source": [
    "jn_sal_titles.count()"
   ]
  },
  {
   "cell_type": "code",
   "execution_count": 167,
   "metadata": {
    "scrolled": true
   },
   "outputs": [
    {
     "data": {
      "text/plain": [
       "[('emp_no', 'int'),\n",
       " ('salary', 'int'),\n",
       " ('sal_from_date', 'string'),\n",
       " ('title', 'string'),\n",
       " ('title_from_date', 'string')]"
      ]
     },
     "execution_count": 167,
     "metadata": {},
     "output_type": "execute_result"
    }
   ],
   "source": [
    "jn_sal_titles.dtypes"
   ]
  },
  {
   "cell_type": "code",
   "execution_count": 169,
   "metadata": {},
   "outputs": [
    {
     "data": {
      "text/plain": [
       "DataFrame[dept_no: string, emp_no: int, dept_from_date: string, to_date: string, emp_birth_date: string, emp_first_name: string, emp_last_name: string, emp_gender: string, emp_hire_date: string, dept_name: string, mgr_emp_no: int, mgr_from_date: string, mgr_birth_date: string, mgr_first_name: string, mgr_last_name: string, mgr_gender: string, mgr_hire_date: string]"
      ]
     },
     "execution_count": 169,
     "metadata": {},
     "output_type": "execute_result"
    }
   ],
   "source": [
    "jn_sal_titles.cache()\n",
    "active_emp_dept_mgrDF.cache()"
   ]
  },
  {
   "cell_type": "code",
   "execution_count": 173,
   "metadata": {
    "collapsed": true
   },
   "outputs": [],
   "source": [
    "active_emp_detailsDF = active_emp_dept_mgrDF.join(jn_sal_titles, on='emp_no')"
   ]
  },
  {
   "cell_type": "code",
   "execution_count": 174,
   "metadata": {},
   "outputs": [
    {
     "data": {
      "text/plain": [
       "DataFrame[emp_no: int, dept_no: string, dept_from_date: string, to_date: string, emp_birth_date: string, emp_first_name: string, emp_last_name: string, emp_gender: string, emp_hire_date: string, dept_name: string, mgr_emp_no: int, mgr_from_date: string, mgr_birth_date: string, mgr_first_name: string, mgr_last_name: string, mgr_gender: string, mgr_hire_date: string, salary: int, sal_from_date: string, title: string, title_from_date: string]"
      ]
     },
     "execution_count": 174,
     "metadata": {},
     "output_type": "execute_result"
    }
   ],
   "source": [
    "### Cache the employee details fro the above steps\n",
    "active_emp_detailsDF.cache()"
   ]
  },
  {
   "cell_type": "markdown",
   "metadata": {},
   "source": [
    "#### Verify DataFrame"
   ]
  },
  {
   "cell_type": "code",
   "execution_count": 175,
   "metadata": {},
   "outputs": [
    {
     "name": "stdout",
     "output_type": "stream",
     "text": [
      "+------+-------+--------------+----------+--------------+--------------+-------------+----------+-------------+------------------+----------+-------------+--------------+--------------+-------------+----------+-------------+------+-------------+---------------+---------------+\n",
      "|emp_no|dept_no|dept_from_date|   to_date|emp_birth_date|emp_first_name|emp_last_name|emp_gender|emp_hire_date|         dept_name|mgr_emp_no|mgr_from_date|mgr_birth_date|mgr_first_name|mgr_last_name|mgr_gender|mgr_hire_date|salary|sal_from_date|          title|title_from_date|\n",
      "+------+-------+--------------+----------+--------------+--------------+-------------+----------+-------------+------------------+----------+-------------+--------------+--------------+-------------+----------+-------------+------+-------------+---------------+---------------+\n",
      "|   148|   d005|    1986-02-03|9999-01-01|    1960-03-11|        Feipei|     Nollmann|         M|   1986-02-03|       Development|     64439|   1995-04-25|    1970-04-25|          Leon|     DasSarma|         F|   1989-10-21|121640|   2003-01-30|Senior Engineer|     1993-02-04|\n",
      "|   463|   d008|    1986-02-06|9999-01-01|    1955-04-15|    Dharmaraja|     Sadowsky|         M|   1986-02-06|          Research|    107706|   1996-04-08|    1962-06-27|        Hilary|       Kambil|         F|   1993-01-31| 63130|   2003-02-02|   Senior Staff|     1986-02-06|\n",
      "|   496|   d006|    2001-09-02|9999-01-01|    1964-03-29|          Mari|        Rotem|         M|   1986-02-06|Quality Management|    149081|   2000-06-28|    1972-08-19|          Dung|        Pesch|         M|   1995-06-09| 50281|   2002-08-16|       Engineer|     2000-08-17|\n",
      "|   833|   d005|    1994-03-25|9999-01-01|    1961-09-14|          Huan|      Preusig|         M|   1986-02-09|       Development|     64439|   1995-04-25|    1970-04-25|          Leon|     DasSarma|         F|   1989-10-21| 52747|   2003-03-23|Senior Engineer|     1994-03-25|\n",
      "+------+-------+--------------+----------+--------------+--------------+-------------+----------+-------------+------------------+----------+-------------+--------------+--------------+-------------+----------+-------------+------+-------------+---------------+---------------+\n",
      "only showing top 4 rows\n",
      "\n"
     ]
    }
   ],
   "source": [
    "active_emp_detailsDF.show(4)"
   ]
  },
  {
   "cell_type": "markdown",
   "metadata": {},
   "source": [
    "#### Derive additional columns such as\n",
    "-  emp_age = current_date - emp_birth_date\n",
    "-  emp_tenure = current_date - emp_hire_date\n",
    "-  mgr_age = current_date - mgr_birth_date\n",
    "-  mgr_tenure = current_date - mgr_hire_date\n",
    "-  salary_since = current_date - sal_from_date\n",
    "-  role_since = current_date - title_from_date\n",
    "-  emp_dept_tenure = current_date - dept_from_date\n",
    "-  mgr_dept_tenure = current_date - mgr_from_date"
   ]
  },
  {
   "cell_type": "markdown",
   "metadata": {},
   "source": [
    "#### Create a temporary table/view to perform sql queries"
   ]
  },
  {
   "cell_type": "code",
   "execution_count": 176,
   "metadata": {
    "collapsed": true
   },
   "outputs": [],
   "source": [
    "active_emp_detailsDF.registerTempTable(\"active_emp_details_sqlTBL\")\n"
   ]
  },
  {
   "cell_type": "code",
   "execution_count": 177,
   "metadata": {
    "scrolled": true
   },
   "outputs": [
    {
     "data": {
      "text/plain": [
       "[('emp_no', 'int'),\n",
       " ('dept_no', 'string'),\n",
       " ('dept_from_date', 'string'),\n",
       " ('to_date', 'string'),\n",
       " ('emp_birth_date', 'string'),\n",
       " ('emp_first_name', 'string'),\n",
       " ('emp_last_name', 'string'),\n",
       " ('emp_gender', 'string'),\n",
       " ('emp_hire_date', 'string'),\n",
       " ('dept_name', 'string'),\n",
       " ('mgr_emp_no', 'int'),\n",
       " ('mgr_from_date', 'string'),\n",
       " ('mgr_birth_date', 'string'),\n",
       " ('mgr_first_name', 'string'),\n",
       " ('mgr_last_name', 'string'),\n",
       " ('mgr_gender', 'string'),\n",
       " ('mgr_hire_date', 'string'),\n",
       " ('salary', 'int'),\n",
       " ('sal_from_date', 'string'),\n",
       " ('title', 'string'),\n",
       " ('title_from_date', 'string')]"
      ]
     },
     "execution_count": 177,
     "metadata": {},
     "output_type": "execute_result"
    }
   ],
   "source": [
    "active_emp_detailsDF.dtypes"
   ]
  },
  {
   "cell_type": "markdown",
   "metadata": {},
   "source": [
    "#### Change the order of the columns with the select and derive the columns as necessary"
   ]
  },
  {
   "cell_type": "code",
   "execution_count": 178,
   "metadata": {
    "collapsed": true
   },
   "outputs": [],
   "source": [
    "active_employees_data  = spark.sql(\"\"\"\n",
    "SELECT emp_no, emp_first_name, emp_last_name, emp_gender, emp_birth_date, emp_hire_date,\n",
    "       round(datediff(current_date,to_date(emp_birth_date))/365) as emp_age,\n",
    "       round(datediff(current_date,to_date(emp_hire_date))/365) as emp_tenure,\n",
    "       salary, sal_from_date, \n",
    "       round(datediff(current_date,to_date(sal_from_date))/365) as salary_since,\n",
    "       title, title_from_date,\n",
    "       round(datediff(current_date,to_date(title_from_date))/365) as role_since,\n",
    "       dept_no, dept_name, dept_from_date,\n",
    "       round(datediff(current_date,to_date(dept_from_date))/365) as emp_dept_tenure,\n",
    "       mgr_emp_no, mgr_first_name, mgr_last_name, mgr_gender, mgr_birth_date, mgr_hire_date, mgr_from_date,\n",
    "       round(datediff(current_date,to_date(mgr_birth_date))/365) as mgr_age,\n",
    "       round(datediff(current_date,to_date(mgr_hire_date))/365) as mgr_tenure,\n",
    "       round(datediff(current_date,to_date(mgr_from_date))/365) as mgr_dept_tenure\n",
    "FROM active_emp_details_sqlTBL\"\"\")"
   ]
  },
  {
   "cell_type": "markdown",
   "metadata": {},
   "source": [
    "#### Verify the DataFrame"
   ]
  },
  {
   "cell_type": "code",
   "execution_count": 179,
   "metadata": {},
   "outputs": [
    {
     "name": "stdout",
     "output_type": "stream",
     "text": [
      "+------+--------------+-------------+----------+--------------+-------------+-------+----------+------+-------------+------------+---------------+---------------+----------+-------+------------------+--------------+---------------+----------+--------------+-------------+----------+--------------+-------------+-------------+-------+----------+---------------+\n",
      "|emp_no|emp_first_name|emp_last_name|emp_gender|emp_birth_date|emp_hire_date|emp_age|emp_tenure|salary|sal_from_date|salary_since|          title|title_from_date|role_since|dept_no|         dept_name|dept_from_date|emp_dept_tenure|mgr_emp_no|mgr_first_name|mgr_last_name|mgr_gender|mgr_birth_date|mgr_hire_date|mgr_from_date|mgr_age|mgr_tenure|mgr_dept_tenure|\n",
      "+------+--------------+-------------+----------+--------------+-------------+-------+----------+------+-------------+------------+---------------+---------------+----------+-------+------------------+--------------+---------------+----------+--------------+-------------+----------+--------------+-------------+-------------+-------+----------+---------------+\n",
      "|   148|        Feipei|     Nollmann|         M|    1960-03-11|   1986-02-03|   59.0|      33.0|121640|   2003-01-30|        16.0|Senior Engineer|     1993-02-04|      26.0|   d005|       Development|    1986-02-03|           33.0|     64439|          Leon|     DasSarma|         F|    1970-04-25|   1989-10-21|   1995-04-25|   49.0|      29.0|           24.0|\n",
      "|   463|    Dharmaraja|     Sadowsky|         M|    1955-04-15|   1986-02-06|   64.0|      33.0| 63130|   2003-02-02|        16.0|   Senior Staff|     1986-02-06|      33.0|   d008|          Research|    1986-02-06|           33.0|    107706|        Hilary|       Kambil|         F|    1962-06-27|   1993-01-31|   1996-04-08|   57.0|      26.0|           23.0|\n",
      "|   496|          Mari|        Rotem|         M|    1964-03-29|   1986-02-06|   55.0|      33.0| 50281|   2002-08-16|        16.0|       Engineer|     2000-08-17|      18.0|   d006|Quality Management|    2001-09-02|           17.0|    149081|          Dung|        Pesch|         M|    1972-08-19|   1995-06-09|   2000-06-28|   46.0|      24.0|           19.0|\n",
      "|   833|          Huan|      Preusig|         M|    1961-09-14|   1986-02-09|   57.0|      33.0| 52747|   2003-03-23|        16.0|Senior Engineer|     1994-03-25|      25.0|   d005|       Development|    1994-03-25|           25.0|     64439|          Leon|     DasSarma|         F|    1970-04-25|   1989-10-21|   1995-04-25|   49.0|      29.0|           24.0|\n",
      "+------+--------------+-------------+----------+--------------+-------------+-------+----------+------+-------------+------------+---------------+---------------+----------+-------+------------------+--------------+---------------+----------+--------------+-------------+----------+--------------+-------------+-------------+-------+----------+---------------+\n",
      "only showing top 4 rows\n",
      "\n"
     ]
    }
   ],
   "source": [
    "active_employees_data.show(4)"
   ]
  },
  {
   "cell_type": "markdown",
   "metadata": {},
   "source": [
    "#### Write the DataFrame to the persistent storage - HDFS"
   ]
  },
  {
   "cell_type": "code",
   "execution_count": 181,
   "metadata": {
    "collapsed": true
   },
   "outputs": [],
   "source": [
    "active_employees_data.repartition(1).write.option(\"header\", \"false\").csv(\"/user/2320B48/datasets/employeesdb/results/active_employees_data\")"
   ]
  },
  {
   "cell_type": "code",
   "execution_count": 182,
   "metadata": {},
   "outputs": [
    {
     "data": {
      "text/plain": [
       "DataFrame[emp_no: int, emp_first_name: string, emp_last_name: string, emp_gender: string, emp_birth_date: string, emp_hire_date: string, emp_age: double, emp_tenure: double, salary: int, sal_from_date: string, salary_since: double, title: string, title_from_date: string, role_since: double, dept_no: string, dept_name: string, dept_from_date: string, emp_dept_tenure: double, mgr_emp_no: int, mgr_first_name: string, mgr_last_name: string, mgr_gender: string, mgr_birth_date: string, mgr_hire_date: string, mgr_from_date: string, mgr_age: double, mgr_tenure: double, mgr_dept_tenure: double]"
      ]
     },
     "execution_count": 182,
     "metadata": {},
     "output_type": "execute_result"
    }
   ],
   "source": [
    "active_employees_data.cache()"
   ]
  },
  {
   "cell_type": "code",
   "execution_count": 183,
   "metadata": {},
   "outputs": [
    {
     "data": {
      "text/plain": [
       "250124"
      ]
     },
     "execution_count": 183,
     "metadata": {},
     "output_type": "execute_result"
    }
   ],
   "source": [
    "active_employees_data.count()"
   ]
  },
  {
   "cell_type": "markdown",
   "metadata": {},
   "source": [
    "### Aggregated Data\n",
    "#### Create the Aggregations\n",
    "-  Based on Department\n",
    "-  Based on Department and Gender"
   ]
  },
  {
   "cell_type": "markdown",
   "metadata": {},
   "source": [
    "#### Aggregate based on department"
   ]
  },
  {
   "cell_type": "code",
   "execution_count": 184,
   "metadata": {
    "collapsed": true
   },
   "outputs": [],
   "source": [
    "from pyspark.sql import functions as F\n",
    "\n",
    "dept_aggrDF = active_employees_data.groupBy('dept_no').agg(\n",
    "    F.min('salary').alias('Min_Salary'),\n",
    "    F.max('salary').alias('Max_Salary'),\n",
    "    F.mean('salary').alias('Mean_Salary'),\n",
    "    F.count('salary').alias('Total_Employees'),\n",
    "    F.stddev('salary').alias('StdDev_Salary'),\n",
    "    F.sum('salary').alias('Total_salary'),\n",
    "    F.min('emp_age').alias('Min_Age'),\n",
    "    F.max('emp_age').alias('Max_Age'),\n",
    "    F.mean('emp_age').alias('Mean_Age'),\n",
    "    F.min('emp_tenure').alias('Min_Tenure'),\n",
    "    F.max('emp_tenure').alias('Max_Tenure'),\n",
    "    F.mean('emp_tenure').alias('Mean_Tenure'),\n",
    "    F.mean('salary_since').alias('Mean_Salary_Since'),\n",
    "    F.mean('role_since').alias('Mean_Role_Since')\n",
    ")\n"
   ]
  },
  {
   "cell_type": "code",
   "execution_count": 185,
   "metadata": {
    "scrolled": true
   },
   "outputs": [
    {
     "data": {
      "text/plain": [
       "DataFrame[dept_no: string, Min_Salary: int, Max_Salary: int, Mean_Salary: double, Total_Employees: bigint, StdDev_Salary: double, Total_salary: bigint, Min_Age: double, Max_Age: double, Mean_Age: double, Min_Tenure: double, Max_Tenure: double, Mean_Tenure: double, Mean_Salary_Since: double, Mean_Role_Since: double]"
      ]
     },
     "execution_count": 185,
     "metadata": {},
     "output_type": "execute_result"
    }
   ],
   "source": [
    "dept_aggrDF.cache()"
   ]
  },
  {
   "cell_type": "code",
   "execution_count": 187,
   "metadata": {
    "scrolled": true
   },
   "outputs": [
    {
     "name": "stdout",
     "output_type": "stream",
     "text": [
      "+-------+----------+----------+------------------+---------------+------------------+------------+-------+-------+------------------+----------+----------+------------------+------------------+------------------+\n",
      "|dept_no|Min_Salary|Max_Salary|       Mean_Salary|Total_Employees|     StdDev_Salary|Total_salary|Min_Age|Max_Age|          Mean_Age|Min_Tenure|Max_Tenure|       Mean_Tenure| Mean_Salary_Since|   Mean_Role_Since|\n",
      "+-------+----------+----------+------------------+---------------+------------------+------------+-------+-------+------------------+----------+----------+------------------+------------------+------------------+\n",
      "|   d005|     12582|    142434|61388.935342615165|          62344|16393.484361748524|  3827231785|   24.0|   67.0|47.333167586295396|       2.0|      33.0|22.196618760426023|10.361590529962788|16.154305145643526|\n",
      "|   d009|     12505|    142950| 61567.09564047363|          18580|19054.432158113068|  1143916637|   24.0|   67.0|46.909149623250805|       2.0|      33.0| 21.46259418729817|10.102314316469322|15.492303552206673|\n",
      "|   d003|     12669|    140953|58621.627125972904|          13876|17636.231843258673|   813433698|   24.0|   66.0|46.707264341308736|       2.0|      33.0| 21.13058518304987| 9.974776592678005|15.220524646872297|\n",
      "|   d001|     12501|    144128| 73716.20280959312|          15803|20121.259512783337|  1164937153|   24.0|   67.0|46.758906536733534|       2.0|      33.0|21.305828007340377|10.040561918623046|15.343985319243181|\n",
      "+-------+----------+----------+------------------+---------------+------------------+------------+-------+-------+------------------+----------+----------+------------------+------------------+------------------+\n",
      "only showing top 4 rows\n",
      "\n"
     ]
    }
   ],
   "source": [
    "dept_aggrDF.show(4)"
   ]
  },
  {
   "cell_type": "markdown",
   "metadata": {},
   "source": [
    "#### Aggregation based on Department and Gender"
   ]
  },
  {
   "cell_type": "code",
   "execution_count": 188,
   "metadata": {
    "collapsed": true
   },
   "outputs": [],
   "source": [
    "dept_gender_aggrDF = active_employees_data.groupBy('dept_no', 'emp_gender').agg(\n",
    "    F.min('salary').alias('Min_Salary'),\n",
    "    F.max('salary').alias('Max_Salary'),\n",
    "    F.mean('salary').alias('Mean_Salary'),\n",
    "    F.count('salary').alias('Total_Employees'),\n",
    "    F.stddev('salary').alias('StdDev_Salary'),\n",
    "    F.sum('salary').alias('Total_salary'),\n",
    "    F.min('emp_age').alias('Min_Age'),\n",
    "    F.max('emp_age').alias('Max_Age'),\n",
    "    F.mean('emp_age').alias('Mean_Age'),\n",
    "    F.min('emp_tenure').alias('Min_Tenure'),\n",
    "    F.max('emp_tenure').alias('Max_Tenure'),\n",
    "    F.mean('emp_tenure').alias('Mean_Tenure'),\n",
    "    F.mean('salary_since').alias('Mean_Salary_Since'),\n",
    "    F.mean('role_since').alias('Mean_Role_Since')\n",
    ")"
   ]
  },
  {
   "cell_type": "code",
   "execution_count": 191,
   "metadata": {},
   "outputs": [
    {
     "name": "stdout",
     "output_type": "stream",
     "text": [
      "+-------+----------+----------+----------+-----------------+---------------+------------------+------------+-------+-------+------------------+----------+----------+------------------+------------------+------------------+\n",
      "|dept_no|emp_gender|Min_Salary|Max_Salary|      Mean_Salary|Total_Employees|     StdDev_Salary|Total_salary|Min_Age|Max_Age|          Mean_Age|Min_Tenure|Max_Tenure|       Mean_Tenure| Mean_Salary_Since|   Mean_Role_Since|\n",
      "+-------+----------+----------+----------+-----------------+---------------+------------------+------------+-------+-------+------------------+----------+----------+------------------+------------------+------------------+\n",
      "|   d006|         M|     12596|    137308|59807.84364820847|           9210|17371.741914549362|   550830240|   24.0|   67.0| 46.87752442996743|       2.0|      33.0|21.377307274701412|10.071769815418024|15.632356134636264|\n",
      "|   d006|         F|     12776|    137294|60621.83104034627|           6469|18632.929352115545|   392162625|   24.0|   67.0| 46.46746019477508|       2.0|      33.0|20.714793631164014| 9.835368681403617| 15.24377801824084|\n",
      "|   d003|         M|     13320|    140953|58390.39888322409|           8238|17382.666710193324|   481020106|   24.0|   66.0|46.843287205632436|       2.0|      33.0| 21.33758193736344|10.044671036659384|15.367443554260744|\n",
      "|   d001|         F|     13110|    137842|73401.52398232881|           6338| 20192.29637278024|   465218859|   24.0|   66.0| 46.49100662669612|       2.0|      33.0| 20.97017986746608| 9.905490691069739|15.071946986431051|\n",
      "+-------+----------+----------+----------+-----------------+---------------+------------------+------------+-------+-------+------------------+----------+----------+------------------+------------------+------------------+\n",
      "only showing top 4 rows\n",
      "\n"
     ]
    }
   ],
   "source": [
    "dept_gender_aggrDF.show(4)\n"
   ]
  },
  {
   "cell_type": "markdown",
   "metadata": {},
   "source": [
    "#### Write above DataFrames to storage"
   ]
  },
  {
   "cell_type": "code",
   "execution_count": 192,
   "metadata": {
    "collapsed": true
   },
   "outputs": [],
   "source": [
    "dept_aggrDF.repartition(1).write.option(\"header\", \"false\").csv(\"/user/2320B48/datasets/employeesdb/results/aggr_dept/\")\n",
    "dept_gender_aggrDF.repartition(1).write.option(\"header\", \"false\").csv(\"/user/2320B48/datasets/employeesdb/results/aggr_dept_gender/\")"
   ]
  },
  {
   "cell_type": "code",
   "execution_count": 193,
   "metadata": {},
   "outputs": [
    {
     "name": "stdout",
     "output_type": "stream",
     "text": [
      "root\n",
      " |-- emp_no: integer (nullable = true)\n",
      " |-- emp_first_name: string (nullable = true)\n",
      " |-- emp_last_name: string (nullable = true)\n",
      " |-- emp_gender: string (nullable = true)\n",
      " |-- emp_birth_date: string (nullable = true)\n",
      " |-- emp_hire_date: string (nullable = true)\n",
      " |-- emp_age: double (nullable = true)\n",
      " |-- emp_tenure: double (nullable = true)\n",
      " |-- salary: integer (nullable = true)\n",
      " |-- sal_from_date: string (nullable = true)\n",
      " |-- salary_since: double (nullable = true)\n",
      " |-- title: string (nullable = true)\n",
      " |-- title_from_date: string (nullable = true)\n",
      " |-- role_since: double (nullable = true)\n",
      " |-- dept_no: string (nullable = true)\n",
      " |-- dept_name: string (nullable = true)\n",
      " |-- dept_from_date: string (nullable = true)\n",
      " |-- emp_dept_tenure: double (nullable = true)\n",
      " |-- mgr_emp_no: integer (nullable = true)\n",
      " |-- mgr_first_name: string (nullable = true)\n",
      " |-- mgr_last_name: string (nullable = true)\n",
      " |-- mgr_gender: string (nullable = true)\n",
      " |-- mgr_birth_date: string (nullable = true)\n",
      " |-- mgr_hire_date: string (nullable = true)\n",
      " |-- mgr_from_date: string (nullable = true)\n",
      " |-- mgr_age: double (nullable = true)\n",
      " |-- mgr_tenure: double (nullable = true)\n",
      " |-- mgr_dept_tenure: double (nullable = true)\n",
      "\n"
     ]
    }
   ],
   "source": [
    "active_employees_data.printSchema()"
   ]
  },
  {
   "cell_type": "code",
   "execution_count": null,
   "metadata": {
    "collapsed": true
   },
   "outputs": [],
   "source": []
  }
 ],
 "metadata": {
  "kernelspec": {
   "display_name": "Python 3",
   "language": "python",
   "name": "python3"
  },
  "language_info": {
   "codemirror_mode": {
    "name": "ipython",
    "version": 3
   },
   "file_extension": ".py",
   "mimetype": "text/x-python",
   "name": "python",
   "nbconvert_exporter": "python",
   "pygments_lexer": "ipython3",
   "version": "3.6.2"
  }
 },
 "nbformat": 4,
 "nbformat_minor": 2
}
