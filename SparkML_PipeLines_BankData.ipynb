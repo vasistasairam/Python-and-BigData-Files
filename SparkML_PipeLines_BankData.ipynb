{
 "cells": [
  {
   "cell_type": "markdown",
   "metadata": {},
   "source": [
    "# Machine Learning in Spark\n",
    "#### Objective: Build a classification algorithm using Spark ML\n",
    "#### As part of this activity,\n",
    "#### 1. Read data, understand data using exploratory data analysis.\n",
    "#### 2. Do necessary pre-processing and build machine learning classification algorithm using the libraries available in SparkML. "
   ]
  },
  {
   "cell_type": "markdown",
   "metadata": {},
   "source": [
    "## Setup"
   ]
  },
  {
   "cell_type": "markdown",
   "metadata": {},
   "source": [
    "#### Configure Spark Environment\n",
    "Configure environment variables, Make sure you provide the correct Spark installation path/location."
   ]
  },
  {
   "cell_type": "code",
   "execution_count": 1,
   "metadata": {
    "collapsed": true
   },
   "outputs": [],
   "source": [
    "## Set Python - Spark environment. Resolve necessary dependencies specific to Spark HBase Connector.\n",
    "import os\n",
    "import sys\n",
    "\n",
    "os.environ[\"SPARK_HOME\"] = \"/usr/hdp/current/spark2-client\"\n",
    "os.environ[\"PYLIB\"] = os.environ[\"SPARK_HOME\"] + \"/python/lib\"\n",
    "sys.path.insert(0, os.environ[\"PYLIB\"] + \"/py4j-0.10.6-src.zip\")\n",
    "sys.path.insert(0, os.environ[\"PYLIB\"] + \"/pyspark.zip\")"
   ]
  },
  {
   "cell_type": "markdown",
   "metadata": {},
   "source": [
    "### Starting the Spark Session\n",
    "#### Create and Initialize Spark Driver\n",
    "Creating a spark app that will run locally and will use as many threads as there are cores using local[*] :"
   ]
  },
  {
   "cell_type": "code",
   "execution_count": 2,
   "metadata": {
    "collapsed": true
   },
   "outputs": [],
   "source": [
    "## Create SparkContext, SparkSession\n",
    "from os.path import expanduser, join, abspath\n",
    "\n",
    "from pyspark.sql import SparkSession\n",
    "from pyspark.sql import Row\n",
    "\n",
    "# warehouse_location points to the default location for managed databases and tables\n",
    "warehouse_location = 'hdfs:///apps/hive/warehouse/'\n",
    "\n",
    "spark = SparkSession \\\n",
    "    .builder \\\n",
    "    .appName(\"Machine Learning Example using Spark ML\") \\\n",
    "    .config(\"spark.sql.warehouse.dir\", warehouse_location) \\\n",
    "    .enableHiveSupport() \\\n",
    "    .getOrCreate()"
   ]
  },
  {
   "cell_type": "markdown",
   "metadata": {},
   "source": [
    "#### Verify Spark Driver -  Spark Session"
   ]
  },
  {
   "cell_type": "code",
   "execution_count": 3,
   "metadata": {
    "scrolled": true
   },
   "outputs": [
    {
     "data": {
      "text/html": [
       "\n",
       "            <div>\n",
       "                <p><b>SparkSession - hive</b></p>\n",
       "                \n",
       "        <div>\n",
       "            <p><b>SparkContext</b></p>\n",
       "\n",
       "            <p><a href=\"http://c.insofe.edu.in:4042\">Spark UI</a></p>\n",
       "\n",
       "            <dl>\n",
       "              <dt>Version</dt>\n",
       "                <dd><code>v2.3.0.2.6.5.0-292</code></dd>\n",
       "              <dt>Master</dt>\n",
       "                <dd><code>local[*]</code></dd>\n",
       "              <dt>AppName</dt>\n",
       "                <dd><code>Machine Learning Example using Spark ML</code></dd>\n",
       "            </dl>\n",
       "        </div>\n",
       "        \n",
       "            </div>\n",
       "        "
      ],
      "text/plain": [
       "<pyspark.sql.session.SparkSession at 0x2a002d0>"
      ]
     },
     "execution_count": 3,
     "metadata": {},
     "output_type": "execute_result"
    }
   ],
   "source": [
    "## Verify Spark Session\n",
    "spark"
   ]
  },
  {
   "cell_type": "markdown",
   "metadata": {},
   "source": [
    "## Read data and analyse using SparkML"
   ]
  },
  {
   "cell_type": "markdown",
   "metadata": {},
   "source": [
    "### Bank Marketing Example\n",
    "we are going to use an example throughout this activity for bank marketing.\n",
    "Signet bank is the company that started with capital one.\n",
    "\n",
    "It was a small unknown bank that learned based on its prior data can actually better market to right customers to give them credit cards\n",
    "they did this back in 1980s before data science is really a thing and since then they've grown to one of largest credit card brands in the world largely based on using data.\n",
    "\n",
    "**“data on the specific transactions of a bank’s customers can improve models for deciding what product offers to make.”** - Data Science for Business, Provost, Foster - O’Reilly 2013\n",
    "\n",
    "#### But …\n",
    "**given a set of examples how do I get training data to the function (i.e. model)?**\n",
    "![ML4](../Images/ml4.png)"
   ]
  },
  {
   "cell_type": "markdown",
   "metadata": {},
   "source": [
    "### Data Representation\n",
    "- **Pandas** - DataFrames represented on a single machine as Python data structures\n",
    "- **RDDs** - Spark’s foundational structure Resilient Distributed Dataset is represented as a reference to partitioned data without types\n",
    "- **DataFrames** - Spark’s strongly typed optimized distributed collection of rows\n",
    "\n",
    "**All ML Algorithms need to represent data as vectors (array of Double values) in order to train machine learning algorithms**"
   ]
  },
  {
   "cell_type": "markdown",
   "metadata": {},
   "source": [
    "## ML Pipelines\n",
    "ML Pipelines provide a uniform set of high-level APIs built on top of DataFrames that help users create and tune practical machine learning pipelines and this concept is mostly inspired by the scikit-learn project.\n",
    "\n",
    "![MLP1](../Images/mlp1.png)\n",
    "<br>\n",
    "![MLP2](../Images/mlp2.png)"
   ]
  },
  {
   "cell_type": "markdown",
   "metadata": {},
   "source": [
    "### SPARK Architecture\n",
    "![Spark Architecture](../Images/sa.png)"
   ]
  },
  {
   "cell_type": "markdown",
   "metadata": {},
   "source": [
    "### Single vs Distributed Machine Learning\n",
    "\n",
    "#### Single Machine Learning\n",
    "- In a single machine algorithm such as scikit-learn, the data isloaded into the memory of a single machine (usually as Pandas or\n",
    "NumPy vectors)\n",
    "- The single machine algorithm iterates (loops) over the data in memory and using a single thread (sometimes multicore) takes a\n",
    "\"guess\" at the equation\n",
    "- The error is calculated and if the error from the previous iteration is less than the tolerance or the iterations are >= max iterations then STOP<br>\n",
    "\n",
    "#### Distributed Machine Learning\n",
    "- In Distributed Machine Learning like Spark MLlib, the data is represented as an RDD or a DataFrame typically in distributed file storage such as S3, Blob Store or HDFS\n",
    "- As a best practice, you should cache the data in memory across the nodes so that multiple iterations don’t have to query the disk each time\n",
    "- The calculation of the gradients is distributed across all the nodes using Spark's distributed compute engine (similar to MapReduce)\n",
    "- After each iteration, the results return to the driver and iterations continue until eithermax_iter or tol is reached\n"
   ]
  },
  {
   "cell_type": "markdown",
   "metadata": {},
   "source": [
    "### Algorithms\n",
    "![Logistic Regression](../Images/alg1.png)\n",
    "![Logistic Regression Implementations](../Images/alg2.png)\n",
    "![Random Forest](../Images/alg3.png)\n",
    "![Distributed Random Forest](../Images/alg4.png)"
   ]
  },
  {
   "cell_type": "markdown",
   "metadata": {},
   "source": [
    "## Spark ML Demonstration"
   ]
  },
  {
   "cell_type": "markdown",
   "metadata": {},
   "source": [
    "#### Load Dependent Libraries"
   ]
  },
  {
   "cell_type": "markdown",
   "metadata": {},
   "source": [
    "#### Spark libraries"
   ]
  },
  {
   "cell_type": "code",
   "execution_count": 4,
   "metadata": {
    "collapsed": true
   },
   "outputs": [],
   "source": [
    "from pyspark.sql.types import *\n",
    "from pyspark.sql.functions import *"
   ]
  },
  {
   "cell_type": "code",
   "execution_count": 5,
   "metadata": {
    "collapsed": true
   },
   "outputs": [],
   "source": [
    "import numpy as np\n",
    "import StringIO\n",
    "import pandas as pd\n",
    "import warnings"
   ]
  },
  {
   "cell_type": "code",
   "execution_count": 6,
   "metadata": {},
   "outputs": [
    {
     "data": {
      "text/html": [
       "<script>requirejs.config({paths: { 'plotly': ['https://cdn.plot.ly/plotly-latest.min']},});if(!window.Plotly) {{require(['plotly'],function(plotly) {window.Plotly=plotly;});}}</script>"
      ],
      "text/vnd.plotly.v1+html": [
       "<script>requirejs.config({paths: { 'plotly': ['https://cdn.plot.ly/plotly-latest.min']},});if(!window.Plotly) {{require(['plotly'],function(plotly) {window.Plotly=plotly;});}}</script>"
      ]
     },
     "metadata": {},
     "output_type": "display_data"
    }
   ],
   "source": [
    "# Plotting libraries\n",
    "import matplotlib.pyplot as plt\n",
    "import seaborn as sns\n",
    "\n",
    "import plotly\n",
    "plotly.tools.set_credentials_file(username='mtest', api_key='VLkBLZlr9yD6tgcbEiTS')\n",
    "\n",
    "import plotly.figure_factory as ff\n",
    "import plotly.plotly as py\n",
    "import plotly.offline as pyoff\n",
    "import plotly.graph_objs as go\n",
    "\n",
    "# Initializing some settings\n",
    "sns.set_style('whitegrid')\n",
    "sns.set(color_codes=True)\n",
    "warnings.filterwarnings('ignore')\n",
    "pyoff.init_notebook_mode(connected=True)\n",
    "get_ipython().magic('matplotlib inline')"
   ]
  },
  {
   "cell_type": "markdown",
   "metadata": {},
   "source": [
    "#### Problem Statement\n",
    "The dataset is from a bank, data related to direct marketing campaigns of a Portuguese banking institution. The marketing campaigns were based on phone calls. Often, more than one contact to the same client was required, to access if the product (bank term deposit) would be (or not) subscribed. The data and attribute description are in the folder.\n",
    "\n",
    "#### Dataset Description\n",
    "The dataset has the following attributes:\n",
    "<br>1 - unique sequence id\n",
    "<br>2 - age (numeric)\n",
    "<br>3 - job : type of job (categorical: \"admin.\",\"unknown\",\"unemployed\",\"management\",\"housemaid\",\"entrepreneur\",\"student\", \"blue-collar\",\"self-employed\",\"retired\",\"technician\",\"services\")\n",
    "<br>4 - marital_status : marital status (categorical: \"married\",\"divorced\",\"single\"; note: \"divorced\" means divorced or widowed)\n",
    "<br>5 - education (categorical: \"unknown\",\"secondary\",\"primary\",\"tertiary\")\n",
    "<br>6 - default: has credit in default? (binary: \"yes\",\"no\")\n",
    "<br>7 - balance: average yearly balance, in euros (numeric)\n",
    "<br>8 - housing: has housing loan? (binary: \"yes\",\"no\")\n",
    "<br>9 - loan: has personal loan? (binary: \"yes\",\"no\")\n",
    "<br>10 - contact: contact communication type (categorical: \"unknown\",\"telephone\",\"cellular\")\n",
    "<br>11 - day: last contact day of the month (numeric)\n",
    "<br>12 - month: last contact month of year (categorical: \"jan\", \"feb\", \"mar\", ..., \"nov\", \"dec\")\n",
    "<br>13 - duration: last contact duration, in seconds (numeric)\n",
    "<br>14 - campaign: number of contacts performed during this campaign and for this client (numeric, includes last contact)\n",
    "<br>15 - pdays: number of days that passed by after the client was last contacted from a previous campaign (numeric, -1 means client was not previously contacted)\n",
    "<br>16 - previous: number of contacts performed before this campaign and for this client (numeric)\n",
    "<br>17 - poutcome: outcome of the previous marketing campaign (categorical: \"unknown\",\"other\",\"failure\",\"success\")\n",
    "<br>**18 - opened_new_td_act_no_yes - has the client subscribed to a term deposit? (binary: \"yes\",\"no\")**"
   ]
  },
  {
   "cell_type": "markdown",
   "metadata": {},
   "source": [
    "<html>\n",
    "<font color=\"blue\">\n",
    "<br>\n",
    "The idea is we have set of information about a person whether its their age the job they have the marital status whether they have loan with the bank or not etc. we're trying to decide here is whether this person open a new deposit account with this bank.\n",
    "</br><br><br>\n",
    "So the theory here is that if I can better target the right customers with the right offer at right time they'll convert over to actually open a deposit account with the bank so that I don't have to reach out whole population and waste a lot of money with ads or mailer or what ever have you but target only the perspective customers.\n",
    "</br></font>\n",
    "</html>"
   ]
  },
  {
   "cell_type": "markdown",
   "metadata": {},
   "source": [
    "#### Define the schema for the dataset and use this to create the DataFrame"
   ]
  },
  {
   "cell_type": "code",
   "execution_count": 7,
   "metadata": {
    "collapsed": true
   },
   "outputs": [],
   "source": [
    "## Define Schema\n",
    "bankDataSchema = StructType([\n",
    "         StructField(\"age\", IntegerType(), True),\n",
    "         StructField(\"job\", StringType(), True),\n",
    "         StructField(\"marital_status\", StringType(), True),\n",
    "         StructField(\"education\", StringType(), True),\n",
    "         StructField(\"default\", StringType(), True),\n",
    "         StructField(\"balance\", DoubleType(), True),\n",
    "         StructField(\"housing\", StringType(), True),\n",
    "         StructField(\"loan\", StringType(), True),        \n",
    "         StructField(\"contact\", StringType(), True),\n",
    "         StructField(\"day\", IntegerType(), True),\n",
    "         StructField(\"month\", StringType(), True),\n",
    "         StructField(\"duration\", DoubleType(), True),\n",
    "         StructField(\"campaign\", DoubleType(), True),\n",
    "         StructField(\"pdays\", DoubleType(), True),\n",
    "         StructField(\"previous\", DoubleType(), True),\n",
    "         StructField(\"poutcome\", StringType(), True),\n",
    "         StructField(\"opened_new_td_act_no_yes\", StringType(), True)])"
   ]
  },
  {
   "cell_type": "markdown",
   "metadata": {},
   "source": [
    "#### Using the above schema read data and create DataFrame"
   ]
  },
  {
   "cell_type": "code",
   "execution_count": 8,
   "metadata": {
    "collapsed": true
   },
   "outputs": [],
   "source": [
    "# Reading and create from local files\n",
    "bankDF = spark.read.format(\"csv\")\\\n",
    "        .option(\"header\", \"false\")\\\n",
    "        .option(\"inferSchema\", \"true\")\\\n",
    "        .load(\"file:///home/rameshm/Datasets/bank_data.csv\", schema = bankDataSchema)\n",
    "\n",
    "# Reading and create from HDFS\n",
    "# bankDF = spark.read.format(\"csv\")\\\n",
    "#         .option(\"header\", \"false\")\\\n",
    "#         .option(\"inferSchema\", \"true\")\\\n",
    "#         .load(\"/user/rameshm/<path>/bank_data.csv\", schema = bankDataSchema)\n",
    "        \n",
    "# bankDF = spark.read.format(\"csv\")\\\n",
    "#         .option(\"header\", \"false\")\\\n",
    "#         .option(\"inferSchema\", \"true\")\\\n",
    "#         .load(\"hdfs:///user/rameshm/<path>/bank_data.csv\", schema = bankDataSchema)"
   ]
  },
  {
   "cell_type": "markdown",
   "metadata": {},
   "source": [
    "#### Verify Schema"
   ]
  },
  {
   "cell_type": "code",
   "execution_count": 9,
   "metadata": {
    "scrolled": true
   },
   "outputs": [
    {
     "name": "stdout",
     "output_type": "stream",
     "text": [
      "root\n",
      " |-- age: integer (nullable = true)\n",
      " |-- job: string (nullable = true)\n",
      " |-- marital_status: string (nullable = true)\n",
      " |-- education: string (nullable = true)\n",
      " |-- default: string (nullable = true)\n",
      " |-- balance: double (nullable = true)\n",
      " |-- housing: string (nullable = true)\n",
      " |-- loan: string (nullable = true)\n",
      " |-- contact: string (nullable = true)\n",
      " |-- day: integer (nullable = true)\n",
      " |-- month: string (nullable = true)\n",
      " |-- duration: double (nullable = true)\n",
      " |-- campaign: double (nullable = true)\n",
      " |-- pdays: double (nullable = true)\n",
      " |-- previous: double (nullable = true)\n",
      " |-- poutcome: string (nullable = true)\n",
      " |-- opened_new_td_act_no_yes: string (nullable = true)\n",
      "\n"
     ]
    }
   ],
   "source": [
    "bankDF.printSchema()"
   ]
  },
  {
   "cell_type": "markdown",
   "metadata": {},
   "source": [
    "#### Check datatype of each column/field/attribute/feature"
   ]
  },
  {
   "cell_type": "code",
   "execution_count": 10,
   "metadata": {
    "scrolled": true
   },
   "outputs": [
    {
     "data": {
      "text/plain": [
       "[('age', 'int'),\n",
       " ('job', 'string'),\n",
       " ('marital_status', 'string'),\n",
       " ('education', 'string'),\n",
       " ('default', 'string'),\n",
       " ('balance', 'double'),\n",
       " ('housing', 'string'),\n",
       " ('loan', 'string'),\n",
       " ('contact', 'string'),\n",
       " ('day', 'int'),\n",
       " ('month', 'string'),\n",
       " ('duration', 'double'),\n",
       " ('campaign', 'double'),\n",
       " ('pdays', 'double'),\n",
       " ('previous', 'double'),\n",
       " ('poutcome', 'string'),\n",
       " ('opened_new_td_act_no_yes', 'string')]"
      ]
     },
     "execution_count": 10,
     "metadata": {},
     "output_type": "execute_result"
    }
   ],
   "source": [
    "bankDF.dtypes"
   ]
  },
  {
   "cell_type": "markdown",
   "metadata": {},
   "source": [
    "#### Cache DataFrame\n",
    "Calling cache on the DataFrame will make sure we persist it in memory the first time it is used.\n",
    "<br>The following uses will be able to read from memory, instead of re-reading the data from disk."
   ]
  },
  {
   "cell_type": "code",
   "execution_count": 11,
   "metadata": {},
   "outputs": [
    {
     "data": {
      "text/plain": [
       "DataFrame[age: int, job: string, marital_status: string, education: string, default: string, balance: double, housing: string, loan: string, contact: string, day: int, month: string, duration: double, campaign: double, pdays: double, previous: double, poutcome: string, opened_new_td_act_no_yes: string]"
      ]
     },
     "execution_count": 11,
     "metadata": {},
     "output_type": "execute_result"
    }
   ],
   "source": [
    "bankDF.cache()"
   ]
  },
  {
   "cell_type": "markdown",
   "metadata": {},
   "source": [
    "#### Verify first few records"
   ]
  },
  {
   "cell_type": "code",
   "execution_count": 12,
   "metadata": {
    "scrolled": true
   },
   "outputs": [
    {
     "data": {
      "text/plain": [
       "[Row(age=30, job=u'unemployed', marital_status=u'married', education=u'primary', default=u'no', balance=1787.0, housing=u'no', loan=u'no', contact=u'cellular', day=19, month=u'oct', duration=79.0, campaign=1.0, pdays=-1.0, previous=0.0, poutcome=u'unknown', opened_new_td_act_no_yes=u'no'),\n",
       " Row(age=33, job=u'services', marital_status=u'married', education=u'secondary', default=u'no', balance=4789.0, housing=u'yes', loan=u'yes', contact=u'cellular', day=11, month=u'may', duration=220.0, campaign=1.0, pdays=339.0, previous=4.0, poutcome=u'failure', opened_new_td_act_no_yes=u'no')]"
      ]
     },
     "execution_count": 12,
     "metadata": {},
     "output_type": "execute_result"
    }
   ],
   "source": [
    "## To Show first n observations\n",
    "## Use head operation to see first n observations (say, 10 observations). \n",
    "## Head operation in PySpark is similar to head operation in Pandas.\n",
    "bankDF.take(2)"
   ]
  },
  {
   "cell_type": "code",
   "execution_count": 13,
   "metadata": {
    "scrolled": true
   },
   "outputs": [
    {
     "name": "stdout",
     "output_type": "stream",
     "text": [
      "+---+----------+--------------+---------+-------+-------+-------+----+--------+---+-----+--------+--------+-----+--------+--------+------------------------+\n",
      "|age|       job|marital_status|education|default|balance|housing|loan| contact|day|month|duration|campaign|pdays|previous|poutcome|opened_new_td_act_no_yes|\n",
      "+---+----------+--------------+---------+-------+-------+-------+----+--------+---+-----+--------+--------+-----+--------+--------+------------------------+\n",
      "| 30|unemployed|       married|  primary|     no| 1787.0|     no|  no|cellular| 19|  oct|    79.0|     1.0| -1.0|     0.0| unknown|                      no|\n",
      "| 33|  services|       married|secondary|     no| 4789.0|    yes| yes|cellular| 11|  may|   220.0|     1.0|339.0|     4.0| failure|                      no|\n",
      "+---+----------+--------------+---------+-------+-------+-------+----+--------+---+-----+--------+--------+-----+--------+--------+------------------------+\n",
      "only showing top 2 rows\n",
      "\n"
     ]
    }
   ],
   "source": [
    "## Above results are comprised of row like format. \n",
    "## To see the result in more interactive manner (rows under the columns), Use the show operation. \n",
    "## Show operation on train and take first 5 rows of it. \n",
    "bankDF.show(2)"
   ]
  },
  {
   "cell_type": "markdown",
   "metadata": {},
   "source": [
    "#### Verify the total rows and columns"
   ]
  },
  {
   "cell_type": "code",
   "execution_count": 14,
   "metadata": {},
   "outputs": [
    {
     "name": "stdout",
     "output_type": "stream",
     "text": [
      "Total records count is 4521\n",
      "Total Columns count is 17\n",
      "\n",
      "\n",
      "Columns are: ['age', 'job', 'marital_status', 'education', 'default', 'balance', 'housing', 'loan', 'contact', 'day', 'month', 'duration', 'campaign', 'pdays', 'previous', 'poutcome', 'opened_new_td_act_no_yes'] \n",
      "\n"
     ]
    }
   ],
   "source": [
    "## To Count the number of rows in DataFrame\n",
    "print('Total records count is {}'.format(bankDF.count()))\n",
    "## Columns count and column names\n",
    "print(\"Total Columns count is {}\".format(len(bankDF.columns)))\n",
    "print(\"\\n\\nColumns are: {} \\n\".format(bankDF.columns))"
   ]
  },
  {
   "cell_type": "markdown",
   "metadata": {},
   "source": [
    "#### Verify the Summary Statistics"
   ]
  },
  {
   "cell_type": "code",
   "execution_count": 15,
   "metadata": {
    "scrolled": true
   },
   "outputs": [
    {
     "name": "stdout",
     "output_type": "stream",
     "text": [
      "+-------+------------------+-------+--------------+---------+-------+------------------+-------+----+--------+------------------+-----+------------------+------------------+------------------+------------------+--------+------------------------+\n",
      "|summary|               age|    job|marital_status|education|default|           balance|housing|loan| contact|               day|month|          duration|          campaign|             pdays|          previous|poutcome|opened_new_td_act_no_yes|\n",
      "+-------+------------------+-------+--------------+---------+-------+------------------+-------+----+--------+------------------+-----+------------------+------------------+------------------+------------------+--------+------------------------+\n",
      "|  count|              4521|   4521|          4521|     4521|   4521|              4521|   4521|4521|    4521|              4521| 4521|              4521|              4521|              4521|              4521|    4521|                    4521|\n",
      "|   mean| 41.17009511170095|   null|          null|     null|   null|1422.6578190665782|   null|null|    null|15.915284229152842| null|263.96129174961294| 2.793629727936297|39.766644547666445|0.5425790754257908|    null|                    null|\n",
      "| stddev|10.576210958711263|   null|          null|     null|   null|3009.6381424673395|   null|null|    null| 8.247667327229934| null|259.85663262468216|3.1098066601885823|100.12112444301656|1.6935623506071211|    null|                    null|\n",
      "|    min|                19| admin.|      divorced|  primary|     no|           -3313.0|     no|  no|cellular|                 1|  apr|               4.0|               1.0|              -1.0|               0.0| failure|                      no|\n",
      "|    max|                87|unknown|        single|  unknown|    yes|           71188.0|    yes| yes| unknown|                31|  sep|            3025.0|              50.0|             871.0|              25.0| unknown|                     yes|\n",
      "+-------+------------------+-------+--------------+---------+-------+------------------+-------+----+--------+------------------+-----+------------------+------------------+------------------+------------------+--------+------------------------+\n",
      "\n"
     ]
    }
   ],
   "source": [
    "## To get the summary statistics (mean, standard deviance, min ,max , count) of columns in a DataFrame\n",
    "bankDF.describe().show()"
   ]
  },
  {
   "cell_type": "code",
   "execution_count": 16,
   "metadata": {
    "scrolled": false
   },
   "outputs": [
    {
     "name": "stdout",
     "output_type": "stream",
     "text": [
      "+-------+------------------+----+------------------+------------------+\n",
      "|summary|               age|loan|           balance|             pdays|\n",
      "+-------+------------------+----+------------------+------------------+\n",
      "|  count|              4521|4521|              4521|              4521|\n",
      "|   mean| 41.17009511170095|null|1422.6578190665782|39.766644547666445|\n",
      "| stddev|10.576210958711263|null|3009.6381424673395|100.12112444301656|\n",
      "|    min|                19|  no|           -3313.0|              -1.0|\n",
      "|    max|                87| yes|           71188.0|             871.0|\n",
      "+-------+------------------+----+------------------+------------------+\n",
      "\n"
     ]
    }
   ],
   "source": [
    "## Verify summary stats for few fields\n",
    "bankDF.describe().select('summary', 'age', 'loan', 'balance', 'pdays').show()"
   ]
  },
  {
   "cell_type": "markdown",
   "metadata": {},
   "source": [
    "#### Distinct values count in each column"
   ]
  },
  {
   "cell_type": "code",
   "execution_count": 17,
   "metadata": {},
   "outputs": [
    {
     "name": "stdout",
     "output_type": "stream",
     "text": [
      "+---+---+--------------+---------+-------+-------+-------+----+-------+---+-----+--------+--------+-----+--------+--------+------------------------+\n",
      "|age|job|marital_status|education|default|balance|housing|loan|contact|day|month|duration|campaign|pdays|previous|poutcome|opened_new_td_act_no_yes|\n",
      "+---+---+--------------+---------+-------+-------+-------+----+-------+---+-----+--------+--------+-----+--------+--------+------------------------+\n",
      "| 67| 12|             3|        4|      2|   2353|      2|   2|      3| 31|   12|     875|      32|  292|      24|       4|                       2|\n",
      "+---+---+--------------+---------+-------+-------+-------+----+-------+---+-----+--------+--------+-----+--------+--------+------------------------+\n",
      "\n"
     ]
    }
   ],
   "source": [
    "## Find the Distinct values count in each column\n",
    "bankDF.agg(*(countDistinct(col(c)).alias(c) for c in bankDF.columns)).show()"
   ]
  },
  {
   "cell_type": "markdown",
   "metadata": {},
   "source": [
    "#### Maximum values in each column"
   ]
  },
  {
   "cell_type": "code",
   "execution_count": 18,
   "metadata": {},
   "outputs": [
    {
     "name": "stdout",
     "output_type": "stream",
     "text": [
      "+---+-------+--------------+---------+-------+-------+-------+----+-------+---+-----+--------+--------+-----+--------+--------+------------------------+\n",
      "|age|    job|marital_status|education|default|balance|housing|loan|contact|day|month|duration|campaign|pdays|previous|poutcome|opened_new_td_act_no_yes|\n",
      "+---+-------+--------------+---------+-------+-------+-------+----+-------+---+-----+--------+--------+-----+--------+--------+------------------------+\n",
      "| 87|unknown|        single|  unknown|    yes|71188.0|    yes| yes|unknown| 31|  sep|  3025.0|    50.0|871.0|    25.0| unknown|                     yes|\n",
      "+---+-------+--------------+---------+-------+-------+-------+----+-------+---+-----+--------+--------+-----+--------+--------+------------------------+\n",
      "\n"
     ]
    }
   ],
   "source": [
    "## Find maximum value in each column\n",
    "bankDF.agg(*(max(col(c)).alias(c) for c in bankDF.columns)).show()"
   ]
  },
  {
   "cell_type": "markdown",
   "metadata": {},
   "source": [
    "#### Minimum values in each column"
   ]
  },
  {
   "cell_type": "code",
   "execution_count": 19,
   "metadata": {},
   "outputs": [
    {
     "name": "stdout",
     "output_type": "stream",
     "text": [
      "+---+------+--------------+---------+-------+-------+-------+----+--------+---+-----+--------+--------+-----+--------+--------+------------------------+\n",
      "|age|   job|marital_status|education|default|balance|housing|loan| contact|day|month|duration|campaign|pdays|previous|poutcome|opened_new_td_act_no_yes|\n",
      "+---+------+--------------+---------+-------+-------+-------+----+--------+---+-----+--------+--------+-----+--------+--------+------------------------+\n",
      "| 19|admin.|      divorced|  primary|     no|-3313.0|     no|  no|cellular|  1|  apr|     4.0|     1.0| -1.0|     0.0| failure|                      no|\n",
      "+---+------+--------------+---------+-------+-------+-------+----+--------+---+-----+--------+--------+-----+--------+--------+------------------------+\n",
      "\n"
     ]
    }
   ],
   "source": [
    "## Find maximum value in each column\n",
    "bankDF.agg(*(min(col(c)).alias(c) for c in bankDF.columns)).show()"
   ]
  },
  {
   "cell_type": "markdown",
   "metadata": {},
   "source": [
    "#### Observation:\n",
    "The minimum value in the balance column is negative\n",
    "<br>Verify how many such negative values exists in the balance column"
   ]
  },
  {
   "cell_type": "code",
   "execution_count": 20,
   "metadata": {
    "scrolled": false
   },
   "outputs": [
    {
     "name": "stdout",
     "output_type": "stream",
     "text": [
      "Total count of negative values in balance column are: 366\n"
     ]
    }
   ],
   "source": [
    "print(\"Total count of negative values in balance column are: {}\".format(bankDF.where(bankDF.balance < 0).count()))"
   ]
  },
  {
   "cell_type": "markdown",
   "metadata": {},
   "source": [
    "### Data Pre-Processing"
   ]
  },
  {
   "cell_type": "markdown",
   "metadata": {},
   "source": [
    "#### Replace the negative balances with the ZEROES"
   ]
  },
  {
   "cell_type": "code",
   "execution_count": 21,
   "metadata": {},
   "outputs": [
    {
     "data": {
      "text/plain": [
       "0"
      ]
     },
     "execution_count": 21,
     "metadata": {},
     "output_type": "execute_result"
    }
   ],
   "source": [
    "## Replace negative balances with zeroes\n",
    "from pyspark.sql.functions import when\n",
    "bankDF = bankDF.withColumn('balance', when(bankDF.balance > 0, bankDF.balance).otherwise(0))\n",
    "zeroBalance = bankDF.where(bankDF.balance < 0)\n",
    "zeroBalance.count()"
   ]
  },
  {
   "cell_type": "markdown",
   "metadata": {},
   "source": [
    "#### Define a table/view to run sql queries on the dataframe"
   ]
  },
  {
   "cell_type": "code",
   "execution_count": 22,
   "metadata": {
    "collapsed": true
   },
   "outputs": [],
   "source": [
    "## Create view/table\n",
    "bankDF.createOrReplaceTempView(\"bankDFTable\")"
   ]
  },
  {
   "cell_type": "markdown",
   "metadata": {},
   "source": [
    "#### Verify the target distribution"
   ]
  },
  {
   "cell_type": "code",
   "execution_count": 23,
   "metadata": {
    "scrolled": true
   },
   "outputs": [
    {
     "name": "stdout",
     "output_type": "stream",
     "text": [
      "+------------------------+-----+\n",
      "|opened_new_td_act_no_yes|Count|\n",
      "+------------------------+-----+\n",
      "|                      no| 4000|\n",
      "|                     yes|  521|\n",
      "+------------------------+-----+\n",
      "\n"
     ]
    }
   ],
   "source": [
    "## Multiple ways of referring a column in a dataframe\n",
    "resultDF = spark.sql(\"\"\"\n",
    "SELECT opened_new_td_act_no_yes, COUNT(*) AS Count\n",
    "FROM bankDFTable\n",
    "GROUP BY opened_new_td_act_no_yes\n",
    "\"\"\")\n",
    "\n",
    "resultDF.show()"
   ]
  },
  {
   "cell_type": "code",
   "execution_count": 24,
   "metadata": {
    "scrolled": true
   },
   "outputs": [
    {
     "data": {
      "text/html": [
       "<iframe id=\"igraph\" scrolling=\"no\" style=\"border:none;\" seamless=\"seamless\" src=\"https://plot.ly/~mtest/8.embed\" height=\"525px\" width=\"100%\"></iframe>"
      ],
      "text/plain": [
       "<plotly.tools.PlotlyDisplay object>"
      ]
     },
     "execution_count": 24,
     "metadata": {},
     "output_type": "execute_result"
    }
   ],
   "source": [
    "pdDF = resultDF.toPandas()\n",
    "data = [\n",
    "    go.Bar(\n",
    "        x=pdDF['opened_new_td_act_no_yes'], # assign x as the dataframe column 'x'\n",
    "        y=pdDF['Count']\n",
    "    )\n",
    "]\n",
    "layout = go.Layout(title='Term Deposit Opted Yes/No Counts',)\n",
    "fig = go.Figure(data=data, layout=layout)\n",
    "py.iplot(fig, filename='plot_1')"
   ]
  },
  {
   "cell_type": "markdown",
   "metadata": {},
   "source": [
    "#### Pair wise frequency between Target (opened_new_td_act_no_yes) and loan columns"
   ]
  },
  {
   "cell_type": "code",
   "execution_count": 25,
   "metadata": {
    "collapsed": true
   },
   "outputs": [],
   "source": [
    "resultDF = bankDF.crosstab(\"opened_new_td_act_no_yes\", \"loan\")"
   ]
  },
  {
   "cell_type": "code",
   "execution_count": 26,
   "metadata": {},
   "outputs": [
    {
     "name": "stdout",
     "output_type": "stream",
     "text": [
      "+-----------------------------+----+---+\n",
      "|opened_new_td_act_no_yes_loan|  no|yes|\n",
      "+-----------------------------+----+---+\n",
      "|                          yes| 478| 43|\n",
      "|                           no|3352|648|\n",
      "+-----------------------------+----+---+\n",
      "\n"
     ]
    }
   ],
   "source": [
    "resultDF.show()"
   ]
  },
  {
   "cell_type": "code",
   "execution_count": 27,
   "metadata": {
    "scrolled": true
   },
   "outputs": [
    {
     "data": {
      "text/html": [
       "<iframe id=\"igraph\" scrolling=\"no\" style=\"border:none;\" seamless=\"seamless\" src=\"https://plot.ly/~mtest/10.embed\" height=\"525px\" width=\"100%\"></iframe>"
      ],
      "text/plain": [
       "<plotly.tools.PlotlyDisplay object>"
      ]
     },
     "execution_count": 27,
     "metadata": {},
     "output_type": "execute_result"
    }
   ],
   "source": [
    "pdDF = resultDF.toPandas()\n",
    "pdDF.columns = ['opened_new_td_act_no_yes', 'No_Existing_Loans', 'Existing_Loan']\n",
    "trace1 = go.Bar(\n",
    "    x=['Opted for TD', 'Not Opted for TD'],\n",
    "    y=pdDF['No_Existing_Loans'],\n",
    "    name='No Existing Loans'\n",
    ")\n",
    "\n",
    "trace2 = go.Bar(\n",
    "    x=['Opted for TD', 'Not Opted for TD'],\n",
    "    y=pdDF['Existing_Loan'],\n",
    "    name='Existing Loans'\n",
    ")\n",
    "\n",
    "data = [trace1, trace2]\n",
    "layout = go.Layout(\n",
    "    title='Term Deposit Accounts vs Existing Loan Counts',\n",
    "    barmode='group'\n",
    ")\n",
    "\n",
    "fig = go.Figure(data=data, layout=layout)\n",
    "py.iplot(fig, filename='plot_2')"
   ]
  },
  {
   "cell_type": "markdown",
   "metadata": {},
   "source": [
    "#### Term Deposit Opted Counts for different job categories"
   ]
  },
  {
   "cell_type": "code",
   "execution_count": 28,
   "metadata": {
    "collapsed": true
   },
   "outputs": [],
   "source": [
    "resultDF = spark.sql(\"\"\"\n",
    "SELECT \n",
    "    job,\n",
    "    COUNT(*) AS term_deposit_yes_cnt\n",
    "    FROM bankDFTable \n",
    "    WHERE opened_new_td_act_no_yes = \"yes\"\n",
    "    GROUP BY job\n",
    "\"\"\")"
   ]
  },
  {
   "cell_type": "code",
   "execution_count": 29,
   "metadata": {
    "scrolled": true
   },
   "outputs": [
    {
     "data": {
      "text/html": [
       "<iframe id=\"igraph\" scrolling=\"no\" style=\"border:none;\" seamless=\"seamless\" src=\"https://plot.ly/~mtest/12.embed\" height=\"525px\" width=\"100%\"></iframe>"
      ],
      "text/plain": [
       "<plotly.tools.PlotlyDisplay object>"
      ]
     },
     "execution_count": 29,
     "metadata": {},
     "output_type": "execute_result"
    }
   ],
   "source": [
    "pdDF = resultDF.toPandas()\n",
    "data = [\n",
    "    go.Bar(\n",
    "        x=pdDF['job'], # assign x as the dataframe column 'x'\n",
    "        y=pdDF['term_deposit_yes_cnt']\n",
    "    )\n",
    "]\n",
    "layout = go.Layout(title='Term Deposit Opted Counts in each Job Category',)\n",
    "fig = go.Figure(data=data, layout=layout)\n",
    "py.iplot(fig, filename='plot_3')"
   ]
  },
  {
   "cell_type": "markdown",
   "metadata": {},
   "source": [
    "#### Term Deposit Not-Opted Counts for different job categories"
   ]
  },
  {
   "cell_type": "code",
   "execution_count": 30,
   "metadata": {
    "collapsed": true
   },
   "outputs": [],
   "source": [
    "resultDF = spark.sql(\"\"\"\n",
    "SELECT \n",
    "    job,\n",
    "    COUNT(*) AS term_deposit_no_cnt\n",
    "    FROM bankDFTable \n",
    "    WHERE opened_new_td_act_no_yes = \"no\"\n",
    "    GROUP BY job\n",
    "\"\"\")"
   ]
  },
  {
   "cell_type": "code",
   "execution_count": 31,
   "metadata": {},
   "outputs": [
    {
     "data": {
      "text/html": [
       "<iframe id=\"igraph\" scrolling=\"no\" style=\"border:none;\" seamless=\"seamless\" src=\"https://plot.ly/~mtest/14.embed\" height=\"525px\" width=\"100%\"></iframe>"
      ],
      "text/plain": [
       "<plotly.tools.PlotlyDisplay object>"
      ]
     },
     "execution_count": 31,
     "metadata": {},
     "output_type": "execute_result"
    }
   ],
   "source": [
    "pdDF = resultDF.toPandas()\n",
    "data = [\n",
    "    go.Bar(\n",
    "        x=pdDF['job'], # assign x as the dataframe column 'x'\n",
    "        y=pdDF['term_deposit_no_cnt']\n",
    "    )\n",
    "]\n",
    "layout = go.Layout(title='Term Deposit Count in each Job Category',)\n",
    "fig = go.Figure(data=data, layout=layout)\n",
    "py.iplot(fig, filename='plot_4')"
   ]
  },
  {
   "cell_type": "markdown",
   "metadata": {},
   "source": [
    "#### Term Deposits Counts for different education levels"
   ]
  },
  {
   "cell_type": "code",
   "execution_count": 32,
   "metadata": {
    "collapsed": true
   },
   "outputs": [],
   "source": [
    "resultDF = bankDF.filter(expr(\"opened_new_td_act_no_yes = 'yes'\")).groupBy(\"education\").count()"
   ]
  },
  {
   "cell_type": "code",
   "execution_count": 33,
   "metadata": {},
   "outputs": [
    {
     "name": "stdout",
     "output_type": "stream",
     "text": [
      "+---------+-----+\n",
      "|education|count|\n",
      "+---------+-----+\n",
      "|  unknown|   19|\n",
      "| tertiary|  193|\n",
      "|secondary|  245|\n",
      "|  primary|   64|\n",
      "+---------+-----+\n",
      "\n"
     ]
    }
   ],
   "source": [
    "resultDF.show()"
   ]
  },
  {
   "cell_type": "code",
   "execution_count": 34,
   "metadata": {
    "scrolled": true
   },
   "outputs": [
    {
     "data": {
      "text/html": [
       "<iframe id=\"igraph\" scrolling=\"no\" style=\"border:none;\" seamless=\"seamless\" src=\"https://plot.ly/~mtest/16.embed\" height=\"525px\" width=\"100%\"></iframe>"
      ],
      "text/plain": [
       "<plotly.tools.PlotlyDisplay object>"
      ]
     },
     "execution_count": 34,
     "metadata": {},
     "output_type": "execute_result"
    }
   ],
   "source": [
    "pdDF = resultDF.toPandas()\n",
    "data = [\n",
    "    go.Bar(\n",
    "        x=pdDF['education'], # assign x as the dataframe column 'x'\n",
    "        y=pdDF['count']\n",
    "    )\n",
    "]\n",
    "layout = go.Layout(title='Term Deposit Opted Count in each Education Level',)\n",
    "fig = go.Figure(data=data, layout=layout)\n",
    "py.iplot(fig, filename='plot_5')"
   ]
  },
  {
   "cell_type": "code",
   "execution_count": 35,
   "metadata": {
    "collapsed": true
   },
   "outputs": [],
   "source": [
    "resultDF = bankDF.filter(expr(\"opened_new_td_act_no_yes = 'no'\")).groupBy(\"education\").count()"
   ]
  },
  {
   "cell_type": "code",
   "execution_count": 36,
   "metadata": {},
   "outputs": [
    {
     "data": {
      "text/html": [
       "<iframe id=\"igraph\" scrolling=\"no\" style=\"border:none;\" seamless=\"seamless\" src=\"https://plot.ly/~mtest/18.embed\" height=\"525px\" width=\"100%\"></iframe>"
      ],
      "text/plain": [
       "<plotly.tools.PlotlyDisplay object>"
      ]
     },
     "execution_count": 36,
     "metadata": {},
     "output_type": "execute_result"
    }
   ],
   "source": [
    "pdDF = resultDF.toPandas()\n",
    "data = [\n",
    "    go.Bar(\n",
    "        x=pdDF['education'], # assign x as the dataframe column 'x'\n",
    "        y=pdDF['count']\n",
    "    )\n",
    "]\n",
    "layout = go.Layout(title='Term Deposit Not-Opted Count in each Education Level',)\n",
    "fig = go.Figure(data=data, layout=layout)\n",
    "py.iplot(fig, filename='plot_6')"
   ]
  },
  {
   "cell_type": "markdown",
   "metadata": {},
   "source": [
    "#### Pair wise frequency between Target (opened_new_td_act_no_yes) and marital_status columns"
   ]
  },
  {
   "cell_type": "code",
   "execution_count": 37,
   "metadata": {
    "collapsed": true
   },
   "outputs": [],
   "source": [
    "resultDF = bankDF.crosstab('opened_new_td_act_no_yes', 'marital_status')"
   ]
  },
  {
   "cell_type": "code",
   "execution_count": 38,
   "metadata": {},
   "outputs": [
    {
     "name": "stdout",
     "output_type": "stream",
     "text": [
      "+---------------------------------------+--------+-------+------+\n",
      "|opened_new_td_act_no_yes_marital_status|divorced|married|single|\n",
      "+---------------------------------------+--------+-------+------+\n",
      "|                                    yes|      77|    277|   167|\n",
      "|                                     no|     451|   2520|  1029|\n",
      "+---------------------------------------+--------+-------+------+\n",
      "\n"
     ]
    }
   ],
   "source": [
    "resultDF.show()"
   ]
  },
  {
   "cell_type": "code",
   "execution_count": 39,
   "metadata": {
    "collapsed": true
   },
   "outputs": [],
   "source": [
    "resultDF = spark.sql(\"\"\"\n",
    "SELECT opened_new_td_act_no_yes,\n",
    "    SUM(CASE WHEN marital_status = 'divorced' THEN 1 ELSE 0 END) divorced_Count,\n",
    "    SUM(CASE WHEN marital_status = 'married' THEN 1 ELSE 0 END) married_Count,\n",
    "    SUM(CASE WHEN marital_status = 'single' THEN 1 ELSE 0 END) single_Count\n",
    "from bankDFTable\n",
    "GROUP BY opened_new_td_act_no_yes\n",
    "\"\"\")"
   ]
  },
  {
   "cell_type": "code",
   "execution_count": 40,
   "metadata": {},
   "outputs": [
    {
     "name": "stdout",
     "output_type": "stream",
     "text": [
      "+------------------------+--------------+-------------+------------+\n",
      "|opened_new_td_act_no_yes|divorced_Count|married_Count|single_Count|\n",
      "+------------------------+--------------+-------------+------------+\n",
      "|                      no|           451|         2520|        1029|\n",
      "|                     yes|            77|          277|         167|\n",
      "+------------------------+--------------+-------------+------------+\n",
      "\n"
     ]
    }
   ],
   "source": [
    "resultDF.show()"
   ]
  },
  {
   "cell_type": "code",
   "execution_count": 41,
   "metadata": {},
   "outputs": [
    {
     "data": {
      "text/html": [
       "<iframe id=\"igraph\" scrolling=\"no\" style=\"border:none;\" seamless=\"seamless\" src=\"https://plot.ly/~mtest/20.embed\" height=\"525px\" width=\"100%\"></iframe>"
      ],
      "text/plain": [
       "<plotly.tools.PlotlyDisplay object>"
      ]
     },
     "execution_count": 41,
     "metadata": {},
     "output_type": "execute_result"
    }
   ],
   "source": [
    "pdDF = resultDF.toPandas()\n",
    "trace1 = go.Bar(\n",
    "    x=pdDF['opened_new_td_act_no_yes'],\n",
    "    y=pdDF['divorced_Count'],\n",
    "    name='Divorced Count'\n",
    ")\n",
    "\n",
    "trace2 = go.Bar(\n",
    "    x=pdDF['opened_new_td_act_no_yes'],\n",
    "    y=pdDF['married_Count'],\n",
    "    name='Married Count'\n",
    ")\n",
    "\n",
    "trace3 = go.Bar(\n",
    "    x=pdDF['opened_new_td_act_no_yes'],\n",
    "    y=pdDF['single_Count'],\n",
    "    name='Single Count'\n",
    ")\n",
    "\n",
    "data = [trace1, trace2, trace3]\n",
    "layout = go.Layout(\n",
    "    title='term depoisit opted/not-opted vs marital_status Counts',\n",
    "    barmode='group'\n",
    ")\n",
    "\n",
    "fig = go.Figure(data=data, layout=layout)\n",
    "py.iplot(fig, filename='plot_7')"
   ]
  },
  {
   "cell_type": "markdown",
   "metadata": {},
   "source": [
    "#### Pair wise frequency between Target (opened_new_td_act_no_yes) and default columns"
   ]
  },
  {
   "cell_type": "code",
   "execution_count": 42,
   "metadata": {},
   "outputs": [
    {
     "name": "stdout",
     "output_type": "stream",
     "text": [
      "+--------------------------------+----+---+\n",
      "|default_opened_new_td_act_no_yes|  no|yes|\n",
      "+--------------------------------+----+---+\n",
      "|                             yes|  67|  9|\n",
      "|                              no|3933|512|\n",
      "+--------------------------------+----+---+\n",
      "\n"
     ]
    }
   ],
   "source": [
    "resultDF = bankDF.crosstab('default', 'opened_new_td_act_no_yes')\n",
    "resultDF.show()"
   ]
  },
  {
   "cell_type": "code",
   "execution_count": 43,
   "metadata": {},
   "outputs": [
    {
     "data": {
      "text/html": [
       "<iframe id=\"igraph\" scrolling=\"no\" style=\"border:none;\" seamless=\"seamless\" src=\"https://plot.ly/~mtest/22.embed\" height=\"525px\" width=\"100%\"></iframe>"
      ],
      "text/plain": [
       "<plotly.tools.PlotlyDisplay object>"
      ]
     },
     "execution_count": 43,
     "metadata": {},
     "output_type": "execute_result"
    }
   ],
   "source": [
    "pdDF = resultDF.toPandas()\n",
    "trace1 = go.Bar(\n",
    "    x=['Defaulted_Yes', 'Defaulted_No'],\n",
    "    y=pdDF['no'],\n",
    "    name='Not Opted'\n",
    ")\n",
    "\n",
    "trace2 = go.Bar(\n",
    "    x=['Defaulted_Yes', 'Defaulted_No'],\n",
    "    y=pdDF['yes'],\n",
    "    name='Opted'\n",
    ")\n",
    "\n",
    "data = [trace1, trace2]\n",
    "layout = go.Layout(\n",
    "    title='Default vs term deposit Counts',\n",
    "    barmode='group'\n",
    ")\n",
    "\n",
    "fig = go.Figure(data=data, layout=layout)\n",
    "py.iplot(fig, filename='plot_8')"
   ]
  },
  {
   "cell_type": "markdown",
   "metadata": {},
   "source": [
    "#### Convert Spark DataFrame into Pandas DataFrame"
   ]
  },
  {
   "cell_type": "code",
   "execution_count": 44,
   "metadata": {
    "scrolled": true
   },
   "outputs": [
    {
     "data": {
      "text/html": [
       "<div>\n",
       "<style>\n",
       "    .dataframe thead tr:only-child th {\n",
       "        text-align: right;\n",
       "    }\n",
       "\n",
       "    .dataframe thead th {\n",
       "        text-align: left;\n",
       "    }\n",
       "\n",
       "    .dataframe tbody tr th {\n",
       "        vertical-align: top;\n",
       "    }\n",
       "</style>\n",
       "<table border=\"1\" class=\"dataframe\">\n",
       "  <thead>\n",
       "    <tr style=\"text-align: right;\">\n",
       "      <th></th>\n",
       "      <th>age</th>\n",
       "      <th>job</th>\n",
       "      <th>marital_status</th>\n",
       "      <th>education</th>\n",
       "      <th>default</th>\n",
       "      <th>balance</th>\n",
       "      <th>housing</th>\n",
       "      <th>loan</th>\n",
       "      <th>contact</th>\n",
       "      <th>day</th>\n",
       "      <th>month</th>\n",
       "      <th>duration</th>\n",
       "      <th>campaign</th>\n",
       "      <th>pdays</th>\n",
       "      <th>previous</th>\n",
       "      <th>poutcome</th>\n",
       "      <th>opened_new_td_act_no_yes</th>\n",
       "    </tr>\n",
       "  </thead>\n",
       "  <tbody>\n",
       "    <tr>\n",
       "      <th>0</th>\n",
       "      <td>30</td>\n",
       "      <td>unemployed</td>\n",
       "      <td>married</td>\n",
       "      <td>primary</td>\n",
       "      <td>no</td>\n",
       "      <td>1787.0</td>\n",
       "      <td>no</td>\n",
       "      <td>no</td>\n",
       "      <td>cellular</td>\n",
       "      <td>19</td>\n",
       "      <td>oct</td>\n",
       "      <td>79.0</td>\n",
       "      <td>1.0</td>\n",
       "      <td>-1.0</td>\n",
       "      <td>0.0</td>\n",
       "      <td>unknown</td>\n",
       "      <td>no</td>\n",
       "    </tr>\n",
       "    <tr>\n",
       "      <th>1</th>\n",
       "      <td>33</td>\n",
       "      <td>services</td>\n",
       "      <td>married</td>\n",
       "      <td>secondary</td>\n",
       "      <td>no</td>\n",
       "      <td>4789.0</td>\n",
       "      <td>yes</td>\n",
       "      <td>yes</td>\n",
       "      <td>cellular</td>\n",
       "      <td>11</td>\n",
       "      <td>may</td>\n",
       "      <td>220.0</td>\n",
       "      <td>1.0</td>\n",
       "      <td>339.0</td>\n",
       "      <td>4.0</td>\n",
       "      <td>failure</td>\n",
       "      <td>no</td>\n",
       "    </tr>\n",
       "    <tr>\n",
       "      <th>2</th>\n",
       "      <td>35</td>\n",
       "      <td>management</td>\n",
       "      <td>single</td>\n",
       "      <td>tertiary</td>\n",
       "      <td>no</td>\n",
       "      <td>1350.0</td>\n",
       "      <td>yes</td>\n",
       "      <td>no</td>\n",
       "      <td>cellular</td>\n",
       "      <td>16</td>\n",
       "      <td>apr</td>\n",
       "      <td>185.0</td>\n",
       "      <td>1.0</td>\n",
       "      <td>330.0</td>\n",
       "      <td>1.0</td>\n",
       "      <td>failure</td>\n",
       "      <td>no</td>\n",
       "    </tr>\n",
       "    <tr>\n",
       "      <th>3</th>\n",
       "      <td>30</td>\n",
       "      <td>management</td>\n",
       "      <td>married</td>\n",
       "      <td>tertiary</td>\n",
       "      <td>no</td>\n",
       "      <td>1476.0</td>\n",
       "      <td>yes</td>\n",
       "      <td>yes</td>\n",
       "      <td>unknown</td>\n",
       "      <td>3</td>\n",
       "      <td>jun</td>\n",
       "      <td>199.0</td>\n",
       "      <td>4.0</td>\n",
       "      <td>-1.0</td>\n",
       "      <td>0.0</td>\n",
       "      <td>unknown</td>\n",
       "      <td>no</td>\n",
       "    </tr>\n",
       "    <tr>\n",
       "      <th>4</th>\n",
       "      <td>59</td>\n",
       "      <td>blue-collar</td>\n",
       "      <td>married</td>\n",
       "      <td>secondary</td>\n",
       "      <td>no</td>\n",
       "      <td>0.0</td>\n",
       "      <td>yes</td>\n",
       "      <td>no</td>\n",
       "      <td>unknown</td>\n",
       "      <td>5</td>\n",
       "      <td>may</td>\n",
       "      <td>226.0</td>\n",
       "      <td>1.0</td>\n",
       "      <td>-1.0</td>\n",
       "      <td>0.0</td>\n",
       "      <td>unknown</td>\n",
       "      <td>no</td>\n",
       "    </tr>\n",
       "  </tbody>\n",
       "</table>\n",
       "</div>"
      ],
      "text/plain": [
       "   age          job marital_status  education default  balance housing loan  \\\n",
       "0   30   unemployed        married    primary      no   1787.0      no   no   \n",
       "1   33     services        married  secondary      no   4789.0     yes  yes   \n",
       "2   35   management         single   tertiary      no   1350.0     yes   no   \n",
       "3   30   management        married   tertiary      no   1476.0     yes  yes   \n",
       "4   59  blue-collar        married  secondary      no      0.0     yes   no   \n",
       "\n",
       "    contact  day month  duration  campaign  pdays  previous poutcome  \\\n",
       "0  cellular   19   oct      79.0       1.0   -1.0       0.0  unknown   \n",
       "1  cellular   11   may     220.0       1.0  339.0       4.0  failure   \n",
       "2  cellular   16   apr     185.0       1.0  330.0       1.0  failure   \n",
       "3   unknown    3   jun     199.0       4.0   -1.0       0.0  unknown   \n",
       "4   unknown    5   may     226.0       1.0   -1.0       0.0  unknown   \n",
       "\n",
       "  opened_new_td_act_no_yes  \n",
       "0                       no  \n",
       "1                       no  \n",
       "2                       no  \n",
       "3                       no  \n",
       "4                       no  "
      ]
     },
     "execution_count": 44,
     "metadata": {},
     "output_type": "execute_result"
    }
   ],
   "source": [
    "bankDF_pd = bankDF.toPandas()\n",
    "bankDF_pd.head()"
   ]
  },
  {
   "cell_type": "markdown",
   "metadata": {},
   "source": [
    "#### Derive Correlations for the numeric columns"
   ]
  },
  {
   "cell_type": "code",
   "execution_count": 45,
   "metadata": {},
   "outputs": [
    {
     "data": {
      "text/html": [
       "<div>\n",
       "<style>\n",
       "    .dataframe thead tr:only-child th {\n",
       "        text-align: right;\n",
       "    }\n",
       "\n",
       "    .dataframe thead th {\n",
       "        text-align: left;\n",
       "    }\n",
       "\n",
       "    .dataframe tbody tr th {\n",
       "        vertical-align: top;\n",
       "    }\n",
       "</style>\n",
       "<table border=\"1\" class=\"dataframe\">\n",
       "  <thead>\n",
       "    <tr style=\"text-align: right;\">\n",
       "      <th></th>\n",
       "      <th>age</th>\n",
       "      <th>balance</th>\n",
       "      <th>day</th>\n",
       "      <th>duration</th>\n",
       "      <th>campaign</th>\n",
       "      <th>pdays</th>\n",
       "      <th>previous</th>\n",
       "    </tr>\n",
       "  </thead>\n",
       "  <tbody>\n",
       "    <tr>\n",
       "      <th>age</th>\n",
       "      <td>1.000000</td>\n",
       "      <td>0.084202</td>\n",
       "      <td>-0.017853</td>\n",
       "      <td>-0.002367</td>\n",
       "      <td>-0.005148</td>\n",
       "      <td>-0.008894</td>\n",
       "      <td>-0.003511</td>\n",
       "    </tr>\n",
       "    <tr>\n",
       "      <th>balance</th>\n",
       "      <td>0.084202</td>\n",
       "      <td>1.000000</td>\n",
       "      <td>-0.007595</td>\n",
       "      <td>-0.015195</td>\n",
       "      <td>-0.010840</td>\n",
       "      <td>0.008616</td>\n",
       "      <td>0.026031</td>\n",
       "    </tr>\n",
       "    <tr>\n",
       "      <th>day</th>\n",
       "      <td>-0.017853</td>\n",
       "      <td>-0.007595</td>\n",
       "      <td>1.000000</td>\n",
       "      <td>-0.024629</td>\n",
       "      <td>0.160706</td>\n",
       "      <td>-0.094352</td>\n",
       "      <td>-0.059114</td>\n",
       "    </tr>\n",
       "    <tr>\n",
       "      <th>duration</th>\n",
       "      <td>-0.002367</td>\n",
       "      <td>-0.015195</td>\n",
       "      <td>-0.024629</td>\n",
       "      <td>1.000000</td>\n",
       "      <td>-0.068382</td>\n",
       "      <td>0.010380</td>\n",
       "      <td>0.018080</td>\n",
       "    </tr>\n",
       "    <tr>\n",
       "      <th>campaign</th>\n",
       "      <td>-0.005148</td>\n",
       "      <td>-0.010840</td>\n",
       "      <td>0.160706</td>\n",
       "      <td>-0.068382</td>\n",
       "      <td>1.000000</td>\n",
       "      <td>-0.093137</td>\n",
       "      <td>-0.067833</td>\n",
       "    </tr>\n",
       "    <tr>\n",
       "      <th>pdays</th>\n",
       "      <td>-0.008894</td>\n",
       "      <td>0.008616</td>\n",
       "      <td>-0.094352</td>\n",
       "      <td>0.010380</td>\n",
       "      <td>-0.093137</td>\n",
       "      <td>1.000000</td>\n",
       "      <td>0.577562</td>\n",
       "    </tr>\n",
       "    <tr>\n",
       "      <th>previous</th>\n",
       "      <td>-0.003511</td>\n",
       "      <td>0.026031</td>\n",
       "      <td>-0.059114</td>\n",
       "      <td>0.018080</td>\n",
       "      <td>-0.067833</td>\n",
       "      <td>0.577562</td>\n",
       "      <td>1.000000</td>\n",
       "    </tr>\n",
       "  </tbody>\n",
       "</table>\n",
       "</div>"
      ],
      "text/plain": [
       "               age   balance       day  duration  campaign     pdays  previous\n",
       "age       1.000000  0.084202 -0.017853 -0.002367 -0.005148 -0.008894 -0.003511\n",
       "balance   0.084202  1.000000 -0.007595 -0.015195 -0.010840  0.008616  0.026031\n",
       "day      -0.017853 -0.007595  1.000000 -0.024629  0.160706 -0.094352 -0.059114\n",
       "duration -0.002367 -0.015195 -0.024629  1.000000 -0.068382  0.010380  0.018080\n",
       "campaign -0.005148 -0.010840  0.160706 -0.068382  1.000000 -0.093137 -0.067833\n",
       "pdays    -0.008894  0.008616 -0.094352  0.010380 -0.093137  1.000000  0.577562\n",
       "previous -0.003511  0.026031 -0.059114  0.018080 -0.067833  0.577562  1.000000"
      ]
     },
     "execution_count": 45,
     "metadata": {},
     "output_type": "execute_result"
    }
   ],
   "source": [
    "correlations = bankDF_pd.corr()\n",
    "correlations"
   ]
  },
  {
   "cell_type": "code",
   "execution_count": 46,
   "metadata": {},
   "outputs": [
    {
     "data": {
      "text/plain": [
       "<matplotlib.axes._subplots.AxesSubplot at 0x7e9e290>"
      ]
     },
     "execution_count": 46,
     "metadata": {},
     "output_type": "execute_result"
    },
    {
     "data": {
      "image/png": "[encoded data removed]",
      "text/plain": [
       "<matplotlib.figure.Figure at 0x5429610>"
      ]
     },
     "metadata": {},
     "output_type": "display_data"
    }
   ],
   "source": [
    "#sns.set(style=\"white\")\n",
    "\n",
    "# Generate a mask for the upper triangle\n",
    "mask = np.zeros_like(correlations, dtype=np.bool)\n",
    "mask[np.triu_indices_from(mask)] = True\n",
    "\n",
    "# Set up the matplotlib figure\n",
    "f, ax = plt.subplots(figsize=(5,5))\n",
    "    \n",
    "# Generate a custom diverging colormap\n",
    "cmap = sns.diverging_palette(1000, 10, as_cmap=True)\n",
    "\n",
    "# Draw the heatmap with the mask and correct aspect ratio\n",
    "sns.heatmap(correlations, mask=mask, cmap=cmap, vmax=.5, center=0,\n",
    "            square=True, linewidths=.5, cbar_kws={\"shrink\": .5})"
   ]
  },
  {
   "cell_type": "code",
   "execution_count": 47,
   "metadata": {
    "scrolled": true
   },
   "outputs": [
    {
     "data": {
      "text/html": [
       "<iframe id=\"igraph\" scrolling=\"no\" style=\"border:none;\" seamless=\"seamless\" src=\"https://plot.ly/~mtest/24.embed\" height=\"525px\" width=\"100%\"></iframe>"
      ],
      "text/plain": [
       "<plotly.tools.PlotlyDisplay object>"
      ]
     },
     "execution_count": 47,
     "metadata": {},
     "output_type": "execute_result"
    }
   ],
   "source": [
    "trace = go.Heatmap(z=[correlations['age'], correlations['balance'],correlations['day'],correlations['duration'],\n",
    "                      correlations['campaign'],correlations['pdays'],correlations['previous']],\n",
    "                   x=['age','balance','day','duration','campaign','pdays','previous'],\n",
    "                   y=['age','balance','day','duration','campaign','pdays','previous'])\n",
    "data=[trace]\n",
    "layout = go.Layout(title='Heat Map',)\n",
    "\n",
    "fig = go.Figure(data=data, layout=layout)\n",
    "py.iplot(fig, filename='plot_9')"
   ]
  },
  {
   "cell_type": "markdown",
   "metadata": {},
   "source": [
    "#### Stratified Sampling\n",
    "20% from 0 class\n",
    "<br> 70% from 1 class"
   ]
  },
  {
   "cell_type": "code",
   "execution_count": 48,
   "metadata": {},
   "outputs": [
    {
     "name": "stdout",
     "output_type": "stream",
     "text": [
      "('Total records are: ', 925)\n",
      "+---+--------+--------------+---------+-------+-------+-------+----+---------+---+-----+--------+--------+-----+--------+--------+------------------------+\n",
      "|age|     job|marital_status|education|default|balance|housing|loan|  contact|day|month|duration|campaign|pdays|previous|poutcome|opened_new_td_act_no_yes|\n",
      "+---+--------+--------------+---------+-------+-------+-------+----+---------+---+-----+--------+--------+-----+--------+--------+------------------------+\n",
      "| 43|  admin.|       married|secondary|     no|  264.0|    yes|  no| cellular| 17|  apr|   113.0|     2.0| -1.0|     0.0| unknown|                      no|\n",
      "| 20| student|        single|secondary|     no|  502.0|     no|  no| cellular| 30|  apr|   261.0|     1.0| -1.0|     0.0| unknown|                     yes|\n",
      "| 44|services|        single|secondary|     no|  106.0|     no|  no|  unknown| 12|  jun|   109.0|     2.0| -1.0|     0.0| unknown|                      no|\n",
      "| 68| retired|      divorced|secondary|     no| 4189.0|     no|  no|telephone| 14|  jul|   897.0|     2.0| -1.0|     0.0| unknown|                     yes|\n",
      "+---+--------+--------------+---------+-------+-------+-------+----+---------+---+-----+--------+--------+-----+--------+--------+------------------------+\n",
      "only showing top 4 rows\n",
      "\n"
     ]
    }
   ],
   "source": [
    "sample_data = bankDF.sampleBy(\"opened_new_td_act_no_yes\", fractions={'no': 0.12, 'yes': 0.9}, seed=12345)\n",
    "print('Total records are: ', sample_data.count())\n",
    "sample_data.show(4)"
   ]
  },
  {
   "cell_type": "code",
   "execution_count": 49,
   "metadata": {
    "scrolled": true
   },
   "outputs": [
    {
     "name": "stdout",
     "output_type": "stream",
     "text": [
      "+------------------------+-----+\n",
      "|opened_new_td_act_no_yes|count|\n",
      "+------------------------+-----+\n",
      "|                      no|  453|\n",
      "|                     yes|  472|\n",
      "+------------------------+-----+\n",
      "\n"
     ]
    }
   ],
   "source": [
    "sample_data.groupBy(\"opened_new_td_act_no_yes\").count().orderBy(\"opened_new_td_act_no_yes\").show()"
   ]
  },
  {
   "cell_type": "markdown",
   "metadata": {},
   "source": [
    "#### Verify for Null Values"
   ]
  },
  {
   "cell_type": "code",
   "execution_count": 50,
   "metadata": {},
   "outputs": [
    {
     "name": "stdout",
     "output_type": "stream",
     "text": [
      "+---+---+--------------+---------+-------+-------+-------+----+-------+---+-----+--------+--------+-----+--------+--------+------------------------+\n",
      "|age|job|marital_status|education|default|balance|housing|loan|contact|day|month|duration|campaign|pdays|previous|poutcome|opened_new_td_act_no_yes|\n",
      "+---+---+--------------+---------+-------+-------+-------+----+-------+---+-----+--------+--------+-----+--------+--------+------------------------+\n",
      "|  0|  0|             0|        0|      0|      0|      0|   0|      0|  0|    0|       0|       0|    0|       0|       0|                       0|\n",
      "+---+---+--------------+---------+-------+-------+-------+----+-------+---+-----+--------+--------+-----+--------+--------+------------------------+\n",
      "\n"
     ]
    }
   ],
   "source": [
    "bankDF.select([count(when(isnan(c) | col(c).isNull(), c)).alias(c) for c in bankDF.columns]).show()"
   ]
  },
  {
   "cell_type": "markdown",
   "metadata": {},
   "source": [
    "#### Remove Null values - if any"
   ]
  },
  {
   "cell_type": "code",
   "execution_count": 51,
   "metadata": {},
   "outputs": [
    {
     "name": "stdout",
     "output_type": "stream",
     "text": [
      "('Before Dropping Null Values', 4521)\n",
      "('After Dropping Null Values', 4521)\n"
     ]
    }
   ],
   "source": [
    "data_df = bankDF.na.drop( how = 'any' )\n",
    "print('Before Dropping Null Values', bankDF.count())\n",
    "print('After Dropping Null Values', data_df.count())"
   ]
  },
  {
   "cell_type": "markdown",
   "metadata": {},
   "source": [
    "#### Split the data into training and test sets (30% held out for testing)"
   ]
  },
  {
   "cell_type": "code",
   "execution_count": 52,
   "metadata": {
    "collapsed": true
   },
   "outputs": [],
   "source": [
    "(trainingData, testData) = bankDF.randomSplit([0.7, 0.3])"
   ]
  },
  {
   "cell_type": "code",
   "execution_count": 53,
   "metadata": {},
   "outputs": [
    {
     "name": "stdout",
     "output_type": "stream",
     "text": [
      "+---+-------+--------------+---------+-------+-------+-------+----+---------+---+-----+--------+--------+-----+--------+--------+------------------------+\n",
      "|age|    job|marital_status|education|default|balance|housing|loan|  contact|day|month|duration|campaign|pdays|previous|poutcome|opened_new_td_act_no_yes|\n",
      "+---+-------+--------------+---------+-------+-------+-------+----+---------+---+-----+--------+--------+-----+--------+--------+------------------------+\n",
      "| 19|student|        single|secondary|     no|  302.0|     no|  no| cellular| 16|  jul|   205.0|     1.0| -1.0|     0.0| unknown|                     yes|\n",
      "| 19|student|        single|  unknown|     no|    0.0|     no|  no| cellular| 11|  feb|   123.0|     3.0| -1.0|     0.0| unknown|                      no|\n",
      "| 19|student|        single|  unknown|     no| 1169.0|     no|  no| cellular|  6|  feb|   463.0|    18.0| -1.0|     0.0| unknown|                      no|\n",
      "| 20|student|        single|secondary|     no|  291.0|     no|  no|telephone| 11|  may|   172.0|     5.0|371.0|     5.0| failure|                      no|\n",
      "+---+-------+--------------+---------+-------+-------+-------+----+---------+---+-----+--------+--------+-----+--------+--------+------------------------+\n",
      "only showing top 4 rows\n",
      "\n"
     ]
    }
   ],
   "source": [
    "trainingData.show(4)"
   ]
  },
  {
   "cell_type": "code",
   "execution_count": 54,
   "metadata": {
    "scrolled": true
   },
   "outputs": [
    {
     "name": "stdout",
     "output_type": "stream",
     "text": [
      "+---+--------+--------------+---------+-------+-------+-------+----+---------+---+-----+--------+--------+-----+--------+--------+------------------------+\n",
      "|age|     job|marital_status|education|default|balance|housing|loan|  contact|day|month|duration|campaign|pdays|previous|poutcome|opened_new_td_act_no_yes|\n",
      "+---+--------+--------------+---------+-------+-------+-------+----+---------+---+-----+--------+--------+-----+--------+--------+------------------------+\n",
      "| 19| student|        single|  primary|     no|  103.0|     no|  no| cellular| 10|  jul|   104.0|     2.0| -1.0|     0.0| unknown|                     yes|\n",
      "| 20| student|        single|secondary|     no|  502.0|     no|  no| cellular| 30|  apr|   261.0|     1.0| -1.0|     0.0| unknown|                     yes|\n",
      "| 21|services|        single|secondary|     no|  361.0|     no|  no|telephone|  5|  jun|   329.0|     1.0| 95.0|     1.0|   other|                      no|\n",
      "| 21| student|        single|secondary|     no|    6.0|     no|  no|  unknown|  9|  may|   622.0|     1.0| -1.0|     0.0| unknown|                      no|\n",
      "+---+--------+--------------+---------+-------+-------+-------+----+---------+---+-----+--------+--------+-----+--------+--------+------------------------+\n",
      "only showing top 4 rows\n",
      "\n"
     ]
    }
   ],
   "source": [
    "testData.show(4)"
   ]
  },
  {
   "cell_type": "markdown",
   "metadata": {},
   "source": [
    "#### Define PipeLines\n",
    "<br>Stages:\n",
    "    -  Preprocessing\n",
    "    -  Model Building & Evaluation"
   ]
  },
  {
   "cell_type": "markdown",
   "metadata": {},
   "source": [
    "#### Extract Categorical and Numerical Columns from the data"
   ]
  },
  {
   "cell_type": "code",
   "execution_count": 55,
   "metadata": {
    "collapsed": true
   },
   "outputs": [],
   "source": [
    "cat_Var_Names = ['job', 'marital_status', 'education', 'default', 'housing', \n",
    "                 'day', 'contact', 'month', 'poutcome']\n",
    "\n",
    "num_Var_Names = ['age', 'balance', 'duration', 'previous', 'pdays', 'campaign']"
   ]
  },
  {
   "cell_type": "markdown",
   "metadata": {},
   "source": [
    "#### Use VectorAssembler to combine a given list of numcolumns into a single vector column."
   ]
  },
  {
   "cell_type": "code",
   "execution_count": 56,
   "metadata": {
    "collapsed": true
   },
   "outputs": [],
   "source": [
    "from pyspark.ml.feature import VectorAssembler\n",
    "\n",
    "vector_assembler_NumVars = VectorAssembler(inputCols=num_Var_Names, outputCol=\"num_features_all\")"
   ]
  },
  {
   "cell_type": "markdown",
   "metadata": {},
   "source": [
    "#### Scale all the numeric attributes using MinMaxScaler\n",
    "MinMaxScaler transforms a dataset of Vector rows, rescaling each feature to a specific range (often [0, 1]). \n",
    "<br>MinMaxScaler computes summary statistics on a data set and produces a MinMaxScalerModel. \n",
    "<br>The model can then transform each feature individually such that it is in the given range."
   ]
  },
  {
   "cell_type": "code",
   "execution_count": 57,
   "metadata": {
    "collapsed": true
   },
   "outputs": [],
   "source": [
    "from pyspark.ml.feature import MinMaxScaler\n",
    "min_Max_Scalar_NumVars = MinMaxScaler(inputCol=\"num_features_all\", outputCol = \"scaled_num_features\")"
   ]
  },
  {
   "cell_type": "markdown",
   "metadata": {},
   "source": [
    "#### convert Categorical Variables into Numeric\n",
    "Dummify (encode) the categorical variables."
   ]
  },
  {
   "cell_type": "code",
   "execution_count": 58,
   "metadata": {
    "collapsed": true
   },
   "outputs": [],
   "source": [
    "from pyspark.ml.feature import OneHotEncoder, StringIndexer\n",
    "\n",
    "indexers_Cat  = [StringIndexer(inputCol=cat_Var_Name, outputCol=\"{0}_index\".format(cat_Var_Name)) \n",
    "                 for cat_Var_Name in cat_Var_Names ]\n",
    "\n",
    "encoders_Cat  = [OneHotEncoder(inputCol=indexer.getOutputCol(), \n",
    "                               outputCol=\"{0}_vec\".format(indexer.getInputCol())) \n",
    "                 for indexer in indexers_Cat]\n",
    "\n",
    "assembler_Cat = VectorAssembler(inputCols=[encoder.getOutputCol() \n",
    "                                           for encoder in encoders_Cat], outputCol=\"cat_features\")\n",
    "\n",
    "assembler     = VectorAssembler(inputCols=[\"scaled_num_features\",\"cat_features\"], outputCol=\"features\")"
   ]
  },
  {
   "cell_type": "markdown",
   "metadata": {},
   "source": [
    "#### Encode Target Attribute"
   ]
  },
  {
   "cell_type": "code",
   "execution_count": 59,
   "metadata": {
    "collapsed": true
   },
   "outputs": [],
   "source": [
    "indexer_Label = StringIndexer(inputCol=\"opened_new_td_act_no_yes\", outputCol=\"label\")"
   ]
  },
  {
   "cell_type": "markdown",
   "metadata": {},
   "source": [
    "#### Preprocessing Steps"
   ]
  },
  {
   "cell_type": "code",
   "execution_count": 60,
   "metadata": {
    "collapsed": true
   },
   "outputs": [],
   "source": [
    "# Combine numerical attributes into a vector\n",
    "# Scale above vector\n",
    "# String Indexing on Categorical attributes\n",
    "# OneHot Encoder on the above indexers\n",
    "# Combine all the encoded Categorical vectors into a single  vector\n",
    "# Combine both Numerical and Categorical into a one vector\n",
    "# Target attribute\n",
    "preprocessiong_Stages = [vector_assembler_NumVars] +\\\n",
    "                        [min_Max_Scalar_NumVars] +\\\n",
    "                        indexers_Cat + encoders_Cat +\\\n",
    "                        [assembler_Cat] +\\\n",
    "                        [assembler] +\\\n",
    "                        [indexer_Label]"
   ]
  },
  {
   "cell_type": "markdown",
   "metadata": {},
   "source": [
    "### Model Building and Evaluation"
   ]
  },
  {
   "cell_type": "markdown",
   "metadata": {},
   "source": [
    "![Logistic Regression](../Images/lrc.png)"
   ]
  },
  {
   "cell_type": "code",
   "execution_count": 61,
   "metadata": {
    "collapsed": true
   },
   "outputs": [],
   "source": [
    "from pyspark.ml.classification import LogisticRegression\n",
    "\n",
    "lr = LogisticRegression(maxIter=10, labelCol=\"label\", featuresCol=\"features\")"
   ]
  },
  {
   "cell_type": "code",
   "execution_count": 62,
   "metadata": {
    "collapsed": true
   },
   "outputs": [],
   "source": [
    "from pyspark.ml import Pipeline\n",
    "\n",
    "lr_Pipeline = Pipeline(stages=preprocessiong_Stages+[lr])\n",
    "\n",
    "lr_Pipeline_model = lr_Pipeline.fit(trainingData)"
   ]
  },
  {
   "cell_type": "code",
   "execution_count": 63,
   "metadata": {},
   "outputs": [
    {
     "name": "stdout",
     "output_type": "stream",
     "text": [
      "Coefficients: [-0.3008025816647106,-3.566578592895943,12.6514337781419,1.3395352501724418,1.3479307007418753,-5.985402702348752,0.28520549650335913,-0.2782036826211365,0.04785329959150912,-0.11959347354438611,0.10435381201629236,1.0554573538202996,0.11272080019929473,-0.2683724459578257,-0.6942261559755067,-0.16035981591735785,0.5161690556447251,-0.33471558581937233,-0.15555100402798883,0.19706160762465103,0.3855204734778827,0.19307260803646265,0.4166454457072571,-0.4266604564647547,-0.5025141193677509,0.5224353205421683,-0.5970224857676252,-0.3649157263111622,0.3381536783809398,-0.05668181564482086,-0.934719721911264,0.5446442203437869,-0.4135707234254122,-0.2207758334720934,0.5630978668563787,0.11045159598991844,-0.16768981211016348,-0.08080802404507179,-0.3057971998822308,-0.13611055197004243,-0.2006215808910109,0.3816616620287133,0.08126665584116127,-0.5562480557251865,0.5411427524802767,0.29793060713313735,-0.45572080711904595,-0.4321930706745753,0.36016622418858896,0.5855175628668527,0.600827957257231,-0.6776831097882451,1.052990261336045,0.08940636445426342,0.6200603116191711,-1.196527571776644,-0.2231146839883329,-0.6763296586370828,0.00499172947282602,0.857864814362211,-0.3915365107999028,0.36816434919698193,0.3612444762152637,-1.1584990266960087,1.6875889192306306,0.9054009691317877,1.661333253881069,-1.9799790736658773,-2.5171133567413033,-1.8605878332155512]\n",
      "Intercept: -2.01496567932\n"
     ]
    }
   ],
   "source": [
    "print(\"Coefficients: \" + str(lr_Pipeline_model.stages[-1].coefficients))\n",
    "print(\"Intercept: \" + str(lr_Pipeline_model.stages[-1].intercept))"
   ]
  },
  {
   "cell_type": "code",
   "execution_count": 64,
   "metadata": {
    "collapsed": true
   },
   "outputs": [],
   "source": [
    "train_predictions_lr = lr_Pipeline_model.transform(trainingData)\n",
    "test_predictions_lr = lr_Pipeline_model.transform(testData)"
   ]
  },
  {
   "cell_type": "code",
   "execution_count": 65,
   "metadata": {},
   "outputs": [
    {
     "name": "stdout",
     "output_type": "stream",
     "text": [
      "+---+-------+--------------+---------+-------+-------+-------+----+--------+---+-----+--------+--------+-----+--------+--------+------------------------+--------------------+--------------------+---------+--------------------+---------------+-------------+-------------+---------+-------------+-----------+--------------+---------------+------------------+-------------+-------------+-----------+---------------+-------------+--------------+-------------+--------------------+--------------------+-----+--------------------+--------------------+----------+\n",
      "|age|    job|marital_status|education|default|balance|housing|loan| contact|day|month|duration|campaign|pdays|previous|poutcome|opened_new_td_act_no_yes|    num_features_all| scaled_num_features|job_index|marital_status_index|education_index|default_index|housing_index|day_index|contact_index|month_index|poutcome_index|        job_vec|marital_status_vec|education_vec|  default_vec|housing_vec|        day_vec|  contact_vec|     month_vec| poutcome_vec|        cat_features|            features|label|       rawPrediction|         probability|prediction|\n",
      "+---+-------+--------------+---------+-------+-------+-------+----+--------+---+-----+--------+--------+-----+--------+--------+------------------------+--------------------+--------------------+---------+--------------------+---------------+-------------+-------------+---------+-------------+-----------+--------------+---------------+------------------+-------------+-------------+-----------+---------------+-------------+--------------+-------------+--------------------+--------------------+-----+--------------------+--------------------+----------+\n",
      "| 19|student|        single|  primary|     no|  103.0|     no|  no|cellular| 10|  jul|   104.0|     2.0| -1.0|     0.0| unknown|                     yes|[19.0,103.0,104.0...|[0.0,0.0014468730...|     10.0|                 1.0|            2.0|          0.0|          1.0|     28.0|          0.0|        1.0|           0.0|(11,[10],[1.0])|     (2,[1],[1.0])|(3,[2],[1.0])|(1,[0],[1.0])|  (1,[],[])|(30,[28],[1.0])|(2,[0],[1.0])|(11,[1],[1.0])|(3,[0],[1.0])|(64,[10,12,15,16,...|(70,[1,2,5,16,18,...|  1.0|[1.73641621695143...|[0.85023128609824...|       0.0|\n",
      "| 20|student|        single|secondary|     no|  502.0|     no|  no|cellular| 30|  apr|   261.0|     1.0| -1.0|     0.0| unknown|                     yes|[20.0,502.0,261.0...|[0.01538461538461...|     10.0|                 1.0|            0.0|          0.0|          1.0|     10.0|          0.0|        5.0|           0.0|(11,[10],[1.0])|     (2,[1],[1.0])|(3,[0],[1.0])|(1,[0],[1.0])|  (1,[],[])|(30,[10],[1.0])|(2,[0],[1.0])|(11,[5],[1.0])|(3,[0],[1.0])|(64,[10,12,13,16,...|(70,[0,1,2,16,18,...|  1.0|[0.42280321948492...|[0.60415384069846...|       0.0|\n",
      "+---+-------+--------------+---------+-------+-------+-------+----+--------+---+-----+--------+--------+-----+--------+--------+------------------------+--------------------+--------------------+---------+--------------------+---------------+-------------+-------------+---------+-------------+-----------+--------------+---------------+------------------+-------------+-------------+-----------+---------------+-------------+--------------+-------------+--------------------+--------------------+-----+--------------------+--------------------+----------+\n",
      "only showing top 2 rows\n",
      "\n"
     ]
    }
   ],
   "source": [
    "test_predictions_lr.show(2)"
   ]
  },
  {
   "cell_type": "code",
   "execution_count": 66,
   "metadata": {},
   "outputs": [
    {
     "name": "stdout",
     "output_type": "stream",
     "text": [
      "Train set accuracy  = 0.908888180949\n",
      "Train Error = 0.0911118\n",
      "Test set accuracy = 0.887843704776\n",
      "Test Error = 0.112156\n"
     ]
    }
   ],
   "source": [
    "from pyspark.ml.evaluation import MulticlassClassificationEvaluator\n",
    "predictionAndLabels_train_lr = train_predictions_lr.select(\"prediction\", \"label\")\n",
    "evaluator = MulticlassClassificationEvaluator(metricName=\"accuracy\")\n",
    "train_accuracy_lr = evaluator.evaluate(predictionAndLabels_train_lr)\n",
    "print(\"Train set accuracy  = \" + str(train_accuracy_lr))\n",
    "print(\"Train Error = %g\" % (1.0 - train_accuracy_lr))\n",
    "\n",
    "predictionAndLabels_test_lr = test_predictions_lr.select(\"prediction\", \"label\")\n",
    "test_accuracy_lr = evaluator.evaluate(predictionAndLabels_test_lr)\n",
    "print(\"Test set accuracy = \" + str(test_accuracy_lr))\n",
    "print(\"Test Error = %g\" % (1.0 - test_accuracy_lr))"
   ]
  },
  {
   "cell_type": "markdown",
   "metadata": {},
   "source": [
    "### METRICS\n",
    "Below we calculate some more metrics. The number of false and true positive and negative predictions is also useful:\n",
    "- **true positives (TP):** These are cases in which we predicted yes (they had term deposit), and they do had the \n",
    "- **true negatives (TN):** We predicted no, and they don't have the term deposit.\n",
    "- **false positives (FP):** We predicted yes, but they don't actually have the term deposit. (Also known as a \"Type I error.\")\n",
    "- **false negatives (FN):** We predicted no, but they actually do have the term deposit. (Also known as a \"Type II error.\")"
   ]
  },
  {
   "cell_type": "markdown",
   "metadata": {},
   "source": [
    "This is a list of metrics that are often computed from a confusion matrix for a binary classifier:\n",
    "    \n",
    "- **Accuracy:** Overall, how often is the classifier correct? (TP+TN)/total\n",
    "- **Misclassification Rate:** Overall, how often is it wrong? (FP+FN)/total\n",
    "    - equivalent to 1 minus Accuracy, also known as \"**Error Rate**\"\n",
    "- **True Positive Rate:** When it's actually yes, how often does it predict yes? TP/actual yes\n",
    "    - also known as \"**Sensitivity**\" or \"**Recall**\"\n",
    "- **False Positive Rate:** When it's actually no, how often does it predict yes? FP/actual no\n",
    "- **True Negative Rate:** When it's actually no, how often does it predict no? TN/actual no\n",
    "    - equivalent to 1 minus False Positive Rate, also known as \"**Specificity**\"\n",
    "- **Precision:** When it predicts yes, how often is it correct? TP/predicted yes\n",
    "- **F1 Score:** This is a weighted average of the true positive rate (recall) and precision. "
   ]
  },
  {
   "cell_type": "code",
   "execution_count": 67,
   "metadata": {
    "scrolled": true
   },
   "outputs": [
    {
     "name": "stdout",
     "output_type": "stream",
     "text": [
      "TRAIN METRICS - LINEAR MODEL - BINOMIAL FAMILY\n",
      "True Positives: 121\n",
      "True Negatives: 2732\n",
      "False Positives: 56\n",
      "False Negatives: 230\n",
      "Total 3139\n",
      "Precission:  0.683615819209\n",
      "Recall:  0.344729344729\n",
      "F1 Score:  0.458333333333\n",
      "*****************************************************************************\n",
      "TEST METRICS - LINEAR MODEL - BINOMIAL FAMILY\n",
      "True Positives: 49\n",
      "True Negatives: 1178\n",
      "False Positives: 34\n",
      "False Negatives: 121\n",
      "Total 3139\n",
      "Precission:  0.590361445783\n",
      "Recall:  0.288235294118\n",
      "F1 Score:  0.387351778656\n"
     ]
    }
   ],
   "source": [
    "true_positive = predictionAndLabels_train_lr[(predictionAndLabels_train_lr.label == 1) & (predictionAndLabels_train_lr.prediction == 1.0)].count()\n",
    "true_negative = predictionAndLabels_train_lr[(predictionAndLabels_train_lr.label == 0) & (predictionAndLabels_train_lr.prediction == 0.0)].count()\n",
    "false_positive = predictionAndLabels_train_lr[(predictionAndLabels_train_lr.label == 0) & (predictionAndLabels_train_lr.prediction == 1.0)].count()\n",
    "false_negative = predictionAndLabels_train_lr[(predictionAndLabels_train_lr.label == 1) & (predictionAndLabels_train_lr.prediction == 0.0)].count()\n",
    "print \"TRAIN METRICS - LINEAR MODEL - BINOMIAL FAMILY\"\n",
    "print \"True Positives:\", true_positive\n",
    "print \"True Negatives:\", true_negative\n",
    "print \"False Positives:\", false_positive\n",
    "print \"False Negatives:\", false_negative\n",
    "print \"Total\", predictionAndLabels_train_lr.count()\n",
    "precission = true_positive / float(true_positive + false_positive)\n",
    "print \"Precission: \", precission\n",
    "recall = true_positive / float(true_positive + false_negative)\n",
    "print \"Recall: \", recall\n",
    "print \"F1 Score: \", (2*((precission * recall)/float(precission + recall)))\n",
    "print(\"*****************************************************************************\")\n",
    "true_positive = predictionAndLabels_test_lr[(predictionAndLabels_test_lr.label == 1) & (predictionAndLabels_test_lr.prediction == 1.0)].count()\n",
    "true_negative = predictionAndLabels_test_lr[(predictionAndLabels_test_lr.label == 0) & (predictionAndLabels_test_lr.prediction == 0.0)].count()\n",
    "false_positive = predictionAndLabels_test_lr[(predictionAndLabels_test_lr.label == 0) & (predictionAndLabels_test_lr.prediction == 1.0)].count()\n",
    "false_negative = predictionAndLabels_test_lr[(predictionAndLabels_test_lr.label == 1) & (predictionAndLabels_test_lr.prediction == 0.0)].count()\n",
    "print \"TEST METRICS - LINEAR MODEL - BINOMIAL FAMILY\"\n",
    "print \"True Positives:\", true_positive\n",
    "print \"True Negatives:\", true_negative\n",
    "print \"False Positives:\", false_positive\n",
    "print \"False Negatives:\", false_negative\n",
    "print \"Total\", predictionAndLabels_train_lr.count()\n",
    "precission = true_positive / float(true_positive + false_positive)\n",
    "print \"Precission: \", precission\n",
    "recall = true_positive / float(true_positive + false_negative)\n",
    "print \"Recall: \", recall\n",
    "print \"F1 Score: \", (2*((precission * recall)/float(precission + recall)))\n"
   ]
  },
  {
   "cell_type": "markdown",
   "metadata": {},
   "source": [
    "#### Tuning LR Model"
   ]
  },
  {
   "cell_type": "code",
   "execution_count": 68,
   "metadata": {
    "collapsed": true
   },
   "outputs": [],
   "source": [
    "from pyspark.ml.tuning import ParamGridBuilder, CrossValidator\n",
    "\n",
    "paramGrid = ParamGridBuilder()\\\n",
    "    .addGrid(lr.regParam, [0.1]) \\\n",
    "    .addGrid(lr.elasticNetParam, [0.5])\\\n",
    "    .build()\n",
    "    \n",
    "lr_crossval = CrossValidator(estimator=lr_Pipeline,\n",
    "                             estimatorParamMaps=paramGrid,\n",
    "                             evaluator=evaluator,\n",
    "                             numFolds=2)   "
   ]
  },
  {
   "cell_type": "code",
   "execution_count": 69,
   "metadata": {
    "collapsed": true
   },
   "outputs": [],
   "source": [
    "# Run cross-validation, and choose the best set of parameters.\n",
    "lr_crossval_Model = lr_crossval.fit(trainingData)"
   ]
  },
  {
   "cell_type": "code",
   "execution_count": 70,
   "metadata": {
    "collapsed": true
   },
   "outputs": [],
   "source": [
    "train_predictions_lrcv = lr_crossval_Model.transform(trainingData)\n",
    "test_predictions_lrcv = lr_crossval_Model.transform(testData)"
   ]
  },
  {
   "cell_type": "code",
   "execution_count": 71,
   "metadata": {
    "scrolled": true
   },
   "outputs": [
    {
     "name": "stdout",
     "output_type": "stream",
     "text": [
      "Train set accuracy  = 0.889136667729\n",
      "Test set accuracy = 0.876989869754\n"
     ]
    }
   ],
   "source": [
    "predictionAndLabels_train_lrcv = train_predictions_lrcv.select(\"prediction\", \"label\")\n",
    "train_accuracycv = evaluator.evaluate(predictionAndLabels_train_lrcv)\n",
    "print(\"Train set accuracy  = \" + str(train_accuracycv))\n",
    "\n",
    "predictionAndLabels_test_lrcv = test_predictions_lrcv.select(\"prediction\", \"label\")\n",
    "test_accuracycv = evaluator.evaluate(predictionAndLabels_test_lrcv)\n",
    "print(\"Test set accuracy = \" + str(test_accuracycv))"
   ]
  },
  {
   "cell_type": "markdown",
   "metadata": {},
   "source": [
    "#### Confusion Matrix"
   ]
  },
  {
   "cell_type": "code",
   "execution_count": 72,
   "metadata": {
    "collapsed": true
   },
   "outputs": [],
   "source": [
    "train_pred_pandas = predictionAndLabels_train_lr.toPandas()\n",
    "train_actuals = train_pred_pandas.label.tolist()\n",
    "train_predictions = train_pred_pandas.prediction.tolist()\n",
    "\n",
    "\n",
    "test_pred_pandas = predictionAndLabels_test_lr.toPandas()\n",
    "test_actuals = test_pred_pandas.label.tolist()\n",
    "test_predictions = test_pred_pandas.prediction.tolist()\n",
    "from sklearn import metrics as smetrics\n",
    "cm = smetrics.confusion_matrix(train_actuals, train_predictions)"
   ]
  },
  {
   "cell_type": "code",
   "execution_count": 73,
   "metadata": {},
   "outputs": [
    {
     "name": "stdout",
     "output_type": "stream",
     "text": [
      "              Not Approved  Approved\n",
      "Not Approved          2732        56\n",
      "Approved               230       121\n"
     ]
    },
    {
     "data": {
      "text/plain": [
       "<matplotlib.axes._subplots.AxesSubplot at 0x8d04450>"
      ]
     },
     "execution_count": 73,
     "metadata": {},
     "output_type": "execute_result"
    },
    {
     "data": {
      "image/png": "[encoded data removed]",
      "text/plain": [
       "<matplotlib.figure.Figure at 0x8ceea50>"
      ]
     },
     "metadata": {},
     "output_type": "display_data"
    }
   ],
   "source": [
    "df_cm = pd.DataFrame(cm)\n",
    "df_cm.index = ['Not Approved', 'Approved']\n",
    "df_cm.columns = ['Not Approved', 'Approved']\n",
    "names=['Not Approved', 'Approved']\n",
    "print(df_cm)\n",
    "fig = plt.figure(figsize = (10,7))\n",
    "sns.set(font_scale=1.4)#for label size\n",
    "sns.heatmap(df_cm, annot=True,fmt=\"d\",annot_kws={\"size\": 20})# "
   ]
  },
  {
   "cell_type": "markdown",
   "metadata": {},
   "source": [
    "![Multinomial Logistic Regression](../Images/mlrc.png)"
   ]
  },
  {
   "cell_type": "code",
   "execution_count": 74,
   "metadata": {
    "collapsed": true
   },
   "outputs": [],
   "source": [
    "from pyspark.ml.classification import LogisticRegression\n",
    "mlr = LogisticRegression(maxIter=10, regParam=0.3, elasticNetParam=0.8, family=\"binomial\")"
   ]
  },
  {
   "cell_type": "code",
   "execution_count": 75,
   "metadata": {
    "collapsed": true
   },
   "outputs": [],
   "source": [
    "from pyspark.ml import Pipeline\n",
    "\n",
    "mlr_Pipeline = Pipeline(stages=preprocessiong_Stages+[mlr])\n",
    "\n",
    "mlr_Pipeline_model = mlr_Pipeline.fit(trainingData)"
   ]
  },
  {
   "cell_type": "code",
   "execution_count": 76,
   "metadata": {
    "collapsed": true
   },
   "outputs": [],
   "source": [
    "train_predictions_mlr = mlr_Pipeline_model.transform(trainingData)\n",
    "test_predictions_mlr = mlr_Pipeline_model.transform(testData)"
   ]
  },
  {
   "cell_type": "code",
   "execution_count": 77,
   "metadata": {},
   "outputs": [
    {
     "name": "stdout",
     "output_type": "stream",
     "text": [
      "Coefficients: 1 X 70 CSRMatrix\n",
      "\n",
      "Intercept: [-2.0722935484145486]\n"
     ]
    }
   ],
   "source": [
    "print(\"Coefficients: \" + str(mlr_Pipeline_model.stages[-1].coefficientMatrix))\n",
    "print(\"Intercept: \" + str(mlr_Pipeline_model.stages[-1].interceptVector))"
   ]
  },
  {
   "cell_type": "code",
   "execution_count": 78,
   "metadata": {},
   "outputs": [
    {
     "name": "stdout",
     "output_type": "stream",
     "text": [
      "Train set accuracy  = 0.888180949347\n",
      "Train Error = 0.111819\n",
      "Test set accuracy = 0.876989869754\n",
      "Test Error = 0.12301\n"
     ]
    }
   ],
   "source": [
    "from pyspark.ml.evaluation import MulticlassClassificationEvaluator\n",
    "predictionAndLabels_train_mlr = train_predictions_mlr.select(\"prediction\", \"label\")\n",
    "evaluator = MulticlassClassificationEvaluator(metricName=\"accuracy\")\n",
    "train_accuracy = evaluator.evaluate(predictionAndLabels_train_mlr)\n",
    "print(\"Train set accuracy  = \" + str(train_accuracy))\n",
    "print(\"Train Error = %g\" % (1.0 - train_accuracy))\n",
    "\n",
    "predictionAndLabels_test_mlr = test_predictions_mlr.select(\"prediction\", \"label\")\n",
    "test_accuracy = evaluator.evaluate(predictionAndLabels_test_mlr)\n",
    "print(\"Test set accuracy = \" + str(test_accuracy))\n",
    "print(\"Test Error = %g\" % (1.0 - test_accuracy))"
   ]
  },
  {
   "cell_type": "code",
   "execution_count": 79,
   "metadata": {},
   "outputs": [
    {
     "name": "stdout",
     "output_type": "stream",
     "text": [
      "TRAIN METRICS - LINEAR MODEL - MULTINOMIAL FAMILY\n",
      "True Positives: 0\n",
      "True Negatives: 2788\n",
      "False Positives: 0\n",
      "False Negatives: 351\n",
      "Total 3139\n",
      "Precission:  0.590361445783\n",
      "Recall:  0.0\n",
      "F1 Score:  0.0\n",
      "*****************************************************************************\n",
      "TEST METRICS - LINEAR MODEL - MULTINOMIAL FAMILY\n",
      "True Positives: 0\n",
      "True Negatives: 1212\n",
      "False Positives: 0\n",
      "False Negatives: 170\n",
      "Total 3139\n",
      "Precission:  0.590361445783\n",
      "Recall:  0.0\n",
      "F1 Score:  0.0\n"
     ]
    }
   ],
   "source": [
    "true_positive = predictionAndLabels_train_mlr[(predictionAndLabels_train_mlr.label == 1) & (predictionAndLabels_train_mlr.prediction == 1.0)].count()\n",
    "true_negative = predictionAndLabels_train_mlr[(predictionAndLabels_train_mlr.label == 0) & (predictionAndLabels_train_mlr.prediction == 0.0)].count()\n",
    "false_positive = predictionAndLabels_train_mlr[(predictionAndLabels_train_mlr.label == 0) & (predictionAndLabels_train_mlr.prediction == 1.0)].count()\n",
    "false_negative = predictionAndLabels_train_mlr[(predictionAndLabels_train_mlr.label == 1) & (predictionAndLabels_train_mlr.prediction == 0.0)].count()\n",
    "print \"TRAIN METRICS - LINEAR MODEL - MULTINOMIAL FAMILY\"\n",
    "print \"True Positives:\", true_positive\n",
    "print \"True Negatives:\", true_negative\n",
    "print \"False Positives:\", false_positive\n",
    "print \"False Negatives:\", false_negative\n",
    "print \"Total\", predictionAndLabels_train_mlr.count()\n",
    "#precission = true_positive / float(true_positive + false_positive)\n",
    "print \"Precission: \", precission\n",
    "recall = true_positive / float(true_positive + false_negative)\n",
    "print \"Recall: \", recall\n",
    "print \"F1 Score: \", (2*((precission * recall)/float(precission + recall)))\n",
    "print(\"*****************************************************************************\")\n",
    "true_positive = predictionAndLabels_test_mlr[(predictionAndLabels_test_mlr.label == 1) & (predictionAndLabels_test_mlr.prediction == 1.0)].count()\n",
    "true_negative = predictionAndLabels_test_mlr[(predictionAndLabels_test_mlr.label == 0) & (predictionAndLabels_test_mlr.prediction == 0.0)].count()\n",
    "false_positive = predictionAndLabels_test_mlr[(predictionAndLabels_test_mlr.label == 0) & (predictionAndLabels_test_mlr.prediction == 1.0)].count()\n",
    "false_negative = predictionAndLabels_test_mlr[(predictionAndLabels_test_mlr.label == 1) & (predictionAndLabels_test_mlr.prediction == 0.0)].count()\n",
    "print \"TEST METRICS - LINEAR MODEL - MULTINOMIAL FAMILY\"\n",
    "print \"True Positives:\", true_positive\n",
    "print \"True Negatives:\", true_negative\n",
    "print \"False Positives:\", false_positive\n",
    "print \"False Negatives:\", false_negative\n",
    "print \"Total\", predictionAndLabels_train_mlr.count()\n",
    "#precission = true_positive / float(true_positive + false_positive)\n",
    "print \"Precission: \", precission\n",
    "recall = true_positive / float(true_positive + false_negative)\n",
    "print \"Recall: \", recall\n",
    "print \"F1 Score: \", (2*((precission * recall)/float(precission + recall)))"
   ]
  },
  {
   "cell_type": "markdown",
   "metadata": {},
   "source": [
    "![Decision Tree Classifier](../Images/dtc.png)"
   ]
  },
  {
   "cell_type": "code",
   "execution_count": 80,
   "metadata": {
    "collapsed": true
   },
   "outputs": [],
   "source": [
    "from pyspark.ml.classification import DecisionTreeClassifier\n",
    "dt = DecisionTreeClassifier(labelCol=\"label\", featuresCol=\"features\")"
   ]
  },
  {
   "cell_type": "code",
   "execution_count": 81,
   "metadata": {
    "collapsed": true
   },
   "outputs": [],
   "source": [
    "dt_Pipeline = Pipeline(stages=preprocessiong_Stages+[dt]) \n",
    "\n",
    "dt_Pipeline_model = dt_Pipeline.fit(trainingData)"
   ]
  },
  {
   "cell_type": "code",
   "execution_count": 82,
   "metadata": {
    "collapsed": true
   },
   "outputs": [],
   "source": [
    "train_predictions_dt = dt_Pipeline_model.transform(trainingData)\n",
    "test_predictions_dt = dt_Pipeline_model.transform(testData)"
   ]
  },
  {
   "cell_type": "code",
   "execution_count": 83,
   "metadata": {},
   "outputs": [
    {
     "name": "stdout",
     "output_type": "stream",
     "text": [
      "Train set accuracy  = 0.915578209621\n",
      "Train Error = 0.0844218\n",
      "Test set accuracy = 0.886396526773\n",
      "Test Error = 0.113603\n"
     ]
    }
   ],
   "source": [
    "from pyspark.ml.evaluation import MulticlassClassificationEvaluator\n",
    "predictionAndLabels_train_dt = train_predictions_dt.select(\"prediction\", \"label\")\n",
    "evaluator = MulticlassClassificationEvaluator(metricName=\"accuracy\")\n",
    "train_accuracy = evaluator.evaluate(predictionAndLabels_train_dt)\n",
    "print(\"Train set accuracy  = \" + str(train_accuracy))\n",
    "print(\"Train Error = %g\" % (1.0 - train_accuracy))\n",
    "\n",
    "predictionAndLabels_test_dt = test_predictions_dt.select(\"prediction\", \"label\")\n",
    "test_accuracy = evaluator.evaluate(predictionAndLabels_test_dt)\n",
    "print(\"Test set accuracy = \" + str(test_accuracy))\n",
    "print(\"Test Error = %g\" % (1.0 - test_accuracy))"
   ]
  },
  {
   "cell_type": "code",
   "execution_count": 84,
   "metadata": {
    "scrolled": true
   },
   "outputs": [
    {
     "name": "stdout",
     "output_type": "stream",
     "text": [
      "TRAIN METRICS - DECISSION TREE CLASSIFIER\n",
      "True Positives: 146\n",
      "True Negatives: 2728\n",
      "False Positives: 60\n",
      "False Negatives: 205\n",
      "Total 3139\n",
      "Precission:  0.708737864078\n",
      "Recall:  0.415954415954\n",
      "F1 Score:  0.524236983842\n",
      "*****************************************************************************\n",
      "\n",
      "\n",
      "TEST METRICS - DECISSION TREE CLASSIFIER\n",
      "True Positives: 53\n",
      "True Negatives: 1172\n",
      "False Positives: 40\n",
      "False Negatives: 117\n",
      "Total 3139\n",
      "Precission:  0.569892473118\n",
      "Recall:  0.311764705882\n",
      "F1 Score:  0.403041825095\n"
     ]
    }
   ],
   "source": [
    "true_positive = predictionAndLabels_train_dt[(predictionAndLabels_train_dt.label == 1) & (predictionAndLabels_train_dt.prediction == 1.0)].count()\n",
    "true_negative = predictionAndLabels_train_dt[(predictionAndLabels_train_dt.label == 0) & (predictionAndLabels_train_dt.prediction == 0.0)].count()\n",
    "false_positive = predictionAndLabels_train_dt[(predictionAndLabels_train_dt.label == 0) & (predictionAndLabels_train_dt.prediction == 1.0)].count()\n",
    "false_negative = predictionAndLabels_train_dt[(predictionAndLabels_train_dt.label == 1) & (predictionAndLabels_train_dt.prediction == 0.0)].count()\n",
    "print \"TRAIN METRICS - DECISSION TREE CLASSIFIER\"\n",
    "print \"True Positives:\", true_positive\n",
    "print \"True Negatives:\", true_negative\n",
    "print \"False Positives:\", false_positive\n",
    "print \"False Negatives:\", false_negative\n",
    "print \"Total\", predictionAndLabels_train_dt.count()\n",
    "precission = true_positive / float(true_positive + false_positive)\n",
    "print \"Precission: \", precission\n",
    "recall = true_positive / float(true_positive + false_negative)\n",
    "print \"Recall: \", recall\n",
    "print \"F1 Score: \", (2*((precission * recall)/float(precission + recall)))\n",
    "print(\"*****************************************************************************\")\n",
    "true_positive = predictionAndLabels_test_dt[(predictionAndLabels_test_dt.label == 1) & (predictionAndLabels_test_dt.prediction == 1.0)].count()\n",
    "true_negative = predictionAndLabels_test_dt[(predictionAndLabels_test_dt.label == 0) & (predictionAndLabels_test_dt.prediction == 0.0)].count()\n",
    "false_positive = predictionAndLabels_test_dt[(predictionAndLabels_test_dt.label == 0) & (predictionAndLabels_test_dt.prediction == 1.0)].count()\n",
    "false_negative = predictionAndLabels_test_dt[(predictionAndLabels_test_dt.label == 1) & (predictionAndLabels_test_dt.prediction == 0.0)].count()\n",
    "print \"\\n\\nTEST METRICS - DECISSION TREE CLASSIFIER\"\n",
    "print \"True Positives:\", true_positive\n",
    "print \"True Negatives:\", true_negative\n",
    "print \"False Positives:\", false_positive\n",
    "print \"False Negatives:\", false_negative\n",
    "print \"Total\", predictionAndLabels_train_dt.count()\n",
    "precission = true_positive / float(true_positive + false_positive)\n",
    "print \"Precission: \", precission\n",
    "recall = true_positive / float(true_positive + false_negative)\n",
    "print \"Recall: \", recall\n",
    "print \"F1 Score: \", (2*((precission * recall)/float(precission + recall)))"
   ]
  },
  {
   "cell_type": "code",
   "execution_count": 85,
   "metadata": {
    "collapsed": true
   },
   "outputs": [],
   "source": [
    "treeModel = dt_Pipeline_model.stages[23]"
   ]
  },
  {
   "cell_type": "code",
   "execution_count": 86,
   "metadata": {},
   "outputs": [
    {
     "name": "stdout",
     "output_type": "stream",
     "text": [
      "Learned classification tree model:\n",
      "DecisionTreeClassificationModel (uid=DecisionTreeClassifier_4ee384872d95498b2989) of depth 5 with 55 nodes\n",
      "  If (feature 2 <= 0.12926183382985768)\n",
      "   If (feature 3 <= 0.02)\n",
      "    If (feature 64 in {1.0})\n",
      "     If (feature 2 <= 0.03028798411122145)\n",
      "      Predict: 0.0\n",
      "     Else (feature 2 > 0.03028798411122145)\n",
      "      If (feature 17 in {0.0})\n",
      "       Predict: 1.0\n",
      "      Else (feature 17 not in {0.0})\n",
      "       Predict: 0.0\n",
      "    Else (feature 64 not in {1.0})\n",
      "     If (feature 61 in {1.0})\n",
      "      If (feature 23 in {1.0})\n",
      "       Predict: 0.0\n",
      "      Else (feature 23 not in {1.0})\n",
      "       Predict: 0.0\n",
      "     Else (feature 61 not in {1.0})\n",
      "      If (feature 66 in {1.0})\n",
      "       Predict: 0.0\n",
      "      Else (feature 66 not in {1.0})\n",
      "       Predict: 0.0\n",
      "   Else (feature 3 > 0.02)\n",
      "    If (feature 68 in {1.0})\n",
      "     If (feature 58 in {1.0})\n",
      "      If (feature 4 <= 0.17603211009174313)\n",
      "       Predict: 0.0\n",
      "      Else (feature 4 > 0.17603211009174313)\n",
      "       Predict: 1.0\n",
      "     Else (feature 58 not in {1.0})\n",
      "      If (feature 52 in {1.0})\n",
      "       Predict: 1.0\n",
      "      Else (feature 52 not in {1.0})\n",
      "       Predict: 0.0\n",
      "    Else (feature 68 not in {1.0})\n",
      "     If (feature 69 in {1.0})\n",
      "      If (feature 4 <= 0.21158256880733944)\n",
      "       Predict: 0.0\n",
      "      Else (feature 4 > 0.21158256880733944)\n",
      "       Predict: 0.0\n",
      "     Else (feature 69 not in {1.0})\n",
      "      If (feature 2 <= 0.051473022178086726)\n",
      "       Predict: 0.0\n",
      "      Else (feature 2 > 0.051473022178086726)\n",
      "       Predict: 1.0\n",
      "  Else (feature 2 > 0.12926183382985768)\n",
      "   If (feature 2 <= 0.2302217808672625)\n",
      "    If (feature 55 in {1.0})\n",
      "     If (feature 0 <= 0.13076923076923078)\n",
      "      If (feature 1 <= 0.0026619654998033377)\n",
      "       Predict: 1.0\n",
      "      Else (feature 1 > 0.0026619654998033377)\n",
      "       Predict: 0.0\n",
      "     Else (feature 0 > 0.13076923076923078)\n",
      "      If (feature 22 in {0.0})\n",
      "       Predict: 0.0\n",
      "      Else (feature 22 not in {0.0})\n",
      "       Predict: 0.0\n",
      "    Else (feature 55 not in {1.0})\n",
      "     If (feature 59 in {1.0})\n",
      "      If (feature 0 <= 0.1)\n",
      "       Predict: 0.0\n",
      "      Else (feature 0 > 0.1)\n",
      "       Predict: 1.0\n",
      "     Else (feature 59 not in {1.0})\n",
      "      If (feature 64 in {1.0})\n",
      "       Predict: 1.0\n",
      "      Else (feature 64 not in {1.0})\n",
      "       Predict: 0.0\n",
      "   Else (feature 2 > 0.2302217808672625)\n",
      "    If (feature 11 in {1.0})\n",
      "     Predict: 1.0\n",
      "    Else (feature 11 not in {1.0})\n",
      "     If (feature 54 in {0.0})\n",
      "      If (feature 20 in {1.0})\n",
      "       Predict: 1.0\n",
      "      Else (feature 20 not in {1.0})\n",
      "       Predict: 0.0\n",
      "     Else (feature 54 not in {0.0})\n",
      "      If (feature 0 <= 0.46923076923076923)\n",
      "       Predict: 1.0\n",
      "      Else (feature 0 > 0.46923076923076923)\n",
      "       Predict: 0.0\n",
      "\n"
     ]
    }
   ],
   "source": [
    "print \"Learned classification tree model:\"\n",
    "print treeModel.toDebugString"
   ]
  },
  {
   "cell_type": "markdown",
   "metadata": {},
   "source": [
    "![Random Forest Classifier](../Images/rfc.png)"
   ]
  },
  {
   "cell_type": "code",
   "execution_count": 87,
   "metadata": {
    "collapsed": true
   },
   "outputs": [],
   "source": [
    "from pyspark.ml.classification import RandomForestClassifier\n",
    "rf = RandomForestClassifier(labelCol=\"label\", featuresCol=\"features\", numTrees=10)"
   ]
  },
  {
   "cell_type": "code",
   "execution_count": 88,
   "metadata": {
    "collapsed": true
   },
   "outputs": [],
   "source": [
    "rf_Pipeline = Pipeline(stages=preprocessiong_Stages+[rf]) \n",
    "rf_Pipeline_model = rf_Pipeline.fit(trainingData)"
   ]
  },
  {
   "cell_type": "code",
   "execution_count": 89,
   "metadata": {
    "collapsed": true
   },
   "outputs": [],
   "source": [
    "train_predictions_rf = rf_Pipeline_model.transform(trainingData)\n",
    "test_predictions_rf = rf_Pipeline_model.transform(testData)"
   ]
  },
  {
   "cell_type": "code",
   "execution_count": 90,
   "metadata": {},
   "outputs": [
    {
     "name": "stdout",
     "output_type": "stream",
     "text": [
      "Train set accuracy  = 0.895508123606\n",
      "Train Error = 0.104492\n",
      "Test set accuracy = 0.878437047757\n",
      "Test Error = 0.121563\n"
     ]
    }
   ],
   "source": [
    "from pyspark.ml.evaluation import MulticlassClassificationEvaluator\n",
    "predictionAndLabels_train_rf = train_predictions_rf.select(\"prediction\", \"label\")\n",
    "evaluator = MulticlassClassificationEvaluator(metricName=\"accuracy\")\n",
    "train_accuracy = evaluator.evaluate(predictionAndLabels_train_rf)\n",
    "print(\"Train set accuracy  = \" + str(train_accuracy))\n",
    "print(\"Train Error = %g\" % (1.0 - train_accuracy))\n",
    "\n",
    "predictionAndLabels_test_rf = test_predictions_rf.select(\"prediction\", \"label\")\n",
    "test_accuracy = evaluator.evaluate(predictionAndLabels_test_rf)\n",
    "print(\"Test set accuracy = \" + str(test_accuracy))\n",
    "print(\"Test Error = %g\" % (1.0 - test_accuracy))"
   ]
  },
  {
   "cell_type": "code",
   "execution_count": 91,
   "metadata": {},
   "outputs": [
    {
     "name": "stdout",
     "output_type": "stream",
     "text": [
      "TRAIN METRICS - RANDOM FOREST CLASSIFIER\n",
      "True Positives: 26\n",
      "True Negatives: 2785\n",
      "False Positives: 3\n",
      "False Negatives: 325\n",
      "Total 3139\n",
      "Precission:  0.896551724138\n",
      "Recall:  0.0740740740741\n",
      "F1 Score:  0.136842105263\n",
      "*****************************************************************************\n",
      "TEST METRICS - RANDOM FOREST CLASSIFIER\n",
      "True Positives: 5\n",
      "True Negatives: 1209\n",
      "False Positives: 3\n",
      "False Negatives: 165\n",
      "Total 3139\n",
      "Precission:  0.896551724138\n",
      "Recall:  0.0294117647059\n",
      "F1 Score:  0.0569550930997\n"
     ]
    }
   ],
   "source": [
    "true_positive = predictionAndLabels_train_rf[(predictionAndLabels_train_rf.label == 1) & (predictionAndLabels_train_rf.prediction == 1.0)].count()\n",
    "true_negative = predictionAndLabels_train_rf[(predictionAndLabels_train_rf.label == 0) & (predictionAndLabels_train_rf.prediction == 0.0)].count()\n",
    "false_positive = predictionAndLabels_train_rf[(predictionAndLabels_train_rf.label == 0) & (predictionAndLabels_train_rf.prediction == 1.0)].count()\n",
    "false_negative = predictionAndLabels_train_rf[(predictionAndLabels_train_rf.label == 1) & (predictionAndLabels_train_rf.prediction == 0.0)].count()\n",
    "print \"TRAIN METRICS - RANDOM FOREST CLASSIFIER\"\n",
    "print \"True Positives:\", true_positive\n",
    "print \"True Negatives:\", true_negative\n",
    "print \"False Positives:\", false_positive\n",
    "print \"False Negatives:\", false_negative\n",
    "print \"Total\", predictionAndLabels_train_rf.count()\n",
    "precission = true_positive / float(true_positive + false_positive)\n",
    "print \"Precission: \", precission\n",
    "recall = true_positive / float(true_positive + false_negative)\n",
    "print \"Recall: \", recall\n",
    "print \"F1 Score: \", (2*((precission * recall)/float(precission + recall)))\n",
    "print(\"*****************************************************************************\")\n",
    "\n",
    "true_positive = predictionAndLabels_test_rf[(predictionAndLabels_test_rf.label == 1) & (predictionAndLabels_test_rf.prediction == 1.0)].count()\n",
    "true_negative = predictionAndLabels_test_rf[(predictionAndLabels_test_rf.label == 0) & (predictionAndLabels_test_rf.prediction == 0.0)].count()\n",
    "false_positive = predictionAndLabels_test_rf[(predictionAndLabels_test_rf.label == 0) & (predictionAndLabels_test_rf.prediction == 1.0)].count()\n",
    "false_negative = predictionAndLabels_test_rf[(predictionAndLabels_test_rf.label == 1) & (predictionAndLabels_test_rf.prediction == 0.0)].count()\n",
    "print \"TEST METRICS - RANDOM FOREST CLASSIFIER\"\n",
    "print \"True Positives:\", true_positive\n",
    "print \"True Negatives:\", true_negative\n",
    "print \"False Positives:\", false_positive\n",
    "print \"False Negatives:\", false_negative\n",
    "print \"Total\", predictionAndLabels_train_rf.count()\n",
    "#precission = true_positive / float(true_positive + false_positive)\n",
    "print \"Precission: \", precission\n",
    "recall = true_positive / float(true_positive + false_negative)\n",
    "print \"Recall: \", recall\n",
    "print \"F1 Score: \", (2*((precission * recall)/float(precission + recall)))"
   ]
  },
  {
   "cell_type": "markdown",
   "metadata": {},
   "source": [
    "![Gradient Boosted Tree Classifier](../Images/gbtc.png)"
   ]
  },
  {
   "cell_type": "code",
   "execution_count": 92,
   "metadata": {
    "collapsed": true
   },
   "outputs": [],
   "source": [
    "from pyspark.ml.classification import GBTClassifier\n",
    "gbt = GBTClassifier(labelCol=\"label\", featuresCol=\"features\", maxIter=10)"
   ]
  },
  {
   "cell_type": "code",
   "execution_count": 93,
   "metadata": {
    "collapsed": true
   },
   "outputs": [],
   "source": [
    "gbt_Pipeline = Pipeline(stages=preprocessiong_Stages+[gbt]) \n",
    "gbt_Pipeline_model = gbt_Pipeline.fit(trainingData)"
   ]
  },
  {
   "cell_type": "code",
   "execution_count": 94,
   "metadata": {
    "collapsed": true
   },
   "outputs": [],
   "source": [
    "train_predictions_gbt = gbt_Pipeline_model.transform(trainingData)\n",
    "test_predictions_gbt = gbt_Pipeline_model.transform(testData)"
   ]
  },
  {
   "cell_type": "code",
   "execution_count": 95,
   "metadata": {},
   "outputs": [
    {
     "name": "stdout",
     "output_type": "stream",
     "text": [
      "Train set accuracy  = 0.931188276521\n",
      "Train Error = 0.0688117\n",
      "Test set accuracy = 0.88494934877\n",
      "Test Error = 0.115051\n"
     ]
    }
   ],
   "source": [
    "from pyspark.ml.evaluation import MulticlassClassificationEvaluator\n",
    "predictionAndLabels_train_gbt = train_predictions_gbt.select(\"prediction\", \"label\")\n",
    "evaluator = MulticlassClassificationEvaluator(metricName=\"accuracy\")\n",
    "train_accuracy = evaluator.evaluate(predictionAndLabels_train_gbt)\n",
    "print(\"Train set accuracy  = \" + str(train_accuracy))\n",
    "print(\"Train Error = %g\" % (1.0 - train_accuracy))\n",
    "\n",
    "predictionAndLabels_test_gbt = test_predictions_gbt.select(\"prediction\", \"label\")\n",
    "test_accuracy = evaluator.evaluate(predictionAndLabels_test_gbt)\n",
    "print(\"Test set accuracy = \" + str(test_accuracy))\n",
    "print(\"Test Error = %g\" % (1.0 - test_accuracy))"
   ]
  },
  {
   "cell_type": "code",
   "execution_count": 96,
   "metadata": {
    "scrolled": true
   },
   "outputs": [
    {
     "name": "stdout",
     "output_type": "stream",
     "text": [
      "TRAIN METRICS - GRADIENT-BOOSTED TREE CLASSIFIER\n",
      "True Positives: 184\n",
      "True Negatives: 2739\n",
      "False Positives: 49\n",
      "False Negatives: 167\n",
      "Total 3139\n",
      "Precission:  0.789699570815\n",
      "Recall:  0.524216524217\n",
      "F1 Score:  0.630136986301\n",
      "*****************************************************************************\n",
      "TEST METRICS - GRADIENT-BOOSTED TREE CLASSIFIER\n",
      "True Positives: 53\n",
      "True Negatives: 1170\n",
      "False Positives: 42\n",
      "False Negatives: 117\n",
      "Total 3139\n",
      "Precission:  0.557894736842\n",
      "Recall:  0.311764705882\n",
      "F1 Score:  0.4\n"
     ]
    }
   ],
   "source": [
    "true_positive = predictionAndLabels_train_gbt[(predictionAndLabels_train_gbt.label == 1) & (predictionAndLabels_train_gbt.prediction == 1.0)].count()\n",
    "true_negative = predictionAndLabels_train_gbt[(predictionAndLabels_train_gbt.label == 0) & (predictionAndLabels_train_gbt.prediction == 0.0)].count()\n",
    "false_positive = predictionAndLabels_train_gbt[(predictionAndLabels_train_gbt.label == 0) & (predictionAndLabels_train_gbt.prediction == 1.0)].count()\n",
    "false_negative = predictionAndLabels_train_gbt[(predictionAndLabels_train_gbt.label == 1) & (predictionAndLabels_train_gbt.prediction == 0.0)].count()\n",
    "print \"TRAIN METRICS - GRADIENT-BOOSTED TREE CLASSIFIER\"\n",
    "print \"True Positives:\", true_positive\n",
    "print \"True Negatives:\", true_negative\n",
    "print \"False Positives:\", false_positive\n",
    "print \"False Negatives:\", false_negative\n",
    "print \"Total\", predictionAndLabels_train_gbt.count()\n",
    "precission = true_positive / float(true_positive + false_positive)\n",
    "print \"Precission: \", precission\n",
    "recall = true_positive / float(true_positive + false_negative)\n",
    "print \"Recall: \", recall\n",
    "print \"F1 Score: \", (2*((precission * recall)/float(precission + recall)))\n",
    "print(\"*****************************************************************************\")\n",
    "true_positive = predictionAndLabels_test_gbt[(predictionAndLabels_test_gbt.label == 1) & (predictionAndLabels_test_gbt.prediction == 1.0)].count()\n",
    "true_negative = predictionAndLabels_test_gbt[(predictionAndLabels_test_gbt.label == 0) & (predictionAndLabels_test_gbt.prediction == 0.0)].count()\n",
    "false_positive = predictionAndLabels_test_gbt[(predictionAndLabels_test_gbt.label == 0) & (predictionAndLabels_test_gbt.prediction == 1.0)].count()\n",
    "false_negative = predictionAndLabels_test_gbt[(predictionAndLabels_test_gbt.label == 1) & (predictionAndLabels_test_gbt.prediction == 0.0)].count()\n",
    "print \"TEST METRICS - GRADIENT-BOOSTED TREE CLASSIFIER\"\n",
    "print \"True Positives:\", true_positive\n",
    "print \"True Negatives:\", true_negative\n",
    "print \"False Positives:\", false_positive\n",
    "print \"False Negatives:\", false_negative\n",
    "print \"Total\", predictionAndLabels_train_gbt.count()\n",
    "precission = true_positive / float(true_positive + false_positive)\n",
    "print \"Precission: \", precission\n",
    "recall = true_positive / float(true_positive + false_negative)\n",
    "print \"Recall: \", recall\n",
    "print \"F1 Score: \", (2*((precission * recall)/float(precission + recall)))"
   ]
  },
  {
   "cell_type": "markdown",
   "metadata": {},
   "source": [
    "![Multilayer Perceptron](../Images/mlp3_1.png)\n",
    "![Multilayer Perceptron](../Images/mlp4.png)"
   ]
  },
  {
   "cell_type": "code",
   "execution_count": 97,
   "metadata": {
    "collapsed": true
   },
   "outputs": [],
   "source": [
    "from pyspark.ml.classification import MultilayerPerceptronClassifier\n",
    "from pyspark.ml.evaluation import MulticlassClassificationEvaluator\n",
    "\n",
    "# specify layers for the neural network:\n",
    "# input layer of size 71 (features), two intermediate of size 5 and 4\n",
    "# and output of size 2 (classes)\n",
    "layers = [70, 50, 40, 2]\n",
    "# create the trainer and set its parameters\n",
    "mlp = MultilayerPerceptronClassifier(maxIter=100, layers=layers, blockSize=128, seed=1234)"
   ]
  },
  {
   "cell_type": "code",
   "execution_count": 98,
   "metadata": {
    "collapsed": true
   },
   "outputs": [],
   "source": [
    "mlp_Pipeline = Pipeline(stages=preprocessiong_Stages+[mlp]) \n",
    "mlp_Pipeline_model = mlp_Pipeline.fit(trainingData)"
   ]
  },
  {
   "cell_type": "code",
   "execution_count": 99,
   "metadata": {
    "collapsed": true
   },
   "outputs": [],
   "source": [
    "train_predictions_mlp = mlp_Pipeline_model.transform(trainingData)\n",
    "test_predictions_mlp = mlp_Pipeline_model.transform(testData)"
   ]
  },
  {
   "cell_type": "code",
   "execution_count": 100,
   "metadata": {},
   "outputs": [
    {
     "name": "stdout",
     "output_type": "stream",
     "text": [
      "Train set accuracy  = 0.948709780185\n",
      "Train Error = 0.0512902\n",
      "Test set accuracy = 0.879160636758\n",
      "Test Error = 0.120839\n"
     ]
    }
   ],
   "source": [
    "from pyspark.ml.evaluation import MulticlassClassificationEvaluator\n",
    "predictionAndLabels_train_mlp = train_predictions_mlp.select(\"prediction\", \"label\")\n",
    "evaluator = MulticlassClassificationEvaluator(metricName=\"accuracy\")\n",
    "train_accuracy = evaluator.evaluate(predictionAndLabels_train_mlp)\n",
    "print(\"Train set accuracy  = \" + str(train_accuracy))\n",
    "print(\"Train Error = %g\" % (1.0 - train_accuracy))\n",
    "\n",
    "predictionAndLabels_test_mlp = test_predictions_mlp.select(\"prediction\", \"label\")\n",
    "test_accuracy = evaluator.evaluate(predictionAndLabels_test_mlp)\n",
    "print(\"Test set accuracy = \" + str(test_accuracy))\n",
    "print(\"Test Error = %g\" % (1.0 - test_accuracy))"
   ]
  },
  {
   "cell_type": "code",
   "execution_count": 101,
   "metadata": {},
   "outputs": [
    {
     "name": "stdout",
     "output_type": "stream",
     "text": [
      "TRAIN METRICS - MULTI-LAYER PERCEPTRON CLASSIFIER\n",
      "True Positives: 268\n",
      "True Negatives: 2710\n",
      "False Positives: 78\n",
      "False Negatives: 83\n",
      "Total 3139\n",
      "Precission:  0.772334293948\n",
      "Recall:  0.763532763533\n",
      "F1 Score:  0.465089473906\n",
      "*****************************************************************************\n",
      "TEST METRICS - MULTI-LAYER PERCEPTRON CLASSIFIER\n",
      "True Positives: 73\n",
      "True Negatives: 1142\n",
      "False Positives: 70\n",
      "False Negatives: 97\n",
      "Total 3139\n",
      "Precission:  0.506944444444\n",
      "Recall:  0.429411764706\n",
      "F1 Score:  0.224842833636\n"
     ]
    }
   ],
   "source": [
    "true_positive = predictionAndLabels_train_mlp[(predictionAndLabels_train_mlp.label == 1) & (predictionAndLabels_train_mlp.prediction == 1.0)].count()\n",
    "true_negative = predictionAndLabels_train_mlp[(predictionAndLabels_train_mlp.label == 0) & (predictionAndLabels_train_mlp.prediction == 0.0)].count()\n",
    "false_positive = predictionAndLabels_train_mlp[(predictionAndLabels_train_mlp.label == 0) & (predictionAndLabels_train_mlp.prediction == 1.0)].count()\n",
    "false_negative = predictionAndLabels_train_mlp[(predictionAndLabels_train_mlp.label == 1) & (predictionAndLabels_train_mlp.prediction == 0.0)].count()\n",
    "print \"TRAIN METRICS - MULTI-LAYER PERCEPTRON CLASSIFIER\"\n",
    "print \"True Positives:\", true_positive\n",
    "print \"True Negatives:\", true_negative\n",
    "print \"False Positives:\", false_positive\n",
    "print \"False Negatives:\", false_negative\n",
    "print \"Total\", predictionAndLabels_train_mlp.count()\n",
    "precission = true_positive / float(true_positive + false_positive + 1)\n",
    "print \"Precission: \", precission\n",
    "recall = true_positive / float(true_positive + false_negative)\n",
    "print \"Recall: \", recall\n",
    "print \"F1 Score: \", (2*((precission * recall)/float(precission + recall+1)))\n",
    "print(\"*****************************************************************************\")\n",
    "true_positive = predictionAndLabels_test_mlp[(predictionAndLabels_test_mlp.label == 1) & (predictionAndLabels_test_mlp.prediction == 1.0)].count()\n",
    "true_negative = predictionAndLabels_test_mlp[(predictionAndLabels_test_mlp.label == 0) & (predictionAndLabels_test_mlp.prediction == 0.0)].count()\n",
    "false_positive = predictionAndLabels_test_mlp[(predictionAndLabels_test_mlp.label == 0) & (predictionAndLabels_test_mlp.prediction == 1.0)].count()\n",
    "false_negative = predictionAndLabels_test_mlp[(predictionAndLabels_test_mlp.label == 1) & (predictionAndLabels_test_mlp.prediction == 0.0)].count()\n",
    "print \"TEST METRICS - MULTI-LAYER PERCEPTRON CLASSIFIER\"\n",
    "print \"True Positives:\", true_positive\n",
    "print \"True Negatives:\", true_negative\n",
    "print \"False Positives:\", false_positive\n",
    "print \"False Negatives:\", false_negative\n",
    "print \"Total\", predictionAndLabels_train_mlp.count()\n",
    "precission = true_positive / (float(true_positive + false_positive) + 1)\n",
    "print \"Precission: \", precission\n",
    "recall = true_positive / float(true_positive + false_negative)\n",
    "print \"Recall: \", recall\n",
    "print \"F1 Score: \", (2*((precission * recall)/float(precission + recall+1)))"
   ]
  },
  {
   "cell_type": "markdown",
   "metadata": {},
   "source": [
    "![Linear SVM](../Images/lsvm.png)"
   ]
  },
  {
   "cell_type": "code",
   "execution_count": 102,
   "metadata": {
    "collapsed": true
   },
   "outputs": [],
   "source": [
    "from pyspark.ml.classification import LinearSVC\n",
    "lsvc = LinearSVC(maxIter=10, regParam=0.1)"
   ]
  },
  {
   "cell_type": "code",
   "execution_count": 103,
   "metadata": {
    "collapsed": true
   },
   "outputs": [],
   "source": [
    "lsvc_Pipeline = Pipeline(stages=preprocessiong_Stages+[lsvc]) \n",
    "lsvc_Pipeline_model = lsvc_Pipeline.fit(trainingData)"
   ]
  },
  {
   "cell_type": "code",
   "execution_count": 104,
   "metadata": {
    "collapsed": true
   },
   "outputs": [],
   "source": [
    "train_predictions_lsvc = lsvc_Pipeline_model.transform(trainingData)\n",
    "test_predictions_lsvc = lsvc_Pipeline_model.transform(testData)"
   ]
  },
  {
   "cell_type": "code",
   "execution_count": 105,
   "metadata": {},
   "outputs": [
    {
     "name": "stdout",
     "output_type": "stream",
     "text": [
      "Train set accuracy  = 0.888180949347\n",
      "Train Error = 0.111819\n",
      "Test set accuracy = 0.876989869754\n",
      "Test Error = 0.12301\n"
     ]
    }
   ],
   "source": [
    "from pyspark.ml.evaluation import MulticlassClassificationEvaluator\n",
    "predictionAndLabels_train_lsvc = train_predictions_lsvc.select(\"prediction\", \"label\")\n",
    "evaluator = MulticlassClassificationEvaluator(metricName=\"accuracy\")\n",
    "train_accuracy = evaluator.evaluate(predictionAndLabels_train_lsvc)\n",
    "print(\"Train set accuracy  = \" + str(train_accuracy))\n",
    "print(\"Train Error = %g\" % (1.0 - train_accuracy))\n",
    "\n",
    "predictionAndLabels_test_lsvc = test_predictions_lsvc.select(\"prediction\", \"label\")\n",
    "test_accuracy = evaluator.evaluate(predictionAndLabels_test_lsvc)\n",
    "print(\"Test set accuracy = \" + str(test_accuracy))\n",
    "print(\"Test Error = %g\" % (1.0 - test_accuracy))"
   ]
  },
  {
   "cell_type": "code",
   "execution_count": 106,
   "metadata": {},
   "outputs": [
    {
     "name": "stdout",
     "output_type": "stream",
     "text": [
      "TRAIN METRICS - Linear Support Vector Machine CLASSIFIER\n",
      "True Positives: 0\n",
      "True Negatives: 2788\n",
      "False Positives: 0\n",
      "False Negatives: 351\n",
      "Total 3139\n",
      "Precission:  0.0\n",
      "Recall:  0.0\n",
      "F1 Score:  0.0\n",
      "*****************************************************************************\n",
      "TEST METRICS - Linear Support Vector Machine CLASSIFIER\n",
      "True Positives: 0\n",
      "True Negatives: 1212\n",
      "False Positives: 0\n",
      "False Negatives: 170\n",
      "Total 3139\n",
      "Precission:  0.0\n",
      "Recall:  0.0\n",
      "F1 Score:  0.0\n"
     ]
    }
   ],
   "source": [
    "true_positive = predictionAndLabels_train_lsvc[(predictionAndLabels_train_lsvc.label == 1) & (predictionAndLabels_train_lsvc.prediction == 1.0)].count()\n",
    "true_negative = predictionAndLabels_train_lsvc[(predictionAndLabels_train_lsvc.label == 0) & (predictionAndLabels_train_lsvc.prediction == 0.0)].count()\n",
    "false_positive = predictionAndLabels_train_lsvc[(predictionAndLabels_train_lsvc.label == 0) & (predictionAndLabels_train_lsvc.prediction == 1.0)].count()\n",
    "false_negative = predictionAndLabels_train_lsvc[(predictionAndLabels_train_lsvc.label == 1) & (predictionAndLabels_train_lsvc.prediction == 0.0)].count()\n",
    "print \"TRAIN METRICS - Linear Support Vector Machine CLASSIFIER\"\n",
    "print \"True Positives:\", true_positive\n",
    "print \"True Negatives:\", true_negative\n",
    "print \"False Positives:\", false_positive\n",
    "print \"False Negatives:\", false_negative\n",
    "print \"Total\", predictionAndLabels_train_lsvc.count()\n",
    "precission = true_positive / float(true_positive + false_positive+1)\n",
    "print \"Precission: \", precission\n",
    "recall = true_positive / float(true_positive + false_negative)\n",
    "print \"Recall: \", recall\n",
    "print \"F1 Score: \", (2*((precission * recall)/float(precission + recall+1)))\n",
    "print(\"*****************************************************************************\")\n",
    "true_positive = predictionAndLabels_test_lsvc[(predictionAndLabels_test_lsvc.label == 1) & (predictionAndLabels_test_lsvc.prediction == 1.0)].count()\n",
    "true_negative = predictionAndLabels_test_lsvc[(predictionAndLabels_test_lsvc.label == 0) & (predictionAndLabels_test_lsvc.prediction == 0.0)].count()\n",
    "false_positive = predictionAndLabels_test_lsvc[(predictionAndLabels_test_lsvc.label == 0) & (predictionAndLabels_test_lsvc.prediction == 1.0)].count()\n",
    "false_negative = predictionAndLabels_test_lsvc[(predictionAndLabels_test_lsvc.label == 1) & (predictionAndLabels_test_lsvc.prediction == 0.0)].count()\n",
    "print \"TEST METRICS - Linear Support Vector Machine CLASSIFIER\"\n",
    "print \"True Positives:\", true_positive\n",
    "print \"True Negatives:\", true_negative\n",
    "print \"False Positives:\", false_positive\n",
    "print \"False Negatives:\", false_negative\n",
    "print \"Total\", predictionAndLabels_train_lsvc.count()\n",
    "precission = true_positive / float(true_positive + false_positive+1)\n",
    "print \"Precission: \", precission\n",
    "recall = true_positive / float(true_positive + false_negative)\n",
    "print \"Recall: \", recall\n",
    "print \"F1 Score: \", (2*((precission * recall)/float(precission + recall+1)))"
   ]
  },
  {
   "cell_type": "markdown",
   "metadata": {},
   "source": [
    "![Naive Bayes](../Images/nbc.png)"
   ]
  },
  {
   "cell_type": "code",
   "execution_count": 107,
   "metadata": {
    "collapsed": true
   },
   "outputs": [],
   "source": [
    "from pyspark.ml.classification import NaiveBayes\n",
    "nbc = NaiveBayes(smoothing=1.0, modelType=\"multinomial\")"
   ]
  },
  {
   "cell_type": "code",
   "execution_count": 108,
   "metadata": {
    "collapsed": true
   },
   "outputs": [],
   "source": [
    "nbc_Pipeline = Pipeline(stages=preprocessiong_Stages+[nbc]) \n",
    "nbc_Pipeline_model = nbc_Pipeline.fit(trainingData)"
   ]
  },
  {
   "cell_type": "code",
   "execution_count": 109,
   "metadata": {
    "collapsed": true
   },
   "outputs": [],
   "source": [
    "train_predictions_nbc = nbc_Pipeline_model.transform(trainingData)\n",
    "test_predictions_nbc = nbc_Pipeline_model.transform(testData)"
   ]
  },
  {
   "cell_type": "code",
   "execution_count": 110,
   "metadata": {},
   "outputs": [
    {
     "name": "stdout",
     "output_type": "stream",
     "text": [
      "Train set accuracy  = 0.882765211851\n",
      "Train Error = 0.117235\n",
      "Test set accuracy = 0.868306801737\n",
      "Test Error = 0.131693\n"
     ]
    }
   ],
   "source": [
    "from pyspark.ml.evaluation import MulticlassClassificationEvaluator\n",
    "predictionAndLabels_train_nbc = train_predictions_nbc.select(\"prediction\", \"label\")\n",
    "evaluator = MulticlassClassificationEvaluator(metricName=\"accuracy\")\n",
    "train_accuracy = evaluator.evaluate(predictionAndLabels_train_nbc)\n",
    "print(\"Train set accuracy  = \" + str(train_accuracy))\n",
    "print(\"Train Error = %g\" % (1.0 - train_accuracy))\n",
    "\n",
    "predictionAndLabels_test_nbc = test_predictions_nbc.select(\"prediction\", \"label\")\n",
    "test_accuracy = evaluator.evaluate(predictionAndLabels_test_nbc)\n",
    "print(\"Test set accuracy = \" + str(test_accuracy))\n",
    "print(\"Test Error = %g\" % (1.0 - test_accuracy))"
   ]
  },
  {
   "cell_type": "code",
   "execution_count": 111,
   "metadata": {},
   "outputs": [
    {
     "name": "stdout",
     "output_type": "stream",
     "text": [
      "TRAIN METRICS - Naive Bayes CLASSIFIER\n",
      "True Positives: 54\n",
      "True Negatives: 2717\n",
      "False Positives: 71\n",
      "False Negatives: 297\n",
      "Total 3139\n",
      "Precission:  0.432\n",
      "Recall:  0.153846153846\n",
      "F1 Score:  0.226890756303\n",
      "*****************************************************************************\n",
      "TEST METRICS - Naive Bayes CLASSIFIER\n",
      "True Positives: 24\n",
      "True Negatives: 1176\n",
      "False Positives: 36\n",
      "False Negatives: 146\n",
      "Total 3139\n",
      "Precission:  0.4\n",
      "Recall:  0.141176470588\n",
      "F1 Score:  0.208695652174\n"
     ]
    }
   ],
   "source": [
    "true_negative = predictionAndLabels_train_nbc[(predictionAndLabels_train_nbc.label == 0) & (predictionAndLabels_train_nbc.prediction == 0.0)].count()\n",
    "true_positive = predictionAndLabels_train_nbc[(predictionAndLabels_train_nbc.label == 1) & (predictionAndLabels_train_nbc.prediction == 1.0)].count()\n",
    "false_positive = predictionAndLabels_train_nbc[(predictionAndLabels_train_nbc.label == 0) & (predictionAndLabels_train_nbc.prediction == 1.0)].count()\n",
    "false_negative = predictionAndLabels_train_nbc[(predictionAndLabels_train_nbc.label == 1) & (predictionAndLabels_train_nbc.prediction == 0.0)].count()\n",
    "print \"TRAIN METRICS - Naive Bayes CLASSIFIER\"\n",
    "print \"True Positives:\", true_positive\n",
    "print \"True Negatives:\", true_negative\n",
    "print \"False Positives:\", false_positive\n",
    "print \"False Negatives:\", false_negative\n",
    "print \"Total\", predictionAndLabels_train_nbc.count()\n",
    "precission = true_positive / float(true_positive + false_positive)\n",
    "print \"Precission: \", precission\n",
    "recall = true_positive / float(true_positive + false_negative)\n",
    "print \"Recall: \", recall\n",
    "print \"F1 Score: \", (2*((precission * recall)/float(precission + recall)))\n",
    "print(\"*****************************************************************************\")\n",
    "true_positive = predictionAndLabels_test_nbc[(predictionAndLabels_test_nbc.label == 1) & (predictionAndLabels_test_nbc.prediction == 1.0)].count()\n",
    "true_negative = predictionAndLabels_test_nbc[(predictionAndLabels_test_nbc.label == 0) & (predictionAndLabels_test_nbc.prediction == 0.0)].count()\n",
    "false_positive = predictionAndLabels_test_nbc[(predictionAndLabels_test_nbc.label == 0) & (predictionAndLabels_test_nbc.prediction == 1.0)].count()\n",
    "false_negative = predictionAndLabels_test_nbc[(predictionAndLabels_test_nbc.label == 1) & (predictionAndLabels_test_nbc.prediction == 0.0)].count()\n",
    "print \"TEST METRICS - Naive Bayes CLASSIFIER\"\n",
    "print \"True Positives:\", true_positive\n",
    "print \"True Negatives:\", true_negative\n",
    "print \"False Positives:\", false_positive\n",
    "print \"False Negatives:\", false_negative\n",
    "print \"Total\", predictionAndLabels_train_nbc.count()\n",
    "precission = true_positive / float(true_positive + false_positive)\n",
    "print \"Precission: \", precission\n",
    "recall = true_positive / float(true_positive + false_negative)\n",
    "print \"Recall: \", recall\n",
    "print \"F1 Score: \", (2*((precission * recall)/float(precission + recall)))"
   ]
  }
 ],
 "metadata": {
  "kernelspec": {
   "display_name": "Python 3",
   "language": "python",
   "name": "python3"
  },
  "language_info": {
   "codemirror_mode": {
    "name": "ipython",
    "version": 3
   },
   "file_extension": ".py",
   "mimetype": "text/x-python",
   "name": "python",
   "nbconvert_exporter": "python",
   "pygments_lexer": "ipython3",
   "version": "3.6.2"
  }
 },
 "nbformat": 4,
 "nbformat_minor": 2
}
