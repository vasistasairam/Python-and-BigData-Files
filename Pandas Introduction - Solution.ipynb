{
 "cells": [
  {
   "cell_type": "markdown",
   "metadata": {},
   "source": [
    "# <center>**Pandas Introduction**</center>\n",
    "---\n",
    "\n",
    "<br>\n"
   ]
  },
  {
   "cell_type": "markdown",
   "metadata": {
    "collapsed": true
   },
   "source": [
    "## **Pandas DataFrame**\n"
   ]
  },
  {
   "cell_type": "code",
   "execution_count": 37,
   "metadata": {},
   "outputs": [],
   "source": [
    "# import pandas\n",
    "import pandas as pd"
   ]
  },
  {
   "cell_type": "markdown",
   "metadata": {},
   "source": [
    "## **Reading data**"
   ]
  },
  {
   "cell_type": "code",
   "execution_count": 38,
   "metadata": {},
   "outputs": [],
   "source": [
    "# Read data from csv file\n",
    "ipl = pd.read_csv('matches2008-2016.csv')\n",
    "ipl_new = pd.read_csv('matches2017.csv')"
   ]
  },
  {
   "cell_type": "markdown",
   "metadata": {},
   "source": [
    "## **Checking data dimentions**"
   ]
  },
  {
   "cell_type": "code",
   "execution_count": 39,
   "metadata": {},
   "outputs": [
    {
     "name": "stdout",
     "output_type": "stream",
     "text": [
      "(577, 19)\n",
      "(59, 19)\n"
     ]
    }
   ],
   "source": [
    "print(ipl.shape)\n",
    "print(ipl_new.shape)"
   ]
  },
  {
   "cell_type": "markdown",
   "metadata": {},
   "source": [
    "## **Appending DataFrame**"
   ]
  },
  {
   "cell_type": "code",
   "execution_count": 40,
   "metadata": {},
   "outputs": [
    {
     "name": "stdout",
     "output_type": "stream",
     "text": [
      "(636, 19)\n"
     ]
    }
   ],
   "source": [
    "ipl_final = ipl.copy()             # Explicitly creating a copy of ipl. Just to make sure you don't modify your original data\n",
    "ipl_final = ipl_final.append(ipl_new)\n",
    "print(ipl_final.shape)"
   ]
  },
  {
   "cell_type": "markdown",
   "metadata": {},
   "source": [
    "## **Data Inspection**"
   ]
  },
  {
   "cell_type": "code",
   "execution_count": 41,
   "metadata": {},
   "outputs": [
    {
     "name": "stdout",
     "output_type": "stream",
     "text": [
      "(636, 19)\n"
     ]
    }
   ],
   "source": [
    "## .shape gives dimentions of Data\n",
    "print(ipl_final.shape)                            # dim() in R - Dimentions of data"
   ]
  },
  {
   "cell_type": "code",
   "execution_count": 55,
   "metadata": {},
   "outputs": [
    {
     "data": {
      "text/html": [
       "<div>\n",
       "<style scoped>\n",
       "    .dataframe tbody tr th:only-of-type {\n",
       "        vertical-align: middle;\n",
       "    }\n",
       "\n",
       "    .dataframe tbody tr th {\n",
       "        vertical-align: top;\n",
       "    }\n",
       "\n",
       "    .dataframe thead th {\n",
       "        text-align: right;\n",
       "    }\n",
       "</style>\n",
       "<table border=\"1\" class=\"dataframe\">\n",
       "  <thead>\n",
       "    <tr style=\"text-align: right;\">\n",
       "      <th></th>\n",
       "      <th>match_id</th>\n",
       "      <th>season</th>\n",
       "      <th>city</th>\n",
       "      <th>date</th>\n",
       "      <th>team1_id</th>\n",
       "      <th>team2_id</th>\n",
       "      <th>toss_winner</th>\n",
       "      <th>toss_decision</th>\n",
       "      <th>result</th>\n",
       "      <th>dl_applied</th>\n",
       "      <th>winner</th>\n",
       "      <th>win_by_runs</th>\n",
       "      <th>win_by_wickets</th>\n",
       "      <th>player_of_match</th>\n",
       "      <th>player_of_match_id</th>\n",
       "      <th>venue</th>\n",
       "      <th>venue_id</th>\n",
       "      <th>umpire1</th>\n",
       "      <th>umpire2</th>\n",
       "    </tr>\n",
       "  </thead>\n",
       "  <tbody>\n",
       "    <tr>\n",
       "      <th>0</th>\n",
       "      <td>2008_1</td>\n",
       "      <td>2008</td>\n",
       "      <td>Bangalore</td>\n",
       "      <td>18-04-2008</td>\n",
       "      <td>KKR</td>\n",
       "      <td>RCB</td>\n",
       "      <td>RCB</td>\n",
       "      <td>field</td>\n",
       "      <td>normal</td>\n",
       "      <td>0</td>\n",
       "      <td>KKR</td>\n",
       "      <td>140</td>\n",
       "      <td>0</td>\n",
       "      <td>Brendon McCullum</td>\n",
       "      <td>82.0</td>\n",
       "      <td>M.Chinnaswamy Stadium Bengaluru, Karnataka</td>\n",
       "      <td>7</td>\n",
       "      <td>Asad Rauf</td>\n",
       "      <td>RE Koertzen</td>\n",
       "    </tr>\n",
       "    <tr>\n",
       "      <th>1</th>\n",
       "      <td>2008_2</td>\n",
       "      <td>2008</td>\n",
       "      <td>Chandigarh</td>\n",
       "      <td>19-04-2008</td>\n",
       "      <td>CSK</td>\n",
       "      <td>KXI</td>\n",
       "      <td>CSK</td>\n",
       "      <td>bat</td>\n",
       "      <td>normal</td>\n",
       "      <td>0</td>\n",
       "      <td>CSK</td>\n",
       "      <td>33</td>\n",
       "      <td>0</td>\n",
       "      <td>Michael Hussey</td>\n",
       "      <td>18.0</td>\n",
       "      <td>I.S. Bindra Punjab Cricket Association Stadium...</td>\n",
       "      <td>9</td>\n",
       "      <td>MR Benson</td>\n",
       "      <td>SL Shastri</td>\n",
       "    </tr>\n",
       "    <tr>\n",
       "      <th>2</th>\n",
       "      <td>2008_3</td>\n",
       "      <td>2008</td>\n",
       "      <td>Delhi</td>\n",
       "      <td>19-04-2008</td>\n",
       "      <td>RR</td>\n",
       "      <td>DD</td>\n",
       "      <td>RR</td>\n",
       "      <td>bat</td>\n",
       "      <td>normal</td>\n",
       "      <td>0</td>\n",
       "      <td>DD</td>\n",
       "      <td>0</td>\n",
       "      <td>9</td>\n",
       "      <td>Farveez Maharoof</td>\n",
       "      <td>60.0</td>\n",
       "      <td>Feroz Shah Kotla Stadium, Delhi</td>\n",
       "      <td>2</td>\n",
       "      <td>Aleem Dar</td>\n",
       "      <td>GA Pratapkumar</td>\n",
       "    </tr>\n",
       "  </tbody>\n",
       "</table>\n",
       "</div>"
      ],
      "text/plain": [
       "  match_id  season        city        date team1_id team2_id toss_winner  \\\n",
       "0   2008_1    2008   Bangalore  18-04-2008      KKR      RCB         RCB   \n",
       "1   2008_2    2008  Chandigarh  19-04-2008      CSK      KXI         CSK   \n",
       "2   2008_3    2008       Delhi  19-04-2008       RR       DD          RR   \n",
       "\n",
       "  toss_decision  result  dl_applied winner  win_by_runs  win_by_wickets  \\\n",
       "0         field  normal           0    KKR          140               0   \n",
       "1           bat  normal           0    CSK           33               0   \n",
       "2           bat  normal           0     DD            0               9   \n",
       "\n",
       "    player_of_match  player_of_match_id  \\\n",
       "0  Brendon McCullum                82.0   \n",
       "1    Michael Hussey                18.0   \n",
       "2  Farveez Maharoof                60.0   \n",
       "\n",
       "                                               venue  venue_id    umpire1  \\\n",
       "0         M.Chinnaswamy Stadium Bengaluru, Karnataka         7  Asad Rauf   \n",
       "1  I.S. Bindra Punjab Cricket Association Stadium...         9  MR Benson   \n",
       "2                    Feroz Shah Kotla Stadium, Delhi         2  Aleem Dar   \n",
       "\n",
       "          umpire2  \n",
       "0     RE Koertzen  \n",
       "1      SL Shastri  \n",
       "2  GA Pratapkumar  "
      ]
     },
     "execution_count": 55,
     "metadata": {},
     "output_type": "execute_result"
    }
   ],
   "source": [
    "## Getting top 3 rows\n",
    "ipl_final.head(3)"
   ]
  },
  {
   "cell_type": "code",
   "execution_count": 56,
   "metadata": {},
   "outputs": [
    {
     "name": "stdout",
     "output_type": "stream",
     "text": [
      "Index(['match_id', 'season', 'city', 'date', 'team1_id', 'team2_id',\n",
      "       'toss_winner', 'toss_decision', 'result', 'dl_applied', 'winner',\n",
      "       'win_by_runs', 'win_by_wickets', 'player_of_match',\n",
      "       'player_of_match_id', 'venue', 'venue_id', 'umpire1', 'umpire2'],\n",
      "      dtype='object')\n"
     ]
    }
   ],
   "source": [
    "## .columns gives column names\n",
    "print(ipl_final.columns)                          # colnames() in R - Column Namesprint(list(df.index)[:10])"
   ]
  },
  {
   "cell_type": "code",
   "execution_count": 57,
   "metadata": {},
   "outputs": [
    {
     "name": "stdout",
     "output_type": "stream",
     "text": [
      "match_id               object\n",
      "season                  int64\n",
      "city                   object\n",
      "date                   object\n",
      "team1_id               object\n",
      "team2_id               object\n",
      "toss_winner            object\n",
      "toss_decision          object\n",
      "result                 object\n",
      "dl_applied              int64\n",
      "winner                 object\n",
      "win_by_runs             int64\n",
      "win_by_wickets          int64\n",
      "player_of_match        object\n",
      "player_of_match_id    float64\n",
      "venue                  object\n",
      "venue_id                int64\n",
      "umpire1                object\n",
      "umpire2                object\n",
      "dtype: object\n"
     ]
    }
   ],
   "source": [
    "## .dtypes gives data types for each column\n",
    "print(ipl_final.dtypes)                           # str() in R - Data types"
   ]
  },
  {
   "cell_type": "markdown",
   "metadata": {},
   "source": [
    "<br><br>\n",
    "## **Seting match_id as row index** (rarely used)"
   ]
  },
  {
   "cell_type": "code",
   "execution_count": 58,
   "metadata": {},
   "outputs": [],
   "source": [
    "ipl_final.set_index(['match_id'],inplace=True)"
   ]
  },
  {
   "cell_type": "markdown",
   "metadata": {},
   "source": [
    "## **Summary statistics**"
   ]
  },
  {
   "cell_type": "code",
   "execution_count": 59,
   "metadata": {},
   "outputs": [
    {
     "data": {
      "text/html": [
       "<div>\n",
       "<style scoped>\n",
       "    .dataframe tbody tr th:only-of-type {\n",
       "        vertical-align: middle;\n",
       "    }\n",
       "\n",
       "    .dataframe tbody tr th {\n",
       "        vertical-align: top;\n",
       "    }\n",
       "\n",
       "    .dataframe thead th {\n",
       "        text-align: right;\n",
       "    }\n",
       "</style>\n",
       "<table border=\"1\" class=\"dataframe\">\n",
       "  <thead>\n",
       "    <tr style=\"text-align: right;\">\n",
       "      <th></th>\n",
       "      <th>season</th>\n",
       "      <th>dl_applied</th>\n",
       "      <th>win_by_runs</th>\n",
       "      <th>win_by_wickets</th>\n",
       "      <th>player_of_match_id</th>\n",
       "    </tr>\n",
       "  </thead>\n",
       "  <tbody>\n",
       "    <tr>\n",
       "      <th>count</th>\n",
       "      <td>574.000000</td>\n",
       "      <td>574.000000</td>\n",
       "      <td>574.000000</td>\n",
       "      <td>574.000000</td>\n",
       "      <td>571.000000</td>\n",
       "    </tr>\n",
       "    <tr>\n",
       "      <th>mean</th>\n",
       "      <td>2012.045296</td>\n",
       "      <td>0.026132</td>\n",
       "      <td>13.491289</td>\n",
       "      <td>3.381533</td>\n",
       "      <td>188.208406</td>\n",
       "    </tr>\n",
       "    <tr>\n",
       "      <th>std</th>\n",
       "      <td>2.482336</td>\n",
       "      <td>0.159668</td>\n",
       "      <td>23.083484</td>\n",
       "      <td>3.416275</td>\n",
       "      <td>163.481284</td>\n",
       "    </tr>\n",
       "    <tr>\n",
       "      <th>min</th>\n",
       "      <td>2008.000000</td>\n",
       "      <td>0.000000</td>\n",
       "      <td>0.000000</td>\n",
       "      <td>0.000000</td>\n",
       "      <td>1.000000</td>\n",
       "    </tr>\n",
       "    <tr>\n",
       "      <th>25%</th>\n",
       "      <td>2010.000000</td>\n",
       "      <td>0.000000</td>\n",
       "      <td>0.000000</td>\n",
       "      <td>0.000000</td>\n",
       "      <td>59.000000</td>\n",
       "    </tr>\n",
       "    <tr>\n",
       "      <th>50%</th>\n",
       "      <td>2012.000000</td>\n",
       "      <td>0.000000</td>\n",
       "      <td>0.000000</td>\n",
       "      <td>4.000000</td>\n",
       "      <td>148.000000</td>\n",
       "    </tr>\n",
       "    <tr>\n",
       "      <th>75%</th>\n",
       "      <td>2014.000000</td>\n",
       "      <td>0.000000</td>\n",
       "      <td>20.000000</td>\n",
       "      <td>6.750000</td>\n",
       "      <td>282.000000</td>\n",
       "    </tr>\n",
       "    <tr>\n",
       "      <th>max</th>\n",
       "      <td>2016.000000</td>\n",
       "      <td>1.000000</td>\n",
       "      <td>144.000000</td>\n",
       "      <td>10.000000</td>\n",
       "      <td>691.000000</td>\n",
       "    </tr>\n",
       "  </tbody>\n",
       "</table>\n",
       "</div>"
      ],
      "text/plain": [
       "            season  dl_applied  win_by_runs  win_by_wickets  \\\n",
       "count   574.000000  574.000000   574.000000      574.000000   \n",
       "mean   2012.045296    0.026132    13.491289        3.381533   \n",
       "std       2.482336    0.159668    23.083484        3.416275   \n",
       "min    2008.000000    0.000000     0.000000        0.000000   \n",
       "25%    2010.000000    0.000000     0.000000        0.000000   \n",
       "50%    2012.000000    0.000000     0.000000        4.000000   \n",
       "75%    2014.000000    0.000000    20.000000        6.750000   \n",
       "max    2016.000000    1.000000   144.000000       10.000000   \n",
       "\n",
       "       player_of_match_id  \n",
       "count          571.000000  \n",
       "mean           188.208406  \n",
       "std            163.481284  \n",
       "min              1.000000  \n",
       "25%             59.000000  \n",
       "50%            148.000000  \n",
       "75%            282.000000  \n",
       "max            691.000000  "
      ]
     },
     "execution_count": 59,
     "metadata": {},
     "output_type": "execute_result"
    }
   ],
   "source": [
    "ipl.describe()"
   ]
  },
  {
   "cell_type": "markdown",
   "metadata": {},
   "source": [
    "## **Dropping columns**"
   ]
  },
  {
   "cell_type": "code",
   "execution_count": 60,
   "metadata": {},
   "outputs": [
    {
     "data": {
      "text/html": [
       "<div>\n",
       "<style scoped>\n",
       "    .dataframe tbody tr th:only-of-type {\n",
       "        vertical-align: middle;\n",
       "    }\n",
       "\n",
       "    .dataframe tbody tr th {\n",
       "        vertical-align: top;\n",
       "    }\n",
       "\n",
       "    .dataframe thead th {\n",
       "        text-align: right;\n",
       "    }\n",
       "</style>\n",
       "<table border=\"1\" class=\"dataframe\">\n",
       "  <thead>\n",
       "    <tr style=\"text-align: right;\">\n",
       "      <th></th>\n",
       "      <th>season</th>\n",
       "      <th>city</th>\n",
       "      <th>date</th>\n",
       "      <th>team1_id</th>\n",
       "      <th>team2_id</th>\n",
       "      <th>toss_winner</th>\n",
       "      <th>toss_decision</th>\n",
       "      <th>result</th>\n",
       "      <th>dl_applied</th>\n",
       "      <th>winner</th>\n",
       "      <th>win_by_runs</th>\n",
       "      <th>win_by_wickets</th>\n",
       "      <th>player_of_match</th>\n",
       "      <th>player_of_match_id</th>\n",
       "      <th>venue</th>\n",
       "      <th>umpire1</th>\n",
       "      <th>umpire2</th>\n",
       "    </tr>\n",
       "    <tr>\n",
       "      <th>match_id</th>\n",
       "      <th></th>\n",
       "      <th></th>\n",
       "      <th></th>\n",
       "      <th></th>\n",
       "      <th></th>\n",
       "      <th></th>\n",
       "      <th></th>\n",
       "      <th></th>\n",
       "      <th></th>\n",
       "      <th></th>\n",
       "      <th></th>\n",
       "      <th></th>\n",
       "      <th></th>\n",
       "      <th></th>\n",
       "      <th></th>\n",
       "      <th></th>\n",
       "      <th></th>\n",
       "    </tr>\n",
       "  </thead>\n",
       "  <tbody>\n",
       "    <tr>\n",
       "      <th>2008_2</th>\n",
       "      <td>2008</td>\n",
       "      <td>Chandigarh</td>\n",
       "      <td>19-04-2008</td>\n",
       "      <td>CSK</td>\n",
       "      <td>KXI</td>\n",
       "      <td>CSK</td>\n",
       "      <td>bat</td>\n",
       "      <td>normal</td>\n",
       "      <td>0</td>\n",
       "      <td>CSK</td>\n",
       "      <td>33</td>\n",
       "      <td>0</td>\n",
       "      <td>Michael Hussey</td>\n",
       "      <td>18.0</td>\n",
       "      <td>I.S. Bindra Punjab Cricket Association Stadium...</td>\n",
       "      <td>MR Benson</td>\n",
       "      <td>SL Shastri</td>\n",
       "    </tr>\n",
       "    <tr>\n",
       "      <th>2008_3</th>\n",
       "      <td>2008</td>\n",
       "      <td>Delhi</td>\n",
       "      <td>19-04-2008</td>\n",
       "      <td>RR</td>\n",
       "      <td>DD</td>\n",
       "      <td>RR</td>\n",
       "      <td>bat</td>\n",
       "      <td>normal</td>\n",
       "      <td>0</td>\n",
       "      <td>DD</td>\n",
       "      <td>0</td>\n",
       "      <td>9</td>\n",
       "      <td>Farveez Maharoof</td>\n",
       "      <td>60.0</td>\n",
       "      <td>Feroz Shah Kotla Stadium, Delhi</td>\n",
       "      <td>Aleem Dar</td>\n",
       "      <td>GA Pratapkumar</td>\n",
       "    </tr>\n",
       "    <tr>\n",
       "      <th>2008_4</th>\n",
       "      <td>2008</td>\n",
       "      <td>Mumbai</td>\n",
       "      <td>20-04-2008</td>\n",
       "      <td>MI</td>\n",
       "      <td>RCB</td>\n",
       "      <td>MI</td>\n",
       "      <td>bat</td>\n",
       "      <td>normal</td>\n",
       "      <td>0</td>\n",
       "      <td>RCB</td>\n",
       "      <td>0</td>\n",
       "      <td>5</td>\n",
       "      <td>Mark Boucher</td>\n",
       "      <td>145.0</td>\n",
       "      <td>Wankhede Stadium, Mumbai, Maharashtra</td>\n",
       "      <td>SJ Davis</td>\n",
       "      <td>DJ Harper</td>\n",
       "    </tr>\n",
       "  </tbody>\n",
       "</table>\n",
       "</div>"
      ],
      "text/plain": [
       "          season        city        date team1_id team2_id toss_winner  \\\n",
       "match_id                                                                 \n",
       "2008_2      2008  Chandigarh  19-04-2008      CSK      KXI         CSK   \n",
       "2008_3      2008       Delhi  19-04-2008       RR       DD          RR   \n",
       "2008_4      2008      Mumbai  20-04-2008       MI      RCB          MI   \n",
       "\n",
       "         toss_decision  result  dl_applied winner  win_by_runs  \\\n",
       "match_id                                                         \n",
       "2008_2             bat  normal           0    CSK           33   \n",
       "2008_3             bat  normal           0     DD            0   \n",
       "2008_4             bat  normal           0    RCB            0   \n",
       "\n",
       "          win_by_wickets   player_of_match  player_of_match_id  \\\n",
       "match_id                                                         \n",
       "2008_2                 0    Michael Hussey                18.0   \n",
       "2008_3                 9  Farveez Maharoof                60.0   \n",
       "2008_4                 5      Mark Boucher               145.0   \n",
       "\n",
       "                                                      venue    umpire1  \\\n",
       "match_id                                                                 \n",
       "2008_2    I.S. Bindra Punjab Cricket Association Stadium...  MR Benson   \n",
       "2008_3                      Feroz Shah Kotla Stadium, Delhi  Aleem Dar   \n",
       "2008_4                Wankhede Stadium, Mumbai, Maharashtra   SJ Davis   \n",
       "\n",
       "                 umpire2  \n",
       "match_id                  \n",
       "2008_2        SL Shastri  \n",
       "2008_3    GA Pratapkumar  \n",
       "2008_4         DJ Harper  "
      ]
     },
     "execution_count": 60,
     "metadata": {},
     "output_type": "execute_result"
    }
   ],
   "source": [
    "# Dropping Column\n",
    "ipl_final.drop(['venue_id'], axis=1, inplace=True)    # Axis = 1 for columns\n",
    "\n",
    "ipl.head(3)"
   ]
  },
  {
   "cell_type": "markdown",
   "metadata": {},
   "source": [
    "## **Dropping row**"
   ]
  },
  {
   "cell_type": "code",
   "execution_count": 61,
   "metadata": {},
   "outputs": [
    {
     "data": {
      "text/html": [
       "<div>\n",
       "<style scoped>\n",
       "    .dataframe tbody tr th:only-of-type {\n",
       "        vertical-align: middle;\n",
       "    }\n",
       "\n",
       "    .dataframe tbody tr th {\n",
       "        vertical-align: top;\n",
       "    }\n",
       "\n",
       "    .dataframe thead th {\n",
       "        text-align: right;\n",
       "    }\n",
       "</style>\n",
       "<table border=\"1\" class=\"dataframe\">\n",
       "  <thead>\n",
       "    <tr style=\"text-align: right;\">\n",
       "      <th></th>\n",
       "      <th>season</th>\n",
       "      <th>city</th>\n",
       "      <th>date</th>\n",
       "      <th>team1_id</th>\n",
       "      <th>team2_id</th>\n",
       "      <th>toss_winner</th>\n",
       "      <th>toss_decision</th>\n",
       "      <th>result</th>\n",
       "      <th>dl_applied</th>\n",
       "      <th>winner</th>\n",
       "      <th>win_by_runs</th>\n",
       "      <th>win_by_wickets</th>\n",
       "      <th>player_of_match</th>\n",
       "      <th>player_of_match_id</th>\n",
       "      <th>venue</th>\n",
       "      <th>umpire1</th>\n",
       "      <th>umpire2</th>\n",
       "    </tr>\n",
       "    <tr>\n",
       "      <th>match_id</th>\n",
       "      <th></th>\n",
       "      <th></th>\n",
       "      <th></th>\n",
       "      <th></th>\n",
       "      <th></th>\n",
       "      <th></th>\n",
       "      <th></th>\n",
       "      <th></th>\n",
       "      <th></th>\n",
       "      <th></th>\n",
       "      <th></th>\n",
       "      <th></th>\n",
       "      <th></th>\n",
       "      <th></th>\n",
       "      <th></th>\n",
       "      <th></th>\n",
       "      <th></th>\n",
       "    </tr>\n",
       "  </thead>\n",
       "  <tbody>\n",
       "    <tr>\n",
       "      <th>2008_2</th>\n",
       "      <td>2008</td>\n",
       "      <td>Chandigarh</td>\n",
       "      <td>19-04-2008</td>\n",
       "      <td>CSK</td>\n",
       "      <td>KXI</td>\n",
       "      <td>CSK</td>\n",
       "      <td>bat</td>\n",
       "      <td>normal</td>\n",
       "      <td>0</td>\n",
       "      <td>CSK</td>\n",
       "      <td>33</td>\n",
       "      <td>0</td>\n",
       "      <td>Michael Hussey</td>\n",
       "      <td>18.0</td>\n",
       "      <td>I.S. Bindra Punjab Cricket Association Stadium...</td>\n",
       "      <td>MR Benson</td>\n",
       "      <td>SL Shastri</td>\n",
       "    </tr>\n",
       "    <tr>\n",
       "      <th>2008_3</th>\n",
       "      <td>2008</td>\n",
       "      <td>Delhi</td>\n",
       "      <td>19-04-2008</td>\n",
       "      <td>RR</td>\n",
       "      <td>DD</td>\n",
       "      <td>RR</td>\n",
       "      <td>bat</td>\n",
       "      <td>normal</td>\n",
       "      <td>0</td>\n",
       "      <td>DD</td>\n",
       "      <td>0</td>\n",
       "      <td>9</td>\n",
       "      <td>Farveez Maharoof</td>\n",
       "      <td>60.0</td>\n",
       "      <td>Feroz Shah Kotla Stadium, Delhi</td>\n",
       "      <td>Aleem Dar</td>\n",
       "      <td>GA Pratapkumar</td>\n",
       "    </tr>\n",
       "    <tr>\n",
       "      <th>2008_4</th>\n",
       "      <td>2008</td>\n",
       "      <td>Mumbai</td>\n",
       "      <td>20-04-2008</td>\n",
       "      <td>MI</td>\n",
       "      <td>RCB</td>\n",
       "      <td>MI</td>\n",
       "      <td>bat</td>\n",
       "      <td>normal</td>\n",
       "      <td>0</td>\n",
       "      <td>RCB</td>\n",
       "      <td>0</td>\n",
       "      <td>5</td>\n",
       "      <td>Mark Boucher</td>\n",
       "      <td>145.0</td>\n",
       "      <td>Wankhede Stadium, Mumbai, Maharashtra</td>\n",
       "      <td>SJ Davis</td>\n",
       "      <td>DJ Harper</td>\n",
       "    </tr>\n",
       "  </tbody>\n",
       "</table>\n",
       "</div>"
      ],
      "text/plain": [
       "          season        city        date team1_id team2_id toss_winner  \\\n",
       "match_id                                                                 \n",
       "2008_2      2008  Chandigarh  19-04-2008      CSK      KXI         CSK   \n",
       "2008_3      2008       Delhi  19-04-2008       RR       DD          RR   \n",
       "2008_4      2008      Mumbai  20-04-2008       MI      RCB          MI   \n",
       "\n",
       "         toss_decision  result  dl_applied winner  win_by_runs  \\\n",
       "match_id                                                         \n",
       "2008_2             bat  normal           0    CSK           33   \n",
       "2008_3             bat  normal           0     DD            0   \n",
       "2008_4             bat  normal           0    RCB            0   \n",
       "\n",
       "          win_by_wickets   player_of_match  player_of_match_id  \\\n",
       "match_id                                                         \n",
       "2008_2                 0    Michael Hussey                18.0   \n",
       "2008_3                 9  Farveez Maharoof                60.0   \n",
       "2008_4                 5      Mark Boucher               145.0   \n",
       "\n",
       "                                                      venue    umpire1  \\\n",
       "match_id                                                                 \n",
       "2008_2    I.S. Bindra Punjab Cricket Association Stadium...  MR Benson   \n",
       "2008_3                      Feroz Shah Kotla Stadium, Delhi  Aleem Dar   \n",
       "2008_4                Wankhede Stadium, Mumbai, Maharashtra   SJ Davis   \n",
       "\n",
       "                 umpire2  \n",
       "match_id                  \n",
       "2008_2        SL Shastri  \n",
       "2008_3    GA Pratapkumar  \n",
       "2008_4         DJ Harper  "
      ]
     },
     "execution_count": 61,
     "metadata": {},
     "output_type": "execute_result"
    }
   ],
   "source": [
    "# Dropping rows\n",
    "ipl_final.drop(['2008_1','2009_1','2010_1'], axis=0, inplace=True)  # Axis = 0 for rows\n",
    "\n",
    "ipl.head(3)"
   ]
  },
  {
   "cell_type": "markdown",
   "metadata": {},
   "source": [
    "## **Frequency distribution**"
   ]
  },
  {
   "cell_type": "code",
   "execution_count": 62,
   "metadata": {},
   "outputs": [
    {
     "data": {
      "text/plain": [
       "MI     91\n",
       "CSK    79\n",
       "KKR    75\n",
       "RCB    73\n",
       "KXI    70\n",
       "RR     63\n",
       "DD     62\n",
       "SRH    42\n",
       "DC     29\n",
       "RPS    15\n",
       "GL     13\n",
       "PW     12\n",
       "KTK     6\n",
       "Name: winner, dtype: int64"
      ]
     },
     "execution_count": 62,
     "metadata": {},
     "output_type": "execute_result"
    }
   ],
   "source": [
    "ipl_final['winner'].value_counts()       # table() in R - Frequency count"
   ]
  },
  {
   "cell_type": "markdown",
   "metadata": {},
   "source": [
    "## **loc (to subset data by Row/Column labels)**"
   ]
  },
  {
   "cell_type": "code",
   "execution_count": 71,
   "metadata": {},
   "outputs": [
    {
     "data": {
      "text/html": [
       "<div>\n",
       "<style scoped>\n",
       "    .dataframe tbody tr th:only-of-type {\n",
       "        vertical-align: middle;\n",
       "    }\n",
       "\n",
       "    .dataframe tbody tr th {\n",
       "        vertical-align: top;\n",
       "    }\n",
       "\n",
       "    .dataframe thead th {\n",
       "        text-align: right;\n",
       "    }\n",
       "</style>\n",
       "<table border=\"1\" class=\"dataframe\">\n",
       "  <thead>\n",
       "    <tr style=\"text-align: right;\">\n",
       "      <th></th>\n",
       "      <th>venue</th>\n",
       "      <th>winner</th>\n",
       "    </tr>\n",
       "    <tr>\n",
       "      <th>match_id</th>\n",
       "      <th></th>\n",
       "      <th></th>\n",
       "    </tr>\n",
       "  </thead>\n",
       "  <tbody>\n",
       "    <tr>\n",
       "      <th>2008_2</th>\n",
       "      <td>I.S. Bindra Punjab Cricket Association Stadium...</td>\n",
       "      <td>CSK</td>\n",
       "    </tr>\n",
       "    <tr>\n",
       "      <th>2008_3</th>\n",
       "      <td>Feroz Shah Kotla Stadium, Delhi</td>\n",
       "      <td>DD</td>\n",
       "    </tr>\n",
       "    <tr>\n",
       "      <th>2008_4</th>\n",
       "      <td>Wankhede Stadium, Mumbai, Maharashtra</td>\n",
       "      <td>RCB</td>\n",
       "    </tr>\n",
       "  </tbody>\n",
       "</table>\n",
       "</div>"
      ],
      "text/plain": [
       "                                                      venue winner\n",
       "match_id                                                          \n",
       "2008_2    I.S. Bindra Punjab Cricket Association Stadium...    CSK\n",
       "2008_3                      Feroz Shah Kotla Stadium, Delhi     DD\n",
       "2008_4                Wankhede Stadium, Mumbai, Maharashtra    RCB"
      ]
     },
     "execution_count": 71,
     "metadata": {},
     "output_type": "execute_result"
    }
   ],
   "source": [
    "## Label based indexing make more sense for column subsetting\n",
    "subset1 = ipl_final.loc[:,['venue','winner']]\n",
    "subset1.head(3)"
   ]
  },
  {
   "cell_type": "code",
   "execution_count": 73,
   "metadata": {},
   "outputs": [
    {
     "data": {
      "text/html": [
       "<div>\n",
       "<style scoped>\n",
       "    .dataframe tbody tr th:only-of-type {\n",
       "        vertical-align: middle;\n",
       "    }\n",
       "\n",
       "    .dataframe tbody tr th {\n",
       "        vertical-align: top;\n",
       "    }\n",
       "\n",
       "    .dataframe thead th {\n",
       "        text-align: right;\n",
       "    }\n",
       "</style>\n",
       "<table border=\"1\" class=\"dataframe\">\n",
       "  <thead>\n",
       "    <tr style=\"text-align: right;\">\n",
       "      <th></th>\n",
       "      <th>venue</th>\n",
       "      <th>winner</th>\n",
       "    </tr>\n",
       "    <tr>\n",
       "      <th>match_id</th>\n",
       "      <th></th>\n",
       "      <th></th>\n",
       "    </tr>\n",
       "  </thead>\n",
       "  <tbody>\n",
       "    <tr>\n",
       "      <th>2008_2</th>\n",
       "      <td>I.S. Bindra Punjab Cricket Association Stadium...</td>\n",
       "      <td>CSK</td>\n",
       "    </tr>\n",
       "    <tr>\n",
       "      <th>2009_2</th>\n",
       "      <td>Newlands</td>\n",
       "      <td>RCB</td>\n",
       "    </tr>\n",
       "    <tr>\n",
       "      <th>2010_2</th>\n",
       "      <td>Brabourne Stadium</td>\n",
       "      <td>MI</td>\n",
       "    </tr>\n",
       "  </tbody>\n",
       "</table>\n",
       "</div>"
      ],
      "text/plain": [
       "                                                      venue winner\n",
       "match_id                                                          \n",
       "2008_2    I.S. Bindra Punjab Cricket Association Stadium...    CSK\n",
       "2009_2                                             Newlands    RCB\n",
       "2010_2                                    Brabourne Stadium     MI"
      ]
     },
     "execution_count": 73,
     "metadata": {},
     "output_type": "execute_result"
    }
   ],
   "source": [
    "## For loc based subsetting using row and column indexer together is rare.\n",
    "subset2 = ipl_final.loc[['2008_2','2009_2','2010_2',],['venue','winner']]\n",
    "subset2.head(3)"
   ]
  },
  {
   "cell_type": "markdown",
   "metadata": {},
   "source": [
    "## **iloc    (to subset data based on Row/Column number)**"
   ]
  },
  {
   "cell_type": "code",
   "execution_count": 77,
   "metadata": {},
   "outputs": [
    {
     "data": {
      "text/html": [
       "<div>\n",
       "<style scoped>\n",
       "    .dataframe tbody tr th:only-of-type {\n",
       "        vertical-align: middle;\n",
       "    }\n",
       "\n",
       "    .dataframe tbody tr th {\n",
       "        vertical-align: top;\n",
       "    }\n",
       "\n",
       "    .dataframe thead th {\n",
       "        text-align: right;\n",
       "    }\n",
       "</style>\n",
       "<table border=\"1\" class=\"dataframe\">\n",
       "  <thead>\n",
       "    <tr style=\"text-align: right;\">\n",
       "      <th></th>\n",
       "      <th>city</th>\n",
       "      <th>date</th>\n",
       "      <th>team1_id</th>\n",
       "      <th>team2_id</th>\n",
       "    </tr>\n",
       "    <tr>\n",
       "      <th>match_id</th>\n",
       "      <th></th>\n",
       "      <th></th>\n",
       "      <th></th>\n",
       "      <th></th>\n",
       "    </tr>\n",
       "  </thead>\n",
       "  <tbody>\n",
       "    <tr>\n",
       "      <th>2008_52</th>\n",
       "      <td>Bangalore</td>\n",
       "      <td>03-05-2008</td>\n",
       "      <td>RCB</td>\n",
       "      <td>DC</td>\n",
       "    </tr>\n",
       "    <tr>\n",
       "      <th>2008_53</th>\n",
       "      <td>Kolkata</td>\n",
       "      <td>25-05-2008</td>\n",
       "      <td>KXI</td>\n",
       "      <td>KKR</td>\n",
       "    </tr>\n",
       "    <tr>\n",
       "      <th>2008_54</th>\n",
       "      <td>Jaipur</td>\n",
       "      <td>26-05-2008</td>\n",
       "      <td>MI</td>\n",
       "      <td>RR</td>\n",
       "    </tr>\n",
       "  </tbody>\n",
       "</table>\n",
       "</div>"
      ],
      "text/plain": [
       "               city        date team1_id team2_id\n",
       "match_id                                         \n",
       "2008_52   Bangalore  03-05-2008      RCB       DC\n",
       "2008_53     Kolkata  25-05-2008      KXI      KKR\n",
       "2008_54      Jaipur  26-05-2008       MI       RR"
      ]
     },
     "execution_count": 77,
     "metadata": {},
     "output_type": "execute_result"
    }
   ],
   "source": [
    "## Numeric based indexing usually makes sense for row subsetting \n",
    "ipl.iloc[50:53,1:5]"
   ]
  },
  {
   "cell_type": "markdown",
   "metadata": {},
   "source": [
    "## **Boolean indexing (to subset based on value in each cell of the column )**\n",
    "**Here we subsetting the data where the cell value in \"City\" column is equal to \"Hyderabad\"**"
   ]
  },
  {
   "cell_type": "code",
   "execution_count": 85,
   "metadata": {},
   "outputs": [
    {
     "data": {
      "text/html": [
       "<div>\n",
       "<style scoped>\n",
       "    .dataframe tbody tr th:only-of-type {\n",
       "        vertical-align: middle;\n",
       "    }\n",
       "\n",
       "    .dataframe tbody tr th {\n",
       "        vertical-align: top;\n",
       "    }\n",
       "\n",
       "    .dataframe thead th {\n",
       "        text-align: right;\n",
       "    }\n",
       "</style>\n",
       "<table border=\"1\" class=\"dataframe\">\n",
       "  <thead>\n",
       "    <tr style=\"text-align: right;\">\n",
       "      <th></th>\n",
       "      <th>season</th>\n",
       "      <th>city</th>\n",
       "      <th>date</th>\n",
       "      <th>team1_id</th>\n",
       "      <th>team2_id</th>\n",
       "      <th>toss_winner</th>\n",
       "      <th>toss_decision</th>\n",
       "      <th>result</th>\n",
       "      <th>dl_applied</th>\n",
       "      <th>winner</th>\n",
       "      <th>win_by_runs</th>\n",
       "      <th>win_by_wickets</th>\n",
       "      <th>player_of_match</th>\n",
       "      <th>player_of_match_id</th>\n",
       "      <th>venue</th>\n",
       "      <th>umpire1</th>\n",
       "      <th>umpire2</th>\n",
       "    </tr>\n",
       "    <tr>\n",
       "      <th>match_id</th>\n",
       "      <th></th>\n",
       "      <th></th>\n",
       "      <th></th>\n",
       "      <th></th>\n",
       "      <th></th>\n",
       "      <th></th>\n",
       "      <th></th>\n",
       "      <th></th>\n",
       "      <th></th>\n",
       "      <th></th>\n",
       "      <th></th>\n",
       "      <th></th>\n",
       "      <th></th>\n",
       "      <th></th>\n",
       "      <th></th>\n",
       "      <th></th>\n",
       "      <th></th>\n",
       "    </tr>\n",
       "  </thead>\n",
       "  <tbody>\n",
       "    <tr>\n",
       "      <th>2008_7</th>\n",
       "      <td>2008</td>\n",
       "      <td>Hyderabad</td>\n",
       "      <td>22-04-2008</td>\n",
       "      <td>DC</td>\n",
       "      <td>DD</td>\n",
       "      <td>DC</td>\n",
       "      <td>bat</td>\n",
       "      <td>normal</td>\n",
       "      <td>0</td>\n",
       "      <td>DD</td>\n",
       "      <td>0</td>\n",
       "      <td>9</td>\n",
       "      <td>Virender Sehwag</td>\n",
       "      <td>46.0</td>\n",
       "      <td>Rajiv Gandhi International Stadium, Hyderabad</td>\n",
       "      <td>IL Howell</td>\n",
       "      <td>AM Saheba</td>\n",
       "    </tr>\n",
       "    <tr>\n",
       "      <th>2008_9</th>\n",
       "      <td>2008</td>\n",
       "      <td>Hyderabad</td>\n",
       "      <td>24-04-2008</td>\n",
       "      <td>DC</td>\n",
       "      <td>RR</td>\n",
       "      <td>RR</td>\n",
       "      <td>field</td>\n",
       "      <td>normal</td>\n",
       "      <td>0</td>\n",
       "      <td>RR</td>\n",
       "      <td>0</td>\n",
       "      <td>3</td>\n",
       "      <td>Yusuf Pathan</td>\n",
       "      <td>171.0</td>\n",
       "      <td>Rajiv Gandhi International Stadium, Hyderabad</td>\n",
       "      <td>Asad Rauf</td>\n",
       "      <td>MR Benson</td>\n",
       "    </tr>\n",
       "    <tr>\n",
       "      <th>2008_18</th>\n",
       "      <td>2008</td>\n",
       "      <td>Hyderabad</td>\n",
       "      <td>01-05-2008</td>\n",
       "      <td>DC</td>\n",
       "      <td>KXI</td>\n",
       "      <td>KXI</td>\n",
       "      <td>field</td>\n",
       "      <td>normal</td>\n",
       "      <td>0</td>\n",
       "      <td>KXI</td>\n",
       "      <td>0</td>\n",
       "      <td>7</td>\n",
       "      <td>Shaun Marsh</td>\n",
       "      <td>106.0</td>\n",
       "      <td>Rajiv Gandhi International Stadium, Hyderabad</td>\n",
       "      <td>BR Doctrove</td>\n",
       "      <td>RB Tiffin</td>\n",
       "    </tr>\n",
       "  </tbody>\n",
       "</table>\n",
       "</div>"
      ],
      "text/plain": [
       "          season       city        date team1_id team2_id toss_winner  \\\n",
       "match_id                                                                \n",
       "2008_7      2008  Hyderabad  22-04-2008       DC       DD          DC   \n",
       "2008_9      2008  Hyderabad  24-04-2008       DC       RR          RR   \n",
       "2008_18     2008  Hyderabad  01-05-2008       DC      KXI         KXI   \n",
       "\n",
       "         toss_decision  result  dl_applied winner  win_by_runs  \\\n",
       "match_id                                                         \n",
       "2008_7             bat  normal           0     DD            0   \n",
       "2008_9           field  normal           0     RR            0   \n",
       "2008_18          field  normal           0    KXI            0   \n",
       "\n",
       "          win_by_wickets  player_of_match  player_of_match_id  \\\n",
       "match_id                                                        \n",
       "2008_7                 9  Virender Sehwag                46.0   \n",
       "2008_9                 3     Yusuf Pathan               171.0   \n",
       "2008_18                7      Shaun Marsh               106.0   \n",
       "\n",
       "                                                  venue      umpire1  \\\n",
       "match_id                                                               \n",
       "2008_7    Rajiv Gandhi International Stadium, Hyderabad    IL Howell   \n",
       "2008_9    Rajiv Gandhi International Stadium, Hyderabad    Asad Rauf   \n",
       "2008_18   Rajiv Gandhi International Stadium, Hyderabad  BR Doctrove   \n",
       "\n",
       "            umpire2  \n",
       "match_id             \n",
       "2008_7    AM Saheba  \n",
       "2008_9    MR Benson  \n",
       "2008_18   RB Tiffin  "
      ]
     },
     "execution_count": 85,
     "metadata": {},
     "output_type": "execute_result"
    }
   ],
   "source": [
    "subset3 = ipl.loc[ipl['city']=='Hyderabad',:]\n",
    "subset3.head(3)"
   ]
  },
  {
   "cell_type": "markdown",
   "metadata": {},
   "source": [
    "## **Piping of functions (for multiple criteria subsetting)**"
   ]
  },
  {
   "cell_type": "markdown",
   "metadata": {},
   "source": [
    "**Basically output of first function is taken as input for the next function**\n",
    "#### **Note - We are using a relational operator inside the first function to get a boolean vector (equal to the number of rows we have). Where the value will be True only if the \"city\" column is \"Hyderabad\"**"
   ]
  },
  {
   "cell_type": "code",
   "execution_count": 91,
   "metadata": {},
   "outputs": [
    {
     "data": {
      "text/html": [
       "<div>\n",
       "<style scoped>\n",
       "    .dataframe tbody tr th:only-of-type {\n",
       "        vertical-align: middle;\n",
       "    }\n",
       "\n",
       "    .dataframe tbody tr th {\n",
       "        vertical-align: top;\n",
       "    }\n",
       "\n",
       "    .dataframe thead th {\n",
       "        text-align: right;\n",
       "    }\n",
       "</style>\n",
       "<table border=\"1\" class=\"dataframe\">\n",
       "  <thead>\n",
       "    <tr style=\"text-align: right;\">\n",
       "      <th></th>\n",
       "      <th>team1_id</th>\n",
       "      <th>team2_id</th>\n",
       "      <th>winner</th>\n",
       "      <th>city</th>\n",
       "    </tr>\n",
       "    <tr>\n",
       "      <th>match_id</th>\n",
       "      <th></th>\n",
       "      <th></th>\n",
       "      <th></th>\n",
       "      <th></th>\n",
       "    </tr>\n",
       "  </thead>\n",
       "  <tbody>\n",
       "    <tr>\n",
       "      <th>2008_8</th>\n",
       "      <td>CSK</td>\n",
       "      <td>MI</td>\n",
       "      <td>CSK</td>\n",
       "      <td>Chennai</td>\n",
       "    </tr>\n",
       "    <tr>\n",
       "      <th>2008_12</th>\n",
       "      <td>KKR</td>\n",
       "      <td>CSK</td>\n",
       "      <td>CSK</td>\n",
       "      <td>Chennai</td>\n",
       "    </tr>\n",
       "    <tr>\n",
       "      <th>2008_32</th>\n",
       "      <td>CSK</td>\n",
       "      <td>KXI</td>\n",
       "      <td>CSK</td>\n",
       "      <td>Chennai</td>\n",
       "    </tr>\n",
       "  </tbody>\n",
       "</table>\n",
       "</div>"
      ],
      "text/plain": [
       "         team1_id team2_id winner     city\n",
       "match_id                                  \n",
       "2008_8        CSK       MI    CSK  Chennai\n",
       "2008_12       KKR      CSK    CSK  Chennai\n",
       "2008_32       CSK      KXI    CSK  Chennai"
      ]
     },
     "execution_count": 91,
     "metadata": {},
     "output_type": "execute_result"
    }
   ],
   "source": [
    "subset4 = ipl.loc[ipl['city']=='Chennai',:].loc[ipl['winner']=='CSK',:].loc[:,['team1_id','team2_id','winner','city']]\n",
    "\n",
    "## This line achieves the same purpose as above\n",
    "# subset4 = ipl.loc[(ipl['city']=='Chennai') & (ipl['winner']=='CSK'),:].loc[:,['team1_id','team2_id','winner','city']]\n",
    "\n",
    "hyderabad.head(3)"
   ]
  },
  {
   "cell_type": "markdown",
   "metadata": {},
   "source": [
    "### **Note**\n",
    "1. In the first commande we have used 3 subsetting logics in a single line\n",
    "2. This can be alternatively done by chaining conditions using logical operations (&)\n",
    "3. **You may realize that sometimes giving single indexer (either row or column) works. However it may not be a consistent behaviour and its a good programming practive to specify both the indexers explicitly (row and column) as it makes the code more readable later on.**"
   ]
  },
  {
   "cell_type": "markdown",
   "metadata": {},
   "source": [
    "## **Replace specific values**"
   ]
  },
  {
   "cell_type": "code",
   "execution_count": 93,
   "metadata": {},
   "outputs": [
    {
     "data": {
      "text/plain": [
       "MI     79\n",
       "CSK    79\n",
       "RCB    70\n",
       "KKR    66\n",
       "KXI    63\n",
       "RR     63\n",
       "DD     56\n",
       "SRH    34\n",
       "DC     29\n",
       "PW     12\n",
       "GL      9\n",
       "KTK     6\n",
       "RPS     5\n",
       "Name: winner, dtype: int64"
      ]
     },
     "execution_count": 93,
     "metadata": {},
     "output_type": "execute_result"
    }
   ],
   "source": [
    "ipl['winner'].value_counts()"
   ]
  },
  {
   "cell_type": "code",
   "execution_count": 94,
   "metadata": {},
   "outputs": [
    {
     "data": {
      "text/plain": [
       "MI     79\n",
       "CSK    79\n",
       "RCB    70\n",
       "KKR    66\n",
       "KXI    63\n",
       "RR     63\n",
       "SRH    63\n",
       "DD     56\n",
       "PW     12\n",
       "GL      9\n",
       "KTK     6\n",
       "RPS     5\n",
       "Name: winner, dtype: int64"
      ]
     },
     "execution_count": 94,
     "metadata": {},
     "output_type": "execute_result"
    }
   ],
   "source": [
    "ipl_final.replace({'DC':'SRH'}, inplace=True)\n",
    "\n",
    "ipl_updated['winner'].value_counts()"
   ]
  },
  {
   "cell_type": "markdown",
   "metadata": {
    "collapsed": true
   },
   "source": [
    "## **Activity**\n",
    "**What matches are played on 2008-04-20 and who is the winner?**"
   ]
  },
  {
   "cell_type": "code",
   "execution_count": 95,
   "metadata": {},
   "outputs": [
    {
     "data": {
      "text/html": [
       "<div>\n",
       "<style scoped>\n",
       "    .dataframe tbody tr th:only-of-type {\n",
       "        vertical-align: middle;\n",
       "    }\n",
       "\n",
       "    .dataframe tbody tr th {\n",
       "        vertical-align: top;\n",
       "    }\n",
       "\n",
       "    .dataframe thead th {\n",
       "        text-align: right;\n",
       "    }\n",
       "</style>\n",
       "<table border=\"1\" class=\"dataframe\">\n",
       "  <thead>\n",
       "    <tr style=\"text-align: right;\">\n",
       "      <th></th>\n",
       "      <th>winner</th>\n",
       "    </tr>\n",
       "    <tr>\n",
       "      <th>match_id</th>\n",
       "      <th></th>\n",
       "    </tr>\n",
       "  </thead>\n",
       "  <tbody>\n",
       "    <tr>\n",
       "      <th>2008_4</th>\n",
       "      <td>RCB</td>\n",
       "    </tr>\n",
       "    <tr>\n",
       "      <th>2008_5</th>\n",
       "      <td>KKR</td>\n",
       "    </tr>\n",
       "  </tbody>\n",
       "</table>\n",
       "</div>"
      ],
      "text/plain": [
       "         winner\n",
       "match_id       \n",
       "2008_4      RCB\n",
       "2008_5      KKR"
      ]
     },
     "execution_count": 95,
     "metadata": {},
     "output_type": "execute_result"
    }
   ],
   "source": [
    "ipl.loc[ipl['date']=='20-04-2008',:].loc[:,['winner']]"
   ]
  },
  {
   "cell_type": "markdown",
   "metadata": {},
   "source": [
    "---\n",
    "## *<center>Fin</center>*"
   ]
  }
 ],
 "metadata": {
  "kernelspec": {
   "display_name": "Python 3",
   "language": "python",
   "name": "python3"
  },
  "language_info": {
   "codemirror_mode": {
    "name": "ipython",
    "version": 3
   },
   "file_extension": ".py",
   "mimetype": "text/x-python",
   "name": "python",
   "nbconvert_exporter": "python",
   "pygments_lexer": "ipython3",
   "version": "3.6.5"
  }
 },
 "nbformat": 4,
 "nbformat_minor": 1
}
