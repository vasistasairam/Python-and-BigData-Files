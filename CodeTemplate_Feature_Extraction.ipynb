{
 "cells": [
  {
   "cell_type": "markdown",
   "metadata": {},
   "source": [
    "<h1 id=\"tocheading\">Table of Contents</h1>\n",
    "<div id=\"toc\"></div>"
   ]
  },
  {
   "cell_type": "code",
   "execution_count": 11,
   "metadata": {},
   "outputs": [
    {
     "data": {
      "application/javascript": [
       "$.getScript('https://kmahelona.github.io/ipython_notebook_goodies/ipython_notebook_toc.js')"
      ],
      "text/plain": [
       "<IPython.core.display.Javascript object>"
      ]
     },
     "metadata": {},
     "output_type": "display_data"
    }
   ],
   "source": [
    "%%javascript\n",
    "$.getScript('https://kmahelona.github.io/ipython_notebook_goodies/ipython_notebook_toc.js')"
   ]
  },
  {
   "cell_type": "markdown",
   "metadata": {},
   "source": [
    "# Import Libraries"
   ]
  },
  {
   "cell_type": "code",
   "execution_count": 6,
   "metadata": {
    "collapsed": true
   },
   "outputs": [],
   "source": [
    "import pandas as pd\n",
    "import numpy as np\n",
    "import time\n",
    "import pickle\n",
    "import matplotlib.pyplot as plt\n",
    "import seaborn as sns\n",
    "import gc\n",
    "start = time.time()"
   ]
  },
  {
   "cell_type": "markdown",
   "metadata": {},
   "source": [
    "# Load Dataset"
   ]
  },
  {
   "cell_type": "code",
   "execution_count": 7,
   "metadata": {},
   "outputs": [
    {
     "data": {
      "text/html": [
       "<div>\n",
       "<style>\n",
       "    .dataframe thead tr:only-child th {\n",
       "        text-align: right;\n",
       "    }\n",
       "\n",
       "    .dataframe thead th {\n",
       "        text-align: left;\n",
       "    }\n",
       "\n",
       "    .dataframe tbody tr th {\n",
       "        vertical-align: top;\n",
       "    }\n",
       "</style>\n",
       "<table border=\"1\" class=\"dataframe\">\n",
       "  <thead>\n",
       "    <tr style=\"text-align: right;\">\n",
       "      <th></th>\n",
       "      <th>authorized_flag</th>\n",
       "      <th>card_id</th>\n",
       "      <th>city_id</th>\n",
       "      <th>category_1</th>\n",
       "      <th>installments</th>\n",
       "      <th>category_3</th>\n",
       "      <th>merchant_category_id</th>\n",
       "      <th>merchant_id</th>\n",
       "      <th>month_lag</th>\n",
       "      <th>purchase_amount</th>\n",
       "      <th>purchase_date</th>\n",
       "      <th>category_2</th>\n",
       "      <th>state_id</th>\n",
       "      <th>subsector_id</th>\n",
       "    </tr>\n",
       "  </thead>\n",
       "  <tbody>\n",
       "    <tr>\n",
       "      <th>0</th>\n",
       "      <td>Y</td>\n",
       "      <td>C_ID_0e171c1b48</td>\n",
       "      <td>69</td>\n",
       "      <td>N</td>\n",
       "      <td>0</td>\n",
       "      <td>A</td>\n",
       "      <td>879</td>\n",
       "      <td>M_ID_00a6ca8a8a</td>\n",
       "      <td>-1</td>\n",
       "      <td>-0.728876</td>\n",
       "      <td>2018-01-05 22:00:55</td>\n",
       "      <td>1.0</td>\n",
       "      <td>9</td>\n",
       "      <td>29</td>\n",
       "    </tr>\n",
       "    <tr>\n",
       "      <th>1</th>\n",
       "      <td>Y</td>\n",
       "      <td>C_ID_0e171c1b48</td>\n",
       "      <td>277</td>\n",
       "      <td>N</td>\n",
       "      <td>0</td>\n",
       "      <td>A</td>\n",
       "      <td>703</td>\n",
       "      <td>M_ID_4d6321ce13</td>\n",
       "      <td>-1</td>\n",
       "      <td>-0.662759</td>\n",
       "      <td>2018-01-27 14:21:02</td>\n",
       "      <td>4.0</td>\n",
       "      <td>13</td>\n",
       "      <td>29</td>\n",
       "    </tr>\n",
       "    <tr>\n",
       "      <th>2</th>\n",
       "      <td>Y</td>\n",
       "      <td>C_ID_0e171c1b48</td>\n",
       "      <td>277</td>\n",
       "      <td>N</td>\n",
       "      <td>0</td>\n",
       "      <td>A</td>\n",
       "      <td>683</td>\n",
       "      <td>M_ID_22360595e6</td>\n",
       "      <td>-11</td>\n",
       "      <td>-0.730379</td>\n",
       "      <td>2017-03-15 21:58:49</td>\n",
       "      <td>4.0</td>\n",
       "      <td>13</td>\n",
       "      <td>34</td>\n",
       "    </tr>\n",
       "    <tr>\n",
       "      <th>3</th>\n",
       "      <td>Y</td>\n",
       "      <td>C_ID_0e171c1b48</td>\n",
       "      <td>277</td>\n",
       "      <td>N</td>\n",
       "      <td>0</td>\n",
       "      <td>A</td>\n",
       "      <td>561</td>\n",
       "      <td>M_ID_67ead1197d</td>\n",
       "      <td>-3</td>\n",
       "      <td>-0.694315</td>\n",
       "      <td>2017-11-17 21:40:14</td>\n",
       "      <td>4.0</td>\n",
       "      <td>13</td>\n",
       "      <td>7</td>\n",
       "    </tr>\n",
       "    <tr>\n",
       "      <th>4</th>\n",
       "      <td>N</td>\n",
       "      <td>C_ID_0e171c1b48</td>\n",
       "      <td>277</td>\n",
       "      <td>N</td>\n",
       "      <td>0</td>\n",
       "      <td>A</td>\n",
       "      <td>511</td>\n",
       "      <td>M_ID_0f8e964477</td>\n",
       "      <td>-10</td>\n",
       "      <td>-0.740146</td>\n",
       "      <td>2017-04-12 23:31:50</td>\n",
       "      <td>4.0</td>\n",
       "      <td>13</td>\n",
       "      <td>7</td>\n",
       "    </tr>\n",
       "  </tbody>\n",
       "</table>\n",
       "</div>"
      ],
      "text/plain": [
       "  authorized_flag          card_id  city_id category_1  installments  \\\n",
       "0               Y  C_ID_0e171c1b48       69          N             0   \n",
       "1               Y  C_ID_0e171c1b48      277          N             0   \n",
       "2               Y  C_ID_0e171c1b48      277          N             0   \n",
       "3               Y  C_ID_0e171c1b48      277          N             0   \n",
       "4               N  C_ID_0e171c1b48      277          N             0   \n",
       "\n",
       "  category_3  merchant_category_id      merchant_id  month_lag  \\\n",
       "0          A                   879  M_ID_00a6ca8a8a         -1   \n",
       "1          A                   703  M_ID_4d6321ce13         -1   \n",
       "2          A                   683  M_ID_22360595e6        -11   \n",
       "3          A                   561  M_ID_67ead1197d         -3   \n",
       "4          A                   511  M_ID_0f8e964477        -10   \n",
       "\n",
       "   purchase_amount        purchase_date  category_2  state_id  subsector_id  \n",
       "0        -0.728876  2018-01-05 22:00:55         1.0         9            29  \n",
       "1        -0.662759  2018-01-27 14:21:02         4.0        13            29  \n",
       "2        -0.730379  2017-03-15 21:58:49         4.0        13            34  \n",
       "3        -0.694315  2017-11-17 21:40:14         4.0        13             7  \n",
       "4        -0.740146  2017-04-12 23:31:50         4.0        13             7  "
      ]
     },
     "execution_count": 7,
     "metadata": {},
     "output_type": "execute_result"
    }
   ],
   "source": [
    "transactions = pd.read_csv('C:\\\\Kaggle competetion datasets\\\\Elo Merchent Category Recommendation\\\\DataSubsets\\\\subset_1.csv')\n",
    "transactions.head(5)"
   ]
  },
  {
   "cell_type": "code",
   "execution_count": 12,
   "metadata": {
    "collapsed": true
   },
   "outputs": [],
   "source": [
    "transactions['purchase_date'] = pd.to_datetime(transactions['purchase_date'])\n",
    "transactions['purchase_amount1'] = transactions['purchase_amount']"
   ]
  },
  {
   "cell_type": "code",
   "execution_count": 13,
   "metadata": {
    "scrolled": true
   },
   "outputs": [
    {
     "data": {
      "text/plain": [
       "authorized_flag                 object\n",
       "card_id                         object\n",
       "city_id                          int64\n",
       "category_1                      object\n",
       "installments                     int64\n",
       "category_3                      object\n",
       "merchant_category_id             int64\n",
       "merchant_id                     object\n",
       "month_lag                        int64\n",
       "purchase_amount                float64\n",
       "purchase_date           datetime64[ns]\n",
       "category_2                     float64\n",
       "state_id                         int64\n",
       "subsector_id                     int64\n",
       "purchase_amount1               float64\n",
       "dtype: object"
      ]
     },
     "execution_count": 13,
     "metadata": {},
     "output_type": "execute_result"
    }
   ],
   "source": [
    "transactions.dtypes"
   ]
  },
  {
   "cell_type": "markdown",
   "metadata": {},
   "source": [
    "# Preprocessing and EDA"
   ]
  },
  {
   "cell_type": "markdown",
   "metadata": {},
   "source": [
    "## Handling Outliers in Purchase Amount"
   ]
  },
  {
   "cell_type": "code",
   "execution_count": 14,
   "metadata": {
    "scrolled": true
   },
   "outputs": [
    {
     "data": {
      "image/png": "[encoded data removed]",
      "text/plain": [
       "<Figure size 432x288 with 1 Axes>"
      ]
     },
     "metadata": {},
     "output_type": "display_data"
    },
    {
     "data": {
      "text/plain": [
       "count    3.107342e+06\n",
       "mean    -2.206008e-01\n",
       "std      1.283000e+02\n",
       "min     -7.469078e-01\n",
       "25%     -7.199502e-01\n",
       "50%     -6.875681e-01\n",
       "75%     -6.010154e-01\n",
       "max      1.050397e+05\n",
       "Name: purchase_amount, dtype: float64"
      ]
     },
     "execution_count": 14,
     "metadata": {},
     "output_type": "execute_result"
    }
   ],
   "source": [
    "sns.boxplot(x = transactions['purchase_amount'])\n",
    "plt.show()\n",
    "transactions['purchase_amount'].describe()"
   ]
  },
  {
   "cell_type": "markdown",
   "metadata": {},
   "source": [
    "## Adjust Purchase Amount"
   ]
  },
  {
   "cell_type": "code",
   "execution_count": 15,
   "metadata": {},
   "outputs": [
    {
     "name": "stdout",
     "output_type": "stream",
     "text": [
      "0   -0.746908\n",
      "1    6.766348\n",
      "Name: purchase_amount1, dtype: float64\n"
     ]
    },
    {
     "name": "stderr",
     "output_type": "stream",
     "text": [
      "C:\\Users\\HP\\Anaconda3\\lib\\site-packages\\ipykernel_launcher.py:3: SettingWithCopyWarning: \n",
      "A value is trying to be set on a copy of a slice from a DataFrame\n",
      "\n",
      "See the caveats in the documentation: http://pandas.pydata.org/pandas-docs/stable/indexing.html#indexing-view-versus-copy\n",
      "  This is separate from the ipykernel package so we can avoid doing imports until\n"
     ]
    }
   ],
   "source": [
    "min_max = transactions['purchase_amount1'].quantile([0, 0.999]).reset_index(drop = True)\n",
    "print(min_max)\n",
    "transactions['purchase_amount1'][transactions['purchase_amount1'] > min_max[1]] = min_max[1]\n",
    "transactions['purchase_amount1'] = transactions['purchase_amount1']+(-min_max[0])"
   ]
  },
  {
   "cell_type": "code",
   "execution_count": 16,
   "metadata": {},
   "outputs": [
    {
     "data": {
      "image/png": "[encoded data removed]",
      "text/plain": [
       "<Figure size 432x288 with 1 Axes>"
      ]
     },
     "metadata": {},
     "output_type": "display_data"
    }
   ],
   "source": [
    "sns.boxplot(x = transactions['purchase_amount1'])\n",
    "plt.show()"
   ]
  },
  {
   "cell_type": "markdown",
   "metadata": {},
   "source": [
    "# Feature Extraction"
   ]
  },
  {
   "cell_type": "markdown",
   "metadata": {},
   "source": [
    "### Extract Month"
   ]
  },
  {
   "cell_type": "code",
   "execution_count": 17,
   "metadata": {
    "collapsed": true
   },
   "outputs": [],
   "source": [
    "transactions['purchase_month'] = transactions['purchase_date'].dt.month\n",
    "transactions['purchase_amount1'] = transactions['purchase_amount']"
   ]
  },
  {
   "cell_type": "markdown",
   "metadata": {},
   "source": [
    "### Extract Week And Year"
   ]
  },
  {
   "cell_type": "code",
   "execution_count": 18,
   "metadata": {
    "collapsed": true
   },
   "outputs": [],
   "source": [
    "transactions['week_of_year'] = transactions['purchase_date'].dt.week\n",
    "transactions['year'] = transactions['purchase_date'].dt.year"
   ]
  },
  {
   "cell_type": "markdown",
   "metadata": {},
   "source": [
    "### Monthly Transaction Analysis"
   ]
  },
  {
   "cell_type": "code",
   "execution_count": 19,
   "metadata": {},
   "outputs": [
    {
     "name": "stdout",
     "output_type": "stream",
     "text": [
      "           card_id  purchase_month  purchase_amount1  purchase_count\n",
      "0  C_ID_00007093c1               1         -5.686047              10\n",
      "1  C_ID_00007093c1               2         -7.584752              16\n",
      "2  C_ID_00007093c1               3         -5.712629              10\n",
      "3  C_ID_00007093c1               4         -7.837212              14\n",
      "4  C_ID_00007093c1               5         -3.425248              10\n"
     ]
    },
    {
     "data": {
      "text/html": [
       "<div>\n",
       "<style>\n",
       "    .dataframe thead tr:only-child th {\n",
       "        text-align: right;\n",
       "    }\n",
       "\n",
       "    .dataframe thead th {\n",
       "        text-align: left;\n",
       "    }\n",
       "\n",
       "    .dataframe tbody tr th {\n",
       "        vertical-align: top;\n",
       "    }\n",
       "</style>\n",
       "<table border=\"1\" class=\"dataframe\">\n",
       "  <thead>\n",
       "    <tr style=\"text-align: right;\">\n",
       "      <th></th>\n",
       "      <th>card_id</th>\n",
       "      <th>purchase_amount1_min</th>\n",
       "      <th>purchase_amount1_max</th>\n",
       "      <th>purchase_amount1_mean</th>\n",
       "      <th>purchase_amount1_count</th>\n",
       "      <th>purchase_amount1_var</th>\n",
       "      <th>purchase_amount1_std</th>\n",
       "      <th>purchase_count_min</th>\n",
       "      <th>purchase_count_max</th>\n",
       "      <th>purchase_count_mean</th>\n",
       "      <th>purchase_count_count</th>\n",
       "      <th>purchase_count_var</th>\n",
       "      <th>purchase_count_std</th>\n",
       "    </tr>\n",
       "  </thead>\n",
       "  <tbody>\n",
       "    <tr>\n",
       "      <th>0</th>\n",
       "      <td>C_ID_00007093c1</td>\n",
       "      <td>-10.423035</td>\n",
       "      <td>-2.946293</td>\n",
       "      <td>-6.514464</td>\n",
       "      <td>12</td>\n",
       "      <td>6.601799</td>\n",
       "      <td>2.569397</td>\n",
       "      <td>5</td>\n",
       "      <td>19</td>\n",
       "      <td>12.583333</td>\n",
       "      <td>12</td>\n",
       "      <td>20.083333</td>\n",
       "      <td>4.481443</td>\n",
       "    </tr>\n",
       "    <tr>\n",
       "      <th>1</th>\n",
       "      <td>C_ID_0001238066</td>\n",
       "      <td>-21.442877</td>\n",
       "      <td>-1.302784</td>\n",
       "      <td>-10.912157</td>\n",
       "      <td>8</td>\n",
       "      <td>41.524218</td>\n",
       "      <td>6.443929</td>\n",
       "      <td>2</td>\n",
       "      <td>37</td>\n",
       "      <td>18.500000</td>\n",
       "      <td>8</td>\n",
       "      <td>124.857143</td>\n",
       "      <td>11.173949</td>\n",
       "    </tr>\n",
       "    <tr>\n",
       "      <th>2</th>\n",
       "      <td>C_ID_0001506ef0</td>\n",
       "      <td>-11.071218</td>\n",
       "      <td>0.034381</td>\n",
       "      <td>-3.277203</td>\n",
       "      <td>11</td>\n",
       "      <td>12.388843</td>\n",
       "      <td>3.519779</td>\n",
       "      <td>1</td>\n",
       "      <td>18</td>\n",
       "      <td>6.090909</td>\n",
       "      <td>11</td>\n",
       "      <td>27.890909</td>\n",
       "      <td>5.281184</td>\n",
       "    </tr>\n",
       "    <tr>\n",
       "      <th>3</th>\n",
       "      <td>C_ID_0001793786</td>\n",
       "      <td>-10.843852</td>\n",
       "      <td>2.091705</td>\n",
       "      <td>-3.084636</td>\n",
       "      <td>12</td>\n",
       "      <td>21.121070</td>\n",
       "      <td>4.595767</td>\n",
       "      <td>2</td>\n",
       "      <td>38</td>\n",
       "      <td>20.583333</td>\n",
       "      <td>12</td>\n",
       "      <td>170.810606</td>\n",
       "      <td>13.069453</td>\n",
       "    </tr>\n",
       "    <tr>\n",
       "      <th>4</th>\n",
       "      <td>C_ID_000183fdda</td>\n",
       "      <td>-15.638962</td>\n",
       "      <td>-0.226840</td>\n",
       "      <td>-8.380969</td>\n",
       "      <td>9</td>\n",
       "      <td>37.616093</td>\n",
       "      <td>6.133196</td>\n",
       "      <td>3</td>\n",
       "      <td>28</td>\n",
       "      <td>17.222222</td>\n",
       "      <td>9</td>\n",
       "      <td>109.194444</td>\n",
       "      <td>10.449615</td>\n",
       "    </tr>\n",
       "  </tbody>\n",
       "</table>\n",
       "</div>"
      ],
      "text/plain": [
       "           card_id  purchase_amount1_min  purchase_amount1_max  \\\n",
       "0  C_ID_00007093c1            -10.423035             -2.946293   \n",
       "1  C_ID_0001238066            -21.442877             -1.302784   \n",
       "2  C_ID_0001506ef0            -11.071218              0.034381   \n",
       "3  C_ID_0001793786            -10.843852              2.091705   \n",
       "4  C_ID_000183fdda            -15.638962             -0.226840   \n",
       "\n",
       "   purchase_amount1_mean  purchase_amount1_count  purchase_amount1_var  \\\n",
       "0              -6.514464                      12              6.601799   \n",
       "1             -10.912157                       8             41.524218   \n",
       "2              -3.277203                      11             12.388843   \n",
       "3              -3.084636                      12             21.121070   \n",
       "4              -8.380969                       9             37.616093   \n",
       "\n",
       "   purchase_amount1_std  purchase_count_min  purchase_count_max  \\\n",
       "0              2.569397                   5                  19   \n",
       "1              6.443929                   2                  37   \n",
       "2              3.519779                   1                  18   \n",
       "3              4.595767                   2                  38   \n",
       "4              6.133196                   3                  28   \n",
       "\n",
       "   purchase_count_mean  purchase_count_count  purchase_count_var  \\\n",
       "0            12.583333                    12           20.083333   \n",
       "1            18.500000                     8          124.857143   \n",
       "2             6.090909                    11           27.890909   \n",
       "3            20.583333                    12          170.810606   \n",
       "4            17.222222                     9          109.194444   \n",
       "\n",
       "   purchase_count_std  \n",
       "0            4.481443  \n",
       "1           11.173949  \n",
       "2            5.281184  \n",
       "3           13.069453  \n",
       "4           10.449615  "
      ]
     },
     "execution_count": 19,
     "metadata": {},
     "output_type": "execute_result"
    }
   ],
   "source": [
    "########## Each Customer's Each Month's purchase_amount and purchase_count ###########\n",
    "\n",
    "stats = ['min','max','mean','count','var','std']\n",
    "trans_amount_stats = transactions.groupby(['card_id','purchase_month']).agg({'purchase_amount1':'sum','merchant_id':'count'}).reset_index()\n",
    "trans_amount_stats.columns = ['card_id', 'purchase_month', 'purchase_amount1', 'purchase_count']\n",
    "print(trans_amount_stats.head())\n",
    "\n",
    "######### Eqach Customer's stats ['min','max','mean','count','var','std']  Of  purchase_amount and Purchase_count\n",
    "\n",
    "trans_amount_stats = trans_amount_stats.groupby(['card_id']).agg({'purchase_amount1':stats,'purchase_count':stats})\n",
    "trans_amount_stats.columns = [x[0]+\"_\"+x[1] for x in trans_amount_stats.columns]\n",
    "trans_amount_stats = trans_amount_stats.reset_index()\n",
    "trans_amount_stats.head()"
   ]
  },
  {
   "cell_type": "markdown",
   "metadata": {},
   "source": [
    "### Quarterly, Monthly Transaction Analysis"
   ]
  },
  {
   "cell_type": "code",
   "execution_count": 20,
   "metadata": {},
   "outputs": [
    {
     "data": {
      "text/plain": [
       "0    qua2\n",
       "1    qua2\n",
       "2    qua5\n",
       "3    qua2\n",
       "4    qua5\n",
       "Name: quarter, dtype: category\n",
       "Categories (5, object): [qua5 < qua4 < qua3 < qua2 < qua1]"
      ]
     },
     "execution_count": 20,
     "metadata": {},
     "output_type": "execute_result"
    }
   ],
   "source": [
    "transactions['quarter'] = pd.cut(transactions['month_lag'], [-13, -10, -7, -4, -1, 0+1],\n",
    "                          include_lowest = True, labels = ['qua5','qua4','qua3','qua2','qua1'])\n",
    "transactions['quarter'].head()"
   ]
  },
  {
   "cell_type": "code",
   "execution_count": 21,
   "metadata": {},
   "outputs": [
    {
     "name": "stdout",
     "output_type": "stream",
     "text": [
      "           card_id quarter  purchase_month  purchase_amount1  purchase_count\n",
      "0  C_ID_00007093c1    qua5               2         -1.334414               4\n",
      "1  C_ID_00007093c1    qua5               3         -5.712629              10\n",
      "2  C_ID_00007093c1    qua5               4         -6.508689              12\n",
      "3  C_ID_00007093c1    qua4               5         -3.425248              10\n",
      "4  C_ID_00007093c1    qua4               6         -9.868677              19\n"
     ]
    },
    {
     "data": {
      "text/html": [
       "<div>\n",
       "<style>\n",
       "    .dataframe thead tr:only-child th {\n",
       "        text-align: right;\n",
       "    }\n",
       "\n",
       "    .dataframe thead th {\n",
       "        text-align: left;\n",
       "    }\n",
       "\n",
       "    .dataframe tbody tr th {\n",
       "        vertical-align: top;\n",
       "    }\n",
       "</style>\n",
       "<table border=\"1\" class=\"dataframe\">\n",
       "  <thead>\n",
       "    <tr style=\"text-align: right;\">\n",
       "      <th></th>\n",
       "      <th>card_id</th>\n",
       "      <th>quarter</th>\n",
       "      <th>purchase_amount1_min</th>\n",
       "      <th>purchase_amount1_max</th>\n",
       "      <th>purchase_amount1_mean</th>\n",
       "      <th>purchase_amount1_count</th>\n",
       "      <th>purchase_amount1_var</th>\n",
       "      <th>purchase_amount1_std</th>\n",
       "      <th>purchase_count_min</th>\n",
       "      <th>purchase_count_max</th>\n",
       "      <th>purchase_count_mean</th>\n",
       "      <th>purchase_count_count</th>\n",
       "      <th>purchase_count_var</th>\n",
       "      <th>purchase_count_std</th>\n",
       "    </tr>\n",
       "  </thead>\n",
       "  <tbody>\n",
       "    <tr>\n",
       "      <th>0</th>\n",
       "      <td>C_ID_00007093c1</td>\n",
       "      <td>qua5</td>\n",
       "      <td>-6.508689</td>\n",
       "      <td>-1.334414</td>\n",
       "      <td>-4.518577</td>\n",
       "      <td>3</td>\n",
       "      <td>7.762598</td>\n",
       "      <td>2.786144</td>\n",
       "      <td>4</td>\n",
       "      <td>12</td>\n",
       "      <td>8.666667</td>\n",
       "      <td>3</td>\n",
       "      <td>17.333333</td>\n",
       "      <td>4.163332</td>\n",
       "    </tr>\n",
       "    <tr>\n",
       "      <th>1</th>\n",
       "      <td>C_ID_00007093c1</td>\n",
       "      <td>qua4</td>\n",
       "      <td>-9.868677</td>\n",
       "      <td>-3.425248</td>\n",
       "      <td>-7.510797</td>\n",
       "      <td>3</td>\n",
       "      <td>12.618070</td>\n",
       "      <td>3.552192</td>\n",
       "      <td>10</td>\n",
       "      <td>19</td>\n",
       "      <td>14.666667</td>\n",
       "      <td>3</td>\n",
       "      <td>20.333333</td>\n",
       "      <td>4.509250</td>\n",
       "    </tr>\n",
       "    <tr>\n",
       "      <th>2</th>\n",
       "      <td>C_ID_00007093c1</td>\n",
       "      <td>qua3</td>\n",
       "      <td>-10.423035</td>\n",
       "      <td>-2.946293</td>\n",
       "      <td>-6.590718</td>\n",
       "      <td>3</td>\n",
       "      <td>14.001893</td>\n",
       "      <td>3.741910</td>\n",
       "      <td>5</td>\n",
       "      <td>17</td>\n",
       "      <td>13.000000</td>\n",
       "      <td>3</td>\n",
       "      <td>48.000000</td>\n",
       "      <td>6.928203</td>\n",
       "    </tr>\n",
       "    <tr>\n",
       "      <th>3</th>\n",
       "      <td>C_ID_00007093c1</td>\n",
       "      <td>qua2</td>\n",
       "      <td>-5.979800</td>\n",
       "      <td>-3.068579</td>\n",
       "      <td>-4.911475</td>\n",
       "      <td>3</td>\n",
       "      <td>2.568773</td>\n",
       "      <td>1.602739</td>\n",
       "      <td>6</td>\n",
       "      <td>12</td>\n",
       "      <td>9.333333</td>\n",
       "      <td>3</td>\n",
       "      <td>9.333333</td>\n",
       "      <td>3.055050</td>\n",
       "    </tr>\n",
       "    <tr>\n",
       "      <th>4</th>\n",
       "      <td>C_ID_00007093c1</td>\n",
       "      <td>qua1</td>\n",
       "      <td>-6.250338</td>\n",
       "      <td>-6.250338</td>\n",
       "      <td>-6.250338</td>\n",
       "      <td>1</td>\n",
       "      <td>NaN</td>\n",
       "      <td>NaN</td>\n",
       "      <td>12</td>\n",
       "      <td>12</td>\n",
       "      <td>12.000000</td>\n",
       "      <td>1</td>\n",
       "      <td>NaN</td>\n",
       "      <td>NaN</td>\n",
       "    </tr>\n",
       "  </tbody>\n",
       "</table>\n",
       "</div>"
      ],
      "text/plain": [
       "           card_id quarter  purchase_amount1_min  purchase_amount1_max  \\\n",
       "0  C_ID_00007093c1    qua5             -6.508689             -1.334414   \n",
       "1  C_ID_00007093c1    qua4             -9.868677             -3.425248   \n",
       "2  C_ID_00007093c1    qua3            -10.423035             -2.946293   \n",
       "3  C_ID_00007093c1    qua2             -5.979800             -3.068579   \n",
       "4  C_ID_00007093c1    qua1             -6.250338             -6.250338   \n",
       "\n",
       "   purchase_amount1_mean  purchase_amount1_count  purchase_amount1_var  \\\n",
       "0              -4.518577                       3              7.762598   \n",
       "1              -7.510797                       3             12.618070   \n",
       "2              -6.590718                       3             14.001893   \n",
       "3              -4.911475                       3              2.568773   \n",
       "4              -6.250338                       1                   NaN   \n",
       "\n",
       "   purchase_amount1_std  purchase_count_min  purchase_count_max  \\\n",
       "0              2.786144                   4                  12   \n",
       "1              3.552192                  10                  19   \n",
       "2              3.741910                   5                  17   \n",
       "3              1.602739                   6                  12   \n",
       "4                   NaN                  12                  12   \n",
       "\n",
       "   purchase_count_mean  purchase_count_count  purchase_count_var  \\\n",
       "0             8.666667                     3           17.333333   \n",
       "1            14.666667                     3           20.333333   \n",
       "2            13.000000                     3           48.000000   \n",
       "3             9.333333                     3            9.333333   \n",
       "4            12.000000                     1                 NaN   \n",
       "\n",
       "   purchase_count_std  \n",
       "0            4.163332  \n",
       "1            4.509250  \n",
       "2            6.928203  \n",
       "3            3.055050  \n",
       "4                 NaN  "
      ]
     },
     "execution_count": 21,
     "metadata": {},
     "output_type": "execute_result"
    }
   ],
   "source": [
    "######### Each Customer's Quarterly purchase_amount and purchase_count ###########\n",
    "\n",
    "trans_amount_quart_stats = transactions.groupby(['card_id','quarter','purchase_month']).agg({'purchase_amount1':'sum','merchant_id':'count'}).reset_index()\n",
    "trans_amount_quart_stats.columns = ['card_id','quarter', 'purchase_month', 'purchase_amount1', 'purchase_count']\n",
    "print(trans_amount_quart_stats.head())\n",
    "\n",
    "trans_amount_quart_stats = trans_amount_quart_stats.groupby(['card_id','quarter']).agg({'purchase_amount1':stats,'purchase_count':stats})\n",
    "trans_amount_quart_stats.columns = [x[0]+\"_\"+x[1] for x in trans_amount_quart_stats.columns]\n",
    "trans_amount_quart_stats = trans_amount_quart_stats.reset_index()\n",
    "trans_amount_quart_stats.head()                                                                                            "
   ]
  },
  {
   "cell_type": "code",
   "execution_count": null,
   "metadata": {
    "collapsed": true
   },
   "outputs": [],
   "source": []
  },
  {
   "cell_type": "code",
   "execution_count": null,
   "metadata": {
    "collapsed": true
   },
   "outputs": [],
   "source": [
    "\"\"\"\n",
    "for i in trans_amount_quart_stats['quarter'].unique():\n",
    "    trans_amount_quart_stats[trans_amount_quart_stats['quarter']==i].to_csv(\"path/trans_amount_quart_stats\"+i+\".csv\",index=False)\n",
    "\"\"\""
   ]
  },
  {
   "cell_type": "markdown",
   "metadata": {},
   "source": [
    "### No Of Months Active"
   ]
  },
  {
   "cell_type": "code",
   "execution_count": 85,
   "metadata": {
    "scrolled": true
   },
   "outputs": [
    {
     "name": "stdout",
     "output_type": "stream",
     "text": [
      "                month_lag            \n",
      "                      min max nunique\n",
      "card_id                              \n",
      "C_ID_00007093c1       -12   2      14\n",
      "C_ID_0001238066        -5   2       8\n",
      "C_ID_0001506ef0       -13   1      14\n",
      "C_ID_0001793786        -9   2      12\n",
      "C_ID_000183fdda        -6   2       9\n",
      "                 min_lag  max_lag  months_active\n",
      "card_id                                         \n",
      "C_ID_00007093c1      -12        2             14\n",
      "C_ID_0001238066       -5        2              8\n",
      "C_ID_0001506ef0      -13        1             14\n",
      "C_ID_0001793786       -9        2             12\n",
      "C_ID_000183fdda       -6        2              9\n"
     ]
    },
    {
     "data": {
      "text/html": [
       "<div>\n",
       "<style>\n",
       "    .dataframe thead tr:only-child th {\n",
       "        text-align: right;\n",
       "    }\n",
       "\n",
       "    .dataframe thead th {\n",
       "        text-align: left;\n",
       "    }\n",
       "\n",
       "    .dataframe tbody tr th {\n",
       "        vertical-align: top;\n",
       "    }\n",
       "</style>\n",
       "<table border=\"1\" class=\"dataframe\">\n",
       "  <thead>\n",
       "    <tr style=\"text-align: right;\">\n",
       "      <th></th>\n",
       "      <th>card_id</th>\n",
       "      <th>min_lag</th>\n",
       "      <th>max_lag</th>\n",
       "      <th>months_active</th>\n",
       "    </tr>\n",
       "  </thead>\n",
       "  <tbody>\n",
       "    <tr>\n",
       "      <th>0</th>\n",
       "      <td>C_ID_00007093c1</td>\n",
       "      <td>-12</td>\n",
       "      <td>2</td>\n",
       "      <td>14</td>\n",
       "    </tr>\n",
       "    <tr>\n",
       "      <th>1</th>\n",
       "      <td>C_ID_0001238066</td>\n",
       "      <td>-5</td>\n",
       "      <td>2</td>\n",
       "      <td>8</td>\n",
       "    </tr>\n",
       "    <tr>\n",
       "      <th>2</th>\n",
       "      <td>C_ID_0001506ef0</td>\n",
       "      <td>-13</td>\n",
       "      <td>1</td>\n",
       "      <td>14</td>\n",
       "    </tr>\n",
       "    <tr>\n",
       "      <th>3</th>\n",
       "      <td>C_ID_0001793786</td>\n",
       "      <td>-9</td>\n",
       "      <td>2</td>\n",
       "      <td>12</td>\n",
       "    </tr>\n",
       "    <tr>\n",
       "      <th>4</th>\n",
       "      <td>C_ID_000183fdda</td>\n",
       "      <td>-6</td>\n",
       "      <td>2</td>\n",
       "      <td>9</td>\n",
       "    </tr>\n",
       "  </tbody>\n",
       "</table>\n",
       "</div>"
      ],
      "text/plain": [
       "           card_id  min_lag  max_lag  months_active\n",
       "0  C_ID_00007093c1      -12        2             14\n",
       "1  C_ID_0001238066       -5        2              8\n",
       "2  C_ID_0001506ef0      -13        1             14\n",
       "3  C_ID_0001793786       -9        2             12\n",
       "4  C_ID_000183fdda       -6        2              9"
      ]
     },
     "execution_count": 85,
     "metadata": {},
     "output_type": "execute_result"
    }
   ],
   "source": [
    "month_lag_min = transactions.groupby(['card_id']).agg({'month_lag':['min', 'max', 'nunique']})\n",
    "print(month_lag_min.head())\n",
    "month_lag_min.columns = month_lag_min.columns.droplevel(level = 1)\n",
    "month_lag_min.columns = ['min_lag','max_lag','months_active']\n",
    "print(month_lag_min.head())\n",
    "month_lag_min = month_lag_min.reset_index()\n",
    "month_lag_min.head()"
   ]
  },
  {
   "cell_type": "markdown",
   "metadata": {},
   "source": [
    "### Weekly Transaction Distrinution"
   ]
  },
  {
   "cell_type": "code",
   "execution_count": 46,
   "metadata": {},
   "outputs": [
    {
     "data": {
      "text/html": [
       "<div>\n",
       "<style>\n",
       "    .dataframe thead tr:only-child th {\n",
       "        text-align: right;\n",
       "    }\n",
       "\n",
       "    .dataframe thead th {\n",
       "        text-align: left;\n",
       "    }\n",
       "\n",
       "    .dataframe tbody tr th {\n",
       "        vertical-align: top;\n",
       "    }\n",
       "</style>\n",
       "<table border=\"1\" class=\"dataframe\">\n",
       "  <thead>\n",
       "    <tr style=\"text-align: right;\">\n",
       "      <th></th>\n",
       "      <th>card_id</th>\n",
       "      <th>year</th>\n",
       "      <th>week_of_year</th>\n",
       "      <th>purchase_amount1</th>\n",
       "      <th>purchase_count</th>\n",
       "      <th>purchase_bins</th>\n",
       "    </tr>\n",
       "  </thead>\n",
       "  <tbody>\n",
       "    <tr>\n",
       "      <th>0</th>\n",
       "      <td>C_ID_00007093c1</td>\n",
       "      <td>2017</td>\n",
       "      <td>7</td>\n",
       "      <td>-1.002839</td>\n",
       "      <td>3</td>\n",
       "      <td>NaN</td>\n",
       "    </tr>\n",
       "    <tr>\n",
       "      <th>1</th>\n",
       "      <td>C_ID_00007093c1</td>\n",
       "      <td>2017</td>\n",
       "      <td>8</td>\n",
       "      <td>-0.331575</td>\n",
       "      <td>1</td>\n",
       "      <td>NaN</td>\n",
       "    </tr>\n",
       "    <tr>\n",
       "      <th>2</th>\n",
       "      <td>C_ID_00007093c1</td>\n",
       "      <td>2017</td>\n",
       "      <td>9</td>\n",
       "      <td>-0.483944</td>\n",
       "      <td>1</td>\n",
       "      <td>NaN</td>\n",
       "    </tr>\n",
       "    <tr>\n",
       "      <th>3</th>\n",
       "      <td>C_ID_00007093c1</td>\n",
       "      <td>2017</td>\n",
       "      <td>10</td>\n",
       "      <td>-4.556910</td>\n",
       "      <td>8</td>\n",
       "      <td>NaN</td>\n",
       "    </tr>\n",
       "    <tr>\n",
       "      <th>4</th>\n",
       "      <td>C_ID_00007093c1</td>\n",
       "      <td>2017</td>\n",
       "      <td>11</td>\n",
       "      <td>-0.671775</td>\n",
       "      <td>1</td>\n",
       "      <td>NaN</td>\n",
       "    </tr>\n",
       "  </tbody>\n",
       "</table>\n",
       "</div>"
      ],
      "text/plain": [
       "           card_id  year  week_of_year  purchase_amount1  purchase_count  \\\n",
       "0  C_ID_00007093c1  2017             7         -1.002839               3   \n",
       "1  C_ID_00007093c1  2017             8         -0.331575               1   \n",
       "2  C_ID_00007093c1  2017             9         -0.483944               1   \n",
       "3  C_ID_00007093c1  2017            10         -4.556910               8   \n",
       "4  C_ID_00007093c1  2017            11         -0.671775               1   \n",
       "\n",
       "  purchase_bins  \n",
       "0           NaN  \n",
       "1           NaN  \n",
       "2           NaN  \n",
       "3           NaN  \n",
       "4           NaN  "
      ]
     },
     "execution_count": 46,
     "metadata": {},
     "output_type": "execute_result"
    }
   ],
   "source": [
    "####### Each Customer's Weekly Purchase-amount, Purchase_count ThroughtOut the year. ########\n",
    "week_year_trans = transactions.groupby(['card_id', 'year', 'week_of_year']).agg({'purchase_amount1':'sum', 'merchant_id':'count'}).reset_index()  \n",
    "week_year_trans.columns = ['card_id', 'year', 'week_of_year', 'purchase_amount1', 'purchase_count']\n",
    "\n",
    "week_year_trans['purchase_amount1'].describe()\n",
    "week_year_trans['purchase_amount1'].quantile([i*0.1 for i in range(0, 11)])\n",
    "week_year_trans['purchase_bins'] = pd.cut(week_year_trans['purchase_amount1'],\n",
    "                                        bins = [0,0.1,0.3,0.8,1.5,np.max(week_year_trans['purchase_amount1'])+1],\n",
    "                                        labels = ['b0-0.1','b0.1-0.3','b0.3-0.8','b0.8-1.5','b1.5-max'])\n",
    "week_year_trans.head()"
   ]
  },
  {
   "cell_type": "code",
   "execution_count": 60,
   "metadata": {},
   "outputs": [
    {
     "data": {
      "text/plain": [
       "105037.29013117"
      ]
     },
     "execution_count": 60,
     "metadata": {},
     "output_type": "execute_result"
    }
   ],
   "source": [
    "np.max(week_year_trans['purchase_amount1'])"
   ]
  },
  {
   "cell_type": "code",
   "execution_count": 91,
   "metadata": {
    "scrolled": true
   },
   "outputs": [
    {
     "data": {
      "text/plain": [
       "card_id               object\n",
       "year                   int64\n",
       "week_of_year           int64\n",
       "purchase_amount1     float64\n",
       "purchase_count         int64\n",
       "purchase_bins       category\n",
       "dtype: object"
      ]
     },
     "execution_count": 91,
     "metadata": {},
     "output_type": "execute_result"
    }
   ],
   "source": [
    "week_year_trans.dtypes"
   ]
  },
  {
   "cell_type": "code",
   "execution_count": 90,
   "metadata": {
    "scrolled": true
   },
   "outputs": [
    {
     "data": {
      "text/html": [
       "<div>\n",
       "<style>\n",
       "    .dataframe thead tr:only-child th {\n",
       "        text-align: right;\n",
       "    }\n",
       "\n",
       "    .dataframe thead th {\n",
       "        text-align: left;\n",
       "    }\n",
       "\n",
       "    .dataframe tbody tr th {\n",
       "        vertical-align: top;\n",
       "    }\n",
       "</style>\n",
       "<table border=\"1\" class=\"dataframe\">\n",
       "  <thead>\n",
       "    <tr style=\"text-align: right;\">\n",
       "      <th>purchase_bins</th>\n",
       "      <th>b0-0.1</th>\n",
       "      <th>b0.1-0.3</th>\n",
       "      <th>b0.3-0.8</th>\n",
       "      <th>b0.8-1.5</th>\n",
       "      <th>b1.5-max</th>\n",
       "    </tr>\n",
       "    <tr>\n",
       "      <th>card_id</th>\n",
       "      <th></th>\n",
       "      <th></th>\n",
       "      <th></th>\n",
       "      <th></th>\n",
       "      <th></th>\n",
       "    </tr>\n",
       "  </thead>\n",
       "  <tbody>\n",
       "    <tr>\n",
       "      <th>C_ID_00007093c1</th>\n",
       "      <td>NaN</td>\n",
       "      <td>NaN</td>\n",
       "      <td>NaN</td>\n",
       "      <td>1.433169</td>\n",
       "      <td>NaN</td>\n",
       "    </tr>\n",
       "    <tr>\n",
       "      <th>C_ID_0001238066</th>\n",
       "      <td>NaN</td>\n",
       "      <td>NaN</td>\n",
       "      <td>0.305113</td>\n",
       "      <td>NaN</td>\n",
       "      <td>NaN</td>\n",
       "    </tr>\n",
       "    <tr>\n",
       "      <th>C_ID_0001506ef0</th>\n",
       "      <td>0.110745</td>\n",
       "      <td>NaN</td>\n",
       "      <td>1.428751</td>\n",
       "      <td>0.906008</td>\n",
       "      <td>NaN</td>\n",
       "    </tr>\n",
       "    <tr>\n",
       "      <th>C_ID_0001793786</th>\n",
       "      <td>NaN</td>\n",
       "      <td>0.239147</td>\n",
       "      <td>2.248011</td>\n",
       "      <td>2.273692</td>\n",
       "      <td>19.985291</td>\n",
       "    </tr>\n",
       "    <tr>\n",
       "      <th>C_ID_000183fdda</th>\n",
       "      <td>0.080136</td>\n",
       "      <td>0.286916</td>\n",
       "      <td>NaN</td>\n",
       "      <td>NaN</td>\n",
       "      <td>NaN</td>\n",
       "    </tr>\n",
       "  </tbody>\n",
       "</table>\n",
       "</div>"
      ],
      "text/plain": [
       "purchase_bins      b0-0.1  b0.1-0.3  b0.3-0.8  b0.8-1.5   b1.5-max\n",
       "card_id                                                           \n",
       "C_ID_00007093c1       NaN       NaN       NaN  1.433169        NaN\n",
       "C_ID_0001238066       NaN       NaN  0.305113       NaN        NaN\n",
       "C_ID_0001506ef0  0.110745       NaN  1.428751  0.906008        NaN\n",
       "C_ID_0001793786       NaN  0.239147  2.248011  2.273692  19.985291\n",
       "C_ID_000183fdda  0.080136  0.286916       NaN       NaN        NaN"
      ]
     },
     "execution_count": 90,
     "metadata": {},
     "output_type": "execute_result"
    }
   ],
   "source": [
    "card_purchase_bins = pd.pivot_table(week_year_trans, index='card_id', columns= ['purchase_bins'],\n",
    "                     values = 'purchase_amount1', aggfunc = np.sum)\n",
    "card_purchase_bins_df.head()"
   ]
  },
  {
   "cell_type": "code",
   "execution_count": null,
   "metadata": {
    "scrolled": true
   },
   "outputs": [],
   "source": []
  },
  {
   "cell_type": "code",
   "execution_count": 67,
   "metadata": {
    "collapsed": true
   },
   "outputs": [],
   "source": []
  },
  {
   "cell_type": "code",
   "execution_count": null,
   "metadata": {
    "collapsed": true
   },
   "outputs": [],
   "source": []
  },
  {
   "cell_type": "code",
   "execution_count": null,
   "metadata": {
    "collapsed": true
   },
   "outputs": [],
   "source": []
  },
  {
   "cell_type": "code",
   "execution_count": null,
   "metadata": {
    "collapsed": true
   },
   "outputs": [],
   "source": []
  }
 ],
 "metadata": {
  "kernelspec": {
   "display_name": "Python 3",
   "language": "python",
   "name": "python3"
  },
  "language_info": {
   "codemirror_mode": {
    "name": "ipython",
    "version": 3
   },
   "file_extension": ".py",
   "mimetype": "text/x-python",
   "name": "python",
   "nbconvert_exporter": "python",
   "pygments_lexer": "ipython3",
   "version": "3.6.2"
  }
 },
 "nbformat": 4,
 "nbformat_minor": 2
}
