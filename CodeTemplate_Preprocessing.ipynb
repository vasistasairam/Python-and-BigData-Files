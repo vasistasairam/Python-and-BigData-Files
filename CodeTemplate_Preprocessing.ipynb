{
 "cells": [
  {
   "cell_type": "code",
   "execution_count": null,
   "metadata": {
    "collapsed": true
   },
   "outputs": [],
   "source": [
    "### Author : Vasista\n",
    "### Date   : 12/11/2018\n",
    "### Topic  : Data Preprocessing, Imputation, Type Casting, Data Reshaping"
   ]
  },
  {
   "cell_type": "code",
   "execution_count": 44,
   "metadata": {
    "collapsed": true
   },
   "outputs": [],
   "source": [
    "import pandas as pd\n",
    "import numpy as np\n",
    "from sklearn.preprocessing import Imputer"
   ]
  },
  {
   "cell_type": "code",
   "execution_count": 46,
   "metadata": {},
   "outputs": [
    {
     "data": {
      "text/html": [
       "<div>\n",
       "<style>\n",
       "    .dataframe thead tr:only-child th {\n",
       "        text-align: right;\n",
       "    }\n",
       "\n",
       "    .dataframe thead th {\n",
       "        text-align: left;\n",
       "    }\n",
       "\n",
       "    .dataframe tbody tr th {\n",
       "        vertical-align: top;\n",
       "    }\n",
       "</style>\n",
       "<table border=\"1\" class=\"dataframe\">\n",
       "  <thead>\n",
       "    <tr style=\"text-align: right;\">\n",
       "      <th></th>\n",
       "      <th>PersonID</th>\n",
       "      <th>Amount</th>\n",
       "      <th>FamilySize</th>\n",
       "      <th>Distance</th>\n",
       "      <th>Duration</th>\n",
       "      <th>DirectVisits</th>\n",
       "      <th>OnlineVisits</th>\n",
       "      <th>Quantity</th>\n",
       "      <th>NumberofFrequentItems</th>\n",
       "      <th>TransactionMode</th>\n",
       "      <th>Area</th>\n",
       "      <th>Occupation</th>\n",
       "    </tr>\n",
       "  </thead>\n",
       "  <tbody>\n",
       "    <tr>\n",
       "      <th>0</th>\n",
       "      <td>C1104</td>\n",
       "      <td>3125</td>\n",
       "      <td>2</td>\n",
       "      <td>6</td>\n",
       "      <td>261</td>\n",
       "      <td>11</td>\n",
       "      <td>9</td>\n",
       "      <td>365</td>\n",
       "      <td>11</td>\n",
       "      <td>2</td>\n",
       "      <td>Area1</td>\n",
       "      <td>2</td>\n",
       "    </tr>\n",
       "    <tr>\n",
       "      <th>1</th>\n",
       "      <td>C1111</td>\n",
       "      <td>5298</td>\n",
       "      <td>2</td>\n",
       "      <td>5</td>\n",
       "      <td>323</td>\n",
       "      <td>9</td>\n",
       "      <td>9</td>\n",
       "      <td>218</td>\n",
       "      <td>3</td>\n",
       "      <td>2</td>\n",
       "      <td>Area1</td>\n",
       "      <td>1</td>\n",
       "    </tr>\n",
       "    <tr>\n",
       "      <th>2</th>\n",
       "      <td>C1117</td>\n",
       "      <td>4375</td>\n",
       "      <td>2</td>\n",
       "      <td>6</td>\n",
       "      <td>355</td>\n",
       "      <td>11</td>\n",
       "      <td>11</td>\n",
       "      <td>1367</td>\n",
       "      <td>11</td>\n",
       "      <td>2</td>\n",
       "      <td>Area1</td>\n",
       "      <td>2</td>\n",
       "    </tr>\n",
       "    <tr>\n",
       "      <th>3</th>\n",
       "      <td>C1128</td>\n",
       "      <td>9700</td>\n",
       "      <td>5</td>\n",
       "      <td>7</td>\n",
       "      <td>418</td>\n",
       "      <td>51</td>\n",
       "      <td>41</td>\n",
       "      <td>2947</td>\n",
       "      <td>51</td>\n",
       "      <td>1</td>\n",
       "      <td>Area1</td>\n",
       "      <td>1</td>\n",
       "    </tr>\n",
       "    <tr>\n",
       "      <th>4</th>\n",
       "      <td>C1132</td>\n",
       "      <td>3625</td>\n",
       "      <td>2</td>\n",
       "      <td>7</td>\n",
       "      <td>290</td>\n",
       "      <td>9</td>\n",
       "      <td>9</td>\n",
       "      <td>1233</td>\n",
       "      <td>8</td>\n",
       "      <td>2</td>\n",
       "      <td>Area1</td>\n",
       "      <td>3</td>\n",
       "    </tr>\n",
       "  </tbody>\n",
       "</table>\n",
       "</div>"
      ],
      "text/plain": [
       "  PersonID  Amount  FamilySize  Distance  Duration  DirectVisits  \\\n",
       "0    C1104    3125           2         6       261            11   \n",
       "1    C1111    5298           2         5       323             9   \n",
       "2    C1117    4375           2         6       355            11   \n",
       "3    C1128    9700           5         7       418            51   \n",
       "4    C1132    3625           2         7       290             9   \n",
       "\n",
       "   OnlineVisits  Quantity  NumberofFrequentItems  TransactionMode   Area  \\\n",
       "0             9       365                     11                2  Area1   \n",
       "1             9       218                      3                2  Area1   \n",
       "2            11      1367                     11                2  Area1   \n",
       "3            41      2947                     51                1  Area1   \n",
       "4             9      1233                      8                2  Area1   \n",
       "\n",
       "   Occupation  \n",
       "0           2  \n",
       "1           1  \n",
       "2           2  \n",
       "3           1  \n",
       "4           3  "
      ]
     },
     "execution_count": 46,
     "metadata": {},
     "output_type": "execute_result"
    }
   ],
   "source": [
    "data = pd.read_csv('C:\\Piazza\\CUTe2\\Retail_Train.csv', sep=',')\n",
    "data.head()"
   ]
  },
  {
   "cell_type": "code",
   "execution_count": 47,
   "metadata": {
    "scrolled": true
   },
   "outputs": [
    {
     "name": "stdout",
     "output_type": "stream",
     "text": [
      "(2938, 12)\n",
      "<class 'pandas.core.frame.DataFrame'>\n",
      "RangeIndex: 2938 entries, 0 to 2937\n",
      "Data columns (total 12 columns):\n",
      "PersonID                 2938 non-null object\n",
      "Amount                   2938 non-null int64\n",
      "FamilySize               2938 non-null int64\n",
      "Distance                 2938 non-null int64\n",
      "Duration                 2938 non-null int64\n",
      "DirectVisits             2938 non-null int64\n",
      "OnlineVisits             2938 non-null int64\n",
      "Quantity                 2938 non-null int64\n",
      "NumberofFrequentItems    2938 non-null int64\n",
      "TransactionMode          2938 non-null int64\n",
      "Area                     2938 non-null object\n",
      "Occupation               2938 non-null int64\n",
      "dtypes: int64(10), object(2)\n",
      "memory usage: 275.5+ KB\n"
     ]
    }
   ],
   "source": [
    "# Seperating Columns With less than 30% Missing Values.\n",
    "\n",
    "data1 = data.loc[:, data.isnull().mean() < 0.3]\n",
    "print(data1.shape)\n",
    "data1.info()"
   ]
  },
  {
   "cell_type": "code",
   "execution_count": 49,
   "metadata": {
    "collapsed": true,
    "scrolled": true
   },
   "outputs": [],
   "source": [
    "# Data Type Conversions for Columns\n",
    "\n",
    "retail = data.copy()\n",
    "retail = retail.drop(labels='PersonID',axis=1)\n",
    "retail['totalVisits'] = retail['DirectVisits'] + retail['OnlineVisits']\n",
    "retail_new = retail.drop(labels=['OnlineVisits', 'DirectVisits'],axis=1)\n",
    "\n",
    "\n",
    "retail_new['FamilySize'] = retail_new['FamilySize'].astype('object')\n",
    "retail_new['TransactionMode'] = retail_new['TransactionMode'].astype('object')\n",
    "retail_new['Occupation'] = retail_new['Occupation'].astype('object')\n",
    "\n",
    "retail_new1 = pd.get_dummies(retail_new)"
   ]
  },
  {
   "cell_type": "markdown",
   "metadata": {},
   "source": [
    "### Replace Using .replace"
   ]
  },
  {
   "cell_type": "code",
   "execution_count": null,
   "metadata": {
    "collapsed": true
   },
   "outputs": [],
   "source": [
    "weatherData_noDay['Precip (mm) sum'] = weatherData_noDay.loc[:, 'Precip (mm) sum'].replace({r'[^0-9\\.]': '', '': np.nan}, regex=True)"
   ]
  },
  {
   "cell_type": "markdown",
   "metadata": {},
   "source": [
    "### Replace Values using Lambda function"
   ]
  },
  {
   "cell_type": "code",
   "execution_count": null,
   "metadata": {
    "collapsed": true
   },
   "outputs": [],
   "source": [
    "weatherData_noDay[weatherData_noDay.columns[21]] = weatherData_noDay[weatherData_noDay.columns[21]].apply(lambda x: 0.01 if x == 'T' else x)\n",
    "\n",
    "# OR\n",
    "\n",
    "weatherData_noDay['Precip (mm) sum'] =   weatherData_noDay['Precip (mm) sum'].apply(lambda x: 0.01 if x == 'T' else x)  "
   ]
  },
  {
   "cell_type": "code",
   "execution_count": null,
   "metadata": {
    "collapsed": true
   },
   "outputs": [],
   "source": [
    "# Correlation Map"
   ]
  },
  {
   "cell_type": "code",
   "execution_count": null,
   "metadata": {
    "collapsed": true
   },
   "outputs": [],
   "source": [
    "import pandas as pd\n",
    "import numpy as np\n",
    "\n",
    "rs = np.random.RandomState(0)\n",
    "df = pd.DataFrame(rs.rand(10, 10))\n",
    "corr = df.corr()\n",
    "corr.style.background_gradient()"
   ]
  },
  {
   "cell_type": "code",
   "execution_count": null,
   "metadata": {
    "collapsed": true
   },
   "outputs": [],
   "source": []
  },
  {
   "cell_type": "code",
   "execution_count": null,
   "metadata": {
    "collapsed": true
   },
   "outputs": [],
   "source": []
  },
  {
   "cell_type": "code",
   "execution_count": null,
   "metadata": {
    "collapsed": true
   },
   "outputs": [],
   "source": []
  }
 ],
 "metadata": {
  "kernelspec": {
   "display_name": "Python 3",
   "language": "python",
   "name": "python3"
  },
  "language_info": {
   "codemirror_mode": {
    "name": "ipython",
    "version": 3
   },
   "file_extension": ".py",
   "mimetype": "text/x-python",
   "name": "python",
   "nbconvert_exporter": "python",
   "pygments_lexer": "ipython3",
   "version": "3.6.2"
  }
 },
 "nbformat": 4,
 "nbformat_minor": 2
}
