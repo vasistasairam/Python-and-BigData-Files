{
 "cells": [
  {
   "cell_type": "markdown",
   "metadata": {},
   "source": [
    "### Imp Features 0.025 %"
   ]
  },
  {
   "cell_type": "code",
   "execution_count": 1,
   "metadata": {
    "collapsed": true
   },
   "outputs": [],
   "source": [
    "import pandas as pd\n",
    "import numpy as np\n",
    "import os\n",
    "import warnings\n",
    "warnings.filterwarnings('ignore')\n",
    "from datetime import date\n",
    "from datetime import datetime\n",
    "import dateutil\n",
    "from pandas import *\n",
    "import seaborn as sns\n",
    "import matplotlib.pyplot as plt\n",
    "from sklearn.preprocessing import MinMaxScaler"
   ]
  },
  {
   "cell_type": "code",
   "execution_count": 2,
   "metadata": {
    "collapsed": true
   },
   "outputs": [],
   "source": [
    "from sklearn.model_selection import train_test_split\n",
    "from sklearn.ensemble import RandomForestRegressor, GradientBoostingRegressor\n",
    "from sklearn.metrics import r2_score\n",
    "from sklearn.model_selection import KFold \n",
    "from sklearn.model_selection import cross_val_score\n",
    "import lightgbm as lgb\n",
    "from sklearn.model_selection import StratifiedKFold"
   ]
  },
  {
   "cell_type": "code",
   "execution_count": 3,
   "metadata": {
    "collapsed": true
   },
   "outputs": [],
   "source": [
    "csv_files = os.chdir('C:\\\\Users\\\\HP\\\\Desktop\\\\PHD Hackathon\\\\Data Science\\\\PHD Models\\\\Weather_Features')\n",
    "weather_features = pd.read_csv('weatherData_full.csv', encoding='latin 1')\n",
    "holidays_features = pd.read_csv('holidays_features.csv')\n",
    "economic_features = pd.read_csv('economic_features.csv')\n",
    "womenClothing_sales = pd.read_csv('womenClothing_sales.csv')"
   ]
  },
  {
   "cell_type": "code",
   "execution_count": 4,
   "metadata": {},
   "outputs": [
    {
     "name": "stdout",
     "output_type": "stream",
     "text": [
      "womenClothing : (84, 3)\n",
      "holidays_features : (81, 6)\n",
      "economic_features : (96, 18)\n",
      "weather_features : (96, 83)\n"
     ]
    }
   ],
   "source": [
    "print('womenClothing :', womenClothing_sales.shape)\n",
    "print('holidays_features :', holidays_features.shape)\n",
    "print('economic_features :', economic_features.shape)\n",
    "print('weather_features :', weather_features.shape)"
   ]
  },
  {
   "cell_type": "markdown",
   "metadata": {},
   "source": [
    "## Seperate Train and Test Data"
   ]
  },
  {
   "cell_type": "markdown",
   "metadata": {},
   "source": [
    "### Test Data"
   ]
  },
  {
   "cell_type": "code",
   "execution_count": 5,
   "metadata": {
    "collapsed": true
   },
   "outputs": [],
   "source": [
    "weather_features_test = weather_features[weather_features['Year'] == 2016]\n",
    "holidays_features_test = holidays_features[holidays_features['Year'] == 2016]\n",
    "economic_features_test = economic_features[economic_features['Year'] == 2016]"
   ]
  },
  {
   "cell_type": "code",
   "execution_count": 6,
   "metadata": {},
   "outputs": [
    {
     "name": "stdout",
     "output_type": "stream",
     "text": [
      "holidays_features : (11, 6)\n",
      "economic_features : (12, 18)\n",
      "weather_features : (12, 83)\n"
     ]
    }
   ],
   "source": [
    "print('holidays_features :', holidays_features_test.shape)\n",
    "print('economic_features :', economic_features_test.shape)\n",
    "print('weather_features :', weather_features_test.shape)"
   ]
  },
  {
   "cell_type": "code",
   "execution_count": 7,
   "metadata": {
    "collapsed": true
   },
   "outputs": [],
   "source": [
    "test_data = weather_features_test.merge(holidays_features_test, left_on=['Year', 'Month'], right_on=['Year', 'Month'], how='left')\n",
    "test_data = test_data.merge(economic_features_test, left_on=['Year', 'Month'], right_on=['Year', 'Month'], how='left')"
   ]
  },
  {
   "cell_type": "code",
   "execution_count": 8,
   "metadata": {},
   "outputs": [
    {
     "data": {
      "text/html": [
       "<div>\n",
       "<style>\n",
       "    .dataframe thead tr:only-child th {\n",
       "        text-align: right;\n",
       "    }\n",
       "\n",
       "    .dataframe thead th {\n",
       "        text-align: left;\n",
       "    }\n",
       "\n",
       "    .dataframe tbody tr th {\n",
       "        vertical-align: top;\n",
       "    }\n",
       "</style>\n",
       "<table border=\"1\" class=\"dataframe\">\n",
       "  <thead>\n",
       "    <tr style=\"text-align: right;\">\n",
       "      <th></th>\n",
       "      <th>Year</th>\n",
       "      <th>Month</th>\n",
       "      <th>Temp high (°C)min</th>\n",
       "      <th>Temp high (°C)max</th>\n",
       "      <th>Temp high (°C)mean</th>\n",
       "      <th>Temp high (°C)var</th>\n",
       "      <th>Temp avg (°C)min</th>\n",
       "      <th>Temp avg (°C)max</th>\n",
       "      <th>Temp avg (°C)mean</th>\n",
       "      <th>Temp avg (°C)var</th>\n",
       "      <th>...</th>\n",
       "      <th>Earnings or wages  in dollars per hour</th>\n",
       "      <th>AdvertisingExpenses (in Thousand Dollars)</th>\n",
       "      <th>Cotton Monthly Price - US cents per Pound(lbs)</th>\n",
       "      <th>Change(in%)</th>\n",
       "      <th>Average upland planted(million acres)</th>\n",
       "      <th>Average upland harvested(million acres)</th>\n",
       "      <th>yieldperharvested acre</th>\n",
       "      <th>Production (in  480-lb netweright in million bales)</th>\n",
       "      <th>Mill use  (in  480-lb netweright in million bales)</th>\n",
       "      <th>Exports</th>\n",
       "    </tr>\n",
       "  </thead>\n",
       "  <tbody>\n",
       "    <tr>\n",
       "      <th>7</th>\n",
       "      <td>2016</td>\n",
       "      <td>5</td>\n",
       "      <td>11.0</td>\n",
       "      <td>33.0</td>\n",
       "      <td>21.258065</td>\n",
       "      <td>45.197849</td>\n",
       "      <td>9.0</td>\n",
       "      <td>28.0</td>\n",
       "      <td>17.193548</td>\n",
       "      <td>31.894624</td>\n",
       "      <td>...</td>\n",
       "      <td>25.68</td>\n",
       "      <td>0.0</td>\n",
       "      <td>70.28</td>\n",
       "      <td>0.73</td>\n",
       "      <td>8.422</td>\n",
       "      <td>7.920</td>\n",
       "      <td>755</td>\n",
       "      <td>12.455</td>\n",
       "      <td>3.275</td>\n",
       "      <td>8.50</td>\n",
       "    </tr>\n",
       "    <tr>\n",
       "      <th>8</th>\n",
       "      <td>2016</td>\n",
       "      <td>6</td>\n",
       "      <td>19.0</td>\n",
       "      <td>31.0</td>\n",
       "      <td>27.100000</td>\n",
       "      <td>11.127586</td>\n",
       "      <td>16.0</td>\n",
       "      <td>27.0</td>\n",
       "      <td>22.433333</td>\n",
       "      <td>6.322989</td>\n",
       "      <td>...</td>\n",
       "      <td>25.42</td>\n",
       "      <td>0.0</td>\n",
       "      <td>74.10</td>\n",
       "      <td>0.73</td>\n",
       "      <td>9.347</td>\n",
       "      <td>8.588</td>\n",
       "      <td>792</td>\n",
       "      <td>12.165</td>\n",
       "      <td>3.275</td>\n",
       "      <td>9.95</td>\n",
       "    </tr>\n",
       "    <tr>\n",
       "      <th>9</th>\n",
       "      <td>2016</td>\n",
       "      <td>7</td>\n",
       "      <td>22.0</td>\n",
       "      <td>36.0</td>\n",
       "      <td>30.129032</td>\n",
       "      <td>11.449462</td>\n",
       "      <td>21.0</td>\n",
       "      <td>31.0</td>\n",
       "      <td>26.064516</td>\n",
       "      <td>6.662366</td>\n",
       "      <td>...</td>\n",
       "      <td>25.53</td>\n",
       "      <td>0.0</td>\n",
       "      <td>79.50</td>\n",
       "      <td>0.73</td>\n",
       "      <td>9.824</td>\n",
       "      <td>9.104</td>\n",
       "      <td>802</td>\n",
       "      <td>15.215</td>\n",
       "      <td>3.275</td>\n",
       "      <td>10.95</td>\n",
       "    </tr>\n",
       "    <tr>\n",
       "      <th>10</th>\n",
       "      <td>2016</td>\n",
       "      <td>8</td>\n",
       "      <td>26.0</td>\n",
       "      <td>36.0</td>\n",
       "      <td>30.354839</td>\n",
       "      <td>6.169892</td>\n",
       "      <td>22.0</td>\n",
       "      <td>32.0</td>\n",
       "      <td>26.354839</td>\n",
       "      <td>5.303226</td>\n",
       "      <td>...</td>\n",
       "      <td>25.52</td>\n",
       "      <td>0.0</td>\n",
       "      <td>79.50</td>\n",
       "      <td>0.00</td>\n",
       "      <td>9.824</td>\n",
       "      <td>9.340</td>\n",
       "      <td>787</td>\n",
       "      <td>15.314</td>\n",
       "      <td>3.275</td>\n",
       "      <td>10.95</td>\n",
       "    </tr>\n",
       "    <tr>\n",
       "      <th>11</th>\n",
       "      <td>2016</td>\n",
       "      <td>9</td>\n",
       "      <td>15.0</td>\n",
       "      <td>33.0</td>\n",
       "      <td>26.166667</td>\n",
       "      <td>19.040230</td>\n",
       "      <td>14.0</td>\n",
       "      <td>28.0</td>\n",
       "      <td>22.133333</td>\n",
       "      <td>12.809195</td>\n",
       "      <td>...</td>\n",
       "      <td>25.74</td>\n",
       "      <td>0.0</td>\n",
       "      <td>77.86</td>\n",
       "      <td>0.00</td>\n",
       "      <td>9.950</td>\n",
       "      <td>9.464</td>\n",
       "      <td>790</td>\n",
       "      <td>15.580</td>\n",
       "      <td>3.275</td>\n",
       "      <td>10.95</td>\n",
       "    </tr>\n",
       "  </tbody>\n",
       "</table>\n",
       "<p>5 rows × 103 columns</p>\n",
       "</div>"
      ],
      "text/plain": [
       "    Year  Month  Temp high (°C)min  Temp high (°C)max  Temp high (°C)mean  \\\n",
       "7   2016      5               11.0               33.0           21.258065   \n",
       "8   2016      6               19.0               31.0           27.100000   \n",
       "9   2016      7               22.0               36.0           30.129032   \n",
       "10  2016      8               26.0               36.0           30.354839   \n",
       "11  2016      9               15.0               33.0           26.166667   \n",
       "\n",
       "    Temp high (°C)var  Temp avg (°C)min  Temp avg (°C)max  Temp avg (°C)mean  \\\n",
       "7           45.197849               9.0              28.0          17.193548   \n",
       "8           11.127586              16.0              27.0          22.433333   \n",
       "9           11.449462              21.0              31.0          26.064516   \n",
       "10           6.169892              22.0              32.0          26.354839   \n",
       "11          19.040230              14.0              28.0          22.133333   \n",
       "\n",
       "    Temp avg (°C)var   ...     Earnings or wages  in dollars per hour  \\\n",
       "7          31.894624   ...                                      25.68   \n",
       "8           6.322989   ...                                      25.42   \n",
       "9           6.662366   ...                                      25.53   \n",
       "10          5.303226   ...                                      25.52   \n",
       "11         12.809195   ...                                      25.74   \n",
       "\n",
       "    AdvertisingExpenses (in Thousand Dollars)  \\\n",
       "7                                         0.0   \n",
       "8                                         0.0   \n",
       "9                                         0.0   \n",
       "10                                        0.0   \n",
       "11                                        0.0   \n",
       "\n",
       "    Cotton Monthly Price - US cents per Pound(lbs)  Change(in%)  \\\n",
       "7                                            70.28         0.73   \n",
       "8                                            74.10         0.73   \n",
       "9                                            79.50         0.73   \n",
       "10                                           79.50         0.00   \n",
       "11                                           77.86         0.00   \n",
       "\n",
       "    Average upland planted(million acres)  \\\n",
       "7                                   8.422   \n",
       "8                                   9.347   \n",
       "9                                   9.824   \n",
       "10                                  9.824   \n",
       "11                                  9.950   \n",
       "\n",
       "    Average upland harvested(million acres)  yieldperharvested acre  \\\n",
       "7                                     7.920                     755   \n",
       "8                                     8.588                     792   \n",
       "9                                     9.104                     802   \n",
       "10                                    9.340                     787   \n",
       "11                                    9.464                     790   \n",
       "\n",
       "    Production (in  480-lb netweright in million bales)  \\\n",
       "7                                              12.455     \n",
       "8                                              12.165     \n",
       "9                                              15.215     \n",
       "10                                             15.314     \n",
       "11                                             15.580     \n",
       "\n",
       "    Mill use  (in  480-lb netweright in million bales)  Exports  \n",
       "7                                               3.275      8.50  \n",
       "8                                               3.275      9.95  \n",
       "9                                               3.275     10.95  \n",
       "10                                              3.275     10.95  \n",
       "11                                              3.275     10.95  \n",
       "\n",
       "[5 rows x 103 columns]"
      ]
     },
     "execution_count": 8,
     "metadata": {},
     "output_type": "execute_result"
    }
   ],
   "source": [
    "test_data.tail()"
   ]
  },
  {
   "cell_type": "code",
   "execution_count": 9,
   "metadata": {
    "scrolled": true
   },
   "outputs": [
    {
     "data": {
      "text/plain": [
       "Year                                                                 0\n",
       "Month                                                                0\n",
       "Temp high (°C)min                                                    0\n",
       "Temp high (°C)max                                                    0\n",
       "Temp high (°C)mean                                                   0\n",
       "Temp high (°C)var                                                    0\n",
       "Temp avg (°C)min                                                     0\n",
       "Temp avg (°C)max                                                     0\n",
       "Temp avg (°C)mean                                                    0\n",
       "Temp avg (°C)var                                                     0\n",
       "Temp low (°C)min                                                     0\n",
       "Temp low (°C)max                                                     0\n",
       "Temp low (°C)mean                                                    0\n",
       "Temp low (°C)var                                                     0\n",
       "Dew Point high (°C)min                                               0\n",
       "Dew Point high (°C)max                                               0\n",
       "Dew Point high (°C)mean                                              0\n",
       "Dew Point high (°C)var                                               0\n",
       "Dew Point avg (°C)min                                                0\n",
       "Dew Point avg (°C)max                                                0\n",
       "Dew Point avg (°C)mean                                               0\n",
       "Dew Point avg (°C)var                                                0\n",
       "Dew Point low (°C)min                                                0\n",
       "Dew Point low (°C)max                                                0\n",
       "Dew Point low (°C)mean                                               0\n",
       "Dew Point low (°C)var                                                0\n",
       "Humidity_highmin                                                     0\n",
       "Humidity_highmax                                                     0\n",
       "Humidity_highmean                                                    0\n",
       "Humidity_highvar                                                     0\n",
       "                                                                    ..\n",
       "Wind (km/h) highvar                                                  0\n",
       "Fog                                                                  0\n",
       "Fog , Rain                                                           0\n",
       "Fog , Rain , Snow                                                    0\n",
       "Fog , Snow                                                           0\n",
       "Other                                                                0\n",
       "Rain                                                                 0\n",
       "Rain , Snow                                                          0\n",
       "Snow                                                                 0\n",
       "Thunderstorm                                                         0\n",
       "Event                                                                1\n",
       "Federal Holiday                                                      1\n",
       "Event_Yes_No                                                         1\n",
       "Federal Holiday_Yes_No                                               1\n",
       "Monthly Nominal GDP Index (inMillion$)                               0\n",
       "Monthly Real GDP Index (inMillion$)                                  0\n",
       "CPI                                                                  0\n",
       "unemployment rate                                                    0\n",
       "CommercialBankInterestRateonCreditCardPlans                          0\n",
       "Finance Rate on Personal Loans at Commercial Banks, 24 Month Loan    0\n",
       "Earnings or wages  in dollars per hour                               0\n",
       "AdvertisingExpenses (in Thousand Dollars)                            0\n",
       "Cotton Monthly Price - US cents per Pound(lbs)                       0\n",
       "Change(in%)                                                          0\n",
       "Average upland planted(million acres)                                0\n",
       "Average upland harvested(million acres)                              0\n",
       "yieldperharvested acre                                               0\n",
       "Production (in  480-lb netweright in million bales)                  0\n",
       "Mill use  (in  480-lb netweright in million bales)                   0\n",
       "Exports                                                              0\n",
       "Length: 103, dtype: int64"
      ]
     },
     "execution_count": 9,
     "metadata": {},
     "output_type": "execute_result"
    }
   ],
   "source": [
    "test_data.isnull().sum()"
   ]
  },
  {
   "cell_type": "markdown",
   "metadata": {},
   "source": [
    "### Train Data"
   ]
  },
  {
   "cell_type": "code",
   "execution_count": 10,
   "metadata": {
    "collapsed": true
   },
   "outputs": [],
   "source": [
    "weather_features_train = weather_features[weather_features['Year'] != 2016]\n",
    "holidays_features_train = holidays_features[holidays_features['Year'] != 2016]\n",
    "economic_features_train = economic_features[economic_features['Year'] != 2016]"
   ]
  },
  {
   "cell_type": "code",
   "execution_count": 11,
   "metadata": {},
   "outputs": [
    {
     "name": "stdout",
     "output_type": "stream",
     "text": [
      "holidays_features : (70, 6)\n",
      "economic_features : (84, 18)\n",
      "weather_features : (84, 83)\n"
     ]
    }
   ],
   "source": [
    "print('holidays_features :', holidays_features_train.shape)\n",
    "print('economic_features :', economic_features_train.shape)\n",
    "print('weather_features :', weather_features_train.shape)"
   ]
  },
  {
   "cell_type": "code",
   "execution_count": 12,
   "metadata": {
    "collapsed": true
   },
   "outputs": [],
   "source": [
    "train_data = womenClothing_sales.merge(holidays_features_train, left_on=['Year', 'Month'], right_on=['Year', 'Month'], how='left')\n",
    "train_data = train_data.merge(economic_features_train, left_on=['Year', 'Month'], right_on=['Year', 'Month'], how='left')\n",
    "train_data = train_data.merge(weather_features_train, left_on=['Year', 'Month'], right_on=['Year', 'Month'], how='left')"
   ]
  },
  {
   "cell_type": "code",
   "execution_count": 13,
   "metadata": {},
   "outputs": [
    {
     "data": {
      "text/html": [
       "<div>\n",
       "<style>\n",
       "    .dataframe thead tr:only-child th {\n",
       "        text-align: right;\n",
       "    }\n",
       "\n",
       "    .dataframe thead th {\n",
       "        text-align: left;\n",
       "    }\n",
       "\n",
       "    .dataframe tbody tr th {\n",
       "        vertical-align: top;\n",
       "    }\n",
       "</style>\n",
       "<table border=\"1\" class=\"dataframe\">\n",
       "  <thead>\n",
       "    <tr style=\"text-align: right;\">\n",
       "      <th></th>\n",
       "      <th>Year</th>\n",
       "      <th>Month</th>\n",
       "      <th>WomenClothing_Sales</th>\n",
       "      <th>Event</th>\n",
       "      <th>Federal Holiday</th>\n",
       "      <th>Event_Yes_No</th>\n",
       "      <th>Federal Holiday_Yes_No</th>\n",
       "      <th>Monthly Nominal GDP Index (inMillion$)</th>\n",
       "      <th>Monthly Real GDP Index (inMillion$)</th>\n",
       "      <th>CPI</th>\n",
       "      <th>...</th>\n",
       "      <th>Wind (km/h) highvar</th>\n",
       "      <th>Fog</th>\n",
       "      <th>Fog , Rain</th>\n",
       "      <th>Fog , Rain , Snow</th>\n",
       "      <th>Fog , Snow</th>\n",
       "      <th>Other</th>\n",
       "      <th>Rain</th>\n",
       "      <th>Rain , Snow</th>\n",
       "      <th>Snow</th>\n",
       "      <th>Thunderstorm</th>\n",
       "    </tr>\n",
       "  </thead>\n",
       "  <tbody>\n",
       "    <tr>\n",
       "      <th>0</th>\n",
       "      <td>2009</td>\n",
       "      <td>1</td>\n",
       "      <td>1755.0</td>\n",
       "      <td>0.0</td>\n",
       "      <td>2.0</td>\n",
       "      <td>No</td>\n",
       "      <td>Yes</td>\n",
       "      <td>14421.752895</td>\n",
       "      <td>14407.053343</td>\n",
       "      <td>233.402</td>\n",
       "      <td>...</td>\n",
       "      <td>96.625806</td>\n",
       "      <td>0</td>\n",
       "      <td>0</td>\n",
       "      <td>2</td>\n",
       "      <td>2</td>\n",
       "      <td>21</td>\n",
       "      <td>3</td>\n",
       "      <td>0</td>\n",
       "      <td>3</td>\n",
       "      <td>0</td>\n",
       "    </tr>\n",
       "    <tr>\n",
       "      <th>1</th>\n",
       "      <td>2009</td>\n",
       "      <td>2</td>\n",
       "      <td>1729.0</td>\n",
       "      <td>1.0</td>\n",
       "      <td>1.0</td>\n",
       "      <td>Yes</td>\n",
       "      <td>Yes</td>\n",
       "      <td>14389.200466</td>\n",
       "      <td>14366.176571</td>\n",
       "      <td>234.663</td>\n",
       "      <td>...</td>\n",
       "      <td>167.349206</td>\n",
       "      <td>0</td>\n",
       "      <td>0</td>\n",
       "      <td>0</td>\n",
       "      <td>1</td>\n",
       "      <td>22</td>\n",
       "      <td>4</td>\n",
       "      <td>1</td>\n",
       "      <td>0</td>\n",
       "      <td>0</td>\n",
       "    </tr>\n",
       "    <tr>\n",
       "      <th>2</th>\n",
       "      <td>2009</td>\n",
       "      <td>3</td>\n",
       "      <td>2256.0</td>\n",
       "      <td>NaN</td>\n",
       "      <td>NaN</td>\n",
       "      <td>NaN</td>\n",
       "      <td>NaN</td>\n",
       "      <td>14340.701639</td>\n",
       "      <td>14351.786822</td>\n",
       "      <td>235.067</td>\n",
       "      <td>...</td>\n",
       "      <td>92.245161</td>\n",
       "      <td>1</td>\n",
       "      <td>0</td>\n",
       "      <td>0</td>\n",
       "      <td>2</td>\n",
       "      <td>21</td>\n",
       "      <td>7</td>\n",
       "      <td>0</td>\n",
       "      <td>0</td>\n",
       "      <td>0</td>\n",
       "    </tr>\n",
       "    <tr>\n",
       "      <th>3</th>\n",
       "      <td>2009</td>\n",
       "      <td>4</td>\n",
       "      <td>2662.0</td>\n",
       "      <td>1.0</td>\n",
       "      <td>0.0</td>\n",
       "      <td>Yes</td>\n",
       "      <td>No</td>\n",
       "      <td>14326.815525</td>\n",
       "      <td>14351.601731</td>\n",
       "      <td>235.582</td>\n",
       "      <td>...</td>\n",
       "      <td>87.426437</td>\n",
       "      <td>0</td>\n",
       "      <td>1</td>\n",
       "      <td>0</td>\n",
       "      <td>0</td>\n",
       "      <td>18</td>\n",
       "      <td>11</td>\n",
       "      <td>0</td>\n",
       "      <td>0</td>\n",
       "      <td>0</td>\n",
       "    </tr>\n",
       "    <tr>\n",
       "      <th>4</th>\n",
       "      <td>2009</td>\n",
       "      <td>5</td>\n",
       "      <td>2732.0</td>\n",
       "      <td>1.0</td>\n",
       "      <td>1.0</td>\n",
       "      <td>Yes</td>\n",
       "      <td>Yes</td>\n",
       "      <td>14345.904809</td>\n",
       "      <td>14368.123959</td>\n",
       "      <td>235.975</td>\n",
       "      <td>...</td>\n",
       "      <td>88.874886</td>\n",
       "      <td>0</td>\n",
       "      <td>4</td>\n",
       "      <td>0</td>\n",
       "      <td>0</td>\n",
       "      <td>17</td>\n",
       "      <td>10</td>\n",
       "      <td>0</td>\n",
       "      <td>0</td>\n",
       "      <td>0</td>\n",
       "    </tr>\n",
       "  </tbody>\n",
       "</table>\n",
       "<p>5 rows × 104 columns</p>\n",
       "</div>"
      ],
      "text/plain": [
       "   Year  Month  WomenClothing_Sales  Event  Federal Holiday Event_Yes_No  \\\n",
       "0  2009      1               1755.0    0.0              2.0           No   \n",
       "1  2009      2               1729.0    1.0              1.0          Yes   \n",
       "2  2009      3               2256.0    NaN              NaN          NaN   \n",
       "3  2009      4               2662.0    1.0              0.0          Yes   \n",
       "4  2009      5               2732.0    1.0              1.0          Yes   \n",
       "\n",
       "  Federal Holiday_Yes_No  Monthly Nominal GDP Index (inMillion$)  \\\n",
       "0                    Yes                            14421.752895   \n",
       "1                    Yes                            14389.200466   \n",
       "2                    NaN                            14340.701639   \n",
       "3                     No                            14326.815525   \n",
       "4                    Yes                            14345.904809   \n",
       "\n",
       "   Monthly Real GDP Index (inMillion$)      CPI      ...       \\\n",
       "0                         14407.053343  233.402      ...        \n",
       "1                         14366.176571  234.663      ...        \n",
       "2                         14351.786822  235.067      ...        \n",
       "3                         14351.601731  235.582      ...        \n",
       "4                         14368.123959  235.975      ...        \n",
       "\n",
       "   Wind (km/h) highvar  Fog  Fog , Rain  Fog , Rain , Snow  Fog , Snow  Other  \\\n",
       "0            96.625806    0           0                  2           2     21   \n",
       "1           167.349206    0           0                  0           1     22   \n",
       "2            92.245161    1           0                  0           2     21   \n",
       "3            87.426437    0           1                  0           0     18   \n",
       "4            88.874886    0           4                  0           0     17   \n",
       "\n",
       "   Rain  Rain , Snow  Snow  Thunderstorm  \n",
       "0     3            0     3             0  \n",
       "1     4            1     0             0  \n",
       "2     7            0     0             0  \n",
       "3    11            0     0             0  \n",
       "4    10            0     0             0  \n",
       "\n",
       "[5 rows x 104 columns]"
      ]
     },
     "execution_count": 13,
     "metadata": {},
     "output_type": "execute_result"
    }
   ],
   "source": [
    "train_data.head()"
   ]
  },
  {
   "cell_type": "code",
   "execution_count": 14,
   "metadata": {},
   "outputs": [
    {
     "data": {
      "text/plain": [
       "(84, 104)"
      ]
     },
     "execution_count": 14,
     "metadata": {},
     "output_type": "execute_result"
    }
   ],
   "source": [
    "train_data.shape"
   ]
  },
  {
   "cell_type": "code",
   "execution_count": 15,
   "metadata": {
    "scrolled": true
   },
   "outputs": [
    {
     "data": {
      "text/plain": [
       "Year                                                                  0\n",
       "Month                                                                 0\n",
       "WomenClothing_Sales                                                   0\n",
       "Event                                                                14\n",
       "Federal Holiday                                                      14\n",
       "Event_Yes_No                                                         14\n",
       "Federal Holiday_Yes_No                                               14\n",
       "Monthly Nominal GDP Index (inMillion$)                                0\n",
       "Monthly Real GDP Index (inMillion$)                                   0\n",
       "CPI                                                                   0\n",
       "unemployment rate                                                     0\n",
       "CommercialBankInterestRateonCreditCardPlans                           0\n",
       "Finance Rate on Personal Loans at Commercial Banks, 24 Month Loan     0\n",
       "Earnings or wages  in dollars per hour                                0\n",
       "AdvertisingExpenses (in Thousand Dollars)                             0\n",
       "Cotton Monthly Price - US cents per Pound(lbs)                        0\n",
       "Change(in%)                                                           0\n",
       "Average upland planted(million acres)                                 0\n",
       "Average upland harvested(million acres)                               0\n",
       "yieldperharvested acre                                                0\n",
       "Production (in  480-lb netweright in million bales)                   0\n",
       "Mill use  (in  480-lb netweright in million bales)                    0\n",
       "Exports                                                               0\n",
       "Temp high (°C)min                                                     0\n",
       "Temp high (°C)max                                                     0\n",
       "Temp high (°C)mean                                                    0\n",
       "Temp high (°C)var                                                     0\n",
       "Temp avg (°C)min                                                      0\n",
       "Temp avg (°C)max                                                      0\n",
       "Temp avg (°C)mean                                                     0\n",
       "                                                                     ..\n",
       "Visibility (km) highvar                                               0\n",
       "Visibility (km) avgmin                                                0\n",
       "Visibility (km) avgmax                                                0\n",
       "Visibility (km) avgmean                                               0\n",
       "Visibility (km) avgvar                                                0\n",
       "Visibility (km) lowmin                                                0\n",
       "Visibility (km) lowmax                                                0\n",
       "Visibility (km) lowmean                                               0\n",
       "Visibility (km) lowvar                                                0\n",
       "Wind (km/h) lowmin                                                    0\n",
       "Wind (km/h) lowmax                                                    0\n",
       "Wind (km/h) lowmean                                                   0\n",
       "Wind (km/h) lowvar                                                    0\n",
       "Wind (km/h) avgmin                                                    0\n",
       "Wind (km/h) avgmax                                                    0\n",
       "Wind (km/h) avgmean                                                   0\n",
       "Wind (km/h) avgvar                                                    0\n",
       "Wind (km/h) highmin                                                   0\n",
       "Wind (km/h) highmax                                                   0\n",
       "Wind (km/h) highmean                                                  0\n",
       "Wind (km/h) highvar                                                   0\n",
       "Fog                                                                   0\n",
       "Fog , Rain                                                            0\n",
       "Fog , Rain , Snow                                                     0\n",
       "Fog , Snow                                                            0\n",
       "Other                                                                 0\n",
       "Rain                                                                  0\n",
       "Rain , Snow                                                           0\n",
       "Snow                                                                  0\n",
       "Thunderstorm                                                          0\n",
       "Length: 104, dtype: int64"
      ]
     },
     "execution_count": 15,
     "metadata": {},
     "output_type": "execute_result"
    }
   ],
   "source": [
    "train_data.isnull().sum()"
   ]
  },
  {
   "cell_type": "code",
   "execution_count": 16,
   "metadata": {
    "collapsed": true
   },
   "outputs": [],
   "source": [
    "# train_data['new_col'] = train_data['Month'].apply(lambda x: 1 if x==12 else 0)\n",
    "# test_data['new_col'] = test_data['Month'].apply(lambda x: 1 if x==12 else 0)\n"
   ]
  },
  {
   "cell_type": "markdown",
   "metadata": {},
   "source": [
    "### Drop Columns"
   ]
  },
  {
   "cell_type": "code",
   "execution_count": 16,
   "metadata": {
    "collapsed": true
   },
   "outputs": [],
   "source": [
    "X = train_data.copy().drop(['WomenClothing_Sales','Event_Yes_No', 'Federal Holiday_Yes_No'], axis = 1)\n",
    "Y = train_data['WomenClothing_Sales']\n",
    "Y1 = train_data['Year']"
   ]
  },
  {
   "cell_type": "markdown",
   "metadata": {},
   "source": [
    "### Fill Missing Values"
   ]
  },
  {
   "cell_type": "code",
   "execution_count": 29,
   "metadata": {
    "collapsed": true
   },
   "outputs": [],
   "source": [
    "X = X.fillna(0)\n",
    "test_data = test_data.fillna(0)"
   ]
  },
  {
   "cell_type": "markdown",
   "metadata": {},
   "source": [
    "## Models"
   ]
  },
  {
   "cell_type": "markdown",
   "metadata": {},
   "source": [
    "### Train Val Split"
   ]
  },
  {
   "cell_type": "code",
   "execution_count": 30,
   "metadata": {
    "collapsed": true,
    "scrolled": false
   },
   "outputs": [],
   "source": [
    "trainX_fold, valX_fold, trainY_fold, valY_fold =  train_test_split(X, Y1, test_size=0.25, random_state=42, shuffle=False)\n",
    "y_train, y_val = Y.loc[trainY_fold.index], Y.loc[valY_fold.index]"
   ]
  },
  {
   "cell_type": "code",
   "execution_count": 31,
   "metadata": {},
   "outputs": [
    {
     "name": "stdout",
     "output_type": "stream",
     "text": [
      "(63, 101)\n"
     ]
    },
    {
     "data": {
      "text/plain": [
       "pandas.core.series.Series"
      ]
     },
     "execution_count": 31,
     "metadata": {},
     "output_type": "execute_result"
    }
   ],
   "source": [
    "print(trainX_fold.shape)\n",
    "type(y_train)"
   ]
  },
  {
   "cell_type": "markdown",
   "metadata": {},
   "source": [
    "### MAPE Function"
   ]
  },
  {
   "cell_type": "code",
   "execution_count": 32,
   "metadata": {
    "collapsed": true
   },
   "outputs": [],
   "source": [
    "def mean_absolute_percentage_error(y_true, y_pred): \n",
    "    y_true, y_pred = np.array(y_true), np.array(y_pred)\n",
    "    return np.mean(np.abs((y_true - y_pred) / y_true)) * 100"
   ]
  },
  {
   "cell_type": "markdown",
   "metadata": {},
   "source": [
    "### Light GBM"
   ]
  },
  {
   "cell_type": "code",
   "execution_count": 33,
   "metadata": {
    "collapsed": true
   },
   "outputs": [],
   "source": [
    "def run_lgb(train_X, train_y, val_X, val_y):\n",
    "    param = {'num_leaves': 30,\n",
    "#              'min_data_in_leaf': 100,\n",
    "             'objective': 'regression',\n",
    "             'max_depth': 8,\n",
    "             'learning_rate': 0.01,\n",
    "             \"boosting\": \"gbdt\",\n",
    "             \"feature_fraction\": 0.7,\n",
    "             \"bagging_freq\": 1,\n",
    "             \"bagging_fraction\": 0.7,\n",
    "             \"bagging_seed\": 11,\n",
    "             \"metric\": 'mape',\n",
    "             # \"lambda_l1\": 0.2634,\n",
    "             \"random_state\": 133,\n",
    "             \"verbosity\": -1}\n",
    "\n",
    "    lgtrain = lgb.Dataset(train_X, label=train_y)\n",
    "    lgval = lgb.Dataset(val_X, label=val_y)\n",
    "    evals_result = {}\n",
    "    model = lgb.train(param, lgtrain, 2000, valid_sets=[lgval], early_stopping_rounds=100, verbose_eval=100,\n",
    "                      evals_result=evals_result)\n",
    "    return model, evals_result\n"
   ]
  },
  {
   "cell_type": "code",
   "execution_count": 34,
   "metadata": {
    "scrolled": true
   },
   "outputs": [
    {
     "name": "stdout",
     "output_type": "stream",
     "text": [
      "Training until validation scores don't improve for 100 rounds.\n",
      "[100]\tvalid_0's mape: 0.195624\n",
      "[200]\tvalid_0's mape: 0.181742\n",
      "[300]\tvalid_0's mape: 0.175896\n",
      "[400]\tvalid_0's mape: 0.170129\n",
      "[500]\tvalid_0's mape: 0.167004\n",
      "[600]\tvalid_0's mape: 0.162919\n",
      "[700]\tvalid_0's mape: 0.161281\n",
      "[800]\tvalid_0's mape: 0.159466\n",
      "[900]\tvalid_0's mape: 0.157624\n",
      "[1000]\tvalid_0's mape: 0.158465\n",
      "Early stopping, best iteration is:\n",
      "[968]\tvalid_0's mape: 0.157335\n"
     ]
    }
   ],
   "source": [
    "model, evals_result = run_lgb(trainX_fold, y_train, valX_fold, y_val)"
   ]
  },
  {
   "cell_type": "code",
   "execution_count": null,
   "metadata": {
    "collapsed": true
   },
   "outputs": [],
   "source": []
  },
  {
   "cell_type": "markdown",
   "metadata": {},
   "source": [
    "### Predict On Test"
   ]
  },
  {
   "cell_type": "code",
   "execution_count": 35,
   "metadata": {},
   "outputs": [
    {
     "ename": "ValueError",
     "evalue": "labels ['Event_Yes_No' 'Federal Holiday_Yes_No'] not contained in axis",
     "output_type": "error",
     "traceback": [
      "\u001b[1;31m---------------------------------------------------------------------------\u001b[0m",
      "\u001b[1;31mValueError\u001b[0m                                Traceback (most recent call last)",
      "\u001b[1;32m<ipython-input-35-edd783446e2e>\u001b[0m in \u001b[0;36m<module>\u001b[1;34m()\u001b[0m\n\u001b[1;32m----> 1\u001b[1;33m \u001b[0mtest_data\u001b[0m \u001b[1;33m=\u001b[0m \u001b[0mtest_data\u001b[0m\u001b[1;33m.\u001b[0m\u001b[0mdrop\u001b[0m\u001b[1;33m(\u001b[0m\u001b[1;33m[\u001b[0m\u001b[1;34m'Event_Yes_No'\u001b[0m\u001b[1;33m,\u001b[0m \u001b[1;34m'Federal Holiday_Yes_No'\u001b[0m\u001b[1;33m]\u001b[0m\u001b[1;33m,\u001b[0m \u001b[0maxis\u001b[0m\u001b[1;33m=\u001b[0m\u001b[1;36m1\u001b[0m\u001b[1;33m)\u001b[0m\u001b[1;33m\u001b[0m\u001b[0m\n\u001b[0m",
      "\u001b[1;32m~\\Anaconda3\\lib\\site-packages\\pandas\\core\\generic.py\u001b[0m in \u001b[0;36mdrop\u001b[1;34m(self, labels, axis, level, inplace, errors)\u001b[0m\n\u001b[0;32m   2159\u001b[0m                 \u001b[0mnew_axis\u001b[0m \u001b[1;33m=\u001b[0m \u001b[0maxis\u001b[0m\u001b[1;33m.\u001b[0m\u001b[0mdrop\u001b[0m\u001b[1;33m(\u001b[0m\u001b[0mlabels\u001b[0m\u001b[1;33m,\u001b[0m \u001b[0mlevel\u001b[0m\u001b[1;33m=\u001b[0m\u001b[0mlevel\u001b[0m\u001b[1;33m,\u001b[0m \u001b[0merrors\u001b[0m\u001b[1;33m=\u001b[0m\u001b[0merrors\u001b[0m\u001b[1;33m)\u001b[0m\u001b[1;33m\u001b[0m\u001b[0m\n\u001b[0;32m   2160\u001b[0m             \u001b[1;32melse\u001b[0m\u001b[1;33m:\u001b[0m\u001b[1;33m\u001b[0m\u001b[0m\n\u001b[1;32m-> 2161\u001b[1;33m                 \u001b[0mnew_axis\u001b[0m \u001b[1;33m=\u001b[0m \u001b[0maxis\u001b[0m\u001b[1;33m.\u001b[0m\u001b[0mdrop\u001b[0m\u001b[1;33m(\u001b[0m\u001b[0mlabels\u001b[0m\u001b[1;33m,\u001b[0m \u001b[0merrors\u001b[0m\u001b[1;33m=\u001b[0m\u001b[0merrors\u001b[0m\u001b[1;33m)\u001b[0m\u001b[1;33m\u001b[0m\u001b[0m\n\u001b[0m\u001b[0;32m   2162\u001b[0m             \u001b[0mdropped\u001b[0m \u001b[1;33m=\u001b[0m \u001b[0mself\u001b[0m\u001b[1;33m.\u001b[0m\u001b[0mreindex\u001b[0m\u001b[1;33m(\u001b[0m\u001b[1;33m**\u001b[0m\u001b[1;33m{\u001b[0m\u001b[0maxis_name\u001b[0m\u001b[1;33m:\u001b[0m \u001b[0mnew_axis\u001b[0m\u001b[1;33m}\u001b[0m\u001b[1;33m)\u001b[0m\u001b[1;33m\u001b[0m\u001b[0m\n\u001b[0;32m   2163\u001b[0m             \u001b[1;32mtry\u001b[0m\u001b[1;33m:\u001b[0m\u001b[1;33m\u001b[0m\u001b[0m\n",
      "\u001b[1;32m~\\Anaconda3\\lib\\site-packages\\pandas\\core\\indexes\\base.py\u001b[0m in \u001b[0;36mdrop\u001b[1;34m(self, labels, errors)\u001b[0m\n\u001b[0;32m   3622\u001b[0m             \u001b[1;32mif\u001b[0m \u001b[0merrors\u001b[0m \u001b[1;33m!=\u001b[0m \u001b[1;34m'ignore'\u001b[0m\u001b[1;33m:\u001b[0m\u001b[1;33m\u001b[0m\u001b[0m\n\u001b[0;32m   3623\u001b[0m                 raise ValueError('labels %s not contained in axis' %\n\u001b[1;32m-> 3624\u001b[1;33m                                  labels[mask])\n\u001b[0m\u001b[0;32m   3625\u001b[0m             \u001b[0mindexer\u001b[0m \u001b[1;33m=\u001b[0m \u001b[0mindexer\u001b[0m\u001b[1;33m[\u001b[0m\u001b[1;33m~\u001b[0m\u001b[0mmask\u001b[0m\u001b[1;33m]\u001b[0m\u001b[1;33m\u001b[0m\u001b[0m\n\u001b[0;32m   3626\u001b[0m         \u001b[1;32mreturn\u001b[0m \u001b[0mself\u001b[0m\u001b[1;33m.\u001b[0m\u001b[0mdelete\u001b[0m\u001b[1;33m(\u001b[0m\u001b[0mindexer\u001b[0m\u001b[1;33m)\u001b[0m\u001b[1;33m\u001b[0m\u001b[0m\n",
      "\u001b[1;31mValueError\u001b[0m: labels ['Event_Yes_No' 'Federal Holiday_Yes_No'] not contained in axis"
     ]
    }
   ],
   "source": [
    "test_data = test_data.drop(['Event_Yes_No', 'Federal Holiday_Yes_No'], axis=1)"
   ]
  },
  {
   "cell_type": "code",
   "execution_count": 36,
   "metadata": {},
   "outputs": [
    {
     "data": {
      "text/plain": [
       "array([2402.33592895, 2992.96830379, 2998.30310342, 2762.06962791,\n",
       "       2402.33592895, 2632.1218568 , 2595.92314856, 2779.97998235,\n",
       "       3019.31766963, 3161.78041328, 3232.59558709, 3121.02598789])"
      ]
     },
     "execution_count": 36,
     "metadata": {},
     "output_type": "execute_result"
    }
   ],
   "source": [
    "model.predict(test_data)"
   ]
  },
  {
   "cell_type": "code",
   "execution_count": 37,
   "metadata": {
    "collapsed": true
   },
   "outputs": [],
   "source": [
    "test_results = pd.DataFrame({'Sales(In ThousandDollars)': model.predict(test_data)})"
   ]
  },
  {
   "cell_type": "code",
   "execution_count": 38,
   "metadata": {},
   "outputs": [
    {
     "data": {
      "text/html": [
       "<div>\n",
       "<style>\n",
       "    .dataframe thead tr:only-child th {\n",
       "        text-align: right;\n",
       "    }\n",
       "\n",
       "    .dataframe thead th {\n",
       "        text-align: left;\n",
       "    }\n",
       "\n",
       "    .dataframe tbody tr th {\n",
       "        vertical-align: top;\n",
       "    }\n",
       "</style>\n",
       "<table border=\"1\" class=\"dataframe\">\n",
       "  <thead>\n",
       "    <tr style=\"text-align: right;\">\n",
       "      <th></th>\n",
       "      <th>Sales(In ThousandDollars)</th>\n",
       "    </tr>\n",
       "  </thead>\n",
       "  <tbody>\n",
       "    <tr>\n",
       "      <th>0</th>\n",
       "      <td>2402.335929</td>\n",
       "    </tr>\n",
       "    <tr>\n",
       "      <th>1</th>\n",
       "      <td>2992.968304</td>\n",
       "    </tr>\n",
       "    <tr>\n",
       "      <th>2</th>\n",
       "      <td>2998.303103</td>\n",
       "    </tr>\n",
       "    <tr>\n",
       "      <th>3</th>\n",
       "      <td>2762.069628</td>\n",
       "    </tr>\n",
       "    <tr>\n",
       "      <th>4</th>\n",
       "      <td>2402.335929</td>\n",
       "    </tr>\n",
       "    <tr>\n",
       "      <th>5</th>\n",
       "      <td>2632.121857</td>\n",
       "    </tr>\n",
       "    <tr>\n",
       "      <th>6</th>\n",
       "      <td>2595.923149</td>\n",
       "    </tr>\n",
       "    <tr>\n",
       "      <th>7</th>\n",
       "      <td>2779.979982</td>\n",
       "    </tr>\n",
       "    <tr>\n",
       "      <th>8</th>\n",
       "      <td>3019.317670</td>\n",
       "    </tr>\n",
       "    <tr>\n",
       "      <th>9</th>\n",
       "      <td>3161.780413</td>\n",
       "    </tr>\n",
       "    <tr>\n",
       "      <th>10</th>\n",
       "      <td>3232.595587</td>\n",
       "    </tr>\n",
       "    <tr>\n",
       "      <th>11</th>\n",
       "      <td>3121.025988</td>\n",
       "    </tr>\n",
       "  </tbody>\n",
       "</table>\n",
       "</div>"
      ],
      "text/plain": [
       "    Sales(In ThousandDollars)\n",
       "0                 2402.335929\n",
       "1                 2992.968304\n",
       "2                 2998.303103\n",
       "3                 2762.069628\n",
       "4                 2402.335929\n",
       "5                 2632.121857\n",
       "6                 2595.923149\n",
       "7                 2779.979982\n",
       "8                 3019.317670\n",
       "9                 3161.780413\n",
       "10                3232.595587\n",
       "11                3121.025988"
      ]
     },
     "execution_count": 38,
     "metadata": {},
     "output_type": "execute_result"
    }
   ],
   "source": [
    "test_results"
   ]
  },
  {
   "cell_type": "code",
   "execution_count": 39,
   "metadata": {},
   "outputs": [
    {
     "data": {
      "text/html": [
       "<div>\n",
       "<style>\n",
       "    .dataframe thead tr:only-child th {\n",
       "        text-align: right;\n",
       "    }\n",
       "\n",
       "    .dataframe thead th {\n",
       "        text-align: left;\n",
       "    }\n",
       "\n",
       "    .dataframe tbody tr th {\n",
       "        vertical-align: top;\n",
       "    }\n",
       "</style>\n",
       "<table border=\"1\" class=\"dataframe\">\n",
       "  <thead>\n",
       "    <tr style=\"text-align: right;\">\n",
       "      <th></th>\n",
       "      <th>ID</th>\n",
       "      <th>Sales(In ThousandDollars)</th>\n",
       "      <th>Year</th>\n",
       "      <th>Month</th>\n",
       "      <th>ProductCategory</th>\n",
       "    </tr>\n",
       "  </thead>\n",
       "  <tbody>\n",
       "    <tr>\n",
       "      <th>0</th>\n",
       "      <td>1</td>\n",
       "      <td>110</td>\n",
       "      <td>2016</td>\n",
       "      <td>1</td>\n",
       "      <td>WomenClothing</td>\n",
       "    </tr>\n",
       "    <tr>\n",
       "      <th>1</th>\n",
       "      <td>2</td>\n",
       "      <td>140</td>\n",
       "      <td>2016</td>\n",
       "      <td>2</td>\n",
       "      <td>WomenClothing</td>\n",
       "    </tr>\n",
       "    <tr>\n",
       "      <th>2</th>\n",
       "      <td>3</td>\n",
       "      <td>199</td>\n",
       "      <td>2016</td>\n",
       "      <td>3</td>\n",
       "      <td>WomenClothing</td>\n",
       "    </tr>\n",
       "    <tr>\n",
       "      <th>3</th>\n",
       "      <td>4</td>\n",
       "      <td>246</td>\n",
       "      <td>2016</td>\n",
       "      <td>4</td>\n",
       "      <td>WomenClothing</td>\n",
       "    </tr>\n",
       "    <tr>\n",
       "      <th>4</th>\n",
       "      <td>5</td>\n",
       "      <td>66</td>\n",
       "      <td>2016</td>\n",
       "      <td>5</td>\n",
       "      <td>WomenClothing</td>\n",
       "    </tr>\n",
       "  </tbody>\n",
       "</table>\n",
       "</div>"
      ],
      "text/plain": [
       "   ID  Sales(In ThousandDollars)  Year  Month ProductCategory\n",
       "0   1                        110  2016      1   WomenClothing\n",
       "1   2                        140  2016      2   WomenClothing\n",
       "2   3                        199  2016      3   WomenClothing\n",
       "3   4                        246  2016      4   WomenClothing\n",
       "4   5                         66  2016      5   WomenClothing"
      ]
     },
     "execution_count": 39,
     "metadata": {},
     "output_type": "execute_result"
    }
   ],
   "source": [
    "submission = pd.read_csv('C:\\\\Users\\\\HP\\\\Desktop\\\\PHD Hackathon\\\\Data Science\\\\NewSampleSubmission.csv')\n",
    "submission.head()"
   ]
  },
  {
   "cell_type": "code",
   "execution_count": 40,
   "metadata": {
    "collapsed": true
   },
   "outputs": [],
   "source": [
    "submission['Sales(In ThousandDollars)'] = test_results['Sales(In ThousandDollars)']"
   ]
  },
  {
   "cell_type": "code",
   "execution_count": 41,
   "metadata": {},
   "outputs": [
    {
     "data": {
      "text/html": [
       "<div>\n",
       "<style>\n",
       "    .dataframe thead tr:only-child th {\n",
       "        text-align: right;\n",
       "    }\n",
       "\n",
       "    .dataframe thead th {\n",
       "        text-align: left;\n",
       "    }\n",
       "\n",
       "    .dataframe tbody tr th {\n",
       "        vertical-align: top;\n",
       "    }\n",
       "</style>\n",
       "<table border=\"1\" class=\"dataframe\">\n",
       "  <thead>\n",
       "    <tr style=\"text-align: right;\">\n",
       "      <th></th>\n",
       "      <th>ID</th>\n",
       "      <th>Sales(In ThousandDollars)</th>\n",
       "      <th>Year</th>\n",
       "      <th>Month</th>\n",
       "      <th>ProductCategory</th>\n",
       "    </tr>\n",
       "  </thead>\n",
       "  <tbody>\n",
       "    <tr>\n",
       "      <th>0</th>\n",
       "      <td>1</td>\n",
       "      <td>2402.335929</td>\n",
       "      <td>2016</td>\n",
       "      <td>1</td>\n",
       "      <td>WomenClothing</td>\n",
       "    </tr>\n",
       "    <tr>\n",
       "      <th>1</th>\n",
       "      <td>2</td>\n",
       "      <td>2992.968304</td>\n",
       "      <td>2016</td>\n",
       "      <td>2</td>\n",
       "      <td>WomenClothing</td>\n",
       "    </tr>\n",
       "    <tr>\n",
       "      <th>2</th>\n",
       "      <td>3</td>\n",
       "      <td>2998.303103</td>\n",
       "      <td>2016</td>\n",
       "      <td>3</td>\n",
       "      <td>WomenClothing</td>\n",
       "    </tr>\n",
       "    <tr>\n",
       "      <th>3</th>\n",
       "      <td>4</td>\n",
       "      <td>2762.069628</td>\n",
       "      <td>2016</td>\n",
       "      <td>4</td>\n",
       "      <td>WomenClothing</td>\n",
       "    </tr>\n",
       "    <tr>\n",
       "      <th>4</th>\n",
       "      <td>5</td>\n",
       "      <td>2402.335929</td>\n",
       "      <td>2016</td>\n",
       "      <td>5</td>\n",
       "      <td>WomenClothing</td>\n",
       "    </tr>\n",
       "    <tr>\n",
       "      <th>5</th>\n",
       "      <td>6</td>\n",
       "      <td>2632.121857</td>\n",
       "      <td>2016</td>\n",
       "      <td>6</td>\n",
       "      <td>WomenClothing</td>\n",
       "    </tr>\n",
       "    <tr>\n",
       "      <th>6</th>\n",
       "      <td>7</td>\n",
       "      <td>2595.923149</td>\n",
       "      <td>2016</td>\n",
       "      <td>7</td>\n",
       "      <td>WomenClothing</td>\n",
       "    </tr>\n",
       "    <tr>\n",
       "      <th>7</th>\n",
       "      <td>8</td>\n",
       "      <td>2779.979982</td>\n",
       "      <td>2016</td>\n",
       "      <td>8</td>\n",
       "      <td>WomenClothing</td>\n",
       "    </tr>\n",
       "    <tr>\n",
       "      <th>8</th>\n",
       "      <td>9</td>\n",
       "      <td>3019.317670</td>\n",
       "      <td>2016</td>\n",
       "      <td>9</td>\n",
       "      <td>WomenClothing</td>\n",
       "    </tr>\n",
       "    <tr>\n",
       "      <th>9</th>\n",
       "      <td>10</td>\n",
       "      <td>3161.780413</td>\n",
       "      <td>2016</td>\n",
       "      <td>10</td>\n",
       "      <td>WomenClothing</td>\n",
       "    </tr>\n",
       "    <tr>\n",
       "      <th>10</th>\n",
       "      <td>11</td>\n",
       "      <td>3232.595587</td>\n",
       "      <td>2016</td>\n",
       "      <td>11</td>\n",
       "      <td>WomenClothing</td>\n",
       "    </tr>\n",
       "    <tr>\n",
       "      <th>11</th>\n",
       "      <td>12</td>\n",
       "      <td>3121.025988</td>\n",
       "      <td>2016</td>\n",
       "      <td>12</td>\n",
       "      <td>WomenClothing</td>\n",
       "    </tr>\n",
       "  </tbody>\n",
       "</table>\n",
       "</div>"
      ],
      "text/plain": [
       "    ID  Sales(In ThousandDollars)  Year  Month ProductCategory\n",
       "0    1                2402.335929  2016      1   WomenClothing\n",
       "1    2                2992.968304  2016      2   WomenClothing\n",
       "2    3                2998.303103  2016      3   WomenClothing\n",
       "3    4                2762.069628  2016      4   WomenClothing\n",
       "4    5                2402.335929  2016      5   WomenClothing\n",
       "5    6                2632.121857  2016      6   WomenClothing\n",
       "6    7                2595.923149  2016      7   WomenClothing\n",
       "7    8                2779.979982  2016      8   WomenClothing\n",
       "8    9                3019.317670  2016      9   WomenClothing\n",
       "9   10                3161.780413  2016     10   WomenClothing\n",
       "10  11                3232.595587  2016     11   WomenClothing\n",
       "11  12                3121.025988  2016     12   WomenClothing"
      ]
     },
     "execution_count": 41,
     "metadata": {},
     "output_type": "execute_result"
    }
   ],
   "source": [
    "submission"
   ]
  },
  {
   "cell_type": "code",
   "execution_count": 42,
   "metadata": {
    "collapsed": true
   },
   "outputs": [],
   "source": [
    "#submission.to_csv('C:\\\\Users\\\\HP\\\\Desktop\\\\trial\\\\regression_lgbm_submission.csv', index=False)"
   ]
  },
  {
   "cell_type": "code",
   "execution_count": 43,
   "metadata": {
    "collapsed": true
   },
   "outputs": [],
   "source": [
    "############################# ---------------------------------------------------------- #################################"
   ]
  },
  {
   "cell_type": "markdown",
   "metadata": {},
   "source": [
    "## Random Forest"
   ]
  },
  {
   "cell_type": "code",
   "execution_count": 44,
   "metadata": {},
   "outputs": [
    {
     "data": {
      "text/plain": [
       "17.810107183467338"
      ]
     },
     "execution_count": 44,
     "metadata": {},
     "output_type": "execute_result"
    }
   ],
   "source": [
    "from sklearn.model_selection import GridSearchCV\n",
    "from sklearn.ensemble import RandomForestRegressor\n",
    "\n",
    "rf_model = RandomForestRegressor(bootstrap=True, criterion='mae', max_depth=3,\n",
    "                                   max_features='sqrt', max_leaf_nodes=None,\n",
    "                                   min_samples_leaf=2, min_samples_split=3, n_estimators=20, n_jobs=1,)\n",
    "\n",
    "rf_model.fit(trainX_fold , y_train)\n",
    "\n",
    "y_pred = rf_model.predict(valX_fold)\n",
    "mean_absolute_percentage_error(y_val, y_pred)"
   ]
  },
  {
   "cell_type": "markdown",
   "metadata": {},
   "source": [
    "### Take Imp_Features"
   ]
  },
  {
   "cell_type": "code",
   "execution_count": 45,
   "metadata": {
    "scrolled": true
   },
   "outputs": [
    {
     "data": {
      "text/html": [
       "<div>\n",
       "<style>\n",
       "    .dataframe thead tr:only-child th {\n",
       "        text-align: right;\n",
       "    }\n",
       "\n",
       "    .dataframe thead th {\n",
       "        text-align: left;\n",
       "    }\n",
       "\n",
       "    .dataframe tbody tr th {\n",
       "        vertical-align: top;\n",
       "    }\n",
       "</style>\n",
       "<table border=\"1\" class=\"dataframe\">\n",
       "  <thead>\n",
       "    <tr style=\"text-align: right;\">\n",
       "      <th></th>\n",
       "      <th>columns</th>\n",
       "      <th>imp_features</th>\n",
       "    </tr>\n",
       "  </thead>\n",
       "  <tbody>\n",
       "    <tr>\n",
       "      <th>6</th>\n",
       "      <td>CPI</td>\n",
       "      <td>0.131095</td>\n",
       "    </tr>\n",
       "    <tr>\n",
       "      <th>1</th>\n",
       "      <td>Month</td>\n",
       "      <td>0.090016</td>\n",
       "    </tr>\n",
       "    <tr>\n",
       "      <th>0</th>\n",
       "      <td>Year</td>\n",
       "      <td>0.084766</td>\n",
       "    </tr>\n",
       "    <tr>\n",
       "      <th>4</th>\n",
       "      <td>Monthly Nominal GDP Index (inMillion$)</td>\n",
       "      <td>0.070590</td>\n",
       "    </tr>\n",
       "    <tr>\n",
       "      <th>2</th>\n",
       "      <td>Event</td>\n",
       "      <td>0.047340</td>\n",
       "    </tr>\n",
       "    <tr>\n",
       "      <th>5</th>\n",
       "      <td>Monthly Real GDP Index (inMillion$)</td>\n",
       "      <td>0.046568</td>\n",
       "    </tr>\n",
       "    <tr>\n",
       "      <th>8</th>\n",
       "      <td>CommercialBankInterestRateonCreditCardPlans</td>\n",
       "      <td>0.044878</td>\n",
       "    </tr>\n",
       "    <tr>\n",
       "      <th>66</th>\n",
       "      <td>Sea Level Press lowmean</td>\n",
       "      <td>0.036412</td>\n",
       "    </tr>\n",
       "    <tr>\n",
       "      <th>46</th>\n",
       "      <td>Humidity_highmean</td>\n",
       "      <td>0.029566</td>\n",
       "    </tr>\n",
       "    <tr>\n",
       "      <th>10</th>\n",
       "      <td>Earnings or wages  in dollars per hour</td>\n",
       "      <td>0.025522</td>\n",
       "    </tr>\n",
       "    <tr>\n",
       "      <th>55</th>\n",
       "      <td>Humidity_lowvar</td>\n",
       "      <td>0.022979</td>\n",
       "    </tr>\n",
       "    <tr>\n",
       "      <th>31</th>\n",
       "      <td>Temp low (°C)var</td>\n",
       "      <td>0.022110</td>\n",
       "    </tr>\n",
       "    <tr>\n",
       "      <th>23</th>\n",
       "      <td>Temp high (°C)var</td>\n",
       "      <td>0.021204</td>\n",
       "    </tr>\n",
       "    <tr>\n",
       "      <th>36</th>\n",
       "      <td>Dew Point avg (°C)min</td>\n",
       "      <td>0.020189</td>\n",
       "    </tr>\n",
       "    <tr>\n",
       "      <th>40</th>\n",
       "      <td>Dew Point low (°C)min</td>\n",
       "      <td>0.016543</td>\n",
       "    </tr>\n",
       "    <tr>\n",
       "      <th>7</th>\n",
       "      <td>unemployment rate</td>\n",
       "      <td>0.016059</td>\n",
       "    </tr>\n",
       "    <tr>\n",
       "      <th>50</th>\n",
       "      <td>Humidity_avgmean</td>\n",
       "      <td>0.015958</td>\n",
       "    </tr>\n",
       "    <tr>\n",
       "      <th>49</th>\n",
       "      <td>Humidity_avgmax</td>\n",
       "      <td>0.014196</td>\n",
       "    </tr>\n",
       "    <tr>\n",
       "      <th>21</th>\n",
       "      <td>Temp high (°C)max</td>\n",
       "      <td>0.013037</td>\n",
       "    </tr>\n",
       "    <tr>\n",
       "      <th>83</th>\n",
       "      <td>Wind (km/h) lowvar</td>\n",
       "      <td>0.012698</td>\n",
       "    </tr>\n",
       "    <tr>\n",
       "      <th>38</th>\n",
       "      <td>Dew Point avg (°C)mean</td>\n",
       "      <td>0.012588</td>\n",
       "    </tr>\n",
       "    <tr>\n",
       "      <th>78</th>\n",
       "      <td>Visibility (km) lowmean</td>\n",
       "      <td>0.012484</td>\n",
       "    </tr>\n",
       "    <tr>\n",
       "      <th>62</th>\n",
       "      <td>Sea Level Press avgmean</td>\n",
       "      <td>0.011941</td>\n",
       "    </tr>\n",
       "    <tr>\n",
       "      <th>14</th>\n",
       "      <td>Average upland planted(million acres)</td>\n",
       "      <td>0.011289</td>\n",
       "    </tr>\n",
       "    <tr>\n",
       "      <th>42</th>\n",
       "      <td>Dew Point low (°C)mean</td>\n",
       "      <td>0.010613</td>\n",
       "    </tr>\n",
       "    <tr>\n",
       "      <th>24</th>\n",
       "      <td>Temp avg (°C)min</td>\n",
       "      <td>0.008849</td>\n",
       "    </tr>\n",
       "    <tr>\n",
       "      <th>68</th>\n",
       "      <td>Visibility (km) highmin</td>\n",
       "      <td>0.008658</td>\n",
       "    </tr>\n",
       "    <tr>\n",
       "      <th>84</th>\n",
       "      <td>Wind (km/h) avgmin</td>\n",
       "      <td>0.008135</td>\n",
       "    </tr>\n",
       "    <tr>\n",
       "      <th>90</th>\n",
       "      <td>Wind (km/h) highmean</td>\n",
       "      <td>0.007915</td>\n",
       "    </tr>\n",
       "    <tr>\n",
       "      <th>25</th>\n",
       "      <td>Temp avg (°C)max</td>\n",
       "      <td>0.007722</td>\n",
       "    </tr>\n",
       "    <tr>\n",
       "      <th>...</th>\n",
       "      <td>...</td>\n",
       "      <td>...</td>\n",
       "    </tr>\n",
       "    <tr>\n",
       "      <th>95</th>\n",
       "      <td>Fog , Snow</td>\n",
       "      <td>0.000000</td>\n",
       "    </tr>\n",
       "    <tr>\n",
       "      <th>98</th>\n",
       "      <td>Rain , Snow</td>\n",
       "      <td>0.000000</td>\n",
       "    </tr>\n",
       "    <tr>\n",
       "      <th>75</th>\n",
       "      <td>Visibility (km) avgvar</td>\n",
       "      <td>0.000000</td>\n",
       "    </tr>\n",
       "    <tr>\n",
       "      <th>59</th>\n",
       "      <td>Sea Level Press highvar</td>\n",
       "      <td>0.000000</td>\n",
       "    </tr>\n",
       "    <tr>\n",
       "      <th>73</th>\n",
       "      <td>Visibility (km) avgmax</td>\n",
       "      <td>0.000000</td>\n",
       "    </tr>\n",
       "    <tr>\n",
       "      <th>72</th>\n",
       "      <td>Visibility (km) avgmin</td>\n",
       "      <td>0.000000</td>\n",
       "    </tr>\n",
       "    <tr>\n",
       "      <th>16</th>\n",
       "      <td>yieldperharvested acre</td>\n",
       "      <td>0.000000</td>\n",
       "    </tr>\n",
       "    <tr>\n",
       "      <th>26</th>\n",
       "      <td>Temp avg (°C)mean</td>\n",
       "      <td>0.000000</td>\n",
       "    </tr>\n",
       "    <tr>\n",
       "      <th>27</th>\n",
       "      <td>Temp avg (°C)var</td>\n",
       "      <td>0.000000</td>\n",
       "    </tr>\n",
       "    <tr>\n",
       "      <th>29</th>\n",
       "      <td>Temp low (°C)max</td>\n",
       "      <td>0.000000</td>\n",
       "    </tr>\n",
       "    <tr>\n",
       "      <th>15</th>\n",
       "      <td>Average upland harvested(million acres)</td>\n",
       "      <td>0.000000</td>\n",
       "    </tr>\n",
       "    <tr>\n",
       "      <th>33</th>\n",
       "      <td>Dew Point high (°C)max</td>\n",
       "      <td>0.000000</td>\n",
       "    </tr>\n",
       "    <tr>\n",
       "      <th>34</th>\n",
       "      <td>Dew Point high (°C)mean</td>\n",
       "      <td>0.000000</td>\n",
       "    </tr>\n",
       "    <tr>\n",
       "      <th>37</th>\n",
       "      <td>Dew Point avg (°C)max</td>\n",
       "      <td>0.000000</td>\n",
       "    </tr>\n",
       "    <tr>\n",
       "      <th>13</th>\n",
       "      <td>Change(in%)</td>\n",
       "      <td>0.000000</td>\n",
       "    </tr>\n",
       "    <tr>\n",
       "      <th>41</th>\n",
       "      <td>Dew Point low (°C)max</td>\n",
       "      <td>0.000000</td>\n",
       "    </tr>\n",
       "    <tr>\n",
       "      <th>44</th>\n",
       "      <td>Humidity_highmin</td>\n",
       "      <td>0.000000</td>\n",
       "    </tr>\n",
       "    <tr>\n",
       "      <th>45</th>\n",
       "      <td>Humidity_highmax</td>\n",
       "      <td>0.000000</td>\n",
       "    </tr>\n",
       "    <tr>\n",
       "      <th>47</th>\n",
       "      <td>Humidity_highvar</td>\n",
       "      <td>0.000000</td>\n",
       "    </tr>\n",
       "    <tr>\n",
       "      <th>11</th>\n",
       "      <td>AdvertisingExpenses (in Thousand Dollars)</td>\n",
       "      <td>0.000000</td>\n",
       "    </tr>\n",
       "    <tr>\n",
       "      <th>52</th>\n",
       "      <td>Humidity_lowmin</td>\n",
       "      <td>0.000000</td>\n",
       "    </tr>\n",
       "    <tr>\n",
       "      <th>54</th>\n",
       "      <td>Humidity_lowmean</td>\n",
       "      <td>0.000000</td>\n",
       "    </tr>\n",
       "    <tr>\n",
       "      <th>56</th>\n",
       "      <td>Sea Level Press highmin</td>\n",
       "      <td>0.000000</td>\n",
       "    </tr>\n",
       "    <tr>\n",
       "      <th>58</th>\n",
       "      <td>Sea Level Press highmean</td>\n",
       "      <td>0.000000</td>\n",
       "    </tr>\n",
       "    <tr>\n",
       "      <th>18</th>\n",
       "      <td>Mill use  (in  480-lb netweright in million ba...</td>\n",
       "      <td>0.000000</td>\n",
       "    </tr>\n",
       "    <tr>\n",
       "      <th>60</th>\n",
       "      <td>Sea Level Press avgmin</td>\n",
       "      <td>0.000000</td>\n",
       "    </tr>\n",
       "    <tr>\n",
       "      <th>61</th>\n",
       "      <td>Sea Level Press avgmax</td>\n",
       "      <td>0.000000</td>\n",
       "    </tr>\n",
       "    <tr>\n",
       "      <th>64</th>\n",
       "      <td>Sea Level Press lowmin</td>\n",
       "      <td>0.000000</td>\n",
       "    </tr>\n",
       "    <tr>\n",
       "      <th>69</th>\n",
       "      <td>Visibility (km) highmax</td>\n",
       "      <td>0.000000</td>\n",
       "    </tr>\n",
       "    <tr>\n",
       "      <th>100</th>\n",
       "      <td>Thunderstorm</td>\n",
       "      <td>0.000000</td>\n",
       "    </tr>\n",
       "  </tbody>\n",
       "</table>\n",
       "<p>101 rows × 2 columns</p>\n",
       "</div>"
      ],
      "text/plain": [
       "                                               columns  imp_features\n",
       "6                                                  CPI      0.131095\n",
       "1                                                Month      0.090016\n",
       "0                                                 Year      0.084766\n",
       "4               Monthly Nominal GDP Index (inMillion$)      0.070590\n",
       "2                                                Event      0.047340\n",
       "5                  Monthly Real GDP Index (inMillion$)      0.046568\n",
       "8          CommercialBankInterestRateonCreditCardPlans      0.044878\n",
       "66                             Sea Level Press lowmean      0.036412\n",
       "46                                   Humidity_highmean      0.029566\n",
       "10              Earnings or wages  in dollars per hour      0.025522\n",
       "55                                     Humidity_lowvar      0.022979\n",
       "31                                    Temp low (°C)var      0.022110\n",
       "23                                   Temp high (°C)var      0.021204\n",
       "36                               Dew Point avg (°C)min      0.020189\n",
       "40                               Dew Point low (°C)min      0.016543\n",
       "7                                    unemployment rate      0.016059\n",
       "50                                    Humidity_avgmean      0.015958\n",
       "49                                     Humidity_avgmax      0.014196\n",
       "21                                   Temp high (°C)max      0.013037\n",
       "83                                  Wind (km/h) lowvar      0.012698\n",
       "38                              Dew Point avg (°C)mean      0.012588\n",
       "78                             Visibility (km) lowmean      0.012484\n",
       "62                             Sea Level Press avgmean      0.011941\n",
       "14               Average upland planted(million acres)      0.011289\n",
       "42                              Dew Point low (°C)mean      0.010613\n",
       "24                                    Temp avg (°C)min      0.008849\n",
       "68                             Visibility (km) highmin      0.008658\n",
       "84                                  Wind (km/h) avgmin      0.008135\n",
       "90                                Wind (km/h) highmean      0.007915\n",
       "25                                    Temp avg (°C)max      0.007722\n",
       "..                                                 ...           ...\n",
       "95                                          Fog , Snow      0.000000\n",
       "98                                         Rain , Snow      0.000000\n",
       "75                              Visibility (km) avgvar      0.000000\n",
       "59                             Sea Level Press highvar      0.000000\n",
       "73                              Visibility (km) avgmax      0.000000\n",
       "72                              Visibility (km) avgmin      0.000000\n",
       "16                              yieldperharvested acre      0.000000\n",
       "26                                   Temp avg (°C)mean      0.000000\n",
       "27                                    Temp avg (°C)var      0.000000\n",
       "29                                    Temp low (°C)max      0.000000\n",
       "15             Average upland harvested(million acres)      0.000000\n",
       "33                              Dew Point high (°C)max      0.000000\n",
       "34                             Dew Point high (°C)mean      0.000000\n",
       "37                               Dew Point avg (°C)max      0.000000\n",
       "13                                         Change(in%)      0.000000\n",
       "41                               Dew Point low (°C)max      0.000000\n",
       "44                                    Humidity_highmin      0.000000\n",
       "45                                    Humidity_highmax      0.000000\n",
       "47                                    Humidity_highvar      0.000000\n",
       "11           AdvertisingExpenses (in Thousand Dollars)      0.000000\n",
       "52                                     Humidity_lowmin      0.000000\n",
       "54                                    Humidity_lowmean      0.000000\n",
       "56                             Sea Level Press highmin      0.000000\n",
       "58                            Sea Level Press highmean      0.000000\n",
       "18   Mill use  (in  480-lb netweright in million ba...      0.000000\n",
       "60                              Sea Level Press avgmin      0.000000\n",
       "61                              Sea Level Press avgmax      0.000000\n",
       "64                              Sea Level Press lowmin      0.000000\n",
       "69                             Visibility (km) highmax      0.000000\n",
       "100                                       Thunderstorm      0.000000\n",
       "\n",
       "[101 rows x 2 columns]"
      ]
     },
     "execution_count": 45,
     "metadata": {},
     "output_type": "execute_result"
    }
   ],
   "source": [
    "X_cols = trainX_fold.columns\n",
    "feature_imp_RFC = pd.DataFrame({\"imp_features\":rf_model.feature_importances_, \"columns\":X_cols})\n",
    "feature_imp_RFC.sort_values(by = 'imp_features', ascending=False)"
   ]
  },
  {
   "cell_type": "code",
   "execution_count": 46,
   "metadata": {
    "scrolled": true
   },
   "outputs": [
    {
     "data": {
      "text/html": [
       "<div>\n",
       "<style>\n",
       "    .dataframe thead tr:only-child th {\n",
       "        text-align: right;\n",
       "    }\n",
       "\n",
       "    .dataframe thead th {\n",
       "        text-align: left;\n",
       "    }\n",
       "\n",
       "    .dataframe tbody tr th {\n",
       "        vertical-align: top;\n",
       "    }\n",
       "</style>\n",
       "<table border=\"1\" class=\"dataframe\">\n",
       "  <thead>\n",
       "    <tr style=\"text-align: right;\">\n",
       "      <th></th>\n",
       "      <th>columns</th>\n",
       "      <th>imp_features</th>\n",
       "    </tr>\n",
       "  </thead>\n",
       "  <tbody>\n",
       "    <tr>\n",
       "      <th>0</th>\n",
       "      <td>Year</td>\n",
       "      <td>0.084766</td>\n",
       "    </tr>\n",
       "    <tr>\n",
       "      <th>1</th>\n",
       "      <td>Month</td>\n",
       "      <td>0.090016</td>\n",
       "    </tr>\n",
       "    <tr>\n",
       "      <th>2</th>\n",
       "      <td>Event</td>\n",
       "      <td>0.047340</td>\n",
       "    </tr>\n",
       "    <tr>\n",
       "      <th>4</th>\n",
       "      <td>Monthly Nominal GDP Index (inMillion$)</td>\n",
       "      <td>0.070590</td>\n",
       "    </tr>\n",
       "    <tr>\n",
       "      <th>5</th>\n",
       "      <td>Monthly Real GDP Index (inMillion$)</td>\n",
       "      <td>0.046568</td>\n",
       "    </tr>\n",
       "  </tbody>\n",
       "</table>\n",
       "</div>"
      ],
      "text/plain": [
       "                                  columns  imp_features\n",
       "0                                    Year      0.084766\n",
       "1                                   Month      0.090016\n",
       "2                                   Event      0.047340\n",
       "4  Monthly Nominal GDP Index (inMillion$)      0.070590\n",
       "5     Monthly Real GDP Index (inMillion$)      0.046568"
      ]
     },
     "execution_count": 46,
     "metadata": {},
     "output_type": "execute_result"
    }
   ],
   "source": [
    "top_features = feature_imp_RFC[feature_imp_RFC['imp_features'] >= 0.025]\n",
    "top_features.head()"
   ]
  },
  {
   "cell_type": "code",
   "execution_count": 47,
   "metadata": {},
   "outputs": [
    {
     "data": {
      "text/plain": [
       "(10, 2)"
      ]
     },
     "execution_count": 47,
     "metadata": {},
     "output_type": "execute_result"
    }
   ],
   "source": [
    "top_features.shape"
   ]
  },
  {
   "cell_type": "markdown",
   "metadata": {},
   "source": [
    "#### Selecting Imp Features From RF"
   ]
  },
  {
   "cell_type": "code",
   "execution_count": 48,
   "metadata": {},
   "outputs": [
    {
     "data": {
      "text/html": [
       "<div>\n",
       "<style>\n",
       "    .dataframe thead tr:only-child th {\n",
       "        text-align: right;\n",
       "    }\n",
       "\n",
       "    .dataframe thead th {\n",
       "        text-align: left;\n",
       "    }\n",
       "\n",
       "    .dataframe tbody tr th {\n",
       "        vertical-align: top;\n",
       "    }\n",
       "</style>\n",
       "<table border=\"1\" class=\"dataframe\">\n",
       "  <thead>\n",
       "    <tr style=\"text-align: right;\">\n",
       "      <th></th>\n",
       "      <th>Year</th>\n",
       "      <th>Month</th>\n",
       "      <th>Event</th>\n",
       "      <th>Monthly Nominal GDP Index (inMillion$)</th>\n",
       "      <th>Monthly Real GDP Index (inMillion$)</th>\n",
       "      <th>CPI</th>\n",
       "      <th>CommercialBankInterestRateonCreditCardPlans</th>\n",
       "      <th>Earnings or wages  in dollars per hour</th>\n",
       "      <th>Humidity_highmean</th>\n",
       "      <th>Sea Level Press lowmean</th>\n",
       "    </tr>\n",
       "  </thead>\n",
       "  <tbody>\n",
       "    <tr>\n",
       "      <th>0</th>\n",
       "      <td>2009</td>\n",
       "      <td>1</td>\n",
       "      <td>0.0</td>\n",
       "      <td>14421.752895</td>\n",
       "      <td>14407.053343</td>\n",
       "      <td>233.402</td>\n",
       "      <td>12.03</td>\n",
       "      <td>22.05</td>\n",
       "      <td>71.774194</td>\n",
       "      <td>1010.516129</td>\n",
       "    </tr>\n",
       "    <tr>\n",
       "      <th>1</th>\n",
       "      <td>2009</td>\n",
       "      <td>2</td>\n",
       "      <td>1.0</td>\n",
       "      <td>14389.200466</td>\n",
       "      <td>14366.176571</td>\n",
       "      <td>234.663</td>\n",
       "      <td>12.97</td>\n",
       "      <td>22.22</td>\n",
       "      <td>69.535714</td>\n",
       "      <td>1012.464286</td>\n",
       "    </tr>\n",
       "    <tr>\n",
       "      <th>2</th>\n",
       "      <td>2009</td>\n",
       "      <td>3</td>\n",
       "      <td>0.0</td>\n",
       "      <td>14340.701639</td>\n",
       "      <td>14351.786822</td>\n",
       "      <td>235.067</td>\n",
       "      <td>12.97</td>\n",
       "      <td>22.22</td>\n",
       "      <td>74.096774</td>\n",
       "      <td>1017.032258</td>\n",
       "    </tr>\n",
       "    <tr>\n",
       "      <th>3</th>\n",
       "      <td>2009</td>\n",
       "      <td>4</td>\n",
       "      <td>1.0</td>\n",
       "      <td>14326.815525</td>\n",
       "      <td>14351.601731</td>\n",
       "      <td>235.582</td>\n",
       "      <td>12.97</td>\n",
       "      <td>22.13</td>\n",
       "      <td>75.466667</td>\n",
       "      <td>1010.433333</td>\n",
       "    </tr>\n",
       "    <tr>\n",
       "      <th>4</th>\n",
       "      <td>2009</td>\n",
       "      <td>5</td>\n",
       "      <td>1.0</td>\n",
       "      <td>14345.904809</td>\n",
       "      <td>14368.123959</td>\n",
       "      <td>235.975</td>\n",
       "      <td>13.32</td>\n",
       "      <td>22.04</td>\n",
       "      <td>85.645161</td>\n",
       "      <td>1014.129032</td>\n",
       "    </tr>\n",
       "  </tbody>\n",
       "</table>\n",
       "</div>"
      ],
      "text/plain": [
       "   Year  Month  Event  Monthly Nominal GDP Index (inMillion$)  \\\n",
       "0  2009      1    0.0                            14421.752895   \n",
       "1  2009      2    1.0                            14389.200466   \n",
       "2  2009      3    0.0                            14340.701639   \n",
       "3  2009      4    1.0                            14326.815525   \n",
       "4  2009      5    1.0                            14345.904809   \n",
       "\n",
       "   Monthly Real GDP Index (inMillion$)      CPI  \\\n",
       "0                         14407.053343  233.402   \n",
       "1                         14366.176571  234.663   \n",
       "2                         14351.786822  235.067   \n",
       "3                         14351.601731  235.582   \n",
       "4                         14368.123959  235.975   \n",
       "\n",
       "   CommercialBankInterestRateonCreditCardPlans  \\\n",
       "0                                        12.03   \n",
       "1                                        12.97   \n",
       "2                                        12.97   \n",
       "3                                        12.97   \n",
       "4                                        13.32   \n",
       "\n",
       "   Earnings or wages  in dollars per hour  Humidity_highmean  \\\n",
       "0                                   22.05          71.774194   \n",
       "1                                   22.22          69.535714   \n",
       "2                                   22.22          74.096774   \n",
       "3                                   22.13          75.466667   \n",
       "4                                   22.04          85.645161   \n",
       "\n",
       "   Sea Level Press lowmean  \n",
       "0              1010.516129  \n",
       "1              1012.464286  \n",
       "2              1017.032258  \n",
       "3              1010.433333  \n",
       "4              1014.129032  "
      ]
     },
     "execution_count": 48,
     "metadata": {},
     "output_type": "execute_result"
    }
   ],
   "source": [
    "imp_columns_train = pd.DataFrame()\n",
    "for i in top_features['columns'].values:\n",
    "    imp_columns_train[i] = trainX_fold[i]\n",
    "    \n",
    "imp_columns_train.head()"
   ]
  },
  {
   "cell_type": "code",
   "execution_count": 49,
   "metadata": {},
   "outputs": [
    {
     "data": {
      "text/html": [
       "<div>\n",
       "<style>\n",
       "    .dataframe thead tr:only-child th {\n",
       "        text-align: right;\n",
       "    }\n",
       "\n",
       "    .dataframe thead th {\n",
       "        text-align: left;\n",
       "    }\n",
       "\n",
       "    .dataframe tbody tr th {\n",
       "        vertical-align: top;\n",
       "    }\n",
       "</style>\n",
       "<table border=\"1\" class=\"dataframe\">\n",
       "  <thead>\n",
       "    <tr style=\"text-align: right;\">\n",
       "      <th></th>\n",
       "      <th>Year</th>\n",
       "      <th>Month</th>\n",
       "      <th>Event</th>\n",
       "      <th>Monthly Nominal GDP Index (inMillion$)</th>\n",
       "      <th>Monthly Real GDP Index (inMillion$)</th>\n",
       "      <th>CPI</th>\n",
       "      <th>CommercialBankInterestRateonCreditCardPlans</th>\n",
       "      <th>Earnings or wages  in dollars per hour</th>\n",
       "      <th>Humidity_highmean</th>\n",
       "      <th>Sea Level Press lowmean</th>\n",
       "    </tr>\n",
       "  </thead>\n",
       "  <tbody>\n",
       "    <tr>\n",
       "      <th>63</th>\n",
       "      <td>2014</td>\n",
       "      <td>4</td>\n",
       "      <td>2.0</td>\n",
       "      <td>17208.864684</td>\n",
       "      <td>15870.178053</td>\n",
       "      <td>259.985</td>\n",
       "      <td>11.83</td>\n",
       "      <td>24.40</td>\n",
       "      <td>73.100000</td>\n",
       "      <td>1012.766667</td>\n",
       "    </tr>\n",
       "    <tr>\n",
       "      <th>64</th>\n",
       "      <td>2014</td>\n",
       "      <td>5</td>\n",
       "      <td>1.0</td>\n",
       "      <td>17345.334028</td>\n",
       "      <td>15946.741336</td>\n",
       "      <td>261.225</td>\n",
       "      <td>11.83</td>\n",
       "      <td>24.30</td>\n",
       "      <td>76.354839</td>\n",
       "      <td>1013.354839</td>\n",
       "    </tr>\n",
       "    <tr>\n",
       "      <th>65</th>\n",
       "      <td>2014</td>\n",
       "      <td>6</td>\n",
       "      <td>1.0</td>\n",
       "      <td>17408.564289</td>\n",
       "      <td>15990.977418</td>\n",
       "      <td>261.350</td>\n",
       "      <td>11.83</td>\n",
       "      <td>24.42</td>\n",
       "      <td>80.233333</td>\n",
       "      <td>1013.266667</td>\n",
       "    </tr>\n",
       "    <tr>\n",
       "      <th>66</th>\n",
       "      <td>2014</td>\n",
       "      <td>7</td>\n",
       "      <td>0.0</td>\n",
       "      <td>17551.781065</td>\n",
       "      <td>16089.499187</td>\n",
       "      <td>261.498</td>\n",
       "      <td>11.83</td>\n",
       "      <td>24.31</td>\n",
       "      <td>80.451613</td>\n",
       "      <td>1012.258065</td>\n",
       "    </tr>\n",
       "    <tr>\n",
       "      <th>67</th>\n",
       "      <td>2014</td>\n",
       "      <td>8</td>\n",
       "      <td>0.0</td>\n",
       "      <td>17684.635349</td>\n",
       "      <td>16196.420132</td>\n",
       "      <td>261.075</td>\n",
       "      <td>11.82</td>\n",
       "      <td>24.32</td>\n",
       "      <td>78.354839</td>\n",
       "      <td>1014.741935</td>\n",
       "    </tr>\n",
       "  </tbody>\n",
       "</table>\n",
       "</div>"
      ],
      "text/plain": [
       "    Year  Month  Event  Monthly Nominal GDP Index (inMillion$)  \\\n",
       "63  2014      4    2.0                            17208.864684   \n",
       "64  2014      5    1.0                            17345.334028   \n",
       "65  2014      6    1.0                            17408.564289   \n",
       "66  2014      7    0.0                            17551.781065   \n",
       "67  2014      8    0.0                            17684.635349   \n",
       "\n",
       "    Monthly Real GDP Index (inMillion$)      CPI  \\\n",
       "63                         15870.178053  259.985   \n",
       "64                         15946.741336  261.225   \n",
       "65                         15990.977418  261.350   \n",
       "66                         16089.499187  261.498   \n",
       "67                         16196.420132  261.075   \n",
       "\n",
       "    CommercialBankInterestRateonCreditCardPlans  \\\n",
       "63                                        11.83   \n",
       "64                                        11.83   \n",
       "65                                        11.83   \n",
       "66                                        11.83   \n",
       "67                                        11.82   \n",
       "\n",
       "    Earnings or wages  in dollars per hour  Humidity_highmean  \\\n",
       "63                                   24.40          73.100000   \n",
       "64                                   24.30          76.354839   \n",
       "65                                   24.42          80.233333   \n",
       "66                                   24.31          80.451613   \n",
       "67                                   24.32          78.354839   \n",
       "\n",
       "    Sea Level Press lowmean  \n",
       "63              1012.766667  \n",
       "64              1013.354839  \n",
       "65              1013.266667  \n",
       "66              1012.258065  \n",
       "67              1014.741935  "
      ]
     },
     "execution_count": 49,
     "metadata": {},
     "output_type": "execute_result"
    }
   ],
   "source": [
    "imp_columns_val = pd.DataFrame()\n",
    "\n",
    "for i in top_features['columns'].values:\n",
    "    imp_columns_val[i] = valX_fold[i]\n",
    "\n",
    "imp_columns_val.head()"
   ]
  },
  {
   "cell_type": "markdown",
   "metadata": {},
   "source": [
    "### train Model with Imp_Features"
   ]
  },
  {
   "cell_type": "code",
   "execution_count": 50,
   "metadata": {},
   "outputs": [
    {
     "data": {
      "text/plain": [
       "13.72012650041842"
      ]
     },
     "execution_count": 50,
     "metadata": {},
     "output_type": "execute_result"
    }
   ],
   "source": [
    "rf_model.fit(imp_columns_train, y_train)\n",
    "y_pred1 = rf_model.predict(imp_columns_val)\n",
    "\n",
    "mean_absolute_percentage_error(y_val, y_pred1)"
   ]
  },
  {
   "cell_type": "markdown",
   "metadata": {},
   "source": [
    "### Predict Test Data"
   ]
  },
  {
   "cell_type": "code",
   "execution_count": 51,
   "metadata": {
    "scrolled": true
   },
   "outputs": [
    {
     "data": {
      "text/html": [
       "<div>\n",
       "<style>\n",
       "    .dataframe thead tr:only-child th {\n",
       "        text-align: right;\n",
       "    }\n",
       "\n",
       "    .dataframe thead th {\n",
       "        text-align: left;\n",
       "    }\n",
       "\n",
       "    .dataframe tbody tr th {\n",
       "        vertical-align: top;\n",
       "    }\n",
       "</style>\n",
       "<table border=\"1\" class=\"dataframe\">\n",
       "  <thead>\n",
       "    <tr style=\"text-align: right;\">\n",
       "      <th></th>\n",
       "      <th>Year</th>\n",
       "      <th>Month</th>\n",
       "      <th>Event</th>\n",
       "      <th>Monthly Nominal GDP Index (inMillion$)</th>\n",
       "      <th>Monthly Real GDP Index (inMillion$)</th>\n",
       "      <th>CPI</th>\n",
       "      <th>CommercialBankInterestRateonCreditCardPlans</th>\n",
       "      <th>Earnings or wages  in dollars per hour</th>\n",
       "      <th>Humidity_highmean</th>\n",
       "      <th>Sea Level Press lowmean</th>\n",
       "    </tr>\n",
       "  </thead>\n",
       "  <tbody>\n",
       "    <tr>\n",
       "      <th>0</th>\n",
       "      <td>2016</td>\n",
       "      <td>1</td>\n",
       "      <td>0.0</td>\n",
       "      <td>18286.638523</td>\n",
       "      <td>16546.153123</td>\n",
       "      <td>260.342</td>\n",
       "      <td>12.22</td>\n",
       "      <td>25.50</td>\n",
       "      <td>64.258065</td>\n",
       "      <td>1011.000000</td>\n",
       "    </tr>\n",
       "    <tr>\n",
       "      <th>1</th>\n",
       "      <td>2016</td>\n",
       "      <td>10</td>\n",
       "      <td>1.0</td>\n",
       "      <td>18740.780023</td>\n",
       "      <td>16725.460098</td>\n",
       "      <td>264.738</td>\n",
       "      <td>12.51</td>\n",
       "      <td>26.04</td>\n",
       "      <td>84.000000</td>\n",
       "      <td>1015.838710</td>\n",
       "    </tr>\n",
       "    <tr>\n",
       "      <th>2</th>\n",
       "      <td>2016</td>\n",
       "      <td>11</td>\n",
       "      <td>1.0</td>\n",
       "      <td>18960.461568</td>\n",
       "      <td>16910.896330</td>\n",
       "      <td>265.203</td>\n",
       "      <td>12.41</td>\n",
       "      <td>25.87</td>\n",
       "      <td>73.100000</td>\n",
       "      <td>1013.600000</td>\n",
       "    </tr>\n",
       "    <tr>\n",
       "      <th>3</th>\n",
       "      <td>2016</td>\n",
       "      <td>12</td>\n",
       "      <td>2.0</td>\n",
       "      <td>19015.393408</td>\n",
       "      <td>16918.050624</td>\n",
       "      <td>265.421</td>\n",
       "      <td>12.41</td>\n",
       "      <td>25.90</td>\n",
       "      <td>73.193548</td>\n",
       "      <td>1014.548387</td>\n",
       "    </tr>\n",
       "    <tr>\n",
       "      <th>4</th>\n",
       "      <td>2016</td>\n",
       "      <td>2</td>\n",
       "      <td>1.0</td>\n",
       "      <td>18241.713812</td>\n",
       "      <td>16503.500358</td>\n",
       "      <td>260.875</td>\n",
       "      <td>12.31</td>\n",
       "      <td>25.49</td>\n",
       "      <td>70.793103</td>\n",
       "      <td>1010.379310</td>\n",
       "    </tr>\n",
       "  </tbody>\n",
       "</table>\n",
       "</div>"
      ],
      "text/plain": [
       "   Year  Month  Event  Monthly Nominal GDP Index (inMillion$)  \\\n",
       "0  2016      1    0.0                            18286.638523   \n",
       "1  2016     10    1.0                            18740.780023   \n",
       "2  2016     11    1.0                            18960.461568   \n",
       "3  2016     12    2.0                            19015.393408   \n",
       "4  2016      2    1.0                            18241.713812   \n",
       "\n",
       "   Monthly Real GDP Index (inMillion$)      CPI  \\\n",
       "0                         16546.153123  260.342   \n",
       "1                         16725.460098  264.738   \n",
       "2                         16910.896330  265.203   \n",
       "3                         16918.050624  265.421   \n",
       "4                         16503.500358  260.875   \n",
       "\n",
       "   CommercialBankInterestRateonCreditCardPlans  \\\n",
       "0                                        12.22   \n",
       "1                                        12.51   \n",
       "2                                        12.41   \n",
       "3                                        12.41   \n",
       "4                                        12.31   \n",
       "\n",
       "   Earnings or wages  in dollars per hour  Humidity_highmean  \\\n",
       "0                                   25.50          64.258065   \n",
       "1                                   26.04          84.000000   \n",
       "2                                   25.87          73.100000   \n",
       "3                                   25.90          73.193548   \n",
       "4                                   25.49          70.793103   \n",
       "\n",
       "   Sea Level Press lowmean  \n",
       "0              1011.000000  \n",
       "1              1015.838710  \n",
       "2              1013.600000  \n",
       "3              1014.548387  \n",
       "4              1010.379310  "
      ]
     },
     "execution_count": 51,
     "metadata": {},
     "output_type": "execute_result"
    }
   ],
   "source": [
    "imp_columns_test = pd.DataFrame()\n",
    "\n",
    "for i in top_features['columns'].values:\n",
    "    imp_columns_test[i] = test_data[i]\n",
    "\n",
    "imp_columns_test.head()"
   ]
  },
  {
   "cell_type": "code",
   "execution_count": 52,
   "metadata": {},
   "outputs": [
    {
     "data": {
      "text/plain": [
       "array([3460.965625, 3615.140625, 3531.790625, 4348.775   , 3566.690625,\n",
       "       3566.690625, 3566.690625, 3565.80625 , 3565.80625 , 3548.05625 ,\n",
       "       3554.440625, 3615.140625])"
      ]
     },
     "execution_count": 52,
     "metadata": {},
     "output_type": "execute_result"
    }
   ],
   "source": [
    "rf_model.predict(imp_columns_test)"
   ]
  },
  {
   "cell_type": "code",
   "execution_count": 53,
   "metadata": {},
   "outputs": [
    {
     "data": {
      "text/html": [
       "<div>\n",
       "<style>\n",
       "    .dataframe thead tr:only-child th {\n",
       "        text-align: right;\n",
       "    }\n",
       "\n",
       "    .dataframe thead th {\n",
       "        text-align: left;\n",
       "    }\n",
       "\n",
       "    .dataframe tbody tr th {\n",
       "        vertical-align: top;\n",
       "    }\n",
       "</style>\n",
       "<table border=\"1\" class=\"dataframe\">\n",
       "  <thead>\n",
       "    <tr style=\"text-align: right;\">\n",
       "      <th></th>\n",
       "      <th>Sales(In ThousandDollars)</th>\n",
       "    </tr>\n",
       "  </thead>\n",
       "  <tbody>\n",
       "    <tr>\n",
       "      <th>0</th>\n",
       "      <td>3460.965625</td>\n",
       "    </tr>\n",
       "    <tr>\n",
       "      <th>1</th>\n",
       "      <td>3615.140625</td>\n",
       "    </tr>\n",
       "  </tbody>\n",
       "</table>\n",
       "</div>"
      ],
      "text/plain": [
       "   Sales(In ThousandDollars)\n",
       "0                3460.965625\n",
       "1                3615.140625"
      ]
     },
     "execution_count": 53,
     "metadata": {},
     "output_type": "execute_result"
    }
   ],
   "source": [
    "test_predictions = pd.DataFrame({'Sales(In ThousandDollars)': rf_model.predict(imp_columns_test)})\n",
    "test_predictions.head(2)"
   ]
  },
  {
   "cell_type": "code",
   "execution_count": 54,
   "metadata": {},
   "outputs": [
    {
     "data": {
      "text/html": [
       "<div>\n",
       "<style>\n",
       "    .dataframe thead tr:only-child th {\n",
       "        text-align: right;\n",
       "    }\n",
       "\n",
       "    .dataframe thead th {\n",
       "        text-align: left;\n",
       "    }\n",
       "\n",
       "    .dataframe tbody tr th {\n",
       "        vertical-align: top;\n",
       "    }\n",
       "</style>\n",
       "<table border=\"1\" class=\"dataframe\">\n",
       "  <thead>\n",
       "    <tr style=\"text-align: right;\">\n",
       "      <th></th>\n",
       "      <th>ID</th>\n",
       "      <th>Sales(In ThousandDollars)</th>\n",
       "      <th>Year</th>\n",
       "      <th>Month</th>\n",
       "      <th>ProductCategory</th>\n",
       "    </tr>\n",
       "  </thead>\n",
       "  <tbody>\n",
       "    <tr>\n",
       "      <th>0</th>\n",
       "      <td>1</td>\n",
       "      <td>110</td>\n",
       "      <td>2016</td>\n",
       "      <td>1</td>\n",
       "      <td>WomenClothing</td>\n",
       "    </tr>\n",
       "    <tr>\n",
       "      <th>1</th>\n",
       "      <td>2</td>\n",
       "      <td>140</td>\n",
       "      <td>2016</td>\n",
       "      <td>2</td>\n",
       "      <td>WomenClothing</td>\n",
       "    </tr>\n",
       "  </tbody>\n",
       "</table>\n",
       "</div>"
      ],
      "text/plain": [
       "   ID  Sales(In ThousandDollars)  Year  Month ProductCategory\n",
       "0   1                        110  2016      1   WomenClothing\n",
       "1   2                        140  2016      2   WomenClothing"
      ]
     },
     "execution_count": 54,
     "metadata": {},
     "output_type": "execute_result"
    }
   ],
   "source": [
    "submissionfile = pd.read_csv('C:\\\\Users\\\\HP\\\\Desktop\\\\PHD Hackathon\\\\Data Science\\\\NewSampleSubmission.csv')\n",
    "submissionfile.head(2)"
   ]
  },
  {
   "cell_type": "code",
   "execution_count": 55,
   "metadata": {
    "scrolled": true
   },
   "outputs": [
    {
     "data": {
      "text/html": [
       "<div>\n",
       "<style>\n",
       "    .dataframe thead tr:only-child th {\n",
       "        text-align: right;\n",
       "    }\n",
       "\n",
       "    .dataframe thead th {\n",
       "        text-align: left;\n",
       "    }\n",
       "\n",
       "    .dataframe tbody tr th {\n",
       "        vertical-align: top;\n",
       "    }\n",
       "</style>\n",
       "<table border=\"1\" class=\"dataframe\">\n",
       "  <thead>\n",
       "    <tr style=\"text-align: right;\">\n",
       "      <th></th>\n",
       "      <th>ID</th>\n",
       "      <th>Sales(In ThousandDollars)</th>\n",
       "      <th>Year</th>\n",
       "      <th>Month</th>\n",
       "      <th>ProductCategory</th>\n",
       "    </tr>\n",
       "  </thead>\n",
       "  <tbody>\n",
       "    <tr>\n",
       "      <th>0</th>\n",
       "      <td>1</td>\n",
       "      <td>3460.965625</td>\n",
       "      <td>2016</td>\n",
       "      <td>1</td>\n",
       "      <td>WomenClothing</td>\n",
       "    </tr>\n",
       "    <tr>\n",
       "      <th>1</th>\n",
       "      <td>2</td>\n",
       "      <td>3615.140625</td>\n",
       "      <td>2016</td>\n",
       "      <td>2</td>\n",
       "      <td>WomenClothing</td>\n",
       "    </tr>\n",
       "    <tr>\n",
       "      <th>2</th>\n",
       "      <td>3</td>\n",
       "      <td>3531.790625</td>\n",
       "      <td>2016</td>\n",
       "      <td>3</td>\n",
       "      <td>WomenClothing</td>\n",
       "    </tr>\n",
       "    <tr>\n",
       "      <th>3</th>\n",
       "      <td>4</td>\n",
       "      <td>4348.775000</td>\n",
       "      <td>2016</td>\n",
       "      <td>4</td>\n",
       "      <td>WomenClothing</td>\n",
       "    </tr>\n",
       "    <tr>\n",
       "      <th>4</th>\n",
       "      <td>5</td>\n",
       "      <td>3566.690625</td>\n",
       "      <td>2016</td>\n",
       "      <td>5</td>\n",
       "      <td>WomenClothing</td>\n",
       "    </tr>\n",
       "    <tr>\n",
       "      <th>5</th>\n",
       "      <td>6</td>\n",
       "      <td>3566.690625</td>\n",
       "      <td>2016</td>\n",
       "      <td>6</td>\n",
       "      <td>WomenClothing</td>\n",
       "    </tr>\n",
       "    <tr>\n",
       "      <th>6</th>\n",
       "      <td>7</td>\n",
       "      <td>3566.690625</td>\n",
       "      <td>2016</td>\n",
       "      <td>7</td>\n",
       "      <td>WomenClothing</td>\n",
       "    </tr>\n",
       "    <tr>\n",
       "      <th>7</th>\n",
       "      <td>8</td>\n",
       "      <td>3565.806250</td>\n",
       "      <td>2016</td>\n",
       "      <td>8</td>\n",
       "      <td>WomenClothing</td>\n",
       "    </tr>\n",
       "    <tr>\n",
       "      <th>8</th>\n",
       "      <td>9</td>\n",
       "      <td>3565.806250</td>\n",
       "      <td>2016</td>\n",
       "      <td>9</td>\n",
       "      <td>WomenClothing</td>\n",
       "    </tr>\n",
       "    <tr>\n",
       "      <th>9</th>\n",
       "      <td>10</td>\n",
       "      <td>3548.056250</td>\n",
       "      <td>2016</td>\n",
       "      <td>10</td>\n",
       "      <td>WomenClothing</td>\n",
       "    </tr>\n",
       "    <tr>\n",
       "      <th>10</th>\n",
       "      <td>11</td>\n",
       "      <td>3554.440625</td>\n",
       "      <td>2016</td>\n",
       "      <td>11</td>\n",
       "      <td>WomenClothing</td>\n",
       "    </tr>\n",
       "    <tr>\n",
       "      <th>11</th>\n",
       "      <td>12</td>\n",
       "      <td>3615.140625</td>\n",
       "      <td>2016</td>\n",
       "      <td>12</td>\n",
       "      <td>WomenClothing</td>\n",
       "    </tr>\n",
       "  </tbody>\n",
       "</table>\n",
       "</div>"
      ],
      "text/plain": [
       "    ID  Sales(In ThousandDollars)  Year  Month ProductCategory\n",
       "0    1                3460.965625  2016      1   WomenClothing\n",
       "1    2                3615.140625  2016      2   WomenClothing\n",
       "2    3                3531.790625  2016      3   WomenClothing\n",
       "3    4                4348.775000  2016      4   WomenClothing\n",
       "4    5                3566.690625  2016      5   WomenClothing\n",
       "5    6                3566.690625  2016      6   WomenClothing\n",
       "6    7                3566.690625  2016      7   WomenClothing\n",
       "7    8                3565.806250  2016      8   WomenClothing\n",
       "8    9                3565.806250  2016      9   WomenClothing\n",
       "9   10                3548.056250  2016     10   WomenClothing\n",
       "10  11                3554.440625  2016     11   WomenClothing\n",
       "11  12                3615.140625  2016     12   WomenClothing"
      ]
     },
     "execution_count": 55,
     "metadata": {},
     "output_type": "execute_result"
    }
   ],
   "source": [
    "submissionfile['Sales(In ThousandDollars)'] = test_predictions['Sales(In ThousandDollars)']\n",
    "submissionfile"
   ]
  },
  {
   "cell_type": "code",
   "execution_count": 56,
   "metadata": {
    "collapsed": true
   },
   "outputs": [],
   "source": [
    "#submissionfile.to_csv('C:\\\\Users\\\\HP\\\\Desktop\\\\trial\\\\regression_rf_submission.csv', index=False)"
   ]
  },
  {
   "cell_type": "markdown",
   "metadata": {},
   "source": [
    "### RF Tuning"
   ]
  },
  {
   "cell_type": "code",
   "execution_count": 57,
   "metadata": {},
   "outputs": [
    {
     "name": "stderr",
     "output_type": "stream",
     "text": [
      "C:\\Users\\HP\\Anaconda3\\lib\\site-packages\\sklearn\\model_selection\\_search.py:841: DeprecationWarning: The default of the `iid` parameter will change from True to False in version 0.22 and will be removed in 0.24. This will change numeric results when test-set sizes are unequal.\n",
      "  DeprecationWarning)\n"
     ]
    },
    {
     "data": {
      "text/plain": [
       "GridSearchCV(cv=5, error_score='raise-deprecating',\n",
       "       estimator=RandomForestRegressor(bootstrap=True, criterion='mse', max_depth=None,\n",
       "           max_features='auto', max_leaf_nodes=None,\n",
       "           min_impurity_decrease=0.0, min_impurity_split=None,\n",
       "           min_samples_leaf=1, min_samples_split=2,\n",
       "           min_weight_fraction_leaf=0.0, n_estimators='warn', n_jobs=None,\n",
       "           oob_score=False, random_state=None, verbose=0, warm_start=False),\n",
       "       fit_params=None, iid='warn', n_jobs=-1,\n",
       "       param_grid={'bootstrap': [True], 'max_depth': [3, 5, 8, 10, 12], 'max_features': ['sqrt', 'log2', 'auto'], 'min_samples_leaf': [2, 3, 4, 5], 'min_samples_split': [3, 5, 8, 10, 12], 'n_estimators': [20, 30, 40, 50]},\n",
       "       pre_dispatch='2*n_jobs', refit=True, return_train_score='warn',\n",
       "       scoring=None, verbose=0)"
      ]
     },
     "execution_count": 57,
     "metadata": {},
     "output_type": "execute_result"
    }
   ],
   "source": [
    "param_grid = {\n",
    "    'bootstrap': [True],\n",
    "    'max_depth': [3, 5, 8, 10, 12],\n",
    "    'max_features': ['sqrt', 'log2', 'auto'],\n",
    "    'min_samples_leaf': [2, 3, 4, 5],\n",
    "    'min_samples_split': [3, 5, 8, 10, 12],\n",
    "    'n_estimators': [20, 30, 40, 50]\n",
    "}\n",
    "\n",
    "rf = RandomForestRegressor()\n",
    "rf_grid = GridSearchCV(rf, param_grid = param_grid, cv = 5, n_jobs = -1)\n",
    "rf_grid.fit(trainX_fold, y_train)"
   ]
  },
  {
   "cell_type": "code",
   "execution_count": 58,
   "metadata": {},
   "outputs": [
    {
     "data": {
      "text/plain": [
       "{'bootstrap': True,\n",
       " 'max_depth': 5,\n",
       " 'max_features': 'auto',\n",
       " 'min_samples_leaf': 2,\n",
       " 'min_samples_split': 8,\n",
       " 'n_estimators': 40}"
      ]
     },
     "execution_count": 58,
     "metadata": {},
     "output_type": "execute_result"
    }
   ],
   "source": [
    "rf_grid.best_params_"
   ]
  },
  {
   "cell_type": "markdown",
   "metadata": {},
   "source": [
    "### Build RF Model With Best Parameters"
   ]
  },
  {
   "cell_type": "code",
   "execution_count": 59,
   "metadata": {},
   "outputs": [
    {
     "data": {
      "text/plain": [
       "11.127155310718011"
      ]
     },
     "execution_count": 59,
     "metadata": {},
     "output_type": "execute_result"
    }
   ],
   "source": [
    "rf_model_best = RandomForestRegressor(bootstrap=True, max_depth=5, max_features='auto', min_samples_leaf=2, \n",
    "                                     min_samples_split=8, n_estimators=40)\n",
    "\n",
    "rf_model_best.fit(imp_columns_train, y_train)\n",
    "preds = rf_model_best.predict(imp_columns_val)\n",
    "mean_absolute_percentage_error(y_val, preds)"
   ]
  },
  {
   "cell_type": "code",
   "execution_count": 61,
   "metadata": {},
   "outputs": [
    {
     "data": {
      "text/html": [
       "<div>\n",
       "<style>\n",
       "    .dataframe thead tr:only-child th {\n",
       "        text-align: right;\n",
       "    }\n",
       "\n",
       "    .dataframe thead th {\n",
       "        text-align: left;\n",
       "    }\n",
       "\n",
       "    .dataframe tbody tr th {\n",
       "        vertical-align: top;\n",
       "    }\n",
       "</style>\n",
       "<table border=\"1\" class=\"dataframe\">\n",
       "  <thead>\n",
       "    <tr style=\"text-align: right;\">\n",
       "      <th></th>\n",
       "      <th>Sales(In ThousandDollars)</th>\n",
       "    </tr>\n",
       "  </thead>\n",
       "  <tbody>\n",
       "    <tr>\n",
       "      <th>0</th>\n",
       "      <td>3114.083819</td>\n",
       "    </tr>\n",
       "    <tr>\n",
       "      <th>1</th>\n",
       "      <td>3713.977354</td>\n",
       "    </tr>\n",
       "    <tr>\n",
       "      <th>2</th>\n",
       "      <td>3743.799729</td>\n",
       "    </tr>\n",
       "    <tr>\n",
       "      <th>3</th>\n",
       "      <td>4442.735031</td>\n",
       "    </tr>\n",
       "    <tr>\n",
       "      <th>4</th>\n",
       "      <td>3330.055015</td>\n",
       "    </tr>\n",
       "    <tr>\n",
       "      <th>5</th>\n",
       "      <td>3768.844873</td>\n",
       "    </tr>\n",
       "    <tr>\n",
       "      <th>6</th>\n",
       "      <td>3798.944170</td>\n",
       "    </tr>\n",
       "    <tr>\n",
       "      <th>7</th>\n",
       "      <td>3689.220909</td>\n",
       "    </tr>\n",
       "    <tr>\n",
       "      <th>8</th>\n",
       "      <td>3610.488351</td>\n",
       "    </tr>\n",
       "    <tr>\n",
       "      <th>9</th>\n",
       "      <td>3596.021374</td>\n",
       "    </tr>\n",
       "    <tr>\n",
       "      <th>10</th>\n",
       "      <td>3637.223656</td>\n",
       "    </tr>\n",
       "    <tr>\n",
       "      <th>11</th>\n",
       "      <td>3737.956074</td>\n",
       "    </tr>\n",
       "  </tbody>\n",
       "</table>\n",
       "</div>"
      ],
      "text/plain": [
       "    Sales(In ThousandDollars)\n",
       "0                 3114.083819\n",
       "1                 3713.977354\n",
       "2                 3743.799729\n",
       "3                 4442.735031\n",
       "4                 3330.055015\n",
       "5                 3768.844873\n",
       "6                 3798.944170\n",
       "7                 3689.220909\n",
       "8                 3610.488351\n",
       "9                 3596.021374\n",
       "10                3637.223656\n",
       "11                3737.956074"
      ]
     },
     "execution_count": 61,
     "metadata": {},
     "output_type": "execute_result"
    }
   ],
   "source": [
    "test_preds_rf = pd.DataFrame({'Sales(In ThousandDollars)': rf_model_best.predict(imp_columns_test)})\n",
    "test_preds_rf"
   ]
  },
  {
   "cell_type": "code",
   "execution_count": 62,
   "metadata": {
    "scrolled": true
   },
   "outputs": [
    {
     "data": {
      "text/html": [
       "<div>\n",
       "<style>\n",
       "    .dataframe thead tr:only-child th {\n",
       "        text-align: right;\n",
       "    }\n",
       "\n",
       "    .dataframe thead th {\n",
       "        text-align: left;\n",
       "    }\n",
       "\n",
       "    .dataframe tbody tr th {\n",
       "        vertical-align: top;\n",
       "    }\n",
       "</style>\n",
       "<table border=\"1\" class=\"dataframe\">\n",
       "  <thead>\n",
       "    <tr style=\"text-align: right;\">\n",
       "      <th></th>\n",
       "      <th>ID</th>\n",
       "      <th>Sales(In ThousandDollars)</th>\n",
       "      <th>Year</th>\n",
       "      <th>Month</th>\n",
       "      <th>ProductCategory</th>\n",
       "    </tr>\n",
       "  </thead>\n",
       "  <tbody>\n",
       "    <tr>\n",
       "      <th>0</th>\n",
       "      <td>1</td>\n",
       "      <td>3114.083819</td>\n",
       "      <td>2016</td>\n",
       "      <td>1</td>\n",
       "      <td>WomenClothing</td>\n",
       "    </tr>\n",
       "    <tr>\n",
       "      <th>1</th>\n",
       "      <td>2</td>\n",
       "      <td>3713.977354</td>\n",
       "      <td>2016</td>\n",
       "      <td>2</td>\n",
       "      <td>WomenClothing</td>\n",
       "    </tr>\n",
       "    <tr>\n",
       "      <th>2</th>\n",
       "      <td>3</td>\n",
       "      <td>3743.799729</td>\n",
       "      <td>2016</td>\n",
       "      <td>3</td>\n",
       "      <td>WomenClothing</td>\n",
       "    </tr>\n",
       "    <tr>\n",
       "      <th>3</th>\n",
       "      <td>4</td>\n",
       "      <td>4442.735031</td>\n",
       "      <td>2016</td>\n",
       "      <td>4</td>\n",
       "      <td>WomenClothing</td>\n",
       "    </tr>\n",
       "    <tr>\n",
       "      <th>4</th>\n",
       "      <td>5</td>\n",
       "      <td>3330.055015</td>\n",
       "      <td>2016</td>\n",
       "      <td>5</td>\n",
       "      <td>WomenClothing</td>\n",
       "    </tr>\n",
       "    <tr>\n",
       "      <th>5</th>\n",
       "      <td>6</td>\n",
       "      <td>3768.844873</td>\n",
       "      <td>2016</td>\n",
       "      <td>6</td>\n",
       "      <td>WomenClothing</td>\n",
       "    </tr>\n",
       "    <tr>\n",
       "      <th>6</th>\n",
       "      <td>7</td>\n",
       "      <td>3798.944170</td>\n",
       "      <td>2016</td>\n",
       "      <td>7</td>\n",
       "      <td>WomenClothing</td>\n",
       "    </tr>\n",
       "    <tr>\n",
       "      <th>7</th>\n",
       "      <td>8</td>\n",
       "      <td>3689.220909</td>\n",
       "      <td>2016</td>\n",
       "      <td>8</td>\n",
       "      <td>WomenClothing</td>\n",
       "    </tr>\n",
       "    <tr>\n",
       "      <th>8</th>\n",
       "      <td>9</td>\n",
       "      <td>3610.488351</td>\n",
       "      <td>2016</td>\n",
       "      <td>9</td>\n",
       "      <td>WomenClothing</td>\n",
       "    </tr>\n",
       "    <tr>\n",
       "      <th>9</th>\n",
       "      <td>10</td>\n",
       "      <td>3596.021374</td>\n",
       "      <td>2016</td>\n",
       "      <td>10</td>\n",
       "      <td>WomenClothing</td>\n",
       "    </tr>\n",
       "    <tr>\n",
       "      <th>10</th>\n",
       "      <td>11</td>\n",
       "      <td>3637.223656</td>\n",
       "      <td>2016</td>\n",
       "      <td>11</td>\n",
       "      <td>WomenClothing</td>\n",
       "    </tr>\n",
       "    <tr>\n",
       "      <th>11</th>\n",
       "      <td>12</td>\n",
       "      <td>3737.956074</td>\n",
       "      <td>2016</td>\n",
       "      <td>12</td>\n",
       "      <td>WomenClothing</td>\n",
       "    </tr>\n",
       "  </tbody>\n",
       "</table>\n",
       "</div>"
      ],
      "text/plain": [
       "    ID  Sales(In ThousandDollars)  Year  Month ProductCategory\n",
       "0    1                3114.083819  2016      1   WomenClothing\n",
       "1    2                3713.977354  2016      2   WomenClothing\n",
       "2    3                3743.799729  2016      3   WomenClothing\n",
       "3    4                4442.735031  2016      4   WomenClothing\n",
       "4    5                3330.055015  2016      5   WomenClothing\n",
       "5    6                3768.844873  2016      6   WomenClothing\n",
       "6    7                3798.944170  2016      7   WomenClothing\n",
       "7    8                3689.220909  2016      8   WomenClothing\n",
       "8    9                3610.488351  2016      9   WomenClothing\n",
       "9   10                3596.021374  2016     10   WomenClothing\n",
       "10  11                3637.223656  2016     11   WomenClothing\n",
       "11  12                3737.956074  2016     12   WomenClothing"
      ]
     },
     "execution_count": 62,
     "metadata": {},
     "output_type": "execute_result"
    }
   ],
   "source": [
    "submissionfile['Sales(In ThousandDollars)'] = test_preds_rf['Sales(In ThousandDollars)']\n",
    "submissionfile"
   ]
  },
  {
   "cell_type": "code",
   "execution_count": 52,
   "metadata": {
    "collapsed": true
   },
   "outputs": [],
   "source": [
    "#submissionfile.to_csv('C:\\\\Users\\\\HP\\\\Desktop\\\\trial\\\\regression_rf_best_submission.csv', index=False)"
   ]
  },
  {
   "cell_type": "code",
   "execution_count": 64,
   "metadata": {
    "collapsed": true
   },
   "outputs": [],
   "source": [
    "##################################################################################################################"
   ]
  },
  {
   "cell_type": "markdown",
   "metadata": {},
   "source": [
    "### GBM"
   ]
  },
  {
   "cell_type": "code",
   "execution_count": 63,
   "metadata": {},
   "outputs": [
    {
     "data": {
      "text/plain": [
       "14.435404446789066"
      ]
     },
     "execution_count": 63,
     "metadata": {},
     "output_type": "execute_result"
    }
   ],
   "source": [
    "from sklearn.ensemble import GradientBoostingRegressor\n",
    "\n",
    "model_gbr = GradientBoostingRegressor()\n",
    "model_gbr.fit(trainX_fold, y_train)\n",
    "\n",
    "val_predictions = model_gbr.predict(valX_fold)\n",
    "mean_absolute_percentage_error(y_val, val_predictions)"
   ]
  },
  {
   "cell_type": "code",
   "execution_count": 64,
   "metadata": {
    "scrolled": true
   },
   "outputs": [
    {
     "data": {
      "text/html": [
       "<div>\n",
       "<style>\n",
       "    .dataframe thead tr:only-child th {\n",
       "        text-align: right;\n",
       "    }\n",
       "\n",
       "    .dataframe thead th {\n",
       "        text-align: left;\n",
       "    }\n",
       "\n",
       "    .dataframe tbody tr th {\n",
       "        vertical-align: top;\n",
       "    }\n",
       "</style>\n",
       "<table border=\"1\" class=\"dataframe\">\n",
       "  <thead>\n",
       "    <tr style=\"text-align: right;\">\n",
       "      <th></th>\n",
       "      <th>Sales(In ThousandDollars)</th>\n",
       "    </tr>\n",
       "  </thead>\n",
       "  <tbody>\n",
       "    <tr>\n",
       "      <th>0</th>\n",
       "      <td>2407.081622</td>\n",
       "    </tr>\n",
       "    <tr>\n",
       "      <th>1</th>\n",
       "      <td>2942.114933</td>\n",
       "    </tr>\n",
       "    <tr>\n",
       "      <th>2</th>\n",
       "      <td>2904.340265</td>\n",
       "    </tr>\n",
       "    <tr>\n",
       "      <th>3</th>\n",
       "      <td>2589.262319</td>\n",
       "    </tr>\n",
       "    <tr>\n",
       "      <th>4</th>\n",
       "      <td>2407.081622</td>\n",
       "    </tr>\n",
       "    <tr>\n",
       "      <th>5</th>\n",
       "      <td>2834.662310</td>\n",
       "    </tr>\n",
       "    <tr>\n",
       "      <th>6</th>\n",
       "      <td>2811.560897</td>\n",
       "    </tr>\n",
       "    <tr>\n",
       "      <th>7</th>\n",
       "      <td>2887.434636</td>\n",
       "    </tr>\n",
       "    <tr>\n",
       "      <th>8</th>\n",
       "      <td>2913.900793</td>\n",
       "    </tr>\n",
       "    <tr>\n",
       "      <th>9</th>\n",
       "      <td>2946.414668</td>\n",
       "    </tr>\n",
       "    <tr>\n",
       "      <th>10</th>\n",
       "      <td>2946.414668</td>\n",
       "    </tr>\n",
       "    <tr>\n",
       "      <th>11</th>\n",
       "      <td>2940.487288</td>\n",
       "    </tr>\n",
       "  </tbody>\n",
       "</table>\n",
       "</div>"
      ],
      "text/plain": [
       "    Sales(In ThousandDollars)\n",
       "0                 2407.081622\n",
       "1                 2942.114933\n",
       "2                 2904.340265\n",
       "3                 2589.262319\n",
       "4                 2407.081622\n",
       "5                 2834.662310\n",
       "6                 2811.560897\n",
       "7                 2887.434636\n",
       "8                 2913.900793\n",
       "9                 2946.414668\n",
       "10                2946.414668\n",
       "11                2940.487288"
      ]
     },
     "execution_count": 64,
     "metadata": {},
     "output_type": "execute_result"
    }
   ],
   "source": [
    "test_preds = pd.DataFrame({'Sales(In ThousandDollars)': model_gbr.predict(test_data)})\n",
    "test_preds"
   ]
  },
  {
   "cell_type": "markdown",
   "metadata": {},
   "source": [
    "### GBM With rf_model Imp_features"
   ]
  },
  {
   "cell_type": "code",
   "execution_count": 65,
   "metadata": {},
   "outputs": [
    {
     "data": {
      "text/plain": [
       "8.182636252320822"
      ]
     },
     "execution_count": 65,
     "metadata": {},
     "output_type": "execute_result"
    }
   ],
   "source": [
    "from sklearn.ensemble import GradientBoostingRegressor\n",
    "\n",
    "model_gbr = GradientBoostingRegressor()\n",
    "model_gbr.fit(imp_columns_train, y_train)\n",
    "\n",
    "val_predictions = model_gbr.predict(imp_columns_val)\n",
    "mean_absolute_percentage_error(y_val, val_predictions)"
   ]
  },
  {
   "cell_type": "code",
   "execution_count": 66,
   "metadata": {
    "collapsed": true,
    "scrolled": true
   },
   "outputs": [],
   "source": [
    "test_preds1 = pd.DataFrame({'Sales(In ThousandDollars)': model_gbr.predict(imp_columns_test)})"
   ]
  },
  {
   "cell_type": "code",
   "execution_count": 67,
   "metadata": {},
   "outputs": [
    {
     "data": {
      "text/html": [
       "<div>\n",
       "<style>\n",
       "    .dataframe thead tr:only-child th {\n",
       "        text-align: right;\n",
       "    }\n",
       "\n",
       "    .dataframe thead th {\n",
       "        text-align: left;\n",
       "    }\n",
       "\n",
       "    .dataframe tbody tr th {\n",
       "        vertical-align: top;\n",
       "    }\n",
       "</style>\n",
       "<table border=\"1\" class=\"dataframe\">\n",
       "  <thead>\n",
       "    <tr style=\"text-align: right;\">\n",
       "      <th></th>\n",
       "      <th>ID</th>\n",
       "      <th>Sales(In ThousandDollars)</th>\n",
       "      <th>Year</th>\n",
       "      <th>Month</th>\n",
       "      <th>ProductCategory</th>\n",
       "    </tr>\n",
       "  </thead>\n",
       "  <tbody>\n",
       "    <tr>\n",
       "      <th>0</th>\n",
       "      <td>1</td>\n",
       "      <td>3267.131498</td>\n",
       "      <td>2016</td>\n",
       "      <td>1</td>\n",
       "      <td>WomenClothing</td>\n",
       "    </tr>\n",
       "    <tr>\n",
       "      <th>1</th>\n",
       "      <td>2</td>\n",
       "      <td>4013.631838</td>\n",
       "      <td>2016</td>\n",
       "      <td>2</td>\n",
       "      <td>WomenClothing</td>\n",
       "    </tr>\n",
       "    <tr>\n",
       "      <th>2</th>\n",
       "      <td>3</td>\n",
       "      <td>4027.413783</td>\n",
       "      <td>2016</td>\n",
       "      <td>3</td>\n",
       "      <td>WomenClothing</td>\n",
       "    </tr>\n",
       "    <tr>\n",
       "      <th>3</th>\n",
       "      <td>4</td>\n",
       "      <td>4847.988924</td>\n",
       "      <td>2016</td>\n",
       "      <td>4</td>\n",
       "      <td>WomenClothing</td>\n",
       "    </tr>\n",
       "    <tr>\n",
       "      <th>4</th>\n",
       "      <td>5</td>\n",
       "      <td>3541.047898</td>\n",
       "      <td>2016</td>\n",
       "      <td>5</td>\n",
       "      <td>WomenClothing</td>\n",
       "    </tr>\n",
       "    <tr>\n",
       "      <th>5</th>\n",
       "      <td>6</td>\n",
       "      <td>4197.733296</td>\n",
       "      <td>2016</td>\n",
       "      <td>6</td>\n",
       "      <td>WomenClothing</td>\n",
       "    </tr>\n",
       "    <tr>\n",
       "      <th>6</th>\n",
       "      <td>7</td>\n",
       "      <td>4224.487081</td>\n",
       "      <td>2016</td>\n",
       "      <td>7</td>\n",
       "      <td>WomenClothing</td>\n",
       "    </tr>\n",
       "    <tr>\n",
       "      <th>7</th>\n",
       "      <td>8</td>\n",
       "      <td>4112.699155</td>\n",
       "      <td>2016</td>\n",
       "      <td>8</td>\n",
       "      <td>WomenClothing</td>\n",
       "    </tr>\n",
       "    <tr>\n",
       "      <th>8</th>\n",
       "      <td>9</td>\n",
       "      <td>3888.884729</td>\n",
       "      <td>2016</td>\n",
       "      <td>9</td>\n",
       "      <td>WomenClothing</td>\n",
       "    </tr>\n",
       "    <tr>\n",
       "      <th>9</th>\n",
       "      <td>10</td>\n",
       "      <td>3823.004196</td>\n",
       "      <td>2016</td>\n",
       "      <td>10</td>\n",
       "      <td>WomenClothing</td>\n",
       "    </tr>\n",
       "    <tr>\n",
       "      <th>10</th>\n",
       "      <td>11</td>\n",
       "      <td>3848.880305</td>\n",
       "      <td>2016</td>\n",
       "      <td>11</td>\n",
       "      <td>WomenClothing</td>\n",
       "    </tr>\n",
       "    <tr>\n",
       "      <th>11</th>\n",
       "      <td>12</td>\n",
       "      <td>4023.722993</td>\n",
       "      <td>2016</td>\n",
       "      <td>12</td>\n",
       "      <td>WomenClothing</td>\n",
       "    </tr>\n",
       "  </tbody>\n",
       "</table>\n",
       "</div>"
      ],
      "text/plain": [
       "    ID  Sales(In ThousandDollars)  Year  Month ProductCategory\n",
       "0    1                3267.131498  2016      1   WomenClothing\n",
       "1    2                4013.631838  2016      2   WomenClothing\n",
       "2    3                4027.413783  2016      3   WomenClothing\n",
       "3    4                4847.988924  2016      4   WomenClothing\n",
       "4    5                3541.047898  2016      5   WomenClothing\n",
       "5    6                4197.733296  2016      6   WomenClothing\n",
       "6    7                4224.487081  2016      7   WomenClothing\n",
       "7    8                4112.699155  2016      8   WomenClothing\n",
       "8    9                3888.884729  2016      9   WomenClothing\n",
       "9   10                3823.004196  2016     10   WomenClothing\n",
       "10  11                3848.880305  2016     11   WomenClothing\n",
       "11  12                4023.722993  2016     12   WomenClothing"
      ]
     },
     "execution_count": 67,
     "metadata": {},
     "output_type": "execute_result"
    }
   ],
   "source": [
    "submissionfile['Sales(In ThousandDollars)'] = test_preds1['Sales(In ThousandDollars)']\n",
    "submissionfile"
   ]
  },
  {
   "cell_type": "code",
   "execution_count": 70,
   "metadata": {
    "collapsed": true
   },
   "outputs": [],
   "source": [
    "#submissionfile.to_csv('C:\\\\Users\\\\HP\\\\Desktop\\\\trial\\\\regression_gbm_submission.csv', index=False)"
   ]
  },
  {
   "cell_type": "markdown",
   "metadata": {},
   "source": [
    "### GBM With GridSearch"
   ]
  },
  {
   "cell_type": "code",
   "execution_count": 68,
   "metadata": {},
   "outputs": [
    {
     "name": "stderr",
     "output_type": "stream",
     "text": [
      "C:\\Users\\HP\\Anaconda3\\lib\\site-packages\\sklearn\\model_selection\\_search.py:841: DeprecationWarning: The default of the `iid` parameter will change from True to False in version 0.22 and will be removed in 0.24. This will change numeric results when test-set sizes are unequal.\n",
      "  DeprecationWarning)\n"
     ]
    },
    {
     "data": {
      "text/plain": [
       "GridSearchCV(cv=5, error_score='raise-deprecating',\n",
       "       estimator=GradientBoostingRegressor(alpha=0.9, criterion='friedman_mse', init=None,\n",
       "             learning_rate=0.1, loss='ls', max_depth=3, max_features=None,\n",
       "             max_leaf_nodes=None, min_impurity_decrease=0.0,\n",
       "             min_impurity_split=None, min_samples_leaf=1,\n",
       "             min_sampl...=None, subsample=1.0, tol=0.0001,\n",
       "             validation_fraction=0.1, verbose=0, warm_start=False),\n",
       "       fit_params=None, iid='warn', n_jobs=-1,\n",
       "       param_grid={'criterion': ['friedman_mse', 'mae'], 'loss': ['ls', 'lad', 'huber', 'quantile'], 'learning_rate': [0.025, 0.05, 0.075, 0.1, 0.15], 'max_depth': [3, 5, 8], 'n_estimators': [10, 15, 20], 'min_samples_split': [2, 3, 4, 5, 6]},\n",
       "       pre_dispatch='2*n_jobs', refit=True, return_train_score='warn',\n",
       "       scoring=None, verbose=0)"
      ]
     },
     "execution_count": 68,
     "metadata": {},
     "output_type": "execute_result"
    }
   ],
   "source": [
    "parameters = {\n",
    "    \"criterion\": [\"friedman_mse\",'mae'],\n",
    "    \"loss\":['ls', 'lad', 'huber', 'quantile'],\n",
    "    \"learning_rate\": [0.025, 0.05, 0.075, 0.1, 0.15],\n",
    "    \"max_depth\":[3,5,8],\n",
    "    \"n_estimators\":[10, 15, 20],\n",
    "    \"min_samples_split\":[2,3,4,5,6]\n",
    "    }\n",
    "\n",
    "gbc = GradientBoostingRegressor()\n",
    "gbc_grid = GridSearchCV(gbc, parameters, cv=5, n_jobs=-1)\n",
    "gbc_grid.fit(imp_columns_train, y_train)"
   ]
  },
  {
   "cell_type": "code",
   "execution_count": 69,
   "metadata": {},
   "outputs": [
    {
     "data": {
      "text/plain": [
       "{'criterion': 'mae',\n",
       " 'learning_rate': 0.15,\n",
       " 'loss': 'huber',\n",
       " 'max_depth': 8,\n",
       " 'min_samples_split': 5,\n",
       " 'n_estimators': 15}"
      ]
     },
     "execution_count": 69,
     "metadata": {},
     "output_type": "execute_result"
    }
   ],
   "source": [
    "gbc_grid.best_params_"
   ]
  },
  {
   "cell_type": "code",
   "execution_count": 70,
   "metadata": {},
   "outputs": [
    {
     "data": {
      "text/plain": [
       "GradientBoostingRegressor(alpha=0.9, criterion='mae', init=None,\n",
       "             learning_rate=0.15, loss='huber', max_depth=8,\n",
       "             max_features=None, max_leaf_nodes=None,\n",
       "             min_impurity_decrease=0.0, min_impurity_split=None,\n",
       "             min_samples_leaf=1, min_samples_split=5,\n",
       "             min_weight_fraction_leaf=0.0, n_estimators=15,\n",
       "             n_iter_no_change=None, presort='auto', random_state=None,\n",
       "             subsample=1.0, tol=0.0001, validation_fraction=0.1, verbose=0,\n",
       "             warm_start=False)"
      ]
     },
     "execution_count": 70,
     "metadata": {},
     "output_type": "execute_result"
    }
   ],
   "source": [
    "gbc_best = GradientBoostingRegressor(criterion='mae',\n",
    "                                        learning_rate = 0.15,\n",
    "                                        loss = 'huber',\n",
    "                                        max_depth = 8,\n",
    "                                        min_samples_split = 5,\n",
    "                                        n_estimators =15)\n",
    "gbc_best.fit(imp_columns_train, y_train)"
   ]
  },
  {
   "cell_type": "code",
   "execution_count": 71,
   "metadata": {},
   "outputs": [
    {
     "data": {
      "text/plain": [
       "9.325662790293539"
      ]
     },
     "execution_count": 71,
     "metadata": {},
     "output_type": "execute_result"
    }
   ],
   "source": [
    "y_cap = gbc_best.predict(imp_columns_val)\n",
    "mean_absolute_percentage_error(y_val, y_cap)"
   ]
  },
  {
   "cell_type": "code",
   "execution_count": 72,
   "metadata": {},
   "outputs": [
    {
     "data": {
      "text/plain": [
       "array([3194.81479139, 3535.72726503, 3858.79259581, 4632.60325662,\n",
       "       3614.71252277, 3873.8615517 , 3873.8615517 , 3866.93696496,\n",
       "       3860.06018979, 3856.27705406, 3833.74683707, 3904.45180077])"
      ]
     },
     "execution_count": 72,
     "metadata": {},
     "output_type": "execute_result"
    }
   ],
   "source": [
    "gbc_best.predict(imp_columns_test)"
   ]
  },
  {
   "cell_type": "code",
   "execution_count": 73,
   "metadata": {
    "scrolled": true
   },
   "outputs": [
    {
     "data": {
      "text/html": [
       "<div>\n",
       "<style>\n",
       "    .dataframe thead tr:only-child th {\n",
       "        text-align: right;\n",
       "    }\n",
       "\n",
       "    .dataframe thead th {\n",
       "        text-align: left;\n",
       "    }\n",
       "\n",
       "    .dataframe tbody tr th {\n",
       "        vertical-align: top;\n",
       "    }\n",
       "</style>\n",
       "<table border=\"1\" class=\"dataframe\">\n",
       "  <thead>\n",
       "    <tr style=\"text-align: right;\">\n",
       "      <th></th>\n",
       "      <th>Sales(In ThousandDollars)</th>\n",
       "    </tr>\n",
       "  </thead>\n",
       "  <tbody>\n",
       "    <tr>\n",
       "      <th>0</th>\n",
       "      <td>3194.814791</td>\n",
       "    </tr>\n",
       "    <tr>\n",
       "      <th>1</th>\n",
       "      <td>3535.727265</td>\n",
       "    </tr>\n",
       "    <tr>\n",
       "      <th>2</th>\n",
       "      <td>3858.792596</td>\n",
       "    </tr>\n",
       "    <tr>\n",
       "      <th>3</th>\n",
       "      <td>4632.603257</td>\n",
       "    </tr>\n",
       "    <tr>\n",
       "      <th>4</th>\n",
       "      <td>3614.712523</td>\n",
       "    </tr>\n",
       "    <tr>\n",
       "      <th>5</th>\n",
       "      <td>3873.861552</td>\n",
       "    </tr>\n",
       "    <tr>\n",
       "      <th>6</th>\n",
       "      <td>3873.861552</td>\n",
       "    </tr>\n",
       "    <tr>\n",
       "      <th>7</th>\n",
       "      <td>3866.936965</td>\n",
       "    </tr>\n",
       "    <tr>\n",
       "      <th>8</th>\n",
       "      <td>3860.060190</td>\n",
       "    </tr>\n",
       "    <tr>\n",
       "      <th>9</th>\n",
       "      <td>3856.277054</td>\n",
       "    </tr>\n",
       "    <tr>\n",
       "      <th>10</th>\n",
       "      <td>3833.746837</td>\n",
       "    </tr>\n",
       "    <tr>\n",
       "      <th>11</th>\n",
       "      <td>3904.451801</td>\n",
       "    </tr>\n",
       "  </tbody>\n",
       "</table>\n",
       "</div>"
      ],
      "text/plain": [
       "    Sales(In ThousandDollars)\n",
       "0                 3194.814791\n",
       "1                 3535.727265\n",
       "2                 3858.792596\n",
       "3                 4632.603257\n",
       "4                 3614.712523\n",
       "5                 3873.861552\n",
       "6                 3873.861552\n",
       "7                 3866.936965\n",
       "8                 3860.060190\n",
       "9                 3856.277054\n",
       "10                3833.746837\n",
       "11                3904.451801"
      ]
     },
     "execution_count": 73,
     "metadata": {},
     "output_type": "execute_result"
    }
   ],
   "source": [
    "test_preds2 = pd.DataFrame({'Sales(In ThousandDollars)': gbc_best.predict(imp_columns_test)})\n",
    "test_preds2"
   ]
  },
  {
   "cell_type": "code",
   "execution_count": null,
   "metadata": {
    "collapsed": true
   },
   "outputs": [],
   "source": []
  },
  {
   "cell_type": "code",
   "execution_count": 74,
   "metadata": {},
   "outputs": [
    {
     "data": {
      "text/html": [
       "<div>\n",
       "<style>\n",
       "    .dataframe thead tr:only-child th {\n",
       "        text-align: right;\n",
       "    }\n",
       "\n",
       "    .dataframe thead th {\n",
       "        text-align: left;\n",
       "    }\n",
       "\n",
       "    .dataframe tbody tr th {\n",
       "        vertical-align: top;\n",
       "    }\n",
       "</style>\n",
       "<table border=\"1\" class=\"dataframe\">\n",
       "  <thead>\n",
       "    <tr style=\"text-align: right;\">\n",
       "      <th></th>\n",
       "      <th>ID</th>\n",
       "      <th>Sales(In ThousandDollars)</th>\n",
       "      <th>Year</th>\n",
       "      <th>Month</th>\n",
       "      <th>ProductCategory</th>\n",
       "    </tr>\n",
       "  </thead>\n",
       "  <tbody>\n",
       "    <tr>\n",
       "      <th>0</th>\n",
       "      <td>1</td>\n",
       "      <td>3194.814791</td>\n",
       "      <td>2016</td>\n",
       "      <td>1</td>\n",
       "      <td>WomenClothing</td>\n",
       "    </tr>\n",
       "    <tr>\n",
       "      <th>1</th>\n",
       "      <td>2</td>\n",
       "      <td>3535.727265</td>\n",
       "      <td>2016</td>\n",
       "      <td>2</td>\n",
       "      <td>WomenClothing</td>\n",
       "    </tr>\n",
       "    <tr>\n",
       "      <th>2</th>\n",
       "      <td>3</td>\n",
       "      <td>3858.792596</td>\n",
       "      <td>2016</td>\n",
       "      <td>3</td>\n",
       "      <td>WomenClothing</td>\n",
       "    </tr>\n",
       "    <tr>\n",
       "      <th>3</th>\n",
       "      <td>4</td>\n",
       "      <td>4632.603257</td>\n",
       "      <td>2016</td>\n",
       "      <td>4</td>\n",
       "      <td>WomenClothing</td>\n",
       "    </tr>\n",
       "    <tr>\n",
       "      <th>4</th>\n",
       "      <td>5</td>\n",
       "      <td>3614.712523</td>\n",
       "      <td>2016</td>\n",
       "      <td>5</td>\n",
       "      <td>WomenClothing</td>\n",
       "    </tr>\n",
       "    <tr>\n",
       "      <th>5</th>\n",
       "      <td>6</td>\n",
       "      <td>3873.861552</td>\n",
       "      <td>2016</td>\n",
       "      <td>6</td>\n",
       "      <td>WomenClothing</td>\n",
       "    </tr>\n",
       "    <tr>\n",
       "      <th>6</th>\n",
       "      <td>7</td>\n",
       "      <td>3873.861552</td>\n",
       "      <td>2016</td>\n",
       "      <td>7</td>\n",
       "      <td>WomenClothing</td>\n",
       "    </tr>\n",
       "    <tr>\n",
       "      <th>7</th>\n",
       "      <td>8</td>\n",
       "      <td>3866.936965</td>\n",
       "      <td>2016</td>\n",
       "      <td>8</td>\n",
       "      <td>WomenClothing</td>\n",
       "    </tr>\n",
       "    <tr>\n",
       "      <th>8</th>\n",
       "      <td>9</td>\n",
       "      <td>3860.060190</td>\n",
       "      <td>2016</td>\n",
       "      <td>9</td>\n",
       "      <td>WomenClothing</td>\n",
       "    </tr>\n",
       "    <tr>\n",
       "      <th>9</th>\n",
       "      <td>10</td>\n",
       "      <td>3856.277054</td>\n",
       "      <td>2016</td>\n",
       "      <td>10</td>\n",
       "      <td>WomenClothing</td>\n",
       "    </tr>\n",
       "    <tr>\n",
       "      <th>10</th>\n",
       "      <td>11</td>\n",
       "      <td>3833.746837</td>\n",
       "      <td>2016</td>\n",
       "      <td>11</td>\n",
       "      <td>WomenClothing</td>\n",
       "    </tr>\n",
       "    <tr>\n",
       "      <th>11</th>\n",
       "      <td>12</td>\n",
       "      <td>3904.451801</td>\n",
       "      <td>2016</td>\n",
       "      <td>12</td>\n",
       "      <td>WomenClothing</td>\n",
       "    </tr>\n",
       "  </tbody>\n",
       "</table>\n",
       "</div>"
      ],
      "text/plain": [
       "    ID  Sales(In ThousandDollars)  Year  Month ProductCategory\n",
       "0    1                3194.814791  2016      1   WomenClothing\n",
       "1    2                3535.727265  2016      2   WomenClothing\n",
       "2    3                3858.792596  2016      3   WomenClothing\n",
       "3    4                4632.603257  2016      4   WomenClothing\n",
       "4    5                3614.712523  2016      5   WomenClothing\n",
       "5    6                3873.861552  2016      6   WomenClothing\n",
       "6    7                3873.861552  2016      7   WomenClothing\n",
       "7    8                3866.936965  2016      8   WomenClothing\n",
       "8    9                3860.060190  2016      9   WomenClothing\n",
       "9   10                3856.277054  2016     10   WomenClothing\n",
       "10  11                3833.746837  2016     11   WomenClothing\n",
       "11  12                3904.451801  2016     12   WomenClothing"
      ]
     },
     "execution_count": 74,
     "metadata": {},
     "output_type": "execute_result"
    }
   ],
   "source": [
    "submissionfile['Sales(In ThousandDollars)'] = test_preds2['Sales(In ThousandDollars)']\n",
    "submissionfile"
   ]
  },
  {
   "cell_type": "code",
   "execution_count": 85,
   "metadata": {
    "collapsed": true
   },
   "outputs": [],
   "source": [
    "#submissionfile.to_csv('C:\\\\Users\\\\HP\\Desktop\\\\trial\\\\regression_gbm_best_submission.csv', index=False)"
   ]
  },
  {
   "cell_type": "markdown",
   "metadata": {},
   "source": [
    "### Linear Regression"
   ]
  },
  {
   "cell_type": "code",
   "execution_count": 77,
   "metadata": {},
   "outputs": [
    {
     "name": "stderr",
     "output_type": "stream",
     "text": [
      "C:\\Users\\HP\\Anaconda3\\lib\\site-packages\\sklearn\\linear_model\\coordinate_descent.py:491: ConvergenceWarning: Objective did not converge. You might want to increase the number of iterations. Fitting data with very small alpha may cause precision problems.\n",
      "  ConvergenceWarning)\n"
     ]
    },
    {
     "data": {
      "text/plain": [
       "27.418520794265227"
      ]
     },
     "execution_count": 77,
     "metadata": {},
     "output_type": "execute_result"
    }
   ],
   "source": [
    "from sklearn import linear_model\n",
    "reg_lasso = linear_model.Lasso(alpha=0.1)\n",
    "\n",
    "reg_lasso.fit(trainX_fold, y_train)\n",
    "Y_cap  = reg_lasso.predict(valX_fold)\n",
    "\n",
    "mean_absolute_percentage_error(y_val, Y_cap)"
   ]
  },
  {
   "cell_type": "code",
   "execution_count": 79,
   "metadata": {
    "scrolled": true
   },
   "outputs": [
    {
     "data": {
      "text/html": [
       "<div>\n",
       "<style>\n",
       "    .dataframe thead tr:only-child th {\n",
       "        text-align: right;\n",
       "    }\n",
       "\n",
       "    .dataframe thead th {\n",
       "        text-align: left;\n",
       "    }\n",
       "\n",
       "    .dataframe tbody tr th {\n",
       "        vertical-align: top;\n",
       "    }\n",
       "</style>\n",
       "<table border=\"1\" class=\"dataframe\">\n",
       "  <thead>\n",
       "    <tr style=\"text-align: right;\">\n",
       "      <th></th>\n",
       "      <th>Sales(In ThousandDollars)</th>\n",
       "    </tr>\n",
       "  </thead>\n",
       "  <tbody>\n",
       "    <tr>\n",
       "      <th>0</th>\n",
       "      <td>-3.047104e+06</td>\n",
       "    </tr>\n",
       "    <tr>\n",
       "      <th>1</th>\n",
       "      <td>-3.055305e+06</td>\n",
       "    </tr>\n",
       "    <tr>\n",
       "      <th>2</th>\n",
       "      <td>-3.092860e+06</td>\n",
       "    </tr>\n",
       "    <tr>\n",
       "      <th>3</th>\n",
       "      <td>-3.096222e+06</td>\n",
       "    </tr>\n",
       "    <tr>\n",
       "      <th>4</th>\n",
       "      <td>-3.017411e+06</td>\n",
       "    </tr>\n",
       "    <tr>\n",
       "      <th>5</th>\n",
       "      <td>-3.055895e+06</td>\n",
       "    </tr>\n",
       "    <tr>\n",
       "      <th>6</th>\n",
       "      <td>-3.052783e+06</td>\n",
       "    </tr>\n",
       "    <tr>\n",
       "      <th>7</th>\n",
       "      <td>-3.029324e+06</td>\n",
       "    </tr>\n",
       "    <tr>\n",
       "      <th>8</th>\n",
       "      <td>-3.045857e+06</td>\n",
       "    </tr>\n",
       "    <tr>\n",
       "      <th>9</th>\n",
       "      <td>-3.046832e+06</td>\n",
       "    </tr>\n",
       "    <tr>\n",
       "      <th>10</th>\n",
       "      <td>-3.069084e+06</td>\n",
       "    </tr>\n",
       "    <tr>\n",
       "      <th>11</th>\n",
       "      <td>-3.078958e+06</td>\n",
       "    </tr>\n",
       "  </tbody>\n",
       "</table>\n",
       "</div>"
      ],
      "text/plain": [
       "    Sales(In ThousandDollars)\n",
       "0               -3.047104e+06\n",
       "1               -3.055305e+06\n",
       "2               -3.092860e+06\n",
       "3               -3.096222e+06\n",
       "4               -3.017411e+06\n",
       "5               -3.055895e+06\n",
       "6               -3.052783e+06\n",
       "7               -3.029324e+06\n",
       "8               -3.045857e+06\n",
       "9               -3.046832e+06\n",
       "10              -3.069084e+06\n",
       "11              -3.078958e+06"
      ]
     },
     "execution_count": 79,
     "metadata": {},
     "output_type": "execute_result"
    }
   ],
   "source": [
    "test_preds_reg = pd.DataFrame({'Sales(In ThousandDollars)':reg_lasso.predict(test_data)})\n",
    "test_preds_reg"
   ]
  },
  {
   "cell_type": "code",
   "execution_count": null,
   "metadata": {
    "collapsed": true
   },
   "outputs": [],
   "source": []
  },
  {
   "cell_type": "markdown",
   "metadata": {},
   "source": [
    "### Linear Regression With Imp Features"
   ]
  },
  {
   "cell_type": "code",
   "execution_count": 78,
   "metadata": {},
   "outputs": [
    {
     "name": "stderr",
     "output_type": "stream",
     "text": [
      "C:\\Users\\HP\\Anaconda3\\lib\\site-packages\\sklearn\\linear_model\\coordinate_descent.py:491: ConvergenceWarning: Objective did not converge. You might want to increase the number of iterations. Fitting data with very small alpha may cause precision problems.\n",
      "  ConvergenceWarning)\n"
     ]
    },
    {
     "data": {
      "text/plain": [
       "8.742099214811859"
      ]
     },
     "execution_count": 78,
     "metadata": {},
     "output_type": "execute_result"
    }
   ],
   "source": [
    "reg_lasso_imp = linear_model.Lasso(alpha=0.1)\n",
    "\n",
    "reg_lasso_imp.fit(imp_columns_train, y_train)\n",
    "Y_cap1  = reg_lasso_imp.predict(imp_columns_val)\n",
    "\n",
    "mean_absolute_percentage_error(y_val, Y_cap1)"
   ]
  },
  {
   "cell_type": "code",
   "execution_count": 80,
   "metadata": {
    "scrolled": true
   },
   "outputs": [
    {
     "data": {
      "text/html": [
       "<div>\n",
       "<style>\n",
       "    .dataframe thead tr:only-child th {\n",
       "        text-align: right;\n",
       "    }\n",
       "\n",
       "    .dataframe thead th {\n",
       "        text-align: left;\n",
       "    }\n",
       "\n",
       "    .dataframe tbody tr th {\n",
       "        vertical-align: top;\n",
       "    }\n",
       "</style>\n",
       "<table border=\"1\" class=\"dataframe\">\n",
       "  <thead>\n",
       "    <tr style=\"text-align: right;\">\n",
       "      <th></th>\n",
       "      <th>Sales(In ThousandDollars)</th>\n",
       "    </tr>\n",
       "  </thead>\n",
       "  <tbody>\n",
       "    <tr>\n",
       "      <th>0</th>\n",
       "      <td>3072.734828</td>\n",
       "    </tr>\n",
       "    <tr>\n",
       "      <th>1</th>\n",
       "      <td>3979.464977</td>\n",
       "    </tr>\n",
       "    <tr>\n",
       "      <th>2</th>\n",
       "      <td>4455.937039</td>\n",
       "    </tr>\n",
       "    <tr>\n",
       "      <th>3</th>\n",
       "      <td>4951.399108</td>\n",
       "    </tr>\n",
       "    <tr>\n",
       "      <th>4</th>\n",
       "      <td>3432.931099</td>\n",
       "    </tr>\n",
       "    <tr>\n",
       "      <th>5</th>\n",
       "      <td>3654.406763</td>\n",
       "    </tr>\n",
       "    <tr>\n",
       "      <th>6</th>\n",
       "      <td>3842.321470</td>\n",
       "    </tr>\n",
       "    <tr>\n",
       "      <th>7</th>\n",
       "      <td>3701.440007</td>\n",
       "    </tr>\n",
       "    <tr>\n",
       "      <th>8</th>\n",
       "      <td>3869.377631</td>\n",
       "    </tr>\n",
       "    <tr>\n",
       "      <th>9</th>\n",
       "      <td>3320.625224</td>\n",
       "    </tr>\n",
       "    <tr>\n",
       "      <th>10</th>\n",
       "      <td>3635.608240</td>\n",
       "    </tr>\n",
       "    <tr>\n",
       "      <th>11</th>\n",
       "      <td>3708.034725</td>\n",
       "    </tr>\n",
       "  </tbody>\n",
       "</table>\n",
       "</div>"
      ],
      "text/plain": [
       "    Sales(In ThousandDollars)\n",
       "0                 3072.734828\n",
       "1                 3979.464977\n",
       "2                 4455.937039\n",
       "3                 4951.399108\n",
       "4                 3432.931099\n",
       "5                 3654.406763\n",
       "6                 3842.321470\n",
       "7                 3701.440007\n",
       "8                 3869.377631\n",
       "9                 3320.625224\n",
       "10                3635.608240\n",
       "11                3708.034725"
      ]
     },
     "execution_count": 80,
     "metadata": {},
     "output_type": "execute_result"
    }
   ],
   "source": [
    "test_preds_reg_imp = pd.DataFrame({'Sales(In ThousandDollars)':reg_lasso_imp.predict(imp_columns_test)})\n",
    "test_preds_reg_imp"
   ]
  },
  {
   "cell_type": "code",
   "execution_count": 84,
   "metadata": {},
   "outputs": [
    {
     "name": "stderr",
     "output_type": "stream",
     "text": [
      "C:\\Users\\HP\\Anaconda3\\lib\\site-packages\\sklearn\\linear_model\\coordinate_descent.py:491: ConvergenceWarning: Objective did not converge. You might want to increase the number of iterations. Fitting data with very small alpha may cause precision problems.\n",
      "  ConvergenceWarning)\n",
      "C:\\Users\\HP\\Anaconda3\\lib\\site-packages\\sklearn\\linear_model\\coordinate_descent.py:491: ConvergenceWarning: Objective did not converge. You might want to increase the number of iterations. Fitting data with very small alpha may cause precision problems.\n",
      "  ConvergenceWarning)\n",
      "C:\\Users\\HP\\Anaconda3\\lib\\site-packages\\sklearn\\linear_model\\coordinate_descent.py:491: ConvergenceWarning: Objective did not converge. You might want to increase the number of iterations. Fitting data with very small alpha may cause precision problems.\n",
      "  ConvergenceWarning)\n",
      "C:\\Users\\HP\\Anaconda3\\lib\\site-packages\\sklearn\\linear_model\\coordinate_descent.py:491: ConvergenceWarning: Objective did not converge. You might want to increase the number of iterations. Fitting data with very small alpha may cause precision problems.\n",
      "  ConvergenceWarning)\n",
      "C:\\Users\\HP\\Anaconda3\\lib\\site-packages\\sklearn\\linear_model\\coordinate_descent.py:491: ConvergenceWarning: Objective did not converge. You might want to increase the number of iterations. Fitting data with very small alpha may cause precision problems.\n",
      "  ConvergenceWarning)\n",
      "C:\\Users\\HP\\Anaconda3\\lib\\site-packages\\sklearn\\linear_model\\coordinate_descent.py:491: ConvergenceWarning: Objective did not converge. You might want to increase the number of iterations. Fitting data with very small alpha may cause precision problems.\n",
      "  ConvergenceWarning)\n",
      "C:\\Users\\HP\\Anaconda3\\lib\\site-packages\\sklearn\\linear_model\\coordinate_descent.py:491: ConvergenceWarning: Objective did not converge. You might want to increase the number of iterations. Fitting data with very small alpha may cause precision problems.\n",
      "  ConvergenceWarning)\n",
      "C:\\Users\\HP\\Anaconda3\\lib\\site-packages\\sklearn\\linear_model\\coordinate_descent.py:491: ConvergenceWarning: Objective did not converge. You might want to increase the number of iterations. Fitting data with very small alpha may cause precision problems.\n",
      "  ConvergenceWarning)\n",
      "C:\\Users\\HP\\Anaconda3\\lib\\site-packages\\sklearn\\linear_model\\coordinate_descent.py:491: ConvergenceWarning: Objective did not converge. You might want to increase the number of iterations. Fitting data with very small alpha may cause precision problems.\n",
      "  ConvergenceWarning)\n",
      "C:\\Users\\HP\\Anaconda3\\lib\\site-packages\\sklearn\\linear_model\\coordinate_descent.py:491: ConvergenceWarning: Objective did not converge. You might want to increase the number of iterations. Fitting data with very small alpha may cause precision problems.\n",
      "  ConvergenceWarning)\n",
      "C:\\Users\\HP\\Anaconda3\\lib\\site-packages\\sklearn\\linear_model\\coordinate_descent.py:491: ConvergenceWarning: Objective did not converge. You might want to increase the number of iterations. Fitting data with very small alpha may cause precision problems.\n",
      "  ConvergenceWarning)\n",
      "C:\\Users\\HP\\Anaconda3\\lib\\site-packages\\sklearn\\linear_model\\coordinate_descent.py:491: ConvergenceWarning: Objective did not converge. You might want to increase the number of iterations. Fitting data with very small alpha may cause precision problems.\n",
      "  ConvergenceWarning)\n",
      "C:\\Users\\HP\\Anaconda3\\lib\\site-packages\\sklearn\\linear_model\\coordinate_descent.py:491: ConvergenceWarning: Objective did not converge. You might want to increase the number of iterations. Fitting data with very small alpha may cause precision problems.\n",
      "  ConvergenceWarning)\n",
      "C:\\Users\\HP\\Anaconda3\\lib\\site-packages\\sklearn\\linear_model\\coordinate_descent.py:491: ConvergenceWarning: Objective did not converge. You might want to increase the number of iterations. Fitting data with very small alpha may cause precision problems.\n",
      "  ConvergenceWarning)\n",
      "C:\\Users\\HP\\Anaconda3\\lib\\site-packages\\sklearn\\linear_model\\coordinate_descent.py:491: ConvergenceWarning: Objective did not converge. You might want to increase the number of iterations. Fitting data with very small alpha may cause precision problems.\n",
      "  ConvergenceWarning)\n",
      "C:\\Users\\HP\\Anaconda3\\lib\\site-packages\\sklearn\\linear_model\\coordinate_descent.py:491: ConvergenceWarning: Objective did not converge. You might want to increase the number of iterations. Fitting data with very small alpha may cause precision problems.\n",
      "  ConvergenceWarning)\n",
      "C:\\Users\\HP\\Anaconda3\\lib\\site-packages\\sklearn\\linear_model\\coordinate_descent.py:491: ConvergenceWarning: Objective did not converge. You might want to increase the number of iterations. Fitting data with very small alpha may cause precision problems.\n",
      "  ConvergenceWarning)\n",
      "C:\\Users\\HP\\Anaconda3\\lib\\site-packages\\sklearn\\linear_model\\coordinate_descent.py:491: ConvergenceWarning: Objective did not converge. You might want to increase the number of iterations. Fitting data with very small alpha may cause precision problems.\n",
      "  ConvergenceWarning)\n",
      "C:\\Users\\HP\\Anaconda3\\lib\\site-packages\\sklearn\\linear_model\\coordinate_descent.py:491: ConvergenceWarning: Objective did not converge. You might want to increase the number of iterations. Fitting data with very small alpha may cause precision problems.\n",
      "  ConvergenceWarning)\n",
      "C:\\Users\\HP\\Anaconda3\\lib\\site-packages\\sklearn\\linear_model\\coordinate_descent.py:491: ConvergenceWarning: Objective did not converge. You might want to increase the number of iterations. Fitting data with very small alpha may cause precision problems.\n",
      "  ConvergenceWarning)\n",
      "C:\\Users\\HP\\Anaconda3\\lib\\site-packages\\sklearn\\linear_model\\coordinate_descent.py:491: ConvergenceWarning: Objective did not converge. You might want to increase the number of iterations. Fitting data with very small alpha may cause precision problems.\n",
      "  ConvergenceWarning)\n",
      "C:\\Users\\HP\\Anaconda3\\lib\\site-packages\\sklearn\\linear_model\\coordinate_descent.py:491: ConvergenceWarning: Objective did not converge. You might want to increase the number of iterations. Fitting data with very small alpha may cause precision problems.\n",
      "  ConvergenceWarning)\n",
      "C:\\Users\\HP\\Anaconda3\\lib\\site-packages\\sklearn\\linear_model\\coordinate_descent.py:491: ConvergenceWarning: Objective did not converge. You might want to increase the number of iterations. Fitting data with very small alpha may cause precision problems.\n",
      "  ConvergenceWarning)\n",
      "C:\\Users\\HP\\Anaconda3\\lib\\site-packages\\sklearn\\linear_model\\coordinate_descent.py:491: ConvergenceWarning: Objective did not converge. You might want to increase the number of iterations. Fitting data with very small alpha may cause precision problems.\n",
      "  ConvergenceWarning)\n",
      "C:\\Users\\HP\\Anaconda3\\lib\\site-packages\\sklearn\\linear_model\\coordinate_descent.py:491: ConvergenceWarning: Objective did not converge. You might want to increase the number of iterations. Fitting data with very small alpha may cause precision problems.\n",
      "  ConvergenceWarning)\n",
      "C:\\Users\\HP\\Anaconda3\\lib\\site-packages\\sklearn\\linear_model\\coordinate_descent.py:491: ConvergenceWarning: Objective did not converge. You might want to increase the number of iterations. Fitting data with very small alpha may cause precision problems.\n",
      "  ConvergenceWarning)\n",
      "C:\\Users\\HP\\Anaconda3\\lib\\site-packages\\sklearn\\linear_model\\coordinate_descent.py:491: ConvergenceWarning: Objective did not converge. You might want to increase the number of iterations. Fitting data with very small alpha may cause precision problems.\n",
      "  ConvergenceWarning)\n",
      "C:\\Users\\HP\\Anaconda3\\lib\\site-packages\\sklearn\\linear_model\\coordinate_descent.py:491: ConvergenceWarning: Objective did not converge. You might want to increase the number of iterations. Fitting data with very small alpha may cause precision problems.\n",
      "  ConvergenceWarning)\n",
      "C:\\Users\\HP\\Anaconda3\\lib\\site-packages\\sklearn\\linear_model\\coordinate_descent.py:491: ConvergenceWarning: Objective did not converge. You might want to increase the number of iterations. Fitting data with very small alpha may cause precision problems.\n",
      "  ConvergenceWarning)\n",
      "C:\\Users\\HP\\Anaconda3\\lib\\site-packages\\sklearn\\linear_model\\coordinate_descent.py:491: ConvergenceWarning: Objective did not converge. You might want to increase the number of iterations. Fitting data with very small alpha may cause precision problems.\n",
      "  ConvergenceWarning)\n",
      "C:\\Users\\HP\\Anaconda3\\lib\\site-packages\\sklearn\\linear_model\\coordinate_descent.py:491: ConvergenceWarning: Objective did not converge. You might want to increase the number of iterations. Fitting data with very small alpha may cause precision problems.\n",
      "  ConvergenceWarning)\n",
      "C:\\Users\\HP\\Anaconda3\\lib\\site-packages\\sklearn\\linear_model\\coordinate_descent.py:491: ConvergenceWarning: Objective did not converge. You might want to increase the number of iterations. Fitting data with very small alpha may cause precision problems.\n",
      "  ConvergenceWarning)\n",
      "C:\\Users\\HP\\Anaconda3\\lib\\site-packages\\sklearn\\linear_model\\coordinate_descent.py:491: ConvergenceWarning: Objective did not converge. You might want to increase the number of iterations. Fitting data with very small alpha may cause precision problems.\n",
      "  ConvergenceWarning)\n",
      "C:\\Users\\HP\\Anaconda3\\lib\\site-packages\\sklearn\\linear_model\\coordinate_descent.py:491: ConvergenceWarning: Objective did not converge. You might want to increase the number of iterations. Fitting data with very small alpha may cause precision problems.\n",
      "  ConvergenceWarning)\n",
      "C:\\Users\\HP\\Anaconda3\\lib\\site-packages\\sklearn\\model_selection\\_search.py:841: DeprecationWarning: The default of the `iid` parameter will change from True to False in version 0.22 and will be removed in 0.24. This will change numeric results when test-set sizes are unequal.\n",
      "  DeprecationWarning)\n"
     ]
    },
    {
     "data": {
      "text/plain": [
       "GridSearchCV(cv=5, error_score='raise-deprecating',\n",
       "       estimator=Lasso(alpha=[0.1], copy_X=True, fit_intercept=True, max_iter=1000,\n",
       "   normalize=False, positive=False, precompute=False, random_state=None,\n",
       "   selection='cyclic', tol=0.0001, warm_start=False),\n",
       "       fit_params=None, iid='warn', n_jobs=None,\n",
       "       param_grid={'fit_intercept': [True, False], 'normalize': [True, False], 'copy_X': [True, False]},\n",
       "       pre_dispatch='2*n_jobs', refit=True, return_train_score='warn',\n",
       "       scoring=None, verbose=0)"
      ]
     },
     "execution_count": 84,
     "metadata": {},
     "output_type": "execute_result"
    }
   ],
   "source": [
    "lr_model = linear_model.Lasso(alpha=[0.1])\n",
    "parameters = {'fit_intercept':[True,False], 'normalize':[True,False], 'copy_X':[True, False]}\n",
    "\n",
    "reg_grid = GridSearchCV(lr_model, parameters, cv=5)\n",
    "reg_grid.fit(imp_columns_train, y_train)\n"
   ]
  },
  {
   "cell_type": "code",
   "execution_count": 85,
   "metadata": {},
   "outputs": [
    {
     "data": {
      "text/plain": [
       "{'copy_X': True, 'fit_intercept': True, 'normalize': True}"
      ]
     },
     "execution_count": 85,
     "metadata": {},
     "output_type": "execute_result"
    }
   ],
   "source": [
    "reg_grid.best_params_"
   ]
  },
  {
   "cell_type": "code",
   "execution_count": 86,
   "metadata": {},
   "outputs": [
    {
     "data": {
      "text/plain": [
       "7.788364402027863"
      ]
     },
     "execution_count": 86,
     "metadata": {},
     "output_type": "execute_result"
    }
   ],
   "source": [
    "reg_lasso_best = linear_model.Lasso(alpha=0.1, copy_X=True, fit_intercept=True, normalize=True)\n",
    "\n",
    "reg_lasso_best.fit(imp_columns_train, y_train)\n",
    "Y_cap2  = reg_lasso_best.predict(imp_columns_val)\n",
    "\n",
    "mean_absolute_percentage_error(y_val, Y_cap2)"
   ]
  },
  {
   "cell_type": "code",
   "execution_count": 87,
   "metadata": {},
   "outputs": [
    {
     "data": {
      "text/html": [
       "<div>\n",
       "<style>\n",
       "    .dataframe thead tr:only-child th {\n",
       "        text-align: right;\n",
       "    }\n",
       "\n",
       "    .dataframe thead th {\n",
       "        text-align: left;\n",
       "    }\n",
       "\n",
       "    .dataframe tbody tr th {\n",
       "        vertical-align: top;\n",
       "    }\n",
       "</style>\n",
       "<table border=\"1\" class=\"dataframe\">\n",
       "  <thead>\n",
       "    <tr style=\"text-align: right;\">\n",
       "      <th></th>\n",
       "      <th>Sales(In ThousandDollars)</th>\n",
       "    </tr>\n",
       "  </thead>\n",
       "  <tbody>\n",
       "    <tr>\n",
       "      <th>0</th>\n",
       "      <td>3266.763097</td>\n",
       "    </tr>\n",
       "    <tr>\n",
       "      <th>1</th>\n",
       "      <td>4241.797641</td>\n",
       "    </tr>\n",
       "    <tr>\n",
       "      <th>2</th>\n",
       "      <td>4678.211664</td>\n",
       "    </tr>\n",
       "    <tr>\n",
       "      <th>3</th>\n",
       "      <td>5186.586762</td>\n",
       "    </tr>\n",
       "    <tr>\n",
       "      <th>4</th>\n",
       "      <td>3635.028531</td>\n",
       "    </tr>\n",
       "    <tr>\n",
       "      <th>5</th>\n",
       "      <td>3840.992263</td>\n",
       "    </tr>\n",
       "    <tr>\n",
       "      <th>6</th>\n",
       "      <td>4026.138522</td>\n",
       "    </tr>\n",
       "    <tr>\n",
       "      <th>7</th>\n",
       "      <td>3907.553925</td>\n",
       "    </tr>\n",
       "    <tr>\n",
       "      <th>8</th>\n",
       "      <td>4089.017243</td>\n",
       "    </tr>\n",
       "    <tr>\n",
       "      <th>9</th>\n",
       "      <td>3565.048256</td>\n",
       "    </tr>\n",
       "    <tr>\n",
       "      <th>10</th>\n",
       "      <td>3874.339140</td>\n",
       "    </tr>\n",
       "    <tr>\n",
       "      <th>11</th>\n",
       "      <td>3946.782230</td>\n",
       "    </tr>\n",
       "  </tbody>\n",
       "</table>\n",
       "</div>"
      ],
      "text/plain": [
       "    Sales(In ThousandDollars)\n",
       "0                 3266.763097\n",
       "1                 4241.797641\n",
       "2                 4678.211664\n",
       "3                 5186.586762\n",
       "4                 3635.028531\n",
       "5                 3840.992263\n",
       "6                 4026.138522\n",
       "7                 3907.553925\n",
       "8                 4089.017243\n",
       "9                 3565.048256\n",
       "10                3874.339140\n",
       "11                3946.782230"
      ]
     },
     "execution_count": 87,
     "metadata": {},
     "output_type": "execute_result"
    }
   ],
   "source": [
    "test_preds_reg_best = pd.DataFrame({'Sales(In ThousandDollars)':reg_lasso_best.predict(imp_columns_test)})\n",
    "test_preds_reg_best"
   ]
  },
  {
   "cell_type": "code",
   "execution_count": null,
   "metadata": {
    "collapsed": true
   },
   "outputs": [],
   "source": []
  },
  {
   "cell_type": "code",
   "execution_count": null,
   "metadata": {
    "collapsed": true
   },
   "outputs": [],
   "source": [
    "######################################################"
   ]
  },
  {
   "cell_type": "markdown",
   "metadata": {},
   "source": [
    "### RF Model"
   ]
  },
  {
   "cell_type": "code",
   "execution_count": 97,
   "metadata": {},
   "outputs": [
    {
     "data": {
      "text/html": [
       "<div>\n",
       "<style>\n",
       "    .dataframe thead tr:only-child th {\n",
       "        text-align: right;\n",
       "    }\n",
       "\n",
       "    .dataframe thead th {\n",
       "        text-align: left;\n",
       "    }\n",
       "\n",
       "    .dataframe tbody tr th {\n",
       "        vertical-align: top;\n",
       "    }\n",
       "</style>\n",
       "<table border=\"1\" class=\"dataframe\">\n",
       "  <thead>\n",
       "    <tr style=\"text-align: right;\">\n",
       "      <th></th>\n",
       "      <th>Year</th>\n",
       "      <th>Month</th>\n",
       "      <th>WomenClothing_Sales</th>\n",
       "      <th>YM</th>\n",
       "    </tr>\n",
       "  </thead>\n",
       "  <tbody>\n",
       "    <tr>\n",
       "      <th>0.0</th>\n",
       "      <td>2009</td>\n",
       "      <td>1</td>\n",
       "      <td>1755.0</td>\n",
       "      <td>2009-01-01</td>\n",
       "    </tr>\n",
       "    <tr>\n",
       "      <th>1.0</th>\n",
       "      <td>2009</td>\n",
       "      <td>2</td>\n",
       "      <td>1729.0</td>\n",
       "      <td>2009-02-01</td>\n",
       "    </tr>\n",
       "    <tr>\n",
       "      <th>2.0</th>\n",
       "      <td>2009</td>\n",
       "      <td>3</td>\n",
       "      <td>2256.0</td>\n",
       "      <td>2009-03-01</td>\n",
       "    </tr>\n",
       "    <tr>\n",
       "      <th>3.0</th>\n",
       "      <td>2009</td>\n",
       "      <td>4</td>\n",
       "      <td>2662.0</td>\n",
       "      <td>2009-04-01</td>\n",
       "    </tr>\n",
       "    <tr>\n",
       "      <th>4.0</th>\n",
       "      <td>2009</td>\n",
       "      <td>5</td>\n",
       "      <td>2732.0</td>\n",
       "      <td>2009-05-01</td>\n",
       "    </tr>\n",
       "  </tbody>\n",
       "</table>\n",
       "</div>"
      ],
      "text/plain": [
       "     Year  Month  WomenClothing_Sales         YM\n",
       "0.0  2009      1               1755.0 2009-01-01\n",
       "1.0  2009      2               1729.0 2009-02-01\n",
       "2.0  2009      3               2256.0 2009-03-01\n",
       "3.0  2009      4               2662.0 2009-04-01\n",
       "4.0  2009      5               2732.0 2009-05-01"
      ]
     },
     "execution_count": 97,
     "metadata": {},
     "output_type": "execute_result"
    }
   ],
   "source": [
    "sale = pd.read_excel('C:\\\\Users\\\\HP\\\\Desktop\\\\sales.xlsx', sheetname='rf_model', parse_dates=['YM'])\n",
    "sale.head()"
   ]
  },
  {
   "cell_type": "code",
   "execution_count": 99,
   "metadata": {},
   "outputs": [
    {
     "data": {
      "image/png": "[encoded data removed]",
      "text/plain": [
       "<Figure size 432x288 with 1 Axes>"
      ]
     },
     "metadata": {},
     "output_type": "display_data"
    }
   ],
   "source": [
    "sns.lineplot(y = 'WomenClothing_Sales', x='YM', data=sale)\n",
    "plt.show()"
   ]
  },
  {
   "cell_type": "markdown",
   "metadata": {},
   "source": [
    "### GBM"
   ]
  },
  {
   "cell_type": "code",
   "execution_count": 100,
   "metadata": {},
   "outputs": [
    {
     "data": {
      "text/html": [
       "<div>\n",
       "<style>\n",
       "    .dataframe thead tr:only-child th {\n",
       "        text-align: right;\n",
       "    }\n",
       "\n",
       "    .dataframe thead th {\n",
       "        text-align: left;\n",
       "    }\n",
       "\n",
       "    .dataframe tbody tr th {\n",
       "        vertical-align: top;\n",
       "    }\n",
       "</style>\n",
       "<table border=\"1\" class=\"dataframe\">\n",
       "  <thead>\n",
       "    <tr style=\"text-align: right;\">\n",
       "      <th></th>\n",
       "      <th>Year</th>\n",
       "      <th>Month</th>\n",
       "      <th>WomenClothing_Sales</th>\n",
       "      <th>YM</th>\n",
       "    </tr>\n",
       "  </thead>\n",
       "  <tbody>\n",
       "    <tr>\n",
       "      <th>0.0</th>\n",
       "      <td>2009</td>\n",
       "      <td>1</td>\n",
       "      <td>1755.0</td>\n",
       "      <td>2009-01-01</td>\n",
       "    </tr>\n",
       "    <tr>\n",
       "      <th>1.0</th>\n",
       "      <td>2009</td>\n",
       "      <td>2</td>\n",
       "      <td>1729.0</td>\n",
       "      <td>2009-02-01</td>\n",
       "    </tr>\n",
       "    <tr>\n",
       "      <th>2.0</th>\n",
       "      <td>2009</td>\n",
       "      <td>3</td>\n",
       "      <td>2256.0</td>\n",
       "      <td>2009-03-01</td>\n",
       "    </tr>\n",
       "    <tr>\n",
       "      <th>3.0</th>\n",
       "      <td>2009</td>\n",
       "      <td>4</td>\n",
       "      <td>2662.0</td>\n",
       "      <td>2009-04-01</td>\n",
       "    </tr>\n",
       "    <tr>\n",
       "      <th>4.0</th>\n",
       "      <td>2009</td>\n",
       "      <td>5</td>\n",
       "      <td>2732.0</td>\n",
       "      <td>2009-05-01</td>\n",
       "    </tr>\n",
       "  </tbody>\n",
       "</table>\n",
       "</div>"
      ],
      "text/plain": [
       "     Year  Month  WomenClothing_Sales         YM\n",
       "0.0  2009      1               1755.0 2009-01-01\n",
       "1.0  2009      2               1729.0 2009-02-01\n",
       "2.0  2009      3               2256.0 2009-03-01\n",
       "3.0  2009      4               2662.0 2009-04-01\n",
       "4.0  2009      5               2732.0 2009-05-01"
      ]
     },
     "execution_count": 100,
     "metadata": {},
     "output_type": "execute_result"
    }
   ],
   "source": [
    "sale = pd.read_excel('C:\\\\Users\\\\HP\\\\Desktop\\\\sales.xlsx', sheetname='gbm', parse_dates=['YM'])\n",
    "sale.head()"
   ]
  },
  {
   "cell_type": "code",
   "execution_count": 101,
   "metadata": {},
   "outputs": [
    {
     "data": {
      "image/png": "[encoded data removed]",
      "text/plain": [
       "<Figure size 432x288 with 1 Axes>"
      ]
     },
     "metadata": {},
     "output_type": "display_data"
    }
   ],
   "source": [
    "sns.lineplot(y = 'WomenClothing_Sales', x='YM', data=sale)\n",
    "plt.show()"
   ]
  },
  {
   "cell_type": "markdown",
   "metadata": {
    "collapsed": true
   },
   "source": [
    "### GBM Tuned"
   ]
  },
  {
   "cell_type": "code",
   "execution_count": 102,
   "metadata": {},
   "outputs": [
    {
     "data": {
      "text/html": [
       "<div>\n",
       "<style>\n",
       "    .dataframe thead tr:only-child th {\n",
       "        text-align: right;\n",
       "    }\n",
       "\n",
       "    .dataframe thead th {\n",
       "        text-align: left;\n",
       "    }\n",
       "\n",
       "    .dataframe tbody tr th {\n",
       "        vertical-align: top;\n",
       "    }\n",
       "</style>\n",
       "<table border=\"1\" class=\"dataframe\">\n",
       "  <thead>\n",
       "    <tr style=\"text-align: right;\">\n",
       "      <th></th>\n",
       "      <th>Year</th>\n",
       "      <th>Month</th>\n",
       "      <th>WomenClothing_Sales</th>\n",
       "      <th>YM</th>\n",
       "    </tr>\n",
       "  </thead>\n",
       "  <tbody>\n",
       "    <tr>\n",
       "      <th>0.0</th>\n",
       "      <td>2009</td>\n",
       "      <td>1</td>\n",
       "      <td>1755.0</td>\n",
       "      <td>2009-01-01</td>\n",
       "    </tr>\n",
       "    <tr>\n",
       "      <th>1.0</th>\n",
       "      <td>2009</td>\n",
       "      <td>2</td>\n",
       "      <td>1729.0</td>\n",
       "      <td>2009-02-01</td>\n",
       "    </tr>\n",
       "    <tr>\n",
       "      <th>2.0</th>\n",
       "      <td>2009</td>\n",
       "      <td>3</td>\n",
       "      <td>2256.0</td>\n",
       "      <td>2009-03-01</td>\n",
       "    </tr>\n",
       "    <tr>\n",
       "      <th>3.0</th>\n",
       "      <td>2009</td>\n",
       "      <td>4</td>\n",
       "      <td>2662.0</td>\n",
       "      <td>2009-04-01</td>\n",
       "    </tr>\n",
       "    <tr>\n",
       "      <th>4.0</th>\n",
       "      <td>2009</td>\n",
       "      <td>5</td>\n",
       "      <td>2732.0</td>\n",
       "      <td>2009-05-01</td>\n",
       "    </tr>\n",
       "  </tbody>\n",
       "</table>\n",
       "</div>"
      ],
      "text/plain": [
       "     Year  Month  WomenClothing_Sales         YM\n",
       "0.0  2009      1               1755.0 2009-01-01\n",
       "1.0  2009      2               1729.0 2009-02-01\n",
       "2.0  2009      3               2256.0 2009-03-01\n",
       "3.0  2009      4               2662.0 2009-04-01\n",
       "4.0  2009      5               2732.0 2009-05-01"
      ]
     },
     "execution_count": 102,
     "metadata": {},
     "output_type": "execute_result"
    }
   ],
   "source": [
    "sale = pd.read_excel('C:\\\\Users\\\\HP\\\\Desktop\\\\sales.xlsx', sheetname='gbm tune', parse_dates=['YM'])\n",
    "sale.head()"
   ]
  },
  {
   "cell_type": "code",
   "execution_count": 103,
   "metadata": {},
   "outputs": [
    {
     "data": {
      "image/png": "[encoded data removed]",
      "text/plain": [
       "<Figure size 432x288 with 1 Axes>"
      ]
     },
     "metadata": {},
     "output_type": "display_data"
    }
   ],
   "source": [
    "sns.lineplot(y = 'WomenClothing_Sales', x='YM', data=sale)\n",
    "plt.show()"
   ]
  },
  {
   "cell_type": "code",
   "execution_count": null,
   "metadata": {
    "collapsed": true
   },
   "outputs": [],
   "source": []
  },
  {
   "cell_type": "code",
   "execution_count": null,
   "metadata": {
    "collapsed": true
   },
   "outputs": [],
   "source": []
  },
  {
   "cell_type": "code",
   "execution_count": null,
   "metadata": {
    "collapsed": true
   },
   "outputs": [],
   "source": []
  }
 ],
 "metadata": {
  "kernelspec": {
   "display_name": "Python 3",
   "language": "python",
   "name": "python3"
  },
  "language_info": {
   "codemirror_mode": {
    "name": "ipython",
    "version": 3
   },
   "file_extension": ".py",
   "mimetype": "text/x-python",
   "name": "python",
   "nbconvert_exporter": "python",
   "pygments_lexer": "ipython3",
   "version": "3.6.2"
  }
 },
 "nbformat": 4,
 "nbformat_minor": 2
}
