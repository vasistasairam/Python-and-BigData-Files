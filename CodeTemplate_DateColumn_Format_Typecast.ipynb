{
 "cells": [
  {
   "cell_type": "code",
   "execution_count": 1,
   "metadata": {
    "collapsed": true
   },
   "outputs": [],
   "source": [
    "# Author : Vasista\n",
    "# Date   : 09/11/2018\n",
    "# Topic  : Date Formating"
   ]
  },
  {
   "cell_type": "code",
   "execution_count": 20,
   "metadata": {
    "collapsed": true
   },
   "outputs": [],
   "source": [
    "# Package Imports\n",
    "import pandas as pd\n",
    "import dateutil\n",
    "from datetime import date        # Deals with Date(Month, day, year)\n",
    "from datetime import time        # (Hour, minute, second, microsecond)\n",
    "from datetime import datetime    # (Month, day, year, hour, second, microsecond)"
   ]
  },
  {
   "cell_type": "code",
   "execution_count": 3,
   "metadata": {
    "collapsed": true
   },
   "outputs": [],
   "source": [
    "# Read Dataset"
   ]
  },
  {
   "cell_type": "code",
   "execution_count": 17,
   "metadata": {},
   "outputs": [
    {
     "data": {
      "text/html": [
       "<div>\n",
       "<style>\n",
       "    .dataframe thead tr:only-child th {\n",
       "        text-align: right;\n",
       "    }\n",
       "\n",
       "    .dataframe thead th {\n",
       "        text-align: left;\n",
       "    }\n",
       "\n",
       "    .dataframe tbody tr th {\n",
       "        vertical-align: top;\n",
       "    }\n",
       "</style>\n",
       "<table border=\"1\" class=\"dataframe\">\n",
       "  <thead>\n",
       "    <tr style=\"text-align: right;\">\n",
       "      <th></th>\n",
       "      <th>Age</th>\n",
       "      <th>Date</th>\n",
       "    </tr>\n",
       "  </thead>\n",
       "  <tbody>\n",
       "    <tr>\n",
       "      <th>0</th>\n",
       "      <td>12</td>\n",
       "      <td>17/09/2018</td>\n",
       "    </tr>\n",
       "    <tr>\n",
       "      <th>1</th>\n",
       "      <td>34</td>\n",
       "      <td>20/09/2018</td>\n",
       "    </tr>\n",
       "    <tr>\n",
       "      <th>2</th>\n",
       "      <td>22</td>\n",
       "      <td>12/11/17</td>\n",
       "    </tr>\n",
       "    <tr>\n",
       "      <th>3</th>\n",
       "      <td>56</td>\n",
       "      <td>Oct 2018</td>\n",
       "    </tr>\n",
       "    <tr>\n",
       "      <th>4</th>\n",
       "      <td>54</td>\n",
       "      <td>Feb 2010</td>\n",
       "    </tr>\n",
       "    <tr>\n",
       "      <th>5</th>\n",
       "      <td>30</td>\n",
       "      <td>Mar 2103</td>\n",
       "    </tr>\n",
       "    <tr>\n",
       "      <th>6</th>\n",
       "      <td>89</td>\n",
       "      <td>22/09/1994</td>\n",
       "    </tr>\n",
       "    <tr>\n",
       "      <th>7</th>\n",
       "      <td>67</td>\n",
       "      <td>06/05/18</td>\n",
       "    </tr>\n",
       "  </tbody>\n",
       "</table>\n",
       "</div>"
      ],
      "text/plain": [
       "   Age        Date\n",
       "0   12  17/09/2018\n",
       "1   34  20/09/2018\n",
       "2   22    12/11/17\n",
       "3   56    Oct 2018\n",
       "4   54    Feb 2010\n",
       "5   30    Mar 2103\n",
       "6   89  22/09/1994\n",
       "7   67    06/05/18"
      ]
     },
     "execution_count": 17,
     "metadata": {},
     "output_type": "execute_result"
    }
   ],
   "source": [
    "data = pd.read_csv('C:\\\\Code Templates Python\\\\dummy_data.csv', sep=';')\n",
    "data.head(8)"
   ]
  },
  {
   "cell_type": "code",
   "execution_count": 13,
   "metadata": {},
   "outputs": [
    {
     "name": "stdout",
     "output_type": "stream",
     "text": [
      "<class 'pandas.core.frame.DataFrame'>\n",
      "RangeIndex: 19 entries, 0 to 18\n",
      "Data columns (total 2 columns):\n",
      "Age     19 non-null int64\n",
      "Date    19 non-null object\n",
      "dtypes: int64(1), object(1)\n",
      "memory usage: 384.0+ bytes\n"
     ]
    },
    {
     "data": {
      "text/plain": [
       "'0       17/09/2018\\n1       20/09/2018\\n2         12/11/17\\n3         Oct 2018\\n4         Feb 2010\\n5         Mar 2103\\n6       22/09/1994\\n7         06/05/18\\n8     9th aug 2108\\n9        Sept 2105\\n10        01/19/18\\n11        22nd aug\\n12        Sep 2018\\n13       11th july\\n14      25/09/2018\\n15        nov 20th\\n16        30th apr\\n17        Dec 2016\\n18        dec 21st\\nName: Date, dtype: object'"
      ]
     },
     "execution_count": 13,
     "metadata": {},
     "output_type": "execute_result"
    }
   ],
   "source": [
    "# Finding DataType Of Date Column\n",
    "\n",
    "data.info()                # taken as object type for Date column\n",
    "str(data['Date'])"
   ]
  },
  {
   "cell_type": "code",
   "execution_count": 23,
   "metadata": {},
   "outputs": [
    {
     "data": {
      "text/plain": [
       "0    2018-09-17\n",
       "1    2018-09-20\n",
       "2    2017-11-12\n",
       "3    2018-10-09\n",
       "4    2010-02-09\n",
       "5    2103-03-09\n",
       "6    1994-09-22\n",
       "7    2018-05-06\n",
       "8    2108-08-09\n",
       "9    2105-09-09\n",
       "10   2018-01-19\n",
       "11   2018-08-22\n",
       "12   2018-09-09\n",
       "13   2018-07-11\n",
       "14   2018-09-25\n",
       "15   2018-11-20\n",
       "16   2018-04-30\n",
       "17   2016-12-09\n",
       "18   2018-12-21\n",
       "Name: Date, dtype: datetime64[ns]"
      ]
     },
     "execution_count": 23,
     "metadata": {},
     "output_type": "execute_result"
    }
   ],
   "source": [
    "# Parsing Date Column Into DateTime Object\n",
    "data['Date'].apply(dateutil.parser.parse, dayfirst=True)  # Taking Present day for those records which dont have day."
   ]
  },
  {
   "cell_type": "code",
   "execution_count": null,
   "metadata": {
    "collapsed": true
   },
   "outputs": [],
   "source": [
    "### Convert Date Column Into Datetime Object   [transsactions is a column name.]\n",
    "transactions['purchase_date'] = pd.to_datetime(transactions['purchase_date'])"
   ]
  },
  {
   "cell_type": "code",
   "execution_count": null,
   "metadata": {
    "collapsed": true
   },
   "outputs": [],
   "source": [
    "### get month, year from datetime column\n",
    "transactions['purchase_month'] = transactions['purchase_date'].dt.month\n",
    "transactions['year'] = transactions['purchase_date'].dt.year\n",
    "transactions['week_of_year'] = transactions['purchase_date'].dt.week\n"
   ]
  },
  {
   "cell_type": "code",
   "execution_count": null,
   "metadata": {
    "collapsed": true
   },
   "outputs": [],
   "source": []
  },
  {
   "cell_type": "code",
   "execution_count": null,
   "metadata": {
    "collapsed": true
   },
   "outputs": [],
   "source": []
  },
  {
   "cell_type": "code",
   "execution_count": null,
   "metadata": {
    "collapsed": true
   },
   "outputs": [],
   "source": []
  },
  {
   "cell_type": "code",
   "execution_count": null,
   "metadata": {
    "collapsed": true
   },
   "outputs": [],
   "source": []
  }
 ],
 "metadata": {
  "kernelspec": {
   "display_name": "Python 3",
   "language": "python",
   "name": "python3"
  },
  "language_info": {
   "codemirror_mode": {
    "name": "ipython",
    "version": 3
   },
   "file_extension": ".py",
   "mimetype": "text/x-python",
   "name": "python",
   "nbconvert_exporter": "python",
   "pygments_lexer": "ipython3",
   "version": "3.6.2"
  }
 },
 "nbformat": 4,
 "nbformat_minor": 2
}
