{
 "cells": [
  {
   "cell_type": "code",
   "execution_count": null,
   "metadata": {
    "collapsed": true
   },
   "outputs": [],
   "source": [
    "# Bias Variance "
   ]
  },
  {
   "cell_type": "code",
   "execution_count": null,
   "metadata": {
    "collapsed": true
   },
   "outputs": [],
   "source": [
    "Low Bias  : Suggests less assumptions about the form of the target function.\n",
    "High-Bias : Suggests more assumptions about the form of the target function.\n",
    "    \n",
    "Examples of low-bias  : machine learning algorithms include: Decision Trees, k-Nearest Neighbors and Support Vector Machines.\n",
    "Examples of high-bias : machine learning algorithms include: Linear Regression, Linear Discriminant Analysis \n",
    "and Logistic Regression."
   ]
  },
  {
   "cell_type": "code",
   "execution_count": null,
   "metadata": {
    "collapsed": true
   },
   "outputs": [],
   "source": [
    "Low Variance  : Suggests small changes to the estimate of the target function with changes to the training dataset.\n",
    "High Variance : Suggests large changes to the estimate of the target function with changes to the training dataset.\n",
    "\n",
    "Examples of low-variance   : machine learning algorithms include: Linear Regression, Linear Discriminant Analysis and \n",
    "                             Logistic Regression.\n",
    "Examples of high-variance  : machine learning algorithms include: Decision Trees, k-Nearest Neighbors and Support Vector Machines."
   ]
  },
  {
   "cell_type": "code",
   "execution_count": null,
   "metadata": {
    "collapsed": true
   },
   "outputs": [],
   "source": []
  },
  {
   "cell_type": "code",
   "execution_count": null,
   "metadata": {
    "collapsed": true
   },
   "outputs": [],
   "source": []
  },
  {
   "cell_type": "code",
   "execution_count": null,
   "metadata": {
    "collapsed": true
   },
   "outputs": [],
   "source": []
  }
 ],
 "metadata": {
  "kernelspec": {
   "display_name": "Python 3",
   "language": "python",
   "name": "python3"
  },
  "language_info": {
   "codemirror_mode": {
    "name": "ipython",
    "version": 3
   },
   "file_extension": ".py",
   "mimetype": "text/x-python",
   "name": "python",
   "nbconvert_exporter": "python",
   "pygments_lexer": "ipython3",
   "version": "3.6.2"
  }
 },
 "nbformat": 4,
 "nbformat_minor": 2
}
