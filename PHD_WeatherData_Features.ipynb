{
 "cells": [
  {
   "cell_type": "markdown",
   "metadata": {},
   "source": [
    "<h1 id=\"tocheading\">Table of Contents</h1>\n",
    "<div id=\"toc\"></div>"
   ]
  },
  {
   "cell_type": "code",
   "execution_count": 1,
   "metadata": {},
   "outputs": [
    {
     "data": {
      "application/javascript": [
       "$.getScript('https://kmahelona.github.io/ipython_notebook_goodies/ipython_notebook_toc.js')"
      ],
      "text/plain": [
       "<IPython.core.display.Javascript object>"
      ]
     },
     "metadata": {},
     "output_type": "display_data"
    }
   ],
   "source": [
    "%%javascript\n",
    "$.getScript('https://kmahelona.github.io/ipython_notebook_goodies/ipython_notebook_toc.js')"
   ]
  },
  {
   "cell_type": "markdown",
   "metadata": {},
   "source": [
    "# Weather Data"
   ]
  },
  {
   "cell_type": "markdown",
   "metadata": {},
   "source": [
    "## Imports And Data Loading"
   ]
  },
  {
   "cell_type": "code",
   "execution_count": 1,
   "metadata": {
    "collapsed": true
   },
   "outputs": [],
   "source": [
    "import pandas as pd\n",
    "import numpy as np"
   ]
  },
  {
   "cell_type": "code",
   "execution_count": 2,
   "metadata": {
    "collapsed": true,
    "scrolled": true
   },
   "outputs": [],
   "source": [
    "weather = pd.ExcelFile('C:\\\\Users\\\\HP\\Desktop\\\\PHD Hackathon\\\\Data Science\\\\PhD_Train_Data\\\\WeatherDataNew.xlsx')\n",
    "weather9 = pd.read_excel(weather, sheetname='2009')\n",
    "weather10 = pd.read_excel(weather, sheetname='2010', na_values=[' ', '-'])\n",
    "weather11 = pd.read_excel(weather, sheetname='2011', na_values=[' ', '-'])\n",
    "weather12 = pd.read_excel(weather, sheetname='2012', na_values=[' ', '-'])\n",
    "weather13 = pd.read_excel(weather, sheetname='2013', na_values=[' ', '-'])\n",
    "weather14 = pd.read_excel(weather, sheetname='2014', na_values=[' ', '-'])\n",
    "weather15 = pd.read_excel(weather, sheetname='2015', na_values=[' ', '-'])"
   ]
  },
  {
   "cell_type": "code",
   "execution_count": 3,
   "metadata": {},
   "outputs": [
    {
     "data": {
      "text/html": [
       "<div>\n",
       "<style>\n",
       "    .dataframe thead tr:only-child th {\n",
       "        text-align: right;\n",
       "    }\n",
       "\n",
       "    .dataframe thead th {\n",
       "        text-align: left;\n",
       "    }\n",
       "\n",
       "    .dataframe tbody tr th {\n",
       "        vertical-align: top;\n",
       "    }\n",
       "</style>\n",
       "<table border=\"1\" class=\"dataframe\">\n",
       "  <thead>\n",
       "    <tr style=\"text-align: right;\">\n",
       "      <th></th>\n",
       "      <th>Year</th>\n",
       "      <th>Month</th>\n",
       "      <th>Day</th>\n",
       "      <th>Temp high (°C)</th>\n",
       "      <th>Temp avg (°C)</th>\n",
       "      <th>Temp low (°C)</th>\n",
       "      <th>Dew Point high (°C)</th>\n",
       "      <th>Dew Point avg (°C)</th>\n",
       "      <th>Dew Point low (°C)</th>\n",
       "      <th>Humidity (%) high</th>\n",
       "      <th>...</th>\n",
       "      <th>Sea Level Press. (hPa) avg</th>\n",
       "      <th>Sea Level Press. (hPa) low</th>\n",
       "      <th>Visibility (km) high</th>\n",
       "      <th>Visibility (km) avg</th>\n",
       "      <th>Visibility (km) low</th>\n",
       "      <th>Wind (km/h) low</th>\n",
       "      <th>Wind (km/h) avg</th>\n",
       "      <th>Wind (km/h) high</th>\n",
       "      <th>Precip. (mm) sum</th>\n",
       "      <th>WeatherEvent</th>\n",
       "    </tr>\n",
       "  </thead>\n",
       "  <tbody>\n",
       "    <tr>\n",
       "      <th>0</th>\n",
       "      <td>2009</td>\n",
       "      <td>Jan</td>\n",
       "      <td>1</td>\n",
       "      <td>-3.0</td>\n",
       "      <td>-6.0</td>\n",
       "      <td>-9.0</td>\n",
       "      <td>-16.0</td>\n",
       "      <td>-17.0</td>\n",
       "      <td>-19.0</td>\n",
       "      <td>54.0</td>\n",
       "      <td>...</td>\n",
       "      <td>1023.0</td>\n",
       "      <td>1015.0</td>\n",
       "      <td>16.0</td>\n",
       "      <td>16.0</td>\n",
       "      <td>16.0</td>\n",
       "      <td>37</td>\n",
       "      <td>18</td>\n",
       "      <td>60</td>\n",
       "      <td>0</td>\n",
       "      <td>NaN</td>\n",
       "    </tr>\n",
       "    <tr>\n",
       "      <th>1</th>\n",
       "      <td>2009</td>\n",
       "      <td>Jan</td>\n",
       "      <td>2</td>\n",
       "      <td>1.0</td>\n",
       "      <td>-2.0</td>\n",
       "      <td>-5.0</td>\n",
       "      <td>-3.0</td>\n",
       "      <td>-7.0</td>\n",
       "      <td>-17.0</td>\n",
       "      <td>78.0</td>\n",
       "      <td>...</td>\n",
       "      <td>1012.0</td>\n",
       "      <td>1007.0</td>\n",
       "      <td>16.0</td>\n",
       "      <td>13.0</td>\n",
       "      <td>2.0</td>\n",
       "      <td>27</td>\n",
       "      <td>10</td>\n",
       "      <td>48</td>\n",
       "      <td>T</td>\n",
       "      <td>Snow</td>\n",
       "    </tr>\n",
       "    <tr>\n",
       "      <th>2</th>\n",
       "      <td>2009</td>\n",
       "      <td>Jan</td>\n",
       "      <td>3</td>\n",
       "      <td>3.0</td>\n",
       "      <td>1.0</td>\n",
       "      <td>-2.0</td>\n",
       "      <td>-5.0</td>\n",
       "      <td>-9.0</td>\n",
       "      <td>-13.0</td>\n",
       "      <td>72.0</td>\n",
       "      <td>...</td>\n",
       "      <td>1015.0</td>\n",
       "      <td>1008.0</td>\n",
       "      <td>16.0</td>\n",
       "      <td>16.0</td>\n",
       "      <td>16.0</td>\n",
       "      <td>27</td>\n",
       "      <td>16</td>\n",
       "      <td>42</td>\n",
       "      <td>T</td>\n",
       "      <td>NaN</td>\n",
       "    </tr>\n",
       "    <tr>\n",
       "      <th>3</th>\n",
       "      <td>2009</td>\n",
       "      <td>Jan</td>\n",
       "      <td>4</td>\n",
       "      <td>6.0</td>\n",
       "      <td>1.0</td>\n",
       "      <td>-4.0</td>\n",
       "      <td>-10.0</td>\n",
       "      <td>-12.0</td>\n",
       "      <td>-13.0</td>\n",
       "      <td>55.0</td>\n",
       "      <td>...</td>\n",
       "      <td>1017.0</td>\n",
       "      <td>1015.0</td>\n",
       "      <td>16.0</td>\n",
       "      <td>16.0</td>\n",
       "      <td>16.0</td>\n",
       "      <td>32</td>\n",
       "      <td>12</td>\n",
       "      <td>40</td>\n",
       "      <td>0</td>\n",
       "      <td>NaN</td>\n",
       "    </tr>\n",
       "    <tr>\n",
       "      <th>4</th>\n",
       "      <td>2009</td>\n",
       "      <td>Jan</td>\n",
       "      <td>5</td>\n",
       "      <td>6.0</td>\n",
       "      <td>5.0</td>\n",
       "      <td>3.0</td>\n",
       "      <td>-1.0</td>\n",
       "      <td>-5.0</td>\n",
       "      <td>-16.0</td>\n",
       "      <td>62.0</td>\n",
       "      <td>...</td>\n",
       "      <td>1014.0</td>\n",
       "      <td>1013.0</td>\n",
       "      <td>16.0</td>\n",
       "      <td>16.0</td>\n",
       "      <td>16.0</td>\n",
       "      <td>23</td>\n",
       "      <td>11</td>\n",
       "      <td>34</td>\n",
       "      <td>T</td>\n",
       "      <td>NaN</td>\n",
       "    </tr>\n",
       "  </tbody>\n",
       "</table>\n",
       "<p>5 rows × 23 columns</p>\n",
       "</div>"
      ],
      "text/plain": [
       "   Year Month  Day  Temp high (°C)  Temp avg (°C)  Temp low (°C)  \\\n",
       "0  2009   Jan    1            -3.0           -6.0           -9.0   \n",
       "1  2009   Jan    2             1.0           -2.0           -5.0   \n",
       "2  2009   Jan    3             3.0            1.0           -2.0   \n",
       "3  2009   Jan    4             6.0            1.0           -4.0   \n",
       "4  2009   Jan    5             6.0            5.0            3.0   \n",
       "\n",
       "   Dew Point high (°C)  Dew Point avg (°C)  Dew Point low (°C)  \\\n",
       "0                -16.0               -17.0               -19.0   \n",
       "1                 -3.0                -7.0               -17.0   \n",
       "2                 -5.0                -9.0               -13.0   \n",
       "3                -10.0               -12.0               -13.0   \n",
       "4                 -1.0                -5.0               -16.0   \n",
       "\n",
       "   Humidity (%) high     ...       Sea Level Press. (hPa) avg  \\\n",
       "0               54.0     ...                           1023.0   \n",
       "1               78.0     ...                           1012.0   \n",
       "2               72.0     ...                           1015.0   \n",
       "3               55.0     ...                           1017.0   \n",
       "4               62.0     ...                           1014.0   \n",
       "\n",
       "   Sea Level Press. (hPa) low  Visibility (km) high  Visibility (km) avg  \\\n",
       "0                      1015.0                  16.0                 16.0   \n",
       "1                      1007.0                  16.0                 13.0   \n",
       "2                      1008.0                  16.0                 16.0   \n",
       "3                      1015.0                  16.0                 16.0   \n",
       "4                      1013.0                  16.0                 16.0   \n",
       "\n",
       "   Visibility (km) low  Wind (km/h) low  Wind (km/h) avg  Wind (km/h) high  \\\n",
       "0                 16.0               37               18                60   \n",
       "1                  2.0               27               10                48   \n",
       "2                 16.0               27               16                42   \n",
       "3                 16.0               32               12                40   \n",
       "4                 16.0               23               11                34   \n",
       "\n",
       "  Precip. (mm) sum WeatherEvent  \n",
       "0                0          NaN  \n",
       "1                T         Snow  \n",
       "2                T          NaN  \n",
       "3                0          NaN  \n",
       "4                T          NaN  \n",
       "\n",
       "[5 rows x 23 columns]"
      ]
     },
     "execution_count": 3,
     "metadata": {},
     "output_type": "execute_result"
    }
   ],
   "source": [
    "df_list = [weather9, weather10, weather11, weather12, weather13, weather14, weather15]\n",
    "\n",
    "weatherData = pd.concat(df_list)\n",
    "weatherData.head()"
   ]
  },
  {
   "cell_type": "code",
   "execution_count": 4,
   "metadata": {},
   "outputs": [
    {
     "data": {
      "text/plain": [
       "(2556, 23)"
      ]
     },
     "execution_count": 4,
     "metadata": {},
     "output_type": "execute_result"
    }
   ],
   "source": [
    "weatherData.shape"
   ]
  },
  {
   "cell_type": "markdown",
   "metadata": {},
   "source": [
    "## Preprocessing"
   ]
  },
  {
   "cell_type": "markdown",
   "metadata": {},
   "source": [
    "### Dropping Day Column"
   ]
  },
  {
   "cell_type": "code",
   "execution_count": 5,
   "metadata": {},
   "outputs": [
    {
     "data": {
      "text/plain": [
       "(2556, 22)"
      ]
     },
     "execution_count": 5,
     "metadata": {},
     "output_type": "execute_result"
    }
   ],
   "source": [
    "weatherData_noDay = weatherData.copy().drop('Day', axis = 1)\n",
    "weatherData_noDay.shape"
   ]
  },
  {
   "cell_type": "markdown",
   "metadata": {},
   "source": [
    "### Changing Column Names"
   ]
  },
  {
   "cell_type": "code",
   "execution_count": 6,
   "metadata": {
    "collapsed": true
   },
   "outputs": [],
   "source": [
    "weatherData_noDay.columns = ['Year', 'Month', 'Temp high (°C)', 'Temp avg (°C)', 'Temp low (°C)',\n",
    "                        'Dew Point high (°C)', 'Dew Point avg (°C)', 'Dew Point low (°C)',\n",
    "                       'Humidity_high', 'Humidity_avg', 'Humidity_low','Sea Level Press high', 'Sea Level Press avg',\n",
    "                       'Sea Level Press low', 'Visibility (km) high','Visibility (km) avg', 'Visibility (km) low', 'Wind (km/h) low',\n",
    "                       'Wind (km/h) avg', 'Wind (km/h) high', 'Precip (mm) sum','WeatherEvent']"
   ]
  },
  {
   "cell_type": "markdown",
   "metadata": {},
   "source": [
    "### Replace T value With 0.01 in Precip (mm) sum Column"
   ]
  },
  {
   "cell_type": "code",
   "execution_count": 7,
   "metadata": {},
   "outputs": [
    {
     "data": {
      "text/plain": [
       "1"
      ]
     },
     "execution_count": 7,
     "metadata": {},
     "output_type": "execute_result"
    }
   ],
   "source": [
    "weatherData_noDay['Precip (mm) sum'].isnull().sum()"
   ]
  },
  {
   "cell_type": "code",
   "execution_count": 8,
   "metadata": {},
   "outputs": [
    {
     "data": {
      "text/plain": [
       "1"
      ]
     },
     "execution_count": 8,
     "metadata": {},
     "output_type": "execute_result"
    }
   ],
   "source": [
    "weatherData_noDay['Precip (mm) sum'] =   weatherData_noDay['Precip (mm) sum'].apply(lambda x: 0.01 if x == 'T' else x)  \n",
    "weatherData_noDay['Precip (mm) sum'].isnull().sum()"
   ]
  },
  {
   "cell_type": "markdown",
   "metadata": {},
   "source": [
    "### Convert Dtypes Of Columns"
   ]
  },
  {
   "cell_type": "code",
   "execution_count": 18,
   "metadata": {
    "scrolled": true
   },
   "outputs": [
    {
     "data": {
      "text/plain": [
       "Year                      int64\n",
       "Month                    object\n",
       "Temp high (°C)          float64\n",
       "Temp avg (°C)           float64\n",
       "Temp low (°C)           float64\n",
       "Dew Point high (°C)     float64\n",
       "Dew Point avg (°C)      float64\n",
       "Dew Point low (°C)      float64\n",
       "Humidity_high           float64\n",
       "Humidity_avg            float64\n",
       "Humidity_low            float64\n",
       "Sea Level Press high    float64\n",
       "Sea Level Press avg     float64\n",
       "Sea Level Press low     float64\n",
       "Visibility (km) high    float64\n",
       "Visibility (km) avg     float64\n",
       "Visibility (km) low     float64\n",
       "Wind (km/h) low         float64\n",
       "Wind (km/h) avg         float64\n",
       "Wind (km/h) high        float64\n",
       "Precip (mm) sum         float64\n",
       "WeatherEvent             object\n",
       "dtype: object"
      ]
     },
     "execution_count": 18,
     "metadata": {},
     "output_type": "execute_result"
    }
   ],
   "source": [
    "weatherData_noDay.dtypes"
   ]
  },
  {
   "cell_type": "code",
   "execution_count": 19,
   "metadata": {
    "scrolled": true
   },
   "outputs": [
    {
     "data": {
      "text/plain": [
       "Year                      int64\n",
       "Month                    object\n",
       "Temp high (°C)          float64\n",
       "Temp avg (°C)           float64\n",
       "Temp low (°C)           float64\n",
       "Dew Point high (°C)     float64\n",
       "Dew Point avg (°C)      float64\n",
       "Dew Point low (°C)      float64\n",
       "Humidity_high           float64\n",
       "Humidity_avg            float64\n",
       "Humidity_low            float64\n",
       "Sea Level Press high    float64\n",
       "Sea Level Press avg     float64\n",
       "Sea Level Press low     float64\n",
       "Visibility (km) high    float64\n",
       "Visibility (km) avg     float64\n",
       "Visibility (km) low     float64\n",
       "Wind (km/h) low         float64\n",
       "Wind (km/h) avg         float64\n",
       "Wind (km/h) high        float64\n",
       "Precip (mm) sum         float64\n",
       "WeatherEvent             object\n",
       "dtype: object"
      ]
     },
     "execution_count": 19,
     "metadata": {},
     "output_type": "execute_result"
    }
   ],
   "source": [
    "weatherData_noDay.iloc[:, 2:-1] = weatherData_noDay.iloc[:, 2:-1].apply(pd.to_numeric, errors = 'coerce')\n",
    "weatherData_noDay.dtypes"
   ]
  },
  {
   "cell_type": "markdown",
   "metadata": {},
   "source": [
    "### Filling Missing Values"
   ]
  },
  {
   "cell_type": "code",
   "execution_count": 20,
   "metadata": {
    "scrolled": true
   },
   "outputs": [
    {
     "data": {
      "text/plain": [
       "Year                     0.000000\n",
       "Month                    0.000000\n",
       "Temp high (°C)           0.078247\n",
       "Temp avg (°C)            0.078247\n",
       "Temp low (°C)            0.078247\n",
       "Dew Point high (°C)      0.078247\n",
       "Dew Point avg (°C)       0.078247\n",
       "Dew Point low (°C)       0.078247\n",
       "Humidity_high            0.078247\n",
       "Humidity_avg             0.078247\n",
       "Humidity_low             0.078247\n",
       "Sea Level Press high     0.547731\n",
       "Sea Level Press avg      0.547731\n",
       "Sea Level Press low      0.547731\n",
       "Visibility (km) high     0.899844\n",
       "Visibility (km) avg      0.899844\n",
       "Visibility (km) low      0.899844\n",
       "Wind (km/h) low          0.586854\n",
       "Wind (km/h) avg          0.586854\n",
       "Wind (km/h) high         1.799687\n",
       "Precip (mm) sum          0.039124\n",
       "WeatherEvent            65.023474\n",
       "dtype: float64"
      ]
     },
     "execution_count": 20,
     "metadata": {},
     "output_type": "execute_result"
    }
   ],
   "source": [
    "weatherData_noDay.isnull().sum()/len(weatherData_noDay)*100"
   ]
  },
  {
   "cell_type": "code",
   "execution_count": 21,
   "metadata": {
    "scrolled": true
   },
   "outputs": [
    {
     "name": "stderr",
     "output_type": "stream",
     "text": [
      "C:\\Users\\HP\\Anaconda3\\lib\\site-packages\\sklearn\\utils\\deprecation.py:58: DeprecationWarning: Class Imputer is deprecated; Imputer was deprecated in version 0.20 and will be removed in 0.22. Import impute.SimpleImputer from sklearn instead.\n",
      "  warnings.warn(msg, category=DeprecationWarning)\n"
     ]
    },
    {
     "data": {
      "text/plain": [
       "Temp high (°C)          False\n",
       "Temp avg (°C)           False\n",
       "Temp low (°C)           False\n",
       "Dew Point high (°C)     False\n",
       "Dew Point avg (°C)      False\n",
       "Dew Point low (°C)      False\n",
       "Humidity_high           False\n",
       "Humidity_avg            False\n",
       "Humidity_low            False\n",
       "Sea Level Press high    False\n",
       "Sea Level Press avg     False\n",
       "Sea Level Press low     False\n",
       "Visibility (km) high    False\n",
       "Visibility (km) avg     False\n",
       "Visibility (km) low     False\n",
       "Wind (km/h) low         False\n",
       "Wind (km/h) avg         False\n",
       "Wind (km/h) high        False\n",
       "Precip (mm) sum         False\n",
       "dtype: bool"
      ]
     },
     "execution_count": 21,
     "metadata": {},
     "output_type": "execute_result"
    }
   ],
   "source": [
    "from sklearn.preprocessing import Imputer\n",
    "imputer = Imputer(strategy='mean')\n",
    "\n",
    "num_cols = weatherData_noDay.select_dtypes(include=['float64'])\n",
    "labels = num_cols.columns\n",
    "num_cols = pd.DataFrame(imputer.fit_transform(num_cols), columns=labels)\n",
    "\n",
    "num_cols.isnull().any()"
   ]
  },
  {
   "cell_type": "code",
   "execution_count": 22,
   "metadata": {
    "scrolled": true
   },
   "outputs": [
    {
     "name": "stdout",
     "output_type": "stream",
     "text": [
      "Month           0\n",
      "WeatherEvent    0\n",
      "dtype: int64\n"
     ]
    },
    {
     "name": "stderr",
     "output_type": "stream",
     "text": [
      "C:\\Users\\HP\\Anaconda3\\lib\\site-packages\\ipykernel_launcher.py:2: SettingWithCopyWarning: \n",
      "A value is trying to be set on a copy of a slice from a DataFrame.\n",
      "Try using .loc[row_indexer,col_indexer] = value instead\n",
      "\n",
      "See the caveats in the documentation: http://pandas.pydata.org/pandas-docs/stable/indexing.html#indexing-view-versus-copy\n",
      "  \n"
     ]
    }
   ],
   "source": [
    "obj_cols = weatherData_noDay.select_dtypes(include = ['object'])\n",
    "obj_cols['WeatherEvent'] = obj_cols.WeatherEvent.fillna('Other')\n",
    "print(obj_cols.isnull().sum())"
   ]
  },
  {
   "cell_type": "code",
   "execution_count": 25,
   "metadata": {
    "scrolled": true
   },
   "outputs": [
    {
     "data": {
      "text/html": [
       "<div>\n",
       "<style>\n",
       "    .dataframe thead tr:only-child th {\n",
       "        text-align: right;\n",
       "    }\n",
       "\n",
       "    .dataframe thead th {\n",
       "        text-align: left;\n",
       "    }\n",
       "\n",
       "    .dataframe tbody tr th {\n",
       "        vertical-align: top;\n",
       "    }\n",
       "</style>\n",
       "<table border=\"1\" class=\"dataframe\">\n",
       "  <thead>\n",
       "    <tr style=\"text-align: right;\">\n",
       "      <th></th>\n",
       "      <th>Dew Point avg (°C)</th>\n",
       "      <th>Dew Point high (°C)</th>\n",
       "      <th>Dew Point low (°C)</th>\n",
       "      <th>Humidity_avg</th>\n",
       "      <th>Humidity_high</th>\n",
       "      <th>Humidity_low</th>\n",
       "      <th>Month</th>\n",
       "      <th>Precip (mm) sum</th>\n",
       "      <th>Sea Level Press avg</th>\n",
       "      <th>Sea Level Press high</th>\n",
       "      <th>...</th>\n",
       "      <th>Temp high (°C)</th>\n",
       "      <th>Temp low (°C)</th>\n",
       "      <th>Visibility (km) avg</th>\n",
       "      <th>Visibility (km) high</th>\n",
       "      <th>Visibility (km) low</th>\n",
       "      <th>WeatherEvent</th>\n",
       "      <th>Wind (km/h) avg</th>\n",
       "      <th>Wind (km/h) high</th>\n",
       "      <th>Wind (km/h) low</th>\n",
       "      <th>Year</th>\n",
       "    </tr>\n",
       "  </thead>\n",
       "  <tbody>\n",
       "    <tr>\n",
       "      <th>0</th>\n",
       "      <td>NaN</td>\n",
       "      <td>NaN</td>\n",
       "      <td>NaN</td>\n",
       "      <td>NaN</td>\n",
       "      <td>NaN</td>\n",
       "      <td>NaN</td>\n",
       "      <td>NaN</td>\n",
       "      <td>NaN</td>\n",
       "      <td>NaN</td>\n",
       "      <td>NaN</td>\n",
       "      <td>...</td>\n",
       "      <td>NaN</td>\n",
       "      <td>NaN</td>\n",
       "      <td>NaN</td>\n",
       "      <td>NaN</td>\n",
       "      <td>NaN</td>\n",
       "      <td>NaN</td>\n",
       "      <td>NaN</td>\n",
       "      <td>NaN</td>\n",
       "      <td>NaN</td>\n",
       "      <td>2009.0</td>\n",
       "    </tr>\n",
       "    <tr>\n",
       "      <th>1</th>\n",
       "      <td>NaN</td>\n",
       "      <td>NaN</td>\n",
       "      <td>NaN</td>\n",
       "      <td>NaN</td>\n",
       "      <td>NaN</td>\n",
       "      <td>NaN</td>\n",
       "      <td>NaN</td>\n",
       "      <td>NaN</td>\n",
       "      <td>NaN</td>\n",
       "      <td>NaN</td>\n",
       "      <td>...</td>\n",
       "      <td>NaN</td>\n",
       "      <td>NaN</td>\n",
       "      <td>NaN</td>\n",
       "      <td>NaN</td>\n",
       "      <td>NaN</td>\n",
       "      <td>NaN</td>\n",
       "      <td>NaN</td>\n",
       "      <td>NaN</td>\n",
       "      <td>NaN</td>\n",
       "      <td>2009.0</td>\n",
       "    </tr>\n",
       "    <tr>\n",
       "      <th>2</th>\n",
       "      <td>NaN</td>\n",
       "      <td>NaN</td>\n",
       "      <td>NaN</td>\n",
       "      <td>NaN</td>\n",
       "      <td>NaN</td>\n",
       "      <td>NaN</td>\n",
       "      <td>NaN</td>\n",
       "      <td>NaN</td>\n",
       "      <td>NaN</td>\n",
       "      <td>NaN</td>\n",
       "      <td>...</td>\n",
       "      <td>NaN</td>\n",
       "      <td>NaN</td>\n",
       "      <td>NaN</td>\n",
       "      <td>NaN</td>\n",
       "      <td>NaN</td>\n",
       "      <td>NaN</td>\n",
       "      <td>NaN</td>\n",
       "      <td>NaN</td>\n",
       "      <td>NaN</td>\n",
       "      <td>2009.0</td>\n",
       "    </tr>\n",
       "    <tr>\n",
       "      <th>3</th>\n",
       "      <td>NaN</td>\n",
       "      <td>NaN</td>\n",
       "      <td>NaN</td>\n",
       "      <td>NaN</td>\n",
       "      <td>NaN</td>\n",
       "      <td>NaN</td>\n",
       "      <td>NaN</td>\n",
       "      <td>NaN</td>\n",
       "      <td>NaN</td>\n",
       "      <td>NaN</td>\n",
       "      <td>...</td>\n",
       "      <td>NaN</td>\n",
       "      <td>NaN</td>\n",
       "      <td>NaN</td>\n",
       "      <td>NaN</td>\n",
       "      <td>NaN</td>\n",
       "      <td>NaN</td>\n",
       "      <td>NaN</td>\n",
       "      <td>NaN</td>\n",
       "      <td>NaN</td>\n",
       "      <td>2009.0</td>\n",
       "    </tr>\n",
       "    <tr>\n",
       "      <th>4</th>\n",
       "      <td>NaN</td>\n",
       "      <td>NaN</td>\n",
       "      <td>NaN</td>\n",
       "      <td>NaN</td>\n",
       "      <td>NaN</td>\n",
       "      <td>NaN</td>\n",
       "      <td>NaN</td>\n",
       "      <td>NaN</td>\n",
       "      <td>NaN</td>\n",
       "      <td>NaN</td>\n",
       "      <td>...</td>\n",
       "      <td>NaN</td>\n",
       "      <td>NaN</td>\n",
       "      <td>NaN</td>\n",
       "      <td>NaN</td>\n",
       "      <td>NaN</td>\n",
       "      <td>NaN</td>\n",
       "      <td>NaN</td>\n",
       "      <td>NaN</td>\n",
       "      <td>NaN</td>\n",
       "      <td>2009.0</td>\n",
       "    </tr>\n",
       "  </tbody>\n",
       "</table>\n",
       "<p>5 rows × 22 columns</p>\n",
       "</div>"
      ],
      "text/plain": [
       "   Dew Point avg (°C)  Dew Point high (°C)  Dew Point low (°C)  Humidity_avg  \\\n",
       "0                 NaN                  NaN                 NaN           NaN   \n",
       "1                 NaN                  NaN                 NaN           NaN   \n",
       "2                 NaN                  NaN                 NaN           NaN   \n",
       "3                 NaN                  NaN                 NaN           NaN   \n",
       "4                 NaN                  NaN                 NaN           NaN   \n",
       "\n",
       "   Humidity_high  Humidity_low Month  Precip (mm) sum  Sea Level Press avg  \\\n",
       "0            NaN           NaN   NaN              NaN                  NaN   \n",
       "1            NaN           NaN   NaN              NaN                  NaN   \n",
       "2            NaN           NaN   NaN              NaN                  NaN   \n",
       "3            NaN           NaN   NaN              NaN                  NaN   \n",
       "4            NaN           NaN   NaN              NaN                  NaN   \n",
       "\n",
       "   Sea Level Press high   ...    Temp high (°C)  Temp low (°C)  \\\n",
       "0                   NaN   ...               NaN            NaN   \n",
       "1                   NaN   ...               NaN            NaN   \n",
       "2                   NaN   ...               NaN            NaN   \n",
       "3                   NaN   ...               NaN            NaN   \n",
       "4                   NaN   ...               NaN            NaN   \n",
       "\n",
       "   Visibility (km) avg  Visibility (km) high  Visibility (km) low  \\\n",
       "0                  NaN                   NaN                  NaN   \n",
       "1                  NaN                   NaN                  NaN   \n",
       "2                  NaN                   NaN                  NaN   \n",
       "3                  NaN                   NaN                  NaN   \n",
       "4                  NaN                   NaN                  NaN   \n",
       "\n",
       "   WeatherEvent  Wind (km/h) avg Wind (km/h) high  Wind (km/h) low    Year  \n",
       "0           NaN              NaN              NaN              NaN  2009.0  \n",
       "1           NaN              NaN              NaN              NaN  2009.0  \n",
       "2           NaN              NaN              NaN              NaN  2009.0  \n",
       "3           NaN              NaN              NaN              NaN  2009.0  \n",
       "4           NaN              NaN              NaN              NaN  2009.0  \n",
       "\n",
       "[5 rows x 22 columns]"
      ]
     },
     "execution_count": 25,
     "metadata": {},
     "output_type": "execute_result"
    }
   ],
   "source": [
    "weatherData_final = pd.DataFrame()\n",
    "weatherData_final = pd.concat([weatherData_noDay[['Year']], num_cols, obj_cols])\n",
    "weatherData_final.head()"
   ]
  },
  {
   "cell_type": "markdown",
   "metadata": {},
   "source": [
    "## Extracting New Features From Weather Data"
   ]
  },
  {
   "cell_type": "code",
   "execution_count": 15,
   "metadata": {
    "collapsed": true,
    "scrolled": true
   },
   "outputs": [],
   "source": [
    "weatherData_final = weatherData_noDay.copy()\n",
    "col_list = ['Year', 'Month', 'Temp high (°C)', 'Temp avg (°C)', 'Temp low (°C)','Dew Point high (°C)', 'Dew Point avg (°C)', \n",
    "            'Dew Point low (°C)','Humidity_high', 'Humidity_avg', 'Humidity_low', 'Sea Level Press high','Sea Level Press avg',\n",
    "            'Sea Level Press low', 'Visibility (km) high','Visibility (km) avg', 'Visibility (km) low', 'Wind (km/h) low',\n",
    "            'Wind (km/h) avg', 'Wind (km/h) high', 'Precip (mm) sum','WeatherEvent']"
   ]
  },
  {
   "cell_type": "code",
   "execution_count": 16,
   "metadata": {
    "collapsed": true,
    "scrolled": true
   },
   "outputs": [],
   "source": [
    "features = {col_list[2]:['min','max','mean','var'],col_list[3]:['min','max','mean','var'],col_list[4]:['min','max','mean','var'],\n",
    "           col_list[5]:['min','max','mean','var'], col_list[6]:['min','max','mean','var'], col_list[7]:['min','max','mean','var'],\n",
    "           col_list[8]:['min','max','mean','var'], col_list[9]:['min','max','mean','var'], col_list[10]:['min','max','mean','var'],\n",
    "col_list[11]:['min','max','mean','var'], col_list[12]:['min','max','mean','var'], col_list[13]:['min','max','mean','var'],\n",
    "col_list[14]:['min','max','mean','var'], col_list[15]:['min','max','mean','var'], col_list[16]:['min','max','mean','var'],\n",
    "col_list[17]:['min','max','mean','var'], col_list[18]:['min','max','mean','var'], col_list[19]:['min','max','mean','var']}\n",
    "\n",
    "weather_features = weatherData_final.groupby(['Year','Month']).agg(features).reset_index()"
   ]
  },
  {
   "cell_type": "code",
   "execution_count": 17,
   "metadata": {
    "scrolled": true
   },
   "outputs": [
    {
     "data": {
      "text/html": [
       "<div>\n",
       "<style>\n",
       "    .dataframe thead tr:only-child th {\n",
       "        text-align: right;\n",
       "    }\n",
       "\n",
       "    .dataframe thead th {\n",
       "        text-align: left;\n",
       "    }\n",
       "\n",
       "    .dataframe tbody tr th {\n",
       "        vertical-align: top;\n",
       "    }\n",
       "</style>\n",
       "<table border=\"1\" class=\"dataframe\">\n",
       "  <thead>\n",
       "    <tr>\n",
       "      <th></th>\n",
       "      <th>Year</th>\n",
       "      <th>Month</th>\n",
       "      <th colspan=\"4\" halign=\"left\">Temp high (°C)</th>\n",
       "      <th colspan=\"4\" halign=\"left\">Temp avg (°C)</th>\n",
       "      <th>...</th>\n",
       "      <th colspan=\"2\" halign=\"left\">Wind (km/h) low</th>\n",
       "      <th colspan=\"4\" halign=\"left\">Wind (km/h) avg</th>\n",
       "      <th colspan=\"4\" halign=\"left\">Wind (km/h) high</th>\n",
       "    </tr>\n",
       "    <tr>\n",
       "      <th></th>\n",
       "      <th></th>\n",
       "      <th></th>\n",
       "      <th>min</th>\n",
       "      <th>max</th>\n",
       "      <th>mean</th>\n",
       "      <th>var</th>\n",
       "      <th>min</th>\n",
       "      <th>max</th>\n",
       "      <th>mean</th>\n",
       "      <th>var</th>\n",
       "      <th>...</th>\n",
       "      <th>mean</th>\n",
       "      <th>var</th>\n",
       "      <th>min</th>\n",
       "      <th>max</th>\n",
       "      <th>mean</th>\n",
       "      <th>var</th>\n",
       "      <th>min</th>\n",
       "      <th>max</th>\n",
       "      <th>mean</th>\n",
       "      <th>var</th>\n",
       "    </tr>\n",
       "  </thead>\n",
       "  <tbody>\n",
       "    <tr>\n",
       "      <th>79</th>\n",
       "      <td>2015</td>\n",
       "      <td>Mar</td>\n",
       "      <td>-3.0</td>\n",
       "      <td>17.0</td>\n",
       "      <td>7.258065</td>\n",
       "      <td>19.931183</td>\n",
       "      <td>-7.0</td>\n",
       "      <td>11.0</td>\n",
       "      <td>3.516129</td>\n",
       "      <td>17.058065</td>\n",
       "      <td>...</td>\n",
       "      <td>25.806452</td>\n",
       "      <td>29.561290</td>\n",
       "      <td>4.0</td>\n",
       "      <td>18.0</td>\n",
       "      <td>9.838710</td>\n",
       "      <td>10.606452</td>\n",
       "      <td>27.0</td>\n",
       "      <td>71.0</td>\n",
       "      <td>40.903226</td>\n",
       "      <td>142.623656</td>\n",
       "    </tr>\n",
       "    <tr>\n",
       "      <th>80</th>\n",
       "      <td>2015</td>\n",
       "      <td>May</td>\n",
       "      <td>17.0</td>\n",
       "      <td>31.0</td>\n",
       "      <td>25.677419</td>\n",
       "      <td>16.159140</td>\n",
       "      <td>13.0</td>\n",
       "      <td>26.0</td>\n",
       "      <td>20.483871</td>\n",
       "      <td>13.191398</td>\n",
       "      <td>...</td>\n",
       "      <td>21.129032</td>\n",
       "      <td>17.582796</td>\n",
       "      <td>3.0</td>\n",
       "      <td>12.0</td>\n",
       "      <td>6.806452</td>\n",
       "      <td>5.161290</td>\n",
       "      <td>18.0</td>\n",
       "      <td>47.0</td>\n",
       "      <td>34.225806</td>\n",
       "      <td>50.913978</td>\n",
       "    </tr>\n",
       "    <tr>\n",
       "      <th>81</th>\n",
       "      <td>2015</td>\n",
       "      <td>Nov</td>\n",
       "      <td>7.0</td>\n",
       "      <td>23.0</td>\n",
       "      <td>15.033333</td>\n",
       "      <td>21.412644</td>\n",
       "      <td>4.0</td>\n",
       "      <td>21.0</td>\n",
       "      <td>11.633333</td>\n",
       "      <td>19.412644</td>\n",
       "      <td>...</td>\n",
       "      <td>21.535714</td>\n",
       "      <td>43.220899</td>\n",
       "      <td>3.0</td>\n",
       "      <td>17.0</td>\n",
       "      <td>7.821429</td>\n",
       "      <td>12.300265</td>\n",
       "      <td>21.0</td>\n",
       "      <td>58.0</td>\n",
       "      <td>34.035714</td>\n",
       "      <td>104.702381</td>\n",
       "    </tr>\n",
       "    <tr>\n",
       "      <th>82</th>\n",
       "      <td>2015</td>\n",
       "      <td>Oct</td>\n",
       "      <td>10.0</td>\n",
       "      <td>26.0</td>\n",
       "      <td>18.580645</td>\n",
       "      <td>18.651613</td>\n",
       "      <td>7.0</td>\n",
       "      <td>21.0</td>\n",
       "      <td>14.483871</td>\n",
       "      <td>14.991398</td>\n",
       "      <td>...</td>\n",
       "      <td>21.258065</td>\n",
       "      <td>36.531183</td>\n",
       "      <td>3.0</td>\n",
       "      <td>20.0</td>\n",
       "      <td>8.451613</td>\n",
       "      <td>17.455914</td>\n",
       "      <td>19.0</td>\n",
       "      <td>52.0</td>\n",
       "      <td>34.258065</td>\n",
       "      <td>75.531183</td>\n",
       "    </tr>\n",
       "    <tr>\n",
       "      <th>83</th>\n",
       "      <td>2015</td>\n",
       "      <td>Sep</td>\n",
       "      <td>22.0</td>\n",
       "      <td>36.0</td>\n",
       "      <td>28.133333</td>\n",
       "      <td>14.050575</td>\n",
       "      <td>18.0</td>\n",
       "      <td>31.0</td>\n",
       "      <td>23.700000</td>\n",
       "      <td>10.975862</td>\n",
       "      <td>...</td>\n",
       "      <td>19.433333</td>\n",
       "      <td>24.805747</td>\n",
       "      <td>2.0</td>\n",
       "      <td>13.0</td>\n",
       "      <td>7.033333</td>\n",
       "      <td>11.343678</td>\n",
       "      <td>18.0</td>\n",
       "      <td>43.0</td>\n",
       "      <td>30.166667</td>\n",
       "      <td>51.247126</td>\n",
       "    </tr>\n",
       "  </tbody>\n",
       "</table>\n",
       "<p>5 rows × 74 columns</p>\n",
       "</div>"
      ],
      "text/plain": [
       "    Year Month Temp high (°C)                             Temp avg (°C)        \\\n",
       "                          min   max       mean        var           min   max   \n",
       "79  2015   Mar           -3.0  17.0   7.258065  19.931183          -7.0  11.0   \n",
       "80  2015   May           17.0  31.0  25.677419  16.159140          13.0  26.0   \n",
       "81  2015   Nov            7.0  23.0  15.033333  21.412644           4.0  21.0   \n",
       "82  2015   Oct           10.0  26.0  18.580645  18.651613           7.0  21.0   \n",
       "83  2015   Sep           22.0  36.0  28.133333  14.050575          18.0  31.0   \n",
       "\n",
       "                             ...     Wind (km/h) low             \\\n",
       "         mean        var     ...                mean        var   \n",
       "79   3.516129  17.058065     ...           25.806452  29.561290   \n",
       "80  20.483871  13.191398     ...           21.129032  17.582796   \n",
       "81  11.633333  19.412644     ...           21.535714  43.220899   \n",
       "82  14.483871  14.991398     ...           21.258065  36.531183   \n",
       "83  23.700000  10.975862     ...           19.433333  24.805747   \n",
       "\n",
       "   Wind (km/h) avg                            Wind (km/h) high        \\\n",
       "               min   max      mean        var              min   max   \n",
       "79             4.0  18.0  9.838710  10.606452             27.0  71.0   \n",
       "80             3.0  12.0  6.806452   5.161290             18.0  47.0   \n",
       "81             3.0  17.0  7.821429  12.300265             21.0  58.0   \n",
       "82             3.0  20.0  8.451613  17.455914             19.0  52.0   \n",
       "83             2.0  13.0  7.033333  11.343678             18.0  43.0   \n",
       "\n",
       "                           \n",
       "         mean         var  \n",
       "79  40.903226  142.623656  \n",
       "80  34.225806   50.913978  \n",
       "81  34.035714  104.702381  \n",
       "82  34.258065   75.531183  \n",
       "83  30.166667   51.247126  \n",
       "\n",
       "[5 rows x 74 columns]"
      ]
     },
     "execution_count": 17,
     "metadata": {},
     "output_type": "execute_result"
    }
   ],
   "source": [
    "weather_features.tail(5)"
   ]
  },
  {
   "cell_type": "code",
   "execution_count": 18,
   "metadata": {
    "scrolled": true
   },
   "outputs": [
    {
     "data": {
      "text/html": [
       "<div>\n",
       "<style>\n",
       "    .dataframe thead tr:only-child th {\n",
       "        text-align: right;\n",
       "    }\n",
       "\n",
       "    .dataframe thead th {\n",
       "        text-align: left;\n",
       "    }\n",
       "\n",
       "    .dataframe tbody tr th {\n",
       "        vertical-align: top;\n",
       "    }\n",
       "</style>\n",
       "<table border=\"1\" class=\"dataframe\">\n",
       "  <thead>\n",
       "    <tr style=\"text-align: right;\">\n",
       "      <th></th>\n",
       "      <th>Year</th>\n",
       "      <th>Month</th>\n",
       "      <th>Temp high (°C)min</th>\n",
       "      <th>Temp high (°C)max</th>\n",
       "      <th>Temp high (°C)mean</th>\n",
       "      <th>Temp high (°C)var</th>\n",
       "      <th>Temp avg (°C)min</th>\n",
       "      <th>Temp avg (°C)max</th>\n",
       "      <th>Temp avg (°C)mean</th>\n",
       "      <th>Temp avg (°C)var</th>\n",
       "      <th>...</th>\n",
       "      <th>Wind (km/h) lowmean</th>\n",
       "      <th>Wind (km/h) lowvar</th>\n",
       "      <th>Wind (km/h) avgmin</th>\n",
       "      <th>Wind (km/h) avgmax</th>\n",
       "      <th>Wind (km/h) avgmean</th>\n",
       "      <th>Wind (km/h) avgvar</th>\n",
       "      <th>Wind (km/h) highmin</th>\n",
       "      <th>Wind (km/h) highmax</th>\n",
       "      <th>Wind (km/h) highmean</th>\n",
       "      <th>Wind (km/h) highvar</th>\n",
       "    </tr>\n",
       "  </thead>\n",
       "  <tbody>\n",
       "    <tr>\n",
       "      <th>0</th>\n",
       "      <td>2009</td>\n",
       "      <td>Apr</td>\n",
       "      <td>9.0</td>\n",
       "      <td>33.0</td>\n",
       "      <td>17.100000</td>\n",
       "      <td>50.162069</td>\n",
       "      <td>6.0</td>\n",
       "      <td>27.0</td>\n",
       "      <td>12.733333</td>\n",
       "      <td>30.685057</td>\n",
       "      <td>...</td>\n",
       "      <td>27.300000</td>\n",
       "      <td>27.941379</td>\n",
       "      <td>6.0</td>\n",
       "      <td>24.0</td>\n",
       "      <td>11.366667</td>\n",
       "      <td>16.791954</td>\n",
       "      <td>24.0</td>\n",
       "      <td>61.0</td>\n",
       "      <td>39.566667</td>\n",
       "      <td>87.426437</td>\n",
       "    </tr>\n",
       "    <tr>\n",
       "      <th>1</th>\n",
       "      <td>2009</td>\n",
       "      <td>Aug</td>\n",
       "      <td>22.0</td>\n",
       "      <td>33.0</td>\n",
       "      <td>27.967742</td>\n",
       "      <td>12.165591</td>\n",
       "      <td>19.0</td>\n",
       "      <td>29.0</td>\n",
       "      <td>24.387097</td>\n",
       "      <td>6.511828</td>\n",
       "      <td>...</td>\n",
       "      <td>19.290323</td>\n",
       "      <td>31.279570</td>\n",
       "      <td>3.0</td>\n",
       "      <td>10.0</td>\n",
       "      <td>6.806452</td>\n",
       "      <td>3.827957</td>\n",
       "      <td>19.0</td>\n",
       "      <td>64.0</td>\n",
       "      <td>28.064516</td>\n",
       "      <td>75.929032</td>\n",
       "    </tr>\n",
       "    <tr>\n",
       "      <th>2</th>\n",
       "      <td>2009</td>\n",
       "      <td>Dec</td>\n",
       "      <td>-2.0</td>\n",
       "      <td>19.0</td>\n",
       "      <td>5.451613</td>\n",
       "      <td>29.055914</td>\n",
       "      <td>-5.0</td>\n",
       "      <td>15.0</td>\n",
       "      <td>2.354839</td>\n",
       "      <td>24.303226</td>\n",
       "      <td>...</td>\n",
       "      <td>28.580645</td>\n",
       "      <td>36.651613</td>\n",
       "      <td>6.0</td>\n",
       "      <td>23.0</td>\n",
       "      <td>13.451613</td>\n",
       "      <td>19.189247</td>\n",
       "      <td>24.0</td>\n",
       "      <td>64.0</td>\n",
       "      <td>42.838710</td>\n",
       "      <td>97.473118</td>\n",
       "    </tr>\n",
       "    <tr>\n",
       "      <th>3</th>\n",
       "      <td>2009</td>\n",
       "      <td>Feb</td>\n",
       "      <td>-6.0</td>\n",
       "      <td>18.0</td>\n",
       "      <td>6.964286</td>\n",
       "      <td>30.850529</td>\n",
       "      <td>-9.0</td>\n",
       "      <td>13.0</td>\n",
       "      <td>2.785714</td>\n",
       "      <td>24.322751</td>\n",
       "      <td>...</td>\n",
       "      <td>27.928571</td>\n",
       "      <td>47.253968</td>\n",
       "      <td>6.0</td>\n",
       "      <td>22.0</td>\n",
       "      <td>12.214286</td>\n",
       "      <td>21.656085</td>\n",
       "      <td>24.0</td>\n",
       "      <td>77.0</td>\n",
       "      <td>41.642857</td>\n",
       "      <td>167.349206</td>\n",
       "    </tr>\n",
       "    <tr>\n",
       "      <th>4</th>\n",
       "      <td>2009</td>\n",
       "      <td>Jan</td>\n",
       "      <td>-9.0</td>\n",
       "      <td>8.0</td>\n",
       "      <td>0.741935</td>\n",
       "      <td>16.664516</td>\n",
       "      <td>-11.0</td>\n",
       "      <td>5.0</td>\n",
       "      <td>-2.096774</td>\n",
       "      <td>13.956989</td>\n",
       "      <td>...</td>\n",
       "      <td>27.000000</td>\n",
       "      <td>35.066667</td>\n",
       "      <td>4.0</td>\n",
       "      <td>18.0</td>\n",
       "      <td>12.000000</td>\n",
       "      <td>12.200000</td>\n",
       "      <td>21.0</td>\n",
       "      <td>60.0</td>\n",
       "      <td>39.322581</td>\n",
       "      <td>96.625806</td>\n",
       "    </tr>\n",
       "  </tbody>\n",
       "</table>\n",
       "<p>5 rows × 74 columns</p>\n",
       "</div>"
      ],
      "text/plain": [
       "   Year Month  Temp high (°C)min  Temp high (°C)max  Temp high (°C)mean  \\\n",
       "0  2009   Apr                9.0               33.0           17.100000   \n",
       "1  2009   Aug               22.0               33.0           27.967742   \n",
       "2  2009   Dec               -2.0               19.0            5.451613   \n",
       "3  2009   Feb               -6.0               18.0            6.964286   \n",
       "4  2009   Jan               -9.0                8.0            0.741935   \n",
       "\n",
       "   Temp high (°C)var  Temp avg (°C)min  Temp avg (°C)max  Temp avg (°C)mean  \\\n",
       "0          50.162069               6.0              27.0          12.733333   \n",
       "1          12.165591              19.0              29.0          24.387097   \n",
       "2          29.055914              -5.0              15.0           2.354839   \n",
       "3          30.850529              -9.0              13.0           2.785714   \n",
       "4          16.664516             -11.0               5.0          -2.096774   \n",
       "\n",
       "   Temp avg (°C)var         ...           Wind (km/h) lowmean  \\\n",
       "0         30.685057         ...                     27.300000   \n",
       "1          6.511828         ...                     19.290323   \n",
       "2         24.303226         ...                     28.580645   \n",
       "3         24.322751         ...                     27.928571   \n",
       "4         13.956989         ...                     27.000000   \n",
       "\n",
       "   Wind (km/h) lowvar  Wind (km/h) avgmin  Wind (km/h) avgmax  \\\n",
       "0           27.941379                 6.0                24.0   \n",
       "1           31.279570                 3.0                10.0   \n",
       "2           36.651613                 6.0                23.0   \n",
       "3           47.253968                 6.0                22.0   \n",
       "4           35.066667                 4.0                18.0   \n",
       "\n",
       "   Wind (km/h) avgmean  Wind (km/h) avgvar  Wind (km/h) highmin  \\\n",
       "0            11.366667           16.791954                 24.0   \n",
       "1             6.806452            3.827957                 19.0   \n",
       "2            13.451613           19.189247                 24.0   \n",
       "3            12.214286           21.656085                 24.0   \n",
       "4            12.000000           12.200000                 21.0   \n",
       "\n",
       "   Wind (km/h) highmax  Wind (km/h) highmean  Wind (km/h) highvar  \n",
       "0                 61.0             39.566667            87.426437  \n",
       "1                 64.0             28.064516            75.929032  \n",
       "2                 64.0             42.838710            97.473118  \n",
       "3                 77.0             41.642857           167.349206  \n",
       "4                 60.0             39.322581            96.625806  \n",
       "\n",
       "[5 rows x 74 columns]"
      ]
     },
     "execution_count": 18,
     "metadata": {},
     "output_type": "execute_result"
    }
   ],
   "source": [
    "weather_features.columns = [x[0]+x[1] for x in weather_features.columns]\n",
    "weather_features.head()"
   ]
  },
  {
   "cell_type": "code",
   "execution_count": 27,
   "metadata": {},
   "outputs": [
    {
     "data": {
      "text/plain": [
       "1662"
      ]
     },
     "execution_count": 27,
     "metadata": {},
     "output_type": "execute_result"
    }
   ],
   "source": [
    "weatherData_final['WeatherEvent'].isnull().sum()"
   ]
  },
  {
   "cell_type": "code",
   "execution_count": 25,
   "metadata": {},
   "outputs": [
    {
     "data": {
      "text/plain": [
       "Rain                 600\n",
       "Fog , Rain           139\n",
       "Snow                  62\n",
       "Fog , Snow            36\n",
       "Rain , Snow           24\n",
       "Fog , Rain , Snow     20\n",
       "Fog                   12\n",
       "Thunderstorm           1\n",
       "Name: WeatherEvent, dtype: int64"
      ]
     },
     "execution_count": 25,
     "metadata": {},
     "output_type": "execute_result"
    }
   ],
   "source": [
    "weatherData_final['WeatherEvent'].value_counts()"
   ]
  },
  {
   "cell_type": "code",
   "execution_count": null,
   "metadata": {
    "collapsed": true
   },
   "outputs": [],
   "source": []
  },
  {
   "cell_type": "code",
   "execution_count": null,
   "metadata": {
    "collapsed": true
   },
   "outputs": [],
   "source": []
  },
  {
   "cell_type": "code",
   "execution_count": null,
   "metadata": {
    "collapsed": true
   },
   "outputs": [],
   "source": []
  },
  {
   "cell_type": "code",
   "execution_count": null,
   "metadata": {
    "collapsed": true
   },
   "outputs": [],
   "source": []
  },
  {
   "cell_type": "code",
   "execution_count": null,
   "metadata": {
    "collapsed": true
   },
   "outputs": [],
   "source": [
    "########################### ------------------------------------------- ##################################"
   ]
  },
  {
   "cell_type": "code",
   "execution_count": null,
   "metadata": {
    "collapsed": true
   },
   "outputs": [],
   "source": []
  },
  {
   "cell_type": "markdown",
   "metadata": {},
   "source": [
    "# Events_HolidaysData"
   ]
  },
  {
   "cell_type": "code",
   "execution_count": 1,
   "metadata": {
    "collapsed": true
   },
   "outputs": [],
   "source": [
    "from datetime import date\n",
    "from datetime import datetime\n",
    "import dateutil\n",
    "import pandas as pd\n",
    "import numpy as np"
   ]
  },
  {
   "cell_type": "code",
   "execution_count": 30,
   "metadata": {
    "scrolled": true
   },
   "outputs": [
    {
     "data": {
      "text/html": [
       "<div>\n",
       "<style>\n",
       "    .dataframe thead tr:only-child th {\n",
       "        text-align: right;\n",
       "    }\n",
       "\n",
       "    .dataframe thead th {\n",
       "        text-align: left;\n",
       "    }\n",
       "\n",
       "    .dataframe tbody tr th {\n",
       "        vertical-align: top;\n",
       "    }\n",
       "</style>\n",
       "<table border=\"1\" class=\"dataframe\">\n",
       "  <thead>\n",
       "    <tr style=\"text-align: right;\">\n",
       "      <th></th>\n",
       "      <th>Year</th>\n",
       "      <th>MonthDate</th>\n",
       "      <th>Event</th>\n",
       "      <th>DayCategory</th>\n",
       "    </tr>\n",
       "  </thead>\n",
       "  <tbody>\n",
       "    <tr>\n",
       "      <th>0</th>\n",
       "      <td>2009</td>\n",
       "      <td>2001-01-01</td>\n",
       "      <td>New Year's Day</td>\n",
       "      <td>Federal Holiday</td>\n",
       "    </tr>\n",
       "    <tr>\n",
       "      <th>1</th>\n",
       "      <td>2009</td>\n",
       "      <td>2019-01-01</td>\n",
       "      <td>Martin Luther King Jr. Day</td>\n",
       "      <td>Federal Holiday</td>\n",
       "    </tr>\n",
       "    <tr>\n",
       "      <th>2</th>\n",
       "      <td>2009</td>\n",
       "      <td>2014-02-01</td>\n",
       "      <td>Valentine's Day</td>\n",
       "      <td>Event</td>\n",
       "    </tr>\n",
       "    <tr>\n",
       "      <th>3</th>\n",
       "      <td>2009</td>\n",
       "      <td>2016-02-01</td>\n",
       "      <td>Presidents' Day</td>\n",
       "      <td>Federal Holiday</td>\n",
       "    </tr>\n",
       "    <tr>\n",
       "      <th>4</th>\n",
       "      <td>2009</td>\n",
       "      <td>2012-04-01</td>\n",
       "      <td>Easter Sunday</td>\n",
       "      <td>Event</td>\n",
       "    </tr>\n",
       "  </tbody>\n",
       "</table>\n",
       "</div>"
      ],
      "text/plain": [
       "   Year  MonthDate                       Event      DayCategory\n",
       "0  2009 2001-01-01              New Year's Day  Federal Holiday\n",
       "1  2009 2019-01-01  Martin Luther King Jr. Day  Federal Holiday\n",
       "2  2009 2014-02-01             Valentine's Day            Event\n",
       "3  2009 2016-02-01             Presidents' Day  Federal Holiday\n",
       "4  2009 2012-04-01               Easter Sunday            Event"
      ]
     },
     "execution_count": 30,
     "metadata": {},
     "output_type": "execute_result"
    }
   ],
   "source": [
    "holiday_data = pd.read_excel('C:\\\\Users\\\\HP\\Desktop\\\\PHD Hackathon\\\\Data Science\\\\PhD_Train_Data\\\\Events_HolidaysData.xlsx')\n",
    "holiday_data.head()"
   ]
  },
  {
   "cell_type": "code",
   "execution_count": 31,
   "metadata": {
    "scrolled": true
   },
   "outputs": [
    {
     "data": {
      "text/html": [
       "<div>\n",
       "<style>\n",
       "    .dataframe thead tr:only-child th {\n",
       "        text-align: right;\n",
       "    }\n",
       "\n",
       "    .dataframe thead th {\n",
       "        text-align: left;\n",
       "    }\n",
       "\n",
       "    .dataframe tbody tr th {\n",
       "        vertical-align: top;\n",
       "    }\n",
       "</style>\n",
       "<table border=\"1\" class=\"dataframe\">\n",
       "  <thead>\n",
       "    <tr style=\"text-align: right;\">\n",
       "      <th></th>\n",
       "      <th>Year</th>\n",
       "      <th>MonthDate</th>\n",
       "      <th>Event</th>\n",
       "      <th>DayCategory</th>\n",
       "    </tr>\n",
       "  </thead>\n",
       "  <tbody>\n",
       "    <tr>\n",
       "      <th>0</th>\n",
       "      <td>2009</td>\n",
       "      <td>01-01</td>\n",
       "      <td>New Year's Day</td>\n",
       "      <td>Federal Holiday</td>\n",
       "    </tr>\n",
       "    <tr>\n",
       "      <th>1</th>\n",
       "      <td>2009</td>\n",
       "      <td>19-01</td>\n",
       "      <td>Martin Luther King Jr. Day</td>\n",
       "      <td>Federal Holiday</td>\n",
       "    </tr>\n",
       "    <tr>\n",
       "      <th>2</th>\n",
       "      <td>2009</td>\n",
       "      <td>14-02</td>\n",
       "      <td>Valentine's Day</td>\n",
       "      <td>Event</td>\n",
       "    </tr>\n",
       "    <tr>\n",
       "      <th>3</th>\n",
       "      <td>2009</td>\n",
       "      <td>16-02</td>\n",
       "      <td>Presidents' Day</td>\n",
       "      <td>Federal Holiday</td>\n",
       "    </tr>\n",
       "    <tr>\n",
       "      <th>4</th>\n",
       "      <td>2009</td>\n",
       "      <td>12-04</td>\n",
       "      <td>Easter Sunday</td>\n",
       "      <td>Event</td>\n",
       "    </tr>\n",
       "  </tbody>\n",
       "</table>\n",
       "</div>"
      ],
      "text/plain": [
       "   Year MonthDate                       Event      DayCategory\n",
       "0  2009     01-01              New Year's Day  Federal Holiday\n",
       "1  2009     19-01  Martin Luther King Jr. Day  Federal Holiday\n",
       "2  2009     14-02             Valentine's Day            Event\n",
       "3  2009     16-02             Presidents' Day  Federal Holiday\n",
       "4  2009     12-04               Easter Sunday            Event"
      ]
     },
     "execution_count": 31,
     "metadata": {},
     "output_type": "execute_result"
    }
   ],
   "source": [
    "holiday_data.MonthDate = holiday_data.MonthDate.astype(str).str[2:7]\n",
    "holiday_data.head()"
   ]
  },
  {
   "cell_type": "code",
   "execution_count": 13,
   "metadata": {},
   "outputs": [
    {
     "name": "stdout",
     "output_type": "stream",
     "text": [
      "Hape Of DataFrame (150, 4)\n"
     ]
    },
    {
     "data": {
      "text/plain": [
       "Year            int64\n",
       "MonthDate      object\n",
       "Event          object\n",
       "DayCategory    object\n",
       "dtype: object"
      ]
     },
     "execution_count": 13,
     "metadata": {},
     "output_type": "execute_result"
    }
   ],
   "source": [
    "print('Hape Of DataFrame', holiday_data.shape)\n",
    "holiday_data.dtypes"
   ]
  },
  {
   "cell_type": "code",
   "execution_count": 32,
   "metadata": {
    "scrolled": true
   },
   "outputs": [
    {
     "name": "stdout",
     "output_type": "stream",
     "text": [
      "[2009 2010 2011 2012 2013 2014 2015 2016] \n",
      "\n",
      "01-01 \n",
      "\n",
      "31-12 \n",
      "\n",
      "23 \n",
      "\n",
      "['Federal Holiday' 'Event']\n"
     ]
    }
   ],
   "source": [
    "print(holiday_data.Year.unique(), '\\n')\n",
    "print(np.min(holiday_data.MonthDate), '\\n')\n",
    "print(np.max(holiday_data.MonthDate), '\\n')\n",
    "print(len(holiday_data.Event.unique()), '\\n')\n",
    "print(holiday_data.DayCategory.unique())"
   ]
  },
  {
   "cell_type": "markdown",
   "metadata": {},
   "source": [
    "### Extract Month & Day From MonthDate Column"
   ]
  },
  {
   "cell_type": "code",
   "execution_count": 34,
   "metadata": {
    "scrolled": true
   },
   "outputs": [
    {
     "data": {
      "text/html": [
       "<div>\n",
       "<style>\n",
       "    .dataframe thead tr:only-child th {\n",
       "        text-align: right;\n",
       "    }\n",
       "\n",
       "    .dataframe thead th {\n",
       "        text-align: left;\n",
       "    }\n",
       "\n",
       "    .dataframe tbody tr th {\n",
       "        vertical-align: top;\n",
       "    }\n",
       "</style>\n",
       "<table border=\"1\" class=\"dataframe\">\n",
       "  <thead>\n",
       "    <tr style=\"text-align: right;\">\n",
       "      <th></th>\n",
       "      <th>Year</th>\n",
       "      <th>MonthDate</th>\n",
       "      <th>Event</th>\n",
       "      <th>DayCategory</th>\n",
       "      <th>Month</th>\n",
       "      <th>Day</th>\n",
       "    </tr>\n",
       "  </thead>\n",
       "  <tbody>\n",
       "    <tr>\n",
       "      <th>0</th>\n",
       "      <td>2009</td>\n",
       "      <td>01-01</td>\n",
       "      <td>New Year's Day</td>\n",
       "      <td>Federal Holiday</td>\n",
       "      <td>01</td>\n",
       "      <td>01</td>\n",
       "    </tr>\n",
       "    <tr>\n",
       "      <th>1</th>\n",
       "      <td>2009</td>\n",
       "      <td>19-01</td>\n",
       "      <td>Martin Luther King Jr. Day</td>\n",
       "      <td>Federal Holiday</td>\n",
       "      <td>01</td>\n",
       "      <td>19</td>\n",
       "    </tr>\n",
       "    <tr>\n",
       "      <th>2</th>\n",
       "      <td>2009</td>\n",
       "      <td>14-02</td>\n",
       "      <td>Valentine's Day</td>\n",
       "      <td>Event</td>\n",
       "      <td>02</td>\n",
       "      <td>14</td>\n",
       "    </tr>\n",
       "    <tr>\n",
       "      <th>3</th>\n",
       "      <td>2009</td>\n",
       "      <td>16-02</td>\n",
       "      <td>Presidents' Day</td>\n",
       "      <td>Federal Holiday</td>\n",
       "      <td>02</td>\n",
       "      <td>16</td>\n",
       "    </tr>\n",
       "    <tr>\n",
       "      <th>4</th>\n",
       "      <td>2009</td>\n",
       "      <td>12-04</td>\n",
       "      <td>Easter Sunday</td>\n",
       "      <td>Event</td>\n",
       "      <td>04</td>\n",
       "      <td>12</td>\n",
       "    </tr>\n",
       "  </tbody>\n",
       "</table>\n",
       "</div>"
      ],
      "text/plain": [
       "   Year MonthDate                       Event      DayCategory Month Day\n",
       "0  2009     01-01              New Year's Day  Federal Holiday    01  01\n",
       "1  2009     19-01  Martin Luther King Jr. Day  Federal Holiday    01  19\n",
       "2  2009     14-02             Valentine's Day            Event    02  14\n",
       "3  2009     16-02             Presidents' Day  Federal Holiday    02  16\n",
       "4  2009     12-04               Easter Sunday            Event    04  12"
      ]
     },
     "execution_count": 34,
     "metadata": {},
     "output_type": "execute_result"
    }
   ],
   "source": [
    "holiday_data['Month'] = holiday_data['MonthDate'].str[3:5]\n",
    "holiday_data['Day'] = holiday_data['MonthDate'].str[0:2]\n",
    "\n",
    "holiday_data.head()"
   ]
  },
  {
   "cell_type": "code",
   "execution_count": 53,
   "metadata": {},
   "outputs": [
    {
     "data": {
      "text/plain": [
       "Year           0\n",
       "MonthDate      0\n",
       "Event          0\n",
       "DayCategory    0\n",
       "Month          0\n",
       "dtype: int64"
      ]
     },
     "execution_count": 53,
     "metadata": {},
     "output_type": "execute_result"
    }
   ],
   "source": [
    "holiday_data.isnull().sum()"
   ]
  },
  {
   "cell_type": "code",
   "execution_count": 18,
   "metadata": {
    "collapsed": true
   },
   "outputs": [],
   "source": [
    "import pandas as pd\n",
    "from pandas import *"
   ]
  },
  {
   "cell_type": "code",
   "execution_count": 25,
   "metadata": {},
   "outputs": [
    {
     "data": {
      "text/html": [
       "<div>\n",
       "<style>\n",
       "    .dataframe thead tr:only-child th {\n",
       "        text-align: right;\n",
       "    }\n",
       "\n",
       "    .dataframe thead th {\n",
       "        text-align: left;\n",
       "    }\n",
       "\n",
       "    .dataframe tbody tr th {\n",
       "        vertical-align: top;\n",
       "    }\n",
       "</style>\n",
       "<table border=\"1\" class=\"dataframe\">\n",
       "  <thead>\n",
       "    <tr style=\"text-align: right;\">\n",
       "      <th></th>\n",
       "      <th>cat</th>\n",
       "      <th>month</th>\n",
       "      <th>sum</th>\n",
       "      <th>year</th>\n",
       "    </tr>\n",
       "  </thead>\n",
       "  <tbody>\n",
       "    <tr>\n",
       "      <th>0</th>\n",
       "      <td>one</td>\n",
       "      <td>1</td>\n",
       "      <td>21</td>\n",
       "      <td>2010</td>\n",
       "    </tr>\n",
       "    <tr>\n",
       "      <th>1</th>\n",
       "      <td>two</td>\n",
       "      <td>1</td>\n",
       "      <td>32</td>\n",
       "      <td>2010</td>\n",
       "    </tr>\n",
       "    <tr>\n",
       "      <th>2</th>\n",
       "      <td>three</td>\n",
       "      <td>1</td>\n",
       "      <td>33</td>\n",
       "      <td>2010</td>\n",
       "    </tr>\n",
       "    <tr>\n",
       "      <th>3</th>\n",
       "      <td>one</td>\n",
       "      <td>2</td>\n",
       "      <td>45</td>\n",
       "      <td>2011</td>\n",
       "    </tr>\n",
       "    <tr>\n",
       "      <th>4</th>\n",
       "      <td>two</td>\n",
       "      <td>2</td>\n",
       "      <td>46</td>\n",
       "      <td>2011</td>\n",
       "    </tr>\n",
       "    <tr>\n",
       "      <th>5</th>\n",
       "      <td>one</td>\n",
       "      <td>4</td>\n",
       "      <td>98</td>\n",
       "      <td>2014</td>\n",
       "    </tr>\n",
       "    <tr>\n",
       "      <th>6</th>\n",
       "      <td>two</td>\n",
       "      <td>4</td>\n",
       "      <td>67</td>\n",
       "      <td>2014</td>\n",
       "    </tr>\n",
       "    <tr>\n",
       "      <th>7</th>\n",
       "      <td>three</td>\n",
       "      <td>4</td>\n",
       "      <td>34</td>\n",
       "      <td>2014</td>\n",
       "    </tr>\n",
       "  </tbody>\n",
       "</table>\n",
       "</div>"
      ],
      "text/plain": [
       "     cat  month  sum  year\n",
       "0    one      1   21  2010\n",
       "1    two      1   32  2010\n",
       "2  three      1   33  2010\n",
       "3    one      2   45  2011\n",
       "4    two      2   46  2011\n",
       "5    one      4   98  2014\n",
       "6    two      4   67  2014\n",
       "7  three      4   34  2014"
      ]
     },
     "execution_count": 25,
     "metadata": {},
     "output_type": "execute_result"
    }
   ],
   "source": [
    "df1 = pd.DataFrame({'year':[2010,2010,2010,2011,2011, 2014, 2014, 2014], 'month':[1,1,1,2,2,4,4,4], \n",
    "                    'cat':['one', 'two', 'three','one', 'two', 'one', 'two', 'three'], \n",
    "                    'sum':[21,32,33,45,46, 98, 67, 34]})\n",
    "#df1 = df1.set_index(['year', 'month'])\n",
    "df1"
   ]
  },
  {
   "cell_type": "code",
   "execution_count": 26,
   "metadata": {},
   "outputs": [
    {
     "data": {
      "text/html": [
       "<div>\n",
       "<style>\n",
       "    .dataframe thead tr:only-child th {\n",
       "        text-align: right;\n",
       "    }\n",
       "\n",
       "    .dataframe thead th {\n",
       "        text-align: left;\n",
       "    }\n",
       "\n",
       "    .dataframe tbody tr th {\n",
       "        vertical-align: top;\n",
       "    }\n",
       "</style>\n",
       "<table border=\"1\" class=\"dataframe\">\n",
       "  <thead>\n",
       "    <tr style=\"text-align: right;\">\n",
       "      <th></th>\n",
       "      <th>month</th>\n",
       "      <th>var</th>\n",
       "      <th>year</th>\n",
       "    </tr>\n",
       "  </thead>\n",
       "  <tbody>\n",
       "    <tr>\n",
       "      <th>0</th>\n",
       "      <td>1</td>\n",
       "      <td>12</td>\n",
       "      <td>2010</td>\n",
       "    </tr>\n",
       "    <tr>\n",
       "      <th>1</th>\n",
       "      <td>2</td>\n",
       "      <td>13</td>\n",
       "      <td>2011</td>\n",
       "    </tr>\n",
       "    <tr>\n",
       "      <th>2</th>\n",
       "      <td>3</td>\n",
       "      <td>23</td>\n",
       "      <td>2012</td>\n",
       "    </tr>\n",
       "    <tr>\n",
       "      <th>3</th>\n",
       "      <td>4</td>\n",
       "      <td>34</td>\n",
       "      <td>2013</td>\n",
       "    </tr>\n",
       "    <tr>\n",
       "      <th>4</th>\n",
       "      <td>5</td>\n",
       "      <td>45</td>\n",
       "      <td>2014</td>\n",
       "    </tr>\n",
       "  </tbody>\n",
       "</table>\n",
       "</div>"
      ],
      "text/plain": [
       "   month  var  year\n",
       "0      1   12  2010\n",
       "1      2   13  2011\n",
       "2      3   23  2012\n",
       "3      4   34  2013\n",
       "4      5   45  2014"
      ]
     },
     "execution_count": 26,
     "metadata": {},
     "output_type": "execute_result"
    }
   ],
   "source": [
    "df2 = pd.DataFrame({'year':[2010,2011,2012,2013,2014], 'month':[1,2,3,4,5], 'var':[12,13,23,34,45]})\n",
    "#df2 = df2.set_index(['year','month'])\n",
    "df2"
   ]
  },
  {
   "cell_type": "code",
   "execution_count": 27,
   "metadata": {
    "scrolled": true
   },
   "outputs": [
    {
     "data": {
      "text/html": [
       "<div>\n",
       "<style>\n",
       "    .dataframe thead tr:only-child th {\n",
       "        text-align: right;\n",
       "    }\n",
       "\n",
       "    .dataframe thead th {\n",
       "        text-align: left;\n",
       "    }\n",
       "\n",
       "    .dataframe tbody tr th {\n",
       "        vertical-align: top;\n",
       "    }\n",
       "</style>\n",
       "<table border=\"1\" class=\"dataframe\">\n",
       "  <thead>\n",
       "    <tr style=\"text-align: right;\">\n",
       "      <th></th>\n",
       "      <th>cat</th>\n",
       "      <th>month</th>\n",
       "      <th>sum</th>\n",
       "      <th>year</th>\n",
       "      <th>var</th>\n",
       "    </tr>\n",
       "  </thead>\n",
       "  <tbody>\n",
       "    <tr>\n",
       "      <th>0</th>\n",
       "      <td>one</td>\n",
       "      <td>1</td>\n",
       "      <td>21</td>\n",
       "      <td>2010</td>\n",
       "      <td>12</td>\n",
       "    </tr>\n",
       "    <tr>\n",
       "      <th>1</th>\n",
       "      <td>two</td>\n",
       "      <td>1</td>\n",
       "      <td>32</td>\n",
       "      <td>2010</td>\n",
       "      <td>12</td>\n",
       "    </tr>\n",
       "    <tr>\n",
       "      <th>2</th>\n",
       "      <td>three</td>\n",
       "      <td>1</td>\n",
       "      <td>33</td>\n",
       "      <td>2010</td>\n",
       "      <td>12</td>\n",
       "    </tr>\n",
       "    <tr>\n",
       "      <th>3</th>\n",
       "      <td>one</td>\n",
       "      <td>2</td>\n",
       "      <td>45</td>\n",
       "      <td>2011</td>\n",
       "      <td>13</td>\n",
       "    </tr>\n",
       "    <tr>\n",
       "      <th>4</th>\n",
       "      <td>two</td>\n",
       "      <td>2</td>\n",
       "      <td>46</td>\n",
       "      <td>2011</td>\n",
       "      <td>13</td>\n",
       "    </tr>\n",
       "  </tbody>\n",
       "</table>\n",
       "</div>"
      ],
      "text/plain": [
       "     cat  month  sum  year  var\n",
       "0    one      1   21  2010   12\n",
       "1    two      1   32  2010   12\n",
       "2  three      1   33  2010   12\n",
       "3    one      2   45  2011   13\n",
       "4    two      2   46  2011   13"
      ]
     },
     "execution_count": 27,
     "metadata": {},
     "output_type": "execute_result"
    }
   ],
   "source": [
    "df3 = pd.merge(df1, df2, left_on=['year', 'month'], right_on=['year', 'month'])\n",
    "df3"
   ]
  },
  {
   "cell_type": "code",
   "execution_count": 29,
   "metadata": {
    "scrolled": true
   },
   "outputs": [
    {
     "data": {
      "text/html": [
       "<div>\n",
       "<style>\n",
       "    .dataframe thead tr:only-child th {\n",
       "        text-align: right;\n",
       "    }\n",
       "\n",
       "    .dataframe thead th {\n",
       "        text-align: left;\n",
       "    }\n",
       "\n",
       "    .dataframe tbody tr th {\n",
       "        vertical-align: top;\n",
       "    }\n",
       "</style>\n",
       "<table border=\"1\" class=\"dataframe\">\n",
       "  <thead>\n",
       "    <tr style=\"text-align: right;\">\n",
       "      <th></th>\n",
       "      <th>cat</th>\n",
       "      <th>month</th>\n",
       "      <th>sum</th>\n",
       "      <th>year</th>\n",
       "      <th>month</th>\n",
       "      <th>var</th>\n",
       "      <th>year</th>\n",
       "    </tr>\n",
       "  </thead>\n",
       "  <tbody>\n",
       "    <tr>\n",
       "      <th>0</th>\n",
       "      <td>one</td>\n",
       "      <td>1</td>\n",
       "      <td>21</td>\n",
       "      <td>2010</td>\n",
       "      <td>1.0</td>\n",
       "      <td>12.0</td>\n",
       "      <td>2010.0</td>\n",
       "    </tr>\n",
       "    <tr>\n",
       "      <th>1</th>\n",
       "      <td>two</td>\n",
       "      <td>1</td>\n",
       "      <td>32</td>\n",
       "      <td>2010</td>\n",
       "      <td>2.0</td>\n",
       "      <td>13.0</td>\n",
       "      <td>2011.0</td>\n",
       "    </tr>\n",
       "    <tr>\n",
       "      <th>2</th>\n",
       "      <td>three</td>\n",
       "      <td>1</td>\n",
       "      <td>33</td>\n",
       "      <td>2010</td>\n",
       "      <td>3.0</td>\n",
       "      <td>23.0</td>\n",
       "      <td>2012.0</td>\n",
       "    </tr>\n",
       "    <tr>\n",
       "      <th>3</th>\n",
       "      <td>one</td>\n",
       "      <td>2</td>\n",
       "      <td>45</td>\n",
       "      <td>2011</td>\n",
       "      <td>4.0</td>\n",
       "      <td>34.0</td>\n",
       "      <td>2013.0</td>\n",
       "    </tr>\n",
       "    <tr>\n",
       "      <th>4</th>\n",
       "      <td>two</td>\n",
       "      <td>2</td>\n",
       "      <td>46</td>\n",
       "      <td>2011</td>\n",
       "      <td>5.0</td>\n",
       "      <td>45.0</td>\n",
       "      <td>2014.0</td>\n",
       "    </tr>\n",
       "    <tr>\n",
       "      <th>5</th>\n",
       "      <td>one</td>\n",
       "      <td>4</td>\n",
       "      <td>98</td>\n",
       "      <td>2014</td>\n",
       "      <td>NaN</td>\n",
       "      <td>NaN</td>\n",
       "      <td>NaN</td>\n",
       "    </tr>\n",
       "    <tr>\n",
       "      <th>6</th>\n",
       "      <td>two</td>\n",
       "      <td>4</td>\n",
       "      <td>67</td>\n",
       "      <td>2014</td>\n",
       "      <td>NaN</td>\n",
       "      <td>NaN</td>\n",
       "      <td>NaN</td>\n",
       "    </tr>\n",
       "    <tr>\n",
       "      <th>7</th>\n",
       "      <td>three</td>\n",
       "      <td>4</td>\n",
       "      <td>34</td>\n",
       "      <td>2014</td>\n",
       "      <td>NaN</td>\n",
       "      <td>NaN</td>\n",
       "      <td>NaN</td>\n",
       "    </tr>\n",
       "  </tbody>\n",
       "</table>\n",
       "</div>"
      ],
      "text/plain": [
       "     cat  month  sum  year  month   var    year\n",
       "0    one      1   21  2010    1.0  12.0  2010.0\n",
       "1    two      1   32  2010    2.0  13.0  2011.0\n",
       "2  three      1   33  2010    3.0  23.0  2012.0\n",
       "3    one      2   45  2011    4.0  34.0  2013.0\n",
       "4    two      2   46  2011    5.0  45.0  2014.0\n",
       "5    one      4   98  2014    NaN   NaN     NaN\n",
       "6    two      4   67  2014    NaN   NaN     NaN\n",
       "7  three      4   34  2014    NaN   NaN     NaN"
      ]
     },
     "execution_count": 29,
     "metadata": {},
     "output_type": "execute_result"
    }
   ],
   "source": [
    "df4 = pd.concat([df1, df2], axis=1)\n",
    "df4"
   ]
  },
  {
   "cell_type": "code",
   "execution_count": 30,
   "metadata": {},
   "outputs": [
    {
     "data": {
      "text/html": [
       "<div>\n",
       "<style>\n",
       "    .dataframe thead tr:only-child th {\n",
       "        text-align: right;\n",
       "    }\n",
       "\n",
       "    .dataframe thead th {\n",
       "        text-align: left;\n",
       "    }\n",
       "\n",
       "    .dataframe tbody tr th {\n",
       "        vertical-align: top;\n",
       "    }\n",
       "</style>\n",
       "<table border=\"1\" class=\"dataframe\">\n",
       "  <thead>\n",
       "    <tr>\n",
       "      <th></th>\n",
       "      <th></th>\n",
       "      <th colspan=\"3\" halign=\"left\">sum</th>\n",
       "    </tr>\n",
       "    <tr>\n",
       "      <th></th>\n",
       "      <th>cat</th>\n",
       "      <th>one</th>\n",
       "      <th>three</th>\n",
       "      <th>two</th>\n",
       "    </tr>\n",
       "    <tr>\n",
       "      <th>year</th>\n",
       "      <th>month</th>\n",
       "      <th></th>\n",
       "      <th></th>\n",
       "      <th></th>\n",
       "    </tr>\n",
       "  </thead>\n",
       "  <tbody>\n",
       "    <tr>\n",
       "      <th>2010</th>\n",
       "      <th>1</th>\n",
       "      <td>21.0</td>\n",
       "      <td>33.0</td>\n",
       "      <td>32.0</td>\n",
       "    </tr>\n",
       "    <tr>\n",
       "      <th>2011</th>\n",
       "      <th>2</th>\n",
       "      <td>45.0</td>\n",
       "      <td>NaN</td>\n",
       "      <td>46.0</td>\n",
       "    </tr>\n",
       "    <tr>\n",
       "      <th>2014</th>\n",
       "      <th>4</th>\n",
       "      <td>98.0</td>\n",
       "      <td>34.0</td>\n",
       "      <td>67.0</td>\n",
       "    </tr>\n",
       "  </tbody>\n",
       "</table>\n",
       "</div>"
      ],
      "text/plain": [
       "             sum            \n",
       "cat          one three   two\n",
       "year month                  \n",
       "2010 1      21.0  33.0  32.0\n",
       "2011 2      45.0   NaN  46.0\n",
       "2014 4      98.0  34.0  67.0"
      ]
     },
     "execution_count": 30,
     "metadata": {},
     "output_type": "execute_result"
    }
   ],
   "source": [
    "df1_shaped = pivot_table(df1, values = ['sum'], columns = ['cat'], index = ['year', 'month'])\n",
    "df1_shaped"
   ]
  },
  {
   "cell_type": "code",
   "execution_count": null,
   "metadata": {
    "collapsed": true
   },
   "outputs": [],
   "source": [
    "# 1st rehsape the train data with pivot table as \n",
    "# categories as columns, and sales as values.\n",
    "# as our target varible is sales of each category in each month, \n",
    "# extract new feature as total sales by adding all the 3 categoriacl sales values.\n"
   ]
  },
  {
   "cell_type": "code",
   "execution_count": null,
   "metadata": {
    "collapsed": true
   },
   "outputs": [],
   "source": []
  },
  {
   "cell_type": "code",
   "execution_count": null,
   "metadata": {
    "collapsed": true
   },
   "outputs": [],
   "source": []
  },
  {
   "cell_type": "code",
   "execution_count": null,
   "metadata": {
    "collapsed": true
   },
   "outputs": [],
   "source": []
  },
  {
   "cell_type": "code",
   "execution_count": null,
   "metadata": {
    "collapsed": true
   },
   "outputs": [],
   "source": []
  },
  {
   "cell_type": "code",
   "execution_count": null,
   "metadata": {
    "collapsed": true
   },
   "outputs": [],
   "source": []
  },
  {
   "cell_type": "code",
   "execution_count": null,
   "metadata": {
    "collapsed": true
   },
   "outputs": [],
   "source": []
  },
  {
   "cell_type": "code",
   "execution_count": null,
   "metadata": {
    "collapsed": true
   },
   "outputs": [],
   "source": []
  },
  {
   "cell_type": "code",
   "execution_count": null,
   "metadata": {
    "collapsed": true
   },
   "outputs": [],
   "source": []
  },
  {
   "cell_type": "code",
   "execution_count": null,
   "metadata": {
    "collapsed": true
   },
   "outputs": [],
   "source": []
  }
 ],
 "metadata": {
  "kernelspec": {
   "display_name": "Python 3",
   "language": "python",
   "name": "python3"
  },
  "language_info": {
   "codemirror_mode": {
    "name": "ipython",
    "version": 3
   },
   "file_extension": ".py",
   "mimetype": "text/x-python",
   "name": "python",
   "nbconvert_exporter": "python",
   "pygments_lexer": "ipython3",
   "version": "3.6.2"
  }
 },
 "nbformat": 4,
 "nbformat_minor": 2
}
