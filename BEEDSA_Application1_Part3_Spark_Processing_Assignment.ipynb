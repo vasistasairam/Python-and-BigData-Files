{
 "cells": [
  {
   "cell_type": "markdown",
   "metadata": {},
   "source": [
    "# Transformations in Spark"
   ]
  },
  {
   "cell_type": "code",
   "execution_count": 1,
   "metadata": {
    "collapsed": true
   },
   "outputs": [],
   "source": [
    "import os\n",
    "import sys\n",
    "os.environ[\"SPARK_HOME\"] = \"/usr/hdp/current/spark2-client\"\n",
    "os.environ[\"PYLIB\"] = os.environ[\"SPARK_HOME\"] + \"/python/lib\"\n",
    "sys.path.insert(0, os.environ[\"PYLIB\"] + \"/py4j-0.10.4-src.zip\")\n",
    "sys.path.insert(0, os.environ[\"PYLIB\"] + \"/pyspark.zip\")"
   ]
  },
  {
   "cell_type": "code",
   "execution_count": 2,
   "metadata": {
    "collapsed": true
   },
   "outputs": [],
   "source": [
    "## Create SparkContext, SparkSession\n",
    "from os.path import expanduser, join, abspath\n",
    "\n",
    "from pyspark.sql import SparkSession\n",
    "from pyspark.sql import Row\n",
    "\n",
    "# warehouse_location points to the default location for managed databases and tables\n",
    "warehouse_location = 'hdfs:///apps/hive/warehouse/'\n",
    "\n",
    "spark = SparkSession \\\n",
    "    .builder \\\n",
    "    .appName(\"Python Spark SQL Hive integration example\") \\\n",
    "    .config(\"spark.sql.warehouse.dir\", warehouse_location) \\\n",
    "    .enableHiveSupport() \\\n",
    "    .getOrCreate()"
   ]
  },
  {
   "cell_type": "code",
   "execution_count": 3,
   "metadata": {},
   "outputs": [
    {
     "data": {
      "text/html": [
       "\n",
       "            <div>\n",
       "                <p><b>SparkSession - hive</b></p>\n",
       "                \n",
       "        <div>\n",
       "            <p><b>SparkContext</b></p>\n",
       "\n",
       "            <p><a href=\"http://r.insofe.edu.in:4043\">Spark UI</a></p>\n",
       "\n",
       "            <dl>\n",
       "              <dt>Version</dt>\n",
       "                <dd><code>v2.3.0.2.6.5.0-292</code></dd>\n",
       "              <dt>Master</dt>\n",
       "                <dd><code>yarn</code></dd>\n",
       "              <dt>AppName</dt>\n",
       "                <dd><code>Python Spark SQL Hive integration example</code></dd>\n",
       "            </dl>\n",
       "        </div>\n",
       "        \n",
       "            </div>\n",
       "        "
      ],
      "text/plain": [
       "<pyspark.sql.session.SparkSession at 0x4008650>"
      ]
     },
     "execution_count": 3,
     "metadata": {},
     "output_type": "execute_result"
    }
   ],
   "source": [
    "# Verify Spark Driver\n",
    "spark"
   ]
  },
  {
   "cell_type": "markdown",
   "metadata": {},
   "source": [
    "Now there are 6 tables available in HIVE, in the database *insofe_empdb**\n",
    "\n",
    "Access these tables and process the data"
   ]
  },
  {
   "cell_type": "markdown",
   "metadata": {},
   "source": [
    "#### Verify HIVE the Data in Hive"
   ]
  },
  {
   "cell_type": "code",
   "execution_count": 4,
   "metadata": {},
   "outputs": [
    {
     "data": {
      "text/plain": [
       "DataFrame[]"
      ]
     },
     "execution_count": 4,
     "metadata": {},
     "output_type": "execute_result"
    }
   ],
   "source": [
    "# insofe_empdb\n"
   ]
  },
  {
   "cell_type": "markdown",
   "metadata": {},
   "source": [
    "#### Verify/List all the tables in the above database"
   ]
  },
  {
   "cell_type": "code",
   "execution_count": 5,
   "metadata": {
    "scrolled": true
   },
   "outputs": [
    {
     "name": "stdout",
     "output_type": "stream",
     "text": [
      "+------------+------------+-----------+\n",
      "|    database|   tableName|isTemporary|\n",
      "+------------+------------+-----------+\n",
      "|insofe_empdb| departments|      false|\n",
      "|insofe_empdb|    dept_emp|      false|\n",
      "|insofe_empdb|dept_manager|      false|\n",
      "|insofe_empdb|   employees|      false|\n",
      "|insofe_empdb|    salaries|      false|\n",
      "|insofe_empdb|      titles|      false|\n",
      "+------------+------------+-----------+\n",
      "\n"
     ]
    }
   ],
   "source": []
  },
  {
   "cell_type": "markdown",
   "metadata": {},
   "source": [
    "#### Create DataFrame for departments data from departments table in HIVE"
   ]
  },
  {
   "cell_type": "code",
   "execution_count": 6,
   "metadata": {
    "collapsed": true
   },
   "outputs": [],
   "source": []
  },
  {
   "cell_type": "markdown",
   "metadata": {},
   "source": [
    "#### Verify the departments DataFrame"
   ]
  },
  {
   "cell_type": "code",
   "execution_count": 7,
   "metadata": {
    "scrolled": true
   },
   "outputs": [
    {
     "name": "stdout",
     "output_type": "stream",
     "text": [
      "+-------+------------------+-------------------+\n",
      "|dept_no|         dept_name|      last_modified|\n",
      "+-------+------------------+-------------------+\n",
      "|   d001|         Marketing|2013-01-28 23:59:59|\n",
      "|   d002|           Finance|2013-01-28 23:59:59|\n",
      "|   d003|   Human Resources|2013-01-28 23:59:59|\n",
      "|   d004|        Production|2013-01-28 23:59:59|\n",
      "|   d005|       Development|2013-01-28 23:59:59|\n",
      "|   d006|Quality Management|2013-01-28 23:59:59|\n",
      "|   d007|             Sales|2013-01-28 23:59:59|\n",
      "|   d008|          Research|2013-01-28 23:59:59|\n",
      "|   d009|  Customer Service|2013-01-28 23:59:59|\n",
      "|   d010|         Analytics|2019-01-03 11:13:06|\n",
      "+-------+------------------+-------------------+\n",
      "\n"
     ]
    }
   ],
   "source": []
  },
  {
   "cell_type": "markdown",
   "metadata": {},
   "source": [
    "#### Verify the Schema of deparaments DataFrame"
   ]
  },
  {
   "cell_type": "code",
   "execution_count": 8,
   "metadata": {},
   "outputs": [
    {
     "name": "stdout",
     "output_type": "stream",
     "text": [
      "root\n",
      " |-- dept_no: string (nullable = true)\n",
      " |-- dept_name: string (nullable = true)\n",
      " |-- last_modified: timestamp (nullable = true)\n",
      "\n"
     ]
    }
   ],
   "source": []
  },
  {
   "cell_type": "markdown",
   "metadata": {},
   "source": [
    "#### Create DataFrame for departments&employees from dept_emp table in HIVE\n",
    "<br>For each employee his/her respective department is available in dept_emp table\n",
    "<br>An employee might move/work in different times in his/her tenure\n",
    "<br>So, there will be multiple records for an employee (with different departments in different time periods)\n",
    "<br>At any time an employee must be active, only in one department and this can be identified with to_date of '9999-01-01'"
   ]
  },
  {
   "cell_type": "code",
   "execution_count": 9,
   "metadata": {
    "collapsed": true
   },
   "outputs": [],
   "source": []
  },
  {
   "cell_type": "markdown",
   "metadata": {},
   "source": [
    "#### Verify the departments&employees DataFrame"
   ]
  },
  {
   "cell_type": "code",
   "execution_count": 10,
   "metadata": {},
   "outputs": [
    {
     "name": "stdout",
     "output_type": "stream",
     "text": [
      "+------+------+-------+----------+----------+-------------------+\n",
      "|seq_no|emp_no|dept_no| from_date|   to_date|      last_modified|\n",
      "+------+------+-------+----------+----------+-------------------+\n",
      "|     1|     1|   d001|1986-01-01|9999-01-01|2013-01-28 23:59:59|\n",
      "|    10|    10|   d002|1986-01-14|9999-01-01|2013-01-28 23:59:59|\n",
      "|   100|    94|   d004|1994-05-26|1999-04-29|2013-01-28 23:59:59|\n",
      "|  1000|   909|   d009|1988-09-12|9999-01-01|2013-01-28 23:59:59|\n",
      "+------+------+-------+----------+----------+-------------------+\n",
      "only showing top 4 rows\n",
      "\n"
     ]
    }
   ],
   "source": []
  },
  {
   "cell_type": "markdown",
   "metadata": {},
   "source": [
    "#### Verify the schema for departments&employees DataFrame"
   ]
  },
  {
   "cell_type": "code",
   "execution_count": 11,
   "metadata": {
    "scrolled": true
   },
   "outputs": [
    {
     "name": "stdout",
     "output_type": "stream",
     "text": [
      "root\n",
      " |-- seq_no: integer (nullable = true)\n",
      " |-- emp_no: integer (nullable = true)\n",
      " |-- dept_no: string (nullable = true)\n",
      " |-- from_date: string (nullable = true)\n",
      " |-- to_date: string (nullable = true)\n",
      " |-- last_modified: timestamp (nullable = true)\n",
      "\n"
     ]
    }
   ],
   "source": []
  },
  {
   "cell_type": "markdown",
   "metadata": {},
   "source": [
    "#### Total Count in departments&employees DataFrame"
   ]
  },
  {
   "cell_type": "code",
   "execution_count": 12,
   "metadata": {},
   "outputs": [
    {
     "data": {
      "text/plain": [
       "341603"
      ]
     },
     "execution_count": 12,
     "metadata": {},
     "output_type": "execute_result"
    }
   ],
   "source": []
  },
  {
   "cell_type": "markdown",
   "metadata": {},
   "source": [
    "#### Filter only the active records from the above DataFrame\n"
   ]
  },
  {
   "cell_type": "code",
   "execution_count": 13,
   "metadata": {
    "collapsed": true
   },
   "outputs": [],
   "source": []
  },
  {
   "cell_type": "markdown",
   "metadata": {},
   "source": [
    "#### Active employees count"
   ]
  },
  {
   "cell_type": "code",
   "execution_count": 14,
   "metadata": {
    "scrolled": true
   },
   "outputs": [
    {
     "data": {
      "text/plain": [
       "250124"
      ]
     },
     "execution_count": 14,
     "metadata": {},
     "output_type": "execute_result"
    }
   ],
   "source": []
  },
  {
   "cell_type": "code",
   "execution_count": 15,
   "metadata": {
    "scrolled": true
   },
   "outputs": [
    {
     "data": {
      "text/plain": [
       "[('seq_no', 'int'),\n",
       " ('emp_no', 'int'),\n",
       " ('dept_no', 'string'),\n",
       " ('from_date', 'string'),\n",
       " ('to_date', 'string'),\n",
       " ('last_modified', 'timestamp')]"
      ]
     },
     "execution_count": 15,
     "metadata": {},
     "output_type": "execute_result"
    }
   ],
   "source": []
  },
  {
   "cell_type": "markdown",
   "metadata": {},
   "source": [
    "#### Remove unnecessary columns"
   ]
  },
  {
   "cell_type": "code",
   "execution_count": 16,
   "metadata": {
    "scrolled": true
   },
   "outputs": [
    {
     "data": {
      "text/plain": [
       "[('emp_no', 'int'),\n",
       " ('dept_no', 'string'),\n",
       " ('from_date', 'string'),\n",
       " ('to_date', 'string')]"
      ]
     },
     "execution_count": 16,
     "metadata": {},
     "output_type": "execute_result"
    }
   ],
   "source": []
  },
  {
   "cell_type": "markdown",
   "metadata": {},
   "source": [
    "#### Make the DataFrame available in in-memory"
   ]
  },
  {
   "cell_type": "code",
   "execution_count": 17,
   "metadata": {},
   "outputs": [
    {
     "data": {
      "text/plain": [
       "DataFrame[emp_no: int, dept_no: string, from_date: string, to_date: string]"
      ]
     },
     "execution_count": 17,
     "metadata": {},
     "output_type": "execute_result"
    }
   ],
   "source": []
  },
  {
   "cell_type": "markdown",
   "metadata": {},
   "source": [
    "#### Create DataFrame for departments&managers data from dept_manager table in HIVE\n",
    "<br>For each department respective manager's employee number is available in dept_manager table\n",
    "<br>A department may have multiple manager's \n",
    "<br>So, there will be multiple records for a department (with different employee number's for different time periods)\n",
    "<br>At any time an there will be only one active manager for each department and is can be identified by to_date value '9999-01-01'"
   ]
  },
  {
   "cell_type": "code",
   "execution_count": 18,
   "metadata": {
    "collapsed": true
   },
   "outputs": [],
   "source": []
  },
  {
   "cell_type": "markdown",
   "metadata": {},
   "source": [
    "#### Verify the departments&managers DataFrame"
   ]
  },
  {
   "cell_type": "code",
   "execution_count": 19,
   "metadata": {},
   "outputs": [
    {
     "name": "stdout",
     "output_type": "stream",
     "text": [
      "+------+-------+------+----------+----------+-------------------+\n",
      "|seq_no|dept_no|emp_no| from_date|   to_date|      last_modified|\n",
      "+------+-------+------+----------+----------+-------------------+\n",
      "|     1|   d001|     1|1986-01-01|1992-10-01|2013-01-28 23:59:59|\n",
      "|    10|   d002|    10|1990-12-17|9999-01-01|2013-01-28 23:59:59|\n",
      "|    11|   d003| 19827|1993-03-21|9999-01-01|2013-01-28 23:59:59|\n",
      "|    12|   d004| 31345|1990-09-09|1994-08-02|2013-01-28 23:59:59|\n",
      "+------+-------+------+----------+----------+-------------------+\n",
      "only showing top 4 rows\n",
      "\n"
     ]
    }
   ],
   "source": []
  },
  {
   "cell_type": "markdown",
   "metadata": {},
   "source": [
    "#### Verify the schema for departments&managers DataFrame"
   ]
  },
  {
   "cell_type": "code",
   "execution_count": 20,
   "metadata": {
    "scrolled": true
   },
   "outputs": [
    {
     "name": "stdout",
     "output_type": "stream",
     "text": [
      "root\n",
      " |-- seq_no: integer (nullable = true)\n",
      " |-- dept_no: string (nullable = true)\n",
      " |-- emp_no: integer (nullable = true)\n",
      " |-- from_date: string (nullable = true)\n",
      " |-- to_date: string (nullable = true)\n",
      " |-- last_modified: timestamp (nullable = true)\n",
      "\n"
     ]
    }
   ],
   "source": []
  },
  {
   "cell_type": "markdown",
   "metadata": {},
   "source": [
    "#### Total Count in departments&managers DataFrame"
   ]
  },
  {
   "cell_type": "code",
   "execution_count": 21,
   "metadata": {},
   "outputs": [
    {
     "data": {
      "text/plain": [
       "25"
      ]
     },
     "execution_count": 21,
     "metadata": {},
     "output_type": "execute_result"
    }
   ],
   "source": []
  },
  {
   "cell_type": "markdown",
   "metadata": {},
   "source": [
    "#### Filter only the active records from above DataFrame\n",
    "<br>Though there are only total 10 departments, but there are 25 records (manager records) exists, \n",
    "<br>remove the inactive records\n"
   ]
  },
  {
   "cell_type": "code",
   "execution_count": 22,
   "metadata": {
    "collapsed": true
   },
   "outputs": [],
   "source": []
  },
  {
   "cell_type": "markdown",
   "metadata": {},
   "source": [
    "#### Verify the records count from the above DataFrame"
   ]
  },
  {
   "cell_type": "code",
   "execution_count": 23,
   "metadata": {},
   "outputs": [
    {
     "data": {
      "text/plain": [
       "10"
      ]
     },
     "execution_count": 23,
     "metadata": {},
     "output_type": "execute_result"
    }
   ],
   "source": []
  },
  {
   "cell_type": "markdown",
   "metadata": {},
   "source": [
    "#### Verify for  columns"
   ]
  },
  {
   "cell_type": "code",
   "execution_count": 24,
   "metadata": {
    "scrolled": true
   },
   "outputs": [
    {
     "data": {
      "text/plain": [
       "[('seq_no', 'int'),\n",
       " ('dept_no', 'string'),\n",
       " ('emp_no', 'int'),\n",
       " ('from_date', 'string'),\n",
       " ('to_date', 'string'),\n",
       " ('last_modified', 'timestamp')]"
      ]
     },
     "execution_count": 24,
     "metadata": {},
     "output_type": "execute_result"
    }
   ],
   "source": []
  },
  {
   "cell_type": "markdown",
   "metadata": {},
   "source": [
    "#### rename the columns as necessary"
   ]
  },
  {
   "cell_type": "code",
   "execution_count": 25,
   "metadata": {
    "collapsed": true
   },
   "outputs": [],
   "source": []
  },
  {
   "cell_type": "markdown",
   "metadata": {},
   "source": [
    "#### Verify the above DataFrame"
   ]
  },
  {
   "cell_type": "code",
   "execution_count": 26,
   "metadata": {},
   "outputs": [
    {
     "name": "stdout",
     "output_type": "stream",
     "text": [
      "+-------+----------+-------------+\n",
      "|dept_no|mgr_emp_no|mgr_from_date|\n",
      "+-------+----------+-------------+\n",
      "|   d002|        10|   1990-12-17|\n",
      "|   d003|     19827|   1993-03-21|\n",
      "|   d001|     45502|   1993-10-01|\n",
      "|   d005|     64439|   1995-04-25|\n",
      "+-------+----------+-------------+\n",
      "only showing top 4 rows\n",
      "\n"
     ]
    }
   ],
   "source": []
  },
  {
   "cell_type": "markdown",
   "metadata": {},
   "source": [
    "#### Create DataFrame for employees data from employees table in HIVE"
   ]
  },
  {
   "cell_type": "code",
   "execution_count": 27,
   "metadata": {
    "collapsed": true
   },
   "outputs": [],
   "source": []
  },
  {
   "cell_type": "markdown",
   "metadata": {},
   "source": [
    "#### Verify employees DataFrame"
   ]
  },
  {
   "cell_type": "code",
   "execution_count": 28,
   "metadata": {},
   "outputs": [
    {
     "name": "stdout",
     "output_type": "stream",
     "text": [
      "+------+----------+----------+------------+------+----------+-------------------+\n",
      "|emp_no|birth_date|first_name|   last_name|gender| hire_date|      last_modified|\n",
      "+------+----------+----------+------------+------+----------+-------------------+\n",
      "|     1|1958-09-12| Margareta|  Markovitch|     M|1986-01-01|2013-01-28 23:59:59|\n",
      "|     2|1961-10-28|      Ebru|       Alpin|     M|1986-01-01|2013-01-28 23:59:59|\n",
      "|     3|1955-06-24|   Shirish|Ossenbruggen|     F|1986-01-01|2013-01-28 23:59:59|\n",
      "|     4|1958-06-08| Krassimir|     Wegerle|     F|1986-01-01|2013-01-28 23:59:59|\n",
      "+------+----------+----------+------------+------+----------+-------------------+\n",
      "only showing top 4 rows\n",
      "\n"
     ]
    }
   ],
   "source": []
  },
  {
   "cell_type": "markdown",
   "metadata": {},
   "source": [
    "#### Verify schema of employees DataFrame"
   ]
  },
  {
   "cell_type": "code",
   "execution_count": 29,
   "metadata": {},
   "outputs": [
    {
     "name": "stdout",
     "output_type": "stream",
     "text": [
      "root\n",
      " |-- emp_no: integer (nullable = true)\n",
      " |-- birth_date: string (nullable = true)\n",
      " |-- first_name: string (nullable = true)\n",
      " |-- last_name: string (nullable = true)\n",
      " |-- gender: string (nullable = true)\n",
      " |-- hire_date: string (nullable = true)\n",
      " |-- last_modified: timestamp (nullable = true)\n",
      "\n"
     ]
    }
   ],
   "source": []
  },
  {
   "cell_type": "markdown",
   "metadata": {},
   "source": [
    "#### Remove unwanted columns - last_modified"
   ]
  },
  {
   "cell_type": "code",
   "execution_count": 30,
   "metadata": {
    "collapsed": true
   },
   "outputs": [],
   "source": []
  },
  {
   "cell_type": "markdown",
   "metadata": {},
   "source": [
    "#### Verify above DataFrame"
   ]
  },
  {
   "cell_type": "code",
   "execution_count": 31,
   "metadata": {},
   "outputs": [
    {
     "name": "stdout",
     "output_type": "stream",
     "text": [
      "+------+----------+----------+------------+------+----------+\n",
      "|emp_no|birth_date|first_name|   last_name|gender| hire_date|\n",
      "+------+----------+----------+------------+------+----------+\n",
      "|     1|1958-09-12| Margareta|  Markovitch|     M|1986-01-01|\n",
      "|     2|1961-10-28|      Ebru|       Alpin|     M|1986-01-01|\n",
      "|     3|1955-06-24|   Shirish|Ossenbruggen|     F|1986-01-01|\n",
      "|     4|1958-06-08| Krassimir|     Wegerle|     F|1986-01-01|\n",
      "+------+----------+----------+------------+------+----------+\n",
      "only showing top 4 rows\n",
      "\n"
     ]
    }
   ],
   "source": []
  },
  {
   "cell_type": "markdown",
   "metadata": {},
   "source": [
    "#### Create DataFrame for salaries data from salaries table in HIVE"
   ]
  },
  {
   "cell_type": "code",
   "execution_count": 32,
   "metadata": {
    "collapsed": true
   },
   "outputs": [],
   "source": []
  },
  {
   "cell_type": "markdown",
   "metadata": {},
   "source": [
    "#### Verify salaries DataFrame"
   ]
  },
  {
   "cell_type": "code",
   "execution_count": 33,
   "metadata": {},
   "outputs": [
    {
     "name": "stdout",
     "output_type": "stream",
     "text": [
      "+------+------+------+----------+----------+-------------------+\n",
      "|seq_no|emp_no|salary| from_date|   to_date|      last_modified|\n",
      "+------+------+------+----------+----------+-------------------+\n",
      "|     1|     1| 70166|1986-01-01|1987-01-01|2013-01-28 23:59:59|\n",
      "|    10|     1| 91165|1994-12-30|1995-12-30|2013-01-28 23:59:59|\n",
      "|   100|     6| 84203|1994-12-30|1995-12-30|2013-01-28 23:59:59|\n",
      "|  1000|    73| 39000|1997-11-25|1998-11-25|2013-01-28 23:59:59|\n",
      "+------+------+------+----------+----------+-------------------+\n",
      "only showing top 4 rows\n",
      "\n"
     ]
    }
   ],
   "source": []
  },
  {
   "cell_type": "markdown",
   "metadata": {},
   "source": [
    "#### Verify schema of salaries DataFrame"
   ]
  },
  {
   "cell_type": "code",
   "execution_count": 34,
   "metadata": {},
   "outputs": [
    {
     "name": "stdout",
     "output_type": "stream",
     "text": [
      "root\n",
      " |-- seq_no: integer (nullable = true)\n",
      " |-- emp_no: integer (nullable = true)\n",
      " |-- salary: integer (nullable = true)\n",
      " |-- from_date: string (nullable = true)\n",
      " |-- to_date: string (nullable = true)\n",
      " |-- last_modified: timestamp (nullable = true)\n",
      "\n"
     ]
    }
   ],
   "source": []
  },
  {
   "cell_type": "markdown",
   "metadata": {},
   "source": [
    "#### Verify count of records in salaries DataFrame"
   ]
  },
  {
   "cell_type": "code",
   "execution_count": 35,
   "metadata": {},
   "outputs": [
    {
     "data": {
      "text/plain": [
       "2854047"
      ]
     },
     "execution_count": 35,
     "metadata": {},
     "output_type": "execute_result"
    }
   ],
   "source": []
  },
  {
   "cell_type": "markdown",
   "metadata": {},
   "source": [
    "#### Filter only the active records from above DataFrame"
   ]
  },
  {
   "cell_type": "code",
   "execution_count": 36,
   "metadata": {
    "collapsed": true
   },
   "outputs": [],
   "source": []
  },
  {
   "cell_type": "markdown",
   "metadata": {},
   "source": [
    "#### Verify the record count"
   ]
  },
  {
   "cell_type": "code",
   "execution_count": 37,
   "metadata": {},
   "outputs": [
    {
     "data": {
      "text/plain": [
       "250124"
      ]
     },
     "execution_count": 37,
     "metadata": {},
     "output_type": "execute_result"
    }
   ],
   "source": []
  },
  {
   "cell_type": "code",
   "execution_count": 38,
   "metadata": {
    "scrolled": true
   },
   "outputs": [
    {
     "data": {
      "text/plain": [
       "[('seq_no', 'int'),\n",
       " ('emp_no', 'int'),\n",
       " ('salary', 'int'),\n",
       " ('from_date', 'string'),\n",
       " ('to_date', 'string'),\n",
       " ('last_modified', 'timestamp')]"
      ]
     },
     "execution_count": 38,
     "metadata": {},
     "output_type": "execute_result"
    }
   ],
   "source": []
  },
  {
   "cell_type": "markdown",
   "metadata": {},
   "source": [
    "#### Remove and rename unnecessary columns"
   ]
  },
  {
   "cell_type": "code",
   "execution_count": 39,
   "metadata": {
    "collapsed": true
   },
   "outputs": [],
   "source": []
  },
  {
   "cell_type": "code",
   "execution_count": 40,
   "metadata": {},
   "outputs": [
    {
     "data": {
      "text/plain": [
       "[('emp_no', 'int'), ('salary', 'int'), ('sal_from_date', 'string')]"
      ]
     },
     "execution_count": 40,
     "metadata": {},
     "output_type": "execute_result"
    }
   ],
   "source": []
  },
  {
   "cell_type": "markdown",
   "metadata": {},
   "source": [
    "#### Create titles DataFrame for the titles table in HIVE"
   ]
  },
  {
   "cell_type": "code",
   "execution_count": 41,
   "metadata": {
    "collapsed": true
   },
   "outputs": [],
   "source": []
  },
  {
   "cell_type": "markdown",
   "metadata": {},
   "source": [
    "#### Verify titles DataFrame"
   ]
  },
  {
   "cell_type": "code",
   "execution_count": 42,
   "metadata": {
    "scrolled": true
   },
   "outputs": [
    {
     "name": "stdout",
     "output_type": "stream",
     "text": [
      "+------+------+----------------+----------+----------+-------------------+\n",
      "|seq_no|emp_no|           title| from_date|   to_date|      last_modified|\n",
      "+------+------+----------------+----------+----------+-------------------+\n",
      "|     1|     1|         Manager|1986-01-01|1992-10-01|2013-01-28 23:59:59|\n",
      "|    10|     5|Technique Leader|1993-04-25|9999-01-01|2013-01-28 23:59:59|\n",
      "|   100|    60|           Staff|1997-11-02|9999-01-01|2013-01-28 23:59:59|\n",
      "|  1000|   620|        Engineer|1996-09-15|2003-03-20|2013-01-28 23:59:59|\n",
      "+------+------+----------------+----------+----------+-------------------+\n",
      "only showing top 4 rows\n",
      "\n"
     ]
    }
   ],
   "source": []
  },
  {
   "cell_type": "markdown",
   "metadata": {},
   "source": [
    "#### Verify titles DataFrame schema"
   ]
  },
  {
   "cell_type": "code",
   "execution_count": 43,
   "metadata": {},
   "outputs": [
    {
     "name": "stdout",
     "output_type": "stream",
     "text": [
      "root\n",
      " |-- seq_no: integer (nullable = true)\n",
      " |-- emp_no: integer (nullable = true)\n",
      " |-- title: string (nullable = true)\n",
      " |-- from_date: string (nullable = true)\n",
      " |-- to_date: string (nullable = true)\n",
      " |-- last_modified: timestamp (nullable = true)\n",
      "\n"
     ]
    }
   ],
   "source": []
  },
  {
   "cell_type": "markdown",
   "metadata": {},
   "source": [
    "#### Verify records count in the above DataFrame"
   ]
  },
  {
   "cell_type": "code",
   "execution_count": 44,
   "metadata": {},
   "outputs": [
    {
     "data": {
      "text/plain": [
       "453308"
      ]
     },
     "execution_count": 44,
     "metadata": {},
     "output_type": "execute_result"
    }
   ],
   "source": []
  },
  {
   "cell_type": "markdown",
   "metadata": {},
   "source": [
    "#### Filter active records from the above DataFrame"
   ]
  },
  {
   "cell_type": "code",
   "execution_count": 45,
   "metadata": {
    "collapsed": true
   },
   "outputs": [],
   "source": []
  },
  {
   "cell_type": "code",
   "execution_count": 46,
   "metadata": {
    "scrolled": true
   },
   "outputs": [
    {
     "data": {
      "text/plain": [
       "[('seq_no', 'int'),\n",
       " ('emp_no', 'int'),\n",
       " ('title', 'string'),\n",
       " ('from_date', 'string'),\n",
       " ('to_date', 'string'),\n",
       " ('last_modified', 'timestamp')]"
      ]
     },
     "execution_count": 46,
     "metadata": {},
     "output_type": "execute_result"
    }
   ],
   "source": []
  },
  {
   "cell_type": "markdown",
   "metadata": {},
   "source": [
    "#### Remove and rename the columns as necessary"
   ]
  },
  {
   "cell_type": "code",
   "execution_count": 47,
   "metadata": {
    "collapsed": true
   },
   "outputs": [],
   "source": []
  },
  {
   "cell_type": "code",
   "execution_count": 48,
   "metadata": {},
   "outputs": [
    {
     "data": {
      "text/plain": [
       "[('emp_no', 'int'), ('title', 'string'), ('title_from_date', 'string')]"
      ]
     },
     "execution_count": 48,
     "metadata": {},
     "output_type": "execute_result"
    }
   ],
   "source": []
  },
  {
   "cell_type": "markdown",
   "metadata": {},
   "source": [
    "#### Join department and departments_manager s DataFrames\n",
    "Result will have each department and corresponding manager's employee no"
   ]
  },
  {
   "cell_type": "code",
   "execution_count": 49,
   "metadata": {
    "collapsed": true
   },
   "outputs": [],
   "source": []
  },
  {
   "cell_type": "code",
   "execution_count": 50,
   "metadata": {
    "scrolled": false
   },
   "outputs": [
    {
     "name": "stdout",
     "output_type": "stream",
     "text": [
      "+-------+------------------+-------------------+----------+-------------+\n",
      "|dept_no|         dept_name|      last_modified|mgr_emp_no|mgr_from_date|\n",
      "+-------+------------------+-------------------+----------+-------------+\n",
      "|   d002|           Finance|2013-01-28 23:59:59|        10|   1990-12-17|\n",
      "|   d003|   Human Resources|2013-01-28 23:59:59|     19827|   1993-03-21|\n",
      "|   d001|         Marketing|2013-01-28 23:59:59|     45502|   1993-10-01|\n",
      "|   d005|       Development|2013-01-28 23:59:59|     64439|   1995-04-25|\n",
      "|   d007|             Sales|2013-01-28 23:59:59|     71341|   1994-03-07|\n",
      "|   d008|          Research|2013-01-28 23:59:59|    107706|   1996-04-08|\n",
      "|   d006|Quality Management|2013-01-28 23:59:59|    149081|   2000-06-28|\n",
      "|   d009|  Customer Service|2013-01-28 23:59:59|    151543|   2003-01-03|\n",
      "|   d004|        Production|2013-01-28 23:59:59|    215054|   2005-08-30|\n",
      "|   d010|         Analytics|2019-01-03 11:13:06|    300030|   2013-01-29|\n",
      "+-------+------------------+-------------------+----------+-------------+\n",
      "\n"
     ]
    }
   ],
   "source": []
  },
  {
   "cell_type": "markdown",
   "metadata": {},
   "source": [
    "#### Find the manager's details by joining above DataFrame with employee's details using emp_no"
   ]
  },
  {
   "cell_type": "code",
   "execution_count": 51,
   "metadata": {
    "scrolled": true
   },
   "outputs": [
    {
     "data": {
      "text/plain": [
       "[('dept_no', 'string'),\n",
       " ('dept_name', 'string'),\n",
       " ('last_modified', 'timestamp'),\n",
       " ('mgr_emp_no', 'int'),\n",
       " ('mgr_from_date', 'string')]"
      ]
     },
     "execution_count": 51,
     "metadata": {},
     "output_type": "execute_result"
    }
   ],
   "source": []
  },
  {
   "cell_type": "code",
   "execution_count": 52,
   "metadata": {},
   "outputs": [
    {
     "data": {
      "text/plain": [
       "[('emp_no', 'int'),\n",
       " ('birth_date', 'string'),\n",
       " ('first_name', 'string'),\n",
       " ('last_name', 'string'),\n",
       " ('gender', 'string'),\n",
       " ('hire_date', 'string')]"
      ]
     },
     "execution_count": 52,
     "metadata": {},
     "output_type": "execute_result"
    }
   ],
   "source": []
  },
  {
   "cell_type": "code",
   "execution_count": 53,
   "metadata": {
    "collapsed": true
   },
   "outputs": [],
   "source": []
  },
  {
   "cell_type": "code",
   "execution_count": 54,
   "metadata": {
    "collapsed": true
   },
   "outputs": [],
   "source": []
  },
  {
   "cell_type": "code",
   "execution_count": 55,
   "metadata": {},
   "outputs": [
    {
     "data": {
      "text/plain": [
       "[('dept_no', 'string'),\n",
       " ('dept_name', 'string'),\n",
       " ('last_modified', 'timestamp'),\n",
       " ('mgr_emp_no', 'int'),\n",
       " ('mgr_from_date', 'string'),\n",
       " ('emp_no', 'int'),\n",
       " ('birth_date', 'string'),\n",
       " ('first_name', 'string'),\n",
       " ('last_name', 'string'),\n",
       " ('gender', 'string'),\n",
       " ('hire_date', 'string')]"
      ]
     },
     "execution_count": 55,
     "metadata": {},
     "output_type": "execute_result"
    }
   ],
   "source": []
  },
  {
   "cell_type": "code",
   "execution_count": 56,
   "metadata": {
    "scrolled": true
   },
   "outputs": [
    {
     "name": "stdout",
     "output_type": "stream",
     "text": [
      "+-------+---------------+-------------------+----------+-------------+------+----------+----------+----------+------+----------+\n",
      "|dept_no|      dept_name|      last_modified|mgr_emp_no|mgr_from_date|emp_no|birth_date|first_name| last_name|gender| hire_date|\n",
      "+-------+---------------+-------------------+----------+-------------+------+----------+----------+----------+------+----------+\n",
      "|   d002|        Finance|2013-01-28 23:59:59|        10|   1990-12-17|    10|1959-03-28|     Isamu|Legleitner|     F|1986-01-14|\n",
      "|   d003|Human Resources|2013-01-28 23:59:59|     19827|   1993-03-21| 19827|1960-12-02|   Karsten|   Sigstam|     F|1986-08-04|\n",
      "|   d001|      Marketing|2013-01-28 23:59:59|     45502|   1993-10-01| 45502|1967-06-21|  Vishwani|  Minakawa|     M|1988-04-12|\n",
      "|   d005|    Development|2013-01-28 23:59:59|     64439|   1995-04-25| 64439|1970-04-25|      Leon|  DasSarma|     F|1989-10-21|\n",
      "+-------+---------------+-------------------+----------+-------------+------+----------+----------+----------+------+----------+\n",
      "only showing top 4 rows\n",
      "\n"
     ]
    }
   ],
   "source": []
  },
  {
   "cell_type": "markdown",
   "metadata": {},
   "source": [
    "#### Rename columns as necessary"
   ]
  },
  {
   "cell_type": "code",
   "execution_count": 57,
   "metadata": {
    "collapsed": true
   },
   "outputs": [],
   "source": [
    "from pyspark.sql.functions import col\n",
    "\n",
    "replacements = {'birth_date' : 'mgr_birth_date', \n",
    "                'first_name' : 'mgr_first_name',\n",
    "                'last_name' : 'mgr_last_name',\n",
    "                'gender' : 'mgr_gender',\n",
    "                'hire_date' : 'mgr_hire_date'\n",
    "               }\n"
   ]
  },
  {
   "cell_type": "markdown",
   "metadata": {},
   "source": [
    "#### Verify above DataFrame"
   ]
  },
  {
   "cell_type": "code",
   "execution_count": 58,
   "metadata": {
    "scrolled": true
   },
   "outputs": [
    {
     "name": "stdout",
     "output_type": "stream",
     "text": [
      "+-------+---------------+-------------------+----------+-------------+------+--------------+--------------+-------------+----------+-------------+\n",
      "|dept_no|      dept_name|      last_modified|mgr_emp_no|mgr_from_date|emp_no|mgr_birth_date|mgr_first_name|mgr_last_name|mgr_gender|mgr_hire_date|\n",
      "+-------+---------------+-------------------+----------+-------------+------+--------------+--------------+-------------+----------+-------------+\n",
      "|   d002|        Finance|2013-01-28 23:59:59|        10|   1990-12-17|    10|    1959-03-28|         Isamu|   Legleitner|         F|   1986-01-14|\n",
      "|   d003|Human Resources|2013-01-28 23:59:59|     19827|   1993-03-21| 19827|    1960-12-02|       Karsten|      Sigstam|         F|   1986-08-04|\n",
      "|   d001|      Marketing|2013-01-28 23:59:59|     45502|   1993-10-01| 45502|    1967-06-21|      Vishwani|     Minakawa|         M|   1988-04-12|\n",
      "|   d005|    Development|2013-01-28 23:59:59|     64439|   1995-04-25| 64439|    1970-04-25|          Leon|     DasSarma|         F|   1989-10-21|\n",
      "+-------+---------------+-------------------+----------+-------------+------+--------------+--------------+-------------+----------+-------------+\n",
      "only showing top 4 rows\n",
      "\n"
     ]
    }
   ],
   "source": []
  },
  {
   "cell_type": "markdown",
   "metadata": {},
   "source": [
    "#### Remove unwanted columns"
   ]
  },
  {
   "cell_type": "code",
   "execution_count": 59,
   "metadata": {
    "collapsed": true
   },
   "outputs": [],
   "source": [
    "'last_modified', 'emp_no'"
   ]
  },
  {
   "cell_type": "code",
   "execution_count": 60,
   "metadata": {},
   "outputs": [
    {
     "data": {
      "text/plain": [
       "[('dept_no', 'string'),\n",
       " ('dept_name', 'string'),\n",
       " ('mgr_emp_no', 'int'),\n",
       " ('mgr_from_date', 'string'),\n",
       " ('mgr_birth_date', 'string'),\n",
       " ('mgr_first_name', 'string'),\n",
       " ('mgr_last_name', 'string'),\n",
       " ('mgr_gender', 'string'),\n",
       " ('mgr_hire_date', 'string')]"
      ]
     },
     "execution_count": 60,
     "metadata": {},
     "output_type": "execute_result"
    }
   ],
   "source": []
  },
  {
   "cell_type": "code",
   "execution_count": 61,
   "metadata": {},
   "outputs": [
    {
     "name": "stdout",
     "output_type": "stream",
     "text": [
      "+-------+---------------+----------+-------------+--------------+--------------+-------------+----------+-------------+\n",
      "|dept_no|      dept_name|mgr_emp_no|mgr_from_date|mgr_birth_date|mgr_first_name|mgr_last_name|mgr_gender|mgr_hire_date|\n",
      "+-------+---------------+----------+-------------+--------------+--------------+-------------+----------+-------------+\n",
      "|   d002|        Finance|        10|   1990-12-17|    1959-03-28|         Isamu|   Legleitner|         F|   1986-01-14|\n",
      "|   d003|Human Resources|     19827|   1993-03-21|    1960-12-02|       Karsten|      Sigstam|         F|   1986-08-04|\n",
      "|   d001|      Marketing|     45502|   1993-10-01|    1967-06-21|      Vishwani|     Minakawa|         M|   1988-04-12|\n",
      "|   d005|    Development|     64439|   1995-04-25|    1970-04-25|          Leon|     DasSarma|         F|   1989-10-21|\n",
      "+-------+---------------+----------+-------------+--------------+--------------+-------------+----------+-------------+\n",
      "only showing top 4 rows\n",
      "\n"
     ]
    }
   ],
   "source": []
  },
  {
   "cell_type": "markdown",
   "metadata": {},
   "source": [
    "#### Join employees DataFrame with departments&employee DataFrame\n",
    "<br>Join employeesDF and active_dept_empDF based on emp_no\n",
    "<br>result DataFrame of the above is employee and his/her corresponding department"
   ]
  },
  {
   "cell_type": "code",
   "execution_count": 62,
   "metadata": {},
   "outputs": [
    {
     "data": {
      "text/plain": [
       "[('emp_no', 'int'),\n",
       " ('birth_date', 'string'),\n",
       " ('first_name', 'string'),\n",
       " ('last_name', 'string'),\n",
       " ('gender', 'string'),\n",
       " ('hire_date', 'string')]"
      ]
     },
     "execution_count": 62,
     "metadata": {},
     "output_type": "execute_result"
    }
   ],
   "source": [
    "employeesDF.dtypes"
   ]
  },
  {
   "cell_type": "code",
   "execution_count": 63,
   "metadata": {
    "scrolled": true
   },
   "outputs": [
    {
     "data": {
      "text/plain": [
       "[('emp_no', 'int'),\n",
       " ('dept_no', 'string'),\n",
       " ('from_date', 'string'),\n",
       " ('to_date', 'string')]"
      ]
     },
     "execution_count": 63,
     "metadata": {},
     "output_type": "execute_result"
    }
   ],
   "source": [
    "active_dept_empDF.dtypes"
   ]
  },
  {
   "cell_type": "code",
   "execution_count": 64,
   "metadata": {
    "collapsed": true
   },
   "outputs": [],
   "source": []
  },
  {
   "cell_type": "markdown",
   "metadata": {},
   "source": [
    "#### Verify the above result DataFrame"
   ]
  },
  {
   "cell_type": "code",
   "execution_count": 65,
   "metadata": {},
   "outputs": [
    {
     "name": "stdout",
     "output_type": "stream",
     "text": [
      "+------+-------+----------+----------+----------+----------+---------+------+----------+\n",
      "|emp_no|dept_no| from_date|   to_date|birth_date|first_name|last_name|gender| hire_date|\n",
      "+------+-------+----------+----------+----------+----------+---------+------+----------+\n",
      "|   148|   d005|1986-02-03|9999-01-01|1960-03-11|    Feipei| Nollmann|     M|1986-02-03|\n",
      "|   463|   d008|1986-02-06|9999-01-01|1955-04-15|Dharmaraja| Sadowsky|     M|1986-02-06|\n",
      "|   496|   d006|2001-09-02|9999-01-01|1964-03-29|      Mari|    Rotem|     M|1986-02-06|\n",
      "|   833|   d005|1994-03-25|9999-01-01|1961-09-14|      Huan|  Preusig|     M|1986-02-09|\n",
      "+------+-------+----------+----------+----------+----------+---------+------+----------+\n",
      "only showing top 4 rows\n",
      "\n"
     ]
    }
   ],
   "source": []
  },
  {
   "cell_type": "markdown",
   "metadata": {},
   "source": [
    "#### Rename the columns"
   ]
  },
  {
   "cell_type": "code",
   "execution_count": 66,
   "metadata": {
    "collapsed": true
   },
   "outputs": [],
   "source": [
    "from pyspark.sql.functions import col\n",
    "\n",
    "replacements = {\n",
    "    'from_date' : 'dept_from_date',\n",
    "    'birth_date' : 'emp_birth_date',\n",
    "    'first_name' : 'emp_first_name',\n",
    "    'last_name' : 'emp_last_name',\n",
    "    'gender' : 'emp_gender',\n",
    "    'hire_date' : 'emp_hire_date'\n",
    "}\n",
    "\n"
   ]
  },
  {
   "cell_type": "markdown",
   "metadata": {},
   "source": [
    "#### Verify DataFrame"
   ]
  },
  {
   "cell_type": "code",
   "execution_count": 67,
   "metadata": {
    "scrolled": true
   },
   "outputs": [
    {
     "name": "stdout",
     "output_type": "stream",
     "text": [
      "+------+-------+--------------+----------+--------------+--------------+-------------+----------+-------------+\n",
      "|emp_no|dept_no|dept_from_date|   to_date|emp_birth_date|emp_first_name|emp_last_name|emp_gender|emp_hire_date|\n",
      "+------+-------+--------------+----------+--------------+--------------+-------------+----------+-------------+\n",
      "|     1|   d001|    1986-01-01|9999-01-01|    1958-09-12|     Margareta|   Markovitch|         M|   1986-01-01|\n",
      "|     2|   d002|    1986-01-01|9999-01-01|    1961-10-28|          Ebru|        Alpin|         M|   1986-01-01|\n",
      "|     3|   d003|    1986-01-01|9999-01-01|    1955-06-24|       Shirish| Ossenbruggen|         F|   1986-01-01|\n",
      "|     4|   d004|    1986-01-01|9999-01-01|    1958-06-08|     Krassimir|      Wegerle|         F|   1986-01-01|\n",
      "+------+-------+--------------+----------+--------------+--------------+-------------+----------+-------------+\n",
      "only showing top 4 rows\n",
      "\n"
     ]
    }
   ],
   "source": []
  },
  {
   "cell_type": "markdown",
   "metadata": {},
   "source": [
    "#### Verify active records count"
   ]
  },
  {
   "cell_type": "code",
   "execution_count": 68,
   "metadata": {},
   "outputs": [
    {
     "data": {
      "text/plain": [
       "250124"
      ]
     },
     "execution_count": 68,
     "metadata": {},
     "output_type": "execute_result"
    }
   ],
   "source": []
  },
  {
   "cell_type": "markdown",
   "metadata": {},
   "source": [
    "#### Create a DataFrame with employees and respective manager's details"
   ]
  },
  {
   "cell_type": "markdown",
   "metadata": {},
   "source": [
    "<br>DataFrame **emp_deptDF** contains all the active employees along with the their department\n",
    "<br>DataFrame **dept_curr_mgr_detailsDF** contains all the departments its manager''s details\n",
    "<br>Join these two DataFrames based on the dept_no, to result a DataFrame with employee''s along with the manager''s details."
   ]
  },
  {
   "cell_type": "code",
   "execution_count": 69,
   "metadata": {},
   "outputs": [
    {
     "data": {
      "text/plain": [
       "[('emp_no', 'int'),\n",
       " ('dept_no', 'string'),\n",
       " ('dept_from_date', 'string'),\n",
       " ('to_date', 'string'),\n",
       " ('emp_birth_date', 'string'),\n",
       " ('emp_first_name', 'string'),\n",
       " ('emp_last_name', 'string'),\n",
       " ('emp_gender', 'string'),\n",
       " ('emp_hire_date', 'string')]"
      ]
     },
     "execution_count": 69,
     "metadata": {},
     "output_type": "execute_result"
    }
   ],
   "source": []
  },
  {
   "cell_type": "code",
   "execution_count": 70,
   "metadata": {
    "scrolled": true
   },
   "outputs": [
    {
     "data": {
      "text/plain": [
       "250124"
      ]
     },
     "execution_count": 70,
     "metadata": {},
     "output_type": "execute_result"
    }
   ],
   "source": [
    "emp_deptDF.count()"
   ]
  },
  {
   "cell_type": "code",
   "execution_count": 71,
   "metadata": {
    "scrolled": true
   },
   "outputs": [
    {
     "data": {
      "text/plain": [
       "[('dept_no', 'string'),\n",
       " ('dept_name', 'string'),\n",
       " ('mgr_emp_no', 'int'),\n",
       " ('mgr_from_date', 'string'),\n",
       " ('mgr_birth_date', 'string'),\n",
       " ('mgr_first_name', 'string'),\n",
       " ('mgr_last_name', 'string'),\n",
       " ('mgr_gender', 'string'),\n",
       " ('mgr_hire_date', 'string')]"
      ]
     },
     "execution_count": 71,
     "metadata": {},
     "output_type": "execute_result"
    }
   ],
   "source": [
    "dept_curr_mgr_detailsDF.dtypes"
   ]
  },
  {
   "cell_type": "code",
   "execution_count": 72,
   "metadata": {
    "scrolled": true
   },
   "outputs": [
    {
     "data": {
      "text/plain": [
       "10"
      ]
     },
     "execution_count": 72,
     "metadata": {},
     "output_type": "execute_result"
    }
   ],
   "source": [
    "dept_curr_mgr_detailsDF.count()"
   ]
  },
  {
   "cell_type": "markdown",
   "metadata": {},
   "source": [
    "#### Join by broadcasting the smaller table - efficient join"
   ]
  },
  {
   "cell_type": "code",
   "execution_count": 73,
   "metadata": {
    "collapsed": true
   },
   "outputs": [],
   "source": [
    "from pyspark.sql.functions import broadcast\n",
    "active_emp_dept_mgrDF = emp_deptDF.join()"
   ]
  },
  {
   "cell_type": "markdown",
   "metadata": {},
   "source": [
    "#### Verify the DataFrame"
   ]
  },
  {
   "cell_type": "code",
   "execution_count": 74,
   "metadata": {},
   "outputs": [
    {
     "name": "stdout",
     "output_type": "stream",
     "text": [
      "+-------+------+--------------+----------+--------------+--------------+-------------+----------+-------------+---------------+----------+-------------+--------------+--------------+-------------+----------+-------------+\n",
      "|dept_no|emp_no|dept_from_date|   to_date|emp_birth_date|emp_first_name|emp_last_name|emp_gender|emp_hire_date|      dept_name|mgr_emp_no|mgr_from_date|mgr_birth_date|mgr_first_name|mgr_last_name|mgr_gender|mgr_hire_date|\n",
      "+-------+------+--------------+----------+--------------+--------------+-------------+----------+-------------+---------------+----------+-------------+--------------+--------------+-------------+----------+-------------+\n",
      "|   d001|     1|    1986-01-01|9999-01-01|    1958-09-12|     Margareta|   Markovitch|         M|   1986-01-01|      Marketing|     45502|   1993-10-01|    1967-06-21|      Vishwani|     Minakawa|         M|   1988-04-12|\n",
      "|   d002|     2|    1986-01-01|9999-01-01|    1961-10-28|          Ebru|        Alpin|         M|   1986-01-01|        Finance|        10|   1990-12-17|    1959-03-28|         Isamu|   Legleitner|         F|   1986-01-14|\n",
      "|   d003|     3|    1986-01-01|9999-01-01|    1955-06-24|       Shirish| Ossenbruggen|         F|   1986-01-01|Human Resources|     19827|   1993-03-21|    1960-12-02|       Karsten|      Sigstam|         F|   1986-08-04|\n",
      "|   d004|     4|    1986-01-01|9999-01-01|    1958-06-08|     Krassimir|      Wegerle|         F|   1986-01-01|     Production|    215054|   2005-08-30|    1981-07-27|         Oscar|     Ghazalie|         M|   2001-02-05|\n",
      "+-------+------+--------------+----------+--------------+--------------+-------------+----------+-------------+---------------+----------+-------------+--------------+--------------+-------------+----------+-------------+\n",
      "only showing top 4 rows\n",
      "\n"
     ]
    }
   ],
   "source": []
  },
  {
   "cell_type": "markdown",
   "metadata": {},
   "source": [
    "#### Verify the counts"
   ]
  },
  {
   "cell_type": "code",
   "execution_count": 75,
   "metadata": {
    "scrolled": true
   },
   "outputs": [
    {
     "data": {
      "text/plain": [
       "250124"
      ]
     },
     "execution_count": 75,
     "metadata": {},
     "output_type": "execute_result"
    }
   ],
   "source": []
  },
  {
   "cell_type": "markdown",
   "metadata": {},
   "source": [
    "#### Make the DataFrame available in in-memory"
   ]
  },
  {
   "cell_type": "code",
   "execution_count": 76,
   "metadata": {},
   "outputs": [
    {
     "data": {
      "text/plain": [
       "DataFrame[dept_no: string, emp_no: int, dept_from_date: string, to_date: string, emp_birth_date: string, emp_first_name: string, emp_last_name: string, emp_gender: string, emp_hire_date: string, dept_name: string, mgr_emp_no: int, mgr_from_date: string, mgr_birth_date: string, mgr_first_name: string, mgr_last_name: string, mgr_gender: string, mgr_hire_date: string]"
      ]
     },
     "execution_count": 76,
     "metadata": {},
     "output_type": "execute_result"
    }
   ],
   "source": []
  },
  {
   "cell_type": "markdown",
   "metadata": {},
   "source": [
    "#### Join Salaries and Titles DataFrames\n",
    "<br>**active_salariesDF** DataFrame contains the current salaries details of active employees\n",
    "<br>**active_titlesDF** DataFrame contains the current titles/designation details of active employees\n",
    "<br>join these two DataFrames based on the emp_no \n",
    "<br>result is DataFrame consists of all active employees along with their salaries and titles details"
   ]
  },
  {
   "cell_type": "code",
   "execution_count": 77,
   "metadata": {},
   "outputs": [
    {
     "data": {
      "text/plain": [
       "[('emp_no', 'int'), ('salary', 'int'), ('sal_from_date', 'string')]"
      ]
     },
     "execution_count": 77,
     "metadata": {},
     "output_type": "execute_result"
    }
   ],
   "source": []
  },
  {
   "cell_type": "code",
   "execution_count": 78,
   "metadata": {},
   "outputs": [
    {
     "data": {
      "text/plain": [
       "[('emp_no', 'int'), ('title', 'string'), ('title_from_date', 'string')]"
      ]
     },
     "execution_count": 78,
     "metadata": {},
     "output_type": "execute_result"
    }
   ],
   "source": []
  },
  {
   "cell_type": "code",
   "execution_count": 79,
   "metadata": {},
   "outputs": [
    {
     "data": {
      "text/plain": [
       "DataFrame[emp_no: int, title: string, title_from_date: string]"
      ]
     },
     "execution_count": 79,
     "metadata": {},
     "output_type": "execute_result"
    }
   ],
   "source": []
  },
  {
   "cell_type": "code",
   "execution_count": 80,
   "metadata": {
    "collapsed": true
   },
   "outputs": [],
   "source": []
  },
  {
   "cell_type": "markdown",
   "metadata": {},
   "source": [
    "#### Verify the DataFrame"
   ]
  },
  {
   "cell_type": "code",
   "execution_count": 81,
   "metadata": {},
   "outputs": [
    {
     "name": "stdout",
     "output_type": "stream",
     "text": [
      "+------+------+-------------+---------------+---------------+\n",
      "|emp_no|salary|sal_from_date|          title|title_from_date|\n",
      "+------+------+-------------+---------------+---------------+\n",
      "|   148|121640|   2003-01-30|Senior Engineer|     1993-02-04|\n",
      "|   463| 63130|   2003-02-02|   Senior Staff|     1986-02-06|\n",
      "|   496| 50281|   2002-08-16|       Engineer|     2000-08-17|\n",
      "|   833| 52747|   2003-03-23|Senior Engineer|     1994-03-25|\n",
      "+------+------+-------------+---------------+---------------+\n",
      "only showing top 4 rows\n",
      "\n"
     ]
    }
   ],
   "source": []
  },
  {
   "cell_type": "markdown",
   "metadata": {},
   "source": [
    "#### Verify record count"
   ]
  },
  {
   "cell_type": "code",
   "execution_count": 82,
   "metadata": {},
   "outputs": [
    {
     "data": {
      "text/plain": [
       "250124"
      ]
     },
     "execution_count": 82,
     "metadata": {},
     "output_type": "execute_result"
    }
   ],
   "source": []
  },
  {
   "cell_type": "code",
   "execution_count": 83,
   "metadata": {},
   "outputs": [
    {
     "data": {
      "text/plain": [
       "DataFrame[emp_no: int, salary: int, sal_from_date: string, title: string, title_from_date: string]"
      ]
     },
     "execution_count": 83,
     "metadata": {},
     "output_type": "execute_result"
    }
   ],
   "source": []
  },
  {
   "cell_type": "markdown",
   "metadata": {},
   "source": [
    "#### Final Join \n",
    "<br>By now there are 2 DataFrames\n",
    "<br>**active_emp_dept_mgrDF** consists of all active employees along with the manager''s details.\n",
    "<br>**emp_sal_titlesDF** consists of the current salary and titles details for all the active employees.\n",
    "<br>join these two DataFrames to result a DataFrame with all the details for all active employees"
   ]
  },
  {
   "cell_type": "code",
   "execution_count": 84,
   "metadata": {},
   "outputs": [
    {
     "data": {
      "text/plain": [
       "250124"
      ]
     },
     "execution_count": 84,
     "metadata": {},
     "output_type": "execute_result"
    }
   ],
   "source": []
  },
  {
   "cell_type": "code",
   "execution_count": 85,
   "metadata": {
    "scrolled": true
   },
   "outputs": [
    {
     "data": {
      "text/plain": [
       "[('dept_no', 'string'),\n",
       " ('emp_no', 'int'),\n",
       " ('dept_from_date', 'string'),\n",
       " ('to_date', 'string'),\n",
       " ('emp_birth_date', 'string'),\n",
       " ('emp_first_name', 'string'),\n",
       " ('emp_last_name', 'string'),\n",
       " ('emp_gender', 'string'),\n",
       " ('emp_hire_date', 'string'),\n",
       " ('dept_name', 'string'),\n",
       " ('mgr_emp_no', 'int'),\n",
       " ('mgr_from_date', 'string'),\n",
       " ('mgr_birth_date', 'string'),\n",
       " ('mgr_first_name', 'string'),\n",
       " ('mgr_last_name', 'string'),\n",
       " ('mgr_gender', 'string'),\n",
       " ('mgr_hire_date', 'string')]"
      ]
     },
     "execution_count": 85,
     "metadata": {},
     "output_type": "execute_result"
    }
   ],
   "source": []
  },
  {
   "cell_type": "code",
   "execution_count": 86,
   "metadata": {},
   "outputs": [
    {
     "data": {
      "text/plain": [
       "250124"
      ]
     },
     "execution_count": 86,
     "metadata": {},
     "output_type": "execute_result"
    }
   ],
   "source": []
  },
  {
   "cell_type": "code",
   "execution_count": 87,
   "metadata": {
    "scrolled": true
   },
   "outputs": [
    {
     "data": {
      "text/plain": [
       "[('emp_no', 'int'),\n",
       " ('salary', 'int'),\n",
       " ('sal_from_date', 'string'),\n",
       " ('title', 'string'),\n",
       " ('title_from_date', 'string')]"
      ]
     },
     "execution_count": 87,
     "metadata": {},
     "output_type": "execute_result"
    }
   ],
   "source": []
  },
  {
   "cell_type": "code",
   "execution_count": 88,
   "metadata": {},
   "outputs": [
    {
     "data": {
      "text/plain": [
       "DataFrame[dept_no: string, emp_no: int, dept_from_date: string, to_date: string, emp_birth_date: string, emp_first_name: string, emp_last_name: string, emp_gender: string, emp_hire_date: string, dept_name: string, mgr_emp_no: int, mgr_from_date: string, mgr_birth_date: string, mgr_first_name: string, mgr_last_name: string, mgr_gender: string, mgr_hire_date: string]"
      ]
     },
     "execution_count": 88,
     "metadata": {},
     "output_type": "execute_result"
    }
   ],
   "source": []
  },
  {
   "cell_type": "code",
   "execution_count": 89,
   "metadata": {
    "collapsed": true
   },
   "outputs": [],
   "source": []
  },
  {
   "cell_type": "code",
   "execution_count": 90,
   "metadata": {},
   "outputs": [
    {
     "data": {
      "text/plain": [
       "DataFrame[emp_no: int, dept_no: string, dept_from_date: string, to_date: string, emp_birth_date: string, emp_first_name: string, emp_last_name: string, emp_gender: string, emp_hire_date: string, dept_name: string, mgr_emp_no: int, mgr_from_date: string, mgr_birth_date: string, mgr_first_name: string, mgr_last_name: string, mgr_gender: string, mgr_hire_date: string, salary: int, sal_from_date: string, title: string, title_from_date: string]"
      ]
     },
     "execution_count": 90,
     "metadata": {},
     "output_type": "execute_result"
    }
   ],
   "source": [
    "### Cache the employee details fro the above steps"
   ]
  },
  {
   "cell_type": "markdown",
   "metadata": {},
   "source": [
    "#### Verify DataFrame"
   ]
  },
  {
   "cell_type": "code",
   "execution_count": 91,
   "metadata": {
    "scrolled": true
   },
   "outputs": [
    {
     "name": "stdout",
     "output_type": "stream",
     "text": [
      "+------+-------+--------------+----------+--------------+--------------+-------------+----------+-------------+------------------+----------+-------------+--------------+--------------+-------------+----------+-------------+------+-------------+---------------+---------------+\n",
      "|emp_no|dept_no|dept_from_date|   to_date|emp_birth_date|emp_first_name|emp_last_name|emp_gender|emp_hire_date|         dept_name|mgr_emp_no|mgr_from_date|mgr_birth_date|mgr_first_name|mgr_last_name|mgr_gender|mgr_hire_date|salary|sal_from_date|          title|title_from_date|\n",
      "+------+-------+--------------+----------+--------------+--------------+-------------+----------+-------------+------------------+----------+-------------+--------------+--------------+-------------+----------+-------------+------+-------------+---------------+---------------+\n",
      "|   148|   d005|    1986-02-03|9999-01-01|    1960-03-11|        Feipei|     Nollmann|         M|   1986-02-03|       Development|     64439|   1995-04-25|    1970-04-25|          Leon|     DasSarma|         F|   1989-10-21|121640|   2003-01-30|Senior Engineer|     1993-02-04|\n",
      "|   463|   d008|    1986-02-06|9999-01-01|    1955-04-15|    Dharmaraja|     Sadowsky|         M|   1986-02-06|          Research|    107706|   1996-04-08|    1962-06-27|        Hilary|       Kambil|         F|   1993-01-31| 63130|   2003-02-02|   Senior Staff|     1986-02-06|\n",
      "|   496|   d006|    2001-09-02|9999-01-01|    1964-03-29|          Mari|        Rotem|         M|   1986-02-06|Quality Management|    149081|   2000-06-28|    1972-08-19|          Dung|        Pesch|         M|   1995-06-09| 50281|   2002-08-16|       Engineer|     2000-08-17|\n",
      "|   833|   d005|    1994-03-25|9999-01-01|    1961-09-14|          Huan|      Preusig|         M|   1986-02-09|       Development|     64439|   1995-04-25|    1970-04-25|          Leon|     DasSarma|         F|   1989-10-21| 52747|   2003-03-23|Senior Engineer|     1994-03-25|\n",
      "+------+-------+--------------+----------+--------------+--------------+-------------+----------+-------------+------------------+----------+-------------+--------------+--------------+-------------+----------+-------------+------+-------------+---------------+---------------+\n",
      "only showing top 4 rows\n",
      "\n"
     ]
    }
   ],
   "source": []
  },
  {
   "cell_type": "markdown",
   "metadata": {},
   "source": [
    "#### Derive additional columns such as\n",
    "-  emp_age = current_date - emp_birth_date\n",
    "-  emp_tenure = current_date - emp_hire_date\n",
    "-  mgr_age = current_date - mgr_birth_date\n",
    "-  mgr_tenure = current_date - mgr_hire_date\n",
    "-  salary_since = current_date - sal_from_date\n",
    "-  role_since = current_date - title_from_date\n",
    "-  emp_dept_tenure = current_date - dept_from_date\n",
    "-  mgr_dept_tenure = current_date - mgr_from_date"
   ]
  },
  {
   "cell_type": "markdown",
   "metadata": {},
   "source": [
    "#### Create a temporary table/view to perform sql queries"
   ]
  },
  {
   "cell_type": "code",
   "execution_count": 92,
   "metadata": {
    "collapsed": true
   },
   "outputs": [],
   "source": []
  },
  {
   "cell_type": "code",
   "execution_count": 93,
   "metadata": {
    "scrolled": true
   },
   "outputs": [
    {
     "data": {
      "text/plain": [
       "[('emp_no', 'int'),\n",
       " ('dept_no', 'string'),\n",
       " ('dept_from_date', 'string'),\n",
       " ('to_date', 'string'),\n",
       " ('emp_birth_date', 'string'),\n",
       " ('emp_first_name', 'string'),\n",
       " ('emp_last_name', 'string'),\n",
       " ('emp_gender', 'string'),\n",
       " ('emp_hire_date', 'string'),\n",
       " ('dept_name', 'string'),\n",
       " ('mgr_emp_no', 'int'),\n",
       " ('mgr_from_date', 'string'),\n",
       " ('mgr_birth_date', 'string'),\n",
       " ('mgr_first_name', 'string'),\n",
       " ('mgr_last_name', 'string'),\n",
       " ('mgr_gender', 'string'),\n",
       " ('mgr_hire_date', 'string'),\n",
       " ('salary', 'int'),\n",
       " ('sal_from_date', 'string'),\n",
       " ('title', 'string'),\n",
       " ('title_from_date', 'string')]"
      ]
     },
     "execution_count": 93,
     "metadata": {},
     "output_type": "execute_result"
    }
   ],
   "source": []
  },
  {
   "cell_type": "markdown",
   "metadata": {},
   "source": [
    "#### Change the order of the columns with the select and derive the columns as necessary"
   ]
  },
  {
   "cell_type": "code",
   "execution_count": 94,
   "metadata": {
    "collapsed": true
   },
   "outputs": [],
   "source": []
  },
  {
   "cell_type": "markdown",
   "metadata": {},
   "source": [
    "#### Verify the DataFrame"
   ]
  },
  {
   "cell_type": "code",
   "execution_count": 95,
   "metadata": {},
   "outputs": [
    {
     "name": "stdout",
     "output_type": "stream",
     "text": [
      "+------+--------------+-------------+----------+--------------+-------------+-------+----------+------+-------------+------------+---------------+---------------+----------+-------+------------------+--------------+---------------+----------+--------------+-------------+----------+--------------+-------------+-------------+-------+----------+---------------+\n",
      "|emp_no|emp_first_name|emp_last_name|emp_gender|emp_birth_date|emp_hire_date|emp_age|emp_tenure|salary|sal_from_date|salary_since|          title|title_from_date|role_since|dept_no|         dept_name|dept_from_date|emp_dept_tenure|mgr_emp_no|mgr_first_name|mgr_last_name|mgr_gender|mgr_birth_date|mgr_hire_date|mgr_from_date|mgr_age|mgr_tenure|mgr_dept_tenure|\n",
      "+------+--------------+-------------+----------+--------------+-------------+-------+----------+------+-------------+------------+---------------+---------------+----------+-------+------------------+--------------+---------------+----------+--------------+-------------+----------+--------------+-------------+-------------+-------+----------+---------------+\n",
      "|   148|        Feipei|     Nollmann|         M|    1960-03-11|   1986-02-03|   59.0|      33.0|121640|   2003-01-30|        16.0|Senior Engineer|     1993-02-04|      26.0|   d005|       Development|    1986-02-03|           33.0|     64439|          Leon|     DasSarma|         F|    1970-04-25|   1989-10-21|   1995-04-25|   49.0|      29.0|           24.0|\n",
      "|   463|    Dharmaraja|     Sadowsky|         M|    1955-04-15|   1986-02-06|   64.0|      33.0| 63130|   2003-02-02|        16.0|   Senior Staff|     1986-02-06|      33.0|   d008|          Research|    1986-02-06|           33.0|    107706|        Hilary|       Kambil|         F|    1962-06-27|   1993-01-31|   1996-04-08|   57.0|      26.0|           23.0|\n",
      "|   496|          Mari|        Rotem|         M|    1964-03-29|   1986-02-06|   55.0|      33.0| 50281|   2002-08-16|        16.0|       Engineer|     2000-08-17|      18.0|   d006|Quality Management|    2001-09-02|           17.0|    149081|          Dung|        Pesch|         M|    1972-08-19|   1995-06-09|   2000-06-28|   46.0|      24.0|           19.0|\n",
      "|   833|          Huan|      Preusig|         M|    1961-09-14|   1986-02-09|   57.0|      33.0| 52747|   2003-03-23|        16.0|Senior Engineer|     1994-03-25|      25.0|   d005|       Development|    1994-03-25|           25.0|     64439|          Leon|     DasSarma|         F|    1970-04-25|   1989-10-21|   1995-04-25|   49.0|      29.0|           24.0|\n",
      "+------+--------------+-------------+----------+--------------+-------------+-------+----------+------+-------------+------------+---------------+---------------+----------+-------+------------------+--------------+---------------+----------+--------------+-------------+----------+--------------+-------------+-------------+-------+----------+---------------+\n",
      "only showing top 4 rows\n",
      "\n"
     ]
    }
   ],
   "source": []
  },
  {
   "cell_type": "markdown",
   "metadata": {},
   "source": [
    "#### Write the DataFrame to the persistent storage - HDFS"
   ]
  },
  {
   "cell_type": "code",
   "execution_count": 97,
   "metadata": {
    "collapsed": true
   },
   "outputs": [],
   "source": []
  },
  {
   "cell_type": "code",
   "execution_count": 98,
   "metadata": {},
   "outputs": [
    {
     "data": {
      "text/plain": [
       "DataFrame[emp_no: int, emp_first_name: string, emp_last_name: string, emp_gender: string, emp_birth_date: string, emp_hire_date: string, emp_age: double, emp_tenure: double, salary: int, sal_from_date: string, salary_since: double, title: string, title_from_date: string, role_since: double, dept_no: string, dept_name: string, dept_from_date: string, emp_dept_tenure: double, mgr_emp_no: int, mgr_first_name: string, mgr_last_name: string, mgr_gender: string, mgr_birth_date: string, mgr_hire_date: string, mgr_from_date: string, mgr_age: double, mgr_tenure: double, mgr_dept_tenure: double]"
      ]
     },
     "execution_count": 98,
     "metadata": {},
     "output_type": "execute_result"
    }
   ],
   "source": []
  },
  {
   "cell_type": "code",
   "execution_count": 99,
   "metadata": {},
   "outputs": [
    {
     "data": {
      "text/plain": [
       "250124"
      ]
     },
     "execution_count": 99,
     "metadata": {},
     "output_type": "execute_result"
    }
   ],
   "source": []
  },
  {
   "cell_type": "markdown",
   "metadata": {},
   "source": [
    "### Aggregated Data\n",
    "#### Create the Aggregations\n",
    "-  Based on Department\n",
    "-  Based on Department and Gender"
   ]
  },
  {
   "cell_type": "markdown",
   "metadata": {},
   "source": [
    "#### Aggregate based on department"
   ]
  },
  {
   "cell_type": "code",
   "execution_count": 100,
   "metadata": {
    "collapsed": true
   },
   "outputs": [],
   "source": [
    "from pyspark.sql import functions as F\n",
    "\n"
   ]
  },
  {
   "cell_type": "code",
   "execution_count": 101,
   "metadata": {
    "scrolled": true
   },
   "outputs": [
    {
     "data": {
      "text/plain": [
       "DataFrame[dept_no: string, Min_Salary: int, Max_Salary: int, Mean_Salary: double, Total_Employees: bigint, StdDev_Salary: double, Total_salary: bigint, Min_Age: double, Max_Age: double, Mean_Age: double, Min_Tenure: double, Max_Tenure: double, Mean_Tenure: double, Mean_Salary_Since: double, Mean_Role_Since: double]"
      ]
     },
     "execution_count": 101,
     "metadata": {},
     "output_type": "execute_result"
    }
   ],
   "source": []
  },
  {
   "cell_type": "code",
   "execution_count": 102,
   "metadata": {
    "scrolled": true
   },
   "outputs": [
    {
     "name": "stdout",
     "output_type": "stream",
     "text": [
      "+-------+----------+----------+------------------+---------------+------------------+------------+-------+-------+-----------------+----------+----------+------------------+------------------+------------------+\n",
      "|dept_no|Min_Salary|Max_Salary|       Mean_Salary|Total_Employees|     StdDev_Salary|Total_salary|Min_Age|Max_Age|         Mean_Age|Min_Tenure|Max_Tenure|       Mean_Tenure| Mean_Salary_Since|   Mean_Role_Since|\n",
      "+-------+----------+----------+------------------+---------------+------------------+------------+-------+-------+-----------------+----------+----------+------------------+------------------+------------------+\n",
      "|   d005|     12582|    142434|61388.935342615165|          62344|16393.484361748524|  3827231785|   24.0|   67.0|47.32471448736045|       2.0|      33.0|22.188470422173747|10.353506351854229|16.145852046708583|\n",
      "|   d009|     12505|    142950| 61567.09564047363|          18580| 19054.43215811306|  1143916637|   24.0|   67.0|  46.901345532831|       2.0|      33.0|21.454520990312165|10.094025834230354|15.484499461786868|\n",
      "|   d003|     12669|    140953|58621.627125972904|          13876|17636.231843258673|   813433698|   24.0|   66.0|46.69904871720957|       2.0|      33.0| 21.12143268953589| 9.966344767944653|15.211660420870567|\n",
      "|   d001|     12501|    144128| 73716.20280959312|          15803| 20121.25951278335|  1164937153|   24.0|   67.0|46.75030057584003|       2.0|      33.0| 21.29760172119218| 10.03208251597798|15.335822312219198|\n",
      "|   d007|     12524|    157220|  82163.1371330952|          38634|19680.750681990234|  3174290640|   24.0|   67.0|47.21858984314335|       2.0|      33.0| 22.00649686804369|10.283247916343118|15.829554278614692|\n",
      "|   d004|     12568|    137497| 61653.83507737656|          54280|16490.602664837803|  3346570168|   24.0|   67.0|47.33596168017686|       2.0|      33.0|22.153426676492263| 10.34274134119381| 16.16939941046426|\n",
      "|   d010|     12567|    137498| 76304.74850299401|           1002| 36296.40611115701|    76457358|   24.0|   49.0|36.23353293413174|       2.0|       6.0| 3.961077844311377| 3.961077844311377| 3.961077844311377|\n",
      "|   d002|     12701|    141395| 72330.34274492368|          13494|20223.466108891476|   976025645|   24.0|   66.0|46.65443900993034|       2.0|      33.0|21.030532088335555|  9.94642063139173|15.173410404624278|\n",
      "|   d006|     12596|    137308|60143.686778493524|          15679|17906.764461726165|   942992865|   24.0|   67.0|46.69985330697111|       2.0|      33.0|21.095733146246573|  9.96600548504369|15.463167293832514|\n",
      "|   d008|     12817|    137344|  62241.2610150925|          16432|18057.399737068663|  1022748401|   24.0|   67.0|46.83148734177215|       2.0|      33.0|21.349987828627068|10.058300876338851|15.452896786757547|\n",
      "+-------+----------+----------+------------------+---------------+------------------+------------+-------+-------+-----------------+----------+----------+------------------+------------------+------------------+\n",
      "\n"
     ]
    }
   ],
   "source": []
  },
  {
   "cell_type": "markdown",
   "metadata": {},
   "source": [
    "#### Aggregation based on Department and Gender"
   ]
  },
  {
   "cell_type": "code",
   "execution_count": 103,
   "metadata": {
    "collapsed": true
   },
   "outputs": [],
   "source": []
  },
  {
   "cell_type": "code",
   "execution_count": 104,
   "metadata": {},
   "outputs": [
    {
     "name": "stdout",
     "output_type": "stream",
     "text": [
      "+-------+----------+----------+----------+------------------+---------------+------------------+------------+-------+-------+------------------+----------+----------+------------------+------------------+------------------+\n",
      "|dept_no|emp_gender|Min_Salary|Max_Salary|       Mean_Salary|Total_Employees|     StdDev_Salary|Total_salary|Min_Age|Max_Age|          Mean_Age|Min_Tenure|Max_Tenure|       Mean_Tenure| Mean_Salary_Since|   Mean_Role_Since|\n",
      "+-------+----------+----------+----------+------------------+---------------+------------------+------------+-------+-------+------------------+----------+----------+------------------+------------------+------------------+\n",
      "|   d006|         M|     12596|    137308| 59807.84364820847|           9210|17371.741914549355|   550830240|   24.0|   67.0| 46.86775244299674|       2.0|      33.0|21.369815418023887|10.063517915309447|15.623669923995656|\n",
      "|   d006|         F|     12776|    137294| 60621.83104034627|           6469| 18632.92935211554|   392162625|   24.0|   67.0| 46.46081310867213|       2.0|      33.0|20.705518627299426| 9.827175761323234|   15.234657597774|\n",
      "|   d003|         M|     13320|    140953| 58390.39888322409|           8238|17382.666710193316|   481020106|   24.0|   66.0| 46.83551832969167|       2.0|      33.0| 21.32908472930323|10.036659383345473|15.358582180140811|\n",
      "|   d001|         F|     13110|    137842| 73401.52398232881|           6338|20192.296372780245|   465218859|   24.0|   66.0|46.481855474913225|       2.0|      33.0|20.961344272641213|  9.89775954559798|15.064058062480278|\n",
      "|   d005|         F|     12582|    142434|61347.262718299164|          25023| 16452.69299238936|  1535092555|   24.0|   67.0|47.266434879910484|       2.0|      33.0| 22.08580106302202|10.313551532590017| 16.10506334172561|\n",
      "|   d009|         M|     12505|    142950|61337.880253050156|          11065| 18889.76088748899|   678703645|   24.0|   67.0| 46.94478084048802|       2.0|      33.0| 21.60515137821961|10.144238590149119|15.558879349299593|\n",
      "|   d004|         F|     13612|    137497| 61600.81429550126|          21895|16518.616934143123|  1348749829|   24.0|   67.0| 47.30970541219457|       2.0|      33.0|22.085635989952046|10.320347111212605|16.128933546471796|\n",
      "|   d009|         F|     12998|    140866| 61904.58975382568|           7515| 19290.63926005339|   465212992|   24.0|   67.0| 46.83739188290087|       2.0|      33.0|21.232734530938124|10.020093147039255|15.374983366600134|\n",
      "|   d010|         F|     12567|    137498| 76325.34419551934|            491| 36076.74730266674|    37475744|   24.0|   49.0| 36.70468431771894|       2.0|       6.0|3.9226069246435844|3.9226069246435844|3.9226069246435844|\n",
      "|   d001|         M|     12501|    144128| 73926.91959852086|           9465| 20071.86102766472|   699718294|   24.0|   67.0|46.930058108821974|       2.0|      33.0|21.522768092974115| 10.12202852614897|15.517802430005283|\n",
      "|   d003|         F|     12669|    137321|58959.487761617595|           5638| 17996.51950328604|   332413592|   24.0|   66.0|46.499645264278115|       2.0|      33.0| 20.81802057467187| 9.863604114934374|14.996984746363959|\n",
      "|   d002|         M|     12701|    141395| 72112.88582924682|           7953| 20151.16751739653|   573513781|   24.0|   66.0|46.729787501571735|       2.0|      33.0| 21.23047906450396|10.012573871495034|15.252231862190369|\n",
      "|   d007|         M|     12524|    157220| 82220.26261928408|          23159| 19551.94973561398|  1904139062|   24.0|   67.0| 47.27937302992357|       2.0|      33.0|22.082991493587805|10.310376095686342|15.871497042186624|\n",
      "|   d007|         F|     12632|    151687| 82077.64639741518|          15475|19872.274431122823|  1270151578|   24.0|   66.0| 47.12762520193861|       2.0|      33.0|21.892019386106625| 10.24264943457189|15.766785137318255|\n",
      "|   d008|         F|     12904|    137284|  62530.6636677163|           6669|18237.142865819453|   417016996|   24.0|   66.0| 46.75108711950817|       2.0|      33.0|21.197031039136302|10.019643124906283|15.330334382965962|\n",
      "|   d002|         F|     13007|    137300| 72642.45876195632|           5541|20324.541849525405|   402511864|   24.0|   66.0|46.546291283161885|       2.0|      33.0| 20.74354809601155| 9.851470853636528| 15.06027792817181|\n",
      "|   d008|         M|     12817|    137344|62043.573184471985|           9763| 17931.83570658838|   605731405|   24.0|   67.0|46.886407866434496|       2.0|      33.0| 21.45447096179453|10.084707569394654|15.536617842876165|\n",
      "|   d004|         M|     12568|    137378| 61689.68161185734|          32385|16471.794134686865|  1997820339|   24.0|   67.0|47.353713138798824|       2.0|      33.0| 22.19925891616489|10.357881735371313|  16.1967577582214|\n",
      "|   d005|         M|     12876|    137119|61416.876021542834|          37321| 16353.82731027845|  2292139230|   24.0|   67.0| 47.36378982342381|       2.0|      33.0| 22.25730821789341|10.380295276118003|16.173200075024784|\n",
      "|   d010|         M|     12852|    137449| 76284.95890410959|            511| 36541.55803036515|    38981614|   24.0|   49.0| 35.78082191780822|       2.0|       6.0|3.9980430528375734|3.9980430528375734|3.9980430528375734|\n",
      "+-------+----------+----------+----------+------------------+---------------+------------------+------------+-------+-------+------------------+----------+----------+------------------+------------------+------------------+\n",
      "\n"
     ]
    }
   ],
   "source": []
  },
  {
   "cell_type": "markdown",
   "metadata": {},
   "source": [
    "#### Write above DataFrames to storage"
   ]
  },
  {
   "cell_type": "code",
   "execution_count": 105,
   "metadata": {
    "collapsed": true
   },
   "outputs": [],
   "source": []
  },
  {
   "cell_type": "code",
   "execution_count": 106,
   "metadata": {},
   "outputs": [
    {
     "name": "stdout",
     "output_type": "stream",
     "text": [
      "root\n",
      " |-- emp_no: integer (nullable = true)\n",
      " |-- emp_first_name: string (nullable = true)\n",
      " |-- emp_last_name: string (nullable = true)\n",
      " |-- emp_gender: string (nullable = true)\n",
      " |-- emp_birth_date: string (nullable = true)\n",
      " |-- emp_hire_date: string (nullable = true)\n",
      " |-- emp_age: double (nullable = true)\n",
      " |-- emp_tenure: double (nullable = true)\n",
      " |-- salary: integer (nullable = true)\n",
      " |-- sal_from_date: string (nullable = true)\n",
      " |-- salary_since: double (nullable = true)\n",
      " |-- title: string (nullable = true)\n",
      " |-- title_from_date: string (nullable = true)\n",
      " |-- role_since: double (nullable = true)\n",
      " |-- dept_no: string (nullable = true)\n",
      " |-- dept_name: string (nullable = true)\n",
      " |-- dept_from_date: string (nullable = true)\n",
      " |-- emp_dept_tenure: double (nullable = true)\n",
      " |-- mgr_emp_no: integer (nullable = true)\n",
      " |-- mgr_first_name: string (nullable = true)\n",
      " |-- mgr_last_name: string (nullable = true)\n",
      " |-- mgr_gender: string (nullable = true)\n",
      " |-- mgr_birth_date: string (nullable = true)\n",
      " |-- mgr_hire_date: string (nullable = true)\n",
      " |-- mgr_from_date: string (nullable = true)\n",
      " |-- mgr_age: double (nullable = true)\n",
      " |-- mgr_tenure: double (nullable = true)\n",
      " |-- mgr_dept_tenure: double (nullable = true)\n",
      "\n"
     ]
    }
   ],
   "source": []
  },
  {
   "cell_type": "code",
   "execution_count": null,
   "metadata": {
    "collapsed": true
   },
   "outputs": [],
   "source": []
  }
 ],
 "metadata": {
  "kernelspec": {
   "display_name": "Python 3",
   "language": "python",
   "name": "python3"
  },
  "language_info": {
   "codemirror_mode": {
    "name": "ipython",
    "version": 3
   },
   "file_extension": ".py",
   "mimetype": "text/x-python",
   "name": "python",
   "nbconvert_exporter": "python",
   "pygments_lexer": "ipython3",
   "version": "3.6.2"
  }
 },
 "nbformat": 4,
 "nbformat_minor": 2
}
