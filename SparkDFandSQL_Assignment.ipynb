{
 "cells": [
  {
   "cell_type": "code",
   "execution_count": null,
   "metadata": {
    "collapsed": true
   },
   "outputs": [],
   "source": [
    "## Set Python - Spark environment.\n",
    "import os\n",
    "import sys\n",
    "os.environ[\"SPARK_HOME\"] = \"/usr/hdp/current/spark2-client\"\n",
    "os.environ[\"PYLIB\"] = os.environ[\"SPARK_HOME\"] + \"/python/lib\"\n",
    "sys.path.insert(0, os.environ[\"PYLIB\"] + \"/py4j-0.10.6-src.zip\")\n",
    "sys.path.insert(0, os.environ[\"PYLIB\"] + \"/pyspark.zip\")"
   ]
  },
  {
   "cell_type": "code",
   "execution_count": null,
   "metadata": {
    "collapsed": true
   },
   "outputs": [],
   "source": [
    "## Create SparkContext, SparkSession\n",
    "from os.path import expanduser, join, abspath\n",
    "\n",
    "from pyspark.sql import SparkSession\n",
    "from pyspark.sql import Row\n",
    "\n",
    "# warehouse_location points to the default location for managed databases and tables\n",
    "warehouse_location = 'hdfs:///apps/hive/warehouse/'\n",
    "\n",
    "spark = SparkSession \\\n",
    "    .builder \\\n",
    "    .appName(\"Python Spark SQL Hive integration example\") \\\n",
    "    .config(\"spark.sql.warehouse.dir\", warehouse_location) \\\n",
    "    .enableHiveSupport() \\\n",
    "    .getOrCreate()"
   ]
  },
  {
   "cell_type": "code",
   "execution_count": 4,
   "metadata": {},
   "outputs": [
    {
     "data": {
      "text/html": [
       "\n",
       "            <div>\n",
       "                <p><b>SparkSession - hive</b></p>\n",
       "                \n",
       "        <div>\n",
       "            <p><b>SparkContext</b></p>\n",
       "\n",
       "            <p><a href=\"http://w.insofe.edu.in:4050\">Spark UI</a></p>\n",
       "\n",
       "            <dl>\n",
       "              <dt>Version</dt>\n",
       "                <dd><code>v2.3.0.2.6.5.0-292</code></dd>\n",
       "              <dt>Master</dt>\n",
       "                <dd><code>local[*]</code></dd>\n",
       "              <dt>AppName</dt>\n",
       "                <dd><code>Python Spark SQL Hive integration example</code></dd>\n",
       "            </dl>\n",
       "        </div>\n",
       "        \n",
       "            </div>\n",
       "        "
      ],
      "text/plain": [
       "<pyspark.sql.session.SparkSession at 0x3a09510>"
      ]
     },
     "execution_count": 4,
     "metadata": {},
     "output_type": "execute_result"
    }
   ],
   "source": [
    "spark"
   ]
  },
  {
   "cell_type": "markdown",
   "metadata": {},
   "source": [
    "# Create DataFrames"
   ]
  },
  {
   "cell_type": "code",
   "execution_count": null,
   "metadata": {
    "collapsed": true
   },
   "outputs": [],
   "source": [
    "# import pyspark class Row from module sql\n",
    "from pyspark.sql import Row"
   ]
  },
  {
   "cell_type": "markdown",
   "metadata": {},
   "source": [
    "###  Create Example Data - Departments and Employees"
   ]
  },
  {
   "cell_type": "code",
   "execution_count": 5,
   "metadata": {},
   "outputs": [
    {
     "name": "stdout",
     "output_type": "stream",
     "text": [
      "Row(id='123456', name='Deep Learning')\n",
      "Row(firstName='charlie', lastName='delta', email='no-reply@insofe.edu.con', salary=120000)\n",
      "no-reply@insofe.edu.in\n"
     ]
    }
   ],
   "source": [
    "# Create the Departments\n",
    "department1 = Row(id='123456', name='Deep Learning')\n",
    "department2 = Row(id='789012', name='IoT')\n",
    "department3 = Row(id='345678', name='Consulting')\n",
    "department4 = Row(id='901234', name='Block Chain')\n",
    "\n",
    "# Create the Employees\n",
    "Employee = Row(\"firstName\", \"lastName\", \"email\", \"salary\")\n",
    "employee1 = Employee('echo', 'france', 'no-reply@insofe.edu.in', 100000)\n",
    "employee2 = Employee('charlie', 'delta', 'no-reply@insofe.edu.con', 120000)\n",
    "employee3 = Employee('alpha', None, 'no-reply@insofe.edu.net', 140000)\n",
    "employee4 = Employee(None, 'beta', 'no-reply@insofe.edu', 160000)\n",
    "\n",
    "# Create the DepartmentWithEmployees instances from Departments and Employees\n",
    "departmentWithEmployees1 = Row(department=department1, employees=[employee1, employee2])\n",
    "departmentWithEmployees2 = Row(department=department2, employees=[employee3, employee4])\n",
    "departmentWithEmployees3 = Row(department=department3, employees=[employee1, employee4])\n",
    "departmentWithEmployees4 = Row(department=department4, employees=[employee2, employee3])\n",
    "\n",
    "print department1\n",
    "print employee2\n",
    "print departmentWithEmployees1.employees[0].email"
   ]
  },
  {
   "cell_type": "markdown",
   "metadata": {},
   "source": [
    "## Create DataFrames from a list of the rows"
   ]
  },
  {
   "cell_type": "code",
   "execution_count": 6,
   "metadata": {},
   "outputs": [
    {
     "name": "stdout",
     "output_type": "stream",
     "text": [
      "+-----------------------+---------------------------------------------------------------------------------------------------+\n",
      "|department             |employees                                                                                          |\n",
      "+-----------------------+---------------------------------------------------------------------------------------------------+\n",
      "|[123456, Deep Learning]|[[echo, france, no-reply@insofe.edu.in, 100000], [charlie, delta, no-reply@insofe.edu.con, 120000]]|\n",
      "|[789012, IoT]          |[[alpha,, no-reply@insofe.edu.net, 140000], [, beta, no-reply@insofe.edu, 160000]]                 |\n",
      "+-----------------------+---------------------------------------------------------------------------------------------------+\n",
      "\n"
     ]
    }
   ],
   "source": [
    "departmentsWithEmployeesSeq1 = [departmentWithEmployees1, departmentWithEmployees2]\n",
    "\n",
    "# Create a DataFrame for the above list - departmentsWithEmployeesSeq1\n",
    "df1 = \n",
    "\n",
    "# Display the DataFrame contents df1\n",
    "df1.show(truncate=False)"
   ]
  },
  {
   "cell_type": "code",
   "execution_count": 7,
   "metadata": {},
   "outputs": [
    {
     "name": "stdout",
     "output_type": "stream",
     "text": [
      "+---------------------+----------------------------------------------------------------------------------------------+\n",
      "|department           |employees                                                                                     |\n",
      "+---------------------+----------------------------------------------------------------------------------------------+\n",
      "|[345678, Consulting] |[[echo, france, no-reply@insofe.edu.in, 100000], [, beta, no-reply@insofe.edu, 160000]]       |\n",
      "|[901234, Block Chain]|[[charlie, delta, no-reply@insofe.edu.con, 120000], [alpha,, no-reply@insofe.edu.net, 140000]]|\n",
      "+---------------------+----------------------------------------------------------------------------------------------+\n",
      "\n"
     ]
    }
   ],
   "source": [
    "departmentsWithEmployeesSeq2 = [departmentWithEmployees3, departmentWithEmployees4]\n",
    "\n",
    "# Create a DataFrame for the above list - departmentsWithEmployeesSeq2\n",
    "df2 = \n",
    "\n",
    "# Display the DataFrame contents df2\n",
    "df2.show(truncate=False)"
   ]
  },
  {
   "cell_type": "markdown",
   "metadata": {},
   "source": [
    "## Work with DataFrames"
   ]
  },
  {
   "cell_type": "markdown",
   "metadata": {},
   "source": [
    "### Union two DataFrames"
   ]
  },
  {
   "cell_type": "code",
   "execution_count": 8,
   "metadata": {},
   "outputs": [
    {
     "name": "stdout",
     "output_type": "stream",
     "text": [
      "+-----------------------+---------------------------------------------------------------------------------------------------+\n",
      "|department             |employees                                                                                          |\n",
      "+-----------------------+---------------------------------------------------------------------------------------------------+\n",
      "|[123456, Deep Learning]|[[echo, france, no-reply@insofe.edu.in, 100000], [charlie, delta, no-reply@insofe.edu.con, 120000]]|\n",
      "|[789012, IoT]          |[[alpha,, no-reply@insofe.edu.net, 140000], [, beta, no-reply@insofe.edu, 160000]]                 |\n",
      "|[345678, Consulting]   |[[echo, france, no-reply@insofe.edu.in, 100000], [, beta, no-reply@insofe.edu, 160000]]            |\n",
      "|[901234, Block Chain]  |[[charlie, delta, no-reply@insofe.edu.con, 120000], [alpha,, no-reply@insofe.edu.net, 140000]]     |\n",
      "+-----------------------+---------------------------------------------------------------------------------------------------+\n",
      "\n"
     ]
    }
   ],
   "source": [
    "# union the above two DataFrames df1 and df2 (using union all)\n",
    "unionDF = \n",
    "\n",
    "# Display the DataFrame contents unionDF\n",
    "unionDF.show(truncate=False)"
   ]
  },
  {
   "cell_type": "markdown",
   "metadata": {},
   "source": [
    "### Write the unioned DataFrame to a Parquet file"
   ]
  },
  {
   "cell_type": "code",
   "execution_count": 9,
   "metadata": {
    "collapsed": true
   },
   "outputs": [],
   "source": [
    "# Remove the file(directory) if it exists\n",
    "import os\n",
    "import shutil\n",
    "\n",
    "## delete only if file exists ##\n",
    "filepath = \"/home/<user-id>/tmp/spark-df-example.parquet/\"\n",
    "filename = \"file:///home/<user-id>/tmp/spark-df-example.parquet/\"\n",
    "\n",
    "if os.path.exists(filepath):\n",
    "    shutil.rmtree(filepath)\n",
    "\n",
    "# Write unionDF to a Parquet file\n",
    "unionDF.write.parquet(filename)"
   ]
  },
  {
   "cell_type": "markdown",
   "metadata": {},
   "source": [
    "### Read a DataFrame from the Parquet file"
   ]
  },
  {
   "cell_type": "code",
   "execution_count": 10,
   "metadata": {},
   "outputs": [
    {
     "name": "stdout",
     "output_type": "stream",
     "text": [
      "+-----------------------+---------------------------------------------------------------------------------------------------+\n",
      "|department             |employees                                                                                          |\n",
      "+-----------------------+---------------------------------------------------------------------------------------------------+\n",
      "|[123456, Deep Learning]|[[echo, france, no-reply@insofe.edu.in, 100000], [charlie, delta, no-reply@insofe.edu.con, 120000]]|\n",
      "|[901234, Block Chain]  |[[charlie, delta, no-reply@insofe.edu.con, 120000], [alpha,, no-reply@insofe.edu.net, 140000]]     |\n",
      "|[345678, Consulting]   |[[echo, france, no-reply@insofe.edu.in, 100000], [, beta, no-reply@insofe.edu, 160000]]            |\n",
      "|[789012, IoT]          |[[alpha,, no-reply@insofe.edu.net, 140000], [, beta, no-reply@insofe.edu, 160000]]                 |\n",
      "+-----------------------+---------------------------------------------------------------------------------------------------+\n",
      "\n"
     ]
    }
   ],
   "source": [
    "parquetDF = \n",
    "parquetDF.show(truncate=False)"
   ]
  },
  {
   "cell_type": "markdown",
   "metadata": {},
   "source": [
    "### Explode the employees column"
   ]
  },
  {
   "cell_type": "code",
   "execution_count": 11,
   "metadata": {},
   "outputs": [
    {
     "name": "stdout",
     "output_type": "stream",
     "text": [
      "+---------+--------+-----------------------+------+\n",
      "|firstName|lastName|email                  |salary|\n",
      "+---------+--------+-----------------------+------+\n",
      "|echo     |france  |no-reply@insofe.edu.in |100000|\n",
      "|charlie  |delta   |no-reply@insofe.edu.con|120000|\n",
      "|alpha    |null    |no-reply@insofe.edu.net|140000|\n",
      "|null     |beta    |no-reply@insofe.edu    |160000|\n",
      "|echo     |france  |no-reply@insofe.edu.in |100000|\n",
      "|null     |beta    |no-reply@insofe.edu    |160000|\n",
      "|charlie  |delta   |no-reply@insofe.edu.con|120000|\n",
      "|alpha    |null    |no-reply@insofe.edu.net|140000|\n",
      "+---------+--------+-----------------------+------+\n",
      "\n"
     ]
    }
   ],
   "source": [
    "from pyspark.sql.functions import explode\n",
    "\n",
    "# As the employees column contains many details about each employee - explode employee data into a seperate columns\n",
    "# using the function explode\n",
    "df = unionDF.select(explode(\"employees\").alias(\"e\"))\n",
    "\n",
    "explodeDF = df.selectExpr(\"e.firstName\", \"e.lastName\", \"e.email\", \"e.salary\")\n",
    "\n",
    "explodeDF.show(truncate=False)"
   ]
  },
  {
   "cell_type": "markdown",
   "metadata": {},
   "source": [
    "### Use filter() to return the rows that match a predicate"
   ]
  },
  {
   "cell_type": "code",
   "execution_count": 12,
   "metadata": {},
   "outputs": [
    {
     "name": "stdout",
     "output_type": "stream",
     "text": [
      "+---------+--------+-----------------------+------+\n",
      "|firstName|lastName|email                  |salary|\n",
      "+---------+--------+-----------------------+------+\n",
      "|charlie  |delta   |no-reply@insofe.edu.con|120000|\n",
      "|charlie  |delta   |no-reply@insofe.edu.con|120000|\n",
      "+---------+--------+-----------------------+------+\n",
      "\n"
     ]
    }
   ],
   "source": [
    "# filter rows whose first name is charlie and display in the ascending order of lastname\n",
    "filterDF = explodeDF.\n",
    "filterDF.show(truncate=False)"
   ]
  },
  {
   "cell_type": "code",
   "execution_count": 13,
   "metadata": {},
   "outputs": [
    {
     "name": "stdout",
     "output_type": "stream",
     "text": [
      "+---------+--------+-----------------------+------+\n",
      "|firstName|lastName|email                  |salary|\n",
      "+---------+--------+-----------------------+------+\n",
      "|charlie  |delta   |no-reply@insofe.edu.con|120000|\n",
      "|charlie  |delta   |no-reply@insofe.edu.con|120000|\n",
      "|echo     |france  |no-reply@insofe.edu.in |100000|\n",
      "|echo     |france  |no-reply@insofe.edu.in |100000|\n",
      "+---------+--------+-----------------------+------+\n",
      "\n"
     ]
    }
   ],
   "source": [
    "from pyspark.sql.functions import col, asc\n",
    "\n",
    "# filter rows whose first name is charlie or echo and display in the ascending order of lastname\n",
    "# Use '|' instead of 'or'\n",
    "filterDF = explodeDF.\n",
    "filterDF.show(truncate=False)"
   ]
  },
  {
   "cell_type": "markdown",
   "metadata": {},
   "source": [
    "### The where() clause is equivalent to filter()"
   ]
  },
  {
   "cell_type": "code",
   "execution_count": 14,
   "metadata": {},
   "outputs": [
    {
     "name": "stdout",
     "output_type": "stream",
     "text": [
      "+---------+--------+-----------------------+------+\n",
      "|firstName|lastName|email                  |salary|\n",
      "+---------+--------+-----------------------+------+\n",
      "|charlie  |delta   |no-reply@insofe.edu.con|120000|\n",
      "|charlie  |delta   |no-reply@insofe.edu.con|120000|\n",
      "|echo     |france  |no-reply@insofe.edu.in |100000|\n",
      "|echo     |france  |no-reply@insofe.edu.in |100000|\n",
      "+---------+--------+-----------------------+------+\n",
      "\n"
     ]
    }
   ],
   "source": [
    "# filter rows whose first name is charlie or echo and display in the ascending order of lastname - Using where clause\n",
    "# Use '|' instead of 'or'\n",
    "whereDF = explodeDF.\n",
    "whereDF.show(truncate=False)"
   ]
  },
  {
   "cell_type": "markdown",
   "metadata": {},
   "source": [
    "### Replace null values with -- using DataFrame Na function"
   ]
  },
  {
   "cell_type": "code",
   "execution_count": 15,
   "metadata": {},
   "outputs": [
    {
     "name": "stdout",
     "output_type": "stream",
     "text": [
      "+---------+--------+-----------------------+------+\n",
      "|firstName|lastName|email                  |salary|\n",
      "+---------+--------+-----------------------+------+\n",
      "|echo     |france  |no-reply@insofe.edu.in |100000|\n",
      "|charlie  |delta   |no-reply@insofe.edu.con|120000|\n",
      "|alpha    |--      |no-reply@insofe.edu.net|140000|\n",
      "|--       |beta    |no-reply@insofe.edu    |160000|\n",
      "|echo     |france  |no-reply@insofe.edu.in |100000|\n",
      "|--       |beta    |no-reply@insofe.edu    |160000|\n",
      "|charlie  |delta   |no-reply@insofe.edu.con|120000|\n",
      "|alpha    |--      |no-reply@insofe.edu.net|140000|\n",
      "+---------+--------+-----------------------+------+\n",
      "\n"
     ]
    }
   ],
   "source": [
    "# Fill null values with \"--\"\n",
    "\n",
    "nonNullDF = explodeDF.\n",
    "nonNullDF.show(truncate=False)"
   ]
  },
  {
   "cell_type": "markdown",
   "metadata": {},
   "source": [
    "### Retrieve only rows with missing firstName or lastName"
   ]
  },
  {
   "cell_type": "code",
   "execution_count": 16,
   "metadata": {},
   "outputs": [
    {
     "name": "stdout",
     "output_type": "stream",
     "text": [
      "+---------+--------+-----------------------+------+\n",
      "|firstName|lastName|email                  |salary|\n",
      "+---------+--------+-----------------------+------+\n",
      "|null     |beta    |no-reply@insofe.edu    |160000|\n",
      "|null     |beta    |no-reply@insofe.edu    |160000|\n",
      "|alpha    |null    |no-reply@insofe.edu.net|140000|\n",
      "|alpha    |null    |no-reply@insofe.edu.net|140000|\n",
      "+---------+--------+-----------------------+------+\n",
      "\n"
     ]
    }
   ],
   "source": [
    "# Retrive rows where first and last names are nulls\n",
    "\n",
    "filterNonNullDF = explodeDF.\n",
    "filterNonNullDF.show(truncate=False)"
   ]
  },
  {
   "cell_type": "markdown",
   "metadata": {},
   "source": [
    "### Example aggregations using agg() and countDistinct()"
   ]
  },
  {
   "cell_type": "code",
   "execution_count": 17,
   "metadata": {},
   "outputs": [
    {
     "name": "stdout",
     "output_type": "stream",
     "text": [
      "+---------+--------+-------------------------+\n",
      "|firstName|lastName|count(DISTINCT firstName)|\n",
      "+---------+--------+-------------------------+\n",
      "|charlie  |delta   |1                        |\n",
      "|alpha    |null    |1                        |\n",
      "|echo     |france  |1                        |\n",
      "|null     |beta    |0                        |\n",
      "+---------+--------+-------------------------+\n",
      "\n"
     ]
    }
   ],
   "source": [
    "from pyspark.sql.functions import countDistinct\n",
    "\n",
    "# Count the persons with the distinct firstname and grouping by first name and last name (use countDistinct)\n",
    "\n",
    "countDistinctDF = explodeDF.\n",
    "\n",
    "\n",
    "countDistinctDF.show(truncate=False)"
   ]
  },
  {
   "cell_type": "markdown",
   "metadata": {},
   "source": [
    "### Compare the DataFrame and SQL query physical plans"
   ]
  },
  {
   "cell_type": "markdown",
   "metadata": {},
   "source": [
    "** Note: They should be the same **"
   ]
  },
  {
   "cell_type": "code",
   "execution_count": 18,
   "metadata": {},
   "outputs": [
    {
     "name": "stdout",
     "output_type": "stream",
     "text": [
      "== Physical Plan ==\n",
      "*(4) HashAggregate(keys=[firstName#61, lastName#62], functions=[count(distinct firstName#61)])\n",
      "+- *(4) HashAggregate(keys=[firstName#61, lastName#62], functions=[partial_count(distinct firstName#61)])\n",
      "   +- *(4) HashAggregate(keys=[firstName#61, lastName#62, firstName#61], functions=[])\n",
      "      +- Exchange hashpartitioning(firstName#61, lastName#62, firstName#61, 200)\n",
      "         +- *(3) HashAggregate(keys=[firstName#61, lastName#62, firstName#61], functions=[])\n",
      "            +- *(3) Project [e#59.firstName AS firstName#61, e#59.lastName AS lastName#62]\n",
      "               +- Generate explode(employees#1), false, [e#59]\n",
      "                  +- Union\n",
      "                     :- *(1) Project [employees#1]\n",
      "                     :  +- Scan ExistingRDD[department#0,employees#1]\n",
      "                     +- *(2) Project [employees#13]\n",
      "                        +- Scan ExistingRDD[department#12,employees#13]\n"
     ]
    }
   ],
   "source": [
    "countDistinctDF.explain()"
   ]
  },
  {
   "cell_type": "code",
   "execution_count": 19,
   "metadata": {},
   "outputs": [
    {
     "name": "stdout",
     "output_type": "stream",
     "text": [
      "== Physical Plan ==\n",
      "*(4) HashAggregate(keys=[firstName#61, lastName#62], functions=[count(distinct firstName#61)])\n",
      "+- *(4) HashAggregate(keys=[firstName#61, lastName#62], functions=[partial_count(distinct firstName#61)])\n",
      "   +- *(4) HashAggregate(keys=[firstName#61, lastName#62, firstName#61], functions=[])\n",
      "      +- Exchange hashpartitioning(firstName#61, lastName#62, firstName#61, 200)\n",
      "         +- *(3) HashAggregate(keys=[firstName#61, lastName#62, firstName#61], functions=[])\n",
      "            +- *(3) Project [e#59.firstName AS firstName#61, e#59.lastName AS lastName#62]\n",
      "               +- Generate explode(employees#1), false, [e#59]\n",
      "                  +- Union\n",
      "                     :- *(1) Project [employees#1]\n",
      "                     :  +- Scan ExistingRDD[department#0,employees#1]\n",
      "                     +- *(2) Project [employees#13]\n",
      "                        +- Scan ExistingRDD[department#12,employees#13]\n"
     ]
    }
   ],
   "source": [
    "# register the DataFrame as a temp table so that we can query it using SQL\n",
    "explodeDF.registerTempTable(\"sql_table_df_example\")\n",
    "\n",
    "# Perform the same query as the DataFrame above and return 'explain'\n",
    "countDistinctDF_sql = spark.sql(\"SELECT firstName, lastName, count(distinct firstName) as distinct_first_names FROM sql_table_df_example GROUP BY firstName, lastName\")\n",
    "\n",
    "countDistinctDF_sql.explain()"
   ]
  },
  {
   "cell_type": "markdown",
   "metadata": {},
   "source": [
    "### Sum up all the salaries"
   ]
  },
  {
   "cell_type": "code",
   "execution_count": 20,
   "metadata": {},
   "outputs": [
    {
     "name": "stdout",
     "output_type": "stream",
     "text": [
      "+-----------+\n",
      "|sum(salary)|\n",
      "+-----------+\n",
      "|    1040000|\n",
      "+-----------+\n",
      "\n"
     ]
    }
   ],
   "source": [
    "salarySumDF = explodeDF.\n",
    "salarySumDF.show()"
   ]
  },
  {
   "cell_type": "code",
   "execution_count": 21,
   "metadata": {},
   "outputs": [
    {
     "data": {
      "text/plain": [
       "pyspark.sql.column.Column"
      ]
     },
     "execution_count": 21,
     "metadata": {},
     "output_type": "execute_result"
    }
   ],
   "source": [
    "type(explodeDF.salary)"
   ]
  },
  {
   "cell_type": "markdown",
   "metadata": {},
   "source": [
    "### Print the summary statistics for the salaries"
   ]
  },
  {
   "cell_type": "code",
   "execution_count": 22,
   "metadata": {},
   "outputs": [
    {
     "name": "stdout",
     "output_type": "stream",
     "text": [
      "+-------+------------------+\n",
      "|summary|            salary|\n",
      "+-------+------------------+\n",
      "|  count|                 8|\n",
      "|   mean|          130000.0|\n",
      "| stddev|23904.572186687874|\n",
      "|    min|            100000|\n",
      "|    max|            160000|\n",
      "+-------+------------------+\n",
      "\n"
     ]
    }
   ],
   "source": [
    "explodeDF.describe(\"salary\").show()"
   ]
  },
  {
   "cell_type": "markdown",
   "metadata": {},
   "source": [
    "### An example using pandas and Matplotlib integration"
   ]
  },
  {
   "cell_type": "code",
   "execution_count": 23,
   "metadata": {},
   "outputs": [
    {
     "data": {
      "text/plain": [
       "<matplotlib.figure.Figure at 0x5a35210>"
      ]
     },
     "metadata": {},
     "output_type": "display_data"
    },
    {
     "data": {
      "image/png": "[encoded data removed]",
      "text/plain": [
       "<matplotlib.figure.Figure at 0x5bc0ed0>"
      ]
     },
     "metadata": {},
     "output_type": "display_data"
    }
   ],
   "source": [
    "import pandas as pd\n",
    "import matplotlib.pyplot as plt\n",
    "%matplotlib inline\n",
    "\n",
    "plt.clf()\n",
    "\n",
    "pdDF = nonNullDF.toPandas()\n",
    "pdDF.plot(x='firstName', y='salary', kind='bar', rot=45)\n",
    "plt.show()"
   ]
  },
  {
   "cell_type": "markdown",
   "metadata": {},
   "source": [
    "### Observe the file df_sample\n",
    "Copy df_sample and df_sample_2.csv files to /home/user-id/tmp/ location"
   ]
  },
  {
   "cell_type": "code",
   "execution_count": 24,
   "metadata": {},
   "outputs": [
    {
     "name": "stdout",
     "output_type": "stream",
     "text": [
      "id|end_date|start_date|location\r\n",
      "1|2018-10-10 00:00:00|2018-09-14 00:00:00|TS-HYD\r\n",
      "2|2018-10-11 01:00:20|2018-08-14 00:00:00|KA-BLR\r\n",
      "3|2018-10-12 02:30:00|2018-01-14 00:00:00|TN-CHE\r\n",
      "4|2018-10-13 03:00:20|2018-02-14 00:00:00|MH-MUM\r\n",
      "5|2018-10-14 04:30:00|2018-04-14 00:00:00|TS-HYD"
     ]
    }
   ],
   "source": [
    "!cat /home/<user-id>/tmp/df_sample"
   ]
  },
  {
   "cell_type": "markdown",
   "metadata": {},
   "source": [
    "### Create a DataFrame for the data"
   ]
  },
  {
   "cell_type": "code",
   "execution_count": 25,
   "metadata": {},
   "outputs": [
    {
     "name": "stdout",
     "output_type": "stream",
     "text": [
      "root\n",
      " |-- id: string (nullable = true)\n",
      " |-- end_date: string (nullable = true)\n",
      " |-- start_date: string (nullable = true)\n",
      " |-- location: string (nullable = true)\n",
      "\n"
     ]
    }
   ],
   "source": [
    "df = \n",
    "df.printSchema()"
   ]
  },
  {
   "cell_type": "code",
   "execution_count": 26,
   "metadata": {},
   "outputs": [
    {
     "name": "stdout",
     "output_type": "stream",
     "text": [
      "+---+-------------------+-------------------+--------+\n",
      "| id|           end_date|         start_date|location|\n",
      "+---+-------------------+-------------------+--------+\n",
      "|  1|2018-10-10 00:00:00|2018-09-14 00:00:00|  TS-HYD|\n",
      "|  2|2018-10-11 01:00:20|2018-08-14 00:00:00|  KA-BLR|\n",
      "|  3|2018-10-12 02:30:00|2018-01-14 00:00:00|  TN-CHE|\n",
      "|  4|2018-10-13 03:00:20|2018-02-14 00:00:00|  MH-MUM|\n",
      "|  5|2018-10-14 04:30:00|2018-04-14 00:00:00|  TS-HYD|\n",
      "+---+-------------------+-------------------+--------+\n",
      "\n"
     ]
    }
   ],
   "source": [
    "df.show()"
   ]
  },
  {
   "cell_type": "markdown",
   "metadata": {},
   "source": [
    "#### Instead of registering a UDF, call the builtin functions to perform operations on the columns.\n",
    "#### This will provide a performance improvement as the builtins compile and run in the platform's JVM."
   ]
  },
  {
   "cell_type": "code",
   "execution_count": 27,
   "metadata": {
    "collapsed": true
   },
   "outputs": [],
   "source": [
    "from pyspark.sql import functions as F\n",
    "from pyspark.sql.types import *"
   ]
  },
  {
   "cell_type": "markdown",
   "metadata": {},
   "source": [
    "### Convert to a Date type"
   ]
  },
  {
   "cell_type": "code",
   "execution_count": 28,
   "metadata": {},
   "outputs": [
    {
     "name": "stdout",
     "output_type": "stream",
     "text": [
      "root\n",
      " |-- id: string (nullable = true)\n",
      " |-- end_date: string (nullable = true)\n",
      " |-- start_date: string (nullable = true)\n",
      " |-- location: string (nullable = true)\n",
      " |-- date: date (nullable = true)\n",
      "\n"
     ]
    }
   ],
   "source": [
    "# Create a new column 'date' as the date column from 'end_date'\n",
    "df = df.\n",
    "df.printSchema()"
   ]
  },
  {
   "cell_type": "code",
   "execution_count": 29,
   "metadata": {},
   "outputs": [
    {
     "name": "stdout",
     "output_type": "stream",
     "text": [
      "+---+-------------------+-------------------+--------+----------+----------+\n",
      "| id|           end_date|         start_date|location|      date| date_only|\n",
      "+---+-------------------+-------------------+--------+----------+----------+\n",
      "|  1|2018-10-10 00:00:00|2018-09-14 00:00:00|  TS-HYD|2018-10-10|2018-10-10|\n",
      "|  2|2018-10-11 01:00:20|2018-08-14 00:00:00|  KA-BLR|2018-10-11|2018-10-11|\n",
      "|  3|2018-10-12 02:30:00|2018-01-14 00:00:00|  TN-CHE|2018-10-12|2018-10-12|\n",
      "|  4|2018-10-13 03:00:20|2018-02-14 00:00:00|  MH-MUM|2018-10-13|2018-10-13|\n",
      "|  5|2018-10-14 04:30:00|2018-04-14 00:00:00|  TS-HYD|2018-10-14|2018-10-14|\n",
      "+---+-------------------+-------------------+--------+----------+----------+\n",
      "\n"
     ]
    }
   ],
   "source": [
    "# Parse out the date only\n",
    "# Create a new column 'date_only' from 'end_date' and extract only the date part\n",
    "df = df.\n",
    "df.show()"
   ]
  },
  {
   "cell_type": "markdown",
   "metadata": {},
   "source": [
    "### Split a string and index a field"
   ]
  },
  {
   "cell_type": "code",
   "execution_count": 30,
   "metadata": {},
   "outputs": [
    {
     "name": "stdout",
     "output_type": "stream",
     "text": [
      "+---+-------------------+-------------------+--------+----------+----------+----+\n",
      "| id|           end_date|         start_date|location|      date| date_only|city|\n",
      "+---+-------------------+-------------------+--------+----------+----------+----+\n",
      "|  1|2018-10-10 00:00:00|2018-09-14 00:00:00|  TS-HYD|2018-10-10|2018-10-10| HYD|\n",
      "|  2|2018-10-11 01:00:20|2018-08-14 00:00:00|  KA-BLR|2018-10-11|2018-10-11| BLR|\n",
      "|  3|2018-10-12 02:30:00|2018-01-14 00:00:00|  TN-CHE|2018-10-12|2018-10-12| CHE|\n",
      "|  4|2018-10-13 03:00:20|2018-02-14 00:00:00|  MH-MUM|2018-10-13|2018-10-13| MUM|\n",
      "|  5|2018-10-14 04:30:00|2018-04-14 00:00:00|  TS-HYD|2018-10-14|2018-10-14| HYD|\n",
      "+---+-------------------+-------------------+--------+----------+----------+----+\n",
      "\n"
     ]
    }
   ],
   "source": [
    "# Split the 'location' column using the appropriate seperator and extract city name into new column 'city'\n",
    "df = df.\n",
    "df.show()"
   ]
  },
  {
   "cell_type": "markdown",
   "metadata": {},
   "source": [
    "### Perform a date diff function"
   ]
  },
  {
   "cell_type": "code",
   "execution_count": 31,
   "metadata": {},
   "outputs": [
    {
     "name": "stdout",
     "output_type": "stream",
     "text": [
      "+---+-------------------+-------------------+--------+----------+----------+----+---------+\n",
      "| id|           end_date|         start_date|location|      date| date_only|city|date_diff|\n",
      "+---+-------------------+-------------------+--------+----------+----------+----+---------+\n",
      "|  1|2018-10-10 00:00:00|2018-09-14 00:00:00|  TS-HYD|2018-10-10|2018-10-10| HYD|       26|\n",
      "|  2|2018-10-11 01:00:20|2018-08-14 00:00:00|  KA-BLR|2018-10-11|2018-10-11| BLR|       58|\n",
      "|  3|2018-10-12 02:30:00|2018-01-14 00:00:00|  TN-CHE|2018-10-12|2018-10-12| CHE|      271|\n",
      "|  4|2018-10-13 03:00:20|2018-02-14 00:00:00|  MH-MUM|2018-10-13|2018-10-13| MUM|      241|\n",
      "|  5|2018-10-14 04:30:00|2018-04-14 00:00:00|  TS-HYD|2018-10-14|2018-10-14| HYD|      183|\n",
      "+---+-------------------+-------------------+--------+----------+----------+----+---------+\n",
      "\n"
     ]
    }
   ],
   "source": [
    "# Create a new column 'date_diff' with difference of end_date and start_date in number of days\n",
    "df = df.\n",
    "df.show()"
   ]
  },
  {
   "cell_type": "markdown",
   "metadata": {},
   "source": [
    "## Run SQL queries"
   ]
  },
  {
   "cell_type": "code",
   "execution_count": 32,
   "metadata": {},
   "outputs": [
    {
     "name": "stdout",
     "output_type": "stream",
     "text": [
      "+---+-------------------+-------------------+--------+----------+----------+----+---------+\n",
      "| id|           end_date|         start_date|location|      date| date_only|city|date_diff|\n",
      "+---+-------------------+-------------------+--------+----------+----------+----+---------+\n",
      "|  1|2018-10-10 00:00:00|2018-09-14 00:00:00|  TS-HYD|2018-10-10|2018-10-10| HYD|       26|\n",
      "|  2|2018-10-11 01:00:20|2018-08-14 00:00:00|  KA-BLR|2018-10-11|2018-10-11| BLR|       58|\n",
      "|  3|2018-10-12 02:30:00|2018-01-14 00:00:00|  TN-CHE|2018-10-12|2018-10-12| CHE|      271|\n",
      "|  4|2018-10-13 03:00:20|2018-02-14 00:00:00|  MH-MUM|2018-10-13|2018-10-13| MUM|      241|\n",
      "|  5|2018-10-14 04:30:00|2018-04-14 00:00:00|  TS-HYD|2018-10-14|2018-10-14| HYD|      183|\n",
      "+---+-------------------+-------------------+--------+----------+----------+----+---------+\n",
      "\n"
     ]
    }
   ],
   "source": [
    "df.registerTempTable(\"sample_df_tbl\")\n",
    "\n",
    "# Display the contents of the above SQL table\n",
    "spark.sql(\"select * from sample_df_tbl\").show()"
   ]
  },
  {
   "cell_type": "markdown",
   "metadata": {},
   "source": [
    "### Convert the DataFrame back to JSON strings.\n",
    "\n",
    "There is an underlying toJSON() function that returns an RDD of JSON strings using the column names and schema to produce the JSON records."
   ]
  },
  {
   "cell_type": "code",
   "execution_count": 33,
   "metadata": {},
   "outputs": [
    {
     "data": {
      "text/plain": [
       "[u'{\"id\":\"1\",\"end_date\":\"2018-10-10 00:00:00\",\"start_date\":\"2018-09-14 00:00:00\",\"location\":\"TS-HYD\",\"date\":\"2018-10-10\",\"date_only\":\"2018-10-10\",\"city\":\"HYD\",\"date_diff\":26}',\n",
       " u'{\"id\":\"2\",\"end_date\":\"2018-10-11 01:00:20\",\"start_date\":\"2018-08-14 00:00:00\",\"location\":\"KA-BLR\",\"date\":\"2018-10-11\",\"date_only\":\"2018-10-11\",\"city\":\"BLR\",\"date_diff\":58}']"
      ]
     },
     "execution_count": 33,
     "metadata": {},
     "output_type": "execute_result"
    }
   ],
   "source": [
    "rdd_json = df.\n",
    "rdd_json.take(2)"
   ]
  },
  {
   "cell_type": "markdown",
   "metadata": {},
   "source": [
    "## UDF\n",
    "### My UDF takes a parameter including the column to operate on. How do I pass this parameter?\n",
    "There is a function available called lit() that creates a constant column."
   ]
  },
  {
   "cell_type": "code",
   "execution_count": 34,
   "metadata": {},
   "outputs": [
    {
     "name": "stdout",
     "output_type": "stream",
     "text": [
      "+---+-------------------+-------------------+--------+----------+----------+----+---------+---------+\n",
      "| id|           end_date|         start_date|location|      date| date_only|city|date_diff|id_offset|\n",
      "+---+-------------------+-------------------+--------+----------+----------+----+---------+---------+\n",
      "|  1|2018-10-10 00:00:00|2018-09-14 00:00:00|  TS-HYD|2018-10-10|2018-10-10| HYD|       26|     1001|\n",
      "|  2|2018-10-11 01:00:20|2018-08-14 00:00:00|  KA-BLR|2018-10-11|2018-10-11| BLR|       58|     1002|\n",
      "|  3|2018-10-12 02:30:00|2018-01-14 00:00:00|  TN-CHE|2018-10-12|2018-10-12| CHE|      271|     1003|\n",
      "|  4|2018-10-13 03:00:20|2018-02-14 00:00:00|  MH-MUM|2018-10-13|2018-10-13| MUM|      241|     1004|\n",
      "|  5|2018-10-14 04:30:00|2018-04-14 00:00:00|  TS-HYD|2018-10-14|2018-10-14| HYD|      183|     1005|\n",
      "+---+-------------------+-------------------+--------+----------+----------+----+---------+---------+\n",
      "\n"
     ]
    }
   ],
   "source": [
    "from pyspark.sql import functions as F\n",
    "from pyspark.sql.functions import udf\n",
    "\n",
    "add_n = udf(lambda x, y: x + y, IntegerType())\n",
    "\n",
    "# We register a UDF that adds a column to the DataFrame, and we cast the id column to an Integer type.\n",
    "df = df.withColumn('id_offset', add_n(F.lit(1000), df.id.cast(IntegerType())))\n",
    "\n",
    "df.show()"
   ]
  },
  {
   "cell_type": "markdown",
   "metadata": {},
   "source": [
    "### Write UDF"
   ]
  },
  {
   "cell_type": "code",
   "execution_count": 35,
   "metadata": {},
   "outputs": [
    {
     "name": "stdout",
     "output_type": "stream",
     "text": [
      "+---+-------------------+-------------------+--------+----------+----------+----+---------+---------+\n",
      "| id|           end_date|         start_date|location|      date| date_only|city|date_diff|id_offset|\n",
      "+---+-------------------+-------------------+--------+----------+----------+----+---------+---------+\n",
      "|  1|2018-10-10 00:00:00|2018-09-14 00:00:00|  TS-HYD|2018-10-10|2018-10-10| HYD|       26|     1001|\n",
      "|  2|2018-10-11 01:00:20|2018-08-14 00:00:00|  KA-BLR|2018-10-11|2018-10-11| BLR|       58|     1002|\n",
      "+---+-------------------+-------------------+--------+----------+----------+----+---------+---------+\n",
      "\n"
     ]
    }
   ],
   "source": [
    "# any constants used by UDF will automatically pass through to workers\n",
    "# Write udf that retrieves only the rows where date_diff < 90\n",
    "N = 90\n",
    "last_n_days = \n",
    "\n",
    "df_filtered = df.\n",
    "\n",
    "df_filtered.show()"
   ]
  },
  {
   "cell_type": "markdown",
   "metadata": {},
   "source": [
    "## Hive Tables"
   ]
  },
  {
   "cell_type": "markdown",
   "metadata": {},
   "source": [
    "### Access Hive metastore and hive table "
   ]
  },
  {
   "cell_type": "code",
   "execution_count": 5,
   "metadata": {},
   "outputs": [
    {
     "name": "stdout",
     "output_type": "stream",
     "text": [
      "+----------+----------+----------+----------+----------+---------+--------+\n",
      "|Stock_Date|Open      |High      |Low       |Close     |Adj_Close|Volume  |\n",
      "+----------+----------+----------+----------+----------+---------+--------+\n",
      "|2004-08-25|149.837006|149.837006|122.375   |123.494003|67.378128|136928  |\n",
      "|2004-08-26|124.0     |124.625   |121.912003|122.375   |66.767601|40443200|\n",
      "|2004-08-27|122.800003|122.800003|119.82    |120.332001|65.652962|30646000|\n",
      "|2004-08-30|121.237999|123.75    |120.625   |123.345001|67.296806|24465208|\n",
      "|2004-08-31|123.311996|123.75    |122.0     |123.512001|67.387932|21194656|\n",
      "|2004-09-01|123.75    |124.375   |122.949997|123.487999|67.374817|19935544|\n",
      "|2004-09-02|123.737999|125.574997|123.25    |124.207001|67.767113|21356352|\n",
      "|2004-09-03|125.75    |137.5     |123.794998|124.732002|68.053581|9869856 |\n",
      "|2004-09-06|129.988007|129.988007|124.112999|124.357002|67.848961|9038672 |\n",
      "|2004-09-07|129.375   |129.375   |124.375   |124.449997|67.899704|5772232 |\n",
      "+----------+----------+----------+----------+----------+---------+--------+\n",
      "only showing top 10 rows\n",
      "\n"
     ]
    }
   ],
   "source": [
    "# Both return DataFrame types\n",
    "from pyspark.sql.functions import *\n",
    "\n",
    "# Create a DataFrame for the hive table \"tcs_stocks\" using spark.table option\n",
    "df_hive_table_1 = spark.table(\"tcs_stocks_jayantm\")\n",
    "df_hive_table_1.show(10, truncate=False)"
   ]
  },
  {
   "cell_type": "code",
   "execution_count": 6,
   "metadata": {},
   "outputs": [
    {
     "name": "stdout",
     "output_type": "stream",
     "text": [
      "+----------+----------+----------+----------+----------+---------+--------+\n",
      "|Stock_Date|Open      |High      |Low       |Close     |Adj_Close|Volume  |\n",
      "+----------+----------+----------+----------+----------+---------+--------+\n",
      "|2004-08-25|149.837006|149.837006|122.375   |123.494003|67.378128|136928  |\n",
      "|2004-08-26|124.0     |124.625   |121.912003|122.375   |66.767601|40443200|\n",
      "|2004-08-27|122.800003|122.800003|119.82    |120.332001|65.652962|30646000|\n",
      "|2004-08-30|121.237999|123.75    |120.625   |123.345001|67.296806|24465208|\n",
      "|2004-08-31|123.311996|123.75    |122.0     |123.512001|67.387932|21194656|\n",
      "|2004-09-01|123.75    |124.375   |122.949997|123.487999|67.374817|19935544|\n",
      "|2004-09-02|123.737999|125.574997|123.25    |124.207001|67.767113|21356352|\n",
      "|2004-09-03|125.75    |137.5     |123.794998|124.732002|68.053581|9869856 |\n",
      "|2004-09-06|129.988007|129.988007|124.112999|124.357002|67.848961|9038672 |\n",
      "|2004-09-07|129.375   |129.375   |124.375   |124.449997|67.899704|5772232 |\n",
      "+----------+----------+----------+----------+----------+---------+--------+\n",
      "only showing top 10 rows\n",
      "\n"
     ]
    }
   ],
   "source": [
    "# Create a DataFrame for the hive table \"tcs_stocks\" using spark.sql select operation          \n",
    "df_hive_table_2 = spark.sql(\"SELECT * FROM tcs_stocks_jayantm\")\n",
    "df_hive_table_2.show(10, truncate=False)"
   ]
  },
  {
   "cell_type": "markdown",
   "metadata": {},
   "source": [
    "### Compute aggregates on columns. "
   ]
  },
  {
   "cell_type": "code",
   "execution_count": 38,
   "metadata": {},
   "outputs": [
    {
     "name": "stdout",
     "output_type": "stream",
     "text": [
      "+--------+-------+---------+--------------+\n",
      "|location|min(id)|count(id)|avg(date_diff)|\n",
      "+--------+-------+---------+--------------+\n",
      "|  KA-BLR|      2|        1|          58.0|\n",
      "|  MH-MUM|      4|        1|         241.0|\n",
      "|  TS-HYD|      1|        2|         104.5|\n",
      "|  TN-CHE|      3|        1|         271.0|\n",
      "+--------+-------+---------+--------------+\n",
      "\n"
     ]
    }
   ],
   "source": [
    "# Provide the min, count, and avg and groupBy the location column. Diplay the results\n",
    "agg_df = df.\n",
    "agg_df.show()"
   ]
  },
  {
   "cell_type": "markdown",
   "metadata": {},
   "source": [
    "### Write out the DataFrames to Parquet, but would like to partition on a particular column."
   ]
  },
  {
   "cell_type": "code",
   "execution_count": 39,
   "metadata": {},
   "outputs": [
    {
     "name": "stdout",
     "output_type": "stream",
     "text": [
      "+---+-------------------+-------------------+--------+----------+----------+----+---------+---------+---------+--------+\n",
      "| id|           end_date|         start_date|location|      date| date_only|city|date_diff|id_offset|end_month|end_year|\n",
      "+---+-------------------+-------------------+--------+----------+----------+----+---------+---------+---------+--------+\n",
      "|  1|2018-10-10 00:00:00|2018-09-14 00:00:00|  TS-HYD|2018-10-10|2018-10-10| HYD|       26|     1001|       10|    2018|\n",
      "|  2|2018-10-11 01:00:20|2018-08-14 00:00:00|  KA-BLR|2018-10-11|2018-10-11| BLR|       58|     1002|       10|    2018|\n",
      "|  3|2018-10-12 02:30:00|2018-01-14 00:00:00|  TN-CHE|2018-10-12|2018-10-12| CHE|      271|     1003|       10|    2018|\n",
      "|  4|2018-10-13 03:00:20|2018-02-14 00:00:00|  MH-MUM|2018-10-13|2018-10-13| MUM|      241|     1004|       10|    2018|\n",
      "|  5|2018-10-14 04:30:00|2018-04-14 00:00:00|  TS-HYD|2018-10-14|2018-10-14| HYD|      183|     1005|       10|    2018|\n",
      "+---+-------------------+-------------------+--------+----------+----------+----+---------+---------+---------+--------+\n",
      "\n"
     ]
    }
   ],
   "source": [
    "# Derive two new columns end_month and end_year where\n",
    "# end_month holds only the month part from end_date column and\n",
    "# end_year holds only the year part from end_date column\n",
    "df = df.\n",
    "df = df.\n",
    "df.show()"
   ]
  },
  {
   "cell_type": "code",
   "execution_count": 40,
   "metadata": {
    "collapsed": true
   },
   "outputs": [],
   "source": [
    "# Write above DataFrame to a parquet file partitioned by end_year and end_month\n",
    "# Remove the file(directory) if it exists\n",
    "import os\n",
    "import shutil\n",
    "\n",
    "## delete only if file exists ##\n",
    "filepath = \"/home/<user-id>/tmp/spark_df_example2.parquet\"\n",
    "filename = \"file:///home/<user-id>/tmp/spark_df_example2.parquet/\"\n",
    "\n",
    "if os.path.exists(filepath):\n",
    "    shutil.rmtree(filepath)\n",
    "\n",
    "df.write."
   ]
  },
  {
   "cell_type": "code",
   "execution_count": 41,
   "metadata": {},
   "outputs": [
    {
     "name": "stdout",
     "output_type": "stream",
     "text": [
      "end_year=2018  _SUCCESS\r\n"
     ]
    }
   ],
   "source": [
    "!ls /home/<user-id>/tmp/spark_df_example2.parquet/"
   ]
  },
  {
   "cell_type": "code",
   "execution_count": 42,
   "metadata": {},
   "outputs": [
    {
     "name": "stdout",
     "output_type": "stream",
     "text": [
      "end_month=10\r\n"
     ]
    }
   ],
   "source": [
    "!ls /home/<user-id>/tmp/spark_df_example2.parquet/end_year\\=2018"
   ]
  },
  {
   "cell_type": "code",
   "execution_count": 43,
   "metadata": {
    "scrolled": true
   },
   "outputs": [
    {
     "name": "stdout",
     "output_type": "stream",
     "text": [
      "part-00000-4273a79d-b6e2-4eb0-ba05-a137356c2010.c000.snappy.parquet\r\n"
     ]
    }
   ],
   "source": [
    "!ls /home/<user-id>/tmp/spark_df_example2.parquet/end_year\\=2018/end_month\\=10"
   ]
  },
  {
   "cell_type": "code",
   "execution_count": 44,
   "metadata": {},
   "outputs": [
    {
     "name": "stdout",
     "output_type": "stream",
     "text": [
      "+---+-------------------+-------------------+--------+----------+----------+----+---------+---------+--------+---------+\n",
      "|id |end_date           |start_date         |location|date      |date_only |city|date_diff|id_offset|end_year|end_month|\n",
      "+---+-------------------+-------------------+--------+----------+----------+----+---------+---------+--------+---------+\n",
      "|1  |2018-10-10 00:00:00|2018-09-14 00:00:00|TS-HYD  |2018-10-10|2018-10-10|HYD |26       |1001     |2018    |10       |\n",
      "|2  |2018-10-11 01:00:20|2018-08-14 00:00:00|KA-BLR  |2018-10-11|2018-10-11|BLR |58       |1002     |2018    |10       |\n",
      "|3  |2018-10-12 02:30:00|2018-01-14 00:00:00|TN-CHE  |2018-10-12|2018-10-12|CHE |271      |1003     |2018    |10       |\n",
      "|4  |2018-10-13 03:00:20|2018-02-14 00:00:00|MH-MUM  |2018-10-13|2018-10-13|MUM |241      |1004     |2018    |10       |\n",
      "|5  |2018-10-14 04:30:00|2018-04-14 00:00:00|TS-HYD  |2018-10-14|2018-10-14|HYD |183      |1005     |2018    |10       |\n",
      "+---+-------------------+-------------------+--------+----------+----------+----+---------+---------+--------+---------+\n",
      "\n"
     ]
    }
   ],
   "source": [
    "parquetDF2 = spark.read.parquet(filename)\n",
    "parquetDF2.show(truncate=False)"
   ]
  },
  {
   "cell_type": "markdown",
   "metadata": {},
   "source": [
    "### Handle cases where I want to filter out NULL data"
   ]
  },
  {
   "cell_type": "code",
   "execution_count": 45,
   "metadata": {},
   "outputs": [
    {
     "name": "stdout",
     "output_type": "stream",
     "text": [
      "+----+----+\n",
      "|col1|col2|\n",
      "+----+----+\n",
      "|test|   1|\n",
      "|null|   2|\n",
      "+----+----+\n",
      "\n"
     ]
    }
   ],
   "source": [
    "null_item_schema = StructType([StructField(\"col1\", StringType(), True),\n",
    "                               StructField(\"col2\", IntegerType(), True)])\n",
    "\n",
    "null_df = spark.createDataFrame([(\"test\", 1), (None, 2)], null_item_schema)\n",
    "null_df.show()"
   ]
  },
  {
   "cell_type": "code",
   "execution_count": 46,
   "metadata": {},
   "outputs": [
    {
     "name": "stdout",
     "output_type": "stream",
     "text": [
      "+----+----+\n",
      "|col1|col2|\n",
      "+----+----+\n",
      "|test|   1|\n",
      "+----+----+\n",
      "\n"
     ]
    }
   ],
   "source": [
    "# Extract only the data where col1 value is NOT NULL\n",
    "null_df."
   ]
  },
  {
   "cell_type": "markdown",
   "metadata": {},
   "source": [
    "### Infer the schema using the CSV or spark-avro libraries\n",
    "\n",
    "Read csv file \"df_sample_2.csv\" and inferschema"
   ]
  },
  {
   "cell_type": "code",
   "execution_count": 47,
   "metadata": {},
   "outputs": [
    {
     "name": "stdout",
     "output_type": "stream",
     "text": [
      "root\n",
      " |-- id: integer (nullable = true)\n",
      " |-- end_date: timestamp (nullable = true)\n",
      " |-- start_date: timestamp (nullable = true)\n",
      " |-- location: string (nullable = true)\n",
      "\n"
     ]
    }
   ],
   "source": [
    "# Create a DataFrame for df_sample_2.csv file and inferschema\n",
    "sample_df_2 = \n",
    "\n",
    "sample_df_2.printSchema()"
   ]
  }
 ],
 "metadata": {
  "kernelspec": {
   "display_name": "Python 3",
   "language": "python",
   "name": "python3"
  },
  "language_info": {
   "codemirror_mode": {
    "name": "ipython",
    "version": 3
   },
   "file_extension": ".py",
   "mimetype": "text/x-python",
   "name": "python",
   "nbconvert_exporter": "python",
   "pygments_lexer": "ipython3",
   "version": "3.6.2"
  }
 },
 "nbformat": 4,
 "nbformat_minor": 2
}
