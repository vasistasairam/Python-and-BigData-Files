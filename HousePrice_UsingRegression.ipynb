{
 "cells": [
  {
   "cell_type": "code",
   "execution_count": 1,
   "metadata": {
    "collapsed": true
   },
   "outputs": [],
   "source": [
    "### Author : Vasista\n",
    "### Date   : 20/10/2018\n",
    "### Topic  : House Price Prediction Using Regression"
   ]
  },
  {
   "cell_type": "code",
   "execution_count": 2,
   "metadata": {},
   "outputs": [
    {
     "data": {
      "text/plain": [
       "\"fig, ax = plt.subplots(nrows=1, ncols=2)\\nax[0].scatter(x = train['TotalBsmtSF'], y = train['SalePrice'])\\nax[1].scatter(x = train['GrLivArea'], y = train['SalePrice'])\""
      ]
     },
     "execution_count": 2,
     "metadata": {},
     "output_type": "execute_result"
    }
   ],
   "source": [
    "'''\n",
    "fig = plt.figure()\n",
    "ax1 = fig.add_axes([0.1, 0.5, 0.8, 0.4],\n",
    "                   xticklabels=[], ylim=(-1.2, 1.2))\n",
    "ax2 = fig.add_axes([0.1, 0.1, 0.8, 0.4],\n",
    "                   ylim=(-1.2, 1.2))\n",
    "\n",
    "x = np.linspace(0, 10)\n",
    "ax1.plot(np.sin(x))\n",
    "ax2.plot(np.cos(x));\n",
    "'''\n",
    "\n",
    "'''fig, ax = plt.subplots(nrows=1, ncols=2)\n",
    "ax[0].scatter(x = train['TotalBsmtSF'], y = train['SalePrice'])\n",
    "ax[1].scatter(x = train['GrLivArea'], y = train['SalePrice'])'''"
   ]
  },
  {
   "cell_type": "code",
   "execution_count": 3,
   "metadata": {
    "collapsed": true
   },
   "outputs": [],
   "source": [
    "# Import Required Packages\n",
    "import pandas as pd\n",
    "import numpy as np\n",
    "import matplotlib.pyplot as plt\n",
    "import seaborn as sns\n"
   ]
  },
  {
   "cell_type": "code",
   "execution_count": 4,
   "metadata": {},
   "outputs": [
    {
     "data": {
      "text/html": [
       "<div>\n",
       "<style>\n",
       "    .dataframe thead tr:only-child th {\n",
       "        text-align: right;\n",
       "    }\n",
       "\n",
       "    .dataframe thead th {\n",
       "        text-align: left;\n",
       "    }\n",
       "\n",
       "    .dataframe tbody tr th {\n",
       "        vertical-align: top;\n",
       "    }\n",
       "</style>\n",
       "<table border=\"1\" class=\"dataframe\">\n",
       "  <thead>\n",
       "    <tr style=\"text-align: right;\">\n",
       "      <th></th>\n",
       "      <th>Id</th>\n",
       "      <th>MSSubClass</th>\n",
       "      <th>MSZoning</th>\n",
       "      <th>LotFrontage</th>\n",
       "      <th>LotArea</th>\n",
       "      <th>Street</th>\n",
       "      <th>Alley</th>\n",
       "      <th>LotShape</th>\n",
       "      <th>LandContour</th>\n",
       "      <th>Utilities</th>\n",
       "      <th>...</th>\n",
       "      <th>PoolArea</th>\n",
       "      <th>PoolQC</th>\n",
       "      <th>Fence</th>\n",
       "      <th>MiscFeature</th>\n",
       "      <th>MiscVal</th>\n",
       "      <th>MoSold</th>\n",
       "      <th>YrSold</th>\n",
       "      <th>SaleType</th>\n",
       "      <th>SaleCondition</th>\n",
       "      <th>SalePrice</th>\n",
       "    </tr>\n",
       "  </thead>\n",
       "  <tbody>\n",
       "    <tr>\n",
       "      <th>0</th>\n",
       "      <td>1</td>\n",
       "      <td>60</td>\n",
       "      <td>RL</td>\n",
       "      <td>65.0</td>\n",
       "      <td>8450</td>\n",
       "      <td>Pave</td>\n",
       "      <td>NaN</td>\n",
       "      <td>Reg</td>\n",
       "      <td>Lvl</td>\n",
       "      <td>AllPub</td>\n",
       "      <td>...</td>\n",
       "      <td>0</td>\n",
       "      <td>NaN</td>\n",
       "      <td>NaN</td>\n",
       "      <td>NaN</td>\n",
       "      <td>0</td>\n",
       "      <td>2</td>\n",
       "      <td>2008</td>\n",
       "      <td>WD</td>\n",
       "      <td>Normal</td>\n",
       "      <td>208500</td>\n",
       "    </tr>\n",
       "    <tr>\n",
       "      <th>1</th>\n",
       "      <td>2</td>\n",
       "      <td>20</td>\n",
       "      <td>RL</td>\n",
       "      <td>80.0</td>\n",
       "      <td>9600</td>\n",
       "      <td>Pave</td>\n",
       "      <td>NaN</td>\n",
       "      <td>Reg</td>\n",
       "      <td>Lvl</td>\n",
       "      <td>AllPub</td>\n",
       "      <td>...</td>\n",
       "      <td>0</td>\n",
       "      <td>NaN</td>\n",
       "      <td>NaN</td>\n",
       "      <td>NaN</td>\n",
       "      <td>0</td>\n",
       "      <td>5</td>\n",
       "      <td>2007</td>\n",
       "      <td>WD</td>\n",
       "      <td>Normal</td>\n",
       "      <td>181500</td>\n",
       "    </tr>\n",
       "    <tr>\n",
       "      <th>2</th>\n",
       "      <td>3</td>\n",
       "      <td>60</td>\n",
       "      <td>RL</td>\n",
       "      <td>68.0</td>\n",
       "      <td>11250</td>\n",
       "      <td>Pave</td>\n",
       "      <td>NaN</td>\n",
       "      <td>IR1</td>\n",
       "      <td>Lvl</td>\n",
       "      <td>AllPub</td>\n",
       "      <td>...</td>\n",
       "      <td>0</td>\n",
       "      <td>NaN</td>\n",
       "      <td>NaN</td>\n",
       "      <td>NaN</td>\n",
       "      <td>0</td>\n",
       "      <td>9</td>\n",
       "      <td>2008</td>\n",
       "      <td>WD</td>\n",
       "      <td>Normal</td>\n",
       "      <td>223500</td>\n",
       "    </tr>\n",
       "    <tr>\n",
       "      <th>3</th>\n",
       "      <td>4</td>\n",
       "      <td>70</td>\n",
       "      <td>RL</td>\n",
       "      <td>60.0</td>\n",
       "      <td>9550</td>\n",
       "      <td>Pave</td>\n",
       "      <td>NaN</td>\n",
       "      <td>IR1</td>\n",
       "      <td>Lvl</td>\n",
       "      <td>AllPub</td>\n",
       "      <td>...</td>\n",
       "      <td>0</td>\n",
       "      <td>NaN</td>\n",
       "      <td>NaN</td>\n",
       "      <td>NaN</td>\n",
       "      <td>0</td>\n",
       "      <td>2</td>\n",
       "      <td>2006</td>\n",
       "      <td>WD</td>\n",
       "      <td>Abnorml</td>\n",
       "      <td>140000</td>\n",
       "    </tr>\n",
       "    <tr>\n",
       "      <th>4</th>\n",
       "      <td>5</td>\n",
       "      <td>60</td>\n",
       "      <td>RL</td>\n",
       "      <td>84.0</td>\n",
       "      <td>14260</td>\n",
       "      <td>Pave</td>\n",
       "      <td>NaN</td>\n",
       "      <td>IR1</td>\n",
       "      <td>Lvl</td>\n",
       "      <td>AllPub</td>\n",
       "      <td>...</td>\n",
       "      <td>0</td>\n",
       "      <td>NaN</td>\n",
       "      <td>NaN</td>\n",
       "      <td>NaN</td>\n",
       "      <td>0</td>\n",
       "      <td>12</td>\n",
       "      <td>2008</td>\n",
       "      <td>WD</td>\n",
       "      <td>Normal</td>\n",
       "      <td>250000</td>\n",
       "    </tr>\n",
       "  </tbody>\n",
       "</table>\n",
       "<p>5 rows × 81 columns</p>\n",
       "</div>"
      ],
      "text/plain": [
       "   Id  MSSubClass MSZoning  LotFrontage  LotArea Street Alley LotShape  \\\n",
       "0   1          60       RL         65.0     8450   Pave   NaN      Reg   \n",
       "1   2          20       RL         80.0     9600   Pave   NaN      Reg   \n",
       "2   3          60       RL         68.0    11250   Pave   NaN      IR1   \n",
       "3   4          70       RL         60.0     9550   Pave   NaN      IR1   \n",
       "4   5          60       RL         84.0    14260   Pave   NaN      IR1   \n",
       "\n",
       "  LandContour Utilities    ...     PoolArea PoolQC Fence MiscFeature MiscVal  \\\n",
       "0         Lvl    AllPub    ...            0    NaN   NaN         NaN       0   \n",
       "1         Lvl    AllPub    ...            0    NaN   NaN         NaN       0   \n",
       "2         Lvl    AllPub    ...            0    NaN   NaN         NaN       0   \n",
       "3         Lvl    AllPub    ...            0    NaN   NaN         NaN       0   \n",
       "4         Lvl    AllPub    ...            0    NaN   NaN         NaN       0   \n",
       "\n",
       "  MoSold YrSold  SaleType  SaleCondition  SalePrice  \n",
       "0      2   2008        WD         Normal     208500  \n",
       "1      5   2007        WD         Normal     181500  \n",
       "2      9   2008        WD         Normal     223500  \n",
       "3      2   2006        WD        Abnorml     140000  \n",
       "4     12   2008        WD         Normal     250000  \n",
       "\n",
       "[5 rows x 81 columns]"
      ]
     },
     "execution_count": 4,
     "metadata": {},
     "output_type": "execute_result"
    }
   ],
   "source": [
    "# Read Dataset\n",
    "train = pd.read_csv('C:\\\\House prediction data kaggle\\\\advncd reg tecniq house price pred\\\\train.csv')\n",
    "test  = pd.read_csv('C:\\\\House prediction data kaggle\\\\advncd reg tecniq house price pred\\\\test.csv')\n",
    "train.head()"
   ]
  },
  {
   "cell_type": "code",
   "execution_count": 5,
   "metadata": {
    "collapsed": true
   },
   "outputs": [],
   "source": [
    "#--------- Descriptive Stats And Variable Exploration ---------#"
   ]
  },
  {
   "cell_type": "code",
   "execution_count": 6,
   "metadata": {},
   "outputs": [
    {
     "data": {
      "text/html": [
       "<div>\n",
       "<style>\n",
       "    .dataframe thead tr:only-child th {\n",
       "        text-align: right;\n",
       "    }\n",
       "\n",
       "    .dataframe thead th {\n",
       "        text-align: left;\n",
       "    }\n",
       "\n",
       "    .dataframe tbody tr th {\n",
       "        vertical-align: top;\n",
       "    }\n",
       "</style>\n",
       "<table border=\"1\" class=\"dataframe\">\n",
       "  <thead>\n",
       "    <tr style=\"text-align: right;\">\n",
       "      <th></th>\n",
       "      <th>Id</th>\n",
       "      <th>MSSubClass</th>\n",
       "      <th>LotFrontage</th>\n",
       "      <th>LotArea</th>\n",
       "      <th>OverallQual</th>\n",
       "      <th>OverallCond</th>\n",
       "      <th>YearBuilt</th>\n",
       "      <th>YearRemodAdd</th>\n",
       "      <th>MasVnrArea</th>\n",
       "      <th>BsmtFinSF1</th>\n",
       "      <th>...</th>\n",
       "      <th>WoodDeckSF</th>\n",
       "      <th>OpenPorchSF</th>\n",
       "      <th>EnclosedPorch</th>\n",
       "      <th>3SsnPorch</th>\n",
       "      <th>ScreenPorch</th>\n",
       "      <th>PoolArea</th>\n",
       "      <th>MiscVal</th>\n",
       "      <th>MoSold</th>\n",
       "      <th>YrSold</th>\n",
       "      <th>SalePrice</th>\n",
       "    </tr>\n",
       "  </thead>\n",
       "  <tbody>\n",
       "    <tr>\n",
       "      <th>count</th>\n",
       "      <td>1460.000000</td>\n",
       "      <td>1460.000000</td>\n",
       "      <td>1201.000000</td>\n",
       "      <td>1460.000000</td>\n",
       "      <td>1460.000000</td>\n",
       "      <td>1460.000000</td>\n",
       "      <td>1460.000000</td>\n",
       "      <td>1460.000000</td>\n",
       "      <td>1452.000000</td>\n",
       "      <td>1460.000000</td>\n",
       "      <td>...</td>\n",
       "      <td>1460.000000</td>\n",
       "      <td>1460.000000</td>\n",
       "      <td>1460.000000</td>\n",
       "      <td>1460.000000</td>\n",
       "      <td>1460.000000</td>\n",
       "      <td>1460.000000</td>\n",
       "      <td>1460.000000</td>\n",
       "      <td>1460.000000</td>\n",
       "      <td>1460.000000</td>\n",
       "      <td>1460.000000</td>\n",
       "    </tr>\n",
       "    <tr>\n",
       "      <th>mean</th>\n",
       "      <td>730.500000</td>\n",
       "      <td>56.897260</td>\n",
       "      <td>70.049958</td>\n",
       "      <td>10516.828082</td>\n",
       "      <td>6.099315</td>\n",
       "      <td>5.575342</td>\n",
       "      <td>1971.267808</td>\n",
       "      <td>1984.865753</td>\n",
       "      <td>103.685262</td>\n",
       "      <td>443.639726</td>\n",
       "      <td>...</td>\n",
       "      <td>94.244521</td>\n",
       "      <td>46.660274</td>\n",
       "      <td>21.954110</td>\n",
       "      <td>3.409589</td>\n",
       "      <td>15.060959</td>\n",
       "      <td>2.758904</td>\n",
       "      <td>43.489041</td>\n",
       "      <td>6.321918</td>\n",
       "      <td>2007.815753</td>\n",
       "      <td>180921.195890</td>\n",
       "    </tr>\n",
       "    <tr>\n",
       "      <th>std</th>\n",
       "      <td>421.610009</td>\n",
       "      <td>42.300571</td>\n",
       "      <td>24.284752</td>\n",
       "      <td>9981.264932</td>\n",
       "      <td>1.382997</td>\n",
       "      <td>1.112799</td>\n",
       "      <td>30.202904</td>\n",
       "      <td>20.645407</td>\n",
       "      <td>181.066207</td>\n",
       "      <td>456.098091</td>\n",
       "      <td>...</td>\n",
       "      <td>125.338794</td>\n",
       "      <td>66.256028</td>\n",
       "      <td>61.119149</td>\n",
       "      <td>29.317331</td>\n",
       "      <td>55.757415</td>\n",
       "      <td>40.177307</td>\n",
       "      <td>496.123024</td>\n",
       "      <td>2.703626</td>\n",
       "      <td>1.328095</td>\n",
       "      <td>79442.502883</td>\n",
       "    </tr>\n",
       "    <tr>\n",
       "      <th>min</th>\n",
       "      <td>1.000000</td>\n",
       "      <td>20.000000</td>\n",
       "      <td>21.000000</td>\n",
       "      <td>1300.000000</td>\n",
       "      <td>1.000000</td>\n",
       "      <td>1.000000</td>\n",
       "      <td>1872.000000</td>\n",
       "      <td>1950.000000</td>\n",
       "      <td>0.000000</td>\n",
       "      <td>0.000000</td>\n",
       "      <td>...</td>\n",
       "      <td>0.000000</td>\n",
       "      <td>0.000000</td>\n",
       "      <td>0.000000</td>\n",
       "      <td>0.000000</td>\n",
       "      <td>0.000000</td>\n",
       "      <td>0.000000</td>\n",
       "      <td>0.000000</td>\n",
       "      <td>1.000000</td>\n",
       "      <td>2006.000000</td>\n",
       "      <td>34900.000000</td>\n",
       "    </tr>\n",
       "    <tr>\n",
       "      <th>25%</th>\n",
       "      <td>365.750000</td>\n",
       "      <td>20.000000</td>\n",
       "      <td>59.000000</td>\n",
       "      <td>7553.500000</td>\n",
       "      <td>5.000000</td>\n",
       "      <td>5.000000</td>\n",
       "      <td>1954.000000</td>\n",
       "      <td>1967.000000</td>\n",
       "      <td>0.000000</td>\n",
       "      <td>0.000000</td>\n",
       "      <td>...</td>\n",
       "      <td>0.000000</td>\n",
       "      <td>0.000000</td>\n",
       "      <td>0.000000</td>\n",
       "      <td>0.000000</td>\n",
       "      <td>0.000000</td>\n",
       "      <td>0.000000</td>\n",
       "      <td>0.000000</td>\n",
       "      <td>5.000000</td>\n",
       "      <td>2007.000000</td>\n",
       "      <td>129975.000000</td>\n",
       "    </tr>\n",
       "    <tr>\n",
       "      <th>50%</th>\n",
       "      <td>730.500000</td>\n",
       "      <td>50.000000</td>\n",
       "      <td>69.000000</td>\n",
       "      <td>9478.500000</td>\n",
       "      <td>6.000000</td>\n",
       "      <td>5.000000</td>\n",
       "      <td>1973.000000</td>\n",
       "      <td>1994.000000</td>\n",
       "      <td>0.000000</td>\n",
       "      <td>383.500000</td>\n",
       "      <td>...</td>\n",
       "      <td>0.000000</td>\n",
       "      <td>25.000000</td>\n",
       "      <td>0.000000</td>\n",
       "      <td>0.000000</td>\n",
       "      <td>0.000000</td>\n",
       "      <td>0.000000</td>\n",
       "      <td>0.000000</td>\n",
       "      <td>6.000000</td>\n",
       "      <td>2008.000000</td>\n",
       "      <td>163000.000000</td>\n",
       "    </tr>\n",
       "    <tr>\n",
       "      <th>75%</th>\n",
       "      <td>1095.250000</td>\n",
       "      <td>70.000000</td>\n",
       "      <td>80.000000</td>\n",
       "      <td>11601.500000</td>\n",
       "      <td>7.000000</td>\n",
       "      <td>6.000000</td>\n",
       "      <td>2000.000000</td>\n",
       "      <td>2004.000000</td>\n",
       "      <td>166.000000</td>\n",
       "      <td>712.250000</td>\n",
       "      <td>...</td>\n",
       "      <td>168.000000</td>\n",
       "      <td>68.000000</td>\n",
       "      <td>0.000000</td>\n",
       "      <td>0.000000</td>\n",
       "      <td>0.000000</td>\n",
       "      <td>0.000000</td>\n",
       "      <td>0.000000</td>\n",
       "      <td>8.000000</td>\n",
       "      <td>2009.000000</td>\n",
       "      <td>214000.000000</td>\n",
       "    </tr>\n",
       "    <tr>\n",
       "      <th>max</th>\n",
       "      <td>1460.000000</td>\n",
       "      <td>190.000000</td>\n",
       "      <td>313.000000</td>\n",
       "      <td>215245.000000</td>\n",
       "      <td>10.000000</td>\n",
       "      <td>9.000000</td>\n",
       "      <td>2010.000000</td>\n",
       "      <td>2010.000000</td>\n",
       "      <td>1600.000000</td>\n",
       "      <td>5644.000000</td>\n",
       "      <td>...</td>\n",
       "      <td>857.000000</td>\n",
       "      <td>547.000000</td>\n",
       "      <td>552.000000</td>\n",
       "      <td>508.000000</td>\n",
       "      <td>480.000000</td>\n",
       "      <td>738.000000</td>\n",
       "      <td>15500.000000</td>\n",
       "      <td>12.000000</td>\n",
       "      <td>2010.000000</td>\n",
       "      <td>755000.000000</td>\n",
       "    </tr>\n",
       "  </tbody>\n",
       "</table>\n",
       "<p>8 rows × 38 columns</p>\n",
       "</div>"
      ],
      "text/plain": [
       "                Id   MSSubClass  LotFrontage        LotArea  OverallQual  \\\n",
       "count  1460.000000  1460.000000  1201.000000    1460.000000  1460.000000   \n",
       "mean    730.500000    56.897260    70.049958   10516.828082     6.099315   \n",
       "std     421.610009    42.300571    24.284752    9981.264932     1.382997   \n",
       "min       1.000000    20.000000    21.000000    1300.000000     1.000000   \n",
       "25%     365.750000    20.000000    59.000000    7553.500000     5.000000   \n",
       "50%     730.500000    50.000000    69.000000    9478.500000     6.000000   \n",
       "75%    1095.250000    70.000000    80.000000   11601.500000     7.000000   \n",
       "max    1460.000000   190.000000   313.000000  215245.000000    10.000000   \n",
       "\n",
       "       OverallCond    YearBuilt  YearRemodAdd   MasVnrArea   BsmtFinSF1  \\\n",
       "count  1460.000000  1460.000000   1460.000000  1452.000000  1460.000000   \n",
       "mean      5.575342  1971.267808   1984.865753   103.685262   443.639726   \n",
       "std       1.112799    30.202904     20.645407   181.066207   456.098091   \n",
       "min       1.000000  1872.000000   1950.000000     0.000000     0.000000   \n",
       "25%       5.000000  1954.000000   1967.000000     0.000000     0.000000   \n",
       "50%       5.000000  1973.000000   1994.000000     0.000000   383.500000   \n",
       "75%       6.000000  2000.000000   2004.000000   166.000000   712.250000   \n",
       "max       9.000000  2010.000000   2010.000000  1600.000000  5644.000000   \n",
       "\n",
       "           ...         WoodDeckSF  OpenPorchSF  EnclosedPorch    3SsnPorch  \\\n",
       "count      ...        1460.000000  1460.000000    1460.000000  1460.000000   \n",
       "mean       ...          94.244521    46.660274      21.954110     3.409589   \n",
       "std        ...         125.338794    66.256028      61.119149    29.317331   \n",
       "min        ...           0.000000     0.000000       0.000000     0.000000   \n",
       "25%        ...           0.000000     0.000000       0.000000     0.000000   \n",
       "50%        ...           0.000000    25.000000       0.000000     0.000000   \n",
       "75%        ...         168.000000    68.000000       0.000000     0.000000   \n",
       "max        ...         857.000000   547.000000     552.000000   508.000000   \n",
       "\n",
       "       ScreenPorch     PoolArea       MiscVal       MoSold       YrSold  \\\n",
       "count  1460.000000  1460.000000   1460.000000  1460.000000  1460.000000   \n",
       "mean     15.060959     2.758904     43.489041     6.321918  2007.815753   \n",
       "std      55.757415    40.177307    496.123024     2.703626     1.328095   \n",
       "min       0.000000     0.000000      0.000000     1.000000  2006.000000   \n",
       "25%       0.000000     0.000000      0.000000     5.000000  2007.000000   \n",
       "50%       0.000000     0.000000      0.000000     6.000000  2008.000000   \n",
       "75%       0.000000     0.000000      0.000000     8.000000  2009.000000   \n",
       "max     480.000000   738.000000  15500.000000    12.000000  2010.000000   \n",
       "\n",
       "           SalePrice  \n",
       "count    1460.000000  \n",
       "mean   180921.195890  \n",
       "std     79442.502883  \n",
       "min     34900.000000  \n",
       "25%    129975.000000  \n",
       "50%    163000.000000  \n",
       "75%    214000.000000  \n",
       "max    755000.000000  \n",
       "\n",
       "[8 rows x 38 columns]"
      ]
     },
     "execution_count": 6,
     "metadata": {},
     "output_type": "execute_result"
    }
   ],
   "source": [
    "train.describe()"
   ]
  },
  {
   "cell_type": "code",
   "execution_count": 7,
   "metadata": {},
   "outputs": [
    {
     "name": "stdout",
     "output_type": "stream",
     "text": [
      "skewness: 1.882876\n",
      "jurtosis: 6.536282\n"
     ]
    },
    {
     "ename": "NameError",
     "evalue": "name 'skew' is not defined",
     "output_type": "error",
     "traceback": [
      "\u001b[1;31m---------------------------------------------------------------------------\u001b[0m",
      "\u001b[1;31mNameError\u001b[0m                                 Traceback (most recent call last)",
      "\u001b[1;32m<ipython-input-7-7406f5c29719>\u001b[0m in \u001b[0;36m<module>\u001b[1;34m()\u001b[0m\n\u001b[0;32m      6\u001b[0m \u001b[0mprint\u001b[0m\u001b[1;33m(\u001b[0m\u001b[1;34m\"skewness: %f\"\u001b[0m \u001b[1;33m%\u001b[0m \u001b[0mtrain\u001b[0m\u001b[1;33m[\u001b[0m\u001b[1;34m'SalePrice'\u001b[0m\u001b[1;33m]\u001b[0m\u001b[1;33m.\u001b[0m\u001b[0mskew\u001b[0m\u001b[1;33m(\u001b[0m\u001b[1;33m)\u001b[0m\u001b[1;33m)\u001b[0m\u001b[1;33m\u001b[0m\u001b[0m\n\u001b[0;32m      7\u001b[0m \u001b[0mprint\u001b[0m\u001b[1;33m(\u001b[0m\u001b[1;34m\"jurtosis: %f\"\u001b[0m \u001b[1;33m%\u001b[0m \u001b[0mtrain\u001b[0m\u001b[1;33m[\u001b[0m\u001b[1;34m'SalePrice'\u001b[0m\u001b[1;33m]\u001b[0m\u001b[1;33m.\u001b[0m\u001b[0mkurt\u001b[0m\u001b[1;33m(\u001b[0m\u001b[1;33m)\u001b[0m\u001b[1;33m)\u001b[0m\u001b[1;33m\u001b[0m\u001b[0m\n\u001b[1;32m----> 8\u001b[1;33m \u001b[0mprint\u001b[0m\u001b[1;33m(\u001b[0m\u001b[0mskew\u001b[0m\u001b[1;33m)\u001b[0m\u001b[1;33m\u001b[0m\u001b[0m\n\u001b[0m",
      "\u001b[1;31mNameError\u001b[0m: name 'skew' is not defined"
     ]
    },
    {
     "data": {
      "image/png": "[encoded data removed]",
      "text/plain": [
       "<matplotlib.figure.Figure at 0x1d695973f60>"
      ]
     },
     "metadata": {},
     "output_type": "display_data"
    }
   ],
   "source": [
    "# UniVariable Study\n",
    "# Let us see the distribution of Target Variable i.e. \"SalePrice\" \n",
    "sns.distplot(train['SalePrice'])\n",
    "# From the above figure we could see skewnwss\n",
    "# let us find the skew and kurtosis values\n",
    "print(\"skewness: %f\" % train['SalePrice'].skew())\n",
    "print(\"jurtosis: %f\" % train['SalePrice'].kurt())\n",
    "print(skew)"
   ]
  },
  {
   "cell_type": "code",
   "execution_count": null,
   "metadata": {
    "collapsed": true
   },
   "outputs": [],
   "source": [
    "sns.distplot(train['SalePrice'],kde=False, bins=14)\n",
    "plt.xlabel('saleprice')\n",
    "plt.ylabel('frequency')\n",
    "plt.legend(['bins = 14', train['SalePrice'].skew(), train['SalePrice'].kurt()])\n",
    "plt.show()"
   ]
  },
  {
   "cell_type": "code",
   "execution_count": null,
   "metadata": {
    "collapsed": true
   },
   "outputs": [],
   "source": []
  },
  {
   "cell_type": "code",
   "execution_count": null,
   "metadata": {
    "collapsed": true
   },
   "outputs": [],
   "source": [
    "# By Variable Study of SalePrice with Other Numberical Variables.\n",
    "# grlivarea/saleprice\n",
    "sns.regplot(x = train['GrLivArea'], y = train['SalePrice'],color='g')\n",
    "plt.ylabel('saleprice', fontsize=13)\n",
    "plt.xlabel('GrlivArea', fontsize=13)\n",
    "cor = train['SalePrice'].corr(train['GrLivArea'])\n",
    "plt.legend([cor*100])\n",
    "plt.show()\n",
    "\n",
    "# TotalBsmtSF/saleprice\n",
    "sns.regplot(x = train['GrLivArea'], y = train['SalePrice'],color='g')\n",
    "plt.ylabel('saleprice', fontsize=13)\n",
    "plt.xlabel('TotalBsmtSF', fontsize=13)\n",
    "cor1 = train['SalePrice'].corr(train['TotalBsmtSF'])\n",
    "plt.legend([cor1*100])\n",
    "plt.show()\n",
    "# Both GrlivArea and TotalBsmtSF Have High Correlation/Linear Relationship with SalePrice.\n",
    "# Means As one variable increases other variable also increases."
   ]
  },
  {
   "cell_type": "code",
   "execution_count": null,
   "metadata": {
    "collapsed": true
   },
   "outputs": [],
   "source": [
    "# RelationShip with Categorical Varibles\n",
    "# OverallQual/SalePrice\n",
    "print(train['OverallQual'].unique())\n",
    "sns.boxplot(x=train['OverallQual'], y=train[\"SalePrice\"], data=train)"
   ]
  },
  {
   "cell_type": "code",
   "execution_count": null,
   "metadata": {
    "collapsed": true
   },
   "outputs": [],
   "source": [
    "# YearBuilt/SalePrice\n",
    "print(train['YearBuilt'].unique(), \n",
    "      max(train['YearBuilt'].unique()),\n",
    "     min(train['YearBuilt'].unique()))\n",
    "sns.boxplot(x=train['YearBuilt'], y=train[\"SalePrice\"], data=train)\n",
    "plt.legend(['year 1872 - 2010'])\n",
    "\n",
    "# OverallQual' and 'YearBuilt' also seem to be related with 'SalePrice'. The relationship seems to be stronger \n",
    "# in the case of 'OverallQual', where the box plot shows how sales prices increase with the overall quality."
   ]
  },
  {
   "cell_type": "code",
   "execution_count": null,
   "metadata": {
    "collapsed": true
   },
   "outputs": [],
   "source": [
    "# Data Preprocessing"
   ]
  },
  {
   "cell_type": "code",
   "execution_count": null,
   "metadata": {
    "collapsed": true
   },
   "outputs": [],
   "source": [
    "# Remove Column Id\n",
    "train_ID = train['Id']  # making a copy of column Id\n",
    "test_ID = test['Id']\n",
    "train.drop('Id', axis = 1, inplace = True)\n",
    "test.drop('Id', axis = 1, inplace = True)"
   ]
  },
  {
   "cell_type": "code",
   "execution_count": null,
   "metadata": {
    "collapsed": true
   },
   "outputs": [],
   "source": [
    "# Missing Values\n",
    "train['TotalBsmtSF'] = train['TotalBsmtSF'].fillna(method = 'backfill')\n",
    "TotalBsmtSF_na = pd.DataFrame(train['TotalBsmtSF'])\n",
    "type(TotalBsmtSF_na)"
   ]
  },
  {
   "cell_type": "code",
   "execution_count": null,
   "metadata": {
    "collapsed": true
   },
   "outputs": [],
   "source": [
    "train['TotalBsmtSF'].isnull().sum()"
   ]
  },
  {
   "cell_type": "code",
   "execution_count": 153,
   "metadata": {
    "scrolled": true
   },
   "outputs": [
    {
     "name": "stdout",
     "output_type": "stream",
     "text": [
      "      TotalBsmtSF\n",
      "912           768\n",
      "373           608\n",
      "20           1158\n",
      "800           616\n",
      "152           825\n",
      "906          1623\n",
      "1109         1836\n",
      "1007          546\n",
      "264           680\n",
      "1407          833\n",
      "[ 257409.19011168  206788.65474407  176093.22372328  192894.93333466\n",
      "  187832.8797979   178247.28905807  220359.26635326  159937.73371234\n",
      "  218851.4206189   165753.71011628  172000.49958718  212927.74094823\n",
      "  227467.68195807  157999.07491103  161014.76637974  151967.69197361\n",
      "  261394.21098104  172539.01592088  172000.49958718  207757.98414472\n",
      "  351111.03217513  192679.52680118  170061.84078587  127842.16022394\n",
      "  183093.93606136  197203.06400424  144536.16656858  123534.02955436\n",
      "  172646.71918762  152937.02137427  176093.22372328  132150.29089353\n",
      "  160583.95331278  154337.16384188  185140.29812941  142166.69470031\n",
      "  132365.69742701  160799.35984626  199464.83260578  177816.47599112\n",
      "  154767.97690884  141197.36529965  164568.97418215  131719.47782657\n",
      "  226175.2427572   186755.8471305   195910.62480337  182663.1229944\n",
      "  147659.56130403  133442.7300944   153044.72464101   98762.27820425\n",
      "  149490.5168386   176308.63025676  174369.97145545  146259.41883641\n",
      "  211527.59848061  205173.10574297  172108.20285392  182663.1229944\n",
      "  181370.68379352  127734.4569572   199787.94240599  161445.5794467\n",
      "  228437.01135873  198926.31627208  155521.89977602  198710.9097386\n",
      "  183632.45239505  157891.37164429  165753.71011628  162522.61211409\n",
      "  169307.91791869  180616.76092635  145936.3090362   229190.9342259\n",
      "  167692.36891759  135381.38889572  201942.00774079  148952.0005049\n",
      "  251054.69737404  160153.14024582  145613.19923598  222297.92515457\n",
      "  214758.6964828   129134.59942482  196664.54767055  168553.99505151\n",
      "  185463.40792963  187725.17653116  175662.41065632  166615.3362502\n",
      "  146797.93517011  160583.95331278  210773.67561343  168338.58851803\n",
      "  145074.68290228  156060.41610972  149813.62663882  228437.01135873\n",
      "  164461.27091541  146044.01230294  155414.19650928  160583.95331278\n",
      "   67528.33084977  272703.0539887   183847.85892853  266133.15471759\n",
      "  174477.67472219  179539.72825895  108886.38527777  207973.3906782\n",
      "  172969.82898783  157999.07491103  155629.60304276  126442.01775633\n",
      "  263763.68284931  242976.95236857  155414.19650928   67528.33084977\n",
      "  158860.70104495  295966.95960445   67528.33084977  137535.45423051\n",
      "  242653.84256835  212820.03768149  144536.16656858  170169.54405261\n",
      "  169631.02771891  198064.69013816  157137.44877711  144320.7600351\n",
      "  157245.15204385  231021.88976048  145936.3090362   228006.19829177\n",
      "  123534.02955436  231452.70282744  139904.92609878  177277.95965742\n",
      "  196987.65747076  165753.71011628  158968.40431169  291120.31260117\n",
      "  215404.91608324  163815.05131497  226821.46235763  187509.76999768\n",
      "  216051.13568367  147982.67110425  184063.26546201  152829.31810753\n",
      "  195695.21826989  154121.75730841  173939.15838849  181262.98052678\n",
      "  253639.57577579  297582.50860555  153260.13117449  177062.55312394\n",
      "  132150.29089353  227144.57215785  287889.21459898  146044.01230294\n",
      "  214220.1801491   215081.80628302  149813.62663882  216805.05855085\n",
      "  212604.63114801  149813.62663882  165753.71011628  240068.9641666\n",
      "  188155.98959812  224021.1774224   170923.46691978  167476.96238412\n",
      "  188155.98959812  159399.21737865  274534.00952327  119225.89888478\n",
      "  191171.68106683  135381.38889572  217666.68468477  214220.1801491\n",
      "  160045.43697908  318476.94235303  192033.30720074  201080.38160687\n",
      "  168553.99505151  146690.23190337  188263.69286486  190848.57126661\n",
      "  145074.68290228   78837.17385743  199249.4260723   145936.3090362\n",
      "  101885.6729397   151536.87890665  181370.68379352  228652.41789221\n",
      "  141951.28816683  203665.26000862  212496.92788127  225421.31989002\n",
      "  412825.00401692  190310.05493291  146690.23190337  194079.6692688\n",
      "   67528.33084977  177601.06945764  163599.64478149  141089.66203291\n",
      "  141412.77183313  183093.93606136  155414.19650928  179539.72825895\n",
      "  190417.75819965  117287.24008346   95961.99326902  145397.7927025\n",
      "  190740.86799987  172000.49958718  169954.13751913  243946.28176923\n",
      "  112763.7028804   161876.39251366  168338.58851803  119764.41521847\n",
      "  208727.31354538  160583.95331278  174369.97145545   67528.33084977\n",
      "  161876.39251366  153475.53770797  261394.21098104  126442.01775633\n",
      "  172862.1257211   151321.47237318  254070.38884275  160583.95331278\n",
      "   87991.95153029  169200.21465195  240068.9641666   224021.1774224\n",
      "  275395.63565719  168984.80811847  206573.24821059  299951.98047382\n",
      "  176524.03679024  137966.26729747  266240.85798433  236945.56943116\n",
      "  160583.95331278  163815.05131497  202803.6338747   143136.02410097\n",
      "  247715.89610511  174154.56492197  215512.61934998  196772.25093729\n",
      "  131719.47782657  157029.74551037  158537.59124473   67528.33084977\n",
      "  182124.6066607   165215.19378258  184494.07852897  141197.36529965\n",
      "  155198.7899758   172000.49958718  162630.31538083  257947.70644538\n",
      "  171785.0930537   165538.3035828   172646.71918762  252777.94964188\n",
      "  133981.2464281   202911.33714144  106301.50687602  159722.32717886\n",
      "  163815.05131497  146367.12210315  217882.09121825  182016.90339396\n",
      "  203880.6665421   217451.27815129   67528.33084977  145074.68290228\n",
      "  221544.00228739  186432.73733028  108886.38527777  179647.43152569\n",
      "   67528.33084977  198387.79993838  172323.6093874   165538.3035828\n",
      "  286704.47866485  143136.02410097  167153.8525839   227790.79175829\n",
      "  151967.69197361  198818.61300534   67528.33084977  167476.96238412\n",
      "  216697.35528411  294674.52040358  151536.87890665  147982.67110425\n",
      "  208511.9070119   237699.49229833  162307.20558061  207219.46781103\n",
      "  154121.75730841  184494.07852897  170815.76365304  281427.01859461\n",
      "  242223.0295014   158860.70104495  179539.72825895  160583.95331278\n",
      "  240499.77723356  169092.51138521  108886.38527777  282934.86432896\n",
      "  154337.16384188  186540.44059702  177493.3661909   135381.38889572\n",
      "  151967.69197361  241576.80990096  187294.3634642   192248.71373422\n",
      "  162738.01864757  222190.22188783  139904.92609878  252670.24637514\n",
      "  183847.85892853  179539.72825895  203019.04040818  160799.35984626\n",
      "  141412.77183313   67528.33084977  177062.55312394  151859.98870687\n",
      "  185355.70466289  168661.69831825  148952.0005049   225852.13295698\n",
      "  160583.95331278  400762.23814208  168769.40158499  132150.29089353\n",
      "  258917.03584603  147874.96783751  196233.73460359  196126.03133685\n",
      "  155414.19650928  127842.16022394  198495.50320512  178678.10212503\n",
      "  145936.3090362   139904.92609878  251700.91697448  236837.86616442\n",
      "  150244.43970578  230914.18649374  151213.76910644  186863.55039724\n",
      "  182124.6066607   179539.72825895  203449.85347514  183093.93606136\n",
      "  215404.91608324  206250.13841037  160583.95331278  145074.68290228\n",
      "  169631.02771891  154552.57037536  161014.76637974  236407.05309746\n",
      "  164030.45784845  206034.73187689  245884.94057054  146367.12210315\n",
      "  150890.65930622  214004.77361562  157245.15204385  163815.05131497\n",
      "  155091.08670906  190525.46146639  204096.07307558  150244.43970578\n",
      "  137320.04769703  160583.95331278  180832.16745983  239315.04129943\n",
      "  185678.81446311  247392.7863049   185355.70466289  201726.60120731\n",
      "  181693.79359374  199787.94240599  203988.36980884  204419.1828758\n",
      "  160583.95331278  168230.88525129  139904.92609878  139904.92609878\n",
      "  145182.38616902  198495.50320512  186432.73733028  184709.48506245\n",
      "  198064.69013816  174800.78452241  218959.12388564  168877.10485173\n",
      "  280780.79899417  108886.38527777  181047.5739933   193002.6366014\n",
      "   67528.33084977  133873.54316136  209050.4233456   181909.20012722\n",
      "  191817.90066726  160583.95331278  155414.19650928  197633.8770712\n",
      "  160583.95331278  154552.57037536  141412.77183313  209588.9396793\n",
      "  198926.31627208  151106.0658397   181262.98052678  179432.02499221\n",
      "  248792.92877251  176093.22372328]\n",
      "3278866045.62\n"
     ]
    },
    {
     "data": {
      "text/plain": [
       "0.44031579716009017"
      ]
     },
     "execution_count": 153,
     "metadata": {},
     "output_type": "execute_result"
    }
   ],
   "source": [
    "# Model Building\n",
    "# Linear Regression\n",
    "from sklearn.linear_model import LinearRegression\n",
    "from sklearn.metrics import mean_squared_error, r2_score\n",
    "from sklearn.model_selection import train_test_split\n",
    "\n",
    "# train_data = train[['TotalBsmtSF', 'SalePrice']]\n",
    "# train_data = pd.DataFrame(train_data)\n",
    "\n",
    "X = TotalBsmtSF_na\n",
    "y = train['SalePrice']\n",
    "\n",
    "train_X, test_X, train_y, test_y = train_test_split(X, y, test_size=0.30, random_state = 10)\n",
    "print(train_X.head(10))\n",
    "lm = LinearRegression()\n",
    "lm.fit(train_X, train_y)\n",
    "y_pred = lm.predict(test_X)\n",
    "print(y_pred)\n",
    "\n",
    "mse = mean_squared_error(test_y,y_pred)\n",
    "print(mse)\n",
    "r2_score(test_y,y_pred)"
   ]
  },
  {
   "cell_type": "code",
   "execution_count": 131,
   "metadata": {},
   "outputs": [
    {
     "name": "stdout",
     "output_type": "stream",
     "text": [
      "[ 107.70326674]\n"
     ]
    }
   ],
   "source": [
    "print(lm.coef_)"
   ]
  },
  {
   "cell_type": "code",
   "execution_count": 132,
   "metadata": {},
   "outputs": [
    {
     "name": "stdout",
     "output_type": "stream",
     "text": [
      "True\n"
     ]
    }
   ],
   "source": [
    "print(lm.copy_X)"
   ]
  },
  {
   "cell_type": "code",
   "execution_count": 133,
   "metadata": {},
   "outputs": [
    {
     "name": "stdout",
     "output_type": "stream",
     "text": [
      "<bound method LinearRegression.fit of LinearRegression(copy_X=True, fit_intercept=True, n_jobs=1, normalize=False)>\n"
     ]
    }
   ],
   "source": [
    "print(lm.fit)"
   ]
  },
  {
   "cell_type": "code",
   "execution_count": 134,
   "metadata": {},
   "outputs": [
    {
     "name": "stdout",
     "output_type": "stream",
     "text": [
      "True\n"
     ]
    }
   ],
   "source": [
    "print(lm.fit_intercept)"
   ]
  },
  {
   "cell_type": "code",
   "execution_count": 135,
   "metadata": {},
   "outputs": [
    {
     "name": "stdout",
     "output_type": "stream",
     "text": [
      "<bound method BaseEstimator.get_params of LinearRegression(copy_X=True, fit_intercept=True, n_jobs=1, normalize=False)>\n"
     ]
    }
   ],
   "source": [
    "print(lm.get_params)"
   ]
  },
  {
   "cell_type": "code",
   "execution_count": 136,
   "metadata": {},
   "outputs": [
    {
     "name": "stdout",
     "output_type": "stream",
     "text": [
      "67528.3308498\n"
     ]
    }
   ],
   "source": [
    "print(lm.intercept_)"
   ]
  },
  {
   "cell_type": "code",
   "execution_count": 137,
   "metadata": {},
   "outputs": [
    {
     "name": "stdout",
     "output_type": "stream",
     "text": [
      "1\n"
     ]
    }
   ],
   "source": [
    "print(lm.n_jobs)"
   ]
  },
  {
   "cell_type": "code",
   "execution_count": 138,
   "metadata": {},
   "outputs": [
    {
     "name": "stdout",
     "output_type": "stream",
     "text": [
      "False\n"
     ]
    }
   ],
   "source": [
    "print(lm.normalize)"
   ]
  },
  {
   "cell_type": "code",
   "execution_count": 139,
   "metadata": {},
   "outputs": [
    {
     "name": "stdout",
     "output_type": "stream",
     "text": [
      "<bound method LinearModel.predict of LinearRegression(copy_X=True, fit_intercept=True, n_jobs=1, normalize=False)>\n"
     ]
    }
   ],
   "source": [
    "print(lm.predict)"
   ]
  },
  {
   "cell_type": "code",
   "execution_count": 140,
   "metadata": {},
   "outputs": [
    {
     "name": "stdout",
     "output_type": "stream",
     "text": [
      "1\n"
     ]
    }
   ],
   "source": [
    "print(lm.rank_)"
   ]
  },
  {
   "cell_type": "code",
   "execution_count": 141,
   "metadata": {},
   "outputs": [
    {
     "name": "stdout",
     "output_type": "stream",
     "text": [
      "<bound method RegressorMixin.score of LinearRegression(copy_X=True, fit_intercept=True, n_jobs=1, normalize=False)>\n"
     ]
    }
   ],
   "source": [
    "print(lm.score)"
   ]
  },
  {
   "cell_type": "code",
   "execution_count": 146,
   "metadata": {},
   "outputs": [
    {
     "data": {
      "text/plain": [
       "<bound method BaseEstimator.set_params of LinearRegression(copy_X=True, fit_intercept=True, n_jobs=1, normalize=False)>"
      ]
     },
     "execution_count": 146,
     "metadata": {},
     "output_type": "execute_result"
    }
   ],
   "source": [
    "lm.set_params"
   ]
  },
  {
   "cell_type": "code",
   "execution_count": 143,
   "metadata": {},
   "outputs": [
    {
     "name": "stdout",
     "output_type": "stream",
     "text": [
      "[ 14168.40185578]\n"
     ]
    }
   ],
   "source": [
    "print(lm.singular_)"
   ]
  },
  {
   "cell_type": "code",
   "execution_count": 145,
   "metadata": {},
   "outputs": [
    {
     "name": "stdout",
     "output_type": "stream",
     "text": [
      "[ 107.70326674]\n"
     ]
    }
   ],
   "source": [
    "print(lm.coef_)"
   ]
  },
  {
   "cell_type": "code",
   "execution_count": 147,
   "metadata": {},
   "outputs": [
    {
     "data": {
      "text/plain": [
       "<bound method BaseEstimator.get_params of LinearRegression(copy_X=True, fit_intercept=True, n_jobs=1, normalize=False)>"
      ]
     },
     "execution_count": 147,
     "metadata": {},
     "output_type": "execute_result"
    }
   ],
   "source": [
    "lm.get_params"
   ]
  },
  {
   "cell_type": "code",
   "execution_count": 150,
   "metadata": {
    "collapsed": true
   },
   "outputs": [],
   "source": [
    "GrLivArea_na = train['GrLivArea'].fillna(method='backfill')"
   ]
  },
  {
   "cell_type": "code",
   "execution_count": 162,
   "metadata": {},
   "outputs": [
    {
     "name": "stdout",
     "output_type": "stream",
     "text": [
      "      TotalBsmtSF  GrLivArea\n",
      "912           768       1015\n",
      "373           608       1319\n",
      "20           1158       2376\n",
      "800           616       1688\n",
      "152           825       1993\n",
      "906          1623       1636\n",
      "1109         1836       1836\n",
      "1007          546       1092\n",
      "264           680        764\n",
      "1407          833        833\n",
      "[ 245340.4168536   177285.01222955  135754.26571558  171155.49418875\n",
      "  262927.46012507  257603.29243311  194682.01967906  114247.78616687\n",
      "  192674.74825452  164937.09141751  192052.67499726  183452.16834383\n",
      "  202390.22783054  175586.14101213  138909.68062662  202566.35789155\n",
      "  249308.4777328   133445.91843623  194559.30764005  177906.96563106\n",
      "  368741.12749333  157917.80580702  149365.7751668   137195.35537114\n",
      "  206736.90319929  163856.06565924  172703.87057826   85338.25353084\n",
      "  183972.6110866   200347.46096457  137425.35414411  127389.29419885\n",
      "  118032.45009873  177061.47500948  152811.15954844   90590.65866328\n",
      "  152742.37368738  190760.88653597  282756.95531431  164785.70505719\n",
      "  178804.74303075  146451.49414593  145228.64013444  174107.59060482\n",
      "  203343.45095229  232082.53847977  243601.10818597  144500.23406539\n",
      "   98571.29708125  130112.46561986  188793.21849522   45175.97131349\n",
      "  170693.08556629  146401.76703309  222195.0367851   182684.90183468\n",
      "  182925.14419243  175802.79964609  130449.33409356  144500.23406539\n",
      "  142779.71570149  171058.62836132  167297.10238703  190117.16613225\n",
      "  205435.25945342  177847.70914411  198357.46029966  165863.33708378\n",
      "  135764.09226716  174523.66584611  150064.40440363  117688.82289466\n",
      "  129645.94905504  141776.07998922  156436.45602298  219640.49375105\n",
      "  204448.92323378  137706.50845128  285971.06109036  166216.25395049\n",
      "  235544.33082162  206444.40279643  158178.74138909  197262.79722491\n",
      "  187894.87547358  118277.93164275  163139.18300761  129895.62966416\n",
      "  218747.95553762  151238.93099066  135180.75959428  125977.98137549\n",
      "  156580.81520846  117447.56914875  310762.42631949  130444.42081777\n",
      "  217453.93332154  195063.73072282  189338.0790282   205435.25945342\n",
      "  199813.40963833  155660.73391762  108225.97189322  115108.04534881\n",
      "  119486.76003756  264363.0134169   194204.7226405   255617.04506709\n",
      "  138199.11093916  140342.31468597  133685.23560482  260327.71495375\n",
      "  213396.1249125   156285.06966266  142435.82005295  113523.75648466\n",
      "  252964.0879285   293222.16219539  108225.97189322   93501.33497398\n",
      "  112814.02086362  295332.34396705   64925.7228462   158705.34850728\n",
      "  227870.24715619  184645.66255633  107113.64975863  187275.75018181\n",
      "  224241.91159344  165003.07790183  110519.99637842  163560.34884643\n",
      "  195471.11065643  219404.15328093  144070.40165189  205780.85196781\n",
      "   65786.51891709  300691.23050002  111643.42489723  165572.80199124\n",
      "  243447.33948212  121990.1188044   220659.04661242  288880.40010244\n",
      "  203293.60398371  119409.34125856  204537.92781994  150952.17793001\n",
      "  274088.91389946  176874.14744152  219140.03002191  165361.89069949\n",
      "  237047.77351835  179866.23554161  132886.73510909  142636.33917117\n",
      "  238985.36754942  297482.99192192  161339.90364234  219763.53170053\n",
      "  108004.66842795  294956.16928703  284579.10419269  156663.38697473\n",
      "  205225.74785004  292433.81416171  172794.30358579  205241.05329935\n",
      "  292896.10292842  172794.30358579  121990.1188044   220919.9247285\n",
      "  151812.43711196  201729.23666719  131044.60721708  207170.12934447\n",
      "  152647.98132622  270111.8892681   266800.41443242   60051.4577041\n",
      "  155826.97996105  137706.50845128  191097.60642094  198541.39413594\n",
      "  141045.02313217  328138.88913342  203848.02262379  201770.95395003\n",
      "  125717.90859285  136969.25848581  151955.81364228  168431.34011258\n",
      "  101396.84196043   73546.56808047  242113.41670477  172144.68725112\n",
      "  127791.49241219  152779.29755017  224412.38543498  205722.01251407\n",
      "  157732.32369364  292108.58896116  197417.13155071  315221.83858693\n",
      "  319130.55678018  154679.96771845  207154.97248389  255702.17649862\n",
      "  119486.76003756  137761.53714013  119122.58819791  107622.42049524\n",
      "  143228.96150668  145073.74018669  205232.65516914  140342.31468597\n",
      "  248571.40508907  101420.30582848   73867.29703844  151040.52577148\n",
      "  155253.47383975  192052.67499726  127581.80348707  226749.9151916\n",
      "   75512.53925539  126186.65891246  195616.86953028  156855.92499595\n",
      "  271692.09892288  115108.04534881  222696.36331366  136030.53547996\n",
      "  120755.62151975  202234.10551616  249308.4777328   113523.75648466\n",
      "  215425.16333925  162184.85737497  243235.26821347  115108.04534881\n",
      "   76626.14122261  131173.66095324  191675.8772293   312940.17158557\n",
      "  268782.97088928  258223.84614625  176329.82379749  303812.34360327\n",
      "  138165.96910826  155351.79682154  258016.39097592  216762.00534908\n",
      "  115108.04534881  119409.34125856  171311.64523612  178861.20014096\n",
      "  360525.45717087  133173.48816974  203520.53493546  163282.55953794\n",
      "  126481.57039184  179643.23521049  116394.5035011    87485.41663129\n",
      "  141778.04529954  121273.23615278  158468.14523774  145365.28666739\n",
      "  116211.10655378  130305.95756324  169803.04955213  244720.42876241\n",
      "  130019.20450259  161391.71592124  192328.05322923  237838.35530682\n",
      "  137597.25640701  172207.01155929  164167.2939761   181807.22330436\n",
      "  119409.34125856  128852.12212362  274604.56322217  162356.16528293\n",
      "  172745.41053937  307118.60798568  139205.60349416  133899.51189525\n",
      "  214390.47096214  239757.18776715  137194.52130472  147504.26261611\n",
      "  150151.23270101  165433.20749281  204013.31474507  198239.21577023\n",
      "  323108.08464374  156969.94172728  130037.04088417  205744.76217144\n",
      "  103637.92292283  169850.21699972   70106.09697462  194135.63960197\n",
      "  187969.02037664  293946.04328886  173250.13079961   98332.99130082\n",
      "  181417.23398613  248931.44025335  191598.39606055  177190.08297944\n",
      "  243785.36793271  216956.24023614  188219.56378518  276060.06679463\n",
      "  224455.8907064   112814.02086362  140342.31468597  115108.04534881\n",
      "  225253.37981398  184505.11413574  130677.27643347  277983.78379775\n",
      "  171296.21993107  247336.90780441  251168.61932812   81557.93725282\n",
      "  140151.20508612  222927.19615304  152754.28540501  157260.7452643\n",
      "  158332.36150421  218258.68931543  133200.46562521  237694.97877649\n",
      "  231052.2224895   205347.65455562  171598.39829677  190760.88653597\n",
      "  193361.61436245   19137.89990459  223941.25277184  162066.19581233\n",
      "  148084.64732351  173821.52302186  131206.95137287  371024.817271\n",
      "  118283.11336301  377018.04834606  180732.80768771  129311.04589165\n",
      "  247514.797121    174224.13826841  216374.72428484  162422.30035599\n",
      "  108225.97189322  119565.3724502   191478.45466528  139195.30244338\n",
      "  156436.45602298  132866.2479395   236404.59000357  216618.62881875\n",
      "  103098.54128759  210236.89923656  229052.12682853  232727.24153865\n",
      "  202522.10967645  162818.45404964  172171.90441807  145073.74018669\n",
      "  203293.60398371  270232.63599679  115108.04534881   94461.82498205\n",
      "  127151.67389609  204085.64292654  212019.79937462  265175.12249611\n",
      "  223804.90341636  176281.37651728  228662.25736603  188593.53344342\n",
      "  201968.13680257  192238.72273259  110663.37290875  119409.34125856\n",
      "  107795.84230225  286397.82568265  172697.94591432  137439.40849379\n",
      "  110207.69428366  143182.33094805  214588.07084789  221670.93186617\n",
      "  148514.77691449  230669.52879058  264058.1842632   169877.87993288\n",
      "  143209.84529247  167297.10238703  175311.86529106  201035.25226167\n",
      "  115108.04534881  125287.77900187  143728.32272492  108635.46572588\n",
      "  104631.73208353  165576.58402313  206669.63688234  212480.39127549\n",
      "  165003.07790183  134033.74735168  237101.96814077  170348.32711833\n",
      "  275116.25319126  138030.06551898  276036.66039258  172552.18704046\n",
      "  178392.62714309  146059.98528359  179627.48399496  167727.38056674\n",
      "  156687.239143    115108.04534881  108225.97189322  164429.57178054\n",
      "  115108.04534881  172669.18047026  170300.5940488   198559.23051751\n",
      "  238842.4367853   163151.42063572  142636.33917117  140198.93815565\n",
      "  331879.63076065  178701.23832869]\n",
      "1987719970.39\n"
     ]
    },
    {
     "data": {
      "text/plain": [
       "0.66070725317316081"
      ]
     },
     "execution_count": 162,
     "metadata": {},
     "output_type": "execute_result"
    }
   ],
   "source": [
    "data = train.loc[:, ['TotalBsmtSF','GrLivArea']]\n",
    "data = data.fillna(method='backfill')\n",
    "\n",
    "X = data\n",
    "y = train['SalePrice']\n",
    "\n",
    "train_X, test_X, train_y, test_y = train_test_split(X, y, test_size=0.30, random_state = 10)\n",
    "print(train_X.head(10))\n",
    "lm1 = LinearRegression()\n",
    "lm1.fit(train_X, train_y)\n",
    "y_pred = lm1.predict(test_X)\n",
    "print(y_pred)\n",
    "\n",
    "mse = mean_squared_error(test_y,y_pred)\n",
    "print(mse)\n",
    "r2_score(test_y,y_pred)"
   ]
  },
  {
   "cell_type": "code",
   "execution_count": 163,
   "metadata": {},
   "outputs": [
    {
     "name": "stdout",
     "output_type": "stream",
     "text": [
      "[ 59.8221089   83.55442143]\n"
     ]
    }
   ],
   "source": [
    "print(lm1.coef_)"
   ]
  },
  {
   "cell_type": "code",
   "execution_count": 164,
   "metadata": {},
   "outputs": [
    {
     "name": "stdout",
     "output_type": "stream",
     "text": [
      "True\n"
     ]
    }
   ],
   "source": [
    "print(lm1.copy_X)"
   ]
  },
  {
   "cell_type": "code",
   "execution_count": 165,
   "metadata": {},
   "outputs": [
    {
     "name": "stdout",
     "output_type": "stream",
     "text": [
      "<bound method LinearRegression.fit of LinearRegression(copy_X=True, fit_intercept=True, n_jobs=1, normalize=False)>\n"
     ]
    }
   ],
   "source": [
    "print(lm1.fit)"
   ]
  },
  {
   "cell_type": "code",
   "execution_count": 166,
   "metadata": {},
   "outputs": [
    {
     "name": "stdout",
     "output_type": "stream",
     "text": [
      "True\n"
     ]
    }
   ],
   "source": [
    "print(lm1.fit_intercept)"
   ]
  },
  {
   "cell_type": "code",
   "execution_count": 167,
   "metadata": {},
   "outputs": [
    {
     "name": "stdout",
     "output_type": "stream",
     "text": [
      "<bound method BaseEstimator.get_params of LinearRegression(copy_X=True, fit_intercept=True, n_jobs=1, normalize=False)>\n"
     ]
    }
   ],
   "source": [
    "print(lm1.get_params)"
   ]
  },
  {
   "cell_type": "code",
   "execution_count": 168,
   "metadata": {},
   "outputs": [
    {
     "name": "stdout",
     "output_type": "stream",
     "text": [
      "-8769.27685179\n"
     ]
    }
   ],
   "source": [
    "print(lm1.intercept_)"
   ]
  },
  {
   "cell_type": "code",
   "execution_count": 169,
   "metadata": {},
   "outputs": [
    {
     "name": "stdout",
     "output_type": "stream",
     "text": [
      "1\n"
     ]
    }
   ],
   "source": [
    "print(lm1.n_jobs)"
   ]
  },
  {
   "cell_type": "code",
   "execution_count": 170,
   "metadata": {},
   "outputs": [
    {
     "name": "stdout",
     "output_type": "stream",
     "text": [
      "False\n"
     ]
    }
   ],
   "source": [
    "print(lm1.normalize)"
   ]
  },
  {
   "cell_type": "code",
   "execution_count": 171,
   "metadata": {},
   "outputs": [
    {
     "name": "stdout",
     "output_type": "stream",
     "text": [
      "<bound method LinearModel.predict of LinearRegression(copy_X=True, fit_intercept=True, n_jobs=1, normalize=False)>\n"
     ]
    }
   ],
   "source": [
    "print(lm1.predict)"
   ]
  },
  {
   "cell_type": "code",
   "execution_count": 172,
   "metadata": {},
   "outputs": [
    {
     "name": "stdout",
     "output_type": "stream",
     "text": [
      "2\n"
     ]
    }
   ],
   "source": [
    "print(lm1.rank_)"
   ]
  },
  {
   "cell_type": "code",
   "execution_count": 173,
   "metadata": {},
   "outputs": [
    {
     "name": "stdout",
     "output_type": "stream",
     "text": [
      "<bound method RegressorMixin.score of LinearRegression(copy_X=True, fit_intercept=True, n_jobs=1, normalize=False)>\n"
     ]
    }
   ],
   "source": [
    "print(lm1.score)"
   ]
  },
  {
   "cell_type": "code",
   "execution_count": 174,
   "metadata": {},
   "outputs": [
    {
     "name": "stdout",
     "output_type": "stream",
     "text": [
      "<bound method BaseEstimator.set_params of LinearRegression(copy_X=True, fit_intercept=True, n_jobs=1, normalize=False)>\n"
     ]
    }
   ],
   "source": [
    "print(lm1.set_params)"
   ]
  },
  {
   "cell_type": "code",
   "execution_count": 175,
   "metadata": {},
   "outputs": [
    {
     "name": "stdout",
     "output_type": "stream",
     "text": [
      "[ 19216.97609128  11055.73597599]\n"
     ]
    }
   ],
   "source": [
    "print(lm1.singular_)"
   ]
  },
  {
   "cell_type": "code",
   "execution_count": null,
   "metadata": {
    "collapsed": true
   },
   "outputs": [],
   "source": []
  },
  {
   "cell_type": "code",
   "execution_count": 179,
   "metadata": {},
   "outputs": [
    {
     "name": "stdout",
     "output_type": "stream",
     "text": [
      "      TotalBsmtSF  GrLivArea  2ndFlrSF  1stFlrSF  BsmtUnfSF  BsmtFinSF1  \\\n",
      "912           768       1015         0      1015        279         489   \n",
      "373           608       1319         0      1319          0         428   \n",
      "20           1158       2376      1218      1158       1158           0   \n",
      "800           616       1688      1072       616        154         462   \n",
      "152           825       1993       896      1097        409         416   \n",
      "906          1623       1636         0      1636       1560          63   \n",
      "1109         1836       1836         0      1836        797        1039   \n",
      "1007          546       1092       546       546          0         273   \n",
      "264           680        764         0       764        680           0   \n",
      "1407          833        833         0       833        208         625   \n",
      "\n",
      "      WoodDeckSF  \n",
      "912            0  \n",
      "373           66  \n",
      "20           240  \n",
      "800          403  \n",
      "152            0  \n",
      "906            0  \n",
      "1109         125  \n",
      "1007         238  \n",
      "264            0  \n",
      "1407           0  \n",
      "[ 198725.12822378  181639.97955079  131217.7142698   159829.44960715\n",
      "  262222.1307489   268052.42948836  201273.39688052  109818.91223515\n",
      "  190191.43254854  156928.3479351   183534.39378114  176895.97852961\n",
      "  210336.71228865  168671.62012734  151349.42793884  220290.34116847\n",
      "  253343.03281422  134345.31255979  202111.8996233   164707.35559928\n",
      "  378166.53629938  160581.5674944   128247.32912279  146401.18375675\n",
      "  181669.45475149  160913.37731215  170373.54731149   59068.41337484\n",
      "  189246.00186471  193016.80003446  127743.51485284  123250.12188573\n",
      "  119944.75410452  170494.6685074   141991.66434629   84798.00876793\n",
      "  155480.06719543  187836.47981391  300666.42683821  173704.62906975\n",
      "  179064.15982848  141363.80332087  136459.62888677  171905.37150572\n",
      "  195485.12917076  249193.76097078  221042.41822886  139985.90983181\n",
      "  123750.97861382  125837.79066218  189702.8502799    46891.20685129\n",
      "  168672.65727506  142548.97299352  222793.21496274  182346.30828879\n",
      "  176616.74396561  184467.52928677  126750.09857394  137902.84468638\n",
      "  136924.93312661  196722.85959185  154997.51706805  202269.26642469\n",
      "  215079.02853878  181178.82745751  198499.73386667  153968.00365527\n",
      "  126893.0197624   183549.60204075  145292.21565777  105449.16015127\n",
      "  130578.78720522  136917.1216593   158939.10556384  232828.70612221\n",
      "  203705.6173636   133265.14510778  279529.35319692  160351.24222999\n",
      "  230205.01215974  229411.66423842  159206.08855185  194532.3375199\n",
      "  173881.50194669  114426.20206758  154332.6092903   130796.8293\n",
      "  224328.16837948  140301.545237    131655.88322534  117325.83955979\n",
      "  150888.53407552  113052.93382735  351623.87907089  139046.24012876\n",
      "  178712.1693536   209451.26664502  182488.59108633  164308.45768303\n",
      "  214402.16635525  177727.0941166   109478.94883792  130984.52318089\n",
      "  117670.98061168  243829.4182254   205706.61939365  243205.06529225\n",
      "  128598.20363239  138954.6338124   139178.03914765  254271.59006804\n",
      "  210043.67680751  149470.09381289  140375.19220012  113710.06139731\n",
      "  233925.02685361  327463.61132207  107647.10762962   92587.50403998\n",
      "  124115.68092922  282199.75702488   65003.74523767  158709.29016893\n",
      "  242477.499387    180579.03528214  106658.98981705  187027.03774168\n",
      "  222601.30983384  181688.46541046  103036.75952254  180544.78359429\n",
      "  188029.81121369  225571.68518195  141902.02814778  209015.87892892\n",
      "   66060.70071436  293554.54508847  110446.73988814  162361.1761094\n",
      "  233684.50575097  122347.65538691  216473.94288593  298243.5165796\n",
      "  200267.30060585  111172.0296433   215289.71859839  148559.79570316\n",
      "  287679.47801733  161861.43378413  222313.96307154  158996.34526553\n",
      "  247177.86071499  178774.11368616  132162.90702584  155636.66239149\n",
      "  237415.60263107  282053.41414677  195559.47252679  232452.43026043\n",
      "  103663.51481014  280518.01506041  288371.32758349  155453.51246841\n",
      "  206174.14524478  291306.42321552  172823.7470009   212395.78939485\n",
      "  318013.84059202  172886.55298518  118307.13706462  236523.51541444\n",
      "  142982.74016758  208866.97343768  121929.16680399  201685.82315098\n",
      "  168746.54618857  264489.20518053  273529.35564694   57372.80268446\n",
      "  156517.27265799  133265.14510778  183153.85415108  195845.69493124\n",
      "  139010.40788431  325240.87672569  215823.95607591  200355.9146564\n",
      "  117589.86332824  134506.37944375  147772.06470288  160928.22158676\n",
      "   96249.3407578    88421.71984162  254958.42212195  183747.49192996\n",
      "  124794.10039054  146446.52289029  269360.95210753  203749.34634047\n",
      "  184338.065125    300554.79370085  196007.63577644  323360.14164711\n",
      "  285442.28399011  146362.06808049  203837.96315209  267356.02625405\n",
      "  117670.98061168  117282.0230738   115431.63244336  104974.14351881\n",
      "  137612.80524905  134659.34176615  202408.79497939  131788.37290126\n",
      "  249861.82604152  113194.48481389   71737.87440369  175406.44507329\n",
      "  119350.69490626  183534.39378114  121634.51384654  224967.89733676\n",
      "   88398.93259753  120693.38535913  199245.58878869  184512.06256916\n",
      "  291790.52837631  112103.71328377  222164.85126234  133640.52518144\n",
      "  148764.25434293  198462.00172256  230051.94463378  113710.06139731\n",
      "  214203.91236136  182443.51574715  225515.59111375  108983.70851304\n",
      "   86578.26244329  142889.72477561  182587.0083308   344566.77220124\n",
      "  278732.55486284  317097.55938929  198590.72128822  286909.97213529\n",
      "  134071.75044222  164615.09874171  263790.45253176  208514.8781384\n",
      "  125051.85195166  122275.16568259  218604.85575252  189727.54555207\n",
      "  389131.52385449  128950.07063052  200479.16890556  173589.34104234\n",
      "  122387.56562692  184539.43986159  110916.83280183   86780.39692371\n",
      "  138168.7444282   115892.49933363  168567.916081    150929.24925843\n",
      "   92722.80051556  127738.9245928   166021.71186744  225853.0955392\n",
      "  120881.86817454  158680.44934929  183730.70277289  248583.84530723\n",
      "  138855.68730219  162601.74214003  188974.83646678  175029.82495517\n",
      "  102382.39718933  122774.71242699  272329.59796283  174241.55837807\n",
      "  168070.83376386  288920.64134431  136705.38727058  128189.40208666\n",
      "  208239.41874276  239605.70342313  147794.10638217  167778.6098399\n",
      "  149473.22280832  159415.3180911   215370.793716    193711.98908719\n",
      "  312361.37258776  151746.03383391  141545.5040581   162130.06930901\n",
      "   96738.48588066  164152.71831537   70004.30969891  217127.21065865\n",
      "  152402.43792487  307758.6093043   180921.68878699   91883.56661505\n",
      "  179067.93204574  262343.51196855  188386.84922534  176748.56191773\n",
      "  256695.39584047  233941.7280613   188039.14752267  289481.34031732\n",
      "  221251.03611027  123628.59069668  137227.46924458  107235.60861713\n",
      "  232450.81272396  193031.32274289  136214.15334961  285205.87974558\n",
      "  163737.59581161  242188.22668617  222218.92809467   63661.52609176\n",
      "  137113.37229089  222729.90380356  161018.75157994  155662.60654223\n",
      "  154803.12887745  202695.56535533  144393.81932758  246237.11969894\n",
      "  222657.82883398  197655.34682264  170248.6765771   195504.31156612\n",
      "  187747.45797877   20805.20774157  217436.36435637  155789.21822572\n",
      "  142648.66850816  167477.55270359  128243.06563402  381193.43707582\n",
      "  117467.38658301  347143.66885854  175617.49106491  114484.87940378\n",
      "  242314.88223325  182921.52606917  205037.17358012  150536.23990505\n",
      "  120239.14765038  134207.92830186  191816.01903326  135612.50311238\n",
      "  158939.10556384  145186.23988511  232897.4112216   212267.16746578\n",
      "   96332.80090895  194391.0850607   221786.57000268  253414.73456415\n",
      "  227539.16946858  169636.94252547  193795.97618943  143410.30890976\n",
      "  200434.78323061  268407.92152088  109234.93245018   93522.28139495\n",
      "  130145.74708252  196574.00306703  205030.88038353  248203.19994863\n",
      "  220239.12041735  176839.63328127  211157.12370815  191369.08169901\n",
      "  196229.8319535   187670.37110254  107512.05413641  116322.12035462\n",
      "  100543.69287263  280124.98634401  167219.4232153   134795.29225329\n",
      "  117957.27575704  141254.56776174  192441.31190611  236365.27542157\n",
      "  169510.23749935  224639.66427725  266095.26307146  152691.55382956\n",
      "  148690.98912358  176612.68349765  188501.23258961  194624.86364453\n",
      "  122838.47366574  126268.27543832  143549.38935003  106960.36882366\n",
      "  118368.47207612  162812.44330809  206178.3177625   200944.07203811\n",
      "  161362.11182245  139237.02779626  238121.78938547  161788.76754486\n",
      "  284506.31645562  143424.85166378  271998.79759131  169326.21777809\n",
      "  191209.75701543  141896.85241068  189654.64774969  164941.84806147\n",
      "  146469.64095869  111317.99759561   90278.18822324  167815.30787718\n",
      "  107723.37044957  193819.43885699  171559.09332786  184520.62406062\n",
      "  238692.190835    156698.53837416  164832.72058409  139001.370067\n",
      "  320726.86753977   98794.13018333]\n",
      "1941199634.52\n"
     ]
    },
    {
     "data": {
      "text/plain": [
       "0.66864801584384326"
      ]
     },
     "execution_count": 179,
     "metadata": {},
     "output_type": "execute_result"
    }
   ],
   "source": [
    "data1 = train[['TotalBsmtSF','GrLivArea','2ndFlrSF','1stFlrSF','BsmtUnfSF','BsmtFinSF1','WoodDeckSF']]\n",
    "data1 = data1.fillna(method = 'backfill')\n",
    "\n",
    "X = data1\n",
    "y = train['SalePrice']\n",
    "\n",
    "train_X, test_X, train_y, test_y = train_test_split(X, y, test_size=0.30, random_state = 10)\n",
    "print(train_X.head(10))\n",
    "lm2 = LinearRegression()\n",
    "lm2.fit(train_X, train_y)\n",
    "y_pred = lm1.predict(test_X)\n",
    "print(y_pred)\n",
    "\n",
    "mse = mean_squared_error(test_y,y_pred)\n",
    "print(mse)\n",
    "r2_score(test_y,y_pred)"
   ]
  },
  {
   "cell_type": "code",
   "execution_count": 180,
   "metadata": {},
   "outputs": [
    {
     "name": "stdout",
     "output_type": "stream",
     "text": [
      "[  22.02016447  -53.18346179  137.60849229  133.83772729   28.53960423\n",
      "   39.00726828   80.87183396]\n"
     ]
    }
   ],
   "source": [
    "print(lm2.coef_)"
   ]
  },
  {
   "cell_type": "code",
   "execution_count": 181,
   "metadata": {},
   "outputs": [
    {
     "name": "stdout",
     "output_type": "stream",
     "text": [
      "True\n"
     ]
    }
   ],
   "source": [
    "print(lm2.copy_X)"
   ]
  },
  {
   "cell_type": "code",
   "execution_count": 182,
   "metadata": {},
   "outputs": [
    {
     "name": "stdout",
     "output_type": "stream",
     "text": [
      "<bound method LinearRegression.fit of LinearRegression(copy_X=True, fit_intercept=True, n_jobs=1, normalize=False)>\n"
     ]
    }
   ],
   "source": [
    "print(lm2.fit)"
   ]
  },
  {
   "cell_type": "code",
   "execution_count": 183,
   "metadata": {},
   "outputs": [
    {
     "name": "stdout",
     "output_type": "stream",
     "text": [
      "True\n"
     ]
    }
   ],
   "source": [
    "print(lm2.fit_intercept)"
   ]
  },
  {
   "cell_type": "code",
   "execution_count": 185,
   "metadata": {},
   "outputs": [
    {
     "name": "stdout",
     "output_type": "stream",
     "text": [
      "<bound method BaseEstimator.get_params of LinearRegression(copy_X=True, fit_intercept=True, n_jobs=1, normalize=False)>\n"
     ]
    }
   ],
   "source": [
    "print(lm2.get_params)"
   ]
  },
  {
   "cell_type": "code",
   "execution_count": 184,
   "metadata": {},
   "outputs": [
    {
     "name": "stdout",
     "output_type": "stream",
     "text": [
      "-6133.31693671\n"
     ]
    }
   ],
   "source": [
    "print(lm2.intercept_)"
   ]
  },
  {
   "cell_type": "code",
   "execution_count": 187,
   "metadata": {},
   "outputs": [
    {
     "name": "stdout",
     "output_type": "stream",
     "text": [
      "7\n"
     ]
    }
   ],
   "source": [
    "print(lm2.rank_)"
   ]
  },
  {
   "cell_type": "code",
   "execution_count": 188,
   "metadata": {},
   "outputs": [
    {
     "name": "stdout",
     "output_type": "stream",
     "text": [
      "<bound method RegressorMixin.score of LinearRegression(copy_X=True, fit_intercept=True, n_jobs=1, normalize=False)>\n"
     ]
    }
   ],
   "source": [
    "print(lm2.score)"
   ]
  },
  {
   "cell_type": "code",
   "execution_count": 9,
   "metadata": {},
   "outputs": [
    {
     "data": {
      "text/plain": [
       "array([5, 8, 6, 7, 4, 2, 3, 9, 1], dtype=int64)"
      ]
     },
     "execution_count": 9,
     "metadata": {},
     "output_type": "execute_result"
    }
   ],
   "source": [
    "train['OverallCond'].unique()"
   ]
  },
  {
   "cell_type": "code",
   "execution_count": 10,
   "metadata": {
    "collapsed": true
   },
   "outputs": [],
   "source": [
    "# Variable convertion [Feature Engineering]\n",
    "\n",
    "\n",
    "train['MSSubClass'] = train['MSSubClass'].apply(str)\n",
    "\n",
    "#Changing OverallCond into a categorical variable\n",
    "train['OverallCond'] = train['OverallCond'].astype(str)\n",
    "\n",
    "#Year and month sold are transformed into categorical features.\n",
    "train['YrSold'] = train['YrSold'].astype(str)\n",
    "train['MoSold'] = train['MoSold'].astype(str)\n",
    "\n"
   ]
  },
  {
   "cell_type": "code",
   "execution_count": 11,
   "metadata": {
    "scrolled": true
   },
   "outputs": [
    {
     "data": {
      "text/plain": [
       "Id                       0\n",
       "LotFrontage              0\n",
       "LotArea                  0\n",
       "OverallQual              0\n",
       "YearBuilt                0\n",
       "YearRemodAdd             0\n",
       "MasVnrArea               0\n",
       "BsmtFinSF1               0\n",
       "BsmtFinSF2               0\n",
       "BsmtUnfSF                0\n",
       "TotalBsmtSF              0\n",
       "1stFlrSF                 0\n",
       "2ndFlrSF                 0\n",
       "LowQualFinSF             0\n",
       "GrLivArea                0\n",
       "BsmtFullBath             0\n",
       "BsmtHalfBath             0\n",
       "FullBath                 0\n",
       "HalfBath                 0\n",
       "BedroomAbvGr             0\n",
       "KitchenAbvGr             0\n",
       "TotRmsAbvGrd             0\n",
       "Fireplaces               0\n",
       "GarageYrBlt              0\n",
       "GarageCars               0\n",
       "GarageArea               0\n",
       "WoodDeckSF               0\n",
       "OpenPorchSF              0\n",
       "EnclosedPorch            0\n",
       "3SsnPorch                0\n",
       "                        ..\n",
       "MoSold_11                0\n",
       "MoSold_12                0\n",
       "MoSold_2                 0\n",
       "MoSold_3                 0\n",
       "MoSold_4                 0\n",
       "MoSold_5                 0\n",
       "MoSold_6                 0\n",
       "MoSold_7                 0\n",
       "MoSold_8                 0\n",
       "MoSold_9                 0\n",
       "YrSold_2006              0\n",
       "YrSold_2007              0\n",
       "YrSold_2008              0\n",
       "YrSold_2009              0\n",
       "YrSold_2010              0\n",
       "SaleType_COD             0\n",
       "SaleType_CWD             0\n",
       "SaleType_Con             0\n",
       "SaleType_ConLD           0\n",
       "SaleType_ConLI           0\n",
       "SaleType_ConLw           0\n",
       "SaleType_New             0\n",
       "SaleType_Oth             0\n",
       "SaleType_WD              0\n",
       "SaleCondition_Abnorml    0\n",
       "SaleCondition_AdjLand    0\n",
       "SaleCondition_Alloca     0\n",
       "SaleCondition_Family     0\n",
       "SaleCondition_Normal     0\n",
       "SaleCondition_Partial    0\n",
       "Length: 327, dtype: int64"
      ]
     },
     "execution_count": 11,
     "metadata": {},
     "output_type": "execute_result"
    }
   ],
   "source": [
    "# Dummy Variables\n",
    "cat_vars = train.select_dtypes(include=['object'])\n",
    "dummy_cat_vars = pd.get_dummies(cat_vars)\n",
    "\n",
    "num_vars = train.select_dtypes(exclude=['object'])\n",
    "\n",
    "new_train = pd.concat([num_vars, dummy_cat_vars], axis=1)\n",
    "new_train = new_train.fillna(method = 'bfill')\n",
    "new_train.shape\n",
    "target = pd.DataFrame(new_train['SalePrice'])\n",
    "new_train.isnull().sum()"
   ]
  },
  {
   "cell_type": "code",
   "execution_count": 17,
   "metadata": {},
   "outputs": [
    {
     "data": {
      "text/plain": [
       "dtype('uint8')"
      ]
     },
     "execution_count": 17,
     "metadata": {},
     "output_type": "execute_result"
    }
   ],
   "source": [
    "new_train['YrSold_2007'].dtypes"
   ]
  },
  {
   "cell_type": "code",
   "execution_count": 211,
   "metadata": {
    "scrolled": true
   },
   "outputs": [
    {
     "name": "stdout",
     "output_type": "stream",
     "text": [
      "      LotFrontage  LotArea  OverallQual  YearBuilt  YearRemodAdd  MasVnrArea  \\\n",
      "912          51.0     6120            5       1925          1950         0.0   \n",
      "373          79.0    10634            5       1953          1953         0.0   \n",
      "20          101.0    14215            8       2005          2006       380.0   \n",
      "800          79.0    12798            6       1997          1997         0.0   \n",
      "152          84.0    14803            6       1971          1971       252.0   \n",
      "906         116.0    13501            8       2006          2006       208.0   \n",
      "1109        107.0    11362            8       2004          2005        42.0   \n",
      "1007         21.0     2217            4       1970          1970         0.0   \n",
      "264          30.0     5232            5       1925          2004         0.0   \n",
      "1407         60.0     8780            5       1985          1985         0.0   \n",
      "\n",
      "      BsmtFinSF1  BsmtFinSF2  BsmtUnfSF  TotalBsmtSF          ...            \\\n",
      "912          489           0        279          768          ...             \n",
      "373          428         180          0          608          ...             \n",
      "20             0           0       1158         1158          ...             \n",
      "800          462           0        154          616          ...             \n",
      "152          416           0        409          825          ...             \n",
      "906           63           0       1560         1623          ...             \n",
      "1109        1039           0        797         1836          ...             \n",
      "1007         273         273          0          546          ...             \n",
      "264            0           0        680          680          ...             \n",
      "1407         625           0        208          833          ...             \n",
      "\n",
      "      SaleType_ConLw  SaleType_New  SaleType_Oth  SaleType_WD  \\\n",
      "912                0             0             0            1   \n",
      "373                0             0             0            1   \n",
      "20                 0             1             0            0   \n",
      "800                0             0             0            1   \n",
      "152                0             0             0            1   \n",
      "906                0             0             0            1   \n",
      "1109               0             0             0            1   \n",
      "1007               0             0             0            1   \n",
      "264                0             0             0            1   \n",
      "1407               0             0             0            1   \n",
      "\n",
      "      SaleCondition_Abnorml  SaleCondition_AdjLand  SaleCondition_Alloca  \\\n",
      "912                       1                      0                     0   \n",
      "373                       0                      0                     0   \n",
      "20                        0                      0                     0   \n",
      "800                       0                      0                     0   \n",
      "152                       0                      0                     0   \n",
      "906                       0                      0                     0   \n",
      "1109                      0                      0                     0   \n",
      "1007                      0                      0                     0   \n",
      "264                       0                      0                     0   \n",
      "1407                      0                      0                     0   \n",
      "\n",
      "      SaleCondition_Family  SaleCondition_Normal  SaleCondition_Partial  \n",
      "912                      0                     0                      0  \n",
      "373                      0                     1                      0  \n",
      "20                       0                     0                      1  \n",
      "800                      0                     1                      0  \n",
      "152                      0                     1                      0  \n",
      "906                      0                     1                      0  \n",
      "1109                     0                     1                      0  \n",
      "1007                     0                     1                      0  \n",
      "264                      0                     1                      0  \n",
      "1407                     0                     1                      0  \n",
      "\n",
      "[10 rows x 326 columns]\n"
     ]
    },
    {
     "data": {
      "text/plain": [
       "LinearRegression(copy_X=True, fit_intercept=True, n_jobs=1, normalize=False)"
      ]
     },
     "execution_count": 211,
     "metadata": {},
     "output_type": "execute_result"
    }
   ],
   "source": [
    "\n",
    "X = new_train\n",
    "y = target\n",
    "\n",
    "train_X, test_X, train_y, test_y = train_test_split(X, y, test_size=0.30, random_state = 10)\n",
    "print(train_X.head(10))\n",
    "lm3 = LinearRegression()\n",
    "lm3.fit(train_X, train_y)\n"
   ]
  },
  {
   "cell_type": "code",
   "execution_count": 214,
   "metadata": {},
   "outputs": [
    {
     "data": {
      "text/plain": [
       "1.0"
      ]
     },
     "execution_count": 214,
     "metadata": {},
     "output_type": "execute_result"
    }
   ],
   "source": [
    "y_pred = lm3.predict(test_X)\n",
    "mse = mean_squared_error(test_y,y_pred)\n",
    "r2_score(test_y,y_pred)"
   ]
  },
  {
   "cell_type": "code",
   "execution_count": 215,
   "metadata": {
    "scrolled": true
   },
   "outputs": [
    {
     "name": "stdout",
     "output_type": "stream",
     "text": [
      "[[ -9.35906549e-13   3.55271368e-15  -3.42612605e-11   6.56159155e-14\n",
      "   -1.58544185e-13   5.75949878e-14   1.25103920e-14  -2.01085893e-14\n",
      "   -3.31380431e-14  -4.07419324e-14   4.27529106e-14  -2.62251700e-14\n",
      "   -1.86275962e-14  -2.10790586e-15   5.29612243e-12  -9.54579224e-13\n",
      "   -1.86218529e-11   5.23302670e-13  -6.41596535e-12  -1.70711296e-11\n",
      "    9.98421110e-12  -2.17538434e-12   7.17344749e-14   6.48659314e-12\n",
      "    3.18035528e-14  -3.49876378e-14   2.17188870e-14   2.25276341e-14\n",
      "    4.67922345e-14  -4.28114101e-14   4.02016670e-13   6.80044129e-15\n",
      "    1.00000000e+00  -1.33929673e-11  -5.51761912e-12   4.12709476e-12\n",
      "    1.25955437e-11  -3.42265781e-12   6.55906749e-12   7.13511554e-12\n",
      "    3.78910874e-11  -1.77247274e-11  -4.30007763e-12  -8.06070193e-12\n",
      "   -2.37962186e-11   4.69883113e-12  -1.82632184e-12   5.03455173e-12\n",
      "    9.63471892e-12   1.63170045e-11  -1.92096465e-11  -8.59980139e-12\n",
      "    1.85772434e-12  -1.49060534e-12   1.49060534e-12  -8.75016144e-13\n",
      "    3.21605096e-12  -7.89468237e-12   5.62366803e-12   1.13864285e-12\n",
      "    1.13237151e-12   2.06449103e-12  -9.28846244e-12   7.23790037e-12\n",
      "   -1.39289581e-14   3.01909536e-11  -3.01909536e-11  -9.16006755e-12\n",
      "    1.15215382e-11   5.44123413e-12  -1.05532035e-11   2.75049852e-12\n",
      "    6.80803772e-12  -7.94022012e-13  -6.01401573e-12   1.22469026e-11\n",
      "    1.79706607e-12   1.81724791e-11   8.06686001e-12  -1.19783766e-11\n",
      "    8.99394813e-12  -2.59868583e-12  -1.46039225e-11   1.20478461e-11\n",
      "   -1.51398192e-11  -1.72780998e-12  -4.70524064e-12  -7.99768586e-12\n",
      "    5.89675268e-13   1.28790596e-12   8.40359716e-12  -2.64713574e-12\n",
      "   -4.18708059e-12  -4.12338258e-12  -5.80662205e-12   1.09024061e-11\n",
      "   -1.80323612e-11   1.17255999e-11   1.16131933e-11  -1.22993569e-11\n",
      "    1.91257664e-12  -3.16341488e-12   3.17210726e-12   1.83169416e-11\n",
      "   -1.18929731e-11  -2.10754993e-11   2.93862725e-12  -1.02614901e-11\n",
      "    2.00531247e-11   5.14184198e-11  -3.30466554e-11  -2.83597425e-11\n",
      "   -4.26811046e-12  -1.91459157e-11   7.65722168e-11  -1.70250418e-11\n",
      "   -2.61451706e-11   1.63560163e-12  -3.26509758e-11   5.03455174e-12\n",
      "    1.12446779e-11   1.47361448e-11   7.02595887e-12  -4.48216052e-11\n",
      "    2.21024278e-12   1.41383309e-11   5.63822155e-12  -3.40191044e-12\n",
      "    1.09087082e-11   8.30205337e-12   1.58818678e-22   3.31675987e-11\n",
      "   -1.75861609e-11  -6.40226457e-12  -9.56960551e-12  -6.14131637e-12\n",
      "   -2.26961094e-12  -1.50168653e-12   1.03030461e-11  -1.10120485e-12\n",
      "    1.13372334e-11  -6.36113286e-13   1.04953280e-11   2.46945862e-12\n",
      "   -2.25647019e-11  -2.28221009e-10   5.41212329e-11   3.70576914e-22\n",
      "   -5.29395592e-22   3.70576914e-22   5.60101577e-11   6.16150756e-11\n",
      "    5.64745426e-11  -4.29071281e-12  -4.41655752e-11   1.57519816e-11\n",
      "    3.67000859e-14   6.35274710e-22  -2.12112086e-11   7.75119642e-12\n",
      "    5.65825451e-11   2.94674103e-11  -7.30240321e-12  -2.79295877e-11\n",
      "   -2.92032034e-12  -3.13352132e-12   1.49683391e-12  -1.33338408e-13\n",
      "   -1.39999974e-11   3.34392453e-11   3.46607330e-11   4.53880503e-12\n",
      "   -2.11758237e-22   1.66526246e-11  -4.55115996e-12  -6.69597189e-11\n",
      "   -1.69717443e-11  -1.64848461e-11   1.22704416e-11  -3.59062370e-12\n",
      "    3.34749718e-12   8.92343064e-12   5.02966575e-12   3.69564724e-12\n",
      "   -1.26210651e-11  -6.06102344e-12  -4.59466092e-12   1.54201337e-11\n",
      "    1.18274517e-11  -1.65719812e-11   3.11251437e-12   1.63201516e-12\n",
      "    2.61507475e-11   1.00435027e-12   1.67142523e-11  -5.55782635e-11\n",
      "    1.17089135e-11   6.15904530e-12   4.90712817e-12   4.05248394e-12\n",
      "    2.41205932e-12  -6.13094359e-12  -1.13997730e-11  -1.27381971e-11\n",
      "   -1.62482141e-13  -4.34682221e-12  -1.10042396e-12   1.77443058e-11\n",
      "    2.35033341e-11  -7.75754997e-11   1.79799344e-11  -1.32414291e-11\n",
      "   -9.83097277e-12   7.82523307e-12  -3.10075661e-12  -1.17003990e-11\n",
      "    1.18619784e-12  -4.77250334e-12  -8.27959368e-12   2.69609236e-12\n",
      "    2.52228037e-12   4.39964751e-12  -5.97178847e-12   1.39177255e-12\n",
      "   -2.65502628e-12  -4.79204661e-12  -1.07204841e-11   2.60378673e-11\n",
      "   -1.00223035e-12  -1.77277667e-11   2.51305028e-12  -1.33052111e-12\n",
      "   -8.49039940e-12  -8.84413873e-13  -2.68365496e-12   4.02041128e-12\n",
      "    2.97785021e-23  -4.52342441e-13   1.24509740e-11  -1.24509741e-11\n",
      "    6.04813384e-11   5.62449636e-11  -1.00892131e-10  -7.75754997e-11\n",
      "    6.17413282e-11   9.03292280e-12   2.62941016e-12  -5.27629520e-12\n",
      "   -6.38603773e-12  -1.26352819e-11   2.63417472e-11   5.10876131e-12\n",
      "    2.44015403e-12  -1.55756823e-11   3.97046694e-23  -5.67969826e-12\n",
      "    4.56192452e-12   8.00868439e-13   1.75997868e-12   7.73750324e-12\n",
      "    9.78232726e-14  -7.71579204e-12   1.63463711e-11   2.19993094e-11\n",
      "   -8.95402168e-12  -1.58890750e-11   1.84952489e-11   1.39378677e-11\n",
      "    7.10065383e-12   3.24351930e-12  -6.02265701e-11  -2.48636180e-11\n",
      "   -3.98149626e-11   1.74358220e-10  -2.51710289e-11   2.08270882e-11\n",
      "    4.62363645e-12  -6.52632855e-12  -3.33678807e-12   8.69443266e-12\n",
      "   -9.56515865e-13   1.65226233e-12  -6.95746446e-13  -2.08802069e-10\n",
      "    0.00000000e+00  -2.08920870e-10   2.19725647e-12   5.77519998e-12\n",
      "   -3.73983636e-13  -2.01230409e-11  -1.33031192e-10   1.22019423e-11\n",
      "    9.88419654e-12   0.00000000e+00   9.64765165e-12   7.83334311e-13\n",
      "   -2.25243567e-11   3.24350299e-13  -3.62061920e-12   1.04116160e-11\n",
      "   -1.76399796e-12  -2.20140191e-12   4.63251046e-13   8.75974972e-12\n",
      "   -1.64865598e-12   1.36907869e-12  -2.49365810e-12   2.93160941e-12\n",
      "    4.44540922e-13   1.34769182e-12  -2.23018398e-12  -1.35194060e-11\n",
      "    1.24281793e-12   4.88107532e-12   8.31507847e-12   9.01977544e-12\n",
      "    9.01927531e-12  -3.05470430e-11   7.86605655e-12   3.72236999e-12\n",
      "   -5.16213706e-13   3.57063831e-11  -2.15678124e-11  -9.71091998e-12\n",
      "   -1.03211351e-11   6.40969816e-12]]\n"
     ]
    }
   ],
   "source": [
    "print(lm3.coef_)"
   ]
  },
  {
   "cell_type": "code",
   "execution_count": 216,
   "metadata": {},
   "outputs": [
    {
     "name": "stdout",
     "output_type": "stream",
     "text": [
      "True\n"
     ]
    }
   ],
   "source": [
    "print(lm3.copy_X)"
   ]
  },
  {
   "cell_type": "code",
   "execution_count": 217,
   "metadata": {},
   "outputs": [
    {
     "name": "stdout",
     "output_type": "stream",
     "text": [
      "<bound method LinearRegression.fit of LinearRegression(copy_X=True, fit_intercept=True, n_jobs=1, normalize=False)>\n"
     ]
    }
   ],
   "source": [
    "print(lm3.fit)"
   ]
  },
  {
   "cell_type": "code",
   "execution_count": 218,
   "metadata": {},
   "outputs": [
    {
     "name": "stdout",
     "output_type": "stream",
     "text": [
      "True\n"
     ]
    }
   ],
   "source": [
    "print(lm3.fit_intercept)"
   ]
  },
  {
   "cell_type": "code",
   "execution_count": 219,
   "metadata": {},
   "outputs": [
    {
     "name": "stdout",
     "output_type": "stream",
     "text": [
      "<bound method BaseEstimator.get_params of LinearRegression(copy_X=True, fit_intercept=True, n_jobs=1, normalize=False)>\n"
     ]
    }
   ],
   "source": [
    "print(lm3.get_params)"
   ]
  },
  {
   "cell_type": "code",
   "execution_count": 220,
   "metadata": {},
   "outputs": [
    {
     "name": "stdout",
     "output_type": "stream",
     "text": [
      "[  2.32830644e-10]\n"
     ]
    }
   ],
   "source": [
    "print(lm3.intercept_)"
   ]
  },
  {
   "cell_type": "code",
   "execution_count": 221,
   "metadata": {},
   "outputs": [
    {
     "name": "stdout",
     "output_type": "stream",
     "text": [
      "<bound method RegressorMixin.score of LinearRegression(copy_X=True, fit_intercept=True, n_jobs=1, normalize=False)>\n"
     ]
    }
   ],
   "source": [
    "print(lm3.score)"
   ]
  },
  {
   "cell_type": "code",
   "execution_count": 222,
   "metadata": {},
   "outputs": [
    {
     "name": "stdout",
     "output_type": "stream",
     "text": [
      "273\n"
     ]
    }
   ],
   "source": [
    "print(lm3.rank_)"
   ]
  },
  {
   "cell_type": "code",
   "execution_count": 223,
   "metadata": {},
   "outputs": [
    {
     "name": "stdout",
     "output_type": "stream",
     "text": [
      "<bound method LinearModel.predict of LinearRegression(copy_X=True, fit_intercept=True, n_jobs=1, normalize=False)>\n"
     ]
    }
   ],
   "source": [
    "print(lm3.predict)"
   ]
  },
  {
   "cell_type": "code",
   "execution_count": null,
   "metadata": {
    "collapsed": true
   },
   "outputs": [],
   "source": []
  },
  {
   "cell_type": "code",
   "execution_count": null,
   "metadata": {
    "collapsed": true
   },
   "outputs": [],
   "source": []
  }
 ],
 "metadata": {
  "kernelspec": {
   "display_name": "Python 3",
   "language": "python",
   "name": "python3"
  },
  "language_info": {
   "codemirror_mode": {
    "name": "ipython",
    "version": 3
   },
   "file_extension": ".py",
   "mimetype": "text/x-python",
   "name": "python",
   "nbconvert_exporter": "python",
   "pygments_lexer": "ipython3",
   "version": "3.6.2"
  }
 },
 "nbformat": 4,
 "nbformat_minor": 2
}
