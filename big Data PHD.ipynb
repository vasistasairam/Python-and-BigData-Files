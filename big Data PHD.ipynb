{
 "cells": [
  {
   "cell_type": "code",
   "execution_count": 78,
   "metadata": {
    "collapsed": true
   },
   "outputs": [],
   "source": [
    "## Set Python - Spark environment.\n",
    "import os\n",
    "import sys\n",
    "os.environ[\"SPARK_HOME\"] = \"/usr/hdp/current/spark2-client\"\n",
    "os.environ[\"PYLIB\"] = os.environ[\"SPARK_HOME\"] + \"/python/lib\"\n",
    "sys.path.insert(0, os.environ[\"PYLIB\"] + \"/py4j-0.10.6-src.zip\")\n",
    "sys.path.insert(0, os.environ[\"PYLIB\"] + \"/pyspark.zip\")\n",
    "\n",
    "from pyspark.sql.types import *\n",
    "from pyspark.sql.functions import *\n",
    "from pyspark.sql.functions import isnan, when, count, col, countDistinct\n",
    "import pandas as pd\n",
    "from matplotlib import pyplot as plt\n",
    "from pyspark.sql.functions import isnan, when, count, col, countDistinct\n",
    "from pyspark.ml.feature import OneHotEncoder, StringIndexer\n",
    "import seaborn as sns"
   ]
  },
  {
   "cell_type": "code",
   "execution_count": 3,
   "metadata": {
    "collapsed": true
   },
   "outputs": [],
   "source": [
    "## Create SparkContext, SparkSession\n",
    "from os.path import expanduser, join, abspath\n",
    "\n",
    "import pyspark\n",
    "from pyspark.sql import SparkSession\n",
    "from pyspark.sql import Row\n",
    "\n",
    "# warehouse_location points to the default location for managed databases and tables\n",
    "warehouse_location = 'hdfs:///apps/hive/warehouse/'\n",
    "\n",
    "spark = SparkSession \\\n",
    "    .builder \\\n",
    "    .appName(\"Python_Spark_PHD_Complete\") \\\n",
    "    .config(\"spark.sql.warehouse.dir\", warehouse_location) \\\n",
    "    .enableHiveSupport() \\\n",
    "    .getOrCreate()\n",
    "\n",
    "sc = spark.sparkContext"
   ]
  },
  {
   "cell_type": "code",
   "execution_count": 4,
   "metadata": {},
   "outputs": [
    {
     "data": {
      "text/html": [
       "\n",
       "            <div>\n",
       "                <p><b>SparkSession - hive</b></p>\n",
       "                \n",
       "        <div>\n",
       "            <p><b>SparkContext</b></p>\n",
       "\n",
       "            <p><a href=\"http://o.insofe.edu.in:4042\">Spark UI</a></p>\n",
       "\n",
       "            <dl>\n",
       "              <dt>Version</dt>\n",
       "                <dd><code>v2.3.0.2.6.5.0-292</code></dd>\n",
       "              <dt>Master</dt>\n",
       "                <dd><code>local[*]</code></dd>\n",
       "              <dt>AppName</dt>\n",
       "                <dd><code>Python_Spark_PHD_Complete</code></dd>\n",
       "            </dl>\n",
       "        </div>\n",
       "        \n",
       "            </div>\n",
       "        "
      ],
      "text/plain": [
       "<pyspark.sql.session.SparkSession at 0x5ea8a10>"
      ]
     },
     "execution_count": 4,
     "metadata": {},
     "output_type": "execute_result"
    }
   ],
   "source": [
    "spark"
   ]
  },
  {
   "cell_type": "code",
   "execution_count": null,
   "metadata": {
    "collapsed": true
   },
   "outputs": [],
   "source": [
    "### Insert the sqoop command in the below cells"
   ]
  },
  {
   "cell_type": "code",
   "execution_count": null,
   "metadata": {
    "collapsed": true
   },
   "outputs": [],
   "source": [
    "# sqoop job \\\n",
    "# --create initialimport_2334 \\\n",
    "# -- import-all-tables \\\n",
    "# --connect jdbc:mysql://172.16.0.228:3306/insofe_b48_energyDB \\\n",
    "# --username insofeadmin \\\n",
    "# --password insofe_password \\\n",
    "# --warehouse-dir '/user/2334B48/Phd/' \\\n",
    "# -m 1"
   ]
  },
  {
   "cell_type": "code",
   "execution_count": null,
   "metadata": {
    "collapsed": true
   },
   "outputs": [],
   "source": [
    "# sqoop job --exec initialimport_2334"
   ]
  },
  {
   "cell_type": "markdown",
   "metadata": {},
   "source": [
    "### We have to supply two different schema becuase test data doesnt have 'Appliance' column. Note that we also cant check the performance of different models on the test data"
   ]
  },
  {
   "cell_type": "code",
   "execution_count": 122,
   "metadata": {
    "collapsed": true
   },
   "outputs": [],
   "source": [
    "traindataSchema = StructType([\n",
    "    StructField(\"billdate\", StringType(), True),\n",
    "    StructField(\"Appliances\", IntegerType(), True),\n",
    "    StructField(\"lights\", IntegerType(), True),\n",
    "    StructField(\"T1\", DoubleType(), True),\n",
    "    StructField(\"RH_1\", DoubleType(), True),\n",
    "    StructField(\"T2\", DoubleType(), True),\n",
    "    StructField(\"RH_2\", DoubleType(), True),\n",
    "    StructField(\"T3\", DoubleType(), True),\n",
    "    StructField(\"RH_3\", DoubleType(), True),\n",
    "    StructField(\"T4\", DoubleType(), True),\n",
    "    StructField(\"RH_4\", DoubleType(), True),\n",
    "    StructField(\"T5\", DoubleType(), True),\n",
    "    StructField(\"RH_5\", DoubleType(), True),\n",
    "    StructField(\"T6\", DoubleType(), True),\n",
    "    StructField(\"RH_6\", DoubleType(), True),\n",
    "    StructField(\"T7\", DoubleType(), True),\n",
    "    StructField(\"RH_7\", DoubleType(), True),\n",
    "    StructField(\"T8\", DoubleType(), True),\n",
    "    StructField(\"RH_8\", DoubleType(), True),\n",
    "    StructField(\"T9\", DoubleType(), True),\n",
    "    StructField(\"RH_9\", DoubleType(), True),\n",
    "    StructField(\"To\", DoubleType(), True),\n",
    "    StructField(\"mm_hg\", DoubleType(), True),\n",
    "    StructField(\"RH_out\", DoubleType(), True),\n",
    "    StructField(\"Wind_speed\", DoubleType(), True),\n",
    "    StructField(\"Visibility\", DoubleType(), True),\n",
    "    StructField(\"Tdewpoint\", DoubleType(), True),\n",
    "    StructField(\"rv1\", DoubleType(), True),\n",
    "    StructField(\"rv2\", DoubleType(), True),\n",
    "    StructField(\"nsm\", IntegerType(), True),\n",
    "    StructField(\"Weekstatus\", StringType(), True),\n",
    "    StructField(\"Day_of_week\", StringType(), True)])\n",
    "\n",
    "testdataSchema = StructType([\n",
    "    StructField(\"billdate\", StringType(), True),\n",
    "    StructField(\"lights\", IntegerType(), True),\n",
    "    StructField(\"T1\", DoubleType(), True),\n",
    "    StructField(\"RH_1\", DoubleType(), True),\n",
    "    StructField(\"T2\", DoubleType(), True),\n",
    "    StructField(\"RH_2\", DoubleType(), True),\n",
    "    StructField(\"T3\", DoubleType(), True),\n",
    "    StructField(\"RH_3\", DoubleType(), True),\n",
    "    StructField(\"T4\", DoubleType(), True),\n",
    "    StructField(\"RH_4\", DoubleType(), True),\n",
    "    StructField(\"T5\", DoubleType(), True),\n",
    "    StructField(\"RH_5\", DoubleType(), True),\n",
    "    StructField(\"T6\", DoubleType(), True),\n",
    "    StructField(\"RH_6\", DoubleType(), True),\n",
    "    StructField(\"T7\", DoubleType(), True),\n",
    "    StructField(\"RH_7\", DoubleType(), True),\n",
    "    StructField(\"T8\", DoubleType(), True),\n",
    "    StructField(\"RH_8\", DoubleType(), True),\n",
    "    StructField(\"T9\", DoubleType(), True),\n",
    "    StructField(\"RH_9\", DoubleType(), True),\n",
    "    StructField(\"To\", DoubleType(), True),\n",
    "    StructField(\"mm_hg\", DoubleType(), True),\n",
    "    StructField(\"RH_out\", DoubleType(), True),\n",
    "    StructField(\"Wind_speed\", DoubleType(), True),\n",
    "    StructField(\"Visibility\", DoubleType(), True),\n",
    "    StructField(\"Tdewpoint\", DoubleType(), True),\n",
    "    StructField(\"rv1\", StringType(), True),\n",
    "    StructField(\"rv2\", StringType(), True),\n",
    "    StructField(\"nsm\", IntegerType(), True),\n",
    "    StructField(\"Weekstatus\", StringType(), True),\n",
    "    StructField(\"Day_of_week\", StringType(), True)])\n",
    "\n",
    "traindata1 = spark.read.format(\"csv\")\\\n",
    "       .option(\"header\", \"false\")\\\n",
    "       .option(\"inferSchema\", \"true\")\\\n",
    "       .load(\"hdfs:///user/2334B48/Phd/energy_traindb_data/part-m-00000\", schema = traindataSchema)\n",
    "testdata1 = spark.read.format(\"csv\")\\\n",
    "       .option(\"header\", \"false\")\\\n",
    "       .option(\"inferSchema\", \"true\")\\\n",
    "       .load(\"hdfs:///user/2334B48/Phd/energy_testdb_data/part-m-00000\", schema = testdataSchema)"
   ]
  },
  {
   "cell_type": "markdown",
   "metadata": {},
   "source": [
    "## Checking for nulls"
   ]
  },
  {
   "cell_type": "code",
   "execution_count": 203,
   "metadata": {
    "scrolled": true
   },
   "outputs": [
    {
     "name": "stdout",
     "output_type": "stream",
     "text": [
      "+----------+------+---+----+---+----+---+----+---+----+---+----+---+----+---+----+---+----+---+----+---+-----+------+----------+----------+---------+---+----------+-----------+\n",
      "|Appliances|lights| T1|RH_1| T2|RH_2| T3|RH_3| T4|RH_4| T5|RH_5| T6|RH_6| T7|RH_7| T8|RH_8| T9|RH_9| To|mm_hg|RH_out|Wind_speed|Visibility|Tdewpoint|nsm|Weekstatus|Day_of_week|\n",
      "+----------+------+---+----+---+----+---+----+---+----+---+----+---+----+---+----+---+----+---+----+---+-----+------+----------+----------+---------+---+----------+-----------+\n",
      "|         0|     0|  0|   0|  0|   0|  0|   0|  0|   0|  0|   0|  0|   0|  0|   0|  0|   0|  0|   0|  0|    0|     0|         0|         0|        0|  0|         0|          0|\n",
      "+----------+------+---+----+---+----+---+----+---+----+---+----+---+----+---+----+---+----+---+----+---+-----+------+----------+----------+---------+---+----------+-----------+\n",
      "\n"
     ]
    }
   ],
   "source": [
    "traindata1.select([count(when(isnan(c) | col(c).isNull(), c)).alias(c) for c in traindata1.columns]).show()"
   ]
  },
  {
   "cell_type": "markdown",
   "metadata": {},
   "source": [
    "### we see that there are no null values in the train data\n",
    "\n",
    "- Also, test data had the timestamp missing but we are not using it for prediction"
   ]
  },
  {
   "cell_type": "markdown",
   "metadata": {},
   "source": [
    "### Exploratory analysis"
   ]
  },
  {
   "cell_type": "code",
   "execution_count": 147,
   "metadata": {
    "scrolled": true
   },
   "outputs": [
    {
     "data": {
      "image/png": "[encoded data removed]",
      "text/plain": [
       "<matplotlib.figure.Figure at 0x785ab90>"
      ]
     },
     "metadata": {},
     "output_type": "display_data"
    }
   ],
   "source": [
    "traindata_DF = traindata1.toPandas()\n",
    "\n",
    "plt.scatter(traindata_DF.Appliances, traindata_DF.lights)\n",
    "X = traindata_DF.Appliances\n",
    "Y = traindata_DF.lights\n",
    "plt.xlabel(\"Appliances\")\n",
    "plt.ylabel(\"lights\")\n",
    "plt.title(\"Appliances vs lights\")\n",
    "plt.scatter(X,Y)\n",
    "plt.show()"
   ]
  },
  {
   "cell_type": "markdown",
   "metadata": {},
   "source": [
    "- we notice that although light consumption is a continous variable, we see an increase in steps of 10 and Appliances is varying \n",
    "  throughout the range for each value of light"
   ]
  },
  {
   "cell_type": "code",
   "execution_count": 126,
   "metadata": {},
   "outputs": [
    {
     "data": {
      "text/plain": [
       "{'boxes': [<matplotlib.lines.Line2D at 0x7b96450>],\n",
       " 'caps': [<matplotlib.lines.Line2D at 0x7bad1d0>,\n",
       "  <matplotlib.lines.Line2D at 0x530af90>],\n",
       " 'fliers': [<matplotlib.lines.Line2D at 0x530a450>],\n",
       " 'means': [],\n",
       " 'medians': [<matplotlib.lines.Line2D at 0x530a810>],\n",
       " 'whiskers': [<matplotlib.lines.Line2D at 0x7ef4190>,\n",
       "  <matplotlib.lines.Line2D at 0x7badb90>]}"
      ]
     },
     "execution_count": 126,
     "metadata": {},
     "output_type": "execute_result"
    },
    {
     "data": {
      "image/png": "[encoded data removed]",
      "text/plain": [
       "<matplotlib.figure.Figure at 0x85c2610>"
      ]
     },
     "metadata": {},
     "output_type": "display_data"
    }
   ],
   "source": [
    "plt.boxplot(traindata_DF.Appliances)"
   ]
  },
  {
   "cell_type": "markdown",
   "metadata": {},
   "source": [
    "### Based on the boxplot, it looks like there are a lot of outliers in the data but this is because of a lot of 0s in the data (you can see that the red line (mean) is close to 0)"
   ]
  },
  {
   "cell_type": "code",
   "execution_count": 127,
   "metadata": {},
   "outputs": [
    {
     "data": {
      "image/png": "[encoded data removed]",
      "text/plain": [
       "<matplotlib.figure.Figure at 0x87d6350>"
      ]
     },
     "metadata": {},
     "output_type": "display_data"
    }
   ],
   "source": [
    "plt.scatter(traindata_DF.Appliances, traindata_DF.To)\n",
    "X = traindata_DF.Appliances\n",
    "Y = traindata_DF.To\n",
    "plt.xlabel(\"Appliances\")\n",
    "plt.ylabel(\"Outside Temp\")\n",
    "plt.title(\"Appliances vs Outside Temp\")\n",
    "plt.scatter(X,Y)\n",
    "plt.show()"
   ]
  },
  {
   "cell_type": "markdown",
   "metadata": {},
   "source": [
    "- Very few records exist with outside temperature below -5 degrees\n",
    "- Between -5 and 10 degrees, we see that the usage is spread all over although with higher density below 400 units\n",
    "- This indicates very little correlation between outside temperature and overall appliances usage"
   ]
  },
  {
   "cell_type": "markdown",
   "metadata": {},
   "source": [
    "### Model Building - Regression "
   ]
  },
  {
   "cell_type": "markdown",
   "metadata": {},
   "source": [
    "- The random variables are dropped in both train and test data sets as they would lead to learning random patterns in the data\n",
    "- Given that we have both weekstatus and Day_of_week, billdate is dropped as it is giving partial information\n",
    "    - Granted that we could deduce time of day and other metrics from date, we will be holding them off given the time       constraints"
   ]
  },
  {
   "cell_type": "code",
   "execution_count": 148,
   "metadata": {
    "collapsed": true
   },
   "outputs": [],
   "source": [
    "traindata1 = traindata1.drop('billdate')\n",
    "traindata1 = traindata1.drop('rv1')\n",
    "traindata1 = traindata1.drop('rv2')\n",
    "\n",
    "testdata1 = testdata1.drop('billdate')\n",
    "testdata1 = testdata1.drop('rv1')\n",
    "testdata1 = testdata1.drop('rv2')\n",
    "\n",
    "cat_Var_Names = ['Weekstatus', 'Day_of_week']\n",
    "\n",
    "num_Var_Names = ['lights', 'T1', 'RH_1', 'T2', 'RH_2','T3', 'RH_3', 'T4', 'RH_4','T5', 'RH_5', 'T6', 'RH_6',\n",
    "                 'T7', 'RH_7', 'T8', 'RH_8','T9', 'RH_9', 'To', 'mm_hg','RH_out', 'Wind_speed', 'Visibility', 'Tdewpoint', 'nsm']"
   ]
  },
  {
   "cell_type": "code",
   "execution_count": 149,
   "metadata": {
    "collapsed": true
   },
   "outputs": [],
   "source": [
    "(trainingData, valData) = traindata1.randomSplit([0.7, 0.3])"
   ]
  },
  {
   "cell_type": "code",
   "execution_count": 150,
   "metadata": {
    "collapsed": true
   },
   "outputs": [],
   "source": [
    "from pyspark.ml.feature import VectorAssembler\n",
    "\n",
    "assembler_Num = VectorAssembler(inputCols=num_Var_Names, outputCol=\"num_features\")\n",
    "\n"
   ]
  },
  {
   "cell_type": "code",
   "execution_count": 151,
   "metadata": {
    "collapsed": true
   },
   "outputs": [],
   "source": [
    "from pyspark.ml.feature import OneHotEncoder, StringIndexer, VectorAssembler\n",
    "\n",
    "indexers_Cat = [StringIndexer(inputCol=cat_Var_Name, outputCol=\"{0}_index\".format(cat_Var_Name)) for cat_Var_Name in cat_Var_Names ]\n",
    "encoders_Cat = [OneHotEncoder(inputCol=indexer.getOutputCol(), outputCol=\"{0}_vec\".format(indexer.getInputCol())) for indexer in indexers_Cat]\n",
    "assembler_Cat = VectorAssembler(inputCols=[encoder.getOutputCol() for encoder in encoders_Cat], outputCol=\"cat_features\")\n",
    "\n",
    "assembler = VectorAssembler(inputCols=[\"scaled_num_features\",\"cat_features\"], outputCol=\"features\")\n",
    "preprocessiong_Stages = [assembler_Num]+[min_Max_Scalar]+indexers_Cat+encoders_Cat+[assembler_Cat]+[assembler]"
   ]
  },
  {
   "cell_type": "code",
   "execution_count": 152,
   "metadata": {
    "collapsed": true
   },
   "outputs": [],
   "source": [
    "from pyspark.ml.regression import LinearRegression\n",
    "lr = LinearRegression(maxIter=100,labelCol=\"Appliances\", featuresCol=\"features\")\n",
    "\n",
    "from pyspark.ml import Pipeline\n",
    "lr_Pipeline = Pipeline(stages=preprocessiong_Stages+[lr]) \n",
    "lr_Pipeline_model = lr_Pipeline.fit(trainingData)\n",
    "train_predictions_lr = lr_Pipeline_model.transform(trainingData)\n",
    "val_predictions_lr = lr_Pipeline_model.transform(valData)"
   ]
  },
  {
   "cell_type": "code",
   "execution_count": 153,
   "metadata": {
    "scrolled": true
   },
   "outputs": [
    {
     "name": "stdout",
     "output_type": "stream",
     "text": [
      "('RMSE value on Train data is', 93.95355117616026)\n",
      "('RMSE value on Val data is', 87.55685029617848)\n"
     ]
    }
   ],
   "source": [
    "from pyspark.ml.evaluation import RegressionEvaluator\n",
    "\n",
    "evaluator = RegressionEvaluator(labelCol=\"Appliances\",\n",
    "                            predictionCol=\"prediction\",\n",
    "                            metricName=\"rmse\" )\n",
    "lmRegTrain_rmse = evaluator.evaluate(train_predictions_lr)\n",
    "print('RMSE value on Train data is', lmRegTrain_rmse)\n",
    "\n",
    "lmRegTest_rmse = evaluator.evaluate(test_predictions_lr)\n",
    "print('RMSE value on Val data is', lmRegTest_rmse)"
   ]
  },
  {
   "cell_type": "markdown",
   "metadata": {},
   "source": [
    "### Using Decision tree for regression"
   ]
  },
  {
   "cell_type": "code",
   "execution_count": 163,
   "metadata": {
    "collapsed": true
   },
   "outputs": [],
   "source": [
    "from pyspark.ml.regression import DecisionTreeRegressor\n",
    "\n",
    "dt = DecisionTreeRegressor(labelCol=\"Appliances\", featuresCol=\"features\")\n",
    "dt_Pipeline = Pipeline(stages=preprocessiong_Stages+[dt]) \n",
    "\n",
    "dt_Pipeline_model = dt_Pipeline.fit(trainingData)\n",
    "train_predictions_dt = dt_Pipeline_model.transform(trainingData)\n",
    "val_predictions_dt = dt_Pipeline_model.transform(valData)"
   ]
  },
  {
   "cell_type": "code",
   "execution_count": 164,
   "metadata": {
    "scrolled": true
   },
   "outputs": [
    {
     "name": "stdout",
     "output_type": "stream",
     "text": [
      "('RMSE value on Train data is', 92.63589350258493)\n",
      "('RMSE value on Test data is', 91.043779273353)\n"
     ]
    }
   ],
   "source": [
    "dtTrain_rmse = evaluator.evaluate(train_predictions_dt)\n",
    "print('RMSE value on Train data is', dtTrain_rmse)\n",
    "\n",
    "dtval_rmse = evaluator.evaluate(val_predictions_dt)\n",
    "print('RMSE value on Test data is', dtval_rmse)"
   ]
  },
  {
   "cell_type": "markdown",
   "metadata": {},
   "source": [
    "### Using Random forest for regression"
   ]
  },
  {
   "cell_type": "code",
   "execution_count": 166,
   "metadata": {
    "collapsed": true
   },
   "outputs": [],
   "source": [
    "from pyspark.ml.regression import RandomForestRegressor\n",
    "\n",
    "rf = RandomForestRegressor(labelCol=\"Appliances\", featuresCol=\"features\")\n",
    "rf_Pipeline = Pipeline(stages=preprocessiong_Stages+[rf]) \n",
    "\n",
    "rf_Pipeline_model = rf_Pipeline.fit(trainingData)\n",
    "train_predictions_rf = rf_Pipeline_model.transform(trainingData)\n",
    "val_predictions_rf = rf_Pipeline_model.transform(valData)"
   ]
  },
  {
   "cell_type": "code",
   "execution_count": 168,
   "metadata": {},
   "outputs": [
    {
     "name": "stdout",
     "output_type": "stream",
     "text": [
      "('RMSE value on Train data is', 89.65996641581573)\n",
      "('RMSE value on Test data is', 89.38962351888387)\n"
     ]
    }
   ],
   "source": [
    "rfTrain_rmse = evaluator.evaluate(train_predictions_rf)\n",
    "print('RMSE value on Train data is', rfTrain_rmse)\n",
    "\n",
    "rfval_rmse = evaluator.evaluate(val_predictions_rf)\n",
    "print('RMSE value on Test data is', rfval_rmse)"
   ]
  },
  {
   "cell_type": "markdown",
   "metadata": {},
   "source": [
    "### using GBM for regression"
   ]
  },
  {
   "cell_type": "code",
   "execution_count": 170,
   "metadata": {
    "collapsed": true
   },
   "outputs": [],
   "source": [
    "from pyspark.ml.regression import GBTRegressor\n",
    "\n",
    "gbt = GBTRegressor(labelCol=\"Appliances\", featuresCol=\"features\")\n",
    "gbt_Pipeline = Pipeline(stages=preprocessiong_Stages+[gbt]) \n",
    "\n",
    "gbt_Pipeline_model = gbt_Pipeline.fit(trainingData)\n",
    "train_predictions_gbt = gbt_Pipeline_model.transform(trainingData)\n",
    "val_predictions_gbt = gbt_Pipeline_model.transform(valData)"
   ]
  },
  {
   "cell_type": "code",
   "execution_count": 171,
   "metadata": {},
   "outputs": [
    {
     "name": "stdout",
     "output_type": "stream",
     "text": [
      "('RMSE value on Train data is', 74.83656579363178)\n",
      "('RMSE value on Test data is', 83.09588123484363)\n"
     ]
    }
   ],
   "source": [
    "gbtTrain_rmse = evaluator.evaluate(train_predictions_gbt)\n",
    "print('RMSE value on Train data is', gbtTrain_rmse)\n",
    "\n",
    "gbtval_rmse = evaluator.evaluate(val_predictions_gbt)\n",
    "print('RMSE value on Test data is', gbtval_rmse)"
   ]
  },
  {
   "cell_type": "markdown",
   "metadata": {},
   "source": [
    "### Given that the GBM model is giving the best test accuracy but also overfitting, we will try to tune GBM model"
   ]
  },
  {
   "cell_type": "code",
   "execution_count": 181,
   "metadata": {
    "collapsed": true
   },
   "outputs": [],
   "source": [
    "from pyspark.ml.tuning import ParamGridBuilder, CrossValidator\n",
    "paramGridGBT = ParamGridBuilder()\\\n",
    "            .addGrid(gbt.maxDepth, [15])\\\n",
    "            .addGrid(gbt.maxIter, [25])\\\n",
    "            .addGrid(gbt.stepSize, [0.01])\\\n",
    "            .build()\n",
    "    \n",
    "gbt_crossval = CrossValidator(estimator=gbt_Pipeline,\n",
    "                             estimatorParamMaps=paramGridGBT,\n",
    "                             evaluator=RegressionEvaluator(labelCol=\"Appliances\"),\n",
    "                             numFolds=2)     "
   ]
  },
  {
   "cell_type": "code",
   "execution_count": 182,
   "metadata": {
    "collapsed": true
   },
   "outputs": [],
   "source": [
    "gbt_crossval_Model = gbt_crossval.fit(trainingData)"
   ]
  },
  {
   "cell_type": "code",
   "execution_count": 183,
   "metadata": {},
   "outputs": [
    {
     "name": "stdout",
     "output_type": "stream",
     "text": [
      "('RMSE value on Train data is', 25.902769080243118)\n",
      "('RMSE value on Test data is', 90.84488101626918)\n"
     ]
    }
   ],
   "source": [
    "train_predictions_gbtcv = gbt_crossval_Model.transform(trainingData)\n",
    "val_predictions_gbtcv = gbt_crossval_Model.transform(valData)\n",
    "\n",
    "gbtTrain_rmsecv = evaluator.evaluate(train_predictions_gbtcv)\n",
    "print('RMSE value on Train data is', gbtTrain_rmsecv)\n",
    "\n",
    "gbtval_rmsecv = evaluator.evaluate(val_predictions_gbtcv)\n",
    "print('RMSE value on Test data is', gbtval_rmsecv)"
   ]
  },
  {
   "cell_type": "markdown",
   "metadata": {},
   "source": [
    "### Summary of various models"
   ]
  },
  {
   "cell_type": "code",
   "execution_count": null,
   "metadata": {
    "collapsed": true
   },
   "outputs": [],
   "source": [
    "------------ Model  ----------------------------- Train RMSE---------------------   Validation RMSE\n",
    "      Linear Regression                             93.95                                 87.55\n",
    "      Decision Tree                                 92.63                                 91.04\n",
    "      Random Forest                                 89.65                                 89.38\n",
    "      Gradient Boost                                74.83                                 83.09\n",
    "      Gradient Boost Grid search                    25.90                                 90.84\n"
   ]
  },
  {
   "cell_type": "markdown",
   "metadata": {},
   "source": [
    "### After using multiple models, we can see that Random forest is giving the best results with very little difference in train and test data rmse\n",
    "\n",
    "- Hence we will use Random forest itself to make the final prediction"
   ]
  },
  {
   "cell_type": "code",
   "execution_count": 184,
   "metadata": {
    "collapsed": true
   },
   "outputs": [],
   "source": [
    "test_predictions_lr = rf_Pipeline_model.transform(testdata1)"
   ]
  },
  {
   "cell_type": "code",
   "execution_count": 185,
   "metadata": {
    "scrolled": true
   },
   "outputs": [
    {
     "name": "stdout",
     "output_type": "stream",
     "text": [
      "+------+-----+-----------+----+-----+-----+----+-----+-----------+-----------+-----+-----------+-----------+-----------+-----+----+-----+----+----+----+-----+------+----------+----------+---------+-----+----------+-----------+--------------------+--------------------+----------------+-----------------+--------------+---------------+-------------------+--------------------+------------------+\n",
      "|lights|   T1|       RH_1|  T2| RH_2|   T3|RH_3|   T4|       RH_4|         T5| RH_5|         T6|       RH_6|         T7| RH_7|  T8| RH_8|  T9|RH_9|  To|mm_hg|RH_out|Wind_speed|Visibility|Tdewpoint|  nsm|Weekstatus|Day_of_week|        num_features| scaled_num_features|Weekstatus_index|Day_of_week_index|Weekstatus_vec|Day_of_week_vec|       cat_features|            features|        prediction|\n",
      "+------+-----+-----------+----+-----+-----+----+-----+-----------+-----------+-----+-----------+-----------+-----------+-----+----+-----+----+----+----+-----+------+----------+----------+---------+-----+----------+-----------+--------------------+--------------------+----------------+-----------------+--------------+---------------+-------------------+--------------------+------------------+\n",
      "|    40|19.89|46.06666667|19.2|44.59|19.79|45.0|18.89|45.72333333|17.16666667|55.09|6.433333333|83.42333333|17.13333333|41.29|18.1|48.59|17.0|45.4|6.25|733.8|  92.0|       6.0|      51.5|      5.0|63000|   Weekday|     Monday|[40.0,19.89,46.06...|[0.8,0.3273495248...|             0.0|              4.0| (1,[0],[1.0])|  (6,[4],[1.0])|(7,[0,5],[1.0,1.0])|[0.8,0.3273495248...|169.39858410647878|\n",
      "+------+-----+-----------+----+-----+-----+----+-----+-----------+-----------+-----+-----------+-----------+-----------+-----+----+-----+----+----+----+-----+------+----------+----------+---------+-----+----------+-----------+--------------------+--------------------+----------------+-----------------+--------------+---------------+-------------------+--------------------+------------------+\n",
      "\n"
     ]
    }
   ],
   "source": [
    "test_predictions_lr.show()"
   ]
  },
  {
   "cell_type": "markdown",
   "metadata": {},
   "source": [
    "### the model is predicting 169.3985 as the expected usage for the test case"
   ]
  },
  {
   "cell_type": "markdown",
   "metadata": {},
   "source": [
    "### ========================================================================================<br/>"
   ]
  },
  {
   "cell_type": "markdown",
   "metadata": {},
   "source": [
    "# Classification Model"
   ]
  },
  {
   "cell_type": "markdown",
   "metadata": {},
   "source": [
    "#### Dataset variables information : \n",
    "\n",
    "**Target**,  Person experienced Financial Distress in the past 2 years <br/>\n",
    "       * 1 - Experienced Financial Distress  \n",
    "       * 0 - Not experienced any Financial Distress \n",
    "**Utilization**, Total balance on credit cards and personal lines of credit divided by the sum of credit limits <br/>\n",
    "**age**, Age <br/>\n",
    "**FD_ind1**, Number of times borrower has been in Finanacial distress for 30-59 days <br/>\n",
    "**Debt_Ratio**, Monthly debt payments <br/> \n",
    "**Monthly_Income**, Monthly income<br/>\n",
    "**FD_ind2**, Number of Open loans <br/>\n",
    "**FD_ind3**, Number of times borrower has been 90 days or more past due on repaying <br/>\n",
    "**FD_ind4**, Number of mortgage and real estate loans including home equity line of credit <br/>\n",
    "**FD_ind5**, Number of times borrower has been 60-89 days past due but no worse in the last 2 years. <br/>\n",
    "**NumberOfDependents**, Number of dependents in family excluding themselves <br/>"
   ]
  },
  {
   "cell_type": "markdown",
   "metadata": {},
   "source": [
    "#### Moving the dataset to HDFS "
   ]
  },
  {
   "cell_type": "code",
   "execution_count": 158,
   "metadata": {
    "collapsed": true
   },
   "outputs": [],
   "source": [
    "! hdfs dfs -cp /user/jayantm/Batch48/PHD /user/2334B48/Phd/problem2"
   ]
  },
  {
   "cell_type": "markdown",
   "metadata": {},
   "source": [
    "- Given that the Null values  are included as NAs, we have to update the format while reading"
   ]
  },
  {
   "cell_type": "code",
   "execution_count": 5,
   "metadata": {
    "collapsed": true
   },
   "outputs": [],
   "source": [
    "trainSchema = StructType([\n",
    "    StructField(\"Target\", IntegerType(), True),\n",
    "    StructField(\"Utilization\", DoubleType(), True),\n",
    "    StructField(\"age\", IntegerType(), True),\n",
    "    StructField(\"FD_ind1\", IntegerType(), True),\n",
    "    StructField(\"Debt_Ratio\", DoubleType(), True),\n",
    "    StructField(\"Monthly_Income\", DoubleType(), True),\n",
    "    StructField(\"FD_ind2\", IntegerType(), True),\n",
    "    StructField(\"FD_ind3\", IntegerType(), True),\n",
    "    StructField(\"FD_ind4\", IntegerType(), True),\n",
    "    StructField(\"FD_ind5\", IntegerType(), True),\n",
    "    StructField(\"NumberOfDependents\", IntegerType(), True)])\n",
    "\n",
    "traindata2 = spark.read.format(\"csv\")\\\n",
    "       .option(\"header\", \"false\")\\\n",
    "       .option(\"inferSchema\", \"true\")\\\n",
    "        .option(\"nullvalue\", 'NA')\\\n",
    "       .load(\"hdfs:///user/2334B48/Phd/problem2/financialDistress.csv\", schema = trainSchema)"
   ]
  },
  {
   "cell_type": "code",
   "execution_count": 6,
   "metadata": {},
   "outputs": [
    {
     "name": "stdout",
     "output_type": "stream",
     "text": [
      "No. of Columns = 11\n",
      "No. of Records = 150000\n"
     ]
    }
   ],
   "source": [
    "print(\"No. of Columns = {}\".format(len(traindata2.columns)))\n",
    "\n",
    "print('No. of Records = {}'.format(traindata2.count()))"
   ]
  },
  {
   "cell_type": "code",
   "execution_count": 7,
   "metadata": {
    "scrolled": true
   },
   "outputs": [
    {
     "name": "stdout",
     "output_type": "stream",
     "text": [
      "+------+-----------+---+-------+----------+--------------+-------+-------+-------+-------+------------------+\n",
      "|Target|Utilization|age|FD_ind1|Debt_Ratio|Monthly_Income|FD_ind2|FD_ind3|FD_ind4|FD_ind5|NumberOfDependents|\n",
      "+------+-----------+---+-------+----------+--------------+-------+-------+-------+-------+------------------+\n",
      "|     0|          0|  0|      0|         0|         29731|      0|      0|      0|      0|              3924|\n",
      "+------+-----------+---+-------+----------+--------------+-------+-------+-------+-------+------------------+\n",
      "\n"
     ]
    }
   ],
   "source": [
    "traindata2.select([count(when(isnan(c) | col(c).isNull(), c)).alias(c) for c in traindata2.columns]).show()"
   ]
  },
  {
   "cell_type": "markdown",
   "metadata": {},
   "source": [
    "- We see that the null values are in only 2 columns a) Monthly_Income b) NumberOfDependents\n",
    "- Based on the rules given above, we have to replace missing Monthly_Income values with its mean and NumberOfDependents with 0\n",
    "- We will use an user defined function to impute Monthly_Income"
   ]
  },
  {
   "cell_type": "code",
   "execution_count": 8,
   "metadata": {},
   "outputs": [
    {
     "name": "stdout",
     "output_type": "stream",
     "text": [
      "+------------------+\n",
      "|    Monthly_Income|\n",
      "+------------------+\n",
      "|            120269|\n",
      "| 6670.221237392844|\n",
      "|14384.674215282083|\n",
      "|               0.0|\n",
      "|         3008750.0|\n",
      "+------------------+\n",
      "\n"
     ]
    }
   ],
   "source": [
    "traindata2.describe().select('Monthly_Income').show()"
   ]
  },
  {
   "cell_type": "code",
   "execution_count": 9,
   "metadata": {
    "collapsed": true
   },
   "outputs": [],
   "source": [
    "fill_cols_vals = {\n",
    "\"NumberOfDependents\" : 0\n",
    "}\n",
    "traindata2 = traindata2.na.fill(fill_cols_vals)"
   ]
  },
  {
   "cell_type": "markdown",
   "metadata": {},
   "source": [
    "- User Defined function for imputing with average"
   ]
  },
  {
   "cell_type": "code",
   "execution_count": 10,
   "metadata": {
    "collapsed": true
   },
   "outputs": [],
   "source": [
    "def fill_with_mean(df, exclude=set()): \n",
    "    stats = df.agg(*(\n",
    "        avg(c).alias(c) for c in df.columns if c not in exclude\n",
    "    ))\n",
    "    return df.na.fill(stats.first().asDict())\n",
    "\n",
    "traindata3 = fill_with_mean(traindata2, [\"Target\", \"Utilization\", \"age\", \"FD_ind1\", \"Debt_Ratio\", \"FD_ind2\", \"FD_ind3\", \"FD_ind4\", \"FD_ind5\", \"NumberOfDependents\"])"
   ]
  },
  {
   "cell_type": "markdown",
   "metadata": {},
   "source": [
    "### Check for null values post imputation"
   ]
  },
  {
   "cell_type": "code",
   "execution_count": 11,
   "metadata": {
    "scrolled": false
   },
   "outputs": [
    {
     "name": "stdout",
     "output_type": "stream",
     "text": [
      "+------+-----------+---+-------+----------+--------------+-------+-------+-------+-------+------------------+\n",
      "|Target|Utilization|age|FD_ind1|Debt_Ratio|Monthly_Income|FD_ind2|FD_ind3|FD_ind4|FD_ind5|NumberOfDependents|\n",
      "+------+-----------+---+-------+----------+--------------+-------+-------+-------+-------+------------------+\n",
      "|     0|          0|  0|      0|         0|             0|      0|      0|      0|      0|                 0|\n",
      "+------+-----------+---+-------+----------+--------------+-------+-------+-------+-------+------------------+\n",
      "\n"
     ]
    }
   ],
   "source": [
    "traindata3.select([count(when(isnan(c) | col(c).isNull(), c)).alias(c) for c in traindata3.columns]).show()"
   ]
  },
  {
   "cell_type": "markdown",
   "metadata": {},
   "source": [
    "### Lets split the data into train and val by random splitting"
   ]
  },
  {
   "cell_type": "code",
   "execution_count": 12,
   "metadata": {
    "collapsed": true
   },
   "outputs": [],
   "source": [
    "(trainingData1, valData1) = traindata3.randomSplit([0.7, 0.3])"
   ]
  },
  {
   "cell_type": "code",
   "execution_count": 13,
   "metadata": {},
   "outputs": [
    {
     "name": "stdout",
     "output_type": "stream",
     "text": [
      "+-------------------+\n",
      "|             Target|\n",
      "+-------------------+\n",
      "|             105074|\n",
      "|0.06683860898033767|\n",
      "| 0.2497434742465479|\n",
      "|                  0|\n",
      "|                  1|\n",
      "+-------------------+\n",
      "\n"
     ]
    }
   ],
   "source": [
    "trainingData1.describe().select('Target').show()"
   ]
  },
  {
   "cell_type": "markdown",
   "metadata": {},
   "source": [
    "### Model Building  - Classification"
   ]
  },
  {
   "cell_type": "markdown",
   "metadata": {},
   "source": [
    "Apply any Spark machie learning technique of your choice and try to see the accuracy of your models. In this case we are trying to find out the person who will experience a financial distress so consider Target atrribute 1 as your positive case and 0 as negative. Experiment with different machine learning models to maximize your recall, Try atleast two different techniques and give the comparison of recall between them."
   ]
  },
  {
   "cell_type": "markdown",
   "metadata": {},
   "source": [
    "- Given that all the variables are numeric, we dont have to worry about categorical pre-processing"
   ]
  },
  {
   "cell_type": "code",
   "execution_count": 14,
   "metadata": {
    "collapsed": true
   },
   "outputs": [],
   "source": [
    "num_Var_Names = [\"Utilization\", \"age\", \"FD_ind1\", \"Debt_Ratio\", \"FD_ind2\", \"FD_ind3\", \"FD_ind4\", \"FD_ind5\", \"NumberOfDependents\", \"Monthly_Income\"]"
   ]
  },
  {
   "cell_type": "code",
   "execution_count": 15,
   "metadata": {
    "collapsed": true
   },
   "outputs": [],
   "source": [
    "from pyspark.ml.feature import VectorAssembler\n",
    "\n",
    "vector_assembler_NumVars = VectorAssembler(inputCols=num_Var_Names, outputCol=\"num_features_all\")\n",
    "from pyspark.ml.feature import MinMaxScaler\n",
    "min_Max_Scalar_NumVars = MinMaxScaler(inputCol=\"num_features_all\", outputCol = \"scaled_num_features\")\n",
    "assembler     = VectorAssembler(inputCols=[\"scaled_num_features\"], outputCol=\"features\")"
   ]
  },
  {
   "cell_type": "code",
   "execution_count": 25,
   "metadata": {
    "collapsed": true
   },
   "outputs": [],
   "source": [
    "indexer_Label = StringIndexer(inputCol=\"Target\", outputCol=\"label\")"
   ]
  },
  {
   "cell_type": "code",
   "execution_count": 26,
   "metadata": {
    "collapsed": true
   },
   "outputs": [],
   "source": [
    "preprocessiong_Stages = [vector_assembler_NumVars] +\\\n",
    "                        [min_Max_Scalar_NumVars] +\\\n",
    "                        [assembler] +\\\n",
    "                        [indexer_Label]"
   ]
  },
  {
   "cell_type": "markdown",
   "metadata": {},
   "source": [
    "### After building the pipeline, lets build our first model using Logistic regression"
   ]
  },
  {
   "cell_type": "code",
   "execution_count": 61,
   "metadata": {
    "collapsed": true
   },
   "outputs": [],
   "source": [
    "from pyspark.ml.classification import LogisticRegression\n",
    "\n",
    "lr = LogisticRegression(maxIter=10, labelCol=\"Target\", featuresCol=\"features\" )"
   ]
  },
  {
   "cell_type": "code",
   "execution_count": 62,
   "metadata": {
    "collapsed": true
   },
   "outputs": [],
   "source": [
    "from pyspark.ml import Pipeline\n",
    "\n",
    "lr_Pipeline = Pipeline(stages=preprocessiong_Stages+[lr])\n",
    "\n",
    "lr_Pipeline_model = lr_Pipeline.fit(trainingData1)\n",
    "train_predictions_lr = lr_Pipeline_model.transform(trainingData1)\n",
    "val_predictions_lr = lr_Pipeline_model.transform(valData1)"
   ]
  },
  {
   "cell_type": "code",
   "execution_count": 63,
   "metadata": {},
   "outputs": [
    {
     "name": "stdout",
     "output_type": "stream",
     "text": [
      "Train set accuracy  = 0.933285113349\n",
      "Train Error = 0.0667149\n",
      "Test set accuracy = 0.933357076081\n",
      "Test Error = 0.0666429\n"
     ]
    }
   ],
   "source": [
    "from pyspark.ml.evaluation import MulticlassClassificationEvaluator\n",
    "predictionAndLabels_train_lr = train_predictions_lr.select(\"prediction\", \"label\")\n",
    "evaluator = MulticlassClassificationEvaluator(metricName=\"weightedRecall\")\n",
    "train_accuracy_lr = evaluator.evaluate(predictionAndLabels_train_lr)\n",
    "print(\"Train set accuracy  = \" + str(train_accuracy_lr))\n",
    "print(\"Train Error = %g\" % (1.0 - train_accuracy_lr))\n",
    "\n",
    "predictionAndLabels_test_lr = val_predictions_lr.select(\"prediction\", \"label\")\n",
    "test_accuracy_lr = evaluator.evaluate(predictionAndLabels_test_lr)\n",
    "print(\"Test set accuracy = \" + str(test_accuracy_lr))\n",
    "print(\"Test Error = %g\" % (1.0 - test_accuracy_lr))"
   ]
  },
  {
   "cell_type": "code",
   "execution_count": 64,
   "metadata": {},
   "outputs": [
    {
     "name": "stdout",
     "output_type": "stream",
     "text": [
      "Recall:  0.0143813185248\n"
     ]
    }
   ],
   "source": [
    "true_positive = predictionAndLabels_train_lr[(predictionAndLabels_train_lr.label == 1) & (predictionAndLabels_train_lr.prediction == 1.0)].count()\n",
    "true_negative = predictionAndLabels_train_lr[(predictionAndLabels_train_lr.label == 0) & (predictionAndLabels_train_lr.prediction == 0.0)].count()\n",
    "false_positive = predictionAndLabels_train_lr[(predictionAndLabels_train_lr.label == 0) & (predictionAndLabels_train_lr.prediction == 1.0)].count()\n",
    "false_negative = predictionAndLabels_train_lr[(predictionAndLabels_train_lr.label == 1) & (predictionAndLabels_train_lr.prediction == 0.0)].count()\n",
    "recall = true_positive / float(true_positive + false_negative)\n",
    "print \"Recall: \", recall"
   ]
  },
  {
   "cell_type": "code",
   "execution_count": 65,
   "metadata": {},
   "outputs": [
    {
     "name": "stdout",
     "output_type": "stream",
     "text": [
      "Recall:  0.016983016983\n"
     ]
    }
   ],
   "source": [
    "true_positive = predictionAndLabels_test_lr[(predictionAndLabels_test_lr.label == 1) & (predictionAndLabels_test_lr.prediction == 1.0)].count()\n",
    "true_negative = predictionAndLabels_test_lr[(predictionAndLabels_test_lr.label == 0) & (predictionAndLabels_test_lr.prediction == 0.0)].count()\n",
    "false_positive = predictionAndLabels_test_lr[(predictionAndLabels_test_lr.label == 0) & (predictionAndLabels_test_lr.prediction == 1.0)].count()\n",
    "false_negative = predictionAndLabels_test_lr[(predictionAndLabels_test_lr.label == 1) & (predictionAndLabels_test_lr.prediction == 0.0)].count()\n",
    "recall = true_positive / float(true_positive + false_negative)\n",
    "print \"Recall: \", recall"
   ]
  },
  {
   "cell_type": "markdown",
   "metadata": {},
   "source": [
    "### The recall is very low while the accuracy is very high. This indicates class imbalance and the model is predicting 0's mostly\n",
    "\n",
    "- To control this, we will try to tune the LR based on Recall"
   ]
  },
  {
   "cell_type": "code",
   "execution_count": 66,
   "metadata": {
    "collapsed": true
   },
   "outputs": [],
   "source": [
    "from pyspark.ml.tuning import ParamGridBuilder, CrossValidator\n",
    "\n",
    "paramGrid = ParamGridBuilder()\\\n",
    "    .addGrid(lr.regParam, [0.1]) \\\n",
    "    .addGrid(lr.elasticNetParam, [0.5])\\\n",
    "    .build()\n",
    "    \n",
    "lr_crossval = CrossValidator(estimator=lr_Pipeline,\n",
    "                             estimatorParamMaps=paramGrid,\n",
    "                             evaluator=evaluator,\n",
    "                             numFolds=2)   \n",
    "lr_crossval_Model = lr_crossval.fit(trainingData1)\n",
    "train_predictions_lrcv = lr_crossval_Model.transform(trainingData1)\n",
    "val_predictions_lrcv = lr_crossval_Model.transform(valData1)"
   ]
  },
  {
   "cell_type": "code",
   "execution_count": 67,
   "metadata": {},
   "outputs": [
    {
     "name": "stdout",
     "output_type": "stream",
     "text": [
      "Recall:  0.0\n"
     ]
    }
   ],
   "source": [
    "predictionAndLabels_train_lr = train_predictions_lrcv.select(\"prediction\", \"label\")\n",
    "predictionAndLabels_test_lr = val_predictions_lrcv.select(\"prediction\", \"label\")\n",
    "\n",
    "true_positive = predictionAndLabels_train_lr[(predictionAndLabels_train_lr.label == 1) & (predictionAndLabels_train_lr.prediction == 1.0)].count()\n",
    "true_negative = predictionAndLabels_train_lr[(predictionAndLabels_train_lr.label == 0) & (predictionAndLabels_train_lr.prediction == 0.0)].count()\n",
    "false_positive = predictionAndLabels_train_lr[(predictionAndLabels_train_lr.label == 0) & (predictionAndLabels_train_lr.prediction == 1.0)].count()\n",
    "false_negative = predictionAndLabels_train_lr[(predictionAndLabels_train_lr.label == 1) & (predictionAndLabels_train_lr.prediction == 0.0)].count()\n",
    "recall = true_positive / float(true_positive + false_negative)\n",
    "print \"Recall: \", recall"
   ]
  },
  {
   "cell_type": "markdown",
   "metadata": {},
   "source": [
    "- This is giving a recall of 0\n",
    "- Lets try Random Forest classifier"
   ]
  },
  {
   "cell_type": "code",
   "execution_count": 68,
   "metadata": {
    "collapsed": true
   },
   "outputs": [],
   "source": [
    "from pyspark.ml.classification import RandomForestClassifier\n",
    "rf = RandomForestClassifier(labelCol=\"label\", featuresCol=\"features\", numTrees=100)\n",
    "rf_Pipeline = Pipeline(stages=preprocessiong_Stages+[rf]) \n",
    "rf_Pipeline_model = rf_Pipeline.fit(trainingData1)\n",
    "train_predictions_rf = rf_Pipeline_model.transform(trainingData1)\n",
    "val_predictions_rf = rf_Pipeline_model.transform(valData1)"
   ]
  },
  {
   "cell_type": "code",
   "execution_count": 69,
   "metadata": {},
   "outputs": [
    {
     "name": "stdout",
     "output_type": "stream",
     "text": [
      "Train set accuracy  = 0.937282296286\n",
      "Train Error = 0.0627177\n",
      "Test set accuracy = 0.936540088145\n",
      "Test Error = 0.0634599\n"
     ]
    }
   ],
   "source": [
    "from pyspark.ml.evaluation import MulticlassClassificationEvaluator\n",
    "predictionAndLabels_train_rf = train_predictions_rf.select(\"prediction\", \"label\")\n",
    "evaluator = MulticlassClassificationEvaluator(metricName=\"accuracy\")\n",
    "train_accuracy = evaluator.evaluate(predictionAndLabels_train_rf)\n",
    "print(\"Train set accuracy  = \" + str(train_accuracy))\n",
    "print(\"Train Error = %g\" % (1.0 - train_accuracy))\n",
    "\n",
    "predictionAndLabels_test_rf = val_predictions_rf.select(\"prediction\", \"label\")\n",
    "val_accuracy = evaluator.evaluate(predictionAndLabels_test_rf)\n",
    "print(\"Test set accuracy = \" + str(val_accuracy))\n",
    "print(\"Test Error = %g\" % (1.0 - val_accuracy))"
   ]
  },
  {
   "cell_type": "code",
   "execution_count": 71,
   "metadata": {},
   "outputs": [
    {
     "name": "stdout",
     "output_type": "stream",
     "text": [
      "TrainRecall:  0.133845934786\n",
      "ValRecall:  0.132867132867\n"
     ]
    }
   ],
   "source": [
    "true_positive = predictionAndLabels_train_rf[(predictionAndLabels_train_rf.label == 1) & (predictionAndLabels_train_rf.prediction == 1.0)].count()\n",
    "true_negative = predictionAndLabels_train_rf[(predictionAndLabels_train_rf.label == 0) & (predictionAndLabels_train_rf.prediction == 0.0)].count()\n",
    "false_positive = predictionAndLabels_train_rf[(predictionAndLabels_train_rf.label == 0) & (predictionAndLabels_train_rf.prediction == 1.0)].count()\n",
    "false_negative = predictionAndLabels_train_rf[(predictionAndLabels_train_rf.label == 1) & (predictionAndLabels_train_rf.prediction == 0.0)].count()\n",
    "recall = true_positive / float(true_positive + false_negative)\n",
    "print \"TrainRecall: \", recall\n",
    "\n",
    "\n",
    "true_positive = predictionAndLabels_test_rf[(predictionAndLabels_test_rf.label == 1) & (predictionAndLabels_test_rf.prediction == 1.0)].count()\n",
    "true_negative = predictionAndLabels_test_rf[(predictionAndLabels_test_rf.label == 0) & (predictionAndLabels_test_rf.prediction == 0.0)].count()\n",
    "false_positive = predictionAndLabels_test_rf[(predictionAndLabels_test_rf.label == 0) & (predictionAndLabels_test_rf.prediction == 1.0)].count()\n",
    "false_negative = predictionAndLabels_test_rf[(predictionAndLabels_test_rf.label == 1) & (predictionAndLabels_test_rf.prediction == 0.0)].count()\n",
    "recall = true_positive / float(true_positive + false_negative)\n",
    "print \"ValRecall: \", recall"
   ]
  },
  {
   "cell_type": "markdown",
   "metadata": {},
   "source": [
    "- Check using GBT classifier"
   ]
  },
  {
   "cell_type": "code",
   "execution_count": 72,
   "metadata": {
    "collapsed": true
   },
   "outputs": [],
   "source": [
    "from pyspark.ml.classification import GBTClassifier\n",
    "gbt = GBTClassifier(labelCol=\"label\", featuresCol=\"features\", maxIter=10)\n",
    "gbt_Pipeline = Pipeline(stages=preprocessiong_Stages+[gbt]) \n",
    "gbt_Pipeline_model = gbt_Pipeline.fit(trainingData1)\n",
    "train_predictions_gbt = gbt_Pipeline_model.transform(trainingData1)\n",
    "test_predictions_gbt = gbt_Pipeline_model.transform(valData1)"
   ]
  },
  {
   "cell_type": "code",
   "execution_count": 73,
   "metadata": {},
   "outputs": [
    {
     "name": "stdout",
     "output_type": "stream",
     "text": [
      "Train set accuracy  = 0.93857662219\n",
      "Train Error = 0.0614234\n",
      "Test set accuracy = 0.936072652807\n",
      "Test Error = 0.0639273\n"
     ]
    }
   ],
   "source": [
    "from pyspark.ml.evaluation import MulticlassClassificationEvaluator\n",
    "predictionAndLabels_train_gbt = train_predictions_gbt.select(\"prediction\", \"label\")\n",
    "evaluator = MulticlassClassificationEvaluator(metricName=\"accuracy\")\n",
    "train_accuracy = evaluator.evaluate(predictionAndLabels_train_gbt)\n",
    "print(\"Train set accuracy  = \" + str(train_accuracy))\n",
    "print(\"Train Error = %g\" % (1.0 - train_accuracy))\n",
    "\n",
    "predictionAndLabels_test_gbt = test_predictions_gbt.select(\"prediction\", \"label\")\n",
    "test_accuracy = evaluator.evaluate(predictionAndLabels_test_gbt)\n",
    "print(\"Test set accuracy = \" + str(test_accuracy))\n",
    "print(\"Test Error = %g\" % (1.0 - test_accuracy))"
   ]
  },
  {
   "cell_type": "code",
   "execution_count": 76,
   "metadata": {},
   "outputs": [
    {
     "name": "stdout",
     "output_type": "stream",
     "text": [
      "Train Recall:  0.190232094546\n",
      "Val Recall:  0.172161172161\n"
     ]
    }
   ],
   "source": [
    "true_positive = predictionAndLabels_train_gbt[(predictionAndLabels_train_gbt.label == 1) & (predictionAndLabels_train_gbt.prediction == 1.0)].count()\n",
    "true_negative = predictionAndLabels_train_gbt[(predictionAndLabels_train_gbt.label == 0) & (predictionAndLabels_train_gbt.prediction == 0.0)].count()\n",
    "false_positive = predictionAndLabels_train_gbt[(predictionAndLabels_train_gbt.label == 0) & (predictionAndLabels_train_gbt.prediction == 1.0)].count()\n",
    "false_negative = predictionAndLabels_train_gbt[(predictionAndLabels_train_gbt.label == 1) & (predictionAndLabels_train_gbt.prediction == 0.0)].count()\n",
    "recall = true_positive / float(true_positive + false_negative)\n",
    "print \"Train Recall: \", recall\n",
    "\n",
    "true_positive = predictionAndLabels_test_gbt[(predictionAndLabels_test_gbt.label == 1) & (predictionAndLabels_test_gbt.prediction == 1.0)].count()\n",
    "true_negative = predictionAndLabels_test_gbt[(predictionAndLabels_test_gbt.label == 0) & (predictionAndLabels_test_gbt.prediction == 0.0)].count()\n",
    "false_positive = predictionAndLabels_test_gbt[(predictionAndLabels_test_gbt.label == 0) & (predictionAndLabels_test_gbt.prediction == 1.0)].count()\n",
    "false_negative = predictionAndLabels_test_gbt[(predictionAndLabels_test_gbt.label == 1) & (predictionAndLabels_test_gbt.prediction == 0.0)].count()\n",
    "recall = true_positive / float(true_positive + false_negative)\n",
    "print \"Val Recall: \", recall"
   ]
  },
  {
   "cell_type": "markdown",
   "metadata": {},
   "source": [
    "# We see that Val Recall is the highest in GBT at 17"
   ]
  },
  {
   "cell_type": "code",
   "execution_count": 79,
   "metadata": {},
   "outputs": [
    {
     "name": "stdout",
     "output_type": "stream",
     "text": [
      "             No Distress  Distress\n",
      "No Distress        97284       767\n",
      "Distress            5687      1336\n"
     ]
    },
    {
     "data": {
      "text/plain": [
       "<matplotlib.axes._subplots.AxesSubplot at 0x70df9d0>"
      ]
     },
     "execution_count": 79,
     "metadata": {},
     "output_type": "execute_result"
    },
    {
     "data": {
      "image/png": "[encoded data removed]",
      "text/plain": [
       "<matplotlib.figure.Figure at 0x619f810>"
      ]
     },
     "metadata": {},
     "output_type": "display_data"
    }
   ],
   "source": [
    "train_pred_pandas = predictionAndLabels_train_gbt.toPandas()\n",
    "train_actuals = train_pred_pandas.label.tolist()\n",
    "train_predictions = train_pred_pandas.prediction.tolist()\n",
    "\n",
    "\n",
    "test_pred_pandas = predictionAndLabels_test_gbt.toPandas()\n",
    "test_actuals = test_pred_pandas.label.tolist()\n",
    "test_predictions = test_pred_pandas.prediction.tolist()\n",
    "from sklearn import metrics as smetrics\n",
    "cm = smetrics.confusion_matrix(train_actuals, train_predictions)\n",
    "\n",
    "df_cm = pd.DataFrame(cm)\n",
    "df_cm.index = ['No Distress', 'Distress']\n",
    "df_cm.columns = ['No Distress', 'Distress']\n",
    "names=['No Distress', 'Distress']\n",
    "print(df_cm)\n",
    "fig = plt.figure(figsize = (10,7))\n",
    "sns.set(font_scale=1.4)#for label size\n",
    "sns.heatmap(df_cm, annot=True,fmt=\"d\",annot_kws={\"size\": 20})#"
   ]
  },
  {
   "cell_type": "markdown",
   "metadata": {},
   "source": [
    "### Lets use Stratified sampling approach\n",
    "\n",
    "- We will use part of training data set with 1's boosted and few 0's\n",
    "- Then we predict full training and validation data using this model\n",
    "- Theoritically this should ensure higher recall"
   ]
  },
  {
   "cell_type": "code",
   "execution_count": 87,
   "metadata": {},
   "outputs": [
    {
     "name": "stdout",
     "output_type": "stream",
     "text": [
      "('Total records are: ', 18092)\n",
      "+------+-----------+---+-------+-----------+--------------+-------+-------+-------+-------+------------------+\n",
      "|Target|Utilization|age|FD_ind1| Debt_Ratio|Monthly_Income|FD_ind2|FD_ind3|FD_ind4|FD_ind5|NumberOfDependents|\n",
      "+------+-----------+---+-------+-----------+--------------+-------+-------+-------+-------+------------------+\n",
      "|     0|        0.0| 22|      0|        0.0|         780.0|      1|      0|      0|      0|                 0|\n",
      "|     0|        0.0| 22|      0|        0.0|        1520.0|      1|      0|      0|      0|                 1|\n",
      "|     0|        0.0| 22|      0|0.106642291|        1640.0|      3|      0|      0|      0|                 0|\n",
      "|     0|        0.0| 23|      0|        0.0|        6166.0|      1|      0|      0|      0|                 0|\n",
      "+------+-----------+---+-------+-----------+--------------+-------+-------+-------+-------+------------------+\n",
      "only showing top 4 rows\n",
      "\n"
     ]
    }
   ],
   "source": [
    "sample_data = trainingData1.sampleBy(\"Target\", fractions={0: 0.12, 1: 0.9}, seed=12345)\n",
    "print('Total records are: ', sample_data.count())\n",
    "sample_data.show(4)"
   ]
  },
  {
   "cell_type": "code",
   "execution_count": 88,
   "metadata": {
    "collapsed": true
   },
   "outputs": [],
   "source": [
    "from pyspark.ml.classification import GBTClassifier\n",
    "gbt = GBTClassifier(labelCol=\"label\", featuresCol=\"features\", maxIter=10)\n",
    "gbt_Pipeline = Pipeline(stages=preprocessiong_Stages+[gbt]) \n",
    "gbt_Pipeline_model = gbt_Pipeline.fit(sample_data)\n",
    "train_predictions_gbt = gbt_Pipeline_model.transform(trainingData1)\n",
    "test_predictions_gbt = gbt_Pipeline_model.transform(valData1)"
   ]
  },
  {
   "cell_type": "code",
   "execution_count": 89,
   "metadata": {},
   "outputs": [
    {
     "name": "stdout",
     "output_type": "stream",
     "text": [
      "Train set accuracy  = 0.881911795497\n",
      "Train Error = 0.118088\n",
      "Test set accuracy = 0.880937541735\n",
      "Test Error = 0.119062\n"
     ]
    }
   ],
   "source": [
    "from pyspark.ml.evaluation import MulticlassClassificationEvaluator\n",
    "predictionAndLabels_train_gbt = train_predictions_gbt.select(\"prediction\", \"label\")\n",
    "evaluator = MulticlassClassificationEvaluator(metricName=\"accuracy\")\n",
    "train_accuracy = evaluator.evaluate(predictionAndLabels_train_gbt)\n",
    "print(\"Train set accuracy  = \" + str(train_accuracy))\n",
    "print(\"Train Error = %g\" % (1.0 - train_accuracy))\n",
    "\n",
    "predictionAndLabels_test_gbt = test_predictions_gbt.select(\"prediction\", \"label\")\n",
    "test_accuracy = evaluator.evaluate(predictionAndLabels_test_gbt)\n",
    "print(\"Test set accuracy = \" + str(test_accuracy))\n",
    "print(\"Test Error = %g\" % (1.0 - test_accuracy))"
   ]
  },
  {
   "cell_type": "code",
   "execution_count": 90,
   "metadata": {},
   "outputs": [
    {
     "name": "stdout",
     "output_type": "stream",
     "text": [
      "Train Recall:  0.630642175708\n",
      "Val Recall:  0.61371961372\n"
     ]
    }
   ],
   "source": [
    "true_positive = predictionAndLabels_train_gbt[(predictionAndLabels_train_gbt.label == 1) & (predictionAndLabels_train_gbt.prediction == 1.0)].count()\n",
    "true_negative = predictionAndLabels_train_gbt[(predictionAndLabels_train_gbt.label == 0) & (predictionAndLabels_train_gbt.prediction == 0.0)].count()\n",
    "false_positive = predictionAndLabels_train_gbt[(predictionAndLabels_train_gbt.label == 0) & (predictionAndLabels_train_gbt.prediction == 1.0)].count()\n",
    "false_negative = predictionAndLabels_train_gbt[(predictionAndLabels_train_gbt.label == 1) & (predictionAndLabels_train_gbt.prediction == 0.0)].count()\n",
    "recall = true_positive / float(true_positive + false_negative)\n",
    "print \"Train Recall: \", recall\n",
    "\n",
    "true_positive = predictionAndLabels_test_gbt[(predictionAndLabels_test_gbt.label == 1) & (predictionAndLabels_test_gbt.prediction == 1.0)].count()\n",
    "true_negative = predictionAndLabels_test_gbt[(predictionAndLabels_test_gbt.label == 0) & (predictionAndLabels_test_gbt.prediction == 0.0)].count()\n",
    "false_positive = predictionAndLabels_test_gbt[(predictionAndLabels_test_gbt.label == 0) & (predictionAndLabels_test_gbt.prediction == 1.0)].count()\n",
    "false_negative = predictionAndLabels_test_gbt[(predictionAndLabels_test_gbt.label == 1) & (predictionAndLabels_test_gbt.prediction == 0.0)].count()\n",
    "recall = true_positive / float(true_positive + false_negative)\n",
    "print \"Val Recall: \", recall"
   ]
  },
  {
   "cell_type": "markdown",
   "metadata": {},
   "source": [
    "### we can see that this is giving the highest recall when compared to other models and also there is little overfitting as the difference between train and val is low"
   ]
  },
  {
   "cell_type": "code",
   "execution_count": null,
   "metadata": {
    "collapsed": true
   },
   "outputs": [],
   "source": []
  }
 ],
 "metadata": {
  "kernelspec": {
   "display_name": "Python 3",
   "language": "python",
   "name": "python3"
  },
  "language_info": {
   "codemirror_mode": {
    "name": "ipython",
    "version": 3
   },
   "file_extension": ".py",
   "mimetype": "text/x-python",
   "name": "python",
   "nbconvert_exporter": "python",
   "pygments_lexer": "ipython3",
   "version": "3.6.2"
  }
 },
 "nbformat": 4,
 "nbformat_minor": 2
}
